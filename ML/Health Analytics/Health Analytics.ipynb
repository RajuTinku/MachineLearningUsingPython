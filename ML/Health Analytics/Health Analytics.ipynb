{
 "cells": [
  {
   "cell_type": "markdown",
   "metadata": {},
   "source": [
    "# Health Analytics"
   ]
  },
  {
   "cell_type": "markdown",
   "metadata": {},
   "source": [
    "## Table of Contents\n",
    "\n",
    "1. [Problem Statement](#section1)<br>\n",
    "2. [Importing Packages](#section2)<br>\n",
    "3. [Loading Data](#section3)<br>\n",
    "  - 3.1 [Description of the Datasets](#section301)<br>\n",
    "4. [Data Preprocessing](#section4)<br>\n",
    "  - 4.1 [Feature Engineering of Train](#section401)<br>\n",
    "  - 4.2 [Feature Engineering of Test](#section402)<br>\n",
    "  - 4.3 [Feature Engineering of Patient Profile](#section403)<br>\n",
    "  - 4.4 [Feature Engineering of Health Camp](#section404)<br>\n",
    "  - 4.5 [Some More Feature Engineering ](#section405)<br>\n",
    "5. [Data processing before model building](#section5)<br>\n",
    "  - 5.1 [Splitting Train data into train and validation](#section501)<br>\n",
    "  - 5.2 [Extracting Important Features](#section502)<br>\n",
    "6. [Model building and prediction](#section6)<br>\n",
    "    - 6.1 [LGBM Classifier](#section601)\n",
    "    - 6.2 [Final Prediction](#section602)\n"
   ]
  },
  {
   "cell_type": "markdown",
   "metadata": {
    "colab_type": "text",
    "id": "XVvbAcEYuBm9"
   },
   "source": [
    "<a id=section1></a>\n",
    "# 1. Problem Statement"
   ]
  },
  {
   "cell_type": "markdown",
   "metadata": {
    "colab_type": "text",
    "id": "yKqk3jdFuBm-"
   },
   "source": [
    "Congratulations – you have been hired as Chief Data Scientist of MedCamp – a not for profit organization dedicated in making health conditions for working professionals better. MedCamp was started because the founders saw their family suffer due to bad work life balance and neglected health.\n",
    "\n",
    "MedCamp organizes health camps in several cities with low work life balance. They reach out to working people and ask them to register for these health camps. For those who attend, MedCamp provides them facility to undergo health checks or increase awareness by visiting various stalls (depending on the format of camp).\n",
    "\n",
    "MedCamp has conducted 65 such events over a period of 4 years and they see a high drop off between “Registration” and Number of people taking tests at the Camps. In last 4 years, they have stored data of ~110,000 registrations they have done.\n",
    "One of the huge costs in arranging these camps is the amount of inventory you need to carry. If you carry more than required inventory, you incur unnecessarily high costs. On the other hand, if you carry less than required inventory for conducting these medical checks, people end up having bad experience.\n",
    "\n",
    "**The Process:** MedCamp employees / volunteers reach out to people and drive registrations. During the camp, People who **“ShowUp”** either undergo the medical tests or visit stalls depending on the format of health camp.\n",
    "\n",
    "**Other things to note:** Since this is a completely voluntary activity for the working professionals, MedCamp usually has little profile information about these people. For a few camps, there was hardware failure, so some information about date and time of registration is lost. MedCamp runs 3 formats of these camps. The first and second format provides people with an instantaneous health score. The third format provides information about several health issues through various awareness stalls. \n",
    "\n",
    "**Favorable outcome:** For the first 2 formats, a favourable outcome is defined as getting a health_score, while in the third format it is defined as visiting at least a stall. You need to predict the chances (probability) of having a favourable outcome.\n"
   ]
  },
  {
   "cell_type": "markdown",
   "metadata": {
    "colab_type": "text",
    "id": "uSNOiIKWuBm_"
   },
   "source": [
    "<a id=section2></a>\n",
    "# 2. Importing Packages"
   ]
  },
  {
   "cell_type": "code",
   "execution_count": 1,
   "metadata": {
    "colab": {},
    "colab_type": "code",
    "id": "D260ESLXuBnA"
   },
   "outputs": [],
   "source": [
    "import numpy as np                     \n",
    "\n",
    "import pandas as pd\n",
    "\n",
    "# To suppress pandas warnings.\n",
    "pd.set_option('mode.chained_assignment', None)          \n",
    "\n",
    "pd.get_option(\"display.max_rows\",10000)\n",
    "\n",
    "# To display every column of the dataset in head()\n",
    "pd.options.display.max_columns = 100               \n",
    "\n",
    "import warnings\n",
    "warnings.filterwarnings('ignore')     "
   ]
  },
  {
   "cell_type": "code",
   "execution_count": 2,
   "metadata": {
    "colab": {},
    "colab_type": "code",
    "id": "UGuvARRluBnE"
   },
   "outputs": [],
   "source": [
    "import seaborn as sns \n",
    "\n",
    "from matplotlib import pyplot as plt\n",
    "\n",
    "from sklearn.model_selection import train_test_split\n",
    "from sklearn.ensemble import RandomForestClassifier\n",
    "from sklearn.metrics import roc_auc_score\n",
    "from sklearn.preprocessing import *\n",
    "from sklearn.model_selection import *\n",
    "from sklearn.metrics import *\n",
    "\n",
    "import gc\n",
    "\n",
    "from tqdm import tqdm, tqdm_notebook"
   ]
  },
  {
   "cell_type": "markdown",
   "metadata": {
    "colab_type": "text",
    "id": "hlZMR7F_uBnH"
   },
   "source": [
    "<a id=section3></a>\n",
    "\n",
    "# 3. Loading Data"
   ]
  },
  {
   "cell_type": "markdown",
   "metadata": {},
   "source": [
    "**Train.csv** – File containing registration details for all the test camps. This includes Patient_ID, Health_Camp_ID, \n",
    "Registration_Date and a few anonymized variables as on registration date.\n",
    "\n",
    "**First_Health_Camp_Attended.csv** – This file contains details about people who attended health camp of first format. This includes Donation (amount) & Health_Score of the person.\n",
    "\n",
    "**Second_Health_Camp_Attended.csv** - This file contains details about people who attended health camp of second format. This includes Health_Score of the person.\n",
    "\n",
    "**Third_Health_Camp_Attended.csv** - This file contains details about people who attended health camp of third format. This includes Number_of_stall_visited & Last_Stall_Visited_Number.\n",
    "\n",
    "**Patient_Profile.csv** – This file contains Patient profile details like Patient_ID, Online_Follower, Social media details, Income, Education, Age, First_Interaction_Date, City_Type and Employer_Category\n",
    "\n",
    "**Health_Camp_Detail.csv** – File containing Health_Camp_Id, Camp_Start_Date, Camp_End_Date and Category details of each camp.\n",
    "\n",
    "**Test.csv** – File containing registration details for all the test camps. This includes Patient_ID, Health_Camp_ID, Registration_Date and a few anonymized variables as on registration date.\n"
   ]
  },
  {
   "cell_type": "code",
   "execution_count": 3,
   "metadata": {
    "colab": {
     "base_uri": "https://localhost:8080/",
     "height": 514
    },
    "colab_type": "code",
    "executionInfo": {
     "elapsed": 7361,
     "status": "ok",
     "timestamp": 1578828651118,
     "user": {
      "displayName": "Raju MLN",
      "photoUrl": "https://lh3.googleusercontent.com/a-/AAuE7mDdD2F6AP4ITC-wA3nNzvUXQvvOKRA6SGtqecOz2w=s64",
      "userId": "08235794127640337009"
     },
     "user_tz": -330
    },
    "id": "JRDgBaAMuBnI",
    "outputId": "25bb601a-d1d8-487a-caab-a1a5ec9036f1"
   },
   "outputs": [],
   "source": [
    "Train = pd.read_csv('data/Train.csv')\n",
    "\n",
    "First_Health_Camp_Attended = pd.read_csv('data/First_Health_Camp_Attended.csv')\n",
    "Second_Health_Camp_Attended = pd.read_csv('data/Second_Health_Camp_Attended.csv')\n",
    "Third_Health_Camp_Attended = pd.read_csv('data/Third_Health_Camp_Attended.csv')\n",
    "\n",
    "Patient_Profile = pd.read_csv('data/Patient_Profile.csv')\n",
    "Health_Camp_Detail = pd.read_csv('data/Health_Camp_Detail.csv')\n",
    "\n",
    "Test = pd.read_csv('data/Test.csv')\n",
    "\n",
    "#sub = pd.read_csv('Data/sample_submmission.csv')"
   ]
  },
  {
   "cell_type": "markdown",
   "metadata": {
    "colab_type": "text",
    "id": "B-MIdzP3uBnM"
   },
   "source": [
    "<a id=section301></a>\n",
    "## 3.1 Description of the Datasets"
   ]
  },
  {
   "cell_type": "markdown",
   "metadata": {
    "colab_type": "text",
    "id": "_m6FGfKbuBnN"
   },
   "source": [
    "### a. Shape"
   ]
  },
  {
   "cell_type": "code",
   "execution_count": 4,
   "metadata": {
    "colab": {
     "base_uri": "https://localhost:8080/",
     "height": 34
    },
    "colab_type": "code",
    "executionInfo": {
     "elapsed": 7336,
     "status": "ok",
     "timestamp": 1578828651119,
     "user": {
      "displayName": "Raju MLN",
      "photoUrl": "https://lh3.googleusercontent.com/a-/AAuE7mDdD2F6AP4ITC-wA3nNzvUXQvvOKRA6SGtqecOz2w=s64",
      "userId": "08235794127640337009"
     },
     "user_tz": -330
    },
    "id": "hHFSe47vuBnO",
    "outputId": "de74d59d-c230-4b7a-f25f-809d673bde24"
   },
   "outputs": [
    {
     "data": {
      "text/plain": [
       "(75278, 8)"
      ]
     },
     "execution_count": 4,
     "metadata": {},
     "output_type": "execute_result"
    }
   ],
   "source": [
    "#shape of data\n",
    "Train.shape"
   ]
  },
  {
   "cell_type": "code",
   "execution_count": 5,
   "metadata": {},
   "outputs": [
    {
     "data": {
      "text/plain": [
       "((6218, 5), (7819, 3), (6515, 4))"
      ]
     },
     "execution_count": 5,
     "metadata": {},
     "output_type": "execute_result"
    }
   ],
   "source": [
    "First_Health_Camp_Attended.shape, Second_Health_Camp_Attended.shape, Third_Health_Camp_Attended.shape"
   ]
  },
  {
   "cell_type": "code",
   "execution_count": 6,
   "metadata": {},
   "outputs": [
    {
     "data": {
      "text/plain": [
       "((37633, 11), (65, 6))"
      ]
     },
     "execution_count": 6,
     "metadata": {},
     "output_type": "execute_result"
    }
   ],
   "source": [
    "Patient_Profile.shape, Health_Camp_Detail.shape "
   ]
  },
  {
   "cell_type": "code",
   "execution_count": 7,
   "metadata": {},
   "outputs": [
    {
     "data": {
      "text/plain": [
       "(35249, 8)"
      ]
     },
     "execution_count": 7,
     "metadata": {},
     "output_type": "execute_result"
    }
   ],
   "source": [
    "Test.shape"
   ]
  },
  {
   "cell_type": "markdown",
   "metadata": {
    "colab_type": "text",
    "id": "wf_UUQ2vuBnR"
   },
   "source": [
    "### b. Description\n",
    "\n",
    "\n"
   ]
  },
  {
   "cell_type": "markdown",
   "metadata": {},
   "source": [
    "#### 1. Train"
   ]
  },
  {
   "cell_type": "markdown",
   "metadata": {
    "colab": {
     "base_uri": "https://localhost:8080/",
     "height": 286
    },
    "colab_type": "code",
    "executionInfo": {
     "elapsed": 7310,
     "status": "ok",
     "timestamp": 1578828651120,
     "user": {
      "displayName": "Raju MLN",
      "photoUrl": "https://lh3.googleusercontent.com/a-/AAuE7mDdD2F6AP4ITC-wA3nNzvUXQvvOKRA6SGtqecOz2w=s64",
      "userId": "08235794127640337009"
     },
     "user_tz": -330
    },
    "id": "Pix87vQWuBnS",
    "outputId": "9305c844-2870-4440-8cf5-1886f327506f",
    "scrolled": true
   },
   "source": [
    "**Patient_ID:**\tUnique Identifier for each patient. This ID is not sequential in nature and can not be used in modeling\n",
    "\n",
    "**Health_Camp_ID:**\tUnique Identifier for each camp. This ID is not sequential in nature and can not be used in modeling\n",
    "\n",
    "**Registration_Date:**\tDate of Registration of the patient for the health camp\n",
    "\n",
    "**Var1 - Var5:**\tAnonymized variables captured at time of registrations. These are numerical in nature and can only have discrete values\n"
   ]
  },
  {
   "cell_type": "code",
   "execution_count": 8,
   "metadata": {
    "scrolled": true
   },
   "outputs": [
    {
     "data": {
      "text/html": [
       "<div>\n",
       "<style scoped>\n",
       "    .dataframe tbody tr th:only-of-type {\n",
       "        vertical-align: middle;\n",
       "    }\n",
       "\n",
       "    .dataframe tbody tr th {\n",
       "        vertical-align: top;\n",
       "    }\n",
       "\n",
       "    .dataframe thead th {\n",
       "        text-align: right;\n",
       "    }\n",
       "</style>\n",
       "<table border=\"1\" class=\"dataframe\">\n",
       "  <thead>\n",
       "    <tr style=\"text-align: right;\">\n",
       "      <th></th>\n",
       "      <th>Patient_ID</th>\n",
       "      <th>Health_Camp_ID</th>\n",
       "      <th>Registration_Date</th>\n",
       "      <th>Var1</th>\n",
       "      <th>Var2</th>\n",
       "      <th>Var3</th>\n",
       "      <th>Var4</th>\n",
       "      <th>Var5</th>\n",
       "    </tr>\n",
       "  </thead>\n",
       "  <tbody>\n",
       "    <tr>\n",
       "      <th>52771</th>\n",
       "      <td>518965</td>\n",
       "      <td>6546</td>\n",
       "      <td>11-Jan-04</td>\n",
       "      <td>0</td>\n",
       "      <td>0</td>\n",
       "      <td>0</td>\n",
       "      <td>0</td>\n",
       "      <td>0</td>\n",
       "    </tr>\n",
       "    <tr>\n",
       "      <th>34929</th>\n",
       "      <td>495711</td>\n",
       "      <td>6555</td>\n",
       "      <td>25-Jul-05</td>\n",
       "      <td>0</td>\n",
       "      <td>0</td>\n",
       "      <td>0</td>\n",
       "      <td>0</td>\n",
       "      <td>0</td>\n",
       "    </tr>\n",
       "    <tr>\n",
       "      <th>35293</th>\n",
       "      <td>525750</td>\n",
       "      <td>6570</td>\n",
       "      <td>18-Jun-05</td>\n",
       "      <td>0</td>\n",
       "      <td>0</td>\n",
       "      <td>0</td>\n",
       "      <td>0</td>\n",
       "      <td>0</td>\n",
       "    </tr>\n",
       "    <tr>\n",
       "      <th>46650</th>\n",
       "      <td>495320</td>\n",
       "      <td>6532</td>\n",
       "      <td>08-Jul-05</td>\n",
       "      <td>3</td>\n",
       "      <td>0</td>\n",
       "      <td>0</td>\n",
       "      <td>0</td>\n",
       "      <td>1</td>\n",
       "    </tr>\n",
       "    <tr>\n",
       "      <th>29138</th>\n",
       "      <td>513479</td>\n",
       "      <td>6536</td>\n",
       "      <td>17-Feb-05</td>\n",
       "      <td>0</td>\n",
       "      <td>0</td>\n",
       "      <td>0</td>\n",
       "      <td>0</td>\n",
       "      <td>0</td>\n",
       "    </tr>\n",
       "  </tbody>\n",
       "</table>\n",
       "</div>"
      ],
      "text/plain": [
       "       Patient_ID  Health_Camp_ID Registration_Date  Var1  Var2  Var3  Var4  \\\n",
       "52771      518965            6546         11-Jan-04     0     0     0     0   \n",
       "34929      495711            6555         25-Jul-05     0     0     0     0   \n",
       "35293      525750            6570         18-Jun-05     0     0     0     0   \n",
       "46650      495320            6532         08-Jul-05     3     0     0     0   \n",
       "29138      513479            6536         17-Feb-05     0     0     0     0   \n",
       "\n",
       "       Var5  \n",
       "52771     0  \n",
       "34929     0  \n",
       "35293     0  \n",
       "46650     1  \n",
       "29138     0  "
      ]
     },
     "execution_count": 8,
     "metadata": {},
     "output_type": "execute_result"
    }
   ],
   "source": [
    "Train.sample(5)"
   ]
  },
  {
   "cell_type": "code",
   "execution_count": 9,
   "metadata": {
    "scrolled": false
   },
   "outputs": [
    {
     "name": "stdout",
     "output_type": "stream",
     "text": [
      "<class 'pandas.core.frame.DataFrame'>\n",
      "RangeIndex: 75278 entries, 0 to 75277\n",
      "Data columns (total 8 columns):\n",
      " #   Column             Non-Null Count  Dtype \n",
      "---  ------             --------------  ----- \n",
      " 0   Patient_ID         75278 non-null  int64 \n",
      " 1   Health_Camp_ID     75278 non-null  int64 \n",
      " 2   Registration_Date  74944 non-null  object\n",
      " 3   Var1               75278 non-null  int64 \n",
      " 4   Var2               75278 non-null  int64 \n",
      " 5   Var3               75278 non-null  int64 \n",
      " 6   Var4               75278 non-null  int64 \n",
      " 7   Var5               75278 non-null  int64 \n",
      "dtypes: int64(7), object(1)\n",
      "memory usage: 4.6+ MB\n"
     ]
    }
   ],
   "source": [
    "Train.info()"
   ]
  },
  {
   "cell_type": "code",
   "execution_count": 10,
   "metadata": {},
   "outputs": [
    {
     "data": {
      "text/html": [
       "<div>\n",
       "<style scoped>\n",
       "    .dataframe tbody tr th:only-of-type {\n",
       "        vertical-align: middle;\n",
       "    }\n",
       "\n",
       "    .dataframe tbody tr th {\n",
       "        vertical-align: top;\n",
       "    }\n",
       "\n",
       "    .dataframe thead th {\n",
       "        text-align: right;\n",
       "    }\n",
       "</style>\n",
       "<table border=\"1\" class=\"dataframe\">\n",
       "  <thead>\n",
       "    <tr style=\"text-align: right;\">\n",
       "      <th></th>\n",
       "      <th>Var1</th>\n",
       "      <th>Var2</th>\n",
       "      <th>Var3</th>\n",
       "      <th>Var4</th>\n",
       "    </tr>\n",
       "  </thead>\n",
       "  <tbody>\n",
       "    <tr>\n",
       "      <th>count</th>\n",
       "      <td>75278.000000</td>\n",
       "      <td>75278.000000</td>\n",
       "      <td>75278.000000</td>\n",
       "      <td>75278.000000</td>\n",
       "    </tr>\n",
       "    <tr>\n",
       "      <th>mean</th>\n",
       "      <td>0.796156</td>\n",
       "      <td>0.238556</td>\n",
       "      <td>0.000385</td>\n",
       "      <td>0.022424</td>\n",
       "    </tr>\n",
       "    <tr>\n",
       "      <th>std</th>\n",
       "      <td>7.626687</td>\n",
       "      <td>3.769594</td>\n",
       "      <td>0.019624</td>\n",
       "      <td>0.199570</td>\n",
       "    </tr>\n",
       "    <tr>\n",
       "      <th>min</th>\n",
       "      <td>0.000000</td>\n",
       "      <td>0.000000</td>\n",
       "      <td>0.000000</td>\n",
       "      <td>0.000000</td>\n",
       "    </tr>\n",
       "    <tr>\n",
       "      <th>25%</th>\n",
       "      <td>0.000000</td>\n",
       "      <td>0.000000</td>\n",
       "      <td>0.000000</td>\n",
       "      <td>0.000000</td>\n",
       "    </tr>\n",
       "    <tr>\n",
       "      <th>50%</th>\n",
       "      <td>0.000000</td>\n",
       "      <td>0.000000</td>\n",
       "      <td>0.000000</td>\n",
       "      <td>0.000000</td>\n",
       "    </tr>\n",
       "    <tr>\n",
       "      <th>75%</th>\n",
       "      <td>0.000000</td>\n",
       "      <td>0.000000</td>\n",
       "      <td>0.000000</td>\n",
       "      <td>0.000000</td>\n",
       "    </tr>\n",
       "    <tr>\n",
       "      <th>max</th>\n",
       "      <td>288.000000</td>\n",
       "      <td>156.000000</td>\n",
       "      <td>1.000000</td>\n",
       "      <td>4.000000</td>\n",
       "    </tr>\n",
       "  </tbody>\n",
       "</table>\n",
       "</div>"
      ],
      "text/plain": [
       "               Var1          Var2          Var3          Var4\n",
       "count  75278.000000  75278.000000  75278.000000  75278.000000\n",
       "mean       0.796156      0.238556      0.000385      0.022424\n",
       "std        7.626687      3.769594      0.019624      0.199570\n",
       "min        0.000000      0.000000      0.000000      0.000000\n",
       "25%        0.000000      0.000000      0.000000      0.000000\n",
       "50%        0.000000      0.000000      0.000000      0.000000\n",
       "75%        0.000000      0.000000      0.000000      0.000000\n",
       "max      288.000000    156.000000      1.000000      4.000000"
      ]
     },
     "execution_count": 10,
     "metadata": {},
     "output_type": "execute_result"
    }
   ],
   "source": [
    "Train[['Var1', 'Var2', 'Var3', 'Var4']].describe()"
   ]
  },
  {
   "cell_type": "markdown",
   "metadata": {
    "colab_type": "text",
    "id": "SB6EdN8tuBnV"
   },
   "source": [
    "#### 2.  First_Health_Camp_Attended"
   ]
  },
  {
   "cell_type": "markdown",
   "metadata": {},
   "source": [
    "Patient_ID:\tUnique Identifier for each patient. This ID is not sequential in nature and can not be used in modeling\n",
    "\n",
    "Health_Camp_ID:\tUnique Identifier for each camp. This ID is not sequential in nature and can not be used in modeling\n",
    "\n",
    "Donation:\tAmount of donation received at the camp\n",
    "\n",
    "Health_Score:\tHealth Score as detected by the test at the camp\n"
   ]
  },
  {
   "cell_type": "code",
   "execution_count": 11,
   "metadata": {
    "scrolled": true
   },
   "outputs": [
    {
     "data": {
      "text/html": [
       "<div>\n",
       "<style scoped>\n",
       "    .dataframe tbody tr th:only-of-type {\n",
       "        vertical-align: middle;\n",
       "    }\n",
       "\n",
       "    .dataframe tbody tr th {\n",
       "        vertical-align: top;\n",
       "    }\n",
       "\n",
       "    .dataframe thead th {\n",
       "        text-align: right;\n",
       "    }\n",
       "</style>\n",
       "<table border=\"1\" class=\"dataframe\">\n",
       "  <thead>\n",
       "    <tr style=\"text-align: right;\">\n",
       "      <th></th>\n",
       "      <th>Patient_ID</th>\n",
       "      <th>Health_Camp_ID</th>\n",
       "      <th>Donation</th>\n",
       "      <th>Health_Score</th>\n",
       "      <th>Unnamed: 4</th>\n",
       "    </tr>\n",
       "  </thead>\n",
       "  <tbody>\n",
       "    <tr>\n",
       "      <th>5317</th>\n",
       "      <td>503124</td>\n",
       "      <td>6532</td>\n",
       "      <td>20</td>\n",
       "      <td>0.530534</td>\n",
       "      <td>NaN</td>\n",
       "    </tr>\n",
       "    <tr>\n",
       "      <th>3934</th>\n",
       "      <td>527159</td>\n",
       "      <td>6575</td>\n",
       "      <td>50</td>\n",
       "      <td>0.666667</td>\n",
       "      <td>NaN</td>\n",
       "    </tr>\n",
       "    <tr>\n",
       "      <th>353</th>\n",
       "      <td>510493</td>\n",
       "      <td>6538</td>\n",
       "      <td>20</td>\n",
       "      <td>0.091054</td>\n",
       "      <td>NaN</td>\n",
       "    </tr>\n",
       "    <tr>\n",
       "      <th>1740</th>\n",
       "      <td>513551</td>\n",
       "      <td>6540</td>\n",
       "      <td>30</td>\n",
       "      <td>0.714286</td>\n",
       "      <td>NaN</td>\n",
       "    </tr>\n",
       "    <tr>\n",
       "      <th>1755</th>\n",
       "      <td>515405</td>\n",
       "      <td>6540</td>\n",
       "      <td>30</td>\n",
       "      <td>0.357143</td>\n",
       "      <td>NaN</td>\n",
       "    </tr>\n",
       "  </tbody>\n",
       "</table>\n",
       "</div>"
      ],
      "text/plain": [
       "      Patient_ID  Health_Camp_ID  Donation  Health_Score  Unnamed: 4\n",
       "5317      503124            6532        20      0.530534         NaN\n",
       "3934      527159            6575        50      0.666667         NaN\n",
       "353       510493            6538        20      0.091054         NaN\n",
       "1740      513551            6540        30      0.714286         NaN\n",
       "1755      515405            6540        30      0.357143         NaN"
      ]
     },
     "execution_count": 11,
     "metadata": {},
     "output_type": "execute_result"
    }
   ],
   "source": [
    "First_Health_Camp_Attended.sample(5)"
   ]
  },
  {
   "cell_type": "code",
   "execution_count": 12,
   "metadata": {},
   "outputs": [],
   "source": [
    "First_Health_Camp_Attended.drop('Unnamed: 4', inplace=True, axis = 1)"
   ]
  },
  {
   "cell_type": "code",
   "execution_count": 13,
   "metadata": {
    "scrolled": true
   },
   "outputs": [
    {
     "name": "stdout",
     "output_type": "stream",
     "text": [
      "<class 'pandas.core.frame.DataFrame'>\n",
      "RangeIndex: 6218 entries, 0 to 6217\n",
      "Data columns (total 4 columns):\n",
      " #   Column          Non-Null Count  Dtype  \n",
      "---  ------          --------------  -----  \n",
      " 0   Patient_ID      6218 non-null   int64  \n",
      " 1   Health_Camp_ID  6218 non-null   int64  \n",
      " 2   Donation        6218 non-null   int64  \n",
      " 3   Health_Score    6218 non-null   float64\n",
      "dtypes: float64(1), int64(3)\n",
      "memory usage: 194.4 KB\n"
     ]
    }
   ],
   "source": [
    "First_Health_Camp_Attended.info()"
   ]
  },
  {
   "cell_type": "code",
   "execution_count": 14,
   "metadata": {},
   "outputs": [
    {
     "data": {
      "text/html": [
       "<div>\n",
       "<style scoped>\n",
       "    .dataframe tbody tr th:only-of-type {\n",
       "        vertical-align: middle;\n",
       "    }\n",
       "\n",
       "    .dataframe tbody tr th {\n",
       "        vertical-align: top;\n",
       "    }\n",
       "\n",
       "    .dataframe thead th {\n",
       "        text-align: right;\n",
       "    }\n",
       "</style>\n",
       "<table border=\"1\" class=\"dataframe\">\n",
       "  <thead>\n",
       "    <tr style=\"text-align: right;\">\n",
       "      <th></th>\n",
       "      <th>Donation</th>\n",
       "      <th>Health_Score</th>\n",
       "    </tr>\n",
       "  </thead>\n",
       "  <tbody>\n",
       "    <tr>\n",
       "      <th>count</th>\n",
       "      <td>6218.000000</td>\n",
       "      <td>6218.000000</td>\n",
       "    </tr>\n",
       "    <tr>\n",
       "      <th>mean</th>\n",
       "      <td>32.587649</td>\n",
       "      <td>0.517668</td>\n",
       "    </tr>\n",
       "    <tr>\n",
       "      <th>std</th>\n",
       "      <td>24.501676</td>\n",
       "      <td>0.289211</td>\n",
       "    </tr>\n",
       "    <tr>\n",
       "      <th>min</th>\n",
       "      <td>10.000000</td>\n",
       "      <td>0.001667</td>\n",
       "    </tr>\n",
       "    <tr>\n",
       "      <th>25%</th>\n",
       "      <td>20.000000</td>\n",
       "      <td>0.263094</td>\n",
       "    </tr>\n",
       "    <tr>\n",
       "      <th>50%</th>\n",
       "      <td>30.000000</td>\n",
       "      <td>0.529706</td>\n",
       "    </tr>\n",
       "    <tr>\n",
       "      <th>75%</th>\n",
       "      <td>40.000000</td>\n",
       "      <td>0.771429</td>\n",
       "    </tr>\n",
       "    <tr>\n",
       "      <th>max</th>\n",
       "      <td>330.000000</td>\n",
       "      <td>1.000000</td>\n",
       "    </tr>\n",
       "  </tbody>\n",
       "</table>\n",
       "</div>"
      ],
      "text/plain": [
       "          Donation  Health_Score\n",
       "count  6218.000000   6218.000000\n",
       "mean     32.587649      0.517668\n",
       "std      24.501676      0.289211\n",
       "min      10.000000      0.001667\n",
       "25%      20.000000      0.263094\n",
       "50%      30.000000      0.529706\n",
       "75%      40.000000      0.771429\n",
       "max     330.000000      1.000000"
      ]
     },
     "execution_count": 14,
     "metadata": {},
     "output_type": "execute_result"
    }
   ],
   "source": [
    "First_Health_Camp_Attended[['Donation', 'Health_Score']].describe()"
   ]
  },
  {
   "cell_type": "markdown",
   "metadata": {
    "colab_type": "text",
    "id": "SB6EdN8tuBnV"
   },
   "source": [
    "#### 3.  Second_Health_Camp_Attended"
   ]
  },
  {
   "cell_type": "markdown",
   "metadata": {},
   "source": [
    "Patient_ID:\tUnique Identifier for each patient. This ID is not sequential in nature and can not be used in modeling\n",
    "\n",
    "Health_Camp_ID:\tUnique Identifier for each camp. This ID is not sequential in nature and can not be used in modeling\n",
    "\n",
    "Health_Score:\tHealth Score as detected by the test at the camp\n"
   ]
  },
  {
   "cell_type": "code",
   "execution_count": 15,
   "metadata": {
    "scrolled": true
   },
   "outputs": [
    {
     "data": {
      "text/html": [
       "<div>\n",
       "<style scoped>\n",
       "    .dataframe tbody tr th:only-of-type {\n",
       "        vertical-align: middle;\n",
       "    }\n",
       "\n",
       "    .dataframe tbody tr th {\n",
       "        vertical-align: top;\n",
       "    }\n",
       "\n",
       "    .dataframe thead th {\n",
       "        text-align: right;\n",
       "    }\n",
       "</style>\n",
       "<table border=\"1\" class=\"dataframe\">\n",
       "  <thead>\n",
       "    <tr style=\"text-align: right;\">\n",
       "      <th></th>\n",
       "      <th>Patient_ID</th>\n",
       "      <th>Health_Camp_ID</th>\n",
       "      <th>Health Score</th>\n",
       "    </tr>\n",
       "  </thead>\n",
       "  <tbody>\n",
       "    <tr>\n",
       "      <th>1473</th>\n",
       "      <td>496560</td>\n",
       "      <td>6523</td>\n",
       "      <td>0.822283</td>\n",
       "    </tr>\n",
       "    <tr>\n",
       "      <th>2240</th>\n",
       "      <td>494076</td>\n",
       "      <td>6555</td>\n",
       "      <td>0.864748</td>\n",
       "    </tr>\n",
       "    <tr>\n",
       "      <th>4528</th>\n",
       "      <td>506602</td>\n",
       "      <td>6529</td>\n",
       "      <td>0.338359</td>\n",
       "    </tr>\n",
       "    <tr>\n",
       "      <th>6152</th>\n",
       "      <td>520252</td>\n",
       "      <td>6555</td>\n",
       "      <td>0.341007</td>\n",
       "    </tr>\n",
       "    <tr>\n",
       "      <th>3148</th>\n",
       "      <td>490617</td>\n",
       "      <td>6534</td>\n",
       "      <td>0.402054</td>\n",
       "    </tr>\n",
       "  </tbody>\n",
       "</table>\n",
       "</div>"
      ],
      "text/plain": [
       "      Patient_ID  Health_Camp_ID  Health Score\n",
       "1473      496560            6523      0.822283\n",
       "2240      494076            6555      0.864748\n",
       "4528      506602            6529      0.338359\n",
       "6152      520252            6555      0.341007\n",
       "3148      490617            6534      0.402054"
      ]
     },
     "execution_count": 15,
     "metadata": {},
     "output_type": "execute_result"
    }
   ],
   "source": [
    "Second_Health_Camp_Attended.sample(5)"
   ]
  },
  {
   "cell_type": "code",
   "execution_count": 16,
   "metadata": {
    "scrolled": true
   },
   "outputs": [
    {
     "name": "stdout",
     "output_type": "stream",
     "text": [
      "<class 'pandas.core.frame.DataFrame'>\n",
      "RangeIndex: 7819 entries, 0 to 7818\n",
      "Data columns (total 3 columns):\n",
      " #   Column          Non-Null Count  Dtype  \n",
      "---  ------          --------------  -----  \n",
      " 0   Patient_ID      7819 non-null   int64  \n",
      " 1   Health_Camp_ID  7819 non-null   int64  \n",
      " 2   Health Score    7819 non-null   float64\n",
      "dtypes: float64(1), int64(2)\n",
      "memory usage: 183.4 KB\n"
     ]
    }
   ],
   "source": [
    "Second_Health_Camp_Attended.info()"
   ]
  },
  {
   "cell_type": "code",
   "execution_count": 17,
   "metadata": {},
   "outputs": [
    {
     "data": {
      "text/plain": [
       "count    7819.000000\n",
       "mean        0.554178\n",
       "std         0.249378\n",
       "min         0.058993\n",
       "25%         0.389626\n",
       "50%         0.518797\n",
       "75%         0.762724\n",
       "max         1.000000\n",
       "Name: Health Score, dtype: float64"
      ]
     },
     "execution_count": 17,
     "metadata": {},
     "output_type": "execute_result"
    }
   ],
   "source": [
    "Second_Health_Camp_Attended['Health Score'].describe()"
   ]
  },
  {
   "cell_type": "markdown",
   "metadata": {
    "colab_type": "text",
    "id": "SB6EdN8tuBnV"
   },
   "source": [
    "#### 4.  Third_Health_Camp_Attended"
   ]
  },
  {
   "cell_type": "markdown",
   "metadata": {},
   "source": [
    "Patient_ID:\tUnique Identifier for each patient. This ID is not sequential in nature and can not be used in modeling\n",
    "\n",
    "Health_Camp_ID:\tUnique Identifier for each camp. This ID is not sequential in nature and can not be used in modeling\n",
    "\n",
    "Number_of_stall_visited:\tNumber of stalls visited at the camp\n",
    "\n",
    "Last_Stall_Visited_Number:\tStall number of the stall which the patient visited last. For example, if a person visited only 2 stalls say number 1 and number 7. Then, this variable would be 7.\n"
   ]
  },
  {
   "cell_type": "code",
   "execution_count": 18,
   "metadata": {
    "scrolled": true
   },
   "outputs": [
    {
     "data": {
      "text/html": [
       "<div>\n",
       "<style scoped>\n",
       "    .dataframe tbody tr th:only-of-type {\n",
       "        vertical-align: middle;\n",
       "    }\n",
       "\n",
       "    .dataframe tbody tr th {\n",
       "        vertical-align: top;\n",
       "    }\n",
       "\n",
       "    .dataframe thead th {\n",
       "        text-align: right;\n",
       "    }\n",
       "</style>\n",
       "<table border=\"1\" class=\"dataframe\">\n",
       "  <thead>\n",
       "    <tr style=\"text-align: right;\">\n",
       "      <th></th>\n",
       "      <th>Patient_ID</th>\n",
       "      <th>Health_Camp_ID</th>\n",
       "      <th>Number_of_stall_visited</th>\n",
       "      <th>Last_Stall_Visited_Number</th>\n",
       "    </tr>\n",
       "  </thead>\n",
       "  <tbody>\n",
       "    <tr>\n",
       "      <th>5855</th>\n",
       "      <td>488639</td>\n",
       "      <td>6528</td>\n",
       "      <td>2</td>\n",
       "      <td>6</td>\n",
       "    </tr>\n",
       "    <tr>\n",
       "      <th>3954</th>\n",
       "      <td>526575</td>\n",
       "      <td>6528</td>\n",
       "      <td>2</td>\n",
       "      <td>2</td>\n",
       "    </tr>\n",
       "    <tr>\n",
       "      <th>110</th>\n",
       "      <td>492396</td>\n",
       "      <td>6541</td>\n",
       "      <td>2</td>\n",
       "      <td>1</td>\n",
       "    </tr>\n",
       "    <tr>\n",
       "      <th>4948</th>\n",
       "      <td>500324</td>\n",
       "      <td>6578</td>\n",
       "      <td>1</td>\n",
       "      <td>3</td>\n",
       "    </tr>\n",
       "    <tr>\n",
       "      <th>5370</th>\n",
       "      <td>501636</td>\n",
       "      <td>6527</td>\n",
       "      <td>2</td>\n",
       "      <td>2</td>\n",
       "    </tr>\n",
       "  </tbody>\n",
       "</table>\n",
       "</div>"
      ],
      "text/plain": [
       "      Patient_ID  Health_Camp_ID  Number_of_stall_visited  \\\n",
       "5855      488639            6528                        2   \n",
       "3954      526575            6528                        2   \n",
       "110       492396            6541                        2   \n",
       "4948      500324            6578                        1   \n",
       "5370      501636            6527                        2   \n",
       "\n",
       "      Last_Stall_Visited_Number  \n",
       "5855                          6  \n",
       "3954                          2  \n",
       "110                           1  \n",
       "4948                          3  \n",
       "5370                          2  "
      ]
     },
     "execution_count": 18,
     "metadata": {},
     "output_type": "execute_result"
    }
   ],
   "source": [
    "Third_Health_Camp_Attended.sample(5)"
   ]
  },
  {
   "cell_type": "code",
   "execution_count": 19,
   "metadata": {
    "scrolled": true
   },
   "outputs": [
    {
     "name": "stdout",
     "output_type": "stream",
     "text": [
      "<class 'pandas.core.frame.DataFrame'>\n",
      "RangeIndex: 6515 entries, 0 to 6514\n",
      "Data columns (total 4 columns):\n",
      " #   Column                     Non-Null Count  Dtype\n",
      "---  ------                     --------------  -----\n",
      " 0   Patient_ID                 6515 non-null   int64\n",
      " 1   Health_Camp_ID             6515 non-null   int64\n",
      " 2   Number_of_stall_visited    6515 non-null   int64\n",
      " 3   Last_Stall_Visited_Number  6515 non-null   int64\n",
      "dtypes: int64(4)\n",
      "memory usage: 203.7 KB\n"
     ]
    }
   ],
   "source": [
    "Third_Health_Camp_Attended.info()"
   ]
  },
  {
   "cell_type": "code",
   "execution_count": 20,
   "metadata": {},
   "outputs": [
    {
     "data": {
      "text/html": [
       "<div>\n",
       "<style scoped>\n",
       "    .dataframe tbody tr th:only-of-type {\n",
       "        vertical-align: middle;\n",
       "    }\n",
       "\n",
       "    .dataframe tbody tr th {\n",
       "        vertical-align: top;\n",
       "    }\n",
       "\n",
       "    .dataframe thead th {\n",
       "        text-align: right;\n",
       "    }\n",
       "</style>\n",
       "<table border=\"1\" class=\"dataframe\">\n",
       "  <thead>\n",
       "    <tr style=\"text-align: right;\">\n",
       "      <th></th>\n",
       "      <th>Number_of_stall_visited</th>\n",
       "      <th>Last_Stall_Visited_Number</th>\n",
       "    </tr>\n",
       "  </thead>\n",
       "  <tbody>\n",
       "    <tr>\n",
       "      <th>count</th>\n",
       "      <td>6515.000000</td>\n",
       "      <td>6515.000000</td>\n",
       "    </tr>\n",
       "    <tr>\n",
       "      <th>mean</th>\n",
       "      <td>2.923254</td>\n",
       "      <td>2.404144</td>\n",
       "    </tr>\n",
       "    <tr>\n",
       "      <th>std</th>\n",
       "      <td>1.688500</td>\n",
       "      <td>1.469623</td>\n",
       "    </tr>\n",
       "    <tr>\n",
       "      <th>min</th>\n",
       "      <td>0.000000</td>\n",
       "      <td>0.000000</td>\n",
       "    </tr>\n",
       "    <tr>\n",
       "      <th>25%</th>\n",
       "      <td>1.000000</td>\n",
       "      <td>1.000000</td>\n",
       "    </tr>\n",
       "    <tr>\n",
       "      <th>50%</th>\n",
       "      <td>3.000000</td>\n",
       "      <td>2.000000</td>\n",
       "    </tr>\n",
       "    <tr>\n",
       "      <th>75%</th>\n",
       "      <td>4.000000</td>\n",
       "      <td>3.000000</td>\n",
       "    </tr>\n",
       "    <tr>\n",
       "      <th>max</th>\n",
       "      <td>7.000000</td>\n",
       "      <td>7.000000</td>\n",
       "    </tr>\n",
       "  </tbody>\n",
       "</table>\n",
       "</div>"
      ],
      "text/plain": [
       "       Number_of_stall_visited  Last_Stall_Visited_Number\n",
       "count              6515.000000                6515.000000\n",
       "mean                  2.923254                   2.404144\n",
       "std                   1.688500                   1.469623\n",
       "min                   0.000000                   0.000000\n",
       "25%                   1.000000                   1.000000\n",
       "50%                   3.000000                   2.000000\n",
       "75%                   4.000000                   3.000000\n",
       "max                   7.000000                   7.000000"
      ]
     },
     "execution_count": 20,
     "metadata": {},
     "output_type": "execute_result"
    }
   ],
   "source": [
    "Third_Health_Camp_Attended[['Number_of_stall_visited', 'Last_Stall_Visited_Number']].describe()"
   ]
  },
  {
   "cell_type": "markdown",
   "metadata": {},
   "source": [
    "#### 5. Patient_Profile"
   ]
  },
  {
   "attachments": {},
   "cell_type": "markdown",
   "metadata": {},
   "source": [
    "Patient_ID:\tUnique Identifier for each patient. This ID is not sequential in nature and can not be used in modeling\n",
    "\n",
    "Online_Follower:\tWhether a patient follows MedCamp online or not\n",
    "\n",
    "Linkedin_Shared:\tWhether the patient has shared details of a camp on his LinkedIn id\n",
    "\n",
    "Twitter_Shared:\tWhether the patient has tweeted about the health camp\n",
    "\n",
    "Facebook_Shared:\tWhether the patient has shared an update about the health camp\n",
    "\n",
    "Income:\tIncome of the patient\n",
    "\n",
    "Education_Score:\tScore about education of the patient. Higher would mean better\n",
    "\n",
    "Age:\tAge of the patient (as captured at time of registration)\n",
    "\n",
    "First_Interaction:\tDate of first interaction\n",
    "\n",
    "City_Type:\tCategory of the city\n",
    "\n",
    "Employer_Category:\tCategory of the employer"
   ]
  },
  {
   "cell_type": "code",
   "execution_count": 21,
   "metadata": {
    "scrolled": false
   },
   "outputs": [
    {
     "data": {
      "text/html": [
       "<div>\n",
       "<style scoped>\n",
       "    .dataframe tbody tr th:only-of-type {\n",
       "        vertical-align: middle;\n",
       "    }\n",
       "\n",
       "    .dataframe tbody tr th {\n",
       "        vertical-align: top;\n",
       "    }\n",
       "\n",
       "    .dataframe thead th {\n",
       "        text-align: right;\n",
       "    }\n",
       "</style>\n",
       "<table border=\"1\" class=\"dataframe\">\n",
       "  <thead>\n",
       "    <tr style=\"text-align: right;\">\n",
       "      <th></th>\n",
       "      <th>Patient_ID</th>\n",
       "      <th>Online_Follower</th>\n",
       "      <th>LinkedIn_Shared</th>\n",
       "      <th>Twitter_Shared</th>\n",
       "      <th>Facebook_Shared</th>\n",
       "      <th>Income</th>\n",
       "      <th>Education_Score</th>\n",
       "      <th>Age</th>\n",
       "      <th>First_Interaction</th>\n",
       "      <th>City_Type</th>\n",
       "      <th>Employer_Category</th>\n",
       "    </tr>\n",
       "  </thead>\n",
       "  <tbody>\n",
       "    <tr>\n",
       "      <th>3176</th>\n",
       "      <td>506533</td>\n",
       "      <td>0</td>\n",
       "      <td>0</td>\n",
       "      <td>0</td>\n",
       "      <td>0</td>\n",
       "      <td>None</td>\n",
       "      <td>None</td>\n",
       "      <td>None</td>\n",
       "      <td>03-Feb-04</td>\n",
       "      <td>NaN</td>\n",
       "      <td>NaN</td>\n",
       "    </tr>\n",
       "    <tr>\n",
       "      <th>29603</th>\n",
       "      <td>518443</td>\n",
       "      <td>0</td>\n",
       "      <td>0</td>\n",
       "      <td>0</td>\n",
       "      <td>0</td>\n",
       "      <td>0</td>\n",
       "      <td>69</td>\n",
       "      <td>41</td>\n",
       "      <td>19-Jan-05</td>\n",
       "      <td>I</td>\n",
       "      <td>Broadcasting</td>\n",
       "    </tr>\n",
       "    <tr>\n",
       "      <th>28477</th>\n",
       "      <td>501717</td>\n",
       "      <td>0</td>\n",
       "      <td>0</td>\n",
       "      <td>0</td>\n",
       "      <td>0</td>\n",
       "      <td>0</td>\n",
       "      <td>None</td>\n",
       "      <td>75</td>\n",
       "      <td>01-Nov-04</td>\n",
       "      <td>NaN</td>\n",
       "      <td>NaN</td>\n",
       "    </tr>\n",
       "    <tr>\n",
       "      <th>36965</th>\n",
       "      <td>515804</td>\n",
       "      <td>0</td>\n",
       "      <td>0</td>\n",
       "      <td>0</td>\n",
       "      <td>0</td>\n",
       "      <td>0</td>\n",
       "      <td>None</td>\n",
       "      <td>73</td>\n",
       "      <td>30-Oct-06</td>\n",
       "      <td>NaN</td>\n",
       "      <td>NaN</td>\n",
       "    </tr>\n",
       "    <tr>\n",
       "      <th>20121</th>\n",
       "      <td>497496</td>\n",
       "      <td>0</td>\n",
       "      <td>0</td>\n",
       "      <td>0</td>\n",
       "      <td>0</td>\n",
       "      <td>None</td>\n",
       "      <td>None</td>\n",
       "      <td>None</td>\n",
       "      <td>06-Jul-06</td>\n",
       "      <td>B</td>\n",
       "      <td>NaN</td>\n",
       "    </tr>\n",
       "  </tbody>\n",
       "</table>\n",
       "</div>"
      ],
      "text/plain": [
       "       Patient_ID  Online_Follower  LinkedIn_Shared  Twitter_Shared  \\\n",
       "3176       506533                0                0               0   \n",
       "29603      518443                0                0               0   \n",
       "28477      501717                0                0               0   \n",
       "36965      515804                0                0               0   \n",
       "20121      497496                0                0               0   \n",
       "\n",
       "       Facebook_Shared Income Education_Score   Age First_Interaction  \\\n",
       "3176                 0   None            None  None         03-Feb-04   \n",
       "29603                0      0              69    41         19-Jan-05   \n",
       "28477                0      0            None    75         01-Nov-04   \n",
       "36965                0      0            None    73         30-Oct-06   \n",
       "20121                0   None            None  None         06-Jul-06   \n",
       "\n",
       "      City_Type Employer_Category  \n",
       "3176        NaN               NaN  \n",
       "29603         I      Broadcasting  \n",
       "28477       NaN               NaN  \n",
       "36965       NaN               NaN  \n",
       "20121         B               NaN  "
      ]
     },
     "execution_count": 21,
     "metadata": {},
     "output_type": "execute_result"
    }
   ],
   "source": [
    "Patient_Profile.sample(5)"
   ]
  },
  {
   "cell_type": "code",
   "execution_count": 22,
   "metadata": {
    "scrolled": true
   },
   "outputs": [
    {
     "name": "stdout",
     "output_type": "stream",
     "text": [
      "<class 'pandas.core.frame.DataFrame'>\n",
      "RangeIndex: 37633 entries, 0 to 37632\n",
      "Data columns (total 11 columns):\n",
      " #   Column             Non-Null Count  Dtype \n",
      "---  ------             --------------  ----- \n",
      " 0   Patient_ID         37633 non-null  int64 \n",
      " 1   Online_Follower    37633 non-null  int64 \n",
      " 2   LinkedIn_Shared    37633 non-null  int64 \n",
      " 3   Twitter_Shared     37633 non-null  int64 \n",
      " 4   Facebook_Shared    37633 non-null  int64 \n",
      " 5   Income             37633 non-null  object\n",
      " 6   Education_Score    37633 non-null  object\n",
      " 7   Age                37633 non-null  object\n",
      " 8   First_Interaction  37633 non-null  object\n",
      " 9   City_Type          14249 non-null  object\n",
      " 10  Employer_Category  2840 non-null   object\n",
      "dtypes: int64(5), object(6)\n",
      "memory usage: 3.2+ MB\n"
     ]
    }
   ],
   "source": [
    "Patient_Profile.info()"
   ]
  },
  {
   "cell_type": "code",
   "execution_count": 23,
   "metadata": {},
   "outputs": [
    {
     "data": {
      "text/html": [
       "<div>\n",
       "<style scoped>\n",
       "    .dataframe tbody tr th:only-of-type {\n",
       "        vertical-align: middle;\n",
       "    }\n",
       "\n",
       "    .dataframe tbody tr th {\n",
       "        vertical-align: top;\n",
       "    }\n",
       "\n",
       "    .dataframe thead th {\n",
       "        text-align: right;\n",
       "    }\n",
       "</style>\n",
       "<table border=\"1\" class=\"dataframe\">\n",
       "  <thead>\n",
       "    <tr style=\"text-align: right;\">\n",
       "      <th></th>\n",
       "      <th>Patient_ID</th>\n",
       "      <th>Online_Follower</th>\n",
       "      <th>LinkedIn_Shared</th>\n",
       "      <th>Twitter_Shared</th>\n",
       "      <th>Facebook_Shared</th>\n",
       "    </tr>\n",
       "  </thead>\n",
       "  <tbody>\n",
       "    <tr>\n",
       "      <th>count</th>\n",
       "      <td>37633.000000</td>\n",
       "      <td>37633.000000</td>\n",
       "      <td>37633.000000</td>\n",
       "      <td>37633.000000</td>\n",
       "      <td>37633.000000</td>\n",
       "    </tr>\n",
       "    <tr>\n",
       "      <th>mean</th>\n",
       "      <td>507148.408338</td>\n",
       "      <td>0.022533</td>\n",
       "      <td>0.027077</td>\n",
       "      <td>0.021603</td>\n",
       "      <td>0.023543</td>\n",
       "    </tr>\n",
       "    <tr>\n",
       "      <th>std</th>\n",
       "      <td>12411.747993</td>\n",
       "      <td>0.148412</td>\n",
       "      <td>0.162311</td>\n",
       "      <td>0.145387</td>\n",
       "      <td>0.151623</td>\n",
       "    </tr>\n",
       "    <tr>\n",
       "      <th>min</th>\n",
       "      <td>485678.000000</td>\n",
       "      <td>0.000000</td>\n",
       "      <td>0.000000</td>\n",
       "      <td>0.000000</td>\n",
       "      <td>0.000000</td>\n",
       "    </tr>\n",
       "    <tr>\n",
       "      <th>25%</th>\n",
       "      <td>496393.000000</td>\n",
       "      <td>0.000000</td>\n",
       "      <td>0.000000</td>\n",
       "      <td>0.000000</td>\n",
       "      <td>0.000000</td>\n",
       "    </tr>\n",
       "    <tr>\n",
       "      <th>50%</th>\n",
       "      <td>507104.000000</td>\n",
       "      <td>0.000000</td>\n",
       "      <td>0.000000</td>\n",
       "      <td>0.000000</td>\n",
       "      <td>0.000000</td>\n",
       "    </tr>\n",
       "    <tr>\n",
       "      <th>75%</th>\n",
       "      <td>517882.000000</td>\n",
       "      <td>0.000000</td>\n",
       "      <td>0.000000</td>\n",
       "      <td>0.000000</td>\n",
       "      <td>0.000000</td>\n",
       "    </tr>\n",
       "    <tr>\n",
       "      <th>max</th>\n",
       "      <td>528657.000000</td>\n",
       "      <td>1.000000</td>\n",
       "      <td>1.000000</td>\n",
       "      <td>1.000000</td>\n",
       "      <td>1.000000</td>\n",
       "    </tr>\n",
       "  </tbody>\n",
       "</table>\n",
       "</div>"
      ],
      "text/plain": [
       "          Patient_ID  Online_Follower  LinkedIn_Shared  Twitter_Shared  \\\n",
       "count   37633.000000     37633.000000     37633.000000    37633.000000   \n",
       "mean   507148.408338         0.022533         0.027077        0.021603   \n",
       "std     12411.747993         0.148412         0.162311        0.145387   \n",
       "min    485678.000000         0.000000         0.000000        0.000000   \n",
       "25%    496393.000000         0.000000         0.000000        0.000000   \n",
       "50%    507104.000000         0.000000         0.000000        0.000000   \n",
       "75%    517882.000000         0.000000         0.000000        0.000000   \n",
       "max    528657.000000         1.000000         1.000000        1.000000   \n",
       "\n",
       "       Facebook_Shared  \n",
       "count     37633.000000  \n",
       "mean          0.023543  \n",
       "std           0.151623  \n",
       "min           0.000000  \n",
       "25%           0.000000  \n",
       "50%           0.000000  \n",
       "75%           0.000000  \n",
       "max           1.000000  "
      ]
     },
     "execution_count": 23,
     "metadata": {},
     "output_type": "execute_result"
    }
   ],
   "source": [
    "Patient_Profile.describe()"
   ]
  },
  {
   "cell_type": "markdown",
   "metadata": {},
   "source": [
    "#### 6. Health_Camp_Detail"
   ]
  },
  {
   "attachments": {},
   "cell_type": "markdown",
   "metadata": {},
   "source": [
    "Health_Camp_ID:\tUnique Identifier for each camp. This ID is not sequential in nature and can not be used in modeling\n",
    "\n",
    "Camp_Start_Date:\tStart Date of the Health Camp\n",
    "\n",
    "Camp_End_Date:\tEnd Date of the Health Camp\n",
    "\n",
    "Category1:\tCategory segmentation of the Health Camp - 1\n",
    "\n",
    "Category2:\tCategory segmentation of the Health Camp - 2\n",
    "\n",
    "Category3:\tCategory segmentation of the Health Camp - 3"
   ]
  },
  {
   "cell_type": "code",
   "execution_count": 24,
   "metadata": {
    "scrolled": true
   },
   "outputs": [
    {
     "data": {
      "text/html": [
       "<div>\n",
       "<style scoped>\n",
       "    .dataframe tbody tr th:only-of-type {\n",
       "        vertical-align: middle;\n",
       "    }\n",
       "\n",
       "    .dataframe tbody tr th {\n",
       "        vertical-align: top;\n",
       "    }\n",
       "\n",
       "    .dataframe thead th {\n",
       "        text-align: right;\n",
       "    }\n",
       "</style>\n",
       "<table border=\"1\" class=\"dataframe\">\n",
       "  <thead>\n",
       "    <tr style=\"text-align: right;\">\n",
       "      <th></th>\n",
       "      <th>Health_Camp_ID</th>\n",
       "      <th>Camp_Start_Date</th>\n",
       "      <th>Camp_End_Date</th>\n",
       "      <th>Category1</th>\n",
       "      <th>Category2</th>\n",
       "      <th>Category3</th>\n",
       "    </tr>\n",
       "  </thead>\n",
       "  <tbody>\n",
       "    <tr>\n",
       "      <th>25</th>\n",
       "      <td>6542</td>\n",
       "      <td>19-Feb-05</td>\n",
       "      <td>23-Aug-05</td>\n",
       "      <td>First</td>\n",
       "      <td>F</td>\n",
       "      <td>2</td>\n",
       "    </tr>\n",
       "    <tr>\n",
       "      <th>24</th>\n",
       "      <td>6536</td>\n",
       "      <td>15-Feb-05</td>\n",
       "      <td>18-Feb-05</td>\n",
       "      <td>Second</td>\n",
       "      <td>D</td>\n",
       "      <td>2</td>\n",
       "    </tr>\n",
       "    <tr>\n",
       "      <th>45</th>\n",
       "      <td>6582</td>\n",
       "      <td>06-Apr-06</td>\n",
       "      <td>07-Nov-07</td>\n",
       "      <td>First</td>\n",
       "      <td>F</td>\n",
       "      <td>2</td>\n",
       "    </tr>\n",
       "    <tr>\n",
       "      <th>53</th>\n",
       "      <td>6568</td>\n",
       "      <td>17-Aug-06</td>\n",
       "      <td>13-Sep-06</td>\n",
       "      <td>First</td>\n",
       "      <td>E</td>\n",
       "      <td>2</td>\n",
       "    </tr>\n",
       "    <tr>\n",
       "      <th>12</th>\n",
       "      <td>6565</td>\n",
       "      <td>29-Apr-04</td>\n",
       "      <td>04-May-04</td>\n",
       "      <td>First</td>\n",
       "      <td>C</td>\n",
       "      <td>2</td>\n",
       "    </tr>\n",
       "  </tbody>\n",
       "</table>\n",
       "</div>"
      ],
      "text/plain": [
       "    Health_Camp_ID Camp_Start_Date Camp_End_Date Category1 Category2  \\\n",
       "25            6542       19-Feb-05     23-Aug-05     First         F   \n",
       "24            6536       15-Feb-05     18-Feb-05    Second         D   \n",
       "45            6582       06-Apr-06     07-Nov-07     First         F   \n",
       "53            6568       17-Aug-06     13-Sep-06     First         E   \n",
       "12            6565       29-Apr-04     04-May-04     First         C   \n",
       "\n",
       "    Category3  \n",
       "25          2  \n",
       "24          2  \n",
       "45          2  \n",
       "53          2  \n",
       "12          2  "
      ]
     },
     "execution_count": 24,
     "metadata": {},
     "output_type": "execute_result"
    }
   ],
   "source": [
    "Health_Camp_Detail.sample(5)"
   ]
  },
  {
   "cell_type": "code",
   "execution_count": 25,
   "metadata": {
    "scrolled": false
   },
   "outputs": [
    {
     "name": "stdout",
     "output_type": "stream",
     "text": [
      "<class 'pandas.core.frame.DataFrame'>\n",
      "RangeIndex: 65 entries, 0 to 64\n",
      "Data columns (total 6 columns):\n",
      " #   Column           Non-Null Count  Dtype \n",
      "---  ------           --------------  ----- \n",
      " 0   Health_Camp_ID   65 non-null     int64 \n",
      " 1   Camp_Start_Date  65 non-null     object\n",
      " 2   Camp_End_Date    65 non-null     object\n",
      " 3   Category1        65 non-null     object\n",
      " 4   Category2        65 non-null     object\n",
      " 5   Category3        65 non-null     int64 \n",
      "dtypes: int64(2), object(4)\n",
      "memory usage: 3.2+ KB\n"
     ]
    }
   ],
   "source": [
    "Health_Camp_Detail.info()"
   ]
  },
  {
   "cell_type": "code",
   "execution_count": 26,
   "metadata": {},
   "outputs": [
    {
     "data": {
      "text/html": [
       "<div>\n",
       "<style scoped>\n",
       "    .dataframe tbody tr th:only-of-type {\n",
       "        vertical-align: middle;\n",
       "    }\n",
       "\n",
       "    .dataframe tbody tr th {\n",
       "        vertical-align: top;\n",
       "    }\n",
       "\n",
       "    .dataframe thead th {\n",
       "        text-align: right;\n",
       "    }\n",
       "</style>\n",
       "<table border=\"1\" class=\"dataframe\">\n",
       "  <thead>\n",
       "    <tr style=\"text-align: right;\">\n",
       "      <th></th>\n",
       "      <th>Health_Camp_ID</th>\n",
       "      <th>Category3</th>\n",
       "    </tr>\n",
       "  </thead>\n",
       "  <tbody>\n",
       "    <tr>\n",
       "      <th>count</th>\n",
       "      <td>65.00000</td>\n",
       "      <td>65.000000</td>\n",
       "    </tr>\n",
       "    <tr>\n",
       "      <th>mean</th>\n",
       "      <td>6555.00000</td>\n",
       "      <td>1.953846</td>\n",
       "    </tr>\n",
       "    <tr>\n",
       "      <th>std</th>\n",
       "      <td>18.90767</td>\n",
       "      <td>0.211451</td>\n",
       "    </tr>\n",
       "    <tr>\n",
       "      <th>min</th>\n",
       "      <td>6523.00000</td>\n",
       "      <td>1.000000</td>\n",
       "    </tr>\n",
       "    <tr>\n",
       "      <th>25%</th>\n",
       "      <td>6539.00000</td>\n",
       "      <td>2.000000</td>\n",
       "    </tr>\n",
       "    <tr>\n",
       "      <th>50%</th>\n",
       "      <td>6555.00000</td>\n",
       "      <td>2.000000</td>\n",
       "    </tr>\n",
       "    <tr>\n",
       "      <th>75%</th>\n",
       "      <td>6571.00000</td>\n",
       "      <td>2.000000</td>\n",
       "    </tr>\n",
       "    <tr>\n",
       "      <th>max</th>\n",
       "      <td>6587.00000</td>\n",
       "      <td>2.000000</td>\n",
       "    </tr>\n",
       "  </tbody>\n",
       "</table>\n",
       "</div>"
      ],
      "text/plain": [
       "       Health_Camp_ID  Category3\n",
       "count        65.00000  65.000000\n",
       "mean       6555.00000   1.953846\n",
       "std          18.90767   0.211451\n",
       "min        6523.00000   1.000000\n",
       "25%        6539.00000   2.000000\n",
       "50%        6555.00000   2.000000\n",
       "75%        6571.00000   2.000000\n",
       "max        6587.00000   2.000000"
      ]
     },
     "execution_count": 26,
     "metadata": {},
     "output_type": "execute_result"
    }
   ],
   "source": [
    "Health_Camp_Detail.describe()"
   ]
  },
  {
   "cell_type": "markdown",
   "metadata": {},
   "source": [
    "#### 7. Test"
   ]
  },
  {
   "attachments": {},
   "cell_type": "markdown",
   "metadata": {},
   "source": [
    "**Patient_ID:**\tUnique Identifier for each patient. This ID is not sequential in nature and can not be used in modeling\n",
    "\n",
    "**Health_Camp_ID:**\tUnique Identifier for each camp. This ID is not sequential in nature and can not be used in modeling\n",
    "\n",
    "**Registration_Date:**\tDate of Registration of the patient for the health camp\n",
    "\n",
    "**Var1 - Var5:**\tAnonymized variables captured at time of registrations. These are numerical in nature and can only have discrete values\n"
   ]
  },
  {
   "cell_type": "code",
   "execution_count": 27,
   "metadata": {
    "scrolled": true
   },
   "outputs": [
    {
     "data": {
      "text/html": [
       "<div>\n",
       "<style scoped>\n",
       "    .dataframe tbody tr th:only-of-type {\n",
       "        vertical-align: middle;\n",
       "    }\n",
       "\n",
       "    .dataframe tbody tr th {\n",
       "        vertical-align: top;\n",
       "    }\n",
       "\n",
       "    .dataframe thead th {\n",
       "        text-align: right;\n",
       "    }\n",
       "</style>\n",
       "<table border=\"1\" class=\"dataframe\">\n",
       "  <thead>\n",
       "    <tr style=\"text-align: right;\">\n",
       "      <th></th>\n",
       "      <th>Patient_ID</th>\n",
       "      <th>Health_Camp_ID</th>\n",
       "      <th>Registration_Date</th>\n",
       "      <th>Var1</th>\n",
       "      <th>Var2</th>\n",
       "      <th>Var3</th>\n",
       "      <th>Var4</th>\n",
       "      <th>Var5</th>\n",
       "    </tr>\n",
       "  </thead>\n",
       "  <tbody>\n",
       "    <tr>\n",
       "      <th>11361</th>\n",
       "      <td>502380</td>\n",
       "      <td>6576</td>\n",
       "      <td>17-Sep-06</td>\n",
       "      <td>0</td>\n",
       "      <td>0</td>\n",
       "      <td>0</td>\n",
       "      <td>0</td>\n",
       "      <td>0</td>\n",
       "    </tr>\n",
       "    <tr>\n",
       "      <th>15498</th>\n",
       "      <td>512698</td>\n",
       "      <td>6583</td>\n",
       "      <td>14-Jul-06</td>\n",
       "      <td>3</td>\n",
       "      <td>0</td>\n",
       "      <td>0</td>\n",
       "      <td>0</td>\n",
       "      <td>1</td>\n",
       "    </tr>\n",
       "    <tr>\n",
       "      <th>33</th>\n",
       "      <td>488790</td>\n",
       "      <td>6573</td>\n",
       "      <td>26-Jan-07</td>\n",
       "      <td>1</td>\n",
       "      <td>0</td>\n",
       "      <td>0</td>\n",
       "      <td>0</td>\n",
       "      <td>1</td>\n",
       "    </tr>\n",
       "    <tr>\n",
       "      <th>10132</th>\n",
       "      <td>511854</td>\n",
       "      <td>6579</td>\n",
       "      <td>17-Sep-06</td>\n",
       "      <td>0</td>\n",
       "      <td>0</td>\n",
       "      <td>0</td>\n",
       "      <td>0</td>\n",
       "      <td>0</td>\n",
       "    </tr>\n",
       "    <tr>\n",
       "      <th>31688</th>\n",
       "      <td>486875</td>\n",
       "      <td>6573</td>\n",
       "      <td>23-Oct-06</td>\n",
       "      <td>0</td>\n",
       "      <td>0</td>\n",
       "      <td>0</td>\n",
       "      <td>0</td>\n",
       "      <td>0</td>\n",
       "    </tr>\n",
       "  </tbody>\n",
       "</table>\n",
       "</div>"
      ],
      "text/plain": [
       "       Patient_ID  Health_Camp_ID Registration_Date  Var1  Var2  Var3  Var4  \\\n",
       "11361      502380            6576         17-Sep-06     0     0     0     0   \n",
       "15498      512698            6583         14-Jul-06     3     0     0     0   \n",
       "33         488790            6573         26-Jan-07     1     0     0     0   \n",
       "10132      511854            6579         17-Sep-06     0     0     0     0   \n",
       "31688      486875            6573         23-Oct-06     0     0     0     0   \n",
       "\n",
       "       Var5  \n",
       "11361     0  \n",
       "15498     1  \n",
       "33        1  \n",
       "10132     0  \n",
       "31688     0  "
      ]
     },
     "execution_count": 27,
     "metadata": {},
     "output_type": "execute_result"
    }
   ],
   "source": [
    "Test.sample(5)"
   ]
  },
  {
   "cell_type": "code",
   "execution_count": 28,
   "metadata": {},
   "outputs": [
    {
     "name": "stdout",
     "output_type": "stream",
     "text": [
      "<class 'pandas.core.frame.DataFrame'>\n",
      "RangeIndex: 35249 entries, 0 to 35248\n",
      "Data columns (total 8 columns):\n",
      " #   Column             Non-Null Count  Dtype \n",
      "---  ------             --------------  ----- \n",
      " 0   Patient_ID         35249 non-null  int64 \n",
      " 1   Health_Camp_ID     35249 non-null  int64 \n",
      " 2   Registration_Date  35249 non-null  object\n",
      " 3   Var1               35249 non-null  int64 \n",
      " 4   Var2               35249 non-null  int64 \n",
      " 5   Var3               35249 non-null  int64 \n",
      " 6   Var4               35249 non-null  int64 \n",
      " 7   Var5               35249 non-null  int64 \n",
      "dtypes: int64(7), object(1)\n",
      "memory usage: 2.2+ MB\n"
     ]
    }
   ],
   "source": [
    "Test.info()"
   ]
  },
  {
   "cell_type": "code",
   "execution_count": 29,
   "metadata": {
    "scrolled": true
   },
   "outputs": [
    {
     "data": {
      "text/html": [
       "<div>\n",
       "<style scoped>\n",
       "    .dataframe tbody tr th:only-of-type {\n",
       "        vertical-align: middle;\n",
       "    }\n",
       "\n",
       "    .dataframe tbody tr th {\n",
       "        vertical-align: top;\n",
       "    }\n",
       "\n",
       "    .dataframe thead th {\n",
       "        text-align: right;\n",
       "    }\n",
       "</style>\n",
       "<table border=\"1\" class=\"dataframe\">\n",
       "  <thead>\n",
       "    <tr style=\"text-align: right;\">\n",
       "      <th></th>\n",
       "      <th>Var1</th>\n",
       "      <th>Var2</th>\n",
       "      <th>Var3</th>\n",
       "      <th>Var4</th>\n",
       "    </tr>\n",
       "  </thead>\n",
       "  <tbody>\n",
       "    <tr>\n",
       "      <th>count</th>\n",
       "      <td>35249.000000</td>\n",
       "      <td>35249.000000</td>\n",
       "      <td>35249.000000</td>\n",
       "      <td>35249.000000</td>\n",
       "    </tr>\n",
       "    <tr>\n",
       "      <th>mean</th>\n",
       "      <td>0.819201</td>\n",
       "      <td>0.253312</td>\n",
       "      <td>0.000567</td>\n",
       "      <td>0.041845</td>\n",
       "    </tr>\n",
       "    <tr>\n",
       "      <th>std</th>\n",
       "      <td>8.298817</td>\n",
       "      <td>3.984690</td>\n",
       "      <td>0.023814</td>\n",
       "      <td>0.268826</td>\n",
       "    </tr>\n",
       "    <tr>\n",
       "      <th>min</th>\n",
       "      <td>0.000000</td>\n",
       "      <td>0.000000</td>\n",
       "      <td>0.000000</td>\n",
       "      <td>0.000000</td>\n",
       "    </tr>\n",
       "    <tr>\n",
       "      <th>25%</th>\n",
       "      <td>0.000000</td>\n",
       "      <td>0.000000</td>\n",
       "      <td>0.000000</td>\n",
       "      <td>0.000000</td>\n",
       "    </tr>\n",
       "    <tr>\n",
       "      <th>50%</th>\n",
       "      <td>0.000000</td>\n",
       "      <td>0.000000</td>\n",
       "      <td>0.000000</td>\n",
       "      <td>0.000000</td>\n",
       "    </tr>\n",
       "    <tr>\n",
       "      <th>75%</th>\n",
       "      <td>0.000000</td>\n",
       "      <td>0.000000</td>\n",
       "      <td>0.000000</td>\n",
       "      <td>0.000000</td>\n",
       "    </tr>\n",
       "    <tr>\n",
       "      <th>max</th>\n",
       "      <td>344.000000</td>\n",
       "      <td>181.000000</td>\n",
       "      <td>1.000000</td>\n",
       "      <td>8.000000</td>\n",
       "    </tr>\n",
       "  </tbody>\n",
       "</table>\n",
       "</div>"
      ],
      "text/plain": [
       "               Var1          Var2          Var3          Var4\n",
       "count  35249.000000  35249.000000  35249.000000  35249.000000\n",
       "mean       0.819201      0.253312      0.000567      0.041845\n",
       "std        8.298817      3.984690      0.023814      0.268826\n",
       "min        0.000000      0.000000      0.000000      0.000000\n",
       "25%        0.000000      0.000000      0.000000      0.000000\n",
       "50%        0.000000      0.000000      0.000000      0.000000\n",
       "75%        0.000000      0.000000      0.000000      0.000000\n",
       "max      344.000000    181.000000      1.000000      8.000000"
      ]
     },
     "execution_count": 29,
     "metadata": {},
     "output_type": "execute_result"
    }
   ],
   "source": [
    "Test[['Var1', 'Var2', 'Var3', 'Var4']].describe()"
   ]
  },
  {
   "cell_type": "markdown",
   "metadata": {},
   "source": [
    " <a id=section4></a>\n",
    "# 4. Data Preprocessing"
   ]
  },
  {
   "cell_type": "markdown",
   "metadata": {},
   "source": [
    "<a id=section401></a>\n",
    "## 4.1 Feature Engineering of Train"
   ]
  },
  {
   "cell_type": "markdown",
   "metadata": {},
   "source": [
    "### a. "
   ]
  },
  {
   "cell_type": "code",
   "execution_count": 30,
   "metadata": {},
   "outputs": [],
   "source": [
    "for col in ['Patient_ID','Health_Camp_ID']:\n",
    "    Train[col]=  Train[col].astype('str')"
   ]
  },
  {
   "cell_type": "markdown",
   "metadata": {},
   "source": [
    "### b."
   ]
  },
  {
   "cell_type": "code",
   "execution_count": 31,
   "metadata": {},
   "outputs": [],
   "source": [
    "Train['Registration_Date']=pd.to_datetime(Train['Registration_Date'], errors='coerce')\n",
    "Train.sort_values(by=['Patient_ID','Registration_Date'],inplace=True)"
   ]
  },
  {
   "cell_type": "code",
   "execution_count": 32,
   "metadata": {},
   "outputs": [
    {
     "data": {
      "text/html": [
       "<div>\n",
       "<style scoped>\n",
       "    .dataframe tbody tr th:only-of-type {\n",
       "        vertical-align: middle;\n",
       "    }\n",
       "\n",
       "    .dataframe tbody tr th {\n",
       "        vertical-align: top;\n",
       "    }\n",
       "\n",
       "    .dataframe thead th {\n",
       "        text-align: right;\n",
       "    }\n",
       "</style>\n",
       "<table border=\"1\" class=\"dataframe\">\n",
       "  <thead>\n",
       "    <tr style=\"text-align: right;\">\n",
       "      <th></th>\n",
       "      <th>Patient_ID</th>\n",
       "      <th>Health_Camp_ID</th>\n",
       "      <th>Registration_Date</th>\n",
       "      <th>Var1</th>\n",
       "      <th>Var2</th>\n",
       "      <th>Var3</th>\n",
       "      <th>Var4</th>\n",
       "      <th>Var5</th>\n",
       "    </tr>\n",
       "  </thead>\n",
       "  <tbody>\n",
       "    <tr>\n",
       "      <th>69348</th>\n",
       "      <td>485679</td>\n",
       "      <td>6578</td>\n",
       "      <td>2005-08-22</td>\n",
       "      <td>0</td>\n",
       "      <td>0</td>\n",
       "      <td>0</td>\n",
       "      <td>0</td>\n",
       "      <td>0</td>\n",
       "    </tr>\n",
       "    <tr>\n",
       "      <th>64479</th>\n",
       "      <td>485679</td>\n",
       "      <td>6555</td>\n",
       "      <td>2005-08-31</td>\n",
       "      <td>0</td>\n",
       "      <td>0</td>\n",
       "      <td>0</td>\n",
       "      <td>0</td>\n",
       "      <td>0</td>\n",
       "    </tr>\n",
       "    <tr>\n",
       "      <th>6484</th>\n",
       "      <td>485680</td>\n",
       "      <td>6543</td>\n",
       "      <td>2006-07-10</td>\n",
       "      <td>0</td>\n",
       "      <td>0</td>\n",
       "      <td>0</td>\n",
       "      <td>0</td>\n",
       "      <td>0</td>\n",
       "    </tr>\n",
       "    <tr>\n",
       "      <th>18999</th>\n",
       "      <td>485681</td>\n",
       "      <td>6580</td>\n",
       "      <td>2004-12-20</td>\n",
       "      <td>0</td>\n",
       "      <td>0</td>\n",
       "      <td>0</td>\n",
       "      <td>0</td>\n",
       "      <td>0</td>\n",
       "    </tr>\n",
       "    <tr>\n",
       "      <th>2604</th>\n",
       "      <td>485681</td>\n",
       "      <td>6526</td>\n",
       "      <td>2005-01-01</td>\n",
       "      <td>0</td>\n",
       "      <td>0</td>\n",
       "      <td>0</td>\n",
       "      <td>0</td>\n",
       "      <td>0</td>\n",
       "    </tr>\n",
       "  </tbody>\n",
       "</table>\n",
       "</div>"
      ],
      "text/plain": [
       "      Patient_ID Health_Camp_ID Registration_Date  Var1  Var2  Var3  Var4  \\\n",
       "69348     485679           6578        2005-08-22     0     0     0     0   \n",
       "64479     485679           6555        2005-08-31     0     0     0     0   \n",
       "6484      485680           6543        2006-07-10     0     0     0     0   \n",
       "18999     485681           6580        2004-12-20     0     0     0     0   \n",
       "2604      485681           6526        2005-01-01     0     0     0     0   \n",
       "\n",
       "       Var5  \n",
       "69348     0  \n",
       "64479     0  \n",
       "6484      0  \n",
       "18999     0  \n",
       "2604      0  "
      ]
     },
     "execution_count": 32,
     "metadata": {},
     "output_type": "execute_result"
    }
   ],
   "source": [
    "Train.head()"
   ]
  },
  {
   "cell_type": "code",
   "execution_count": 33,
   "metadata": {},
   "outputs": [],
   "source": [
    "Train['Registration_Year'] = pd.to_datetime(Train['Registration_Date']).dt.year\n",
    "Train['Registration_Month'] = pd.to_datetime(Train['Registration_Date']).dt.month\n",
    "Train['Registration_Day'] = pd.to_datetime(Train['Registration_Date']).dt.day"
   ]
  },
  {
   "cell_type": "code",
   "execution_count": 34,
   "metadata": {},
   "outputs": [
    {
     "data": {
      "text/html": [
       "<div>\n",
       "<style scoped>\n",
       "    .dataframe tbody tr th:only-of-type {\n",
       "        vertical-align: middle;\n",
       "    }\n",
       "\n",
       "    .dataframe tbody tr th {\n",
       "        vertical-align: top;\n",
       "    }\n",
       "\n",
       "    .dataframe thead th {\n",
       "        text-align: right;\n",
       "    }\n",
       "</style>\n",
       "<table border=\"1\" class=\"dataframe\">\n",
       "  <thead>\n",
       "    <tr style=\"text-align: right;\">\n",
       "      <th></th>\n",
       "      <th>Patient_ID</th>\n",
       "      <th>Health_Camp_ID</th>\n",
       "      <th>Registration_Date</th>\n",
       "      <th>Var1</th>\n",
       "      <th>Var2</th>\n",
       "      <th>Var3</th>\n",
       "      <th>Var4</th>\n",
       "      <th>Var5</th>\n",
       "      <th>Registration_Year</th>\n",
       "      <th>Registration_Month</th>\n",
       "      <th>Registration_Day</th>\n",
       "    </tr>\n",
       "  </thead>\n",
       "  <tbody>\n",
       "    <tr>\n",
       "      <th>40289</th>\n",
       "      <td>508013</td>\n",
       "      <td>6540</td>\n",
       "      <td>2004-10-22</td>\n",
       "      <td>1</td>\n",
       "      <td>0</td>\n",
       "      <td>0</td>\n",
       "      <td>0</td>\n",
       "      <td>1</td>\n",
       "      <td>2004.0</td>\n",
       "      <td>10.0</td>\n",
       "      <td>22.0</td>\n",
       "    </tr>\n",
       "    <tr>\n",
       "      <th>45493</th>\n",
       "      <td>509364</td>\n",
       "      <td>6549</td>\n",
       "      <td>2005-05-22</td>\n",
       "      <td>0</td>\n",
       "      <td>0</td>\n",
       "      <td>0</td>\n",
       "      <td>0</td>\n",
       "      <td>0</td>\n",
       "      <td>2005.0</td>\n",
       "      <td>5.0</td>\n",
       "      <td>22.0</td>\n",
       "    </tr>\n",
       "    <tr>\n",
       "      <th>60303</th>\n",
       "      <td>501138</td>\n",
       "      <td>6526</td>\n",
       "      <td>2005-01-17</td>\n",
       "      <td>0</td>\n",
       "      <td>0</td>\n",
       "      <td>0</td>\n",
       "      <td>0</td>\n",
       "      <td>0</td>\n",
       "      <td>2005.0</td>\n",
       "      <td>1.0</td>\n",
       "      <td>17.0</td>\n",
       "    </tr>\n",
       "    <tr>\n",
       "      <th>16704</th>\n",
       "      <td>507303</td>\n",
       "      <td>6527</td>\n",
       "      <td>2005-05-08</td>\n",
       "      <td>0</td>\n",
       "      <td>0</td>\n",
       "      <td>0</td>\n",
       "      <td>0</td>\n",
       "      <td>0</td>\n",
       "      <td>2005.0</td>\n",
       "      <td>5.0</td>\n",
       "      <td>8.0</td>\n",
       "    </tr>\n",
       "    <tr>\n",
       "      <th>69868</th>\n",
       "      <td>491996</td>\n",
       "      <td>6527</td>\n",
       "      <td>2005-05-12</td>\n",
       "      <td>3</td>\n",
       "      <td>0</td>\n",
       "      <td>0</td>\n",
       "      <td>0</td>\n",
       "      <td>2</td>\n",
       "      <td>2005.0</td>\n",
       "      <td>5.0</td>\n",
       "      <td>12.0</td>\n",
       "    </tr>\n",
       "  </tbody>\n",
       "</table>\n",
       "</div>"
      ],
      "text/plain": [
       "      Patient_ID Health_Camp_ID Registration_Date  Var1  Var2  Var3  Var4  \\\n",
       "40289     508013           6540        2004-10-22     1     0     0     0   \n",
       "45493     509364           6549        2005-05-22     0     0     0     0   \n",
       "60303     501138           6526        2005-01-17     0     0     0     0   \n",
       "16704     507303           6527        2005-05-08     0     0     0     0   \n",
       "69868     491996           6527        2005-05-12     3     0     0     0   \n",
       "\n",
       "       Var5  Registration_Year  Registration_Month  Registration_Day  \n",
       "40289     1             2004.0                10.0              22.0  \n",
       "45493     0             2005.0                 5.0              22.0  \n",
       "60303     0             2005.0                 1.0              17.0  \n",
       "16704     0             2005.0                 5.0               8.0  \n",
       "69868     2             2005.0                 5.0              12.0  "
      ]
     },
     "execution_count": 34,
     "metadata": {},
     "output_type": "execute_result"
    }
   ],
   "source": [
    "Train.sample(5)"
   ]
  },
  {
   "cell_type": "markdown",
   "metadata": {},
   "source": [
    "### c."
   ]
  },
  {
   "cell_type": "code",
   "execution_count": 35,
   "metadata": {},
   "outputs": [],
   "source": [
    "Train['Days_Since_Last_Registration'] = Train.groupby('Patient_ID')['Registration_Date'].diff().apply(lambda x: x.days)\n",
    "Train['Days_To_Next_Registration'] = Train.groupby('Patient_ID')['Registration_Date'].diff(-1) * (-1) / np.timedelta64(1, 'D')       \n",
    "Train.reset_index(drop=True,inplace=True)"
   ]
  },
  {
   "cell_type": "markdown",
   "metadata": {},
   "source": [
    "### d."
   ]
  },
  {
   "cell_type": "code",
   "execution_count": 36,
   "metadata": {},
   "outputs": [],
   "source": [
    "Train['Unique_Health_Camp_Per_Patient']=Train.groupby(['Patient_ID'])['Health_Camp_ID'].transform('nunique')\n",
    "Train['Unique_Patient_Per_HealthCamp']=Train.groupby(['Health_Camp_ID'])['Patient_ID'].transform('nunique')\n",
    "Train['Unique_Year_Per_Patient']=Train.groupby(['Patient_ID'])['Registration_Year'].transform('nunique')\n",
    "Train['Unique_Months_Per_Patient']=Train.groupby(['Patient_ID'])['Registration_Month'].transform('nunique')\n",
    "Train['Unique_Day_Per_Patient']=Train.groupby(['Patient_ID'])['Registration_Day'].transform('nunique')"
   ]
  },
  {
   "cell_type": "code",
   "execution_count": 37,
   "metadata": {},
   "outputs": [
    {
     "data": {
      "text/html": [
       "<div>\n",
       "<style scoped>\n",
       "    .dataframe tbody tr th:only-of-type {\n",
       "        vertical-align: middle;\n",
       "    }\n",
       "\n",
       "    .dataframe tbody tr th {\n",
       "        vertical-align: top;\n",
       "    }\n",
       "\n",
       "    .dataframe thead th {\n",
       "        text-align: right;\n",
       "    }\n",
       "</style>\n",
       "<table border=\"1\" class=\"dataframe\">\n",
       "  <thead>\n",
       "    <tr style=\"text-align: right;\">\n",
       "      <th></th>\n",
       "      <th>Patient_ID</th>\n",
       "      <th>Health_Camp_ID</th>\n",
       "      <th>Registration_Date</th>\n",
       "      <th>Var1</th>\n",
       "      <th>Var2</th>\n",
       "      <th>Var3</th>\n",
       "      <th>Var4</th>\n",
       "      <th>Var5</th>\n",
       "      <th>Registration_Year</th>\n",
       "      <th>Registration_Month</th>\n",
       "      <th>Registration_Day</th>\n",
       "      <th>Days_Since_Last_Registration</th>\n",
       "      <th>Days_To_Next_Registration</th>\n",
       "      <th>Unique_Health_Camp_Per_Patient</th>\n",
       "      <th>Unique_Patient_Per_HealthCamp</th>\n",
       "      <th>Unique_Year_Per_Patient</th>\n",
       "      <th>Unique_Months_Per_Patient</th>\n",
       "      <th>Unique_Day_Per_Patient</th>\n",
       "    </tr>\n",
       "  </thead>\n",
       "  <tbody>\n",
       "    <tr>\n",
       "      <th>4798</th>\n",
       "      <td>488410</td>\n",
       "      <td>6526</td>\n",
       "      <td>2004-12-05</td>\n",
       "      <td>0</td>\n",
       "      <td>0</td>\n",
       "      <td>0</td>\n",
       "      <td>0</td>\n",
       "      <td>0</td>\n",
       "      <td>2004.0</td>\n",
       "      <td>12.0</td>\n",
       "      <td>5.0</td>\n",
       "      <td>12.0</td>\n",
       "      <td>175.0</td>\n",
       "      <td>11</td>\n",
       "      <td>3809</td>\n",
       "      <td>2.0</td>\n",
       "      <td>6.0</td>\n",
       "      <td>7.0</td>\n",
       "    </tr>\n",
       "    <tr>\n",
       "      <th>37990</th>\n",
       "      <td>507466</td>\n",
       "      <td>6580</td>\n",
       "      <td>2004-12-21</td>\n",
       "      <td>0</td>\n",
       "      <td>0</td>\n",
       "      <td>0</td>\n",
       "      <td>0</td>\n",
       "      <td>0</td>\n",
       "      <td>2004.0</td>\n",
       "      <td>12.0</td>\n",
       "      <td>21.0</td>\n",
       "      <td>67.0</td>\n",
       "      <td>12.0</td>\n",
       "      <td>11</td>\n",
       "      <td>3517</td>\n",
       "      <td>3.0</td>\n",
       "      <td>8.0</td>\n",
       "      <td>8.0</td>\n",
       "    </tr>\n",
       "    <tr>\n",
       "      <th>63532</th>\n",
       "      <td>522056</td>\n",
       "      <td>6586</td>\n",
       "      <td>2004-07-14</td>\n",
       "      <td>0</td>\n",
       "      <td>0</td>\n",
       "      <td>0</td>\n",
       "      <td>0</td>\n",
       "      <td>0</td>\n",
       "      <td>2004.0</td>\n",
       "      <td>7.0</td>\n",
       "      <td>14.0</td>\n",
       "      <td>NaN</td>\n",
       "      <td>11.0</td>\n",
       "      <td>11</td>\n",
       "      <td>2624</td>\n",
       "      <td>3.0</td>\n",
       "      <td>7.0</td>\n",
       "      <td>8.0</td>\n",
       "    </tr>\n",
       "    <tr>\n",
       "      <th>62517</th>\n",
       "      <td>521421</td>\n",
       "      <td>6539</td>\n",
       "      <td>2004-09-25</td>\n",
       "      <td>0</td>\n",
       "      <td>0</td>\n",
       "      <td>0</td>\n",
       "      <td>0</td>\n",
       "      <td>0</td>\n",
       "      <td>2004.0</td>\n",
       "      <td>9.0</td>\n",
       "      <td>25.0</td>\n",
       "      <td>59.0</td>\n",
       "      <td>NaN</td>\n",
       "      <td>2</td>\n",
       "      <td>1992</td>\n",
       "      <td>1.0</td>\n",
       "      <td>2.0</td>\n",
       "      <td>2.0</td>\n",
       "    </tr>\n",
       "    <tr>\n",
       "      <th>45256</th>\n",
       "      <td>511563</td>\n",
       "      <td>6570</td>\n",
       "      <td>2005-07-18</td>\n",
       "      <td>0</td>\n",
       "      <td>0</td>\n",
       "      <td>0</td>\n",
       "      <td>0</td>\n",
       "      <td>0</td>\n",
       "      <td>2005.0</td>\n",
       "      <td>7.0</td>\n",
       "      <td>18.0</td>\n",
       "      <td>156.0</td>\n",
       "      <td>NaN</td>\n",
       "      <td>8</td>\n",
       "      <td>3564</td>\n",
       "      <td>2.0</td>\n",
       "      <td>5.0</td>\n",
       "      <td>7.0</td>\n",
       "    </tr>\n",
       "    <tr>\n",
       "      <th>67206</th>\n",
       "      <td>524106</td>\n",
       "      <td>6554</td>\n",
       "      <td>2005-05-26</td>\n",
       "      <td>0</td>\n",
       "      <td>0</td>\n",
       "      <td>0</td>\n",
       "      <td>0</td>\n",
       "      <td>0</td>\n",
       "      <td>2005.0</td>\n",
       "      <td>5.0</td>\n",
       "      <td>26.0</td>\n",
       "      <td>NaN</td>\n",
       "      <td>1.0</td>\n",
       "      <td>2</td>\n",
       "      <td>2303</td>\n",
       "      <td>1.0</td>\n",
       "      <td>1.0</td>\n",
       "      <td>2.0</td>\n",
       "    </tr>\n",
       "    <tr>\n",
       "      <th>188</th>\n",
       "      <td>485811</td>\n",
       "      <td>6586</td>\n",
       "      <td>2004-10-02</td>\n",
       "      <td>0</td>\n",
       "      <td>0</td>\n",
       "      <td>0</td>\n",
       "      <td>0</td>\n",
       "      <td>0</td>\n",
       "      <td>2004.0</td>\n",
       "      <td>10.0</td>\n",
       "      <td>2.0</td>\n",
       "      <td>NaN</td>\n",
       "      <td>26.0</td>\n",
       "      <td>4</td>\n",
       "      <td>2624</td>\n",
       "      <td>2.0</td>\n",
       "      <td>3.0</td>\n",
       "      <td>4.0</td>\n",
       "    </tr>\n",
       "    <tr>\n",
       "      <th>828</th>\n",
       "      <td>486167</td>\n",
       "      <td>6532</td>\n",
       "      <td>2005-07-25</td>\n",
       "      <td>0</td>\n",
       "      <td>0</td>\n",
       "      <td>0</td>\n",
       "      <td>0</td>\n",
       "      <td>0</td>\n",
       "      <td>2005.0</td>\n",
       "      <td>7.0</td>\n",
       "      <td>25.0</td>\n",
       "      <td>5.0</td>\n",
       "      <td>60.0</td>\n",
       "      <td>6</td>\n",
       "      <td>1993</td>\n",
       "      <td>1.0</td>\n",
       "      <td>3.0</td>\n",
       "      <td>6.0</td>\n",
       "    </tr>\n",
       "    <tr>\n",
       "      <th>20108</th>\n",
       "      <td>497173</td>\n",
       "      <td>6529</td>\n",
       "      <td>2006-03-14</td>\n",
       "      <td>0</td>\n",
       "      <td>0</td>\n",
       "      <td>0</td>\n",
       "      <td>0</td>\n",
       "      <td>0</td>\n",
       "      <td>2006.0</td>\n",
       "      <td>3.0</td>\n",
       "      <td>14.0</td>\n",
       "      <td>228.0</td>\n",
       "      <td>12.0</td>\n",
       "      <td>15</td>\n",
       "      <td>3823</td>\n",
       "      <td>3.0</td>\n",
       "      <td>4.0</td>\n",
       "      <td>10.0</td>\n",
       "    </tr>\n",
       "    <tr>\n",
       "      <th>50650</th>\n",
       "      <td>514665</td>\n",
       "      <td>6543</td>\n",
       "      <td>2005-10-15</td>\n",
       "      <td>0</td>\n",
       "      <td>0</td>\n",
       "      <td>0</td>\n",
       "      <td>0</td>\n",
       "      <td>0</td>\n",
       "      <td>2005.0</td>\n",
       "      <td>10.0</td>\n",
       "      <td>15.0</td>\n",
       "      <td>2.0</td>\n",
       "      <td>0.0</td>\n",
       "      <td>15</td>\n",
       "      <td>6543</td>\n",
       "      <td>2.0</td>\n",
       "      <td>7.0</td>\n",
       "      <td>10.0</td>\n",
       "    </tr>\n",
       "  </tbody>\n",
       "</table>\n",
       "</div>"
      ],
      "text/plain": [
       "      Patient_ID Health_Camp_ID Registration_Date  Var1  Var2  Var3  Var4  \\\n",
       "4798      488410           6526        2004-12-05     0     0     0     0   \n",
       "37990     507466           6580        2004-12-21     0     0     0     0   \n",
       "63532     522056           6586        2004-07-14     0     0     0     0   \n",
       "62517     521421           6539        2004-09-25     0     0     0     0   \n",
       "45256     511563           6570        2005-07-18     0     0     0     0   \n",
       "67206     524106           6554        2005-05-26     0     0     0     0   \n",
       "188       485811           6586        2004-10-02     0     0     0     0   \n",
       "828       486167           6532        2005-07-25     0     0     0     0   \n",
       "20108     497173           6529        2006-03-14     0     0     0     0   \n",
       "50650     514665           6543        2005-10-15     0     0     0     0   \n",
       "\n",
       "       Var5  Registration_Year  Registration_Month  Registration_Day  \\\n",
       "4798      0             2004.0                12.0               5.0   \n",
       "37990     0             2004.0                12.0              21.0   \n",
       "63532     0             2004.0                 7.0              14.0   \n",
       "62517     0             2004.0                 9.0              25.0   \n",
       "45256     0             2005.0                 7.0              18.0   \n",
       "67206     0             2005.0                 5.0              26.0   \n",
       "188       0             2004.0                10.0               2.0   \n",
       "828       0             2005.0                 7.0              25.0   \n",
       "20108     0             2006.0                 3.0              14.0   \n",
       "50650     0             2005.0                10.0              15.0   \n",
       "\n",
       "       Days_Since_Last_Registration  Days_To_Next_Registration  \\\n",
       "4798                           12.0                      175.0   \n",
       "37990                          67.0                       12.0   \n",
       "63532                           NaN                       11.0   \n",
       "62517                          59.0                        NaN   \n",
       "45256                         156.0                        NaN   \n",
       "67206                           NaN                        1.0   \n",
       "188                             NaN                       26.0   \n",
       "828                             5.0                       60.0   \n",
       "20108                         228.0                       12.0   \n",
       "50650                           2.0                        0.0   \n",
       "\n",
       "       Unique_Health_Camp_Per_Patient  Unique_Patient_Per_HealthCamp  \\\n",
       "4798                               11                           3809   \n",
       "37990                              11                           3517   \n",
       "63532                              11                           2624   \n",
       "62517                               2                           1992   \n",
       "45256                               8                           3564   \n",
       "67206                               2                           2303   \n",
       "188                                 4                           2624   \n",
       "828                                 6                           1993   \n",
       "20108                              15                           3823   \n",
       "50650                              15                           6543   \n",
       "\n",
       "       Unique_Year_Per_Patient  Unique_Months_Per_Patient  \\\n",
       "4798                       2.0                        6.0   \n",
       "37990                      3.0                        8.0   \n",
       "63532                      3.0                        7.0   \n",
       "62517                      1.0                        2.0   \n",
       "45256                      2.0                        5.0   \n",
       "67206                      1.0                        1.0   \n",
       "188                        2.0                        3.0   \n",
       "828                        1.0                        3.0   \n",
       "20108                      3.0                        4.0   \n",
       "50650                      2.0                        7.0   \n",
       "\n",
       "       Unique_Day_Per_Patient  \n",
       "4798                      7.0  \n",
       "37990                     8.0  \n",
       "63532                     8.0  \n",
       "62517                     2.0  \n",
       "45256                     7.0  \n",
       "67206                     2.0  \n",
       "188                       4.0  \n",
       "828                       6.0  \n",
       "20108                    10.0  \n",
       "50650                    10.0  "
      ]
     },
     "execution_count": 37,
     "metadata": {},
     "output_type": "execute_result"
    }
   ],
   "source": [
    "Train.sample(10)"
   ]
  },
  {
   "cell_type": "markdown",
   "metadata": {},
   "source": [
    "<a id=section402></a>\n",
    "## 4.2 Feature Engineering of Test"
   ]
  },
  {
   "cell_type": "markdown",
   "metadata": {},
   "source": [
    "### a."
   ]
  },
  {
   "cell_type": "code",
   "execution_count": 38,
   "metadata": {},
   "outputs": [],
   "source": [
    "for col in ['Patient_ID','Health_Camp_ID']:\n",
    "    Test[col]=  Test[col].astype('str')"
   ]
  },
  {
   "cell_type": "markdown",
   "metadata": {},
   "source": [
    "### b."
   ]
  },
  {
   "cell_type": "code",
   "execution_count": 39,
   "metadata": {},
   "outputs": [],
   "source": [
    "Test['Registration_Date']=pd.to_datetime(Test['Registration_Date'])\n",
    "Test.sort_values(by=['Patient_ID','Registration_Date'],inplace=True)"
   ]
  },
  {
   "cell_type": "code",
   "execution_count": 40,
   "metadata": {},
   "outputs": [
    {
     "data": {
      "text/html": [
       "<div>\n",
       "<style scoped>\n",
       "    .dataframe tbody tr th:only-of-type {\n",
       "        vertical-align: middle;\n",
       "    }\n",
       "\n",
       "    .dataframe tbody tr th {\n",
       "        vertical-align: top;\n",
       "    }\n",
       "\n",
       "    .dataframe thead th {\n",
       "        text-align: right;\n",
       "    }\n",
       "</style>\n",
       "<table border=\"1\" class=\"dataframe\">\n",
       "  <thead>\n",
       "    <tr style=\"text-align: right;\">\n",
       "      <th></th>\n",
       "      <th>Patient_ID</th>\n",
       "      <th>Health_Camp_ID</th>\n",
       "      <th>Registration_Date</th>\n",
       "      <th>Var1</th>\n",
       "      <th>Var2</th>\n",
       "      <th>Var3</th>\n",
       "      <th>Var4</th>\n",
       "      <th>Var5</th>\n",
       "    </tr>\n",
       "  </thead>\n",
       "  <tbody>\n",
       "    <tr>\n",
       "      <th>6622</th>\n",
       "      <td>485678</td>\n",
       "      <td>6551</td>\n",
       "      <td>2006-11-13</td>\n",
       "      <td>0</td>\n",
       "      <td>0</td>\n",
       "      <td>0</td>\n",
       "      <td>0</td>\n",
       "      <td>0</td>\n",
       "    </tr>\n",
       "    <tr>\n",
       "      <th>23226</th>\n",
       "      <td>485683</td>\n",
       "      <td>6584</td>\n",
       "      <td>2006-05-29</td>\n",
       "      <td>0</td>\n",
       "      <td>0</td>\n",
       "      <td>0</td>\n",
       "      <td>0</td>\n",
       "      <td>0</td>\n",
       "    </tr>\n",
       "    <tr>\n",
       "      <th>33201</th>\n",
       "      <td>485683</td>\n",
       "      <td>6582</td>\n",
       "      <td>2006-05-29</td>\n",
       "      <td>0</td>\n",
       "      <td>0</td>\n",
       "      <td>0</td>\n",
       "      <td>0</td>\n",
       "      <td>0</td>\n",
       "    </tr>\n",
       "    <tr>\n",
       "      <th>33364</th>\n",
       "      <td>485683</td>\n",
       "      <td>6548</td>\n",
       "      <td>2006-05-29</td>\n",
       "      <td>0</td>\n",
       "      <td>0</td>\n",
       "      <td>0</td>\n",
       "      <td>0</td>\n",
       "      <td>0</td>\n",
       "    </tr>\n",
       "    <tr>\n",
       "      <th>27702</th>\n",
       "      <td>485683</td>\n",
       "      <td>6583</td>\n",
       "      <td>2006-05-31</td>\n",
       "      <td>0</td>\n",
       "      <td>0</td>\n",
       "      <td>0</td>\n",
       "      <td>0</td>\n",
       "      <td>0</td>\n",
       "    </tr>\n",
       "  </tbody>\n",
       "</table>\n",
       "</div>"
      ],
      "text/plain": [
       "      Patient_ID Health_Camp_ID Registration_Date  Var1  Var2  Var3  Var4  \\\n",
       "6622      485678           6551        2006-11-13     0     0     0     0   \n",
       "23226     485683           6584        2006-05-29     0     0     0     0   \n",
       "33201     485683           6582        2006-05-29     0     0     0     0   \n",
       "33364     485683           6548        2006-05-29     0     0     0     0   \n",
       "27702     485683           6583        2006-05-31     0     0     0     0   \n",
       "\n",
       "       Var5  \n",
       "6622      0  \n",
       "23226     0  \n",
       "33201     0  \n",
       "33364     0  \n",
       "27702     0  "
      ]
     },
     "execution_count": 40,
     "metadata": {},
     "output_type": "execute_result"
    }
   ],
   "source": [
    "Test.head()"
   ]
  },
  {
   "cell_type": "code",
   "execution_count": 41,
   "metadata": {},
   "outputs": [],
   "source": [
    "Test['Registration_Year'] = pd.to_datetime(Test['Registration_Date']).dt.year\n",
    "Test['Registration_Month'] = pd.to_datetime(Test['Registration_Date']).dt.month\n",
    "Test['Registration_Day'] = pd.to_datetime(Test['Registration_Date']).dt.day"
   ]
  },
  {
   "cell_type": "code",
   "execution_count": 42,
   "metadata": {},
   "outputs": [
    {
     "data": {
      "text/html": [
       "<div>\n",
       "<style scoped>\n",
       "    .dataframe tbody tr th:only-of-type {\n",
       "        vertical-align: middle;\n",
       "    }\n",
       "\n",
       "    .dataframe tbody tr th {\n",
       "        vertical-align: top;\n",
       "    }\n",
       "\n",
       "    .dataframe thead th {\n",
       "        text-align: right;\n",
       "    }\n",
       "</style>\n",
       "<table border=\"1\" class=\"dataframe\">\n",
       "  <thead>\n",
       "    <tr style=\"text-align: right;\">\n",
       "      <th></th>\n",
       "      <th>Patient_ID</th>\n",
       "      <th>Health_Camp_ID</th>\n",
       "      <th>Registration_Date</th>\n",
       "      <th>Var1</th>\n",
       "      <th>Var2</th>\n",
       "      <th>Var3</th>\n",
       "      <th>Var4</th>\n",
       "      <th>Var5</th>\n",
       "      <th>Registration_Year</th>\n",
       "      <th>Registration_Month</th>\n",
       "      <th>Registration_Day</th>\n",
       "    </tr>\n",
       "  </thead>\n",
       "  <tbody>\n",
       "    <tr>\n",
       "      <th>21081</th>\n",
       "      <td>503673</td>\n",
       "      <td>6576</td>\n",
       "      <td>2006-11-30</td>\n",
       "      <td>0</td>\n",
       "      <td>0</td>\n",
       "      <td>0</td>\n",
       "      <td>0</td>\n",
       "      <td>0</td>\n",
       "      <td>2006</td>\n",
       "      <td>11</td>\n",
       "      <td>30</td>\n",
       "    </tr>\n",
       "    <tr>\n",
       "      <th>14537</th>\n",
       "      <td>494772</td>\n",
       "      <td>6566</td>\n",
       "      <td>2006-02-07</td>\n",
       "      <td>0</td>\n",
       "      <td>0</td>\n",
       "      <td>0</td>\n",
       "      <td>0</td>\n",
       "      <td>0</td>\n",
       "      <td>2006</td>\n",
       "      <td>2</td>\n",
       "      <td>7</td>\n",
       "    </tr>\n",
       "    <tr>\n",
       "      <th>20621</th>\n",
       "      <td>512612</td>\n",
       "      <td>6573</td>\n",
       "      <td>2006-08-26</td>\n",
       "      <td>79</td>\n",
       "      <td>17</td>\n",
       "      <td>0</td>\n",
       "      <td>1</td>\n",
       "      <td>8</td>\n",
       "      <td>2006</td>\n",
       "      <td>8</td>\n",
       "      <td>26</td>\n",
       "    </tr>\n",
       "    <tr>\n",
       "      <th>18053</th>\n",
       "      <td>504847</td>\n",
       "      <td>6567</td>\n",
       "      <td>2007-01-22</td>\n",
       "      <td>0</td>\n",
       "      <td>0</td>\n",
       "      <td>0</td>\n",
       "      <td>0</td>\n",
       "      <td>0</td>\n",
       "      <td>2007</td>\n",
       "      <td>1</td>\n",
       "      <td>22</td>\n",
       "    </tr>\n",
       "    <tr>\n",
       "      <th>33890</th>\n",
       "      <td>525355</td>\n",
       "      <td>6584</td>\n",
       "      <td>2006-06-28</td>\n",
       "      <td>0</td>\n",
       "      <td>0</td>\n",
       "      <td>0</td>\n",
       "      <td>0</td>\n",
       "      <td>0</td>\n",
       "      <td>2006</td>\n",
       "      <td>6</td>\n",
       "      <td>28</td>\n",
       "    </tr>\n",
       "  </tbody>\n",
       "</table>\n",
       "</div>"
      ],
      "text/plain": [
       "      Patient_ID Health_Camp_ID Registration_Date  Var1  Var2  Var3  Var4  \\\n",
       "21081     503673           6576        2006-11-30     0     0     0     0   \n",
       "14537     494772           6566        2006-02-07     0     0     0     0   \n",
       "20621     512612           6573        2006-08-26    79    17     0     1   \n",
       "18053     504847           6567        2007-01-22     0     0     0     0   \n",
       "33890     525355           6584        2006-06-28     0     0     0     0   \n",
       "\n",
       "       Var5  Registration_Year  Registration_Month  Registration_Day  \n",
       "21081     0               2006                  11                30  \n",
       "14537     0               2006                   2                 7  \n",
       "20621     8               2006                   8                26  \n",
       "18053     0               2007                   1                22  \n",
       "33890     0               2006                   6                28  "
      ]
     },
     "execution_count": 42,
     "metadata": {},
     "output_type": "execute_result"
    }
   ],
   "source": [
    "Test.sample(5)"
   ]
  },
  {
   "cell_type": "markdown",
   "metadata": {},
   "source": [
    "### c."
   ]
  },
  {
   "cell_type": "code",
   "execution_count": 43,
   "metadata": {},
   "outputs": [],
   "source": [
    "Test['Days_Since_Last_Registration'] = Test.groupby('Patient_ID')['Registration_Date'].diff().apply(lambda x: x.days)\n",
    "Test['Days_To_Next_Registration'] = Test.groupby('Patient_ID')['Registration_Date'].diff(-1) * (-1) / np.timedelta64(1, 'D')       \n",
    "Test.reset_index(drop=True,inplace=True)"
   ]
  },
  {
   "cell_type": "markdown",
   "metadata": {},
   "source": [
    "### d."
   ]
  },
  {
   "cell_type": "code",
   "execution_count": 44,
   "metadata": {},
   "outputs": [],
   "source": [
    "Test['Unique_Health_Camp_Per_Patient']=Test.groupby(['Patient_ID'])['Health_Camp_ID'].transform('nunique')\n",
    "Test['Unique_Patient_Per_HealthCamp']=Test.groupby(['Health_Camp_ID'])['Patient_ID'].transform('nunique')\n",
    "Test['Unique_Year_Per_Patient']=Test.groupby(['Patient_ID'])['Registration_Year'].transform('nunique')\n",
    "Test['Unique_Months_Per_Patient']=Test.groupby(['Patient_ID'])['Registration_Month'].transform('nunique')\n",
    "Test['Unique_Day_Per_Patient']=Test.groupby(['Patient_ID'])['Registration_Day'].transform('nunique')"
   ]
  },
  {
   "cell_type": "code",
   "execution_count": 45,
   "metadata": {},
   "outputs": [
    {
     "data": {
      "text/html": [
       "<div>\n",
       "<style scoped>\n",
       "    .dataframe tbody tr th:only-of-type {\n",
       "        vertical-align: middle;\n",
       "    }\n",
       "\n",
       "    .dataframe tbody tr th {\n",
       "        vertical-align: top;\n",
       "    }\n",
       "\n",
       "    .dataframe thead th {\n",
       "        text-align: right;\n",
       "    }\n",
       "</style>\n",
       "<table border=\"1\" class=\"dataframe\">\n",
       "  <thead>\n",
       "    <tr style=\"text-align: right;\">\n",
       "      <th></th>\n",
       "      <th>Patient_ID</th>\n",
       "      <th>Health_Camp_ID</th>\n",
       "      <th>Registration_Date</th>\n",
       "      <th>Var1</th>\n",
       "      <th>Var2</th>\n",
       "      <th>Var3</th>\n",
       "      <th>Var4</th>\n",
       "      <th>Var5</th>\n",
       "      <th>Registration_Year</th>\n",
       "      <th>Registration_Month</th>\n",
       "      <th>Registration_Day</th>\n",
       "      <th>Days_Since_Last_Registration</th>\n",
       "      <th>Days_To_Next_Registration</th>\n",
       "      <th>Unique_Health_Camp_Per_Patient</th>\n",
       "      <th>Unique_Patient_Per_HealthCamp</th>\n",
       "      <th>Unique_Year_Per_Patient</th>\n",
       "      <th>Unique_Months_Per_Patient</th>\n",
       "      <th>Unique_Day_Per_Patient</th>\n",
       "    </tr>\n",
       "  </thead>\n",
       "  <tbody>\n",
       "    <tr>\n",
       "      <th>33407</th>\n",
       "      <td>526308</td>\n",
       "      <td>6576</td>\n",
       "      <td>2006-11-28</td>\n",
       "      <td>0</td>\n",
       "      <td>0</td>\n",
       "      <td>0</td>\n",
       "      <td>0</td>\n",
       "      <td>0</td>\n",
       "      <td>2006</td>\n",
       "      <td>11</td>\n",
       "      <td>28</td>\n",
       "      <td>NaN</td>\n",
       "      <td>61.0</td>\n",
       "      <td>2</td>\n",
       "      <td>2739</td>\n",
       "      <td>2</td>\n",
       "      <td>2</td>\n",
       "      <td>1</td>\n",
       "    </tr>\n",
       "    <tr>\n",
       "      <th>29663</th>\n",
       "      <td>521878</td>\n",
       "      <td>6556</td>\n",
       "      <td>2006-11-07</td>\n",
       "      <td>0</td>\n",
       "      <td>0</td>\n",
       "      <td>0</td>\n",
       "      <td>0</td>\n",
       "      <td>0</td>\n",
       "      <td>2006</td>\n",
       "      <td>11</td>\n",
       "      <td>7</td>\n",
       "      <td>1.0</td>\n",
       "      <td>1.0</td>\n",
       "      <td>4</td>\n",
       "      <td>2419</td>\n",
       "      <td>1</td>\n",
       "      <td>2</td>\n",
       "      <td>4</td>\n",
       "    </tr>\n",
       "    <tr>\n",
       "      <th>7887</th>\n",
       "      <td>494991</td>\n",
       "      <td>6566</td>\n",
       "      <td>2006-04-03</td>\n",
       "      <td>0</td>\n",
       "      <td>0</td>\n",
       "      <td>0</td>\n",
       "      <td>0</td>\n",
       "      <td>0</td>\n",
       "      <td>2006</td>\n",
       "      <td>4</td>\n",
       "      <td>3</td>\n",
       "      <td>NaN</td>\n",
       "      <td>51.0</td>\n",
       "      <td>13</td>\n",
       "      <td>4061</td>\n",
       "      <td>1</td>\n",
       "      <td>6</td>\n",
       "      <td>10</td>\n",
       "    </tr>\n",
       "    <tr>\n",
       "      <th>21535</th>\n",
       "      <td>511840</td>\n",
       "      <td>6579</td>\n",
       "      <td>2006-09-18</td>\n",
       "      <td>0</td>\n",
       "      <td>0</td>\n",
       "      <td>0</td>\n",
       "      <td>0</td>\n",
       "      <td>0</td>\n",
       "      <td>2006</td>\n",
       "      <td>9</td>\n",
       "      <td>18</td>\n",
       "      <td>0.0</td>\n",
       "      <td>NaN</td>\n",
       "      <td>6</td>\n",
       "      <td>1981</td>\n",
       "      <td>1</td>\n",
       "      <td>2</td>\n",
       "      <td>3</td>\n",
       "    </tr>\n",
       "    <tr>\n",
       "      <th>6015</th>\n",
       "      <td>492705</td>\n",
       "      <td>6584</td>\n",
       "      <td>2006-08-06</td>\n",
       "      <td>0</td>\n",
       "      <td>0</td>\n",
       "      <td>0</td>\n",
       "      <td>0</td>\n",
       "      <td>0</td>\n",
       "      <td>2006</td>\n",
       "      <td>8</td>\n",
       "      <td>6</td>\n",
       "      <td>NaN</td>\n",
       "      <td>NaN</td>\n",
       "      <td>1</td>\n",
       "      <td>3041</td>\n",
       "      <td>1</td>\n",
       "      <td>1</td>\n",
       "      <td>1</td>\n",
       "    </tr>\n",
       "    <tr>\n",
       "      <th>19968</th>\n",
       "      <td>509951</td>\n",
       "      <td>6582</td>\n",
       "      <td>2007-01-15</td>\n",
       "      <td>0</td>\n",
       "      <td>0</td>\n",
       "      <td>0</td>\n",
       "      <td>0</td>\n",
       "      <td>0</td>\n",
       "      <td>2007</td>\n",
       "      <td>1</td>\n",
       "      <td>15</td>\n",
       "      <td>0.0</td>\n",
       "      <td>NaN</td>\n",
       "      <td>2</td>\n",
       "      <td>2763</td>\n",
       "      <td>1</td>\n",
       "      <td>1</td>\n",
       "      <td>1</td>\n",
       "    </tr>\n",
       "    <tr>\n",
       "      <th>14227</th>\n",
       "      <td>502803</td>\n",
       "      <td>6579</td>\n",
       "      <td>2006-08-07</td>\n",
       "      <td>1</td>\n",
       "      <td>0</td>\n",
       "      <td>0</td>\n",
       "      <td>0</td>\n",
       "      <td>2</td>\n",
       "      <td>2006</td>\n",
       "      <td>8</td>\n",
       "      <td>7</td>\n",
       "      <td>NaN</td>\n",
       "      <td>33.0</td>\n",
       "      <td>2</td>\n",
       "      <td>1981</td>\n",
       "      <td>1</td>\n",
       "      <td>2</td>\n",
       "      <td>2</td>\n",
       "    </tr>\n",
       "    <tr>\n",
       "      <th>10503</th>\n",
       "      <td>498180</td>\n",
       "      <td>6566</td>\n",
       "      <td>2006-04-12</td>\n",
       "      <td>4</td>\n",
       "      <td>0</td>\n",
       "      <td>0</td>\n",
       "      <td>0</td>\n",
       "      <td>0</td>\n",
       "      <td>2006</td>\n",
       "      <td>4</td>\n",
       "      <td>12</td>\n",
       "      <td>NaN</td>\n",
       "      <td>66.0</td>\n",
       "      <td>8</td>\n",
       "      <td>4061</td>\n",
       "      <td>2</td>\n",
       "      <td>6</td>\n",
       "      <td>6</td>\n",
       "    </tr>\n",
       "    <tr>\n",
       "      <th>499</th>\n",
       "      <td>486278</td>\n",
       "      <td>6583</td>\n",
       "      <td>2006-06-16</td>\n",
       "      <td>0</td>\n",
       "      <td>0</td>\n",
       "      <td>0</td>\n",
       "      <td>0</td>\n",
       "      <td>0</td>\n",
       "      <td>2006</td>\n",
       "      <td>6</td>\n",
       "      <td>16</td>\n",
       "      <td>NaN</td>\n",
       "      <td>53.0</td>\n",
       "      <td>2</td>\n",
       "      <td>3026</td>\n",
       "      <td>1</td>\n",
       "      <td>2</td>\n",
       "      <td>2</td>\n",
       "    </tr>\n",
       "    <tr>\n",
       "      <th>10548</th>\n",
       "      <td>498265</td>\n",
       "      <td>6583</td>\n",
       "      <td>2006-07-09</td>\n",
       "      <td>0</td>\n",
       "      <td>0</td>\n",
       "      <td>0</td>\n",
       "      <td>0</td>\n",
       "      <td>0</td>\n",
       "      <td>2006</td>\n",
       "      <td>7</td>\n",
       "      <td>9</td>\n",
       "      <td>NaN</td>\n",
       "      <td>0.0</td>\n",
       "      <td>3</td>\n",
       "      <td>3026</td>\n",
       "      <td>1</td>\n",
       "      <td>2</td>\n",
       "      <td>2</td>\n",
       "    </tr>\n",
       "  </tbody>\n",
       "</table>\n",
       "</div>"
      ],
      "text/plain": [
       "      Patient_ID Health_Camp_ID Registration_Date  Var1  Var2  Var3  Var4  \\\n",
       "33407     526308           6576        2006-11-28     0     0     0     0   \n",
       "29663     521878           6556        2006-11-07     0     0     0     0   \n",
       "7887      494991           6566        2006-04-03     0     0     0     0   \n",
       "21535     511840           6579        2006-09-18     0     0     0     0   \n",
       "6015      492705           6584        2006-08-06     0     0     0     0   \n",
       "19968     509951           6582        2007-01-15     0     0     0     0   \n",
       "14227     502803           6579        2006-08-07     1     0     0     0   \n",
       "10503     498180           6566        2006-04-12     4     0     0     0   \n",
       "499       486278           6583        2006-06-16     0     0     0     0   \n",
       "10548     498265           6583        2006-07-09     0     0     0     0   \n",
       "\n",
       "       Var5  Registration_Year  Registration_Month  Registration_Day  \\\n",
       "33407     0               2006                  11                28   \n",
       "29663     0               2006                  11                 7   \n",
       "7887      0               2006                   4                 3   \n",
       "21535     0               2006                   9                18   \n",
       "6015      0               2006                   8                 6   \n",
       "19968     0               2007                   1                15   \n",
       "14227     2               2006                   8                 7   \n",
       "10503     0               2006                   4                12   \n",
       "499       0               2006                   6                16   \n",
       "10548     0               2006                   7                 9   \n",
       "\n",
       "       Days_Since_Last_Registration  Days_To_Next_Registration  \\\n",
       "33407                           NaN                       61.0   \n",
       "29663                           1.0                        1.0   \n",
       "7887                            NaN                       51.0   \n",
       "21535                           0.0                        NaN   \n",
       "6015                            NaN                        NaN   \n",
       "19968                           0.0                        NaN   \n",
       "14227                           NaN                       33.0   \n",
       "10503                           NaN                       66.0   \n",
       "499                             NaN                       53.0   \n",
       "10548                           NaN                        0.0   \n",
       "\n",
       "       Unique_Health_Camp_Per_Patient  Unique_Patient_Per_HealthCamp  \\\n",
       "33407                               2                           2739   \n",
       "29663                               4                           2419   \n",
       "7887                               13                           4061   \n",
       "21535                               6                           1981   \n",
       "6015                                1                           3041   \n",
       "19968                               2                           2763   \n",
       "14227                               2                           1981   \n",
       "10503                               8                           4061   \n",
       "499                                 2                           3026   \n",
       "10548                               3                           3026   \n",
       "\n",
       "       Unique_Year_Per_Patient  Unique_Months_Per_Patient  \\\n",
       "33407                        2                          2   \n",
       "29663                        1                          2   \n",
       "7887                         1                          6   \n",
       "21535                        1                          2   \n",
       "6015                         1                          1   \n",
       "19968                        1                          1   \n",
       "14227                        1                          2   \n",
       "10503                        2                          6   \n",
       "499                          1                          2   \n",
       "10548                        1                          2   \n",
       "\n",
       "       Unique_Day_Per_Patient  \n",
       "33407                       1  \n",
       "29663                       4  \n",
       "7887                       10  \n",
       "21535                       3  \n",
       "6015                        1  \n",
       "19968                       1  \n",
       "14227                       2  \n",
       "10503                       6  \n",
       "499                         2  \n",
       "10548                       2  "
      ]
     },
     "execution_count": 45,
     "metadata": {},
     "output_type": "execute_result"
    }
   ],
   "source": [
    "Test.sample(10)"
   ]
  },
  {
   "cell_type": "markdown",
   "metadata": {},
   "source": [
    "<a id=section403></a>\n",
    "## 4.3 Feature Engineering of Patient Profile"
   ]
  },
  {
   "cell_type": "markdown",
   "metadata": {},
   "source": [
    "### a."
   ]
  },
  {
   "cell_type": "code",
   "execution_count": 46,
   "metadata": {},
   "outputs": [],
   "source": [
    "Patient_Profile['Patient_ID'] =  Patient_Profile['Patient_ID'].astype('str')"
   ]
  },
  {
   "cell_type": "markdown",
   "metadata": {},
   "source": [
    "### b."
   ]
  },
  {
   "cell_type": "code",
   "execution_count": 47,
   "metadata": {},
   "outputs": [],
   "source": [
    "Patient_Profile['Total_Online_Activity_Score'] = Patient_Profile['Online_Follower']+Patient_Profile['LinkedIn_Shared']+Patient_Profile['Twitter_Shared']+Patient_Profile['Facebook_Shared']"
   ]
  },
  {
   "cell_type": "code",
   "execution_count": 48,
   "metadata": {},
   "outputs": [],
   "source": [
    "Patient_Profile.drop(['Online_Follower', 'LinkedIn_Shared', 'Facebook_Shared' , 'Twitter_Shared'], axis = 1, inplace = True)"
   ]
  },
  {
   "cell_type": "code",
   "execution_count": 49,
   "metadata": {
    "scrolled": false
   },
   "outputs": [
    {
     "data": {
      "text/html": [
       "<div>\n",
       "<style scoped>\n",
       "    .dataframe tbody tr th:only-of-type {\n",
       "        vertical-align: middle;\n",
       "    }\n",
       "\n",
       "    .dataframe tbody tr th {\n",
       "        vertical-align: top;\n",
       "    }\n",
       "\n",
       "    .dataframe thead th {\n",
       "        text-align: right;\n",
       "    }\n",
       "</style>\n",
       "<table border=\"1\" class=\"dataframe\">\n",
       "  <thead>\n",
       "    <tr style=\"text-align: right;\">\n",
       "      <th></th>\n",
       "      <th>Patient_ID</th>\n",
       "      <th>Income</th>\n",
       "      <th>Education_Score</th>\n",
       "      <th>Age</th>\n",
       "      <th>First_Interaction</th>\n",
       "      <th>City_Type</th>\n",
       "      <th>Employer_Category</th>\n",
       "      <th>Total_Online_Activity_Score</th>\n",
       "    </tr>\n",
       "  </thead>\n",
       "  <tbody>\n",
       "    <tr>\n",
       "      <th>24320</th>\n",
       "      <td>495547</td>\n",
       "      <td>None</td>\n",
       "      <td>None</td>\n",
       "      <td>None</td>\n",
       "      <td>09-Jan-07</td>\n",
       "      <td>NaN</td>\n",
       "      <td>NaN</td>\n",
       "      <td>0</td>\n",
       "    </tr>\n",
       "    <tr>\n",
       "      <th>15502</th>\n",
       "      <td>525596</td>\n",
       "      <td>None</td>\n",
       "      <td>None</td>\n",
       "      <td>None</td>\n",
       "      <td>07-Dec-05</td>\n",
       "      <td>D</td>\n",
       "      <td>NaN</td>\n",
       "      <td>0</td>\n",
       "    </tr>\n",
       "    <tr>\n",
       "      <th>184</th>\n",
       "      <td>524768</td>\n",
       "      <td>0</td>\n",
       "      <td>None</td>\n",
       "      <td>50</td>\n",
       "      <td>08-Feb-03</td>\n",
       "      <td>A</td>\n",
       "      <td>Consulting</td>\n",
       "      <td>2</td>\n",
       "    </tr>\n",
       "    <tr>\n",
       "      <th>11016</th>\n",
       "      <td>513991</td>\n",
       "      <td>None</td>\n",
       "      <td>None</td>\n",
       "      <td>None</td>\n",
       "      <td>08-May-05</td>\n",
       "      <td>NaN</td>\n",
       "      <td>NaN</td>\n",
       "      <td>0</td>\n",
       "    </tr>\n",
       "    <tr>\n",
       "      <th>6758</th>\n",
       "      <td>496157</td>\n",
       "      <td>0</td>\n",
       "      <td>None</td>\n",
       "      <td>36</td>\n",
       "      <td>30-Nov-04</td>\n",
       "      <td>B</td>\n",
       "      <td>Technology</td>\n",
       "      <td>4</td>\n",
       "    </tr>\n",
       "  </tbody>\n",
       "</table>\n",
       "</div>"
      ],
      "text/plain": [
       "      Patient_ID Income Education_Score   Age First_Interaction City_Type  \\\n",
       "24320     495547   None            None  None         09-Jan-07       NaN   \n",
       "15502     525596   None            None  None         07-Dec-05         D   \n",
       "184       524768      0            None    50         08-Feb-03         A   \n",
       "11016     513991   None            None  None         08-May-05       NaN   \n",
       "6758      496157      0            None    36         30-Nov-04         B   \n",
       "\n",
       "      Employer_Category  Total_Online_Activity_Score  \n",
       "24320               NaN                            0  \n",
       "15502               NaN                            0  \n",
       "184          Consulting                            2  \n",
       "11016               NaN                            0  \n",
       "6758         Technology                            4  "
      ]
     },
     "execution_count": 49,
     "metadata": {},
     "output_type": "execute_result"
    }
   ],
   "source": [
    "Patient_Profile.sample(5)"
   ]
  },
  {
   "cell_type": "markdown",
   "metadata": {},
   "source": [
    "### c."
   ]
  },
  {
   "cell_type": "code",
   "execution_count": 50,
   "metadata": {},
   "outputs": [],
   "source": [
    "Patient_Profile[['Income', 'Education_Score', 'Age']] = Patient_Profile[['Income', 'Education_Score', 'Age']].apply(lambda x: x.str.replace('None', 'NaN').astype('float'))"
   ]
  },
  {
   "cell_type": "code",
   "execution_count": 51,
   "metadata": {
    "scrolled": true
   },
   "outputs": [
    {
     "data": {
      "text/html": [
       "<div>\n",
       "<style scoped>\n",
       "    .dataframe tbody tr th:only-of-type {\n",
       "        vertical-align: middle;\n",
       "    }\n",
       "\n",
       "    .dataframe tbody tr th {\n",
       "        vertical-align: top;\n",
       "    }\n",
       "\n",
       "    .dataframe thead th {\n",
       "        text-align: right;\n",
       "    }\n",
       "</style>\n",
       "<table border=\"1\" class=\"dataframe\">\n",
       "  <thead>\n",
       "    <tr style=\"text-align: right;\">\n",
       "      <th></th>\n",
       "      <th>Patient_ID</th>\n",
       "      <th>Income</th>\n",
       "      <th>Education_Score</th>\n",
       "      <th>Age</th>\n",
       "      <th>First_Interaction</th>\n",
       "      <th>City_Type</th>\n",
       "      <th>Employer_Category</th>\n",
       "      <th>Total_Online_Activity_Score</th>\n",
       "    </tr>\n",
       "  </thead>\n",
       "  <tbody>\n",
       "    <tr>\n",
       "      <th>17087</th>\n",
       "      <td>500883</td>\n",
       "      <td>NaN</td>\n",
       "      <td>NaN</td>\n",
       "      <td>NaN</td>\n",
       "      <td>25-Mar-06</td>\n",
       "      <td>NaN</td>\n",
       "      <td>NaN</td>\n",
       "      <td>0</td>\n",
       "    </tr>\n",
       "    <tr>\n",
       "      <th>12884</th>\n",
       "      <td>492675</td>\n",
       "      <td>NaN</td>\n",
       "      <td>NaN</td>\n",
       "      <td>NaN</td>\n",
       "      <td>18-Jun-05</td>\n",
       "      <td>I</td>\n",
       "      <td>NaN</td>\n",
       "      <td>0</td>\n",
       "    </tr>\n",
       "    <tr>\n",
       "      <th>21640</th>\n",
       "      <td>528336</td>\n",
       "      <td>NaN</td>\n",
       "      <td>NaN</td>\n",
       "      <td>NaN</td>\n",
       "      <td>29-Aug-06</td>\n",
       "      <td>NaN</td>\n",
       "      <td>NaN</td>\n",
       "      <td>0</td>\n",
       "    </tr>\n",
       "    <tr>\n",
       "      <th>13487</th>\n",
       "      <td>500052</td>\n",
       "      <td>NaN</td>\n",
       "      <td>NaN</td>\n",
       "      <td>NaN</td>\n",
       "      <td>12-Jul-05</td>\n",
       "      <td>D</td>\n",
       "      <td>NaN</td>\n",
       "      <td>0</td>\n",
       "    </tr>\n",
       "    <tr>\n",
       "      <th>21448</th>\n",
       "      <td>494890</td>\n",
       "      <td>NaN</td>\n",
       "      <td>NaN</td>\n",
       "      <td>NaN</td>\n",
       "      <td>18-Aug-06</td>\n",
       "      <td>NaN</td>\n",
       "      <td>NaN</td>\n",
       "      <td>0</td>\n",
       "    </tr>\n",
       "  </tbody>\n",
       "</table>\n",
       "</div>"
      ],
      "text/plain": [
       "      Patient_ID  Income  Education_Score  Age First_Interaction City_Type  \\\n",
       "17087     500883     NaN              NaN  NaN         25-Mar-06       NaN   \n",
       "12884     492675     NaN              NaN  NaN         18-Jun-05         I   \n",
       "21640     528336     NaN              NaN  NaN         29-Aug-06       NaN   \n",
       "13487     500052     NaN              NaN  NaN         12-Jul-05         D   \n",
       "21448     494890     NaN              NaN  NaN         18-Aug-06       NaN   \n",
       "\n",
       "      Employer_Category  Total_Online_Activity_Score  \n",
       "17087               NaN                            0  \n",
       "12884               NaN                            0  \n",
       "21640               NaN                            0  \n",
       "13487               NaN                            0  \n",
       "21448               NaN                            0  "
      ]
     },
     "execution_count": 51,
     "metadata": {},
     "output_type": "execute_result"
    }
   ],
   "source": [
    "Patient_Profile.sample(5)"
   ]
  },
  {
   "cell_type": "markdown",
   "metadata": {},
   "source": [
    "### d."
   ]
  },
  {
   "cell_type": "code",
   "execution_count": 52,
   "metadata": {},
   "outputs": [],
   "source": [
    "from sklearn.preprocessing import LabelEncoder\n",
    "label_encoder = LabelEncoder()\n",
    "for col in ['City_Type','Employer_Category']:\n",
    "    Patient_Profile[col]=  Patient_Profile[col].astype('str')\n",
    "    Patient_Profile[col]= label_encoder.fit_transform(Patient_Profile[col])"
   ]
  },
  {
   "cell_type": "code",
   "execution_count": 53,
   "metadata": {
    "scrolled": true
   },
   "outputs": [
    {
     "data": {
      "text/html": [
       "<div>\n",
       "<style scoped>\n",
       "    .dataframe tbody tr th:only-of-type {\n",
       "        vertical-align: middle;\n",
       "    }\n",
       "\n",
       "    .dataframe tbody tr th {\n",
       "        vertical-align: top;\n",
       "    }\n",
       "\n",
       "    .dataframe thead th {\n",
       "        text-align: right;\n",
       "    }\n",
       "</style>\n",
       "<table border=\"1\" class=\"dataframe\">\n",
       "  <thead>\n",
       "    <tr style=\"text-align: right;\">\n",
       "      <th></th>\n",
       "      <th>Patient_ID</th>\n",
       "      <th>Income</th>\n",
       "      <th>Education_Score</th>\n",
       "      <th>Age</th>\n",
       "      <th>First_Interaction</th>\n",
       "      <th>City_Type</th>\n",
       "      <th>Employer_Category</th>\n",
       "      <th>Total_Online_Activity_Score</th>\n",
       "    </tr>\n",
       "  </thead>\n",
       "  <tbody>\n",
       "    <tr>\n",
       "      <th>16617</th>\n",
       "      <td>518979</td>\n",
       "      <td>NaN</td>\n",
       "      <td>NaN</td>\n",
       "      <td>NaN</td>\n",
       "      <td>07-Mar-06</td>\n",
       "      <td>9</td>\n",
       "      <td>14</td>\n",
       "      <td>0</td>\n",
       "    </tr>\n",
       "    <tr>\n",
       "      <th>35779</th>\n",
       "      <td>509566</td>\n",
       "      <td>NaN</td>\n",
       "      <td>NaN</td>\n",
       "      <td>NaN</td>\n",
       "      <td>27-Jul-06</td>\n",
       "      <td>9</td>\n",
       "      <td>14</td>\n",
       "      <td>0</td>\n",
       "    </tr>\n",
       "    <tr>\n",
       "      <th>35165</th>\n",
       "      <td>516940</td>\n",
       "      <td>NaN</td>\n",
       "      <td>NaN</td>\n",
       "      <td>NaN</td>\n",
       "      <td>23-Jun-06</td>\n",
       "      <td>9</td>\n",
       "      <td>14</td>\n",
       "      <td>0</td>\n",
       "    </tr>\n",
       "    <tr>\n",
       "      <th>25947</th>\n",
       "      <td>525791</td>\n",
       "      <td>NaN</td>\n",
       "      <td>NaN</td>\n",
       "      <td>NaN</td>\n",
       "      <td>22-Feb-03</td>\n",
       "      <td>7</td>\n",
       "      <td>14</td>\n",
       "      <td>0</td>\n",
       "    </tr>\n",
       "    <tr>\n",
       "      <th>3886</th>\n",
       "      <td>489517</td>\n",
       "      <td>NaN</td>\n",
       "      <td>NaN</td>\n",
       "      <td>NaN</td>\n",
       "      <td>05-May-04</td>\n",
       "      <td>8</td>\n",
       "      <td>14</td>\n",
       "      <td>0</td>\n",
       "    </tr>\n",
       "  </tbody>\n",
       "</table>\n",
       "</div>"
      ],
      "text/plain": [
       "      Patient_ID  Income  Education_Score  Age First_Interaction  City_Type  \\\n",
       "16617     518979     NaN              NaN  NaN         07-Mar-06          9   \n",
       "35779     509566     NaN              NaN  NaN         27-Jul-06          9   \n",
       "35165     516940     NaN              NaN  NaN         23-Jun-06          9   \n",
       "25947     525791     NaN              NaN  NaN         22-Feb-03          7   \n",
       "3886      489517     NaN              NaN  NaN         05-May-04          8   \n",
       "\n",
       "       Employer_Category  Total_Online_Activity_Score  \n",
       "16617                 14                            0  \n",
       "35779                 14                            0  \n",
       "35165                 14                            0  \n",
       "25947                 14                            0  \n",
       "3886                  14                            0  "
      ]
     },
     "execution_count": 53,
     "metadata": {},
     "output_type": "execute_result"
    }
   ],
   "source": [
    "Patient_Profile.sample(5)"
   ]
  },
  {
   "cell_type": "markdown",
   "metadata": {},
   "source": [
    "### e."
   ]
  },
  {
   "cell_type": "code",
   "execution_count": 54,
   "metadata": {},
   "outputs": [],
   "source": [
    "Patient_Profile['First_Interaction_Year'] = pd.to_datetime(Patient_Profile['First_Interaction']).dt.year\n",
    "Patient_Profile['First_Interaction_Month'] = pd.to_datetime(Patient_Profile['First_Interaction']).dt.month\n",
    "Patient_Profile['First_Interaction_Day'] = pd.to_datetime(Patient_Profile['First_Interaction']).dt.day"
   ]
  },
  {
   "cell_type": "code",
   "execution_count": 55,
   "metadata": {
    "scrolled": true
   },
   "outputs": [
    {
     "data": {
      "text/html": [
       "<div>\n",
       "<style scoped>\n",
       "    .dataframe tbody tr th:only-of-type {\n",
       "        vertical-align: middle;\n",
       "    }\n",
       "\n",
       "    .dataframe tbody tr th {\n",
       "        vertical-align: top;\n",
       "    }\n",
       "\n",
       "    .dataframe thead th {\n",
       "        text-align: right;\n",
       "    }\n",
       "</style>\n",
       "<table border=\"1\" class=\"dataframe\">\n",
       "  <thead>\n",
       "    <tr style=\"text-align: right;\">\n",
       "      <th></th>\n",
       "      <th>Patient_ID</th>\n",
       "      <th>Income</th>\n",
       "      <th>Education_Score</th>\n",
       "      <th>Age</th>\n",
       "      <th>First_Interaction</th>\n",
       "      <th>City_Type</th>\n",
       "      <th>Employer_Category</th>\n",
       "      <th>Total_Online_Activity_Score</th>\n",
       "      <th>First_Interaction_Year</th>\n",
       "      <th>First_Interaction_Month</th>\n",
       "      <th>First_Interaction_Day</th>\n",
       "    </tr>\n",
       "  </thead>\n",
       "  <tbody>\n",
       "    <tr>\n",
       "      <th>25041</th>\n",
       "      <td>508685</td>\n",
       "      <td>NaN</td>\n",
       "      <td>NaN</td>\n",
       "      <td>NaN</td>\n",
       "      <td>17-Jul-03</td>\n",
       "      <td>9</td>\n",
       "      <td>14</td>\n",
       "      <td>0</td>\n",
       "      <td>2003</td>\n",
       "      <td>7</td>\n",
       "      <td>17</td>\n",
       "    </tr>\n",
       "    <tr>\n",
       "      <th>17798</th>\n",
       "      <td>489107</td>\n",
       "      <td>NaN</td>\n",
       "      <td>NaN</td>\n",
       "      <td>NaN</td>\n",
       "      <td>04-Apr-06</td>\n",
       "      <td>9</td>\n",
       "      <td>14</td>\n",
       "      <td>0</td>\n",
       "      <td>2006</td>\n",
       "      <td>4</td>\n",
       "      <td>4</td>\n",
       "    </tr>\n",
       "    <tr>\n",
       "      <th>31635</th>\n",
       "      <td>523070</td>\n",
       "      <td>1.0</td>\n",
       "      <td>76.0</td>\n",
       "      <td>40.0</td>\n",
       "      <td>11-Jun-05</td>\n",
       "      <td>2</td>\n",
       "      <td>7</td>\n",
       "      <td>0</td>\n",
       "      <td>2005</td>\n",
       "      <td>6</td>\n",
       "      <td>11</td>\n",
       "    </tr>\n",
       "    <tr>\n",
       "      <th>11800</th>\n",
       "      <td>493527</td>\n",
       "      <td>1.0</td>\n",
       "      <td>86.0</td>\n",
       "      <td>43.0</td>\n",
       "      <td>21-May-05</td>\n",
       "      <td>2</td>\n",
       "      <td>2</td>\n",
       "      <td>0</td>\n",
       "      <td>2005</td>\n",
       "      <td>5</td>\n",
       "      <td>21</td>\n",
       "    </tr>\n",
       "    <tr>\n",
       "      <th>25962</th>\n",
       "      <td>500505</td>\n",
       "      <td>NaN</td>\n",
       "      <td>NaN</td>\n",
       "      <td>NaN</td>\n",
       "      <td>23-Oct-03</td>\n",
       "      <td>3</td>\n",
       "      <td>14</td>\n",
       "      <td>0</td>\n",
       "      <td>2003</td>\n",
       "      <td>10</td>\n",
       "      <td>23</td>\n",
       "    </tr>\n",
       "  </tbody>\n",
       "</table>\n",
       "</div>"
      ],
      "text/plain": [
       "      Patient_ID  Income  Education_Score   Age First_Interaction  City_Type  \\\n",
       "25041     508685     NaN              NaN   NaN         17-Jul-03          9   \n",
       "17798     489107     NaN              NaN   NaN         04-Apr-06          9   \n",
       "31635     523070     1.0             76.0  40.0         11-Jun-05          2   \n",
       "11800     493527     1.0             86.0  43.0         21-May-05          2   \n",
       "25962     500505     NaN              NaN   NaN         23-Oct-03          3   \n",
       "\n",
       "       Employer_Category  Total_Online_Activity_Score  First_Interaction_Year  \\\n",
       "25041                 14                            0                    2003   \n",
       "17798                 14                            0                    2006   \n",
       "31635                  7                            0                    2005   \n",
       "11800                  2                            0                    2005   \n",
       "25962                 14                            0                    2003   \n",
       "\n",
       "       First_Interaction_Month  First_Interaction_Day  \n",
       "25041                        7                     17  \n",
       "17798                        4                      4  \n",
       "31635                        6                     11  \n",
       "11800                        5                     21  \n",
       "25962                       10                     23  "
      ]
     },
     "execution_count": 55,
     "metadata": {},
     "output_type": "execute_result"
    }
   ],
   "source": [
    "Patient_Profile.sample(5)"
   ]
  },
  {
   "cell_type": "markdown",
   "metadata": {},
   "source": [
    "## Merge Train, Test with Patient Profile"
   ]
  },
  {
   "cell_type": "code",
   "execution_count": 56,
   "metadata": {},
   "outputs": [
    {
     "data": {
      "text/plain": [
       "((75278, 18), (35249, 18))"
      ]
     },
     "execution_count": 56,
     "metadata": {},
     "output_type": "execute_result"
    }
   ],
   "source": [
    "Train.shape, Test.shape"
   ]
  },
  {
   "cell_type": "code",
   "execution_count": 57,
   "metadata": {},
   "outputs": [],
   "source": [
    "Train = pd.merge(Train, Patient_Profile, on = 'Patient_ID', how = 'left')\n",
    "Test = pd.merge(Test, Patient_Profile, on = 'Patient_ID', how = 'left')"
   ]
  },
  {
   "cell_type": "code",
   "execution_count": 58,
   "metadata": {
    "scrolled": true
   },
   "outputs": [
    {
     "data": {
      "text/plain": [
       "((75278, 28), (35249, 28))"
      ]
     },
     "execution_count": 58,
     "metadata": {},
     "output_type": "execute_result"
    }
   ],
   "source": [
    "Train.shape, Test.shape"
   ]
  },
  {
   "cell_type": "markdown",
   "metadata": {},
   "source": [
    "## Calculate Target Variable"
   ]
  },
  {
   "cell_type": "code",
   "execution_count": 59,
   "metadata": {},
   "outputs": [],
   "source": [
    "for df in [First_Health_Camp_Attended, Second_Health_Camp_Attended, Third_Health_Camp_Attended, Train]:\n",
    "    df['Id'] = df['Patient_ID'].astype('str') + df['Health_Camp_ID'].astype('str')\n",
    "\n",
    "Third_Health_Camp_Attended = Third_Health_Camp_Attended[Third_Health_Camp_Attended['Number_of_stall_visited'] > 0]\n",
    "\n",
    "All_Patients_In_Camp = pd.Series(First_Health_Camp_Attended['Id'].tolist() + Second_Health_Camp_Attended['Id'].tolist() + Third_Health_Camp_Attended['Id'].tolist()).unique()\n",
    "\n",
    "Train['Target'] = 0\n",
    "Train.loc[Train['Id'].isin(All_Patients_In_Camp), 'Target'] = 1"
   ]
  },
  {
   "cell_type": "code",
   "execution_count": 60,
   "metadata": {
    "scrolled": true
   },
   "outputs": [
    {
     "data": {
      "text/plain": [
       "0    54744\n",
       "1    20534\n",
       "Name: Target, dtype: int64"
      ]
     },
     "execution_count": 60,
     "metadata": {},
     "output_type": "execute_result"
    }
   ],
   "source": [
    "Train['Target'].value_counts()"
   ]
  },
  {
   "cell_type": "code",
   "execution_count": 61,
   "metadata": {},
   "outputs": [
    {
     "data": {
      "text/plain": [
       "((75278, 30), (35249, 28))"
      ]
     },
     "execution_count": 61,
     "metadata": {},
     "output_type": "execute_result"
    }
   ],
   "source": [
    "Train.shape, Test.shape"
   ]
  },
  {
   "cell_type": "markdown",
   "metadata": {},
   "source": [
    "<a id=section404></a>\n",
    "## 4.4 Feature Engineering of Health Camp"
   ]
  },
  {
   "cell_type": "markdown",
   "metadata": {},
   "source": [
    "### a."
   ]
  },
  {
   "cell_type": "code",
   "execution_count": 62,
   "metadata": {},
   "outputs": [],
   "source": [
    "Health_Camp_Detail['Health_Camp_ID'] =  Health_Camp_Detail['Health_Camp_ID'].astype('str')"
   ]
  },
  {
   "cell_type": "markdown",
   "metadata": {},
   "source": [
    "### b."
   ]
  },
  {
   "cell_type": "code",
   "execution_count": 63,
   "metadata": {},
   "outputs": [],
   "source": [
    "def timediff(duration):\n",
    "    duration_in_s = duration.total_seconds()\n",
    "    days = divmod(duration_in_s, 86400)[0]\n",
    "    return days"
   ]
  },
  {
   "cell_type": "code",
   "execution_count": 64,
   "metadata": {},
   "outputs": [],
   "source": [
    "Health_Camp_Detail['Camp_Duration']=pd.to_datetime(Health_Camp_Detail['Camp_End_Date'])-pd.to_datetime(Health_Camp_Detail['Camp_Start_Date'])\n",
    "Health_Camp_Detail['Camp_Duration']=Health_Camp_Detail['Camp_Duration'].apply(timediff)"
   ]
  },
  {
   "cell_type": "code",
   "execution_count": 65,
   "metadata": {},
   "outputs": [],
   "source": [
    "Health_Camp_Detail['Camp_Start_Year'] = pd.to_datetime(Health_Camp_Detail['Camp_Start_Date']).dt.year\n",
    "Health_Camp_Detail['Camp_Start_Month'] = pd.to_datetime(Health_Camp_Detail['Camp_Start_Date']).dt.month\n",
    "Health_Camp_Detail['Camp_Start_Day'] = pd.to_datetime(Health_Camp_Detail['Camp_Start_Date']).dt.day\n",
    "\n",
    "Health_Camp_Detail['Camp_End_Year'] = pd.to_datetime(Health_Camp_Detail['Camp_End_Date']).dt.year\n",
    "Health_Camp_Detail['Camp_End_Month'] = pd.to_datetime(Health_Camp_Detail['Camp_End_Date']).dt.month\n",
    "Health_Camp_Detail['Camp_End_Day'] = pd.to_datetime(Health_Camp_Detail['Camp_End_Date']).dt.day"
   ]
  },
  {
   "cell_type": "markdown",
   "metadata": {},
   "source": [
    "### c."
   ]
  },
  {
   "cell_type": "code",
   "execution_count": 66,
   "metadata": {},
   "outputs": [
    {
     "data": {
      "text/html": [
       "<div>\n",
       "<style scoped>\n",
       "    .dataframe tbody tr th:only-of-type {\n",
       "        vertical-align: middle;\n",
       "    }\n",
       "\n",
       "    .dataframe tbody tr th {\n",
       "        vertical-align: top;\n",
       "    }\n",
       "\n",
       "    .dataframe thead th {\n",
       "        text-align: right;\n",
       "    }\n",
       "</style>\n",
       "<table border=\"1\" class=\"dataframe\">\n",
       "  <thead>\n",
       "    <tr style=\"text-align: right;\">\n",
       "      <th></th>\n",
       "      <th>Health_Camp_ID</th>\n",
       "      <th>Camp_Start_Date</th>\n",
       "      <th>Camp_End_Date</th>\n",
       "      <th>Category1</th>\n",
       "      <th>Category2</th>\n",
       "      <th>Category3</th>\n",
       "      <th>Camp_Duration</th>\n",
       "      <th>Camp_Start_Year</th>\n",
       "      <th>Camp_Start_Month</th>\n",
       "      <th>Camp_Start_Day</th>\n",
       "      <th>Camp_End_Year</th>\n",
       "      <th>Camp_End_Month</th>\n",
       "      <th>Camp_End_Day</th>\n",
       "    </tr>\n",
       "  </thead>\n",
       "  <tbody>\n",
       "    <tr>\n",
       "      <th>61</th>\n",
       "      <td>6551</td>\n",
       "      <td>13-Nov-06</td>\n",
       "      <td>18-Nov-06</td>\n",
       "      <td>Second</td>\n",
       "      <td>D</td>\n",
       "      <td>2</td>\n",
       "      <td>5.0</td>\n",
       "      <td>2006</td>\n",
       "      <td>11</td>\n",
       "      <td>13</td>\n",
       "      <td>2006</td>\n",
       "      <td>11</td>\n",
       "      <td>18</td>\n",
       "    </tr>\n",
       "    <tr>\n",
       "      <th>35</th>\n",
       "      <td>6555</td>\n",
       "      <td>15-Sep-05</td>\n",
       "      <td>19-Sep-05</td>\n",
       "      <td>Second</td>\n",
       "      <td>A</td>\n",
       "      <td>2</td>\n",
       "      <td>4.0</td>\n",
       "      <td>2005</td>\n",
       "      <td>9</td>\n",
       "      <td>15</td>\n",
       "      <td>2005</td>\n",
       "      <td>9</td>\n",
       "      <td>19</td>\n",
       "    </tr>\n",
       "    <tr>\n",
       "      <th>27</th>\n",
       "      <td>6523</td>\n",
       "      <td>23-Feb-05</td>\n",
       "      <td>16-Sep-05</td>\n",
       "      <td>Second</td>\n",
       "      <td>D</td>\n",
       "      <td>2</td>\n",
       "      <td>205.0</td>\n",
       "      <td>2005</td>\n",
       "      <td>2</td>\n",
       "      <td>23</td>\n",
       "      <td>2005</td>\n",
       "      <td>9</td>\n",
       "      <td>16</td>\n",
       "    </tr>\n",
       "    <tr>\n",
       "      <th>23</th>\n",
       "      <td>6526</td>\n",
       "      <td>03-Jan-05</td>\n",
       "      <td>20-Feb-05</td>\n",
       "      <td>First</td>\n",
       "      <td>E</td>\n",
       "      <td>2</td>\n",
       "      <td>48.0</td>\n",
       "      <td>2005</td>\n",
       "      <td>1</td>\n",
       "      <td>3</td>\n",
       "      <td>2005</td>\n",
       "      <td>2</td>\n",
       "      <td>20</td>\n",
       "    </tr>\n",
       "    <tr>\n",
       "      <th>1</th>\n",
       "      <td>6530</td>\n",
       "      <td>16-Aug-03</td>\n",
       "      <td>28-Oct-03</td>\n",
       "      <td>First</td>\n",
       "      <td>C</td>\n",
       "      <td>2</td>\n",
       "      <td>73.0</td>\n",
       "      <td>2003</td>\n",
       "      <td>8</td>\n",
       "      <td>16</td>\n",
       "      <td>2003</td>\n",
       "      <td>10</td>\n",
       "      <td>28</td>\n",
       "    </tr>\n",
       "    <tr>\n",
       "      <th>20</th>\n",
       "      <td>6562</td>\n",
       "      <td>24-Nov-04</td>\n",
       "      <td>02-Jun-05</td>\n",
       "      <td>First</td>\n",
       "      <td>F</td>\n",
       "      <td>2</td>\n",
       "      <td>190.0</td>\n",
       "      <td>2004</td>\n",
       "      <td>11</td>\n",
       "      <td>24</td>\n",
       "      <td>2005</td>\n",
       "      <td>6</td>\n",
       "      <td>2</td>\n",
       "    </tr>\n",
       "    <tr>\n",
       "      <th>2</th>\n",
       "      <td>6544</td>\n",
       "      <td>03-Nov-03</td>\n",
       "      <td>15-Nov-03</td>\n",
       "      <td>First</td>\n",
       "      <td>F</td>\n",
       "      <td>1</td>\n",
       "      <td>12.0</td>\n",
       "      <td>2003</td>\n",
       "      <td>11</td>\n",
       "      <td>3</td>\n",
       "      <td>2003</td>\n",
       "      <td>11</td>\n",
       "      <td>15</td>\n",
       "    </tr>\n",
       "    <tr>\n",
       "      <th>51</th>\n",
       "      <td>6583</td>\n",
       "      <td>02-Aug-06</td>\n",
       "      <td>05-Aug-06</td>\n",
       "      <td>Second</td>\n",
       "      <td>A</td>\n",
       "      <td>2</td>\n",
       "      <td>3.0</td>\n",
       "      <td>2006</td>\n",
       "      <td>8</td>\n",
       "      <td>2</td>\n",
       "      <td>2006</td>\n",
       "      <td>8</td>\n",
       "      <td>5</td>\n",
       "    </tr>\n",
       "    <tr>\n",
       "      <th>60</th>\n",
       "      <td>6556</td>\n",
       "      <td>09-Nov-06</td>\n",
       "      <td>15-Dec-06</td>\n",
       "      <td>First</td>\n",
       "      <td>E</td>\n",
       "      <td>2</td>\n",
       "      <td>36.0</td>\n",
       "      <td>2006</td>\n",
       "      <td>11</td>\n",
       "      <td>9</td>\n",
       "      <td>2006</td>\n",
       "      <td>12</td>\n",
       "      <td>15</td>\n",
       "    </tr>\n",
       "    <tr>\n",
       "      <th>48</th>\n",
       "      <td>6574</td>\n",
       "      <td>12-May-06</td>\n",
       "      <td>18-Aug-06</td>\n",
       "      <td>Third</td>\n",
       "      <td>G</td>\n",
       "      <td>2</td>\n",
       "      <td>98.0</td>\n",
       "      <td>2006</td>\n",
       "      <td>5</td>\n",
       "      <td>12</td>\n",
       "      <td>2006</td>\n",
       "      <td>8</td>\n",
       "      <td>18</td>\n",
       "    </tr>\n",
       "  </tbody>\n",
       "</table>\n",
       "</div>"
      ],
      "text/plain": [
       "   Health_Camp_ID Camp_Start_Date Camp_End_Date Category1 Category2  \\\n",
       "61           6551       13-Nov-06     18-Nov-06    Second         D   \n",
       "35           6555       15-Sep-05     19-Sep-05    Second         A   \n",
       "27           6523       23-Feb-05     16-Sep-05    Second         D   \n",
       "23           6526       03-Jan-05     20-Feb-05     First         E   \n",
       "1            6530       16-Aug-03     28-Oct-03     First         C   \n",
       "20           6562       24-Nov-04     02-Jun-05     First         F   \n",
       "2            6544       03-Nov-03     15-Nov-03     First         F   \n",
       "51           6583       02-Aug-06     05-Aug-06    Second         A   \n",
       "60           6556       09-Nov-06     15-Dec-06     First         E   \n",
       "48           6574       12-May-06     18-Aug-06     Third         G   \n",
       "\n",
       "    Category3  Camp_Duration  Camp_Start_Year  Camp_Start_Month  \\\n",
       "61          2            5.0             2006                11   \n",
       "35          2            4.0             2005                 9   \n",
       "27          2          205.0             2005                 2   \n",
       "23          2           48.0             2005                 1   \n",
       "1           2           73.0             2003                 8   \n",
       "20          2          190.0             2004                11   \n",
       "2           1           12.0             2003                11   \n",
       "51          2            3.0             2006                 8   \n",
       "60          2           36.0             2006                11   \n",
       "48          2           98.0             2006                 5   \n",
       "\n",
       "    Camp_Start_Day  Camp_End_Year  Camp_End_Month  Camp_End_Day  \n",
       "61              13           2006              11            18  \n",
       "35              15           2005               9            19  \n",
       "27              23           2005               9            16  \n",
       "23               3           2005               2            20  \n",
       "1               16           2003              10            28  \n",
       "20              24           2005               6             2  \n",
       "2                3           2003              11            15  \n",
       "51               2           2006               8             5  \n",
       "60               9           2006              12            15  \n",
       "48              12           2006               8            18  "
      ]
     },
     "execution_count": 66,
     "metadata": {},
     "output_type": "execute_result"
    }
   ],
   "source": [
    "Health_Camp_Detail.sample(10)"
   ]
  },
  {
   "cell_type": "code",
   "execution_count": 67,
   "metadata": {},
   "outputs": [],
   "source": [
    "Health_Camp_Detail['Category1'] = Health_Camp_Detail['Category1'].map({'First': 1, 'Second': 2, 'Third': 3})\n",
    "Health_Camp_Detail['Category2'] = pd.factorize(Health_Camp_Detail['Category2'])[0]"
   ]
  },
  {
   "cell_type": "code",
   "execution_count": 68,
   "metadata": {
    "scrolled": true
   },
   "outputs": [
    {
     "data": {
      "text/html": [
       "<div>\n",
       "<style scoped>\n",
       "    .dataframe tbody tr th:only-of-type {\n",
       "        vertical-align: middle;\n",
       "    }\n",
       "\n",
       "    .dataframe tbody tr th {\n",
       "        vertical-align: top;\n",
       "    }\n",
       "\n",
       "    .dataframe thead th {\n",
       "        text-align: right;\n",
       "    }\n",
       "</style>\n",
       "<table border=\"1\" class=\"dataframe\">\n",
       "  <thead>\n",
       "    <tr style=\"text-align: right;\">\n",
       "      <th></th>\n",
       "      <th>Health_Camp_ID</th>\n",
       "      <th>Camp_Start_Date</th>\n",
       "      <th>Camp_End_Date</th>\n",
       "      <th>Category1</th>\n",
       "      <th>Category2</th>\n",
       "      <th>Category3</th>\n",
       "      <th>Camp_Duration</th>\n",
       "      <th>Camp_Start_Year</th>\n",
       "      <th>Camp_Start_Month</th>\n",
       "      <th>Camp_Start_Day</th>\n",
       "      <th>Camp_End_Year</th>\n",
       "      <th>Camp_End_Month</th>\n",
       "      <th>Camp_End_Day</th>\n",
       "    </tr>\n",
       "  </thead>\n",
       "  <tbody>\n",
       "    <tr>\n",
       "      <th>45</th>\n",
       "      <td>6582</td>\n",
       "      <td>06-Apr-06</td>\n",
       "      <td>07-Nov-07</td>\n",
       "      <td>1</td>\n",
       "      <td>2</td>\n",
       "      <td>2</td>\n",
       "      <td>580.0</td>\n",
       "      <td>2006</td>\n",
       "      <td>4</td>\n",
       "      <td>6</td>\n",
       "      <td>2007</td>\n",
       "      <td>11</td>\n",
       "      <td>7</td>\n",
       "    </tr>\n",
       "    <tr>\n",
       "      <th>6</th>\n",
       "      <td>6564</td>\n",
       "      <td>17-Dec-03</td>\n",
       "      <td>11-Jun-04</td>\n",
       "      <td>1</td>\n",
       "      <td>1</td>\n",
       "      <td>2</td>\n",
       "      <td>177.0</td>\n",
       "      <td>2003</td>\n",
       "      <td>12</td>\n",
       "      <td>17</td>\n",
       "      <td>2004</td>\n",
       "      <td>6</td>\n",
       "      <td>11</td>\n",
       "    </tr>\n",
       "    <tr>\n",
       "      <th>10</th>\n",
       "      <td>6535</td>\n",
       "      <td>01-Feb-04</td>\n",
       "      <td>18-Feb-04</td>\n",
       "      <td>1</td>\n",
       "      <td>3</td>\n",
       "      <td>2</td>\n",
       "      <td>17.0</td>\n",
       "      <td>2004</td>\n",
       "      <td>2</td>\n",
       "      <td>1</td>\n",
       "      <td>2004</td>\n",
       "      <td>2</td>\n",
       "      <td>18</td>\n",
       "    </tr>\n",
       "    <tr>\n",
       "      <th>61</th>\n",
       "      <td>6551</td>\n",
       "      <td>13-Nov-06</td>\n",
       "      <td>18-Nov-06</td>\n",
       "      <td>2</td>\n",
       "      <td>4</td>\n",
       "      <td>2</td>\n",
       "      <td>5.0</td>\n",
       "      <td>2006</td>\n",
       "      <td>11</td>\n",
       "      <td>13</td>\n",
       "      <td>2006</td>\n",
       "      <td>11</td>\n",
       "      <td>18</td>\n",
       "    </tr>\n",
       "    <tr>\n",
       "      <th>25</th>\n",
       "      <td>6542</td>\n",
       "      <td>19-Feb-05</td>\n",
       "      <td>23-Aug-05</td>\n",
       "      <td>1</td>\n",
       "      <td>2</td>\n",
       "      <td>2</td>\n",
       "      <td>185.0</td>\n",
       "      <td>2005</td>\n",
       "      <td>2</td>\n",
       "      <td>19</td>\n",
       "      <td>2005</td>\n",
       "      <td>8</td>\n",
       "      <td>23</td>\n",
       "    </tr>\n",
       "    <tr>\n",
       "      <th>14</th>\n",
       "      <td>6539</td>\n",
       "      <td>07-Aug-04</td>\n",
       "      <td>12-Feb-05</td>\n",
       "      <td>1</td>\n",
       "      <td>2</td>\n",
       "      <td>2</td>\n",
       "      <td>189.0</td>\n",
       "      <td>2004</td>\n",
       "      <td>8</td>\n",
       "      <td>7</td>\n",
       "      <td>2005</td>\n",
       "      <td>2</td>\n",
       "      <td>12</td>\n",
       "    </tr>\n",
       "    <tr>\n",
       "      <th>8</th>\n",
       "      <td>6538</td>\n",
       "      <td>09-Jan-04</td>\n",
       "      <td>04-Feb-05</td>\n",
       "      <td>1</td>\n",
       "      <td>2</td>\n",
       "      <td>2</td>\n",
       "      <td>392.0</td>\n",
       "      <td>2004</td>\n",
       "      <td>1</td>\n",
       "      <td>9</td>\n",
       "      <td>2005</td>\n",
       "      <td>2</td>\n",
       "      <td>4</td>\n",
       "    </tr>\n",
       "    <tr>\n",
       "      <th>18</th>\n",
       "      <td>6586</td>\n",
       "      <td>01-Oct-04</td>\n",
       "      <td>18-Oct-04</td>\n",
       "      <td>1</td>\n",
       "      <td>3</td>\n",
       "      <td>2</td>\n",
       "      <td>17.0</td>\n",
       "      <td>2004</td>\n",
       "      <td>10</td>\n",
       "      <td>1</td>\n",
       "      <td>2004</td>\n",
       "      <td>10</td>\n",
       "      <td>18</td>\n",
       "    </tr>\n",
       "    <tr>\n",
       "      <th>5</th>\n",
       "      <td>6581</td>\n",
       "      <td>07-Dec-03</td>\n",
       "      <td>13-Jun-04</td>\n",
       "      <td>1</td>\n",
       "      <td>2</td>\n",
       "      <td>2</td>\n",
       "      <td>189.0</td>\n",
       "      <td>2003</td>\n",
       "      <td>12</td>\n",
       "      <td>7</td>\n",
       "      <td>2004</td>\n",
       "      <td>6</td>\n",
       "      <td>13</td>\n",
       "    </tr>\n",
       "    <tr>\n",
       "      <th>37</th>\n",
       "      <td>6537</td>\n",
       "      <td>27-Sep-05</td>\n",
       "      <td>07-Nov-07</td>\n",
       "      <td>1</td>\n",
       "      <td>2</td>\n",
       "      <td>2</td>\n",
       "      <td>771.0</td>\n",
       "      <td>2005</td>\n",
       "      <td>9</td>\n",
       "      <td>27</td>\n",
       "      <td>2007</td>\n",
       "      <td>11</td>\n",
       "      <td>7</td>\n",
       "    </tr>\n",
       "  </tbody>\n",
       "</table>\n",
       "</div>"
      ],
      "text/plain": [
       "   Health_Camp_ID Camp_Start_Date Camp_End_Date  Category1  Category2  \\\n",
       "45           6582       06-Apr-06     07-Nov-07          1          2   \n",
       "6            6564       17-Dec-03     11-Jun-04          1          1   \n",
       "10           6535       01-Feb-04     18-Feb-04          1          3   \n",
       "61           6551       13-Nov-06     18-Nov-06          2          4   \n",
       "25           6542       19-Feb-05     23-Aug-05          1          2   \n",
       "14           6539       07-Aug-04     12-Feb-05          1          2   \n",
       "8            6538       09-Jan-04     04-Feb-05          1          2   \n",
       "18           6586       01-Oct-04     18-Oct-04          1          3   \n",
       "5            6581       07-Dec-03     13-Jun-04          1          2   \n",
       "37           6537       27-Sep-05     07-Nov-07          1          2   \n",
       "\n",
       "    Category3  Camp_Duration  Camp_Start_Year  Camp_Start_Month  \\\n",
       "45          2          580.0             2006                 4   \n",
       "6           2          177.0             2003                12   \n",
       "10          2           17.0             2004                 2   \n",
       "61          2            5.0             2006                11   \n",
       "25          2          185.0             2005                 2   \n",
       "14          2          189.0             2004                 8   \n",
       "8           2          392.0             2004                 1   \n",
       "18          2           17.0             2004                10   \n",
       "5           2          189.0             2003                12   \n",
       "37          2          771.0             2005                 9   \n",
       "\n",
       "    Camp_Start_Day  Camp_End_Year  Camp_End_Month  Camp_End_Day  \n",
       "45               6           2007              11             7  \n",
       "6               17           2004               6            11  \n",
       "10               1           2004               2            18  \n",
       "61              13           2006              11            18  \n",
       "25              19           2005               8            23  \n",
       "14               7           2005               2            12  \n",
       "8                9           2005               2             4  \n",
       "18               1           2004              10            18  \n",
       "5                7           2004               6            13  \n",
       "37              27           2007              11             7  "
      ]
     },
     "execution_count": 68,
     "metadata": {},
     "output_type": "execute_result"
    }
   ],
   "source": [
    "Health_Camp_Detail.sample(10)"
   ]
  },
  {
   "cell_type": "markdown",
   "metadata": {},
   "source": [
    "## Merge Train and Test with Health Camp Details"
   ]
  },
  {
   "cell_type": "code",
   "execution_count": 69,
   "metadata": {},
   "outputs": [],
   "source": [
    "Train = pd.merge(Train, Health_Camp_Detail, on = 'Health_Camp_ID', how = 'left')\n",
    "Test = pd.merge(Test, Health_Camp_Detail, on = 'Health_Camp_ID', how = 'left')"
   ]
  },
  {
   "cell_type": "code",
   "execution_count": 70,
   "metadata": {
    "scrolled": true
   },
   "outputs": [
    {
     "data": {
      "text/plain": [
       "((75278, 42), (35249, 40))"
      ]
     },
     "execution_count": 70,
     "metadata": {},
     "output_type": "execute_result"
    }
   ],
   "source": [
    "Train.shape, Test.shape"
   ]
  },
  {
   "cell_type": "markdown",
   "metadata": {},
   "source": [
    "<a id=section405></a>\n",
    "## 4.5 Some More Feature Engineering "
   ]
  },
  {
   "cell_type": "markdown",
   "metadata": {},
   "source": [
    "### a."
   ]
  },
  {
   "cell_type": "code",
   "execution_count": 71,
   "metadata": {},
   "outputs": [],
   "source": [
    "Train['Unique_Camp_Year_Per_Patient']=Train.groupby(['Patient_ID'])['Camp_Start_Year'].transform('nunique')\n",
    "Train['Unique_Camp_Months_Per_Patient']=Train.groupby(['Patient_ID'])['Camp_Start_Month'].transform('nunique')\n",
    "Train['Unique_Camp_Day_Per_Patient']=Train.groupby(['Patient_ID'])['Camp_Start_Day'].transform('nunique')"
   ]
  },
  {
   "cell_type": "code",
   "execution_count": 72,
   "metadata": {},
   "outputs": [],
   "source": [
    "Test['Unique_Camp_Year_Per_Patient']=Test.groupby(['Patient_ID'])['Camp_Start_Year'].transform('nunique')\n",
    "Test['Unique_Camp_Months_Per_Patient']=Test.groupby(['Patient_ID'])['Camp_Start_Month'].transform('nunique')\n",
    "Test['Unique_Camp_Day_Per_Patient']=Test.groupby(['Patient_ID'])['Camp_Start_Day'].transform('nunique')"
   ]
  },
  {
   "cell_type": "markdown",
   "metadata": {},
   "source": [
    "### b."
   ]
  },
  {
   "cell_type": "code",
   "execution_count": 73,
   "metadata": {},
   "outputs": [],
   "source": [
    "Train['Patient_Registered_Before_Days'] = pd.to_datetime(Train['Camp_Start_Date'])-pd.to_datetime(Train['Registration_Date'])\n",
    "Train['Patient_Registered_Before_Days'] = Train['Patient_Registered_Before_Days'].apply(timediff)"
   ]
  },
  {
   "cell_type": "code",
   "execution_count": 74,
   "metadata": {},
   "outputs": [],
   "source": [
    "Test['Patient_Registered_Before_Days'] = pd.to_datetime(Test['Camp_Start_Date'])-pd.to_datetime(Test['Registration_Date'])\n",
    "Test['Patient_Registered_Before_Days'] = Test['Patient_Registered_Before_Days'].apply(timediff)"
   ]
  },
  {
   "cell_type": "code",
   "execution_count": 75,
   "metadata": {
    "scrolled": true
   },
   "outputs": [
    {
     "data": {
      "text/plain": [
       "((75278, 46), (35249, 44))"
      ]
     },
     "execution_count": 75,
     "metadata": {},
     "output_type": "execute_result"
    }
   ],
   "source": [
    "Train.shape, Test.shape"
   ]
  },
  {
   "cell_type": "markdown",
   "metadata": {},
   "source": [
    "<a id=section5></a>\n",
    "# 5. Data processing before model building"
   ]
  },
  {
   "cell_type": "markdown",
   "metadata": {},
   "source": [
    "<a id=section501></a>\n",
    "## 5.1 Splitting Train data into train and validation"
   ]
  },
  {
   "cell_type": "markdown",
   "metadata": {},
   "source": [
    "**NOTE:** Creating Time based validation for 5 months ,as same as public and private test period"
   ]
  },
  {
   "cell_type": "code",
   "execution_count": 76,
   "metadata": {},
   "outputs": [],
   "source": [
    "trn = Train[Train['Camp_Start_Date'] <'2005-11-01']\n",
    "val = Train[Train['Camp_Start_Date'] >'2005-10-30']"
   ]
  },
  {
   "cell_type": "code",
   "execution_count": 77,
   "metadata": {
    "scrolled": true
   },
   "outputs": [
    {
     "data": {
      "text/plain": [
       "((49395, 46), (25883, 46))"
      ]
     },
     "execution_count": 77,
     "metadata": {},
     "output_type": "execute_result"
    }
   ],
   "source": [
    "trn.shape, val.shape"
   ]
  },
  {
   "cell_type": "code",
   "execution_count": 78,
   "metadata": {},
   "outputs": [],
   "source": [
    "TARGET_COL = 'Target'\n",
    "FEATURE_COLS = [c for c in trn.columns if c not in ['Patient_ID', 'Health_Camp_ID','Registration_Date', \n",
    "                                                'Id','Camp_Start_Date','Camp_End_Date',\n",
    "                                                'First_Interaction','Target']]"
   ]
  },
  {
   "cell_type": "markdown",
   "metadata": {},
   "source": [
    "<a id=section502></a>\n",
    "## 5.2 Extracting Important Features"
   ]
  },
  {
   "cell_type": "code",
   "execution_count": 79,
   "metadata": {},
   "outputs": [],
   "source": [
    "#!pip --cert ./dbs_ca.crt install --user lightgbm"
   ]
  },
  {
   "cell_type": "code",
   "execution_count": 80,
   "metadata": {},
   "outputs": [],
   "source": [
    "from lightgbm import LGBMClassifier"
   ]
  },
  {
   "cell_type": "code",
   "execution_count": 81,
   "metadata": {},
   "outputs": [
    {
     "name": "stdout",
     "output_type": "stream",
     "text": [
      "Training until validation scores don't improve for 100 rounds\n",
      "[50]\tvalid_0's auc: 0.823528\tvalid_0's binary_logloss: 0.422147\n",
      "[100]\tvalid_0's auc: 0.826591\tvalid_0's binary_logloss: 0.403876\n",
      "[150]\tvalid_0's auc: 0.829828\tvalid_0's binary_logloss: 0.398581\n",
      "[200]\tvalid_0's auc: 0.831519\tvalid_0's binary_logloss: 0.396602\n",
      "[250]\tvalid_0's auc: 0.831392\tvalid_0's binary_logloss: 0.396369\n",
      "[300]\tvalid_0's auc: 0.831197\tvalid_0's binary_logloss: 0.396436\n",
      "Early stopping, best iteration is:\n",
      "[201]\tvalid_0's auc: 0.83156\tvalid_0's binary_logloss: 0.396577\n"
     ]
    }
   ],
   "source": [
    "clf = LGBMClassifier(n_estimators=550,\n",
    "                     learning_rate=0.03,\n",
    "                     min_child_samples=40,\n",
    "                     random_state=1,\n",
    "                     colsample_bytree=0.5,\n",
    "                     reg_alpha=2,\n",
    "                     reg_lambda=2)\n",
    "\n",
    "clf.fit(trn[FEATURE_COLS], trn[TARGET_COL], eval_set=[(val[FEATURE_COLS], val[TARGET_COL])], verbose=50,\n",
    "        eval_metric = 'auc', early_stopping_rounds = 100)\n",
    "\n",
    "preds = clf.predict_proba(Test[FEATURE_COLS])[:, 1]"
   ]
  },
  {
   "cell_type": "code",
   "execution_count": 82,
   "metadata": {
    "scrolled": true
   },
   "outputs": [
    {
     "data": {
      "text/plain": [
       "<matplotlib.axes._subplots.AxesSubplot at 0x276d2ab50b8>"
      ]
     },
     "execution_count": 82,
     "metadata": {},
     "output_type": "execute_result"
    },
    {
     "data": {
      "image/png": "[encoded data removed]",
      "text/plain": [
       "<Figure size 432x288 with 1 Axes>"
      ]
     },
     "metadata": {
      "needs_background": "light"
     },
     "output_type": "display_data"
    }
   ],
   "source": [
    "feature_importance_info = pd.Series(index = FEATURE_COLS, data = clf.feature_importances_)\n",
    "feature_importance_info.sort_values(ascending=False)[0:25][::-1].plot(kind = 'barh', style = {'height': 100})"
   ]
  },
  {
   "cell_type": "code",
   "execution_count": 83,
   "metadata": {
    "scrolled": true
   },
   "outputs": [],
   "source": [
    "# Selecting top 25 important features\n",
    "IMP_FEATURE_COLS = list(feature_importance_info.sort_values(ascending=False)[0:25].index)"
   ]
  },
  {
   "cell_type": "code",
   "execution_count": 84,
   "metadata": {},
   "outputs": [],
   "source": [
    "X_train = trn[IMP_FEATURE_COLS]\n",
    "X_test = val[IMP_FEATURE_COLS]\n",
    "\n",
    "y_train = trn['Target']\n",
    "y_test = val['Target']"
   ]
  },
  {
   "cell_type": "markdown",
   "metadata": {},
   "source": [
    "<a id=section6></a>\n",
    "# 6. Model building and prediction"
   ]
  },
  {
   "cell_type": "markdown",
   "metadata": {},
   "source": [
    "<a id=section601></a>\n",
    "## 6.1 LGBM Classifier"
   ]
  },
  {
   "cell_type": "code",
   "execution_count": 86,
   "metadata": {
    "scrolled": false
   },
   "outputs": [
    {
     "name": "stdout",
     "output_type": "stream",
     "text": [
      "[[31380  3187]\n",
      " [ 4348 10480]]\n",
      "[[19462   715]\n",
      " [ 4114  1592]]\n",
      "              precision    recall  f1-score   support\n",
      "\n",
      "           0       0.88      0.91      0.89     34567\n",
      "           1       0.77      0.71      0.74     14828\n",
      "\n",
      "   micro avg       0.85      0.85      0.85     49395\n",
      "   macro avg       0.82      0.81      0.81     49395\n",
      "weighted avg       0.84      0.85      0.85     49395\n",
      "\n",
      "              precision    recall  f1-score   support\n",
      "\n",
      "           0       0.83      0.96      0.89     20177\n",
      "           1       0.69      0.28      0.40      5706\n",
      "\n",
      "   micro avg       0.81      0.81      0.81     25883\n",
      "   macro avg       0.76      0.62      0.64     25883\n",
      "weighted avg       0.80      0.81      0.78     25883\n",
      "\n"
     ]
    }
   ],
   "source": [
    "from sklearn.metrics import confusion_matrix, classification_report\n",
    "\n",
    "lgbm = LGBMClassifier(n_estimators=450,learning_rate=0.03,random_state=1,colsample_bytree=0.5,reg_alpha=2,reg_lambda=2)\n",
    "lgbm.fit(X_train, y_train)\n",
    "\n",
    "lgbm_train_preds = lgbm.predict(X_train)\n",
    "lgbm_test_preds = lgbm.predict(X_test)\n",
    "\n",
    "print(confusion_matrix(y_train, lgbm_train_preds))\n",
    "print(confusion_matrix(y_test, lgbm_test_preds))\n",
    "\n",
    "print(classification_report(y_train, lgbm_train_preds))\n",
    "print(classification_report(y_test, lgbm_test_preds))"
   ]
  },
  {
   "cell_type": "code",
   "execution_count": 87,
   "metadata": {
    "scrolled": true
   },
   "outputs": [
    {
     "name": "stdout",
     "output_type": "stream",
     "text": [
      "0.8142253404027008\n"
     ]
    },
    {
     "data": {
      "image/png": "[encoded data removed]",
      "text/plain": [
       "<Figure size 432x288 with 1 Axes>"
      ]
     },
     "metadata": {
      "needs_background": "light"
     },
     "output_type": "display_data"
    }
   ],
   "source": [
    "# ROC Curve for LGBM\n",
    "\n",
    "fpr = dict()\n",
    "tpr = dict()\n",
    "roc_auc = dict()\n",
    "\n",
    "y_pred_proba = lgbm.predict_proba(X_test)[::,1]\n",
    "fpr, tpr, thresholds = roc_curve(y_test, y_pred_proba)\n",
    "\n",
    "roc_auc = auc(fpr,tpr)\n",
    "print(roc_auc)\n",
    "\n",
    "plt.title(\"ROC Curve (LGBM)\")\n",
    "plt.plot(fpr, tpr, color='green',\n",
    "         lw=2, label='ROC curve (area = %0.2f)' % roc_auc)\n",
    "plt.plot([0, 1], [0, 1], color='navy', lw=2, linestyle='--')\n",
    "plt.show()"
   ]
  },
  {
   "cell_type": "markdown",
   "metadata": {},
   "source": [
    "<a id=section602></a>\n",
    "## 6.2 Final Prediction"
   ]
  },
  {
   "cell_type": "code",
   "execution_count": 88,
   "metadata": {},
   "outputs": [],
   "source": [
    "lgbm_final_preds = lgbm.predict_proba(Test[IMP_FEATURE_COLS])[:,1]"
   ]
  },
  {
   "cell_type": "code",
   "execution_count": 90,
   "metadata": {},
   "outputs": [],
   "source": [
    "final_preds = pd.DataFrame({\"Patient_ID\":Test['Patient_ID'].values})\n",
    "final_preds[\"Health_Camp_ID\"] = Test['Health_Camp_ID'].values\n",
    "final_preds[\"Outcome\"] =  lgbm_final_preds\n",
    "final_preds.to_csv(\"final_preds.csv\", index=False)"
   ]
  }
 ],
 "metadata": {
  "kernelspec": {
   "display_name": "Python 3",
   "language": "python",
   "name": "python3"
  },
  "language_info": {
   "codemirror_mode": {
    "name": "ipython",
    "version": 3
   },
   "file_extension": ".py",
   "mimetype": "text/x-python",
   "name": "python",
   "nbconvert_exporter": "python",
   "pygments_lexer": "ipython3",
   "version": "3.7.3"
  }
 },
 "nbformat": 4,
 "nbformat_minor": 2
}
