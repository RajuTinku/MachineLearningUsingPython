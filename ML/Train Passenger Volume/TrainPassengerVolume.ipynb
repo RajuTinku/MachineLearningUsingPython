{
  "nbformat": 4,
  "nbformat_minor": 0,
  "metadata": {
    "colab": {
      "name": "TrainPassengerVolume.ipynb",
      "provenance": [],
      "collapsed_sections": [
        "MJfRYaCmPi2n",
        "AK66Ggama2W-",
        "s1mxT0uVWNhy"
      ],
      "toc_visible": true
    },
    "kernelspec": {
      "display_name": "Python 3",
      "language": "python",
      "name": "python3"
    },
    "language_info": {
      "codemirror_mode": {
        "name": "ipython",
        "version": 3
      },
      "file_extension": ".py",
      "mimetype": "text/x-python",
      "name": "python",
      "nbconvert_exporter": "python",
      "pygments_lexer": "ipython3",
      "version": "3.7.3"
    }
  },
  "cells": [
    {
      "cell_type": "markdown",
      "metadata": {
        "colab_type": "text",
        "id": "jKA2ppWtOQo-"
      },
      "source": [
        "# Train Passenger Volume Prediction\n",
        "\n",
        "<img src=\"https://wallpaperplay.com/walls/full/6/2/0/159951.jpg\" height='400px' width='100%'><br/>\n",
        "\n",
        "\n",
        "\n"
      ]
    },
    {
      "cell_type": "markdown",
      "metadata": {
        "colab_type": "text",
        "id": "wpquuNu9PE6k"
      },
      "source": [
        "## Table of Contents\n",
        "\n",
        "1. [Problem Statement](#section1)<br>\n",
        "2. [Importing Packages](#section2)<br>\n",
        "3. [Loading Data](#section3)<br>\n",
        "  - 3.1 [Description of the Datasets](#section301)<br>\n",
        "  - 3.2 [Pandas Profiling before Data Preprocessing](#section302)<br>\n",
        "4. [Data Preprocessing](#section4)<br>\n",
        "  - 4.1 [Filling missing values](#section401)<br>\n",
        "  - 4.2 [Transforming date columns](#section402)<br>\n",
        "  - 4.3 [Removing highly Correlated Columns](#section403)<br>\n",
        "  - 4.4 [Pandas Profiling after Data Preprocessing](#section404)<br>\n",
        "5. [Exploratory Data Analysis](#section5)<br>\n",
        "  - 5.1 [Univariate Analysis](#section501)<br>\n",
        "  - 5.2 [Multivariate Analysis](#section502)<br>\n",
        "6. [Data preparation for model building](#section5)<br>\n",
        "  - 6.1 [Standardising continuous columns](#section601)<br>\n",
        "  - 6.2 [Dummification / One-Hot Encoding of categorical variables](#section602)<br>\n",
        " \n",
        "7. [Creating model and prediction](#section7)<br>  \n",
        "  - 7.1 [Logistic Regression](#section701)\n",
        "  - 7.2 [KNN](#section702) \n",
        "  - 7.3 [Naive Bayes](#section703)\n",
        "  - 7.4 [SVM](#section704)     \n",
        "8.  [Conclusion](#section8)<br>\n",
        "    "
      ]
    },
    {
      "cell_type": "markdown",
      "metadata": {
        "colab_type": "text",
        "id": "MJfRYaCmPi2n"
      },
      "source": [
        "italicised text<a id=section1></a>\n",
        "# 1. Problem Statement"
      ]
    },
    {
      "cell_type": "markdown",
      "metadata": {
        "colab_type": "text",
        "id": "vS-lYZmSQ3oR"
      },
      "source": [
        "In this challenge, our task is to predict the volume of passengers in trains."
      ]
    },
    {
      "cell_type": "markdown",
      "metadata": {
        "colab_type": "text",
        "id": "trs-hhV0SdxP"
      },
      "source": [
        "<a id=section2></a>\n",
        "# 2. Importing packages"
      ]
    },
    {
      "cell_type": "code",
      "metadata": {
        "colab_type": "code",
        "id": "B4mW-J0lOAZ7",
        "colab": {}
      },
      "source": [
        "import numpy as np                     \n",
        "\n",
        "import pandas as pd\n",
        "pd.set_option('mode.chained_assignment', None)      # To suppress pandas warnings.\n",
        "pd.set_option('display.max_colwidth', -1)           # To display all the data in each column\n",
        "pd.get_option(\"display.max_rows\",10000)\n",
        "pd.options.display.max_columns = 50                 # To display every column of the dataset in head()\n",
        "\n",
        "import warnings\n",
        "warnings.filterwarnings('ignore')     "
      ],
      "execution_count": null,
      "outputs": []
    },
    {
      "cell_type": "code",
      "metadata": {
        "colab_type": "code",
        "id": "j9BU-IFBSzUn",
        "colab": {}
      },
      "source": [
        "import matplotlib.pyplot as plt\n",
        "%matplotlib inline\n",
        "\n",
        "import seaborn as sns\n",
        "sns.set(style='whitegrid', font_scale=1.3, color_codes=True)      # To apply seaborn styles to the plots."
      ],
      "execution_count": null,
      "outputs": []
    },
    {
      "cell_type": "code",
      "metadata": {
        "id": "c0lRa31uWNd4",
        "colab_type": "code",
        "colab": {}
      },
      "source": [
        "from sklearn.linear_model import LogisticRegression\n",
        "from sklearn import tree\n",
        "from sklearn.metrics import accuracy_score\n",
        "from sklearn.metrics import recall_score\n",
        "from sklearn.metrics import precision_score\n",
        "\n",
        "from numpy import median\n",
        "from sklearn.model_selection import train_test_split\n",
        "from sklearn.linear_model import LogisticRegression\n",
        "from sklearn.metrics import confusion_matrix\n",
        "from sklearn.metrics import roc_curve, auc\n",
        "from sklearn.naive_bayes import GaussianNB, BernoulliNB, MultinomialNB\n",
        "from sklearn.feature_selection import SelectKBest\n",
        "from sklearn.feature_selection import chi2\n",
        "\n",
        "import matplotlib.lines as mlines"
      ],
      "execution_count": null,
      "outputs": []
    },
    {
      "cell_type": "markdown",
      "metadata": {
        "colab_type": "text",
        "id": "2xsBjeC_SokQ"
      },
      "source": [
        "<a id=section3></a>\n",
        "# 3. Loading Data\n"
      ]
    },
    {
      "cell_type": "code",
      "metadata": {
        "colab_type": "code",
        "id": "T6y7h6VUT_0o",
        "colab": {
          "base_uri": "https://localhost:8080/",
          "height": 34
        },
        "outputId": "698e8db2-72aa-413c-c668-0581c01cb1b4"
      },
      "source": [
        "df_train = pd.read_csv('Train.csv', index_col = \"id_code\")\n",
        "\n",
        "df_test = pd.read_csv('Test.csv', index_col = \"id_code\")\n",
        "\n",
        "df_train.shape, df_test.shape"
      ],
      "execution_count": null,
      "outputs": [
        {
          "output_type": "execute_result",
          "data": {
            "text/plain": [
              "((1284, 18), (964, 17))"
            ]
          },
          "metadata": {
            "tags": []
          },
          "execution_count": 4
        }
      ]
    },
    {
      "cell_type": "code",
      "metadata": {
        "colab_type": "code",
        "id": "0TI_ZchIUY2A",
        "colab": {
          "base_uri": "https://localhost:8080/",
          "height": 410
        },
        "outputId": "772355f9-58e9-4a21-bfcb-f593431bfcbf"
      },
      "source": [
        "df_train.sample(10)"
      ],
      "execution_count": null,
      "outputs": [
        {
          "output_type": "execute_result",
          "data": {
            "text/html": [
              "<div>\n",
              "<style scoped>\n",
              "    .dataframe tbody tr th:only-of-type {\n",
              "        vertical-align: middle;\n",
              "    }\n",
              "\n",
              "    .dataframe tbody tr th {\n",
              "        vertical-align: top;\n",
              "    }\n",
              "\n",
              "    .dataframe thead th {\n",
              "        text-align: right;\n",
              "    }\n",
              "</style>\n",
              "<table border=\"1\" class=\"dataframe\">\n",
              "  <thead>\n",
              "    <tr style=\"text-align: right;\">\n",
              "      <th></th>\n",
              "      <th>current_date</th>\n",
              "      <th>current_time</th>\n",
              "      <th>source_name</th>\n",
              "      <th>destination_name</th>\n",
              "      <th>train_name</th>\n",
              "      <th>target</th>\n",
              "      <th>country_code_source</th>\n",
              "      <th>longitude_source</th>\n",
              "      <th>latitude_source</th>\n",
              "      <th>mean_halt_times_source</th>\n",
              "      <th>country_code_destination</th>\n",
              "      <th>longitude_destination</th>\n",
              "      <th>latitude_destination</th>\n",
              "      <th>mean_halt_times_destination</th>\n",
              "      <th>current_year</th>\n",
              "      <th>current_week</th>\n",
              "      <th>current_day</th>\n",
              "      <th>is_weekend</th>\n",
              "    </tr>\n",
              "    <tr>\n",
              "      <th>id_code</th>\n",
              "      <th></th>\n",
              "      <th></th>\n",
              "      <th></th>\n",
              "      <th></th>\n",
              "      <th></th>\n",
              "      <th></th>\n",
              "      <th></th>\n",
              "      <th></th>\n",
              "      <th></th>\n",
              "      <th></th>\n",
              "      <th></th>\n",
              "      <th></th>\n",
              "      <th></th>\n",
              "      <th></th>\n",
              "      <th></th>\n",
              "      <th></th>\n",
              "      <th></th>\n",
              "      <th></th>\n",
              "    </tr>\n",
              "  </thead>\n",
              "  <tbody>\n",
              "    <tr>\n",
              "      <th>aimxhkkndepvgru</th>\n",
              "      <td>2016-07-30</td>\n",
              "      <td>10:44:26 AM</td>\n",
              "      <td>station$544</td>\n",
              "      <td>station$147</td>\n",
              "      <td>ICVAR</td>\n",
              "      <td>low</td>\n",
              "      <td>whber</td>\n",
              "      <td>3.710675</td>\n",
              "      <td>51.035896</td>\n",
              "      <td>309.014451</td>\n",
              "      <td>whber</td>\n",
              "      <td>4.356801</td>\n",
              "      <td>50.845658</td>\n",
              "      <td>634.164740</td>\n",
              "      <td>2016</td>\n",
              "      <td>30</td>\n",
              "      <td>Saturday</td>\n",
              "      <td>True</td>\n",
              "    </tr>\n",
              "    <tr>\n",
              "      <th>gvztafnkbaloerl</th>\n",
              "      <td>2016-09-26</td>\n",
              "      <td>08:42:47 AM</td>\n",
              "      <td>station$106</td>\n",
              "      <td>station$108</td>\n",
              "      <td>SSXRVS</td>\n",
              "      <td>medium</td>\n",
              "      <td>whber</td>\n",
              "      <td>4.373674</td>\n",
              "      <td>50.838943</td>\n",
              "      <td>142.601156</td>\n",
              "      <td>whber</td>\n",
              "      <td>4.389513</td>\n",
              "      <td>50.822187</td>\n",
              "      <td>102.765896</td>\n",
              "      <td>2016</td>\n",
              "      <td>39</td>\n",
              "      <td>Monday</td>\n",
              "      <td>False</td>\n",
              "    </tr>\n",
              "    <tr>\n",
              "      <th>sgvbhnwlccxptlk</th>\n",
              "      <td>2016-09-19</td>\n",
              "      <td>07:15:22 AM</td>\n",
              "      <td>station$524</td>\n",
              "      <td>station$523</td>\n",
              "      <td>PSVSR</td>\n",
              "      <td>high</td>\n",
              "      <td>whber</td>\n",
              "      <td>3.793627</td>\n",
              "      <td>50.661235</td>\n",
              "      <td>27.141618</td>\n",
              "      <td>whber</td>\n",
              "      <td>3.823408</td>\n",
              "      <td>50.686585</td>\n",
              "      <td>27.141618</td>\n",
              "      <td>2016</td>\n",
              "      <td>38</td>\n",
              "      <td>Monday</td>\n",
              "      <td>False</td>\n",
              "    </tr>\n",
              "    <tr>\n",
              "      <th>dbtdeiysdjscume</th>\n",
              "      <td>2016-09-22</td>\n",
              "      <td>10:48:07 PM</td>\n",
              "      <td>station$356</td>\n",
              "      <td>station$359</td>\n",
              "      <td>LUYTR</td>\n",
              "      <td>low</td>\n",
              "      <td>whber</td>\n",
              "      <td>4.668538</td>\n",
              "      <td>50.590823</td>\n",
              "      <td>31.508671</td>\n",
              "      <td>whber</td>\n",
              "      <td>4.613884</td>\n",
              "      <td>50.637611</td>\n",
              "      <td>31.508671</td>\n",
              "      <td>2016</td>\n",
              "      <td>38</td>\n",
              "      <td>Thursday</td>\n",
              "      <td>False</td>\n",
              "    </tr>\n",
              "    <tr>\n",
              "      <th>njwzzybbwzjgcjn</th>\n",
              "      <td>2016-08-11</td>\n",
              "      <td>11:25:33 AM</td>\n",
              "      <td>station$178</td>\n",
              "      <td>station$185</td>\n",
              "      <td>ICYAXX</td>\n",
              "      <td>low</td>\n",
              "      <td>whber</td>\n",
              "      <td>4.421101</td>\n",
              "      <td>51.217200</td>\n",
              "      <td>467.982659</td>\n",
              "      <td>whber</td>\n",
              "      <td>4.432221</td>\n",
              "      <td>51.199230</td>\n",
              "      <td>421.644509</td>\n",
              "      <td>2016</td>\n",
              "      <td>32</td>\n",
              "      <td>Thursday</td>\n",
              "      <td>False</td>\n",
              "    </tr>\n",
              "    <tr>\n",
              "      <th>ghscvcthhghvwee</th>\n",
              "      <td>2016-10-04</td>\n",
              "      <td>07:58:47 PM</td>\n",
              "      <td>station$130</td>\n",
              "      <td>station$247</td>\n",
              "      <td>ICYYZS</td>\n",
              "      <td>low</td>\n",
              "      <td>whber</td>\n",
              "      <td>4.360846</td>\n",
              "      <td>50.859663</td>\n",
              "      <td>640.265896</td>\n",
              "      <td>whber</td>\n",
              "      <td>5.050031</td>\n",
              "      <td>50.993341</td>\n",
              "      <td>84.919075</td>\n",
              "      <td>2016</td>\n",
              "      <td>40</td>\n",
              "      <td>Tuesday</td>\n",
              "      <td>False</td>\n",
              "    </tr>\n",
              "    <tr>\n",
              "      <th>mllcpjjhlxpagkg</th>\n",
              "      <td>2016-09-29</td>\n",
              "      <td>07:26:50 AM</td>\n",
              "      <td>station$500</td>\n",
              "      <td>station$496</td>\n",
              "      <td>PTSUW</td>\n",
              "      <td>medium</td>\n",
              "      <td>whber</td>\n",
              "      <td>3.744708</td>\n",
              "      <td>50.423335</td>\n",
              "      <td>24.670520</td>\n",
              "      <td>whber</td>\n",
              "      <td>3.820253</td>\n",
              "      <td>50.442860</td>\n",
              "      <td>71.514451</td>\n",
              "      <td>2016</td>\n",
              "      <td>39</td>\n",
              "      <td>Thursday</td>\n",
              "      <td>False</td>\n",
              "    </tr>\n",
              "    <tr>\n",
              "      <th>jwiljeqxvgoihzd</th>\n",
              "      <td>2016-08-04</td>\n",
              "      <td>04:20:24 PM</td>\n",
              "      <td>station$281</td>\n",
              "      <td>station$266</td>\n",
              "      <td>ICVXS</td>\n",
              "      <td>low</td>\n",
              "      <td>whber</td>\n",
              "      <td>5.566695</td>\n",
              "      <td>50.624550</td>\n",
              "      <td>269.124277</td>\n",
              "      <td>whber</td>\n",
              "      <td>4.715866</td>\n",
              "      <td>50.882280</td>\n",
              "      <td>351.916185</td>\n",
              "      <td>2016</td>\n",
              "      <td>31</td>\n",
              "      <td>Thursday</td>\n",
              "      <td>False</td>\n",
              "    </tr>\n",
              "    <tr>\n",
              "      <th>qafhcjfsgoojgob</th>\n",
              "      <td>2016-09-16</td>\n",
              "      <td>10:42:26 AM</td>\n",
              "      <td>station$571</td>\n",
              "      <td>station$544</td>\n",
              "      <td>ZSYS</td>\n",
              "      <td>low</td>\n",
              "      <td>whber</td>\n",
              "      <td>3.740591</td>\n",
              "      <td>51.056365</td>\n",
              "      <td>80.534682</td>\n",
              "      <td>whber</td>\n",
              "      <td>3.710675</td>\n",
              "      <td>51.035896</td>\n",
              "      <td>309.014451</td>\n",
              "      <td>2016</td>\n",
              "      <td>37</td>\n",
              "      <td>Friday</td>\n",
              "      <td>False</td>\n",
              "    </tr>\n",
              "    <tr>\n",
              "      <th>cbhcwunpecxihwa</th>\n",
              "      <td>2016-09-27</td>\n",
              "      <td>09:05:44 PM</td>\n",
              "      <td>station$595</td>\n",
              "      <td>station$188</td>\n",
              "      <td>ICZSAU</td>\n",
              "      <td>low</td>\n",
              "      <td>whber</td>\n",
              "      <td>4.259520</td>\n",
              "      <td>51.208336</td>\n",
              "      <td>48.208092</td>\n",
              "      <td>whber</td>\n",
              "      <td>4.390259</td>\n",
              "      <td>51.197828</td>\n",
              "      <td>71.193642</td>\n",
              "      <td>2016</td>\n",
              "      <td>39</td>\n",
              "      <td>Tuesday</td>\n",
              "      <td>False</td>\n",
              "    </tr>\n",
              "  </tbody>\n",
              "</table>\n",
              "</div>"
            ],
            "text/plain": [
              "                current_date current_time  source_name destination_name  \\\n",
              "id_code                                                                   \n",
              "aimxhkkndepvgru  2016-07-30   10:44:26 AM  station$544  station$147       \n",
              "gvztafnkbaloerl  2016-09-26   08:42:47 AM  station$106  station$108       \n",
              "sgvbhnwlccxptlk  2016-09-19   07:15:22 AM  station$524  station$523       \n",
              "dbtdeiysdjscume  2016-09-22   10:48:07 PM  station$356  station$359       \n",
              "njwzzybbwzjgcjn  2016-08-11   11:25:33 AM  station$178  station$185       \n",
              "ghscvcthhghvwee  2016-10-04   07:58:47 PM  station$130  station$247       \n",
              "mllcpjjhlxpagkg  2016-09-29   07:26:50 AM  station$500  station$496       \n",
              "jwiljeqxvgoihzd  2016-08-04   04:20:24 PM  station$281  station$266       \n",
              "qafhcjfsgoojgob  2016-09-16   10:42:26 AM  station$571  station$544       \n",
              "cbhcwunpecxihwa  2016-09-27   09:05:44 PM  station$595  station$188       \n",
              "\n",
              "                train_name  target country_code_source  longitude_source  \\\n",
              "id_code                                                                    \n",
              "aimxhkkndepvgru  ICVAR      low     whber               3.710675           \n",
              "gvztafnkbaloerl  SSXRVS     medium  whber               4.373674           \n",
              "sgvbhnwlccxptlk  PSVSR      high    whber               3.793627           \n",
              "dbtdeiysdjscume  LUYTR      low     whber               4.668538           \n",
              "njwzzybbwzjgcjn  ICYAXX     low     whber               4.421101           \n",
              "ghscvcthhghvwee  ICYYZS     low     whber               4.360846           \n",
              "mllcpjjhlxpagkg  PTSUW      medium  whber               3.744708           \n",
              "jwiljeqxvgoihzd  ICVXS      low     whber               5.566695           \n",
              "qafhcjfsgoojgob  ZSYS       low     whber               3.740591           \n",
              "cbhcwunpecxihwa  ICZSAU     low     whber               4.259520           \n",
              "\n",
              "                 latitude_source  mean_halt_times_source  \\\n",
              "id_code                                                    \n",
              "aimxhkkndepvgru  51.035896        309.014451               \n",
              "gvztafnkbaloerl  50.838943        142.601156               \n",
              "sgvbhnwlccxptlk  50.661235        27.141618                \n",
              "dbtdeiysdjscume  50.590823        31.508671                \n",
              "njwzzybbwzjgcjn  51.217200        467.982659               \n",
              "ghscvcthhghvwee  50.859663        640.265896               \n",
              "mllcpjjhlxpagkg  50.423335        24.670520                \n",
              "jwiljeqxvgoihzd  50.624550        269.124277               \n",
              "qafhcjfsgoojgob  51.056365        80.534682                \n",
              "cbhcwunpecxihwa  51.208336        48.208092                \n",
              "\n",
              "                country_code_destination  longitude_destination  \\\n",
              "id_code                                                           \n",
              "aimxhkkndepvgru  whber                    4.356801                \n",
              "gvztafnkbaloerl  whber                    4.389513                \n",
              "sgvbhnwlccxptlk  whber                    3.823408                \n",
              "dbtdeiysdjscume  whber                    4.613884                \n",
              "njwzzybbwzjgcjn  whber                    4.432221                \n",
              "ghscvcthhghvwee  whber                    5.050031                \n",
              "mllcpjjhlxpagkg  whber                    3.820253                \n",
              "jwiljeqxvgoihzd  whber                    4.715866                \n",
              "qafhcjfsgoojgob  whber                    3.710675                \n",
              "cbhcwunpecxihwa  whber                    4.390259                \n",
              "\n",
              "                 latitude_destination  mean_halt_times_destination  \\\n",
              "id_code                                                              \n",
              "aimxhkkndepvgru  50.845658             634.164740                    \n",
              "gvztafnkbaloerl  50.822187             102.765896                    \n",
              "sgvbhnwlccxptlk  50.686585             27.141618                     \n",
              "dbtdeiysdjscume  50.637611             31.508671                     \n",
              "njwzzybbwzjgcjn  51.199230             421.644509                    \n",
              "ghscvcthhghvwee  50.993341             84.919075                     \n",
              "mllcpjjhlxpagkg  50.442860             71.514451                     \n",
              "jwiljeqxvgoihzd  50.882280             351.916185                    \n",
              "qafhcjfsgoojgob  51.035896             309.014451                    \n",
              "cbhcwunpecxihwa  51.197828             71.193642                     \n",
              "\n",
              "                 current_year  current_week current_day  is_weekend  \n",
              "id_code                                                              \n",
              "aimxhkkndepvgru  2016          30            Saturday    True        \n",
              "gvztafnkbaloerl  2016          39            Monday      False       \n",
              "sgvbhnwlccxptlk  2016          38            Monday      False       \n",
              "dbtdeiysdjscume  2016          38            Thursday    False       \n",
              "njwzzybbwzjgcjn  2016          32            Thursday    False       \n",
              "ghscvcthhghvwee  2016          40            Tuesday     False       \n",
              "mllcpjjhlxpagkg  2016          39            Thursday    False       \n",
              "jwiljeqxvgoihzd  2016          31            Thursday    False       \n",
              "qafhcjfsgoojgob  2016          37            Friday      False       \n",
              "cbhcwunpecxihwa  2016          39            Tuesday     False       "
            ]
          },
          "metadata": {
            "tags": []
          },
          "execution_count": 5
        }
      ]
    },
    {
      "cell_type": "markdown",
      "metadata": {
        "id": "GwJAXzM7a2WY",
        "colab_type": "text"
      },
      "source": [
        "<a id=section301></a>\n",
        "## 3.1 Description of the Datasets"
      ]
    },
    {
      "cell_type": "markdown",
      "metadata": {
        "id": "YZ2IBl6D41Gv",
        "colab_type": "text"
      },
      "source": [
        "### a. shape"
      ]
    },
    {
      "cell_type": "code",
      "metadata": {
        "id": "_miXJUQWekMg",
        "colab_type": "code",
        "colab": {
          "base_uri": "https://localhost:8080/",
          "height": 34
        },
        "outputId": "60bedda5-fe10-40c8-8293-c2fa7bb2a5f3"
      },
      "source": [
        "# checking shape of data\n",
        "df_train.shape, df_test.shape"
      ],
      "execution_count": null,
      "outputs": [
        {
          "output_type": "execute_result",
          "data": {
            "text/plain": [
              "((1284, 18), (964, 17))"
            ]
          },
          "metadata": {
            "tags": []
          },
          "execution_count": 6
        }
      ]
    },
    {
      "cell_type": "markdown",
      "metadata": {
        "id": "r2sZMYh2o82E",
        "colab_type": "text"
      },
      "source": [
        "### b. info"
      ]
    },
    {
      "cell_type": "markdown",
      "metadata": {
        "id": "yhPSCPfcrDor",
        "colab_type": "text"
      },
      "source": [
        "#### Train"
      ]
    },
    {
      "cell_type": "code",
      "metadata": {
        "id": "YaQRWAAAa2Wa",
        "colab_type": "code",
        "colab": {
          "base_uri": "https://localhost:8080/",
          "height": 442
        },
        "outputId": "1b0eaf07-c0b7-4187-90b0-302f69d71d8d"
      },
      "source": [
        "df_train.info()"
      ],
      "execution_count": null,
      "outputs": [
        {
          "output_type": "stream",
          "text": [
            "<class 'pandas.core.frame.DataFrame'>\n",
            "Index: 1284 entries, isfywypmkqqhyft to hfhwirltuffenfr\n",
            "Data columns (total 18 columns):\n",
            " #   Column                       Non-Null Count  Dtype  \n",
            "---  ------                       --------------  -----  \n",
            " 0   current_date                 1284 non-null   object \n",
            " 1   current_time                 1284 non-null   object \n",
            " 2   source_name                  1284 non-null   object \n",
            " 3   destination_name             1284 non-null   object \n",
            " 4   train_name                   1284 non-null   object \n",
            " 5   target                       1284 non-null   object \n",
            " 6   country_code_source          1283 non-null   object \n",
            " 7   longitude_source             1283 non-null   float64\n",
            " 8   latitude_source              1283 non-null   float64\n",
            " 9   mean_halt_times_source       1283 non-null   float64\n",
            " 10  country_code_destination     1251 non-null   object \n",
            " 11  longitude_destination        1251 non-null   float64\n",
            " 12  latitude_destination         1251 non-null   float64\n",
            " 13  mean_halt_times_destination  1251 non-null   float64\n",
            " 14  current_year                 1284 non-null   int64  \n",
            " 15  current_week                 1284 non-null   int64  \n",
            " 16  current_day                  1284 non-null   object \n",
            " 17  is_weekend                   1284 non-null   bool   \n",
            "dtypes: bool(1), float64(6), int64(2), object(9)\n",
            "memory usage: 181.8+ KB\n"
          ],
          "name": "stdout"
        }
      ]
    },
    {
      "cell_type": "markdown",
      "metadata": {
        "id": "UaPfzfFZrIB3",
        "colab_type": "text"
      },
      "source": [
        "#### Test"
      ]
    },
    {
      "cell_type": "code",
      "metadata": {
        "id": "lZvxUh2upD24",
        "colab_type": "code",
        "colab": {
          "base_uri": "https://localhost:8080/",
          "height": 425
        },
        "outputId": "8d67eed3-fd59-4544-d0d0-781866782ae8"
      },
      "source": [
        "df_test.info()"
      ],
      "execution_count": null,
      "outputs": [
        {
          "output_type": "stream",
          "text": [
            "<class 'pandas.core.frame.DataFrame'>\n",
            "Index: 964 entries, mckbezdplrukagl to xwqxedeqlnimclu\n",
            "Data columns (total 17 columns):\n",
            " #   Column                       Non-Null Count  Dtype  \n",
            "---  ------                       --------------  -----  \n",
            " 0   current_date                 964 non-null    object \n",
            " 1   current_time                 964 non-null    object \n",
            " 2   source_name                  964 non-null    object \n",
            " 3   destination_name             964 non-null    object \n",
            " 4   train_name                   964 non-null    object \n",
            " 5   country_code_source          964 non-null    object \n",
            " 6   longitude_source             964 non-null    float64\n",
            " 7   latitude_source              964 non-null    float64\n",
            " 8   mean_halt_times_source       964 non-null    float64\n",
            " 9   country_code_destination     964 non-null    object \n",
            " 10  longitude_destination        964 non-null    float64\n",
            " 11  latitude_destination         964 non-null    float64\n",
            " 12  mean_halt_times_destination  964 non-null    float64\n",
            " 13  current_year                 964 non-null    int64  \n",
            " 14  current_week                 964 non-null    int64  \n",
            " 15  current_day                  964 non-null    object \n",
            " 16  is_weekend                   964 non-null    bool   \n",
            "dtypes: bool(1), float64(6), int64(2), object(8)\n",
            "memory usage: 129.0+ KB\n"
          ],
          "name": "stdout"
        }
      ]
    },
    {
      "cell_type": "markdown",
      "metadata": {
        "id": "FvsEVeo8q9LY",
        "colab_type": "text"
      },
      "source": [
        "### c. describe"
      ]
    },
    {
      "cell_type": "markdown",
      "metadata": {
        "id": "3AeTe-_BrOnK",
        "colab_type": "text"
      },
      "source": [
        "#### Train"
      ]
    },
    {
      "cell_type": "code",
      "metadata": {
        "id": "1StJj48-eYvY",
        "colab_type": "code",
        "colab": {
          "base_uri": "https://localhost:8080/",
          "height": 297
        },
        "outputId": "e6fed02a-e42c-4ecc-aa75-317ac3343fd2"
      },
      "source": [
        "df_train.describe()"
      ],
      "execution_count": null,
      "outputs": [
        {
          "output_type": "execute_result",
          "data": {
            "text/html": [
              "<div>\n",
              "<style scoped>\n",
              "    .dataframe tbody tr th:only-of-type {\n",
              "        vertical-align: middle;\n",
              "    }\n",
              "\n",
              "    .dataframe tbody tr th {\n",
              "        vertical-align: top;\n",
              "    }\n",
              "\n",
              "    .dataframe thead th {\n",
              "        text-align: right;\n",
              "    }\n",
              "</style>\n",
              "<table border=\"1\" class=\"dataframe\">\n",
              "  <thead>\n",
              "    <tr style=\"text-align: right;\">\n",
              "      <th></th>\n",
              "      <th>longitude_source</th>\n",
              "      <th>latitude_source</th>\n",
              "      <th>mean_halt_times_source</th>\n",
              "      <th>longitude_destination</th>\n",
              "      <th>latitude_destination</th>\n",
              "      <th>mean_halt_times_destination</th>\n",
              "      <th>current_year</th>\n",
              "      <th>current_week</th>\n",
              "    </tr>\n",
              "  </thead>\n",
              "  <tbody>\n",
              "    <tr>\n",
              "      <th>count</th>\n",
              "      <td>1283.000000</td>\n",
              "      <td>1283.000000</td>\n",
              "      <td>1283.000000</td>\n",
              "      <td>1251.000000</td>\n",
              "      <td>1251.000000</td>\n",
              "      <td>1251.000000</td>\n",
              "      <td>1284.0</td>\n",
              "      <td>1284.000000</td>\n",
              "    </tr>\n",
              "    <tr>\n",
              "      <th>mean</th>\n",
              "      <td>4.292481</td>\n",
              "      <td>50.934674</td>\n",
              "      <td>278.061613</td>\n",
              "      <td>4.298829</td>\n",
              "      <td>50.924570</td>\n",
              "      <td>271.872701</td>\n",
              "      <td>2016.0</td>\n",
              "      <td>36.781153</td>\n",
              "    </tr>\n",
              "    <tr>\n",
              "      <th>std</th>\n",
              "      <td>0.552492</td>\n",
              "      <td>0.206194</td>\n",
              "      <td>228.954089</td>\n",
              "      <td>0.558849</td>\n",
              "      <td>0.296266</td>\n",
              "      <td>234.419223</td>\n",
              "      <td>0.0</td>\n",
              "      <td>3.175253</td>\n",
              "    </tr>\n",
              "    <tr>\n",
              "      <th>min</th>\n",
              "      <td>-0.126061</td>\n",
              "      <td>49.638463</td>\n",
              "      <td>0.000000</td>\n",
              "      <td>0.321070</td>\n",
              "      <td>43.455128</td>\n",
              "      <td>0.000000</td>\n",
              "      <td>2016.0</td>\n",
              "      <td>30.000000</td>\n",
              "    </tr>\n",
              "    <tr>\n",
              "      <th>25%</th>\n",
              "      <td>4.039653</td>\n",
              "      <td>50.845658</td>\n",
              "      <td>78.488439</td>\n",
              "      <td>4.014573</td>\n",
              "      <td>50.835707</td>\n",
              "      <td>71.193642</td>\n",
              "      <td>2016.0</td>\n",
              "      <td>36.000000</td>\n",
              "    </tr>\n",
              "    <tr>\n",
              "      <th>50%</th>\n",
              "      <td>4.360846</td>\n",
              "      <td>50.896456</td>\n",
              "      <td>180.598266</td>\n",
              "      <td>4.356801</td>\n",
              "      <td>50.891925</td>\n",
              "      <td>164.419075</td>\n",
              "      <td>2016.0</td>\n",
              "      <td>38.000000</td>\n",
              "    </tr>\n",
              "    <tr>\n",
              "      <th>75%</th>\n",
              "      <td>4.482785</td>\n",
              "      <td>51.056365</td>\n",
              "      <td>467.982659</td>\n",
              "      <td>4.482785</td>\n",
              "      <td>51.035896</td>\n",
              "      <td>421.644509</td>\n",
              "      <td>2016.0</td>\n",
              "      <td>39.000000</td>\n",
              "    </tr>\n",
              "    <tr>\n",
              "      <th>max</th>\n",
              "      <td>5.982265</td>\n",
              "      <td>51.925093</td>\n",
              "      <td>686.615607</td>\n",
              "      <td>6.958823</td>\n",
              "      <td>52.379128</td>\n",
              "      <td>686.615607</td>\n",
              "      <td>2016.0</td>\n",
              "      <td>40.000000</td>\n",
              "    </tr>\n",
              "  </tbody>\n",
              "</table>\n",
              "</div>"
            ],
            "text/plain": [
              "       longitude_source  latitude_source  mean_halt_times_source  \\\n",
              "count  1283.000000       1283.000000      1283.000000              \n",
              "mean   4.292481          50.934674        278.061613               \n",
              "std    0.552492          0.206194         228.954089               \n",
              "min   -0.126061          49.638463        0.000000                 \n",
              "25%    4.039653          50.845658        78.488439                \n",
              "50%    4.360846          50.896456        180.598266               \n",
              "75%    4.482785          51.056365        467.982659               \n",
              "max    5.982265          51.925093        686.615607               \n",
              "\n",
              "       longitude_destination  latitude_destination  \\\n",
              "count  1251.000000            1251.000000            \n",
              "mean   4.298829               50.924570              \n",
              "std    0.558849               0.296266               \n",
              "min    0.321070               43.455128              \n",
              "25%    4.014573               50.835707              \n",
              "50%    4.356801               50.891925              \n",
              "75%    4.482785               51.035896              \n",
              "max    6.958823               52.379128              \n",
              "\n",
              "       mean_halt_times_destination  current_year  current_week  \n",
              "count  1251.000000                  1284.0        1284.000000   \n",
              "mean   271.872701                   2016.0        36.781153     \n",
              "std    234.419223                   0.0           3.175253      \n",
              "min    0.000000                     2016.0        30.000000     \n",
              "25%    71.193642                    2016.0        36.000000     \n",
              "50%    164.419075                   2016.0        38.000000     \n",
              "75%    421.644509                   2016.0        39.000000     \n",
              "max    686.615607                   2016.0        40.000000     "
            ]
          },
          "metadata": {
            "tags": []
          },
          "execution_count": 9
        }
      ]
    },
    {
      "cell_type": "markdown",
      "metadata": {
        "id": "p_MDhK2FrbZv",
        "colab_type": "text"
      },
      "source": [
        "#### Test"
      ]
    },
    {
      "cell_type": "code",
      "metadata": {
        "id": "-3ohy2aIrgGq",
        "colab_type": "code",
        "colab": {
          "base_uri": "https://localhost:8080/",
          "height": 297
        },
        "outputId": "2d58a94f-2ae4-4e7e-f5ac-2105308baa40"
      },
      "source": [
        "df_test.describe()"
      ],
      "execution_count": null,
      "outputs": [
        {
          "output_type": "execute_result",
          "data": {
            "text/html": [
              "<div>\n",
              "<style scoped>\n",
              "    .dataframe tbody tr th:only-of-type {\n",
              "        vertical-align: middle;\n",
              "    }\n",
              "\n",
              "    .dataframe tbody tr th {\n",
              "        vertical-align: top;\n",
              "    }\n",
              "\n",
              "    .dataframe thead th {\n",
              "        text-align: right;\n",
              "    }\n",
              "</style>\n",
              "<table border=\"1\" class=\"dataframe\">\n",
              "  <thead>\n",
              "    <tr style=\"text-align: right;\">\n",
              "      <th></th>\n",
              "      <th>longitude_source</th>\n",
              "      <th>latitude_source</th>\n",
              "      <th>mean_halt_times_source</th>\n",
              "      <th>longitude_destination</th>\n",
              "      <th>latitude_destination</th>\n",
              "      <th>mean_halt_times_destination</th>\n",
              "      <th>current_year</th>\n",
              "      <th>current_week</th>\n",
              "    </tr>\n",
              "  </thead>\n",
              "  <tbody>\n",
              "    <tr>\n",
              "      <th>count</th>\n",
              "      <td>964.000000</td>\n",
              "      <td>964.000000</td>\n",
              "      <td>964.000000</td>\n",
              "      <td>964.000000</td>\n",
              "      <td>964.000000</td>\n",
              "      <td>964.000000</td>\n",
              "      <td>964.0</td>\n",
              "      <td>964.000000</td>\n",
              "    </tr>\n",
              "    <tr>\n",
              "      <th>mean</th>\n",
              "      <td>4.281109</td>\n",
              "      <td>50.889685</td>\n",
              "      <td>271.768393</td>\n",
              "      <td>4.277023</td>\n",
              "      <td>50.889969</td>\n",
              "      <td>287.419240</td>\n",
              "      <td>2016.0</td>\n",
              "      <td>41.509336</td>\n",
              "    </tr>\n",
              "    <tr>\n",
              "      <th>std</th>\n",
              "      <td>0.578196</td>\n",
              "      <td>0.202678</td>\n",
              "      <td>222.607397</td>\n",
              "      <td>0.572235</td>\n",
              "      <td>0.240117</td>\n",
              "      <td>238.876318</td>\n",
              "      <td>0.0</td>\n",
              "      <td>0.987416</td>\n",
              "    </tr>\n",
              "    <tr>\n",
              "      <th>min</th>\n",
              "      <td>2.652770</td>\n",
              "      <td>49.599996</td>\n",
              "      <td>11.973988</td>\n",
              "      <td>2.355309</td>\n",
              "      <td>48.880998</td>\n",
              "      <td>10.283237</td>\n",
              "      <td>2016.0</td>\n",
              "      <td>40.000000</td>\n",
              "    </tr>\n",
              "    <tr>\n",
              "      <th>25%</th>\n",
              "      <td>3.841955</td>\n",
              "      <td>50.824506</td>\n",
              "      <td>72.329480</td>\n",
              "      <td>3.942542</td>\n",
              "      <td>50.835707</td>\n",
              "      <td>72.329480</td>\n",
              "      <td>2016.0</td>\n",
              "      <td>41.000000</td>\n",
              "    </tr>\n",
              "    <tr>\n",
              "      <th>50%</th>\n",
              "      <td>4.356801</td>\n",
              "      <td>50.882280</td>\n",
              "      <td>202.187861</td>\n",
              "      <td>4.356801</td>\n",
              "      <td>50.859663</td>\n",
              "      <td>180.598266</td>\n",
              "      <td>2016.0</td>\n",
              "      <td>41.000000</td>\n",
              "    </tr>\n",
              "    <tr>\n",
              "      <th>75%</th>\n",
              "      <td>4.499323</td>\n",
              "      <td>51.035896</td>\n",
              "      <td>351.916185</td>\n",
              "      <td>4.482785</td>\n",
              "      <td>51.017648</td>\n",
              "      <td>467.982659</td>\n",
              "      <td>2016.0</td>\n",
              "      <td>42.000000</td>\n",
              "    </tr>\n",
              "    <tr>\n",
              "      <th>max</th>\n",
              "      <td>6.133331</td>\n",
              "      <td>51.925093</td>\n",
              "      <td>686.615607</td>\n",
              "      <td>6.133331</td>\n",
              "      <td>52.379128</td>\n",
              "      <td>686.615607</td>\n",
              "      <td>2016.0</td>\n",
              "      <td>43.000000</td>\n",
              "    </tr>\n",
              "  </tbody>\n",
              "</table>\n",
              "</div>"
            ],
            "text/plain": [
              "       longitude_source  latitude_source  mean_halt_times_source  \\\n",
              "count  964.000000        964.000000       964.000000               \n",
              "mean   4.281109          50.889685        271.768393               \n",
              "std    0.578196          0.202678         222.607397               \n",
              "min    2.652770          49.599996        11.973988                \n",
              "25%    3.841955          50.824506        72.329480                \n",
              "50%    4.356801          50.882280        202.187861               \n",
              "75%    4.499323          51.035896        351.916185               \n",
              "max    6.133331          51.925093        686.615607               \n",
              "\n",
              "       longitude_destination  latitude_destination  \\\n",
              "count  964.000000             964.000000             \n",
              "mean   4.277023               50.889969              \n",
              "std    0.572235               0.240117               \n",
              "min    2.355309               48.880998              \n",
              "25%    3.942542               50.835707              \n",
              "50%    4.356801               50.859663              \n",
              "75%    4.482785               51.017648              \n",
              "max    6.133331               52.379128              \n",
              "\n",
              "       mean_halt_times_destination  current_year  current_week  \n",
              "count  964.000000                   964.0         964.000000    \n",
              "mean   287.419240                   2016.0        41.509336     \n",
              "std    238.876318                   0.0           0.987416      \n",
              "min    10.283237                    2016.0        40.000000     \n",
              "25%    72.329480                    2016.0        41.000000     \n",
              "50%    180.598266                   2016.0        41.000000     \n",
              "75%    467.982659                   2016.0        42.000000     \n",
              "max    686.615607                   2016.0        43.000000     "
            ]
          },
          "metadata": {
            "tags": []
          },
          "execution_count": 10
        }
      ]
    },
    {
      "cell_type": "markdown",
      "metadata": {
        "colab_type": "text",
        "id": "7uZZEVgXWOue"
      },
      "source": [
        "**Observations:**\n",
        "\n",
        "We observe there are no significant outliers. Let's confirm the same after pandas-profiling"
      ]
    },
    {
      "cell_type": "markdown",
      "metadata": {
        "colab_type": "text",
        "id": "AaJkzYyYZNFb"
      },
      "source": [
        " <a id=section302></a>\n",
        "## 3.2 Pandas Profiling before Data Preprocessing"
      ]
    },
    {
      "cell_type": "code",
      "metadata": {
        "colab_type": "code",
        "id": "Njail4GaaGuj",
        "colab": {}
      },
      "source": [
        "# To install pandas profiling please run this command.\n",
        "\n",
        "#!pip install pandas-profiling --upgrade"
      ],
      "execution_count": null,
      "outputs": []
    },
    {
      "cell_type": "code",
      "metadata": {
        "id": "Cc-p8JKWe6-5",
        "colab_type": "code",
        "colab": {}
      },
      "source": [
        "from pandas_profiling import ProfileReport\n",
        "\n",
        "# Running pandas profiling to get better understanding of data\n",
        "#profile =  ProfileReport(df_train, title='Pandas Profiling Report before data preprocessing', html={'style':{'full_width':True}})\n",
        "#profile.to_file(output_file=\"train_report_before_processing.html\")"
      ],
      "execution_count": null,
      "outputs": []
    },
    {
      "cell_type": "code",
      "metadata": {
        "id": "Gzwk8X-Yt_ru",
        "colab_type": "code",
        "colab": {}
      },
      "source": [
        "# Running pandas profiling to get better understanding of data\n",
        "#profile =  ProfileReport(df_test, title='Pandas Profiling Report before data preprocessing', html={'style':{'full_width':True}})\n",
        "#profile.to_file(output_file=\"test_report_before_processing.html\")"
      ],
      "execution_count": null,
      "outputs": []
    },
    {
      "cell_type": "markdown",
      "metadata": {
        "colab_type": "text",
        "id": "VNZlsvIlZaZl"
      },
      "source": [
        "# 4. Data Processing"
      ]
    },
    {
      "cell_type": "markdown",
      "metadata": {
        "id": "EGmOaJGSWNef",
        "colab_type": "text"
      },
      "source": [
        " <a id=section401></a>\n",
        "##  4.1 Removing columns with constant values"
      ]
    },
    {
      "cell_type": "code",
      "metadata": {
        "id": "TpBV9e85WNeg",
        "colab_type": "code",
        "colab": {
          "base_uri": "https://localhost:8080/",
          "height": 51
        },
        "outputId": "a71aa04d-02f6-4d9e-a3dd-323584ac7418"
      },
      "source": [
        "df_train['current_year'].value_counts()"
      ],
      "execution_count": null,
      "outputs": [
        {
          "output_type": "execute_result",
          "data": {
            "text/plain": [
              "2016    1284\n",
              "Name: current_year, dtype: int64"
            ]
          },
          "metadata": {
            "tags": []
          },
          "execution_count": 14
        }
      ]
    },
    {
      "cell_type": "code",
      "metadata": {
        "id": "2qWdJt6L9DMC",
        "colab_type": "code",
        "colab": {}
      },
      "source": [
        "df_train.drop('current_year', axis=1, inplace=True)\n",
        "df_test.drop('current_year', axis=1, inplace=True)"
      ],
      "execution_count": null,
      "outputs": []
    },
    {
      "cell_type": "code",
      "metadata": {
        "id": "T5Ig8jhuWNej",
        "colab_type": "code",
        "colab": {
          "base_uri": "https://localhost:8080/",
          "height": 102
        },
        "outputId": "292f9e60-d6f4-4e6d-cc78-398c601c7e49"
      },
      "source": [
        "df_train['country_code_source'].value_counts()"
      ],
      "execution_count": null,
      "outputs": [
        {
          "output_type": "execute_result",
          "data": {
            "text/plain": [
              "whber    1280\n",
              "qwnll    1   \n",
              "wsluu    1   \n",
              "logbp    1   \n",
              "Name: country_code_source, dtype: int64"
            ]
          },
          "metadata": {
            "tags": []
          },
          "execution_count": 16
        }
      ]
    },
    {
      "cell_type": "code",
      "metadata": {
        "id": "mehzNO4r9X9c",
        "colab_type": "code",
        "colab": {}
      },
      "source": [
        "df_train.drop('country_code_source', axis=1, inplace=True)\n",
        "df_test.drop('country_code_source', axis=1, inplace=True)"
      ],
      "execution_count": null,
      "outputs": []
    },
    {
      "cell_type": "code",
      "metadata": {
        "id": "rFNw8D1CWNen",
        "colab_type": "code",
        "colab": {
          "base_uri": "https://localhost:8080/",
          "height": 119
        },
        "outputId": "e937d954-3f54-491d-957f-d8f03c09eb89"
      },
      "source": [
        "df_train['country_code_destination'].value_counts()"
      ],
      "execution_count": null,
      "outputs": [
        {
          "output_type": "execute_result",
          "data": {
            "text/plain": [
              "whber    1247\n",
              "zxdec    1   \n",
              "qwnll    1   \n",
              "logbp    1   \n",
              "aqfre    1   \n",
              "Name: country_code_destination, dtype: int64"
            ]
          },
          "metadata": {
            "tags": []
          },
          "execution_count": 18
        }
      ]
    },
    {
      "cell_type": "code",
      "metadata": {
        "id": "hjnynHhZ9byG",
        "colab_type": "code",
        "colab": {}
      },
      "source": [
        "df_train.drop('country_code_destination', axis=1, inplace=True)\n",
        "df_test.drop('country_code_destination', axis=1, inplace=True)"
      ],
      "execution_count": null,
      "outputs": []
    },
    {
      "cell_type": "markdown",
      "metadata": {
        "id": "Pn4n0OaWWNeu",
        "colab_type": "text"
      },
      "source": [
        " <a id=section402></a>\n",
        "##  4.2 Converting current_date and current_time to pandas datatime"
      ]
    },
    {
      "cell_type": "markdown",
      "metadata": {
        "id": "0Cu2YD-U-BRU",
        "colab_type": "text"
      },
      "source": [
        "#### Train"
      ]
    },
    {
      "cell_type": "code",
      "metadata": {
        "id": "Q7NryoSEWNev",
        "colab_type": "code",
        "colab": {
          "base_uri": "https://localhost:8080/",
          "height": 255
        },
        "outputId": "71e039a9-abfa-45ce-f1a3-8ad9a155e50b"
      },
      "source": [
        "# concatenating current_date and current_time to form datetime string\n",
        "df_train['current_date_time'] = df_train['current_date'].astype('str')  + \" \" + df_train['current_time'].astype('str')\n",
        "\n",
        "# converting datetime string to pandas datetime\n",
        "df_train['current_date_time'] = pd.to_datetime( df_train['current_date_time'])\n",
        "\n",
        "df_train['hour_of_day'] = df_train['current_date_time'].dt.hour\n",
        "df_train['current_day'] = df_train['current_date_time'].dt.day\n",
        "df_train['current_month'] = df_train['current_date_time'].dt.month\n",
        "\n",
        "df_train['hour_of_day'] = df_train['hour_of_day'].astype(str)\n",
        "df_train['current_day'] = df_train['current_day'] .astype(str)\n",
        "df_train['current_month'] = df_train['current_month'].astype(str)\n",
        "df_train['current_week'] = df_train['current_week'].astype(str)\n",
        "\n",
        "# dropping current_date and current_time columns\n",
        "df_train.drop(['current_date','current_time', 'current_date_time'], axis = 1, inplace=True)\n",
        "\n",
        "df_train.head()"
      ],
      "execution_count": null,
      "outputs": [
        {
          "output_type": "execute_result",
          "data": {
            "text/html": [
              "<div>\n",
              "<style scoped>\n",
              "    .dataframe tbody tr th:only-of-type {\n",
              "        vertical-align: middle;\n",
              "    }\n",
              "\n",
              "    .dataframe tbody tr th {\n",
              "        vertical-align: top;\n",
              "    }\n",
              "\n",
              "    .dataframe thead th {\n",
              "        text-align: right;\n",
              "    }\n",
              "</style>\n",
              "<table border=\"1\" class=\"dataframe\">\n",
              "  <thead>\n",
              "    <tr style=\"text-align: right;\">\n",
              "      <th></th>\n",
              "      <th>source_name</th>\n",
              "      <th>destination_name</th>\n",
              "      <th>train_name</th>\n",
              "      <th>target</th>\n",
              "      <th>longitude_source</th>\n",
              "      <th>latitude_source</th>\n",
              "      <th>mean_halt_times_source</th>\n",
              "      <th>longitude_destination</th>\n",
              "      <th>latitude_destination</th>\n",
              "      <th>mean_halt_times_destination</th>\n",
              "      <th>current_week</th>\n",
              "      <th>current_day</th>\n",
              "      <th>is_weekend</th>\n",
              "      <th>hour_of_day</th>\n",
              "      <th>current_month</th>\n",
              "    </tr>\n",
              "    <tr>\n",
              "      <th>id_code</th>\n",
              "      <th></th>\n",
              "      <th></th>\n",
              "      <th></th>\n",
              "      <th></th>\n",
              "      <th></th>\n",
              "      <th></th>\n",
              "      <th></th>\n",
              "      <th></th>\n",
              "      <th></th>\n",
              "      <th></th>\n",
              "      <th></th>\n",
              "      <th></th>\n",
              "      <th></th>\n",
              "      <th></th>\n",
              "      <th></th>\n",
              "    </tr>\n",
              "  </thead>\n",
              "  <tbody>\n",
              "    <tr>\n",
              "      <th>isfywypmkqqhyft</th>\n",
              "      <td>station$147</td>\n",
              "      <td>station$1</td>\n",
              "      <td>ICZVZS</td>\n",
              "      <td>high</td>\n",
              "      <td>4.356801</td>\n",
              "      <td>50.845658</td>\n",
              "      <td>634.16474</td>\n",
              "      <td>NaN</td>\n",
              "      <td>NaN</td>\n",
              "      <td>NaN</td>\n",
              "      <td>30</td>\n",
              "      <td>27</td>\n",
              "      <td>False</td>\n",
              "      <td>20</td>\n",
              "      <td>7</td>\n",
              "    </tr>\n",
              "    <tr>\n",
              "      <th>mqsfxyvuqpbwomk</th>\n",
              "      <td>station$147</td>\n",
              "      <td>station$1</td>\n",
              "      <td>ICZVZS</td>\n",
              "      <td>high</td>\n",
              "      <td>4.356801</td>\n",
              "      <td>50.845658</td>\n",
              "      <td>634.16474</td>\n",
              "      <td>NaN</td>\n",
              "      <td>NaN</td>\n",
              "      <td>NaN</td>\n",
              "      <td>30</td>\n",
              "      <td>27</td>\n",
              "      <td>False</td>\n",
              "      <td>20</td>\n",
              "      <td>7</td>\n",
              "    </tr>\n",
              "    <tr>\n",
              "      <th>alspwwtbdvqsgby</th>\n",
              "      <td>station$147</td>\n",
              "      <td>station$1</td>\n",
              "      <td>ICZVZS</td>\n",
              "      <td>high</td>\n",
              "      <td>4.356801</td>\n",
              "      <td>50.845658</td>\n",
              "      <td>634.16474</td>\n",
              "      <td>NaN</td>\n",
              "      <td>NaN</td>\n",
              "      <td>NaN</td>\n",
              "      <td>30</td>\n",
              "      <td>27</td>\n",
              "      <td>False</td>\n",
              "      <td>20</td>\n",
              "      <td>7</td>\n",
              "    </tr>\n",
              "    <tr>\n",
              "      <th>szitxhhqduyrqpg</th>\n",
              "      <td>station$147</td>\n",
              "      <td>station$1</td>\n",
              "      <td>ICZVZS</td>\n",
              "      <td>high</td>\n",
              "      <td>4.356801</td>\n",
              "      <td>50.845658</td>\n",
              "      <td>634.16474</td>\n",
              "      <td>NaN</td>\n",
              "      <td>NaN</td>\n",
              "      <td>NaN</td>\n",
              "      <td>30</td>\n",
              "      <td>27</td>\n",
              "      <td>False</td>\n",
              "      <td>20</td>\n",
              "      <td>7</td>\n",
              "    </tr>\n",
              "    <tr>\n",
              "      <th>krisdqzczivvwcp</th>\n",
              "      <td>station$147</td>\n",
              "      <td>station$1</td>\n",
              "      <td>ICZVZS</td>\n",
              "      <td>high</td>\n",
              "      <td>4.356801</td>\n",
              "      <td>50.845658</td>\n",
              "      <td>634.16474</td>\n",
              "      <td>NaN</td>\n",
              "      <td>NaN</td>\n",
              "      <td>NaN</td>\n",
              "      <td>30</td>\n",
              "      <td>27</td>\n",
              "      <td>False</td>\n",
              "      <td>20</td>\n",
              "      <td>7</td>\n",
              "    </tr>\n",
              "  </tbody>\n",
              "</table>\n",
              "</div>"
            ],
            "text/plain": [
              "                 source_name destination_name train_name target  \\\n",
              "id_code                                                           \n",
              "isfywypmkqqhyft  station$147  station$1        ICZVZS     high    \n",
              "mqsfxyvuqpbwomk  station$147  station$1        ICZVZS     high    \n",
              "alspwwtbdvqsgby  station$147  station$1        ICZVZS     high    \n",
              "szitxhhqduyrqpg  station$147  station$1        ICZVZS     high    \n",
              "krisdqzczivvwcp  station$147  station$1        ICZVZS     high    \n",
              "\n",
              "                 longitude_source  latitude_source  mean_halt_times_source  \\\n",
              "id_code                                                                      \n",
              "isfywypmkqqhyft  4.356801          50.845658        634.16474                \n",
              "mqsfxyvuqpbwomk  4.356801          50.845658        634.16474                \n",
              "alspwwtbdvqsgby  4.356801          50.845658        634.16474                \n",
              "szitxhhqduyrqpg  4.356801          50.845658        634.16474                \n",
              "krisdqzczivvwcp  4.356801          50.845658        634.16474                \n",
              "\n",
              "                 longitude_destination  latitude_destination  \\\n",
              "id_code                                                        \n",
              "isfywypmkqqhyft NaN                    NaN                     \n",
              "mqsfxyvuqpbwomk NaN                    NaN                     \n",
              "alspwwtbdvqsgby NaN                    NaN                     \n",
              "szitxhhqduyrqpg NaN                    NaN                     \n",
              "krisdqzczivvwcp NaN                    NaN                     \n",
              "\n",
              "                 mean_halt_times_destination current_week current_day  \\\n",
              "id_code                                                                 \n",
              "isfywypmkqqhyft NaN                           30           27           \n",
              "mqsfxyvuqpbwomk NaN                           30           27           \n",
              "alspwwtbdvqsgby NaN                           30           27           \n",
              "szitxhhqduyrqpg NaN                           30           27           \n",
              "krisdqzczivvwcp NaN                           30           27           \n",
              "\n",
              "                 is_weekend hour_of_day current_month  \n",
              "id_code                                                \n",
              "isfywypmkqqhyft  False       20          7             \n",
              "mqsfxyvuqpbwomk  False       20          7             \n",
              "alspwwtbdvqsgby  False       20          7             \n",
              "szitxhhqduyrqpg  False       20          7             \n",
              "krisdqzczivvwcp  False       20          7             "
            ]
          },
          "metadata": {
            "tags": []
          },
          "execution_count": 20
        }
      ]
    },
    {
      "cell_type": "markdown",
      "metadata": {
        "id": "n0KNHtG2-pdx",
        "colab_type": "text"
      },
      "source": [
        "#### Test"
      ]
    },
    {
      "cell_type": "code",
      "metadata": {
        "id": "mEiw8BEl-riP",
        "colab_type": "code",
        "colab": {
          "base_uri": "https://localhost:8080/",
          "height": 255
        },
        "outputId": "b821b7a6-8bb1-4c8e-c58e-183bdcdfe93e"
      },
      "source": [
        "# concatenating current_date and current_time to form datetime string\n",
        "df_test['current_date_time'] = df_test['current_date'].astype('str')  + \" \" + df_test['current_time'].astype('str')\n",
        "\n",
        "# converting datetime string to pandas datetime\n",
        "df_test['current_date_time'] = pd.to_datetime( df_test['current_date_time'])\n",
        "\n",
        "df_test['hour_of_day'] = df_test['current_date_time'].dt.hour\n",
        "df_test['current_day'] = df_test['current_date_time'].dt.day\n",
        "df_test['current_month'] = df_test['current_date_time'].dt.month\n",
        "\n",
        "df_test['hour_of_day'] = df_test['hour_of_day'].astype(str)\n",
        "df_test['current_day'] = df_test['current_day'] .astype(str)\n",
        "df_test['current_month'] = df_test['current_month'].astype(str)\n",
        "df_test['current_week'] = df_test['current_week'].astype(str)\n",
        "\n",
        "# dropping current_date and current_time columns\n",
        "df_test.drop(['current_date','current_time', 'current_date_time'], axis = 1, inplace=True)\n",
        "\n",
        "df_test.head()"
      ],
      "execution_count": null,
      "outputs": [
        {
          "output_type": "execute_result",
          "data": {
            "text/html": [
              "<div>\n",
              "<style scoped>\n",
              "    .dataframe tbody tr th:only-of-type {\n",
              "        vertical-align: middle;\n",
              "    }\n",
              "\n",
              "    .dataframe tbody tr th {\n",
              "        vertical-align: top;\n",
              "    }\n",
              "\n",
              "    .dataframe thead th {\n",
              "        text-align: right;\n",
              "    }\n",
              "</style>\n",
              "<table border=\"1\" class=\"dataframe\">\n",
              "  <thead>\n",
              "    <tr style=\"text-align: right;\">\n",
              "      <th></th>\n",
              "      <th>source_name</th>\n",
              "      <th>destination_name</th>\n",
              "      <th>train_name</th>\n",
              "      <th>longitude_source</th>\n",
              "      <th>latitude_source</th>\n",
              "      <th>mean_halt_times_source</th>\n",
              "      <th>longitude_destination</th>\n",
              "      <th>latitude_destination</th>\n",
              "      <th>mean_halt_times_destination</th>\n",
              "      <th>current_week</th>\n",
              "      <th>current_day</th>\n",
              "      <th>is_weekend</th>\n",
              "      <th>hour_of_day</th>\n",
              "      <th>current_month</th>\n",
              "    </tr>\n",
              "    <tr>\n",
              "      <th>id_code</th>\n",
              "      <th></th>\n",
              "      <th></th>\n",
              "      <th></th>\n",
              "      <th></th>\n",
              "      <th></th>\n",
              "      <th></th>\n",
              "      <th></th>\n",
              "      <th></th>\n",
              "      <th></th>\n",
              "      <th></th>\n",
              "      <th></th>\n",
              "      <th></th>\n",
              "      <th></th>\n",
              "      <th></th>\n",
              "    </tr>\n",
              "  </thead>\n",
              "  <tbody>\n",
              "    <tr>\n",
              "      <th>mckbezdplrukagl</th>\n",
              "      <td>station$143</td>\n",
              "      <td>station$142</td>\n",
              "      <td>SZAYASZ</td>\n",
              "      <td>4.243393</td>\n",
              "      <td>50.866728</td>\n",
              "      <td>39.121387</td>\n",
              "      <td>4.273543</td>\n",
              "      <td>50.868337</td>\n",
              "      <td>39.121387</td>\n",
              "      <td>40</td>\n",
              "      <td>6</td>\n",
              "      <td>False</td>\n",
              "      <td>1</td>\n",
              "      <td>10</td>\n",
              "    </tr>\n",
              "    <tr>\n",
              "      <th>agxwrnbmzbyxsjg</th>\n",
              "      <td>station$133</td>\n",
              "      <td>station$147</td>\n",
              "      <td>ICXYXY</td>\n",
              "      <td>4.326220</td>\n",
              "      <td>50.880833</td>\n",
              "      <td>95.676301</td>\n",
              "      <td>4.356801</td>\n",
              "      <td>50.845658</td>\n",
              "      <td>634.164740</td>\n",
              "      <td>40</td>\n",
              "      <td>6</td>\n",
              "      <td>False</td>\n",
              "      <td>1</td>\n",
              "      <td>10</td>\n",
              "    </tr>\n",
              "    <tr>\n",
              "      <th>iqjojyewdyfshtj</th>\n",
              "      <td>station$632</td>\n",
              "      <td>station$544</td>\n",
              "      <td>ICWAT</td>\n",
              "      <td>3.264549</td>\n",
              "      <td>50.824506</td>\n",
              "      <td>153.115607</td>\n",
              "      <td>3.710675</td>\n",
              "      <td>51.035896</td>\n",
              "      <td>309.014451</td>\n",
              "      <td>40</td>\n",
              "      <td>6</td>\n",
              "      <td>False</td>\n",
              "      <td>6</td>\n",
              "      <td>10</td>\n",
              "    </tr>\n",
              "    <tr>\n",
              "      <th>hssqexnzirioaag</th>\n",
              "      <td>station$296</td>\n",
              "      <td>station$281</td>\n",
              "      <td>ICWYR</td>\n",
              "      <td>5.599695</td>\n",
              "      <td>50.613152</td>\n",
              "      <td>87.130058</td>\n",
              "      <td>5.566695</td>\n",
              "      <td>50.624550</td>\n",
              "      <td>269.124277</td>\n",
              "      <td>40</td>\n",
              "      <td>6</td>\n",
              "      <td>False</td>\n",
              "      <td>7</td>\n",
              "      <td>10</td>\n",
              "    </tr>\n",
              "    <tr>\n",
              "      <th>lublknpfraiznhr</th>\n",
              "      <td>station$281</td>\n",
              "      <td>station$266</td>\n",
              "      <td>ICWYR</td>\n",
              "      <td>5.566695</td>\n",
              "      <td>50.624550</td>\n",
              "      <td>269.124277</td>\n",
              "      <td>4.715866</td>\n",
              "      <td>50.882280</td>\n",
              "      <td>351.916185</td>\n",
              "      <td>40</td>\n",
              "      <td>6</td>\n",
              "      <td>False</td>\n",
              "      <td>7</td>\n",
              "      <td>10</td>\n",
              "    </tr>\n",
              "  </tbody>\n",
              "</table>\n",
              "</div>"
            ],
            "text/plain": [
              "                 source_name destination_name train_name  longitude_source  \\\n",
              "id_code                                                                      \n",
              "mckbezdplrukagl  station$143  station$142      SZAYASZ    4.243393           \n",
              "agxwrnbmzbyxsjg  station$133  station$147      ICXYXY     4.326220           \n",
              "iqjojyewdyfshtj  station$632  station$544      ICWAT      3.264549           \n",
              "hssqexnzirioaag  station$296  station$281      ICWYR      5.599695           \n",
              "lublknpfraiznhr  station$281  station$266      ICWYR      5.566695           \n",
              "\n",
              "                 latitude_source  mean_halt_times_source  \\\n",
              "id_code                                                    \n",
              "mckbezdplrukagl  50.866728        39.121387                \n",
              "agxwrnbmzbyxsjg  50.880833        95.676301                \n",
              "iqjojyewdyfshtj  50.824506        153.115607               \n",
              "hssqexnzirioaag  50.613152        87.130058                \n",
              "lublknpfraiznhr  50.624550        269.124277               \n",
              "\n",
              "                 longitude_destination  latitude_destination  \\\n",
              "id_code                                                        \n",
              "mckbezdplrukagl  4.273543               50.868337              \n",
              "agxwrnbmzbyxsjg  4.356801               50.845658              \n",
              "iqjojyewdyfshtj  3.710675               51.035896              \n",
              "hssqexnzirioaag  5.566695               50.624550              \n",
              "lublknpfraiznhr  4.715866               50.882280              \n",
              "\n",
              "                 mean_halt_times_destination current_week current_day  \\\n",
              "id_code                                                                 \n",
              "mckbezdplrukagl  39.121387                    40           6            \n",
              "agxwrnbmzbyxsjg  634.164740                   40           6            \n",
              "iqjojyewdyfshtj  309.014451                   40           6            \n",
              "hssqexnzirioaag  269.124277                   40           6            \n",
              "lublknpfraiznhr  351.916185                   40           6            \n",
              "\n",
              "                 is_weekend hour_of_day current_month  \n",
              "id_code                                                \n",
              "mckbezdplrukagl  False       1           10            \n",
              "agxwrnbmzbyxsjg  False       1           10            \n",
              "iqjojyewdyfshtj  False       6           10            \n",
              "hssqexnzirioaag  False       7           10            \n",
              "lublknpfraiznhr  False       7           10            "
            ]
          },
          "metadata": {
            "tags": []
          },
          "execution_count": 21
        }
      ]
    },
    {
      "cell_type": "markdown",
      "metadata": {
        "colab_type": "text",
        "id": "tIHOHhKWfTlR"
      },
      "source": [
        " <a id=section403></a>\n",
        "## 4.3 Handling missing values in each column\n"
      ]
    },
    {
      "cell_type": "code",
      "metadata": {
        "id": "CsEaoDLDRoCv",
        "colab_type": "code",
        "colab": {}
      },
      "source": [
        "feature_cols = list(df_test.columns)\n",
        "continuous_columns = list(df_test.select_dtypes(include='number').columns)\n",
        "categorical_columns = list(df_test.columns.difference(continuous_columns))"
      ],
      "execution_count": null,
      "outputs": []
    },
    {
      "cell_type": "markdown",
      "metadata": {
        "id": "tI-NZkn9svXB",
        "colab_type": "text"
      },
      "source": [
        "#### Train"
      ]
    },
    {
      "cell_type": "code",
      "metadata": {
        "id": "_nPtico5a2Wq",
        "colab_type": "code",
        "colab": {
          "base_uri": "https://localhost:8080/",
          "height": 289
        },
        "outputId": "16068c71-1cc0-4ad6-9489-f41ac52fd8c3"
      },
      "source": [
        "df_train.isna().sum()"
      ],
      "execution_count": null,
      "outputs": [
        {
          "output_type": "execute_result",
          "data": {
            "text/plain": [
              "source_name                    0 \n",
              "destination_name               0 \n",
              "train_name                     0 \n",
              "target                         0 \n",
              "longitude_source               1 \n",
              "latitude_source                1 \n",
              "mean_halt_times_source         1 \n",
              "longitude_destination          33\n",
              "latitude_destination           33\n",
              "mean_halt_times_destination    33\n",
              "current_week                   0 \n",
              "current_day                    0 \n",
              "is_weekend                     0 \n",
              "hour_of_day                    0 \n",
              "current_month                  0 \n",
              "dtype: int64"
            ]
          },
          "metadata": {
            "tags": []
          },
          "execution_count": 23
        }
      ]
    },
    {
      "cell_type": "code",
      "metadata": {
        "id": "wOao7DljwAhF",
        "colab_type": "code",
        "colab": {}
      },
      "source": [
        "from sklearn.impute import KNNImputer\n",
        "\n",
        "# Define the imputer\n",
        "knn_imputer = KNNImputer(n_neighbors=5, weights=\"uniform\")\n",
        "\n",
        "# Transform the dataset\n",
        "transformed_values = knn_imputer.fit_transform(df_train[continuous_columns])"
      ],
      "execution_count": null,
      "outputs": []
    },
    {
      "cell_type": "code",
      "metadata": {
        "id": "I9PB5Ag6XZgR",
        "colab_type": "code",
        "colab": {}
      },
      "source": [
        "df_train_continuous = pd.DataFrame(transformed_values)\n",
        "df_train_continuous.columns = continuous_columns\n",
        "df_train_continuous.index = df_train.index"
      ],
      "execution_count": null,
      "outputs": []
    },
    {
      "cell_type": "code",
      "metadata": {
        "id": "pWuF49qGYYTE",
        "colab_type": "code",
        "colab": {
          "base_uri": "https://localhost:8080/",
          "height": 136
        },
        "outputId": "fef972cf-d038-4bac-850f-6cdab38b51e3"
      },
      "source": [
        "df_train_continuous.isna().sum()"
      ],
      "execution_count": null,
      "outputs": [
        {
          "output_type": "execute_result",
          "data": {
            "text/plain": [
              "longitude_source               0\n",
              "latitude_source                0\n",
              "mean_halt_times_source         0\n",
              "longitude_destination          0\n",
              "latitude_destination           0\n",
              "mean_halt_times_destination    0\n",
              "dtype: int64"
            ]
          },
          "metadata": {
            "tags": []
          },
          "execution_count": 26
        }
      ]
    },
    {
      "cell_type": "code",
      "metadata": {
        "id": "6OflYzS2Xkx7",
        "colab_type": "code",
        "colab": {}
      },
      "source": [
        "from sklearn.impute import SimpleImputer\n",
        "\n",
        "# Define the imputer\n",
        "simple_imputer = SimpleImputer(missing_values=np.nan, strategy='most_frequent')\n",
        "\n",
        "# Transform the dataset\n",
        "transformed_values = simple_imputer.fit_transform(df_train[categorical_columns])"
      ],
      "execution_count": null,
      "outputs": []
    },
    {
      "cell_type": "code",
      "metadata": {
        "id": "GA_cKatd3oVU",
        "colab_type": "code",
        "colab": {}
      },
      "source": [
        "df_train_categorical = pd.DataFrame(transformed_values)\n",
        "df_train_categorical.columns = categorical_columns\n",
        "df_train_categorical.index = df_train.index"
      ],
      "execution_count": null,
      "outputs": []
    },
    {
      "cell_type": "code",
      "metadata": {
        "id": "GeKEOZ3MZwgY",
        "colab_type": "code",
        "colab": {
          "base_uri": "https://localhost:8080/",
          "height": 170
        },
        "outputId": "1ba35340-48f3-4d6d-d797-5b7f71c86f15"
      },
      "source": [
        "df_train_categorical.isna().sum()"
      ],
      "execution_count": null,
      "outputs": [
        {
          "output_type": "execute_result",
          "data": {
            "text/plain": [
              "current_day         0\n",
              "current_month       0\n",
              "current_week        0\n",
              "destination_name    0\n",
              "hour_of_day         0\n",
              "is_weekend          0\n",
              "source_name         0\n",
              "train_name          0\n",
              "dtype: int64"
            ]
          },
          "metadata": {
            "tags": []
          },
          "execution_count": 29
        }
      ]
    },
    {
      "cell_type": "code",
      "metadata": {
        "id": "JKKuWm7rba3w",
        "colab_type": "code",
        "colab": {
          "base_uri": "https://localhost:8080/",
          "height": 255
        },
        "outputId": "037e567e-0e64-470a-c7f1-b0f9fc32ba8e"
      },
      "source": [
        "# merge categorical and continuos columns\n",
        "df_train = pd.concat([df_train_continuous,df_train_categorical, df_train['target']], axis = 1).reindex(df_train.index)\n",
        "df_train.head()"
      ],
      "execution_count": null,
      "outputs": [
        {
          "output_type": "execute_result",
          "data": {
            "text/html": [
              "<div>\n",
              "<style scoped>\n",
              "    .dataframe tbody tr th:only-of-type {\n",
              "        vertical-align: middle;\n",
              "    }\n",
              "\n",
              "    .dataframe tbody tr th {\n",
              "        vertical-align: top;\n",
              "    }\n",
              "\n",
              "    .dataframe thead th {\n",
              "        text-align: right;\n",
              "    }\n",
              "</style>\n",
              "<table border=\"1\" class=\"dataframe\">\n",
              "  <thead>\n",
              "    <tr style=\"text-align: right;\">\n",
              "      <th></th>\n",
              "      <th>longitude_source</th>\n",
              "      <th>latitude_source</th>\n",
              "      <th>mean_halt_times_source</th>\n",
              "      <th>longitude_destination</th>\n",
              "      <th>latitude_destination</th>\n",
              "      <th>mean_halt_times_destination</th>\n",
              "      <th>current_day</th>\n",
              "      <th>current_month</th>\n",
              "      <th>current_week</th>\n",
              "      <th>destination_name</th>\n",
              "      <th>hour_of_day</th>\n",
              "      <th>is_weekend</th>\n",
              "      <th>source_name</th>\n",
              "      <th>train_name</th>\n",
              "      <th>target</th>\n",
              "    </tr>\n",
              "    <tr>\n",
              "      <th>id_code</th>\n",
              "      <th></th>\n",
              "      <th></th>\n",
              "      <th></th>\n",
              "      <th></th>\n",
              "      <th></th>\n",
              "      <th></th>\n",
              "      <th></th>\n",
              "      <th></th>\n",
              "      <th></th>\n",
              "      <th></th>\n",
              "      <th></th>\n",
              "      <th></th>\n",
              "      <th></th>\n",
              "      <th></th>\n",
              "      <th></th>\n",
              "    </tr>\n",
              "  </thead>\n",
              "  <tbody>\n",
              "    <tr>\n",
              "      <th>isfywypmkqqhyft</th>\n",
              "      <td>4.356801</td>\n",
              "      <td>50.845658</td>\n",
              "      <td>634.16474</td>\n",
              "      <td>4.684309</td>\n",
              "      <td>50.960916</td>\n",
              "      <td>358.178035</td>\n",
              "      <td>27</td>\n",
              "      <td>7</td>\n",
              "      <td>30</td>\n",
              "      <td>station$1</td>\n",
              "      <td>20</td>\n",
              "      <td>False</td>\n",
              "      <td>station$147</td>\n",
              "      <td>ICZVZS</td>\n",
              "      <td>high</td>\n",
              "    </tr>\n",
              "    <tr>\n",
              "      <th>mqsfxyvuqpbwomk</th>\n",
              "      <td>4.356801</td>\n",
              "      <td>50.845658</td>\n",
              "      <td>634.16474</td>\n",
              "      <td>4.684309</td>\n",
              "      <td>50.960916</td>\n",
              "      <td>358.178035</td>\n",
              "      <td>27</td>\n",
              "      <td>7</td>\n",
              "      <td>30</td>\n",
              "      <td>station$1</td>\n",
              "      <td>20</td>\n",
              "      <td>False</td>\n",
              "      <td>station$147</td>\n",
              "      <td>ICZVZS</td>\n",
              "      <td>high</td>\n",
              "    </tr>\n",
              "    <tr>\n",
              "      <th>alspwwtbdvqsgby</th>\n",
              "      <td>4.356801</td>\n",
              "      <td>50.845658</td>\n",
              "      <td>634.16474</td>\n",
              "      <td>4.684309</td>\n",
              "      <td>50.960916</td>\n",
              "      <td>358.178035</td>\n",
              "      <td>27</td>\n",
              "      <td>7</td>\n",
              "      <td>30</td>\n",
              "      <td>station$1</td>\n",
              "      <td>20</td>\n",
              "      <td>False</td>\n",
              "      <td>station$147</td>\n",
              "      <td>ICZVZS</td>\n",
              "      <td>high</td>\n",
              "    </tr>\n",
              "    <tr>\n",
              "      <th>szitxhhqduyrqpg</th>\n",
              "      <td>4.356801</td>\n",
              "      <td>50.845658</td>\n",
              "      <td>634.16474</td>\n",
              "      <td>4.684309</td>\n",
              "      <td>50.960916</td>\n",
              "      <td>358.178035</td>\n",
              "      <td>27</td>\n",
              "      <td>7</td>\n",
              "      <td>30</td>\n",
              "      <td>station$1</td>\n",
              "      <td>20</td>\n",
              "      <td>False</td>\n",
              "      <td>station$147</td>\n",
              "      <td>ICZVZS</td>\n",
              "      <td>high</td>\n",
              "    </tr>\n",
              "    <tr>\n",
              "      <th>krisdqzczivvwcp</th>\n",
              "      <td>4.356801</td>\n",
              "      <td>50.845658</td>\n",
              "      <td>634.16474</td>\n",
              "      <td>4.684309</td>\n",
              "      <td>50.960916</td>\n",
              "      <td>358.178035</td>\n",
              "      <td>27</td>\n",
              "      <td>7</td>\n",
              "      <td>30</td>\n",
              "      <td>station$1</td>\n",
              "      <td>20</td>\n",
              "      <td>False</td>\n",
              "      <td>station$147</td>\n",
              "      <td>ICZVZS</td>\n",
              "      <td>high</td>\n",
              "    </tr>\n",
              "  </tbody>\n",
              "</table>\n",
              "</div>"
            ],
            "text/plain": [
              "                 longitude_source  latitude_source  mean_halt_times_source  \\\n",
              "id_code                                                                      \n",
              "isfywypmkqqhyft  4.356801          50.845658        634.16474                \n",
              "mqsfxyvuqpbwomk  4.356801          50.845658        634.16474                \n",
              "alspwwtbdvqsgby  4.356801          50.845658        634.16474                \n",
              "szitxhhqduyrqpg  4.356801          50.845658        634.16474                \n",
              "krisdqzczivvwcp  4.356801          50.845658        634.16474                \n",
              "\n",
              "                 longitude_destination  latitude_destination  \\\n",
              "id_code                                                        \n",
              "isfywypmkqqhyft  4.684309               50.960916              \n",
              "mqsfxyvuqpbwomk  4.684309               50.960916              \n",
              "alspwwtbdvqsgby  4.684309               50.960916              \n",
              "szitxhhqduyrqpg  4.684309               50.960916              \n",
              "krisdqzczivvwcp  4.684309               50.960916              \n",
              "\n",
              "                 mean_halt_times_destination current_day current_month  \\\n",
              "id_code                                                                  \n",
              "isfywypmkqqhyft  358.178035                   27          7              \n",
              "mqsfxyvuqpbwomk  358.178035                   27          7              \n",
              "alspwwtbdvqsgby  358.178035                   27          7              \n",
              "szitxhhqduyrqpg  358.178035                   27          7              \n",
              "krisdqzczivvwcp  358.178035                   27          7              \n",
              "\n",
              "                current_week destination_name hour_of_day is_weekend  \\\n",
              "id_code                                                                \n",
              "isfywypmkqqhyft  30           station$1        20          False       \n",
              "mqsfxyvuqpbwomk  30           station$1        20          False       \n",
              "alspwwtbdvqsgby  30           station$1        20          False       \n",
              "szitxhhqduyrqpg  30           station$1        20          False       \n",
              "krisdqzczivvwcp  30           station$1        20          False       \n",
              "\n",
              "                 source_name train_name target  \n",
              "id_code                                         \n",
              "isfywypmkqqhyft  station$147  ICZVZS     high   \n",
              "mqsfxyvuqpbwomk  station$147  ICZVZS     high   \n",
              "alspwwtbdvqsgby  station$147  ICZVZS     high   \n",
              "szitxhhqduyrqpg  station$147  ICZVZS     high   \n",
              "krisdqzczivvwcp  station$147  ICZVZS     high   "
            ]
          },
          "metadata": {
            "tags": []
          },
          "execution_count": 30
        }
      ]
    },
    {
      "cell_type": "code",
      "metadata": {
        "id": "xhiAimnnb73Z",
        "colab_type": "code",
        "colab": {
          "base_uri": "https://localhost:8080/",
          "height": 289
        },
        "outputId": "3cab0efe-427f-421d-dbbf-f0ea658812f5"
      },
      "source": [
        "df_train.isna().sum()"
      ],
      "execution_count": null,
      "outputs": [
        {
          "output_type": "execute_result",
          "data": {
            "text/plain": [
              "longitude_source               0\n",
              "latitude_source                0\n",
              "mean_halt_times_source         0\n",
              "longitude_destination          0\n",
              "latitude_destination           0\n",
              "mean_halt_times_destination    0\n",
              "current_day                    0\n",
              "current_month                  0\n",
              "current_week                   0\n",
              "destination_name               0\n",
              "hour_of_day                    0\n",
              "is_weekend                     0\n",
              "source_name                    0\n",
              "train_name                     0\n",
              "target                         0\n",
              "dtype: int64"
            ]
          },
          "metadata": {
            "tags": []
          },
          "execution_count": 31
        }
      ]
    },
    {
      "cell_type": "markdown",
      "metadata": {
        "colab_type": "text",
        "id": "2RqSQd2Xhx5o"
      },
      "source": [
        "#### Test"
      ]
    },
    {
      "cell_type": "code",
      "metadata": {
        "colab_type": "code",
        "id": "Y_eqobUThx5r",
        "colab": {
          "base_uri": "https://localhost:8080/",
          "height": 272
        },
        "outputId": "49ee98f4-9f01-471b-b8ad-c2a46e90e80e"
      },
      "source": [
        "df_test.isna().sum()"
      ],
      "execution_count": null,
      "outputs": [
        {
          "output_type": "execute_result",
          "data": {
            "text/plain": [
              "source_name                    0\n",
              "destination_name               0\n",
              "train_name                     0\n",
              "longitude_source               0\n",
              "latitude_source                0\n",
              "mean_halt_times_source         0\n",
              "longitude_destination          0\n",
              "latitude_destination           0\n",
              "mean_halt_times_destination    0\n",
              "current_week                   0\n",
              "current_day                    0\n",
              "is_weekend                     0\n",
              "hour_of_day                    0\n",
              "current_month                  0\n",
              "dtype: int64"
            ]
          },
          "metadata": {
            "tags": []
          },
          "execution_count": 32
        }
      ]
    },
    {
      "cell_type": "code",
      "metadata": {
        "colab_type": "code",
        "id": "fI-R870dhx6K",
        "colab": {}
      },
      "source": [
        "from sklearn.impute import SimpleImputer\n",
        "\n",
        "# Define the imputer\n",
        "simple_imputer = SimpleImputer(missing_values=np.nan, strategy='most_frequent')\n",
        "\n",
        "# Transform the dataset\n",
        "transformed_values = simple_imputer.fit_transform(df_test[categorical_columns])"
      ],
      "execution_count": null,
      "outputs": []
    },
    {
      "cell_type": "code",
      "metadata": {
        "colab_type": "code",
        "id": "LEpFv_VYhx6O",
        "colab": {}
      },
      "source": [
        "df_test_categorical = pd.DataFrame(transformed_values)\n",
        "df_test_categorical.columns = categorical_columns\n",
        "df_test_categorical.index = df_test.index"
      ],
      "execution_count": null,
      "outputs": []
    },
    {
      "cell_type": "code",
      "metadata": {
        "colab_type": "code",
        "id": "8Z1cfCdUhx6Q",
        "colab": {
          "base_uri": "https://localhost:8080/",
          "height": 170
        },
        "outputId": "c94837fa-c909-42de-f807-8d2ad8037c5d"
      },
      "source": [
        "df_test_categorical.isna().sum()"
      ],
      "execution_count": null,
      "outputs": [
        {
          "output_type": "execute_result",
          "data": {
            "text/plain": [
              "current_day         0\n",
              "current_month       0\n",
              "current_week        0\n",
              "destination_name    0\n",
              "hour_of_day         0\n",
              "is_weekend          0\n",
              "source_name         0\n",
              "train_name          0\n",
              "dtype: int64"
            ]
          },
          "metadata": {
            "tags": []
          },
          "execution_count": 35
        }
      ]
    },
    {
      "cell_type": "code",
      "metadata": {
        "colab_type": "code",
        "id": "D8nDcZ8Phx6T",
        "colab": {
          "base_uri": "https://localhost:8080/",
          "height": 255
        },
        "outputId": "6336374e-1ee3-45e7-90a1-d89f0f272165"
      },
      "source": [
        "# merge categorical and continuos columns\n",
        "df_test = pd.concat([df_test[continuous_columns],df_test_categorical], axis = 1).reindex(df_test.index)\n",
        "df_test.head()"
      ],
      "execution_count": null,
      "outputs": [
        {
          "output_type": "execute_result",
          "data": {
            "text/html": [
              "<div>\n",
              "<style scoped>\n",
              "    .dataframe tbody tr th:only-of-type {\n",
              "        vertical-align: middle;\n",
              "    }\n",
              "\n",
              "    .dataframe tbody tr th {\n",
              "        vertical-align: top;\n",
              "    }\n",
              "\n",
              "    .dataframe thead th {\n",
              "        text-align: right;\n",
              "    }\n",
              "</style>\n",
              "<table border=\"1\" class=\"dataframe\">\n",
              "  <thead>\n",
              "    <tr style=\"text-align: right;\">\n",
              "      <th></th>\n",
              "      <th>longitude_source</th>\n",
              "      <th>latitude_source</th>\n",
              "      <th>mean_halt_times_source</th>\n",
              "      <th>longitude_destination</th>\n",
              "      <th>latitude_destination</th>\n",
              "      <th>mean_halt_times_destination</th>\n",
              "      <th>current_day</th>\n",
              "      <th>current_month</th>\n",
              "      <th>current_week</th>\n",
              "      <th>destination_name</th>\n",
              "      <th>hour_of_day</th>\n",
              "      <th>is_weekend</th>\n",
              "      <th>source_name</th>\n",
              "      <th>train_name</th>\n",
              "    </tr>\n",
              "    <tr>\n",
              "      <th>id_code</th>\n",
              "      <th></th>\n",
              "      <th></th>\n",
              "      <th></th>\n",
              "      <th></th>\n",
              "      <th></th>\n",
              "      <th></th>\n",
              "      <th></th>\n",
              "      <th></th>\n",
              "      <th></th>\n",
              "      <th></th>\n",
              "      <th></th>\n",
              "      <th></th>\n",
              "      <th></th>\n",
              "      <th></th>\n",
              "    </tr>\n",
              "  </thead>\n",
              "  <tbody>\n",
              "    <tr>\n",
              "      <th>mckbezdplrukagl</th>\n",
              "      <td>4.243393</td>\n",
              "      <td>50.866728</td>\n",
              "      <td>39.121387</td>\n",
              "      <td>4.273543</td>\n",
              "      <td>50.868337</td>\n",
              "      <td>39.121387</td>\n",
              "      <td>6</td>\n",
              "      <td>10</td>\n",
              "      <td>40</td>\n",
              "      <td>station$142</td>\n",
              "      <td>1</td>\n",
              "      <td>False</td>\n",
              "      <td>station$143</td>\n",
              "      <td>SZAYASZ</td>\n",
              "    </tr>\n",
              "    <tr>\n",
              "      <th>agxwrnbmzbyxsjg</th>\n",
              "      <td>4.326220</td>\n",
              "      <td>50.880833</td>\n",
              "      <td>95.676301</td>\n",
              "      <td>4.356801</td>\n",
              "      <td>50.845658</td>\n",
              "      <td>634.164740</td>\n",
              "      <td>6</td>\n",
              "      <td>10</td>\n",
              "      <td>40</td>\n",
              "      <td>station$147</td>\n",
              "      <td>1</td>\n",
              "      <td>False</td>\n",
              "      <td>station$133</td>\n",
              "      <td>ICXYXY</td>\n",
              "    </tr>\n",
              "    <tr>\n",
              "      <th>iqjojyewdyfshtj</th>\n",
              "      <td>3.264549</td>\n",
              "      <td>50.824506</td>\n",
              "      <td>153.115607</td>\n",
              "      <td>3.710675</td>\n",
              "      <td>51.035896</td>\n",
              "      <td>309.014451</td>\n",
              "      <td>6</td>\n",
              "      <td>10</td>\n",
              "      <td>40</td>\n",
              "      <td>station$544</td>\n",
              "      <td>6</td>\n",
              "      <td>False</td>\n",
              "      <td>station$632</td>\n",
              "      <td>ICWAT</td>\n",
              "    </tr>\n",
              "    <tr>\n",
              "      <th>hssqexnzirioaag</th>\n",
              "      <td>5.599695</td>\n",
              "      <td>50.613152</td>\n",
              "      <td>87.130058</td>\n",
              "      <td>5.566695</td>\n",
              "      <td>50.624550</td>\n",
              "      <td>269.124277</td>\n",
              "      <td>6</td>\n",
              "      <td>10</td>\n",
              "      <td>40</td>\n",
              "      <td>station$281</td>\n",
              "      <td>7</td>\n",
              "      <td>False</td>\n",
              "      <td>station$296</td>\n",
              "      <td>ICWYR</td>\n",
              "    </tr>\n",
              "    <tr>\n",
              "      <th>lublknpfraiznhr</th>\n",
              "      <td>5.566695</td>\n",
              "      <td>50.624550</td>\n",
              "      <td>269.124277</td>\n",
              "      <td>4.715866</td>\n",
              "      <td>50.882280</td>\n",
              "      <td>351.916185</td>\n",
              "      <td>6</td>\n",
              "      <td>10</td>\n",
              "      <td>40</td>\n",
              "      <td>station$266</td>\n",
              "      <td>7</td>\n",
              "      <td>False</td>\n",
              "      <td>station$281</td>\n",
              "      <td>ICWYR</td>\n",
              "    </tr>\n",
              "  </tbody>\n",
              "</table>\n",
              "</div>"
            ],
            "text/plain": [
              "                 longitude_source  latitude_source  mean_halt_times_source  \\\n",
              "id_code                                                                      \n",
              "mckbezdplrukagl  4.243393          50.866728        39.121387                \n",
              "agxwrnbmzbyxsjg  4.326220          50.880833        95.676301                \n",
              "iqjojyewdyfshtj  3.264549          50.824506        153.115607               \n",
              "hssqexnzirioaag  5.599695          50.613152        87.130058                \n",
              "lublknpfraiznhr  5.566695          50.624550        269.124277               \n",
              "\n",
              "                 longitude_destination  latitude_destination  \\\n",
              "id_code                                                        \n",
              "mckbezdplrukagl  4.273543               50.868337              \n",
              "agxwrnbmzbyxsjg  4.356801               50.845658              \n",
              "iqjojyewdyfshtj  3.710675               51.035896              \n",
              "hssqexnzirioaag  5.566695               50.624550              \n",
              "lublknpfraiznhr  4.715866               50.882280              \n",
              "\n",
              "                 mean_halt_times_destination current_day current_month  \\\n",
              "id_code                                                                  \n",
              "mckbezdplrukagl  39.121387                    6           10             \n",
              "agxwrnbmzbyxsjg  634.164740                   6           10             \n",
              "iqjojyewdyfshtj  309.014451                   6           10             \n",
              "hssqexnzirioaag  269.124277                   6           10             \n",
              "lublknpfraiznhr  351.916185                   6           10             \n",
              "\n",
              "                current_week destination_name hour_of_day is_weekend  \\\n",
              "id_code                                                                \n",
              "mckbezdplrukagl  40           station$142      1           False       \n",
              "agxwrnbmzbyxsjg  40           station$147      1           False       \n",
              "iqjojyewdyfshtj  40           station$544      6           False       \n",
              "hssqexnzirioaag  40           station$281      7           False       \n",
              "lublknpfraiznhr  40           station$266      7           False       \n",
              "\n",
              "                 source_name train_name  \n",
              "id_code                                  \n",
              "mckbezdplrukagl  station$143  SZAYASZ    \n",
              "agxwrnbmzbyxsjg  station$133  ICXYXY     \n",
              "iqjojyewdyfshtj  station$632  ICWAT      \n",
              "hssqexnzirioaag  station$296  ICWYR      \n",
              "lublknpfraiznhr  station$281  ICWYR      "
            ]
          },
          "metadata": {
            "tags": []
          },
          "execution_count": 36
        }
      ]
    },
    {
      "cell_type": "code",
      "metadata": {
        "colab_type": "code",
        "id": "NFIEQnI5hx6W",
        "colab": {
          "base_uri": "https://localhost:8080/",
          "height": 272
        },
        "outputId": "798d5c99-1f51-4d57-91b7-10e00b2cc4bf"
      },
      "source": [
        "df_test.isna().sum()"
      ],
      "execution_count": null,
      "outputs": [
        {
          "output_type": "execute_result",
          "data": {
            "text/plain": [
              "longitude_source               0\n",
              "latitude_source                0\n",
              "mean_halt_times_source         0\n",
              "longitude_destination          0\n",
              "latitude_destination           0\n",
              "mean_halt_times_destination    0\n",
              "current_day                    0\n",
              "current_month                  0\n",
              "current_week                   0\n",
              "destination_name               0\n",
              "hour_of_day                    0\n",
              "is_weekend                     0\n",
              "source_name                    0\n",
              "train_name                     0\n",
              "dtype: int64"
            ]
          },
          "metadata": {
            "tags": []
          },
          "execution_count": 37
        }
      ]
    },
    {
      "cell_type": "markdown",
      "metadata": {
        "id": "cFKCwZzAWNfA",
        "colab_type": "text"
      },
      "source": [
        " <a id=section404></a>\n",
        "## 4.4 Calculating distance between routes from latitude and longitude"
      ]
    },
    {
      "cell_type": "code",
      "metadata": {
        "id": "Ce-UFviKWNfA",
        "colab_type": "code",
        "colab": {}
      },
      "source": [
        "from math import radians, cos, sin, asin, sqrt\n",
        "def haversine(lon1, lat1, lon2, lat2):\n",
        "  # convert decimal degrees to radians \n",
        "  lon1, lat1, lon2, lat2 = map(radians, [lon1, lat1, lon2, lat2])\n",
        "  # haversine formula \n",
        "  dlon = lon2 - lon1 \n",
        "  dlat = lat2 - lat1 \n",
        "  a = sin(dlat/2)**2 + cos(lat1) * cos(lat2) * sin(dlon/2)**2\n",
        "  c = 2 * asin(sqrt(a)) \n",
        "  r = 6371 # Radius of earth in kilometers. Use 3956 for miles\n",
        "  return c * r"
      ],
      "execution_count": null,
      "outputs": []
    },
    {
      "cell_type": "markdown",
      "metadata": {
        "id": "Cx6YxL0e_tSX",
        "colab_type": "text"
      },
      "source": [
        "#### Train"
      ]
    },
    {
      "cell_type": "code",
      "metadata": {
        "id": "IyoOPSVa_bcK",
        "colab_type": "code",
        "colab": {
          "base_uri": "https://localhost:8080/",
          "height": 34
        },
        "outputId": "58b43653-36ec-409a-851d-3c30f5ff0b41"
      },
      "source": [
        "df_train['dist_bw_routes'] = df_train.apply(lambda x: haversine(x['longitude_source'], x['latitude_source'], x['longitude_destination'], x['latitude_destination']), axis=1)\n",
        "df_train.drop(['longitude_source', 'latitude_source', 'longitude_destination', 'latitude_destination'], axis = 1, inplace = True)\n",
        "df_train.shape"
      ],
      "execution_count": null,
      "outputs": [
        {
          "output_type": "execute_result",
          "data": {
            "text/plain": [
              "(1284, 12)"
            ]
          },
          "metadata": {
            "tags": []
          },
          "execution_count": 39
        }
      ]
    },
    {
      "cell_type": "markdown",
      "metadata": {
        "id": "eOFP_n0b_vwH",
        "colab_type": "text"
      },
      "source": [
        "#### Test"
      ]
    },
    {
      "cell_type": "code",
      "metadata": {
        "id": "Jpew_o3N_zFn",
        "colab_type": "code",
        "colab": {
          "base_uri": "https://localhost:8080/",
          "height": 34
        },
        "outputId": "c6829830-fe4c-4f43-b86d-5999dd04ad53"
      },
      "source": [
        "df_test['dist_bw_routes'] = df_test.apply(lambda x: haversine(x['longitude_source'], x['latitude_source'], x['longitude_destination'], x['latitude_destination']), axis=1)\n",
        "df_test.drop(['longitude_source', 'latitude_source', 'longitude_destination', 'latitude_destination'], axis = 1, inplace = True)\n",
        "df_test.shape"
      ],
      "execution_count": null,
      "outputs": [
        {
          "output_type": "execute_result",
          "data": {
            "text/plain": [
              "(964, 11)"
            ]
          },
          "metadata": {
            "tags": []
          },
          "execution_count": 40
        }
      ]
    },
    {
      "cell_type": "markdown",
      "metadata": {
        "colab_type": "text",
        "id": "8-7mV5quuBoT"
      },
      "source": [
        " <a id=section405></a>\n",
        "## 4.5 Handling Outliers\n",
        "\n"
      ]
    },
    {
      "cell_type": "code",
      "metadata": {
        "colab_type": "code",
        "id": "vMUzz5spuBoU",
        "colab": {}
      },
      "source": [
        "# storing columns with continuos datatype in 'continuos_cols' \n",
        "continuous_columns = df_test.select_dtypes(include='number').columns\n",
        "categorical_columns = df_test.columns.difference(continuous_columns)"
      ],
      "execution_count": null,
      "outputs": []
    },
    {
      "cell_type": "code",
      "metadata": {
        "id": "AsTjj4xK-3OP",
        "colab_type": "code",
        "colab": {
          "base_uri": "https://localhost:8080/",
          "height": 34
        },
        "outputId": "f5e83ce3-251c-460e-913d-9b89304f7c30"
      },
      "source": [
        "df_train.shape"
      ],
      "execution_count": null,
      "outputs": [
        {
          "output_type": "execute_result",
          "data": {
            "text/plain": [
              "(1284, 12)"
            ]
          },
          "metadata": {
            "tags": []
          },
          "execution_count": 42
        }
      ]
    },
    {
      "cell_type": "code",
      "metadata": {
        "colab_type": "code",
        "id": "ms0ZkslHuBoX",
        "scrolled": true,
        "colab": {
          "base_uri": "https://localhost:8080/",
          "height": 34
        },
        "outputId": "9bf19c3f-7e5e-45bf-b317-a2e257f41b71"
      },
      "source": [
        "from sklearn.ensemble import IsolationForest\n",
        "\n",
        "clf = IsolationForest(max_samples=100, random_state=1, contamination='auto')\n",
        "preds = clf.fit_predict(df_train[continuous_columns])\n",
        "\n",
        "# Select all rows that are not outliers\n",
        "mask = preds != -1\n",
        "df_train = df_train[mask]\n",
        "df_train.shape"
      ],
      "execution_count": null,
      "outputs": [
        {
          "output_type": "execute_result",
          "data": {
            "text/plain": [
              "(661, 12)"
            ]
          },
          "metadata": {
            "tags": []
          },
          "execution_count": 43
        }
      ]
    },
    {
      "cell_type": "markdown",
      "metadata": {
        "colab_type": "text",
        "id": "TaMTAN6FRuuO"
      },
      "source": [
        " <a id=section406></a>\n",
        "## 4.6  Pandas Profiling after Data Preprocessing"
      ]
    },
    {
      "cell_type": "code",
      "metadata": {
        "colab_type": "code",
        "id": "IQ-3Pj7lBIAj",
        "colab": {}
      },
      "source": [
        "# Running pandas profiling to get better understanding of data\n",
        "#profile =  ProfileReport(df_train, title='Pandas Profiling Report after data preprocessing', html={'style':{'full_width':True}})\n",
        "#profile.to_file(output_file=\"train_report_after_processing.html\")"
      ],
      "execution_count": null,
      "outputs": []
    },
    {
      "cell_type": "code",
      "metadata": {
        "colab_type": "code",
        "id": "_sbzvKKkBIA1",
        "colab": {}
      },
      "source": [
        "# Running pandas profiling to get better understanding of data\n",
        "#profile =  ProfileReport(df_test, title='Pandas Profiling Report after data preprocessing', html={'style':{'full_width':True}})\n",
        "#profile.to_file(output_file=\"test_report_after_processing.html\")"
      ],
      "execution_count": null,
      "outputs": []
    },
    {
      "cell_type": "markdown",
      "metadata": {
        "colab_type": "text",
        "id": "nesv84MyLTXj"
      },
      "source": [
        "**Observations:**\n",
        "\n",
        "Data looks fine as of now. Lets do EDA and understand more about it."
      ]
    },
    {
      "cell_type": "markdown",
      "metadata": {
        "colab_type": "text",
        "id": "xz0sBEZ4LjOJ"
      },
      "source": [
        " <a id=section5></a>\n",
        "# 5. Exploratory Data Analysis\n"
      ]
    },
    {
      "cell_type": "markdown",
      "metadata": {
        "colab_type": "text",
        "id": "Sg4Lauev0oto"
      },
      "source": [
        " <a id=section501></a>\n",
        "## 5.1  Univariate Analysis"
      ]
    },
    {
      "cell_type": "markdown",
      "metadata": {
        "id": "ApFA152sWNf-",
        "colab_type": "text"
      },
      "source": [
        "### 5.1.1 Passenger travel count (week-wise)"
      ]
    },
    {
      "cell_type": "code",
      "metadata": {
        "id": "Vqi7xdabWNf_",
        "colab_type": "code",
        "colab": {
          "base_uri": "https://localhost:8080/",
          "height": 221
        },
        "outputId": "fd62a2d4-8db3-4398-9cfc-a930e6b8c532"
      },
      "source": [
        "df_train['current_week'].value_counts()"
      ],
      "execution_count": null,
      "outputs": [
        {
          "output_type": "execute_result",
          "data": {
            "text/plain": [
              "39    198\n",
              "38    158\n",
              "37    64 \n",
              "40    58 \n",
              "30    52 \n",
              "32    49 \n",
              "31    37 \n",
              "33    17 \n",
              "36    17 \n",
              "34    7  \n",
              "35    4  \n",
              "Name: current_week, dtype: int64"
            ]
          },
          "metadata": {
            "tags": []
          },
          "execution_count": 46
        }
      ]
    },
    {
      "cell_type": "code",
      "metadata": {
        "id": "S9fi-cH9WNgC",
        "colab_type": "code",
        "colab": {
          "base_uri": "https://localhost:8080/",
          "height": 385
        },
        "outputId": "2d05e699-b6ea-4d62-e745-5f8dcfa1c947"
      },
      "source": [
        "plt.figure(figsize=(15,5))\n",
        "df_train['current_week'].value_counts(sort=False).plot(kind='bar')\n",
        "plt.xlabel(\"Week #\", labelpad = 30)\n",
        "plt.ylabel(\"Count\", labelpad = 10)"
      ],
      "execution_count": null,
      "outputs": [
        {
          "output_type": "execute_result",
          "data": {
            "text/plain": [
              "Text(0, 0.5, 'Count')"
            ]
          },
          "metadata": {
            "tags": []
          },
          "execution_count": 47
        },
        {
          "output_type": "display_data",
          "data": {
            "image/png": "[encoded data removed]",
            "text/plain": [
              "<Figure size 1080x360 with 1 Axes>"
            ]
          },
          "metadata": {
            "tags": []
          }
        }
      ]
    },
    {
      "cell_type": "markdown",
      "metadata": {
        "id": "USRXPOGlWNgF",
        "colab_type": "text"
      },
      "source": [
        "**Observations :**\n",
        "\n",
        "Most of bookings happenned between week-38 to 43"
      ]
    },
    {
      "cell_type": "markdown",
      "metadata": {
        "id": "Uk72FBVIWNgG",
        "colab_type": "text"
      },
      "source": [
        "### 5.1.2 Passenger travel count (day-wise)"
      ]
    },
    {
      "cell_type": "code",
      "metadata": {
        "id": "rQWIf250WNgH",
        "colab_type": "code",
        "colab": {
          "base_uri": "https://localhost:8080/",
          "height": 544
        },
        "outputId": "6abc37be-20a9-4fe9-a4da-a9b14fa7e20a"
      },
      "source": [
        "df_train['current_day'].value_counts()"
      ],
      "execution_count": null,
      "outputs": [
        {
          "output_type": "execute_result",
          "data": {
            "text/plain": [
              "27    61\n",
              "29    56\n",
              "26    46\n",
              "4     43\n",
              "23    38\n",
              "30    35\n",
              "2     33\n",
              "16    31\n",
              "19    29\n",
              "28    28\n",
              "22    26\n",
              "21    24\n",
              "3     23\n",
              "20    22\n",
              "18    20\n",
              "17    19\n",
              "5     19\n",
              "8     18\n",
              "24    17\n",
              "12    13\n",
              "11    12\n",
              "10    11\n",
              "1     8 \n",
              "25    8 \n",
              "9     7 \n",
              "31    4 \n",
              "13    3 \n",
              "6     3 \n",
              "7     2 \n",
              "15    2 \n",
              "Name: current_day, dtype: int64"
            ]
          },
          "metadata": {
            "tags": []
          },
          "execution_count": 48
        }
      ]
    },
    {
      "cell_type": "code",
      "metadata": {
        "id": "rUuJ6E0gWNgM",
        "colab_type": "code",
        "colab": {
          "base_uri": "https://localhost:8080/",
          "height": 385
        },
        "outputId": "a1b89788-5dbc-4231-aeee-ef64419ed881"
      },
      "source": [
        "plt.figure(figsize=(15,5))\n",
        "df_train['current_day'].value_counts().plot(kind='bar')\n",
        "plt.xlabel(\"Day of Week\", labelpad = 30)\n",
        "plt.ylabel(\"Count\", labelpad = 10)"
      ],
      "execution_count": null,
      "outputs": [
        {
          "output_type": "execute_result",
          "data": {
            "text/plain": [
              "Text(0, 0.5, 'Count')"
            ]
          },
          "metadata": {
            "tags": []
          },
          "execution_count": 49
        },
        {
          "output_type": "display_data",
          "data": {
            "image/png": "[encoded data removed]",
            "text/plain": [
              "<Figure size 1080x360 with 1 Axes>"
            ]
          },
          "metadata": {
            "tags": []
          }
        }
      ]
    },
    {
      "cell_type": "markdown",
      "metadata": {
        "id": "59My-nO8WNgO",
        "colab_type": "text"
      },
      "source": [
        "**Observations :**\n",
        "\n",
        "We observe very less bookings on weekends. **May be these routes are used by working people.**. Lets confirm same using **is_weekend** column."
      ]
    },
    {
      "cell_type": "markdown",
      "metadata": {
        "id": "lzUk5aqXWNgP",
        "colab_type": "text"
      },
      "source": [
        "### 5.1.3 Passenger travel count (weekday VS weekend)\n"
      ]
    },
    {
      "cell_type": "code",
      "metadata": {
        "id": "Nh778WzWWNgS",
        "colab_type": "code",
        "colab": {
          "base_uri": "https://localhost:8080/",
          "height": 68
        },
        "outputId": "1313e28a-e0bf-4eaa-8690-d2c9167c8044"
      },
      "source": [
        "df_train['is_weekend'].value_counts()"
      ],
      "execution_count": null,
      "outputs": [
        {
          "output_type": "execute_result",
          "data": {
            "text/plain": [
              "False    568\n",
              "True     93 \n",
              "Name: is_weekend, dtype: int64"
            ]
          },
          "metadata": {
            "tags": []
          },
          "execution_count": 50
        }
      ]
    },
    {
      "cell_type": "code",
      "metadata": {
        "id": "vLvlWt5rWNgV",
        "colab_type": "code",
        "colab": {
          "base_uri": "https://localhost:8080/",
          "height": 398
        },
        "outputId": "91afbc53-e170-4dd6-e459-8882eb8f5ee5"
      },
      "source": [
        "plt.figure(figsize=(15,5))\n",
        "df_train['is_weekend'].value_counts().plot(kind='bar')\n",
        "plt.xlabel(\"Is Weekend\", labelpad = 30)\n",
        "plt.ylabel(\"Count\", labelpad = 10)"
      ],
      "execution_count": null,
      "outputs": [
        {
          "output_type": "execute_result",
          "data": {
            "text/plain": [
              "Text(0, 0.5, 'Count')"
            ]
          },
          "metadata": {
            "tags": []
          },
          "execution_count": 51
        },
        {
          "output_type": "display_data",
          "data": {
            "image/png": "[encoded data removed]",
            "text/plain": [
              "<Figure size 1080x360 with 1 Axes>"
            ]
          },
          "metadata": {
            "tags": []
          }
        }
      ]
    },
    {
      "cell_type": "markdown",
      "metadata": {
        "id": "xwQU4uhSWNgY",
        "colab_type": "text"
      },
      "source": [
        "**Observations**\n",
        "\n",
        "Current observation confirms previous observation."
      ]
    },
    {
      "cell_type": "markdown",
      "metadata": {
        "id": "JoPy4MGbWNgZ",
        "colab_type": "text"
      },
      "source": [
        "### 5.1.4 Halt time (source)\n"
      ]
    },
    {
      "cell_type": "code",
      "metadata": {
        "id": "IcPlAM-hWNga",
        "colab_type": "code",
        "colab": {
          "base_uri": "https://localhost:8080/",
          "height": 255
        },
        "outputId": "5e03739b-6f2c-4fc8-ff2e-c7fb547a3df5"
      },
      "source": [
        "# binning mean_halt_times_source\n",
        "df_train['mean_halt_times_source_bin'] = pd.cut(df_train['mean_halt_times_source'], [-1, 100, 200,300,400,500,600,700])\n",
        "\n",
        "df_train[\"mean_halt_times_source_bin\"] = pd.Categorical(df_train[\"mean_halt_times_source_bin\"])\n",
        "df_train[\"mean_halt_times_source_bin\"] = df_train[\"mean_halt_times_source_bin\"].cat.codes\n",
        "\n",
        "df_train.head()"
      ],
      "execution_count": null,
      "outputs": [
        {
          "output_type": "execute_result",
          "data": {
            "text/html": [
              "<div>\n",
              "<style scoped>\n",
              "    .dataframe tbody tr th:only-of-type {\n",
              "        vertical-align: middle;\n",
              "    }\n",
              "\n",
              "    .dataframe tbody tr th {\n",
              "        vertical-align: top;\n",
              "    }\n",
              "\n",
              "    .dataframe thead th {\n",
              "        text-align: right;\n",
              "    }\n",
              "</style>\n",
              "<table border=\"1\" class=\"dataframe\">\n",
              "  <thead>\n",
              "    <tr style=\"text-align: right;\">\n",
              "      <th></th>\n",
              "      <th>mean_halt_times_source</th>\n",
              "      <th>mean_halt_times_destination</th>\n",
              "      <th>current_day</th>\n",
              "      <th>current_month</th>\n",
              "      <th>current_week</th>\n",
              "      <th>destination_name</th>\n",
              "      <th>hour_of_day</th>\n",
              "      <th>is_weekend</th>\n",
              "      <th>source_name</th>\n",
              "      <th>train_name</th>\n",
              "      <th>target</th>\n",
              "      <th>dist_bw_routes</th>\n",
              "      <th>mean_halt_times_source_bin</th>\n",
              "    </tr>\n",
              "    <tr>\n",
              "      <th>id_code</th>\n",
              "      <th></th>\n",
              "      <th></th>\n",
              "      <th></th>\n",
              "      <th></th>\n",
              "      <th></th>\n",
              "      <th></th>\n",
              "      <th></th>\n",
              "      <th></th>\n",
              "      <th></th>\n",
              "      <th></th>\n",
              "      <th></th>\n",
              "      <th></th>\n",
              "      <th></th>\n",
              "    </tr>\n",
              "  </thead>\n",
              "  <tbody>\n",
              "    <tr>\n",
              "      <th>isfywypmkqqhyft</th>\n",
              "      <td>634.16474</td>\n",
              "      <td>358.178035</td>\n",
              "      <td>27</td>\n",
              "      <td>7</td>\n",
              "      <td>30</td>\n",
              "      <td>station$1</td>\n",
              "      <td>20</td>\n",
              "      <td>False</td>\n",
              "      <td>station$147</td>\n",
              "      <td>ICZVZS</td>\n",
              "      <td>high</td>\n",
              "      <td>26.299799</td>\n",
              "      <td>6</td>\n",
              "    </tr>\n",
              "    <tr>\n",
              "      <th>mqsfxyvuqpbwomk</th>\n",
              "      <td>634.16474</td>\n",
              "      <td>358.178035</td>\n",
              "      <td>27</td>\n",
              "      <td>7</td>\n",
              "      <td>30</td>\n",
              "      <td>station$1</td>\n",
              "      <td>20</td>\n",
              "      <td>False</td>\n",
              "      <td>station$147</td>\n",
              "      <td>ICZVZS</td>\n",
              "      <td>high</td>\n",
              "      <td>26.299799</td>\n",
              "      <td>6</td>\n",
              "    </tr>\n",
              "    <tr>\n",
              "      <th>alspwwtbdvqsgby</th>\n",
              "      <td>634.16474</td>\n",
              "      <td>358.178035</td>\n",
              "      <td>27</td>\n",
              "      <td>7</td>\n",
              "      <td>30</td>\n",
              "      <td>station$1</td>\n",
              "      <td>20</td>\n",
              "      <td>False</td>\n",
              "      <td>station$147</td>\n",
              "      <td>ICZVZS</td>\n",
              "      <td>high</td>\n",
              "      <td>26.299799</td>\n",
              "      <td>6</td>\n",
              "    </tr>\n",
              "    <tr>\n",
              "      <th>szitxhhqduyrqpg</th>\n",
              "      <td>634.16474</td>\n",
              "      <td>358.178035</td>\n",
              "      <td>27</td>\n",
              "      <td>7</td>\n",
              "      <td>30</td>\n",
              "      <td>station$1</td>\n",
              "      <td>20</td>\n",
              "      <td>False</td>\n",
              "      <td>station$147</td>\n",
              "      <td>ICZVZS</td>\n",
              "      <td>high</td>\n",
              "      <td>26.299799</td>\n",
              "      <td>6</td>\n",
              "    </tr>\n",
              "    <tr>\n",
              "      <th>krisdqzczivvwcp</th>\n",
              "      <td>634.16474</td>\n",
              "      <td>358.178035</td>\n",
              "      <td>27</td>\n",
              "      <td>7</td>\n",
              "      <td>30</td>\n",
              "      <td>station$1</td>\n",
              "      <td>20</td>\n",
              "      <td>False</td>\n",
              "      <td>station$147</td>\n",
              "      <td>ICZVZS</td>\n",
              "      <td>high</td>\n",
              "      <td>26.299799</td>\n",
              "      <td>6</td>\n",
              "    </tr>\n",
              "  </tbody>\n",
              "</table>\n",
              "</div>"
            ],
            "text/plain": [
              "                 mean_halt_times_source  mean_halt_times_destination  \\\n",
              "id_code                                                                \n",
              "isfywypmkqqhyft  634.16474               358.178035                    \n",
              "mqsfxyvuqpbwomk  634.16474               358.178035                    \n",
              "alspwwtbdvqsgby  634.16474               358.178035                    \n",
              "szitxhhqduyrqpg  634.16474               358.178035                    \n",
              "krisdqzczivvwcp  634.16474               358.178035                    \n",
              "\n",
              "                current_day current_month current_week destination_name  \\\n",
              "id_code                                                                   \n",
              "isfywypmkqqhyft  27          7             30           station$1         \n",
              "mqsfxyvuqpbwomk  27          7             30           station$1         \n",
              "alspwwtbdvqsgby  27          7             30           station$1         \n",
              "szitxhhqduyrqpg  27          7             30           station$1         \n",
              "krisdqzczivvwcp  27          7             30           station$1         \n",
              "\n",
              "                hour_of_day is_weekend  source_name train_name target  \\\n",
              "id_code                                                                 \n",
              "isfywypmkqqhyft  20          False      station$147  ICZVZS     high    \n",
              "mqsfxyvuqpbwomk  20          False      station$147  ICZVZS     high    \n",
              "alspwwtbdvqsgby  20          False      station$147  ICZVZS     high    \n",
              "szitxhhqduyrqpg  20          False      station$147  ICZVZS     high    \n",
              "krisdqzczivvwcp  20          False      station$147  ICZVZS     high    \n",
              "\n",
              "                 dist_bw_routes  mean_halt_times_source_bin  \n",
              "id_code                                                      \n",
              "isfywypmkqqhyft  26.299799       6                           \n",
              "mqsfxyvuqpbwomk  26.299799       6                           \n",
              "alspwwtbdvqsgby  26.299799       6                           \n",
              "szitxhhqduyrqpg  26.299799       6                           \n",
              "krisdqzczivvwcp  26.299799       6                           "
            ]
          },
          "metadata": {
            "tags": []
          },
          "execution_count": 52
        }
      ]
    },
    {
      "cell_type": "code",
      "metadata": {
        "id": "KIFHG79vWNgc",
        "colab_type": "code",
        "colab": {
          "base_uri": "https://localhost:8080/",
          "height": 136
        },
        "outputId": "742a7804-7426-456d-b7c6-11665b7d02a9"
      },
      "source": [
        "df_train['mean_halt_times_source_bin'].value_counts()"
      ],
      "execution_count": null,
      "outputs": [
        {
          "output_type": "execute_result",
          "data": {
            "text/plain": [
              "0    279\n",
              "1    184\n",
              "3    103\n",
              "6    63 \n",
              "2    27 \n",
              "4    5  \n",
              "Name: mean_halt_times_source_bin, dtype: int64"
            ]
          },
          "metadata": {
            "tags": []
          },
          "execution_count": 53
        }
      ]
    },
    {
      "cell_type": "code",
      "metadata": {
        "id": "SIi5WoP6WNgf",
        "colab_type": "code",
        "colab": {
          "base_uri": "https://localhost:8080/",
          "height": 635
        },
        "outputId": "440d97af-c6fa-42f3-fcf9-061601445bc0"
      },
      "source": [
        "plt.figure(figsize=(15,5))\n",
        "df_train['mean_halt_times_source_bin'].value_counts().plot(kind='bar')\n",
        "plt.xlabel(\"Halt time source(seconds)\", labelpad = 30)\n",
        "plt.ylabel(\"Count\", labelpad = 10)\n",
        "plt.xticks(np.arange(7), labels=('0-100', '600-700', '100-200', '300-400', '400-500', '200-300', '500-600'))"
      ],
      "execution_count": null,
      "outputs": [
        {
          "output_type": "execute_result",
          "data": {
            "text/plain": [
              "([<matplotlib.axis.XTick at 0x7f38fad75518>,\n",
              "  <matplotlib.axis.XTick at 0x7f38fad754e0>,\n",
              "  <matplotlib.axis.XTick at 0x7f38fad12cf8>,\n",
              "  <matplotlib.axis.XTick at 0x7f38fad2c390>,\n",
              "  <matplotlib.axis.XTick at 0x7f38fad2c940>,\n",
              "  <matplotlib.axis.XTick at 0x7f38fad2cdd8>,\n",
              "  <matplotlib.axis.XTick at 0x7f38fad352e8>],\n",
              " [Text(0, 0, '0-100'),\n",
              "  Text(0, 0, '600-700'),\n",
              "  Text(0, 0, '100-200'),\n",
              "  Text(0, 0, '300-400'),\n",
              "  Text(0, 0, '400-500'),\n",
              "  Text(0, 0, '200-300'),\n",
              "  Text(0, 0, '500-600')])"
            ]
          },
          "metadata": {
            "tags": []
          },
          "execution_count": 54
        },
        {
          "output_type": "display_data",
          "data": {
            "image/png": "[encoded data removed]",
            "text/plain": [
              "<Figure size 1080x360 with 1 Axes>"
            ]
          },
          "metadata": {
            "tags": []
          }
        }
      ]
    },
    {
      "cell_type": "markdown",
      "metadata": {
        "id": "FgYIwrCTWNgi",
        "colab_type": "text"
      },
      "source": [
        "### 5.1.5 Halt time (destination)"
      ]
    },
    {
      "cell_type": "code",
      "metadata": {
        "id": "hFc_v5geWNgi",
        "colab_type": "code",
        "colab": {
          "base_uri": "https://localhost:8080/",
          "height": 255
        },
        "outputId": "3e8a4b49-6cad-4ea5-aef4-3b3a4b4804ea"
      },
      "source": [
        "# binning mean_halt_times_destination\n",
        "df_train['mean_halt_times_destination_bin'] = pd.cut(df_train['mean_halt_times_destination'], [-1, 100, 200,300,400,500,600,700])\n",
        "\n",
        "df_train[\"mean_halt_times_destination_bin\"] = pd.Categorical(df_train[\"mean_halt_times_destination_bin\"])\n",
        "df_train[\"mean_halt_times_destination_bin\"] = df_train[\"mean_halt_times_destination_bin\"].cat.codes\n",
        "\n",
        "df_train.head()"
      ],
      "execution_count": null,
      "outputs": [
        {
          "output_type": "execute_result",
          "data": {
            "text/html": [
              "<div>\n",
              "<style scoped>\n",
              "    .dataframe tbody tr th:only-of-type {\n",
              "        vertical-align: middle;\n",
              "    }\n",
              "\n",
              "    .dataframe tbody tr th {\n",
              "        vertical-align: top;\n",
              "    }\n",
              "\n",
              "    .dataframe thead th {\n",
              "        text-align: right;\n",
              "    }\n",
              "</style>\n",
              "<table border=\"1\" class=\"dataframe\">\n",
              "  <thead>\n",
              "    <tr style=\"text-align: right;\">\n",
              "      <th></th>\n",
              "      <th>mean_halt_times_source</th>\n",
              "      <th>mean_halt_times_destination</th>\n",
              "      <th>current_day</th>\n",
              "      <th>current_month</th>\n",
              "      <th>current_week</th>\n",
              "      <th>destination_name</th>\n",
              "      <th>hour_of_day</th>\n",
              "      <th>is_weekend</th>\n",
              "      <th>source_name</th>\n",
              "      <th>train_name</th>\n",
              "      <th>target</th>\n",
              "      <th>dist_bw_routes</th>\n",
              "      <th>mean_halt_times_source_bin</th>\n",
              "      <th>mean_halt_times_destination_bin</th>\n",
              "    </tr>\n",
              "    <tr>\n",
              "      <th>id_code</th>\n",
              "      <th></th>\n",
              "      <th></th>\n",
              "      <th></th>\n",
              "      <th></th>\n",
              "      <th></th>\n",
              "      <th></th>\n",
              "      <th></th>\n",
              "      <th></th>\n",
              "      <th></th>\n",
              "      <th></th>\n",
              "      <th></th>\n",
              "      <th></th>\n",
              "      <th></th>\n",
              "      <th></th>\n",
              "    </tr>\n",
              "  </thead>\n",
              "  <tbody>\n",
              "    <tr>\n",
              "      <th>isfywypmkqqhyft</th>\n",
              "      <td>634.16474</td>\n",
              "      <td>358.178035</td>\n",
              "      <td>27</td>\n",
              "      <td>7</td>\n",
              "      <td>30</td>\n",
              "      <td>station$1</td>\n",
              "      <td>20</td>\n",
              "      <td>False</td>\n",
              "      <td>station$147</td>\n",
              "      <td>ICZVZS</td>\n",
              "      <td>high</td>\n",
              "      <td>26.299799</td>\n",
              "      <td>6</td>\n",
              "      <td>3</td>\n",
              "    </tr>\n",
              "    <tr>\n",
              "      <th>mqsfxyvuqpbwomk</th>\n",
              "      <td>634.16474</td>\n",
              "      <td>358.178035</td>\n",
              "      <td>27</td>\n",
              "      <td>7</td>\n",
              "      <td>30</td>\n",
              "      <td>station$1</td>\n",
              "      <td>20</td>\n",
              "      <td>False</td>\n",
              "      <td>station$147</td>\n",
              "      <td>ICZVZS</td>\n",
              "      <td>high</td>\n",
              "      <td>26.299799</td>\n",
              "      <td>6</td>\n",
              "      <td>3</td>\n",
              "    </tr>\n",
              "    <tr>\n",
              "      <th>alspwwtbdvqsgby</th>\n",
              "      <td>634.16474</td>\n",
              "      <td>358.178035</td>\n",
              "      <td>27</td>\n",
              "      <td>7</td>\n",
              "      <td>30</td>\n",
              "      <td>station$1</td>\n",
              "      <td>20</td>\n",
              "      <td>False</td>\n",
              "      <td>station$147</td>\n",
              "      <td>ICZVZS</td>\n",
              "      <td>high</td>\n",
              "      <td>26.299799</td>\n",
              "      <td>6</td>\n",
              "      <td>3</td>\n",
              "    </tr>\n",
              "    <tr>\n",
              "      <th>szitxhhqduyrqpg</th>\n",
              "      <td>634.16474</td>\n",
              "      <td>358.178035</td>\n",
              "      <td>27</td>\n",
              "      <td>7</td>\n",
              "      <td>30</td>\n",
              "      <td>station$1</td>\n",
              "      <td>20</td>\n",
              "      <td>False</td>\n",
              "      <td>station$147</td>\n",
              "      <td>ICZVZS</td>\n",
              "      <td>high</td>\n",
              "      <td>26.299799</td>\n",
              "      <td>6</td>\n",
              "      <td>3</td>\n",
              "    </tr>\n",
              "    <tr>\n",
              "      <th>krisdqzczivvwcp</th>\n",
              "      <td>634.16474</td>\n",
              "      <td>358.178035</td>\n",
              "      <td>27</td>\n",
              "      <td>7</td>\n",
              "      <td>30</td>\n",
              "      <td>station$1</td>\n",
              "      <td>20</td>\n",
              "      <td>False</td>\n",
              "      <td>station$147</td>\n",
              "      <td>ICZVZS</td>\n",
              "      <td>high</td>\n",
              "      <td>26.299799</td>\n",
              "      <td>6</td>\n",
              "      <td>3</td>\n",
              "    </tr>\n",
              "  </tbody>\n",
              "</table>\n",
              "</div>"
            ],
            "text/plain": [
              "                 mean_halt_times_source  mean_halt_times_destination  \\\n",
              "id_code                                                                \n",
              "isfywypmkqqhyft  634.16474               358.178035                    \n",
              "mqsfxyvuqpbwomk  634.16474               358.178035                    \n",
              "alspwwtbdvqsgby  634.16474               358.178035                    \n",
              "szitxhhqduyrqpg  634.16474               358.178035                    \n",
              "krisdqzczivvwcp  634.16474               358.178035                    \n",
              "\n",
              "                current_day current_month current_week destination_name  \\\n",
              "id_code                                                                   \n",
              "isfywypmkqqhyft  27          7             30           station$1         \n",
              "mqsfxyvuqpbwomk  27          7             30           station$1         \n",
              "alspwwtbdvqsgby  27          7             30           station$1         \n",
              "szitxhhqduyrqpg  27          7             30           station$1         \n",
              "krisdqzczivvwcp  27          7             30           station$1         \n",
              "\n",
              "                hour_of_day is_weekend  source_name train_name target  \\\n",
              "id_code                                                                 \n",
              "isfywypmkqqhyft  20          False      station$147  ICZVZS     high    \n",
              "mqsfxyvuqpbwomk  20          False      station$147  ICZVZS     high    \n",
              "alspwwtbdvqsgby  20          False      station$147  ICZVZS     high    \n",
              "szitxhhqduyrqpg  20          False      station$147  ICZVZS     high    \n",
              "krisdqzczivvwcp  20          False      station$147  ICZVZS     high    \n",
              "\n",
              "                 dist_bw_routes  mean_halt_times_source_bin  \\\n",
              "id_code                                                       \n",
              "isfywypmkqqhyft  26.299799       6                            \n",
              "mqsfxyvuqpbwomk  26.299799       6                            \n",
              "alspwwtbdvqsgby  26.299799       6                            \n",
              "szitxhhqduyrqpg  26.299799       6                            \n",
              "krisdqzczivvwcp  26.299799       6                            \n",
              "\n",
              "                 mean_halt_times_destination_bin  \n",
              "id_code                                           \n",
              "isfywypmkqqhyft  3                                \n",
              "mqsfxyvuqpbwomk  3                                \n",
              "alspwwtbdvqsgby  3                                \n",
              "szitxhhqduyrqpg  3                                \n",
              "krisdqzczivvwcp  3                                "
            ]
          },
          "metadata": {
            "tags": []
          },
          "execution_count": 55
        }
      ]
    },
    {
      "cell_type": "code",
      "metadata": {
        "id": "GfvU1tGAWNgp",
        "colab_type": "code",
        "colab": {
          "base_uri": "https://localhost:8080/",
          "height": 638
        },
        "outputId": "d3f1ff23-867a-47bd-cd7e-9b2c3e95ec64"
      },
      "source": [
        "plt.figure(figsize=(15,5))\n",
        "df_train['mean_halt_times_destination_bin'].value_counts().plot(kind='bar')\n",
        "plt.xlabel(\"Halt time destination(seconds)\", labelpad = 30)\n",
        "plt.ylabel(\"Count\", labelpad = 10)\n",
        "plt.xticks(np.arange(7), labels=('0-100', '600-700', '100-200', '300-400', '400-500', '200-300', '500-600'))"
      ],
      "execution_count": null,
      "outputs": [
        {
          "output_type": "execute_result",
          "data": {
            "text/plain": [
              "([<matplotlib.axis.XTick at 0x7f38facdf470>,\n",
              "  <matplotlib.axis.XTick at 0x7f38facdf438>,\n",
              "  <matplotlib.axis.XTick at 0x7f38fac7ac50>,\n",
              "  <matplotlib.axis.XTick at 0x7f38fac922e8>,\n",
              "  <matplotlib.axis.XTick at 0x7f38fac92898>,\n",
              "  <matplotlib.axis.XTick at 0x7f38fac92d30>,\n",
              "  <matplotlib.axis.XTick at 0x7f38fac9b240>],\n",
              " [Text(0, 0, '0-100'),\n",
              "  Text(0, 0, '600-700'),\n",
              "  Text(0, 0, '100-200'),\n",
              "  Text(0, 0, '300-400'),\n",
              "  Text(0, 0, '400-500'),\n",
              "  Text(0, 0, '200-300'),\n",
              "  Text(0, 0, '500-600')])"
            ]
          },
          "metadata": {
            "tags": []
          },
          "execution_count": 56
        },
        {
          "output_type": "display_data",
          "data": {
            "image/png": "[encoded data removed]",
            "text/plain": [
              "<Figure size 1080x360 with 1 Axes>"
            ]
          },
          "metadata": {
            "tags": []
          }
        }
      ]
    },
    {
      "cell_type": "markdown",
      "metadata": {
        "id": "t4XbDJoeWNgs",
        "colab_type": "text"
      },
      "source": [
        "**Observations :**\n",
        "\n",
        "Mean halt times(source and destination) is either between 0-100 and 600-700(which are two ertreme values)"
      ]
    },
    {
      "cell_type": "markdown",
      "metadata": {
        "id": "d3w2uUrAWNgs",
        "colab_type": "text"
      },
      "source": [
        "### 5.1.6 How is our target variable distributed?"
      ]
    },
    {
      "cell_type": "code",
      "metadata": {
        "id": "HwXWrrJAWNgt",
        "colab_type": "code",
        "colab": {
          "base_uri": "https://localhost:8080/",
          "height": 85
        },
        "outputId": "7f65969e-adbb-4bd2-c089-6091c07c8b04"
      },
      "source": [
        "df_train['target'].value_counts()"
      ],
      "execution_count": null,
      "outputs": [
        {
          "output_type": "execute_result",
          "data": {
            "text/plain": [
              "low       295\n",
              "medium    184\n",
              "high      182\n",
              "Name: target, dtype: int64"
            ]
          },
          "metadata": {
            "tags": []
          },
          "execution_count": 57
        }
      ]
    },
    {
      "cell_type": "code",
      "metadata": {
        "id": "0fEWA3pEWNgv",
        "colab_type": "code",
        "colab": {
          "base_uri": "https://localhost:8080/",
          "height": 401
        },
        "outputId": "6ed7399e-5cfa-4d04-cc66-3bd8da616054"
      },
      "source": [
        "df_train['target'].value_counts().plot(kind='bar')"
      ],
      "execution_count": null,
      "outputs": [
        {
          "output_type": "execute_result",
          "data": {
            "text/plain": [
              "<matplotlib.axes._subplots.AxesSubplot at 0x7f38faca5400>"
            ]
          },
          "metadata": {
            "tags": []
          },
          "execution_count": 58
        },
        {
          "output_type": "display_data",
          "data": {
            "image/png": "[encoded data removed]",
            "text/plain": [
              "<Figure size 576x396 with 1 Axes>"
            ]
          },
          "metadata": {
            "tags": []
          }
        }
      ]
    },
    {
      "cell_type": "markdown",
      "metadata": {
        "id": "KTodKaEgWNg2",
        "colab_type": "text"
      },
      "source": [
        "**Observations:**\n",
        "\n",
        "We observe target varibale is nearly uniformly distributed."
      ]
    },
    {
      "cell_type": "markdown",
      "metadata": {
        "id": "TWY5LJ7yWNg3",
        "colab_type": "text"
      },
      "source": [
        " <a id=section502></a>\n",
        "## 5.2  Multivariate Analysis"
      ]
    },
    {
      "cell_type": "markdown",
      "metadata": {
        "id": "RWFZni1XWNg3",
        "colab_type": "text"
      },
      "source": [
        "### 5.2.1 Halt time (source Vs destination)"
      ]
    },
    {
      "cell_type": "code",
      "metadata": {
        "id": "ZpJBY3dRWNg4",
        "colab_type": "code",
        "colab": {
          "base_uri": "https://localhost:8080/",
          "height": 715
        },
        "outputId": "daa2b113-33eb-441e-9591-15eaa1c12f96"
      },
      "source": [
        "df = pd.DataFrame(\n",
        "\t{\n",
        "\t'Halt time (source)': df_train['mean_halt_times_source_bin'].value_counts(sort=False),\n",
        "    'Halt time (destination)': df_train['mean_halt_times_destination_bin'].value_counts(sort=False)\n",
        "\t}\n",
        "\t) \n",
        "df.plot.bar(rot=0,figsize=(15, 7))\n",
        "\n",
        "plt.xlabel(\"Halt time (seconds)\", labelpad = 30)\n",
        "plt.ylabel(\"Count\", labelpad = 10)\n",
        "plt.xticks(np.arange(7), labels=('0-100', '200-300', '400-500', '600-700', '100-200', '300-400', '500-600'))"
      ],
      "execution_count": null,
      "outputs": [
        {
          "output_type": "execute_result",
          "data": {
            "text/plain": [
              "([<matplotlib.axis.XTick at 0x7f38fac24ac8>,\n",
              "  <matplotlib.axis.XTick at 0x7f38fac24a90>,\n",
              "  <matplotlib.axis.XTick at 0x7f38fabec2e8>,\n",
              "  <matplotlib.axis.XTick at 0x7f38fabec4e0>,\n",
              "  <matplotlib.axis.XTick at 0x7f38fabecc50>,\n",
              "  <matplotlib.axis.XTick at 0x7f38fabec780>,\n",
              "  <matplotlib.axis.XTick at 0x7f38fab795c0>],\n",
              " [Text(0, 0, '0-100'),\n",
              "  Text(0, 0, '200-300'),\n",
              "  Text(0, 0, '400-500'),\n",
              "  Text(0, 0, '600-700'),\n",
              "  Text(0, 0, '100-200'),\n",
              "  Text(0, 0, '300-400'),\n",
              "  Text(0, 0, '500-600')])"
            ]
          },
          "metadata": {
            "tags": []
          },
          "execution_count": 59
        },
        {
          "output_type": "display_data",
          "data": {
            "image/png": "[encoded data removed]",
            "text/plain": [
              "<Figure size 1080x504 with 1 Axes>"
            ]
          },
          "metadata": {
            "tags": []
          }
        }
      ]
    },
    {
      "cell_type": "code",
      "metadata": {
        "id": "DA6vpioVafiO",
        "colab_type": "code",
        "colab": {}
      },
      "source": [
        "df_train.drop('mean_halt_times_source_bin', axis = 1, inplace=True)\n",
        "df_train.drop('mean_halt_times_destination_bin', axis = 1, inplace=True)"
      ],
      "execution_count": null,
      "outputs": []
    },
    {
      "cell_type": "markdown",
      "metadata": {
        "colab_type": "text",
        "id": "AK66Ggama2W-"
      },
      "source": [
        " <a id=section6></a>\n",
        "# 6. Data preparation for model building"
      ]
    },
    {
      "cell_type": "code",
      "metadata": {
        "id": "UHsi4oNhZOk7",
        "colab_type": "code",
        "colab": {
          "base_uri": "https://localhost:8080/",
          "height": 85
        },
        "outputId": "c4ac61bf-5389-4f76-8409-895a24d39828"
      },
      "source": [
        "df_train.columns"
      ],
      "execution_count": null,
      "outputs": [
        {
          "output_type": "execute_result",
          "data": {
            "text/plain": [
              "Index(['mean_halt_times_source', 'mean_halt_times_destination', 'current_day',\n",
              "       'current_month', 'current_week', 'destination_name', 'hour_of_day',\n",
              "       'is_weekend', 'source_name', 'train_name', 'target', 'dist_bw_routes'],\n",
              "      dtype='object')"
            ]
          },
          "metadata": {
            "tags": []
          },
          "execution_count": 61
        }
      ]
    },
    {
      "cell_type": "code",
      "metadata": {
        "id": "vowwdRagWNhY",
        "colab_type": "code",
        "colab": {
          "base_uri": "https://localhost:8080/",
          "height": 85
        },
        "outputId": "f067c87d-91dd-4d43-d5cc-b8db0fdddcf2"
      },
      "source": [
        "# storing columns with continuos datatype in 'continuos_cols' \n",
        "continuous_columns = list(df_test.select_dtypes(include='number').columns)\n",
        "categorical_columns = list(df_test.columns.difference(continuous_columns))\n",
        "\n",
        "print(continuous_columns)\n",
        "print(categorical_columns)\n",
        "\n",
        "print('continuous_columns length : {} '.format(len(continuous_columns)))\n",
        "print('categorical_columns length : {}'.format(len(categorical_columns)))"
      ],
      "execution_count": null,
      "outputs": [
        {
          "output_type": "stream",
          "text": [
            "['mean_halt_times_source', 'mean_halt_times_destination', 'dist_bw_routes']\n",
            "['current_day', 'current_month', 'current_week', 'destination_name', 'hour_of_day', 'is_weekend', 'source_name', 'train_name']\n",
            "continuous_columns length : 3 \n",
            "categorical_columns length : 8\n"
          ],
          "name": "stdout"
        }
      ]
    },
    {
      "cell_type": "markdown",
      "metadata": {
        "id": "FXGnI361RiW4",
        "colab_type": "text"
      },
      "source": [
        " <a id=section601></a>\n",
        "## 6.1 Standardising continuous columns"
      ]
    },
    {
      "cell_type": "markdown",
      "metadata": {
        "id": "8MIwAzSBQDLr",
        "colab_type": "text"
      },
      "source": [
        "#### Train"
      ]
    },
    {
      "cell_type": "code",
      "metadata": {
        "colab_type": "code",
        "id": "MDZDLzJnuBpP",
        "colab": {}
      },
      "source": [
        "from sklearn.preprocessing import StandardScaler\n",
        "\n",
        "# standardizing of  data\n",
        "scaler = StandardScaler().fit(df_train[continuous_columns])\n",
        "data = scaler.transform(df_train[continuous_columns])"
      ],
      "execution_count": null,
      "outputs": []
    },
    {
      "cell_type": "code",
      "metadata": {
        "id": "A4HrjeHVWNhd",
        "colab_type": "code",
        "colab": {
          "base_uri": "https://localhost:8080/",
          "height": 34
        },
        "outputId": "b5da21ab-3b17-4edf-f15a-21429a90c54e"
      },
      "source": [
        "# forming dataframe after standardization\n",
        "df_train_sd= pd.DataFrame(data)\n",
        "df_train_sd.columns = continuous_columns\n",
        "df_train_sd.index = df_train.index\n",
        "print(df_train_sd.shape)"
      ],
      "execution_count": null,
      "outputs": [
        {
          "output_type": "stream",
          "text": [
            "(661, 3)\n"
          ],
          "name": "stdout"
        }
      ]
    },
    {
      "cell_type": "markdown",
      "metadata": {
        "id": "3NMgA-0xREWv",
        "colab_type": "text"
      },
      "source": [
        "#### Test"
      ]
    },
    {
      "cell_type": "code",
      "metadata": {
        "id": "SPNEZ_GiRGWk",
        "colab_type": "code",
        "colab": {
          "base_uri": "https://localhost:8080/",
          "height": 34
        },
        "outputId": "7df4ea4e-081b-46cc-e704-f3acb457a755"
      },
      "source": [
        "data = scaler.transform(df_test[continuous_columns])\n",
        "\n",
        "# forming dataframe after standardization\n",
        "df_test_sd= pd.DataFrame(data)\n",
        "df_test_sd.columns = continuous_columns\n",
        "df_test_sd.index = df_test.index\n",
        "print(df_test_sd.shape)"
      ],
      "execution_count": null,
      "outputs": [
        {
          "output_type": "stream",
          "text": [
            "(964, 3)\n"
          ],
          "name": "stdout"
        }
      ]
    },
    {
      "cell_type": "markdown",
      "metadata": {
        "colab_type": "text",
        "id": "cf3wx6xMa2XA"
      },
      "source": [
        " <a id=section602></a>\n",
        "## 6.2 Dummification / One-Hot Encoding of categorical variables"
      ]
    },
    {
      "cell_type": "code",
      "metadata": {
        "colab_type": "code",
        "id": "CO_xJ7gKuBo7",
        "colab": {
          "base_uri": "https://localhost:8080/",
          "height": 153
        },
        "outputId": "dcf9f97f-1b43-44ca-fb24-689f60029fbe"
      },
      "source": [
        "# lets look at how many unique labels each category has\n",
        "for i in range(0, len(categorical_columns)):\n",
        "  print(categorical_columns[i], \" - \", df_train[categorical_columns[i]].nunique())"
      ],
      "execution_count": null,
      "outputs": [
        {
          "output_type": "stream",
          "text": [
            "current_day  -  30\n",
            "current_month  -  4\n",
            "current_week  -  11\n",
            "destination_name  -  175\n",
            "hour_of_day  -  22\n",
            "is_weekend  -  2\n",
            "source_name  -  155\n",
            "train_name  -  329\n"
          ],
          "name": "stdout"
        }
      ]
    },
    {
      "cell_type": "markdown",
      "metadata": {
        "colab_type": "text",
        "id": "40O1zNwNuBo-"
      },
      "source": [
        "**Observations:**\n",
        " \n",
        "As we have lots of categories in one column,\n",
        "\n",
        "Can we apply below thesis results?\n",
        "\n",
        "http://proceedings.mlr.press/v7/niculescu09/niculescu09.pdf\n",
        "\n",
        "\n",
        "**Summary:**\n",
        "\n",
        "In the winning solution Of the KDD 2009 cup: \"Winning the KDD Cup Orange Challenge with Ensemble Selection the authors limit one hot encoding to the 10 most frequent labels of the variable. This means that they would make one binary variable for each of the 10 most frequent labels only. This is equivalent to grouping all the other labels under a new category, that in this case will be dropped. Thus, the 10 new dummy variables indicate if one of the 10 most frequent labels is present (1) or not (O) for a particular observation."
      ]
    },
    {
      "cell_type": "markdown",
      "metadata": {
        "id": "fKvwTzmAR9qn",
        "colab_type": "text"
      },
      "source": [
        "#### Train"
      ]
    },
    {
      "cell_type": "code",
      "metadata": {
        "colab_type": "code",
        "id": "U7udISnNuBpB",
        "colab": {
          "base_uri": "https://localhost:8080/",
          "height": 34
        },
        "outputId": "ff77dd6f-27d8-46c2-d2b9-181591daca7c"
      },
      "source": [
        "cols_to_drop = []\n",
        "df_train_cat = pd.DataFrame()\n",
        "df_test_cat =  pd.DataFrame()\n",
        "\n",
        "for col in categorical_columns: \n",
        "    imp_labels = list(df_train[col].value_counts().head(10).index)\n",
        "    \n",
        "    for label in imp_labels:\n",
        "        df_train_cat[str(col)+'_'+str(label)] = np.where(df_train[col] == label, 1, 0)\n",
        "        df_test_cat[str(col)+'_'+str(label)] = np.where(df_test[col] == label, 1, 0)\n",
        "    \n",
        "    cols_to_drop.append(col)\n",
        "    # df_train.drop(col, axis = 1, inplace=True)\n",
        "df_train_cat.index = df_train.index \n",
        "df_test_cat.index = df_test.index  \n",
        "df_train_cat.shape, df_test_cat.shape"
      ],
      "execution_count": null,
      "outputs": [
        {
          "output_type": "execute_result",
          "data": {
            "text/plain": [
              "((661, 66), (964, 66))"
            ]
          },
          "metadata": {
            "tags": []
          },
          "execution_count": 67
        }
      ]
    },
    {
      "cell_type": "markdown",
      "metadata": {
        "colab_type": "text",
        "id": "g7YfO8iSuBpH"
      },
      "source": [
        "**Observations:**\n",
        "\n",
        "We have 70* columns after one-hot encoding"
      ]
    },
    {
      "cell_type": "markdown",
      "metadata": {
        "colab_type": "text",
        "id": "S4cLX3TIuBpU"
      },
      "source": [
        "#### Merging all columns together."
      ]
    },
    {
      "cell_type": "code",
      "metadata": {
        "colab_type": "code",
        "id": "xUg9OG4zdvT4",
        "colab": {
          "base_uri": "https://localhost:8080/",
          "height": 34
        },
        "outputId": "d4f6c09f-d1c4-4980-acd9-7d9de5dec40c"
      },
      "source": [
        "# merge categorical and continuos columns\n",
        "df_train = pd.concat([df_train_sd, df_train_cat, df_train['target']],axis=1).reindex(df_train.index)\n",
        "df_train.shape"
      ],
      "execution_count": null,
      "outputs": [
        {
          "output_type": "execute_result",
          "data": {
            "text/plain": [
              "(661, 70)"
            ]
          },
          "metadata": {
            "tags": []
          },
          "execution_count": 68
        }
      ]
    },
    {
      "cell_type": "code",
      "metadata": {
        "id": "EZ2FrRlod3z7",
        "colab_type": "code",
        "colab": {
          "base_uri": "https://localhost:8080/",
          "height": 34
        },
        "outputId": "38b8bd85-925e-42f6-cbda-a4f8588d9e69"
      },
      "source": [
        "# merge categorical and continuos columns\n",
        "df_test = pd.concat([df_test_sd, df_test_cat] ,axis=1).reindex(df_test.index)\n",
        "df_test.shape"
      ],
      "execution_count": null,
      "outputs": [
        {
          "output_type": "execute_result",
          "data": {
            "text/plain": [
              "(964, 69)"
            ]
          },
          "metadata": {
            "tags": []
          },
          "execution_count": 69
        }
      ]
    },
    {
      "cell_type": "code",
      "metadata": {
        "id": "sTSSA_B9uAI_",
        "colab_type": "code",
        "colab": {
          "base_uri": "https://localhost:8080/",
          "height": 221
        },
        "outputId": "81ea30cb-a257-45d1-d703-b45f5a42f302"
      },
      "source": [
        "df_test.isna().sum()"
      ],
      "execution_count": null,
      "outputs": [
        {
          "output_type": "execute_result",
          "data": {
            "text/plain": [
              "mean_halt_times_source         0\n",
              "mean_halt_times_destination    0\n",
              "dist_bw_routes                 0\n",
              "current_day_27                 0\n",
              "current_day_29                 0\n",
              "                              ..\n",
              "train_name_LVVT                0\n",
              "train_name_ICXWXY              0\n",
              "train_name_ICWYAR              0\n",
              "train_name_ICWXZT              0\n",
              "train_name_ICTXU               0\n",
              "Length: 69, dtype: int64"
            ]
          },
          "metadata": {
            "tags": []
          },
          "execution_count": 70
        }
      ]
    },
    {
      "cell_type": "markdown",
      "metadata": {
        "id": "s1mxT0uVWNhy",
        "colab_type": "text"
      },
      "source": [
        " <a id=section7></a>\n",
        "# 7. Creating model and prediction"
      ]
    },
    {
      "cell_type": "markdown",
      "metadata": {
        "id": "sx-U2tt1WNh9",
        "colab_type": "text"
      },
      "source": [
        "### Splitting data into training and testing data.\n"
      ]
    },
    {
      "cell_type": "code",
      "metadata": {
        "id": "9s3TZZu7WNh9",
        "colab_type": "code",
        "colab": {}
      },
      "source": [
        "feature_cols = list(df_train.columns)\n",
        "feature_cols.remove('target')\n",
        "y = df_train['target']\n",
        "X = df_train[feature_cols]"
      ],
      "execution_count": null,
      "outputs": []
    },
    {
      "cell_type": "code",
      "metadata": {
        "id": "3Zbaym65WNiA",
        "colab_type": "code",
        "colab": {}
      },
      "source": [
        "from sklearn.model_selection import train_test_split\n",
        "\n",
        "# Split data into train and test datasets\n",
        "test_data_split = 0.2\n",
        "X_train,X_test , y_train, y_test = train_test_split(X,y,test_size = test_data_split,random_state=99, stratify=y)"
      ],
      "execution_count": null,
      "outputs": []
    },
    {
      "cell_type": "markdown",
      "metadata": {
        "id": "xiujSceuWNiD",
        "colab_type": "text"
      },
      "source": [
        " <a id=section701></a>\n",
        "## 7.1 Logistic Regression"
      ]
    },
    {
      "cell_type": "code",
      "metadata": {
        "scrolled": true,
        "id": "U3IBSbgQWNiD",
        "colab_type": "code",
        "colab": {
          "base_uri": "https://localhost:8080/",
          "height": 459
        },
        "outputId": "b1c3ea4d-529b-4585-85d4-cfaccb291caa"
      },
      "source": [
        "from sklearn.linear_model import LogisticRegression\n",
        "from sklearn.metrics import confusion_matrix, classification_report\n",
        "\n",
        "logistic = LogisticRegression(class_weight='balanced')\n",
        "logistic.fit(X_train, y_train)\n",
        "\n",
        "logistic_train_preds = logistic.predict(X_train)\n",
        "logistic_test_preds = logistic.predict(X_test)\n",
        "\n",
        "print(confusion_matrix(y_train, logistic_train_preds))\n",
        "print(confusion_matrix(y_test, logistic_test_preds))\n",
        "\n",
        "print(classification_report(y_train, logistic_train_preds))\n",
        "print(classification_report(y_test, logistic_test_preds))"
      ],
      "execution_count": null,
      "outputs": [
        {
          "output_type": "stream",
          "text": [
            "[[ 95  19  31]\n",
            " [ 36 162  38]\n",
            " [ 37  31  79]]\n",
            "[[18 10  9]\n",
            " [10 38 11]\n",
            " [12 12 13]]\n",
            "              precision    recall  f1-score   support\n",
            "\n",
            "        high       0.57      0.66      0.61       145\n",
            "         low       0.76      0.69      0.72       236\n",
            "      medium       0.53      0.54      0.54       147\n",
            "\n",
            "    accuracy                           0.64       528\n",
            "   macro avg       0.62      0.63      0.62       528\n",
            "weighted avg       0.65      0.64      0.64       528\n",
            "\n",
            "              precision    recall  f1-score   support\n",
            "\n",
            "        high       0.45      0.49      0.47        37\n",
            "         low       0.63      0.64      0.64        59\n",
            "      medium       0.39      0.35      0.37        37\n",
            "\n",
            "    accuracy                           0.52       133\n",
            "   macro avg       0.49      0.49      0.49       133\n",
            "weighted avg       0.52      0.52      0.52       133\n",
            "\n"
          ],
          "name": "stdout"
        }
      ]
    },
    {
      "cell_type": "markdown",
      "metadata": {
        "id": "jj9I1jYNWNiK",
        "colab_type": "text"
      },
      "source": [
        " <a id=section702></a>\n",
        "## 7.2 KNN"
      ]
    },
    {
      "cell_type": "code",
      "metadata": {
        "id": "y7UzvvQDWNiL",
        "colab_type": "code",
        "colab": {}
      },
      "source": [
        "import matplotlib.pyplot as plt\n",
        "from sklearn.neighbors import KNeighborsClassifier\n",
        "from sklearn.metrics import recall_score,accuracy_score,f1_score\n",
        "%matplotlib inline\n",
        "\n",
        "train_performance={}\n",
        "test_performance={}\n",
        "\n",
        "for k in range(1,50,2):\n",
        "    knn_temp=KNeighborsClassifier(n_neighbors=k,weights='distance')\n",
        "    knn_temp.fit(X_train,y_train)\n",
        "    k_train_preds=knn_temp.predict(X_train)\n",
        "    k_test_preds=knn_temp.predict(X_test)\n",
        "    train_performance[k]=f1_score(y_train,k_train_preds, average='weighted')\n",
        "    test_performance[k]=f1_score(y_test,k_test_preds, average='weighted')"
      ],
      "execution_count": null,
      "outputs": []
    },
    {
      "cell_type": "code",
      "metadata": {
        "id": "DC3zxJqOWNiQ",
        "colab_type": "code",
        "colab": {}
      },
      "source": [
        "keys = test_performance.keys()\n",
        "train_values = train_performance.values()\n",
        "test_values = test_performance.values()"
      ],
      "execution_count": null,
      "outputs": []
    },
    {
      "cell_type": "code",
      "metadata": {
        "id": "-ouutcqJWNiT",
        "colab_type": "code",
        "colab": {}
      },
      "source": [
        "perf=pd.DataFrame()\n",
        "perf['k']= keys\n",
        "perf['train_performance']= train_values\n",
        "perf['test_performance']= test_values"
      ],
      "execution_count": null,
      "outputs": []
    },
    {
      "cell_type": "code",
      "metadata": {
        "id": "_c_RCGC3WNiV",
        "colab_type": "code",
        "colab": {
          "base_uri": "https://localhost:8080/",
          "height": 204
        },
        "outputId": "287da441-db69-4eef-9d92-15c2b3bc4f98"
      },
      "source": [
        "perf.sort_values(by='test_performance', ascending=False, axis=0).head()"
      ],
      "execution_count": null,
      "outputs": [
        {
          "output_type": "execute_result",
          "data": {
            "text/html": [
              "<div>\n",
              "<style scoped>\n",
              "    .dataframe tbody tr th:only-of-type {\n",
              "        vertical-align: middle;\n",
              "    }\n",
              "\n",
              "    .dataframe tbody tr th {\n",
              "        vertical-align: top;\n",
              "    }\n",
              "\n",
              "    .dataframe thead th {\n",
              "        text-align: right;\n",
              "    }\n",
              "</style>\n",
              "<table border=\"1\" class=\"dataframe\">\n",
              "  <thead>\n",
              "    <tr style=\"text-align: right;\">\n",
              "      <th></th>\n",
              "      <th>k</th>\n",
              "      <th>train_performance</th>\n",
              "      <th>test_performance</th>\n",
              "    </tr>\n",
              "  </thead>\n",
              "  <tbody>\n",
              "    <tr>\n",
              "      <th>4</th>\n",
              "      <td>9</td>\n",
              "      <td>0.967703</td>\n",
              "      <td>0.558069</td>\n",
              "    </tr>\n",
              "    <tr>\n",
              "      <th>2</th>\n",
              "      <td>5</td>\n",
              "      <td>0.967703</td>\n",
              "      <td>0.557595</td>\n",
              "    </tr>\n",
              "    <tr>\n",
              "      <th>6</th>\n",
              "      <td>13</td>\n",
              "      <td>0.967703</td>\n",
              "      <td>0.543798</td>\n",
              "    </tr>\n",
              "    <tr>\n",
              "      <th>5</th>\n",
              "      <td>11</td>\n",
              "      <td>0.967703</td>\n",
              "      <td>0.541426</td>\n",
              "    </tr>\n",
              "    <tr>\n",
              "      <th>24</th>\n",
              "      <td>49</td>\n",
              "      <td>0.967703</td>\n",
              "      <td>0.534226</td>\n",
              "    </tr>\n",
              "  </tbody>\n",
              "</table>\n",
              "</div>"
            ],
            "text/plain": [
              "     k  train_performance  test_performance\n",
              "4   9   0.967703           0.558069        \n",
              "2   5   0.967703           0.557595        \n",
              "6   13  0.967703           0.543798        \n",
              "5   11  0.967703           0.541426        \n",
              "24  49  0.967703           0.534226        "
            ]
          },
          "metadata": {
            "tags": []
          },
          "execution_count": 77
        }
      ]
    },
    {
      "cell_type": "code",
      "metadata": {
        "id": "NYlpSgRnWNia",
        "colab_type": "code",
        "colab": {
          "base_uri": "https://localhost:8080/",
          "height": 459
        },
        "outputId": "e0bc6d7e-90e4-4f16-d9a7-5c17797cc79b"
      },
      "source": [
        "knn=KNeighborsClassifier(n_neighbors=5,weights='distance')\n",
        "knn.fit(X_train,y_train)\n",
        "\n",
        "knn_train_preds = knn.predict(X_train)\n",
        "knn_test_preds = knn.predict(X_test)\n",
        "\n",
        "print(confusion_matrix(y_train, knn_train_preds))\n",
        "print(confusion_matrix(y_test, knn_test_preds))\n",
        "\n",
        "print(classification_report(y_train, knn_train_preds))\n",
        "print(classification_report(y_test, knn_test_preds))"
      ],
      "execution_count": null,
      "outputs": [
        {
          "output_type": "stream",
          "text": [
            "[[145   0   0]\n",
            " [  4 232   0]\n",
            " [  8   5 134]]\n",
            "[[18 17  2]\n",
            " [ 6 45  8]\n",
            " [11 13 13]]\n",
            "              precision    recall  f1-score   support\n",
            "\n",
            "        high       0.92      1.00      0.96       145\n",
            "         low       0.98      0.98      0.98       236\n",
            "      medium       1.00      0.91      0.95       147\n",
            "\n",
            "    accuracy                           0.97       528\n",
            "   macro avg       0.97      0.96      0.96       528\n",
            "weighted avg       0.97      0.97      0.97       528\n",
            "\n",
            "              precision    recall  f1-score   support\n",
            "\n",
            "        high       0.51      0.49      0.50        37\n",
            "         low       0.60      0.76      0.67        59\n",
            "      medium       0.57      0.35      0.43        37\n",
            "\n",
            "    accuracy                           0.57       133\n",
            "   macro avg       0.56      0.53      0.53       133\n",
            "weighted avg       0.57      0.57      0.56       133\n",
            "\n"
          ],
          "name": "stdout"
        }
      ]
    },
    {
      "cell_type": "markdown",
      "metadata": {
        "id": "trJwfHvUWNib",
        "colab_type": "text"
      },
      "source": [
        " <a id=section703></a>\n",
        "### 7.3 Naive Bayes "
      ]
    },
    {
      "cell_type": "code",
      "metadata": {
        "id": "7TWlLkcjWNic",
        "colab_type": "code",
        "colab": {
          "base_uri": "https://localhost:8080/",
          "height": 34
        },
        "outputId": "eac7049a-18c0-4afc-cdd4-0750b8fb130c"
      },
      "source": [
        "# Naive Bayes classification\n",
        "gnb = GaussianNB(priors=None)\n",
        "\n",
        "# Train classifier\n",
        "gnb.fit(X_train,y_train)"
      ],
      "execution_count": null,
      "outputs": [
        {
          "output_type": "execute_result",
          "data": {
            "text/plain": [
              "GaussianNB(priors=None, var_smoothing=1e-09)"
            ]
          },
          "metadata": {
            "tags": []
          },
          "execution_count": 79
        }
      ]
    },
    {
      "cell_type": "code",
      "metadata": {
        "id": "e_UI-YXEWNie",
        "colab_type": "code",
        "colab": {}
      },
      "source": [
        "gnb_train_preds = gnb.predict(X_train)\n",
        "gnb_test_preds = gnb.predict(X_test)"
      ],
      "execution_count": null,
      "outputs": []
    },
    {
      "cell_type": "code",
      "metadata": {
        "id": "ngz4IzA9WNii",
        "colab_type": "code",
        "colab": {
          "base_uri": "https://localhost:8080/",
          "height": 459
        },
        "outputId": "f9c026ba-ff8b-4204-ab37-f30b4266a041"
      },
      "source": [
        "print(confusion_matrix(y_train, gnb_train_preds))\n",
        "print(confusion_matrix(y_test, gnb_test_preds))\n",
        "\n",
        "print(classification_report(y_train, gnb_train_preds))\n",
        "print(classification_report(y_test, gnb_test_preds))"
      ],
      "execution_count": null,
      "outputs": [
        {
          "output_type": "stream",
          "text": [
            "[[140   4   1]\n",
            " [130 101   5]\n",
            " [109  17  21]]\n",
            "[[33  1  3]\n",
            " [29 29  1]\n",
            " [25  6  6]]\n",
            "              precision    recall  f1-score   support\n",
            "\n",
            "        high       0.37      0.97      0.53       145\n",
            "         low       0.83      0.43      0.56       236\n",
            "      medium       0.78      0.14      0.24       147\n",
            "\n",
            "    accuracy                           0.50       528\n",
            "   macro avg       0.66      0.51      0.45       528\n",
            "weighted avg       0.69      0.50      0.47       528\n",
            "\n",
            "              precision    recall  f1-score   support\n",
            "\n",
            "        high       0.38      0.89      0.53        37\n",
            "         low       0.81      0.49      0.61        59\n",
            "      medium       0.60      0.16      0.26        37\n",
            "\n",
            "    accuracy                           0.51       133\n",
            "   macro avg       0.59      0.52      0.47       133\n",
            "weighted avg       0.63      0.51      0.49       133\n",
            "\n"
          ],
          "name": "stdout"
        }
      ]
    },
    {
      "cell_type": "markdown",
      "metadata": {
        "id": "e77LdKW1WNik",
        "colab_type": "text"
      },
      "source": [
        " <a id=section704></a>\n",
        "### 7.4 SVM"
      ]
    },
    {
      "cell_type": "code",
      "metadata": {
        "id": "hcgnMq39WNik",
        "colab_type": "code",
        "colab": {
          "base_uri": "https://localhost:8080/",
          "height": 459
        },
        "outputId": "aaac0608-284e-4de8-9c93-360c1d03b28d"
      },
      "source": [
        "# SVM\n",
        "from sklearn import svm\n",
        "model_svm = svm.SVC(probability=True, kernel='rbf', degree = 3)\n",
        "model_svm.fit(X_train, y_train)\n",
        "\n",
        "model_svm_train_preds = model_svm.predict(X_train)\n",
        "model_svm_test_preds = model_svm.predict(X_test)\n",
        "\n",
        "print(confusion_matrix(y_train, model_svm_train_preds))\n",
        "print(confusion_matrix(y_test, model_svm_test_preds))\n",
        "\n",
        "print(classification_report(y_train, model_svm_train_preds))\n",
        "print(classification_report(y_test, model_svm_test_preds))"
      ],
      "execution_count": null,
      "outputs": [
        {
          "output_type": "stream",
          "text": [
            "[[ 98  33  14]\n",
            " [ 14 215   7]\n",
            " [ 20  64  63]]\n",
            "[[12 20  5]\n",
            " [ 9 47  3]\n",
            " [ 8 21  8]]\n",
            "              precision    recall  f1-score   support\n",
            "\n",
            "        high       0.74      0.68      0.71       145\n",
            "         low       0.69      0.91      0.78       236\n",
            "      medium       0.75      0.43      0.55       147\n",
            "\n",
            "    accuracy                           0.71       528\n",
            "   macro avg       0.73      0.67      0.68       528\n",
            "weighted avg       0.72      0.71      0.70       528\n",
            "\n",
            "              precision    recall  f1-score   support\n",
            "\n",
            "        high       0.41      0.32      0.36        37\n",
            "         low       0.53      0.80      0.64        59\n",
            "      medium       0.50      0.22      0.30        37\n",
            "\n",
            "    accuracy                           0.50       133\n",
            "   macro avg       0.48      0.45      0.43       133\n",
            "weighted avg       0.49      0.50      0.47       133\n",
            "\n"
          ],
          "name": "stdout"
        }
      ]
    },
    {
      "cell_type": "markdown",
      "metadata": {
        "id": "c1xgsvHyWNiz",
        "colab_type": "text"
      },
      "source": [
        "**NOTE:**\n",
        "\n",
        "After applying multiple ML algorithm we observe best results using **SVM**.\n",
        "Let's now train whole data using SVM and predict our test data."
      ]
    },
    {
      "cell_type": "markdown",
      "metadata": {
        "id": "LKYxveMS1paN",
        "colab_type": "text"
      },
      "source": [
        "# 8. Conclusion"
      ]
    },
    {
      "cell_type": "markdown",
      "metadata": {
        "id": "iRovzB4pWNi0",
        "colab_type": "text"
      },
      "source": [
        "## Using Naive-Bayes for final prediction"
      ]
    },
    {
      "cell_type": "code",
      "metadata": {
        "id": "i4vf_vGAWNi5",
        "colab_type": "code",
        "colab": {}
      },
      "source": [
        "# Predict SVM\n",
        "y_pred = gnb.predict(df_test)"
      ],
      "execution_count": null,
      "outputs": []
    },
    {
      "cell_type": "code",
      "metadata": {
        "id": "uzAi-tQYWNi-",
        "colab_type": "code",
        "colab": {}
      },
      "source": [
        "# expoting results to csv file\n",
        "train_passenger_volume_prediction = pd.DataFrame({'id_code': df_test.index, 'target':y_pred});\n",
        "train_passenger_volume_prediction.set_index('id_code',  inplace = True)\n",
        "train_passenger_volume_prediction.to_csv('train_passenger_volume_prediction.csv',index = 'id_code')"
      ],
      "execution_count": null,
      "outputs": []
    }
  ]
}