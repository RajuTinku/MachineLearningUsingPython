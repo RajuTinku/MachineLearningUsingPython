{
 "cells": [
  {
   "cell_type": "markdown",
   "metadata": {
    "colab_type": "text",
    "id": "AAty0UN_OmHZ"
   },
   "source": [
    "# Server Hack Prediction"
   ]
  },
  {
   "cell_type": "markdown",
   "metadata": {
    "colab_type": "text",
    "id": "vUbsiwalOilM"
   },
   "source": [
    "## Table of Contents\n",
    "\n",
    "1. [Problem Statement](#section1)<br>\n",
    "2. [Importing Packages](#section2)<br>\n",
    "3. [Loading Data](#section3)<br>\n",
    "  - 3.1 [Description of the Datasets](#section301)<br>\n",
    "  - 3.2 [Pandas Profiling before Data Preprocessing](#section302)<br>\n",
    "4. [Data Preprocessing](#section4)<br>\n",
    "  - 4.1 [Removing highly correlated columns](#section401)<br>\n",
    "  - 4.2 [Removing columns with more than 50% zeroes](#section402)<br>\n",
    "  - 4.3 [Filling missing values](#section403)<br>\n",
    "  - 4.4 [Transforming date columns](#section404)<br>\n",
    "  - 4.4 [Pandas Profiling after Data Preprocessing](#section404)<br>\n",
    "  - 4.5 [Exploratory Data Analysis](#section405)<br>\n",
    "5. [Data preparation for model building](#section5)<br>\n",
    "  - 5.1 [Dummification / One-Hot Encoding](#section501)<br>\n",
    "  - 5.2 [Standardizing continuos independent variables](#section502)<br>\n",
    "  - 5.3 [Segregating Train and Test data](#section503)<br>\n",
    "6. [Ensemble Modelling and Prediction](#section6)<br>  \n",
    "  - 6.1 [Linear Regression](#section601)\n",
    "      - 6.1.1 [Using Default Model](#section60102)\n",
    "          - 6.1.1.1 [Building Model and Predictionl](#section6010201)\n",
    "          - 6.1.1.2 [Model Evaluation](#section6010202)\n",
    "      - 6.1.2 [Using RFE](#section60103)\n",
    "          - 6.1.2.1 [Building Model and Predictionl](#section6010301)\n",
    "          - 6.1.2.2 [Model Evaluation](#section6010301)\n",
    "      - 6.1.3 [Using RandomSearchCV](#section60104)\n",
    "          - 6.1.3.1 [Building Model and Predictionl](#section6010401)\n",
    "          - 6.1.3.2 [Model Evaluation](#section6010401)\n",
    "  - 6.2 [Decision Tree](#section602)\n",
    "      - 6.2.1 [Using Default Model](#section60201)\n",
    "          - 6.2.1.1 [Building Model and Predictionl](#section6020101)\n",
    "          - 6.2.1.2 [Model Evaluation](#section6020102)\n",
    "      - 6.2.2 [Using GridSearchCV](#section60202)\n",
    "          - 6.2.2.1 [Building Model and Predictionl](#section6020201)\n",
    "          - 6.2.2.2 [Model Evaluation](#section6020202)\n",
    "      - 6.2.3 [Using RandomSearchCV](#section60203)\n",
    "          - 6.2.3.1 [Building Model and Predictionl](#section6020301)\n",
    "          - 6.2.3.2 [Model Evaluation](#section6020302)\n",
    "  - 6.3 [Random Forest](#section603)\n",
    "      - 6.3.1 [Using Default Model](#section60301)\n",
    "          - 6.3.1.1 [Building Model and Predictionl](#section6030101)\n",
    "          - 6.1.2.2 [Model Evaluation](#section6030102)\n",
    "      - 6.3.2 [Using GridSearchCV](#section60302)\n",
    "          - 6.3.2.1 [Building Model and Predictionl](#section6030201)\n",
    "          - 6.3.2.2 [Model Evaluation](#section6030202)\n",
    "      - 6.3.3 [Using RandomSearchCV](#section60303)\n",
    "          - 6.3.3.1 [Building Model and Predictionl](#section6030301)\n",
    "          - 6.3.3.2 [Model Evaluation](#section6030302)\n",
    "7.  [Conclusion](#section7)<br>\n",
    "    - 7.1 [Choosing Best Model for Prediction](#section701)\n",
    "    - 7.2 [Final Prediction](#section702)"
   ]
  },
  {
   "cell_type": "markdown",
   "metadata": {
    "colab_type": "text",
    "id": "ghbTEzIv7RTM"
   },
   "source": [
    "<a id=section1></a>\n",
    "# 1. Problem Statement\n"
   ]
  },
  {
   "cell_type": "markdown",
   "metadata": {
    "colab_type": "text",
    "id": "lK0c7QdT7gPR"
   },
   "source": [
    "**Predict if the server will be hacked.**\n",
    "\n",
    "All the countries across the globe have adapted to means of digital payments. And with the increased volume of digital payments, hacking has become a pretty common event wherein the hacker can try to hack your details just with your phone number linked to your bank account. However, there is data with some anonymized variables based on which one can predict that the hack is going to happen. \n",
    "\n",
    "Your work is to build a predictive model which can identify a pattern in these variables and suggest that a hack is going to happen so that the cyber security can somehow stop it before it actually happens. You have to predict the column : \"MALICIOUS_OFFENSE\".\n",
    "\n",
    "Hackathon link: https://www.hackerearth.com/challenges/hiring/novartis-data-science-hiring-challenge/"
   ]
  },
  {
   "cell_type": "markdown",
   "metadata": {
    "colab_type": "text",
    "id": "TMFAnaRM78JF"
   },
   "source": [
    "<a id=section2></a>\n",
    "# 2. Importing Packages"
   ]
  },
  {
   "cell_type": "code",
   "execution_count": 1,
   "metadata": {
    "colab": {
     "base_uri": "https://localhost:8080/",
     "height": 71
    },
    "colab_type": "code",
    "id": "9PjAobN27OPz",
    "outputId": "25c4d247-9526-4d3b-a391-96a0dc61580a"
   },
   "outputs": [
    {
     "name": "stderr",
     "output_type": "stream",
     "text": [
      "/usr/local/lib/python3.6/dist-packages/ipykernel_launcher.py:9: FutureWarning: Passing a negative integer is deprecated in version 1.0 and will not be supported in future version. Instead, use None to not limit the column width.\n",
      "  if __name__ == '__main__':\n"
     ]
    }
   ],
   "source": [
    "import numpy as np                     \n",
    "\n",
    "import pandas as pd\n",
    "\n",
    "# To suppress pandas warnings.\n",
    "pd.set_option('mode.chained_assignment', None) \n",
    "\n",
    "# To display all the data in each column\n",
    "pd.set_option('display.max_colwidth', -1)         \n",
    "\n",
    "pd.get_option(\"display.max_rows\",10000)\n",
    "\n",
    "# To display every column of the dataset in head()\n",
    "pd.options.display.max_columns = 100               \n",
    "\n",
    "import warnings\n",
    "warnings.filterwarnings('ignore')    "
   ]
  },
  {
   "cell_type": "code",
   "execution_count": 2,
   "metadata": {
    "colab": {},
    "colab_type": "code",
    "id": "HfRaX3qe8IdE"
   },
   "outputs": [],
   "source": [
    "import matplotlib.pyplot as plt\n",
    "%matplotlib inline\n",
    "\n",
    "# To apply seaborn styles to the plots.\n",
    "import seaborn as sns\n",
    "sns.set(style='whitegrid', font_scale=1.3, color_codes=True) "
   ]
  },
  {
   "cell_type": "markdown",
   "metadata": {
    "colab_type": "text",
    "id": "T-GMsr808OFS"
   },
   "source": [
    "<a id=section3></a>\n",
    "# 3. Loading Data"
   ]
  },
  {
   "cell_type": "code",
   "execution_count": 3,
   "metadata": {
    "colab": {},
    "colab_type": "code",
    "id": "QiHULyjx8K4q"
   },
   "outputs": [],
   "source": [
    "df_train  = pd.read_csv('Train.csv', index_col='INCIDENT_ID')\n",
    "df_test = pd.read_csv('Test.csv', index_col='INCIDENT_ID')"
   ]
  },
  {
   "cell_type": "markdown",
   "metadata": {
    "colab_type": "text",
    "id": "B-MIdzP3uBnM"
   },
   "source": [
    "<a id=section301></a>\n",
    "## 3.1 Description of the Datasets"
   ]
  },
  {
   "cell_type": "markdown",
   "metadata": {
    "colab_type": "text",
    "id": "_m6FGfKbuBnN"
   },
   "source": [
    "#### a. Check shape"
   ]
  },
  {
   "cell_type": "code",
   "execution_count": 4,
   "metadata": {
    "colab": {
     "base_uri": "https://localhost:8080/",
     "height": 34
    },
    "colab_type": "code",
    "id": "hHFSe47vuBnO",
    "outputId": "d7ba8c54-ac27-4024-bef9-4def3fbc536f"
   },
   "outputs": [
    {
     "data": {
      "text/plain": [
       "((23856, 17), (15903, 16))"
      ]
     },
     "execution_count": 4,
     "metadata": {
      "tags": []
     },
     "output_type": "execute_result"
    }
   ],
   "source": [
    "df_train.shape, df_test.shape"
   ]
  },
  {
   "cell_type": "markdown",
   "metadata": {
    "colab_type": "text",
    "id": "wf_UUQ2vuBnR"
   },
   "source": [
    "#### b. info\n",
    "\n",
    "**Input Variables:**\n",
    "\n",
    "\n",
    "1.  INCIDENT_ID: Unique Identifier for an incident log.\n",
    "2.  DATE: Date wof incident occurence.\n",
    "3.  X_1-X_15: Anonymized logging parameters.\n",
    "\n",
    "**Output Variables:**\n",
    "\n",
    "1.  MULTIPLE_OFFENSE: Indicates if the incident was a hack."
   ]
  },
  {
   "cell_type": "code",
   "execution_count": 5,
   "metadata": {
    "colab": {
     "base_uri": "https://localhost:8080/",
     "height": 425
    },
    "colab_type": "code",
    "id": "Pix87vQWuBnS",
    "outputId": "b924d78b-7909-4a62-f7df-a31a2de1f163",
    "scrolled": true
   },
   "outputs": [
    {
     "name": "stdout",
     "output_type": "stream",
     "text": [
      "<class 'pandas.core.frame.DataFrame'>\n",
      "Index: 23856 entries, CR_102659 to CR_22575\n",
      "Data columns (total 17 columns):\n",
      " #   Column            Non-Null Count  Dtype  \n",
      "---  ------            --------------  -----  \n",
      " 0   DATE              23856 non-null  object \n",
      " 1   X_1               23856 non-null  int64  \n",
      " 2   X_2               23856 non-null  int64  \n",
      " 3   X_3               23856 non-null  int64  \n",
      " 4   X_4               23856 non-null  int64  \n",
      " 5   X_5               23856 non-null  int64  \n",
      " 6   X_6               23856 non-null  int64  \n",
      " 7   X_7               23856 non-null  int64  \n",
      " 8   X_8               23856 non-null  int64  \n",
      " 9   X_9               23856 non-null  int64  \n",
      " 10  X_10              23856 non-null  int64  \n",
      " 11  X_11              23856 non-null  int64  \n",
      " 12  X_12              23674 non-null  float64\n",
      " 13  X_13              23856 non-null  int64  \n",
      " 14  X_14              23856 non-null  int64  \n",
      " 15  X_15              23856 non-null  int64  \n",
      " 16  MULTIPLE_OFFENSE  23856 non-null  int64  \n",
      "dtypes: float64(1), int64(15), object(1)\n",
      "memory usage: 3.3+ MB\n"
     ]
    }
   ],
   "source": [
    "df_train.info()"
   ]
  },
  {
   "cell_type": "code",
   "execution_count": 6,
   "metadata": {
    "colab": {
     "base_uri": "https://localhost:8080/",
     "height": 408
    },
    "colab_type": "code",
    "id": "JFDYZB1vTXzw",
    "outputId": "bdc6cd10-5781-4c4d-d6ec-0b4ac050fabb"
   },
   "outputs": [
    {
     "name": "stdout",
     "output_type": "stream",
     "text": [
      "<class 'pandas.core.frame.DataFrame'>\n",
      "Index: 15903 entries, CR_195453 to CR_33545\n",
      "Data columns (total 16 columns):\n",
      " #   Column  Non-Null Count  Dtype  \n",
      "---  ------  --------------  -----  \n",
      " 0   DATE    15903 non-null  object \n",
      " 1   X_1     15903 non-null  int64  \n",
      " 2   X_2     15903 non-null  int64  \n",
      " 3   X_3     15903 non-null  int64  \n",
      " 4   X_4     15903 non-null  int64  \n",
      " 5   X_5     15903 non-null  int64  \n",
      " 6   X_6     15903 non-null  int64  \n",
      " 7   X_7     15903 non-null  int64  \n",
      " 8   X_8     15903 non-null  int64  \n",
      " 9   X_9     15903 non-null  int64  \n",
      " 10  X_10    15903 non-null  int64  \n",
      " 11  X_11    15903 non-null  int64  \n",
      " 12  X_12    15776 non-null  float64\n",
      " 13  X_13    15903 non-null  int64  \n",
      " 14  X_14    15903 non-null  int64  \n",
      " 15  X_15    15903 non-null  int64  \n",
      "dtypes: float64(1), int64(14), object(1)\n",
      "memory usage: 2.1+ MB\n"
     ]
    }
   ],
   "source": [
    "df_test.info()"
   ]
  },
  {
   "cell_type": "markdown",
   "metadata": {
    "colab_type": "text",
    "id": "SB6EdN8tuBnV"
   },
   "source": [
    "**Observations :**  \n",
    "\n",
    "We have missing values for **X_12**."
   ]
  },
  {
   "cell_type": "markdown",
   "metadata": {
    "colab_type": "text",
    "id": "H_CCA-lquBnW"
   },
   "source": [
    "#### c. describe"
   ]
  },
  {
   "cell_type": "code",
   "execution_count": 7,
   "metadata": {
    "colab": {
     "base_uri": "https://localhost:8080/",
     "height": 317
    },
    "colab_type": "code",
    "id": "VJt2QWtauBnX",
    "outputId": "2bc1976e-2b49-42be-df66-02ab40d49adc",
    "scrolled": true
   },
   "outputs": [
    {
     "data": {
      "text/html": [
       "<div>\n",
       "<style scoped>\n",
       "    .dataframe tbody tr th:only-of-type {\n",
       "        vertical-align: middle;\n",
       "    }\n",
       "\n",
       "    .dataframe tbody tr th {\n",
       "        vertical-align: top;\n",
       "    }\n",
       "\n",
       "    .dataframe thead th {\n",
       "        text-align: right;\n",
       "    }\n",
       "</style>\n",
       "<table border=\"1\" class=\"dataframe\">\n",
       "  <thead>\n",
       "    <tr style=\"text-align: right;\">\n",
       "      <th></th>\n",
       "      <th>X_1</th>\n",
       "      <th>X_2</th>\n",
       "      <th>X_3</th>\n",
       "      <th>X_4</th>\n",
       "      <th>X_5</th>\n",
       "      <th>X_6</th>\n",
       "      <th>X_7</th>\n",
       "      <th>X_8</th>\n",
       "      <th>X_9</th>\n",
       "      <th>X_10</th>\n",
       "      <th>X_11</th>\n",
       "      <th>X_12</th>\n",
       "      <th>X_13</th>\n",
       "      <th>X_14</th>\n",
       "      <th>X_15</th>\n",
       "      <th>MULTIPLE_OFFENSE</th>\n",
       "    </tr>\n",
       "  </thead>\n",
       "  <tbody>\n",
       "    <tr>\n",
       "      <th>count</th>\n",
       "      <td>23856.000000</td>\n",
       "      <td>23856.000000</td>\n",
       "      <td>23856.000000</td>\n",
       "      <td>23856.000000</td>\n",
       "      <td>23856.000000</td>\n",
       "      <td>23856.000000</td>\n",
       "      <td>23856.000000</td>\n",
       "      <td>23856.000000</td>\n",
       "      <td>23856.000000</td>\n",
       "      <td>23856.000000</td>\n",
       "      <td>23856.000000</td>\n",
       "      <td>23674.000000</td>\n",
       "      <td>23856.000000</td>\n",
       "      <td>23856.000000</td>\n",
       "      <td>23856.000000</td>\n",
       "      <td>23856.000000</td>\n",
       "    </tr>\n",
       "    <tr>\n",
       "      <th>mean</th>\n",
       "      <td>0.483778</td>\n",
       "      <td>24.791206</td>\n",
       "      <td>24.637450</td>\n",
       "      <td>4.276744</td>\n",
       "      <td>2.455609</td>\n",
       "      <td>6.154175</td>\n",
       "      <td>4.876509</td>\n",
       "      <td>0.972460</td>\n",
       "      <td>4.924128</td>\n",
       "      <td>1.244802</td>\n",
       "      <td>206.954519</td>\n",
       "      <td>0.974064</td>\n",
       "      <td>85.237383</td>\n",
       "      <td>72.674296</td>\n",
       "      <td>33.464747</td>\n",
       "      <td>0.955231</td>\n",
       "    </tr>\n",
       "    <tr>\n",
       "      <th>std</th>\n",
       "      <td>1.439738</td>\n",
       "      <td>15.240231</td>\n",
       "      <td>15.135093</td>\n",
       "      <td>2.944672</td>\n",
       "      <td>1.963095</td>\n",
       "      <td>4.471756</td>\n",
       "      <td>3.881931</td>\n",
       "      <td>1.453144</td>\n",
       "      <td>1.362625</td>\n",
       "      <td>1.119301</td>\n",
       "      <td>93.033348</td>\n",
       "      <td>1.167725</td>\n",
       "      <td>27.597226</td>\n",
       "      <td>43.297320</td>\n",
       "      <td>8.386834</td>\n",
       "      <td>0.206800</td>\n",
       "    </tr>\n",
       "    <tr>\n",
       "      <th>min</th>\n",
       "      <td>0.000000</td>\n",
       "      <td>0.000000</td>\n",
       "      <td>0.000000</td>\n",
       "      <td>0.000000</td>\n",
       "      <td>0.000000</td>\n",
       "      <td>1.000000</td>\n",
       "      <td>0.000000</td>\n",
       "      <td>0.000000</td>\n",
       "      <td>0.000000</td>\n",
       "      <td>1.000000</td>\n",
       "      <td>0.000000</td>\n",
       "      <td>0.000000</td>\n",
       "      <td>0.000000</td>\n",
       "      <td>0.000000</td>\n",
       "      <td>0.000000</td>\n",
       "      <td>0.000000</td>\n",
       "    </tr>\n",
       "    <tr>\n",
       "      <th>25%</th>\n",
       "      <td>0.000000</td>\n",
       "      <td>7.000000</td>\n",
       "      <td>8.000000</td>\n",
       "      <td>2.000000</td>\n",
       "      <td>1.000000</td>\n",
       "      <td>3.000000</td>\n",
       "      <td>2.000000</td>\n",
       "      <td>0.000000</td>\n",
       "      <td>5.000000</td>\n",
       "      <td>1.000000</td>\n",
       "      <td>174.000000</td>\n",
       "      <td>1.000000</td>\n",
       "      <td>72.000000</td>\n",
       "      <td>29.000000</td>\n",
       "      <td>34.000000</td>\n",
       "      <td>1.000000</td>\n",
       "    </tr>\n",
       "    <tr>\n",
       "      <th>50%</th>\n",
       "      <td>0.000000</td>\n",
       "      <td>24.000000</td>\n",
       "      <td>24.000000</td>\n",
       "      <td>4.000000</td>\n",
       "      <td>3.000000</td>\n",
       "      <td>5.000000</td>\n",
       "      <td>4.000000</td>\n",
       "      <td>1.000000</td>\n",
       "      <td>5.000000</td>\n",
       "      <td>1.000000</td>\n",
       "      <td>249.000000</td>\n",
       "      <td>1.000000</td>\n",
       "      <td>98.000000</td>\n",
       "      <td>62.000000</td>\n",
       "      <td>34.000000</td>\n",
       "      <td>1.000000</td>\n",
       "    </tr>\n",
       "    <tr>\n",
       "      <th>75%</th>\n",
       "      <td>0.000000</td>\n",
       "      <td>36.000000</td>\n",
       "      <td>35.000000</td>\n",
       "      <td>6.000000</td>\n",
       "      <td>5.000000</td>\n",
       "      <td>8.000000</td>\n",
       "      <td>7.000000</td>\n",
       "      <td>1.000000</td>\n",
       "      <td>6.000000</td>\n",
       "      <td>1.000000</td>\n",
       "      <td>249.000000</td>\n",
       "      <td>1.000000</td>\n",
       "      <td>103.000000</td>\n",
       "      <td>107.000000</td>\n",
       "      <td>34.000000</td>\n",
       "      <td>1.000000</td>\n",
       "    </tr>\n",
       "    <tr>\n",
       "      <th>max</th>\n",
       "      <td>7.000000</td>\n",
       "      <td>52.000000</td>\n",
       "      <td>52.000000</td>\n",
       "      <td>10.000000</td>\n",
       "      <td>5.000000</td>\n",
       "      <td>19.000000</td>\n",
       "      <td>18.000000</td>\n",
       "      <td>99.000000</td>\n",
       "      <td>6.000000</td>\n",
       "      <td>90.000000</td>\n",
       "      <td>332.000000</td>\n",
       "      <td>90.000000</td>\n",
       "      <td>116.000000</td>\n",
       "      <td>142.000000</td>\n",
       "      <td>50.000000</td>\n",
       "      <td>1.000000</td>\n",
       "    </tr>\n",
       "  </tbody>\n",
       "</table>\n",
       "</div>"
      ],
      "text/plain": [
       "                X_1           X_2           X_3           X_4           X_5  \\\n",
       "count  23856.000000  23856.000000  23856.000000  23856.000000  23856.000000   \n",
       "mean   0.483778      24.791206     24.637450     4.276744      2.455609       \n",
       "std    1.439738      15.240231     15.135093     2.944672      1.963095       \n",
       "min    0.000000      0.000000      0.000000      0.000000      0.000000       \n",
       "25%    0.000000      7.000000      8.000000      2.000000      1.000000       \n",
       "50%    0.000000      24.000000     24.000000     4.000000      3.000000       \n",
       "75%    0.000000      36.000000     35.000000     6.000000      5.000000       \n",
       "max    7.000000      52.000000     52.000000     10.000000     5.000000       \n",
       "\n",
       "                X_6           X_7           X_8           X_9          X_10  \\\n",
       "count  23856.000000  23856.000000  23856.000000  23856.000000  23856.000000   \n",
       "mean   6.154175      4.876509      0.972460      4.924128      1.244802       \n",
       "std    4.471756      3.881931      1.453144      1.362625      1.119301       \n",
       "min    1.000000      0.000000      0.000000      0.000000      1.000000       \n",
       "25%    3.000000      2.000000      0.000000      5.000000      1.000000       \n",
       "50%    5.000000      4.000000      1.000000      5.000000      1.000000       \n",
       "75%    8.000000      7.000000      1.000000      6.000000      1.000000       \n",
       "max    19.000000     18.000000     99.000000     6.000000      90.000000      \n",
       "\n",
       "               X_11          X_12          X_13          X_14          X_15  \\\n",
       "count  23856.000000  23674.000000  23856.000000  23856.000000  23856.000000   \n",
       "mean   206.954519    0.974064      85.237383     72.674296     33.464747      \n",
       "std    93.033348     1.167725      27.597226     43.297320     8.386834       \n",
       "min    0.000000      0.000000      0.000000      0.000000      0.000000       \n",
       "25%    174.000000    1.000000      72.000000     29.000000     34.000000      \n",
       "50%    249.000000    1.000000      98.000000     62.000000     34.000000      \n",
       "75%    249.000000    1.000000      103.000000    107.000000    34.000000      \n",
       "max    332.000000    90.000000     116.000000    142.000000    50.000000      \n",
       "\n",
       "       MULTIPLE_OFFENSE  \n",
       "count  23856.000000      \n",
       "mean   0.955231          \n",
       "std    0.206800          \n",
       "min    0.000000          \n",
       "25%    1.000000          \n",
       "50%    1.000000          \n",
       "75%    1.000000          \n",
       "max    1.000000          "
      ]
     },
     "execution_count": 7,
     "metadata": {
      "tags": []
     },
     "output_type": "execute_result"
    }
   ],
   "source": [
    "df_train.describe()"
   ]
  },
  {
   "cell_type": "code",
   "execution_count": 8,
   "metadata": {
    "colab": {
     "base_uri": "https://localhost:8080/",
     "height": 317
    },
    "colab_type": "code",
    "id": "M8Ylhg4DTt-0",
    "outputId": "1a356731-8c97-4bca-d515-b59216608942"
   },
   "outputs": [
    {
     "data": {
      "text/html": [
       "<div>\n",
       "<style scoped>\n",
       "    .dataframe tbody tr th:only-of-type {\n",
       "        vertical-align: middle;\n",
       "    }\n",
       "\n",
       "    .dataframe tbody tr th {\n",
       "        vertical-align: top;\n",
       "    }\n",
       "\n",
       "    .dataframe thead th {\n",
       "        text-align: right;\n",
       "    }\n",
       "</style>\n",
       "<table border=\"1\" class=\"dataframe\">\n",
       "  <thead>\n",
       "    <tr style=\"text-align: right;\">\n",
       "      <th></th>\n",
       "      <th>X_1</th>\n",
       "      <th>X_2</th>\n",
       "      <th>X_3</th>\n",
       "      <th>X_4</th>\n",
       "      <th>X_5</th>\n",
       "      <th>X_6</th>\n",
       "      <th>X_7</th>\n",
       "      <th>X_8</th>\n",
       "      <th>X_9</th>\n",
       "      <th>X_10</th>\n",
       "      <th>X_11</th>\n",
       "      <th>X_12</th>\n",
       "      <th>X_13</th>\n",
       "      <th>X_14</th>\n",
       "      <th>X_15</th>\n",
       "    </tr>\n",
       "  </thead>\n",
       "  <tbody>\n",
       "    <tr>\n",
       "      <th>count</th>\n",
       "      <td>15903.000000</td>\n",
       "      <td>15903.000000</td>\n",
       "      <td>15903.000000</td>\n",
       "      <td>15903.000000</td>\n",
       "      <td>15903.000000</td>\n",
       "      <td>15903.000000</td>\n",
       "      <td>15903.000000</td>\n",
       "      <td>15903.000000</td>\n",
       "      <td>15903.000000</td>\n",
       "      <td>15903.000000</td>\n",
       "      <td>15903.000000</td>\n",
       "      <td>15776.000000</td>\n",
       "      <td>15903.000000</td>\n",
       "      <td>15903.000000</td>\n",
       "      <td>15903.000000</td>\n",
       "    </tr>\n",
       "    <tr>\n",
       "      <th>mean</th>\n",
       "      <td>0.468088</td>\n",
       "      <td>24.722631</td>\n",
       "      <td>24.575049</td>\n",
       "      <td>4.284223</td>\n",
       "      <td>2.448469</td>\n",
       "      <td>6.084890</td>\n",
       "      <td>4.862605</td>\n",
       "      <td>0.986732</td>\n",
       "      <td>4.908759</td>\n",
       "      <td>1.241212</td>\n",
       "      <td>206.954097</td>\n",
       "      <td>0.972236</td>\n",
       "      <td>85.191096</td>\n",
       "      <td>72.218575</td>\n",
       "      <td>33.422625</td>\n",
       "    </tr>\n",
       "    <tr>\n",
       "      <th>std</th>\n",
       "      <td>1.412112</td>\n",
       "      <td>15.228841</td>\n",
       "      <td>15.127451</td>\n",
       "      <td>2.974584</td>\n",
       "      <td>1.963372</td>\n",
       "      <td>4.451117</td>\n",
       "      <td>3.854550</td>\n",
       "      <td>1.471274</td>\n",
       "      <td>1.374677</td>\n",
       "      <td>0.841804</td>\n",
       "      <td>93.107783</td>\n",
       "      <td>0.876669</td>\n",
       "      <td>27.493192</td>\n",
       "      <td>43.438227</td>\n",
       "      <td>8.314284</td>\n",
       "    </tr>\n",
       "    <tr>\n",
       "      <th>min</th>\n",
       "      <td>0.000000</td>\n",
       "      <td>0.000000</td>\n",
       "      <td>0.000000</td>\n",
       "      <td>0.000000</td>\n",
       "      <td>0.000000</td>\n",
       "      <td>1.000000</td>\n",
       "      <td>0.000000</td>\n",
       "      <td>0.000000</td>\n",
       "      <td>0.000000</td>\n",
       "      <td>1.000000</td>\n",
       "      <td>0.000000</td>\n",
       "      <td>0.000000</td>\n",
       "      <td>0.000000</td>\n",
       "      <td>0.000000</td>\n",
       "      <td>0.000000</td>\n",
       "    </tr>\n",
       "    <tr>\n",
       "      <th>25%</th>\n",
       "      <td>0.000000</td>\n",
       "      <td>7.000000</td>\n",
       "      <td>8.000000</td>\n",
       "      <td>2.000000</td>\n",
       "      <td>1.000000</td>\n",
       "      <td>3.000000</td>\n",
       "      <td>2.000000</td>\n",
       "      <td>0.000000</td>\n",
       "      <td>5.000000</td>\n",
       "      <td>1.000000</td>\n",
       "      <td>174.000000</td>\n",
       "      <td>1.000000</td>\n",
       "      <td>72.000000</td>\n",
       "      <td>29.000000</td>\n",
       "      <td>34.000000</td>\n",
       "    </tr>\n",
       "    <tr>\n",
       "      <th>50%</th>\n",
       "      <td>0.000000</td>\n",
       "      <td>24.000000</td>\n",
       "      <td>24.000000</td>\n",
       "      <td>4.000000</td>\n",
       "      <td>3.000000</td>\n",
       "      <td>5.000000</td>\n",
       "      <td>4.000000</td>\n",
       "      <td>1.000000</td>\n",
       "      <td>5.000000</td>\n",
       "      <td>1.000000</td>\n",
       "      <td>249.000000</td>\n",
       "      <td>1.000000</td>\n",
       "      <td>98.000000</td>\n",
       "      <td>62.000000</td>\n",
       "      <td>34.000000</td>\n",
       "    </tr>\n",
       "    <tr>\n",
       "      <th>75%</th>\n",
       "      <td>0.000000</td>\n",
       "      <td>36.000000</td>\n",
       "      <td>35.000000</td>\n",
       "      <td>6.000000</td>\n",
       "      <td>5.000000</td>\n",
       "      <td>8.000000</td>\n",
       "      <td>7.000000</td>\n",
       "      <td>1.000000</td>\n",
       "      <td>6.000000</td>\n",
       "      <td>1.000000</td>\n",
       "      <td>249.000000</td>\n",
       "      <td>1.000000</td>\n",
       "      <td>103.000000</td>\n",
       "      <td>107.000000</td>\n",
       "      <td>34.000000</td>\n",
       "    </tr>\n",
       "    <tr>\n",
       "      <th>max</th>\n",
       "      <td>7.000000</td>\n",
       "      <td>52.000000</td>\n",
       "      <td>52.000000</td>\n",
       "      <td>10.000000</td>\n",
       "      <td>5.000000</td>\n",
       "      <td>19.000000</td>\n",
       "      <td>18.000000</td>\n",
       "      <td>50.000000</td>\n",
       "      <td>6.000000</td>\n",
       "      <td>40.000000</td>\n",
       "      <td>332.000000</td>\n",
       "      <td>40.000000</td>\n",
       "      <td>117.000000</td>\n",
       "      <td>142.000000</td>\n",
       "      <td>50.000000</td>\n",
       "    </tr>\n",
       "  </tbody>\n",
       "</table>\n",
       "</div>"
      ],
      "text/plain": [
       "                X_1           X_2           X_3           X_4           X_5  \\\n",
       "count  15903.000000  15903.000000  15903.000000  15903.000000  15903.000000   \n",
       "mean   0.468088      24.722631     24.575049     4.284223      2.448469       \n",
       "std    1.412112      15.228841     15.127451     2.974584      1.963372       \n",
       "min    0.000000      0.000000      0.000000      0.000000      0.000000       \n",
       "25%    0.000000      7.000000      8.000000      2.000000      1.000000       \n",
       "50%    0.000000      24.000000     24.000000     4.000000      3.000000       \n",
       "75%    0.000000      36.000000     35.000000     6.000000      5.000000       \n",
       "max    7.000000      52.000000     52.000000     10.000000     5.000000       \n",
       "\n",
       "                X_6           X_7           X_8           X_9          X_10  \\\n",
       "count  15903.000000  15903.000000  15903.000000  15903.000000  15903.000000   \n",
       "mean   6.084890      4.862605      0.986732      4.908759      1.241212       \n",
       "std    4.451117      3.854550      1.471274      1.374677      0.841804       \n",
       "min    1.000000      0.000000      0.000000      0.000000      1.000000       \n",
       "25%    3.000000      2.000000      0.000000      5.000000      1.000000       \n",
       "50%    5.000000      4.000000      1.000000      5.000000      1.000000       \n",
       "75%    8.000000      7.000000      1.000000      6.000000      1.000000       \n",
       "max    19.000000     18.000000     50.000000     6.000000      40.000000      \n",
       "\n",
       "               X_11          X_12          X_13          X_14          X_15  \n",
       "count  15903.000000  15776.000000  15903.000000  15903.000000  15903.000000  \n",
       "mean   206.954097    0.972236      85.191096     72.218575     33.422625     \n",
       "std    93.107783     0.876669      27.493192     43.438227     8.314284      \n",
       "min    0.000000      0.000000      0.000000      0.000000      0.000000      \n",
       "25%    174.000000    1.000000      72.000000     29.000000     34.000000     \n",
       "50%    249.000000    1.000000      98.000000     62.000000     34.000000     \n",
       "75%    249.000000    1.000000      103.000000    107.000000    34.000000     \n",
       "max    332.000000    40.000000     117.000000    142.000000    50.000000     "
      ]
     },
     "execution_count": 8,
     "metadata": {
      "tags": []
     },
     "output_type": "execute_result"
    }
   ],
   "source": [
    "df_test.describe()"
   ]
  },
  {
   "cell_type": "markdown",
   "metadata": {
    "colab_type": "text",
    "id": "_KYpQsBDuBna"
   },
   "source": [
    "**Observations :** Looks like there are some outliers. Let's confirm same from pandas profiling in next step.\n"
   ]
  },
  {
   "cell_type": "markdown",
   "metadata": {
    "colab_type": "text",
    "id": "05W5gAznuBnb"
   },
   "source": [
    " <a id=section302></a>\n",
    "## 3.2 Pandas Profiling before Data Preprocessing"
   ]
  },
  {
   "cell_type": "code",
   "execution_count": 9,
   "metadata": {
    "colab": {},
    "colab_type": "code",
    "id": "01oGAuXklzKA"
   },
   "outputs": [],
   "source": [
    "# To install pandas profiling please run this command.\n",
    "\n",
    "# !pip install folium==0.2.1\n",
    "# !pip install pandas-profiling --upgrade"
   ]
  },
  {
   "cell_type": "code",
   "execution_count": 10,
   "metadata": {
    "colab": {},
    "colab_type": "code",
    "id": "C0A-QgBVkdGh"
   },
   "outputs": [],
   "source": [
    "from pandas_profiling import ProfileReport\n",
    "\n",
    "# Running pandas profiling to get better understanding of data\n",
    "\n",
    "#profile =  ProfileReport(df_train, title='Pandas Profiling Report of train data before data preprocessing', html={'style':{'full_width':True}})\n",
    "#profile.to_file(output_file=\"train_report_before_processing.html\")"
   ]
  },
  {
   "cell_type": "code",
   "execution_count": 11,
   "metadata": {
    "colab": {},
    "colab_type": "code",
    "id": "tINyC5YSVrRO"
   },
   "outputs": [],
   "source": [
    "# profile =  ProfileReport(df_train, title='Pandas Profiling Report of test data before data preprocessing', html={'style':{'full_width':True}})\n",
    "# profile.to_file(output_file=\"test_report_before_processing.html\")"
   ]
  },
  {
   "cell_type": "markdown",
   "metadata": {
    "colab_type": "text",
    "id": "jjyJwVL_uBni"
   },
   "source": [
    " <a id=section4></a>\n",
    "# 4. Data Preprocessing"
   ]
  },
  {
   "cell_type": "markdown",
   "metadata": {
    "colab_type": "text",
    "id": "IOC_CwtYwGW3"
   },
   "source": [
    " <a id=section401></a>\n",
    " \n",
    "## 4.1 Filling missing values"
   ]
  },
  {
   "cell_type": "code",
   "execution_count": 12,
   "metadata": {
    "colab": {
     "base_uri": "https://localhost:8080/",
     "height": 323
    },
    "colab_type": "code",
    "id": "DVGbZlI_5wTP",
    "outputId": "6e72ab6a-86bf-476b-ee95-50c9e1092174"
   },
   "outputs": [
    {
     "data": {
      "text/plain": [
       "DATE                0  \n",
       "X_1                 0  \n",
       "X_2                 0  \n",
       "X_3                 0  \n",
       "X_4                 0  \n",
       "X_5                 0  \n",
       "X_6                 0  \n",
       "X_7                 0  \n",
       "X_8                 0  \n",
       "X_9                 0  \n",
       "X_10                0  \n",
       "X_11                0  \n",
       "X_12                182\n",
       "X_13                0  \n",
       "X_14                0  \n",
       "X_15                0  \n",
       "MULTIPLE_OFFENSE    0  \n",
       "dtype: int64"
      ]
     },
     "execution_count": 12,
     "metadata": {
      "tags": []
     },
     "output_type": "execute_result"
    }
   ],
   "source": [
    "df_train.isnull().sum()"
   ]
  },
  {
   "cell_type": "markdown",
   "metadata": {
    "colab_type": "text",
    "id": "DjywaTKO_k2q"
   },
   "source": [
    "**NOTE:**\n",
    "X_12 has missing values and we shall replace them with the mode."
   ]
  },
  {
   "cell_type": "code",
   "execution_count": 13,
   "metadata": {
    "colab": {
     "base_uri": "https://localhost:8080/",
     "height": 34
    },
    "colab_type": "code",
    "id": "ngJAeNIYaXmx",
    "outputId": "722747e1-f291-4408-9e55-989294d930f8"
   },
   "outputs": [
    {
     "data": {
      "text/plain": [
       "23"
      ]
     },
     "execution_count": 13,
     "metadata": {
      "tags": []
     },
     "output_type": "execute_result"
    }
   ],
   "source": [
    "df_train['X_12'].nunique()"
   ]
  },
  {
   "cell_type": "markdown",
   "metadata": {
    "colab_type": "text",
    "id": "qvixN8kPaT49"
   },
   "source": [
    "**NOTE :**\n",
    "\n",
    "As there are only 23 unique values, we can safely assume X_12 as categorical column. Let's fill it with mode for both train ans test data.\n"
   ]
  },
  {
   "cell_type": "code",
   "execution_count": 14,
   "metadata": {
    "colab": {},
    "colab_type": "code",
    "id": "dTP5vLz4_eor"
   },
   "outputs": [],
   "source": [
    "df_train['X_12'].fillna(df_train['X_12'].mode()[0], inplace=True)"
   ]
  },
  {
   "cell_type": "code",
   "execution_count": 15,
   "metadata": {
    "colab": {
     "base_uri": "https://localhost:8080/",
     "height": 34
    },
    "colab_type": "code",
    "id": "-3CG4ZydXSiQ",
    "outputId": "20a58f00-fec9-4bca-a86d-3e07618b7001"
   },
   "outputs": [
    {
     "data": {
      "text/plain": [
       "0"
      ]
     },
     "execution_count": 15,
     "metadata": {
      "tags": []
     },
     "output_type": "execute_result"
    }
   ],
   "source": [
    "df_train['X_12'].isnull().sum()"
   ]
  },
  {
   "cell_type": "code",
   "execution_count": 16,
   "metadata": {
    "colab": {
     "base_uri": "https://localhost:8080/",
     "height": 306
    },
    "colab_type": "code",
    "id": "fuuTqakzZzoX",
    "outputId": "01429ea9-6932-48ec-f0a0-80e3749ac8f8"
   },
   "outputs": [
    {
     "data": {
      "text/plain": [
       "DATE    0  \n",
       "X_1     0  \n",
       "X_2     0  \n",
       "X_3     0  \n",
       "X_4     0  \n",
       "X_5     0  \n",
       "X_6     0  \n",
       "X_7     0  \n",
       "X_8     0  \n",
       "X_9     0  \n",
       "X_10    0  \n",
       "X_11    0  \n",
       "X_12    127\n",
       "X_13    0  \n",
       "X_14    0  \n",
       "X_15    0  \n",
       "dtype: int64"
      ]
     },
     "execution_count": 16,
     "metadata": {
      "tags": []
     },
     "output_type": "execute_result"
    }
   ],
   "source": [
    "df_test.isnull().sum()"
   ]
  },
  {
   "cell_type": "code",
   "execution_count": 17,
   "metadata": {
    "colab": {},
    "colab_type": "code",
    "id": "xZQYLjh_Z9Iy"
   },
   "outputs": [],
   "source": [
    "df_test['X_12'].fillna(df_test['X_12'].mode()[0], inplace=True)"
   ]
  },
  {
   "cell_type": "code",
   "execution_count": 18,
   "metadata": {
    "colab": {
     "base_uri": "https://localhost:8080/",
     "height": 34
    },
    "colab_type": "code",
    "id": "MbIX2djXaFbo",
    "outputId": "5146d79d-5062-4a9c-ab08-aff52d1bf7b1"
   },
   "outputs": [
    {
     "data": {
      "text/plain": [
       "0"
      ]
     },
     "execution_count": 18,
     "metadata": {
      "tags": []
     },
     "output_type": "execute_result"
    }
   ],
   "source": [
    "df_test['X_12'].isnull().sum()"
   ]
  },
  {
   "cell_type": "markdown",
   "metadata": {
    "colab_type": "text",
    "id": "HJxug6SF65-2"
   },
   "source": [
    " <a id=section402></a>\n",
    " \n",
    "## 4.2 Transforming date columns"
   ]
  },
  {
   "cell_type": "markdown",
   "metadata": {
    "colab_type": "text",
    "id": "z4Kpmbz2Asjx"
   },
   "source": [
    "### a. Converting DATE to pandas datetime."
   ]
  },
  {
   "cell_type": "markdown",
   "metadata": {
    "colab_type": "text",
    "id": "g7YuTZ4xfTeO"
   },
   "source": [
    "#### Train"
   ]
  },
  {
   "cell_type": "code",
   "execution_count": 19,
   "metadata": {
    "colab": {},
    "colab_type": "code",
    "id": "wBMFjMOD-zLq"
   },
   "outputs": [],
   "source": [
    "df_train['DATE'] = pd.to_datetime(df_train['DATE'] , errors = 'coerce', utc = True)"
   ]
  },
  {
   "cell_type": "code",
   "execution_count": 20,
   "metadata": {
    "colab": {
     "base_uri": "https://localhost:8080/",
     "height": 0
    },
    "colab_type": "code",
    "id": "liAGIVKRAF7p",
    "outputId": "6bcf514e-ff82-44c8-e336-23bc47d637f3"
   },
   "outputs": [
    {
     "data": {
      "text/plain": [
       "datetime64[ns, UTC]"
      ]
     },
     "execution_count": 20,
     "metadata": {
      "tags": []
     },
     "output_type": "execute_result"
    }
   ],
   "source": [
    "df_train['DATE'].dtypes"
   ]
  },
  {
   "cell_type": "markdown",
   "metadata": {
    "colab_type": "text",
    "id": "l_B7vO_OfWqm"
   },
   "source": [
    "#### Test"
   ]
  },
  {
   "cell_type": "code",
   "execution_count": 21,
   "metadata": {
    "colab": {},
    "colab_type": "code",
    "id": "01T6oQI6both"
   },
   "outputs": [],
   "source": [
    "df_test['DATE'] = pd.to_datetime(df_test['DATE'] , errors = 'coerce', utc = True)"
   ]
  },
  {
   "cell_type": "code",
   "execution_count": 22,
   "metadata": {
    "colab": {
     "base_uri": "https://localhost:8080/",
     "height": 0
    },
    "colab_type": "code",
    "id": "jaAoNxjZb02z",
    "outputId": "304cca86-22d6-40f8-83e6-468b27f27311"
   },
   "outputs": [
    {
     "data": {
      "text/plain": [
       "datetime64[ns, UTC]"
      ]
     },
     "execution_count": 22,
     "metadata": {
      "tags": []
     },
     "output_type": "execute_result"
    }
   ],
   "source": [
    "df_test['DATE'].dtypes"
   ]
  },
  {
   "cell_type": "markdown",
   "metadata": {
    "colab_type": "text",
    "id": "KJTahtUnA_sp"
   },
   "source": [
    "### b. Feature extraction from DATE column"
   ]
  },
  {
   "cell_type": "markdown",
   "metadata": {
    "colab_type": "text",
    "id": "wE31mhBReBsr"
   },
   "source": [
    "#### Train"
   ]
  },
  {
   "cell_type": "code",
   "execution_count": 23,
   "metadata": {
    "colab": {},
    "colab_type": "code",
    "id": "5Tuq8cBo_w34"
   },
   "outputs": [],
   "source": [
    "df_train['YEAR'] = df_train['DATE'].dt.year\n",
    "\n",
    "df_train['MONTH'] = df_train['DATE'].dt.month\n",
    "\n",
    "df_train['DAY'] = df_train['DATE'].dt.day"
   ]
  },
  {
   "cell_type": "code",
   "execution_count": 24,
   "metadata": {
    "colab": {},
    "colab_type": "code",
    "id": "enzYJbqBKFRh"
   },
   "outputs": [],
   "source": [
    "# drop DATE  columns\n",
    "df_train.drop(['DATE'], axis=1, inplace=True)"
   ]
  },
  {
   "cell_type": "markdown",
   "metadata": {
    "colab_type": "text",
    "id": "uf_2c9Zmd5Hk"
   },
   "source": [
    "#### Test"
   ]
  },
  {
   "cell_type": "code",
   "execution_count": 25,
   "metadata": {
    "colab": {},
    "colab_type": "code",
    "id": "0le2b5vucbHp"
   },
   "outputs": [],
   "source": [
    "df_test['YEAR'] = df_test['DATE'].dt.year\n",
    "\n",
    "df_test['MONTH'] = df_test['DATE'].dt.month\n",
    "\n",
    "df_test['DAY'] = df_test['DATE'].dt.day"
   ]
  },
  {
   "cell_type": "code",
   "execution_count": 26,
   "metadata": {
    "colab": {},
    "colab_type": "code",
    "id": "w7ju036ecbH1"
   },
   "outputs": [],
   "source": [
    "# drop DATE  columns\n",
    "df_test.drop(['DATE'], axis=1, inplace=True)"
   ]
  },
  {
   "cell_type": "markdown",
   "metadata": {
    "colab_type": "text",
    "id": "O2cDPHReGxEe"
   },
   "source": [
    " <a id=section403></a>\n",
    "## 4.3 Removing highly Correlated Columns"
   ]
  },
  {
   "cell_type": "markdown",
   "metadata": {
    "colab_type": "text",
    "id": "fCKrFXd2IPWn"
   },
   "source": [
    "####Train"
   ]
  },
  {
   "cell_type": "code",
   "execution_count": 27,
   "metadata": {
    "colab": {
     "base_uri": "https://localhost:8080/",
     "height": 323
    },
    "colab_type": "code",
    "id": "_rWK1_DaG0Ht",
    "outputId": "14fda66d-0edd-4e87-b3bd-59269c633b6c"
   },
   "outputs": [
    {
     "data": {
      "text/plain": [
       "['X_1',\n",
       " 'X_2',\n",
       " 'X_3',\n",
       " 'X_4',\n",
       " 'X_5',\n",
       " 'X_6',\n",
       " 'X_7',\n",
       " 'X_8',\n",
       " 'X_9',\n",
       " 'X_10',\n",
       " 'X_11',\n",
       " 'X_12',\n",
       " 'X_13',\n",
       " 'X_14',\n",
       " 'X_15',\n",
       " 'YEAR',\n",
       " 'MONTH',\n",
       " 'DAY']"
      ]
     },
     "execution_count": 27,
     "metadata": {
      "tags": []
     },
     "output_type": "execute_result"
    }
   ],
   "source": [
    "feature_cols = list(df_train.columns)\n",
    "feature_cols.remove('MULTIPLE_OFFENSE')\n",
    "feature_cols"
   ]
  },
  {
   "cell_type": "code",
   "execution_count": 28,
   "metadata": {
    "colab": {
     "base_uri": "https://localhost:8080/",
     "height": 34
    },
    "colab_type": "code",
    "id": "X-Ezb5p7HsmW",
    "outputId": "5fc2fcbb-feaf-447d-9a3e-534ddc8ecc3c"
   },
   "outputs": [
    {
     "data": {
      "text/plain": [
       "['X_3', 'X_12']"
      ]
     },
     "execution_count": 28,
     "metadata": {
      "tags": []
     },
     "output_type": "execute_result"
    }
   ],
   "source": [
    "# extracting highly correlated columns(except target variable) to drop\n",
    "\n",
    "# Create correlation matrix\n",
    "corr_matrix = df_train[feature_cols].corr().abs()\n",
    "\n",
    "# Select upper triangle of correlation matrix\n",
    "upper = corr_matrix.where(np.triu(np.ones(corr_matrix.shape), k=1).astype(np.bool))\n",
    "\n",
    "# Find index of feature columns with correlation greater than 0.80\n",
    "cols_to_drop = [column for column in upper.columns if any(upper[column] > 0.80)]\n",
    "cols_to_drop"
   ]
  },
  {
   "cell_type": "code",
   "execution_count": 29,
   "metadata": {
    "colab": {},
    "colab_type": "code",
    "id": "ZqrL9DyaH1Ae"
   },
   "outputs": [],
   "source": [
    "# lets drop highly correlated columns\n",
    "df_train.drop(cols_to_drop, axis=1, inplace=True)"
   ]
  },
  {
   "cell_type": "markdown",
   "metadata": {
    "colab_type": "text",
    "id": "VXHxaUi-ISgm"
   },
   "source": [
    "####Test"
   ]
  },
  {
   "cell_type": "code",
   "execution_count": 30,
   "metadata": {
    "colab": {
     "base_uri": "https://localhost:8080/",
     "height": 34
    },
    "colab_type": "code",
    "id": "CavEvzW7IZe-",
    "outputId": "6de9e986-68ad-43ca-9258-5cce95d81a5f"
   },
   "outputs": [
    {
     "data": {
      "text/plain": [
       "['X_3', 'X_12']"
      ]
     },
     "execution_count": 30,
     "metadata": {
      "tags": []
     },
     "output_type": "execute_result"
    }
   ],
   "source": [
    "# extracting highly correlated columns(except target variable) to drop\n",
    "\n",
    "# Create correlation matrix\n",
    "corr_matrix = df_test[feature_cols].corr().abs()\n",
    "\n",
    "# Select upper triangle of correlation matrix\n",
    "upper = corr_matrix.where(np.triu(np.ones(corr_matrix.shape), k=1).astype(np.bool))\n",
    "\n",
    "# Find index of feature columns with correlation greater than 0.80\n",
    "cols_to_drop = [column for column in upper.columns if any(upper[column] > 0.70)]\n",
    "cols_to_drop"
   ]
  },
  {
   "cell_type": "code",
   "execution_count": 31,
   "metadata": {
    "colab": {},
    "colab_type": "code",
    "id": "0ynxRiSfIdBM"
   },
   "outputs": [],
   "source": [
    "# lets drop highly correlated columns\n",
    "df_test.drop(cols_to_drop, axis=1, inplace=True)"
   ]
  },
  {
   "cell_type": "markdown",
   "metadata": {
    "colab_type": "text",
    "id": "XD9qOLKehS2B"
   },
   "source": [
    " <a id=section404></a>\n",
    "## 4.4 Pandas Profiling after Data Preprocessing"
   ]
  },
  {
   "cell_type": "code",
   "execution_count": 32,
   "metadata": {
    "colab": {},
    "colab_type": "code",
    "id": "ZAqo69cmhS2V"
   },
   "outputs": [],
   "source": [
    "from pandas_profiling import ProfileReport\n",
    "\n",
    "# Running pandas profiling to get better understanding of data\n",
    "\n",
    "# profile =  ProfileReport(df_train, title='Pandas Profiling Report of train data after data preprocessing', html={'style':{'full_width':True}})\n",
    "# profile.to_file(output_file=\"train_report_after_processing.html\")"
   ]
  },
  {
   "cell_type": "code",
   "execution_count": 33,
   "metadata": {
    "colab": {},
    "colab_type": "code",
    "id": "R6KpT-FihS2i"
   },
   "outputs": [],
   "source": [
    "# profile =  ProfileReport(df_train, title='Pandas Profiling Report of test data before data preprocessing', html={'style':{'full_width':True}})\n",
    "# profile.to_file(output_file=\"test_report_after_processing.html\")"
   ]
  },
  {
   "cell_type": "markdown",
   "metadata": {
    "colab_type": "text",
    "id": "AK66Ggama2W-"
   },
   "source": [
    " <a id=section5></a>\n",
    "# 5. Data preparation for model building"
   ]
  },
  {
   "cell_type": "code",
   "execution_count": 34,
   "metadata": {
    "colab": {
     "base_uri": "https://localhost:8080/",
     "height": 289
    },
    "colab_type": "code",
    "id": "8jCJ086mn45d",
    "outputId": "05479dde-c840-4a7b-f3e1-cb4466aad99c"
   },
   "outputs": [
    {
     "data": {
      "text/plain": [
       "['X_1',\n",
       " 'X_2',\n",
       " 'X_4',\n",
       " 'X_5',\n",
       " 'X_6',\n",
       " 'X_7',\n",
       " 'X_8',\n",
       " 'X_9',\n",
       " 'X_10',\n",
       " 'X_11',\n",
       " 'X_13',\n",
       " 'X_14',\n",
       " 'X_15',\n",
       " 'YEAR',\n",
       " 'MONTH',\n",
       " 'DAY']"
      ]
     },
     "execution_count": 34,
     "metadata": {
      "tags": []
     },
     "output_type": "execute_result"
    }
   ],
   "source": [
    "feature_cols = list(df_train.columns)\n",
    "feature_cols.remove('MULTIPLE_OFFENSE')\n",
    "feature_cols"
   ]
  },
  {
   "cell_type": "markdown",
   "metadata": {
    "colab_type": "text",
    "id": "_vjqxnPiOTdH"
   },
   "source": [
    " <a id=section501></a>\n",
    "## 5.1 Standardizing continuos independent variables"
   ]
  },
  {
   "cell_type": "code",
   "execution_count": 35,
   "metadata": {
    "colab": {},
    "colab_type": "code",
    "id": "6DFEONhnNoR4"
   },
   "outputs": [],
   "source": [
    "from sklearn.preprocessing import StandardScaler\n",
    "sc = StandardScaler()\n",
    "df_train_sd = sc.fit_transform(df_train[feature_cols])\n",
    "df_test_sd = sc.transform(df_test[feature_cols])"
   ]
  },
  {
   "cell_type": "code",
   "execution_count": 36,
   "metadata": {
    "colab": {},
    "colab_type": "code",
    "id": "UWAnnS7mtXpb"
   },
   "outputs": [],
   "source": [
    "# forming dataframe after standardization\n",
    "df_train_sd = pd.DataFrame(df_train_sd)\n",
    "df_train_sd.columns = feature_cols"
   ]
  },
  {
   "cell_type": "markdown",
   "metadata": {
    "colab_type": "text",
    "id": "kh4Up36T8eUb"
   },
   "source": [
    " <a id=section502></a>\n",
    "## 5.2 Applying SMOTING for imbalanced data"
   ]
  },
  {
   "cell_type": "code",
   "execution_count": 37,
   "metadata": {
    "colab": {},
    "colab_type": "code",
    "id": "4GuAaz3YMRN9"
   },
   "outputs": [],
   "source": [
    "X = df_train_sd[feature_cols]\n",
    "y = df_train['MULTIPLE_OFFENSE']"
   ]
  },
  {
   "cell_type": "code",
   "execution_count": 38,
   "metadata": {
    "colab": {
     "base_uri": "https://localhost:8080/",
     "height": 68
    },
    "colab_type": "code",
    "id": "SMY2SKyf-Fnf",
    "outputId": "dae1cfed-33a1-4d50-c8d7-0d192a574764"
   },
   "outputs": [
    {
     "data": {
      "text/plain": [
       "1    22788\n",
       "0    1068 \n",
       "Name: MULTIPLE_OFFENSE, dtype: int64"
      ]
     },
     "execution_count": 38,
     "metadata": {
      "tags": []
     },
     "output_type": "execute_result"
    }
   ],
   "source": [
    "# Check distribution of target variable\n",
    "y.value_counts() "
   ]
  },
  {
   "cell_type": "markdown",
   "metadata": {
    "colab_type": "text",
    "id": "t2HO3I8l-RYp"
   },
   "source": [
    "**NOTE:**\n",
    "\n",
    "We can clearly observe there is class imbalance in target variable. Let's apply **SMOTING**"
   ]
  },
  {
   "cell_type": "code",
   "execution_count": 39,
   "metadata": {
    "colab": {},
    "colab_type": "code",
    "id": "1FZWul63-fet"
   },
   "outputs": [],
   "source": [
    "from imblearn.over_sampling import SMOTE \n",
    "sm = SMOTE(random_state = 2) \n",
    "X_sm, y_sm = sm.fit_sample(X, y.ravel())\n",
    "\n",
    "X = pd.DataFrame(X_sm,columns = X.columns)\n",
    "y = pd.Series(y_sm)"
   ]
  },
  {
   "cell_type": "code",
   "execution_count": 40,
   "metadata": {
    "colab": {
     "base_uri": "https://localhost:8080/",
     "height": 68
    },
    "colab_type": "code",
    "id": "AD-f7XWkA-KI",
    "outputId": "582eb2f4-c177-4c49-8430-6ba32bc02497"
   },
   "outputs": [
    {
     "data": {
      "text/plain": [
       "1    22788\n",
       "0    22788\n",
       "dtype: int64"
      ]
     },
     "execution_count": 40,
     "metadata": {
      "tags": []
     },
     "output_type": "execute_result"
    }
   ],
   "source": [
    "# Check distribution of target variable\n",
    "y.value_counts()"
   ]
  },
  {
   "cell_type": "markdown",
   "metadata": {
    "colab_type": "text",
    "id": "p6UMK7NRokkt"
   },
   "source": [
    "<a id=section503></a>\n",
    " ## 5.3 Segregating Train and Validation data"
   ]
  },
  {
   "cell_type": "code",
   "execution_count": 41,
   "metadata": {
    "colab": {},
    "colab_type": "code",
    "id": "dlQxCBAFt473"
   },
   "outputs": [],
   "source": [
    "from sklearn.model_selection import train_test_split\n",
    "X_train, X_test, y_train, y_test = train_test_split(X, y,\n",
    "                                                   stratify=y, \n",
    "                                                    test_size=0.3)"
   ]
  },
  {
   "cell_type": "code",
   "execution_count": 42,
   "metadata": {
    "colab": {
     "base_uri": "https://localhost:8080/",
     "height": 136
    },
    "colab_type": "code",
    "id": "C9_5nWK-4T_a",
    "outputId": "eaead728-8ed9-4a1e-be6d-e3ed11f4fb37"
   },
   "outputs": [
    {
     "name": "stdout",
     "output_type": "stream",
     "text": [
      "Train cases as below\n",
      "X_train shape:  (31903, 16)\n",
      "y_train shape:  (31903,)\n",
      "\n",
      "Test cases as below\n",
      "X_test shape:  (13673, 16)\n",
      "y_test shape:  (13673,)\n"
     ]
    }
   ],
   "source": [
    "print('Train cases as below')\n",
    "print('X_train shape: ',X_train.shape)\n",
    "print('y_train shape: ',y_train.shape)\n",
    "print('\\nTest cases as below')\n",
    "print('X_test shape: ',X_test.shape)\n",
    "print('y_test shape: ',y_test.shape)"
   ]
  },
  {
   "cell_type": "markdown",
   "metadata": {
    "colab_type": "text",
    "id": "WXf9HrBBWb0_"
   },
   "source": [
    " <a id=section6></a>\n",
    " # 6. Ensemble Modelling and Prediction\n",
    " \n",
    " Ensemble modeling is a process where multiple diverse models are created to predict an outcome, either by using many different modeling algorithms or using different training data sets. The ensemble model then aggregates the prediction of each base model and results in once final prediction for the unseen data.\n"
   ]
  },
  {
   "cell_type": "markdown",
   "metadata": {
    "colab_type": "text",
    "id": "TCAv2-X0E592"
   },
   "source": [
    " <a id=section601></a>\n",
    " ## 6.1 Logistic Regression\n",
    " \n",
    " \n",
    "Logistic regression is the appropriate regression analysis to conduct when the dependent variable is dichotomous (binary).  Like all regression analyses, the logistic regression is a predictive analysis.  Logistic regression is used to describe data and to explain the relationship between one dependent binary variable and one or more nominal, ordinal, interval or ratio-level independent variables.\n",
    "\n",
    "Sometimes logistic regressions are difficult to interpret; the Intellectus Statistics tool easily allows you to conduct the analysis, then in plain English interprets the output.\n",
    "\n",
    "Logistic Regression was used in the biological sciences in early twentieth century. It was then used in many social science applications. Logistic Regression is used when the dependent variable(target) is categorical.\n",
    "\n",
    "For example,\n",
    "1. To predict whether an email is spam (1) or (0)\n",
    "1. Whether the tumor is malignant (1) or not (0)\n"
   ]
  },
  {
   "cell_type": "code",
   "execution_count": 43,
   "metadata": {
    "colab": {
     "base_uri": "https://localhost:8080/",
     "height": 391
    },
    "colab_type": "code",
    "id": "V7Ho8rzZE5BB",
    "outputId": "df682cfe-d4c7-4300-c001-bb4f0a1c2a20"
   },
   "outputs": [
    {
     "name": "stdout",
     "output_type": "stream",
     "text": [
      "[[14087  1864]\n",
      " [ 1772 14180]]\n",
      "[[6054  783]\n",
      " [ 761 6075]]\n",
      "              precision    recall  f1-score   support\n",
      "\n",
      "           0       0.89      0.88      0.89     15951\n",
      "           1       0.88      0.89      0.89     15952\n",
      "\n",
      "    accuracy                           0.89     31903\n",
      "   macro avg       0.89      0.89      0.89     31903\n",
      "weighted avg       0.89      0.89      0.89     31903\n",
      "\n",
      "              precision    recall  f1-score   support\n",
      "\n",
      "           0       0.89      0.89      0.89      6837\n",
      "           1       0.89      0.89      0.89      6836\n",
      "\n",
      "    accuracy                           0.89     13673\n",
      "   macro avg       0.89      0.89      0.89     13673\n",
      "weighted avg       0.89      0.89      0.89     13673\n",
      "\n"
     ]
    }
   ],
   "source": [
    "from sklearn.linear_model import LogisticRegression\n",
    "from sklearn.metrics import confusion_matrix, classification_report\n",
    "\n",
    "logistic = LogisticRegression(class_weight='balanced')\n",
    "logistic.fit(X_train, y_train)\n",
    "\n",
    "logistic_train_preds = logistic.predict(X_train)\n",
    "logistic_test_preds = logistic.predict(X_test)\n",
    "\n",
    "print(confusion_matrix(y_train, logistic_train_preds))\n",
    "print(confusion_matrix(y_test, logistic_test_preds))\n",
    "\n",
    "print(classification_report(y_train, logistic_train_preds))\n",
    "print(classification_report(y_test, logistic_test_preds))"
   ]
  },
  {
   "cell_type": "markdown",
   "metadata": {
    "colab_type": "text",
    "id": "PrE3pTZAlMQ_"
   },
   "source": [
    " <a id=section602></a>\n",
    " ## 6.2 Random Forest"
   ]
  },
  {
   "cell_type": "code",
   "execution_count": 44,
   "metadata": {
    "colab": {
     "base_uri": "https://localhost:8080/",
     "height": 391
    },
    "colab_type": "code",
    "id": "RodKhrd8OcNT",
    "outputId": "83346d2e-da16-41ed-9c60-36d0817aff82"
   },
   "outputs": [
    {
     "name": "stdout",
     "output_type": "stream",
     "text": [
      "[[15951     0]\n",
      " [    0 15952]]\n",
      "[[6833    4]\n",
      " [  25 6811]]\n",
      "              precision    recall  f1-score   support\n",
      "\n",
      "           0       1.00      1.00      1.00     15951\n",
      "           1       1.00      1.00      1.00     15952\n",
      "\n",
      "    accuracy                           1.00     31903\n",
      "   macro avg       1.00      1.00      1.00     31903\n",
      "weighted avg       1.00      1.00      1.00     31903\n",
      "\n",
      "              precision    recall  f1-score   support\n",
      "\n",
      "           0       1.00      1.00      1.00      6837\n",
      "           1       1.00      1.00      1.00      6836\n",
      "\n",
      "    accuracy                           1.00     13673\n",
      "   macro avg       1.00      1.00      1.00     13673\n",
      "weighted avg       1.00      1.00      1.00     13673\n",
      "\n"
     ]
    }
   ],
   "source": [
    "from sklearn.ensemble import RandomForestClassifier\n",
    "rf = RandomForestClassifier(n_estimators = 600, criterion = 'entropy', random_state = 0)\n",
    "rf.fit(X_train, y_train)\n",
    "\n",
    "rf_train_preds = rf.predict(X_train)\n",
    "rf_test_preds = rf.predict(X_test)\n",
    "\n",
    "print(confusion_matrix(y_train, rf_train_preds))\n",
    "print(confusion_matrix(y_test, rf_test_preds))\n",
    "\n",
    "print(classification_report(y_train, rf_train_preds))\n",
    "print(classification_report(y_test, rf_test_preds))"
   ]
  },
  {
   "cell_type": "markdown",
   "metadata": {
    "colab_type": "text",
    "id": "jj9I1jYNWNiK"
   },
   "source": [
    " <a id=section603></a>\n",
    "## 6.3 KNN"
   ]
  },
  {
   "cell_type": "code",
   "execution_count": null,
   "metadata": {
    "colab": {},
    "colab_type": "code",
    "id": "y7UzvvQDWNiL"
   },
   "outputs": [],
   "source": [
    "from sklearn.neighbors import KNeighborsClassifier\n",
    "from sklearn.metrics import recall_score,accuracy_score,f1_score\n",
    "\n",
    "train_performance={}\n",
    "test_performance={}\n",
    " \n",
    "for k in range(1,50,2):\n",
    "    knn_temp=KNeighborsClassifier(n_neighbors=k,weights='distance')\n",
    "    knn_temp.fit(X_train,y_train)\n",
    "    k_train_preds=knn_temp.predict(X_train)\n",
    "    k_test_preds=knn_temp.predict(X_test)\n",
    "    train_performance[k]=recall_score(y_train,k_train_preds, average='weighted')\n",
    "    test_performance[k]=recall_score(y_test,k_test_preds, average='weighted')"
   ]
  },
  {
   "cell_type": "code",
   "execution_count": null,
   "metadata": {
    "colab": {},
    "colab_type": "code",
    "id": "DC3zxJqOWNiQ"
   },
   "outputs": [],
   "source": [
    "keys = test_performance.keys()\n",
    "train_values = train_performance.values()\n",
    "test_values = test_performance.values()"
   ]
  },
  {
   "cell_type": "code",
   "execution_count": null,
   "metadata": {
    "colab": {},
    "colab_type": "code",
    "id": "-ouutcqJWNiT"
   },
   "outputs": [],
   "source": [
    "perf=pd.DataFrame()\n",
    "perf['k']= keys\n",
    "perf['train_performance']= train_values\n",
    "perf['test_performance']= test_values"
   ]
  },
  {
   "cell_type": "code",
   "execution_count": null,
   "metadata": {
    "colab": {
     "base_uri": "https://localhost:8080/",
     "height": 824
    },
    "colab_type": "code",
    "id": "_c_RCGC3WNiV",
    "outputId": "e07bdec4-95bc-4393-ad17-ea02bd363391"
   },
   "outputs": [
    {
     "data": {
      "text/html": [
       "<div>\n",
       "<style scoped>\n",
       "    .dataframe tbody tr th:only-of-type {\n",
       "        vertical-align: middle;\n",
       "    }\n",
       "\n",
       "    .dataframe tbody tr th {\n",
       "        vertical-align: top;\n",
       "    }\n",
       "\n",
       "    .dataframe thead th {\n",
       "        text-align: right;\n",
       "    }\n",
       "</style>\n",
       "<table border=\"1\" class=\"dataframe\">\n",
       "  <thead>\n",
       "    <tr style=\"text-align: right;\">\n",
       "      <th></th>\n",
       "      <th>k</th>\n",
       "      <th>train_performance</th>\n",
       "      <th>test_performance</th>\n",
       "    </tr>\n",
       "  </thead>\n",
       "  <tbody>\n",
       "    <tr>\n",
       "      <th>3</th>\n",
       "      <td>7</td>\n",
       "      <td>1.0</td>\n",
       "      <td>0.957804</td>\n",
       "    </tr>\n",
       "    <tr>\n",
       "      <th>4</th>\n",
       "      <td>9</td>\n",
       "      <td>1.0</td>\n",
       "      <td>0.957524</td>\n",
       "    </tr>\n",
       "    <tr>\n",
       "      <th>2</th>\n",
       "      <td>5</td>\n",
       "      <td>1.0</td>\n",
       "      <td>0.957384</td>\n",
       "    </tr>\n",
       "    <tr>\n",
       "      <th>5</th>\n",
       "      <td>11</td>\n",
       "      <td>1.0</td>\n",
       "      <td>0.956965</td>\n",
       "    </tr>\n",
       "    <tr>\n",
       "      <th>6</th>\n",
       "      <td>13</td>\n",
       "      <td>1.0</td>\n",
       "      <td>0.956825</td>\n",
       "    </tr>\n",
       "    <tr>\n",
       "      <th>12</th>\n",
       "      <td>25</td>\n",
       "      <td>1.0</td>\n",
       "      <td>0.956686</td>\n",
       "    </tr>\n",
       "    <tr>\n",
       "      <th>7</th>\n",
       "      <td>15</td>\n",
       "      <td>1.0</td>\n",
       "      <td>0.956546</td>\n",
       "    </tr>\n",
       "    <tr>\n",
       "      <th>16</th>\n",
       "      <td>33</td>\n",
       "      <td>1.0</td>\n",
       "      <td>0.956546</td>\n",
       "    </tr>\n",
       "    <tr>\n",
       "      <th>14</th>\n",
       "      <td>29</td>\n",
       "      <td>1.0</td>\n",
       "      <td>0.956546</td>\n",
       "    </tr>\n",
       "    <tr>\n",
       "      <th>13</th>\n",
       "      <td>27</td>\n",
       "      <td>1.0</td>\n",
       "      <td>0.956406</td>\n",
       "    </tr>\n",
       "    <tr>\n",
       "      <th>15</th>\n",
       "      <td>31</td>\n",
       "      <td>1.0</td>\n",
       "      <td>0.956406</td>\n",
       "    </tr>\n",
       "    <tr>\n",
       "      <th>11</th>\n",
       "      <td>23</td>\n",
       "      <td>1.0</td>\n",
       "      <td>0.956406</td>\n",
       "    </tr>\n",
       "    <tr>\n",
       "      <th>10</th>\n",
       "      <td>21</td>\n",
       "      <td>1.0</td>\n",
       "      <td>0.956406</td>\n",
       "    </tr>\n",
       "    <tr>\n",
       "      <th>9</th>\n",
       "      <td>19</td>\n",
       "      <td>1.0</td>\n",
       "      <td>0.956127</td>\n",
       "    </tr>\n",
       "    <tr>\n",
       "      <th>8</th>\n",
       "      <td>17</td>\n",
       "      <td>1.0</td>\n",
       "      <td>0.955987</td>\n",
       "    </tr>\n",
       "    <tr>\n",
       "      <th>17</th>\n",
       "      <td>35</td>\n",
       "      <td>1.0</td>\n",
       "      <td>0.955987</td>\n",
       "    </tr>\n",
       "    <tr>\n",
       "      <th>18</th>\n",
       "      <td>37</td>\n",
       "      <td>1.0</td>\n",
       "      <td>0.955987</td>\n",
       "    </tr>\n",
       "    <tr>\n",
       "      <th>19</th>\n",
       "      <td>39</td>\n",
       "      <td>1.0</td>\n",
       "      <td>0.955987</td>\n",
       "    </tr>\n",
       "    <tr>\n",
       "      <th>21</th>\n",
       "      <td>43</td>\n",
       "      <td>1.0</td>\n",
       "      <td>0.955987</td>\n",
       "    </tr>\n",
       "    <tr>\n",
       "      <th>20</th>\n",
       "      <td>41</td>\n",
       "      <td>1.0</td>\n",
       "      <td>0.955847</td>\n",
       "    </tr>\n",
       "    <tr>\n",
       "      <th>22</th>\n",
       "      <td>45</td>\n",
       "      <td>1.0</td>\n",
       "      <td>0.955428</td>\n",
       "    </tr>\n",
       "    <tr>\n",
       "      <th>1</th>\n",
       "      <td>3</td>\n",
       "      <td>1.0</td>\n",
       "      <td>0.955289</td>\n",
       "    </tr>\n",
       "    <tr>\n",
       "      <th>23</th>\n",
       "      <td>47</td>\n",
       "      <td>1.0</td>\n",
       "      <td>0.955289</td>\n",
       "    </tr>\n",
       "    <tr>\n",
       "      <th>24</th>\n",
       "      <td>49</td>\n",
       "      <td>1.0</td>\n",
       "      <td>0.955149</td>\n",
       "    </tr>\n",
       "    <tr>\n",
       "      <th>0</th>\n",
       "      <td>1</td>\n",
       "      <td>1.0</td>\n",
       "      <td>0.952075</td>\n",
       "    </tr>\n",
       "  </tbody>\n",
       "</table>\n",
       "</div>"
      ],
      "text/plain": [
       "     k  train_performance  test_performance\n",
       "3   7   1.0                0.957804        \n",
       "4   9   1.0                0.957524        \n",
       "2   5   1.0                0.957384        \n",
       "5   11  1.0                0.956965        \n",
       "6   13  1.0                0.956825        \n",
       "12  25  1.0                0.956686        \n",
       "7   15  1.0                0.956546        \n",
       "16  33  1.0                0.956546        \n",
       "14  29  1.0                0.956546        \n",
       "13  27  1.0                0.956406        \n",
       "15  31  1.0                0.956406        \n",
       "11  23  1.0                0.956406        \n",
       "10  21  1.0                0.956406        \n",
       "9   19  1.0                0.956127        \n",
       "8   17  1.0                0.955987        \n",
       "17  35  1.0                0.955987        \n",
       "18  37  1.0                0.955987        \n",
       "19  39  1.0                0.955987        \n",
       "21  43  1.0                0.955987        \n",
       "20  41  1.0                0.955847        \n",
       "22  45  1.0                0.955428        \n",
       "1   3   1.0                0.955289        \n",
       "23  47  1.0                0.955289        \n",
       "24  49  1.0                0.955149        \n",
       "0   1   1.0                0.952075        "
      ]
     },
     "execution_count": 134,
     "metadata": {
      "tags": []
     },
     "output_type": "execute_result"
    }
   ],
   "source": [
    "perf.sort_values(by='test_performance', ascending=False, axis=0)"
   ]
  },
  {
   "cell_type": "code",
   "execution_count": null,
   "metadata": {
    "colab": {
     "base_uri": "https://localhost:8080/",
     "height": 391
    },
    "colab_type": "code",
    "id": "NtT1Z2dymgUD",
    "outputId": "5aa02dfe-aebd-46fd-dac0-5b042051a250"
   },
   "outputs": [
    {
     "name": "stdout",
     "output_type": "stream",
     "text": [
      "[[15952     0]\n",
      " [    0 15951]]\n",
      "[[6836    0]\n",
      " [ 847 5990]]\n",
      "              precision    recall  f1-score   support\n",
      "\n",
      "           0       1.00      1.00      1.00     15952\n",
      "           1       1.00      1.00      1.00     15951\n",
      "\n",
      "    accuracy                           1.00     31903\n",
      "   macro avg       1.00      1.00      1.00     31903\n",
      "weighted avg       1.00      1.00      1.00     31903\n",
      "\n",
      "              precision    recall  f1-score   support\n",
      "\n",
      "           0       0.89      1.00      0.94      6836\n",
      "           1       1.00      0.88      0.93      6837\n",
      "\n",
      "    accuracy                           0.94     13673\n",
      "   macro avg       0.94      0.94      0.94     13673\n",
      "weighted avg       0.94      0.94      0.94     13673\n",
      "\n"
     ]
    }
   ],
   "source": [
    "knn=KNeighborsClassifier(n_neighbors=7,weights='distance')\n",
    "knn.fit(X_train,y_train)\n",
    "\n",
    "knn_train_preds = knn.predict(X_train)\n",
    "knn_test_preds = knn.predict(X_test)\n",
    "\n",
    "print(confusion_matrix(y_train, knn_train_preds))\n",
    "print(confusion_matrix(y_test, knn_test_preds))\n",
    "\n",
    "print(classification_report(y_train, knn_train_preds))\n",
    "print(classification_report(y_test, knn_test_preds))"
   ]
  },
  {
   "cell_type": "markdown",
   "metadata": {
    "colab_type": "text",
    "id": "trJwfHvUWNib"
   },
   "source": [
    " <a id=section604></a>\n",
    "## 6.4 Naive Bayes "
   ]
  },
  {
   "cell_type": "code",
   "execution_count": 46,
   "metadata": {
    "colab": {
     "base_uri": "https://localhost:8080/",
     "height": 391
    },
    "colab_type": "code",
    "id": "7TWlLkcjWNic",
    "outputId": "c8ef99a1-fe6d-4ed5-8111-02e3972e6d1c"
   },
   "outputs": [
    {
     "name": "stdout",
     "output_type": "stream",
     "text": [
      "[[12628  3323]\n",
      " [ 2487 13465]]\n",
      "[[5476 1361]\n",
      " [1053 5783]]\n",
      "              precision    recall  f1-score   support\n",
      "\n",
      "           0       0.84      0.79      0.81     15951\n",
      "           1       0.80      0.84      0.82     15952\n",
      "\n",
      "    accuracy                           0.82     31903\n",
      "   macro avg       0.82      0.82      0.82     31903\n",
      "weighted avg       0.82      0.82      0.82     31903\n",
      "\n",
      "              precision    recall  f1-score   support\n",
      "\n",
      "           0       0.84      0.80      0.82      6837\n",
      "           1       0.81      0.85      0.83      6836\n",
      "\n",
      "    accuracy                           0.82     13673\n",
      "   macro avg       0.82      0.82      0.82     13673\n",
      "weighted avg       0.82      0.82      0.82     13673\n",
      "\n"
     ]
    }
   ],
   "source": [
    "from sklearn.naive_bayes import GaussianNB\n",
    "# Naive Bayes classification\n",
    "gnb = GaussianNB(priors=None)\n",
    "\n",
    "# Train classifier\n",
    "gnb.fit(X_train,y_train)\n",
    "\n",
    "gnb_train_preds = gnb.predict(X_train)\n",
    "gnb_test_preds = gnb.predict(X_test)\n",
    "\n",
    "print(confusion_matrix(y_train, gnb_train_preds))\n",
    "print(confusion_matrix(y_test, gnb_test_preds))\n",
    "\n",
    "print(classification_report(y_train, gnb_train_preds))\n",
    "print(classification_report(y_test, gnb_test_preds))"
   ]
  },
  {
   "cell_type": "markdown",
   "metadata": {
    "colab_type": "text",
    "id": "e77LdKW1WNik"
   },
   "source": [
    " <a id=section605></a>\n",
    "## 6.5 SVN"
   ]
  },
  {
   "cell_type": "code",
   "execution_count": 47,
   "metadata": {
    "colab": {
     "base_uri": "https://localhost:8080/",
     "height": 391
    },
    "colab_type": "code",
    "id": "hcgnMq39WNik",
    "outputId": "bd25c21a-c138-43f4-c28f-cf946fa2ea7e"
   },
   "outputs": [
    {
     "name": "stdout",
     "output_type": "stream",
     "text": [
      "[[15837   114]\n",
      " [  985 14967]]\n",
      "[[6772   65]\n",
      " [ 477 6359]]\n",
      "              precision    recall  f1-score   support\n",
      "\n",
      "           0       0.94      0.99      0.97     15951\n",
      "           1       0.99      0.94      0.96     15952\n",
      "\n",
      "    accuracy                           0.97     31903\n",
      "   macro avg       0.97      0.97      0.97     31903\n",
      "weighted avg       0.97      0.97      0.97     31903\n",
      "\n",
      "              precision    recall  f1-score   support\n",
      "\n",
      "           0       0.93      0.99      0.96      6837\n",
      "           1       0.99      0.93      0.96      6836\n",
      "\n",
      "    accuracy                           0.96     13673\n",
      "   macro avg       0.96      0.96      0.96     13673\n",
      "weighted avg       0.96      0.96      0.96     13673\n",
      "\n"
     ]
    }
   ],
   "source": [
    "# SVM\n",
    "from sklearn import svm\n",
    "model_svm = svm.SVC(probability=True, kernel='rbf', degree = 3)\n",
    "model_svm.fit(X_train, y_train)\n",
    "\n",
    "model_svm_train_preds = model_svm.predict(X_train)\n",
    "model_svm_test_preds = model_svm.predict(X_test)\n",
    "\n",
    "print(confusion_matrix(y_train, model_svm_train_preds))\n",
    "print(confusion_matrix(y_test, model_svm_test_preds))\n",
    "\n",
    "print(classification_report(y_train, model_svm_train_preds))\n",
    "print(classification_report(y_test, model_svm_test_preds))"
   ]
  },
  {
   "cell_type": "code",
   "execution_count": null,
   "metadata": {
    "colab": {
     "base_uri": "https://localhost:8080/",
     "height": 255
    },
    "colab_type": "code",
    "id": "AGkijmA8PCCC",
    "outputId": "8189851e-199b-4b95-f2e1-e28db51d5416"
   },
   "outputs": [
    {
     "name": "stdout",
     "output_type": "stream",
     "text": [
      "       MULTIPLE_OFFENSE\n",
      "0      1               \n",
      "1      1               \n",
      "2      1               \n",
      "3      1               \n",
      "4      1               \n",
      "...   ..               \n",
      "15898  1               \n",
      "15899  1               \n",
      "15900  1               \n",
      "15901  1               \n",
      "15902  1               \n",
      "\n",
      "[15903 rows x 1 columns]\n"
     ]
    }
   ],
   "source": [
    "pred_rf=pd.DataFrame(y_pred_rf, index = None)\n",
    "pred_rf = pred_rf.rename(columns={0: 'MULTIPLE_OFFENSE'})\n",
    "print(pred_rf)\n",
    "#pred_rf.to_excel('sample_submission_rf.xlsx')"
   ]
  },
  {
   "cell_type": "code",
   "execution_count": null,
   "metadata": {
    "colab": {
     "base_uri": "https://localhost:8080/",
     "height": 450
    },
    "colab_type": "code",
    "id": "u1XEeX4uQBI4",
    "outputId": "c57260f5-8020-43ae-a691-ef09dc34f418"
   },
   "outputs": [
    {
     "data": {
      "text/html": [
       "<div>\n",
       "<style scoped>\n",
       "    .dataframe tbody tr th:only-of-type {\n",
       "        vertical-align: middle;\n",
       "    }\n",
       "\n",
       "    .dataframe tbody tr th {\n",
       "        vertical-align: top;\n",
       "    }\n",
       "\n",
       "    .dataframe thead th {\n",
       "        text-align: right;\n",
       "    }\n",
       "</style>\n",
       "<table border=\"1\" class=\"dataframe\">\n",
       "  <thead>\n",
       "    <tr style=\"text-align: right;\">\n",
       "      <th></th>\n",
       "      <th>MULTIPLE_OFFENSE</th>\n",
       "    </tr>\n",
       "    <tr>\n",
       "      <th>INCIDENT_ID</th>\n",
       "      <th></th>\n",
       "    </tr>\n",
       "  </thead>\n",
       "  <tbody>\n",
       "    <tr>\n",
       "      <th>CR_195453</th>\n",
       "      <td>1</td>\n",
       "    </tr>\n",
       "    <tr>\n",
       "      <th>CR_103520</th>\n",
       "      <td>1</td>\n",
       "    </tr>\n",
       "    <tr>\n",
       "      <th>CR_196089</th>\n",
       "      <td>1</td>\n",
       "    </tr>\n",
       "    <tr>\n",
       "      <th>CR_112195</th>\n",
       "      <td>1</td>\n",
       "    </tr>\n",
       "    <tr>\n",
       "      <th>CR_149832</th>\n",
       "      <td>1</td>\n",
       "    </tr>\n",
       "    <tr>\n",
       "      <th>...</th>\n",
       "      <td>...</td>\n",
       "    </tr>\n",
       "    <tr>\n",
       "      <th>CR_44468</th>\n",
       "      <td>1</td>\n",
       "    </tr>\n",
       "    <tr>\n",
       "      <th>CR_158460</th>\n",
       "      <td>1</td>\n",
       "    </tr>\n",
       "    <tr>\n",
       "      <th>CR_115946</th>\n",
       "      <td>1</td>\n",
       "    </tr>\n",
       "    <tr>\n",
       "      <th>CR_137663</th>\n",
       "      <td>1</td>\n",
       "    </tr>\n",
       "    <tr>\n",
       "      <th>CR_33545</th>\n",
       "      <td>1</td>\n",
       "    </tr>\n",
       "  </tbody>\n",
       "</table>\n",
       "<p>15903 rows × 1 columns</p>\n",
       "</div>"
      ],
      "text/plain": [
       "             MULTIPLE_OFFENSE\n",
       "INCIDENT_ID                  \n",
       "CR_195453    1               \n",
       "CR_103520    1               \n",
       "CR_196089    1               \n",
       "CR_112195    1               \n",
       "CR_149832    1               \n",
       "...         ..               \n",
       "CR_44468     1               \n",
       "CR_158460    1               \n",
       "CR_115946    1               \n",
       "CR_137663    1               \n",
       "CR_33545     1               \n",
       "\n",
       "[15903 rows x 1 columns]"
      ]
     },
     "execution_count": 164,
     "metadata": {
      "tags": []
     },
     "output_type": "execute_result"
    }
   ],
   "source": [
    "idx = 0\n",
    "pred_rf.insert(loc=idx, column='INCIDENT_ID', value=test['INCIDENT_ID'])\n",
    "pred_rf = pred_rf.set_index('INCIDENT_ID')\n",
    "pred_rf"
   ]
  },
  {
   "cell_type": "code",
   "execution_count": null,
   "metadata": {
    "colab": {},
    "colab_type": "code",
    "id": "eLV6ZfdLQT1D"
   },
   "outputs": [],
   "source": [
    "pred_rf.to_csv('submission_1.csv')"
   ]
  },
  {
   "cell_type": "code",
   "execution_count": null,
   "metadata": {
    "colab": {
     "base_uri": "https://localhost:8080/",
     "height": 235
    },
    "colab_type": "code",
    "id": "VY05LeadSrI3",
    "outputId": "11e2df68-a4b5-4a7f-9a5d-9e61ae5e3bfb"
   },
   "outputs": [
    {
     "data": {
      "text/html": [
       "<div>\n",
       "<style scoped>\n",
       "    .dataframe tbody tr th:only-of-type {\n",
       "        vertical-align: middle;\n",
       "    }\n",
       "\n",
       "    .dataframe tbody tr th {\n",
       "        vertical-align: top;\n",
       "    }\n",
       "\n",
       "    .dataframe thead th {\n",
       "        text-align: right;\n",
       "    }\n",
       "</style>\n",
       "<table border=\"1\" class=\"dataframe\">\n",
       "  <thead>\n",
       "    <tr style=\"text-align: right;\">\n",
       "      <th></th>\n",
       "      <th>MULTIPLE_OFFENSE</th>\n",
       "    </tr>\n",
       "    <tr>\n",
       "      <th>INCIDENT_ID</th>\n",
       "      <th></th>\n",
       "    </tr>\n",
       "  </thead>\n",
       "  <tbody>\n",
       "    <tr>\n",
       "      <th>CR_195453</th>\n",
       "      <td>1</td>\n",
       "    </tr>\n",
       "    <tr>\n",
       "      <th>CR_103520</th>\n",
       "      <td>1</td>\n",
       "    </tr>\n",
       "    <tr>\n",
       "      <th>CR_196089</th>\n",
       "      <td>1</td>\n",
       "    </tr>\n",
       "    <tr>\n",
       "      <th>CR_112195</th>\n",
       "      <td>1</td>\n",
       "    </tr>\n",
       "    <tr>\n",
       "      <th>CR_149832</th>\n",
       "      <td>1</td>\n",
       "    </tr>\n",
       "  </tbody>\n",
       "</table>\n",
       "</div>"
      ],
      "text/plain": [
       "             MULTIPLE_OFFENSE\n",
       "INCIDENT_ID                  \n",
       "CR_195453    1               \n",
       "CR_103520    1               \n",
       "CR_196089    1               \n",
       "CR_112195    1               \n",
       "CR_149832    1               "
      ]
     },
     "execution_count": 166,
     "metadata": {
      "tags": []
     },
     "output_type": "execute_result"
    }
   ],
   "source": [
    "pred_rf.head()"
   ]
  }
 ],
 "metadata": {
  "colab": {
   "collapsed_sections": [
    "z4Kpmbz2Asjx",
    "KJTahtUnA_sp"
   ],
   "name": "ServerHackPrediction_v2.ipynb",
   "provenance": [],
   "toc_visible": true
  },
  "kernelspec": {
   "display_name": "Python 3",
   "language": "python",
   "name": "python3"
  },
  "language_info": {
   "codemirror_mode": {
    "name": "ipython",
    "version": 3
   },
   "file_extension": ".py",
   "mimetype": "text/x-python",
   "name": "python",
   "nbconvert_exporter": "python",
   "pygments_lexer": "ipython3",
   "version": "3.7.3"
  }
 },
 "nbformat": 4,
 "nbformat_minor": 1
}
