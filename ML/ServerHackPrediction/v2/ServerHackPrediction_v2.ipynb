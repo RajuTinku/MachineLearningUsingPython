{
  "nbformat": 4,
  "nbformat_minor": 0,
  "metadata": {
    "colab": {
      "name": "ServerHackPrediction_v2.ipynb",
      "provenance": [],
      "collapsed_sections": [
        "z4Kpmbz2Asjx",
        "KJTahtUnA_sp"
      ],
      "toc_visible": true
    },
    "kernelspec": {
      "name": "python3",
      "display_name": "Python 3"
    }
  },
  "cells": [
    {
      "cell_type": "markdown",
      "metadata": {
        "id": "AAty0UN_OmHZ",
        "colab_type": "text"
      },
      "source": [
        "# Server Hack Prediction"
      ]
    },
    {
      "cell_type": "markdown",
      "metadata": {
        "id": "vUbsiwalOilM",
        "colab_type": "text"
      },
      "source": [
        "## Table of Contents\n",
        "\n",
        "1. [Problem Statement](#section1)<br>\n",
        "2. [Importing Packages](#section2)<br>\n",
        "3. [Loading Data](#section3)<br>\n",
        "  - 3.1 [Description of the Datasets](#section301)<br>\n",
        "  - 3.2 [Pandas Profiling before Data Preprocessing](#section302)<br>\n",
        "4. [Data Preprocessing](#section4)<br>\n",
        "  - 4.1 [Filling missing values](#section401)<br>\n",
        "  - 4.2 [Transforming date columns](#section402)<br>\n",
        "  - 4.3 [Removing highly Correlated Columns](#section403)<br>\n",
        "  - 4.4 [Pandas Profiling after Data Preprocessing](#section404)<br>\n",
        "  - 4.5 [Exploratory Data Analysis](#section405)<br>\n",
        "5. [Data preparation for model building](#section5)<br>\n",
        "  - 5.1 [Standardizing continuos independent variables](#section501)<br>\n",
        "  - 5.2 [Applying SMOTING for imbalanced data](#section502)<br>\n",
        "  - 5.3 [Segregating Train and Test data](#section503)<br>\n",
        "6. [Ensemble Modelling and Prediction](#section6)<br>  \n",
        "  - 6.1 [Linear Regression](#section601)\n",
        "  - 6.2 [Random Forest](#section602) \n",
        "  - 6.3 [KNN](#section603)\n",
        "  - 6.4 [Naive Bayes](#section604)\n",
        "  - 6.5 [SVM](#section605)     \n",
        "7.  [Conclusion](#section7)<br>\n",
        "    "
      ]
    },
    {
      "cell_type": "markdown",
      "metadata": {
        "id": "ghbTEzIv7RTM",
        "colab_type": "text"
      },
      "source": [
        "<a id=section1></a>\n",
        "# 1. Problem Statement\n"
      ]
    },
    {
      "cell_type": "markdown",
      "metadata": {
        "id": "lK0c7QdT7gPR",
        "colab_type": "text"
      },
      "source": [
        "**Predict if the server will be hacked.**\n",
        "\n",
        "All the countries across the globe have adapted to means of digital payments. And with the increased volume of digital payments, hacking has become a pretty common event wherein the hacker can try to hack your details just with your phone number linked to your bank account. However, there is data with some anonymized variables based on which one can predict that the hack is going to happen. \n",
        "\n",
        "Your work is to build a predictive model which can identify a pattern in these variables and suggest that a hack is going to happen so that the cyber security can somehow stop it before it actually happens. You have to predict the column : \"MALICIOUS_OFFENSE\".\n",
        "\n",
        "Hackathon link: https://www.hackerearth.com/challenges/hiring/novartis-data-science-hiring-challenge/"
      ]
    },
    {
      "cell_type": "markdown",
      "metadata": {
        "id": "TMFAnaRM78JF",
        "colab_type": "text"
      },
      "source": [
        "<a id=section2></a>\n",
        "# 2. Importing Packages"
      ]
    },
    {
      "cell_type": "code",
      "metadata": {
        "id": "9PjAobN27OPz",
        "colab_type": "code",
        "colab": {}
      },
      "source": [
        "import numpy as np                     \n",
        "\n",
        "import pandas as pd\n",
        "\n",
        "# To suppress pandas warnings.\n",
        "pd.set_option('mode.chained_assignment', None) \n",
        "\n",
        "# To display all the data in each column\n",
        "pd.set_option('display.max_colwidth', -1)         \n",
        "\n",
        "pd.get_option(\"display.max_rows\",10000)\n",
        "\n",
        "# To display every column of the dataset in head()\n",
        "pd.options.display.max_columns = 100               \n",
        "\n",
        "import warnings\n",
        "warnings.filterwarnings('ignore')    "
      ],
      "execution_count": null,
      "outputs": []
    },
    {
      "cell_type": "code",
      "metadata": {
        "id": "HfRaX3qe8IdE",
        "colab_type": "code",
        "colab": {}
      },
      "source": [
        "import matplotlib.pyplot as plt\n",
        "%matplotlib inline\n",
        "\n",
        "# To apply seaborn styles to the plots.\n",
        "import seaborn as sns\n",
        "sns.set(style='whitegrid', font_scale=1.3, color_codes=True) "
      ],
      "execution_count": 41,
      "outputs": []
    },
    {
      "cell_type": "markdown",
      "metadata": {
        "id": "T-GMsr808OFS",
        "colab_type": "text"
      },
      "source": [
        "<a id=section3></a>\n",
        "# 3. Loading Data"
      ]
    },
    {
      "cell_type": "code",
      "metadata": {
        "id": "QiHULyjx8K4q",
        "colab_type": "code",
        "colab": {}
      },
      "source": [
        "df_train  = pd.read_csv('Train.csv', index_col='INCIDENT_ID')\n",
        "df_test = pd.read_csv('Test.csv', index_col='INCIDENT_ID')"
      ],
      "execution_count": 3,
      "outputs": []
    },
    {
      "cell_type": "markdown",
      "metadata": {
        "colab_type": "text",
        "id": "B-MIdzP3uBnM"
      },
      "source": [
        "<a id=section301></a>\n",
        "## 3.1 Description of the Datasets"
      ]
    },
    {
      "cell_type": "markdown",
      "metadata": {
        "colab_type": "text",
        "id": "_m6FGfKbuBnN"
      },
      "source": [
        "#### a. Check shape"
      ]
    },
    {
      "cell_type": "code",
      "metadata": {
        "colab_type": "code",
        "id": "hHFSe47vuBnO",
        "colab": {
          "base_uri": "https://localhost:8080/",
          "height": 34
        },
        "outputId": "b5e8c0b0-5096-42cf-8961-7756d4501850"
      },
      "source": [
        "df_train.shape, df_test.shape"
      ],
      "execution_count": 4,
      "outputs": [
        {
          "output_type": "execute_result",
          "data": {
            "text/plain": [
              "((23856, 17), (15903, 16))"
            ]
          },
          "metadata": {
            "tags": []
          },
          "execution_count": 4
        }
      ]
    },
    {
      "cell_type": "markdown",
      "metadata": {
        "colab_type": "text",
        "id": "wf_UUQ2vuBnR"
      },
      "source": [
        "#### b. info\n",
        "\n",
        "**Input Variables:**\n",
        "\n",
        "\n",
        "1.  INCIDENT_ID: Unique Identifier for an incident log.\n",
        "2.  DATE: Date wof incident occurence.\n",
        "3.  X_1-X_15: Anonymized logging parameters.\n",
        "\n",
        "**Output Variables:**\n",
        "\n",
        "1.  MULTIPLE_OFFENSE: Indicates if the incident was a hack."
      ]
    },
    {
      "cell_type": "code",
      "metadata": {
        "colab_type": "code",
        "id": "Pix87vQWuBnS",
        "scrolled": true,
        "colab": {
          "base_uri": "https://localhost:8080/",
          "height": 425
        },
        "outputId": "f68a9ac7-c019-459d-fb66-19df8685e49b"
      },
      "source": [
        "df_train.info()"
      ],
      "execution_count": 5,
      "outputs": [
        {
          "output_type": "stream",
          "text": [
            "<class 'pandas.core.frame.DataFrame'>\n",
            "Index: 23856 entries, CR_102659 to CR_22575\n",
            "Data columns (total 17 columns):\n",
            " #   Column            Non-Null Count  Dtype  \n",
            "---  ------            --------------  -----  \n",
            " 0   DATE              23856 non-null  object \n",
            " 1   X_1               23856 non-null  int64  \n",
            " 2   X_2               23856 non-null  int64  \n",
            " 3   X_3               23856 non-null  int64  \n",
            " 4   X_4               23856 non-null  int64  \n",
            " 5   X_5               23856 non-null  int64  \n",
            " 6   X_6               23856 non-null  int64  \n",
            " 7   X_7               23856 non-null  int64  \n",
            " 8   X_8               23856 non-null  int64  \n",
            " 9   X_9               23856 non-null  int64  \n",
            " 10  X_10              23856 non-null  int64  \n",
            " 11  X_11              23856 non-null  int64  \n",
            " 12  X_12              23674 non-null  float64\n",
            " 13  X_13              23856 non-null  int64  \n",
            " 14  X_14              23856 non-null  int64  \n",
            " 15  X_15              23856 non-null  int64  \n",
            " 16  MULTIPLE_OFFENSE  23856 non-null  int64  \n",
            "dtypes: float64(1), int64(15), object(1)\n",
            "memory usage: 3.3+ MB\n"
          ],
          "name": "stdout"
        }
      ]
    },
    {
      "cell_type": "code",
      "metadata": {
        "id": "JFDYZB1vTXzw",
        "colab_type": "code",
        "colab": {
          "base_uri": "https://localhost:8080/",
          "height": 408
        },
        "outputId": "2f91010b-a612-44c8-fb00-9dac1b83d3c1"
      },
      "source": [
        "df_test.info()"
      ],
      "execution_count": 6,
      "outputs": [
        {
          "output_type": "stream",
          "text": [
            "<class 'pandas.core.frame.DataFrame'>\n",
            "Index: 15903 entries, CR_195453 to CR_33545\n",
            "Data columns (total 16 columns):\n",
            " #   Column  Non-Null Count  Dtype  \n",
            "---  ------  --------------  -----  \n",
            " 0   DATE    15903 non-null  object \n",
            " 1   X_1     15903 non-null  int64  \n",
            " 2   X_2     15903 non-null  int64  \n",
            " 3   X_3     15903 non-null  int64  \n",
            " 4   X_4     15903 non-null  int64  \n",
            " 5   X_5     15903 non-null  int64  \n",
            " 6   X_6     15903 non-null  int64  \n",
            " 7   X_7     15903 non-null  int64  \n",
            " 8   X_8     15903 non-null  int64  \n",
            " 9   X_9     15903 non-null  int64  \n",
            " 10  X_10    15903 non-null  int64  \n",
            " 11  X_11    15903 non-null  int64  \n",
            " 12  X_12    15776 non-null  float64\n",
            " 13  X_13    15903 non-null  int64  \n",
            " 14  X_14    15903 non-null  int64  \n",
            " 15  X_15    15903 non-null  int64  \n",
            "dtypes: float64(1), int64(14), object(1)\n",
            "memory usage: 2.1+ MB\n"
          ],
          "name": "stdout"
        }
      ]
    },
    {
      "cell_type": "markdown",
      "metadata": {
        "colab_type": "text",
        "id": "SB6EdN8tuBnV"
      },
      "source": [
        "**Observations :**  \n",
        "\n",
        "We have missing values for **X_12**."
      ]
    },
    {
      "cell_type": "markdown",
      "metadata": {
        "colab_type": "text",
        "id": "H_CCA-lquBnW"
      },
      "source": [
        "#### c. describe"
      ]
    },
    {
      "cell_type": "code",
      "metadata": {
        "colab_type": "code",
        "id": "VJt2QWtauBnX",
        "scrolled": true,
        "colab": {
          "base_uri": "https://localhost:8080/",
          "height": 317
        },
        "outputId": "2e3b667d-6975-4dfd-d148-a55e33f0de3b"
      },
      "source": [
        "df_train.describe()"
      ],
      "execution_count": 7,
      "outputs": [
        {
          "output_type": "execute_result",
          "data": {
            "text/html": [
              "<div>\n",
              "<style scoped>\n",
              "    .dataframe tbody tr th:only-of-type {\n",
              "        vertical-align: middle;\n",
              "    }\n",
              "\n",
              "    .dataframe tbody tr th {\n",
              "        vertical-align: top;\n",
              "    }\n",
              "\n",
              "    .dataframe thead th {\n",
              "        text-align: right;\n",
              "    }\n",
              "</style>\n",
              "<table border=\"1\" class=\"dataframe\">\n",
              "  <thead>\n",
              "    <tr style=\"text-align: right;\">\n",
              "      <th></th>\n",
              "      <th>X_1</th>\n",
              "      <th>X_2</th>\n",
              "      <th>X_3</th>\n",
              "      <th>X_4</th>\n",
              "      <th>X_5</th>\n",
              "      <th>X_6</th>\n",
              "      <th>X_7</th>\n",
              "      <th>X_8</th>\n",
              "      <th>X_9</th>\n",
              "      <th>X_10</th>\n",
              "      <th>X_11</th>\n",
              "      <th>X_12</th>\n",
              "      <th>X_13</th>\n",
              "      <th>X_14</th>\n",
              "      <th>X_15</th>\n",
              "      <th>MULTIPLE_OFFENSE</th>\n",
              "    </tr>\n",
              "  </thead>\n",
              "  <tbody>\n",
              "    <tr>\n",
              "      <th>count</th>\n",
              "      <td>23856.000000</td>\n",
              "      <td>23856.000000</td>\n",
              "      <td>23856.000000</td>\n",
              "      <td>23856.000000</td>\n",
              "      <td>23856.000000</td>\n",
              "      <td>23856.000000</td>\n",
              "      <td>23856.000000</td>\n",
              "      <td>23856.000000</td>\n",
              "      <td>23856.000000</td>\n",
              "      <td>23856.000000</td>\n",
              "      <td>23856.000000</td>\n",
              "      <td>23674.000000</td>\n",
              "      <td>23856.000000</td>\n",
              "      <td>23856.000000</td>\n",
              "      <td>23856.000000</td>\n",
              "      <td>23856.000000</td>\n",
              "    </tr>\n",
              "    <tr>\n",
              "      <th>mean</th>\n",
              "      <td>0.483778</td>\n",
              "      <td>24.791206</td>\n",
              "      <td>24.637450</td>\n",
              "      <td>4.276744</td>\n",
              "      <td>2.455609</td>\n",
              "      <td>6.154175</td>\n",
              "      <td>4.876509</td>\n",
              "      <td>0.972460</td>\n",
              "      <td>4.924128</td>\n",
              "      <td>1.244802</td>\n",
              "      <td>206.954519</td>\n",
              "      <td>0.974064</td>\n",
              "      <td>85.237383</td>\n",
              "      <td>72.674296</td>\n",
              "      <td>33.464747</td>\n",
              "      <td>0.955231</td>\n",
              "    </tr>\n",
              "    <tr>\n",
              "      <th>std</th>\n",
              "      <td>1.439738</td>\n",
              "      <td>15.240231</td>\n",
              "      <td>15.135093</td>\n",
              "      <td>2.944672</td>\n",
              "      <td>1.963095</td>\n",
              "      <td>4.471756</td>\n",
              "      <td>3.881931</td>\n",
              "      <td>1.453144</td>\n",
              "      <td>1.362625</td>\n",
              "      <td>1.119301</td>\n",
              "      <td>93.033348</td>\n",
              "      <td>1.167725</td>\n",
              "      <td>27.597226</td>\n",
              "      <td>43.297320</td>\n",
              "      <td>8.386834</td>\n",
              "      <td>0.206800</td>\n",
              "    </tr>\n",
              "    <tr>\n",
              "      <th>min</th>\n",
              "      <td>0.000000</td>\n",
              "      <td>0.000000</td>\n",
              "      <td>0.000000</td>\n",
              "      <td>0.000000</td>\n",
              "      <td>0.000000</td>\n",
              "      <td>1.000000</td>\n",
              "      <td>0.000000</td>\n",
              "      <td>0.000000</td>\n",
              "      <td>0.000000</td>\n",
              "      <td>1.000000</td>\n",
              "      <td>0.000000</td>\n",
              "      <td>0.000000</td>\n",
              "      <td>0.000000</td>\n",
              "      <td>0.000000</td>\n",
              "      <td>0.000000</td>\n",
              "      <td>0.000000</td>\n",
              "    </tr>\n",
              "    <tr>\n",
              "      <th>25%</th>\n",
              "      <td>0.000000</td>\n",
              "      <td>7.000000</td>\n",
              "      <td>8.000000</td>\n",
              "      <td>2.000000</td>\n",
              "      <td>1.000000</td>\n",
              "      <td>3.000000</td>\n",
              "      <td>2.000000</td>\n",
              "      <td>0.000000</td>\n",
              "      <td>5.000000</td>\n",
              "      <td>1.000000</td>\n",
              "      <td>174.000000</td>\n",
              "      <td>1.000000</td>\n",
              "      <td>72.000000</td>\n",
              "      <td>29.000000</td>\n",
              "      <td>34.000000</td>\n",
              "      <td>1.000000</td>\n",
              "    </tr>\n",
              "    <tr>\n",
              "      <th>50%</th>\n",
              "      <td>0.000000</td>\n",
              "      <td>24.000000</td>\n",
              "      <td>24.000000</td>\n",
              "      <td>4.000000</td>\n",
              "      <td>3.000000</td>\n",
              "      <td>5.000000</td>\n",
              "      <td>4.000000</td>\n",
              "      <td>1.000000</td>\n",
              "      <td>5.000000</td>\n",
              "      <td>1.000000</td>\n",
              "      <td>249.000000</td>\n",
              "      <td>1.000000</td>\n",
              "      <td>98.000000</td>\n",
              "      <td>62.000000</td>\n",
              "      <td>34.000000</td>\n",
              "      <td>1.000000</td>\n",
              "    </tr>\n",
              "    <tr>\n",
              "      <th>75%</th>\n",
              "      <td>0.000000</td>\n",
              "      <td>36.000000</td>\n",
              "      <td>35.000000</td>\n",
              "      <td>6.000000</td>\n",
              "      <td>5.000000</td>\n",
              "      <td>8.000000</td>\n",
              "      <td>7.000000</td>\n",
              "      <td>1.000000</td>\n",
              "      <td>6.000000</td>\n",
              "      <td>1.000000</td>\n",
              "      <td>249.000000</td>\n",
              "      <td>1.000000</td>\n",
              "      <td>103.000000</td>\n",
              "      <td>107.000000</td>\n",
              "      <td>34.000000</td>\n",
              "      <td>1.000000</td>\n",
              "    </tr>\n",
              "    <tr>\n",
              "      <th>max</th>\n",
              "      <td>7.000000</td>\n",
              "      <td>52.000000</td>\n",
              "      <td>52.000000</td>\n",
              "      <td>10.000000</td>\n",
              "      <td>5.000000</td>\n",
              "      <td>19.000000</td>\n",
              "      <td>18.000000</td>\n",
              "      <td>99.000000</td>\n",
              "      <td>6.000000</td>\n",
              "      <td>90.000000</td>\n",
              "      <td>332.000000</td>\n",
              "      <td>90.000000</td>\n",
              "      <td>116.000000</td>\n",
              "      <td>142.000000</td>\n",
              "      <td>50.000000</td>\n",
              "      <td>1.000000</td>\n",
              "    </tr>\n",
              "  </tbody>\n",
              "</table>\n",
              "</div>"
            ],
            "text/plain": [
              "                X_1           X_2           X_3           X_4           X_5  \\\n",
              "count  23856.000000  23856.000000  23856.000000  23856.000000  23856.000000   \n",
              "mean   0.483778      24.791206     24.637450     4.276744      2.455609       \n",
              "std    1.439738      15.240231     15.135093     2.944672      1.963095       \n",
              "min    0.000000      0.000000      0.000000      0.000000      0.000000       \n",
              "25%    0.000000      7.000000      8.000000      2.000000      1.000000       \n",
              "50%    0.000000      24.000000     24.000000     4.000000      3.000000       \n",
              "75%    0.000000      36.000000     35.000000     6.000000      5.000000       \n",
              "max    7.000000      52.000000     52.000000     10.000000     5.000000       \n",
              "\n",
              "                X_6           X_7           X_8           X_9          X_10  \\\n",
              "count  23856.000000  23856.000000  23856.000000  23856.000000  23856.000000   \n",
              "mean   6.154175      4.876509      0.972460      4.924128      1.244802       \n",
              "std    4.471756      3.881931      1.453144      1.362625      1.119301       \n",
              "min    1.000000      0.000000      0.000000      0.000000      1.000000       \n",
              "25%    3.000000      2.000000      0.000000      5.000000      1.000000       \n",
              "50%    5.000000      4.000000      1.000000      5.000000      1.000000       \n",
              "75%    8.000000      7.000000      1.000000      6.000000      1.000000       \n",
              "max    19.000000     18.000000     99.000000     6.000000      90.000000      \n",
              "\n",
              "               X_11          X_12          X_13          X_14          X_15  \\\n",
              "count  23856.000000  23674.000000  23856.000000  23856.000000  23856.000000   \n",
              "mean   206.954519    0.974064      85.237383     72.674296     33.464747      \n",
              "std    93.033348     1.167725      27.597226     43.297320     8.386834       \n",
              "min    0.000000      0.000000      0.000000      0.000000      0.000000       \n",
              "25%    174.000000    1.000000      72.000000     29.000000     34.000000      \n",
              "50%    249.000000    1.000000      98.000000     62.000000     34.000000      \n",
              "75%    249.000000    1.000000      103.000000    107.000000    34.000000      \n",
              "max    332.000000    90.000000     116.000000    142.000000    50.000000      \n",
              "\n",
              "       MULTIPLE_OFFENSE  \n",
              "count  23856.000000      \n",
              "mean   0.955231          \n",
              "std    0.206800          \n",
              "min    0.000000          \n",
              "25%    1.000000          \n",
              "50%    1.000000          \n",
              "75%    1.000000          \n",
              "max    1.000000          "
            ]
          },
          "metadata": {
            "tags": []
          },
          "execution_count": 7
        }
      ]
    },
    {
      "cell_type": "code",
      "metadata": {
        "id": "M8Ylhg4DTt-0",
        "colab_type": "code",
        "colab": {
          "base_uri": "https://localhost:8080/",
          "height": 317
        },
        "outputId": "98ba0c75-b50f-4cb8-9bae-1a488a3b850f"
      },
      "source": [
        "df_test.describe()"
      ],
      "execution_count": 8,
      "outputs": [
        {
          "output_type": "execute_result",
          "data": {
            "text/html": [
              "<div>\n",
              "<style scoped>\n",
              "    .dataframe tbody tr th:only-of-type {\n",
              "        vertical-align: middle;\n",
              "    }\n",
              "\n",
              "    .dataframe tbody tr th {\n",
              "        vertical-align: top;\n",
              "    }\n",
              "\n",
              "    .dataframe thead th {\n",
              "        text-align: right;\n",
              "    }\n",
              "</style>\n",
              "<table border=\"1\" class=\"dataframe\">\n",
              "  <thead>\n",
              "    <tr style=\"text-align: right;\">\n",
              "      <th></th>\n",
              "      <th>X_1</th>\n",
              "      <th>X_2</th>\n",
              "      <th>X_3</th>\n",
              "      <th>X_4</th>\n",
              "      <th>X_5</th>\n",
              "      <th>X_6</th>\n",
              "      <th>X_7</th>\n",
              "      <th>X_8</th>\n",
              "      <th>X_9</th>\n",
              "      <th>X_10</th>\n",
              "      <th>X_11</th>\n",
              "      <th>X_12</th>\n",
              "      <th>X_13</th>\n",
              "      <th>X_14</th>\n",
              "      <th>X_15</th>\n",
              "    </tr>\n",
              "  </thead>\n",
              "  <tbody>\n",
              "    <tr>\n",
              "      <th>count</th>\n",
              "      <td>15903.000000</td>\n",
              "      <td>15903.000000</td>\n",
              "      <td>15903.000000</td>\n",
              "      <td>15903.000000</td>\n",
              "      <td>15903.000000</td>\n",
              "      <td>15903.000000</td>\n",
              "      <td>15903.000000</td>\n",
              "      <td>15903.000000</td>\n",
              "      <td>15903.000000</td>\n",
              "      <td>15903.000000</td>\n",
              "      <td>15903.000000</td>\n",
              "      <td>15776.000000</td>\n",
              "      <td>15903.000000</td>\n",
              "      <td>15903.000000</td>\n",
              "      <td>15903.000000</td>\n",
              "    </tr>\n",
              "    <tr>\n",
              "      <th>mean</th>\n",
              "      <td>0.468088</td>\n",
              "      <td>24.722631</td>\n",
              "      <td>24.575049</td>\n",
              "      <td>4.284223</td>\n",
              "      <td>2.448469</td>\n",
              "      <td>6.084890</td>\n",
              "      <td>4.862605</td>\n",
              "      <td>0.986732</td>\n",
              "      <td>4.908759</td>\n",
              "      <td>1.241212</td>\n",
              "      <td>206.954097</td>\n",
              "      <td>0.972236</td>\n",
              "      <td>85.191096</td>\n",
              "      <td>72.218575</td>\n",
              "      <td>33.422625</td>\n",
              "    </tr>\n",
              "    <tr>\n",
              "      <th>std</th>\n",
              "      <td>1.412112</td>\n",
              "      <td>15.228841</td>\n",
              "      <td>15.127451</td>\n",
              "      <td>2.974584</td>\n",
              "      <td>1.963372</td>\n",
              "      <td>4.451117</td>\n",
              "      <td>3.854550</td>\n",
              "      <td>1.471274</td>\n",
              "      <td>1.374677</td>\n",
              "      <td>0.841804</td>\n",
              "      <td>93.107783</td>\n",
              "      <td>0.876669</td>\n",
              "      <td>27.493192</td>\n",
              "      <td>43.438227</td>\n",
              "      <td>8.314284</td>\n",
              "    </tr>\n",
              "    <tr>\n",
              "      <th>min</th>\n",
              "      <td>0.000000</td>\n",
              "      <td>0.000000</td>\n",
              "      <td>0.000000</td>\n",
              "      <td>0.000000</td>\n",
              "      <td>0.000000</td>\n",
              "      <td>1.000000</td>\n",
              "      <td>0.000000</td>\n",
              "      <td>0.000000</td>\n",
              "      <td>0.000000</td>\n",
              "      <td>1.000000</td>\n",
              "      <td>0.000000</td>\n",
              "      <td>0.000000</td>\n",
              "      <td>0.000000</td>\n",
              "      <td>0.000000</td>\n",
              "      <td>0.000000</td>\n",
              "    </tr>\n",
              "    <tr>\n",
              "      <th>25%</th>\n",
              "      <td>0.000000</td>\n",
              "      <td>7.000000</td>\n",
              "      <td>8.000000</td>\n",
              "      <td>2.000000</td>\n",
              "      <td>1.000000</td>\n",
              "      <td>3.000000</td>\n",
              "      <td>2.000000</td>\n",
              "      <td>0.000000</td>\n",
              "      <td>5.000000</td>\n",
              "      <td>1.000000</td>\n",
              "      <td>174.000000</td>\n",
              "      <td>1.000000</td>\n",
              "      <td>72.000000</td>\n",
              "      <td>29.000000</td>\n",
              "      <td>34.000000</td>\n",
              "    </tr>\n",
              "    <tr>\n",
              "      <th>50%</th>\n",
              "      <td>0.000000</td>\n",
              "      <td>24.000000</td>\n",
              "      <td>24.000000</td>\n",
              "      <td>4.000000</td>\n",
              "      <td>3.000000</td>\n",
              "      <td>5.000000</td>\n",
              "      <td>4.000000</td>\n",
              "      <td>1.000000</td>\n",
              "      <td>5.000000</td>\n",
              "      <td>1.000000</td>\n",
              "      <td>249.000000</td>\n",
              "      <td>1.000000</td>\n",
              "      <td>98.000000</td>\n",
              "      <td>62.000000</td>\n",
              "      <td>34.000000</td>\n",
              "    </tr>\n",
              "    <tr>\n",
              "      <th>75%</th>\n",
              "      <td>0.000000</td>\n",
              "      <td>36.000000</td>\n",
              "      <td>35.000000</td>\n",
              "      <td>6.000000</td>\n",
              "      <td>5.000000</td>\n",
              "      <td>8.000000</td>\n",
              "      <td>7.000000</td>\n",
              "      <td>1.000000</td>\n",
              "      <td>6.000000</td>\n",
              "      <td>1.000000</td>\n",
              "      <td>249.000000</td>\n",
              "      <td>1.000000</td>\n",
              "      <td>103.000000</td>\n",
              "      <td>107.000000</td>\n",
              "      <td>34.000000</td>\n",
              "    </tr>\n",
              "    <tr>\n",
              "      <th>max</th>\n",
              "      <td>7.000000</td>\n",
              "      <td>52.000000</td>\n",
              "      <td>52.000000</td>\n",
              "      <td>10.000000</td>\n",
              "      <td>5.000000</td>\n",
              "      <td>19.000000</td>\n",
              "      <td>18.000000</td>\n",
              "      <td>50.000000</td>\n",
              "      <td>6.000000</td>\n",
              "      <td>40.000000</td>\n",
              "      <td>332.000000</td>\n",
              "      <td>40.000000</td>\n",
              "      <td>117.000000</td>\n",
              "      <td>142.000000</td>\n",
              "      <td>50.000000</td>\n",
              "    </tr>\n",
              "  </tbody>\n",
              "</table>\n",
              "</div>"
            ],
            "text/plain": [
              "                X_1           X_2           X_3           X_4           X_5  \\\n",
              "count  15903.000000  15903.000000  15903.000000  15903.000000  15903.000000   \n",
              "mean   0.468088      24.722631     24.575049     4.284223      2.448469       \n",
              "std    1.412112      15.228841     15.127451     2.974584      1.963372       \n",
              "min    0.000000      0.000000      0.000000      0.000000      0.000000       \n",
              "25%    0.000000      7.000000      8.000000      2.000000      1.000000       \n",
              "50%    0.000000      24.000000     24.000000     4.000000      3.000000       \n",
              "75%    0.000000      36.000000     35.000000     6.000000      5.000000       \n",
              "max    7.000000      52.000000     52.000000     10.000000     5.000000       \n",
              "\n",
              "                X_6           X_7           X_8           X_9          X_10  \\\n",
              "count  15903.000000  15903.000000  15903.000000  15903.000000  15903.000000   \n",
              "mean   6.084890      4.862605      0.986732      4.908759      1.241212       \n",
              "std    4.451117      3.854550      1.471274      1.374677      0.841804       \n",
              "min    1.000000      0.000000      0.000000      0.000000      1.000000       \n",
              "25%    3.000000      2.000000      0.000000      5.000000      1.000000       \n",
              "50%    5.000000      4.000000      1.000000      5.000000      1.000000       \n",
              "75%    8.000000      7.000000      1.000000      6.000000      1.000000       \n",
              "max    19.000000     18.000000     50.000000     6.000000      40.000000      \n",
              "\n",
              "               X_11          X_12          X_13          X_14          X_15  \n",
              "count  15903.000000  15776.000000  15903.000000  15903.000000  15903.000000  \n",
              "mean   206.954097    0.972236      85.191096     72.218575     33.422625     \n",
              "std    93.107783     0.876669      27.493192     43.438227     8.314284      \n",
              "min    0.000000      0.000000      0.000000      0.000000      0.000000      \n",
              "25%    174.000000    1.000000      72.000000     29.000000     34.000000     \n",
              "50%    249.000000    1.000000      98.000000     62.000000     34.000000     \n",
              "75%    249.000000    1.000000      103.000000    107.000000    34.000000     \n",
              "max    332.000000    40.000000     117.000000    142.000000    50.000000     "
            ]
          },
          "metadata": {
            "tags": []
          },
          "execution_count": 8
        }
      ]
    },
    {
      "cell_type": "markdown",
      "metadata": {
        "colab_type": "text",
        "id": "_KYpQsBDuBna"
      },
      "source": [
        "**Observations :** Looks like there are some outliers. Let's confirm same from pandas profiling in next step.\n"
      ]
    },
    {
      "cell_type": "markdown",
      "metadata": {
        "colab_type": "text",
        "id": "05W5gAznuBnb"
      },
      "source": [
        " <a id=section302></a>\n",
        "## 3.2 Pandas Profiling before Data Preprocessing"
      ]
    },
    {
      "cell_type": "code",
      "metadata": {
        "id": "01oGAuXklzKA",
        "colab_type": "code",
        "colab": {}
      },
      "source": [
        "# To install pandas profiling please run this command.\n",
        "\n",
        "#!pip install folium==0.2.1\n",
        "#!pip install pandas-profiling --upgrade"
      ],
      "execution_count": 9,
      "outputs": []
    },
    {
      "cell_type": "code",
      "metadata": {
        "id": "C0A-QgBVkdGh",
        "colab_type": "code",
        "colab": {}
      },
      "source": [
        "from pandas_profiling import ProfileReport\n",
        "\n",
        "# Running pandas profiling to get better understanding of data\n",
        "\n",
        "#profile =  ProfileReport(df_train, title='Pandas Profiling Report of train data before data preprocessing', html={'style':{'full_width':True}})\n",
        "#profile.to_file(output_file=\"train_report_before_processing.html\")"
      ],
      "execution_count": 10,
      "outputs": []
    },
    {
      "cell_type": "code",
      "metadata": {
        "id": "tINyC5YSVrRO",
        "colab_type": "code",
        "colab": {}
      },
      "source": [
        "#profile =  ProfileReport(df_train, title='Pandas Profiling Report of test data before data preprocessing', html={'style':{'full_width':True}})\n",
        "#profile.to_file(output_file=\"test_report_before_processing.html\")"
      ],
      "execution_count": 11,
      "outputs": []
    },
    {
      "cell_type": "markdown",
      "metadata": {
        "colab_type": "text",
        "id": "jjyJwVL_uBni"
      },
      "source": [
        " <a id=section4></a>\n",
        "# 4. Data Preprocessing"
      ]
    },
    {
      "cell_type": "markdown",
      "metadata": {
        "id": "IOC_CwtYwGW3",
        "colab_type": "text"
      },
      "source": [
        " <a id=section401></a>\n",
        " \n",
        "## 4.1 Filling missing values"
      ]
    },
    {
      "cell_type": "code",
      "metadata": {
        "id": "DVGbZlI_5wTP",
        "colab_type": "code",
        "colab": {
          "base_uri": "https://localhost:8080/",
          "height": 323
        },
        "outputId": "b3e92c89-9eb8-431d-8c4b-df0737cd8d12"
      },
      "source": [
        "df_train.isnull().sum()"
      ],
      "execution_count": 12,
      "outputs": [
        {
          "output_type": "execute_result",
          "data": {
            "text/plain": [
              "DATE                0  \n",
              "X_1                 0  \n",
              "X_2                 0  \n",
              "X_3                 0  \n",
              "X_4                 0  \n",
              "X_5                 0  \n",
              "X_6                 0  \n",
              "X_7                 0  \n",
              "X_8                 0  \n",
              "X_9                 0  \n",
              "X_10                0  \n",
              "X_11                0  \n",
              "X_12                182\n",
              "X_13                0  \n",
              "X_14                0  \n",
              "X_15                0  \n",
              "MULTIPLE_OFFENSE    0  \n",
              "dtype: int64"
            ]
          },
          "metadata": {
            "tags": []
          },
          "execution_count": 12
        }
      ]
    },
    {
      "cell_type": "markdown",
      "metadata": {
        "id": "DjywaTKO_k2q",
        "colab_type": "text"
      },
      "source": [
        "**NOTE:**\n",
        "X_12 has missing values and we shall replace them with the mode."
      ]
    },
    {
      "cell_type": "code",
      "metadata": {
        "id": "ngJAeNIYaXmx",
        "colab_type": "code",
        "colab": {
          "base_uri": "https://localhost:8080/",
          "height": 34
        },
        "outputId": "850315d3-02f6-4023-b36e-28b0a15831ed"
      },
      "source": [
        "df_train['X_12'].nunique()"
      ],
      "execution_count": 13,
      "outputs": [
        {
          "output_type": "execute_result",
          "data": {
            "text/plain": [
              "23"
            ]
          },
          "metadata": {
            "tags": []
          },
          "execution_count": 13
        }
      ]
    },
    {
      "cell_type": "markdown",
      "metadata": {
        "id": "qvixN8kPaT49",
        "colab_type": "text"
      },
      "source": [
        "**NOTE :**\n",
        "\n",
        "As there are only 23 unique values, we can safely assume X_12 as categorical column. Let's fill it with mode for both train ans test data.\n"
      ]
    },
    {
      "cell_type": "code",
      "metadata": {
        "id": "dTP5vLz4_eor",
        "colab_type": "code",
        "colab": {}
      },
      "source": [
        "df_train['X_12'].fillna(df_train['X_12'].mode()[0], inplace=True)"
      ],
      "execution_count": 14,
      "outputs": []
    },
    {
      "cell_type": "code",
      "metadata": {
        "id": "-3CG4ZydXSiQ",
        "colab_type": "code",
        "colab": {
          "base_uri": "https://localhost:8080/",
          "height": 34
        },
        "outputId": "e3d8fca0-db0c-43f1-8c9b-70d080963569"
      },
      "source": [
        "df_train['X_12'].isnull().sum()"
      ],
      "execution_count": 15,
      "outputs": [
        {
          "output_type": "execute_result",
          "data": {
            "text/plain": [
              "0"
            ]
          },
          "metadata": {
            "tags": []
          },
          "execution_count": 15
        }
      ]
    },
    {
      "cell_type": "code",
      "metadata": {
        "id": "fuuTqakzZzoX",
        "colab_type": "code",
        "colab": {
          "base_uri": "https://localhost:8080/",
          "height": 306
        },
        "outputId": "e84690c4-a23e-4167-9b6d-9dbfe5c99ce8"
      },
      "source": [
        "df_test.isnull().sum()"
      ],
      "execution_count": 16,
      "outputs": [
        {
          "output_type": "execute_result",
          "data": {
            "text/plain": [
              "DATE    0  \n",
              "X_1     0  \n",
              "X_2     0  \n",
              "X_3     0  \n",
              "X_4     0  \n",
              "X_5     0  \n",
              "X_6     0  \n",
              "X_7     0  \n",
              "X_8     0  \n",
              "X_9     0  \n",
              "X_10    0  \n",
              "X_11    0  \n",
              "X_12    127\n",
              "X_13    0  \n",
              "X_14    0  \n",
              "X_15    0  \n",
              "dtype: int64"
            ]
          },
          "metadata": {
            "tags": []
          },
          "execution_count": 16
        }
      ]
    },
    {
      "cell_type": "code",
      "metadata": {
        "id": "xZQYLjh_Z9Iy",
        "colab_type": "code",
        "colab": {}
      },
      "source": [
        "df_test['X_12'].fillna(df_test['X_12'].mode()[0], inplace=True)"
      ],
      "execution_count": 17,
      "outputs": []
    },
    {
      "cell_type": "code",
      "metadata": {
        "id": "MbIX2djXaFbo",
        "colab_type": "code",
        "colab": {
          "base_uri": "https://localhost:8080/",
          "height": 34
        },
        "outputId": "ce1cd792-ad4d-4e6d-e164-2aa313221956"
      },
      "source": [
        "df_test['X_12'].isnull().sum()"
      ],
      "execution_count": 18,
      "outputs": [
        {
          "output_type": "execute_result",
          "data": {
            "text/plain": [
              "0"
            ]
          },
          "metadata": {
            "tags": []
          },
          "execution_count": 18
        }
      ]
    },
    {
      "cell_type": "markdown",
      "metadata": {
        "id": "HJxug6SF65-2",
        "colab_type": "text"
      },
      "source": [
        " <a id=section402></a>\n",
        " \n",
        "## 4.2 Transforming date columns"
      ]
    },
    {
      "cell_type": "markdown",
      "metadata": {
        "id": "z4Kpmbz2Asjx",
        "colab_type": "text"
      },
      "source": [
        "### a. Converting DATE to pandas datetime."
      ]
    },
    {
      "cell_type": "markdown",
      "metadata": {
        "id": "g7YuTZ4xfTeO",
        "colab_type": "text"
      },
      "source": [
        "#### Train"
      ]
    },
    {
      "cell_type": "code",
      "metadata": {
        "id": "wBMFjMOD-zLq",
        "colab_type": "code",
        "colab": {}
      },
      "source": [
        "df_train['DATE'] = pd.to_datetime(df_train['DATE'] , errors = 'coerce', utc = True)"
      ],
      "execution_count": 19,
      "outputs": []
    },
    {
      "cell_type": "code",
      "metadata": {
        "id": "liAGIVKRAF7p",
        "colab_type": "code",
        "colab": {
          "base_uri": "https://localhost:8080/",
          "height": 0
        },
        "outputId": "3ba83728-bfd5-494a-b77e-a3e4c8809722"
      },
      "source": [
        "df_train['DATE'].dtypes"
      ],
      "execution_count": 20,
      "outputs": [
        {
          "output_type": "execute_result",
          "data": {
            "text/plain": [
              "datetime64[ns, UTC]"
            ]
          },
          "metadata": {
            "tags": []
          },
          "execution_count": 20
        }
      ]
    },
    {
      "cell_type": "markdown",
      "metadata": {
        "id": "l_B7vO_OfWqm",
        "colab_type": "text"
      },
      "source": [
        "#### Test"
      ]
    },
    {
      "cell_type": "code",
      "metadata": {
        "id": "01T6oQI6both",
        "colab_type": "code",
        "colab": {}
      },
      "source": [
        "df_test['DATE'] = pd.to_datetime(df_test['DATE'] , errors = 'coerce', utc = True)"
      ],
      "execution_count": 21,
      "outputs": []
    },
    {
      "cell_type": "code",
      "metadata": {
        "id": "jaAoNxjZb02z",
        "colab_type": "code",
        "colab": {
          "base_uri": "https://localhost:8080/",
          "height": 0
        },
        "outputId": "d8db8148-12d5-42c1-c21d-4786f89806bf"
      },
      "source": [
        "df_test['DATE'].dtypes"
      ],
      "execution_count": 22,
      "outputs": [
        {
          "output_type": "execute_result",
          "data": {
            "text/plain": [
              "datetime64[ns, UTC]"
            ]
          },
          "metadata": {
            "tags": []
          },
          "execution_count": 22
        }
      ]
    },
    {
      "cell_type": "markdown",
      "metadata": {
        "id": "KJTahtUnA_sp",
        "colab_type": "text"
      },
      "source": [
        "### b. Feature extraction from DATE column"
      ]
    },
    {
      "cell_type": "markdown",
      "metadata": {
        "id": "wE31mhBReBsr",
        "colab_type": "text"
      },
      "source": [
        "#### Train"
      ]
    },
    {
      "cell_type": "code",
      "metadata": {
        "id": "5Tuq8cBo_w34",
        "colab_type": "code",
        "colab": {}
      },
      "source": [
        "df_train['YEAR'] = df_train['DATE'].dt.year\n",
        "\n",
        "df_train['MONTH'] = df_train['DATE'].dt.month\n",
        "\n",
        "df_train['DAY'] = df_train['DATE'].dt.day"
      ],
      "execution_count": 23,
      "outputs": []
    },
    {
      "cell_type": "code",
      "metadata": {
        "id": "enzYJbqBKFRh",
        "colab_type": "code",
        "colab": {}
      },
      "source": [
        "# drop DATE  columns\n",
        "df_train.drop(['DATE'], axis=1, inplace=True)"
      ],
      "execution_count": 24,
      "outputs": []
    },
    {
      "cell_type": "markdown",
      "metadata": {
        "id": "uf_2c9Zmd5Hk",
        "colab_type": "text"
      },
      "source": [
        "#### Test"
      ]
    },
    {
      "cell_type": "code",
      "metadata": {
        "colab_type": "code",
        "id": "0le2b5vucbHp",
        "colab": {}
      },
      "source": [
        "df_test['YEAR'] = df_test['DATE'].dt.year\n",
        "\n",
        "df_test['MONTH'] = df_test['DATE'].dt.month\n",
        "\n",
        "df_test['DAY'] = df_test['DATE'].dt.day"
      ],
      "execution_count": 25,
      "outputs": []
    },
    {
      "cell_type": "code",
      "metadata": {
        "colab_type": "code",
        "id": "w7ju036ecbH1",
        "colab": {}
      },
      "source": [
        "# drop DATE  columns\n",
        "df_test.drop(['DATE'], axis=1, inplace=True)"
      ],
      "execution_count": 26,
      "outputs": []
    },
    {
      "cell_type": "markdown",
      "metadata": {
        "id": "O2cDPHReGxEe",
        "colab_type": "text"
      },
      "source": [
        " <a id=section403></a>\n",
        "## 4.3 Removing highly Correlated Columns"
      ]
    },
    {
      "cell_type": "markdown",
      "metadata": {
        "id": "fCKrFXd2IPWn",
        "colab_type": "text"
      },
      "source": [
        "####Train"
      ]
    },
    {
      "cell_type": "code",
      "metadata": {
        "id": "_rWK1_DaG0Ht",
        "colab_type": "code",
        "colab": {
          "base_uri": "https://localhost:8080/",
          "height": 323
        },
        "outputId": "364d89e3-d1de-488a-cd19-98510546b853"
      },
      "source": [
        "feature_cols = list(df_train.columns)\n",
        "feature_cols.remove('MULTIPLE_OFFENSE')\n",
        "feature_cols"
      ],
      "execution_count": 27,
      "outputs": [
        {
          "output_type": "execute_result",
          "data": {
            "text/plain": [
              "['X_1',\n",
              " 'X_2',\n",
              " 'X_3',\n",
              " 'X_4',\n",
              " 'X_5',\n",
              " 'X_6',\n",
              " 'X_7',\n",
              " 'X_8',\n",
              " 'X_9',\n",
              " 'X_10',\n",
              " 'X_11',\n",
              " 'X_12',\n",
              " 'X_13',\n",
              " 'X_14',\n",
              " 'X_15',\n",
              " 'YEAR',\n",
              " 'MONTH',\n",
              " 'DAY']"
            ]
          },
          "metadata": {
            "tags": []
          },
          "execution_count": 27
        }
      ]
    },
    {
      "cell_type": "code",
      "metadata": {
        "id": "X-Ezb5p7HsmW",
        "colab_type": "code",
        "colab": {
          "base_uri": "https://localhost:8080/",
          "height": 34
        },
        "outputId": "a3de80a6-856e-43dc-b7a3-8b43059db250"
      },
      "source": [
        "# extracting highly correlated columns(except target variable) to drop\n",
        "\n",
        "# Create correlation matrix\n",
        "corr_matrix = df_train[feature_cols].corr().abs()\n",
        "\n",
        "# Select upper triangle of correlation matrix\n",
        "upper = corr_matrix.where(np.triu(np.ones(corr_matrix.shape), k=1).astype(np.bool))\n",
        "\n",
        "# Find index of feature columns with correlation greater than 0.80\n",
        "cols_to_drop = [column for column in upper.columns if any(upper[column] > 0.80)]\n",
        "cols_to_drop"
      ],
      "execution_count": 28,
      "outputs": [
        {
          "output_type": "execute_result",
          "data": {
            "text/plain": [
              "['X_3', 'X_12']"
            ]
          },
          "metadata": {
            "tags": []
          },
          "execution_count": 28
        }
      ]
    },
    {
      "cell_type": "code",
      "metadata": {
        "id": "ZqrL9DyaH1Ae",
        "colab_type": "code",
        "colab": {}
      },
      "source": [
        "# lets drop highly correlated columns\n",
        "df_train.drop(cols_to_drop, axis=1, inplace=True)"
      ],
      "execution_count": 29,
      "outputs": []
    },
    {
      "cell_type": "markdown",
      "metadata": {
        "id": "VXHxaUi-ISgm",
        "colab_type": "text"
      },
      "source": [
        "####Test"
      ]
    },
    {
      "cell_type": "code",
      "metadata": {
        "id": "CavEvzW7IZe-",
        "colab_type": "code",
        "colab": {
          "base_uri": "https://localhost:8080/",
          "height": 34
        },
        "outputId": "5aa59865-9372-451e-8cc1-9f23381a09fc"
      },
      "source": [
        "# extracting highly correlated columns(except target variable) to drop\n",
        "\n",
        "# Create correlation matrix\n",
        "corr_matrix = df_test[feature_cols].corr().abs()\n",
        "\n",
        "# Select upper triangle of correlation matrix\n",
        "upper = corr_matrix.where(np.triu(np.ones(corr_matrix.shape), k=1).astype(np.bool))\n",
        "\n",
        "# Find index of feature columns with correlation greater than 0.80\n",
        "cols_to_drop = [column for column in upper.columns if any(upper[column] > 0.70)]\n",
        "cols_to_drop"
      ],
      "execution_count": 30,
      "outputs": [
        {
          "output_type": "execute_result",
          "data": {
            "text/plain": [
              "['X_3', 'X_12']"
            ]
          },
          "metadata": {
            "tags": []
          },
          "execution_count": 30
        }
      ]
    },
    {
      "cell_type": "code",
      "metadata": {
        "id": "0ynxRiSfIdBM",
        "colab_type": "code",
        "colab": {}
      },
      "source": [
        "# lets drop highly correlated columns\n",
        "df_test.drop(cols_to_drop, axis=1, inplace=True)"
      ],
      "execution_count": 31,
      "outputs": []
    },
    {
      "cell_type": "markdown",
      "metadata": {
        "colab_type": "text",
        "id": "XD9qOLKehS2B"
      },
      "source": [
        " <a id=section404></a>\n",
        "## 4.4 Pandas Profiling after Data Preprocessing"
      ]
    },
    {
      "cell_type": "code",
      "metadata": {
        "colab_type": "code",
        "id": "ZAqo69cmhS2V",
        "colab": {}
      },
      "source": [
        "# Running pandas profiling to get better understanding of data\n",
        "\n",
        "#profile =  ProfileReport(df_train, title='Pandas Profiling Report of train data after data preprocessing', html={'style':{'full_width':True}})\n",
        "#profile.to_file(output_file=\"train_report_after_processing.html\")"
      ],
      "execution_count": 32,
      "outputs": []
    },
    {
      "cell_type": "code",
      "metadata": {
        "colab_type": "code",
        "id": "R6KpT-FihS2i",
        "colab": {}
      },
      "source": [
        "#profile =  ProfileReport(df_train, title='Pandas Profiling Report of test data before data preprocessing', html={'style':{'full_width':True}})\n",
        "#profile.to_file(output_file=\"test_report_after_processing.html\")"
      ],
      "execution_count": 33,
      "outputs": []
    },
    {
      "cell_type": "markdown",
      "metadata": {
        "id": "I-pUGiWRM3To",
        "colab_type": "text"
      },
      "source": [
        " <a id=section405></a>\n",
        "## 4.5 Exploratory Data Analysis"
      ]
    },
    {
      "cell_type": "markdown",
      "metadata": {
        "id": "qYFJ3_bNNVaJ",
        "colab_type": "text"
      },
      "source": [
        "**NOTE:**\n",
        "\n",
        "As Univeriate analysis is already done using pandas-profiling, let's do multivariate analysis here."
      ]
    },
    {
      "cell_type": "code",
      "metadata": {
        "id": "Mj6L80pqRyEa",
        "colab_type": "code",
        "colab": {
          "base_uri": "https://localhost:8080/",
          "height": 68
        },
        "outputId": "57f75ce5-dd4d-458f-db28-0eb488bafbad"
      },
      "source": [
        "df_train.columns"
      ],
      "execution_count": 34,
      "outputs": [
        {
          "output_type": "execute_result",
          "data": {
            "text/plain": [
              "Index(['X_1', 'X_2', 'X_4', 'X_5', 'X_6', 'X_7', 'X_8', 'X_9', 'X_10', 'X_11',\n",
              "       'X_13', 'X_14', 'X_15', 'MULTIPLE_OFFENSE', 'YEAR', 'MONTH', 'DAY'],\n",
              "      dtype='object')"
            ]
          },
          "metadata": {
            "tags": []
          },
          "execution_count": 34
        }
      ]
    },
    {
      "cell_type": "markdown",
      "metadata": {
        "id": "VGpdHAUkTfsD",
        "colab_type": "text"
      },
      "source": [
        "### How is hacking behaviour over years?"
      ]
    },
    {
      "cell_type": "code",
      "metadata": {
        "id": "1HS7fz83QwPm",
        "colab_type": "code",
        "colab": {
          "base_uri": "https://localhost:8080/",
          "height": 468
        },
        "outputId": "8b1d89c9-1a5f-4704-aa91-471e39e79bd5"
      },
      "source": [
        "df = pd.DataFrame(\n",
        "\t{\n",
        "\t'Not Hacked': df_train[df_train['MULTIPLE_OFFENSE'] == 0.0]['YEAR'].value_counts(sort=False),\n",
        "  'Hacked': df_train[df_train['MULTIPLE_OFFENSE'] != 1.0]['YEAR'].value_counts(sort=False)\n",
        "\t}\n",
        "\t) \n",
        "df.plot.bar(rot=0,figsize=(25, 7), title='Hacking Behavior over years')"
      ],
      "execution_count": 42,
      "outputs": [
        {
          "output_type": "execute_result",
          "data": {
            "text/plain": [
              "<matplotlib.axes._subplots.AxesSubplot at 0x7f6ebc4d4dd8>"
            ]
          },
          "metadata": {
            "tags": []
          },
          "execution_count": 42
        },
        {
          "output_type": "display_data",
          "data": {
            "image/png": "[encoded data removed]",
            "text/plain": [
              "<Figure size 1800x504 with 1 Axes>"
            ]
          },
          "metadata": {
            "tags": []
          }
        }
      ]
    },
    {
      "cell_type": "markdown",
      "metadata": {
        "id": "fnb0-fTPTg7N",
        "colab_type": "text"
      },
      "source": [
        "### How is hacking behaviour spread across months of an year?\n",
        "\n"
      ]
    },
    {
      "cell_type": "code",
      "metadata": {
        "id": "Z2POOTkMSfzG",
        "colab_type": "code",
        "colab": {
          "base_uri": "https://localhost:8080/",
          "height": 465
        },
        "outputId": "fa562013-89a2-432f-ffd3-dc2d0f574dc5"
      },
      "source": [
        "df = pd.DataFrame(\n",
        "\t{\n",
        "\t'Not Hacked': df_train[df_train['MULTIPLE_OFFENSE'] == 0.0]['MONTH'].value_counts(sort=False),\n",
        "  'Hacked': df_train[df_train['MULTIPLE_OFFENSE'] != 1.0]['MONTH'].value_counts(sort=False)\n",
        "\t}\n",
        "\t) \n",
        "df.plot.bar(rot=0,figsize=(25, 7), title = 'Hacking behaviour spread across months of an year')"
      ],
      "execution_count": 43,
      "outputs": [
        {
          "output_type": "execute_result",
          "data": {
            "text/plain": [
              "<matplotlib.axes._subplots.AxesSubplot at 0x7f6ebc32e8d0>"
            ]
          },
          "metadata": {
            "tags": []
          },
          "execution_count": 43
        },
        {
          "output_type": "display_data",
          "data": {
            "image/png": "[encoded data removed]",
            "text/plain": [
              "<Figure size 1800x504 with 1 Axes>"
            ]
          },
          "metadata": {
            "tags": []
          }
        }
      ]
    },
    {
      "cell_type": "markdown",
      "metadata": {
        "id": "X9ImuXcwTiNF",
        "colab_type": "text"
      },
      "source": [
        "### How is hacking behaviour spread across days of month?"
      ]
    },
    {
      "cell_type": "code",
      "metadata": {
        "id": "xaTjwJ6TSqB3",
        "colab_type": "code",
        "colab": {
          "base_uri": "https://localhost:8080/",
          "height": 468
        },
        "outputId": "fe728017-8624-4836-f623-7ab0c4d93c43"
      },
      "source": [
        "df = pd.DataFrame(\n",
        "\t{\n",
        "\t'Not Hacked': df_train[df_train['MULTIPLE_OFFENSE'] == 0.0]['DAY'].value_counts(sort=False),\n",
        "  'Hacked': df_train[df_train['MULTIPLE_OFFENSE'] != 1.0]['DAY'].value_counts(sort=False)\n",
        "\t}\n",
        "\t)\n",
        "df.plot.bar(rot=0,figsize=(25, 7), title='Hacking behaviour spread across days of month')"
      ],
      "execution_count": 44,
      "outputs": [
        {
          "output_type": "execute_result",
          "data": {
            "text/plain": [
              "<matplotlib.axes._subplots.AxesSubplot at 0x7f6ebbdfb208>"
            ]
          },
          "metadata": {
            "tags": []
          },
          "execution_count": 44
        },
        {
          "output_type": "display_data",
          "data": {
            "image/png": "[encoded data removed]",
            "text/plain": [
              "<Figure size 1800x504 with 1 Axes>"
            ]
          },
          "metadata": {
            "tags": []
          }
        }
      ]
    },
    {
      "cell_type": "markdown",
      "metadata": {
        "colab_type": "text",
        "id": "AK66Ggama2W-"
      },
      "source": [
        " <a id=section5></a>\n",
        "# 5. Data preparation for model building"
      ]
    },
    {
      "cell_type": "code",
      "metadata": {
        "id": "8jCJ086mn45d",
        "colab_type": "code",
        "colab": {
          "base_uri": "https://localhost:8080/",
          "height": 289
        },
        "outputId": "d93fccaf-d28c-4e23-c2c8-79125b70e069"
      },
      "source": [
        "feature_cols = list(df_train.columns)\n",
        "feature_cols.remove('MULTIPLE_OFFENSE')\n",
        "feature_cols"
      ],
      "execution_count": null,
      "outputs": [
        {
          "output_type": "execute_result",
          "data": {
            "text/plain": [
              "['X_1',\n",
              " 'X_2',\n",
              " 'X_4',\n",
              " 'X_5',\n",
              " 'X_6',\n",
              " 'X_7',\n",
              " 'X_8',\n",
              " 'X_9',\n",
              " 'X_10',\n",
              " 'X_11',\n",
              " 'X_13',\n",
              " 'X_14',\n",
              " 'X_15',\n",
              " 'YEAR',\n",
              " 'MONTH',\n",
              " 'DAY']"
            ]
          },
          "metadata": {
            "tags": []
          },
          "execution_count": 34
        }
      ]
    },
    {
      "cell_type": "markdown",
      "metadata": {
        "id": "_vjqxnPiOTdH",
        "colab_type": "text"
      },
      "source": [
        " <a id=section501></a>\n",
        "## 5.1 Standardizing continuos independent variables"
      ]
    },
    {
      "cell_type": "code",
      "metadata": {
        "id": "6DFEONhnNoR4",
        "colab_type": "code",
        "colab": {}
      },
      "source": [
        "from sklearn.preprocessing import StandardScaler\n",
        "sc = StandardScaler()\n",
        "df_train_sd = sc.fit_transform(df_train[feature_cols])\n",
        "df_test_sd = sc.transform(df_test[feature_cols])"
      ],
      "execution_count": null,
      "outputs": []
    },
    {
      "cell_type": "code",
      "metadata": {
        "id": "UWAnnS7mtXpb",
        "colab_type": "code",
        "colab": {}
      },
      "source": [
        "# forming dataframe after standardization\n",
        "df_train_sd = pd.DataFrame(df_train_sd)\n",
        "df_train_sd.columns = feature_cols\n",
        "\n",
        "df_test_sd = pd.DataFrame(df_test_sd)\n",
        "df_test_sd.columns = feature_cols\n",
        "df_test_sd.index = df_test.index"
      ],
      "execution_count": null,
      "outputs": []
    },
    {
      "cell_type": "markdown",
      "metadata": {
        "id": "kh4Up36T8eUb",
        "colab_type": "text"
      },
      "source": [
        " <a id=section502></a>\n",
        "## 5.2 Applying SMOTING for imbalanced data"
      ]
    },
    {
      "cell_type": "code",
      "metadata": {
        "id": "4GuAaz3YMRN9",
        "colab_type": "code",
        "colab": {}
      },
      "source": [
        "X = df_train_sd[feature_cols]\n",
        "y = df_train['MULTIPLE_OFFENSE']"
      ],
      "execution_count": null,
      "outputs": []
    },
    {
      "cell_type": "code",
      "metadata": {
        "id": "SMY2SKyf-Fnf",
        "colab_type": "code",
        "colab": {
          "base_uri": "https://localhost:8080/",
          "height": 68
        },
        "outputId": "4b4c7c0b-b87a-4cab-cc29-4d4205258c6c"
      },
      "source": [
        "# Check distribution of target variable\n",
        "y.value_counts() "
      ],
      "execution_count": null,
      "outputs": [
        {
          "output_type": "execute_result",
          "data": {
            "text/plain": [
              "1    22788\n",
              "0    1068 \n",
              "Name: MULTIPLE_OFFENSE, dtype: int64"
            ]
          },
          "metadata": {
            "tags": []
          },
          "execution_count": 38
        }
      ]
    },
    {
      "cell_type": "markdown",
      "metadata": {
        "id": "t2HO3I8l-RYp",
        "colab_type": "text"
      },
      "source": [
        "**NOTE:**\n",
        "\n",
        "We can clearly observe there is class imbalance in target variable. Let's apply **SMOTING**"
      ]
    },
    {
      "cell_type": "code",
      "metadata": {
        "id": "1FZWul63-fet",
        "colab_type": "code",
        "colab": {}
      },
      "source": [
        "from imblearn.over_sampling import SMOTE \n",
        "sm = SMOTE(random_state = 2) \n",
        "X_sm, y_sm = sm.fit_sample(X, y.ravel())\n",
        "\n",
        "X = pd.DataFrame(X_sm,columns = X.columns)\n",
        "y = pd.Series(y_sm)"
      ],
      "execution_count": null,
      "outputs": []
    },
    {
      "cell_type": "code",
      "metadata": {
        "id": "AD-f7XWkA-KI",
        "colab_type": "code",
        "colab": {
          "base_uri": "https://localhost:8080/",
          "height": 68
        },
        "outputId": "840f0034-5655-4d57-8ca3-0f038b19ae0d"
      },
      "source": [
        "# Check distribution of target variable\n",
        "y.value_counts()"
      ],
      "execution_count": null,
      "outputs": [
        {
          "output_type": "execute_result",
          "data": {
            "text/plain": [
              "1    22788\n",
              "0    22788\n",
              "dtype: int64"
            ]
          },
          "metadata": {
            "tags": []
          },
          "execution_count": 40
        }
      ]
    },
    {
      "cell_type": "markdown",
      "metadata": {
        "id": "p6UMK7NRokkt",
        "colab_type": "text"
      },
      "source": [
        "<a id=section503></a>\n",
        " ## 5.3 Segregating Train and Validation data"
      ]
    },
    {
      "cell_type": "code",
      "metadata": {
        "id": "dlQxCBAFt473",
        "colab_type": "code",
        "colab": {}
      },
      "source": [
        "from sklearn.model_selection import train_test_split\n",
        "X_train, X_test, y_train, y_test = train_test_split(X, y,\n",
        "                                                   stratify=y, \n",
        "                                                    test_size=0.3)"
      ],
      "execution_count": null,
      "outputs": []
    },
    {
      "cell_type": "code",
      "metadata": {
        "id": "C9_5nWK-4T_a",
        "colab_type": "code",
        "colab": {
          "base_uri": "https://localhost:8080/",
          "height": 136
        },
        "outputId": "01d3d7d2-d7d9-469d-ff6e-14d97f347dba"
      },
      "source": [
        "print('Train cases as below')\n",
        "print('X_train shape: ',X_train.shape)\n",
        "print('y_train shape: ',y_train.shape)\n",
        "print('\\nTest cases as below')\n",
        "print('X_test shape: ',X_test.shape)\n",
        "print('y_test shape: ',y_test.shape)"
      ],
      "execution_count": null,
      "outputs": [
        {
          "output_type": "stream",
          "text": [
            "Train cases as below\n",
            "X_train shape:  (31903, 16)\n",
            "y_train shape:  (31903,)\n",
            "\n",
            "Test cases as below\n",
            "X_test shape:  (13673, 16)\n",
            "y_test shape:  (13673,)\n"
          ],
          "name": "stdout"
        }
      ]
    },
    {
      "cell_type": "markdown",
      "metadata": {
        "id": "WXf9HrBBWb0_",
        "colab_type": "text"
      },
      "source": [
        " <a id=section6></a>\n",
        " # 6. Ensemble Modelling and Prediction\n",
        " \n",
        " Ensemble modeling is a process where multiple diverse models are created to predict an outcome, either by using many different modeling algorithms or using different training data sets. The ensemble model then aggregates the prediction of each base model and results in once final prediction for the unseen data.\n"
      ]
    },
    {
      "cell_type": "markdown",
      "metadata": {
        "id": "TCAv2-X0E592",
        "colab_type": "text"
      },
      "source": [
        " <a id=section601></a>\n",
        " ## 6.1 Logistic Regression\n",
        " \n",
        " \n",
        "Logistic regression is the appropriate regression analysis to conduct when the dependent variable is dichotomous (binary).  Like all regression analyses, the logistic regression is a predictive analysis.  Logistic regression is used to describe data and to explain the relationship between one dependent binary variable and one or more nominal, ordinal, interval or ratio-level independent variables.\n",
        "\n",
        "Sometimes logistic regressions are difficult to interpret; the Intellectus Statistics tool easily allows you to conduct the analysis, then in plain English interprets the output.\n",
        "\n",
        "Logistic Regression was used in the biological sciences in early twentieth century. It was then used in many social science applications. Logistic Regression is used when the dependent variable(target) is categorical.\n",
        "\n",
        "For example,\n",
        "1. To predict whether an email is spam (1) or (0)\n",
        "1. Whether the tumor is malignant (1) or not (0)\n"
      ]
    },
    {
      "cell_type": "code",
      "metadata": {
        "id": "V7Ho8rzZE5BB",
        "colab_type": "code",
        "colab": {
          "base_uri": "https://localhost:8080/",
          "height": 391
        },
        "outputId": "60da2472-b285-40aa-ce16-397b6dd94881"
      },
      "source": [
        "from sklearn.linear_model import LogisticRegression\n",
        "from sklearn.metrics import confusion_matrix, classification_report\n",
        "\n",
        "logistic = LogisticRegression(class_weight='balanced')\n",
        "logistic.fit(X_train, y_train)\n",
        "\n",
        "logistic_train_preds = logistic.predict(X_train)\n",
        "logistic_test_preds = logistic.predict(X_test)\n",
        "\n",
        "print(confusion_matrix(y_train, logistic_train_preds))\n",
        "print(confusion_matrix(y_test, logistic_test_preds))\n",
        "\n",
        "print(classification_report(y_train, logistic_train_preds))\n",
        "print(classification_report(y_test, logistic_test_preds))"
      ],
      "execution_count": null,
      "outputs": [
        {
          "output_type": "stream",
          "text": [
            "[[14075  1877]\n",
            " [ 1785 14166]]\n",
            "[[6050  786]\n",
            " [ 746 6091]]\n",
            "              precision    recall  f1-score   support\n",
            "\n",
            "           0       0.89      0.88      0.88     15952\n",
            "           1       0.88      0.89      0.89     15951\n",
            "\n",
            "    accuracy                           0.89     31903\n",
            "   macro avg       0.89      0.89      0.89     31903\n",
            "weighted avg       0.89      0.89      0.89     31903\n",
            "\n",
            "              precision    recall  f1-score   support\n",
            "\n",
            "           0       0.89      0.89      0.89      6836\n",
            "           1       0.89      0.89      0.89      6837\n",
            "\n",
            "    accuracy                           0.89     13673\n",
            "   macro avg       0.89      0.89      0.89     13673\n",
            "weighted avg       0.89      0.89      0.89     13673\n",
            "\n"
          ],
          "name": "stdout"
        }
      ]
    },
    {
      "cell_type": "markdown",
      "metadata": {
        "id": "PrE3pTZAlMQ_",
        "colab_type": "text"
      },
      "source": [
        " <a id=section602></a>\n",
        " ## 6.2 Random Forest"
      ]
    },
    {
      "cell_type": "code",
      "metadata": {
        "id": "RodKhrd8OcNT",
        "colab_type": "code",
        "colab": {
          "base_uri": "https://localhost:8080/",
          "height": 391
        },
        "outputId": "020ba66b-85cb-4e06-9f1d-443cf5252459"
      },
      "source": [
        "from sklearn.ensemble import RandomForestClassifier\n",
        "rf = RandomForestClassifier(n_estimators = 600, criterion = 'entropy', random_state = 0)\n",
        "rf.fit(X_train, y_train)\n",
        "\n",
        "rf_train_preds = rf.predict(X_train)\n",
        "rf_test_preds = rf.predict(X_test)\n",
        "\n",
        "print(confusion_matrix(y_train, rf_train_preds))\n",
        "print(confusion_matrix(y_test, rf_test_preds))\n",
        "\n",
        "print(classification_report(y_train, rf_train_preds))\n",
        "print(classification_report(y_test, rf_test_preds))"
      ],
      "execution_count": null,
      "outputs": [
        {
          "output_type": "stream",
          "text": [
            "[[15952     0]\n",
            " [    0 15951]]\n",
            "[[6832    4]\n",
            " [  32 6805]]\n",
            "              precision    recall  f1-score   support\n",
            "\n",
            "           0       1.00      1.00      1.00     15952\n",
            "           1       1.00      1.00      1.00     15951\n",
            "\n",
            "    accuracy                           1.00     31903\n",
            "   macro avg       1.00      1.00      1.00     31903\n",
            "weighted avg       1.00      1.00      1.00     31903\n",
            "\n",
            "              precision    recall  f1-score   support\n",
            "\n",
            "           0       1.00      1.00      1.00      6836\n",
            "           1       1.00      1.00      1.00      6837\n",
            "\n",
            "    accuracy                           1.00     13673\n",
            "   macro avg       1.00      1.00      1.00     13673\n",
            "weighted avg       1.00      1.00      1.00     13673\n",
            "\n"
          ],
          "name": "stdout"
        }
      ]
    },
    {
      "cell_type": "markdown",
      "metadata": {
        "id": "jj9I1jYNWNiK",
        "colab_type": "text"
      },
      "source": [
        " <a id=section603></a>\n",
        "## 6.3 KNN"
      ]
    },
    {
      "cell_type": "code",
      "metadata": {
        "id": "y7UzvvQDWNiL",
        "colab_type": "code",
        "colab": {}
      },
      "source": [
        "from sklearn.neighbors import KNeighborsClassifier\n",
        "from sklearn.metrics import recall_score,accuracy_score,f1_score\n",
        "\n",
        "train_performance={}\n",
        "test_performance={}\n",
        " \n",
        "for k in range(1,25,2):\n",
        "    knn_temp=KNeighborsClassifier(n_neighbors=k,weights='distance')\n",
        "    knn_temp.fit(X_train,y_train)\n",
        "    k_train_preds=knn_temp.predict(X_train)\n",
        "    k_test_preds=knn_temp.predict(X_test)\n",
        "    train_performance[k]=recall_score(y_train,k_train_preds, average='weighted')\n",
        "    test_performance[k]=recall_score(y_test,k_test_preds, average='weighted')"
      ],
      "execution_count": null,
      "outputs": []
    },
    {
      "cell_type": "code",
      "metadata": {
        "id": "DC3zxJqOWNiQ",
        "colab_type": "code",
        "colab": {}
      },
      "source": [
        "keys = test_performance.keys()\n",
        "train_values = train_performance.values()\n",
        "test_values = test_performance.values()"
      ],
      "execution_count": null,
      "outputs": []
    },
    {
      "cell_type": "code",
      "metadata": {
        "id": "-ouutcqJWNiT",
        "colab_type": "code",
        "colab": {}
      },
      "source": [
        "perf=pd.DataFrame()\n",
        "perf['k']= keys\n",
        "perf['train_performance']= train_values\n",
        "perf['test_performance']= test_values"
      ],
      "execution_count": null,
      "outputs": []
    },
    {
      "cell_type": "code",
      "metadata": {
        "id": "_c_RCGC3WNiV",
        "colab_type": "code",
        "colab": {
          "base_uri": "https://localhost:8080/",
          "height": 421
        },
        "outputId": "1a340d41-1426-4c6b-cc8c-c8c818e0c469"
      },
      "source": [
        "perf.sort_values(by='test_performance', ascending=False, axis=0)"
      ],
      "execution_count": null,
      "outputs": [
        {
          "output_type": "execute_result",
          "data": {
            "text/html": [
              "<div>\n",
              "<style scoped>\n",
              "    .dataframe tbody tr th:only-of-type {\n",
              "        vertical-align: middle;\n",
              "    }\n",
              "\n",
              "    .dataframe tbody tr th {\n",
              "        vertical-align: top;\n",
              "    }\n",
              "\n",
              "    .dataframe thead th {\n",
              "        text-align: right;\n",
              "    }\n",
              "</style>\n",
              "<table border=\"1\" class=\"dataframe\">\n",
              "  <thead>\n",
              "    <tr style=\"text-align: right;\">\n",
              "      <th></th>\n",
              "      <th>k</th>\n",
              "      <th>train_performance</th>\n",
              "      <th>test_performance</th>\n",
              "    </tr>\n",
              "  </thead>\n",
              "  <tbody>\n",
              "    <tr>\n",
              "      <th>0</th>\n",
              "      <td>1</td>\n",
              "      <td>1.0</td>\n",
              "      <td>0.973817</td>\n",
              "    </tr>\n",
              "    <tr>\n",
              "      <th>1</th>\n",
              "      <td>3</td>\n",
              "      <td>1.0</td>\n",
              "      <td>0.958019</td>\n",
              "    </tr>\n",
              "    <tr>\n",
              "      <th>2</th>\n",
              "      <td>5</td>\n",
              "      <td>1.0</td>\n",
              "      <td>0.946903</td>\n",
              "    </tr>\n",
              "    <tr>\n",
              "      <th>3</th>\n",
              "      <td>7</td>\n",
              "      <td>1.0</td>\n",
              "      <td>0.937029</td>\n",
              "    </tr>\n",
              "    <tr>\n",
              "      <th>4</th>\n",
              "      <td>9</td>\n",
              "      <td>1.0</td>\n",
              "      <td>0.929569</td>\n",
              "    </tr>\n",
              "    <tr>\n",
              "      <th>5</th>\n",
              "      <td>11</td>\n",
              "      <td>1.0</td>\n",
              "      <td>0.923645</td>\n",
              "    </tr>\n",
              "    <tr>\n",
              "      <th>6</th>\n",
              "      <td>13</td>\n",
              "      <td>1.0</td>\n",
              "      <td>0.918379</td>\n",
              "    </tr>\n",
              "    <tr>\n",
              "      <th>7</th>\n",
              "      <td>15</td>\n",
              "      <td>1.0</td>\n",
              "      <td>0.913333</td>\n",
              "    </tr>\n",
              "    <tr>\n",
              "      <th>8</th>\n",
              "      <td>17</td>\n",
              "      <td>1.0</td>\n",
              "      <td>0.908798</td>\n",
              "    </tr>\n",
              "    <tr>\n",
              "      <th>9</th>\n",
              "      <td>19</td>\n",
              "      <td>1.0</td>\n",
              "      <td>0.907482</td>\n",
              "    </tr>\n",
              "    <tr>\n",
              "      <th>10</th>\n",
              "      <td>21</td>\n",
              "      <td>1.0</td>\n",
              "      <td>0.904922</td>\n",
              "    </tr>\n",
              "    <tr>\n",
              "      <th>11</th>\n",
              "      <td>23</td>\n",
              "      <td>1.0</td>\n",
              "      <td>0.903459</td>\n",
              "    </tr>\n",
              "  </tbody>\n",
              "</table>\n",
              "</div>"
            ],
            "text/plain": [
              "     k  train_performance  test_performance\n",
              "0   1   1.0                0.973817        \n",
              "1   3   1.0                0.958019        \n",
              "2   5   1.0                0.946903        \n",
              "3   7   1.0                0.937029        \n",
              "4   9   1.0                0.929569        \n",
              "5   11  1.0                0.923645        \n",
              "6   13  1.0                0.918379        \n",
              "7   15  1.0                0.913333        \n",
              "8   17  1.0                0.908798        \n",
              "9   19  1.0                0.907482        \n",
              "10  21  1.0                0.904922        \n",
              "11  23  1.0                0.903459        "
            ]
          },
          "metadata": {
            "tags": []
          },
          "execution_count": 49
        }
      ]
    },
    {
      "cell_type": "code",
      "metadata": {
        "id": "NtT1Z2dymgUD",
        "colab_type": "code",
        "colab": {
          "base_uri": "https://localhost:8080/",
          "height": 391
        },
        "outputId": "3422b92a-14e5-4167-dc84-394cb31ce795"
      },
      "source": [
        "knn=KNeighborsClassifier(n_neighbors=1,weights='distance')\n",
        "knn.fit(X_train,y_train)\n",
        "\n",
        "knn_train_preds = knn.predict(X_train)\n",
        "knn_test_preds = knn.predict(X_test)\n",
        "\n",
        "print(confusion_matrix(y_train, knn_train_preds))\n",
        "print(confusion_matrix(y_test, knn_test_preds))\n",
        "\n",
        "print(classification_report(y_train, knn_train_preds))\n",
        "print(classification_report(y_test, knn_test_preds))"
      ],
      "execution_count": null,
      "outputs": [
        {
          "output_type": "stream",
          "text": [
            "[[15952     0]\n",
            " [    0 15951]]\n",
            "[[6834    2]\n",
            " [ 356 6481]]\n",
            "              precision    recall  f1-score   support\n",
            "\n",
            "           0       1.00      1.00      1.00     15952\n",
            "           1       1.00      1.00      1.00     15951\n",
            "\n",
            "    accuracy                           1.00     31903\n",
            "   macro avg       1.00      1.00      1.00     31903\n",
            "weighted avg       1.00      1.00      1.00     31903\n",
            "\n",
            "              precision    recall  f1-score   support\n",
            "\n",
            "           0       0.95      1.00      0.97      6836\n",
            "           1       1.00      0.95      0.97      6837\n",
            "\n",
            "    accuracy                           0.97     13673\n",
            "   macro avg       0.98      0.97      0.97     13673\n",
            "weighted avg       0.98      0.97      0.97     13673\n",
            "\n"
          ],
          "name": "stdout"
        }
      ]
    },
    {
      "cell_type": "markdown",
      "metadata": {
        "id": "trJwfHvUWNib",
        "colab_type": "text"
      },
      "source": [
        " <a id=section604></a>\n",
        "## 6.4 Naive Bayes "
      ]
    },
    {
      "cell_type": "code",
      "metadata": {
        "id": "7TWlLkcjWNic",
        "colab_type": "code",
        "colab": {
          "base_uri": "https://localhost:8080/",
          "height": 391
        },
        "outputId": "a7ab5bbc-7f4c-4638-817b-ce2cea3e977e"
      },
      "source": [
        "from sklearn.naive_bayes import GaussianNB\n",
        "# Naive Bayes classification\n",
        "gnb = GaussianNB(priors=None)\n",
        "\n",
        "# Train classifier\n",
        "gnb.fit(X_train,y_train)\n",
        "\n",
        "gnb_train_preds = gnb.predict(X_train)\n",
        "gnb_test_preds = gnb.predict(X_test)\n",
        "\n",
        "print(confusion_matrix(y_train, gnb_train_preds))\n",
        "print(confusion_matrix(y_test, gnb_test_preds))\n",
        "\n",
        "print(classification_report(y_train, gnb_train_preds))\n",
        "print(classification_report(y_test, gnb_test_preds))"
      ],
      "execution_count": null,
      "outputs": [
        {
          "output_type": "stream",
          "text": [
            "[[12139  3813]\n",
            " [ 1867 14084]]\n",
            "[[5223 1613]\n",
            " [ 797 6040]]\n",
            "              precision    recall  f1-score   support\n",
            "\n",
            "           0       0.87      0.76      0.81     15952\n",
            "           1       0.79      0.88      0.83     15951\n",
            "\n",
            "    accuracy                           0.82     31903\n",
            "   macro avg       0.83      0.82      0.82     31903\n",
            "weighted avg       0.83      0.82      0.82     31903\n",
            "\n",
            "              precision    recall  f1-score   support\n",
            "\n",
            "           0       0.87      0.76      0.81      6836\n",
            "           1       0.79      0.88      0.83      6837\n",
            "\n",
            "    accuracy                           0.82     13673\n",
            "   macro avg       0.83      0.82      0.82     13673\n",
            "weighted avg       0.83      0.82      0.82     13673\n",
            "\n"
          ],
          "name": "stdout"
        }
      ]
    },
    {
      "cell_type": "markdown",
      "metadata": {
        "id": "e77LdKW1WNik",
        "colab_type": "text"
      },
      "source": [
        " <a id=section605></a>\n",
        "## 6.5 SVM"
      ]
    },
    {
      "cell_type": "code",
      "metadata": {
        "id": "hcgnMq39WNik",
        "colab_type": "code",
        "colab": {
          "base_uri": "https://localhost:8080/",
          "height": 391
        },
        "outputId": "60214a7a-d734-4491-9706-23ef5d41114d"
      },
      "source": [
        "# SVM\n",
        "from sklearn import svm\n",
        "model_svm = svm.SVC(probability=True, kernel='rbf', degree = 3)\n",
        "model_svm.fit(X_train, y_train)\n",
        "\n",
        "model_svm_train_preds = model_svm.predict(X_train)\n",
        "model_svm_test_preds = model_svm.predict(X_test)\n",
        "\n",
        "print(confusion_matrix(y_train, model_svm_train_preds))\n",
        "print(confusion_matrix(y_test, model_svm_test_preds))\n",
        "\n",
        "print(classification_report(y_train, model_svm_train_preds))\n",
        "print(classification_report(y_test, model_svm_test_preds))"
      ],
      "execution_count": null,
      "outputs": [
        {
          "output_type": "stream",
          "text": [
            "[[15820   132]\n",
            " [  990 14961]]\n",
            "[[6762   74]\n",
            " [ 456 6381]]\n",
            "              precision    recall  f1-score   support\n",
            "\n",
            "           0       0.94      0.99      0.97     15952\n",
            "           1       0.99      0.94      0.96     15951\n",
            "\n",
            "    accuracy                           0.96     31903\n",
            "   macro avg       0.97      0.96      0.96     31903\n",
            "weighted avg       0.97      0.96      0.96     31903\n",
            "\n",
            "              precision    recall  f1-score   support\n",
            "\n",
            "           0       0.94      0.99      0.96      6836\n",
            "           1       0.99      0.93      0.96      6837\n",
            "\n",
            "    accuracy                           0.96     13673\n",
            "   macro avg       0.96      0.96      0.96     13673\n",
            "weighted avg       0.96      0.96      0.96     13673\n",
            "\n"
          ],
          "name": "stdout"
        }
      ]
    },
    {
      "cell_type": "markdown",
      "metadata": {
        "id": "DnjDpSTjMxJ0",
        "colab_type": "text"
      },
      "source": [
        " <a id=section7></a>\n",
        "# 7. Conclusion"
      ]
    },
    {
      "cell_type": "markdown",
      "metadata": {
        "id": "6iPa-9TaNBMt",
        "colab_type": "text"
      },
      "source": [
        "**NOTE: **\n",
        "\n",
        "From above models, it is clearly evident that **Random Forest has best Recall score** for both train and validation data. Let's use it for final model prediction."
      ]
    },
    {
      "cell_type": "code",
      "metadata": {
        "id": "yOAyskykNwak",
        "colab_type": "code",
        "colab": {}
      },
      "source": [
        "final_predictions = rf.predict(df_test_sd)"
      ],
      "execution_count": null,
      "outputs": []
    },
    {
      "cell_type": "code",
      "metadata": {
        "id": "AGkijmA8PCCC",
        "colab_type": "code",
        "colab": {}
      },
      "source": [
        "final_preds = pd.DataFrame({'MULTIPLE_OFFENSE':final_predictions})\n",
        "final_preds.index = df_test_sd.index;\n",
        "final_preds.to_csv('final_preds.csv')"
      ],
      "execution_count": null,
      "outputs": []
    }
  ]
}