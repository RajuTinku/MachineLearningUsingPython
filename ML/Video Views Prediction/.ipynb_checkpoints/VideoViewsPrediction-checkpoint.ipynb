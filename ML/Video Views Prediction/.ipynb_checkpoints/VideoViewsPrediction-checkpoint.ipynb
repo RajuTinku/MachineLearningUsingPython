{
 "cells": [
  {
   "cell_type": "markdown",
   "metadata": {
    "colab_type": "text",
    "id": "sAN3u_oDuBm5"
   },
   "source": [
    "# Video Views Prediction\n",
    "\n",
    "\n",
    "<img src=\"https://ak1.picdn.net/shutterstock/videos/31824931/thumb/12.jpg\" height='400px' width='100%'><br/>\n",
    "\n",
    "\n",
    "\n"
   ]
  },
  {
   "cell_type": "markdown",
   "metadata": {
    "colab_type": "text",
    "id": "LG7BLwfnuBm8"
   },
   "source": [
    "## Table of Contents\n",
    "\n",
    "1. [Problem Statement](#section1)<br>\n",
    "2. [Importing Packages](#section2)<br>\n",
    "3. [Loading Data](#section3)<br>\n",
    "  - 3.1 [Description of the Datasets](#section301)<br>\n",
    "  - 3.2 [Pandas Profiling before Data Preprocessing](#section302)<br>\n",
    "4. [Data Preprocessing](#section4)<br>\n",
    "  - 4.1 [Filling missing values](#section401)<br>\n",
    "  - 4.2 [Remove highly correlated columns](#section402)<br>\n",
    "  - 4.3 [Handling Outliers](#section403)<br>\n",
    "  - 4.4 [Pandas Profiling after Data Preprocessing](#section404)<br>\n",
    "  - 4.5 [Exploratory Data Analysis](#section405)<br>\n",
    "5. [Data preparation for model building](#section5)<br>\n",
    "  - 5.1 [Dummification / One-Hot Encoding](#section501)<br>\n",
    "  - 5.2 [Standardizing continuos independent variables](#section502)<br>\n",
    "  - 5.3 [Segregating Train and Test data](#section503)<br>\n",
    "6. [Ensemble Modelling and Prediction](#section6)<br>  \n",
    "  - 6.1 [Linear Regression](#section601)\n",
    "      - 6.1.1 [Checking assumptions of Linear Regression](#section60101)\n",
    "      - 6.1.2 [Using Default Model](#section60102)\n",
    "          - 6.1.2.1 [Building Model and Predictionl](#section6010201)\n",
    "          - 6.1.2.2 [Model Evaluation](#section6010202)\n",
    "      - 6.1.3 [Using GridSearchCV](#section60103)\n",
    "          - 6.1.2.1 [Building Model and Predictionl](#section6010301)\n",
    "          - 6.1.2.2 [Model Evaluation](#section6010301)\n",
    "       - 6.1.4 [Using RandomSearchCV](#section60104)\n",
    "          - 6.1.2.1 [Building Model and Predictionl](#section6010401)\n",
    "          - 6.1.2.2 [Model Evaluation](#section6010401)\n",
    "  - 6.2 [Decision Tree](#section602)\n",
    "      - 6.2.1 [Using Default Model](#section60201)\n",
    "          - 6.2.1.1 [Building Model and Predictionl](#section6020101)\n",
    "          - 6.2.1.2 [Model Evaluation](#section6020102)\n",
    "      - 6.2.2 [Using GridSearchCV](#section60202)\n",
    "          - 6.2.2.1 [Building Model and Predictionl](#section6020201)\n",
    "          - 6.2.2.2 [Model Evaluation](#section6020202)\n",
    "      - 6.2.3 [Using RandomSearchCV](#section60203)\n",
    "          - 6.2.3.1 [Building Model and Predictionl](#section6020301)\n",
    "          - 6.2.3.2 [Model Evaluation](#section6020302)\n",
    "  - 6.3 [Random Forest](#section603)\n",
    "      - 6.3.1 [Using Default Model](#section60301)\n",
    "          - 6.3.1.1 [Building Model and Predictionl](#section6030101)\n",
    "          - 6.1.2.2 [Model Evaluation](#section6030102)\n",
    "      - 6.3.2 [Using GridSearchCV](#section60302)\n",
    "          - 6.3.2.1 [Building Model and Predictionl](#section6030201)\n",
    "          - 6.3.2.2 [Model Evaluation](#section6030202)\n",
    "      - 6.3.3 [Using RandomSearchCV](#section60303)\n",
    "          - 6.3.3.1 [Building Model and Predictionl](#section6030301)\n",
    "          - 6.3.3.2 [Model Evaluation](#section6030302)\n",
    "7.  [Conclusion](#section7)<br>\n",
    "    - 7.1 [Choosing Best Model for Prediction](#section701)\n",
    "    - 7.2 [Final Prediction](#section702)"
   ]
  },
  {
   "cell_type": "markdown",
   "metadata": {
    "colab_type": "text",
    "id": "XVvbAcEYuBm9"
   },
   "source": [
    "<a id=section1></a>\n",
    "# 1. Problem Statement"
   ]
  },
  {
   "cell_type": "markdown",
   "metadata": {
    "colab_type": "text",
    "id": "yKqk3jdFuBm-"
   },
   "source": [
    "The objective of the problem is to predict values “Views” attribute from the given features of the Test data. "
   ]
  },
  {
   "cell_type": "markdown",
   "metadata": {
    "colab_type": "text",
    "id": "uSNOiIKWuBm_"
   },
   "source": [
    "<a id=section2></a>\n",
    "# 2. Importing Packages"
   ]
  },
  {
   "cell_type": "code",
   "execution_count": 20,
   "metadata": {
    "colab": {},
    "colab_type": "code",
    "id": "D260ESLXuBnA"
   },
   "outputs": [],
   "source": [
    "import numpy as np                     \n",
    "\n",
    "import pandas as pd\n",
    "\n",
    "# To suppress pandas warnings.\n",
    "pd.set_option('mode.chained_assignment', None) \n",
    "\n",
    "# To display all the data in each column\n",
    "pd.set_option('display.max_colwidth', -1)         \n",
    "\n",
    "pd.get_option(\"display.max_rows\",10000)\n",
    "\n",
    "# To display every column of the dataset in head()\n",
    "pd.options.display.max_columns = 100               \n",
    "\n",
    "import warnings\n",
    "warnings.filterwarnings('ignore')     "
   ]
  },
  {
   "cell_type": "code",
   "execution_count": 21,
   "metadata": {
    "colab": {},
    "colab_type": "code",
    "id": "UGuvARRluBnE"
   },
   "outputs": [],
   "source": [
    "import matplotlib.pyplot as plt\n",
    "%matplotlib inline\n",
    "\n",
    "# To apply seaborn styles to the plots.\n",
    "import seaborn as sns\n",
    "sns.set(style='whitegrid', font_scale=1.3, color_codes=True)      "
   ]
  },
  {
   "cell_type": "markdown",
   "metadata": {
    "colab_type": "text",
    "id": "hlZMR7F_uBnH"
   },
   "source": [
    "<a id=section3></a>\n",
    "\n",
    "# 3. Loading Data"
   ]
  },
  {
   "cell_type": "code",
   "execution_count": 22,
   "metadata": {
    "colab": {
     "base_uri": "https://localhost:8080/",
     "height": 514
    },
    "colab_type": "code",
    "executionInfo": {
     "elapsed": 7361,
     "status": "ok",
     "timestamp": 1578828651118,
     "user": {
      "displayName": "Raju MLN",
      "photoUrl": "https://lh3.googleusercontent.com/a-/AAuE7mDdD2F6AP4ITC-wA3nNzvUXQvvOKRA6SGtqecOz2w=s64",
      "userId": "08235794127640337009"
     },
     "user_tz": -330
    },
    "id": "JRDgBaAMuBnI",
    "outputId": "25bb601a-d1d8-487a-caab-a1a5ec9036f1",
    "scrolled": true
   },
   "outputs": [
    {
     "name": "stdout",
     "output_type": "stream",
     "text": [
      "(3198, 20)\n",
      "(1335, 17)\n"
     ]
    }
   ],
   "source": [
    "# loading data from csv file to a data frame\n",
    "df_train = pd.read_csv('./data/train.csv', index_col = \"Video_id\")\n",
    "df_test = pd.read_csv('./data/test.csv', index_col = \"Video_id\")\n",
    "\n",
    "print(df_train.shape)\n",
    "print(df_test.shape)"
   ]
  },
  {
   "cell_type": "markdown",
   "metadata": {},
   "source": [
    "**NOTE :** we observe mismatch in numbers of columns in train and test. lets find out them."
   ]
  },
  {
   "cell_type": "code",
   "execution_count": 23,
   "metadata": {},
   "outputs": [
    {
     "data": {
      "text/plain": [
       "{'Unnamed: 19', 'Unnamed: 20', 'views'}"
      ]
     },
     "execution_count": 23,
     "metadata": {},
     "output_type": "execute_result"
    }
   ],
   "source": [
    "set(df_train.columns) - set(df_test.columns)"
   ]
  },
  {
   "cell_type": "markdown",
   "metadata": {},
   "source": [
    "**NOTE :**\n",
    "\n",
    "1. **views** ia target variable, we can ignore it.\n",
    "2. let's understand remaining columns i.e;'Unnamed: 19', 'Unnamed: 20'"
   ]
  },
  {
   "cell_type": "code",
   "execution_count": 24,
   "metadata": {
    "scrolled": true
   },
   "outputs": [
    {
     "data": {
      "text/plain": [
       "2544.0    1\n",
       "Name: Unnamed: 19, dtype: int64"
      ]
     },
     "execution_count": 24,
     "metadata": {},
     "output_type": "execute_result"
    }
   ],
   "source": [
    "df_train['Unnamed: 19'].value_counts()"
   ]
  },
  {
   "cell_type": "code",
   "execution_count": 25,
   "metadata": {
    "scrolled": true
   },
   "outputs": [
    {
     "data": {
      "text/plain": [
       "False    1\n",
       "Name: Unnamed: 20, dtype: int64"
      ]
     },
     "execution_count": 25,
     "metadata": {},
     "output_type": "execute_result"
    }
   ],
   "source": [
    "df_train['Unnamed: 20'].value_counts()"
   ]
  },
  {
   "cell_type": "markdown",
   "metadata": {},
   "source": [
    "**NOTE :** We observe **Unnamed: 19, Unnamed: 20** has values in only one row. let's delete that row data  and make train data clean and columns as well."
   ]
  },
  {
   "cell_type": "code",
   "execution_count": 28,
   "metadata": {},
   "outputs": [
    {
     "data": {
      "text/plain": [
       "(3198, 18)"
      ]
     },
     "execution_count": 28,
     "metadata": {},
     "output_type": "execute_result"
    }
   ],
   "source": [
    "df_train = df_train[(df_train['Unnamed: 19'] != '2544.0') | (df_train['Unnamed: 20'] != False)]\n",
    "df_train.drop(['Unnamed: 19', 'Unnamed: 20'], axis = 1, inplace = True)\n",
    "df_train.shape"
   ]
  },
  {
   "cell_type": "code",
   "execution_count": 29,
   "metadata": {},
   "outputs": [
    {
     "data": {
      "text/html": [
       "<div>\n",
       "<style scoped>\n",
       "    .dataframe tbody tr th:only-of-type {\n",
       "        vertical-align: middle;\n",
       "    }\n",
       "\n",
       "    .dataframe tbody tr th {\n",
       "        vertical-align: top;\n",
       "    }\n",
       "\n",
       "    .dataframe thead th {\n",
       "        text-align: right;\n",
       "    }\n",
       "</style>\n",
       "<table border=\"1\" class=\"dataframe\">\n",
       "  <thead>\n",
       "    <tr style=\"text-align: right;\">\n",
       "      <th></th>\n",
       "      <th>Is_Test_Data</th>\n",
       "      <th>Tag_count</th>\n",
       "      <th>Trend_day_count</th>\n",
       "      <th>Trend_tag_count</th>\n",
       "      <th>category_id</th>\n",
       "      <th>channel_title</th>\n",
       "      <th>comment_count</th>\n",
       "      <th>comment_disabled</th>\n",
       "      <th>description</th>\n",
       "      <th>dislike</th>\n",
       "      <th>like dislike disabled</th>\n",
       "      <th>likes</th>\n",
       "      <th>publish_date</th>\n",
       "      <th>subscriber</th>\n",
       "      <th>tag appered in title</th>\n",
       "      <th>tags</th>\n",
       "      <th>title</th>\n",
       "      <th>trending_date</th>\n",
       "      <th>views</th>\n",
       "    </tr>\n",
       "    <tr>\n",
       "      <th>Video_id</th>\n",
       "      <th></th>\n",
       "      <th></th>\n",
       "      <th></th>\n",
       "      <th></th>\n",
       "      <th></th>\n",
       "      <th></th>\n",
       "      <th></th>\n",
       "      <th></th>\n",
       "      <th></th>\n",
       "      <th></th>\n",
       "      <th></th>\n",
       "      <th></th>\n",
       "      <th></th>\n",
       "      <th></th>\n",
       "      <th></th>\n",
       "      <th></th>\n",
       "      <th></th>\n",
       "      <th></th>\n",
       "      <th></th>\n",
       "    </tr>\n",
       "  </thead>\n",
       "  <tbody>\n",
       "    <tr>\n",
       "      <th>HDR9SQc79</th>\n",
       "      <td>0</td>\n",
       "      <td>21</td>\n",
       "      <td>6.0</td>\n",
       "      <td>6</td>\n",
       "      <td>22</td>\n",
       "      <td>CaseyNeistat</td>\n",
       "      <td></td>\n",
       "      <td>falSE</td>\n",
       "      <td>SHANTELL'S CHANNEL - https://www.youtube.com/shantellmartin\\nCANDICE - https://www.lovebilly.com\\n\\n'Diamond Veins (Blowsom remix)' by French 79 http://hyperurl.co/DiamondVeinsRMX\\n'Moon' by Kid Francescoli http://hyperurl.co/KID_PlayMeAgain\\n\\nfilmed this video in 4k on this -- http://amzn.to/2sTDnRZ\\nwith this lens -- http://amzn.to/2rUJOmD\\nbig drone - http://tinyurl.com/h4ft3oy\\nOTHER GEAR ---  http://amzn.to/2o3GLX5\\nSony CAMERA http://amzn.to/2nOBmnv\\nOLD CAMERA</td>\n",
       "      <td>6089</td>\n",
       "      <td>falSE</td>\n",
       "      <td>13342</td>\n",
       "      <td>2017-11-13</td>\n",
       "      <td>9086142.0</td>\n",
       "      <td>False</td>\n",
       "      <td>SHANtell martin</td>\n",
       "      <td>WE WANT TO TALK ABOUT OUR MARRIAGE</td>\n",
       "      <td>2017-11-20</td>\n",
       "      <td>1978978</td>\n",
       "    </tr>\n",
       "    <tr>\n",
       "      <th>KNH52UF?48</th>\n",
       "      <td>0</td>\n",
       "      <td>23</td>\n",
       "      <td>1.0</td>\n",
       "      <td>1</td>\n",
       "      <td>24</td>\n",
       "      <td>LastWeekTonight</td>\n",
       "      <td>116266</td>\n",
       "      <td>TrUe</td>\n",
       "      <td>One year after the presidential election, John Oliver discusses what we've learned so far and enlists our catheter cowboy to teach Donald Trump what he hasn't.\\n\\nConnect with Last Week Tonight online...\\n\\nSubscribe to the Last Week Tonight YouTube channel for more almost news as it almost happens: www.youtube.com/user/LastWeekTonight\\n\\nFind Last Week Tonight on Facebook like your mom would: http://Facebook.com/LastWeekTonight\\n\\nFollow us on Twitter for news about jokes and jokes about news: http://Twitter.com/LastWeekTonight\\n\\nVisit our official site for all that other stuff at once: http://www.hbo.com/lastweektonight</td>\n",
       "      <td>3044</td>\n",
       "      <td>FaLSE</td>\n",
       "      <td>5761</td>\n",
       "      <td>2017-11-13</td>\n",
       "      <td>5937292.0</td>\n",
       "      <td>False</td>\n",
       "      <td>last week tonight trump presidency|last week tonight donald trump|john oliver trump|donald trump</td>\n",
       "      <td>The Trump Presidency: Last Week Tonight with John Oliver (HBO)</td>\n",
       "      <td>2017-11-20</td>\n",
       "      <td>1487870</td>\n",
       "    </tr>\n",
       "    <tr>\n",
       "      <th>QTW28IRG36</th>\n",
       "      <td>0</td>\n",
       "      <td>22</td>\n",
       "      <td>10.0</td>\n",
       "      <td>3</td>\n",
       "      <td>23</td>\n",
       "      <td>Rudy Mancuso</td>\n",
       "      <td>257850</td>\n",
       "      <td>true</td>\n",
       "      <td>WATCH MY PREVIOUS VIDEO ▶ \\n\\nSUBSCRIBE ► https://www.youtube.com/channel/UC5jkXpfnBhlDjqh0ir5FsIQ?sub_confirmation=1\\n\\nTHANKS FOR WATCHING! LIKE &amp; SUBSCRIBE FOR MORE VIDEOS!\\n-----------------------------------------------------------\\nFIND ME ON: \\nInstagram | http://instagram.com/rudymancuso\\nTwitter | http://twitter.com/rudymancuso\\nFacebook | http://facebook.com/rudymancuso\\n\\nCAST: \\nRudy Mancuso | http://youtube.com/c/rudymancuso\\nLele Pons | http://youtube.com/c/lelepons\\nKing Bach | https://youtube.com/user/BachelorsPadTv\\n\\nVideo Effects: \\nCaleb Natale | https://instagram.com/calebnatale\\n\\nPA:\\nPaulina Gregory\\n\\n\\nShots Studios Channels:\\nAlesso | https://youtube.com/c/alesso\\nAnitta | http://youtube.com/c/anitta\\nAnwar Jibawi | http://youtube.com/c/anwar\\nAwkward Puppets | http://youtube.com/c/awkwardpuppets\\nHannah Stocking | http://youtube.com/c/hannahstocking\\nInanna Sarkis | http://youtube.com/c/inanna\\nLele Pons | http://youtube.com/c/lelepons\\nMaejor | http://youtube.com/c/maejor\\nMike Tyson | http://youtube.com/c/miketyson \\nRudy Mancuso | http://youtube.com/c/rudymancuso\\nShots Studios | http://youtube.com/c/shots\\n\\n#Rudy\\n#RudyMancuso</td>\n",
       "      <td>0</td>\n",
       "      <td>TRUE</td>\n",
       "      <td>0</td>\n",
       "      <td>2017-11-12</td>\n",
       "      <td>4191209.0</td>\n",
       "      <td>True</td>\n",
       "      <td>racist superman|rudy|mancuso|king|bach|racist|superman|love|rudy mancuso poo bear black white official music video|iphone x by pineapple|lelepons|hannahstocking|rudymancuso|inanna|anwar|sarkis|shots|shotsstudios|alesso|anitta|brazil|Getting My Driver's License | Lele Pons</td>\n",
       "      <td>Racist Superman | Rudy Mancuso, King Bach &amp; Lele Pons</td>\n",
       "      <td>2017-11-20</td>\n",
       "      <td>1502102</td>\n",
       "    </tr>\n",
       "    <tr>\n",
       "      <th>MGL76WI]26</th>\n",
       "      <td>0</td>\n",
       "      <td>17</td>\n",
       "      <td>12.0</td>\n",
       "      <td>5</td>\n",
       "      <td>24</td>\n",
       "      <td>Good Mythical Morning</td>\n",
       "      <td>263939</td>\n",
       "      <td>true</td>\n",
       "      <td>Today we find out if Link is a Nickelback amateur or a secret Nickelback devotee. GMM #1218\\nDon't miss an all new Ear Biscuits: https://goo.gl/xeZNQt\\nWatch Part 4: https://youtu.be/MhCdiiB8CQg | Watch Part 2: https://youtu.be/7qiOrNao9fg\\nWatch today's episode from the start: http://bit.ly/GMM1218\\n\\nPick up all of the official GMM merch only at https://mythical.store\\n\\nFollow Rhett &amp; Link: \\nInstagram: https://instagram.com/rhettandlink\\nFacebook: https://facebook.com/rhettandlink\\nTwitter: https://twitter.com/rhettandlink\\nTumblr: https://rhettandlink.tumblr.com\\nSnapchat: @realrhettlink\\nWebsite: https://mythical.co/\\n\\nCheck Out Our Other Mythical Channels:\\nGood Mythical MORE: https://youtube.com/goodmythicalmore\\nRhett &amp; Link: https://youtube.com/rhettandlink\\nThis Is Mythical: https://youtube.com/thisismythical\\nEar Biscuits: https://applepodcasts.com/earbiscuits\\n\\nWant to send us something? https://mythical.co/contact\\nHave you made a Wheel of Mythicality intro video? Submit it here: https://bit.ly/GMMWheelIntro\\n\\nIntro Animation by Digital Twigs: https://www.digitaltwigs.com\\nIntro &amp; Outro Music by Jeff Zeigler &amp; Sarah Schimeneck https://www.jeffzeigler.com\\nWheel of Mythicality theme: https://www.royaltyfreemusiclibrary.com/\\nAll Supplemental Music fromOpus 1 Music: https://opus1.sourceaudio.com/\\nWe use ‘The Mouse’ by Blue Microphones https://www.bluemic.com/mouse/</td>\n",
       "      <td>0</td>\n",
       "      <td>True</td>\n",
       "      <td>0</td>\n",
       "      <td>2017-11-13</td>\n",
       "      <td>13186408.0</td>\n",
       "      <td>True</td>\n",
       "      <td>rhett and link|gmm|good mythical morning|rhett and link good mythical morning|good mythical morning rhett and link|mythical morning|Season 12|nickelback lyrics|nickelback lyrics real or fake|nickelback|nickelback songs|nickelback song|rhett link nickelback|gmm nickelback|lyrics (website category)|nickelback (musical group)|rock|music|lyrics|chad kroeger|music (industry)|mythical|gmm challenge|comedy|funny|the betrayal|the betrayal act III|how you remind me</td>\n",
       "      <td>Nickelback Lyrics: Real or Fake?</td>\n",
       "      <td>2017-11-20</td>\n",
       "      <td>3519302</td>\n",
       "    </tr>\n",
       "    <tr>\n",
       "      <th>TWP93KXT70</th>\n",
       "      <td>0</td>\n",
       "      <td>15</td>\n",
       "      <td>11.0</td>\n",
       "      <td>7</td>\n",
       "      <td>224</td>\n",
       "      <td>nigahiga</td>\n",
       "      <td>268085</td>\n",
       "      <td>True</td>\n",
       "      <td>I know it's been a while since we did this show, but we're back with what might be the best episode yet!\\nLeave your dares in the comment section! \\n\\nOrder my book how to write good \\nhttp://higatv.com/ryan-higas-how-to-write-good-pre-order-links/\\n\\nJust Launched New Official Store\\nhttps://www.gianthugs.com/collections/ryan\\n\\nHigaTV Channel\\nhttp://www.youtube.com/higatv\\n\\nTwitter\\nhttp://www.twitter.com/therealryanhiga\\n\\nFacebook\\nhttp://www.facebook.com/higatv\\n\\nWebsite\\nhttp://www.higatv.com\\n\\nInstagram\\nhttp://www.instagram.com/notryanhiga\\n\\nSend us mail or whatever you want here!\\nPO Box 232355\\nLas Vegas, NV 89105</td>\n",
       "      <td>0</td>\n",
       "      <td>TRUE</td>\n",
       "      <td>0</td>\n",
       "      <td>2017-11-12</td>\n",
       "      <td>20563106.0</td>\n",
       "      <td>True</td>\n",
       "      <td>ryan|higa|higatv|nigahiga|i dare you|idy|rhpc|dares|no truth|comments|comedy|funny|stupid|fail</td>\n",
       "      <td>I Dare You: GOING BALD!?</td>\n",
       "      <td>2017-11-19</td>\n",
       "      <td>4835374</td>\n",
       "    </tr>\n",
       "  </tbody>\n",
       "</table>\n",
       "</div>"
      ],
      "text/plain": [
       "            Is_Test_Data Tag_count  Trend_day_count Trend_tag_count  \\\n",
       "Video_id                                                              \n",
       "HDR9SQc79   0             21        6.0              6                \n",
       "KNH52UF?48  0             23        1.0              1                \n",
       "QTW28IRG36  0             22        10.0             3                \n",
       "MGL76WI]26  0             17        12.0             5                \n",
       "TWP93KXT70  0             15        11.0             7                \n",
       "\n",
       "           category_id          channel_title comment_count comment_disabled  \\\n",
       "Video_id                                                                       \n",
       "HDR9SQc79   22          CaseyNeistat                         falSE             \n",
       "KNH52UF?48  24          LastWeekTonight        116266        TrUe              \n",
       "QTW28IRG36  23          Rudy Mancuso           257850        true              \n",
       "MGL76WI]26  24          Good Mythical Morning  263939        true              \n",
       "TWP93KXT70  224         nigahiga               268085        True              \n",
       "\n",
       "                                                                                                                                                                                                                                                                                                                                                                                                                                                                                                                                                                                                                                                                                                                                                                                                                                                                                                                                                                                                                                                                                                                                                                                                                                                                                                                                                                                                                                                            description  \\\n",
       "Video_id                                                                                                                                                                                                                                                                                                                                                                                                                                                                                                                                                                                                                                                                                                                                                                                                                                                                                                                                                                                                                                                                                                                                                                                                                                                                                                                                                                                                                                                                  \n",
       "HDR9SQc79   SHANTELL'S CHANNEL - https://www.youtube.com/shantellmartin\\nCANDICE - https://www.lovebilly.com\\n\\n'Diamond Veins (Blowsom remix)' by French 79 http://hyperurl.co/DiamondVeinsRMX\\n'Moon' by Kid Francescoli http://hyperurl.co/KID_PlayMeAgain\\n\\nfilmed this video in 4k on this -- http://amzn.to/2sTDnRZ\\nwith this lens -- http://amzn.to/2rUJOmD\\nbig drone - http://tinyurl.com/h4ft3oy\\nOTHER GEAR ---  http://amzn.to/2o3GLX5\\nSony CAMERA http://amzn.to/2nOBmnv\\nOLD CAMERA                                                                                                                                                                                                                                                                                                                                                                                                                                                                                                                                                                                                                                                                                                                                                                                                                                                                                                                                                                      \n",
       "KNH52UF?48  One year after the presidential election, John Oliver discusses what we've learned so far and enlists our catheter cowboy to teach Donald Trump what he hasn't.\\n\\nConnect with Last Week Tonight online...\\n\\nSubscribe to the Last Week Tonight YouTube channel for more almost news as it almost happens: www.youtube.com/user/LastWeekTonight\\n\\nFind Last Week Tonight on Facebook like your mom would: http://Facebook.com/LastWeekTonight\\n\\nFollow us on Twitter for news about jokes and jokes about news: http://Twitter.com/LastWeekTonight\\n\\nVisit our official site for all that other stuff at once: http://www.hbo.com/lastweektonight                                                                                                                                                                                                                                                                                                                                                                                                                                                                                                                                                                                                                                                                                                                                                                                                        \n",
       "QTW28IRG36  WATCH MY PREVIOUS VIDEO ▶ \\n\\nSUBSCRIBE ► https://www.youtube.com/channel/UC5jkXpfnBhlDjqh0ir5FsIQ?sub_confirmation=1\\n\\nTHANKS FOR WATCHING! LIKE & SUBSCRIBE FOR MORE VIDEOS!\\n-----------------------------------------------------------\\nFIND ME ON: \\nInstagram | http://instagram.com/rudymancuso\\nTwitter | http://twitter.com/rudymancuso\\nFacebook | http://facebook.com/rudymancuso\\n\\nCAST: \\nRudy Mancuso | http://youtube.com/c/rudymancuso\\nLele Pons | http://youtube.com/c/lelepons\\nKing Bach | https://youtube.com/user/BachelorsPadTv\\n\\nVideo Effects: \\nCaleb Natale | https://instagram.com/calebnatale\\n\\nPA:\\nPaulina Gregory\\n\\n\\nShots Studios Channels:\\nAlesso | https://youtube.com/c/alesso\\nAnitta | http://youtube.com/c/anitta\\nAnwar Jibawi | http://youtube.com/c/anwar\\nAwkward Puppets | http://youtube.com/c/awkwardpuppets\\nHannah Stocking | http://youtube.com/c/hannahstocking\\nInanna Sarkis | http://youtube.com/c/inanna\\nLele Pons | http://youtube.com/c/lelepons\\nMaejor | http://youtube.com/c/maejor\\nMike Tyson | http://youtube.com/c/miketyson \\nRudy Mancuso | http://youtube.com/c/rudymancuso\\nShots Studios | http://youtube.com/c/shots\\n\\n#Rudy\\n#RudyMancuso                                                                                                                                                                                                                                     \n",
       "MGL76WI]26  Today we find out if Link is a Nickelback amateur or a secret Nickelback devotee. GMM #1218\\nDon't miss an all new Ear Biscuits: https://goo.gl/xeZNQt\\nWatch Part 4: https://youtu.be/MhCdiiB8CQg | Watch Part 2: https://youtu.be/7qiOrNao9fg\\nWatch today's episode from the start: http://bit.ly/GMM1218\\n\\nPick up all of the official GMM merch only at https://mythical.store\\n\\nFollow Rhett & Link: \\nInstagram: https://instagram.com/rhettandlink\\nFacebook: https://facebook.com/rhettandlink\\nTwitter: https://twitter.com/rhettandlink\\nTumblr: https://rhettandlink.tumblr.com\\nSnapchat: @realrhettlink\\nWebsite: https://mythical.co/\\n\\nCheck Out Our Other Mythical Channels:\\nGood Mythical MORE: https://youtube.com/goodmythicalmore\\nRhett & Link: https://youtube.com/rhettandlink\\nThis Is Mythical: https://youtube.com/thisismythical\\nEar Biscuits: https://applepodcasts.com/earbiscuits\\n\\nWant to send us something? https://mythical.co/contact\\nHave you made a Wheel of Mythicality intro video? Submit it here: https://bit.ly/GMMWheelIntro\\n\\nIntro Animation by Digital Twigs: https://www.digitaltwigs.com\\nIntro & Outro Music by Jeff Zeigler & Sarah Schimeneck https://www.jeffzeigler.com\\nWheel of Mythicality theme: https://www.royaltyfreemusiclibrary.com/\\nAll Supplemental Music fromOpus 1 Music: https://opus1.sourceaudio.com/\\nWe use ‘The Mouse’ by Blue Microphones https://www.bluemic.com/mouse/   \n",
       "TWP93KXT70  I know it's been a while since we did this show, but we're back with what might be the best episode yet!\\nLeave your dares in the comment section! \\n\\nOrder my book how to write good \\nhttp://higatv.com/ryan-higas-how-to-write-good-pre-order-links/\\n\\nJust Launched New Official Store\\nhttps://www.gianthugs.com/collections/ryan\\n\\nHigaTV Channel\\nhttp://www.youtube.com/higatv\\n\\nTwitter\\nhttp://www.twitter.com/therealryanhiga\\n\\nFacebook\\nhttp://www.facebook.com/higatv\\n\\nWebsite\\nhttp://www.higatv.com\\n\\nInstagram\\nhttp://www.instagram.com/notryanhiga\\n\\nSend us mail or whatever you want here!\\nPO Box 232355\\nLas Vegas, NV 89105                                                                                                                                                                                                                                                                                                                                                                                                                                                                                                                                                                                                                                                                                                                                                                                                  \n",
       "\n",
       "           dislike like dislike disabled  likes publish_date  subscriber  \\\n",
       "Video_id                                                                   \n",
       "HDR9SQc79   6089    falSE                 13342  2017-11-13   9086142.0    \n",
       "KNH52UF?48  3044    FaLSE                 5761   2017-11-13   5937292.0    \n",
       "QTW28IRG36  0       TRUE                  0      2017-11-12   4191209.0    \n",
       "MGL76WI]26  0       True                  0      2017-11-13   13186408.0   \n",
       "TWP93KXT70  0       TRUE                  0      2017-11-12   20563106.0   \n",
       "\n",
       "           tag appered in title  \\\n",
       "Video_id                          \n",
       "HDR9SQc79   False                 \n",
       "KNH52UF?48  False                 \n",
       "QTW28IRG36  True                  \n",
       "MGL76WI]26  True                  \n",
       "TWP93KXT70  True                  \n",
       "\n",
       "                                                                                                                                                                                                                                                                                                                                                                                                                                                                                    tags  \\\n",
       "Video_id                                                                                                                                                                                                                                                                                                                                                                                                                                                                                   \n",
       "HDR9SQc79   SHANtell martin                                                                                                                                                                                                                                                                                                                                                                                                                                                                \n",
       "KNH52UF?48  last week tonight trump presidency|last week tonight donald trump|john oliver trump|donald trump                                                                                                                                                                                                                                                                                                                                                                               \n",
       "QTW28IRG36  racist superman|rudy|mancuso|king|bach|racist|superman|love|rudy mancuso poo bear black white official music video|iphone x by pineapple|lelepons|hannahstocking|rudymancuso|inanna|anwar|sarkis|shots|shotsstudios|alesso|anitta|brazil|Getting My Driver's License | Lele Pons                                                                                                                                                                                               \n",
       "MGL76WI]26  rhett and link|gmm|good mythical morning|rhett and link good mythical morning|good mythical morning rhett and link|mythical morning|Season 12|nickelback lyrics|nickelback lyrics real or fake|nickelback|nickelback songs|nickelback song|rhett link nickelback|gmm nickelback|lyrics (website category)|nickelback (musical group)|rock|music|lyrics|chad kroeger|music (industry)|mythical|gmm challenge|comedy|funny|the betrayal|the betrayal act III|how you remind me   \n",
       "TWP93KXT70  ryan|higa|higatv|nigahiga|i dare you|idy|rhpc|dares|no truth|comments|comedy|funny|stupid|fail                                                                                                                                                                                                                                                                                                                                                                                 \n",
       "\n",
       "                                                                     title  \\\n",
       "Video_id                                                                     \n",
       "HDR9SQc79   WE WANT TO TALK ABOUT OUR MARRIAGE                               \n",
       "KNH52UF?48  The Trump Presidency: Last Week Tonight with John Oliver (HBO)   \n",
       "QTW28IRG36  Racist Superman | Rudy Mancuso, King Bach & Lele Pons            \n",
       "MGL76WI]26  Nickelback Lyrics: Real or Fake?                                 \n",
       "TWP93KXT70  I Dare You: GOING BALD!?                                         \n",
       "\n",
       "           trending_date    views  \n",
       "Video_id                           \n",
       "HDR9SQc79   2017-11-20    1978978  \n",
       "KNH52UF?48  2017-11-20    1487870  \n",
       "QTW28IRG36  2017-11-20    1502102  \n",
       "MGL76WI]26  2017-11-20    3519302  \n",
       "TWP93KXT70  2017-11-19    4835374  "
      ]
     },
     "execution_count": 29,
     "metadata": {},
     "output_type": "execute_result"
    }
   ],
   "source": [
    "# Adding new column 'isTestData' so that we can easily separate train and test \n",
    "# data during prediction process\n",
    "df_train['Is_Test_Data'] = 0\n",
    "\n",
    "\n",
    "\n",
    "df_test['Is_Test_Data'] = 1\n",
    "\n",
    "# concat train and test data for data pre processing\n",
    "df_views_video = pd.concat([df_train,df_test])\n",
    "\n",
    "del df_train\n",
    "del df_test\n",
    "\n",
    "df_views_video.head()"
   ]
  },
  {
   "cell_type": "markdown",
   "metadata": {
    "colab_type": "text",
    "id": "B-MIdzP3uBnM"
   },
   "source": [
    "<a id=section301></a>\n",
    "## 3.1 Description of the Datasets"
   ]
  },
  {
   "cell_type": "markdown",
   "metadata": {
    "colab_type": "text",
    "id": "_m6FGfKbuBnN"
   },
   "source": [
    "#### a. Check shape"
   ]
  },
  {
   "cell_type": "code",
   "execution_count": 30,
   "metadata": {
    "colab": {
     "base_uri": "https://localhost:8080/",
     "height": 34
    },
    "colab_type": "code",
    "executionInfo": {
     "elapsed": 7336,
     "status": "ok",
     "timestamp": 1578828651119,
     "user": {
      "displayName": "Raju MLN",
      "photoUrl": "https://lh3.googleusercontent.com/a-/AAuE7mDdD2F6AP4ITC-wA3nNzvUXQvvOKRA6SGtqecOz2w=s64",
      "userId": "08235794127640337009"
     },
     "user_tz": -330
    },
    "id": "hHFSe47vuBnO",
    "outputId": "de74d59d-c230-4b7a-f25f-809d673bde24"
   },
   "outputs": [
    {
     "data": {
      "text/plain": [
       "(4533, 19)"
      ]
     },
     "execution_count": 30,
     "metadata": {},
     "output_type": "execute_result"
    }
   ],
   "source": [
    "#shape of data\n",
    "df_views_video.shape"
   ]
  },
  {
   "cell_type": "markdown",
   "metadata": {
    "colab_type": "text",
    "id": "wf_UUQ2vuBnR"
   },
   "source": [
    "#### b. info\n",
    "\n",
    "Video_id:- ID of the uploaded video\n",
    "\n",
    "Publish_date:-Date when it was published\n",
    "\n",
    "Trending_date:- Last date it was trending on top 5 spot\n",
    "\n",
    "Category_id:- Category it belong\n",
    "\n",
    "Channel_Title:- Name of the title\n",
    "\n",
    "Suscriber:- Number of people who suscribed the channel\n",
    "Title:- Title of the video uploaded\n",
    "\n",
    "Tags:-Tags appered with the video\n",
    "\n",
    "Description:-Description of the video\n",
    "\n",
    "Trend_day_count:-Number of days video was trending\n",
    "\n",
    "Tag_count:-Number of tags in the video\n",
    "\n",
    "Trend_tag_count:- Number of tags trending among total tag\n",
    "\n",
    "Tag appered in title:-Does tag appered in video title\n",
    "\n",
    "views:- Total views on the video after 1 week.\n",
    "\n",
    "\n",
    "\n"
   ]
  },
  {
   "cell_type": "code",
   "execution_count": 31,
   "metadata": {
    "colab": {
     "base_uri": "https://localhost:8080/",
     "height": 286
    },
    "colab_type": "code",
    "executionInfo": {
     "elapsed": 7310,
     "status": "ok",
     "timestamp": 1578828651120,
     "user": {
      "displayName": "Raju MLN",
      "photoUrl": "https://lh3.googleusercontent.com/a-/AAuE7mDdD2F6AP4ITC-wA3nNzvUXQvvOKRA6SGtqecOz2w=s64",
      "userId": "08235794127640337009"
     },
     "user_tz": -330
    },
    "id": "Pix87vQWuBnS",
    "outputId": "9305c844-2870-4440-8cf5-1886f327506f",
    "scrolled": true
   },
   "outputs": [
    {
     "name": "stdout",
     "output_type": "stream",
     "text": [
      "<class 'pandas.core.frame.DataFrame'>\n",
      "Index: 4533 entries, HDR9SQc79 to LOI64QVq10\n",
      "Data columns (total 19 columns):\n",
      "Is_Test_Data             4533 non-null int64\n",
      "Tag_count                4532 non-null object\n",
      "Trend_day_count          4532 non-null float64\n",
      "Trend_tag_count          4532 non-null object\n",
      "category_id              4526 non-null object\n",
      "channel_title            4530 non-null object\n",
      "comment_count            4533 non-null object\n",
      "comment_disabled         4533 non-null object\n",
      "description              4443 non-null object\n",
      "dislike                  4533 non-null object\n",
      "like dislike disabled    4533 non-null object\n",
      "likes                    4533 non-null object\n",
      "publish_date             4531 non-null object\n",
      "subscriber               4502 non-null float64\n",
      "tag appered in title     4532 non-null object\n",
      "tags                     4324 non-null object\n",
      "title                    4530 non-null object\n",
      "trending_date            4531 non-null object\n",
      "views                    3198 non-null object\n",
      "dtypes: float64(2), int64(1), object(16)\n",
      "memory usage: 708.3+ KB\n"
     ]
    }
   ],
   "source": [
    "df_views_video.info()"
   ]
  },
  {
   "cell_type": "markdown",
   "metadata": {
    "colab_type": "text",
    "id": "SB6EdN8tuBnV"
   },
   "source": [
    "**Observations :**  \n",
    "\n",
    "1. We have few missing values."
   ]
  },
  {
   "cell_type": "markdown",
   "metadata": {
    "colab_type": "text",
    "id": "H_CCA-lquBnW"
   },
   "source": [
    "#### c. describe"
   ]
  },
  {
   "cell_type": "code",
   "execution_count": 33,
   "metadata": {
    "colab": {
     "base_uri": "https://localhost:8080/"
    },
    "colab_type": "code",
    "executionInfo": {
     "elapsed": 7289,
     "status": "ok",
     "timestamp": 1578828651120,
     "user": {
      "displayName": "Raju MLN",
      "photoUrl": "https://lh3.googleusercontent.com/a-/AAuE7mDdD2F6AP4ITC-wA3nNzvUXQvvOKRA6SGtqecOz2w=s64",
      "userId": "08235794127640337009"
     },
     "user_tz": -330
    },
    "id": "VJt2QWtauBnX",
    "outputId": "0f3a57d3-9bca-4dc1-9372-bd18bcf20814",
    "scrolled": true
   },
   "outputs": [
    {
     "data": {
      "text/html": [
       "<div>\n",
       "<style scoped>\n",
       "    .dataframe tbody tr th:only-of-type {\n",
       "        vertical-align: middle;\n",
       "    }\n",
       "\n",
       "    .dataframe tbody tr th {\n",
       "        vertical-align: top;\n",
       "    }\n",
       "\n",
       "    .dataframe thead th {\n",
       "        text-align: right;\n",
       "    }\n",
       "</style>\n",
       "<table border=\"1\" class=\"dataframe\">\n",
       "  <thead>\n",
       "    <tr style=\"text-align: right;\">\n",
       "      <th></th>\n",
       "      <th>Is_Test_Data</th>\n",
       "      <th>Trend_day_count</th>\n",
       "      <th>subscriber</th>\n",
       "    </tr>\n",
       "  </thead>\n",
       "  <tbody>\n",
       "    <tr>\n",
       "      <th>count</th>\n",
       "      <td>4533.000000</td>\n",
       "      <td>4532.000000</td>\n",
       "      <td>4.502000e+03</td>\n",
       "    </tr>\n",
       "    <tr>\n",
       "      <th>mean</th>\n",
       "      <td>0.294507</td>\n",
       "      <td>7.534863</td>\n",
       "      <td>3.571822e+06</td>\n",
       "    </tr>\n",
       "    <tr>\n",
       "      <th>std</th>\n",
       "      <td>0.455871</td>\n",
       "      <td>66.006302</td>\n",
       "      <td>2.420216e+07</td>\n",
       "    </tr>\n",
       "    <tr>\n",
       "      <th>min</th>\n",
       "      <td>0.000000</td>\n",
       "      <td>0.000000</td>\n",
       "      <td>0.000000e+00</td>\n",
       "    </tr>\n",
       "    <tr>\n",
       "      <th>25%</th>\n",
       "      <td>0.000000</td>\n",
       "      <td>4.000000</td>\n",
       "      <td>2.428800e+05</td>\n",
       "    </tr>\n",
       "    <tr>\n",
       "      <th>50%</th>\n",
       "      <td>0.000000</td>\n",
       "      <td>7.000000</td>\n",
       "      <td>1.195770e+06</td>\n",
       "    </tr>\n",
       "    <tr>\n",
       "      <th>75%</th>\n",
       "      <td>1.000000</td>\n",
       "      <td>10.000000</td>\n",
       "      <td>3.766915e+06</td>\n",
       "    </tr>\n",
       "    <tr>\n",
       "      <th>max</th>\n",
       "      <td>1.000000</td>\n",
       "      <td>4444.000000</td>\n",
       "      <td>1.576229e+09</td>\n",
       "    </tr>\n",
       "  </tbody>\n",
       "</table>\n",
       "</div>"
      ],
      "text/plain": [
       "       Is_Test_Data  Trend_day_count    subscriber\n",
       "count  4533.000000   4532.000000      4.502000e+03\n",
       "mean   0.294507      7.534863         3.571822e+06\n",
       "std    0.455871      66.006302        2.420216e+07\n",
       "min    0.000000      0.000000         0.000000e+00\n",
       "25%    0.000000      4.000000         2.428800e+05\n",
       "50%    0.000000      7.000000         1.195770e+06\n",
       "75%    1.000000      10.000000        3.766915e+06\n",
       "max    1.000000      4444.000000      1.576229e+09"
      ]
     },
     "execution_count": 33,
     "metadata": {},
     "output_type": "execute_result"
    }
   ],
   "source": [
    "df_views_video.describe()"
   ]
  },
  {
   "cell_type": "markdown",
   "metadata": {
    "colab_type": "text",
    "id": "_KYpQsBDuBna"
   },
   "source": [
    "**Observations :** Looks like there are some outliers. Let's confirm same from pandas profiling in next step."
   ]
  },
  {
   "cell_type": "markdown",
   "metadata": {
    "colab_type": "text",
    "id": "05W5gAznuBnb"
   },
   "source": [
    " <a id=section302></a>\n",
    "## 3.2 Pandas Profiling before Data Preprocessing"
   ]
  },
  {
   "cell_type": "code",
   "execution_count": 34,
   "metadata": {
    "colab": {},
    "colab_type": "code",
    "id": "PUQu6JjQuBnc"
   },
   "outputs": [
    {
     "name": "stdout",
     "output_type": "stream",
     "text": [
      "Requirement already satisfied: folium==0.2.1 in /home/raju4789/anaconda3/lib/python3.7/site-packages (0.2.1)\n",
      "Requirement already satisfied: Jinja2 in /home/raju4789/anaconda3/lib/python3.7/site-packages (from folium==0.2.1) (2.10.1)\n",
      "Requirement already satisfied: MarkupSafe>=0.23 in /home/raju4789/anaconda3/lib/python3.7/site-packages (from Jinja2->folium==0.2.1) (1.1.1)\n",
      "Requirement already up-to-date: pandas-profiling in /home/raju4789/anaconda3/lib/python3.7/site-packages (2.4.0)\n",
      "Requirement already satisfied, skipping upgrade: jinja2>=2.8 in /home/raju4789/anaconda3/lib/python3.7/site-packages (from pandas-profiling) (2.10.1)\n",
      "Requirement already satisfied, skipping upgrade: astropy in /home/raju4789/anaconda3/lib/python3.7/site-packages (from pandas-profiling) (3.2.1)\n",
      "Requirement already satisfied, skipping upgrade: htmlmin>=0.1.12 in /home/raju4789/anaconda3/lib/python3.7/site-packages (from pandas-profiling) (0.1.12)\n",
      "Requirement already satisfied, skipping upgrade: missingno>=0.4.2 in /home/raju4789/anaconda3/lib/python3.7/site-packages (from pandas-profiling) (0.4.2)\n",
      "Requirement already satisfied, skipping upgrade: matplotlib>=1.4 in /home/raju4789/anaconda3/lib/python3.7/site-packages (from pandas-profiling) (3.1.0)\n",
      "Requirement already satisfied, skipping upgrade: pandas>=0.19 in /home/raju4789/anaconda3/lib/python3.7/site-packages (from pandas-profiling) (0.25.0)\n",
      "Requirement already satisfied, skipping upgrade: phik>=0.9.8 in /home/raju4789/anaconda3/lib/python3.7/site-packages (from pandas-profiling) (0.9.8)\n",
      "Requirement already satisfied, skipping upgrade: confuse>=1.0.0 in /home/raju4789/anaconda3/lib/python3.7/site-packages (from pandas-profiling) (1.0.0)\n",
      "Requirement already satisfied, skipping upgrade: MarkupSafe>=0.23 in /home/raju4789/anaconda3/lib/python3.7/site-packages (from jinja2>=2.8->pandas-profiling) (1.1.1)\n",
      "Requirement already satisfied, skipping upgrade: numpy>=1.13 in /home/raju4789/anaconda3/lib/python3.7/site-packages (from astropy->pandas-profiling) (1.16.4)\n",
      "Requirement already satisfied, skipping upgrade: scipy in /home/raju4789/anaconda3/lib/python3.7/site-packages (from missingno>=0.4.2->pandas-profiling) (1.3.0)\n",
      "Requirement already satisfied, skipping upgrade: seaborn in /home/raju4789/anaconda3/lib/python3.7/site-packages (from missingno>=0.4.2->pandas-profiling) (0.9.0)\n",
      "Requirement already satisfied, skipping upgrade: cycler>=0.10 in /home/raju4789/anaconda3/lib/python3.7/site-packages (from matplotlib>=1.4->pandas-profiling) (0.10.0)\n",
      "Requirement already satisfied, skipping upgrade: kiwisolver>=1.0.1 in /home/raju4789/anaconda3/lib/python3.7/site-packages (from matplotlib>=1.4->pandas-profiling) (1.1.0)\n",
      "Requirement already satisfied, skipping upgrade: pyparsing!=2.0.4,!=2.1.2,!=2.1.6,>=2.0.1 in /home/raju4789/anaconda3/lib/python3.7/site-packages (from matplotlib>=1.4->pandas-profiling) (2.4.0)\n",
      "Requirement already satisfied, skipping upgrade: python-dateutil>=2.1 in /home/raju4789/anaconda3/lib/python3.7/site-packages (from matplotlib>=1.4->pandas-profiling) (2.8.0)\n",
      "Requirement already satisfied, skipping upgrade: pytz>=2017.2 in /home/raju4789/anaconda3/lib/python3.7/site-packages (from pandas>=0.19->pandas-profiling) (2019.1)\n",
      "Requirement already satisfied, skipping upgrade: pytest-pylint>=0.13.0 in /home/raju4789/anaconda3/lib/python3.7/site-packages (from phik>=0.9.8->pandas-profiling) (0.14.1)\n",
      "Requirement already satisfied, skipping upgrade: numba>=0.38.1 in /home/raju4789/anaconda3/lib/python3.7/site-packages (from phik>=0.9.8->pandas-profiling) (0.44.1)\n",
      "Requirement already satisfied, skipping upgrade: nbconvert>=5.3.1 in /home/raju4789/anaconda3/lib/python3.7/site-packages (from phik>=0.9.8->pandas-profiling) (5.5.0)\n",
      "Requirement already satisfied, skipping upgrade: pytest>=4.0.2 in /home/raju4789/anaconda3/lib/python3.7/site-packages (from phik>=0.9.8->pandas-profiling) (5.0.1)\n",
      "Requirement already satisfied, skipping upgrade: jupyter-client>=5.2.3 in /home/raju4789/anaconda3/lib/python3.7/site-packages (from phik>=0.9.8->pandas-profiling) (5.3.1)\n",
      "Requirement already satisfied, skipping upgrade: pyyaml in /home/raju4789/anaconda3/lib/python3.7/site-packages (from confuse>=1.0.0->pandas-profiling) (5.1.1)\n",
      "Requirement already satisfied, skipping upgrade: six in /home/raju4789/anaconda3/lib/python3.7/site-packages (from cycler>=0.10->matplotlib>=1.4->pandas-profiling) (1.12.0)\n",
      "Requirement already satisfied, skipping upgrade: setuptools in /home/raju4789/anaconda3/lib/python3.7/site-packages (from kiwisolver>=1.0.1->matplotlib>=1.4->pandas-profiling) (41.0.1)\n",
      "Requirement already satisfied, skipping upgrade: pylint>=1.4.5 in /home/raju4789/anaconda3/lib/python3.7/site-packages (from pytest-pylint>=0.13.0->phik>=0.9.8->pandas-profiling) (2.3.1)\n",
      "Requirement already satisfied, skipping upgrade: llvmlite>=0.29.0 in /home/raju4789/anaconda3/lib/python3.7/site-packages (from numba>=0.38.1->phik>=0.9.8->pandas-profiling) (0.29.0)\n",
      "Requirement already satisfied, skipping upgrade: traitlets>=4.2 in /home/raju4789/anaconda3/lib/python3.7/site-packages (from nbconvert>=5.3.1->phik>=0.9.8->pandas-profiling) (4.3.2)\n",
      "Requirement already satisfied, skipping upgrade: pandocfilters>=1.4.1 in /home/raju4789/anaconda3/lib/python3.7/site-packages (from nbconvert>=5.3.1->phik>=0.9.8->pandas-profiling) (1.4.2)\n",
      "Requirement already satisfied, skipping upgrade: bleach in /home/raju4789/anaconda3/lib/python3.7/site-packages (from nbconvert>=5.3.1->phik>=0.9.8->pandas-profiling) (3.1.0)\n",
      "Requirement already satisfied, skipping upgrade: jupyter-core in /home/raju4789/anaconda3/lib/python3.7/site-packages (from nbconvert>=5.3.1->phik>=0.9.8->pandas-profiling) (4.5.0)\n",
      "Requirement already satisfied, skipping upgrade: pygments in /home/raju4789/anaconda3/lib/python3.7/site-packages (from nbconvert>=5.3.1->phik>=0.9.8->pandas-profiling) (2.4.2)\n",
      "Requirement already satisfied, skipping upgrade: testpath in /home/raju4789/anaconda3/lib/python3.7/site-packages (from nbconvert>=5.3.1->phik>=0.9.8->pandas-profiling) (0.4.2)\n",
      "Requirement already satisfied, skipping upgrade: defusedxml in /home/raju4789/anaconda3/lib/python3.7/site-packages (from nbconvert>=5.3.1->phik>=0.9.8->pandas-profiling) (0.6.0)\n",
      "Requirement already satisfied, skipping upgrade: entrypoints>=0.2.2 in /home/raju4789/anaconda3/lib/python3.7/site-packages (from nbconvert>=5.3.1->phik>=0.9.8->pandas-profiling) (0.3)\n",
      "Requirement already satisfied, skipping upgrade: mistune>=0.8.1 in /home/raju4789/anaconda3/lib/python3.7/site-packages (from nbconvert>=5.3.1->phik>=0.9.8->pandas-profiling) (0.8.4)\n",
      "Requirement already satisfied, skipping upgrade: nbformat>=4.4 in /home/raju4789/anaconda3/lib/python3.7/site-packages (from nbconvert>=5.3.1->phik>=0.9.8->pandas-profiling) (4.4.0)\n",
      "Requirement already satisfied, skipping upgrade: py>=1.5.0 in /home/raju4789/anaconda3/lib/python3.7/site-packages (from pytest>=4.0.2->phik>=0.9.8->pandas-profiling) (1.8.0)\n",
      "Requirement already satisfied, skipping upgrade: packaging in /home/raju4789/anaconda3/lib/python3.7/site-packages (from pytest>=4.0.2->phik>=0.9.8->pandas-profiling) (19.0)\n",
      "Requirement already satisfied, skipping upgrade: attrs>=17.4.0 in /home/raju4789/anaconda3/lib/python3.7/site-packages (from pytest>=4.0.2->phik>=0.9.8->pandas-profiling) (19.1.0)\n",
      "Requirement already satisfied, skipping upgrade: more-itertools>=4.0.0 in /home/raju4789/anaconda3/lib/python3.7/site-packages (from pytest>=4.0.2->phik>=0.9.8->pandas-profiling) (7.2.0)\n",
      "Requirement already satisfied, skipping upgrade: atomicwrites>=1.0 in /home/raju4789/anaconda3/lib/python3.7/site-packages (from pytest>=4.0.2->phik>=0.9.8->pandas-profiling) (1.3.0)\n",
      "Requirement already satisfied, skipping upgrade: pluggy<1.0,>=0.12 in /home/raju4789/anaconda3/lib/python3.7/site-packages (from pytest>=4.0.2->phik>=0.9.8->pandas-profiling) (0.12.0)\n",
      "Requirement already satisfied, skipping upgrade: importlib-metadata>=0.12 in /home/raju4789/anaconda3/lib/python3.7/site-packages (from pytest>=4.0.2->phik>=0.9.8->pandas-profiling) (0.19)\n",
      "Requirement already satisfied, skipping upgrade: wcwidth in /home/raju4789/anaconda3/lib/python3.7/site-packages (from pytest>=4.0.2->phik>=0.9.8->pandas-profiling) (0.1.7)\n",
      "Requirement already satisfied, skipping upgrade: pyzmq>=13 in /home/raju4789/anaconda3/lib/python3.7/site-packages (from jupyter-client>=5.2.3->phik>=0.9.8->pandas-profiling) (18.0.0)\n",
      "Requirement already satisfied, skipping upgrade: tornado>=4.1 in /home/raju4789/anaconda3/lib/python3.7/site-packages (from jupyter-client>=5.2.3->phik>=0.9.8->pandas-profiling) (6.0.3)\n",
      "Requirement already satisfied, skipping upgrade: astroid<3,>=2.2.0 in /home/raju4789/anaconda3/lib/python3.7/site-packages (from pylint>=1.4.5->pytest-pylint>=0.13.0->phik>=0.9.8->pandas-profiling) (2.2.5)\n"
     ]
    },
    {
     "name": "stdout",
     "output_type": "stream",
     "text": [
      "Requirement already satisfied, skipping upgrade: isort<5,>=4.2.5 in /home/raju4789/anaconda3/lib/python3.7/site-packages (from pylint>=1.4.5->pytest-pylint>=0.13.0->phik>=0.9.8->pandas-profiling) (4.3.21)\n",
      "Requirement already satisfied, skipping upgrade: mccabe<0.7,>=0.6 in /home/raju4789/anaconda3/lib/python3.7/site-packages (from pylint>=1.4.5->pytest-pylint>=0.13.0->phik>=0.9.8->pandas-profiling) (0.6.1)\n",
      "Requirement already satisfied, skipping upgrade: decorator in /home/raju4789/anaconda3/lib/python3.7/site-packages (from traitlets>=4.2->nbconvert>=5.3.1->phik>=0.9.8->pandas-profiling) (4.4.0)\n",
      "Requirement already satisfied, skipping upgrade: ipython-genutils in /home/raju4789/anaconda3/lib/python3.7/site-packages (from traitlets>=4.2->nbconvert>=5.3.1->phik>=0.9.8->pandas-profiling) (0.2.0)\n",
      "Requirement already satisfied, skipping upgrade: webencodings in /home/raju4789/anaconda3/lib/python3.7/site-packages (from bleach->nbconvert>=5.3.1->phik>=0.9.8->pandas-profiling) (0.5.1)\n",
      "Requirement already satisfied, skipping upgrade: jsonschema!=2.5.0,>=2.4 in /home/raju4789/anaconda3/lib/python3.7/site-packages (from nbformat>=4.4->nbconvert>=5.3.1->phik>=0.9.8->pandas-profiling) (3.0.1)\n",
      "Requirement already satisfied, skipping upgrade: zipp>=0.5 in /home/raju4789/anaconda3/lib/python3.7/site-packages (from importlib-metadata>=0.12->pytest>=4.0.2->phik>=0.9.8->pandas-profiling) (0.5.2)\n",
      "Requirement already satisfied, skipping upgrade: lazy-object-proxy in /home/raju4789/anaconda3/lib/python3.7/site-packages (from astroid<3,>=2.2.0->pylint>=1.4.5->pytest-pylint>=0.13.0->phik>=0.9.8->pandas-profiling) (1.4.1)\n",
      "Requirement already satisfied, skipping upgrade: typed-ast>=1.3.0; implementation_name == \"cpython\" in /home/raju4789/anaconda3/lib/python3.7/site-packages (from astroid<3,>=2.2.0->pylint>=1.4.5->pytest-pylint>=0.13.0->phik>=0.9.8->pandas-profiling) (1.4.1)\n",
      "Requirement already satisfied, skipping upgrade: wrapt in /home/raju4789/anaconda3/lib/python3.7/site-packages (from astroid<3,>=2.2.0->pylint>=1.4.5->pytest-pylint>=0.13.0->phik>=0.9.8->pandas-profiling) (1.11.2)\n",
      "Requirement already satisfied, skipping upgrade: pyrsistent>=0.14.0 in /home/raju4789/anaconda3/lib/python3.7/site-packages (from jsonschema!=2.5.0,>=2.4->nbformat>=4.4->nbconvert>=5.3.1->phik>=0.9.8->pandas-profiling) (0.14.11)\n"
     ]
    }
   ],
   "source": [
    "# To install pandas profiling please run this command.\n",
    "\n",
    "!pip install folium==0.2.1\n",
    "!pip install pandas-profiling --upgrade"
   ]
  },
  {
   "cell_type": "code",
   "execution_count": 35,
   "metadata": {
    "colab": {},
    "colab_type": "code",
    "id": "tbnkE8meuBnf"
   },
   "outputs": [
    {
     "ename": "IndexError",
     "evalue": "list index out of range",
     "output_type": "error",
     "traceback": [
      "\u001b[0;31m---------------------------------------------------------------------------\u001b[0m",
      "\u001b[0;31mIndexError\u001b[0m                                Traceback (most recent call last)",
      "\u001b[0;32m~/anaconda3/lib/python3.7/site-packages/IPython/core/formatters.py\u001b[0m in \u001b[0;36m__call__\u001b[0;34m(self, obj)\u001b[0m\n\u001b[1;32m    343\u001b[0m             \u001b[0mmethod\u001b[0m \u001b[0;34m=\u001b[0m \u001b[0mget_real_method\u001b[0m\u001b[0;34m(\u001b[0m\u001b[0mobj\u001b[0m\u001b[0;34m,\u001b[0m \u001b[0mself\u001b[0m\u001b[0;34m.\u001b[0m\u001b[0mprint_method\u001b[0m\u001b[0;34m)\u001b[0m\u001b[0;34m\u001b[0m\u001b[0;34m\u001b[0m\u001b[0m\n\u001b[1;32m    344\u001b[0m             \u001b[0;32mif\u001b[0m \u001b[0mmethod\u001b[0m \u001b[0;32mis\u001b[0m \u001b[0;32mnot\u001b[0m \u001b[0;32mNone\u001b[0m\u001b[0;34m:\u001b[0m\u001b[0;34m\u001b[0m\u001b[0;34m\u001b[0m\u001b[0m\n\u001b[0;32m--> 345\u001b[0;31m                 \u001b[0;32mreturn\u001b[0m \u001b[0mmethod\u001b[0m\u001b[0;34m(\u001b[0m\u001b[0;34m)\u001b[0m\u001b[0;34m\u001b[0m\u001b[0;34m\u001b[0m\u001b[0m\n\u001b[0m\u001b[1;32m    346\u001b[0m             \u001b[0;32mreturn\u001b[0m \u001b[0;32mNone\u001b[0m\u001b[0;34m\u001b[0m\u001b[0;34m\u001b[0m\u001b[0m\n\u001b[1;32m    347\u001b[0m         \u001b[0;32melse\u001b[0m\u001b[0;34m:\u001b[0m\u001b[0;34m\u001b[0m\u001b[0;34m\u001b[0m\u001b[0m\n",
      "\u001b[0;32m~/anaconda3/lib/python3.7/site-packages/pandas_profiling/__init__.py\u001b[0m in \u001b[0;36m_repr_html_\u001b[0;34m(self)\u001b[0m\n\u001b[1;32m    222\u001b[0m     \u001b[0;32mdef\u001b[0m \u001b[0m_repr_html_\u001b[0m\u001b[0;34m(\u001b[0m\u001b[0mself\u001b[0m\u001b[0;34m)\u001b[0m\u001b[0;34m:\u001b[0m\u001b[0;34m\u001b[0m\u001b[0;34m\u001b[0m\u001b[0m\n\u001b[1;32m    223\u001b[0m         \u001b[0;34m\"\"\"The ipython notebook widgets user interface gets called by the jupyter notebook.\"\"\"\u001b[0m\u001b[0;34m\u001b[0m\u001b[0;34m\u001b[0m\u001b[0m\n\u001b[0;32m--> 224\u001b[0;31m         \u001b[0mself\u001b[0m\u001b[0;34m.\u001b[0m\u001b[0mto_widgets\u001b[0m\u001b[0;34m(\u001b[0m\u001b[0;34m)\u001b[0m\u001b[0;34m\u001b[0m\u001b[0;34m\u001b[0m\u001b[0m\n\u001b[0m\u001b[1;32m    225\u001b[0m \u001b[0;34m\u001b[0m\u001b[0m\n\u001b[1;32m    226\u001b[0m     \u001b[0;32mdef\u001b[0m \u001b[0m__repr__\u001b[0m\u001b[0;34m(\u001b[0m\u001b[0mself\u001b[0m\u001b[0;34m)\u001b[0m\u001b[0;34m:\u001b[0m\u001b[0;34m\u001b[0m\u001b[0;34m\u001b[0m\u001b[0m\n",
      "\u001b[0;32m~/anaconda3/lib/python3.7/site-packages/pandas_profiling/__init__.py\u001b[0m in \u001b[0;36mto_widgets\u001b[0;34m(self)\u001b[0m\n\u001b[1;32m    210\u001b[0m         \u001b[0;32mfrom\u001b[0m \u001b[0mIPython\u001b[0m\u001b[0;34m.\u001b[0m\u001b[0mcore\u001b[0m\u001b[0;34m.\u001b[0m\u001b[0mdisplay\u001b[0m \u001b[0;32mimport\u001b[0m \u001b[0mdisplay\u001b[0m\u001b[0;34m,\u001b[0m \u001b[0mHTML\u001b[0m\u001b[0;34m\u001b[0m\u001b[0;34m\u001b[0m\u001b[0m\n\u001b[1;32m    211\u001b[0m \u001b[0;34m\u001b[0m\u001b[0m\n\u001b[0;32m--> 212\u001b[0;31m         \u001b[0mreport\u001b[0m \u001b[0;34m=\u001b[0m \u001b[0mWidgetReport\u001b[0m\u001b[0;34m(\u001b[0m\u001b[0mself\u001b[0m\u001b[0;34m.\u001b[0m\u001b[0mreport\u001b[0m\u001b[0;34m)\u001b[0m\u001b[0;34m.\u001b[0m\u001b[0mrender\u001b[0m\u001b[0;34m(\u001b[0m\u001b[0;34m)\u001b[0m\u001b[0;34m\u001b[0m\u001b[0;34m\u001b[0m\u001b[0m\n\u001b[0m\u001b[1;32m    213\u001b[0m \u001b[0;34m\u001b[0m\u001b[0m\n\u001b[1;32m    214\u001b[0m         \u001b[0mdisplay\u001b[0m\u001b[0;34m(\u001b[0m\u001b[0mreport\u001b[0m\u001b[0;34m)\u001b[0m\u001b[0;34m\u001b[0m\u001b[0;34m\u001b[0m\u001b[0m\n",
      "\u001b[0;32m~/anaconda3/lib/python3.7/site-packages/pandas_profiling/report/presentation/flavours/widget/sequence.py\u001b[0m in \u001b[0;36mrender\u001b[0;34m(self)\u001b[0m\n\u001b[1;32m     95\u001b[0m \u001b[0;34m\u001b[0m\u001b[0m\n\u001b[1;32m     96\u001b[0m         \u001b[0;32melif\u001b[0m \u001b[0mself\u001b[0m\u001b[0;34m.\u001b[0m\u001b[0msequence_type\u001b[0m \u001b[0;32min\u001b[0m \u001b[0;34m[\u001b[0m\u001b[0;34m\"tabs\"\u001b[0m\u001b[0;34m,\u001b[0m \u001b[0;34m\"sections\"\u001b[0m\u001b[0;34m]\u001b[0m\u001b[0;34m:\u001b[0m\u001b[0;34m\u001b[0m\u001b[0;34m\u001b[0m\u001b[0m\n\u001b[0;32m---> 97\u001b[0;31m             \u001b[0mwidget\u001b[0m \u001b[0;34m=\u001b[0m \u001b[0mget_tabs\u001b[0m\u001b[0;34m(\u001b[0m\u001b[0mself\u001b[0m\u001b[0;34m.\u001b[0m\u001b[0mcontent\u001b[0m\u001b[0;34m[\u001b[0m\u001b[0;34m\"items\"\u001b[0m\u001b[0;34m]\u001b[0m\u001b[0;34m)\u001b[0m\u001b[0;34m\u001b[0m\u001b[0;34m\u001b[0m\u001b[0m\n\u001b[0m\u001b[1;32m     98\u001b[0m         \u001b[0;32melif\u001b[0m \u001b[0mself\u001b[0m\u001b[0;34m.\u001b[0m\u001b[0msequence_type\u001b[0m \u001b[0;34m==\u001b[0m \u001b[0;34m\"accordion\"\u001b[0m\u001b[0;34m:\u001b[0m\u001b[0;34m\u001b[0m\u001b[0;34m\u001b[0m\u001b[0m\n\u001b[1;32m     99\u001b[0m             \u001b[0mwidget\u001b[0m \u001b[0;34m=\u001b[0m \u001b[0mget_accordion\u001b[0m\u001b[0;34m(\u001b[0m\u001b[0mself\u001b[0m\u001b[0;34m.\u001b[0m\u001b[0mcontent\u001b[0m\u001b[0;34m[\u001b[0m\u001b[0;34m\"items\"\u001b[0m\u001b[0;34m]\u001b[0m\u001b[0;34m)\u001b[0m\u001b[0;34m\u001b[0m\u001b[0;34m\u001b[0m\u001b[0m\n",
      "\u001b[0;32m~/anaconda3/lib/python3.7/site-packages/pandas_profiling/report/presentation/flavours/widget/sequence.py\u001b[0m in \u001b[0;36mget_tabs\u001b[0;34m(items)\u001b[0m\n\u001b[1;32m     16\u001b[0m     \u001b[0mtitles\u001b[0m \u001b[0;34m=\u001b[0m \u001b[0;34m[\u001b[0m\u001b[0;34m]\u001b[0m\u001b[0;34m\u001b[0m\u001b[0;34m\u001b[0m\u001b[0m\n\u001b[1;32m     17\u001b[0m     \u001b[0;32mfor\u001b[0m \u001b[0mitem\u001b[0m \u001b[0;32min\u001b[0m \u001b[0mitems\u001b[0m\u001b[0;34m:\u001b[0m\u001b[0;34m\u001b[0m\u001b[0;34m\u001b[0m\u001b[0m\n\u001b[0;32m---> 18\u001b[0;31m         \u001b[0mchildren\u001b[0m\u001b[0;34m.\u001b[0m\u001b[0mappend\u001b[0m\u001b[0;34m(\u001b[0m\u001b[0mitem\u001b[0m\u001b[0;34m.\u001b[0m\u001b[0mrender\u001b[0m\u001b[0;34m(\u001b[0m\u001b[0;34m)\u001b[0m\u001b[0;34m)\u001b[0m\u001b[0;34m\u001b[0m\u001b[0;34m\u001b[0m\u001b[0m\n\u001b[0m\u001b[1;32m     19\u001b[0m         \u001b[0mtitles\u001b[0m\u001b[0;34m.\u001b[0m\u001b[0mappend\u001b[0m\u001b[0;34m(\u001b[0m\u001b[0mget_name\u001b[0m\u001b[0;34m(\u001b[0m\u001b[0mitem\u001b[0m\u001b[0;34m)\u001b[0m\u001b[0;34m)\u001b[0m\u001b[0;34m\u001b[0m\u001b[0;34m\u001b[0m\u001b[0m\n\u001b[1;32m     20\u001b[0m \u001b[0;34m\u001b[0m\u001b[0m\n",
      "\u001b[0;32m~/anaconda3/lib/python3.7/site-packages/pandas_profiling/report/presentation/flavours/widget/sequence.py\u001b[0m in \u001b[0;36mrender\u001b[0;34m(self)\u001b[0m\n\u001b[1;32m     97\u001b[0m             \u001b[0mwidget\u001b[0m \u001b[0;34m=\u001b[0m \u001b[0mget_tabs\u001b[0m\u001b[0;34m(\u001b[0m\u001b[0mself\u001b[0m\u001b[0;34m.\u001b[0m\u001b[0mcontent\u001b[0m\u001b[0;34m[\u001b[0m\u001b[0;34m\"items\"\u001b[0m\u001b[0;34m]\u001b[0m\u001b[0;34m)\u001b[0m\u001b[0;34m\u001b[0m\u001b[0;34m\u001b[0m\u001b[0m\n\u001b[1;32m     98\u001b[0m         \u001b[0;32melif\u001b[0m \u001b[0mself\u001b[0m\u001b[0;34m.\u001b[0m\u001b[0msequence_type\u001b[0m \u001b[0;34m==\u001b[0m \u001b[0;34m\"accordion\"\u001b[0m\u001b[0;34m:\u001b[0m\u001b[0;34m\u001b[0m\u001b[0;34m\u001b[0m\u001b[0m\n\u001b[0;32m---> 99\u001b[0;31m             \u001b[0mwidget\u001b[0m \u001b[0;34m=\u001b[0m \u001b[0mget_accordion\u001b[0m\u001b[0;34m(\u001b[0m\u001b[0mself\u001b[0m\u001b[0;34m.\u001b[0m\u001b[0mcontent\u001b[0m\u001b[0;34m[\u001b[0m\u001b[0;34m\"items\"\u001b[0m\u001b[0;34m]\u001b[0m\u001b[0;34m)\u001b[0m\u001b[0;34m\u001b[0m\u001b[0;34m\u001b[0m\u001b[0m\n\u001b[0m\u001b[1;32m    100\u001b[0m         \u001b[0;32melif\u001b[0m \u001b[0mself\u001b[0m\u001b[0;34m.\u001b[0m\u001b[0msequence_type\u001b[0m \u001b[0;34m==\u001b[0m \u001b[0;34m\"grid\"\u001b[0m\u001b[0;34m:\u001b[0m\u001b[0;34m\u001b[0m\u001b[0;34m\u001b[0m\u001b[0m\n\u001b[1;32m    101\u001b[0m             \u001b[0mwidget\u001b[0m \u001b[0;34m=\u001b[0m \u001b[0mget_row\u001b[0m\u001b[0;34m(\u001b[0m\u001b[0mself\u001b[0m\u001b[0;34m.\u001b[0m\u001b[0mcontent\u001b[0m\u001b[0;34m[\u001b[0m\u001b[0;34m\"items\"\u001b[0m\u001b[0;34m]\u001b[0m\u001b[0;34m)\u001b[0m\u001b[0;34m\u001b[0m\u001b[0;34m\u001b[0m\u001b[0m\n",
      "\u001b[0;32m~/anaconda3/lib/python3.7/site-packages/pandas_profiling/report/presentation/flavours/widget/sequence.py\u001b[0m in \u001b[0;36mget_accordion\u001b[0;34m(items)\u001b[0m\n\u001b[1;32m     59\u001b[0m     \u001b[0mtitles\u001b[0m \u001b[0;34m=\u001b[0m \u001b[0;34m[\u001b[0m\u001b[0;34m]\u001b[0m\u001b[0;34m\u001b[0m\u001b[0;34m\u001b[0m\u001b[0m\n\u001b[1;32m     60\u001b[0m     \u001b[0;32mfor\u001b[0m \u001b[0mitem\u001b[0m \u001b[0;32min\u001b[0m \u001b[0mitems\u001b[0m\u001b[0;34m:\u001b[0m\u001b[0;34m\u001b[0m\u001b[0;34m\u001b[0m\u001b[0m\n\u001b[0;32m---> 61\u001b[0;31m         \u001b[0mchildren\u001b[0m\u001b[0;34m.\u001b[0m\u001b[0mappend\u001b[0m\u001b[0;34m(\u001b[0m\u001b[0mitem\u001b[0m\u001b[0;34m.\u001b[0m\u001b[0mrender\u001b[0m\u001b[0;34m(\u001b[0m\u001b[0;34m)\u001b[0m\u001b[0;34m)\u001b[0m\u001b[0;34m\u001b[0m\u001b[0;34m\u001b[0m\u001b[0m\n\u001b[0m\u001b[1;32m     62\u001b[0m         \u001b[0mtitles\u001b[0m\u001b[0;34m.\u001b[0m\u001b[0mappend\u001b[0m\u001b[0;34m(\u001b[0m\u001b[0mget_name\u001b[0m\u001b[0;34m(\u001b[0m\u001b[0mitem\u001b[0m\u001b[0;34m)\u001b[0m\u001b[0;34m)\u001b[0m\u001b[0;34m\u001b[0m\u001b[0;34m\u001b[0m\u001b[0m\n\u001b[1;32m     63\u001b[0m \u001b[0;34m\u001b[0m\u001b[0m\n",
      "\u001b[0;32m~/anaconda3/lib/python3.7/site-packages/pandas_profiling/report/presentation/flavours/widget/preview.py\u001b[0m in \u001b[0;36mrender\u001b[0;34m(self)\u001b[0m\n\u001b[1;32m      9\u001b[0m         \u001b[0;32melse\u001b[0m\u001b[0;34m:\u001b[0m\u001b[0;34m\u001b[0m\u001b[0;34m\u001b[0m\u001b[0m\n\u001b[1;32m     10\u001b[0m             \u001b[0mitems\u001b[0m \u001b[0;34m=\u001b[0m \u001b[0;34m[\u001b[0m\u001b[0mself\u001b[0m\u001b[0;34m.\u001b[0m\u001b[0mcontent\u001b[0m\u001b[0;34m[\u001b[0m\u001b[0;34m\"top\"\u001b[0m\u001b[0;34m]\u001b[0m\u001b[0;34m]\u001b[0m\u001b[0;34m\u001b[0m\u001b[0;34m\u001b[0m\u001b[0m\n\u001b[0;32m---> 11\u001b[0;31m         \u001b[0;32mreturn\u001b[0m \u001b[0mWidgetSequence\u001b[0m\u001b[0;34m(\u001b[0m\u001b[0mitems\u001b[0m\u001b[0;34m,\u001b[0m \u001b[0msequence_type\u001b[0m\u001b[0;34m=\u001b[0m\u001b[0;34m\"variable\"\u001b[0m\u001b[0;34m)\u001b[0m\u001b[0;34m.\u001b[0m\u001b[0mrender\u001b[0m\u001b[0;34m(\u001b[0m\u001b[0;34m)\u001b[0m\u001b[0;34m\u001b[0m\u001b[0;34m\u001b[0m\u001b[0m\n\u001b[0m",
      "\u001b[0;32m~/anaconda3/lib/python3.7/site-packages/pandas_profiling/report/presentation/flavours/widget/sequence.py\u001b[0m in \u001b[0;36mrender\u001b[0;34m(self)\u001b[0m\n\u001b[1;32m     75\u001b[0m         \u001b[0;32melif\u001b[0m \u001b[0mself\u001b[0m\u001b[0;34m.\u001b[0m\u001b[0msequence_type\u001b[0m \u001b[0;34m==\u001b[0m \u001b[0;34m\"variable\"\u001b[0m\u001b[0;34m:\u001b[0m\u001b[0;34m\u001b[0m\u001b[0;34m\u001b[0m\u001b[0m\n\u001b[1;32m     76\u001b[0m             \u001b[0mi1\u001b[0m \u001b[0;34m=\u001b[0m \u001b[0mself\u001b[0m\u001b[0;34m.\u001b[0m\u001b[0mcontent\u001b[0m\u001b[0;34m[\u001b[0m\u001b[0;34m\"items\"\u001b[0m\u001b[0;34m]\u001b[0m\u001b[0;34m[\u001b[0m\u001b[0;36m0\u001b[0m\u001b[0;34m]\u001b[0m\u001b[0;34m.\u001b[0m\u001b[0mrender\u001b[0m\u001b[0;34m(\u001b[0m\u001b[0;34m)\u001b[0m\u001b[0;34m\u001b[0m\u001b[0;34m\u001b[0m\u001b[0m\n\u001b[0;32m---> 77\u001b[0;31m             \u001b[0mi2\u001b[0m \u001b[0;34m=\u001b[0m \u001b[0mself\u001b[0m\u001b[0;34m.\u001b[0m\u001b[0mcontent\u001b[0m\u001b[0;34m[\u001b[0m\u001b[0;34m\"items\"\u001b[0m\u001b[0;34m]\u001b[0m\u001b[0;34m[\u001b[0m\u001b[0;36m1\u001b[0m\u001b[0;34m]\u001b[0m\u001b[0;34m.\u001b[0m\u001b[0mrender\u001b[0m\u001b[0;34m(\u001b[0m\u001b[0;34m)\u001b[0m\u001b[0;34m\u001b[0m\u001b[0;34m\u001b[0m\u001b[0m\n\u001b[0m\u001b[1;32m     78\u001b[0m             \u001b[0mtoggle\u001b[0m \u001b[0;34m=\u001b[0m \u001b[0mwidgets\u001b[0m\u001b[0;34m.\u001b[0m\u001b[0mToggleButton\u001b[0m\u001b[0;34m(\u001b[0m\u001b[0mdescription\u001b[0m\u001b[0;34m=\u001b[0m\u001b[0;34m\"Toggle details\"\u001b[0m\u001b[0;34m)\u001b[0m\u001b[0;34m\u001b[0m\u001b[0;34m\u001b[0m\u001b[0m\n\u001b[1;32m     79\u001b[0m \u001b[0;34m\u001b[0m\u001b[0m\n",
      "\u001b[0;31mIndexError\u001b[0m: list index out of range"
     ]
    },
    {
     "data": {
      "text/plain": []
     },
     "execution_count": 35,
     "metadata": {},
     "output_type": "execute_result"
    }
   ],
   "source": [
    "import pandas_profiling\n",
    "\n",
    "# Running pandas profiling to get better understanding of data\n",
    "pandas_profiling.ProfileReport(df_views_video)"
   ]
  },
  {
   "cell_type": "markdown",
   "metadata": {
    "colab_type": "text",
    "id": "jjyJwVL_uBni"
   },
   "source": [
    " <a id=section4></a>\n",
    "# 4. Data Preprocessing"
   ]
  },
  {
   "cell_type": "markdown",
   "metadata": {},
   "source": [
    " <a id=section401></a>\n",
    "## 4.1 Remove columns with least variance in data"
   ]
  },
  {
   "cell_type": "code",
   "execution_count": 43,
   "metadata": {
    "colab_type": "text",
    "id": "BBYbJb4ouBnk"
   },
   "outputs": [
    {
     "data": {
      "text/plain": [
       "(4533, 19)"
      ]
     },
     "execution_count": 43,
     "metadata": {},
     "output_type": "execute_result"
    }
   ],
   "source": [
    "#  **Unnamed: 19** and  **Unnamed: 20** has only one value . Lets drop them\n",
    "\n",
    "df_views_video.drop(['Unnamed: 19', 'Unnamed: 20'], axis = 1, inplace=True)\n",
    "df_views_video.shape"
   ]
  },
  {
   "cell_type": "markdown",
   "metadata": {
    "colab_type": "text",
    "id": "WIkz6OFWuBno"
   },
   "source": [
    "**NOTE :** We can observe country has only one value i.e AU. Let's drop it."
   ]
  },
  {
   "cell_type": "markdown",
   "metadata": {
    "colab_type": "text",
    "id": "V62Q_qCQuBnj"
   },
   "source": [
    " <a id=section402></a>\n",
    "## 4.2 Fixing datatypes of columns"
   ]
  },
  {
   "cell_type": "code",
   "execution_count": 44,
   "metadata": {
    "scrolled": true
   },
   "outputs": [
    {
     "name": "stdout",
     "output_type": "stream",
     "text": [
      "<class 'pandas.core.frame.DataFrame'>\n",
      "Index: 4533 entries, HDR9SQc79 to LOI64QVq10\n",
      "Data columns (total 19 columns):\n",
      "Is_Test_Data             4533 non-null int64\n",
      "Tag_count                4532 non-null object\n",
      "Trend_day_count          4532 non-null float64\n",
      "Trend_tag_count          4532 non-null object\n",
      "category_id              4526 non-null object\n",
      "channel_title            4530 non-null object\n",
      "comment_count            4533 non-null object\n",
      "comment_disabled         4533 non-null object\n",
      "description              4443 non-null object\n",
      "dislike                  4533 non-null object\n",
      "like dislike disabled    4533 non-null object\n",
      "likes                    4533 non-null object\n",
      "publish_date             4531 non-null object\n",
      "subscriber               4502 non-null float64\n",
      "tag appered in title     4532 non-null object\n",
      "tags                     4324 non-null object\n",
      "title                    4530 non-null object\n",
      "trending_date            4531 non-null object\n",
      "views                    3198 non-null object\n",
      "dtypes: float64(2), int64(1), object(16)\n",
      "memory usage: 708.3+ KB\n"
     ]
    }
   ],
   "source": [
    "df_views_video.info()"
   ]
  },
  {
   "cell_type": "code",
   "execution_count": 45,
   "metadata": {
    "scrolled": true
   },
   "outputs": [
    {
     "data": {
      "text/html": [
       "<div>\n",
       "<style scoped>\n",
       "    .dataframe tbody tr th:only-of-type {\n",
       "        vertical-align: middle;\n",
       "    }\n",
       "\n",
       "    .dataframe tbody tr th {\n",
       "        vertical-align: top;\n",
       "    }\n",
       "\n",
       "    .dataframe thead th {\n",
       "        text-align: right;\n",
       "    }\n",
       "</style>\n",
       "<table border=\"1\" class=\"dataframe\">\n",
       "  <thead>\n",
       "    <tr style=\"text-align: right;\">\n",
       "      <th></th>\n",
       "      <th>Is_Test_Data</th>\n",
       "      <th>Tag_count</th>\n",
       "      <th>Trend_day_count</th>\n",
       "      <th>Trend_tag_count</th>\n",
       "      <th>category_id</th>\n",
       "      <th>channel_title</th>\n",
       "      <th>comment_count</th>\n",
       "      <th>comment_disabled</th>\n",
       "      <th>description</th>\n",
       "      <th>dislike</th>\n",
       "      <th>like dislike disabled</th>\n",
       "      <th>likes</th>\n",
       "      <th>publish_date</th>\n",
       "      <th>subscriber</th>\n",
       "      <th>tag appered in title</th>\n",
       "      <th>tags</th>\n",
       "      <th>title</th>\n",
       "      <th>trending_date</th>\n",
       "      <th>views</th>\n",
       "    </tr>\n",
       "    <tr>\n",
       "      <th>Video_id</th>\n",
       "      <th></th>\n",
       "      <th></th>\n",
       "      <th></th>\n",
       "      <th></th>\n",
       "      <th></th>\n",
       "      <th></th>\n",
       "      <th></th>\n",
       "      <th></th>\n",
       "      <th></th>\n",
       "      <th></th>\n",
       "      <th></th>\n",
       "      <th></th>\n",
       "      <th></th>\n",
       "      <th></th>\n",
       "      <th></th>\n",
       "      <th></th>\n",
       "      <th></th>\n",
       "      <th></th>\n",
       "      <th></th>\n",
       "    </tr>\n",
       "  </thead>\n",
       "  <tbody>\n",
       "    <tr>\n",
       "      <th>HDR9SQc79</th>\n",
       "      <td>0</td>\n",
       "      <td>21</td>\n",
       "      <td>6.0</td>\n",
       "      <td>6</td>\n",
       "      <td>22</td>\n",
       "      <td>CaseyNeistat</td>\n",
       "      <td></td>\n",
       "      <td>falSE</td>\n",
       "      <td>SHANTELL'S CHANNEL - https://www.youtube.com/shantellmartin\\nCANDICE - https://www.lovebilly.com\\n\\n'Diamond Veins (Blowsom remix)' by French 79 http://hyperurl.co/DiamondVeinsRMX\\n'Moon' by Kid Francescoli http://hyperurl.co/KID_PlayMeAgain\\n\\nfilmed this video in 4k on this -- http://amzn.to/2sTDnRZ\\nwith this lens -- http://amzn.to/2rUJOmD\\nbig drone - http://tinyurl.com/h4ft3oy\\nOTHER GEAR ---  http://amzn.to/2o3GLX5\\nSony CAMERA http://amzn.to/2nOBmnv\\nOLD CAMERA</td>\n",
       "      <td>6089</td>\n",
       "      <td>falSE</td>\n",
       "      <td>13342</td>\n",
       "      <td>2017-11-13</td>\n",
       "      <td>9086142.0</td>\n",
       "      <td>False</td>\n",
       "      <td>SHANtell martin</td>\n",
       "      <td>WE WANT TO TALK ABOUT OUR MARRIAGE</td>\n",
       "      <td>2017-11-20</td>\n",
       "      <td>1978978</td>\n",
       "    </tr>\n",
       "    <tr>\n",
       "      <th>KNH52UF?48</th>\n",
       "      <td>0</td>\n",
       "      <td>23</td>\n",
       "      <td>1.0</td>\n",
       "      <td>1</td>\n",
       "      <td>24</td>\n",
       "      <td>LastWeekTonight</td>\n",
       "      <td>116266</td>\n",
       "      <td>TrUe</td>\n",
       "      <td>One year after the presidential election, John Oliver discusses what we've learned so far and enlists our catheter cowboy to teach Donald Trump what he hasn't.\\n\\nConnect with Last Week Tonight online...\\n\\nSubscribe to the Last Week Tonight YouTube channel for more almost news as it almost happens: www.youtube.com/user/LastWeekTonight\\n\\nFind Last Week Tonight on Facebook like your mom would: http://Facebook.com/LastWeekTonight\\n\\nFollow us on Twitter for news about jokes and jokes about news: http://Twitter.com/LastWeekTonight\\n\\nVisit our official site for all that other stuff at once: http://www.hbo.com/lastweektonight</td>\n",
       "      <td>3044</td>\n",
       "      <td>FaLSE</td>\n",
       "      <td>5761</td>\n",
       "      <td>2017-11-13</td>\n",
       "      <td>5937292.0</td>\n",
       "      <td>False</td>\n",
       "      <td>last week tonight trump presidency|last week tonight donald trump|john oliver trump|donald trump</td>\n",
       "      <td>The Trump Presidency: Last Week Tonight with John Oliver (HBO)</td>\n",
       "      <td>2017-11-20</td>\n",
       "      <td>1487870</td>\n",
       "    </tr>\n",
       "    <tr>\n",
       "      <th>QTW28IRG36</th>\n",
       "      <td>0</td>\n",
       "      <td>22</td>\n",
       "      <td>10.0</td>\n",
       "      <td>3</td>\n",
       "      <td>23</td>\n",
       "      <td>Rudy Mancuso</td>\n",
       "      <td>257850</td>\n",
       "      <td>true</td>\n",
       "      <td>WATCH MY PREVIOUS VIDEO ▶ \\n\\nSUBSCRIBE ► https://www.youtube.com/channel/UC5jkXpfnBhlDjqh0ir5FsIQ?sub_confirmation=1\\n\\nTHANKS FOR WATCHING! LIKE &amp; SUBSCRIBE FOR MORE VIDEOS!\\n-----------------------------------------------------------\\nFIND ME ON: \\nInstagram | http://instagram.com/rudymancuso\\nTwitter | http://twitter.com/rudymancuso\\nFacebook | http://facebook.com/rudymancuso\\n\\nCAST: \\nRudy Mancuso | http://youtube.com/c/rudymancuso\\nLele Pons | http://youtube.com/c/lelepons\\nKing Bach | https://youtube.com/user/BachelorsPadTv\\n\\nVideo Effects: \\nCaleb Natale | https://instagram.com/calebnatale\\n\\nPA:\\nPaulina Gregory\\n\\n\\nShots Studios Channels:\\nAlesso | https://youtube.com/c/alesso\\nAnitta | http://youtube.com/c/anitta\\nAnwar Jibawi | http://youtube.com/c/anwar\\nAwkward Puppets | http://youtube.com/c/awkwardpuppets\\nHannah Stocking | http://youtube.com/c/hannahstocking\\nInanna Sarkis | http://youtube.com/c/inanna\\nLele Pons | http://youtube.com/c/lelepons\\nMaejor | http://youtube.com/c/maejor\\nMike Tyson | http://youtube.com/c/miketyson \\nRudy Mancuso | http://youtube.com/c/rudymancuso\\nShots Studios | http://youtube.com/c/shots\\n\\n#Rudy\\n#RudyMancuso</td>\n",
       "      <td>0</td>\n",
       "      <td>TRUE</td>\n",
       "      <td>0</td>\n",
       "      <td>2017-11-12</td>\n",
       "      <td>4191209.0</td>\n",
       "      <td>True</td>\n",
       "      <td>racist superman|rudy|mancuso|king|bach|racist|superman|love|rudy mancuso poo bear black white official music video|iphone x by pineapple|lelepons|hannahstocking|rudymancuso|inanna|anwar|sarkis|shots|shotsstudios|alesso|anitta|brazil|Getting My Driver's License | Lele Pons</td>\n",
       "      <td>Racist Superman | Rudy Mancuso, King Bach &amp; Lele Pons</td>\n",
       "      <td>2017-11-20</td>\n",
       "      <td>1502102</td>\n",
       "    </tr>\n",
       "    <tr>\n",
       "      <th>MGL76WI]26</th>\n",
       "      <td>0</td>\n",
       "      <td>17</td>\n",
       "      <td>12.0</td>\n",
       "      <td>5</td>\n",
       "      <td>24</td>\n",
       "      <td>Good Mythical Morning</td>\n",
       "      <td>263939</td>\n",
       "      <td>true</td>\n",
       "      <td>Today we find out if Link is a Nickelback amateur or a secret Nickelback devotee. GMM #1218\\nDon't miss an all new Ear Biscuits: https://goo.gl/xeZNQt\\nWatch Part 4: https://youtu.be/MhCdiiB8CQg | Watch Part 2: https://youtu.be/7qiOrNao9fg\\nWatch today's episode from the start: http://bit.ly/GMM1218\\n\\nPick up all of the official GMM merch only at https://mythical.store\\n\\nFollow Rhett &amp; Link: \\nInstagram: https://instagram.com/rhettandlink\\nFacebook: https://facebook.com/rhettandlink\\nTwitter: https://twitter.com/rhettandlink\\nTumblr: https://rhettandlink.tumblr.com\\nSnapchat: @realrhettlink\\nWebsite: https://mythical.co/\\n\\nCheck Out Our Other Mythical Channels:\\nGood Mythical MORE: https://youtube.com/goodmythicalmore\\nRhett &amp; Link: https://youtube.com/rhettandlink\\nThis Is Mythical: https://youtube.com/thisismythical\\nEar Biscuits: https://applepodcasts.com/earbiscuits\\n\\nWant to send us something? https://mythical.co/contact\\nHave you made a Wheel of Mythicality intro video? Submit it here: https://bit.ly/GMMWheelIntro\\n\\nIntro Animation by Digital Twigs: https://www.digitaltwigs.com\\nIntro &amp; Outro Music by Jeff Zeigler &amp; Sarah Schimeneck https://www.jeffzeigler.com\\nWheel of Mythicality theme: https://www.royaltyfreemusiclibrary.com/\\nAll Supplemental Music fromOpus 1 Music: https://opus1.sourceaudio.com/\\nWe use ‘The Mouse’ by Blue Microphones https://www.bluemic.com/mouse/</td>\n",
       "      <td>0</td>\n",
       "      <td>True</td>\n",
       "      <td>0</td>\n",
       "      <td>2017-11-13</td>\n",
       "      <td>13186408.0</td>\n",
       "      <td>True</td>\n",
       "      <td>rhett and link|gmm|good mythical morning|rhett and link good mythical morning|good mythical morning rhett and link|mythical morning|Season 12|nickelback lyrics|nickelback lyrics real or fake|nickelback|nickelback songs|nickelback song|rhett link nickelback|gmm nickelback|lyrics (website category)|nickelback (musical group)|rock|music|lyrics|chad kroeger|music (industry)|mythical|gmm challenge|comedy|funny|the betrayal|the betrayal act III|how you remind me</td>\n",
       "      <td>Nickelback Lyrics: Real or Fake?</td>\n",
       "      <td>2017-11-20</td>\n",
       "      <td>3519302</td>\n",
       "    </tr>\n",
       "    <tr>\n",
       "      <th>TWP93KXT70</th>\n",
       "      <td>0</td>\n",
       "      <td>15</td>\n",
       "      <td>11.0</td>\n",
       "      <td>7</td>\n",
       "      <td>224</td>\n",
       "      <td>nigahiga</td>\n",
       "      <td>268085</td>\n",
       "      <td>True</td>\n",
       "      <td>I know it's been a while since we did this show, but we're back with what might be the best episode yet!\\nLeave your dares in the comment section! \\n\\nOrder my book how to write good \\nhttp://higatv.com/ryan-higas-how-to-write-good-pre-order-links/\\n\\nJust Launched New Official Store\\nhttps://www.gianthugs.com/collections/ryan\\n\\nHigaTV Channel\\nhttp://www.youtube.com/higatv\\n\\nTwitter\\nhttp://www.twitter.com/therealryanhiga\\n\\nFacebook\\nhttp://www.facebook.com/higatv\\n\\nWebsite\\nhttp://www.higatv.com\\n\\nInstagram\\nhttp://www.instagram.com/notryanhiga\\n\\nSend us mail or whatever you want here!\\nPO Box 232355\\nLas Vegas, NV 89105</td>\n",
       "      <td>0</td>\n",
       "      <td>TRUE</td>\n",
       "      <td>0</td>\n",
       "      <td>2017-11-12</td>\n",
       "      <td>20563106.0</td>\n",
       "      <td>True</td>\n",
       "      <td>ryan|higa|higatv|nigahiga|i dare you|idy|rhpc|dares|no truth|comments|comedy|funny|stupid|fail</td>\n",
       "      <td>I Dare You: GOING BALD!?</td>\n",
       "      <td>2017-11-19</td>\n",
       "      <td>4835374</td>\n",
       "    </tr>\n",
       "  </tbody>\n",
       "</table>\n",
       "</div>"
      ],
      "text/plain": [
       "            Is_Test_Data Tag_count  Trend_day_count Trend_tag_count  \\\n",
       "Video_id                                                              \n",
       "HDR9SQc79   0             21        6.0              6                \n",
       "KNH52UF?48  0             23        1.0              1                \n",
       "QTW28IRG36  0             22        10.0             3                \n",
       "MGL76WI]26  0             17        12.0             5                \n",
       "TWP93KXT70  0             15        11.0             7                \n",
       "\n",
       "           category_id          channel_title comment_count comment_disabled  \\\n",
       "Video_id                                                                       \n",
       "HDR9SQc79   22          CaseyNeistat                         falSE             \n",
       "KNH52UF?48  24          LastWeekTonight        116266        TrUe              \n",
       "QTW28IRG36  23          Rudy Mancuso           257850        true              \n",
       "MGL76WI]26  24          Good Mythical Morning  263939        true              \n",
       "TWP93KXT70  224         nigahiga               268085        True              \n",
       "\n",
       "                                                                                                                                                                                                                                                                                                                                                                                                                                                                                                                                                                                                                                                                                                                                                                                                                                                                                                                                                                                                                                                                                                                                                                                                                                                                                                                                                                                                                                                            description  \\\n",
       "Video_id                                                                                                                                                                                                                                                                                                                                                                                                                                                                                                                                                                                                                                                                                                                                                                                                                                                                                                                                                                                                                                                                                                                                                                                                                                                                                                                                                                                                                                                                  \n",
       "HDR9SQc79   SHANTELL'S CHANNEL - https://www.youtube.com/shantellmartin\\nCANDICE - https://www.lovebilly.com\\n\\n'Diamond Veins (Blowsom remix)' by French 79 http://hyperurl.co/DiamondVeinsRMX\\n'Moon' by Kid Francescoli http://hyperurl.co/KID_PlayMeAgain\\n\\nfilmed this video in 4k on this -- http://amzn.to/2sTDnRZ\\nwith this lens -- http://amzn.to/2rUJOmD\\nbig drone - http://tinyurl.com/h4ft3oy\\nOTHER GEAR ---  http://amzn.to/2o3GLX5\\nSony CAMERA http://amzn.to/2nOBmnv\\nOLD CAMERA                                                                                                                                                                                                                                                                                                                                                                                                                                                                                                                                                                                                                                                                                                                                                                                                                                                                                                                                                                      \n",
       "KNH52UF?48  One year after the presidential election, John Oliver discusses what we've learned so far and enlists our catheter cowboy to teach Donald Trump what he hasn't.\\n\\nConnect with Last Week Tonight online...\\n\\nSubscribe to the Last Week Tonight YouTube channel for more almost news as it almost happens: www.youtube.com/user/LastWeekTonight\\n\\nFind Last Week Tonight on Facebook like your mom would: http://Facebook.com/LastWeekTonight\\n\\nFollow us on Twitter for news about jokes and jokes about news: http://Twitter.com/LastWeekTonight\\n\\nVisit our official site for all that other stuff at once: http://www.hbo.com/lastweektonight                                                                                                                                                                                                                                                                                                                                                                                                                                                                                                                                                                                                                                                                                                                                                                                                        \n",
       "QTW28IRG36  WATCH MY PREVIOUS VIDEO ▶ \\n\\nSUBSCRIBE ► https://www.youtube.com/channel/UC5jkXpfnBhlDjqh0ir5FsIQ?sub_confirmation=1\\n\\nTHANKS FOR WATCHING! LIKE & SUBSCRIBE FOR MORE VIDEOS!\\n-----------------------------------------------------------\\nFIND ME ON: \\nInstagram | http://instagram.com/rudymancuso\\nTwitter | http://twitter.com/rudymancuso\\nFacebook | http://facebook.com/rudymancuso\\n\\nCAST: \\nRudy Mancuso | http://youtube.com/c/rudymancuso\\nLele Pons | http://youtube.com/c/lelepons\\nKing Bach | https://youtube.com/user/BachelorsPadTv\\n\\nVideo Effects: \\nCaleb Natale | https://instagram.com/calebnatale\\n\\nPA:\\nPaulina Gregory\\n\\n\\nShots Studios Channels:\\nAlesso | https://youtube.com/c/alesso\\nAnitta | http://youtube.com/c/anitta\\nAnwar Jibawi | http://youtube.com/c/anwar\\nAwkward Puppets | http://youtube.com/c/awkwardpuppets\\nHannah Stocking | http://youtube.com/c/hannahstocking\\nInanna Sarkis | http://youtube.com/c/inanna\\nLele Pons | http://youtube.com/c/lelepons\\nMaejor | http://youtube.com/c/maejor\\nMike Tyson | http://youtube.com/c/miketyson \\nRudy Mancuso | http://youtube.com/c/rudymancuso\\nShots Studios | http://youtube.com/c/shots\\n\\n#Rudy\\n#RudyMancuso                                                                                                                                                                                                                                     \n",
       "MGL76WI]26  Today we find out if Link is a Nickelback amateur or a secret Nickelback devotee. GMM #1218\\nDon't miss an all new Ear Biscuits: https://goo.gl/xeZNQt\\nWatch Part 4: https://youtu.be/MhCdiiB8CQg | Watch Part 2: https://youtu.be/7qiOrNao9fg\\nWatch today's episode from the start: http://bit.ly/GMM1218\\n\\nPick up all of the official GMM merch only at https://mythical.store\\n\\nFollow Rhett & Link: \\nInstagram: https://instagram.com/rhettandlink\\nFacebook: https://facebook.com/rhettandlink\\nTwitter: https://twitter.com/rhettandlink\\nTumblr: https://rhettandlink.tumblr.com\\nSnapchat: @realrhettlink\\nWebsite: https://mythical.co/\\n\\nCheck Out Our Other Mythical Channels:\\nGood Mythical MORE: https://youtube.com/goodmythicalmore\\nRhett & Link: https://youtube.com/rhettandlink\\nThis Is Mythical: https://youtube.com/thisismythical\\nEar Biscuits: https://applepodcasts.com/earbiscuits\\n\\nWant to send us something? https://mythical.co/contact\\nHave you made a Wheel of Mythicality intro video? Submit it here: https://bit.ly/GMMWheelIntro\\n\\nIntro Animation by Digital Twigs: https://www.digitaltwigs.com\\nIntro & Outro Music by Jeff Zeigler & Sarah Schimeneck https://www.jeffzeigler.com\\nWheel of Mythicality theme: https://www.royaltyfreemusiclibrary.com/\\nAll Supplemental Music fromOpus 1 Music: https://opus1.sourceaudio.com/\\nWe use ‘The Mouse’ by Blue Microphones https://www.bluemic.com/mouse/   \n",
       "TWP93KXT70  I know it's been a while since we did this show, but we're back with what might be the best episode yet!\\nLeave your dares in the comment section! \\n\\nOrder my book how to write good \\nhttp://higatv.com/ryan-higas-how-to-write-good-pre-order-links/\\n\\nJust Launched New Official Store\\nhttps://www.gianthugs.com/collections/ryan\\n\\nHigaTV Channel\\nhttp://www.youtube.com/higatv\\n\\nTwitter\\nhttp://www.twitter.com/therealryanhiga\\n\\nFacebook\\nhttp://www.facebook.com/higatv\\n\\nWebsite\\nhttp://www.higatv.com\\n\\nInstagram\\nhttp://www.instagram.com/notryanhiga\\n\\nSend us mail or whatever you want here!\\nPO Box 232355\\nLas Vegas, NV 89105                                                                                                                                                                                                                                                                                                                                                                                                                                                                                                                                                                                                                                                                                                                                                                                                  \n",
       "\n",
       "           dislike like dislike disabled  likes publish_date  subscriber  \\\n",
       "Video_id                                                                   \n",
       "HDR9SQc79   6089    falSE                 13342  2017-11-13   9086142.0    \n",
       "KNH52UF?48  3044    FaLSE                 5761   2017-11-13   5937292.0    \n",
       "QTW28IRG36  0       TRUE                  0      2017-11-12   4191209.0    \n",
       "MGL76WI]26  0       True                  0      2017-11-13   13186408.0   \n",
       "TWP93KXT70  0       TRUE                  0      2017-11-12   20563106.0   \n",
       "\n",
       "           tag appered in title  \\\n",
       "Video_id                          \n",
       "HDR9SQc79   False                 \n",
       "KNH52UF?48  False                 \n",
       "QTW28IRG36  True                  \n",
       "MGL76WI]26  True                  \n",
       "TWP93KXT70  True                  \n",
       "\n",
       "                                                                                                                                                                                                                                                                                                                                                                                                                                                                                    tags  \\\n",
       "Video_id                                                                                                                                                                                                                                                                                                                                                                                                                                                                                   \n",
       "HDR9SQc79   SHANtell martin                                                                                                                                                                                                                                                                                                                                                                                                                                                                \n",
       "KNH52UF?48  last week tonight trump presidency|last week tonight donald trump|john oliver trump|donald trump                                                                                                                                                                                                                                                                                                                                                                               \n",
       "QTW28IRG36  racist superman|rudy|mancuso|king|bach|racist|superman|love|rudy mancuso poo bear black white official music video|iphone x by pineapple|lelepons|hannahstocking|rudymancuso|inanna|anwar|sarkis|shots|shotsstudios|alesso|anitta|brazil|Getting My Driver's License | Lele Pons                                                                                                                                                                                               \n",
       "MGL76WI]26  rhett and link|gmm|good mythical morning|rhett and link good mythical morning|good mythical morning rhett and link|mythical morning|Season 12|nickelback lyrics|nickelback lyrics real or fake|nickelback|nickelback songs|nickelback song|rhett link nickelback|gmm nickelback|lyrics (website category)|nickelback (musical group)|rock|music|lyrics|chad kroeger|music (industry)|mythical|gmm challenge|comedy|funny|the betrayal|the betrayal act III|how you remind me   \n",
       "TWP93KXT70  ryan|higa|higatv|nigahiga|i dare you|idy|rhpc|dares|no truth|comments|comedy|funny|stupid|fail                                                                                                                                                                                                                                                                                                                                                                                 \n",
       "\n",
       "                                                                     title  \\\n",
       "Video_id                                                                     \n",
       "HDR9SQc79   WE WANT TO TALK ABOUT OUR MARRIAGE                               \n",
       "KNH52UF?48  The Trump Presidency: Last Week Tonight with John Oliver (HBO)   \n",
       "QTW28IRG36  Racist Superman | Rudy Mancuso, King Bach & Lele Pons            \n",
       "MGL76WI]26  Nickelback Lyrics: Real or Fake?                                 \n",
       "TWP93KXT70  I Dare You: GOING BALD!?                                         \n",
       "\n",
       "           trending_date    views  \n",
       "Video_id                           \n",
       "HDR9SQc79   2017-11-20    1978978  \n",
       "KNH52UF?48  2017-11-20    1487870  \n",
       "QTW28IRG36  2017-11-20    1502102  \n",
       "MGL76WI]26  2017-11-20    3519302  \n",
       "TWP93KXT70  2017-11-19    4835374  "
      ]
     },
     "execution_count": 45,
     "metadata": {},
     "output_type": "execute_result"
    }
   ],
   "source": [
    "df_views_video.head()"
   ]
  },
  {
   "cell_type": "markdown",
   "metadata": {},
   "source": [
    "#### a. Tag_count\n",
    "\n"
   ]
  },
  {
   "cell_type": "code",
   "execution_count": 46,
   "metadata": {
    "scrolled": true
   },
   "outputs": [
    {
     "data": {
      "text/plain": [
       "24                                                                             217\n",
       "12                                                                             202\n",
       "23                                                                             199\n",
       "13                                                                             185\n",
       "21                                                                             185\n",
       "14                                                                             181\n",
       "16                                                                             180\n",
       "10                                                                             178\n",
       "11                                                                             177\n",
       "17                                                                             177\n",
       "18                                                                             172\n",
       "25                                                                             171\n",
       "8                                                                              171\n",
       "19                                                                             167\n",
       "20                                                                             163\n",
       "22                                                                             161\n",
       "15                                                                             158\n",
       "9                                                                              148\n",
       "13                                                                             92 \n",
       "17                                                                             88 \n",
       "12                                                                             87 \n",
       "22                                                                             81 \n",
       "21                                                                             81 \n",
       "15                                                                             80 \n",
       "20                                                                             77 \n",
       "9                                                                              75 \n",
       "19                                                                             74 \n",
       "14                                                                             73 \n",
       "11                                                                             71 \n",
       "23                                                                             71 \n",
       "8                                                                              70 \n",
       "24                                                                             68 \n",
       "16                                                                             66 \n",
       "10                                                                             62 \n",
       "18                                                                             60 \n",
       "25                                                                             59 \n",
       "0                                                                              2  \n",
       "3225                                                                           1  \n",
       "alissa ashley|alissa ashley makeup|hooded eye makeup|makeup for hooded eyes    1  \n",
       "3222                                                                           1  \n",
       "Name: Tag_count, dtype: int64"
      ]
     },
     "execution_count": 46,
     "metadata": {},
     "output_type": "execute_result"
    }
   ],
   "source": [
    "df_views_video['Tag_count'].value_counts()"
   ]
  },
  {
   "cell_type": "markdown",
   "metadata": {},
   "source": [
    "**NOTE :**  we can see string value and few missing values in **Tag_count**. Lets replace it with median."
   ]
  },
  {
   "cell_type": "code",
   "execution_count": 47,
   "metadata": {},
   "outputs": [
    {
     "ename": "NameError",
     "evalue": "name 'e' is not defined",
     "output_type": "error",
     "traceback": [
      "\u001b[1;31m---------------------------------------------------------------------------\u001b[0m",
      "\u001b[1;31mValueError\u001b[0m                                Traceback (most recent call last)",
      "\u001b[1;32m<ipython-input-47-02be135e43d2>\u001b[0m in \u001b[0;36m<module>\u001b[1;34m\u001b[0m\n\u001b[0;32m      1\u001b[0m \u001b[1;32mtry\u001b[0m\u001b[1;33m:\u001b[0m\u001b[1;33m\u001b[0m\u001b[1;33m\u001b[0m\u001b[0m\n\u001b[1;32m----> 2\u001b[1;33m     \u001b[0mdf_views_video\u001b[0m\u001b[1;33m[\u001b[0m\u001b[1;34m'Tag_count'\u001b[0m\u001b[1;33m]\u001b[0m \u001b[1;33m=\u001b[0m \u001b[0mdf_views_video\u001b[0m\u001b[1;33m[\u001b[0m\u001b[1;34m'Tag_count'\u001b[0m\u001b[1;33m]\u001b[0m\u001b[1;33m.\u001b[0m\u001b[0mastype\u001b[0m\u001b[1;33m(\u001b[0m\u001b[0mint\u001b[0m\u001b[1;33m)\u001b[0m\u001b[1;33m\u001b[0m\u001b[1;33m\u001b[0m\u001b[0m\n\u001b[0m\u001b[0;32m      3\u001b[0m \u001b[1;32mexcept\u001b[0m \u001b[0me\u001b[0m\u001b[1;33m:\u001b[0m\u001b[1;33m\u001b[0m\u001b[1;33m\u001b[0m\u001b[0m\n",
      "\u001b[1;32m~\\AppData\\Local\\Continuum\\anaconda3\\lib\\site-packages\\pandas\\core\\generic.py\u001b[0m in \u001b[0;36mastype\u001b[1;34m(self, dtype, copy, errors, **kwargs)\u001b[0m\n\u001b[0;32m   5690\u001b[0m             new_data = self._data.astype(dtype=dtype, copy=copy, errors=errors,\n\u001b[1;32m-> 5691\u001b[1;33m                                          **kwargs)\n\u001b[0m\u001b[0;32m   5692\u001b[0m             \u001b[1;32mreturn\u001b[0m \u001b[0mself\u001b[0m\u001b[1;33m.\u001b[0m\u001b[0m_constructor\u001b[0m\u001b[1;33m(\u001b[0m\u001b[0mnew_data\u001b[0m\u001b[1;33m)\u001b[0m\u001b[1;33m.\u001b[0m\u001b[0m__finalize__\u001b[0m\u001b[1;33m(\u001b[0m\u001b[0mself\u001b[0m\u001b[1;33m)\u001b[0m\u001b[1;33m\u001b[0m\u001b[1;33m\u001b[0m\u001b[0m\n",
      "\u001b[1;32m~\\AppData\\Local\\Continuum\\anaconda3\\lib\\site-packages\\pandas\\core\\internals\\managers.py\u001b[0m in \u001b[0;36mastype\u001b[1;34m(self, dtype, **kwargs)\u001b[0m\n\u001b[0;32m    530\u001b[0m     \u001b[1;32mdef\u001b[0m \u001b[0mastype\u001b[0m\u001b[1;33m(\u001b[0m\u001b[0mself\u001b[0m\u001b[1;33m,\u001b[0m \u001b[0mdtype\u001b[0m\u001b[1;33m,\u001b[0m \u001b[1;33m**\u001b[0m\u001b[0mkwargs\u001b[0m\u001b[1;33m)\u001b[0m\u001b[1;33m:\u001b[0m\u001b[1;33m\u001b[0m\u001b[1;33m\u001b[0m\u001b[0m\n\u001b[1;32m--> 531\u001b[1;33m         \u001b[1;32mreturn\u001b[0m \u001b[0mself\u001b[0m\u001b[1;33m.\u001b[0m\u001b[0mapply\u001b[0m\u001b[1;33m(\u001b[0m\u001b[1;34m'astype'\u001b[0m\u001b[1;33m,\u001b[0m \u001b[0mdtype\u001b[0m\u001b[1;33m=\u001b[0m\u001b[0mdtype\u001b[0m\u001b[1;33m,\u001b[0m \u001b[1;33m**\u001b[0m\u001b[0mkwargs\u001b[0m\u001b[1;33m)\u001b[0m\u001b[1;33m\u001b[0m\u001b[1;33m\u001b[0m\u001b[0m\n\u001b[0m\u001b[0;32m    532\u001b[0m \u001b[1;33m\u001b[0m\u001b[0m\n",
      "\u001b[1;32m~\\AppData\\Local\\Continuum\\anaconda3\\lib\\site-packages\\pandas\\core\\internals\\managers.py\u001b[0m in \u001b[0;36mapply\u001b[1;34m(self, f, axes, filter, do_integrity_check, consolidate, **kwargs)\u001b[0m\n\u001b[0;32m    394\u001b[0m \u001b[1;33m\u001b[0m\u001b[0m\n\u001b[1;32m--> 395\u001b[1;33m             \u001b[0mapplied\u001b[0m \u001b[1;33m=\u001b[0m \u001b[0mgetattr\u001b[0m\u001b[1;33m(\u001b[0m\u001b[0mb\u001b[0m\u001b[1;33m,\u001b[0m \u001b[0mf\u001b[0m\u001b[1;33m)\u001b[0m\u001b[1;33m(\u001b[0m\u001b[1;33m**\u001b[0m\u001b[0mkwargs\u001b[0m\u001b[1;33m)\u001b[0m\u001b[1;33m\u001b[0m\u001b[1;33m\u001b[0m\u001b[0m\n\u001b[0m\u001b[0;32m    396\u001b[0m             \u001b[0mresult_blocks\u001b[0m \u001b[1;33m=\u001b[0m \u001b[0m_extend_blocks\u001b[0m\u001b[1;33m(\u001b[0m\u001b[0mapplied\u001b[0m\u001b[1;33m,\u001b[0m \u001b[0mresult_blocks\u001b[0m\u001b[1;33m)\u001b[0m\u001b[1;33m\u001b[0m\u001b[1;33m\u001b[0m\u001b[0m\n",
      "\u001b[1;32m~\\AppData\\Local\\Continuum\\anaconda3\\lib\\site-packages\\pandas\\core\\internals\\blocks.py\u001b[0m in \u001b[0;36mastype\u001b[1;34m(self, dtype, copy, errors, values, **kwargs)\u001b[0m\n\u001b[0;32m    533\u001b[0m         return self._astype(dtype, copy=copy, errors=errors, values=values,\n\u001b[1;32m--> 534\u001b[1;33m                             **kwargs)\n\u001b[0m\u001b[0;32m    535\u001b[0m \u001b[1;33m\u001b[0m\u001b[0m\n",
      "\u001b[1;32m~\\AppData\\Local\\Continuum\\anaconda3\\lib\\site-packages\\pandas\\core\\internals\\blocks.py\u001b[0m in \u001b[0;36m_astype\u001b[1;34m(self, dtype, copy, errors, values, **kwargs)\u001b[0m\n\u001b[0;32m    632\u001b[0m                     \u001b[1;31m# _astype_nansafe works fine with 1-d only\u001b[0m\u001b[1;33m\u001b[0m\u001b[1;33m\u001b[0m\u001b[1;33m\u001b[0m\u001b[0m\n\u001b[1;32m--> 633\u001b[1;33m                     \u001b[0mvalues\u001b[0m \u001b[1;33m=\u001b[0m \u001b[0mastype_nansafe\u001b[0m\u001b[1;33m(\u001b[0m\u001b[0mvalues\u001b[0m\u001b[1;33m.\u001b[0m\u001b[0mravel\u001b[0m\u001b[1;33m(\u001b[0m\u001b[1;33m)\u001b[0m\u001b[1;33m,\u001b[0m \u001b[0mdtype\u001b[0m\u001b[1;33m,\u001b[0m \u001b[0mcopy\u001b[0m\u001b[1;33m=\u001b[0m\u001b[1;32mTrue\u001b[0m\u001b[1;33m)\u001b[0m\u001b[1;33m\u001b[0m\u001b[1;33m\u001b[0m\u001b[0m\n\u001b[0m\u001b[0;32m    634\u001b[0m \u001b[1;33m\u001b[0m\u001b[0m\n",
      "\u001b[1;32m~\\AppData\\Local\\Continuum\\anaconda3\\lib\\site-packages\\pandas\\core\\dtypes\\cast.py\u001b[0m in \u001b[0;36mastype_nansafe\u001b[1;34m(arr, dtype, copy, skipna)\u001b[0m\n\u001b[0;32m    682\u001b[0m         \u001b[1;32mif\u001b[0m \u001b[0mnp\u001b[0m\u001b[1;33m.\u001b[0m\u001b[0missubdtype\u001b[0m\u001b[1;33m(\u001b[0m\u001b[0mdtype\u001b[0m\u001b[1;33m.\u001b[0m\u001b[0mtype\u001b[0m\u001b[1;33m,\u001b[0m \u001b[0mnp\u001b[0m\u001b[1;33m.\u001b[0m\u001b[0minteger\u001b[0m\u001b[1;33m)\u001b[0m\u001b[1;33m:\u001b[0m\u001b[1;33m\u001b[0m\u001b[1;33m\u001b[0m\u001b[0m\n\u001b[1;32m--> 683\u001b[1;33m             \u001b[1;32mreturn\u001b[0m \u001b[0mlib\u001b[0m\u001b[1;33m.\u001b[0m\u001b[0mastype_intsafe\u001b[0m\u001b[1;33m(\u001b[0m\u001b[0marr\u001b[0m\u001b[1;33m.\u001b[0m\u001b[0mravel\u001b[0m\u001b[1;33m(\u001b[0m\u001b[1;33m)\u001b[0m\u001b[1;33m,\u001b[0m \u001b[0mdtype\u001b[0m\u001b[1;33m)\u001b[0m\u001b[1;33m.\u001b[0m\u001b[0mreshape\u001b[0m\u001b[1;33m(\u001b[0m\u001b[0marr\u001b[0m\u001b[1;33m.\u001b[0m\u001b[0mshape\u001b[0m\u001b[1;33m)\u001b[0m\u001b[1;33m\u001b[0m\u001b[1;33m\u001b[0m\u001b[0m\n\u001b[0m\u001b[0;32m    684\u001b[0m \u001b[1;33m\u001b[0m\u001b[0m\n",
      "\u001b[1;32mpandas/_libs/lib.pyx\u001b[0m in \u001b[0;36mpandas._libs.lib.astype_intsafe\u001b[1;34m()\u001b[0m\n",
      "\u001b[1;31mValueError\u001b[0m: invalid literal for int() with base 10: 'alissa ashley|alissa ashley makeup|hooded eye makeup|makeup for hooded eyes'",
      "\nDuring handling of the above exception, another exception occurred:\n",
      "\u001b[1;31mNameError\u001b[0m                                 Traceback (most recent call last)",
      "\u001b[1;32m<ipython-input-47-02be135e43d2>\u001b[0m in \u001b[0;36m<module>\u001b[1;34m\u001b[0m\n\u001b[0;32m      1\u001b[0m \u001b[1;32mtry\u001b[0m\u001b[1;33m:\u001b[0m\u001b[1;33m\u001b[0m\u001b[1;33m\u001b[0m\u001b[0m\n\u001b[0;32m      2\u001b[0m     \u001b[0mdf_views_video\u001b[0m\u001b[1;33m[\u001b[0m\u001b[1;34m'Tag_count'\u001b[0m\u001b[1;33m]\u001b[0m \u001b[1;33m=\u001b[0m \u001b[0mdf_views_video\u001b[0m\u001b[1;33m[\u001b[0m\u001b[1;34m'Tag_count'\u001b[0m\u001b[1;33m]\u001b[0m\u001b[1;33m.\u001b[0m\u001b[0mastype\u001b[0m\u001b[1;33m(\u001b[0m\u001b[0mint\u001b[0m\u001b[1;33m)\u001b[0m\u001b[1;33m\u001b[0m\u001b[1;33m\u001b[0m\u001b[0m\n\u001b[1;32m----> 3\u001b[1;33m \u001b[1;32mexcept\u001b[0m \u001b[0me\u001b[0m\u001b[1;33m:\u001b[0m\u001b[1;33m\u001b[0m\u001b[1;33m\u001b[0m\u001b[0m\n\u001b[0m\u001b[0;32m      4\u001b[0m     \u001b[0mprint\u001b[0m\u001b[1;33m(\u001b[0m\u001b[0me\u001b[0m\u001b[1;33m)\u001b[0m\u001b[1;33m\u001b[0m\u001b[1;33m\u001b[0m\u001b[0m\n",
      "\u001b[1;31mNameError\u001b[0m: name 'e' is not defined"
     ]
    }
   ],
   "source": [
    "try:\n",
    "    df_views_video['Tag_count'] = df_views_video['Tag_count'].astype(int)\n",
    "except Dat:\n",
    "    print(e) "
   ]
  },
  {
   "cell_type": "code",
   "execution_count": 27,
   "metadata": {},
   "outputs": [
    {
     "data": {
      "text/plain": [
       "17"
      ]
     },
     "execution_count": 27,
     "metadata": {},
     "output_type": "execute_result"
    }
   ],
   "source": [
    "# extracting out valid Tag_count values\n",
    "Tag_count_valid = df_views_video[(df_views_video['Tag_count'] != 'alissa ashley|alissa ashley makeup|hooded eye makeup|makeup for hooded eyes') & (~df_views_video['Tag_count'].isna())]['Tag_count']\n",
    "\n",
    "# converting dtype from object to int\n",
    "Tag_count_int = Tag_count_valid.astype(int)\n",
    "\n",
    "# calculating median\n",
    "Tag_count_median = Tag_count_int.median()\n",
    "Tag_count_median = int(Tag_count_median)\n",
    "\n",
    "Tag_count_median"
   ]
  },
  {
   "cell_type": "code",
   "execution_count": 31,
   "metadata": {},
   "outputs": [
    {
     "data": {
      "text/plain": [
       "Video_id\n",
       "HDR9SQc79     21\n",
       "KNH52UF?48    23\n",
       "QTW28IRG36    22\n",
       "MGL76WI]26    17\n",
       "TWP93KXT70    15\n",
       "JDJ37HWR29    9 \n",
       "INH29DD?32    17\n",
       "ENJ69DGJ93    14\n",
       "ZXD32BTa68    20\n",
       "NCA33YGN27    8 \n",
       "BQQ21ZVm59    22\n",
       "SEF40YEp58    10\n",
       "OQU60INj45    22\n",
       "QTI12DNb53    18\n",
       "SHP12LIj51    10\n",
       "TAE9URl23     22\n",
       "MWG80DHU39    17\n",
       "TVY50JW\\54    18\n",
       "QPK66WVC92    23\n",
       "ZGJ23BH=92    19\n",
       "LNA70LIB36    22\n",
       "IOR89PLQ18    23\n",
       "JLP11BVk71    9 \n",
       "TKQ4JYs6      25\n",
       "GIV34ORj61    18\n",
       "SAS76OI?59    23\n",
       "CCF5FMU29     25\n",
       "WOD95ZZm76    17\n",
       "ACP17YA_30    15\n",
       "ZUW72GLK1     21\n",
       "              ..\n",
       "KHE42DN<84    17\n",
       "NDB28CR_31    22\n",
       "VSG82ZXG61    19\n",
       "VHU1ZB^45     10\n",
       "YKP34OMn11    13\n",
       "VSM44VFf37    17\n",
       "QDN61PSW4     15\n",
       "USK49BSc65    24\n",
       "DDK71RPA71    13\n",
       "RSP25NOo83    22\n",
       "TWE53OFA61    15\n",
       "NMB51QRF66    11\n",
       "LVD1DXU24     8 \n",
       "UDK4FIS26     14\n",
       "EXX13RVl47    9 \n",
       "IBE44QMk63    23\n",
       "BZA90UEF14    16\n",
       "NZG46OKW19    21\n",
       "LEN76WCg39    15\n",
       "SQP66IXG95    16\n",
       "ZVI84ZDn45    17\n",
       "WEG65XHT54    15\n",
       "WJD70UKo20    12\n",
       "ZQJ67GM<38    12\n",
       "EJB69XNC26    21\n",
       "UII58AGX12    10\n",
       "ECJ91UNP40    8 \n",
       "AQR71GB@63    22\n",
       "PPD49TIn30    15\n",
       "LOI64QVq10    18\n",
       "Name: Tag_count, Length: 4533, dtype: object"
      ]
     },
     "execution_count": 31,
     "metadata": {},
     "output_type": "execute_result"
    }
   ],
   "source": [
    "# replacing string value with median\n",
    "\n",
    "df_views_video[(df_views_video['Tag_count'] == 'alissa ashley|alissa ashley makeup|hooded eye makeup|makeup for hooded eyes')] = Tag_count_median\n",
    "\n",
    "# filling missing values with median\n",
    "df_views_video['Tag_count'].fillna(Tag_count_median)"
   ]
  },
  {
   "cell_type": "markdown",
   "metadata": {
    "colab_type": "text",
    "id": "i16nWCD4uBns"
   },
   "source": [
    "#### b. Trend_tag_count          "
   ]
  },
  {
   "cell_type": "code",
   "execution_count": 32,
   "metadata": {},
   "outputs": [
    {
     "data": {
      "text/plain": [
       "6       475\n",
       "3       473\n",
       "5       461\n",
       "2       460\n",
       "4       450\n",
       "7       446\n",
       "1       429\n",
       "2       206\n",
       "4       201\n",
       "7       191\n",
       "6       187\n",
       "5       187\n",
       "3       182\n",
       "1       181\n",
       ">       1  \n",
       "9903    1  \n",
       "17      1  \n",
       "Name: Trend_tag_count, dtype: int64"
      ]
     },
     "execution_count": 32,
     "metadata": {},
     "output_type": "execute_result"
    }
   ],
   "source": [
    "df_views_video['Trend_tag_count'].value_counts()"
   ]
  },
  {
   "cell_type": "markdown",
   "metadata": {},
   "source": [
    "**NOTE :**  we can see string value and few missing values in **Trend_tag_count**. Lets replace it with median."
   ]
  },
  {
   "cell_type": "code",
   "execution_count": 33,
   "metadata": {
    "colab": {},
    "colab_type": "code",
    "id": "EZWH6QxCuBnt"
   },
   "outputs": [
    {
     "data": {
      "text/plain": [
       "4"
      ]
     },
     "execution_count": 33,
     "metadata": {},
     "output_type": "execute_result"
    }
   ],
   "source": [
    "# extracting out valid Tag_count values\n",
    "Trend_tag_count_valid = df_views_video[(df_views_video['Trend_tag_count'] != '>') & (~df_views_video['Trend_tag_count'].isna())]['Trend_tag_count']\n",
    "\n",
    "# converting dtype from object to int\n",
    "Trend_tag_count_int = Trend_tag_count_valid.astype(int)\n",
    "\n",
    "# calculating median\n",
    "Trend_tag_count_median = Trend_tag_count_int.median()\n",
    "Trend_tag_count_median = int(Trend_tag_count_median)\n",
    "\n",
    "Trend_tag_count_median"
   ]
  },
  {
   "cell_type": "code",
   "execution_count": 34,
   "metadata": {},
   "outputs": [
    {
     "data": {
      "text/plain": [
       "Video_id\n",
       "HDR9SQc79     6\n",
       "KNH52UF?48    1\n",
       "QTW28IRG36    3\n",
       "MGL76WI]26    5\n",
       "TWP93KXT70    7\n",
       "JDJ37HWR29    1\n",
       "INH29DD?32    5\n",
       "ENJ69DGJ93    7\n",
       "ZXD32BTa68    1\n",
       "NCA33YGN27    2\n",
       "BQQ21ZVm59    3\n",
       "SEF40YEp58    2\n",
       "OQU60INj45    4\n",
       "QTI12DNb53    7\n",
       "SHP12LIj51    2\n",
       "TAE9URl23     4\n",
       "MWG80DHU39    3\n",
       "TVY50JW\\54    6\n",
       "QPK66WVC92    3\n",
       "ZGJ23BH=92    1\n",
       "LNA70LIB36    2\n",
       "IOR89PLQ18    4\n",
       "JLP11BVk71    4\n",
       "TKQ4JYs6      1\n",
       "GIV34ORj61    4\n",
       "SAS76OI?59    1\n",
       "CCF5FMU29     4\n",
       "WOD95ZZm76    5\n",
       "ACP17YA_30    7\n",
       "ZUW72GLK1     1\n",
       "             ..\n",
       "KHE42DN<84    1\n",
       "NDB28CR_31    2\n",
       "VSG82ZXG61    1\n",
       "VHU1ZB^45     5\n",
       "YKP34OMn11    7\n",
       "VSM44VFf37    1\n",
       "QDN61PSW4     3\n",
       "USK49BSc65    5\n",
       "DDK71RPA71    3\n",
       "RSP25NOo83    1\n",
       "TWE53OFA61    2\n",
       "NMB51QRF66    5\n",
       "LVD1DXU24     1\n",
       "UDK4FIS26     6\n",
       "EXX13RVl47    1\n",
       "IBE44QMk63    5\n",
       "BZA90UEF14    1\n",
       "NZG46OKW19    1\n",
       "LEN76WCg39    4\n",
       "SQP66IXG95    6\n",
       "ZVI84ZDn45    5\n",
       "WEG65XHT54    6\n",
       "WJD70UKo20    1\n",
       "ZQJ67GM<38    2\n",
       "EJB69XNC26    2\n",
       "UII58AGX12    1\n",
       "ECJ91UNP40    1\n",
       "AQR71GB@63    1\n",
       "PPD49TIn30    2\n",
       "LOI64QVq10    6\n",
       "Name: Trend_tag_count, Length: 4533, dtype: object"
      ]
     },
     "execution_count": 34,
     "metadata": {},
     "output_type": "execute_result"
    }
   ],
   "source": [
    "# replacing string value with median\n",
    "\n",
    "df_views_video[(df_views_video['Trend_tag_count'] == '>')] = Trend_tag_count_median\n",
    "\n",
    "# filling missing values with median\n",
    "df_views_video['Trend_tag_count'].fillna(Trend_tag_count_median)"
   ]
  },
  {
   "cell_type": "markdown",
   "metadata": {},
   "source": [
    "#### c. comment_count "
   ]
  },
  {
   "cell_type": "code",
   "execution_count": null,
   "metadata": {},
   "outputs": [],
   "source": []
  },
  {
   "cell_type": "markdown",
   "metadata": {
    "colab_type": "text",
    "id": "QY7Lvy7ruBnw"
   },
   "source": [
    "#### c. Change Popularity column from string to integer"
   ]
  },
  {
   "cell_type": "code",
   "execution_count": null,
   "metadata": {
    "colab": {},
    "colab_type": "code",
    "id": "wQns2eiNuBnx"
   },
   "outputs": [],
   "source": [
    "#converting string to int\n",
    "df_views_songs['Popularity'] = df_views_songs['Likes'].astype('int64')"
   ]
  },
  {
   "cell_type": "markdown",
   "metadata": {
    "colab_type": "text",
    "id": "6zJMWRpKuBn0"
   },
   "source": [
    "#### d. Change Timestamp column to pandas datetime"
   ]
  },
  {
   "cell_type": "code",
   "execution_count": null,
   "metadata": {
    "colab": {},
    "colab_type": "code",
    "id": "U0VjDhH5uBn1"
   },
   "outputs": [],
   "source": [
    "df_views_songs\n",
    "df_views_songs['Timestamp'] = pd.to_datetime(df_views_songs['Timestamp'])"
   ]
  },
  {
   "cell_type": "code",
   "execution_count": null,
   "metadata": {
    "colab": {
     "base_uri": "https://localhost:8080/"
    },
    "colab_type": "code",
    "executionInfo": {
     "elapsed": 7217,
     "status": "ok",
     "timestamp": 1578828651125,
     "user": {
      "displayName": "Raju MLN",
      "photoUrl": "https://lh3.googleusercontent.com/a-/AAuE7mDdD2F6AP4ITC-wA3nNzvUXQvvOKRA6SGtqecOz2w=s64",
      "userId": "08235794127640337009"
     },
     "user_tz": -330
    },
    "id": "x0sipUQkuBn3",
    "outputId": "034b9db3-1a90-473b-c834-39aa94e08508"
   },
   "outputs": [],
   "source": [
    "df_views_songs.info()"
   ]
  },
  {
   "cell_type": "markdown",
   "metadata": {
    "colab_type": "text",
    "id": "2xCbxMWDuBn8"
   },
   "source": [
    " <a id=section402></a>\n",
    "## 4.2 Filling missing values"
   ]
  },
  {
   "cell_type": "code",
   "execution_count": null,
   "metadata": {
    "colab": {},
    "colab_type": "code",
    "id": "lC7kwAFIuBn-"
   },
   "outputs": [],
   "source": [
    "column_names = list(df_views_songs.columns)\n",
    "column_names.remove('Views')"
   ]
  },
  {
   "cell_type": "code",
   "execution_count": null,
   "metadata": {
    "colab": {},
    "colab_type": "code",
    "id": "wIx0j3Y6uBoF"
   },
   "outputs": [],
   "source": [
    "columns_to_be_dropped = list()\n",
    "for i in range(0,len(column_names)):\n",
    "  if(df_views_songs[column_names[i]].isna().any()):\n",
    "    \n",
    "    # calculating missing percentage for each column\n",
    "    missing_count = sum(df_views_songs[column_names[i]].isna())\n",
    "    total_count = len(df_views_songs[column_names[i]])\n",
    "    missing_percent = (missing_count/total_count)*100\n",
    "  \n",
    "\n",
    "    # add column name to `columns_to_be_dropped` \n",
    "    # if missing percentage is greater than 70\n",
    "    if(missing_percent >= 70):\n",
    "      columns_to_be_dropped.append(column_names[i])\n",
    "    else:\n",
    "\n",
    "      # checking datatype of each column so that we know \n",
    "      # which value to be replaced in missing value(median/mode)\n",
    "      if(df_views_songs[column_names[i]].dtype == 'object'):\n",
    "        value_to_be_filled = df_views_songs[column_names[i]].mode()[0]\n",
    "        df_views_songs[column_names[i]].fillna(value_to_be_filled, inplace=True)\n",
    "      elif(df_views_songs[column_names[i]].dtype == 'float64' or df_views_songs[column_names[i]].dtype == 'int64'):\n",
    "         value_to_be_filled = df_views_songs[column_names[i]].median()\n",
    "         df_views_songs[column_names[i]].fillna(value_to_be_filled, inplace=True)\n",
    "\n",
    "# droping all columns who have more than 70% missing values\n",
    "df_views_songs.drop(columns_to_be_dropped, axis=1, inplace=True)"
   ]
  },
  {
   "cell_type": "code",
   "execution_count": null,
   "metadata": {
    "colab": {
     "base_uri": "https://localhost:8080/"
    },
    "colab_type": "code",
    "executionInfo": {
     "elapsed": 7198,
     "status": "ok",
     "timestamp": 1578828651126,
     "user": {
      "displayName": "Raju MLN",
      "photoUrl": "https://lh3.googleusercontent.com/a-/AAuE7mDdD2F6AP4ITC-wA3nNzvUXQvvOKRA6SGtqecOz2w=s64",
      "userId": "08235794127640337009"
     },
     "user_tz": -330
    },
    "id": "DtsNCZXduBoI",
    "outputId": "126b2bc7-5f94-4198-991e-89a06c27112c"
   },
   "outputs": [],
   "source": [
    "df_views_songs.info()"
   ]
  },
  {
   "cell_type": "markdown",
   "metadata": {
    "colab_type": "text",
    "id": "ERXFES6euBoK"
   },
   "source": [
    "**Observations:**\n",
    "\n",
    "We don't have any missing values. Good to go."
   ]
  },
  {
   "cell_type": "markdown",
   "metadata": {
    "colab_type": "text",
    "id": "olh_1znauBoL"
   },
   "source": [
    " <a id=section403></a>\n",
    "## 4.3 Remove highly correlated columns"
   ]
  },
  {
   "cell_type": "code",
   "execution_count": null,
   "metadata": {
    "colab": {
     "base_uri": "https://localhost:8080/"
    },
    "colab_type": "code",
    "executionInfo": {
     "elapsed": 7186,
     "status": "ok",
     "timestamp": 1578828651126,
     "user": {
      "displayName": "Raju MLN",
      "photoUrl": "https://lh3.googleusercontent.com/a-/AAuE7mDdD2F6AP4ITC-wA3nNzvUXQvvOKRA6SGtqecOz2w=s64",
      "userId": "08235794127640337009"
     },
     "user_tz": -330
    },
    "id": "vLmo_3EDuBoM",
    "outputId": "f5eeb1cd-3bfe-4122-a0d6-8bfcbc8e5388"
   },
   "outputs": [],
   "source": [
    "# extracting feature columns\n",
    "feature_cols = list(df_views_songs.columns)\n",
    "feature_cols.remove('Views')\n",
    "feature_cols.remove('Is_Test_Data')\n",
    "feature_cols"
   ]
  },
  {
   "cell_type": "code",
   "execution_count": null,
   "metadata": {
    "colab": {
     "base_uri": "https://localhost:8080/"
    },
    "colab_type": "code",
    "executionInfo": {
     "elapsed": 7173,
     "status": "ok",
     "timestamp": 1578828651127,
     "user": {
      "displayName": "Raju MLN",
      "photoUrl": "https://lh3.googleusercontent.com/a-/AAuE7mDdD2F6AP4ITC-wA3nNzvUXQvvOKRA6SGtqecOz2w=s64",
      "userId": "08235794127640337009"
     },
     "user_tz": -330
    },
    "id": "fdUD4psuuBoO",
    "outputId": "6e310c39-605e-4edc-ab36-1f42210b61f7"
   },
   "outputs": [],
   "source": [
    "# extracting highly correlated columns(except target variable) to drop\n",
    "\n",
    "# Create correlation matrix\n",
    "corr_matrix = df_views_songs[feature_cols].corr().abs()\n",
    "\n",
    "# Select upper triangle of correlation matrix\n",
    "upper = corr_matrix.where(np.triu(np.ones(corr_matrix.shape), k=1).astype(np.bool))\n",
    "\n",
    "# Find index of feature columns with correlation greater than 0.80\n",
    "cols_to_drop = [column for column in upper.columns if any(upper[column] > 0.70)]\n",
    "cols_to_drop"
   ]
  },
  {
   "cell_type": "markdown",
   "metadata": {
    "colab_type": "text",
    "id": "3ZUafd2WuBoQ"
   },
   "source": [
    "**Observations :** We have two highly correlated independant columns. Let's drop one."
   ]
  },
  {
   "cell_type": "code",
   "execution_count": null,
   "metadata": {
    "colab": {},
    "colab_type": "code",
    "id": "zLP6iKqtuBoR"
   },
   "outputs": [],
   "source": [
    "# lets drop Popularity\n",
    "df_views_songs.drop('Popularity', axis=1, inplace=True)"
   ]
  },
  {
   "cell_type": "markdown",
   "metadata": {
    "colab_type": "text",
    "id": "8-7mV5quuBoT"
   },
   "source": [
    " <a id=section404></a>\n",
    "## 4.4 Handling Outliers\n",
    "\n",
    "Concept of outliers is only applicable to continuous variables.\n",
    "\n",
    "NOTE:\n",
    "\n",
    "1. Remove ouliers if percentage is less than 2%\n",
    "\n",
    "2. Fill remaining outliers values with median(continuous) or mode(categorical) depending on data.\n",
    "\n"
   ]
  },
  {
   "cell_type": "code",
   "execution_count": null,
   "metadata": {
    "colab": {
     "base_uri": "https://localhost:8080/"
    },
    "colab_type": "code",
    "executionInfo": {
     "elapsed": 7158,
     "status": "ok",
     "timestamp": 1578828651129,
     "user": {
      "displayName": "Raju MLN",
      "photoUrl": "https://lh3.googleusercontent.com/a-/AAuE7mDdD2F6AP4ITC-wA3nNzvUXQvvOKRA6SGtqecOz2w=s64",
      "userId": "08235794127640337009"
     },
     "user_tz": -330
    },
    "id": "vMUzz5spuBoU",
    "outputId": "423d55e3-d416-4de1-cb01-5be18703bd99"
   },
   "outputs": [],
   "source": [
    "# storing columns with continuos datatype in 'continuos_cols' \n",
    "continuous_columns = []\n",
    "categorical_columns = []\n",
    "cols = df_views_songs.columns\n",
    "\n",
    "for i in range(0,len(cols)):\n",
    "  if(df_views_songs[cols[i]].dtype != 'object'):\n",
    "    continuous_columns.append(cols[i])\n",
    "  else:\n",
    "    categorical_columns.append(cols[i])\n",
    "\n",
    "continuous_columns.remove('Timestamp')\n",
    "continuous_columns.remove('Views')\n",
    "\n",
    "print(continuous_columns)\n",
    "print(categorical_columns)"
   ]
  },
  {
   "cell_type": "code",
   "execution_count": null,
   "metadata": {
    "colab": {
     "base_uri": "https://localhost:8080/"
    },
    "colab_type": "code",
    "executionInfo": {
     "elapsed": 7148,
     "status": "ok",
     "timestamp": 1578828651129,
     "user": {
      "displayName": "Raju MLN",
      "photoUrl": "https://lh3.googleusercontent.com/a-/AAuE7mDdD2F6AP4ITC-wA3nNzvUXQvvOKRA6SGtqecOz2w=s64",
      "userId": "08235794127640337009"
     },
     "user_tz": -330
    },
    "id": "ms0ZkslHuBoX",
    "outputId": "0df2c6b7-3eb6-41e8-ed4f-ca43befe3ba4",
    "scrolled": true
   },
   "outputs": [],
   "source": [
    "for i in range(0, len(continuous_columns)):\n",
    "  df_temp = df_views_songs[continuous_columns[i]]\n",
    "  sorted(df_temp)\n",
    "  q1, q3= np.percentile(df_temp,[10,90])\n",
    "  iqr = q3 - q1\n",
    "  lower_bound = q1 -(1.5 * iqr) \n",
    "  upper_bound = q3 +(1.5 * iqr) \n",
    "  true_index = df_temp.loc[(df_temp < lower_bound) & \\\n",
    "            (df_temp > upper_bound)].any()\n",
    "\n",
    "  print(true_index)"
   ]
  },
  {
   "cell_type": "markdown",
   "metadata": {
    "colab_type": "text",
    "id": "FCQIZbdXuBoZ"
   },
   "source": [
    "**Observations:** We don't have any outliers in the data."
   ]
  },
  {
   "cell_type": "markdown",
   "metadata": {
    "colab_type": "text",
    "id": "XAYqiZJXuBoa"
   },
   "source": [
    " <a id=section405></a>\n",
    "## 4.5 Pandas Profiling after Data Preprocessing"
   ]
  },
  {
   "cell_type": "code",
   "execution_count": null,
   "metadata": {
    "colab": {},
    "colab_type": "code",
    "id": "R2XFIgZZuBoc"
   },
   "outputs": [],
   "source": [
    "# Running pandas profiling to get better understanding of data\n",
    "#df_views_songs.profile_report(title='Pandas Profiling after Data Preprocessing', style={'full_width':True})"
   ]
  },
  {
   "cell_type": "markdown",
   "metadata": {
    "colab_type": "text",
    "id": "1uRVtps7uBof"
   },
   "source": [
    " <a id=section406></a>\n",
    "## 4.6 Exploratory Data Analysis\n",
    "\n",
    "We do EDA to have little more understanding of data which might eventually help in selecting best model for prediction"
   ]
  },
  {
   "cell_type": "markdown",
   "metadata": {
    "colab_type": "text",
    "id": "N1z29TdVuBog"
   },
   "source": [
    "### 1. Top 10 artists with most views"
   ]
  },
  {
   "cell_type": "code",
   "execution_count": null,
   "metadata": {
    "colab": {
     "base_uri": "https://localhost:8080/"
    },
    "colab_type": "code",
    "executionInfo": {
     "elapsed": 7131,
     "status": "ok",
     "timestamp": 1578828651130,
     "user": {
      "displayName": "Raju MLN",
      "photoUrl": "https://lh3.googleusercontent.com/a-/AAuE7mDdD2F6AP4ITC-wA3nNzvUXQvvOKRA6SGtqecOz2w=s64",
      "userId": "08235794127640337009"
     },
     "user_tz": -330
    },
    "id": "JgfOztwGuBog",
    "outputId": "9fac4571-fc9b-42c8-863e-b1b5864aa80b",
    "scrolled": true
   },
   "outputs": [],
   "source": [
    "df_views_songs.groupby('Name')['Views'].sum().sort_values(ascending=False).head(10)"
   ]
  },
  {
   "cell_type": "code",
   "execution_count": null,
   "metadata": {
    "colab": {
     "base_uri": "https://localhost:8080/"
    },
    "colab_type": "code",
    "executionInfo": {
     "elapsed": 8008,
     "status": "ok",
     "timestamp": 1578828652019,
     "user": {
      "displayName": "Raju MLN",
      "photoUrl": "https://lh3.googleusercontent.com/a-/AAuE7mDdD2F6AP4ITC-wA3nNzvUXQvvOKRA6SGtqecOz2w=s64",
      "userId": "08235794127640337009"
     },
     "user_tz": -330
    },
    "id": "pTWnLVQHuBoj",
    "outputId": "4960f7c9-7c7f-4693-d055-5e4a2f99aa4f"
   },
   "outputs": [],
   "source": [
    "# plotting\n",
    "df = pd.DataFrame(\n",
    "\t{\n",
    "    'Views':df_views_songs.groupby('Name')['Views'].sum().sort_values(ascending=False).head(10)\n",
    "\t}\n",
    "\t) \n",
    "df.plot.bar(rot=0,figsize=(32, 7))"
   ]
  },
  {
   "cell_type": "markdown",
   "metadata": {
    "colab_type": "text",
    "id": "y7oyrCBcuBol"
   },
   "source": [
    "### 2. Top 10 songs with most views"
   ]
  },
  {
   "cell_type": "code",
   "execution_count": null,
   "metadata": {
    "colab": {
     "base_uri": "https://localhost:8080/"
    },
    "colab_type": "code",
    "executionInfo": {
     "elapsed": 7996,
     "status": "ok",
     "timestamp": 1578828652022,
     "user": {
      "displayName": "Raju MLN",
      "photoUrl": "https://lh3.googleusercontent.com/a-/AAuE7mDdD2F6AP4ITC-wA3nNzvUXQvvOKRA6SGtqecOz2w=s64",
      "userId": "08235794127640337009"
     },
     "user_tz": -330
    },
    "id": "3V9O3iHbuBom",
    "outputId": "9da05652-5ec1-4abf-8eb4-9350487970e8",
    "scrolled": false
   },
   "outputs": [],
   "source": [
    "df_views_songs.groupby('Song_Name')['Views'].sum().sort_values(ascending=False).head(10)"
   ]
  },
  {
   "cell_type": "code",
   "execution_count": null,
   "metadata": {
    "colab": {
     "base_uri": "https://localhost:8080/"
    },
    "colab_type": "code",
    "executionInfo": {
     "elapsed": 10233,
     "status": "ok",
     "timestamp": 1578828654277,
     "user": {
      "displayName": "Raju MLN",
      "photoUrl": "https://lh3.googleusercontent.com/a-/AAuE7mDdD2F6AP4ITC-wA3nNzvUXQvvOKRA6SGtqecOz2w=s64",
      "userId": "08235794127640337009"
     },
     "user_tz": -330
    },
    "id": "uGx7nMmwuBoo",
    "outputId": "bd4d61eb-0b70-456b-a196-dc681f7fd10c"
   },
   "outputs": [],
   "source": [
    "df = pd.DataFrame(\n",
    "\t{\n",
    "    'Views':df_views_songs.groupby('Song_Name')['Views'].sum().sort_values(ascending=False).head(10)\n",
    "\t}\n",
    "\t) \n",
    "df.plot.bar(rot=0,figsize=(32, 7))"
   ]
  },
  {
   "cell_type": "markdown",
   "metadata": {
    "colab_type": "text",
    "id": "9Sbaj1YGuBos"
   },
   "source": [
    "### 3. Top 10 genre with most views"
   ]
  },
  {
   "cell_type": "code",
   "execution_count": null,
   "metadata": {
    "colab": {
     "base_uri": "https://localhost:8080/"
    },
    "colab_type": "code",
    "executionInfo": {
     "elapsed": 10218,
     "status": "ok",
     "timestamp": 1578828654278,
     "user": {
      "displayName": "Raju MLN",
      "photoUrl": "https://lh3.googleusercontent.com/a-/AAuE7mDdD2F6AP4ITC-wA3nNzvUXQvvOKRA6SGtqecOz2w=s64",
      "userId": "08235794127640337009"
     },
     "user_tz": -330
    },
    "id": "gOKFPpqQuBot",
    "outputId": "3936a210-f3a7-4fe6-e9a1-274434765e90",
    "scrolled": false
   },
   "outputs": [],
   "source": [
    "df_views_songs.groupby('Genre')['Views'].sum().sort_values(ascending=False).head(10)"
   ]
  },
  {
   "cell_type": "code",
   "execution_count": null,
   "metadata": {
    "colab": {
     "base_uri": "https://localhost:8080/"
    },
    "colab_type": "code",
    "executionInfo": {
     "elapsed": 10207,
     "status": "ok",
     "timestamp": 1578828654279,
     "user": {
      "displayName": "Raju MLN",
      "photoUrl": "https://lh3.googleusercontent.com/a-/AAuE7mDdD2F6AP4ITC-wA3nNzvUXQvvOKRA6SGtqecOz2w=s64",
      "userId": "08235794127640337009"
     },
     "user_tz": -330
    },
    "id": "nX8uED7LuBow",
    "outputId": "4965b149-6a76-4da9-a02d-18c797eca397"
   },
   "outputs": [],
   "source": [
    "df = pd.DataFrame(\n",
    "\t{\n",
    "    'Genre':df_views_songs.groupby('Genre')['Views'].sum().sort_values(ascending=False).head(10)\n",
    "\t}\n",
    "\t) \n",
    "df.plot.bar(rot=0,figsize=(32, 7))"
   ]
  },
  {
   "cell_type": "code",
   "execution_count": null,
   "metadata": {
    "colab": {
     "base_uri": "https://localhost:8080/"
    },
    "colab_type": "code",
    "executionInfo": {
     "elapsed": 10196,
     "status": "ok",
     "timestamp": 1578828654279,
     "user": {
      "displayName": "Raju MLN",
      "photoUrl": "https://lh3.googleusercontent.com/a-/AAuE7mDdD2F6AP4ITC-wA3nNzvUXQvvOKRA6SGtqecOz2w=s64",
      "userId": "08235794127640337009"
     },
     "user_tz": -330
    },
    "id": "I3yE6lGOuBo1",
    "outputId": "c432e1a2-9716-4aac-c272-460f9370d7a2",
    "scrolled": true
   },
   "outputs": [],
   "source": [
    "df_views_songs.columns"
   ]
  },
  {
   "cell_type": "markdown",
   "metadata": {
    "colab_type": "text",
    "id": "AK66Ggama2W-"
   },
   "source": [
    " <a id=section5></a>\n",
    "# 5. Data preparation for model building"
   ]
  },
  {
   "cell_type": "markdown",
   "metadata": {
    "colab_type": "text",
    "id": "cf3wx6xMa2XA"
   },
   "source": [
    " <a id=section501></a>\n",
    "## 5.1 Dummification / One-Hot Encoding of categorical variables"
   ]
  },
  {
   "cell_type": "code",
   "execution_count": null,
   "metadata": {
    "colab": {
     "base_uri": "https://localhost:8080/",
     "height": 67
    },
    "colab_type": "code",
    "executionInfo": {
     "elapsed": 10179,
     "status": "ok",
     "timestamp": 1578828654280,
     "user": {
      "displayName": "Raju MLN",
      "photoUrl": "https://lh3.googleusercontent.com/a-/AAuE7mDdD2F6AP4ITC-wA3nNzvUXQvvOKRA6SGtqecOz2w=s64",
      "userId": "08235794127640337009"
     },
     "user_tz": -330
    },
    "id": "CO_xJ7gKuBo7",
    "outputId": "5f5a24d1-091f-4b95-f596-f7d9bba23a4e"
   },
   "outputs": [],
   "source": [
    "# lets look at how many unique labels each category has\n",
    "for i in range(0, len(categorical_columns)):\n",
    "  print(categorical_columns[i], \" - \", df_views_songs[categorical_columns[i]].nunique())"
   ]
  },
  {
   "cell_type": "markdown",
   "metadata": {
    "colab_type": "text",
    "id": "40O1zNwNuBo-"
   },
   "source": [
    "**Observations:**\n",
    " \n",
    "As we have lots of categories in one column,\n",
    "\n",
    "Can we apply below thesis results?\n",
    "\n",
    "http://proceedings.mlr.press/v7/niculescu09/niculescu09.pdf\n",
    "\n",
    "\n",
    "**Summary:**\n",
    "\n",
    "<img src=\"./images/one-hot-encoding.png\" height='200px' width='100%'><br/>"
   ]
  },
  {
   "cell_type": "code",
   "execution_count": null,
   "metadata": {
    "colab": {
     "base_uri": "https://localhost:8080/",
     "height": 413
    },
    "colab_type": "code",
    "executionInfo": {
     "elapsed": 10154,
     "status": "ok",
     "timestamp": 1578828654280,
     "user": {
      "displayName": "Raju MLN",
      "photoUrl": "https://lh3.googleusercontent.com/a-/AAuE7mDdD2F6AP4ITC-wA3nNzvUXQvvOKRA6SGtqecOz2w=s64",
      "userId": "08235794127640337009"
     },
     "user_tz": -330
    },
    "id": "U7udISnNuBpB",
    "outputId": "59eec0fb-56bc-4746-9080-d95c704709ab"
   },
   "outputs": [],
   "source": [
    "for col in categorical_columns:\n",
    "    imp_labels = list(df_views_songs[col].value_counts().head(10).index)\n",
    "    \n",
    "    for label in imp_labels:\n",
    "        df_views_songs[col+'_'+label] = np.where(df_views_songs[col] == label, 1, 0)\n",
    "    \n",
    "    df_views_songs.drop(col, axis = 1, inplace=True)\n",
    "    \n",
    "df_views_songs.head()"
   ]
  },
  {
   "cell_type": "markdown",
   "metadata": {
    "colab_type": "text",
    "id": "g7YfO8iSuBpH"
   },
   "source": [
    "**Observations:**\n",
    "\n",
    "We have 36* columns after one-hot encoding"
   ]
  },
  {
   "cell_type": "code",
   "execution_count": null,
   "metadata": {
    "colab": {
     "base_uri": "https://localhost:8080/",
     "height": 50
    },
    "colab_type": "code",
    "executionInfo": {
     "elapsed": 10104,
     "status": "ok",
     "timestamp": 1578828654281,
     "user": {
      "displayName": "Raju MLN",
      "photoUrl": "https://lh3.googleusercontent.com/a-/AAuE7mDdD2F6AP4ITC-wA3nNzvUXQvvOKRA6SGtqecOz2w=s64",
      "userId": "08235794127640337009"
     },
     "user_tz": -330
    },
    "id": "g3MYSZYZuBpH",
    "outputId": "63405b4b-c643-40c5-a5ec-2bdcdb9bbfb9"
   },
   "outputs": [],
   "source": [
    "feature_cols = list(df_views_songs.columns)\n",
    "\n",
    "for col in continuous_columns:\n",
    "    if col in feature_cols:\n",
    "        feature_cols.remove(col)\n",
    "\n",
    "# let's remove Timestamp from prediction\n",
    "feature_cols.remove('Timestamp')\n",
    "\n",
    "feature_cols.remove('Views')\n",
    "\n",
    "categorical_columns = feature_cols\n",
    "\n",
    "print('continuous_columns length : {} '.format(len(continuous_columns)))\n",
    "print('categorical_columns length : {}'.format(len(categorical_columns)))"
   ]
  },
  {
   "cell_type": "markdown",
   "metadata": {
    "colab_type": "text",
    "id": "CG-N0SUra2XJ"
   },
   "source": [
    " <a id=section502></a>\n",
    " ## 5.2 Standardizing continuous variables"
   ]
  },
  {
   "cell_type": "code",
   "execution_count": null,
   "metadata": {
    "colab": {
     "base_uri": "https://localhost:8080/",
     "height": 34
    },
    "colab_type": "code",
    "executionInfo": {
     "elapsed": 10081,
     "status": "ok",
     "timestamp": 1578828654282,
     "user": {
      "displayName": "Raju MLN",
      "photoUrl": "https://lh3.googleusercontent.com/a-/AAuE7mDdD2F6AP4ITC-wA3nNzvUXQvvOKRA6SGtqecOz2w=s64",
      "userId": "08235794127640337009"
     },
     "user_tz": -330
    },
    "id": "YeB-0MrsuBpN",
    "outputId": "7023167b-344f-4d41-fcd0-e0b0b7399997"
   },
   "outputs": [],
   "source": [
    "continuous_columns"
   ]
  },
  {
   "cell_type": "code",
   "execution_count": null,
   "metadata": {
    "colab": {},
    "colab_type": "code",
    "id": "MDZDLzJnuBpP"
   },
   "outputs": [],
   "source": [
    "from sklearn.preprocessing import StandardScaler\n",
    "\n",
    "continuous_columns.remove('Is_Test_Data')\n",
    "# standardizing of data\n",
    "scaler = StandardScaler().fit(df_views_songs[continuous_columns])\n",
    "data = scaler.transform(df_views_songs[continuous_columns])"
   ]
  },
  {
   "cell_type": "code",
   "execution_count": null,
   "metadata": {
    "colab": {
     "base_uri": "https://localhost:8080/",
     "height": 34
    },
    "colab_type": "code",
    "executionInfo": {
     "elapsed": 10049,
     "status": "ok",
     "timestamp": 1578828654283,
     "user": {
      "displayName": "Raju MLN",
      "photoUrl": "https://lh3.googleusercontent.com/a-/AAuE7mDdD2F6AP4ITC-wA3nNzvUXQvvOKRA6SGtqecOz2w=s64",
      "userId": "08235794127640337009"
     },
     "user_tz": -330
    },
    "id": "ID0NAymwRM7R",
    "outputId": "9ac03ccd-3110-4458-9b66-4d5d34d9eb2a",
    "scrolled": true
   },
   "outputs": [],
   "source": [
    "# forming dataframe after standardization\n",
    "df_views_songs_sd= pd.DataFrame(data)\n",
    "df_views_songs_sd.columns = continuous_columns\n",
    "df_views_songs_sd.index = df_views_songs.index\n",
    "print(df_views_songs_sd.shape)"
   ]
  },
  {
   "cell_type": "markdown",
   "metadata": {
    "colab_type": "text",
    "id": "S4cLX3TIuBpU"
   },
   "source": [
    "#### Merging all columns together."
   ]
  },
  {
   "cell_type": "code",
   "execution_count": null,
   "metadata": {
    "colab": {
     "base_uri": "https://localhost:8080/",
     "height": 34
    },
    "colab_type": "code",
    "executionInfo": {
     "elapsed": 10025,
     "status": "ok",
     "timestamp": 1578828654284,
     "user": {
      "displayName": "Raju MLN",
      "photoUrl": "https://lh3.googleusercontent.com/a-/AAuE7mDdD2F6AP4ITC-wA3nNzvUXQvvOKRA6SGtqecOz2w=s64",
      "userId": "08235794127640337009"
     },
     "user_tz": -330
    },
    "id": "xUg9OG4zdvT4",
    "outputId": "b86f8874-ee31-4404-f28a-a3a3b77ff731"
   },
   "outputs": [],
   "source": [
    "# merge ctegorical and continuos columns\n",
    "df_views_songs_sd = pd.concat([df_views_songs_sd, df_views_songs[categorical_columns]],axis=1).reindex(df_views_songs.index)\n",
    "df_views_songs_sd.shape"
   ]
  },
  {
   "cell_type": "code",
   "execution_count": null,
   "metadata": {
    "colab": {
     "base_uri": "https://localhost:8080/",
     "height": 34
    },
    "colab_type": "code",
    "executionInfo": {
     "elapsed": 9991,
     "status": "ok",
     "timestamp": 1578828654284,
     "user": {
      "displayName": "Raju MLN",
      "photoUrl": "https://lh3.googleusercontent.com/a-/AAuE7mDdD2F6AP4ITC-wA3nNzvUXQvvOKRA6SGtqecOz2w=s64",
      "userId": "08235794127640337009"
     },
     "user_tz": -330
    },
    "id": "rM1_aE7MW0lN",
    "outputId": "68f9cd34-84a3-4a12-e414-3e77256e59bc"
   },
   "outputs": [],
   "source": [
    "# add Is_Test_Data column\n",
    "df_views_songs_sd = pd.concat([df_views_songs_sd, df_views_songs['Is_Test_Data']],axis=1).reindex(df_views_songs.index)\n",
    "\n",
    "df_views_songs_sd.shape"
   ]
  },
  {
   "cell_type": "code",
   "execution_count": null,
   "metadata": {
    "colab": {
     "base_uri": "https://localhost:8080/",
     "height": 34
    },
    "colab_type": "code",
    "executionInfo": {
     "elapsed": 9962,
     "status": "ok",
     "timestamp": 1578828654285,
     "user": {
      "displayName": "Raju MLN",
      "photoUrl": "https://lh3.googleusercontent.com/a-/AAuE7mDdD2F6AP4ITC-wA3nNzvUXQvvOKRA6SGtqecOz2w=s64",
      "userId": "08235794127640337009"
     },
     "user_tz": -330
    },
    "id": "LBZ51yPALJJH",
    "outputId": "5cfd2e63-67c4-4fa4-bb06-cd699345b1ac"
   },
   "outputs": [],
   "source": [
    "# add Views column\n",
    "df_views_songs_sd = pd.concat([df_views_songs_sd, df_views_songs['Views']],axis=1).reindex(df_views_songs.index)\n",
    "df_views_songs_sd.shape"
   ]
  },
  {
   "cell_type": "markdown",
   "metadata": {
    "colab_type": "text",
    "id": "rHtg7_BTa2XO"
   },
   "source": [
    " <a id=section6></a>\n",
    " # 6. Ensemble Modelling and Prediction\n",
    " \n",
    " Ensemble modeling is a process where multiple diverse models are created to predict an outcome, either by using many different modeling algorithms or using different training data sets. The ensemble model then aggregates the prediction of each base model and results in once final prediction for the unseen data."
   ]
  },
  {
   "cell_type": "markdown",
   "metadata": {
    "colab_type": "text",
    "id": "SVMM7mziuBpl"
   },
   "source": [
    " <a id=section601></a>\n",
    " ## 6.1 Linear Regression\n",
    " \n",
    " \n",
    "Linear regression is a basic and commonly used type of predictive analysis.  The overall idea of regression is to examine two things: \n",
    "\n",
    "1. Does a set of predictor variables do a good job in predicting an outcome (dependent) variable?  \n",
    "2. Which variables in particular are significant predictors of the outcome variable, and in what way do they–indicated by the magnitude and sign of the beta estimates–impact the outcome variable?  \n",
    "\n",
    "These regression estimates are used to explain the relationship between one dependent variable and one or more independent variables.  The simplest form of the regression equation with one dependent and one independent variable is defined by the formula y = c + b*x, where y = estimated dependent variable score, c = constant, b = regression coefficient, and x = score on the independent variable.\n"
   ]
  },
  {
   "cell_type": "markdown",
   "metadata": {
    "colab_type": "text",
    "id": "o6GwkHLRuBpl"
   },
   "source": [
    " <a id=section60101></a>\n",
    "### 6.1.1  Checking assumptions of Linear Regression"
   ]
  },
  {
   "cell_type": "markdown",
   "metadata": {
    "colab_type": "text",
    "id": "ZXI2i13b5NmP"
   },
   "source": [
    "#### a. Independant variables shouldn't be correlated"
   ]
  },
  {
   "cell_type": "markdown",
   "metadata": {
    "colab_type": "text",
    "id": "C0pmobqzJ4Pi"
   },
   "source": [
    "**NOTE:**\n",
    "\n",
    "Above assumption is taken care in [Remove highly correlated columns](#section403). Moving forward."
   ]
  },
  {
   "cell_type": "markdown",
   "metadata": {
    "colab_type": "text",
    "id": "lSmrkLSJ5XyV"
   },
   "source": [
    "#### b.  Independant variables and target variable should have linear relation"
   ]
  },
  {
   "cell_type": "code",
   "execution_count": null,
   "metadata": {
    "colab": {
     "base_uri": "https://localhost:8080/",
     "height": 34
    },
    "colab_type": "code",
    "executionInfo": {
     "elapsed": 9934,
     "status": "ok",
     "timestamp": 1578828654285,
     "user": {
      "displayName": "Raju MLN",
      "photoUrl": "https://lh3.googleusercontent.com/a-/AAuE7mDdD2F6AP4ITC-wA3nNzvUXQvvOKRA6SGtqecOz2w=s64",
      "userId": "08235794127640337009"
     },
     "user_tz": -330
    },
    "id": "xdlLU0JgLehN",
    "outputId": "fb013e6d-e374-4523-ebf3-f9090b16c645"
   },
   "outputs": [],
   "source": [
    "continuous_columns"
   ]
  },
  {
   "cell_type": "code",
   "execution_count": null,
   "metadata": {
    "colab": {},
    "colab_type": "code",
    "id": "dYKMFWefK5KI"
   },
   "outputs": [],
   "source": [
    "feature_cols = continuous_columns"
   ]
  },
  {
   "cell_type": "code",
   "execution_count": null,
   "metadata": {
    "colab": {
     "base_uri": "https://localhost:8080/",
     "height": 34
    },
    "colab_type": "code",
    "executionInfo": {
     "elapsed": 9909,
     "status": "ok",
     "timestamp": 1578828654286,
     "user": {
      "displayName": "Raju MLN",
      "photoUrl": "https://lh3.googleusercontent.com/a-/AAuE7mDdD2F6AP4ITC-wA3nNzvUXQvvOKRA6SGtqecOz2w=s64",
      "userId": "08235794127640337009"
     },
     "user_tz": -330
    },
    "id": "r_7RUtsw5sdM",
    "outputId": "be2b3a52-9df0-46d7-da7e-f97b2b9b8958"
   },
   "outputs": [],
   "source": [
    "cols_to_drop = list()\n",
    "\n",
    "# iterating through feature columns and collecting all columns \n",
    "# who have less than 0.1 correlation with target variable\n",
    "for i in range(0, len(feature_cols)):\n",
    "    corr_matrix = df_views_songs_sd[['Views', feature_cols[i]]].corr().abs()\n",
    "    if(corr_matrix.iloc[0][1] < 0.1):\n",
    "        cols_to_drop.append(feature_cols[i])\n",
    "\n",
    "#dropping all uncorrelated columns\n",
    "df_views_songs_sd.drop(cols_to_drop, axis = 1, inplace=True)\n",
    "df_views_songs_sd.shape"
   ]
  },
  {
   "cell_type": "markdown",
   "metadata": {
    "colab_type": "text",
    "id": "weWfKFrAuBp5"
   },
   "source": [
    "**NOTE:**\n",
    "\n",
    "Dropped all columns who have less than **0.1 correlation** with target variable."
   ]
  },
  {
   "cell_type": "markdown",
   "metadata": {
    "colab_type": "text",
    "id": "T-Ry-JqGxLkH"
   },
   "source": [
    "#### c. Target variable should be normally distributed\n"
   ]
  },
  {
   "cell_type": "code",
   "execution_count": null,
   "metadata": {
    "colab": {
     "base_uri": "https://localhost:8080/",
     "height": 322
    },
    "colab_type": "code",
    "executionInfo": {
     "elapsed": 11833,
     "status": "ok",
     "timestamp": 1578828656236,
     "user": {
      "displayName": "Raju MLN",
      "photoUrl": "https://lh3.googleusercontent.com/a-/AAuE7mDdD2F6AP4ITC-wA3nNzvUXQvvOKRA6SGtqecOz2w=s64",
      "userId": "08235794127640337009"
     },
     "user_tz": -330
    },
    "id": "y7BQ2SyKxR7X",
    "outputId": "aeb5b503-ae77-4479-e292-3a22aff8332a"
   },
   "outputs": [],
   "source": [
    "views = df_views_songs_sd[df_views_songs_sd['Is_Test_Data'] == 0]['Views']\n",
    "sns.distplot(views, color=\"b\")"
   ]
  },
  {
   "cell_type": "markdown",
   "metadata": {
    "colab_type": "text",
    "id": "4JEU8vK5uBpp"
   },
   "source": [
    "**Observations**\n",
    "\n",
    "1. We observe target variable i.e; **Views** is not normally distributed\n",
    "2. Lets apply different transformation and check."
   ]
  },
  {
   "cell_type": "code",
   "execution_count": null,
   "metadata": {
    "colab": {
     "base_uri": "https://localhost:8080/",
     "height": 308
    },
    "colab_type": "code",
    "executionInfo": {
     "elapsed": 11796,
     "status": "ok",
     "timestamp": 1578828656237,
     "user": {
      "displayName": "Raju MLN",
      "photoUrl": "https://lh3.googleusercontent.com/a-/AAuE7mDdD2F6AP4ITC-wA3nNzvUXQvvOKRA6SGtqecOz2w=s64",
      "userId": "08235794127640337009"
     },
     "user_tz": -330
    },
    "id": "aes3NCgP0rJa",
    "outputId": "82c7f65c-73c8-43af-9f94-e9bc77c6c945"
   },
   "outputs": [],
   "source": [
    "views_trans = views.apply(lambda x : x**(1/10))\n",
    "sns.distplot(views_trans, color=\"b\")"
   ]
  },
  {
   "cell_type": "markdown",
   "metadata": {
    "colab_type": "text",
    "id": "QsSi6XTSuBpr"
   },
   "source": [
    "**Observations:** Current transformation has made it little better. Let's continue."
   ]
  },
  {
   "cell_type": "code",
   "execution_count": null,
   "metadata": {
    "colab": {},
    "colab_type": "code",
    "id": "irTKVTUEMgs4"
   },
   "outputs": [],
   "source": [
    "views_trans = pd.DataFrame({'Views':views_trans})"
   ]
  },
  {
   "cell_type": "markdown",
   "metadata": {
    "colab_type": "text",
    "id": "InjPeD7bQWDR"
   },
   "source": [
    "NOTE:\n",
    "\n",
    "Let's assign newly transformed 'Views' column after train test split."
   ]
  },
  {
   "cell_type": "markdown",
   "metadata": {
    "colab_type": "text",
    "id": "dmP4mWh3uBpg"
   },
   "source": [
    " <a id=section60102></a>\n",
    " ### 6.1.2 Segregating Train and Test data"
   ]
  },
  {
   "cell_type": "code",
   "execution_count": null,
   "metadata": {
    "colab": {},
    "colab_type": "code",
    "id": "BNu4JZYyuBpg"
   },
   "outputs": [],
   "source": [
    "df_views_songs_train = df_views_songs_sd[df_views_songs_sd['Is_Test_Data'] == 0]\n",
    "df_views_songs_test = df_views_songs_sd[df_views_songs_sd['Is_Test_Data'] == 1]"
   ]
  },
  {
   "cell_type": "code",
   "execution_count": null,
   "metadata": {
    "colab": {},
    "colab_type": "code",
    "id": "1QAE9wPTuBpi"
   },
   "outputs": [],
   "source": [
    "# dropping Is_Test_Data column\n",
    " df_views_songs_train.drop('Is_Test_Data', axis=1, inplace=True)\n",
    " df_views_songs_test.drop('Is_Test_Data', axis=1, inplace=True)"
   ]
  },
  {
   "cell_type": "code",
   "execution_count": null,
   "metadata": {
    "colab": {
     "base_uri": "https://localhost:8080/",
     "height": 50
    },
    "colab_type": "code",
    "executionInfo": {
     "elapsed": 11760,
     "status": "ok",
     "timestamp": 1578828656239,
     "user": {
      "displayName": "Raju MLN",
      "photoUrl": "https://lh3.googleusercontent.com/a-/AAuE7mDdD2F6AP4ITC-wA3nNzvUXQvvOKRA6SGtqecOz2w=s64",
      "userId": "08235794127640337009"
     },
     "user_tz": -330
    },
    "id": "lZTKDtePNOqh",
    "outputId": "6336b1d6-411d-450e-e1b4-53d58fc92d77"
   },
   "outputs": [],
   "source": [
    "print(df_views_songs_train.shape)\n",
    "print(df_views_songs_test.shape)"
   ]
  },
  {
   "cell_type": "code",
   "execution_count": null,
   "metadata": {
    "colab": {},
    "colab_type": "code",
    "id": "qrWN3ylPS3Sm"
   },
   "outputs": [],
   "source": [
    "feature_cols = list(df_views_songs_train.columns)\n",
    "feature_cols.remove('Views')\n",
    "feature_cols"
   ]
  },
  {
   "cell_type": "code",
   "execution_count": null,
   "metadata": {
    "colab": {},
    "colab_type": "code",
    "id": "PBB5p8W8REyq"
   },
   "outputs": [],
   "source": [
    " X = df_views_songs_train[feature_cols]\n",
    " y = df_views_songs_train['Views']"
   ]
  },
  {
   "cell_type": "markdown",
   "metadata": {
    "colab_type": "text",
    "id": "3HCFI-T4uBp5"
   },
   "source": [
    "##### Splitting train data again into train and test data\n"
   ]
  },
  {
   "cell_type": "code",
   "execution_count": null,
   "metadata": {
    "colab": {},
    "colab_type": "code",
    "id": "ZKPSNFLIuBp6"
   },
   "outputs": [],
   "source": [
    "from sklearn.model_selection import train_test_split\n",
    "\n",
    "def split(X,y):\n",
    "    return train_test_split(X, y, test_size=0.30, random_state=1)"
   ]
  },
  {
   "cell_type": "code",
   "execution_count": null,
   "metadata": {
    "colab": {
     "base_uri": "https://localhost:8080/",
     "height": 134
    },
    "colab_type": "code",
    "executionInfo": {
     "elapsed": 11697,
     "status": "ok",
     "timestamp": 1578828656241,
     "user": {
      "displayName": "Raju MLN",
      "photoUrl": "https://lh3.googleusercontent.com/a-/AAuE7mDdD2F6AP4ITC-wA3nNzvUXQvvOKRA6SGtqecOz2w=s64",
      "userId": "08235794127640337009"
     },
     "user_tz": -330
    },
    "id": "f9SpbRN8uBp7",
    "outputId": "4dc896f0-8917-452e-e48c-b9c7d411c558"
   },
   "outputs": [],
   "source": [
    "X_train_lr, X_test_lr, y_train_lr, y_test_lr=split(X,y)\n",
    "print('Train cases as below')\n",
    "print('X_train shape: ',X_train_lr.shape)\n",
    "print('y_train shape: ',y_train_lr.shape)\n",
    "print('\\nTest cases as below')\n",
    "print('X_test shape: ',X_test_lr.shape)\n",
    "print('y_test shape: ',y_test_lr.shape)"
   ]
  },
  {
   "cell_type": "markdown",
   "metadata": {
    "colab_type": "text",
    "id": "wdVAdtoyuBp9"
   },
   "source": [
    "##### Defining Linear Regression function for modelling"
   ]
  },
  {
   "cell_type": "code",
   "execution_count": null,
   "metadata": {
    "colab": {},
    "colab_type": "code",
    "id": "W2bOrziTbvG1"
   },
   "outputs": [],
   "source": [
    "def rmse_scorer(y_actual, y_predicted) :\n",
    "  from sklearn.metrics import mean_squared_error\n",
    "  from math import sqrt\n",
    "\n",
    "  rmse = sqrt(mean_squared_error(y_actual, y_predicted))\n",
    "  return rmse"
   ]
  },
  {
   "cell_type": "code",
   "execution_count": null,
   "metadata": {
    "colab": {},
    "colab_type": "code",
    "id": "07rUjgEtbjzL"
   },
   "outputs": [],
   "source": [
    "from sklearn.metrics import make_scorer\n",
    "my_scorer = make_scorer(rmse_scorer, greater_is_better=False)"
   ]
  },
  {
   "cell_type": "code",
   "execution_count": null,
   "metadata": {
    "colab": {},
    "colab_type": "code",
    "id": "7kfQ9EgWqnwq"
   },
   "outputs": [],
   "source": [
    "from sklearn.linear_model import LinearRegression\n",
    "from sklearn.model_selection import GridSearchCV\n",
    "from sklearn.model_selection import RandomizedSearchCV\n",
    "\n",
    "def linear_reg(gridsearch = False):\n",
    "    linreg = LinearRegression() \n",
    "    if not(gridsearch):\n",
    "        parameters = {'normalize':[True,False], 'copy_X':[True, False] }\n",
    "        linreg = RandomizedSearchCV(linreg,parameters, cv = 10,refit = True , scoring = my_scorer)                                                    \n",
    "        return linreg\n",
    "    else:\n",
    "        parameters = {'normalize':[True,False], 'copy_X':[True, False]}\n",
    "        linreg = GridSearchCV(linreg,parameters, cv = 10,refit = True , scoring= my_scorer)                                                    \n",
    "        return linreg"
   ]
  },
  {
   "cell_type": "markdown",
   "metadata": {
    "colab_type": "text",
    "id": "19qiPg1Wo-dL"
   },
   "source": [
    " <a id=section60102></a>\n",
    "### 6.1.2 Using Default Model"
   ]
  },
  {
   "cell_type": "markdown",
   "metadata": {
    "colab_type": "text",
    "id": "hQw4-J0quBqA"
   },
   "source": [
    " <a id=section6010201></a>\n",
    "#### 6.1.2.1 Building Model and Prediction"
   ]
  },
  {
   "cell_type": "code",
   "execution_count": null,
   "metadata": {
    "colab": {
     "base_uri": "https://localhost:8080/",
     "height": 34
    },
    "colab_type": "code",
    "executionInfo": {
     "elapsed": 11655,
     "status": "ok",
     "timestamp": 1578828656243,
     "user": {
      "displayName": "Raju MLN",
      "photoUrl": "https://lh3.googleusercontent.com/a-/AAuE7mDdD2F6AP4ITC-wA3nNzvUXQvvOKRA6SGtqecOz2w=s64",
      "userId": "08235794127640337009"
     },
     "user_tz": -330
    },
    "id": "m4YNqH6ky8nt",
    "outputId": "e897ad76-dea4-4f41-a6d2-42a9614cd5bf"
   },
   "outputs": [],
   "source": [
    "linreg = LinearRegression()\n",
    "linreg.fit(X_train_lr,y_train_lr)"
   ]
  },
  {
   "cell_type": "code",
   "execution_count": null,
   "metadata": {
    "colab": {
     "base_uri": "https://localhost:8080/",
     "height": 168
    },
    "colab_type": "code",
    "executionInfo": {
     "elapsed": 11627,
     "status": "ok",
     "timestamp": 1578828656244,
     "user": {
      "displayName": "Raju MLN",
      "photoUrl": "https://lh3.googleusercontent.com/a-/AAuE7mDdD2F6AP4ITC-wA3nNzvUXQvvOKRA6SGtqecOz2w=s64",
      "userId": "08235794127640337009"
     },
     "user_tz": -330
    },
    "id": "kF_P_Wp5ridb",
    "outputId": "9eb54968-43c1-4bc9-a264-189cc05ea5a4"
   },
   "outputs": [],
   "source": [
    "# print the intercept and coefficients\n",
    "print('Intercept:',linreg.intercept_)\n",
    "print('Coefficients:',linreg.coef_)  "
   ]
  },
  {
   "cell_type": "code",
   "execution_count": null,
   "metadata": {
    "colab": {},
    "colab_type": "code",
    "id": "ffF_uavKrtVr"
   },
   "outputs": [],
   "source": [
    " # make predictions on the training set\n",
    "y_pred_train_lr = linreg.predict(X_train_lr) "
   ]
  },
  {
   "cell_type": "code",
   "execution_count": null,
   "metadata": {
    "colab": {},
    "colab_type": "code",
    "id": "cOIYHiuJr2zf"
   },
   "outputs": [],
   "source": [
    " # make predictions on the testing set\n",
    "y_pred_test_lr = linreg.predict(X_test_lr)  "
   ]
  },
  {
   "cell_type": "code",
   "execution_count": null,
   "metadata": {
    "colab": {},
    "colab_type": "code",
    "id": "Z1_QTFZgUeh6"
   },
   "outputs": [],
   "source": [
    "RMSE_MAP = {}"
   ]
  },
  {
   "cell_type": "markdown",
   "metadata": {
    "colab_type": "text",
    "id": "ahoydxpEuBqg"
   },
   "source": [
    " <a id=section6010202></a>\n",
    "#### 6.1.2.2 Model Evaluation"
   ]
  },
  {
   "cell_type": "markdown",
   "metadata": {
    "colab_type": "text",
    "id": "toOwYaAvuBqh"
   },
   "source": [
    "#### a. RMSE\n"
   ]
  },
  {
   "cell_type": "code",
   "execution_count": null,
   "metadata": {
    "colab": {
     "base_uri": "https://localhost:8080/",
     "height": 50
    },
    "colab_type": "code",
    "executionInfo": {
     "elapsed": 11589,
     "status": "ok",
     "timestamp": 1578828656246,
     "user": {
      "displayName": "Raju MLN",
      "photoUrl": "https://lh3.googleusercontent.com/a-/AAuE7mDdD2F6AP4ITC-wA3nNzvUXQvvOKRA6SGtqecOz2w=s64",
      "userId": "08235794127640337009"
     },
     "user_tz": -330
    },
    "id": "_UpgS1xwuBqh",
    "outputId": "7fac736e-1556-4a72-c2aa-ce72baefdcca"
   },
   "outputs": [],
   "source": [
    "from sklearn import metrics\n",
    "RMSE_train = np.sqrt( metrics.mean_squared_error(y_train_lr, y_pred_train_lr))\n",
    "print('RMSE for training set is {}'.format(RMSE_train))\n",
    "RMSE_MAP['lr_train_d'] = RMSE_train\n",
    "\n",
    "RMSE_test = np.sqrt( metrics.mean_squared_error(y_test_lr, y_pred_test_lr))\n",
    "print('RMSE for testing set is {}'.format(RMSE_test))\n",
    "RMSE_MAP['lr_test_d'] = RMSE_test"
   ]
  },
  {
   "cell_type": "markdown",
   "metadata": {
    "colab_type": "text",
    "id": "j-bx6AyvuBqk"
   },
   "source": [
    "#### b. MAPE\n"
   ]
  },
  {
   "cell_type": "code",
   "execution_count": null,
   "metadata": {
    "colab": {},
    "colab_type": "code",
    "id": "hWCUjzfYuBql"
   },
   "outputs": [],
   "source": [
    "def mean_absolute_percentage_error(y_true, y_pred): \n",
    "    y_true, y_pred = np.array(y_true), np.array(y_pred)\n",
    "    return np.mean(np.abs((y_true - y_pred) / y_true)) * 100"
   ]
  },
  {
   "cell_type": "code",
   "execution_count": null,
   "metadata": {
    "colab": {
     "base_uri": "https://localhost:8080/",
     "height": 50
    },
    "colab_type": "code",
    "executionInfo": {
     "elapsed": 11558,
     "status": "ok",
     "timestamp": 1578828656248,
     "user": {
      "displayName": "Raju MLN",
      "photoUrl": "https://lh3.googleusercontent.com/a-/AAuE7mDdD2F6AP4ITC-wA3nNzvUXQvvOKRA6SGtqecOz2w=s64",
      "userId": "08235794127640337009"
     },
     "user_tz": -330
    },
    "id": "BD8Ja0N-uBqo",
    "outputId": "0468f1e1-c672-42fd-c7a2-e1441a186eac"
   },
   "outputs": [],
   "source": [
    "mape_train_error = mean_absolute_percentage_error(y_train_lr, y_pred_train_lr)\n",
    "mape_test_error = mean_absolute_percentage_error(y_test_lr, y_pred_test_lr)\n",
    "print('MAPE for training set is {}'.format(mape_train_error))\n",
    "print('MAPE for testing set is {}'.format(mape_test_error))"
   ]
  },
  {
   "cell_type": "markdown",
   "metadata": {
    "colab_type": "text",
    "id": "aPWTERz2uBqs"
   },
   "source": [
    "#### c. R-Squared Error"
   ]
  },
  {
   "cell_type": "code",
   "execution_count": null,
   "metadata": {
    "colab": {
     "base_uri": "https://localhost:8080/"
    },
    "colab_type": "code",
    "executionInfo": {
     "elapsed": 11540,
     "status": "ok",
     "timestamp": 1578828656249,
     "user": {
      "displayName": "Raju MLN",
      "photoUrl": "https://lh3.googleusercontent.com/a-/AAuE7mDdD2F6AP4ITC-wA3nNzvUXQvvOKRA6SGtqecOz2w=s64",
      "userId": "08235794127640337009"
     },
     "user_tz": -330
    },
    "id": "YL16o6mLuBqs",
    "outputId": "efa1d3f0-cd39-4692-f6c8-aa28957fc633"
   },
   "outputs": [],
   "source": [
    "from sklearn.metrics import r2_score\n",
    "\n",
    "r_squared_train_lr = r2_score(y_train_lr,y_pred_train_lr )\n",
    "print('R-Squared for training set is {}'.format(r_squared_train_lr))"
   ]
  },
  {
   "cell_type": "code",
   "execution_count": null,
   "metadata": {
    "colab": {
     "base_uri": "https://localhost:8080/"
    },
    "colab_type": "code",
    "executionInfo": {
     "elapsed": 11529,
     "status": "ok",
     "timestamp": 1578828656249,
     "user": {
      "displayName": "Raju MLN",
      "photoUrl": "https://lh3.googleusercontent.com/a-/AAuE7mDdD2F6AP4ITC-wA3nNzvUXQvvOKRA6SGtqecOz2w=s64",
      "userId": "08235794127640337009"
     },
     "user_tz": -330
    },
    "id": "kdoKS9BRuBqu",
    "outputId": "fff6f0c7-b197-4bbe-a896-9aceeece7ff9"
   },
   "outputs": [],
   "source": [
    "r_squared_test_lr = r2_score(y_test_lr,y_pred_test_lr )\n",
    "print('R-Squared for testing set is {}'.format(r_squared_test_lr))"
   ]
  },
  {
   "cell_type": "markdown",
   "metadata": {
    "colab_type": "text",
    "id": "q1vbwN7ruBqx"
   },
   "source": [
    "#### d. Adjusted R-Squared Error"
   ]
  },
  {
   "cell_type": "code",
   "execution_count": null,
   "metadata": {
    "colab": {
     "base_uri": "https://localhost:8080/"
    },
    "colab_type": "code",
    "executionInfo": {
     "elapsed": 11517,
     "status": "ok",
     "timestamp": 1578828656249,
     "user": {
      "displayName": "Raju MLN",
      "photoUrl": "https://lh3.googleusercontent.com/a-/AAuE7mDdD2F6AP4ITC-wA3nNzvUXQvvOKRA6SGtqecOz2w=s64",
      "userId": "08235794127640337009"
     },
     "user_tz": -330
    },
    "id": "7GWw-DXIuBqx",
    "outputId": "203b8206-0407-40ca-cfe0-25cc542b4f80",
    "scrolled": true
   },
   "outputs": [],
   "source": [
    "adjusted_r_squared_train_lr = 1 - (1-r_squared_train_lr)*(len(y_train_lr)-1)/(len(y_train_lr)-X_train_lr.shape[1]-1)\n",
    "print('Adjusted R-Squared for training set is {}'.format(adjusted_r_squared_train_lr))"
   ]
  },
  {
   "cell_type": "code",
   "execution_count": null,
   "metadata": {
    "colab": {
     "base_uri": "https://localhost:8080/"
    },
    "colab_type": "code",
    "executionInfo": {
     "elapsed": 11507,
     "status": "ok",
     "timestamp": 1578828656250,
     "user": {
      "displayName": "Raju MLN",
      "photoUrl": "https://lh3.googleusercontent.com/a-/AAuE7mDdD2F6AP4ITC-wA3nNzvUXQvvOKRA6SGtqecOz2w=s64",
      "userId": "08235794127640337009"
     },
     "user_tz": -330
    },
    "id": "U868BZlvuBq3",
    "outputId": "c1d742d8-9b04-4e49-9053-d22c9d269011"
   },
   "outputs": [],
   "source": [
    "adjusted_r_squared_test_lr = 1 - (1-r_squared_test_lr)*(len(y_test_lr)-1)/(len(y_test_lr)-X_test_lr.shape[1]-1)\n",
    "print('Adjusted R-Squared for testing set is {}'.format(adjusted_r_squared_test_lr))"
   ]
  },
  {
   "cell_type": "markdown",
   "metadata": {
    "colab_type": "text",
    "id": "hRjBYMRcuBq5"
   },
   "source": [
    " <a id=section60103></a>\n",
    "### 6.1.3 Using GridSearchCV"
   ]
  },
  {
   "cell_type": "markdown",
   "metadata": {
    "colab_type": "text",
    "id": "3sZbZRs-uBq5"
   },
   "source": [
    " <a id=section6010301></a>\n",
    "#### 6.1.3.1 Building Model and Prediction"
   ]
  },
  {
   "cell_type": "code",
   "execution_count": null,
   "metadata": {
    "colab": {
     "base_uri": "https://localhost:8080/"
    },
    "colab_type": "code",
    "executionInfo": {
     "elapsed": 13053,
     "status": "ok",
     "timestamp": 1578828657808,
     "user": {
      "displayName": "Raju MLN",
      "photoUrl": "https://lh3.googleusercontent.com/a-/AAuE7mDdD2F6AP4ITC-wA3nNzvUXQvvOKRA6SGtqecOz2w=s64",
      "userId": "08235794127640337009"
     },
     "user_tz": -330
    },
    "id": "KmcHP_MnuBq6",
    "outputId": "df9e5744-2c4e-4c5e-944f-6020b62c13c2"
   },
   "outputs": [],
   "source": [
    "linreg_gs = linear_reg(True)\n",
    "linreg_gs.fit(X_train_lr,y_train_lr)"
   ]
  },
  {
   "cell_type": "code",
   "execution_count": null,
   "metadata": {
    "colab": {
     "base_uri": "https://localhost:8080/"
    },
    "colab_type": "code",
    "executionInfo": {
     "elapsed": 13041,
     "status": "ok",
     "timestamp": 1578828657809,
     "user": {
      "displayName": "Raju MLN",
      "photoUrl": "https://lh3.googleusercontent.com/a-/AAuE7mDdD2F6AP4ITC-wA3nNzvUXQvvOKRA6SGtqecOz2w=s64",
      "userId": "08235794127640337009"
     },
     "user_tz": -330
    },
    "id": "qUfOL9LfuBq9",
    "outputId": "f854f38c-3c3e-4b67-d2da-64b6c4348da5"
   },
   "outputs": [],
   "source": [
    "print(\"best_params after cross-validation : \", linreg_gs.best_params_)   "
   ]
  },
  {
   "cell_type": "code",
   "execution_count": null,
   "metadata": {
    "colab": {},
    "colab_type": "code",
    "id": "k802esjNuBq_"
   },
   "outputs": [],
   "source": [
    " # make predictions on the training set\n",
    "y_pred_train_lr_gs = linreg_gs.predict(X_train_lr) "
   ]
  },
  {
   "cell_type": "code",
   "execution_count": null,
   "metadata": {
    "colab": {},
    "colab_type": "code",
    "id": "b29Eu33yuBrB"
   },
   "outputs": [],
   "source": [
    " # make predictions on the testing set\n",
    "y_pred_test_lr_gs = linreg_gs.predict(X_test_lr)  "
   ]
  },
  {
   "cell_type": "markdown",
   "metadata": {
    "colab_type": "text",
    "id": "yO_jkHgbuBrD"
   },
   "source": [
    " <a id=section6010302></a>\n",
    "#### 6.1.3.2 Model Evaluation"
   ]
  },
  {
   "cell_type": "markdown",
   "metadata": {
    "colab_type": "text",
    "id": "bIZg4h35uBrD"
   },
   "source": [
    "#### a. RMSE\n"
   ]
  },
  {
   "cell_type": "code",
   "execution_count": null,
   "metadata": {
    "colab": {
     "base_uri": "https://localhost:8080/"
    },
    "colab_type": "code",
    "executionInfo": {
     "elapsed": 13025,
     "status": "ok",
     "timestamp": 1578828657811,
     "user": {
      "displayName": "Raju MLN",
      "photoUrl": "https://lh3.googleusercontent.com/a-/AAuE7mDdD2F6AP4ITC-wA3nNzvUXQvvOKRA6SGtqecOz2w=s64",
      "userId": "08235794127640337009"
     },
     "user_tz": -330
    },
    "id": "XCeohDueuBrE",
    "outputId": "a1663d4a-22b9-4147-e172-a4092e10d82b"
   },
   "outputs": [],
   "source": [
    "from sklearn import metrics\n",
    "RMSE_train = np.sqrt( metrics.mean_squared_error(y_train_lr, y_pred_train_lr_gs))\n",
    "print('RMSE for training set is {}'.format(RMSE_train))\n",
    "RMSE_MAP['lr_train_gs'] = RMSE_train\n",
    "\n",
    "RMSE_test = np.sqrt( metrics.mean_squared_error(y_test_lr, y_pred_test_lr_gs))\n",
    "print('RMSE for testing set is {}'.format(RMSE_test))\n",
    "RMSE_MAP['lr_test_gs'] = RMSE_test"
   ]
  },
  {
   "cell_type": "markdown",
   "metadata": {
    "colab_type": "text",
    "id": "rXSjndu7uBrG"
   },
   "source": [
    "#### b. MAPE\n"
   ]
  },
  {
   "cell_type": "code",
   "execution_count": null,
   "metadata": {
    "colab": {
     "base_uri": "https://localhost:8080/"
    },
    "colab_type": "code",
    "executionInfo": {
     "elapsed": 13013,
     "status": "ok",
     "timestamp": 1578828657811,
     "user": {
      "displayName": "Raju MLN",
      "photoUrl": "https://lh3.googleusercontent.com/a-/AAuE7mDdD2F6AP4ITC-wA3nNzvUXQvvOKRA6SGtqecOz2w=s64",
      "userId": "08235794127640337009"
     },
     "user_tz": -330
    },
    "id": "ThPzEHuWuBrJ",
    "outputId": "e3b81094-41aa-4f6d-a256-059c8d964659"
   },
   "outputs": [],
   "source": [
    "mape_train_error = mean_absolute_percentage_error(y_train_lr, y_pred_train_lr_gs)\n",
    "mape_test_error = mean_absolute_percentage_error(y_test_lr, y_pred_test_lr_gs)\n",
    "print('MAPE for training set is {}'.format(mape_train_error))\n",
    "print('MAPE for testing set is {}'.format(mape_test_error))"
   ]
  },
  {
   "cell_type": "markdown",
   "metadata": {
    "colab_type": "text",
    "id": "XDKXxYr3uBrO"
   },
   "source": [
    "#### c. R-Squared Error"
   ]
  },
  {
   "cell_type": "code",
   "execution_count": null,
   "metadata": {
    "colab": {
     "base_uri": "https://localhost:8080/"
    },
    "colab_type": "code",
    "executionInfo": {
     "elapsed": 13000,
     "status": "ok",
     "timestamp": 1578828657812,
     "user": {
      "displayName": "Raju MLN",
      "photoUrl": "https://lh3.googleusercontent.com/a-/AAuE7mDdD2F6AP4ITC-wA3nNzvUXQvvOKRA6SGtqecOz2w=s64",
      "userId": "08235794127640337009"
     },
     "user_tz": -330
    },
    "id": "ZKlq2y6LuBrO",
    "outputId": "2374ef17-5e99-4758-bfcd-73db234c673b"
   },
   "outputs": [],
   "source": [
    "from sklearn.metrics import r2_score\n",
    "\n",
    "r_squared_train_lr_gs = r2_score(y_train_lr,y_pred_train_lr_gs )\n",
    "print('R-Squared for training set is {}'.format(r_squared_train_lr_gs))"
   ]
  },
  {
   "cell_type": "code",
   "execution_count": null,
   "metadata": {
    "colab": {
     "base_uri": "https://localhost:8080/"
    },
    "colab_type": "code",
    "executionInfo": {
     "elapsed": 12989,
     "status": "ok",
     "timestamp": 1578828657812,
     "user": {
      "displayName": "Raju MLN",
      "photoUrl": "https://lh3.googleusercontent.com/a-/AAuE7mDdD2F6AP4ITC-wA3nNzvUXQvvOKRA6SGtqecOz2w=s64",
      "userId": "08235794127640337009"
     },
     "user_tz": -330
    },
    "id": "qZtOM0O6uBrR",
    "outputId": "58b2d8dd-faef-4383-c8e2-bbf50e046d33"
   },
   "outputs": [],
   "source": [
    "r_squared_test_lr_gs = r2_score(y_test_lr,y_pred_test_lr_gs )\n",
    "print('R-Squared for testing set is {}'.format(r_squared_test_lr_gs))"
   ]
  },
  {
   "cell_type": "markdown",
   "metadata": {
    "colab_type": "text",
    "id": "HleW9XkQuBrV"
   },
   "source": [
    "#### d. Adjusted R-Squared Error"
   ]
  },
  {
   "cell_type": "code",
   "execution_count": null,
   "metadata": {
    "colab": {
     "base_uri": "https://localhost:8080/"
    },
    "colab_type": "code",
    "executionInfo": {
     "elapsed": 12979,
     "status": "ok",
     "timestamp": 1578828657813,
     "user": {
      "displayName": "Raju MLN",
      "photoUrl": "https://lh3.googleusercontent.com/a-/AAuE7mDdD2F6AP4ITC-wA3nNzvUXQvvOKRA6SGtqecOz2w=s64",
      "userId": "08235794127640337009"
     },
     "user_tz": -330
    },
    "id": "OxbwTL-xuBrV",
    "outputId": "8fe6e76c-33b8-48ca-8139-8eb489e9b1ff",
    "scrolled": true
   },
   "outputs": [],
   "source": [
    "adjusted_r_squared_train_lr_gs = 1 - (1-r_squared_train_lr_gs)*(len(y_train_lr)-1)/(len(y_train_lr)-X_train_lr.shape[1]-1)\n",
    "print('Adjusted R-Squared for training set is {}'.format(adjusted_r_squared_train_lr_gs))"
   ]
  },
  {
   "cell_type": "code",
   "execution_count": null,
   "metadata": {
    "colab": {
     "base_uri": "https://localhost:8080/"
    },
    "colab_type": "code",
    "executionInfo": {
     "elapsed": 12969,
     "status": "ok",
     "timestamp": 1578828657813,
     "user": {
      "displayName": "Raju MLN",
      "photoUrl": "https://lh3.googleusercontent.com/a-/AAuE7mDdD2F6AP4ITC-wA3nNzvUXQvvOKRA6SGtqecOz2w=s64",
      "userId": "08235794127640337009"
     },
     "user_tz": -330
    },
    "id": "R2MVzrtSuBrX",
    "outputId": "ff0dcf18-2510-406c-b941-807c2aa4017b"
   },
   "outputs": [],
   "source": [
    "adjusted_r_squared_test_lr_gs = 1 - (1-r_squared_test_lr_gs)*(len(y_test_lr)-1)/(len(y_test_lr)-X_test_lr.shape[1]-1)\n",
    "print('Adjusted R-Squared for testing set is {}'.format(adjusted_r_squared_test_lr_gs))"
   ]
  },
  {
   "cell_type": "markdown",
   "metadata": {
    "colab_type": "text",
    "id": "bVSfvFgxuBra"
   },
   "source": [
    " <a id=section60104></a>\n",
    "### 6.1.4 Using RandomSearchCV"
   ]
  },
  {
   "cell_type": "markdown",
   "metadata": {
    "colab_type": "text",
    "id": "CQGe49m6uBrb"
   },
   "source": [
    " <a id=section6010401></a>\n",
    "#### 6.1.4.1 Building Model and Prediction"
   ]
  },
  {
   "cell_type": "code",
   "execution_count": null,
   "metadata": {
    "colab": {
     "base_uri": "https://localhost:8080/"
    },
    "colab_type": "code",
    "executionInfo": {
     "elapsed": 16032,
     "status": "ok",
     "timestamp": 1578828660885,
     "user": {
      "displayName": "Raju MLN",
      "photoUrl": "https://lh3.googleusercontent.com/a-/AAuE7mDdD2F6AP4ITC-wA3nNzvUXQvvOKRA6SGtqecOz2w=s64",
      "userId": "08235794127640337009"
     },
     "user_tz": -330
    },
    "id": "tocdyXKcuBrc",
    "outputId": "0921032f-40fb-496e-e444-1d955dc93783"
   },
   "outputs": [],
   "source": [
    "linreg_rs = linear_reg(False)\n",
    "linreg_rs.fit(X_train_lr,y_train_lr)"
   ]
  },
  {
   "cell_type": "code",
   "execution_count": null,
   "metadata": {
    "colab": {
     "base_uri": "https://localhost:8080/"
    },
    "colab_type": "code",
    "executionInfo": {
     "elapsed": 16025,
     "status": "ok",
     "timestamp": 1578828660887,
     "user": {
      "displayName": "Raju MLN",
      "photoUrl": "https://lh3.googleusercontent.com/a-/AAuE7mDdD2F6AP4ITC-wA3nNzvUXQvvOKRA6SGtqecOz2w=s64",
      "userId": "08235794127640337009"
     },
     "user_tz": -330
    },
    "id": "o7eCDNnCuBrg",
    "outputId": "9c1c06a2-84db-48f9-8e98-9358cb394221"
   },
   "outputs": [],
   "source": [
    "print(\"best_params after cross-validation : \", linreg_rs.best_params_)   "
   ]
  },
  {
   "cell_type": "code",
   "execution_count": null,
   "metadata": {
    "colab": {},
    "colab_type": "code",
    "id": "1uPpT2pmuBri"
   },
   "outputs": [],
   "source": [
    " # make predictions on the training set\n",
    "y_pred_train_lr_rs = linreg_rs.predict(X_train_lr) "
   ]
  },
  {
   "cell_type": "code",
   "execution_count": null,
   "metadata": {
    "colab": {},
    "colab_type": "code",
    "id": "QRloa3ieuBrj"
   },
   "outputs": [],
   "source": [
    " # make predictions on the testing set\n",
    "y_pred_test_lr_rs = linreg_rs.predict(X_test_lr)  "
   ]
  },
  {
   "cell_type": "markdown",
   "metadata": {
    "colab_type": "text",
    "id": "aokgIekOuBrl"
   },
   "source": [
    " <a id=section6010402></a>\n",
    "#### 6.1.4.2 Model Evaluation"
   ]
  },
  {
   "cell_type": "markdown",
   "metadata": {
    "colab_type": "text",
    "id": "SOSYQ0ejuBrm"
   },
   "source": [
    "#### a. RMSE\n"
   ]
  },
  {
   "cell_type": "code",
   "execution_count": null,
   "metadata": {
    "colab": {
     "base_uri": "https://localhost:8080/"
    },
    "colab_type": "code",
    "executionInfo": {
     "elapsed": 16013,
     "status": "ok",
     "timestamp": 1578828660890,
     "user": {
      "displayName": "Raju MLN",
      "photoUrl": "https://lh3.googleusercontent.com/a-/AAuE7mDdD2F6AP4ITC-wA3nNzvUXQvvOKRA6SGtqecOz2w=s64",
      "userId": "08235794127640337009"
     },
     "user_tz": -330
    },
    "id": "ruYJMd45uBrm",
    "outputId": "ec1c65fc-bbc3-4176-e65f-257921d7bb78"
   },
   "outputs": [],
   "source": [
    "from sklearn import metrics\n",
    "RMSE_train = np.sqrt( metrics.mean_squared_error(y_train_lr, y_pred_train_lr_rs))\n",
    "print('RMSE for training set is {}'.format(RMSE_train))\n",
    "RMSE_MAP['lr_train_rs'] = RMSE_train\n",
    "\n",
    "RMSE_test = np.sqrt( metrics.mean_squared_error(y_test_lr, y_pred_test_lr_rs))\n",
    "print('RMSE for testing set is {}'.format(RMSE_test))\n",
    "RMSE_MAP['lr_test_rs'] = RMSE_test"
   ]
  },
  {
   "cell_type": "markdown",
   "metadata": {
    "colab_type": "text",
    "id": "h497xmeZuBrn"
   },
   "source": [
    "#### b. MAPE\n"
   ]
  },
  {
   "cell_type": "code",
   "execution_count": null,
   "metadata": {
    "colab": {
     "base_uri": "https://localhost:8080/"
    },
    "colab_type": "code",
    "executionInfo": {
     "elapsed": 16006,
     "status": "ok",
     "timestamp": 1578828660891,
     "user": {
      "displayName": "Raju MLN",
      "photoUrl": "https://lh3.googleusercontent.com/a-/AAuE7mDdD2F6AP4ITC-wA3nNzvUXQvvOKRA6SGtqecOz2w=s64",
      "userId": "08235794127640337009"
     },
     "user_tz": -330
    },
    "id": "aSiiyiYwuBrn",
    "outputId": "5bce4111-be74-40c4-e13f-4f8010adce14"
   },
   "outputs": [],
   "source": [
    "mape_train_error = mean_absolute_percentage_error(y_train_lr, y_pred_train_lr_rs)\n",
    "mape_test_error = mean_absolute_percentage_error(y_test_lr, y_pred_test_lr_rs)\n",
    "print('MAPE for training set is {}'.format(mape_train_error))\n",
    "print('MAPE for testing set is {}'.format(mape_test_error))"
   ]
  },
  {
   "cell_type": "markdown",
   "metadata": {
    "colab_type": "text",
    "id": "ZamyNRnFuBrp"
   },
   "source": [
    "#### c. R-Squared Error"
   ]
  },
  {
   "cell_type": "code",
   "execution_count": null,
   "metadata": {
    "colab": {
     "base_uri": "https://localhost:8080/"
    },
    "colab_type": "code",
    "executionInfo": {
     "elapsed": 15997,
     "status": "ok",
     "timestamp": 1578828660892,
     "user": {
      "displayName": "Raju MLN",
      "photoUrl": "https://lh3.googleusercontent.com/a-/AAuE7mDdD2F6AP4ITC-wA3nNzvUXQvvOKRA6SGtqecOz2w=s64",
      "userId": "08235794127640337009"
     },
     "user_tz": -330
    },
    "id": "nPifuD7ruBrp",
    "outputId": "8374c564-f75c-43a5-f40a-9e4504740c0f"
   },
   "outputs": [],
   "source": [
    "from sklearn.metrics import r2_score\n",
    "\n",
    "r_squared_train_lr_rs = r2_score(y_train_lr,y_pred_train_lr_rs )\n",
    "print('R-Squared for training set is {}'.format(r_squared_train_lr_rs))"
   ]
  },
  {
   "cell_type": "code",
   "execution_count": null,
   "metadata": {
    "colab": {
     "base_uri": "https://localhost:8080/"
    },
    "colab_type": "code",
    "executionInfo": {
     "elapsed": 15983,
     "status": "ok",
     "timestamp": 1578828660892,
     "user": {
      "displayName": "Raju MLN",
      "photoUrl": "https://lh3.googleusercontent.com/a-/AAuE7mDdD2F6AP4ITC-wA3nNzvUXQvvOKRA6SGtqecOz2w=s64",
      "userId": "08235794127640337009"
     },
     "user_tz": -330
    },
    "id": "89cXNEFkuBrq",
    "outputId": "318b2bad-6923-4f3c-edcd-d3556f0e81e7"
   },
   "outputs": [],
   "source": [
    "r_squared_test_lr_rs = r2_score(y_test_lr,y_pred_test_lr_rs )\n",
    "print('R-Squared for testing set is {}'.format(r_squared_test_lr_rs))"
   ]
  },
  {
   "cell_type": "markdown",
   "metadata": {
    "colab_type": "text",
    "id": "_6UCLovcuBrs"
   },
   "source": [
    "#### d. Adjusted R-Squared Error"
   ]
  },
  {
   "cell_type": "code",
   "execution_count": null,
   "metadata": {
    "colab": {
     "base_uri": "https://localhost:8080/"
    },
    "colab_type": "code",
    "executionInfo": {
     "elapsed": 15975,
     "status": "ok",
     "timestamp": 1578828660893,
     "user": {
      "displayName": "Raju MLN",
      "photoUrl": "https://lh3.googleusercontent.com/a-/AAuE7mDdD2F6AP4ITC-wA3nNzvUXQvvOKRA6SGtqecOz2w=s64",
      "userId": "08235794127640337009"
     },
     "user_tz": -330
    },
    "id": "4Y_Nk8n0uBrs",
    "outputId": "dc87117f-1a5d-49d0-e022-67a558876447",
    "scrolled": true
   },
   "outputs": [],
   "source": [
    "adjusted_r_squared_train_lr_rs = 1 - (1-r_squared_train_lr_rs)*(len(y_train_lr)-1)/(len(y_train_lr)-X_train_lr.shape[1]-1)\n",
    "print('Adjusted R-Squared for training set is {}'.format(adjusted_r_squared_train_lr_rs))"
   ]
  },
  {
   "cell_type": "code",
   "execution_count": null,
   "metadata": {
    "colab": {
     "base_uri": "https://localhost:8080/"
    },
    "colab_type": "code",
    "executionInfo": {
     "elapsed": 15966,
     "status": "ok",
     "timestamp": 1578828660894,
     "user": {
      "displayName": "Raju MLN",
      "photoUrl": "https://lh3.googleusercontent.com/a-/AAuE7mDdD2F6AP4ITC-wA3nNzvUXQvvOKRA6SGtqecOz2w=s64",
      "userId": "08235794127640337009"
     },
     "user_tz": -330
    },
    "id": "UpaHyR-euBru",
    "outputId": "e5d1d015-44fa-488f-822d-5f435a6d7c5a"
   },
   "outputs": [],
   "source": [
    "adjusted_r_squared_test_lr_rs = 1 - (1-r_squared_test_lr_rs)*(len(y_test_lr)-1)/(len(y_test_lr)-X_test_lr.shape[1]-1)\n",
    "print('Adjusted R-Squared for testing set is {}'.format(adjusted_r_squared_test_lr_rs))"
   ]
  },
  {
   "cell_type": "markdown",
   "metadata": {
    "colab_type": "text",
    "id": "mSHd4kupwCjF"
   },
   "source": [
    " <a id=section602></a>\n",
    "## 6.2 Decision Tree"
   ]
  },
  {
   "cell_type": "markdown",
   "metadata": {
    "colab_type": "text",
    "id": "dLYBaWxqwCjG"
   },
   "source": [
    " <a id=section60201></a>\n",
    "### 6.2.1 Using Default Model"
   ]
  },
  {
   "cell_type": "markdown",
   "metadata": {
    "colab_type": "text",
    "id": "1IuVQOV0wCjK"
   },
   "source": [
    "##### Splitting train and test data\n"
   ]
  },
  {
   "cell_type": "code",
   "execution_count": null,
   "metadata": {
    "colab": {
     "base_uri": "https://localhost:8080/",
     "height": 134
    },
    "colab_type": "code",
    "executionInfo": {
     "elapsed": 15952,
     "status": "ok",
     "timestamp": 1578828660894,
     "user": {
      "displayName": "Raju MLN",
      "photoUrl": "https://lh3.googleusercontent.com/a-/AAuE7mDdD2F6AP4ITC-wA3nNzvUXQvvOKRA6SGtqecOz2w=s64",
      "userId": "08235794127640337009"
     },
     "user_tz": -330
    },
    "id": "nw8iX_EFwCjV",
    "outputId": "640c3217-beb5-4516-8d00-8763d86f527f"
   },
   "outputs": [],
   "source": [
    "X_train_dt, X_test_dt, y_train_dt, y_test_dt=split(X,y)\n",
    "print('Train cases as below')\n",
    "print('X_train shape: ',X_train_dt.shape)\n",
    "print('y_train shape: ',y_train_dt.shape)\n",
    "print('\\nTest cases as below')\n",
    "print('X_test shape: ',X_test_dt.shape)\n",
    "print('y_test shape: ',y_test_dt.shape)"
   ]
  },
  {
   "cell_type": "markdown",
   "metadata": {
    "colab_type": "text",
    "id": "6q19VBbpwCji"
   },
   "source": [
    " <a id=section6020101></a>\n",
    "#### 6.2.1.1 Building Model and Prediction"
   ]
  },
  {
   "cell_type": "code",
   "execution_count": null,
   "metadata": {
    "colab": {
     "base_uri": "https://localhost:8080/",
     "height": 118
    },
    "colab_type": "code",
    "executionInfo": {
     "elapsed": 17281,
     "status": "ok",
     "timestamp": 1578828662244,
     "user": {
      "displayName": "Raju MLN",
      "photoUrl": "https://lh3.googleusercontent.com/a-/AAuE7mDdD2F6AP4ITC-wA3nNzvUXQvvOKRA6SGtqecOz2w=s64",
      "userId": "08235794127640337009"
     },
     "user_tz": -330
    },
    "id": "3bn-s9sKwCjk",
    "outputId": "6020d7c2-b877-4ce6-b268-95a0d24f371d"
   },
   "outputs": [],
   "source": [
    "from sklearn.tree import DecisionTreeRegressor\n",
    "\n",
    "# using default model for building \n",
    "dt_reg = DecisionTreeRegressor()\n",
    "dt_reg.fit(X_train_dt, y_train_dt)"
   ]
  },
  {
   "cell_type": "code",
   "execution_count": null,
   "metadata": {
    "colab": {},
    "colab_type": "code",
    "id": "yTIZ8rlMwCjx"
   },
   "outputs": [],
   "source": [
    "#prediction on training data\n",
    "y_pred_train_dt = dt_reg.predict(X_train_dt)\n",
    "\n",
    "#prediction on testing data\n",
    "y_pred_test_dt = dt_reg.predict(X_test_dt)"
   ]
  },
  {
   "cell_type": "markdown",
   "metadata": {
    "colab_type": "text",
    "id": "pf3Ya-dpwCj0"
   },
   "source": [
    "<a id=section6020102></a>\n",
    "#### 6.2.1.2 Model Evaluation"
   ]
  },
  {
   "cell_type": "markdown",
   "metadata": {
    "colab_type": "text",
    "id": "ExwnSXLWwCj0"
   },
   "source": [
    "#### a. RMSE\n"
   ]
  },
  {
   "cell_type": "code",
   "execution_count": null,
   "metadata": {
    "colab": {
     "base_uri": "https://localhost:8080/",
     "height": 50
    },
    "colab_type": "code",
    "executionInfo": {
     "elapsed": 17261,
     "status": "ok",
     "timestamp": 1578828662247,
     "user": {
      "displayName": "Raju MLN",
      "photoUrl": "https://lh3.googleusercontent.com/a-/AAuE7mDdD2F6AP4ITC-wA3nNzvUXQvvOKRA6SGtqecOz2w=s64",
      "userId": "08235794127640337009"
     },
     "user_tz": -330
    },
    "id": "wKoSYSNdwCj9",
    "outputId": "d796a695-96e9-454b-df7d-84f8c626b137"
   },
   "outputs": [],
   "source": [
    "RMSE_train_dt = np.sqrt( metrics.mean_squared_error(y_train_dt, y_pred_train_dt))\n",
    "print('RMSE for training set is {}'.format(RMSE_train_dt))\n",
    "RMSE_MAP['dt_train_d'] = RMSE_train_dt\n",
    "\n",
    "RMSE_test_dt = np.sqrt( metrics.mean_squared_error(y_test_dt, y_pred_test_dt))\n",
    "print('RMSE for testing set is {}'.format(RMSE_test_dt))\n",
    "RMSE_MAP['dt_test_d'] = RMSE_test_dt"
   ]
  },
  {
   "cell_type": "markdown",
   "metadata": {
    "colab_type": "text",
    "id": "7K7zGP55wCkM"
   },
   "source": [
    "#### b. MAPE\n"
   ]
  },
  {
   "cell_type": "code",
   "execution_count": null,
   "metadata": {
    "colab": {
     "base_uri": "https://localhost:8080/",
     "height": 50
    },
    "colab_type": "code",
    "executionInfo": {
     "elapsed": 17242,
     "status": "ok",
     "timestamp": 1578828662247,
     "user": {
      "displayName": "Raju MLN",
      "photoUrl": "https://lh3.googleusercontent.com/a-/AAuE7mDdD2F6AP4ITC-wA3nNzvUXQvvOKRA6SGtqecOz2w=s64",
      "userId": "08235794127640337009"
     },
     "user_tz": -330
    },
    "id": "RlYh5OYpwCkO",
    "outputId": "3c672ff0-aff8-4bbc-d25b-e108d5cbcb01"
   },
   "outputs": [],
   "source": [
    "mape_train_error = mean_absolute_percentage_error(y_train_dt, y_pred_train_dt)\n",
    "mape_test_error = mean_absolute_percentage_error(y_test_dt, y_pred_test_dt)\n",
    "print('MAPE for training set is {}'.format(mape_train_error))\n",
    "print('MAPE for testing set is {}'.format(mape_test_error))"
   ]
  },
  {
   "cell_type": "markdown",
   "metadata": {
    "colab_type": "text",
    "id": "JN5aY5WYwCkT"
   },
   "source": [
    "#### c. R-Squared Error"
   ]
  },
  {
   "cell_type": "code",
   "execution_count": null,
   "metadata": {
    "colab": {
     "base_uri": "https://localhost:8080/",
     "height": 34
    },
    "colab_type": "code",
    "executionInfo": {
     "elapsed": 17224,
     "status": "ok",
     "timestamp": 1578828662248,
     "user": {
      "displayName": "Raju MLN",
      "photoUrl": "https://lh3.googleusercontent.com/a-/AAuE7mDdD2F6AP4ITC-wA3nNzvUXQvvOKRA6SGtqecOz2w=s64",
      "userId": "08235794127640337009"
     },
     "user_tz": -330
    },
    "id": "n5mfOc70wCkU",
    "outputId": "406fe49a-7685-4ac0-cf64-e39439f45aef"
   },
   "outputs": [],
   "source": [
    "r_squared_train_dt = r2_score(y_train_dt,y_pred_train_dt )\n",
    "print('R-Squared for training set is {}'.format(r_squared_train_dt))"
   ]
  },
  {
   "cell_type": "code",
   "execution_count": null,
   "metadata": {
    "colab": {
     "base_uri": "https://localhost:8080/",
     "height": 34
    },
    "colab_type": "code",
    "executionInfo": {
     "elapsed": 17207,
     "status": "ok",
     "timestamp": 1578828662249,
     "user": {
      "displayName": "Raju MLN",
      "photoUrl": "https://lh3.googleusercontent.com/a-/AAuE7mDdD2F6AP4ITC-wA3nNzvUXQvvOKRA6SGtqecOz2w=s64",
      "userId": "08235794127640337009"
     },
     "user_tz": -330
    },
    "id": "n4PY6JCuwCkZ",
    "outputId": "999eb4a2-f062-4cd9-c545-58aa87ba2f9f"
   },
   "outputs": [],
   "source": [
    "r_squared_test_dt = r2_score(y_test_dt,y_pred_test_dt )\n",
    "print('R-Squared for testing set is {}'.format(r_squared_test_dt))"
   ]
  },
  {
   "cell_type": "markdown",
   "metadata": {
    "colab_type": "text",
    "id": "Mcsj_99dwCkd"
   },
   "source": [
    "#### d. Adjusted R-Squared Error"
   ]
  },
  {
   "cell_type": "code",
   "execution_count": null,
   "metadata": {
    "colab": {
     "base_uri": "https://localhost:8080/",
     "height": 34
    },
    "colab_type": "code",
    "executionInfo": {
     "elapsed": 17187,
     "status": "ok",
     "timestamp": 1578828662250,
     "user": {
      "displayName": "Raju MLN",
      "photoUrl": "https://lh3.googleusercontent.com/a-/AAuE7mDdD2F6AP4ITC-wA3nNzvUXQvvOKRA6SGtqecOz2w=s64",
      "userId": "08235794127640337009"
     },
     "user_tz": -330
    },
    "id": "Xo-OLL6FwCkd",
    "outputId": "d501d644-65da-4698-ed71-2de44913c7bf",
    "scrolled": true
   },
   "outputs": [],
   "source": [
    "adjusted_r_squared_train_dt = 1 - (1-r_squared_train_dt)*(len(y_train_dt)-1)/(len(y_train_dt)-X_train_dt.shape[1]-1)\n",
    "print('Adjusted R-Squared for training set is {}'.format(adjusted_r_squared_train_dt))"
   ]
  },
  {
   "cell_type": "code",
   "execution_count": null,
   "metadata": {
    "colab": {
     "base_uri": "https://localhost:8080/",
     "height": 34
    },
    "colab_type": "code",
    "executionInfo": {
     "elapsed": 17170,
     "status": "ok",
     "timestamp": 1578828662251,
     "user": {
      "displayName": "Raju MLN",
      "photoUrl": "https://lh3.googleusercontent.com/a-/AAuE7mDdD2F6AP4ITC-wA3nNzvUXQvvOKRA6SGtqecOz2w=s64",
      "userId": "08235794127640337009"
     },
     "user_tz": -330
    },
    "id": "Rsz95ztUwCkf",
    "outputId": "5b54534a-6d7d-4ca9-d441-7f7c424fa00c"
   },
   "outputs": [],
   "source": [
    "adjusted_r_squared_test_dt = 1 - (1-r_squared_test_dt)*(len(y_test_dt)-1)/(len(y_test_dt)-X_train_dt.shape[1]-1)\n",
    "print('Adjusted R-Squared for testing set is {}'.format(adjusted_r_squared_test_dt))"
   ]
  },
  {
   "cell_type": "markdown",
   "metadata": {
    "colab_type": "text",
    "id": "GeQe_MQdwCkh"
   },
   "source": [
    " <a id=section60202></a>\n",
    "### 6.2.2 Using GridSearchCV"
   ]
  },
  {
   "cell_type": "markdown",
   "metadata": {
    "colab_type": "text",
    "id": "MaAF2bN2wCkk"
   },
   "source": [
    " <a id=section6020201></a>\n",
    "#### 6.2.2.1 Building Model and Prediction"
   ]
  },
  {
   "cell_type": "code",
   "execution_count": null,
   "metadata": {
    "colab": {},
    "colab_type": "code",
    "id": "KCraGlBrwCkl"
   },
   "outputs": [],
   "source": [
    "from sklearn.model_selection import GridSearchCV"
   ]
  },
  {
   "cell_type": "code",
   "execution_count": null,
   "metadata": {
    "colab": {},
    "colab_type": "code",
    "id": "OPn-BRYjwCkt"
   },
   "outputs": [],
   "source": [
    "# Number of features to consider at every split\n",
    "max_features = ['auto', 'sqrt']\n",
    "# Maximum number of levels in tree\n",
    "max_depth = [int(x) for x in np.linspace(10, 110, num = 11)]\n",
    "max_depth.append(None)\n",
    "# Minimum number of samples required to split a node\n",
    "min_samples_split = [2, 5, 10]\n",
    "# Minimum number of samples required at each leaf node\n",
    "min_samples_leaf = [1, 2, 4]\n",
    "# Method of selecting samples for training each tree\n",
    "bootstrap = [True, False]\n",
    "\n",
    "# Create the random grid\n",
    "param_grid = {\n",
    "               'max_features': max_features,\n",
    "               'max_depth': max_depth,\n",
    "               'min_samples_split': min_samples_split,\n",
    "               'min_samples_leaf': min_samples_leaf\n",
    "               \n",
    "}"
   ]
  },
  {
   "cell_type": "code",
   "execution_count": null,
   "metadata": {
    "colab": {},
    "colab_type": "code",
    "id": "cC-BaBqOwCk0"
   },
   "outputs": [],
   "source": [
    "# Instantiate the grid search model\n",
    "dt_reg_gs = GridSearchCV(estimator = dt_reg, param_grid = param_grid, \n",
    "                          cv = 3, n_jobs = -1, scoring = my_scorer, verbose = 2)"
   ]
  },
  {
   "cell_type": "code",
   "execution_count": null,
   "metadata": {
    "colab": {
     "base_uri": "https://localhost:8080/",
     "height": 454
    },
    "colab_type": "code",
    "executionInfo": {
     "elapsed": 76985,
     "status": "ok",
     "timestamp": 1578828722101,
     "user": {
      "displayName": "Raju MLN",
      "photoUrl": "https://lh3.googleusercontent.com/a-/AAuE7mDdD2F6AP4ITC-wA3nNzvUXQvvOKRA6SGtqecOz2w=s64",
      "userId": "08235794127640337009"
     },
     "user_tz": -330
    },
    "id": "EVfA_dnXwCk8",
    "outputId": "7341ba63-4eb4-428e-c5c7-5c5fa9b51b51",
    "scrolled": true
   },
   "outputs": [],
   "source": [
    "dt_reg_gs.fit(X_train_dt, y_train_dt)"
   ]
  },
  {
   "cell_type": "code",
   "execution_count": null,
   "metadata": {
    "colab": {},
    "colab_type": "code",
    "id": "2miZetsUwClI"
   },
   "outputs": [],
   "source": [
    "#prediction on training data\n",
    "y_pred_train_dt_gs = dt_reg_gs.predict(X_train_dt)\n",
    "\n",
    "#prediction on testing data\n",
    "y_pred_test_dt_gs = dt_reg_gs.predict(X_test_dt)"
   ]
  },
  {
   "cell_type": "markdown",
   "metadata": {
    "colab_type": "text",
    "id": "P6qSX9bxwClV"
   },
   "source": [
    "<a id=section6020202></a>\n",
    "#### 6.2.2.2 Model Evaluation"
   ]
  },
  {
   "cell_type": "markdown",
   "metadata": {
    "colab_type": "text",
    "id": "l4-mjUWnwClW"
   },
   "source": [
    "#### a. RMSE\n"
   ]
  },
  {
   "cell_type": "code",
   "execution_count": null,
   "metadata": {
    "colab": {
     "base_uri": "https://localhost:8080/",
     "height": 50
    },
    "colab_type": "code",
    "executionInfo": {
     "elapsed": 76973,
     "status": "ok",
     "timestamp": 1578828722110,
     "user": {
      "displayName": "Raju MLN",
      "photoUrl": "https://lh3.googleusercontent.com/a-/AAuE7mDdD2F6AP4ITC-wA3nNzvUXQvvOKRA6SGtqecOz2w=s64",
      "userId": "08235794127640337009"
     },
     "user_tz": -330
    },
    "id": "Jrs0eficwClX",
    "outputId": "b54d4ef5-4bfa-4d41-bd42-fe9455effca1"
   },
   "outputs": [],
   "source": [
    "RMSE_train_dt_gs = np.sqrt( metrics.mean_squared_error(y_train_dt, y_pred_train_dt_gs))\n",
    "print('RMSE for training set is {}'.format(RMSE_train_dt_gs))\n",
    "RMSE_MAP['dt_train_gs'] = RMSE_train_dt_gs\n",
    "\n",
    "RMSE_test_dt_gs = np.sqrt( metrics.mean_squared_error(y_test_dt, y_pred_test_dt_gs))\n",
    "print('RMSE for testing set is {}'.format(RMSE_test_dt_gs))\n",
    "RMSE_MAP['dt_test_gs'] = RMSE_test_dt_gs"
   ]
  },
  {
   "cell_type": "markdown",
   "metadata": {
    "colab_type": "text",
    "id": "KBG4WQV5wClk"
   },
   "source": [
    "#### b. MAPE\n"
   ]
  },
  {
   "cell_type": "code",
   "execution_count": null,
   "metadata": {
    "colab": {
     "base_uri": "https://localhost:8080/",
     "height": 50
    },
    "colab_type": "code",
    "executionInfo": {
     "elapsed": 76955,
     "status": "ok",
     "timestamp": 1578828722110,
     "user": {
      "displayName": "Raju MLN",
      "photoUrl": "https://lh3.googleusercontent.com/a-/AAuE7mDdD2F6AP4ITC-wA3nNzvUXQvvOKRA6SGtqecOz2w=s64",
      "userId": "08235794127640337009"
     },
     "user_tz": -330
    },
    "id": "W0CV11PAwCln",
    "outputId": "da0e05af-0d17-43be-e485-0b73d3869b43"
   },
   "outputs": [],
   "source": [
    "mape_train_error = mean_absolute_percentage_error(y_train_dt, y_pred_train_dt_gs)\n",
    "mape_test_error = mean_absolute_percentage_error(y_test_dt, y_pred_test_dt_gs)\n",
    "print('MAPE for training set is {}'.format(mape_train_error))\n",
    "print('MAPE for testing set is {}'.format(mape_test_error))"
   ]
  },
  {
   "cell_type": "markdown",
   "metadata": {
    "colab_type": "text",
    "id": "ptQVn3uhwCmk"
   },
   "source": [
    "#### c. R-Squared Error"
   ]
  },
  {
   "cell_type": "code",
   "execution_count": null,
   "metadata": {
    "colab": {
     "base_uri": "https://localhost:8080/",
     "height": 34
    },
    "colab_type": "code",
    "executionInfo": {
     "elapsed": 76939,
     "status": "ok",
     "timestamp": 1578828722111,
     "user": {
      "displayName": "Raju MLN",
      "photoUrl": "https://lh3.googleusercontent.com/a-/AAuE7mDdD2F6AP4ITC-wA3nNzvUXQvvOKRA6SGtqecOz2w=s64",
      "userId": "08235794127640337009"
     },
     "user_tz": -330
    },
    "id": "8EpWCu7GwCmp",
    "outputId": "2d7ee90d-efdf-4e0a-ec7d-f17aa0f5364d"
   },
   "outputs": [],
   "source": [
    "r_squared_train_dt_gs = r2_score(y_train_dt,y_pred_train_dt_gs )\n",
    "print('R-Squared for training set is {}'.format(r_squared_train_dt_gs))"
   ]
  },
  {
   "cell_type": "code",
   "execution_count": null,
   "metadata": {
    "colab": {
     "base_uri": "https://localhost:8080/",
     "height": 34
    },
    "colab_type": "code",
    "executionInfo": {
     "elapsed": 76921,
     "status": "ok",
     "timestamp": 1578828722112,
     "user": {
      "displayName": "Raju MLN",
      "photoUrl": "https://lh3.googleusercontent.com/a-/AAuE7mDdD2F6AP4ITC-wA3nNzvUXQvvOKRA6SGtqecOz2w=s64",
      "userId": "08235794127640337009"
     },
     "user_tz": -330
    },
    "id": "JTIuCC2owCmr",
    "outputId": "96958d23-c8e8-4ad6-cb35-4becc7a40bc8"
   },
   "outputs": [],
   "source": [
    "r_squared_test_dt_gs = r2_score(y_test_dt,y_pred_test_dt_gs )\n",
    "print('R-Squared for testing set is {}'.format(r_squared_test_dt_gs))"
   ]
  },
  {
   "cell_type": "markdown",
   "metadata": {
    "colab_type": "text",
    "id": "GljurFQZwCm5"
   },
   "source": [
    "#### d. Adjusted R-Squared Error"
   ]
  },
  {
   "cell_type": "code",
   "execution_count": null,
   "metadata": {
    "colab": {
     "base_uri": "https://localhost:8080/",
     "height": 34
    },
    "colab_type": "code",
    "executionInfo": {
     "elapsed": 76901,
     "status": "ok",
     "timestamp": 1578828722112,
     "user": {
      "displayName": "Raju MLN",
      "photoUrl": "https://lh3.googleusercontent.com/a-/AAuE7mDdD2F6AP4ITC-wA3nNzvUXQvvOKRA6SGtqecOz2w=s64",
      "userId": "08235794127640337009"
     },
     "user_tz": -330
    },
    "id": "EH0XVHmcwCm6",
    "outputId": "10d7edd9-aa54-4f3d-eeef-632d417a658e",
    "scrolled": true
   },
   "outputs": [],
   "source": [
    "adjusted_r_squared_train_dt_gs = 1 - (1-r_squared_train_dt_gs)*(len(y_train_dt)-1)/(len(y_train_dt)-X_train_dt.shape[1]-1)\n",
    "print('Adjusted R-Squared for training set is {}'.format(adjusted_r_squared_train_dt_gs))"
   ]
  },
  {
   "cell_type": "code",
   "execution_count": null,
   "metadata": {
    "colab": {
     "base_uri": "https://localhost:8080/",
     "height": 34
    },
    "colab_type": "code",
    "executionInfo": {
     "elapsed": 76884,
     "status": "ok",
     "timestamp": 1578828722113,
     "user": {
      "displayName": "Raju MLN",
      "photoUrl": "https://lh3.googleusercontent.com/a-/AAuE7mDdD2F6AP4ITC-wA3nNzvUXQvvOKRA6SGtqecOz2w=s64",
      "userId": "08235794127640337009"
     },
     "user_tz": -330
    },
    "id": "4pVUi0m-wCnJ",
    "outputId": "fc9b7e56-8452-4cd2-d6c8-e63bbfd058ed"
   },
   "outputs": [],
   "source": [
    "adjusted_r_squared_test_dt_gs = 1 - (1-r_squared_test_dt_gs)*(len(y_test_dt)-1)/(len(y_test_dt)-X_train_dt.shape[1]-1)\n",
    "print('Adjusted R-Squared for testing set is {}'.format(adjusted_r_squared_test_dt_gs))"
   ]
  },
  {
   "cell_type": "markdown",
   "metadata": {
    "colab_type": "text",
    "id": "wurrff8bwCnW"
   },
   "source": [
    " <a id=section60203></a>\n",
    "### 6.2.3 Using RandomizedSearchCV"
   ]
  },
  {
   "cell_type": "markdown",
   "metadata": {
    "colab_type": "text",
    "id": "aL-SRwCAwCnX"
   },
   "source": [
    " <a id=section6020301></a>\n",
    "#### 6.2.3.1 Building Model and Prediction"
   ]
  },
  {
   "cell_type": "code",
   "execution_count": null,
   "metadata": {
    "colab": {},
    "colab_type": "code",
    "id": "UyjFY25iwCnZ"
   },
   "outputs": [],
   "source": [
    "# Number of features to consider at every split\n",
    "max_features = ['auto', 'sqrt']\n",
    "# Maximum number of levels in tree\n",
    "max_depth = [int(x) for x in np.linspace(10, 110, num = 11)]\n",
    "max_depth.append(None)\n",
    "# Minimum number of samples required to split a node\n",
    "min_samples_split = [2, 5, 10]\n",
    "# Minimum number of samples required at each leaf node\n",
    "min_samples_leaf = [1, 2, 4]\n",
    "\n",
    "\n",
    "# Create the random grid\n",
    "random_grid = {\n",
    "               'max_features': max_features,\n",
    "               'max_depth': max_depth,\n",
    "               'min_samples_split': min_samples_split,\n",
    "               'min_samples_leaf': min_samples_leaf\n",
    "               \n",
    "}\n"
   ]
  },
  {
   "cell_type": "code",
   "execution_count": null,
   "metadata": {
    "colab": {},
    "colab_type": "code",
    "id": "aqFaKL59wCnf"
   },
   "outputs": [],
   "source": [
    "# Instantiate the random search model\n",
    "dt_reg_rs = RandomizedSearchCV(estimator = dt_reg, param_distributions = random_grid, n_iter = 100, cv = 3, \n",
    "                               verbose=2, random_state=42, scoring = my_scorer, n_jobs = -1)"
   ]
  },
  {
   "cell_type": "code",
   "execution_count": null,
   "metadata": {
    "colab": {
     "base_uri": "https://localhost:8080/",
     "height": 521
    },
    "colab_type": "code",
    "executionInfo": {
     "elapsed": 107588,
     "status": "ok",
     "timestamp": 1578828752841,
     "user": {
      "displayName": "Raju MLN",
      "photoUrl": "https://lh3.googleusercontent.com/a-/AAuE7mDdD2F6AP4ITC-wA3nNzvUXQvvOKRA6SGtqecOz2w=s64",
      "userId": "08235794127640337009"
     },
     "user_tz": -330
    },
    "id": "M1ibzOb6wCn5",
    "outputId": "83500422-8bef-42fc-ce56-5354913ee9a3",
    "scrolled": true
   },
   "outputs": [],
   "source": [
    "dt_reg_rs.fit(X_train_dt, y_train_dt)"
   ]
  },
  {
   "cell_type": "code",
   "execution_count": null,
   "metadata": {
    "colab": {},
    "colab_type": "code",
    "id": "6gwqupCJwCoO"
   },
   "outputs": [],
   "source": [
    "#prediction on training data\n",
    "y_pred_train_dt_rs = dt_reg_rs.predict(X_train_dt)\n",
    "\n",
    "#prediction on testing data\n",
    "y_pred_test_dt_rs = dt_reg_rs.predict(X_test_dt)"
   ]
  },
  {
   "cell_type": "markdown",
   "metadata": {
    "colab_type": "text",
    "id": "hR3t6OiGwCoY"
   },
   "source": [
    "<a id=section6020302></a>\n",
    "#### 6.2.3.2 Model Evaluation"
   ]
  },
  {
   "cell_type": "markdown",
   "metadata": {
    "colab_type": "text",
    "id": "79CVgoeywCoa"
   },
   "source": [
    "#### a. RMSE\n"
   ]
  },
  {
   "cell_type": "code",
   "execution_count": null,
   "metadata": {
    "colab": {
     "base_uri": "https://localhost:8080/",
     "height": 50
    },
    "colab_type": "code",
    "executionInfo": {
     "elapsed": 107525,
     "status": "ok",
     "timestamp": 1578828752843,
     "user": {
      "displayName": "Raju MLN",
      "photoUrl": "https://lh3.googleusercontent.com/a-/AAuE7mDdD2F6AP4ITC-wA3nNzvUXQvvOKRA6SGtqecOz2w=s64",
      "userId": "08235794127640337009"
     },
     "user_tz": -330
    },
    "id": "CwDUjyHHwCob",
    "outputId": "e02fd655-9464-40fc-8cc6-b5e5f45123f4"
   },
   "outputs": [],
   "source": [
    "RMSE_train_dt_rs = np.sqrt( metrics.mean_squared_error(y_train_dt, y_pred_train_dt_rs))\n",
    "print('RMSE for training set is {}'.format(RMSE_train_dt_rs))\n",
    "RMSE_MAP['dt_train_rs'] = RMSE_train_dt_rs\n",
    "\n",
    "RMSE_test_dt_gs = np.sqrt( metrics.mean_squared_error(y_test_dt, y_pred_test_dt_rs))\n",
    "print('RMSE for testing set is {}'.format(RMSE_test_dt_gs))\n",
    "RMSE_MAP['dt_test_rs'] = RMSE_test_dt_gs\n"
   ]
  },
  {
   "cell_type": "markdown",
   "metadata": {
    "colab_type": "text",
    "id": "t0ij45eRwCoe"
   },
   "source": [
    "#### b. MAPE\n"
   ]
  },
  {
   "cell_type": "code",
   "execution_count": null,
   "metadata": {
    "colab": {
     "base_uri": "https://localhost:8080/",
     "height": 50
    },
    "colab_type": "code",
    "executionInfo": {
     "elapsed": 107480,
     "status": "ok",
     "timestamp": 1578828752844,
     "user": {
      "displayName": "Raju MLN",
      "photoUrl": "https://lh3.googleusercontent.com/a-/AAuE7mDdD2F6AP4ITC-wA3nNzvUXQvvOKRA6SGtqecOz2w=s64",
      "userId": "08235794127640337009"
     },
     "user_tz": -330
    },
    "id": "1bEeukPjwCog",
    "outputId": "329d236a-cc50-42ae-8834-958773993c19"
   },
   "outputs": [],
   "source": [
    "mape_train_error = mean_absolute_percentage_error(y_train_dt, y_pred_train_dt_rs)\n",
    "mape_test_error = mean_absolute_percentage_error(y_test_dt, y_pred_test_dt_rs)\n",
    "print('MAPE for training set is {}'.format(mape_train_error))\n",
    "print('MAPE for testing set is {}'.format(mape_test_error))"
   ]
  },
  {
   "cell_type": "markdown",
   "metadata": {
    "colab_type": "text",
    "id": "keFal7EZwCos"
   },
   "source": [
    "#### c. R-Squared Error"
   ]
  },
  {
   "cell_type": "code",
   "execution_count": null,
   "metadata": {
    "colab": {
     "base_uri": "https://localhost:8080/",
     "height": 34
    },
    "colab_type": "code",
    "executionInfo": {
     "elapsed": 107446,
     "status": "ok",
     "timestamp": 1578828752845,
     "user": {
      "displayName": "Raju MLN",
      "photoUrl": "https://lh3.googleusercontent.com/a-/AAuE7mDdD2F6AP4ITC-wA3nNzvUXQvvOKRA6SGtqecOz2w=s64",
      "userId": "08235794127640337009"
     },
     "user_tz": -330
    },
    "id": "8zFYKG8mwCou",
    "outputId": "17776106-a7df-4e6a-a590-395964bbeb00"
   },
   "outputs": [],
   "source": [
    "r_squared_train_dt_rs = r2_score(y_train_dt,y_pred_train_dt_rs )\n",
    "print('R-Squared for training set is {}'.format(r_squared_train_dt_rs))"
   ]
  },
  {
   "cell_type": "code",
   "execution_count": null,
   "metadata": {
    "colab": {
     "base_uri": "https://localhost:8080/",
     "height": 34
    },
    "colab_type": "code",
    "executionInfo": {
     "elapsed": 107419,
     "status": "ok",
     "timestamp": 1578828752846,
     "user": {
      "displayName": "Raju MLN",
      "photoUrl": "https://lh3.googleusercontent.com/a-/AAuE7mDdD2F6AP4ITC-wA3nNzvUXQvvOKRA6SGtqecOz2w=s64",
      "userId": "08235794127640337009"
     },
     "user_tz": -330
    },
    "id": "_SZaJ0x2wCow",
    "outputId": "245259c4-8e3e-477f-ca10-e09a929be916"
   },
   "outputs": [],
   "source": [
    "r_squared_test_dt_rs = r2_score(y_test_dt,y_pred_test_dt_rs )\n",
    "print('R-Squared for testing set is {}'.format(r_squared_test_dt_rs))"
   ]
  },
  {
   "cell_type": "markdown",
   "metadata": {
    "colab_type": "text",
    "id": "Ks_DjSb3wCo5"
   },
   "source": [
    "#### d. Adjusted R-Squared Error"
   ]
  },
  {
   "cell_type": "code",
   "execution_count": null,
   "metadata": {
    "colab": {
     "base_uri": "https://localhost:8080/",
     "height": 34
    },
    "colab_type": "code",
    "executionInfo": {
     "elapsed": 107402,
     "status": "ok",
     "timestamp": 1578828752849,
     "user": {
      "displayName": "Raju MLN",
      "photoUrl": "https://lh3.googleusercontent.com/a-/AAuE7mDdD2F6AP4ITC-wA3nNzvUXQvvOKRA6SGtqecOz2w=s64",
      "userId": "08235794127640337009"
     },
     "user_tz": -330
    },
    "id": "6aHgLrxGwCo7",
    "outputId": "4edb615e-cee8-4601-93d0-c74921ba8931",
    "scrolled": true
   },
   "outputs": [],
   "source": [
    "adjusted_r_squared_train_dt_gs = 1 - (1-r_squared_train_dt_gs)*(len(y_train_dt)-1)/(len(y_train_dt)-X_train_dt.shape[1]-1)\n",
    "print('Adjusted R-Squared for training set is {}'.format(adjusted_r_squared_train_dt_gs))"
   ]
  },
  {
   "cell_type": "code",
   "execution_count": null,
   "metadata": {
    "colab": {
     "base_uri": "https://localhost:8080/",
     "height": 34
    },
    "colab_type": "code",
    "executionInfo": {
     "elapsed": 107384,
     "status": "ok",
     "timestamp": 1578828752850,
     "user": {
      "displayName": "Raju MLN",
      "photoUrl": "https://lh3.googleusercontent.com/a-/AAuE7mDdD2F6AP4ITC-wA3nNzvUXQvvOKRA6SGtqecOz2w=s64",
      "userId": "08235794127640337009"
     },
     "user_tz": -330
    },
    "id": "EXyiFLGFwCo-",
    "outputId": "c81dfb4a-cff2-4600-e67b-6484dfd9e499"
   },
   "outputs": [],
   "source": [
    "adjusted_r_squared_test_dt_gs = 1 - (1-r_squared_test_dt_gs)*(len(y_test_dt)-1)/(len(y_test_dt)-X_train_dt.shape[1]-1)\n",
    "print('Adjusted R-Squared for testing set is {}'.format(adjusted_r_squared_test_dt_gs))"
   ]
  },
  {
   "cell_type": "code",
   "execution_count": null,
   "metadata": {
    "colab": {
     "base_uri": "https://localhost:8080/",
     "height": 218
    },
    "colab_type": "code",
    "executionInfo": {
     "elapsed": 107364,
     "status": "ok",
     "timestamp": 1578828752851,
     "user": {
      "displayName": "Raju MLN",
      "photoUrl": "https://lh3.googleusercontent.com/a-/AAuE7mDdD2F6AP4ITC-wA3nNzvUXQvvOKRA6SGtqecOz2w=s64",
      "userId": "08235794127640337009"
     },
     "user_tz": -330
    },
    "id": "hy-RsDN7czBI",
    "outputId": "2fe144f6-f3f5-4010-eab8-50b6639317a6"
   },
   "outputs": [],
   "source": [
    "RMSE_MAP"
   ]
  },
  {
   "cell_type": "markdown",
   "metadata": {
    "colab_type": "text",
    "id": "LK3Ba0y5wCpI"
   },
   "source": [
    " <a id=section603></a>\n",
    "## 6.3 Random Forest"
   ]
  },
  {
   "cell_type": "markdown",
   "metadata": {
    "colab_type": "text",
    "id": "EcGzIhfIwCpJ"
   },
   "source": [
    "##### Splitting train and test data\n"
   ]
  },
  {
   "cell_type": "code",
   "execution_count": null,
   "metadata": {
    "colab": {
     "base_uri": "https://localhost:8080/",
     "height": 134
    },
    "colab_type": "code",
    "executionInfo": {
     "elapsed": 107242,
     "status": "ok",
     "timestamp": 1578828752852,
     "user": {
      "displayName": "Raju MLN",
      "photoUrl": "https://lh3.googleusercontent.com/a-/AAuE7mDdD2F6AP4ITC-wA3nNzvUXQvvOKRA6SGtqecOz2w=s64",
      "userId": "08235794127640337009"
     },
     "user_tz": -330
    },
    "id": "YN72YgxWwCpN",
    "outputId": "388cc47d-ae44-4dba-a7c9-e318f3dd5eb5"
   },
   "outputs": [],
   "source": [
    "X_train_rf, X_test_rf, y_train_rf, y_test_rf=split(X,y)\n",
    "print('Train cases as below')\n",
    "print('X_train shape: ',X_train_rf.shape)\n",
    "print('y_train shape: ',y_train_rf.shape)\n",
    "print('\\nTest cases as below')\n",
    "print('X_test shape: ',X_test_rf.shape)\n",
    "print('y_test shape: ',y_test_rf.shape)"
   ]
  },
  {
   "cell_type": "markdown",
   "metadata": {
    "colab_type": "text",
    "id": "QeLu0ZjVQuJY"
   },
   "source": [
    " <a id=section60301></a>\n",
    "\n",
    "#### 6.3.1 Using Default Model\n"
   ]
  },
  {
   "cell_type": "markdown",
   "metadata": {
    "colab_type": "text",
    "id": "kDQbLyWFPknL"
   },
   "source": [
    " <a id=section6030101></a>\n",
    "\n",
    "#### 6.3.1.1 Building Model and Prediction"
   ]
  },
  {
   "cell_type": "code",
   "execution_count": null,
   "metadata": {
    "colab": {
     "base_uri": "https://localhost:8080/",
     "height": 134
    },
    "colab_type": "code",
    "executionInfo": {
     "elapsed": 121909,
     "status": "ok",
     "timestamp": 1578828767544,
     "user": {
      "displayName": "Raju MLN",
      "photoUrl": "https://lh3.googleusercontent.com/a-/AAuE7mDdD2F6AP4ITC-wA3nNzvUXQvvOKRA6SGtqecOz2w=s64",
      "userId": "08235794127640337009"
     },
     "user_tz": -330
    },
    "id": "jmbJ1h1TwCpS",
    "outputId": "3bf054f5-6953-435e-a083-88117429a500"
   },
   "outputs": [],
   "source": [
    "from sklearn.ensemble import RandomForestRegressor\n",
    "\n",
    "# using default model for building\n",
    "rf_reg = RandomForestRegressor()\n",
    "rf_reg.fit(X_train_rf, y_train_rf)"
   ]
  },
  {
   "cell_type": "code",
   "execution_count": null,
   "metadata": {
    "colab": {},
    "colab_type": "code",
    "id": "lvj751SvwCpY"
   },
   "outputs": [],
   "source": [
    "y_pred_train_rf = rf_reg.predict(X_train_rf)\n",
    "y_pred_test_rf = rf_reg.predict(X_test_rf)"
   ]
  },
  {
   "cell_type": "markdown",
   "metadata": {
    "colab_type": "text",
    "id": "vX3PgmE9wCpe"
   },
   "source": [
    " <a id=section6030102></a>\n",
    "\n",
    "### 6.3.1.2 Model Evaluation"
   ]
  },
  {
   "cell_type": "markdown",
   "metadata": {
    "colab_type": "text",
    "id": "o9WxF2odwCpf"
   },
   "source": [
    "##### a. RMSE\n"
   ]
  },
  {
   "cell_type": "code",
   "execution_count": null,
   "metadata": {
    "colab": {
     "base_uri": "https://localhost:8080/",
     "height": 50
    },
    "colab_type": "code",
    "executionInfo": {
     "elapsed": 124586,
     "status": "ok",
     "timestamp": 1578828770253,
     "user": {
      "displayName": "Raju MLN",
      "photoUrl": "https://lh3.googleusercontent.com/a-/AAuE7mDdD2F6AP4ITC-wA3nNzvUXQvvOKRA6SGtqecOz2w=s64",
      "userId": "08235794127640337009"
     },
     "user_tz": -330
    },
    "id": "UDww75H8wCpf",
    "outputId": "ac339200-868a-444f-d09e-2917b0bacbbe"
   },
   "outputs": [],
   "source": [
    "from sklearn import metrics\n",
    "RMSE_train = np.sqrt( metrics.mean_squared_error(y_train_rf, y_pred_train_rf))\n",
    "print('RMSE for training set is {}'.format(RMSE_train))\n",
    "RMSE_MAP['rf_train_d'] = RMSE_train\n",
    "\n",
    "RMSE_test = np.sqrt( metrics.mean_squared_error(y_test_rf, y_pred_test_rf))\n",
    "print('RMSE for testing set is {}'.format(RMSE_test))\n",
    "RMSE_MAP['rf_test_d'] = RMSE_test\n"
   ]
  },
  {
   "cell_type": "markdown",
   "metadata": {
    "colab_type": "text",
    "id": "nb4rkNzSwCph"
   },
   "source": [
    "##### b. MAPE\n"
   ]
  },
  {
   "cell_type": "code",
   "execution_count": null,
   "metadata": {
    "colab": {
     "base_uri": "https://localhost:8080/",
     "height": 50
    },
    "colab_type": "code",
    "executionInfo": {
     "elapsed": 124566,
     "status": "ok",
     "timestamp": 1578828770254,
     "user": {
      "displayName": "Raju MLN",
      "photoUrl": "https://lh3.googleusercontent.com/a-/AAuE7mDdD2F6AP4ITC-wA3nNzvUXQvvOKRA6SGtqecOz2w=s64",
      "userId": "08235794127640337009"
     },
     "user_tz": -330
    },
    "id": "sUQrBslTwCph",
    "outputId": "47069866-1131-45d7-d719-a25e10c06ff8"
   },
   "outputs": [],
   "source": [
    "mape_train_error = mean_absolute_percentage_error(y_train_rf, y_pred_train_rf)\n",
    "mape_test_error = mean_absolute_percentage_error(y_test_rf, y_pred_test_rf)\n",
    "print('MAPE for training set is {}'.format(mape_train_error))\n",
    "print('MAPE for testing set is {}'.format(mape_test_error))"
   ]
  },
  {
   "cell_type": "markdown",
   "metadata": {
    "colab_type": "text",
    "id": "9ISTbW1zwCpj"
   },
   "source": [
    "##### c. R-Squared Error"
   ]
  },
  {
   "cell_type": "code",
   "execution_count": null,
   "metadata": {
    "colab": {
     "base_uri": "https://localhost:8080/",
     "height": 34
    },
    "colab_type": "code",
    "executionInfo": {
     "elapsed": 124545,
     "status": "ok",
     "timestamp": 1578828770254,
     "user": {
      "displayName": "Raju MLN",
      "photoUrl": "https://lh3.googleusercontent.com/a-/AAuE7mDdD2F6AP4ITC-wA3nNzvUXQvvOKRA6SGtqecOz2w=s64",
      "userId": "08235794127640337009"
     },
     "user_tz": -330
    },
    "id": "QNS2wwyOwCpj",
    "outputId": "f2ab820a-9c5f-44fc-c7c8-5480f3467500"
   },
   "outputs": [],
   "source": [
    "r_squared_train_rf = r2_score(y_train_rf,y_pred_train_rf )\n",
    "print('R-Squared for training set is {}'.format(r_squared_train_rf))"
   ]
  },
  {
   "cell_type": "code",
   "execution_count": null,
   "metadata": {
    "colab": {
     "base_uri": "https://localhost:8080/",
     "height": 34
    },
    "colab_type": "code",
    "executionInfo": {
     "elapsed": 124521,
     "status": "ok",
     "timestamp": 1578828770255,
     "user": {
      "displayName": "Raju MLN",
      "photoUrl": "https://lh3.googleusercontent.com/a-/AAuE7mDdD2F6AP4ITC-wA3nNzvUXQvvOKRA6SGtqecOz2w=s64",
      "userId": "08235794127640337009"
     },
     "user_tz": -330
    },
    "id": "gpt0493qwCpr",
    "outputId": "ed893999-1fc7-429a-aa48-177a0a82bc03"
   },
   "outputs": [],
   "source": [
    "r_squared_test_rf = r2_score(y_test_rf,y_pred_test_rf )\n",
    "print('R-Squared for testing set is {}'.format(r_squared_test_rf))"
   ]
  },
  {
   "cell_type": "markdown",
   "metadata": {
    "colab_type": "text",
    "id": "pod1n6h8wCpt"
   },
   "source": [
    "##### d. Adjusted R-Squared Error"
   ]
  },
  {
   "cell_type": "code",
   "execution_count": null,
   "metadata": {
    "colab": {
     "base_uri": "https://localhost:8080/",
     "height": 34
    },
    "colab_type": "code",
    "executionInfo": {
     "elapsed": 124497,
     "status": "ok",
     "timestamp": 1578828770256,
     "user": {
      "displayName": "Raju MLN",
      "photoUrl": "https://lh3.googleusercontent.com/a-/AAuE7mDdD2F6AP4ITC-wA3nNzvUXQvvOKRA6SGtqecOz2w=s64",
      "userId": "08235794127640337009"
     },
     "user_tz": -330
    },
    "id": "VniKk-krwCpt",
    "outputId": "64688560-2559-4578-8777-2a83fe3dc431",
    "scrolled": true
   },
   "outputs": [],
   "source": [
    "adjusted_r_squared_train_rf = 1 - (1-r_squared_train_rf)*(len(y_train_rf)-1)/(len(y_train_rf)-X_train_rf.shape[1]-1)\n",
    "print('Adjusted R-Squared for training set is {}'.format(adjusted_r_squared_train_rf))"
   ]
  },
  {
   "cell_type": "code",
   "execution_count": null,
   "metadata": {
    "colab": {
     "base_uri": "https://localhost:8080/",
     "height": 34
    },
    "colab_type": "code",
    "executionInfo": {
     "elapsed": 124480,
     "status": "ok",
     "timestamp": 1578828770257,
     "user": {
      "displayName": "Raju MLN",
      "photoUrl": "https://lh3.googleusercontent.com/a-/AAuE7mDdD2F6AP4ITC-wA3nNzvUXQvvOKRA6SGtqecOz2w=s64",
      "userId": "08235794127640337009"
     },
     "user_tz": -330
    },
    "id": "Zmyu-DbCwCpu",
    "outputId": "68531885-e30d-495b-f547-d0bd7f285b54"
   },
   "outputs": [],
   "source": [
    "adjusted_r_squared_test_rf = 1 - (1-r_squared_test_rf)*(len(y_test_rf)-1)/(len(y_test_rf)-X_train_rf.shape[1]-1)\n",
    "print('Adjusted R-Squared for testing set is {}'.format(adjusted_r_squared_test_rf))"
   ]
  },
  {
   "cell_type": "markdown",
   "metadata": {
    "colab_type": "text",
    "id": "D0UiBytFTw_h"
   },
   "source": [
    " <a id=section60302></a>\n",
    "### 6.3.2 Using GridSearchCV"
   ]
  },
  {
   "cell_type": "markdown",
   "metadata": {
    "colab_type": "text",
    "id": "BOq2seHBSh-q"
   },
   "source": [
    " <a id=section6030201></a>\n",
    "#### 6.3.2.1 Building Model and Prediction"
   ]
  },
  {
   "cell_type": "code",
   "execution_count": null,
   "metadata": {
    "colab": {},
    "colab_type": "code",
    "id": "wccClyQ4R7AI"
   },
   "outputs": [],
   "source": [
    "# Number of trees in random forest\n",
    "n_estimators = [int(x) for x in np.linspace(start = 200, stop = 2000, num = 5)]\n",
    "# Number of features to consider at every split\n",
    "max_features = ['auto', 'sqrt']\n",
    "# Maximum number of levels in tree\n",
    "max_depth = [int(x) for x in np.linspace(10, 110, num = 11)]\n",
    "max_depth.append(None)\n",
    "# Minimum number of samples required to split a node\n",
    "min_samples_split = [2, 5, 10]\n",
    "# Minimum number of samples required at each leaf node\n",
    "min_samples_leaf = [1, 2, 4]\n",
    "# Method of selecting samples for training each tree\n",
    "bootstrap = [True, False]\n",
    "# Create the random grid\n",
    "param_grid = {\n",
    "               'max_features': max_features,\n",
    "               'max_depth': max_depth,\n",
    "               'min_samples_split': min_samples_split,\n",
    "               'min_samples_leaf': min_samples_leaf,\n",
    "               'n_estimators' : [1, 5, 10, 15, 20, 25, 30],\n",
    "               'bootstrap': bootstrap\n",
    "              }"
   ]
  },
  {
   "cell_type": "code",
   "execution_count": null,
   "metadata": {
    "colab": {},
    "colab_type": "code",
    "id": "-KnJtvMySdWA"
   },
   "outputs": [],
   "source": [
    "# Instantiate the grid search model\n",
    "rf_reg_gs = GridSearchCV(estimator = rf_reg, param_grid = param_grid, \n",
    "                          cv = 3, n_jobs = -1, verbose = 2, scoring = my_scorer)"
   ]
  },
  {
   "cell_type": "code",
   "execution_count": null,
   "metadata": {
    "colab": {
     "base_uri": "https://localhost:8080/",
     "height": 706
    },
    "colab_type": "code",
    "executionInfo": {
     "elapsed": 44,
     "status": "ok",
     "timestamp": 1578824010642,
     "user": {
      "displayName": "Raju MLN",
      "photoUrl": "https://lh3.googleusercontent.com/a-/AAuE7mDdD2F6AP4ITC-wA3nNzvUXQvvOKRA6SGtqecOz2w=s64",
      "userId": "08235794127640337009"
     },
     "user_tz": -330
    },
    "id": "WLX4P2TeTAqn",
    "outputId": "467cd102-05e6-4352-caeb-115a10b5ed31"
   },
   "outputs": [],
   "source": [
    "rf_reg_gs.fit(X_train_dt, y_train_dt)"
   ]
  },
  {
   "cell_type": "code",
   "execution_count": null,
   "metadata": {
    "colab": {},
    "colab_type": "code",
    "id": "1kC9y2LfWBHo"
   },
   "outputs": [],
   "source": [
    "#prediction on training data\n",
    "y_pred_train_rf_gs = rf_reg_gs.predict(X_train_rf)\n",
    "\n",
    "#prediction on testing data\n",
    "y_pred_test_rf_gs = rf_reg_gs.predict(X_test_rf)"
   ]
  },
  {
   "cell_type": "markdown",
   "metadata": {
    "colab_type": "text",
    "id": "AqQXOlMBV3xQ"
   },
   "source": [
    " <a id=section6030202></a>\n",
    "\n",
    "#### 6.3.2.2 Model Evaluation"
   ]
  },
  {
   "cell_type": "markdown",
   "metadata": {
    "colab_type": "text",
    "id": "XGYyfFOwV3xS"
   },
   "source": [
    "##### a. RMSE\n"
   ]
  },
  {
   "cell_type": "code",
   "execution_count": null,
   "metadata": {
    "colab": {
     "base_uri": "https://localhost:8080/",
     "height": 50
    },
    "colab_type": "code",
    "executionInfo": {
     "elapsed": 292,
     "status": "ok",
     "timestamp": 1578808086397,
     "user": {
      "displayName": "Raju MLN",
      "photoUrl": "https://lh3.googleusercontent.com/a-/AAuE7mDdD2F6AP4ITC-wA3nNzvUXQvvOKRA6SGtqecOz2w=s64",
      "userId": "08235794127640337009"
     },
     "user_tz": -330
    },
    "id": "adur5aQEV3xU",
    "outputId": "135d1f69-84b4-4ed3-d9eb-5a22c476f17f"
   },
   "outputs": [],
   "source": [
    "from sklearn import metrics\n",
    "RMSE_train = np.sqrt( metrics.mean_squared_error(y_train_rf, y_pred_train_rf_gs))\n",
    "print('RMSE for training set is {}'.format(RMSE_train))\n",
    "RMSE_MAP['rf_train_gs'] = RMSE_train\n",
    "\n",
    "RMSE_test = np.sqrt( metrics.mean_squared_error(y_test_rf, y_pred_test_rf_gs))\n",
    "print('RMSE for testing set is {}'.format(RMSE_test))\n",
    "RMSE_MAP['rf_test_gs'] = RMSE_test\n"
   ]
  },
  {
   "cell_type": "markdown",
   "metadata": {
    "colab_type": "text",
    "id": "GKUttjZvV3xe"
   },
   "source": [
    "##### b. R-Squared Error"
   ]
  },
  {
   "cell_type": "code",
   "execution_count": null,
   "metadata": {
    "colab": {
     "base_uri": "https://localhost:8080/",
     "height": 34
    },
    "colab_type": "code",
    "executionInfo": {
     "elapsed": 226,
     "status": "ok",
     "timestamp": 1578808086402,
     "user": {
      "displayName": "Raju MLN",
      "photoUrl": "https://lh3.googleusercontent.com/a-/AAuE7mDdD2F6AP4ITC-wA3nNzvUXQvvOKRA6SGtqecOz2w=s64",
      "userId": "08235794127640337009"
     },
     "user_tz": -330
    },
    "id": "NOdLMgMxV3xf",
    "outputId": "5acc88d4-6dda-4ed1-d6ce-ee9e627f33c7"
   },
   "outputs": [],
   "source": [
    "r_squared_train_rf_gs = r2_score(y_train_rf,y_pred_train_rf_gs )\n",
    "print('R-Squared for training set is {}'.format(r_squared_train_rf_gs))"
   ]
  },
  {
   "cell_type": "code",
   "execution_count": null,
   "metadata": {
    "colab": {
     "base_uri": "https://localhost:8080/",
     "height": 34
    },
    "colab_type": "code",
    "executionInfo": {
     "elapsed": 188,
     "status": "ok",
     "timestamp": 1578808086403,
     "user": {
      "displayName": "Raju MLN",
      "photoUrl": "https://lh3.googleusercontent.com/a-/AAuE7mDdD2F6AP4ITC-wA3nNzvUXQvvOKRA6SGtqecOz2w=s64",
      "userId": "08235794127640337009"
     },
     "user_tz": -330
    },
    "id": "G-QOUFG4V3xk",
    "outputId": "c5e2d172-5991-40a3-9a7d-bc5e377d0ba2"
   },
   "outputs": [],
   "source": [
    "r_squared_test_rf_gs = r2_score(y_test_rf,y_pred_test_rf_gs )\n",
    "print('R-Squared for testing set is {}'.format(r_squared_test_rf_gs))"
   ]
  },
  {
   "cell_type": "markdown",
   "metadata": {
    "colab_type": "text",
    "id": "Y92WQIYmV3xm"
   },
   "source": [
    "##### c. Adjusted R-Squared Error"
   ]
  },
  {
   "cell_type": "code",
   "execution_count": null,
   "metadata": {
    "colab": {
     "base_uri": "https://localhost:8080/",
     "height": 34
    },
    "colab_type": "code",
    "executionInfo": {
     "elapsed": 157,
     "status": "ok",
     "timestamp": 1578808086405,
     "user": {
      "displayName": "Raju MLN",
      "photoUrl": "https://lh3.googleusercontent.com/a-/AAuE7mDdD2F6AP4ITC-wA3nNzvUXQvvOKRA6SGtqecOz2w=s64",
      "userId": "08235794127640337009"
     },
     "user_tz": -330
    },
    "id": "SZP7kYNvV3xn",
    "outputId": "3b17ac8e-fb25-4ff1-d997-49b4354c4bc1",
    "scrolled": true
   },
   "outputs": [],
   "source": [
    "adjusted_r_squared_train_rf_gs = 1 - (1-r_squared_train_rf_gs)*(len(y_train_rf)-1)/(len(y_train_rf)-X_train_rf.shape[1]-1)\n",
    "print('Adjusted R-Squared for training set is {}'.format(adjusted_r_squared_train_rf_gs))"
   ]
  },
  {
   "cell_type": "code",
   "execution_count": null,
   "metadata": {
    "colab": {
     "base_uri": "https://localhost:8080/",
     "height": 34
    },
    "colab_type": "code",
    "executionInfo": {
     "elapsed": 125,
     "status": "ok",
     "timestamp": 1578808086406,
     "user": {
      "displayName": "Raju MLN",
      "photoUrl": "https://lh3.googleusercontent.com/a-/AAuE7mDdD2F6AP4ITC-wA3nNzvUXQvvOKRA6SGtqecOz2w=s64",
      "userId": "08235794127640337009"
     },
     "user_tz": -330
    },
    "id": "cS6FmicGV3xq",
    "outputId": "3f4ad945-28aa-4041-d153-079558c3b818"
   },
   "outputs": [],
   "source": [
    "adjusted_r_squared_test_rf_gs = 1 - (1-r_squared_test_rf_gs)*(len(y_test_rf)-1)/(len(y_test_rf)-X_train_rf.shape[1]-1)\n",
    "print('Adjusted R-Squared for testing set is {}'.format(adjusted_r_squared_test_rf_gs))"
   ]
  },
  {
   "cell_type": "markdown",
   "metadata": {
    "colab_type": "text",
    "id": "jknUCm5BpiFo"
   },
   "source": [
    " <a id=section60303></a>\n",
    "### 6.3.3 Using RandomizedSearchCV"
   ]
  },
  {
   "cell_type": "markdown",
   "metadata": {
    "colab_type": "text",
    "id": "cK74AG6hpiFy"
   },
   "source": [
    " <a id=section6030301></a>\n",
    "#### 6.3.3.1 Building Model and Prediction"
   ]
  },
  {
   "cell_type": "code",
   "execution_count": null,
   "metadata": {
    "colab": {},
    "colab_type": "code",
    "id": "fXIKU9v9piF2"
   },
   "outputs": [],
   "source": [
    "# Number of trees in random forest\n",
    "n_estimators = [int(x) for x in np.linspace(start = 200, stop = 2000, num = 5)]\n",
    "# Number of features to consider at every split\n",
    "max_features = ['auto', 'sqrt']\n",
    "# Maximum number of levels in tree\n",
    "max_depth = [int(x) for x in np.linspace(10, 110, num = 11)]\n",
    "max_depth.append(None)\n",
    "# Minimum number of samples required to split a node\n",
    "min_samples_split = [2, 5, 10]\n",
    "# Minimum number of samples required at each leaf node\n",
    "min_samples_leaf = [1, 2, 4]\n",
    "# Method of selecting samples for training each tree\n",
    "bootstrap = [True, False]\n",
    "# Create the random grid\n",
    "random_grid = {\n",
    "               'max_features': max_features,\n",
    "               'max_depth': max_depth,\n",
    "               'min_samples_split': min_samples_split,\n",
    "               'min_samples_leaf': min_samples_leaf,\n",
    "               'n_estimators' : n_estimators,\n",
    "               'bootstrap': bootstrap\n",
    "              }"
   ]
  },
  {
   "cell_type": "code",
   "execution_count": null,
   "metadata": {
    "colab": {},
    "colab_type": "code",
    "id": "lP-PXV-0piF_"
   },
   "outputs": [],
   "source": [
    "# Instantiate the grid search model\n",
    "rf_reg_rs = RandomizedSearchCV(estimator = rf_reg, param_distributions = random_grid, n_iter = 100, cv = 3, \n",
    "                               verbose=2, random_state=42, n_jobs = -1, scoring = my_scorer)"
   ]
  },
  {
   "cell_type": "code",
   "execution_count": null,
   "metadata": {
    "colab": {},
    "colab_type": "code",
    "id": "b-tWnKfTpiGE"
   },
   "outputs": [],
   "source": [
    "rf_reg_rs.fit(X_train_dt, y_train_dt)"
   ]
  },
  {
   "cell_type": "code",
   "execution_count": null,
   "metadata": {
    "colab": {},
    "colab_type": "code",
    "id": "a___jPLzpiGI"
   },
   "outputs": [],
   "source": [
    "#prediction on training data\n",
    "y_pred_train_rf_rs = rf_reg_rs.predict(X_train_rf)\n",
    "\n",
    "#prediction on testing data\n",
    "y_pred_test_rf_rs = rf_reg_rs.predict(X_test_rf)"
   ]
  },
  {
   "cell_type": "markdown",
   "metadata": {
    "colab_type": "text",
    "id": "W-LVe_KPpiGP"
   },
   "source": [
    " <a id=section6030202></a>\n",
    "\n",
    "#### 6.3.2.2 Model Evaluation"
   ]
  },
  {
   "cell_type": "markdown",
   "metadata": {
    "colab_type": "text",
    "id": "DWpM1FIIpiGQ"
   },
   "source": [
    "##### a. RMSE\n"
   ]
  },
  {
   "cell_type": "code",
   "execution_count": null,
   "metadata": {
    "colab": {},
    "colab_type": "code",
    "id": "aDwrzxh-piGR"
   },
   "outputs": [],
   "source": [
    "from sklearn import metrics\n",
    "RMSE_train = np.sqrt( metrics.mean_squared_error(y_train_rf, y_pred_train_rf_rs))\n",
    "print('RMSE for training set is {}'.format(RMSE_train))\n",
    "RMSE_MAP['rf_train_rs'] = RMSE_train\n",
    "\n",
    "RMSE_test = np.sqrt( metrics.mean_squared_error(y_test_rf, y_pred_test_rf_rs))\n",
    "print('RMSE for testing set is {}'.format(RMSE_test))\n",
    "RMSE_MAP['rf_test_rs'] = RMSE_test\n"
   ]
  },
  {
   "cell_type": "markdown",
   "metadata": {
    "colab_type": "text",
    "id": "T3ERgAkfpiGX"
   },
   "source": [
    "##### b. R-Squared Error"
   ]
  },
  {
   "cell_type": "code",
   "execution_count": null,
   "metadata": {
    "colab": {},
    "colab_type": "code",
    "id": "YN3Tb_PrpiGX"
   },
   "outputs": [],
   "source": [
    "r_squared_train_rf_rs = r2_score(y_train_rf,y_pred_train_rf_rs )\n",
    "print('R-Squared for training set is {}'.format(r_squared_train_rf_rs))"
   ]
  },
  {
   "cell_type": "code",
   "execution_count": null,
   "metadata": {
    "colab": {},
    "colab_type": "code",
    "id": "0ef-635fpiGc"
   },
   "outputs": [],
   "source": [
    "r_squared_test_rf_rs = r2_score(y_test_rf,y_pred_test_rf_rs )\n",
    "print('R-Squared for testing set is {}'.format(r_squared_test_rf_rs))"
   ]
  },
  {
   "cell_type": "markdown",
   "metadata": {
    "colab_type": "text",
    "id": "yg9xGuMKpiGe"
   },
   "source": [
    "##### c. Adjusted R-Squared Error"
   ]
  },
  {
   "cell_type": "code",
   "execution_count": null,
   "metadata": {
    "colab": {},
    "colab_type": "code",
    "id": "XQlJN4L3piGf",
    "scrolled": true
   },
   "outputs": [],
   "source": [
    "adjusted_r_squared_train_rf_rs = 1 - (1-r_squared_train_rf_rs)*(len(y_train_rf)-1)/(len(y_train_rf)-X_train_rf.shape[1]-1)\n",
    "print('Adjusted R-Squared for training set is {}'.format(adjusted_r_squared_train_rf_rs))"
   ]
  },
  {
   "cell_type": "code",
   "execution_count": null,
   "metadata": {
    "colab": {},
    "colab_type": "code",
    "id": "6kZyccfopiGh"
   },
   "outputs": [],
   "source": [
    "adjusted_r_squared_test_rf_rs = 1 - (1-r_squared_test_rf_rs)*(len(y_test_rf)-1)/(len(y_test_rf)-X_train_rf.shape[1]-1)\n",
    "print('Adjusted R-Squared for testing set is {}'.format(adjusted_r_squared_test_rf_rs))"
   ]
  },
  {
   "cell_type": "markdown",
   "metadata": {
    "colab_type": "text",
    "id": "hLS6JsiOrwc5"
   },
   "source": [
    " <a id=section7></a>\n",
    "\n",
    "# 7. Conclusion"
   ]
  },
  {
   "cell_type": "markdown",
   "metadata": {
    "colab_type": "text",
    "id": "Dcfk5pvXqoUQ"
   },
   "source": [
    "## 7.1 Choosing Best Model for prediction"
   ]
  },
  {
   "cell_type": "markdown",
   "metadata": {
    "colab_type": "text",
    "id": "nTYv-U6vr8Oj"
   },
   "source": [
    " <a id=section701></a>\n",
    "<img src=\"./images/Model_Comparision.jpg\" height='400px' width='100%'><br/>"
   ]
  },
  {
   "cell_type": "markdown",
   "metadata": {
    "colab_type": "text",
    "id": "urEmQaXCtIrf"
   },
   "source": [
    "NOTE:\n",
    "\n",
    "As we can observe Random Forest algorithm has **best scores in terms of RMSE**. Let's use Tandom Forest GridSearchCV to predict our output.\n"
   ]
  },
  {
   "cell_type": "markdown",
   "metadata": {
    "colab_type": "text",
    "id": "YBzUnbMUqdYk"
   },
   "source": [
    " <a id=section702></a>\n",
    "# 7.2 Final Prediction"
   ]
  },
  {
   "cell_type": "code",
   "execution_count": null,
   "metadata": {
    "colab": {},
    "colab_type": "code",
    "id": "7b3PfxbTtiSV"
   },
   "outputs": [],
   "source": [
    " # dropping existing Views column\n",
    " df_views_songs_test.drop('Views', axis=1, inplace=True)"
   ]
  },
  {
   "cell_type": "code",
   "execution_count": null,
   "metadata": {
    "colab": {},
    "colab_type": "code",
    "id": "ZXbWZ0uSumVP"
   },
   "outputs": [],
   "source": [
    "# predicting test data\n",
    "y_pred = rf_reg_gs.predict(df_views_songs_test)"
   ]
  },
  {
   "cell_type": "code",
   "execution_count": null,
   "metadata": {
    "colab": {},
    "colab_type": "code",
    "id": "VBNmR3U9SFfk"
   },
   "outputs": [],
   "source": [
    "# storing predicted output in a dataframe\n",
    "views_predicted = pd.DataFrame({'Views' : np.array(y_pred)})\n",
    "views_predicted.index = df_views_songs_test.index"
   ]
  },
  {
   "cell_type": "code",
   "execution_count": null,
   "metadata": {
    "colab": {},
    "colab_type": "code",
    "id": "xRI_6Vo2uKsv"
   },
   "outputs": [],
   "source": [
    "# scaling back to original value\n",
    "views_predicted.apply(lambda x : x**10)"
   ]
  },
  {
   "cell_type": "code",
   "execution_count": null,
   "metadata": {
    "colab": {},
    "colab_type": "code",
    "id": "fJQckt5xqyXa"
   },
   "outputs": [],
   "source": [
    "# storing output in xlsx format\n",
    "views_predicted.to_excel('Views_Prediction.xlsx')"
   ]
  }
 ],
 "metadata": {
  "colab": {
   "collapsed_sections": [
    "H_CCA-lquBnW",
    "05W5gAznuBnb",
    "QY7Lvy7ruBnw",
    "6zJMWRpKuBn0",
    "2xCbxMWDuBn8",
    "olh_1znauBoL",
    "8-7mV5quuBoT",
    "XAYqiZJXuBoa",
    "1uRVtps7uBof",
    "N1z29TdVuBog",
    "y7oyrCBcuBol",
    "9Sbaj1YGuBos",
    "ahoydxpEuBqg",
    "aPWTERz2uBqs",
    "q1vbwN7ruBqx",
    "hRjBYMRcuBq5",
    "3sZbZRs-uBq5",
    "yO_jkHgbuBrD",
    "bIZg4h35uBrD",
    "rXSjndu7uBrG",
    "XDKXxYr3uBrO",
    "HleW9XkQuBrV",
    "bVSfvFgxuBra",
    "CQGe49m6uBrb",
    "aokgIekOuBrl",
    "SOSYQ0ejuBrm",
    "h497xmeZuBrn",
    "ZamyNRnFuBrp",
    "_6UCLovcuBrs"
   ],
   "name": "ChartBustersParticipants.ipynb",
   "provenance": [],
   "toc_visible": true
  },
  "kernelspec": {
   "display_name": "Python 3",
   "language": "python",
   "name": "python3"
  },
  "language_info": {
   "codemirror_mode": {
    "name": "ipython",
    "version": 3
   },
   "file_extension": ".py",
   "mimetype": "text/x-python",
   "name": "python",
   "nbconvert_exporter": "python",
   "pygments_lexer": "ipython3",
   "version": "3.7.3"
  }
 },
 "nbformat": 4,
 "nbformat_minor": 1
}
