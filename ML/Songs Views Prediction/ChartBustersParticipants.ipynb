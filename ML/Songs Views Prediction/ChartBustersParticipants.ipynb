{
 "cells": [
  {
   "cell_type": "markdown",
   "metadata": {},
   "source": [
    "# Chart Busters Participants Prediction\n",
    "\n",
    "<img src=\"./images/Music.jpg\" height='400px' width='100%'><br/>\n",
    "\n",
    "\n",
    "\n"
   ]
  },
  {
   "cell_type": "markdown",
   "metadata": {},
   "source": [
    "## Table of Contents\n",
    "\n",
    "1. [Problem Statement](#section1)<br>\n",
    "2. [Importing Packages](#section2)<br>\n",
    "3. [Loading Data](#section3)<br>\n",
    "  - 3.1 [Description of the Datasets](#section301)<br>\n",
    "  - 3.2 [Pandas Profiling before Data Preprocessing](#section302)<br>\n",
    "4. [Data Preprocessing](#section4)<br>\n",
    "  - 4.1 [Filling missing values](#section401)<br>\n",
    "  - 4.2 [Remove highly correlated columns](#section402)<br>\n",
    "  - 4.3 [Handling Outliers](#section403)<br>\n",
    "  - 4.4 [Pandas Profiling after Data Preprocessing](#section404)<br>\n",
    "  - 4.5 [Exploratory Data Analysis](#section405)<br>\n",
    "5. [Data preparation for model building](#section5)<br>\n",
    "  - 5.1 [Dummification / One-Hot Encoding](#section501)<br>\n",
    "  - 5.2 [Standardizing continuos independent variables](#section502)<br>\n",
    "  - 5.3 [Segregating Train and Test data](#section503)<br>\n",
    "6. [Ensemble Modelling and Prediction](#section6)<br>  \n",
    "  - 6.1 [Linear Regression](#section601)\n",
    "      - 6.1.1 [Checking assumptions of Linear Regression](#section60101)\n",
    "      - 6.1.2 [Using Default Model](#section60102)\n",
    "          - 6.1.2.1 [Building Model and Predictionl](#section6010201)\n",
    "          - 6.1.2.2 [Model Evaluation](#section6010202)\n",
    "      - 6.1.3 [Using GridSearchCV](#section60103)\n",
    "          - 6.1.2.1 [Building Model and Predictionl](#section6010301)\n",
    "          - 6.1.2.2 [Model Evaluation](#section6010301)\n",
    "       - 6.1.4 [Using RandomSearchCV](#section60104)\n",
    "          - 6.1.2.1 [Building Model and Predictionl](#section6010401)\n",
    "          - 6.1.2.2 [Model Evaluation](#section6010401)\n",
    "  - 6.2 [Decision Tree](#section602)\n",
    "      - 6.2.1 [Using Default Model](#section60201)\n",
    "          - 6.2.1.1 [Building Model and Predictionl](#section6020101)\n",
    "          - 6.2.1.2 [Model Evaluation](#section6020102)\n",
    "      - 6.2.2 [Using GridSearchCV](#section60202)\n",
    "          - 6.2.2.1 [Building Model and Predictionl](#section6020201)\n",
    "          - 6.2.2.2 [Model Evaluation](#section6020202)\n",
    "      - 6.2.3 [Using RandomSearchCV](#section60203)\n",
    "          - 6.2.3.1 [Building Model and Predictionl](#section6020301)\n",
    "          - 6.2.3.2 [Model Evaluation](#section6020302)\n",
    "  - 6.3 [Random Forest](#section603)\n",
    "      - 6.3.1 [Using Default Model](#section60301)\n",
    "          - 6.3.1.1 [Building Model and Predictionl](#section6030101)\n",
    "          - 6.1.2.2 [Model Evaluation](#section6030102)\n",
    "      - 6.3.2 [Using GridSearchCV](#section60302)\n",
    "          - 6.3.2.1 [Building Model and Predictionl](#section6030201)\n",
    "          - 6.3.2.2 [Model Evaluation](#section6030202)\n",
    "      - 6.3.3 [Using RandomSearchCV](#section60303)\n",
    "          - 6.3.3.1 [Building Model and Predictionl](#section6030301)\n",
    "          - 6.3.3.2 [Model Evaluation](#section6030302)\n",
    "7.  [Conclusion](#section7)<br>"
   ]
  },
  {
   "cell_type": "markdown",
   "metadata": {},
   "source": [
    "<a id=section1></a>\n",
    "# 1. Problem Statement"
   ]
  },
  {
   "cell_type": "markdown",
   "metadata": {},
   "source": [
    "<img src=\"./images/ProblemStatement.jpg\" height='400px' width='100%'><br/>"
   ]
  },
  {
   "cell_type": "markdown",
   "metadata": {},
   "source": [
    "<a id=section2></a>\n",
    "# 2. Importing Packages"
   ]
  },
  {
   "cell_type": "code",
   "execution_count": 243,
   "metadata": {},
   "outputs": [],
   "source": [
    "import numpy as np                     \n",
    "\n",
    "import pandas as pd\n",
    "\n",
    "# To suppress pandas warnings.\n",
    "pd.set_option('mode.chained_assignment', None) \n",
    "\n",
    "# To display all the data in each column\n",
    "pd.set_option('display.max_colwidth', -1)         \n",
    "\n",
    "pd.get_option(\"display.max_rows\",10000)\n",
    "\n",
    "# To display every column of the dataset in head()\n",
    "pd.options.display.max_columns = 100               \n",
    "\n",
    "import warnings\n",
    "warnings.filterwarnings('ignore')     "
   ]
  },
  {
   "cell_type": "code",
   "execution_count": 244,
   "metadata": {},
   "outputs": [],
   "source": [
    "import matplotlib.pyplot as plt\n",
    "%matplotlib inline\n",
    "\n",
    "# To apply seaborn styles to the plots.\n",
    "import seaborn as sns\n",
    "sns.set(style='whitegrid', font_scale=1.3, color_codes=True)      "
   ]
  },
  {
   "cell_type": "markdown",
   "metadata": {},
   "source": [
    "<a id=section3></a>\n",
    "\n",
    "# 3. Loading Data"
   ]
  },
  {
   "cell_type": "code",
   "execution_count": 245,
   "metadata": {},
   "outputs": [
    {
     "data": {
      "text/html": [
       "<div>\n",
       "<style scoped>\n",
       "    .dataframe tbody tr th:only-of-type {\n",
       "        vertical-align: middle;\n",
       "    }\n",
       "\n",
       "    .dataframe tbody tr th {\n",
       "        vertical-align: top;\n",
       "    }\n",
       "\n",
       "    .dataframe thead th {\n",
       "        text-align: right;\n",
       "    }\n",
       "</style>\n",
       "<table border=\"1\" class=\"dataframe\">\n",
       "  <thead>\n",
       "    <tr style=\"text-align: right;\">\n",
       "      <th></th>\n",
       "      <th>Comments</th>\n",
       "      <th>Country</th>\n",
       "      <th>Followers</th>\n",
       "      <th>Genre</th>\n",
       "      <th>Is_Test_Data</th>\n",
       "      <th>Likes</th>\n",
       "      <th>Name</th>\n",
       "      <th>Popularity</th>\n",
       "      <th>Song_Name</th>\n",
       "      <th>Timestamp</th>\n",
       "      <th>Views</th>\n",
       "    </tr>\n",
       "    <tr>\n",
       "      <th>Unique_ID</th>\n",
       "      <th></th>\n",
       "      <th></th>\n",
       "      <th></th>\n",
       "      <th></th>\n",
       "      <th></th>\n",
       "      <th></th>\n",
       "      <th></th>\n",
       "      <th></th>\n",
       "      <th></th>\n",
       "      <th></th>\n",
       "      <th></th>\n",
       "    </tr>\n",
       "  </thead>\n",
       "  <tbody>\n",
       "    <tr>\n",
       "      <th>413890</th>\n",
       "      <td>4</td>\n",
       "      <td>AU</td>\n",
       "      <td>119563</td>\n",
       "      <td>danceedm</td>\n",
       "      <td>0</td>\n",
       "      <td>499</td>\n",
       "      <td>Hardstyle</td>\n",
       "      <td>97</td>\n",
       "      <td>N-Vitral presents BOMBSQUAD - Poison Spitter (Snakepit 2018 Anthem)</td>\n",
       "      <td>2018-03-30 15:24:45.000000</td>\n",
       "      <td>14017.0</td>\n",
       "    </tr>\n",
       "    <tr>\n",
       "      <th>249453</th>\n",
       "      <td>17</td>\n",
       "      <td>AU</td>\n",
       "      <td>2141</td>\n",
       "      <td>danceedm</td>\n",
       "      <td>0</td>\n",
       "      <td>49</td>\n",
       "      <td>Dj Aladdin</td>\n",
       "      <td>17</td>\n",
       "      <td>Dj Aladdin - Old School Hip Hop Quick Mix</td>\n",
       "      <td>2016-06-20 05:58:52.000000</td>\n",
       "      <td>1918.0</td>\n",
       "    </tr>\n",
       "    <tr>\n",
       "      <th>681116</th>\n",
       "      <td>11</td>\n",
       "      <td>AU</td>\n",
       "      <td>22248</td>\n",
       "      <td>danceedm</td>\n",
       "      <td>0</td>\n",
       "      <td>312</td>\n",
       "      <td>Maxximize On Air</td>\n",
       "      <td>91</td>\n",
       "      <td>Maxximize On Air - Mixed by Blasterjaxx - Episode #048</td>\n",
       "      <td>2015-05-08 17:45:59.000000</td>\n",
       "      <td>9668.0</td>\n",
       "    </tr>\n",
       "    <tr>\n",
       "      <th>387253</th>\n",
       "      <td>2</td>\n",
       "      <td>AU</td>\n",
       "      <td>393655</td>\n",
       "      <td>rbsoul</td>\n",
       "      <td>0</td>\n",
       "      <td>2,400</td>\n",
       "      <td>GR6 EXPLODE</td>\n",
       "      <td>76</td>\n",
       "      <td>MC Yago - Tenho Compromisso (DJ R7)</td>\n",
       "      <td>2017-06-08 23:50:03.000000</td>\n",
       "      <td>113036.0</td>\n",
       "    </tr>\n",
       "    <tr>\n",
       "      <th>1428029</th>\n",
       "      <td>81</td>\n",
       "      <td>AU</td>\n",
       "      <td>201030</td>\n",
       "      <td>danceedm</td>\n",
       "      <td>0</td>\n",
       "      <td>3,031</td>\n",
       "      <td>Tritonal</td>\n",
       "      <td>699</td>\n",
       "      <td>Escape (feat. Steph Jones)</td>\n",
       "      <td>2016-09-17 20:50:19.000000</td>\n",
       "      <td>110024.0</td>\n",
       "    </tr>\n",
       "  </tbody>\n",
       "</table>\n",
       "</div>"
      ],
      "text/plain": [
       "           Comments Country  Followers     Genre  Is_Test_Data  Likes  \\\n",
       "Unique_ID                                                               \n",
       "413890     4         AU      119563     danceedm  0             499     \n",
       "249453     17        AU      2141       danceedm  0             49      \n",
       "681116     11        AU      22248      danceedm  0             312     \n",
       "387253     2         AU      393655     rbsoul    0             2,400   \n",
       "1428029    81        AU      201030     danceedm  0             3,031   \n",
       "\n",
       "                       Name Popularity  \\\n",
       "Unique_ID                                \n",
       "413890     Hardstyle         97          \n",
       "249453     Dj Aladdin        17          \n",
       "681116     Maxximize On Air  91          \n",
       "387253     GR6 EXPLODE       76          \n",
       "1428029    Tritonal          699         \n",
       "\n",
       "                                                                     Song_Name  \\\n",
       "Unique_ID                                                                        \n",
       "413890     N-Vitral presents BOMBSQUAD - Poison Spitter (Snakepit 2018 Anthem)   \n",
       "249453     Dj Aladdin - Old School Hip Hop Quick Mix                             \n",
       "681116     Maxximize On Air - Mixed by Blasterjaxx - Episode #048                \n",
       "387253     MC Yago - Tenho Compromisso (DJ R7)                                   \n",
       "1428029    Escape (feat. Steph Jones)                                            \n",
       "\n",
       "                            Timestamp     Views  \n",
       "Unique_ID                                        \n",
       "413890     2018-03-30 15:24:45.000000  14017.0   \n",
       "249453     2016-06-20 05:58:52.000000  1918.0    \n",
       "681116     2015-05-08 17:45:59.000000  9668.0    \n",
       "387253     2017-06-08 23:50:03.000000  113036.0  \n",
       "1428029    2016-09-17 20:50:19.000000  110024.0  "
      ]
     },
     "execution_count": 245,
     "metadata": {},
     "output_type": "execute_result"
    }
   ],
   "source": [
    "# loading data from csv file to a data frame\n",
    "df_train = pd.read_csv('./data/Data_Train.csv', index_col = \"Unique_ID\")\n",
    "\n",
    "# Adding new column 'isTestData' so that we can easily separate train and test \n",
    "# data during prediction process\n",
    "df_train['Is_Test_Data'] = 0\n",
    "\n",
    "df_test = pd.read_csv('./data/Data_Test.csv', index_col = \"Unique_ID\")\n",
    "\n",
    "df_test['Is_Test_Data'] = 1\n",
    "\n",
    "# concat train and test data for data pre processing\n",
    "df_views_songs = pd.concat([df_train,df_test])\n",
    "\n",
    "df_views_songs.head()"
   ]
  },
  {
   "cell_type": "markdown",
   "metadata": {},
   "source": [
    "<a id=section301></a>\n",
    "## 3.1 Description of the Datasets"
   ]
  },
  {
   "cell_type": "markdown",
   "metadata": {},
   "source": [
    "#### a. Check shape"
   ]
  },
  {
   "cell_type": "code",
   "execution_count": 246,
   "metadata": {},
   "outputs": [
    {
     "data": {
      "text/plain": [
       "(98073, 11)"
      ]
     },
     "execution_count": 246,
     "metadata": {},
     "output_type": "execute_result"
    }
   ],
   "source": [
    "#shape of data\n",
    "df_views_songs.shape"
   ]
  },
  {
   "cell_type": "markdown",
   "metadata": {},
   "source": [
    "#### b. info\n",
    "<img src=\"./images/Features.jpg\" height='400px' width='100%'><br/>"
   ]
  },
  {
   "cell_type": "code",
   "execution_count": 247,
   "metadata": {
    "scrolled": true
   },
   "outputs": [
    {
     "name": "stdout",
     "output_type": "stream",
     "text": [
      "<class 'pandas.core.frame.DataFrame'>\n",
      "Int64Index: 98073 entries, 413890 to 415046\n",
      "Data columns (total 11 columns):\n",
      "Comments        98073 non-null int64\n",
      "Country         98073 non-null object\n",
      "Followers       98073 non-null int64\n",
      "Genre           98073 non-null object\n",
      "Is_Test_Data    98073 non-null int64\n",
      "Likes           98073 non-null object\n",
      "Name            98073 non-null object\n",
      "Popularity      98073 non-null object\n",
      "Song_Name       98072 non-null object\n",
      "Timestamp       98073 non-null object\n",
      "Views           78458 non-null float64\n",
      "dtypes: float64(1), int64(3), object(7)\n",
      "memory usage: 9.0+ MB\n"
     ]
    }
   ],
   "source": [
    "df_views_songs.info()"
   ]
  },
  {
   "cell_type": "markdown",
   "metadata": {},
   "source": [
    "**Observations :**  \n",
    "We don't have any missing values"
   ]
  },
  {
   "cell_type": "markdown",
   "metadata": {},
   "source": [
    "#### c. describe"
   ]
  },
  {
   "cell_type": "code",
   "execution_count": 248,
   "metadata": {
    "scrolled": true
   },
   "outputs": [
    {
     "data": {
      "text/html": [
       "<div>\n",
       "<style scoped>\n",
       "    .dataframe tbody tr th:only-of-type {\n",
       "        vertical-align: middle;\n",
       "    }\n",
       "\n",
       "    .dataframe tbody tr th {\n",
       "        vertical-align: top;\n",
       "    }\n",
       "\n",
       "    .dataframe thead th {\n",
       "        text-align: right;\n",
       "    }\n",
       "</style>\n",
       "<table border=\"1\" class=\"dataframe\">\n",
       "  <thead>\n",
       "    <tr style=\"text-align: right;\">\n",
       "      <th></th>\n",
       "      <th>Comments</th>\n",
       "      <th>Followers</th>\n",
       "      <th>Is_Test_Data</th>\n",
       "      <th>Views</th>\n",
       "    </tr>\n",
       "  </thead>\n",
       "  <tbody>\n",
       "    <tr>\n",
       "      <th>count</th>\n",
       "      <td>98073.000000</td>\n",
       "      <td>9.807300e+04</td>\n",
       "      <td>98073.000000</td>\n",
       "      <td>7.845800e+04</td>\n",
       "    </tr>\n",
       "    <tr>\n",
       "      <th>mean</th>\n",
       "      <td>115.987591</td>\n",
       "      <td>4.796740e+05</td>\n",
       "      <td>0.200004</td>\n",
       "      <td>5.469686e+05</td>\n",
       "    </tr>\n",
       "    <tr>\n",
       "      <th>std</th>\n",
       "      <td>756.416793</td>\n",
       "      <td>1.168391e+06</td>\n",
       "      <td>0.400005</td>\n",
       "      <td>3.883085e+06</td>\n",
       "    </tr>\n",
       "    <tr>\n",
       "      <th>min</th>\n",
       "      <td>0.000000</td>\n",
       "      <td>1.000000e+00</td>\n",
       "      <td>0.000000</td>\n",
       "      <td>0.000000e+00</td>\n",
       "    </tr>\n",
       "    <tr>\n",
       "      <th>25%</th>\n",
       "      <td>1.000000</td>\n",
       "      <td>1.778400e+04</td>\n",
       "      <td>0.000000</td>\n",
       "      <td>6.216500e+03</td>\n",
       "    </tr>\n",
       "    <tr>\n",
       "      <th>50%</th>\n",
       "      <td>12.000000</td>\n",
       "      <td>8.892700e+04</td>\n",
       "      <td>0.000000</td>\n",
       "      <td>2.538650e+04</td>\n",
       "    </tr>\n",
       "    <tr>\n",
       "      <th>75%</th>\n",
       "      <td>61.000000</td>\n",
       "      <td>3.936550e+05</td>\n",
       "      <td>0.000000</td>\n",
       "      <td>1.201342e+05</td>\n",
       "    </tr>\n",
       "    <tr>\n",
       "      <th>max</th>\n",
       "      <td>104082.000000</td>\n",
       "      <td>9.789123e+06</td>\n",
       "      <td>1.000000</td>\n",
       "      <td>1.994050e+08</td>\n",
       "    </tr>\n",
       "  </tbody>\n",
       "</table>\n",
       "</div>"
      ],
      "text/plain": [
       "            Comments     Followers  Is_Test_Data         Views\n",
       "count  98073.000000   9.807300e+04  98073.000000  7.845800e+04\n",
       "mean   115.987591     4.796740e+05  0.200004      5.469686e+05\n",
       "std    756.416793     1.168391e+06  0.400005      3.883085e+06\n",
       "min    0.000000       1.000000e+00  0.000000      0.000000e+00\n",
       "25%    1.000000       1.778400e+04  0.000000      6.216500e+03\n",
       "50%    12.000000      8.892700e+04  0.000000      2.538650e+04\n",
       "75%    61.000000      3.936550e+05  0.000000      1.201342e+05\n",
       "max    104082.000000  9.789123e+06  1.000000      1.994050e+08"
      ]
     },
     "execution_count": 248,
     "metadata": {},
     "output_type": "execute_result"
    }
   ],
   "source": [
    "df_views_songs.describe()"
   ]
  },
  {
   "cell_type": "markdown",
   "metadata": {},
   "source": [
    "**Observations :** Looks like there are some outliers. Lets confirm same from pandas profiling in next step."
   ]
  },
  {
   "cell_type": "markdown",
   "metadata": {},
   "source": [
    " <a id=section302></a>\n",
    "## 3.2 Pandas Profiling before Data Preprocessing"
   ]
  },
  {
   "cell_type": "code",
   "execution_count": 249,
   "metadata": {},
   "outputs": [],
   "source": [
    "# To install pandas profiling please run this command.\n",
    "\n",
    "#!pip install pandas-profiling --upgrade"
   ]
  },
  {
   "cell_type": "code",
   "execution_count": 250,
   "metadata": {},
   "outputs": [],
   "source": [
    "#import pandas_profiling\n",
    "\n",
    "# Running pandas profiling to get better understanding of data\n",
    "#df_views_songs.profile_report(title='Pandas Profiling before Data Preprocessing', style={'full_width':True})"
   ]
  },
  {
   "cell_type": "markdown",
   "metadata": {},
   "source": [
    " <a id=section4></a>\n",
    "# 4. Data Preprocessing"
   ]
  },
  {
   "cell_type": "markdown",
   "metadata": {},
   "source": [
    " <a id=section401></a>\n",
    "## 4.1 Fixing datatypes of columns"
   ]
  },
  {
   "cell_type": "markdown",
   "metadata": {},
   "source": [
    "#### a. Country column has only one value"
   ]
  },
  {
   "cell_type": "code",
   "execution_count": 251,
   "metadata": {},
   "outputs": [
    {
     "data": {
      "text/plain": [
       "AU    98073\n",
       "Name: Country, dtype: int64"
      ]
     },
     "execution_count": 251,
     "metadata": {},
     "output_type": "execute_result"
    }
   ],
   "source": [
    "df_views_songs['Country'].value_counts()"
   ]
  },
  {
   "cell_type": "markdown",
   "metadata": {},
   "source": [
    "**NOTE :** We can observe country has only one value i.e AU. Let's drop it."
   ]
  },
  {
   "cell_type": "code",
   "execution_count": 252,
   "metadata": {
    "scrolled": true
   },
   "outputs": [],
   "source": [
    "df_views_songs.drop('Country', axis=1, inplace=True)"
   ]
  },
  {
   "cell_type": "markdown",
   "metadata": {},
   "source": [
    "#### b. Change Likes column from string to integer"
   ]
  },
  {
   "cell_type": "code",
   "execution_count": 253,
   "metadata": {},
   "outputs": [],
   "source": [
    "# replacing  , M K with empty string\n",
    "df_views_songs['Likes'] = df_views_songs['Likes'].str.replace(',', '')\n",
    "df_views_songs['Likes'] = df_views_songs['Likes'].str.replace('K', '')\n",
    "df_views_songs['Likes'] = df_views_songs['Likes'].str.replace('M', '')\n",
    "\n",
    "#converting string to float and then int\n",
    "df_views_songs['Likes'] = df_views_songs['Likes'].astype('float64').astype('int64')"
   ]
  },
  {
   "cell_type": "markdown",
   "metadata": {},
   "source": [
    "#### c. Change Popularity column from string to integer"
   ]
  },
  {
   "cell_type": "code",
   "execution_count": 254,
   "metadata": {},
   "outputs": [],
   "source": [
    "#converting string to int\n",
    "df_views_songs['Popularity'] = df_views_songs['Likes'].astype('int64')"
   ]
  },
  {
   "cell_type": "markdown",
   "metadata": {},
   "source": [
    "#### d. Change Timestamp column to pandas datetime"
   ]
  },
  {
   "cell_type": "code",
   "execution_count": 255,
   "metadata": {},
   "outputs": [],
   "source": [
    "df_views_songs\n",
    "df_views_songs['Timestamp'] = pd.to_datetime(df_views_songs['Timestamp'])"
   ]
  },
  {
   "cell_type": "code",
   "execution_count": 256,
   "metadata": {},
   "outputs": [
    {
     "name": "stdout",
     "output_type": "stream",
     "text": [
      "<class 'pandas.core.frame.DataFrame'>\n",
      "Int64Index: 98073 entries, 413890 to 415046\n",
      "Data columns (total 10 columns):\n",
      "Comments        98073 non-null int64\n",
      "Followers       98073 non-null int64\n",
      "Genre           98073 non-null object\n",
      "Is_Test_Data    98073 non-null int64\n",
      "Likes           98073 non-null int64\n",
      "Name            98073 non-null object\n",
      "Popularity      98073 non-null int64\n",
      "Song_Name       98072 non-null object\n",
      "Timestamp       98073 non-null datetime64[ns]\n",
      "Views           78458 non-null float64\n",
      "dtypes: datetime64[ns](1), float64(1), int64(5), object(3)\n",
      "memory usage: 8.2+ MB\n"
     ]
    }
   ],
   "source": [
    "df_views_songs.info()"
   ]
  },
  {
   "cell_type": "markdown",
   "metadata": {},
   "source": [
    " <a id=section402></a>\n",
    "## 4.2 Filling missing values"
   ]
  },
  {
   "cell_type": "code",
   "execution_count": 257,
   "metadata": {},
   "outputs": [],
   "source": [
    "column_names = list(df_views_songs.columns)\n",
    "column_names.remove('Views')"
   ]
  },
  {
   "cell_type": "code",
   "execution_count": 258,
   "metadata": {},
   "outputs": [],
   "source": [
    "columns_to_be_dropped = list()\n",
    "for i in range(0,len(column_names)):\n",
    "  if(df_views_songs[column_names[i]].isna().any()):\n",
    "    \n",
    "    # calculating missing percentage for each column\n",
    "    missing_count = sum(df_views_songs[column_names[i]].isna())\n",
    "    total_count = len(df_views_songs[column_names[i]])\n",
    "    missing_percent = (missing_count/total_count)*100\n",
    "  \n",
    "\n",
    "    # add column name to `columns_to_be_dropped` \n",
    "    # if missing percentage is greater than 70\n",
    "    if(missing_percent >= 70):\n",
    "      columns_to_be_dropped.append(column_names[i])\n",
    "    else:\n",
    "\n",
    "      # checking datatype of each column so that we know \n",
    "      # which value to be replaced in missing value(median/mode)\n",
    "      if(df_views_songs[column_names[i]].dtype == 'object'):\n",
    "        value_to_be_filled = df_views_songs[column_names[i]].mode()[0]\n",
    "        df_views_songs[column_names[i]].fillna(value_to_be_filled, inplace=True)\n",
    "      elif(df_views_songs[column_names[i]].dtype == 'float64' or df_views_songs[column_names[i]].dtype == 'int64'):\n",
    "         value_to_be_filled = df_views_songs[column_names[i]].median()\n",
    "         df_views_songs[column_names[i]].fillna(value_to_be_filled, inplace=True)\n",
    "\n",
    "# droping all columns who have more than 70% missing values\n",
    "df_views_songs.drop(columns_to_be_dropped, axis=1, inplace=True)"
   ]
  },
  {
   "cell_type": "code",
   "execution_count": 259,
   "metadata": {},
   "outputs": [
    {
     "name": "stdout",
     "output_type": "stream",
     "text": [
      "<class 'pandas.core.frame.DataFrame'>\n",
      "Int64Index: 98073 entries, 413890 to 415046\n",
      "Data columns (total 10 columns):\n",
      "Comments        98073 non-null int64\n",
      "Followers       98073 non-null int64\n",
      "Genre           98073 non-null object\n",
      "Is_Test_Data    98073 non-null int64\n",
      "Likes           98073 non-null int64\n",
      "Name            98073 non-null object\n",
      "Popularity      98073 non-null int64\n",
      "Song_Name       98073 non-null object\n",
      "Timestamp       98073 non-null datetime64[ns]\n",
      "Views           78458 non-null float64\n",
      "dtypes: datetime64[ns](1), float64(1), int64(5), object(3)\n",
      "memory usage: 8.2+ MB\n"
     ]
    }
   ],
   "source": [
    "df_views_songs.info()"
   ]
  },
  {
   "cell_type": "markdown",
   "metadata": {},
   "source": [
    "**Observations:**\n",
    "\n",
    "We don't have any missing values. Good to go."
   ]
  },
  {
   "cell_type": "markdown",
   "metadata": {},
   "source": [
    " <a id=section403></a>\n",
    "## 4.3 Remove highly correlated columns"
   ]
  },
  {
   "cell_type": "code",
   "execution_count": 260,
   "metadata": {},
   "outputs": [
    {
     "data": {
      "text/plain": [
       "['Comments',\n",
       " 'Followers',\n",
       " 'Genre',\n",
       " 'Likes',\n",
       " 'Name',\n",
       " 'Popularity',\n",
       " 'Song_Name',\n",
       " 'Timestamp']"
      ]
     },
     "execution_count": 260,
     "metadata": {},
     "output_type": "execute_result"
    }
   ],
   "source": [
    "# extracting feature columns\n",
    "feature_cols = list(df_views_songs.columns)\n",
    "feature_cols.remove('Views')\n",
    "feature_cols.remove('Is_Test_Data')\n",
    "feature_cols"
   ]
  },
  {
   "cell_type": "code",
   "execution_count": 261,
   "metadata": {},
   "outputs": [
    {
     "data": {
      "text/plain": [
       "['Popularity']"
      ]
     },
     "execution_count": 261,
     "metadata": {},
     "output_type": "execute_result"
    }
   ],
   "source": [
    "# extracting highly correlated columns(except target variable) to drop\n",
    "\n",
    "# Create correlation matrix\n",
    "corr_matrix = df_views_songs[feature_cols].corr().abs()\n",
    "\n",
    "# Select upper triangle of correlation matrix\n",
    "upper = corr_matrix.where(np.triu(np.ones(corr_matrix.shape), k=1).astype(np.bool))\n",
    "\n",
    "# Find index of feature columns with correlation greater than 0.80\n",
    "cols_to_drop = [column for column in upper.columns if any(upper[column] > 0.70)]\n",
    "cols_to_drop"
   ]
  },
  {
   "cell_type": "markdown",
   "metadata": {},
   "source": [
    "**Observations :** We have two highly correlated independant columns. Let's drop one."
   ]
  },
  {
   "cell_type": "code",
   "execution_count": 262,
   "metadata": {},
   "outputs": [],
   "source": [
    "# lets drop Popularity\n",
    "df_views_songs.drop('Popularity', axis=1, inplace=True)"
   ]
  },
  {
   "cell_type": "markdown",
   "metadata": {},
   "source": [
    " <a id=section404></a>\n",
    "## 4.4 Handling Outliers\n",
    "\n",
    "Concept of outliers is only applicable to continuous variables.\n",
    "\n",
    "NOTE:\n",
    "\n",
    "1. Remove ouliers if percentage is less than 2%\n",
    "\n",
    "2. Fill remaining outliers values with median(continuous) or mode(categorical) depending on data.\n",
    "\n"
   ]
  },
  {
   "cell_type": "code",
   "execution_count": 263,
   "metadata": {},
   "outputs": [
    {
     "name": "stdout",
     "output_type": "stream",
     "text": [
      "['Comments', 'Followers', 'Is_Test_Data', 'Likes']\n",
      "['Genre', 'Name', 'Song_Name']\n"
     ]
    }
   ],
   "source": [
    "# storing columns with continuos datatype in 'continuos_cols' \n",
    "continuous_columns = []\n",
    "categorical_columns = []\n",
    "cols = df_views_songs.columns\n",
    "\n",
    "for i in range(0,len(cols)):\n",
    "  if(df_views_songs[cols[i]].dtype != 'object'):\n",
    "    continuous_columns.append(cols[i])\n",
    "  else:\n",
    "    categorical_columns.append(cols[i])\n",
    "\n",
    "continuous_columns.remove('Timestamp')\n",
    "continuous_columns.remove('Views')\n",
    "\n",
    "print(continuous_columns)\n",
    "print(categorical_columns)"
   ]
  },
  {
   "cell_type": "code",
   "execution_count": 264,
   "metadata": {
    "scrolled": true
   },
   "outputs": [
    {
     "name": "stdout",
     "output_type": "stream",
     "text": [
      "False\n",
      "False\n",
      "False\n",
      "False\n"
     ]
    }
   ],
   "source": [
    "for i in range(0, len(continuous_columns)):\n",
    "  df_temp = df_views_songs[continuous_columns[i]]\n",
    "  sorted(df_temp)\n",
    "  q1, q3= np.percentile(df_temp,[10,95])\n",
    "  iqr = q3 - q1\n",
    "  lower_bound = q1 -(1.5 * iqr) \n",
    "  upper_bound = q3 +(1.5 * iqr) \n",
    "  true_index = df_temp.loc[(df_temp < lower_bound) & \\\n",
    "            (df_temp > upper_bound)].any()\n",
    "\n",
    "  print(true_index)"
   ]
  },
  {
   "cell_type": "markdown",
   "metadata": {},
   "source": [
    "**Observations:** We don't have any outliers in the data."
   ]
  },
  {
   "cell_type": "markdown",
   "metadata": {},
   "source": [
    " <a id=section405></a>\n",
    "## 4.5 Pandas Profiling after Data Preprocessing"
   ]
  },
  {
   "cell_type": "code",
   "execution_count": null,
   "metadata": {},
   "outputs": [],
   "source": []
  },
  {
   "cell_type": "markdown",
   "metadata": {},
   "source": [
    " <a id=section406></a>\n",
    "## 4.6 Exploratory Data Analysis\n",
    "\n",
    "We do EDA to have little more understanding of data which might eventually help in selecting best model for prediction"
   ]
  },
  {
   "cell_type": "markdown",
   "metadata": {},
   "source": [
    "### 1. Top 10 artists with most views"
   ]
  },
  {
   "cell_type": "code",
   "execution_count": 265,
   "metadata": {
    "scrolled": true
   },
   "outputs": [
    {
     "data": {
      "text/plain": [
       "Name\n",
       "LIL UZI VERT              1.527334e+09\n",
       "XXXTENTACION              1.314233e+09\n",
       "Kodak Black               1.152849e+09\n",
       "Future                    1.141617e+09\n",
       "☆LiL PEEP☆                8.639321e+08\n",
       "$UICIDEBOY$               8.624110e+08\n",
       "octobersveryown           8.605966e+08\n",
       "A BOOGIE WIT DA HOODIE    8.372475e+08\n",
       "Trippie Redd             8.366992e+08\n",
       "Juice WRLD                6.213250e+08\n",
       "Name: Views, dtype: float64"
      ]
     },
     "execution_count": 265,
     "metadata": {},
     "output_type": "execute_result"
    }
   ],
   "source": [
    "df_views_songs.groupby('Name')['Views'].sum().sort_values(ascending=False).head(10)"
   ]
  },
  {
   "cell_type": "code",
   "execution_count": 266,
   "metadata": {},
   "outputs": [
    {
     "data": {
      "text/plain": [
       "<matplotlib.axes._subplots.AxesSubplot at 0x21e48219240>"
      ]
     },
     "execution_count": 266,
     "metadata": {},
     "output_type": "execute_result"
    },
    {
     "data": {
      "image/png": "[encoded data removed]",
      "text/plain": [
       "<Figure size 2304x504 with 1 Axes>"
      ]
     },
     "metadata": {},
     "output_type": "display_data"
    }
   ],
   "source": [
    "# plotting\n",
    "df = pd.DataFrame(\n",
    "\t{\n",
    "    'Views':df_views_songs.groupby('Name')['Views'].sum().sort_values(ascending=False).head(10)\n",
    "\t}\n",
    "\t) \n",
    "df.plot.bar(rot=0,figsize=(32, 7))"
   ]
  },
  {
   "cell_type": "markdown",
   "metadata": {},
   "source": [
    "### 2. Top 10 songs with most views"
   ]
  },
  {
   "cell_type": "code",
   "execution_count": 267,
   "metadata": {
    "scrolled": false
   },
   "outputs": [
    {
     "data": {
      "text/plain": [
       "Song_Name\n",
       "Major Lazer & DJ Snake - Lean On (feat. MØ)               199404980.0\n",
       "1.5- XO TOUR Llif3 (Produced By TM88)                     195879594.0\n",
       "Desiigner- \"Panda\" (Prod. By: Menace)                     183945499.0\n",
       "Drake ~ Back To Back Freestyle                            163417253.0\n",
       "rockstar (feat. 21 Savage)                                160900667.0\n",
       "XXXTENTACION - Look At Me! (Prod. ROJAS & Jimmy Duval)    155167050.0\n",
       "Lucid Dreams                                              142324998.0\n",
       "All Of Me                                                 131454078.0\n",
       "Gucci Gang                                                131053001.0\n",
       "Drowning (feat. Kodak Black)                              129741188.0\n",
       "Name: Views, dtype: float64"
      ]
     },
     "execution_count": 267,
     "metadata": {},
     "output_type": "execute_result"
    }
   ],
   "source": [
    "df_views_songs.groupby('Song_Name')['Views'].sum().sort_values(ascending=False).head(10)"
   ]
  },
  {
   "cell_type": "code",
   "execution_count": 268,
   "metadata": {},
   "outputs": [
    {
     "data": {
      "text/plain": [
       "<matplotlib.axes._subplots.AxesSubplot at 0x21e45a41fd0>"
      ]
     },
     "execution_count": 268,
     "metadata": {},
     "output_type": "execute_result"
    },
    {
     "data": {
      "image/png": "[encoded data removed]",
      "text/plain": [
       "<Figure size 2304x504 with 1 Axes>"
      ]
     },
     "metadata": {},
     "output_type": "display_data"
    }
   ],
   "source": [
    "df = pd.DataFrame(\n",
    "\t{\n",
    "    'Views':df_views_songs.groupby('Song_Name')['Views'].sum().sort_values(ascending=False).head(10)\n",
    "\t}\n",
    "\t) \n",
    "df.plot.bar(rot=0,figsize=(32, 7))"
   ]
  },
  {
   "cell_type": "markdown",
   "metadata": {},
   "source": [
    "### 3. Top 10 genre with most views"
   ]
  },
  {
   "cell_type": "code",
   "execution_count": 269,
   "metadata": {
    "scrolled": false
   },
   "outputs": [
    {
     "data": {
      "text/plain": [
       "Genre\n",
       "all-music     2.519053e+10\n",
       "danceedm      6.036237e+09\n",
       "rbsoul        3.297552e+09\n",
       "electronic    3.183184e+09\n",
       "trap          1.120763e+09\n",
       "latin         1.078477e+09\n",
       "pop           6.447727e+08\n",
       "rock          5.300611e+08\n",
       "ambient       3.375537e+08\n",
       "classical     3.015770e+08\n",
       "Name: Views, dtype: float64"
      ]
     },
     "execution_count": 269,
     "metadata": {},
     "output_type": "execute_result"
    }
   ],
   "source": [
    "df_views_songs.groupby('Genre')['Views'].sum().sort_values(ascending=False).head(10)"
   ]
  },
  {
   "cell_type": "code",
   "execution_count": 270,
   "metadata": {},
   "outputs": [
    {
     "data": {
      "text/plain": [
       "<matplotlib.axes._subplots.AxesSubplot at 0x21e45e9c9b0>"
      ]
     },
     "execution_count": 270,
     "metadata": {},
     "output_type": "execute_result"
    },
    {
     "data": {
      "image/png": "[encoded data removed]",
      "text/plain": [
       "<Figure size 2304x504 with 1 Axes>"
      ]
     },
     "metadata": {},
     "output_type": "display_data"
    }
   ],
   "source": [
    "df = pd.DataFrame(\n",
    "\t{\n",
    "    'Genre':df_views_songs.groupby('Genre')['Views'].sum().sort_values(ascending=False).head(10)\n",
    "\t}\n",
    "\t) \n",
    "df.plot.bar(rot=0,figsize=(32, 7))"
   ]
  },
  {
   "cell_type": "code",
   "execution_count": 271,
   "metadata": {
    "scrolled": true
   },
   "outputs": [
    {
     "data": {
      "text/plain": [
       "Index(['Comments', 'Followers', 'Genre', 'Is_Test_Data', 'Likes', 'Name',\n",
       "       'Song_Name', 'Timestamp', 'Views'],\n",
       "      dtype='object')"
      ]
     },
     "execution_count": 271,
     "metadata": {},
     "output_type": "execute_result"
    }
   ],
   "source": [
    "df_views_songs.columns"
   ]
  },
  {
   "cell_type": "markdown",
   "metadata": {
    "colab_type": "text",
    "id": "AK66Ggama2W-"
   },
   "source": [
    " <a id=section5></a>\n",
    "# 5. Data preparation for model building"
   ]
  },
  {
   "cell_type": "markdown",
   "metadata": {
    "colab_type": "text",
    "id": "cf3wx6xMa2XA"
   },
   "source": [
    " <a id=section501></a>\n",
    "## 5.1 Dummification / One-Hot Encoding of categorical variables"
   ]
  },
  {
   "cell_type": "code",
   "execution_count": 272,
   "metadata": {},
   "outputs": [
    {
     "name": "stdout",
     "output_type": "stream",
     "text": [
      "Genre  -  21\n",
      "Name  -  1219\n",
      "Song_Name  -  98072\n"
     ]
    }
   ],
   "source": [
    "# lets look at how many unique labels each category has\n",
    "for i in range(0, len(categorical_columns)):\n",
    "  print(categorical_columns[i], \" - \", df_views_songs[categorical_columns[i]].nunique())"
   ]
  },
  {
   "cell_type": "markdown",
   "metadata": {},
   "source": [
    "**Observations:**\n",
    " \n",
    "As we have lots of categories in one column,\n",
    "\n",
    "Can we apply below thesis results?\n",
    "\n",
    "http://proceedings.mlr.press/v7/niculescu09/niculescu09.pdf\n",
    "\n",
    "\n",
    "**Summary:**\n",
    "\n",
    "<img src=\"./images/one-hot-encoding.png\" height='200px' width='100%'><br/>"
   ]
  },
  {
   "cell_type": "code",
   "execution_count": 273,
   "metadata": {},
   "outputs": [
    {
     "data": {
      "text/html": [
       "<div>\n",
       "<style scoped>\n",
       "    .dataframe tbody tr th:only-of-type {\n",
       "        vertical-align: middle;\n",
       "    }\n",
       "\n",
       "    .dataframe tbody tr th {\n",
       "        vertical-align: top;\n",
       "    }\n",
       "\n",
       "    .dataframe thead th {\n",
       "        text-align: right;\n",
       "    }\n",
       "</style>\n",
       "<table border=\"1\" class=\"dataframe\">\n",
       "  <thead>\n",
       "    <tr style=\"text-align: right;\">\n",
       "      <th></th>\n",
       "      <th>Comments</th>\n",
       "      <th>Followers</th>\n",
       "      <th>Is_Test_Data</th>\n",
       "      <th>Likes</th>\n",
       "      <th>Timestamp</th>\n",
       "      <th>Views</th>\n",
       "      <th>Genre_danceedm</th>\n",
       "      <th>Genre_electronic</th>\n",
       "      <th>Genre_all-music</th>\n",
       "      <th>Genre_rbsoul</th>\n",
       "      <th>Genre_latin</th>\n",
       "      <th>Genre_trap</th>\n",
       "      <th>Genre_rock</th>\n",
       "      <th>Genre_deephouse</th>\n",
       "      <th>Genre_pop</th>\n",
       "      <th>Genre_dubstep</th>\n",
       "      <th>Name_Mixmag</th>\n",
       "      <th>Name_Monstercat</th>\n",
       "      <th>Name_GR6 EXPLODE</th>\n",
       "      <th>Name_Hardstyle</th>\n",
       "      <th>Name_Sweet Musique</th>\n",
       "      <th>Name_officialb2s</th>\n",
       "      <th>Name_trndmsk</th>\n",
       "      <th>Name_Uptempo HC Channel</th>\n",
       "      <th>Name_Resident Advisor</th>\n",
       "      <th>Name_LEGENDA FUNK</th>\n",
       "      <th>Song_Name_! ARRIBA NUEVO LEON ! [ Norteño Quick Mix ] DROPS 2018</th>\n",
       "      <th>Song_Name_TimPaa - Crazy (Original Mix)[10k Free EP]</th>\n",
       "      <th>Song_Name_CONRANK - Mad In Here [FREE DOWNLOAD]</th>\n",
       "      <th>Song_Name_Turn Me On (JP Candela Remix)</th>\n",
       "      <th>Song_Name_The Wrecking Ball Unchained</th>\n",
       "      <th>Song_Name_The Anjunadeep Edition 198 with Dosem</th>\n",
       "      <th>Song_Name_OFB x UK Drill Type Beat \"Suppressed\" [Pt II] (Prod. ZCBeats x Ghosty)</th>\n",
       "      <th>Song_Name_For Hot 97 (feat. JBan$2Turn, Byou &amp; BigBruthaChubba)</th>\n",
       "      <th>Song_Name_MOT THUA YEU NGUOI DJ PT</th>\n",
       "      <th>Song_Name_Breathe(Acoustic) - Lauv</th>\n",
       "    </tr>\n",
       "    <tr>\n",
       "      <th>Unique_ID</th>\n",
       "      <th></th>\n",
       "      <th></th>\n",
       "      <th></th>\n",
       "      <th></th>\n",
       "      <th></th>\n",
       "      <th></th>\n",
       "      <th></th>\n",
       "      <th></th>\n",
       "      <th></th>\n",
       "      <th></th>\n",
       "      <th></th>\n",
       "      <th></th>\n",
       "      <th></th>\n",
       "      <th></th>\n",
       "      <th></th>\n",
       "      <th></th>\n",
       "      <th></th>\n",
       "      <th></th>\n",
       "      <th></th>\n",
       "      <th></th>\n",
       "      <th></th>\n",
       "      <th></th>\n",
       "      <th></th>\n",
       "      <th></th>\n",
       "      <th></th>\n",
       "      <th></th>\n",
       "      <th></th>\n",
       "      <th></th>\n",
       "      <th></th>\n",
       "      <th></th>\n",
       "      <th></th>\n",
       "      <th></th>\n",
       "      <th></th>\n",
       "      <th></th>\n",
       "      <th></th>\n",
       "      <th></th>\n",
       "    </tr>\n",
       "  </thead>\n",
       "  <tbody>\n",
       "    <tr>\n",
       "      <th>413890</th>\n",
       "      <td>4</td>\n",
       "      <td>119563</td>\n",
       "      <td>0</td>\n",
       "      <td>499</td>\n",
       "      <td>2018-03-30 15:24:45</td>\n",
       "      <td>14017.0</td>\n",
       "      <td>1</td>\n",
       "      <td>0</td>\n",
       "      <td>0</td>\n",
       "      <td>0</td>\n",
       "      <td>0</td>\n",
       "      <td>0</td>\n",
       "      <td>0</td>\n",
       "      <td>0</td>\n",
       "      <td>0</td>\n",
       "      <td>0</td>\n",
       "      <td>0</td>\n",
       "      <td>0</td>\n",
       "      <td>0</td>\n",
       "      <td>1</td>\n",
       "      <td>0</td>\n",
       "      <td>0</td>\n",
       "      <td>0</td>\n",
       "      <td>0</td>\n",
       "      <td>0</td>\n",
       "      <td>0</td>\n",
       "      <td>0</td>\n",
       "      <td>0</td>\n",
       "      <td>0</td>\n",
       "      <td>0</td>\n",
       "      <td>0</td>\n",
       "      <td>0</td>\n",
       "      <td>0</td>\n",
       "      <td>0</td>\n",
       "      <td>0</td>\n",
       "      <td>0</td>\n",
       "    </tr>\n",
       "    <tr>\n",
       "      <th>249453</th>\n",
       "      <td>17</td>\n",
       "      <td>2141</td>\n",
       "      <td>0</td>\n",
       "      <td>49</td>\n",
       "      <td>2016-06-20 05:58:52</td>\n",
       "      <td>1918.0</td>\n",
       "      <td>1</td>\n",
       "      <td>0</td>\n",
       "      <td>0</td>\n",
       "      <td>0</td>\n",
       "      <td>0</td>\n",
       "      <td>0</td>\n",
       "      <td>0</td>\n",
       "      <td>0</td>\n",
       "      <td>0</td>\n",
       "      <td>0</td>\n",
       "      <td>0</td>\n",
       "      <td>0</td>\n",
       "      <td>0</td>\n",
       "      <td>0</td>\n",
       "      <td>0</td>\n",
       "      <td>0</td>\n",
       "      <td>0</td>\n",
       "      <td>0</td>\n",
       "      <td>0</td>\n",
       "      <td>0</td>\n",
       "      <td>0</td>\n",
       "      <td>0</td>\n",
       "      <td>0</td>\n",
       "      <td>0</td>\n",
       "      <td>0</td>\n",
       "      <td>0</td>\n",
       "      <td>0</td>\n",
       "      <td>0</td>\n",
       "      <td>0</td>\n",
       "      <td>0</td>\n",
       "    </tr>\n",
       "    <tr>\n",
       "      <th>681116</th>\n",
       "      <td>11</td>\n",
       "      <td>22248</td>\n",
       "      <td>0</td>\n",
       "      <td>312</td>\n",
       "      <td>2015-05-08 17:45:59</td>\n",
       "      <td>9668.0</td>\n",
       "      <td>1</td>\n",
       "      <td>0</td>\n",
       "      <td>0</td>\n",
       "      <td>0</td>\n",
       "      <td>0</td>\n",
       "      <td>0</td>\n",
       "      <td>0</td>\n",
       "      <td>0</td>\n",
       "      <td>0</td>\n",
       "      <td>0</td>\n",
       "      <td>0</td>\n",
       "      <td>0</td>\n",
       "      <td>0</td>\n",
       "      <td>0</td>\n",
       "      <td>0</td>\n",
       "      <td>0</td>\n",
       "      <td>0</td>\n",
       "      <td>0</td>\n",
       "      <td>0</td>\n",
       "      <td>0</td>\n",
       "      <td>0</td>\n",
       "      <td>0</td>\n",
       "      <td>0</td>\n",
       "      <td>0</td>\n",
       "      <td>0</td>\n",
       "      <td>0</td>\n",
       "      <td>0</td>\n",
       "      <td>0</td>\n",
       "      <td>0</td>\n",
       "      <td>0</td>\n",
       "    </tr>\n",
       "    <tr>\n",
       "      <th>387253</th>\n",
       "      <td>2</td>\n",
       "      <td>393655</td>\n",
       "      <td>0</td>\n",
       "      <td>2400</td>\n",
       "      <td>2017-06-08 23:50:03</td>\n",
       "      <td>113036.0</td>\n",
       "      <td>0</td>\n",
       "      <td>0</td>\n",
       "      <td>0</td>\n",
       "      <td>1</td>\n",
       "      <td>0</td>\n",
       "      <td>0</td>\n",
       "      <td>0</td>\n",
       "      <td>0</td>\n",
       "      <td>0</td>\n",
       "      <td>0</td>\n",
       "      <td>0</td>\n",
       "      <td>0</td>\n",
       "      <td>1</td>\n",
       "      <td>0</td>\n",
       "      <td>0</td>\n",
       "      <td>0</td>\n",
       "      <td>0</td>\n",
       "      <td>0</td>\n",
       "      <td>0</td>\n",
       "      <td>0</td>\n",
       "      <td>0</td>\n",
       "      <td>0</td>\n",
       "      <td>0</td>\n",
       "      <td>0</td>\n",
       "      <td>0</td>\n",
       "      <td>0</td>\n",
       "      <td>0</td>\n",
       "      <td>0</td>\n",
       "      <td>0</td>\n",
       "      <td>0</td>\n",
       "    </tr>\n",
       "    <tr>\n",
       "      <th>1428029</th>\n",
       "      <td>81</td>\n",
       "      <td>201030</td>\n",
       "      <td>0</td>\n",
       "      <td>3031</td>\n",
       "      <td>2016-09-17 20:50:19</td>\n",
       "      <td>110024.0</td>\n",
       "      <td>1</td>\n",
       "      <td>0</td>\n",
       "      <td>0</td>\n",
       "      <td>0</td>\n",
       "      <td>0</td>\n",
       "      <td>0</td>\n",
       "      <td>0</td>\n",
       "      <td>0</td>\n",
       "      <td>0</td>\n",
       "      <td>0</td>\n",
       "      <td>0</td>\n",
       "      <td>0</td>\n",
       "      <td>0</td>\n",
       "      <td>0</td>\n",
       "      <td>0</td>\n",
       "      <td>0</td>\n",
       "      <td>0</td>\n",
       "      <td>0</td>\n",
       "      <td>0</td>\n",
       "      <td>0</td>\n",
       "      <td>0</td>\n",
       "      <td>0</td>\n",
       "      <td>0</td>\n",
       "      <td>0</td>\n",
       "      <td>0</td>\n",
       "      <td>0</td>\n",
       "      <td>0</td>\n",
       "      <td>0</td>\n",
       "      <td>0</td>\n",
       "      <td>0</td>\n",
       "    </tr>\n",
       "  </tbody>\n",
       "</table>\n",
       "</div>"
      ],
      "text/plain": [
       "           Comments  Followers  Is_Test_Data  Likes           Timestamp  \\\n",
       "Unique_ID                                                                 \n",
       "413890     4         119563     0             499   2018-03-30 15:24:45   \n",
       "249453     17        2141       0             49    2016-06-20 05:58:52   \n",
       "681116     11        22248      0             312   2015-05-08 17:45:59   \n",
       "387253     2         393655     0             2400  2017-06-08 23:50:03   \n",
       "1428029    81        201030     0             3031  2016-09-17 20:50:19   \n",
       "\n",
       "              Views  Genre_danceedm  Genre_electronic  Genre_all-music  \\\n",
       "Unique_ID                                                                \n",
       "413890     14017.0   1               0                 0                 \n",
       "249453     1918.0    1               0                 0                 \n",
       "681116     9668.0    1               0                 0                 \n",
       "387253     113036.0  0               0                 0                 \n",
       "1428029    110024.0  1               0                 0                 \n",
       "\n",
       "           Genre_rbsoul  Genre_latin  Genre_trap  Genre_rock  Genre_deephouse  \\\n",
       "Unique_ID                                                                       \n",
       "413890     0             0            0           0           0                 \n",
       "249453     0             0            0           0           0                 \n",
       "681116     0             0            0           0           0                 \n",
       "387253     1             0            0           0           0                 \n",
       "1428029    0             0            0           0           0                 \n",
       "\n",
       "           Genre_pop  Genre_dubstep  Name_Mixmag  Name_Monstercat  \\\n",
       "Unique_ID                                                           \n",
       "413890     0          0              0            0                 \n",
       "249453     0          0              0            0                 \n",
       "681116     0          0              0            0                 \n",
       "387253     0          0              0            0                 \n",
       "1428029    0          0              0            0                 \n",
       "\n",
       "           Name_GR6 EXPLODE  Name_Hardstyle  Name_Sweet Musique  \\\n",
       "Unique_ID                                                         \n",
       "413890     0                 1               0                    \n",
       "249453     0                 0               0                    \n",
       "681116     0                 0               0                    \n",
       "387253     1                 0               0                    \n",
       "1428029    0                 0               0                    \n",
       "\n",
       "           Name_officialb2s  Name_trndmsk  Name_Uptempo HC Channel  \\\n",
       "Unique_ID                                                            \n",
       "413890     0                 0             0                         \n",
       "249453     0                 0             0                         \n",
       "681116     0                 0             0                         \n",
       "387253     0                 0             0                         \n",
       "1428029    0                 0             0                         \n",
       "\n",
       "           Name_Resident Advisor  Name_LEGENDA FUNK  \\\n",
       "Unique_ID                                             \n",
       "413890     0                      0                   \n",
       "249453     0                      0                   \n",
       "681116     0                      0                   \n",
       "387253     0                      0                   \n",
       "1428029    0                      0                   \n",
       "\n",
       "           Song_Name_! ARRIBA NUEVO LEON ! [ Norteño Quick Mix ] DROPS 2018  \\\n",
       "Unique_ID                                                                     \n",
       "413890     0                                                                  \n",
       "249453     0                                                                  \n",
       "681116     0                                                                  \n",
       "387253     0                                                                  \n",
       "1428029    0                                                                  \n",
       "\n",
       "           Song_Name_TimPaa - Crazy (Original Mix)[10k Free EP]  \\\n",
       "Unique_ID                                                         \n",
       "413890     0                                                      \n",
       "249453     0                                                      \n",
       "681116     0                                                      \n",
       "387253     0                                                      \n",
       "1428029    0                                                      \n",
       "\n",
       "           Song_Name_CONRANK - Mad In Here [FREE DOWNLOAD]  \\\n",
       "Unique_ID                                                    \n",
       "413890     0                                                 \n",
       "249453     0                                                 \n",
       "681116     0                                                 \n",
       "387253     0                                                 \n",
       "1428029    0                                                 \n",
       "\n",
       "           Song_Name_Turn Me On (JP Candela Remix)  \\\n",
       "Unique_ID                                            \n",
       "413890     0                                         \n",
       "249453     0                                         \n",
       "681116     0                                         \n",
       "387253     0                                         \n",
       "1428029    0                                         \n",
       "\n",
       "           Song_Name_The Wrecking Ball Unchained  \\\n",
       "Unique_ID                                          \n",
       "413890     0                                       \n",
       "249453     0                                       \n",
       "681116     0                                       \n",
       "387253     0                                       \n",
       "1428029    0                                       \n",
       "\n",
       "           Song_Name_The Anjunadeep Edition 198 with Dosem  \\\n",
       "Unique_ID                                                    \n",
       "413890     0                                                 \n",
       "249453     0                                                 \n",
       "681116     0                                                 \n",
       "387253     0                                                 \n",
       "1428029    0                                                 \n",
       "\n",
       "           Song_Name_OFB x UK Drill Type Beat \"Suppressed\" [Pt II] (Prod. ZCBeats x Ghosty)  \\\n",
       "Unique_ID                                                                                     \n",
       "413890     0                                                                                  \n",
       "249453     0                                                                                  \n",
       "681116     0                                                                                  \n",
       "387253     0                                                                                  \n",
       "1428029    0                                                                                  \n",
       "\n",
       "           Song_Name_For Hot 97 (feat. JBan$2Turn, Byou & BigBruthaChubba)  \\\n",
       "Unique_ID                                                                    \n",
       "413890     0                                                                 \n",
       "249453     0                                                                 \n",
       "681116     0                                                                 \n",
       "387253     0                                                                 \n",
       "1428029    0                                                                 \n",
       "\n",
       "           Song_Name_MOT THUA YEU NGUOI DJ PT  \\\n",
       "Unique_ID                                       \n",
       "413890     0                                    \n",
       "249453     0                                    \n",
       "681116     0                                    \n",
       "387253     0                                    \n",
       "1428029    0                                    \n",
       "\n",
       "           Song_Name_Breathe(Acoustic) - Lauv  \n",
       "Unique_ID                                      \n",
       "413890     0                                   \n",
       "249453     0                                   \n",
       "681116     0                                   \n",
       "387253     0                                   \n",
       "1428029    0                                   "
      ]
     },
     "execution_count": 273,
     "metadata": {},
     "output_type": "execute_result"
    }
   ],
   "source": [
    "for col in categorical_columns:\n",
    "    imp_labels = list(df_views_songs[col].value_counts().head(10).index)\n",
    "    \n",
    "    for label in imp_labels:\n",
    "        df_views_songs[col+'_'+label] = np.where(df_views_songs[col] == label, 1, 0)\n",
    "    \n",
    "    df_views_songs.drop(col, axis = 1, inplace=True)\n",
    "    \n",
    "df_views_songs.head()"
   ]
  },
  {
   "cell_type": "code",
   "execution_count": 274,
   "metadata": {},
   "outputs": [
    {
     "name": "stdout",
     "output_type": "stream",
     "text": [
      "Index(['Comments', 'Followers', 'Is_Test_Data', 'Likes', 'Timestamp', 'Views',\n",
      "       'Genre_danceedm', 'Genre_electronic', 'Genre_all-music', 'Genre_rbsoul',\n",
      "       'Genre_latin', 'Genre_trap', 'Genre_rock', 'Genre_deephouse',\n",
      "       'Genre_pop', 'Genre_dubstep', 'Name_Mixmag', 'Name_Monstercat',\n",
      "       'Name_GR6 EXPLODE', 'Name_Hardstyle', 'Name_Sweet Musique',\n",
      "       'Name_officialb2s', 'Name_trndmsk', 'Name_Uptempo HC Channel',\n",
      "       'Name_Resident Advisor', 'Name_LEGENDA FUNK',\n",
      "       'Song_Name_! ARRIBA NUEVO LEON ! [ Norteño Quick Mix ] DROPS 2018',\n",
      "       'Song_Name_TimPaa - Crazy (Original Mix)[10k Free EP]',\n",
      "       'Song_Name_CONRANK - Mad In Here [FREE DOWNLOAD]',\n",
      "       'Song_Name_Turn Me On (JP Candela Remix)',\n",
      "       'Song_Name_The Wrecking Ball Unchained',\n",
      "       'Song_Name_The Anjunadeep Edition 198 with Dosem',\n",
      "       'Song_Name_OFB x UK Drill Type Beat \"Suppressed\" [Pt II] (Prod. ZCBeats x Ghosty)',\n",
      "       'Song_Name_For Hot 97 (feat. JBan$2Turn, Byou & BigBruthaChubba)',\n",
      "       'Song_Name_MOT THUA YEU NGUOI DJ PT',\n",
      "       'Song_Name_Breathe(Acoustic) - Lauv'],\n",
      "      dtype='object')\n",
      "(98073, 36)\n"
     ]
    }
   ],
   "source": [
    "print(df_views_songs.columns)\n",
    "print(df_views_songs.shape )"
   ]
  },
  {
   "cell_type": "markdown",
   "metadata": {},
   "source": [
    "**Observations:**\n",
    "\n",
    "We have 36* columns after one-hot encoding"
   ]
  },
  {
   "cell_type": "code",
   "execution_count": 275,
   "metadata": {},
   "outputs": [
    {
     "name": "stdout",
     "output_type": "stream",
     "text": [
      "['Genre_danceedm', 'Genre_electronic', 'Genre_all-music', 'Genre_rbsoul', 'Genre_latin', 'Genre_trap', 'Genre_rock', 'Genre_deephouse', 'Genre_pop', 'Genre_dubstep', 'Name_Mixmag', 'Name_Monstercat', 'Name_GR6 EXPLODE', 'Name_Hardstyle', 'Name_Sweet Musique', 'Name_officialb2s', 'Name_trndmsk', 'Name_Uptempo HC Channel', 'Name_Resident Advisor', 'Name_LEGENDA FUNK', 'Song_Name_! ARRIBA NUEVO LEON ! [ Norteño Quick Mix ] DROPS 2018', 'Song_Name_TimPaa - Crazy (Original Mix)[10k Free EP]', 'Song_Name_CONRANK - Mad In Here [FREE DOWNLOAD]', 'Song_Name_Turn Me On (JP Candela Remix)', 'Song_Name_The Wrecking Ball Unchained', 'Song_Name_The Anjunadeep Edition 198 with Dosem', 'Song_Name_OFB x UK Drill Type Beat \"Suppressed\" [Pt II] (Prod. ZCBeats x Ghosty)', 'Song_Name_For Hot 97 (feat. JBan$2Turn, Byou & BigBruthaChubba)', 'Song_Name_MOT THUA YEU NGUOI DJ PT', 'Song_Name_Breathe(Acoustic) - Lauv']\n",
      "4\n",
      "30\n"
     ]
    }
   ],
   "source": [
    "feature_cols = list(df_views_songs.columns)\n",
    "\n",
    "for col in continuous_columns:\n",
    "    if col in feature_cols:\n",
    "        feature_cols.remove(col)\n",
    "\n",
    "feature_cols.remove('Timestamp')\n",
    "feature_cols.remove('Views')\n",
    "categorical_columns = feature_cols\n",
    "\n",
    "print(categorical_columns)\n",
    "print(len(continuous_columns))\n",
    "print(len(categorical_columns))"
   ]
  },
  {
   "cell_type": "markdown",
   "metadata": {
    "colab_type": "text",
    "id": "CG-N0SUra2XJ"
   },
   "source": [
    " <a id=section502></a>\n",
    " ## 5.2 Standardizing continuous variables"
   ]
  },
  {
   "cell_type": "code",
   "execution_count": 276,
   "metadata": {},
   "outputs": [
    {
     "data": {
      "text/plain": [
       "['Comments', 'Followers', 'Is_Test_Data', 'Likes']"
      ]
     },
     "execution_count": 276,
     "metadata": {},
     "output_type": "execute_result"
    }
   ],
   "source": [
    "continuous_columns"
   ]
  },
  {
   "cell_type": "code",
   "execution_count": 277,
   "metadata": {},
   "outputs": [],
   "source": [
    "from sklearn.preprocessing import StandardScaler\n",
    "\n",
    "continuous_columns.remove('Is_Test_Data')\n",
    "# standardizing of  data\n",
    "scaler = StandardScaler().fit(df_views_songs[continuous_columns])\n",
    "data = scaler.transform(df_views_songs[continuous_columns])"
   ]
  },
  {
   "cell_type": "code",
   "execution_count": 278,
   "metadata": {
    "colab": {
     "base_uri": "https://localhost:8080/",
     "height": 252
    },
    "colab_type": "code",
    "executionInfo": {
     "elapsed": 951,
     "status": "ok",
     "timestamp": 1575201111965,
     "user": {
      "displayName": "Raju MLN",
      "photoUrl": "https://lh3.googleusercontent.com/a-/AAuE7mDdD2F6AP4ITC-wA3nNzvUXQvvOKRA6SGtqecOz2w=s64",
      "userId": "08235794127640337009"
     },
     "user_tz": -330
    },
    "id": "ID0NAymwRM7R",
    "outputId": "e1c0bf63-7994-426f-f0b8-d0ecf4f5b98a",
    "scrolled": true
   },
   "outputs": [
    {
     "name": "stdout",
     "output_type": "stream",
     "text": [
      "(98073, 3)\n"
     ]
    },
    {
     "data": {
      "text/html": [
       "<div>\n",
       "<style scoped>\n",
       "    .dataframe tbody tr th:only-of-type {\n",
       "        vertical-align: middle;\n",
       "    }\n",
       "\n",
       "    .dataframe tbody tr th {\n",
       "        vertical-align: top;\n",
       "    }\n",
       "\n",
       "    .dataframe thead th {\n",
       "        text-align: right;\n",
       "    }\n",
       "</style>\n",
       "<table border=\"1\" class=\"dataframe\">\n",
       "  <thead>\n",
       "    <tr style=\"text-align: right;\">\n",
       "      <th></th>\n",
       "      <th>Comments</th>\n",
       "      <th>Followers</th>\n",
       "      <th>Likes</th>\n",
       "    </tr>\n",
       "  </thead>\n",
       "  <tbody>\n",
       "    <tr>\n",
       "      <th>0</th>\n",
       "      <td>-0.148051</td>\n",
       "      <td>-0.308213</td>\n",
       "      <td>-0.368040</td>\n",
       "    </tr>\n",
       "    <tr>\n",
       "      <th>1</th>\n",
       "      <td>-0.130864</td>\n",
       "      <td>-0.408712</td>\n",
       "      <td>-0.602497</td>\n",
       "    </tr>\n",
       "    <tr>\n",
       "      <th>2</th>\n",
       "      <td>-0.138797</td>\n",
       "      <td>-0.391503</td>\n",
       "      <td>-0.465470</td>\n",
       "    </tr>\n",
       "    <tr>\n",
       "      <th>3</th>\n",
       "      <td>-0.150695</td>\n",
       "      <td>-0.073622</td>\n",
       "      <td>0.622408</td>\n",
       "    </tr>\n",
       "    <tr>\n",
       "      <th>4</th>\n",
       "      <td>-0.046255</td>\n",
       "      <td>-0.238486</td>\n",
       "      <td>0.951168</td>\n",
       "    </tr>\n",
       "  </tbody>\n",
       "</table>\n",
       "</div>"
      ],
      "text/plain": [
       "   Comments  Followers     Likes\n",
       "0 -0.148051 -0.308213  -0.368040\n",
       "1 -0.130864 -0.408712  -0.602497\n",
       "2 -0.138797 -0.391503  -0.465470\n",
       "3 -0.150695 -0.073622   0.622408\n",
       "4 -0.046255 -0.238486   0.951168"
      ]
     },
     "execution_count": 278,
     "metadata": {},
     "output_type": "execute_result"
    }
   ],
   "source": [
    "# forming dataframe after standardization\n",
    "df_views_songs_sd= pd.DataFrame(data)\n",
    "df_views_songs_sd.columns = continuous_columns\n",
    "print(df_views_songs_sd.shape)\n",
    "df_views_songs_sd.head()"
   ]
  },
  {
   "cell_type": "markdown",
   "metadata": {},
   "source": [
    "#### Merging all columns together."
   ]
  },
  {
   "cell_type": "code",
   "execution_count": 279,
   "metadata": {},
   "outputs": [],
   "source": [
    "df_views_songs_sd = df_views_songs_sd.join(df_views_songs[categorical_columns])"
   ]
  },
  {
   "cell_type": "code",
   "execution_count": 280,
   "metadata": {},
   "outputs": [],
   "source": [
    "df_views_songs_sd = pd.concat([df_views_songs_sd, df_views_songs['Views'], df_views_songs['Is_Test_Data']], axis=1)"
   ]
  },
  {
   "cell_type": "code",
   "execution_count": 281,
   "metadata": {
    "scrolled": true
   },
   "outputs": [
    {
     "name": "stdout",
     "output_type": "stream",
     "text": [
      "(188908, 35)\n"
     ]
    }
   ],
   "source": [
    "print(df_views_songs_sd.shape)"
   ]
  },
  {
   "cell_type": "markdown",
   "metadata": {},
   "source": [
    " <a id=section503></a>\n",
    " ## 5.3 Segregating Train and Test data"
   ]
  },
  {
   "cell_type": "code",
   "execution_count": 282,
   "metadata": {},
   "outputs": [],
   "source": [
    "df_views_songs_train = df_views_songs_sd[df_views_songs_sd['Is_Test_Data'] == 0.0]\n",
    "df_views_songs_test = df_views_songs_sd[df_views_songs_sd['Is_Test_Data'] == 1.0]"
   ]
  },
  {
   "cell_type": "code",
   "execution_count": 283,
   "metadata": {},
   "outputs": [],
   "source": [
    "# dropping Is_Test_Data column\n",
    "df_views_songs_train.drop('Is_Test_Data', axis=1, inplace=True)\n",
    "df_views_songs_test.drop('Is_Test_Data', axis=1, inplace=True)"
   ]
  },
  {
   "cell_type": "markdown",
   "metadata": {
    "colab_type": "text",
    "id": "rHtg7_BTa2XO"
   },
   "source": [
    " <a id=section6></a>\n",
    " # 6. Ensemble Modelling and Prediction\n",
    " \n",
    " Ensemble modeling is a process where multiple diverse models are created to predict an outcome, either by using many different modeling algorithms or using different training data sets. The ensemble model then aggregates the prediction of each base model and results in once final prediction for the unseen data."
   ]
  },
  {
   "cell_type": "markdown",
   "metadata": {},
   "source": [
    " <a id=section601></a>\n",
    " ## 6.1 Linear Regression\n",
    " \n",
    " \n",
    "Linear regression is a basic and commonly used type of predictive analysis.  The overall idea of regression is to examine two things: \n",
    "\n",
    "1. Does a set of predictor variables do a good job in predicting an outcome (dependent) variable?  \n",
    "2. Which variables in particular are significant predictors of the outcome variable, and in what way do they–indicated by the magnitude and sign of the beta estimates–impact the outcome variable?  \n",
    "\n",
    "These regression estimates are used to explain the relationship between one dependent variable and one or more independent variables.  The simplest form of the regression equation with one dependent and one independent variable is defined by the formula y = c + b*x, where y = estimated dependent variable score, c = constant, b = regression coefficient, and x = score on the independent variable.\n"
   ]
  },
  {
   "cell_type": "markdown",
   "metadata": {},
   "source": [
    " <a id=section60101></a>\n",
    "### 6.1.1  Checking assumptions of Linear Regression"
   ]
  },
  {
   "cell_type": "markdown",
   "metadata": {
    "colab_type": "text",
    "id": "T-Ry-JqGxLkH"
   },
   "source": [
    "#### a. Target variable should be normally distributed\n"
   ]
  },
  {
   "cell_type": "code",
   "execution_count": 284,
   "metadata": {
    "colab": {
     "base_uri": "https://localhost:8080/",
     "height": 309
    },
    "colab_type": "code",
    "id": "y7BQ2SyKxR7X",
    "outputId": "66e2d772-fbc5-4da6-f8fc-300071299101"
   },
   "outputs": [
    {
     "data": {
      "text/plain": [
       "<matplotlib.axes._subplots.AxesSubplot at 0x21e3d4ed710>"
      ]
     },
     "execution_count": 284,
     "metadata": {},
     "output_type": "execute_result"
    },
    {
     "data": {
      "image/png": "[encoded data removed]",
      "text/plain": [
       "<Figure size 432x288 with 1 Axes>"
      ]
     },
     "metadata": {},
     "output_type": "display_data"
    }
   ],
   "source": [
    "views = df_views_songs_train['Views']\n",
    "sns.distplot(views, color=\"b\")"
   ]
  },
  {
   "cell_type": "markdown",
   "metadata": {},
   "source": [
    "**Observations**\n",
    "\n",
    "1. We observe target variable i.e; Views is not normally distributed\n",
    "2. Lets apply different transformation and check."
   ]
  },
  {
   "cell_type": "code",
   "execution_count": 238,
   "metadata": {
    "colab": {
     "base_uri": "https://localhost:8080/",
     "height": 309
    },
    "colab_type": "code",
    "id": "aes3NCgP0rJa",
    "outputId": "421c35ee-6196-4c6f-f35b-f5f05099bc00"
   },
   "outputs": [
    {
     "data": {
      "text/plain": [
       "<matplotlib.axes._subplots.AxesSubplot at 0x21e44f8b550>"
      ]
     },
     "execution_count": 238,
     "metadata": {},
     "output_type": "execute_result"
    },
    {
     "data": {
      "image/png": "[encoded data removed]",
      "text/plain": [
       "<Figure size 432x288 with 1 Axes>"
      ]
     },
     "metadata": {},
     "output_type": "display_data"
    }
   ],
   "source": [
    "views_trans=df_views_songs_train['Views'].apply(lambda x : x**(1/10))\n",
    "sns.distplot(views_trans, color=\"b\")"
   ]
  },
  {
   "cell_type": "markdown",
   "metadata": {},
   "source": [
    "**Observations:** Current transformation has made it little better. Lets check another assumption."
   ]
  },
  {
   "cell_type": "code",
   "execution_count": 240,
   "metadata": {
    "colab": {
     "base_uri": "https://localhost:8080/",
     "height": 309
    },
    "colab_type": "code",
    "id": "JV-8yPAR4Bwn",
    "outputId": "afc6beb4-a460-4e93-940b-6afa5a6b6259"
   },
   "outputs": [],
   "source": [
    "df_views_songs_train['Views'] = pd.DataFrame({'Views':views_trans})"
   ]
  },
  {
   "cell_type": "code",
   "execution_count": 242,
   "metadata": {},
   "outputs": [
    {
     "data": {
      "text/plain": [
       "0    1.774173\n",
       "1    1.635581\n",
       "2    2.329067\n",
       "3    2.099371\n",
       "4    1.641454\n",
       "Name: Views, dtype: float64"
      ]
     },
     "execution_count": 242,
     "metadata": {},
     "output_type": "execute_result"
    }
   ],
   "source": [
    "df_views_songs_train['Views'].head()"
   ]
  },
  {
   "cell_type": "markdown",
   "metadata": {
    "colab_type": "text",
    "id": "ZXI2i13b5NmP"
   },
   "source": [
    "#### b. Independant variables shouldn't be correlated"
   ]
  },
  {
   "cell_type": "markdown",
   "metadata": {
    "colab": {
     "base_uri": "https://localhost:8080/",
     "height": 34
    },
    "colab_type": "code",
    "id": "JAywvqIsw5go",
    "outputId": "9ed409e8-9118-4920-943c-1e7954d86d20"
   },
   "source": [
    "**NOTE:**\n",
    "\n",
    "Above assumption is taken care in [Remove highly correlated columns](#section403). Moving forward."
   ]
  },
  {
   "cell_type": "markdown",
   "metadata": {
    "colab_type": "text",
    "id": "lSmrkLSJ5XyV"
   },
   "source": [
    "#### c.  Independant variables and target variable should have linear relation"
   ]
  },
  {
   "cell_type": "code",
   "execution_count": 285,
   "metadata": {
    "colab": {},
    "colab_type": "code",
    "id": "r_7RUtsw5sdM"
   },
   "outputs": [
    {
     "data": {
      "text/plain": [
       "(78458, 21)"
      ]
     },
     "execution_count": 285,
     "metadata": {},
     "output_type": "execute_result"
    }
   ],
   "source": [
    "cols_to_drop = list()\n",
    "\n",
    "# iterating through feature columns and collecting all columns \n",
    "# who have less than 0.1 correlation with target variable\n",
    "for i in range(0, len(feature_cols)):\n",
    "    corr_matrix = df_views_songs_sd[['Views', feature_cols[i]]].corr().abs()\n",
    "    if(corr_matrix.iloc[0][1] < 0.1):\n",
    "        cols_to_drop.append(feature_cols[i])\n",
    "\n",
    "#dropping all uncorrelated columns\n",
    "X.drop(cols_to_drop, axis = 1, inplace=True)\n",
    "X.shape"
   ]
  },
  {
   "cell_type": "markdown",
   "metadata": {},
   "source": [
    "**NOTE:**\n",
    "\n",
    "Dropped all columns who have less than **0.1 correlation** with target variable."
   ]
  },
  {
   "cell_type": "markdown",
   "metadata": {},
   "source": [
    "##### Splitting train data in train and test data\n"
   ]
  },
  {
   "cell_type": "code",
   "execution_count": 91,
   "metadata": {},
   "outputs": [],
   "source": [
    "from sklearn.model_selection import train_test_split\n",
    "\n",
    "def split(X,y):\n",
    "    return train_test_split(X, y, test_size=0.30, random_state=1)"
   ]
  },
  {
   "cell_type": "code",
   "execution_count": 92,
   "metadata": {},
   "outputs": [
    {
     "name": "stdout",
     "output_type": "stream",
     "text": [
      "Train cases as below\n",
      "X_train shape:  (54920, 18)\n",
      "y_train shape:  (54920, 1)\n",
      "\n",
      "Test cases as below\n",
      "X_test shape:  (23538, 18)\n",
      "y_test shape:  (23538, 1)\n"
     ]
    }
   ],
   "source": [
    "X_train_lr, X_test_lr, y_train_lr, y_test_lr=split(X,y)\n",
    "print('Train cases as below')\n",
    "print('X_train shape: ',X_train_lr.shape)\n",
    "print('y_train shape: ',y_train_lr.shape)\n",
    "print('\\nTest cases as below')\n",
    "print('X_test shape: ',X_test_lr.shape)\n",
    "print('y_test shape: ',y_test_lr.shape)"
   ]
  },
  {
   "cell_type": "markdown",
   "metadata": {},
   "source": [
    "##### Defining Linear Regression function for modelling"
   ]
  },
  {
   "cell_type": "code",
   "execution_count": 93,
   "metadata": {
    "colab": {},
    "colab_type": "code",
    "id": "7kfQ9EgWqnwq"
   },
   "outputs": [],
   "source": [
    "from sklearn.linear_model import LinearRegression\n",
    "from sklearn.model_selection import GridSearchCV\n",
    "from sklearn.model_selection import RandomizedSearchCV\n",
    "\n",
    "def linear_reg(gridsearch = False):\n",
    "    linreg = LinearRegression() \n",
    "    if not(gridsearch):\n",
    "        parameters = {'normalize':[True,False], 'copy_X':[True, False]}\n",
    "        linreg = RandomizedSearchCV(linreg,parameters, cv = 10,refit = True)                                                    \n",
    "        return linreg\n",
    "    else:\n",
    "        parameters = {'normalize':[True,False], 'copy_X':[True, False]}\n",
    "        linreg = GridSearchCV(linreg,parameters, cv = 10,refit = True)                                                    \n",
    "        return linreg"
   ]
  },
  {
   "cell_type": "markdown",
   "metadata": {
    "colab_type": "text",
    "id": "19qiPg1Wo-dL"
   },
   "source": [
    " <a id=section60102></a>\n",
    "### 6.1.2 Using Default Model"
   ]
  },
  {
   "cell_type": "markdown",
   "metadata": {},
   "source": [
    " <a id=section6010201></a>\n",
    "#### 6.1.2.1 Building Model and Prediction"
   ]
  },
  {
   "cell_type": "code",
   "execution_count": 106,
   "metadata": {},
   "outputs": [
    {
     "name": "stdout",
     "output_type": "stream",
     "text": [
      "<class 'pandas.core.frame.DataFrame'>\n",
      "Int64Index: 78458 entries, 0 to 1570012\n",
      "Data columns (total 34 columns):\n",
      "Comments                                                                            5780 non-null float64\n",
      "Followers                                                                           5780 non-null float64\n",
      "Likes                                                                               5780 non-null float64\n",
      "Genre_danceedm                                                                      5780 non-null float64\n",
      "Genre_electronic                                                                    5780 non-null float64\n",
      "Genre_all-music                                                                     5780 non-null float64\n",
      "Genre_rbsoul                                                                        5780 non-null float64\n",
      "Genre_latin                                                                         5780 non-null float64\n",
      "Genre_trap                                                                          5780 non-null float64\n",
      "Genre_rock                                                                          5780 non-null float64\n",
      "Genre_deephouse                                                                     5780 non-null float64\n",
      "Genre_pop                                                                           5780 non-null float64\n",
      "Genre_dubstep                                                                       5780 non-null float64\n",
      "Name_Mixmag                                                                         5780 non-null float64\n",
      "Name_Monstercat                                                                     5780 non-null float64\n",
      "Name_GR6 EXPLODE                                                                    5780 non-null float64\n",
      "Name_Hardstyle                                                                      5780 non-null float64\n",
      "Name_Sweet Musique                                                                  5780 non-null float64\n",
      "Name_officialb2s                                                                    5780 non-null float64\n",
      "Name_trndmsk                                                                        5780 non-null float64\n",
      "Name_Uptempo HC Channel                                                             5780 non-null float64\n",
      "Name_Resident Advisor                                                               5780 non-null float64\n",
      "Name_LEGENDA FUNK                                                                   5780 non-null float64\n",
      "Song_Name_! ARRIBA NUEVO LEON ! [ Norteño Quick Mix ] DROPS 2018                    5780 non-null float64\n",
      "Song_Name_TimPaa - Crazy (Original Mix)[10k Free EP]                                5780 non-null float64\n",
      "Song_Name_CONRANK - Mad In Here [FREE DOWNLOAD]                                     5780 non-null float64\n",
      "Song_Name_Turn Me On (JP Candela Remix)                                             5780 non-null float64\n",
      "Song_Name_The Wrecking Ball Unchained                                               5780 non-null float64\n",
      "Song_Name_The Anjunadeep Edition 198 with Dosem                                     5780 non-null float64\n",
      "Song_Name_OFB x UK Drill Type Beat \"Suppressed\" [Pt II] (Prod. ZCBeats x Ghosty)    5780 non-null float64\n",
      "Song_Name_For Hot 97 (feat. JBan$2Turn, Byou & BigBruthaChubba)                     5780 non-null float64\n",
      "Song_Name_MOT THUA YEU NGUOI DJ PT                                                  5780 non-null float64\n",
      "Song_Name_Breathe(Acoustic) - Lauv                                                  5780 non-null float64\n",
      "Views                                                                               78458 non-null float64\n",
      "dtypes: float64(34)\n",
      "memory usage: 21.0 MB\n"
     ]
    }
   ],
   "source": [
    "df_views_songs_train.info()"
   ]
  },
  {
   "cell_type": "code",
   "execution_count": 107,
   "metadata": {},
   "outputs": [
    {
     "data": {
      "text/plain": [
       "Comments                                                                            0\n",
       "Followers                                                                           0\n",
       "Likes                                                                               0\n",
       "Genre_danceedm                                                                      0\n",
       "Genre_electronic                                                                    0\n",
       "Genre_all-music                                                                     0\n",
       "Genre_rbsoul                                                                        0\n",
       "Genre_latin                                                                         0\n",
       "Genre_trap                                                                          0\n",
       "Genre_rock                                                                          0\n",
       "Genre_deephouse                                                                     0\n",
       "Genre_pop                                                                           0\n",
       "Genre_dubstep                                                                       0\n",
       "Name_Mixmag                                                                         0\n",
       "Name_Monstercat                                                                     0\n",
       "Name_GR6 EXPLODE                                                                    0\n",
       "Name_Hardstyle                                                                      0\n",
       "Name_Sweet Musique                                                                  0\n",
       "Name_officialb2s                                                                    0\n",
       "Name_trndmsk                                                                        0\n",
       "Name_Uptempo HC Channel                                                             0\n",
       "Name_Resident Advisor                                                               0\n",
       "Name_LEGENDA FUNK                                                                   0\n",
       "Song_Name_! ARRIBA NUEVO LEON ! [ Norteño Quick Mix ] DROPS 2018                    0\n",
       "Song_Name_TimPaa - Crazy (Original Mix)[10k Free EP]                                0\n",
       "Song_Name_CONRANK - Mad In Here [FREE DOWNLOAD]                                     0\n",
       "Song_Name_Turn Me On (JP Candela Remix)                                             0\n",
       "Song_Name_The Wrecking Ball Unchained                                               0\n",
       "Song_Name_The Anjunadeep Edition 198 with Dosem                                     0\n",
       "Song_Name_OFB x UK Drill Type Beat \"Suppressed\" [Pt II] (Prod. ZCBeats x Ghosty)    0\n",
       "Song_Name_For Hot 97 (feat. JBan$2Turn, Byou & BigBruthaChubba)                     0\n",
       "Song_Name_MOT THUA YEU NGUOI DJ PT                                                  0\n",
       "Song_Name_Breathe(Acoustic) - Lauv                                                  0\n",
       "Views                                                                               0\n",
       "dtype: int64"
      ]
     },
     "execution_count": 107,
     "metadata": {},
     "output_type": "execute_result"
    }
   ],
   "source": [
    "df_views_songs_train[df_views_songs_train.isna()].count()"
   ]
  },
  {
   "cell_type": "code",
   "execution_count": 105,
   "metadata": {},
   "outputs": [
    {
     "data": {
      "text/html": [
       "<div>\n",
       "<style scoped>\n",
       "    .dataframe tbody tr th:only-of-type {\n",
       "        vertical-align: middle;\n",
       "    }\n",
       "\n",
       "    .dataframe tbody tr th {\n",
       "        vertical-align: top;\n",
       "    }\n",
       "\n",
       "    .dataframe thead th {\n",
       "        text-align: right;\n",
       "    }\n",
       "</style>\n",
       "<table border=\"1\" class=\"dataframe\">\n",
       "  <thead>\n",
       "    <tr style=\"text-align: right;\">\n",
       "      <th></th>\n",
       "      <th>Comments</th>\n",
       "      <th>Followers</th>\n",
       "      <th>Likes</th>\n",
       "      <th>Genre_danceedm</th>\n",
       "      <th>Genre_electronic</th>\n",
       "      <th>Genre_all-music</th>\n",
       "      <th>Genre_rbsoul</th>\n",
       "      <th>Genre_latin</th>\n",
       "      <th>Genre_trap</th>\n",
       "      <th>Genre_rock</th>\n",
       "      <th>Genre_deephouse</th>\n",
       "      <th>Genre_pop</th>\n",
       "      <th>Genre_dubstep</th>\n",
       "      <th>Name_Mixmag</th>\n",
       "      <th>Name_Monstercat</th>\n",
       "      <th>Name_GR6 EXPLODE</th>\n",
       "      <th>Name_Hardstyle</th>\n",
       "      <th>Name_Sweet Musique</th>\n",
       "      <th>Name_officialb2s</th>\n",
       "      <th>Name_trndmsk</th>\n",
       "      <th>Name_Uptempo HC Channel</th>\n",
       "      <th>Name_Resident Advisor</th>\n",
       "      <th>Name_LEGENDA FUNK</th>\n",
       "      <th>Song_Name_! ARRIBA NUEVO LEON ! [ Norteño Quick Mix ] DROPS 2018</th>\n",
       "      <th>Song_Name_TimPaa - Crazy (Original Mix)[10k Free EP]</th>\n",
       "      <th>Song_Name_CONRANK - Mad In Here [FREE DOWNLOAD]</th>\n",
       "      <th>Song_Name_Turn Me On (JP Candela Remix)</th>\n",
       "      <th>Song_Name_The Wrecking Ball Unchained</th>\n",
       "      <th>Song_Name_The Anjunadeep Edition 198 with Dosem</th>\n",
       "      <th>Song_Name_OFB x UK Drill Type Beat \"Suppressed\" [Pt II] (Prod. ZCBeats x Ghosty)</th>\n",
       "      <th>Song_Name_For Hot 97 (feat. JBan$2Turn, Byou &amp; BigBruthaChubba)</th>\n",
       "      <th>Song_Name_MOT THUA YEU NGUOI DJ PT</th>\n",
       "      <th>Song_Name_Breathe(Acoustic) - Lauv</th>\n",
       "      <th>Views</th>\n",
       "    </tr>\n",
       "  </thead>\n",
       "  <tbody>\n",
       "  </tbody>\n",
       "</table>\n",
       "</div>"
      ],
      "text/plain": [
       "Empty DataFrame\n",
       "Columns: [Comments, Followers, Likes, Genre_danceedm, Genre_electronic, Genre_all-music, Genre_rbsoul, Genre_latin, Genre_trap, Genre_rock, Genre_deephouse, Genre_pop, Genre_dubstep, Name_Mixmag, Name_Monstercat, Name_GR6 EXPLODE, Name_Hardstyle, Name_Sweet Musique, Name_officialb2s, Name_trndmsk, Name_Uptempo HC Channel, Name_Resident Advisor, Name_LEGENDA FUNK, Song_Name_! ARRIBA NUEVO LEON ! [ Norteño Quick Mix ] DROPS 2018, Song_Name_TimPaa - Crazy (Original Mix)[10k Free EP], Song_Name_CONRANK - Mad In Here [FREE DOWNLOAD], Song_Name_Turn Me On (JP Candela Remix), Song_Name_The Wrecking Ball Unchained, Song_Name_The Anjunadeep Edition 198 with Dosem, Song_Name_OFB x UK Drill Type Beat \"Suppressed\" [Pt II] (Prod. ZCBeats x Ghosty), Song_Name_For Hot 97 (feat. JBan$2Turn, Byou & BigBruthaChubba), Song_Name_MOT THUA YEU NGUOI DJ PT, Song_Name_Breathe(Acoustic) - Lauv, Views]\n",
       "Index: []"
      ]
     },
     "execution_count": 105,
     "metadata": {},
     "output_type": "execute_result"
    }
   ],
   "source": [
    "df_views_songs_train[df_views_songs_train['Views'] >= np.finfo(np.float64).max]"
   ]
  },
  {
   "cell_type": "code",
   "execution_count": 103,
   "metadata": {
    "colab": {
     "base_uri": "https://localhost:8080/",
     "height": 34
    },
    "colab_type": "code",
    "id": "m4YNqH6ky8nt",
    "outputId": "c062cb49-cebb-4055-8558-c64abdc0741a"
   },
   "outputs": [
    {
     "ename": "ValueError",
     "evalue": "Input contains NaN, infinity or a value too large for dtype('float64').",
     "output_type": "error",
     "traceback": [
      "\u001b[1;31m---------------------------------------------------------------------------\u001b[0m",
      "\u001b[1;31mValueError\u001b[0m                                Traceback (most recent call last)",
      "\u001b[1;32m<ipython-input-103-e658b776ae51>\u001b[0m in \u001b[0;36m<module>\u001b[1;34m\u001b[0m\n\u001b[0;32m      1\u001b[0m \u001b[0mlinreg\u001b[0m \u001b[1;33m=\u001b[0m \u001b[0mLinearRegression\u001b[0m\u001b[1;33m(\u001b[0m\u001b[1;33m)\u001b[0m\u001b[1;33m\u001b[0m\u001b[1;33m\u001b[0m\u001b[0m\n\u001b[1;32m----> 2\u001b[1;33m \u001b[0mlinreg\u001b[0m\u001b[1;33m.\u001b[0m\u001b[0mfit\u001b[0m\u001b[1;33m(\u001b[0m\u001b[0mX_train_lr\u001b[0m\u001b[1;33m,\u001b[0m\u001b[0my_train_lr\u001b[0m\u001b[1;33m)\u001b[0m\u001b[1;33m\u001b[0m\u001b[1;33m\u001b[0m\u001b[0m\n\u001b[0m",
      "\u001b[1;32m~\\AppData\\Local\\Continuum\\anaconda3\\lib\\site-packages\\sklearn\\linear_model\\base.py\u001b[0m in \u001b[0;36mfit\u001b[1;34m(self, X, y, sample_weight)\u001b[0m\n\u001b[0;32m    456\u001b[0m         \u001b[0mn_jobs_\u001b[0m \u001b[1;33m=\u001b[0m \u001b[0mself\u001b[0m\u001b[1;33m.\u001b[0m\u001b[0mn_jobs\u001b[0m\u001b[1;33m\u001b[0m\u001b[1;33m\u001b[0m\u001b[0m\n\u001b[0;32m    457\u001b[0m         X, y = check_X_y(X, y, accept_sparse=['csr', 'csc', 'coo'],\n\u001b[1;32m--> 458\u001b[1;33m                          y_numeric=True, multi_output=True)\n\u001b[0m\u001b[0;32m    459\u001b[0m \u001b[1;33m\u001b[0m\u001b[0m\n\u001b[0;32m    460\u001b[0m         \u001b[1;32mif\u001b[0m \u001b[0msample_weight\u001b[0m \u001b[1;32mis\u001b[0m \u001b[1;32mnot\u001b[0m \u001b[1;32mNone\u001b[0m \u001b[1;32mand\u001b[0m \u001b[0mnp\u001b[0m\u001b[1;33m.\u001b[0m\u001b[0matleast_1d\u001b[0m\u001b[1;33m(\u001b[0m\u001b[0msample_weight\u001b[0m\u001b[1;33m)\u001b[0m\u001b[1;33m.\u001b[0m\u001b[0mndim\u001b[0m \u001b[1;33m>\u001b[0m \u001b[1;36m1\u001b[0m\u001b[1;33m:\u001b[0m\u001b[1;33m\u001b[0m\u001b[1;33m\u001b[0m\u001b[0m\n",
      "\u001b[1;32m~\\AppData\\Local\\Continuum\\anaconda3\\lib\\site-packages\\sklearn\\utils\\validation.py\u001b[0m in \u001b[0;36mcheck_X_y\u001b[1;34m(X, y, accept_sparse, accept_large_sparse, dtype, order, copy, force_all_finite, ensure_2d, allow_nd, multi_output, ensure_min_samples, ensure_min_features, y_numeric, warn_on_dtype, estimator)\u001b[0m\n\u001b[0;32m    754\u001b[0m                     \u001b[0mensure_min_features\u001b[0m\u001b[1;33m=\u001b[0m\u001b[0mensure_min_features\u001b[0m\u001b[1;33m,\u001b[0m\u001b[1;33m\u001b[0m\u001b[1;33m\u001b[0m\u001b[0m\n\u001b[0;32m    755\u001b[0m                     \u001b[0mwarn_on_dtype\u001b[0m\u001b[1;33m=\u001b[0m\u001b[0mwarn_on_dtype\u001b[0m\u001b[1;33m,\u001b[0m\u001b[1;33m\u001b[0m\u001b[1;33m\u001b[0m\u001b[0m\n\u001b[1;32m--> 756\u001b[1;33m                     estimator=estimator)\n\u001b[0m\u001b[0;32m    757\u001b[0m     \u001b[1;32mif\u001b[0m \u001b[0mmulti_output\u001b[0m\u001b[1;33m:\u001b[0m\u001b[1;33m\u001b[0m\u001b[1;33m\u001b[0m\u001b[0m\n\u001b[0;32m    758\u001b[0m         y = check_array(y, 'csr', force_all_finite=True, ensure_2d=False,\n",
      "\u001b[1;32m~\\AppData\\Local\\Continuum\\anaconda3\\lib\\site-packages\\sklearn\\utils\\validation.py\u001b[0m in \u001b[0;36mcheck_array\u001b[1;34m(array, accept_sparse, accept_large_sparse, dtype, order, copy, force_all_finite, ensure_2d, allow_nd, ensure_min_samples, ensure_min_features, warn_on_dtype, estimator)\u001b[0m\n\u001b[0;32m    571\u001b[0m         \u001b[1;32mif\u001b[0m \u001b[0mforce_all_finite\u001b[0m\u001b[1;33m:\u001b[0m\u001b[1;33m\u001b[0m\u001b[1;33m\u001b[0m\u001b[0m\n\u001b[0;32m    572\u001b[0m             _assert_all_finite(array,\n\u001b[1;32m--> 573\u001b[1;33m                                allow_nan=force_all_finite == 'allow-nan')\n\u001b[0m\u001b[0;32m    574\u001b[0m \u001b[1;33m\u001b[0m\u001b[0m\n\u001b[0;32m    575\u001b[0m     \u001b[0mshape_repr\u001b[0m \u001b[1;33m=\u001b[0m \u001b[0m_shape_repr\u001b[0m\u001b[1;33m(\u001b[0m\u001b[0marray\u001b[0m\u001b[1;33m.\u001b[0m\u001b[0mshape\u001b[0m\u001b[1;33m)\u001b[0m\u001b[1;33m\u001b[0m\u001b[1;33m\u001b[0m\u001b[0m\n",
      "\u001b[1;32m~\\AppData\\Local\\Continuum\\anaconda3\\lib\\site-packages\\sklearn\\utils\\validation.py\u001b[0m in \u001b[0;36m_assert_all_finite\u001b[1;34m(X, allow_nan)\u001b[0m\n\u001b[0;32m     54\u001b[0m                 not allow_nan and not np.isfinite(X).all()):\n\u001b[0;32m     55\u001b[0m             \u001b[0mtype_err\u001b[0m \u001b[1;33m=\u001b[0m \u001b[1;34m'infinity'\u001b[0m \u001b[1;32mif\u001b[0m \u001b[0mallow_nan\u001b[0m \u001b[1;32melse\u001b[0m \u001b[1;34m'NaN, infinity'\u001b[0m\u001b[1;33m\u001b[0m\u001b[1;33m\u001b[0m\u001b[0m\n\u001b[1;32m---> 56\u001b[1;33m             \u001b[1;32mraise\u001b[0m \u001b[0mValueError\u001b[0m\u001b[1;33m(\u001b[0m\u001b[0mmsg_err\u001b[0m\u001b[1;33m.\u001b[0m\u001b[0mformat\u001b[0m\u001b[1;33m(\u001b[0m\u001b[0mtype_err\u001b[0m\u001b[1;33m,\u001b[0m \u001b[0mX\u001b[0m\u001b[1;33m.\u001b[0m\u001b[0mdtype\u001b[0m\u001b[1;33m)\u001b[0m\u001b[1;33m)\u001b[0m\u001b[1;33m\u001b[0m\u001b[1;33m\u001b[0m\u001b[0m\n\u001b[0m\u001b[0;32m     57\u001b[0m \u001b[1;33m\u001b[0m\u001b[0m\n\u001b[0;32m     58\u001b[0m \u001b[1;33m\u001b[0m\u001b[0m\n",
      "\u001b[1;31mValueError\u001b[0m: Input contains NaN, infinity or a value too large for dtype('float64')."
     ]
    }
   ],
   "source": [
    "linreg = LinearRegression()\n",
    "linreg.fit(X_train_lr,y_train_lr)"
   ]
  },
  {
   "cell_type": "markdown",
   "metadata": {
    "colab_type": "text",
    "id": "Sq3fYNwMy8QP"
   },
   "source": []
  },
  {
   "cell_type": "code",
   "execution_count": null,
   "metadata": {
    "colab": {
     "base_uri": "https://localhost:8080/",
     "height": 994
    },
    "colab_type": "code",
    "id": "kF_P_Wp5ridb",
    "outputId": "0e50ffe0-695e-41b5-8d25-ec09db2401ff"
   },
   "outputs": [],
   "source": [
    "# print the intercept and coefficients\n",
    "print('Intercept:',linreg.intercept_)\n",
    "print('Coefficients:',linreg.coef_)  "
   ]
  },
  {
   "cell_type": "code",
   "execution_count": null,
   "metadata": {
    "colab": {
     "base_uri": "https://localhost:8080/",
     "height": 51
    },
    "colab_type": "code",
    "id": "ffF_uavKrtVr",
    "outputId": "9871b1bf-573c-44f6-9c39-18a1473223f9"
   },
   "outputs": [],
   "source": [
    " # make predictions on the training set\n",
    "y_pred_train_lr = linreg.predict(X_train_lr) "
   ]
  },
  {
   "cell_type": "code",
   "execution_count": null,
   "metadata": {
    "colab": {},
    "colab_type": "code",
    "id": "cOIYHiuJr2zf"
   },
   "outputs": [],
   "source": [
    " # make predictions on the testing set\n",
    "y_pred_test_lr = linreg.predict(X_test_lr)  "
   ]
  },
  {
   "cell_type": "markdown",
   "metadata": {},
   "source": [
    " <a id=section6010202></a>\n",
    "#### 6.1.2.2 Model Evaluation"
   ]
  },
  {
   "cell_type": "markdown",
   "metadata": {},
   "source": [
    "#### a. RMSE\n"
   ]
  },
  {
   "cell_type": "code",
   "execution_count": null,
   "metadata": {},
   "outputs": [],
   "source": [
    "from sklearn import metrics\n",
    "RMSE_train = np.sqrt( metrics.mean_squared_error(y_train_lr, y_pred_train_lr))\n",
    "print('RMSE for training set is {}'.format(RMSE_train))\n",
    "\n",
    "RMSE_test = np.sqrt( metrics.mean_squared_error(y_test_lr, y_pred_test_lr))\n",
    "print('RMSE for testing set is {}'.format(RMSE_test))"
   ]
  },
  {
   "cell_type": "markdown",
   "metadata": {},
   "source": [
    "#### b. MAPE\n"
   ]
  },
  {
   "cell_type": "code",
   "execution_count": null,
   "metadata": {},
   "outputs": [],
   "source": [
    "def mean_absolute_percentage_error(y_true, y_pred): \n",
    "    y_true, y_pred = np.array(y_true), np.array(y_pred)\n",
    "    return np.mean(np.abs((y_true - y_pred) / y_true)) * 100"
   ]
  },
  {
   "cell_type": "code",
   "execution_count": null,
   "metadata": {},
   "outputs": [],
   "source": [
    "mape_train_error = mean_absolute_percentage_error(y_train_lr, y_pred_train_lr)\n",
    "mape_test_error = mean_absolute_percentage_error(y_test_lr, y_pred_test_lr)\n",
    "print('MAPE for training set is {}'.format(mape_train_error))\n",
    "print('MAPE for testing set is {}'.format(mape_test_error))"
   ]
  },
  {
   "cell_type": "markdown",
   "metadata": {},
   "source": [
    "#### c. R-Squared Error"
   ]
  },
  {
   "cell_type": "code",
   "execution_count": null,
   "metadata": {},
   "outputs": [],
   "source": [
    "from sklearn.metrics import r2_score\n",
    "\n",
    "r_squared_train_lr = r2_score(y_train_lr,y_pred_train_lr )\n",
    "print('R-Squared for training set is {}'.format(r_squared_train_lr))"
   ]
  },
  {
   "cell_type": "code",
   "execution_count": null,
   "metadata": {},
   "outputs": [],
   "source": [
    "r_squared_test_lr = r2_score(y_test_lr,y_pred_test_lr )\n",
    "print('R-Squared for testing set is {}'.format(r_squared_test_lr))"
   ]
  },
  {
   "cell_type": "markdown",
   "metadata": {},
   "source": [
    "#### d. Adjusted R-Squared Error"
   ]
  },
  {
   "cell_type": "code",
   "execution_count": null,
   "metadata": {
    "scrolled": true
   },
   "outputs": [],
   "source": [
    "adjusted_r_squared_train_lr = 1 - (1-r_squared_train_lr)*(len(y_train_lr)-1)/(len(y_train_lr)-X_train_lr.shape[1]-1)\n",
    "print('Adjusted R-Squared for training set is {}'.format(adjusted_r_squared_train_lr))"
   ]
  },
  {
   "cell_type": "code",
   "execution_count": null,
   "metadata": {},
   "outputs": [],
   "source": [
    "adjusted_r_squared_test_lr = 1 - (1-r_squared_test_lr)*(len(y_test_lr)-1)/(len(y_test_lr)-X_test_lr.shape[1]-1)\n",
    "print('Adjusted R-Squared for testing set is {}'.format(adjusted_r_squared_test_lr))"
   ]
  },
  {
   "cell_type": "markdown",
   "metadata": {},
   "source": [
    " <a id=section60103></a>\n",
    "### 6.1.3 Using GridSearchCV"
   ]
  },
  {
   "cell_type": "markdown",
   "metadata": {},
   "source": [
    " <a id=section6010301></a>\n",
    "#### 6.1.3.1 Building Model and Prediction"
   ]
  },
  {
   "cell_type": "code",
   "execution_count": null,
   "metadata": {
    "colab": {
     "base_uri": "https://localhost:8080/",
     "height": 34
    },
    "colab_type": "code",
    "id": "m4YNqH6ky8nt",
    "outputId": "c062cb49-cebb-4055-8558-c64abdc0741a"
   },
   "outputs": [],
   "source": [
    "linreg_gs = linear_reg(True)\n",
    "linreg_gs.fit(X_train_lr,y_train_lr)"
   ]
  },
  {
   "cell_type": "markdown",
   "metadata": {
    "colab_type": "text",
    "id": "Sq3fYNwMy8QP"
   },
   "source": []
  },
  {
   "cell_type": "code",
   "execution_count": null,
   "metadata": {
    "colab": {
     "base_uri": "https://localhost:8080/",
     "height": 994
    },
    "colab_type": "code",
    "id": "kF_P_Wp5ridb",
    "outputId": "0e50ffe0-695e-41b5-8d25-ec09db2401ff"
   },
   "outputs": [],
   "source": [
    "linreg_gs"
   ]
  },
  {
   "cell_type": "code",
   "execution_count": null,
   "metadata": {},
   "outputs": [],
   "source": [
    "print(\"best_params after cross-validation : \", linreg_gs.best_params_)   "
   ]
  },
  {
   "cell_type": "code",
   "execution_count": null,
   "metadata": {
    "colab": {
     "base_uri": "https://localhost:8080/",
     "height": 51
    },
    "colab_type": "code",
    "id": "ffF_uavKrtVr",
    "outputId": "9871b1bf-573c-44f6-9c39-18a1473223f9"
   },
   "outputs": [],
   "source": [
    " # make predictions on the training set\n",
    "y_pred_train_lr_gs = linreg_gs.predict(X_train_lr) "
   ]
  },
  {
   "cell_type": "code",
   "execution_count": null,
   "metadata": {
    "colab": {},
    "colab_type": "code",
    "id": "cOIYHiuJr2zf"
   },
   "outputs": [],
   "source": [
    " # make predictions on the testing set\n",
    "y_pred_test_lr_gs = linreg_gs.predict(X_test_lr)  "
   ]
  },
  {
   "cell_type": "markdown",
   "metadata": {},
   "source": [
    " <a id=section6010302></a>\n",
    "#### 6.1.3.2 Model Evaluation"
   ]
  },
  {
   "cell_type": "markdown",
   "metadata": {},
   "source": [
    "#### a. RMSE\n"
   ]
  },
  {
   "cell_type": "code",
   "execution_count": null,
   "metadata": {},
   "outputs": [],
   "source": [
    "from sklearn import metrics\n",
    "RMSE_train = np.sqrt( metrics.mean_squared_error(y_train_lr, y_pred_train_lr_gs))\n",
    "print('RMSE for training set is {}'.format(RMSE_train))\n",
    "RMSE_test = np.sqrt( metrics.mean_squared_error(y_test_lr, y_pred_test_lr_gs))\n",
    "print('RMSE for testing set is {}'.format(RMSE_test))"
   ]
  },
  {
   "cell_type": "markdown",
   "metadata": {},
   "source": [
    "#### b. MAPE\n"
   ]
  },
  {
   "cell_type": "code",
   "execution_count": null,
   "metadata": {},
   "outputs": [],
   "source": [
    "mape_train_error = mean_absolute_percentage_error(y_train_lr, y_pred_train_lr_gs)\n",
    "mape_test_error = mean_absolute_percentage_error(y_test_lr, y_pred_test_lr_gs)\n",
    "print('MAPE for training set is {}'.format(mape_train_error))\n",
    "print('MAPE for testing set is {}'.format(mape_test_error))"
   ]
  },
  {
   "cell_type": "markdown",
   "metadata": {},
   "source": [
    "#### c. R-Squared Error"
   ]
  },
  {
   "cell_type": "code",
   "execution_count": null,
   "metadata": {},
   "outputs": [],
   "source": [
    "from sklearn.metrics import r2_score\n",
    "\n",
    "r_squared_train_lr_gs = r2_score(y_train_lr,y_pred_train_lr_gs )\n",
    "print('R-Squared for training set is {}'.format(r_squared_train_lr_gs))"
   ]
  },
  {
   "cell_type": "code",
   "execution_count": null,
   "metadata": {},
   "outputs": [],
   "source": [
    "r_squared_test_lr_gs = r2_score(y_test_lr,y_pred_test_lr_gs )\n",
    "print('R-Squared for testing set is {}'.format(r_squared_test_lr_gs))"
   ]
  },
  {
   "cell_type": "markdown",
   "metadata": {},
   "source": [
    "#### d. Adjusted R-Squared Error"
   ]
  },
  {
   "cell_type": "code",
   "execution_count": null,
   "metadata": {
    "scrolled": true
   },
   "outputs": [],
   "source": [
    "adjusted_r_squared_train_lr_gs = 1 - (1-r_squared_train_lr_gs)*(len(y_train_lr)-1)/(len(y_train_lr)-X_train_lr.shape[1]-1)\n",
    "print('Adjusted R-Squared for training set is {}'.format(adjusted_r_squared_train_lr_gs))"
   ]
  },
  {
   "cell_type": "code",
   "execution_count": null,
   "metadata": {},
   "outputs": [],
   "source": [
    "adjusted_r_squared_test_lr_gs = 1 - (1-r_squared_test_lr_gs)*(len(y_test_lr)-1)/(len(y_test_lr)-X_test_lr.shape[1]-1)\n",
    "print('Adjusted R-Squared for testing set is {}'.format(adjusted_r_squared_test_lr_gs))"
   ]
  },
  {
   "cell_type": "markdown",
   "metadata": {},
   "source": [
    " <a id=section60104></a>\n",
    "### 6.1.4 Using RandomSearchCV"
   ]
  },
  {
   "cell_type": "markdown",
   "metadata": {},
   "source": [
    " <a id=section6010401></a>\n",
    "#### 6.1.4.1 Building Model and Prediction"
   ]
  },
  {
   "cell_type": "code",
   "execution_count": null,
   "metadata": {
    "colab": {
     "base_uri": "https://localhost:8080/",
     "height": 34
    },
    "colab_type": "code",
    "id": "m4YNqH6ky8nt",
    "outputId": "c062cb49-cebb-4055-8558-c64abdc0741a"
   },
   "outputs": [],
   "source": [
    "linreg_rs = linear_reg(False)\n",
    "linreg_rs.fit(X_train_lr,y_train_lr)"
   ]
  },
  {
   "cell_type": "markdown",
   "metadata": {
    "colab_type": "text",
    "id": "Sq3fYNwMy8QP"
   },
   "source": []
  },
  {
   "cell_type": "code",
   "execution_count": null,
   "metadata": {
    "colab": {
     "base_uri": "https://localhost:8080/",
     "height": 994
    },
    "colab_type": "code",
    "id": "kF_P_Wp5ridb",
    "outputId": "0e50ffe0-695e-41b5-8d25-ec09db2401ff"
   },
   "outputs": [],
   "source": [
    "linreg_rs"
   ]
  },
  {
   "cell_type": "code",
   "execution_count": null,
   "metadata": {},
   "outputs": [],
   "source": [
    "print(\"best_params after cross-validation : \", linreg_rs.best_params_)   "
   ]
  },
  {
   "cell_type": "code",
   "execution_count": null,
   "metadata": {
    "colab": {
     "base_uri": "https://localhost:8080/",
     "height": 51
    },
    "colab_type": "code",
    "id": "ffF_uavKrtVr",
    "outputId": "9871b1bf-573c-44f6-9c39-18a1473223f9"
   },
   "outputs": [],
   "source": [
    " # make predictions on the training set\n",
    "y_pred_train_lr_rs = linreg_rs.predict(X_train_lr) "
   ]
  },
  {
   "cell_type": "code",
   "execution_count": null,
   "metadata": {
    "colab": {},
    "colab_type": "code",
    "id": "cOIYHiuJr2zf"
   },
   "outputs": [],
   "source": [
    " # make predictions on the testing set\n",
    "y_pred_test_lr_rs = linreg_rs.predict(X_test_lr)  "
   ]
  },
  {
   "cell_type": "markdown",
   "metadata": {},
   "source": [
    " <a id=section6010402></a>\n",
    "#### 6.1.4.2 Model Evaluation"
   ]
  },
  {
   "cell_type": "markdown",
   "metadata": {},
   "source": [
    "#### a. RMSE\n"
   ]
  },
  {
   "cell_type": "code",
   "execution_count": null,
   "metadata": {},
   "outputs": [],
   "source": [
    "from sklearn import metrics\n",
    "RMSE_train = np.sqrt( metrics.mean_squared_error(y_train_lr, y_pred_train_lr_rs))\n",
    "print('RMSE for training set is {}'.format(RMSE_train))\n",
    "\n",
    "RMSE_test = np.sqrt( metrics.mean_squared_error(y_test_lr, y_pred_test_lr_rs))\n",
    "print('RMSE for testing set is {}'.format(RMSE_test))"
   ]
  },
  {
   "cell_type": "markdown",
   "metadata": {},
   "source": [
    "#### b. MAPE\n"
   ]
  },
  {
   "cell_type": "code",
   "execution_count": null,
   "metadata": {},
   "outputs": [],
   "source": [
    "mape_train_error = mean_absolute_percentage_error(y_train_lr, y_pred_train_lr_rs)\n",
    "mape_test_error = mean_absolute_percentage_error(y_test_lr, y_pred_test_lr_rs)\n",
    "print('MAPE for training set is {}'.format(mape_train_error))\n",
    "print('MAPE for testing set is {}'.format(mape_test_error))"
   ]
  },
  {
   "cell_type": "markdown",
   "metadata": {},
   "source": [
    "#### c. R-Squared Error"
   ]
  },
  {
   "cell_type": "code",
   "execution_count": null,
   "metadata": {},
   "outputs": [],
   "source": [
    "from sklearn.metrics import r2_score\n",
    "\n",
    "r_squared_train_lr_rs = r2_score(y_train_lr,y_pred_train_lr_rs )\n",
    "print('R-Squared for training set is {}'.format(r_squared_train_lr_rs))"
   ]
  },
  {
   "cell_type": "code",
   "execution_count": null,
   "metadata": {},
   "outputs": [],
   "source": [
    "r_squared_test_lr_rs = r2_score(y_test_lr,y_pred_test_lr_rs )\n",
    "print('R-Squared for testing set is {}'.format(r_squared_test_lr_rs))"
   ]
  },
  {
   "cell_type": "markdown",
   "metadata": {},
   "source": [
    "#### d. Adjusted R-Squared Error"
   ]
  },
  {
   "cell_type": "code",
   "execution_count": null,
   "metadata": {
    "scrolled": true
   },
   "outputs": [],
   "source": [
    "adjusted_r_squared_train_lr_rs = 1 - (1-r_squared_train_lr_rs)*(len(y_train_lr)-1)/(len(y_train_lr)-X_train_lr.shape[1]-1)\n",
    "print('Adjusted R-Squared for training set is {}'.format(adjusted_r_squared_train_lr_rs))"
   ]
  },
  {
   "cell_type": "code",
   "execution_count": null,
   "metadata": {},
   "outputs": [],
   "source": [
    "#adjusted_r_squared_test_lr_rs = 1 - (1-r_squared_test_lr_rs)*(len(y_test_lr)-1)/(len(y_test_lr)-X_test_lr.shape[1]-1)\n",
    "#print('Adjusted R-Squared for testing set is {}'.format(adjusted_r_squared_test_lr_rs))"
   ]
  },
  {
   "cell_type": "code",
   "execution_count": null,
   "metadata": {
    "scrolled": true
   },
   "outputs": [],
   "source": [
    "print(df_views_songs_train.shape)\n",
    "print(df_views_songs_test.shape)"
   ]
  }
 ],
 "metadata": {
  "kernelspec": {
   "display_name": "Python 3",
   "language": "python",
   "name": "python3"
  },
  "language_info": {
   "codemirror_mode": {
    "name": "ipython",
    "version": 3
   },
   "file_extension": ".py",
   "mimetype": "text/x-python",
   "name": "python",
   "nbconvert_exporter": "python",
   "pygments_lexer": "ipython3",
   "version": "3.7.3"
  }
 },
 "nbformat": 4,
 "nbformat_minor": 2
}
