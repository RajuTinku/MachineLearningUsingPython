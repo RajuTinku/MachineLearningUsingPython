{
 "cells": [
  {
   "cell_type": "markdown",
   "metadata": {
    "colab_type": "text",
    "id": "sAN3u_oDuBm5"
   },
   "source": [
    "# Chart Busters Participants Prediction\n",
    "\n",
    "Hackathon link : https://www.machinehack.com/course/chartbusters-prediction-foretell-the-popularity-of-songs/\n",
    "\n",
    "<img src=\"./images/Music.jpg\" height='400px' width='100%'><br/>\n",
    "\n",
    "\n",
    "\n"
   ]
  },
  {
   "cell_type": "markdown",
   "metadata": {
    "colab_type": "text",
    "id": "LG7BLwfnuBm8"
   },
   "source": [
    "## Table of Contents\n",
    "\n",
    "1. [Problem Statement](#section1)<br>\n",
    "2. [Importing Packages](#section2)<br>\n",
    "3. [Loading Data](#section3)<br>\n",
    "  - 3.1 [Description of the Datasets](#section301)<br>\n",
    "  - 3.2 [Pandas Profiling before Data Preprocessing](#section302)<br>\n",
    "4. [Data Preprocessing](#section4)<br>\n",
    "  - 4.1 [Filling missing values](#section401)<br>\n",
    "  - 4.2 [Remove highly correlated columns](#section402)<br>\n",
    "  - 4.3 [Handling Outliers](#section403)<br>\n",
    "  - 4.4 [Pandas Profiling after Data Preprocessing](#section404)<br>\n",
    "  - 4.5 [Exploratory Data Analysis](#section405)<br>\n",
    "5. [Data preparation for model building](#section5)<br>\n",
    "  - 5.1 [Dummification / One-Hot Encoding](#section501)<br>\n",
    "  - 5.2 [Standardizing continuos independent variables](#section502)<br>\n",
    "  - 5.3 [Segregating Train and Test data](#section503)<br>\n",
    "6. [Ensemble Modelling and Prediction](#section6)<br>  \n",
    "  - 6.1 [Linear Regression](#section601)\n",
    "      - 6.1.1 [Checking assumptions of Linear Regression](#section60101)\n",
    "      - 6.1.2 [Using Default Model](#section60102)\n",
    "          - 6.1.2.1 [Building Model and Predictionl](#section6010201)\n",
    "          - 6.1.2.2 [Model Evaluation](#section6010202)\n",
    "      - 6.1.3 [Using GridSearchCV](#section60103)\n",
    "          - 6.1.2.1 [Building Model and Predictionl](#section6010301)\n",
    "          - 6.1.2.2 [Model Evaluation](#section6010301)\n",
    "       - 6.1.4 [Using RandomSearchCV](#section60104)\n",
    "          - 6.1.2.1 [Building Model and Predictionl](#section6010401)\n",
    "          - 6.1.2.2 [Model Evaluation](#section6010401)\n",
    "  - 6.2 [Decision Tree](#section602)\n",
    "      - 6.2.1 [Using Default Model](#section60201)\n",
    "          - 6.2.1.1 [Building Model and Predictionl](#section6020101)\n",
    "          - 6.2.1.2 [Model Evaluation](#section6020102)\n",
    "      - 6.2.2 [Using GridSearchCV](#section60202)\n",
    "          - 6.2.2.1 [Building Model and Predictionl](#section6020201)\n",
    "          - 6.2.2.2 [Model Evaluation](#section6020202)\n",
    "      - 6.2.3 [Using RandomSearchCV](#section60203)\n",
    "          - 6.2.3.1 [Building Model and Predictionl](#section6020301)\n",
    "          - 6.2.3.2 [Model Evaluation](#section6020302)\n",
    "  - 6.3 [Random Forest](#section603)\n",
    "      - 6.3.1 [Using Default Model](#section60301)\n",
    "          - 6.3.1.1 [Building Model and Predictionl](#section6030101)\n",
    "          - 6.1.2.2 [Model Evaluation](#section6030102)\n",
    "      - 6.3.2 [Using GridSearchCV](#section60302)\n",
    "          - 6.3.2.1 [Building Model and Predictionl](#section6030201)\n",
    "          - 6.3.2.2 [Model Evaluation](#section6030202)\n",
    "      - 6.3.3 [Using RandomSearchCV](#section60303)\n",
    "          - 6.3.3.1 [Building Model and Predictionl](#section6030301)\n",
    "          - 6.3.3.2 [Model Evaluation](#section6030302)\n",
    "7.  [Conclusion](#section7)<br>\n",
    "    - 7.1 [Choosing Best Model for Prediction](#section701)\n",
    "    - 7.2 [Final Prediction](#section702)"
   ]
  },
  {
   "cell_type": "markdown",
   "metadata": {
    "colab_type": "text",
    "id": "XVvbAcEYuBm9"
   },
   "source": [
    "<a id=section1></a>\n",
    "# 1. Problem Statement\n",
    "\n",
    "\n",
    "<img src=\"./images/ChartbustersPrediction.jpg\" height='400px' width='100%'><br/>"
   ]
  },
  {
   "cell_type": "markdown",
   "metadata": {
    "colab_type": "text",
    "id": "yKqk3jdFuBm-"
   },
   "source": [
    "One of our customers strongly believes in technology and has recently backed up its platform using Machine Learning and Artificial Intelligence. Based on data collected from multiple sources on different songs and various artist attributes our customer is excited to challenge the MachineHack community.\n",
    "\n",
    "By analyzing the chartbusters data to predict the Views of songs, MachineHackers would advance the state of the current platform. This can help our customer understand user behaviour and personalize the user experience. \n",
    "In this hackathon, we challenge the MachineHackers to come up with a prediction algorithm that can predict the views for a given song.\n",
    "\n",
    "Can you predict how popular a song will be in the future?"
   ]
  },
  {
   "cell_type": "markdown",
   "metadata": {
    "colab_type": "text",
    "id": "uSNOiIKWuBm_"
   },
   "source": [
    "<a id=section2></a>\n",
    "# 2. Importing Packages"
   ]
  },
  {
   "cell_type": "code",
   "execution_count": 2,
   "metadata": {
    "colab": {},
    "colab_type": "code",
    "id": "D260ESLXuBnA"
   },
   "outputs": [],
   "source": [
    "import numpy as np                     \n",
    "\n",
    "import pandas as pd\n",
    "\n",
    "# To suppress pandas warnings.\n",
    "pd.set_option('mode.chained_assignment', None) \n",
    "\n",
    "# To display all the data in each column\n",
    "pd.set_option('display.max_colwidth', -1)         \n",
    "\n",
    "pd.get_option(\"display.max_rows\",10000)\n",
    "\n",
    "# To display every column of the dataset in head()\n",
    "pd.options.display.max_columns = 100               \n",
    "\n",
    "import warnings\n",
    "warnings.filterwarnings('ignore')     "
   ]
  },
  {
   "cell_type": "code",
   "execution_count": 3,
   "metadata": {
    "colab": {},
    "colab_type": "code",
    "id": "UGuvARRluBnE"
   },
   "outputs": [],
   "source": [
    "import matplotlib.pyplot as plt\n",
    "%matplotlib inline\n",
    "\n",
    "# To apply seaborn styles to the plots.\n",
    "import seaborn as sns\n",
    "sns.set(style='whitegrid', font_scale=1.3, color_codes=True)      "
   ]
  },
  {
   "cell_type": "markdown",
   "metadata": {
    "colab_type": "text",
    "id": "hlZMR7F_uBnH"
   },
   "source": [
    "<a id=section3></a>\n",
    "\n",
    "# 3. Loading Data"
   ]
  },
  {
   "cell_type": "code",
   "execution_count": 5,
   "metadata": {
    "colab": {
     "base_uri": "https://localhost:8080/",
     "height": 514
    },
    "colab_type": "code",
    "id": "JRDgBaAMuBnI",
    "outputId": "25bb601a-d1d8-487a-caab-a1a5ec9036f1"
   },
   "outputs": [
    {
     "data": {
      "text/html": [
       "<div>\n",
       "<style scoped>\n",
       "    .dataframe tbody tr th:only-of-type {\n",
       "        vertical-align: middle;\n",
       "    }\n",
       "\n",
       "    .dataframe tbody tr th {\n",
       "        vertical-align: top;\n",
       "    }\n",
       "\n",
       "    .dataframe thead th {\n",
       "        text-align: right;\n",
       "    }\n",
       "</style>\n",
       "<table border=\"1\" class=\"dataframe\">\n",
       "  <thead>\n",
       "    <tr style=\"text-align: right;\">\n",
       "      <th></th>\n",
       "      <th>Comments</th>\n",
       "      <th>Country</th>\n",
       "      <th>Followers</th>\n",
       "      <th>Genre</th>\n",
       "      <th>Is_Test_Data</th>\n",
       "      <th>Likes</th>\n",
       "      <th>Name</th>\n",
       "      <th>Popularity</th>\n",
       "      <th>Song_Name</th>\n",
       "      <th>Timestamp</th>\n",
       "      <th>Views</th>\n",
       "    </tr>\n",
       "    <tr>\n",
       "      <th>Unique_ID</th>\n",
       "      <th></th>\n",
       "      <th></th>\n",
       "      <th></th>\n",
       "      <th></th>\n",
       "      <th></th>\n",
       "      <th></th>\n",
       "      <th></th>\n",
       "      <th></th>\n",
       "      <th></th>\n",
       "      <th></th>\n",
       "      <th></th>\n",
       "    </tr>\n",
       "  </thead>\n",
       "  <tbody>\n",
       "    <tr>\n",
       "      <th>413890</th>\n",
       "      <td>4</td>\n",
       "      <td>AU</td>\n",
       "      <td>119563</td>\n",
       "      <td>danceedm</td>\n",
       "      <td>0</td>\n",
       "      <td>499</td>\n",
       "      <td>Hardstyle</td>\n",
       "      <td>97</td>\n",
       "      <td>N-Vitral presents BOMBSQUAD - Poison Spitter (Snakepit 2018 Anthem)</td>\n",
       "      <td>2018-03-30 15:24:45.000000</td>\n",
       "      <td>14017.0</td>\n",
       "    </tr>\n",
       "    <tr>\n",
       "      <th>249453</th>\n",
       "      <td>17</td>\n",
       "      <td>AU</td>\n",
       "      <td>2141</td>\n",
       "      <td>danceedm</td>\n",
       "      <td>0</td>\n",
       "      <td>49</td>\n",
       "      <td>Dj Aladdin</td>\n",
       "      <td>17</td>\n",
       "      <td>Dj Aladdin - Old School Hip Hop Quick Mix</td>\n",
       "      <td>2016-06-20 05:58:52.000000</td>\n",
       "      <td>1918.0</td>\n",
       "    </tr>\n",
       "    <tr>\n",
       "      <th>681116</th>\n",
       "      <td>11</td>\n",
       "      <td>AU</td>\n",
       "      <td>22248</td>\n",
       "      <td>danceedm</td>\n",
       "      <td>0</td>\n",
       "      <td>312</td>\n",
       "      <td>Maxximize On Air</td>\n",
       "      <td>91</td>\n",
       "      <td>Maxximize On Air - Mixed by Blasterjaxx - Episode #048</td>\n",
       "      <td>2015-05-08 17:45:59.000000</td>\n",
       "      <td>9668.0</td>\n",
       "    </tr>\n",
       "    <tr>\n",
       "      <th>387253</th>\n",
       "      <td>2</td>\n",
       "      <td>AU</td>\n",
       "      <td>393655</td>\n",
       "      <td>rbsoul</td>\n",
       "      <td>0</td>\n",
       "      <td>2,400</td>\n",
       "      <td>GR6 EXPLODE</td>\n",
       "      <td>76</td>\n",
       "      <td>MC Yago - Tenho Compromisso (DJ R7)</td>\n",
       "      <td>2017-06-08 23:50:03.000000</td>\n",
       "      <td>113036.0</td>\n",
       "    </tr>\n",
       "    <tr>\n",
       "      <th>1428029</th>\n",
       "      <td>81</td>\n",
       "      <td>AU</td>\n",
       "      <td>201030</td>\n",
       "      <td>danceedm</td>\n",
       "      <td>0</td>\n",
       "      <td>3,031</td>\n",
       "      <td>Tritonal</td>\n",
       "      <td>699</td>\n",
       "      <td>Escape (feat. Steph Jones)</td>\n",
       "      <td>2016-09-17 20:50:19.000000</td>\n",
       "      <td>110024.0</td>\n",
       "    </tr>\n",
       "  </tbody>\n",
       "</table>\n",
       "</div>"
      ],
      "text/plain": [
       "           Comments Country  Followers     Genre  Is_Test_Data  Likes  \\\n",
       "Unique_ID                                                               \n",
       "413890     4         AU      119563     danceedm  0             499     \n",
       "249453     17        AU      2141       danceedm  0             49      \n",
       "681116     11        AU      22248      danceedm  0             312     \n",
       "387253     2         AU      393655     rbsoul    0             2,400   \n",
       "1428029    81        AU      201030     danceedm  0             3,031   \n",
       "\n",
       "                       Name Popularity  \\\n",
       "Unique_ID                                \n",
       "413890     Hardstyle         97          \n",
       "249453     Dj Aladdin        17          \n",
       "681116     Maxximize On Air  91          \n",
       "387253     GR6 EXPLODE       76          \n",
       "1428029    Tritonal          699         \n",
       "\n",
       "                                                                     Song_Name  \\\n",
       "Unique_ID                                                                        \n",
       "413890     N-Vitral presents BOMBSQUAD - Poison Spitter (Snakepit 2018 Anthem)   \n",
       "249453     Dj Aladdin - Old School Hip Hop Quick Mix                             \n",
       "681116     Maxximize On Air - Mixed by Blasterjaxx - Episode #048                \n",
       "387253     MC Yago - Tenho Compromisso (DJ R7)                                   \n",
       "1428029    Escape (feat. Steph Jones)                                            \n",
       "\n",
       "                            Timestamp     Views  \n",
       "Unique_ID                                        \n",
       "413890     2018-03-30 15:24:45.000000  14017.0   \n",
       "249453     2016-06-20 05:58:52.000000  1918.0    \n",
       "681116     2015-05-08 17:45:59.000000  9668.0    \n",
       "387253     2017-06-08 23:50:03.000000  113036.0  \n",
       "1428029    2016-09-17 20:50:19.000000  110024.0  "
      ]
     },
     "execution_count": 5,
     "metadata": {},
     "output_type": "execute_result"
    }
   ],
   "source": [
    "# loading data from csv file to a data frame\n",
    "df_train = pd.read_csv('./data/Data_Train.csv', index_col = \"Unique_ID\")\n",
    "\n",
    "# Adding new column 'isTestData' so that we can easily separate train and test \n",
    "# data during prediction process\n",
    "df_train['Is_Test_Data'] = 0\n",
    "\n",
    "df_test = pd.read_csv('./data/Data_Test.csv', index_col = \"Unique_ID\")\n",
    "\n",
    "df_test['Is_Test_Data'] = 1\n",
    "\n",
    "# concat train and test data for data pre processing\n",
    "df_views_songs = pd.concat([df_train,df_test])\n",
    "\n",
    "df_views_songs.head()"
   ]
  },
  {
   "cell_type": "markdown",
   "metadata": {
    "colab_type": "text",
    "id": "B-MIdzP3uBnM"
   },
   "source": [
    "<a id=section301></a>\n",
    "## 3.1 Description of the Datasets"
   ]
  },
  {
   "cell_type": "markdown",
   "metadata": {
    "colab_type": "text",
    "id": "_m6FGfKbuBnN"
   },
   "source": [
    "#### a. Check shape"
   ]
  },
  {
   "cell_type": "code",
   "execution_count": null,
   "metadata": {
    "colab": {
     "base_uri": "https://localhost:8080/",
     "height": 34
    },
    "colab_type": "code",
    "id": "hHFSe47vuBnO",
    "outputId": "de74d59d-c230-4b7a-f25f-809d673bde24"
   },
   "outputs": [],
   "source": [
    "#shape of data\n",
    "df_views_songs.shape"
   ]
  },
  {
   "cell_type": "markdown",
   "metadata": {
    "colab_type": "text",
    "id": "wf_UUQ2vuBnR"
   },
   "source": [
    "#### b. info\n",
    "\n",
    "**Unique_ID** : Unique Identifier.\n",
    "\n",
    "**Name** : Name of the Artist.\n",
    "\n",
    "**Genre** : Genre of the Song.\n",
    "\n",
    "**Country** : Origin Country of Artist.\n",
    "\n",
    "**Song_Name** : Name of the Song.\n",
    "\n",
    "**Timestamp** : Release Date and Time.\n",
    "\n",
    "**Views** : Number of times the song was played/viewed (*Target/Dependent Variable*).\n",
    "\n",
    "**Comments** : Count of comments for the song.\n",
    "\n",
    "**Likes** : Count of Likes.\n",
    "\n",
    "**Popularity** : Popularity score for the artist.\n",
    "\n",
    "**Followers** : Number of Followers.\n",
    "\n",
    "\n"
   ]
  },
  {
   "cell_type": "code",
   "execution_count": null,
   "metadata": {
    "colab": {
     "base_uri": "https://localhost:8080/",
     "height": 286
    },
    "colab_type": "code",
    "id": "Pix87vQWuBnS",
    "outputId": "9305c844-2870-4440-8cf5-1886f327506f",
    "scrolled": true
   },
   "outputs": [],
   "source": [
    "df_views_songs.info()"
   ]
  },
  {
   "cell_type": "markdown",
   "metadata": {
    "colab_type": "text",
    "id": "SB6EdN8tuBnV"
   },
   "source": [
    "**Observations :**  \n",
    "We don't have any missing values"
   ]
  },
  {
   "cell_type": "markdown",
   "metadata": {
    "colab_type": "text",
    "id": "H_CCA-lquBnW"
   },
   "source": [
    "#### c. describe"
   ]
  },
  {
   "cell_type": "code",
   "execution_count": null,
   "metadata": {
    "colab": {
     "base_uri": "https://localhost:8080/"
    },
    "colab_type": "code",
    "id": "VJt2QWtauBnX",
    "outputId": "0f3a57d3-9bca-4dc1-9372-bd18bcf20814",
    "scrolled": true
   },
   "outputs": [],
   "source": [
    "df_views_songs.describe()"
   ]
  },
  {
   "cell_type": "markdown",
   "metadata": {
    "colab_type": "text",
    "id": "_KYpQsBDuBna"
   },
   "source": [
    "**Observations :** Looks like there are some outliers. Let's confirm same from pandas profiling in next step."
   ]
  },
  {
   "cell_type": "markdown",
   "metadata": {
    "colab_type": "text",
    "id": "05W5gAznuBnb"
   },
   "source": [
    " <a id=section302></a>\n",
    "## 3.2 Pandas Profiling before Data Preprocessing"
   ]
  },
  {
   "cell_type": "code",
   "execution_count": 6,
   "metadata": {
    "colab": {},
    "colab_type": "code",
    "id": "PUQu6JjQuBnc"
   },
   "outputs": [
    {
     "name": "stdout",
     "output_type": "stream",
     "text": [
      "Requirement already satisfied: folium==0.2.1 in /home/raju4789/anaconda3/lib/python3.7/site-packages (0.2.1)\n",
      "Requirement already satisfied: Jinja2 in /home/raju4789/anaconda3/lib/python3.7/site-packages (from folium==0.2.1) (2.10.1)\n",
      "Requirement already satisfied: MarkupSafe>=0.23 in /home/raju4789/anaconda3/lib/python3.7/site-packages (from Jinja2->folium==0.2.1) (1.1.1)\n",
      "Requirement already up-to-date: pandas-profiling in /home/raju4789/anaconda3/lib/python3.7/site-packages (2.4.0)\n",
      "Requirement already satisfied, skipping upgrade: missingno>=0.4.2 in /home/raju4789/anaconda3/lib/python3.7/site-packages (from pandas-profiling) (0.4.2)\n",
      "Requirement already satisfied, skipping upgrade: htmlmin>=0.1.12 in /home/raju4789/anaconda3/lib/python3.7/site-packages (from pandas-profiling) (0.1.12)\n",
      "Requirement already satisfied, skipping upgrade: pandas>=0.19 in /home/raju4789/anaconda3/lib/python3.7/site-packages (from pandas-profiling) (0.25.0)\n",
      "Requirement already satisfied, skipping upgrade: confuse>=1.0.0 in /home/raju4789/anaconda3/lib/python3.7/site-packages (from pandas-profiling) (1.0.0)\n",
      "Requirement already satisfied, skipping upgrade: matplotlib>=1.4 in /home/raju4789/anaconda3/lib/python3.7/site-packages (from pandas-profiling) (3.1.0)\n",
      "Requirement already satisfied, skipping upgrade: phik>=0.9.8 in /home/raju4789/anaconda3/lib/python3.7/site-packages (from pandas-profiling) (0.9.8)\n",
      "Requirement already satisfied, skipping upgrade: astropy in /home/raju4789/anaconda3/lib/python3.7/site-packages (from pandas-profiling) (3.2.1)\n",
      "Requirement already satisfied, skipping upgrade: jinja2>=2.8 in /home/raju4789/anaconda3/lib/python3.7/site-packages (from pandas-profiling) (2.10.1)\n",
      "Requirement already satisfied, skipping upgrade: scipy in /home/raju4789/anaconda3/lib/python3.7/site-packages (from missingno>=0.4.2->pandas-profiling) (1.3.0)\n",
      "Requirement already satisfied, skipping upgrade: seaborn in /home/raju4789/anaconda3/lib/python3.7/site-packages (from missingno>=0.4.2->pandas-profiling) (0.9.0)\n",
      "Requirement already satisfied, skipping upgrade: numpy in /home/raju4789/anaconda3/lib/python3.7/site-packages (from missingno>=0.4.2->pandas-profiling) (1.16.4)\n",
      "Requirement already satisfied, skipping upgrade: python-dateutil>=2.6.1 in /home/raju4789/anaconda3/lib/python3.7/site-packages (from pandas>=0.19->pandas-profiling) (2.8.0)\n",
      "Requirement already satisfied, skipping upgrade: pytz>=2017.2 in /home/raju4789/anaconda3/lib/python3.7/site-packages (from pandas>=0.19->pandas-profiling) (2019.1)\n",
      "Requirement already satisfied, skipping upgrade: pyyaml in /home/raju4789/anaconda3/lib/python3.7/site-packages (from confuse>=1.0.0->pandas-profiling) (5.1.1)\n",
      "Requirement already satisfied, skipping upgrade: cycler>=0.10 in /home/raju4789/anaconda3/lib/python3.7/site-packages (from matplotlib>=1.4->pandas-profiling) (0.10.0)\n",
      "Requirement already satisfied, skipping upgrade: kiwisolver>=1.0.1 in /home/raju4789/anaconda3/lib/python3.7/site-packages (from matplotlib>=1.4->pandas-profiling) (1.1.0)\n",
      "Requirement already satisfied, skipping upgrade: pyparsing!=2.0.4,!=2.1.2,!=2.1.6,>=2.0.1 in /home/raju4789/anaconda3/lib/python3.7/site-packages (from matplotlib>=1.4->pandas-profiling) (2.4.0)\n",
      "Requirement already satisfied, skipping upgrade: nbconvert>=5.3.1 in /home/raju4789/anaconda3/lib/python3.7/site-packages (from phik>=0.9.8->pandas-profiling) (5.5.0)\n",
      "Requirement already satisfied, skipping upgrade: jupyter-client>=5.2.3 in /home/raju4789/anaconda3/lib/python3.7/site-packages (from phik>=0.9.8->pandas-profiling) (5.3.1)\n",
      "Requirement already satisfied, skipping upgrade: pytest>=4.0.2 in /home/raju4789/anaconda3/lib/python3.7/site-packages (from phik>=0.9.8->pandas-profiling) (5.0.1)\n",
      "Requirement already satisfied, skipping upgrade: pytest-pylint>=0.13.0 in /home/raju4789/anaconda3/lib/python3.7/site-packages (from phik>=0.9.8->pandas-profiling) (0.14.1)\n",
      "Requirement already satisfied, skipping upgrade: numba>=0.38.1 in /home/raju4789/anaconda3/lib/python3.7/site-packages (from phik>=0.9.8->pandas-profiling) (0.44.1)\n",
      "Requirement already satisfied, skipping upgrade: MarkupSafe>=0.23 in /home/raju4789/anaconda3/lib/python3.7/site-packages (from jinja2>=2.8->pandas-profiling) (1.1.1)\n",
      "Requirement already satisfied, skipping upgrade: six>=1.5 in /home/raju4789/anaconda3/lib/python3.7/site-packages (from python-dateutil>=2.6.1->pandas>=0.19->pandas-profiling) (1.12.0)\n",
      "Requirement already satisfied, skipping upgrade: setuptools in /home/raju4789/anaconda3/lib/python3.7/site-packages (from kiwisolver>=1.0.1->matplotlib>=1.4->pandas-profiling) (41.0.1)\n",
      "Requirement already satisfied, skipping upgrade: pandocfilters>=1.4.1 in /home/raju4789/anaconda3/lib/python3.7/site-packages (from nbconvert>=5.3.1->phik>=0.9.8->pandas-profiling) (1.4.2)\n",
      "Requirement already satisfied, skipping upgrade: traitlets>=4.2 in /home/raju4789/anaconda3/lib/python3.7/site-packages (from nbconvert>=5.3.1->phik>=0.9.8->pandas-profiling) (4.3.2)\n",
      "Requirement already satisfied, skipping upgrade: pygments in /home/raju4789/anaconda3/lib/python3.7/site-packages (from nbconvert>=5.3.1->phik>=0.9.8->pandas-profiling) (2.4.2)\n",
      "Requirement already satisfied, skipping upgrade: nbformat>=4.4 in /home/raju4789/anaconda3/lib/python3.7/site-packages (from nbconvert>=5.3.1->phik>=0.9.8->pandas-profiling) (4.4.0)\n",
      "Requirement already satisfied, skipping upgrade: defusedxml in /home/raju4789/anaconda3/lib/python3.7/site-packages (from nbconvert>=5.3.1->phik>=0.9.8->pandas-profiling) (0.6.0)\n",
      "Requirement already satisfied, skipping upgrade: bleach in /home/raju4789/anaconda3/lib/python3.7/site-packages (from nbconvert>=5.3.1->phik>=0.9.8->pandas-profiling) (3.1.0)\n",
      "Requirement already satisfied, skipping upgrade: entrypoints>=0.2.2 in /home/raju4789/anaconda3/lib/python3.7/site-packages (from nbconvert>=5.3.1->phik>=0.9.8->pandas-profiling) (0.3)\n",
      "Requirement already satisfied, skipping upgrade: mistune>=0.8.1 in /home/raju4789/anaconda3/lib/python3.7/site-packages (from nbconvert>=5.3.1->phik>=0.9.8->pandas-profiling) (0.8.4)\n",
      "Requirement already satisfied, skipping upgrade: testpath in /home/raju4789/anaconda3/lib/python3.7/site-packages (from nbconvert>=5.3.1->phik>=0.9.8->pandas-profiling) (0.4.2)\n",
      "Requirement already satisfied, skipping upgrade: jupyter-core in /home/raju4789/anaconda3/lib/python3.7/site-packages (from nbconvert>=5.3.1->phik>=0.9.8->pandas-profiling) (4.5.0)\n",
      "Requirement already satisfied, skipping upgrade: pyzmq>=13 in /home/raju4789/anaconda3/lib/python3.7/site-packages (from jupyter-client>=5.2.3->phik>=0.9.8->pandas-profiling) (18.0.0)\n",
      "Requirement already satisfied, skipping upgrade: tornado>=4.1 in /home/raju4789/anaconda3/lib/python3.7/site-packages (from jupyter-client>=5.2.3->phik>=0.9.8->pandas-profiling) (6.0.3)\n",
      "Requirement already satisfied, skipping upgrade: py>=1.5.0 in /home/raju4789/anaconda3/lib/python3.7/site-packages (from pytest>=4.0.2->phik>=0.9.8->pandas-profiling) (1.8.0)\n",
      "Requirement already satisfied, skipping upgrade: packaging in /home/raju4789/anaconda3/lib/python3.7/site-packages (from pytest>=4.0.2->phik>=0.9.8->pandas-profiling) (19.0)\n",
      "Requirement already satisfied, skipping upgrade: attrs>=17.4.0 in /home/raju4789/anaconda3/lib/python3.7/site-packages (from pytest>=4.0.2->phik>=0.9.8->pandas-profiling) (19.1.0)\n",
      "Requirement already satisfied, skipping upgrade: more-itertools>=4.0.0 in /home/raju4789/anaconda3/lib/python3.7/site-packages (from pytest>=4.0.2->phik>=0.9.8->pandas-profiling) (7.2.0)\n",
      "Requirement already satisfied, skipping upgrade: atomicwrites>=1.0 in /home/raju4789/anaconda3/lib/python3.7/site-packages (from pytest>=4.0.2->phik>=0.9.8->pandas-profiling) (1.3.0)\n",
      "Requirement already satisfied, skipping upgrade: pluggy<1.0,>=0.12 in /home/raju4789/anaconda3/lib/python3.7/site-packages (from pytest>=4.0.2->phik>=0.9.8->pandas-profiling) (0.12.0)\n",
      "Requirement already satisfied, skipping upgrade: importlib-metadata>=0.12 in /home/raju4789/anaconda3/lib/python3.7/site-packages (from pytest>=4.0.2->phik>=0.9.8->pandas-profiling) (0.19)\n",
      "Requirement already satisfied, skipping upgrade: wcwidth in /home/raju4789/anaconda3/lib/python3.7/site-packages (from pytest>=4.0.2->phik>=0.9.8->pandas-profiling) (0.1.7)\n",
      "Requirement already satisfied, skipping upgrade: pylint>=1.4.5 in /home/raju4789/anaconda3/lib/python3.7/site-packages (from pytest-pylint>=0.13.0->phik>=0.9.8->pandas-profiling) (2.3.1)\n"
     ]
    },
    {
     "name": "stdout",
     "output_type": "stream",
     "text": [
      "Requirement already satisfied, skipping upgrade: llvmlite>=0.29.0 in /home/raju4789/anaconda3/lib/python3.7/site-packages (from numba>=0.38.1->phik>=0.9.8->pandas-profiling) (0.29.0)\n",
      "Requirement already satisfied, skipping upgrade: ipython-genutils in /home/raju4789/anaconda3/lib/python3.7/site-packages (from traitlets>=4.2->nbconvert>=5.3.1->phik>=0.9.8->pandas-profiling) (0.2.0)\n",
      "Requirement already satisfied, skipping upgrade: decorator in /home/raju4789/anaconda3/lib/python3.7/site-packages (from traitlets>=4.2->nbconvert>=5.3.1->phik>=0.9.8->pandas-profiling) (4.4.0)\n",
      "Requirement already satisfied, skipping upgrade: jsonschema!=2.5.0,>=2.4 in /home/raju4789/anaconda3/lib/python3.7/site-packages (from nbformat>=4.4->nbconvert>=5.3.1->phik>=0.9.8->pandas-profiling) (3.0.1)\n",
      "Requirement already satisfied, skipping upgrade: webencodings in /home/raju4789/anaconda3/lib/python3.7/site-packages (from bleach->nbconvert>=5.3.1->phik>=0.9.8->pandas-profiling) (0.5.1)\n",
      "Requirement already satisfied, skipping upgrade: zipp>=0.5 in /home/raju4789/anaconda3/lib/python3.7/site-packages (from importlib-metadata>=0.12->pytest>=4.0.2->phik>=0.9.8->pandas-profiling) (0.5.2)\n",
      "Requirement already satisfied, skipping upgrade: astroid<3,>=2.2.0 in /home/raju4789/anaconda3/lib/python3.7/site-packages (from pylint>=1.4.5->pytest-pylint>=0.13.0->phik>=0.9.8->pandas-profiling) (2.2.5)\n",
      "Requirement already satisfied, skipping upgrade: isort<5,>=4.2.5 in /home/raju4789/anaconda3/lib/python3.7/site-packages (from pylint>=1.4.5->pytest-pylint>=0.13.0->phik>=0.9.8->pandas-profiling) (4.3.21)\n",
      "Requirement already satisfied, skipping upgrade: mccabe<0.7,>=0.6 in /home/raju4789/anaconda3/lib/python3.7/site-packages (from pylint>=1.4.5->pytest-pylint>=0.13.0->phik>=0.9.8->pandas-profiling) (0.6.1)\n",
      "Requirement already satisfied, skipping upgrade: pyrsistent>=0.14.0 in /home/raju4789/anaconda3/lib/python3.7/site-packages (from jsonschema!=2.5.0,>=2.4->nbformat>=4.4->nbconvert>=5.3.1->phik>=0.9.8->pandas-profiling) (0.14.11)\n",
      "Requirement already satisfied, skipping upgrade: typed-ast>=1.3.0; implementation_name == \"cpython\" in /home/raju4789/anaconda3/lib/python3.7/site-packages (from astroid<3,>=2.2.0->pylint>=1.4.5->pytest-pylint>=0.13.0->phik>=0.9.8->pandas-profiling) (1.4.1)\n",
      "Requirement already satisfied, skipping upgrade: lazy-object-proxy in /home/raju4789/anaconda3/lib/python3.7/site-packages (from astroid<3,>=2.2.0->pylint>=1.4.5->pytest-pylint>=0.13.0->phik>=0.9.8->pandas-profiling) (1.4.1)\n",
      "Requirement already satisfied, skipping upgrade: wrapt in /home/raju4789/anaconda3/lib/python3.7/site-packages (from astroid<3,>=2.2.0->pylint>=1.4.5->pytest-pylint>=0.13.0->phik>=0.9.8->pandas-profiling) (1.11.2)\n"
     ]
    }
   ],
   "source": [
    "# To install pandas profiling please run this command.\n",
    "\n",
    "!pip install folium==0.2.1\n",
    "!pip install pandas-profiling --upgrade"
   ]
  },
  {
   "cell_type": "code",
   "execution_count": null,
   "metadata": {
    "colab": {},
    "colab_type": "code",
    "id": "tbnkE8meuBnf"
   },
   "outputs": [],
   "source": [
    " import pandas_profiling\n",
    "\n",
    "# Running pandas profiling to get better understanding of data\n",
    "df_views_songs.profile_report(title='Pandas Profiling before Data Preprocessing')"
   ]
  },
  {
   "cell_type": "markdown",
   "metadata": {
    "colab_type": "text",
    "id": "jjyJwVL_uBni"
   },
   "source": [
    " <a id=section4></a>\n",
    "# 4. Data Preprocessing"
   ]
  },
  {
   "cell_type": "markdown",
   "metadata": {
    "colab_type": "text",
    "id": "V62Q_qCQuBnj"
   },
   "source": [
    " <a id=section401></a>\n",
    "## 4.1 Fixing datatypes of columns"
   ]
  },
  {
   "cell_type": "markdown",
   "metadata": {
    "colab_type": "text",
    "id": "BBYbJb4ouBnk"
   },
   "source": [
    "#### a. Country column has only one value"
   ]
  },
  {
   "cell_type": "code",
   "execution_count": 0,
   "metadata": {
    "colab": {
     "base_uri": "https://localhost:8080/",
     "height": 50
    },
    "colab_type": "code",
    "id": "GCqmhjPsuBnl",
    "outputId": "5f29dd2b-94a1-4635-9e37-77841d78e155"
   },
   "outputs": [
    {
     "data": {
      "text/plain": [
       "AU    98073\n",
       "Name: Country, dtype: int64"
      ]
     },
     "execution_count": 297,
     "metadata": {
      "tags": []
     },
     "output_type": "execute_result"
    }
   ],
   "source": [
    "df_views_songs['Country'].value_counts()"
   ]
  },
  {
   "cell_type": "markdown",
   "metadata": {
    "colab_type": "text",
    "id": "WIkz6OFWuBno"
   },
   "source": [
    "**NOTE :** We can observe country has only one value i.e AU. Let's drop it."
   ]
  },
  {
   "cell_type": "code",
   "execution_count": 0,
   "metadata": {
    "colab": {},
    "colab_type": "code",
    "id": "DB6h7KOhuBnp",
    "scrolled": true
   },
   "outputs": [],
   "source": [
    "df_views_songs.drop('Country', axis=1, inplace=True)"
   ]
  },
  {
   "cell_type": "markdown",
   "metadata": {
    "colab_type": "text",
    "id": "i16nWCD4uBns"
   },
   "source": [
    "#### b. Change Likes column from string to integer"
   ]
  },
  {
   "cell_type": "code",
   "execution_count": 0,
   "metadata": {
    "colab": {},
    "colab_type": "code",
    "id": "EZWH6QxCuBnt"
   },
   "outputs": [],
   "source": [
    "# replacing  , M K with empty string\n",
    "df_views_songs['Likes'] = df_views_songs['Likes'].str.replace(',', '')\n",
    "df_views_songs['Likes'] = df_views_songs['Likes'].str.replace('K', '')\n",
    "df_views_songs['Likes'] = df_views_songs['Likes'].str.replace('M', '')\n",
    "\n",
    "#converting string to float and then int\n",
    "df_views_songs['Likes'] = df_views_songs['Likes'].astype('float64').astype('int64')"
   ]
  },
  {
   "cell_type": "markdown",
   "metadata": {
    "colab_type": "text",
    "id": "QY7Lvy7ruBnw"
   },
   "source": [
    "#### c. Change Popularity column from string to integer"
   ]
  },
  {
   "cell_type": "code",
   "execution_count": 0,
   "metadata": {
    "colab": {},
    "colab_type": "code",
    "id": "wQns2eiNuBnx"
   },
   "outputs": [],
   "source": [
    "#converting string to int\n",
    "df_views_songs['Popularity'] = df_views_songs['Likes'].astype('int64')"
   ]
  },
  {
   "cell_type": "markdown",
   "metadata": {
    "colab_type": "text",
    "id": "6zJMWRpKuBn0"
   },
   "source": [
    "#### d. Change Timestamp column to pandas datetime"
   ]
  },
  {
   "cell_type": "code",
   "execution_count": 0,
   "metadata": {
    "colab": {},
    "colab_type": "code",
    "id": "U0VjDhH5uBn1"
   },
   "outputs": [],
   "source": [
    "df_views_songs\n",
    "df_views_songs['Timestamp'] = pd.to_datetime(df_views_songs['Timestamp'])"
   ]
  },
  {
   "cell_type": "code",
   "execution_count": 0,
   "metadata": {
    "colab": {
     "base_uri": "https://localhost:8080/"
    },
    "colab_type": "code",
    "id": "x0sipUQkuBn3",
    "outputId": "034b9db3-1a90-473b-c834-39aa94e08508"
   },
   "outputs": [
    {
     "name": "stdout",
     "output_type": "stream",
     "text": [
      "<class 'pandas.core.frame.DataFrame'>\n",
      "Int64Index: 98073 entries, 413890 to 415046\n",
      "Data columns (total 10 columns):\n",
      "Comments        98073 non-null int64\n",
      "Followers       98073 non-null int64\n",
      "Genre           98073 non-null object\n",
      "Is_Test_Data    98073 non-null int64\n",
      "Likes           98073 non-null int64\n",
      "Name            98073 non-null object\n",
      "Popularity      98073 non-null int64\n",
      "Song_Name       98072 non-null object\n",
      "Timestamp       98073 non-null datetime64[ns]\n",
      "Views           78458 non-null float64\n",
      "dtypes: datetime64[ns](1), float64(1), int64(5), object(3)\n",
      "memory usage: 8.2+ MB\n"
     ]
    }
   ],
   "source": [
    "df_views_songs.info()"
   ]
  },
  {
   "cell_type": "markdown",
   "metadata": {
    "colab_type": "text",
    "id": "2xCbxMWDuBn8"
   },
   "source": [
    " <a id=section402></a>\n",
    "## 4.2 Filling missing values"
   ]
  },
  {
   "cell_type": "code",
   "execution_count": 0,
   "metadata": {
    "colab": {},
    "colab_type": "code",
    "id": "lC7kwAFIuBn-"
   },
   "outputs": [],
   "source": [
    "column_names = list(df_views_songs.columns)\n",
    "column_names.remove('Views')"
   ]
  },
  {
   "cell_type": "code",
   "execution_count": 0,
   "metadata": {
    "colab": {},
    "colab_type": "code",
    "id": "wIx0j3Y6uBoF"
   },
   "outputs": [],
   "source": [
    "columns_to_be_dropped = list()\n",
    "for i in range(0,len(column_names)):\n",
    "  if(df_views_songs[column_names[i]].isna().any()):\n",
    "    \n",
    "    # calculating missing percentage for each column\n",
    "    missing_count = sum(df_views_songs[column_names[i]].isna())\n",
    "    total_count = len(df_views_songs[column_names[i]])\n",
    "    missing_percent = (missing_count/total_count)*100\n",
    "  \n",
    "\n",
    "    # add column name to `columns_to_be_dropped` \n",
    "    # if missing percentage is greater than 70\n",
    "    if(missing_percent >= 70):\n",
    "      columns_to_be_dropped.append(column_names[i])\n",
    "    else:\n",
    "\n",
    "      # checking datatype of each column so that we know \n",
    "      # which value to be replaced in missing value(median/mode)\n",
    "      if(df_views_songs[column_names[i]].dtype == 'object'):\n",
    "        value_to_be_filled = df_views_songs[column_names[i]].mode()[0]\n",
    "        df_views_songs[column_names[i]].fillna(value_to_be_filled, inplace=True)\n",
    "      elif(df_views_songs[column_names[i]].dtype == 'float64' or df_views_songs[column_names[i]].dtype == 'int64'):\n",
    "         value_to_be_filled = df_views_songs[column_names[i]].median()\n",
    "         df_views_songs[column_names[i]].fillna(value_to_be_filled, inplace=True)\n",
    "\n",
    "# droping all columns who have more than 70% missing values\n",
    "df_views_songs.drop(columns_to_be_dropped, axis=1, inplace=True)"
   ]
  },
  {
   "cell_type": "code",
   "execution_count": 0,
   "metadata": {
    "colab": {
     "base_uri": "https://localhost:8080/"
    },
    "colab_type": "code",
    "id": "DtsNCZXduBoI",
    "outputId": "126b2bc7-5f94-4198-991e-89a06c27112c"
   },
   "outputs": [
    {
     "name": "stdout",
     "output_type": "stream",
     "text": [
      "<class 'pandas.core.frame.DataFrame'>\n",
      "Int64Index: 98073 entries, 413890 to 415046\n",
      "Data columns (total 10 columns):\n",
      "Comments        98073 non-null int64\n",
      "Followers       98073 non-null int64\n",
      "Genre           98073 non-null object\n",
      "Is_Test_Data    98073 non-null int64\n",
      "Likes           98073 non-null int64\n",
      "Name            98073 non-null object\n",
      "Popularity      98073 non-null int64\n",
      "Song_Name       98073 non-null object\n",
      "Timestamp       98073 non-null datetime64[ns]\n",
      "Views           78458 non-null float64\n",
      "dtypes: datetime64[ns](1), float64(1), int64(5), object(3)\n",
      "memory usage: 8.2+ MB\n"
     ]
    }
   ],
   "source": [
    "df_views_songs.info()"
   ]
  },
  {
   "cell_type": "markdown",
   "metadata": {
    "colab_type": "text",
    "id": "ERXFES6euBoK"
   },
   "source": [
    "**Observations:**\n",
    "\n",
    "We don't have any missing values. Good to go."
   ]
  },
  {
   "cell_type": "markdown",
   "metadata": {
    "colab_type": "text",
    "id": "olh_1znauBoL"
   },
   "source": [
    " <a id=section403></a>\n",
    "## 4.3 Remove highly correlated columns"
   ]
  },
  {
   "cell_type": "code",
   "execution_count": 0,
   "metadata": {
    "colab": {
     "base_uri": "https://localhost:8080/"
    },
    "colab_type": "code",
    "id": "vLmo_3EDuBoM",
    "outputId": "f5eeb1cd-3bfe-4122-a0d6-8bfcbc8e5388"
   },
   "outputs": [
    {
     "data": {
      "text/plain": [
       "['Comments',\n",
       " 'Followers',\n",
       " 'Genre',\n",
       " 'Likes',\n",
       " 'Name',\n",
       " 'Popularity',\n",
       " 'Song_Name',\n",
       " 'Timestamp']"
      ]
     },
     "execution_count": 306,
     "metadata": {
      "tags": []
     },
     "output_type": "execute_result"
    }
   ],
   "source": [
    "# extracting feature columns\n",
    "feature_cols = list(df_views_songs.columns)\n",
    "feature_cols.remove('Views')\n",
    "feature_cols.remove('Is_Test_Data')\n",
    "feature_cols"
   ]
  },
  {
   "cell_type": "code",
   "execution_count": 0,
   "metadata": {
    "colab": {
     "base_uri": "https://localhost:8080/"
    },
    "colab_type": "code",
    "id": "fdUD4psuuBoO",
    "outputId": "6e310c39-605e-4edc-ab36-1f42210b61f7"
   },
   "outputs": [
    {
     "data": {
      "text/plain": [
       "['Popularity']"
      ]
     },
     "execution_count": 307,
     "metadata": {
      "tags": []
     },
     "output_type": "execute_result"
    }
   ],
   "source": [
    "# extracting highly correlated columns(except target variable) to drop\n",
    "\n",
    "# Create correlation matrix\n",
    "corr_matrix = df_views_songs[feature_cols].corr().abs()\n",
    "\n",
    "# Select upper triangle of correlation matrix\n",
    "upper = corr_matrix.where(np.triu(np.ones(corr_matrix.shape), k=1).astype(np.bool))\n",
    "\n",
    "# Find index of feature columns with correlation greater than 0.80\n",
    "cols_to_drop = [column for column in upper.columns if any(upper[column] > 0.70)]\n",
    "cols_to_drop"
   ]
  },
  {
   "cell_type": "markdown",
   "metadata": {
    "colab_type": "text",
    "id": "3ZUafd2WuBoQ"
   },
   "source": [
    "**Observations :** We have two highly correlated independant columns. Let's drop one."
   ]
  },
  {
   "cell_type": "code",
   "execution_count": 0,
   "metadata": {
    "colab": {},
    "colab_type": "code",
    "id": "zLP6iKqtuBoR"
   },
   "outputs": [],
   "source": [
    "# lets drop Popularity\n",
    "df_views_songs.drop('Popularity', axis=1, inplace=True)"
   ]
  },
  {
   "cell_type": "markdown",
   "metadata": {
    "colab_type": "text",
    "id": "8-7mV5quuBoT"
   },
   "source": [
    " <a id=section404></a>\n",
    "## 4.4 Handling Outliers\n",
    "\n",
    "Concept of outliers is only applicable to continuous variables.\n",
    "\n",
    "NOTE:\n",
    "\n",
    "1. Remove ouliers if percentage is less than 2%\n",
    "\n",
    "2. Fill remaining outliers values with median(continuous) or mode(categorical) depending on data.\n",
    "\n"
   ]
  },
  {
   "cell_type": "code",
   "execution_count": 0,
   "metadata": {
    "colab": {
     "base_uri": "https://localhost:8080/"
    },
    "colab_type": "code",
    "id": "vMUzz5spuBoU",
    "outputId": "423d55e3-d416-4de1-cb01-5be18703bd99"
   },
   "outputs": [
    {
     "name": "stdout",
     "output_type": "stream",
     "text": [
      "['Comments', 'Followers', 'Is_Test_Data', 'Likes']\n",
      "['Genre', 'Name', 'Song_Name']\n"
     ]
    }
   ],
   "source": [
    "# storing columns with continuos datatype in 'continuos_cols' \n",
    "continuous_columns = []\n",
    "categorical_columns = []\n",
    "cols = df_views_songs.columns\n",
    "\n",
    "for i in range(0,len(cols)):\n",
    "  if(df_views_songs[cols[i]].dtype != 'object'):\n",
    "    continuous_columns.append(cols[i])\n",
    "  else:\n",
    "    categorical_columns.append(cols[i])\n",
    "\n",
    "continuous_columns.remove('Timestamp')\n",
    "continuous_columns.remove('Views')\n",
    "\n",
    "print(continuous_columns)\n",
    "print(categorical_columns)"
   ]
  },
  {
   "cell_type": "code",
   "execution_count": 0,
   "metadata": {
    "colab": {
     "base_uri": "https://localhost:8080/"
    },
    "colab_type": "code",
    "id": "ms0ZkslHuBoX",
    "outputId": "0df2c6b7-3eb6-41e8-ed4f-ca43befe3ba4",
    "scrolled": true
   },
   "outputs": [
    {
     "name": "stdout",
     "output_type": "stream",
     "text": [
      "False\n",
      "False\n",
      "False\n",
      "False\n"
     ]
    }
   ],
   "source": [
    "for i in range(0, len(continuous_columns)):\n",
    "  df_temp = df_views_songs[continuous_columns[i]]\n",
    "  sorted(df_temp)\n",
    "  q1, q3= np.percentile(df_temp,[10,90])\n",
    "  iqr = q3 - q1\n",
    "  lower_bound = q1 -(1.5 * iqr) \n",
    "  upper_bound = q3 +(1.5 * iqr) \n",
    "  true_index = df_temp.loc[(df_temp < lower_bound) & \\\n",
    "            (df_temp > upper_bound)].any()\n",
    "\n",
    "  print(true_index)"
   ]
  },
  {
   "cell_type": "markdown",
   "metadata": {
    "colab_type": "text",
    "id": "FCQIZbdXuBoZ"
   },
   "source": [
    "**Observations:** We don't have any outliers in the data."
   ]
  },
  {
   "cell_type": "markdown",
   "metadata": {
    "colab_type": "text",
    "id": "XAYqiZJXuBoa"
   },
   "source": [
    " <a id=section405></a>\n",
    "## 4.5 Pandas Profiling after Data Preprocessing"
   ]
  },
  {
   "cell_type": "code",
   "execution_count": 0,
   "metadata": {
    "colab": {},
    "colab_type": "code",
    "id": "R2XFIgZZuBoc"
   },
   "outputs": [],
   "source": [
    "# Running pandas profiling to get better understanding of data\n",
    "df_views_songs.profile_report(title='Pandas Profiling after Data Preprocessing', style={'full_width':True})"
   ]
  },
  {
   "cell_type": "markdown",
   "metadata": {
    "colab_type": "text",
    "id": "1uRVtps7uBof"
   },
   "source": [
    " <a id=section406></a>\n",
    "## 4.6 Exploratory Data Analysis\n",
    "\n",
    "We do EDA to have little more understanding of data which might eventually help in selecting best model for prediction"
   ]
  },
  {
   "cell_type": "markdown",
   "metadata": {
    "colab_type": "text",
    "id": "N1z29TdVuBog"
   },
   "source": [
    "### 1. Top 10 artists with most views"
   ]
  },
  {
   "cell_type": "code",
   "execution_count": 0,
   "metadata": {
    "colab": {
     "base_uri": "https://localhost:8080/"
    },
    "colab_type": "code",
    "id": "JgfOztwGuBog",
    "outputId": "9fac4571-fc9b-42c8-863e-b1b5864aa80b",
    "scrolled": true
   },
   "outputs": [
    {
     "data": {
      "text/plain": [
       "Name\n",
       "LIL UZI VERT              1.527334e+09\n",
       "XXXTENTACION              1.314233e+09\n",
       "Kodak Black               1.152849e+09\n",
       "Future                    1.141617e+09\n",
       "☆LiL PEEP☆                8.639321e+08\n",
       "$UICIDEBOY$               8.624110e+08\n",
       "octobersveryown           8.605966e+08\n",
       "A BOOGIE WIT DA HOODIE    8.372475e+08\n",
       "Trippie Redd             8.366992e+08\n",
       "Juice WRLD                6.213250e+08\n",
       "Name: Views, dtype: float64"
      ]
     },
     "execution_count": 312,
     "metadata": {
      "tags": []
     },
     "output_type": "execute_result"
    }
   ],
   "source": [
    "df_views_songs.groupby('Name')['Views'].sum().sort_values(ascending=False).head(10)"
   ]
  },
  {
   "cell_type": "code",
   "execution_count": 0,
   "metadata": {
    "colab": {
     "base_uri": "https://localhost:8080/"
    },
    "colab_type": "code",
    "id": "pTWnLVQHuBoj",
    "outputId": "4960f7c9-7c7f-4693-d055-5e4a2f99aa4f"
   },
   "outputs": [
    {
     "data": {
      "text/plain": [
       "<matplotlib.axes._subplots.AxesSubplot at 0x7f35b8b6f0b8>"
      ]
     },
     "execution_count": 313,
     "metadata": {
      "tags": []
     },
     "output_type": "execute_result"
    },
    {
     "data": {
      "image/png": "[encoded data removed]",
      "text/plain": [
       "<Figure size 2304x504 with 1 Axes>"
      ]
     },
     "metadata": {
      "tags": []
     },
     "output_type": "display_data"
    }
   ],
   "source": [
    "# plotting\n",
    "df = pd.DataFrame(\n",
    "\t{\n",
    "    'Views':df_views_songs.groupby('Name')['Views'].sum().sort_values(ascending=False).head(10)\n",
    "\t}\n",
    "\t) \n",
    "df.plot.bar(rot=0,figsize=(32, 7))"
   ]
  },
  {
   "cell_type": "markdown",
   "metadata": {
    "colab_type": "text",
    "id": "y7oyrCBcuBol"
   },
   "source": [
    "### 2. Top 10 songs with most views"
   ]
  },
  {
   "cell_type": "code",
   "execution_count": 0,
   "metadata": {
    "colab": {
     "base_uri": "https://localhost:8080/"
    },
    "colab_type": "code",
    "id": "3V9O3iHbuBom",
    "outputId": "9da05652-5ec1-4abf-8eb4-9350487970e8",
    "scrolled": false
   },
   "outputs": [
    {
     "data": {
      "text/plain": [
       "Song_Name\n",
       "Major Lazer & DJ Snake - Lean On (feat. MØ)               199404980.0\n",
       "1.5- XO TOUR Llif3 (Produced By TM88)                     195879594.0\n",
       "Desiigner- \"Panda\" (Prod. By: Menace)                     183945499.0\n",
       "Drake ~ Back To Back Freestyle                            163417253.0\n",
       "rockstar (feat. 21 Savage)                                160900667.0\n",
       "XXXTENTACION - Look At Me! (Prod. ROJAS & Jimmy Duval)    155167050.0\n",
       "Lucid Dreams                                              142324998.0\n",
       "All Of Me                                                 131454078.0\n",
       "Gucci Gang                                                131053001.0\n",
       "Drowning (feat. Kodak Black)                              129741188.0\n",
       "Name: Views, dtype: float64"
      ]
     },
     "execution_count": 314,
     "metadata": {
      "tags": []
     },
     "output_type": "execute_result"
    }
   ],
   "source": [
    "df_views_songs.groupby('Song_Name')['Views'].sum().sort_values(ascending=False).head(10)"
   ]
  },
  {
   "cell_type": "code",
   "execution_count": 0,
   "metadata": {
    "colab": {
     "base_uri": "https://localhost:8080/"
    },
    "colab_type": "code",
    "id": "uGx7nMmwuBoo",
    "outputId": "bd4d61eb-0b70-456b-a196-dc681f7fd10c"
   },
   "outputs": [
    {
     "data": {
      "text/plain": [
       "<matplotlib.axes._subplots.AxesSubplot at 0x7f35b94a9710>"
      ]
     },
     "execution_count": 315,
     "metadata": {
      "tags": []
     },
     "output_type": "execute_result"
    },
    {
     "data": {
      "image/png": "[encoded data removed]",
      "text/plain": [
       "<Figure size 2304x504 with 1 Axes>"
      ]
     },
     "metadata": {
      "tags": []
     },
     "output_type": "display_data"
    }
   ],
   "source": [
    "df = pd.DataFrame(\n",
    "\t{\n",
    "    'Views':df_views_songs.groupby('Song_Name')['Views'].sum().sort_values(ascending=False).head(10)\n",
    "\t}\n",
    "\t) \n",
    "df.plot.bar(rot=0,figsize=(32, 7))"
   ]
  },
  {
   "cell_type": "markdown",
   "metadata": {
    "colab_type": "text",
    "id": "9Sbaj1YGuBos"
   },
   "source": [
    "### 3. Top 10 genre with most views"
   ]
  },
  {
   "cell_type": "code",
   "execution_count": 0,
   "metadata": {
    "colab": {
     "base_uri": "https://localhost:8080/"
    },
    "colab_type": "code",
    "id": "gOKFPpqQuBot",
    "outputId": "3936a210-f3a7-4fe6-e9a1-274434765e90",
    "scrolled": false
   },
   "outputs": [
    {
     "data": {
      "text/plain": [
       "Genre\n",
       "all-music     2.519053e+10\n",
       "danceedm      6.036237e+09\n",
       "rbsoul        3.297552e+09\n",
       "electronic    3.183184e+09\n",
       "trap          1.120763e+09\n",
       "latin         1.078477e+09\n",
       "pop           6.447727e+08\n",
       "rock          5.300611e+08\n",
       "ambient       3.375537e+08\n",
       "classical     3.015770e+08\n",
       "Name: Views, dtype: float64"
      ]
     },
     "execution_count": 316,
     "metadata": {
      "tags": []
     },
     "output_type": "execute_result"
    }
   ],
   "source": [
    "df_views_songs.groupby('Genre')['Views'].sum().sort_values(ascending=False).head(10)"
   ]
  },
  {
   "cell_type": "code",
   "execution_count": 0,
   "metadata": {
    "colab": {
     "base_uri": "https://localhost:8080/"
    },
    "colab_type": "code",
    "id": "nX8uED7LuBow",
    "outputId": "4965b149-6a76-4da9-a02d-18c797eca397"
   },
   "outputs": [
    {
     "data": {
      "text/plain": [
       "<matplotlib.axes._subplots.AxesSubplot at 0x7f35b9464438>"
      ]
     },
     "execution_count": 317,
     "metadata": {
      "tags": []
     },
     "output_type": "execute_result"
    },
    {
     "data": {
      "image/png": "[encoded data removed]",
      "text/plain": [
       "<Figure size 2304x504 with 1 Axes>"
      ]
     },
     "metadata": {
      "tags": []
     },
     "output_type": "display_data"
    }
   ],
   "source": [
    "df = pd.DataFrame(\n",
    "\t{\n",
    "    'Genre':df_views_songs.groupby('Genre')['Views'].sum().sort_values(ascending=False).head(10)\n",
    "\t}\n",
    "\t) \n",
    "df.plot.bar(rot=0,figsize=(32, 7))"
   ]
  },
  {
   "cell_type": "code",
   "execution_count": 0,
   "metadata": {
    "colab": {
     "base_uri": "https://localhost:8080/"
    },
    "colab_type": "code",
    "id": "I3yE6lGOuBo1",
    "outputId": "c432e1a2-9716-4aac-c272-460f9370d7a2",
    "scrolled": true
   },
   "outputs": [
    {
     "data": {
      "text/plain": [
       "Index(['Comments', 'Followers', 'Genre', 'Is_Test_Data', 'Likes', 'Name',\n",
       "       'Song_Name', 'Timestamp', 'Views'],\n",
       "      dtype='object')"
      ]
     },
     "execution_count": 318,
     "metadata": {
      "tags": []
     },
     "output_type": "execute_result"
    }
   ],
   "source": [
    "df_views_songs.columns"
   ]
  },
  {
   "cell_type": "markdown",
   "metadata": {
    "colab_type": "text",
    "id": "AK66Ggama2W-"
   },
   "source": [
    " <a id=section5></a>\n",
    "# 5. Data preparation for model building"
   ]
  },
  {
   "cell_type": "markdown",
   "metadata": {
    "colab_type": "text",
    "id": "cf3wx6xMa2XA"
   },
   "source": [
    " <a id=section501></a>\n",
    "## 5.1 Dummification / One-Hot Encoding of categorical variables"
   ]
  },
  {
   "cell_type": "code",
   "execution_count": 0,
   "metadata": {
    "colab": {
     "base_uri": "https://localhost:8080/",
     "height": 67
    },
    "colab_type": "code",
    "id": "CO_xJ7gKuBo7",
    "outputId": "5f5a24d1-091f-4b95-f596-f7d9bba23a4e"
   },
   "outputs": [
    {
     "name": "stdout",
     "output_type": "stream",
     "text": [
      "Genre  -  21\n",
      "Name  -  1219\n",
      "Song_Name  -  98072\n"
     ]
    }
   ],
   "source": [
    "# lets look at how many unique labels each category has\n",
    "for i in range(0, len(categorical_columns)):\n",
    "  print(categorical_columns[i], \" - \", df_views_songs[categorical_columns[i]].nunique())"
   ]
  },
  {
   "cell_type": "markdown",
   "metadata": {
    "colab_type": "text",
    "id": "40O1zNwNuBo-"
   },
   "source": [
    "**Observations:**\n",
    " \n",
    "As we have lots of categories in one column,\n",
    "\n",
    "Can we apply below thesis results?\n",
    "\n",
    "http://proceedings.mlr.press/v7/niculescu09/niculescu09.pdf\n",
    "\n",
    "\n",
    "**Summary:**\n",
    "\n",
    "<img src=\"./images/one-hot-encoding.png\" height='200px' width='100%'><br/>"
   ]
  },
  {
   "cell_type": "code",
   "execution_count": 0,
   "metadata": {
    "colab": {
     "base_uri": "https://localhost:8080/",
     "height": 413
    },
    "colab_type": "code",
    "id": "U7udISnNuBpB",
    "outputId": "59eec0fb-56bc-4746-9080-d95c704709ab"
   },
   "outputs": [
    {
     "data": {
      "text/html": [
       "<div>\n",
       "<style scoped>\n",
       "    .dataframe tbody tr th:only-of-type {\n",
       "        vertical-align: middle;\n",
       "    }\n",
       "\n",
       "    .dataframe tbody tr th {\n",
       "        vertical-align: top;\n",
       "    }\n",
       "\n",
       "    .dataframe thead th {\n",
       "        text-align: right;\n",
       "    }\n",
       "</style>\n",
       "<table border=\"1\" class=\"dataframe\">\n",
       "  <thead>\n",
       "    <tr style=\"text-align: right;\">\n",
       "      <th></th>\n",
       "      <th>Comments</th>\n",
       "      <th>Followers</th>\n",
       "      <th>Is_Test_Data</th>\n",
       "      <th>Likes</th>\n",
       "      <th>Timestamp</th>\n",
       "      <th>Views</th>\n",
       "      <th>Genre_danceedm</th>\n",
       "      <th>Genre_electronic</th>\n",
       "      <th>Genre_all-music</th>\n",
       "      <th>Genre_rbsoul</th>\n",
       "      <th>Genre_latin</th>\n",
       "      <th>Genre_trap</th>\n",
       "      <th>Genre_rock</th>\n",
       "      <th>Genre_deephouse</th>\n",
       "      <th>Genre_pop</th>\n",
       "      <th>Genre_dubstep</th>\n",
       "      <th>Name_Mixmag</th>\n",
       "      <th>Name_Monstercat</th>\n",
       "      <th>Name_GR6 EXPLODE</th>\n",
       "      <th>Name_Hardstyle</th>\n",
       "      <th>Name_Sweet Musique</th>\n",
       "      <th>Name_officialb2s</th>\n",
       "      <th>Name_trndmsk</th>\n",
       "      <th>Name_Uptempo HC Channel</th>\n",
       "      <th>Name_Resident Advisor</th>\n",
       "      <th>Name_LEGENDA FUNK</th>\n",
       "      <th>Song_Name_! ARRIBA NUEVO LEON ! [ Norteño Quick Mix ] DROPS 2018</th>\n",
       "      <th>Song_Name_Alpha² &amp; Villain - Recharged</th>\n",
       "      <th>Song_Name_BIS Radio Show #753 with Gerd Janson</th>\n",
       "      <th>Song_Name_HIP HOP MIX VOL. 12 - DJ NP</th>\n",
       "      <th>Song_Name_Zoo Brazil - Across My Heart **PREVIEW SNIPPET**</th>\n",
       "      <th>Song_Name_Alison Wonderland &amp; M-Phazes - Messiah (Crankdat Re-Crank) ⚙</th>\n",
       "      <th>Song_Name_trndmsk Future Stars #9: Kyodai - Furōto</th>\n",
       "      <th>Song_Name_Realized</th>\n",
       "      <th>Song_Name_Yves Tumor - Perdition (PAN 73)</th>\n",
       "      <th>Song_Name_Pacificadores - Tô de Boa ♪ ♫</th>\n",
       "    </tr>\n",
       "    <tr>\n",
       "      <th>Unique_ID</th>\n",
       "      <th></th>\n",
       "      <th></th>\n",
       "      <th></th>\n",
       "      <th></th>\n",
       "      <th></th>\n",
       "      <th></th>\n",
       "      <th></th>\n",
       "      <th></th>\n",
       "      <th></th>\n",
       "      <th></th>\n",
       "      <th></th>\n",
       "      <th></th>\n",
       "      <th></th>\n",
       "      <th></th>\n",
       "      <th></th>\n",
       "      <th></th>\n",
       "      <th></th>\n",
       "      <th></th>\n",
       "      <th></th>\n",
       "      <th></th>\n",
       "      <th></th>\n",
       "      <th></th>\n",
       "      <th></th>\n",
       "      <th></th>\n",
       "      <th></th>\n",
       "      <th></th>\n",
       "      <th></th>\n",
       "      <th></th>\n",
       "      <th></th>\n",
       "      <th></th>\n",
       "      <th></th>\n",
       "      <th></th>\n",
       "      <th></th>\n",
       "      <th></th>\n",
       "      <th></th>\n",
       "      <th></th>\n",
       "    </tr>\n",
       "  </thead>\n",
       "  <tbody>\n",
       "    <tr>\n",
       "      <th>413890</th>\n",
       "      <td>4</td>\n",
       "      <td>119563</td>\n",
       "      <td>0</td>\n",
       "      <td>499</td>\n",
       "      <td>2018-03-30 15:24:45</td>\n",
       "      <td>14017.0</td>\n",
       "      <td>1</td>\n",
       "      <td>0</td>\n",
       "      <td>0</td>\n",
       "      <td>0</td>\n",
       "      <td>0</td>\n",
       "      <td>0</td>\n",
       "      <td>0</td>\n",
       "      <td>0</td>\n",
       "      <td>0</td>\n",
       "      <td>0</td>\n",
       "      <td>0</td>\n",
       "      <td>0</td>\n",
       "      <td>0</td>\n",
       "      <td>1</td>\n",
       "      <td>0</td>\n",
       "      <td>0</td>\n",
       "      <td>0</td>\n",
       "      <td>0</td>\n",
       "      <td>0</td>\n",
       "      <td>0</td>\n",
       "      <td>0</td>\n",
       "      <td>0</td>\n",
       "      <td>0</td>\n",
       "      <td>0</td>\n",
       "      <td>0</td>\n",
       "      <td>0</td>\n",
       "      <td>0</td>\n",
       "      <td>0</td>\n",
       "      <td>0</td>\n",
       "      <td>0</td>\n",
       "    </tr>\n",
       "    <tr>\n",
       "      <th>249453</th>\n",
       "      <td>17</td>\n",
       "      <td>2141</td>\n",
       "      <td>0</td>\n",
       "      <td>49</td>\n",
       "      <td>2016-06-20 05:58:52</td>\n",
       "      <td>1918.0</td>\n",
       "      <td>1</td>\n",
       "      <td>0</td>\n",
       "      <td>0</td>\n",
       "      <td>0</td>\n",
       "      <td>0</td>\n",
       "      <td>0</td>\n",
       "      <td>0</td>\n",
       "      <td>0</td>\n",
       "      <td>0</td>\n",
       "      <td>0</td>\n",
       "      <td>0</td>\n",
       "      <td>0</td>\n",
       "      <td>0</td>\n",
       "      <td>0</td>\n",
       "      <td>0</td>\n",
       "      <td>0</td>\n",
       "      <td>0</td>\n",
       "      <td>0</td>\n",
       "      <td>0</td>\n",
       "      <td>0</td>\n",
       "      <td>0</td>\n",
       "      <td>0</td>\n",
       "      <td>0</td>\n",
       "      <td>0</td>\n",
       "      <td>0</td>\n",
       "      <td>0</td>\n",
       "      <td>0</td>\n",
       "      <td>0</td>\n",
       "      <td>0</td>\n",
       "      <td>0</td>\n",
       "    </tr>\n",
       "    <tr>\n",
       "      <th>681116</th>\n",
       "      <td>11</td>\n",
       "      <td>22248</td>\n",
       "      <td>0</td>\n",
       "      <td>312</td>\n",
       "      <td>2015-05-08 17:45:59</td>\n",
       "      <td>9668.0</td>\n",
       "      <td>1</td>\n",
       "      <td>0</td>\n",
       "      <td>0</td>\n",
       "      <td>0</td>\n",
       "      <td>0</td>\n",
       "      <td>0</td>\n",
       "      <td>0</td>\n",
       "      <td>0</td>\n",
       "      <td>0</td>\n",
       "      <td>0</td>\n",
       "      <td>0</td>\n",
       "      <td>0</td>\n",
       "      <td>0</td>\n",
       "      <td>0</td>\n",
       "      <td>0</td>\n",
       "      <td>0</td>\n",
       "      <td>0</td>\n",
       "      <td>0</td>\n",
       "      <td>0</td>\n",
       "      <td>0</td>\n",
       "      <td>0</td>\n",
       "      <td>0</td>\n",
       "      <td>0</td>\n",
       "      <td>0</td>\n",
       "      <td>0</td>\n",
       "      <td>0</td>\n",
       "      <td>0</td>\n",
       "      <td>0</td>\n",
       "      <td>0</td>\n",
       "      <td>0</td>\n",
       "    </tr>\n",
       "    <tr>\n",
       "      <th>387253</th>\n",
       "      <td>2</td>\n",
       "      <td>393655</td>\n",
       "      <td>0</td>\n",
       "      <td>2400</td>\n",
       "      <td>2017-06-08 23:50:03</td>\n",
       "      <td>113036.0</td>\n",
       "      <td>0</td>\n",
       "      <td>0</td>\n",
       "      <td>0</td>\n",
       "      <td>1</td>\n",
       "      <td>0</td>\n",
       "      <td>0</td>\n",
       "      <td>0</td>\n",
       "      <td>0</td>\n",
       "      <td>0</td>\n",
       "      <td>0</td>\n",
       "      <td>0</td>\n",
       "      <td>0</td>\n",
       "      <td>1</td>\n",
       "      <td>0</td>\n",
       "      <td>0</td>\n",
       "      <td>0</td>\n",
       "      <td>0</td>\n",
       "      <td>0</td>\n",
       "      <td>0</td>\n",
       "      <td>0</td>\n",
       "      <td>0</td>\n",
       "      <td>0</td>\n",
       "      <td>0</td>\n",
       "      <td>0</td>\n",
       "      <td>0</td>\n",
       "      <td>0</td>\n",
       "      <td>0</td>\n",
       "      <td>0</td>\n",
       "      <td>0</td>\n",
       "      <td>0</td>\n",
       "    </tr>\n",
       "    <tr>\n",
       "      <th>1428029</th>\n",
       "      <td>81</td>\n",
       "      <td>201030</td>\n",
       "      <td>0</td>\n",
       "      <td>3031</td>\n",
       "      <td>2016-09-17 20:50:19</td>\n",
       "      <td>110024.0</td>\n",
       "      <td>1</td>\n",
       "      <td>0</td>\n",
       "      <td>0</td>\n",
       "      <td>0</td>\n",
       "      <td>0</td>\n",
       "      <td>0</td>\n",
       "      <td>0</td>\n",
       "      <td>0</td>\n",
       "      <td>0</td>\n",
       "      <td>0</td>\n",
       "      <td>0</td>\n",
       "      <td>0</td>\n",
       "      <td>0</td>\n",
       "      <td>0</td>\n",
       "      <td>0</td>\n",
       "      <td>0</td>\n",
       "      <td>0</td>\n",
       "      <td>0</td>\n",
       "      <td>0</td>\n",
       "      <td>0</td>\n",
       "      <td>0</td>\n",
       "      <td>0</td>\n",
       "      <td>0</td>\n",
       "      <td>0</td>\n",
       "      <td>0</td>\n",
       "      <td>0</td>\n",
       "      <td>0</td>\n",
       "      <td>0</td>\n",
       "      <td>0</td>\n",
       "      <td>0</td>\n",
       "    </tr>\n",
       "  </tbody>\n",
       "</table>\n",
       "</div>"
      ],
      "text/plain": [
       "           Comments  Followers  Is_Test_Data  Likes           Timestamp  \\\n",
       "Unique_ID                                                                 \n",
       "413890     4         119563     0             499   2018-03-30 15:24:45   \n",
       "249453     17        2141       0             49    2016-06-20 05:58:52   \n",
       "681116     11        22248      0             312   2015-05-08 17:45:59   \n",
       "387253     2         393655     0             2400  2017-06-08 23:50:03   \n",
       "1428029    81        201030     0             3031  2016-09-17 20:50:19   \n",
       "\n",
       "              Views  Genre_danceedm  Genre_electronic  Genre_all-music  \\\n",
       "Unique_ID                                                                \n",
       "413890     14017.0   1               0                 0                 \n",
       "249453     1918.0    1               0                 0                 \n",
       "681116     9668.0    1               0                 0                 \n",
       "387253     113036.0  0               0                 0                 \n",
       "1428029    110024.0  1               0                 0                 \n",
       "\n",
       "           Genre_rbsoul  Genre_latin  Genre_trap  Genre_rock  Genre_deephouse  \\\n",
       "Unique_ID                                                                       \n",
       "413890     0             0            0           0           0                 \n",
       "249453     0             0            0           0           0                 \n",
       "681116     0             0            0           0           0                 \n",
       "387253     1             0            0           0           0                 \n",
       "1428029    0             0            0           0           0                 \n",
       "\n",
       "           Genre_pop  Genre_dubstep  Name_Mixmag  Name_Monstercat  \\\n",
       "Unique_ID                                                           \n",
       "413890     0          0              0            0                 \n",
       "249453     0          0              0            0                 \n",
       "681116     0          0              0            0                 \n",
       "387253     0          0              0            0                 \n",
       "1428029    0          0              0            0                 \n",
       "\n",
       "           Name_GR6 EXPLODE  Name_Hardstyle  Name_Sweet Musique  \\\n",
       "Unique_ID                                                         \n",
       "413890     0                 1               0                    \n",
       "249453     0                 0               0                    \n",
       "681116     0                 0               0                    \n",
       "387253     1                 0               0                    \n",
       "1428029    0                 0               0                    \n",
       "\n",
       "           Name_officialb2s  Name_trndmsk  Name_Uptempo HC Channel  \\\n",
       "Unique_ID                                                            \n",
       "413890     0                 0             0                         \n",
       "249453     0                 0             0                         \n",
       "681116     0                 0             0                         \n",
       "387253     0                 0             0                         \n",
       "1428029    0                 0             0                         \n",
       "\n",
       "           Name_Resident Advisor  Name_LEGENDA FUNK  \\\n",
       "Unique_ID                                             \n",
       "413890     0                      0                   \n",
       "249453     0                      0                   \n",
       "681116     0                      0                   \n",
       "387253     0                      0                   \n",
       "1428029    0                      0                   \n",
       "\n",
       "           Song_Name_! ARRIBA NUEVO LEON ! [ Norteño Quick Mix ] DROPS 2018  \\\n",
       "Unique_ID                                                                     \n",
       "413890     0                                                                  \n",
       "249453     0                                                                  \n",
       "681116     0                                                                  \n",
       "387253     0                                                                  \n",
       "1428029    0                                                                  \n",
       "\n",
       "           Song_Name_Alpha² & Villain - Recharged  \\\n",
       "Unique_ID                                           \n",
       "413890     0                                        \n",
       "249453     0                                        \n",
       "681116     0                                        \n",
       "387253     0                                        \n",
       "1428029    0                                        \n",
       "\n",
       "           Song_Name_BIS Radio Show #753 with Gerd Janson  \\\n",
       "Unique_ID                                                   \n",
       "413890     0                                                \n",
       "249453     0                                                \n",
       "681116     0                                                \n",
       "387253     0                                                \n",
       "1428029    0                                                \n",
       "\n",
       "           Song_Name_HIP HOP MIX VOL. 12 - DJ NP  \\\n",
       "Unique_ID                                          \n",
       "413890     0                                       \n",
       "249453     0                                       \n",
       "681116     0                                       \n",
       "387253     0                                       \n",
       "1428029    0                                       \n",
       "\n",
       "           Song_Name_Zoo Brazil - Across My Heart **PREVIEW SNIPPET**  \\\n",
       "Unique_ID                                                               \n",
       "413890     0                                                            \n",
       "249453     0                                                            \n",
       "681116     0                                                            \n",
       "387253     0                                                            \n",
       "1428029    0                                                            \n",
       "\n",
       "           Song_Name_Alison Wonderland & M-Phazes - Messiah (Crankdat Re-Crank) ⚙  \\\n",
       "Unique_ID                                                                           \n",
       "413890     0                                                                        \n",
       "249453     0                                                                        \n",
       "681116     0                                                                        \n",
       "387253     0                                                                        \n",
       "1428029    0                                                                        \n",
       "\n",
       "           Song_Name_trndmsk Future Stars #9: Kyodai - Furōto  \\\n",
       "Unique_ID                                                       \n",
       "413890     0                                                    \n",
       "249453     0                                                    \n",
       "681116     0                                                    \n",
       "387253     0                                                    \n",
       "1428029    0                                                    \n",
       "\n",
       "           Song_Name_Realized  Song_Name_Yves Tumor - Perdition (PAN 73)  \\\n",
       "Unique_ID                                                                  \n",
       "413890     0                   0                                           \n",
       "249453     0                   0                                           \n",
       "681116     0                   0                                           \n",
       "387253     0                   0                                           \n",
       "1428029    0                   0                                           \n",
       "\n",
       "           Song_Name_Pacificadores - Tô de Boa ♪ ♫  \n",
       "Unique_ID                                           \n",
       "413890     0                                        \n",
       "249453     0                                        \n",
       "681116     0                                        \n",
       "387253     0                                        \n",
       "1428029    0                                        "
      ]
     },
     "execution_count": 320,
     "metadata": {
      "tags": []
     },
     "output_type": "execute_result"
    }
   ],
   "source": [
    "for col in categorical_columns:\n",
    "    imp_labels = list(df_views_songs[col].value_counts().head(10).index)\n",
    "    \n",
    "    for label in imp_labels:\n",
    "        df_views_songs[col+'_'+label] = np.where(df_views_songs[col] == label, 1, 0)\n",
    "    \n",
    "    df_views_songs.drop(col, axis = 1, inplace=True)\n",
    "    \n",
    "df_views_songs.head()"
   ]
  },
  {
   "cell_type": "markdown",
   "metadata": {
    "colab_type": "text",
    "id": "g7YfO8iSuBpH"
   },
   "source": [
    "**Observations:**\n",
    "\n",
    "We have 36* columns after one-hot encoding"
   ]
  },
  {
   "cell_type": "code",
   "execution_count": 0,
   "metadata": {
    "colab": {
     "base_uri": "https://localhost:8080/",
     "height": 50
    },
    "colab_type": "code",
    "id": "g3MYSZYZuBpH",
    "outputId": "63405b4b-c643-40c5-a5ec-2bdcdb9bbfb9"
   },
   "outputs": [
    {
     "name": "stdout",
     "output_type": "stream",
     "text": [
      "continuous_columns length : 4 \n",
      "categorical_columns length : 30\n"
     ]
    }
   ],
   "source": [
    "feature_cols = list(df_views_songs.columns)\n",
    "\n",
    "for col in continuous_columns:\n",
    "    if col in feature_cols:\n",
    "        feature_cols.remove(col)\n",
    "\n",
    "# let's remove Timestamp from prediction\n",
    "feature_cols.remove('Timestamp')\n",
    "\n",
    "feature_cols.remove('Views')\n",
    "\n",
    "categorical_columns = feature_cols\n",
    "\n",
    "print('continuous_columns length : {} '.format(len(continuous_columns)))\n",
    "print('categorical_columns length : {}'.format(len(categorical_columns)))"
   ]
  },
  {
   "cell_type": "markdown",
   "metadata": {
    "colab_type": "text",
    "id": "CG-N0SUra2XJ"
   },
   "source": [
    " <a id=section502></a>\n",
    " ## 5.2 Standardizing continuous variables"
   ]
  },
  {
   "cell_type": "code",
   "execution_count": 0,
   "metadata": {
    "colab": {
     "base_uri": "https://localhost:8080/",
     "height": 34
    },
    "colab_type": "code",
    "id": "YeB-0MrsuBpN",
    "outputId": "7023167b-344f-4d41-fcd0-e0b0b7399997"
   },
   "outputs": [
    {
     "data": {
      "text/plain": [
       "['Comments', 'Followers', 'Is_Test_Data', 'Likes']"
      ]
     },
     "execution_count": 323,
     "metadata": {
      "tags": []
     },
     "output_type": "execute_result"
    }
   ],
   "source": [
    "continuous_columns"
   ]
  },
  {
   "cell_type": "code",
   "execution_count": 0,
   "metadata": {
    "colab": {},
    "colab_type": "code",
    "id": "MDZDLzJnuBpP"
   },
   "outputs": [],
   "source": [
    "from sklearn.preprocessing import StandardScaler\n",
    "\n",
    "continuous_columns.remove('Is_Test_Data')\n",
    "# standardizing of data\n",
    "scaler = StandardScaler().fit(df_views_songs[continuous_columns])\n",
    "data = scaler.transform(df_views_songs[continuous_columns])"
   ]
  },
  {
   "cell_type": "code",
   "execution_count": 0,
   "metadata": {
    "colab": {
     "base_uri": "https://localhost:8080/",
     "height": 34
    },
    "colab_type": "code",
    "id": "ID0NAymwRM7R",
    "outputId": "9ac03ccd-3110-4458-9b66-4d5d34d9eb2a",
    "scrolled": true
   },
   "outputs": [
    {
     "name": "stdout",
     "output_type": "stream",
     "text": [
      "(98073, 3)\n"
     ]
    }
   ],
   "source": [
    "# forming dataframe after standardization\n",
    "df_views_songs_sd= pd.DataFrame(data)\n",
    "df_views_songs_sd.columns = continuous_columns\n",
    "df_views_songs_sd.index = df_views_songs.index\n",
    "print(df_views_songs_sd.shape)"
   ]
  },
  {
   "cell_type": "markdown",
   "metadata": {
    "colab_type": "text",
    "id": "S4cLX3TIuBpU"
   },
   "source": [
    "#### Merging all columns together."
   ]
  },
  {
   "cell_type": "code",
   "execution_count": 0,
   "metadata": {
    "colab": {
     "base_uri": "https://localhost:8080/",
     "height": 34
    },
    "colab_type": "code",
    "id": "xUg9OG4zdvT4",
    "outputId": "b86f8874-ee31-4404-f28a-a3a3b77ff731"
   },
   "outputs": [
    {
     "data": {
      "text/plain": [
       "(98073, 33)"
      ]
     },
     "execution_count": 326,
     "metadata": {
      "tags": []
     },
     "output_type": "execute_result"
    }
   ],
   "source": [
    "# merge ctegorical and continuos columns\n",
    "df_views_songs_sd = pd.concat([df_views_songs_sd, df_views_songs[categorical_columns]],axis=1).reindex(df_views_songs.index)\n",
    "df_views_songs_sd.shape"
   ]
  },
  {
   "cell_type": "code",
   "execution_count": 0,
   "metadata": {
    "colab": {
     "base_uri": "https://localhost:8080/",
     "height": 34
    },
    "colab_type": "code",
    "id": "rM1_aE7MW0lN",
    "outputId": "68f9cd34-84a3-4a12-e414-3e77256e59bc"
   },
   "outputs": [
    {
     "data": {
      "text/plain": [
       "(98073, 34)"
      ]
     },
     "execution_count": 327,
     "metadata": {
      "tags": []
     },
     "output_type": "execute_result"
    }
   ],
   "source": [
    "# add Is_Test_Data column\n",
    "df_views_songs_sd = pd.concat([df_views_songs_sd, df_views_songs['Is_Test_Data']],axis=1).reindex(df_views_songs.index)\n",
    "\n",
    "df_views_songs_sd.shape"
   ]
  },
  {
   "cell_type": "code",
   "execution_count": 0,
   "metadata": {
    "colab": {
     "base_uri": "https://localhost:8080/",
     "height": 34
    },
    "colab_type": "code",
    "id": "LBZ51yPALJJH",
    "outputId": "5cfd2e63-67c4-4fa4-bb06-cd699345b1ac"
   },
   "outputs": [
    {
     "data": {
      "text/plain": [
       "(98073, 35)"
      ]
     },
     "execution_count": 328,
     "metadata": {
      "tags": []
     },
     "output_type": "execute_result"
    }
   ],
   "source": [
    "# add Views column\n",
    "df_views_songs_sd = pd.concat([df_views_songs_sd, df_views_songs['Views']],axis=1).reindex(df_views_songs.index)\n",
    "df_views_songs_sd.shape"
   ]
  },
  {
   "cell_type": "markdown",
   "metadata": {
    "colab_type": "text",
    "id": "rHtg7_BTa2XO"
   },
   "source": [
    " <a id=section6></a>\n",
    " # 6. Ensemble Modelling and Prediction\n",
    " \n",
    " Ensemble modeling is a process where multiple diverse models are created to predict an outcome, either by using many different modeling algorithms or using different training data sets. The ensemble model then aggregates the prediction of each base model and results in once final prediction for the unseen data."
   ]
  },
  {
   "cell_type": "markdown",
   "metadata": {
    "colab_type": "text",
    "id": "SVMM7mziuBpl"
   },
   "source": [
    " <a id=section601></a>\n",
    " ## 6.1 Linear Regression\n",
    " \n",
    " \n",
    "Linear regression is a basic and commonly used type of predictive analysis.  The overall idea of regression is to examine two things: \n",
    "\n",
    "1. Does a set of predictor variables do a good job in predicting an outcome (dependent) variable?  \n",
    "2. Which variables in particular are significant predictors of the outcome variable, and in what way do they–indicated by the magnitude and sign of the beta estimates–impact the outcome variable?  \n",
    "\n",
    "These regression estimates are used to explain the relationship between one dependent variable and one or more independent variables.  The simplest form of the regression equation with one dependent and one independent variable is defined by the formula y = c + b*x, where y = estimated dependent variable score, c = constant, b = regression coefficient, and x = score on the independent variable.\n"
   ]
  },
  {
   "cell_type": "markdown",
   "metadata": {
    "colab_type": "text",
    "id": "o6GwkHLRuBpl"
   },
   "source": [
    " <a id=section60101></a>\n",
    "### 6.1.1  Checking assumptions of Linear Regression"
   ]
  },
  {
   "cell_type": "markdown",
   "metadata": {
    "colab_type": "text",
    "id": "ZXI2i13b5NmP"
   },
   "source": [
    "#### a. Independant variables shouldn't be correlated"
   ]
  },
  {
   "cell_type": "markdown",
   "metadata": {
    "colab_type": "text",
    "id": "C0pmobqzJ4Pi"
   },
   "source": [
    "**NOTE:**\n",
    "\n",
    "Above assumption is taken care in [Remove highly correlated columns](#section403). Moving forward."
   ]
  },
  {
   "cell_type": "markdown",
   "metadata": {
    "colab_type": "text",
    "id": "lSmrkLSJ5XyV"
   },
   "source": [
    "#### b.  Independant variables and target variable should have linear relation"
   ]
  },
  {
   "cell_type": "code",
   "execution_count": 0,
   "metadata": {
    "colab": {
     "base_uri": "https://localhost:8080/",
     "height": 34
    },
    "colab_type": "code",
    "id": "xdlLU0JgLehN",
    "outputId": "fb013e6d-e374-4523-ebf3-f9090b16c645"
   },
   "outputs": [
    {
     "data": {
      "text/plain": [
       "['Comments', 'Followers', 'Likes']"
      ]
     },
     "execution_count": 329,
     "metadata": {
      "tags": []
     },
     "output_type": "execute_result"
    }
   ],
   "source": [
    "continuous_columns"
   ]
  },
  {
   "cell_type": "code",
   "execution_count": 0,
   "metadata": {
    "colab": {},
    "colab_type": "code",
    "id": "dYKMFWefK5KI"
   },
   "outputs": [],
   "source": [
    "feature_cols = continuous_columns"
   ]
  },
  {
   "cell_type": "code",
   "execution_count": 0,
   "metadata": {
    "colab": {
     "base_uri": "https://localhost:8080/",
     "height": 34
    },
    "colab_type": "code",
    "id": "r_7RUtsw5sdM",
    "outputId": "be2b3a52-9df0-46d7-da7e-f97b2b9b8958"
   },
   "outputs": [
    {
     "data": {
      "text/plain": [
       "(98073, 34)"
      ]
     },
     "execution_count": 331,
     "metadata": {
      "tags": []
     },
     "output_type": "execute_result"
    }
   ],
   "source": [
    "cols_to_drop = list()\n",
    "\n",
    "# iterating through feature columns and collecting all columns \n",
    "# who have less than 0.1 correlation with target variable\n",
    "for i in range(0, len(feature_cols)):\n",
    "    corr_matrix = df_views_songs_sd[['Views', feature_cols[i]]].corr().abs()\n",
    "    if(corr_matrix.iloc[0][1] < 0.1):\n",
    "        cols_to_drop.append(feature_cols[i])\n",
    "\n",
    "#dropping all uncorrelated columns\n",
    "df_views_songs_sd.drop(cols_to_drop, axis = 1, inplace=True)\n",
    "df_views_songs_sd.shape"
   ]
  },
  {
   "cell_type": "markdown",
   "metadata": {
    "colab_type": "text",
    "id": "weWfKFrAuBp5"
   },
   "source": [
    "**NOTE:**\n",
    "\n",
    "Dropped all columns who have less than **0.1 correlation** with target variable."
   ]
  },
  {
   "cell_type": "markdown",
   "metadata": {
    "colab_type": "text",
    "id": "T-Ry-JqGxLkH"
   },
   "source": [
    "#### c. Target variable should be normally distributed\n"
   ]
  },
  {
   "cell_type": "code",
   "execution_count": 0,
   "metadata": {
    "colab": {
     "base_uri": "https://localhost:8080/",
     "height": 322
    },
    "colab_type": "code",
    "id": "y7BQ2SyKxR7X",
    "outputId": "aeb5b503-ae77-4479-e292-3a22aff8332a"
   },
   "outputs": [
    {
     "data": {
      "text/plain": [
       "<matplotlib.axes._subplots.AxesSubplot at 0x7f35b934e4a8>"
      ]
     },
     "execution_count": 332,
     "metadata": {
      "tags": []
     },
     "output_type": "execute_result"
    },
    {
     "data": {
      "image/png": "[encoded data removed]",
      "text/plain": [
       "<Figure size 432x288 with 1 Axes>"
      ]
     },
     "metadata": {
      "tags": []
     },
     "output_type": "display_data"
    }
   ],
   "source": [
    "views = df_views_songs_sd[df_views_songs_sd['Is_Test_Data'] == 0]['Views']\n",
    "sns.distplot(views, color=\"b\")"
   ]
  },
  {
   "cell_type": "markdown",
   "metadata": {
    "colab_type": "text",
    "id": "4JEU8vK5uBpp"
   },
   "source": [
    "**Observations**\n",
    "\n",
    "1. We observe target variable i.e; **Views** is not normally distributed\n",
    "2. Lets apply different transformation and check."
   ]
  },
  {
   "cell_type": "code",
   "execution_count": 0,
   "metadata": {
    "colab": {
     "base_uri": "https://localhost:8080/",
     "height": 308
    },
    "colab_type": "code",
    "id": "aes3NCgP0rJa",
    "outputId": "82c7f65c-73c8-43af-9f94-e9bc77c6c945"
   },
   "outputs": [
    {
     "data": {
      "text/plain": [
       "<matplotlib.axes._subplots.AxesSubplot at 0x7f35ac2c6400>"
      ]
     },
     "execution_count": 333,
     "metadata": {
      "tags": []
     },
     "output_type": "execute_result"
    },
    {
     "data": {
      "image/png": "[encoded data removed]",
      "text/plain": [
       "<Figure size 432x288 with 1 Axes>"
      ]
     },
     "metadata": {
      "tags": []
     },
     "output_type": "display_data"
    }
   ],
   "source": [
    "views_trans = views.apply(lambda x : x**(1/10))\n",
    "sns.distplot(views_trans, color=\"b\")"
   ]
  },
  {
   "cell_type": "markdown",
   "metadata": {
    "colab_type": "text",
    "id": "QsSi6XTSuBpr"
   },
   "source": [
    "**Observations:** Current transformation has made it little better. Let's continue."
   ]
  },
  {
   "cell_type": "code",
   "execution_count": 0,
   "metadata": {
    "colab": {},
    "colab_type": "code",
    "id": "irTKVTUEMgs4"
   },
   "outputs": [],
   "source": [
    "views_trans = pd.DataFrame({'Views':views_trans})"
   ]
  },
  {
   "cell_type": "markdown",
   "metadata": {
    "colab_type": "text",
    "id": "InjPeD7bQWDR"
   },
   "source": [
    "NOTE:\n",
    "\n",
    "Let's assign newly transformed 'Views' column after train test split."
   ]
  },
  {
   "cell_type": "markdown",
   "metadata": {
    "colab_type": "text",
    "id": "dmP4mWh3uBpg"
   },
   "source": [
    " <a id=section60102></a>\n",
    " ### 6.1.2 Segregating Train and Test data"
   ]
  },
  {
   "cell_type": "code",
   "execution_count": 0,
   "metadata": {
    "colab": {},
    "colab_type": "code",
    "id": "BNu4JZYyuBpg"
   },
   "outputs": [],
   "source": [
    "df_views_songs_train = df_views_songs_sd[df_views_songs_sd['Is_Test_Data'] == 0]\n",
    "df_views_songs_test = df_views_songs_sd[df_views_songs_sd['Is_Test_Data'] == 1]"
   ]
  },
  {
   "cell_type": "code",
   "execution_count": 0,
   "metadata": {
    "colab": {},
    "colab_type": "code",
    "id": "1QAE9wPTuBpi"
   },
   "outputs": [],
   "source": [
    "# dropping Is_Test_Data column\n",
    " df_views_songs_train.drop('Is_Test_Data', axis=1, inplace=True)\n",
    " df_views_songs_test.drop('Is_Test_Data', axis=1, inplace=True)"
   ]
  },
  {
   "cell_type": "code",
   "execution_count": 0,
   "metadata": {
    "colab": {
     "base_uri": "https://localhost:8080/",
     "height": 50
    },
    "colab_type": "code",
    "id": "lZTKDtePNOqh",
    "outputId": "6336b1d6-411d-450e-e1b4-53d58fc92d77"
   },
   "outputs": [
    {
     "name": "stdout",
     "output_type": "stream",
     "text": [
      "(78458, 33)\n",
      "(19615, 33)\n"
     ]
    }
   ],
   "source": [
    "print(df_views_songs_train.shape)\n",
    "print(df_views_songs_test.shape)"
   ]
  },
  {
   "cell_type": "code",
   "execution_count": 0,
   "metadata": {
    "colab": {},
    "colab_type": "code",
    "id": "qrWN3ylPS3Sm"
   },
   "outputs": [],
   "source": [
    "feature_cols = list(df_views_songs_train.columns)\n",
    "feature_cols.remove('Views')\n",
    "feature_cols"
   ]
  },
  {
   "cell_type": "code",
   "execution_count": 0,
   "metadata": {
    "colab": {},
    "colab_type": "code",
    "id": "PBB5p8W8REyq"
   },
   "outputs": [],
   "source": [
    " X = df_views_songs_train[feature_cols]\n",
    " y = df_views_songs_train['Views']"
   ]
  },
  {
   "cell_type": "markdown",
   "metadata": {
    "colab_type": "text",
    "id": "3HCFI-T4uBp5"
   },
   "source": [
    "##### Splitting train data again into train and test data\n"
   ]
  },
  {
   "cell_type": "code",
   "execution_count": 0,
   "metadata": {
    "colab": {},
    "colab_type": "code",
    "id": "ZKPSNFLIuBp6"
   },
   "outputs": [],
   "source": [
    "from sklearn.model_selection import train_test_split\n",
    "\n",
    "def split(X,y):\n",
    "    return train_test_split(X, y, test_size=0.30, random_state=1)"
   ]
  },
  {
   "cell_type": "code",
   "execution_count": 0,
   "metadata": {
    "colab": {
     "base_uri": "https://localhost:8080/",
     "height": 134
    },
    "colab_type": "code",
    "id": "f9SpbRN8uBp7",
    "outputId": "4dc896f0-8917-452e-e48c-b9c7d411c558"
   },
   "outputs": [
    {
     "name": "stdout",
     "output_type": "stream",
     "text": [
      "Train cases as below\n",
      "X_train shape:  (54920, 32)\n",
      "y_train shape:  (54920,)\n",
      "\n",
      "Test cases as below\n",
      "X_test shape:  (23538, 32)\n",
      "y_test shape:  (23538,)\n"
     ]
    }
   ],
   "source": [
    "X_train_lr, X_test_lr, y_train_lr, y_test_lr=split(X,y)\n",
    "print('Train cases as below')\n",
    "print('X_train shape: ',X_train_lr.shape)\n",
    "print('y_train shape: ',y_train_lr.shape)\n",
    "print('\\nTest cases as below')\n",
    "print('X_test shape: ',X_test_lr.shape)\n",
    "print('y_test shape: ',y_test_lr.shape)"
   ]
  },
  {
   "cell_type": "markdown",
   "metadata": {
    "colab_type": "text",
    "id": "wdVAdtoyuBp9"
   },
   "source": [
    "##### Defining Linear Regression function for modelling"
   ]
  },
  {
   "cell_type": "code",
   "execution_count": 0,
   "metadata": {
    "colab": {},
    "colab_type": "code",
    "id": "W2bOrziTbvG1"
   },
   "outputs": [],
   "source": [
    "def rmse_scorer(y_actual, y_predicted) :\n",
    "  from sklearn.metrics import mean_squared_error\n",
    "  from math import sqrt\n",
    "\n",
    "  rmse = sqrt(mean_squared_error(y_actual, y_predicted))\n",
    "  return rmse"
   ]
  },
  {
   "cell_type": "code",
   "execution_count": 0,
   "metadata": {
    "colab": {},
    "colab_type": "code",
    "id": "07rUjgEtbjzL"
   },
   "outputs": [],
   "source": [
    "from sklearn.metrics import make_scorer\n",
    "my_scorer = make_scorer(rmse_scorer, greater_is_better=False)"
   ]
  },
  {
   "cell_type": "code",
   "execution_count": 0,
   "metadata": {
    "colab": {},
    "colab_type": "code",
    "id": "7kfQ9EgWqnwq"
   },
   "outputs": [],
   "source": [
    "from sklearn.linear_model import LinearRegression\n",
    "from sklearn.model_selection import GridSearchCV\n",
    "from sklearn.model_selection import RandomizedSearchCV\n",
    "\n",
    "def linear_reg(gridsearch = False):\n",
    "    linreg = LinearRegression() \n",
    "    if not(gridsearch):\n",
    "        parameters = {'normalize':[True,False], 'copy_X':[True, False] }\n",
    "        linreg = RandomizedSearchCV(linreg,parameters, cv = 10,refit = True , scoring = my_scorer)                                                    \n",
    "        return linreg\n",
    "    else:\n",
    "        parameters = {'normalize':[True,False], 'copy_X':[True, False]}\n",
    "        linreg = GridSearchCV(linreg,parameters, cv = 10,refit = True , scoring= my_scorer)                                                    \n",
    "        return linreg"
   ]
  },
  {
   "cell_type": "markdown",
   "metadata": {
    "colab_type": "text",
    "id": "19qiPg1Wo-dL"
   },
   "source": [
    " <a id=section60102></a>\n",
    "### 6.1.2 Using Default Model"
   ]
  },
  {
   "cell_type": "markdown",
   "metadata": {
    "colab_type": "text",
    "id": "hQw4-J0quBqA"
   },
   "source": [
    " <a id=section6010201></a>\n",
    "#### 6.1.2.1 Building Model and Prediction"
   ]
  },
  {
   "cell_type": "code",
   "execution_count": 0,
   "metadata": {
    "colab": {
     "base_uri": "https://localhost:8080/",
     "height": 34
    },
    "colab_type": "code",
    "id": "m4YNqH6ky8nt",
    "outputId": "e897ad76-dea4-4f41-a6d2-42a9614cd5bf"
   },
   "outputs": [
    {
     "data": {
      "text/plain": [
       "LinearRegression(copy_X=True, fit_intercept=True, n_jobs=None, normalize=False)"
      ]
     },
     "execution_count": 345,
     "metadata": {
      "tags": []
     },
     "output_type": "execute_result"
    }
   ],
   "source": [
    "linreg = LinearRegression()\n",
    "linreg.fit(X_train_lr,y_train_lr)"
   ]
  },
  {
   "cell_type": "code",
   "execution_count": 0,
   "metadata": {
    "colab": {
     "base_uri": "https://localhost:8080/",
     "height": 168
    },
    "colab_type": "code",
    "id": "kF_P_Wp5ridb",
    "outputId": "9eb54968-43c1-4bc9-a264-189cc05ea5a4"
   },
   "outputs": [
    {
     "name": "stdout",
     "output_type": "stream",
     "text": [
      "Intercept: 491173.70742046187\n",
      "Coefficients: [ 3.63658463e+06  8.14511989e+04 -2.25634399e+05 -2.55978535e+05\n",
      "  1.19046948e+06  5.24303745e+05  2.93309023e+05 -9.17647182e+04\n",
      "  8.11713913e+04 -1.05397983e+05  1.68372306e+04 -3.99433388e+05\n",
      "  1.35977789e+05 -4.24987462e+05 -2.69540642e+05  3.03636573e+05\n",
      " -1.34473954e+05  2.66473973e+05  9.44371056e+03  3.56904119e+05\n",
      " -3.22321513e+04 -2.03973620e+05 -2.14204175e+06  5.06791583e+03\n",
      " -5.82076609e-11 -2.32830644e-10  4.65661287e-10  0.00000000e+00\n",
      " -3.09365564e+03 -1.10797895e+06  3.52980591e+05  0.00000000e+00]\n"
     ]
    }
   ],
   "source": [
    "# print the intercept and coefficients\n",
    "print('Intercept:',linreg.intercept_)\n",
    "print('Coefficients:',linreg.coef_)  "
   ]
  },
  {
   "cell_type": "code",
   "execution_count": 0,
   "metadata": {
    "colab": {},
    "colab_type": "code",
    "id": "ffF_uavKrtVr"
   },
   "outputs": [],
   "source": [
    " # make predictions on the training set\n",
    "y_pred_train_lr = linreg.predict(X_train_lr) "
   ]
  },
  {
   "cell_type": "code",
   "execution_count": 0,
   "metadata": {
    "colab": {},
    "colab_type": "code",
    "id": "cOIYHiuJr2zf"
   },
   "outputs": [],
   "source": [
    " # make predictions on the testing set\n",
    "y_pred_test_lr = linreg.predict(X_test_lr)  "
   ]
  },
  {
   "cell_type": "code",
   "execution_count": 0,
   "metadata": {
    "colab": {},
    "colab_type": "code",
    "id": "Z1_QTFZgUeh6"
   },
   "outputs": [],
   "source": [
    "RMSE_MAP = {}"
   ]
  },
  {
   "cell_type": "markdown",
   "metadata": {
    "colab_type": "text",
    "id": "ahoydxpEuBqg"
   },
   "source": [
    " <a id=section6010202></a>\n",
    "#### 6.1.2.2 Model Evaluation"
   ]
  },
  {
   "cell_type": "markdown",
   "metadata": {
    "colab_type": "text",
    "id": "toOwYaAvuBqh"
   },
   "source": [
    "#### a. RMSE\n"
   ]
  },
  {
   "cell_type": "code",
   "execution_count": 0,
   "metadata": {
    "colab": {
     "base_uri": "https://localhost:8080/",
     "height": 50
    },
    "colab_type": "code",
    "id": "_UpgS1xwuBqh",
    "outputId": "7fac736e-1556-4a72-c2aa-ce72baefdcca"
   },
   "outputs": [
    {
     "name": "stdout",
     "output_type": "stream",
     "text": [
      "RMSE for training set is 2501622.756793326\n",
      "RMSE for testing set is 3762343.023659728\n"
     ]
    }
   ],
   "source": [
    "from sklearn import metrics\n",
    "RMSE_train = np.sqrt( metrics.mean_squared_error(y_train_lr, y_pred_train_lr))\n",
    "print('RMSE for training set is {}'.format(RMSE_train))\n",
    "RMSE_MAP['lr_train_d'] = RMSE_train\n",
    "\n",
    "RMSE_test = np.sqrt( metrics.mean_squared_error(y_test_lr, y_pred_test_lr))\n",
    "print('RMSE for testing set is {}'.format(RMSE_test))\n",
    "RMSE_MAP['lr_test_d'] = RMSE_test"
   ]
  },
  {
   "cell_type": "markdown",
   "metadata": {
    "colab_type": "text",
    "id": "j-bx6AyvuBqk"
   },
   "source": [
    "#### b. MAPE\n"
   ]
  },
  {
   "cell_type": "code",
   "execution_count": 0,
   "metadata": {
    "colab": {},
    "colab_type": "code",
    "id": "hWCUjzfYuBql"
   },
   "outputs": [],
   "source": [
    "def mean_absolute_percentage_error(y_true, y_pred): \n",
    "    y_true, y_pred = np.array(y_true), np.array(y_pred)\n",
    "    return np.mean(np.abs((y_true - y_pred) / y_true)) * 100"
   ]
  },
  {
   "cell_type": "code",
   "execution_count": 0,
   "metadata": {
    "colab": {
     "base_uri": "https://localhost:8080/",
     "height": 50
    },
    "colab_type": "code",
    "id": "BD8Ja0N-uBqo",
    "outputId": "0468f1e1-c672-42fd-c7a2-e1441a186eac"
   },
   "outputs": [
    {
     "name": "stdout",
     "output_type": "stream",
     "text": [
      "MAPE for training set is inf\n",
      "MAPE for testing set is inf\n"
     ]
    }
   ],
   "source": [
    "mape_train_error = mean_absolute_percentage_error(y_train_lr, y_pred_train_lr)\n",
    "mape_test_error = mean_absolute_percentage_error(y_test_lr, y_pred_test_lr)\n",
    "print('MAPE for training set is {}'.format(mape_train_error))\n",
    "print('MAPE for testing set is {}'.format(mape_test_error))"
   ]
  },
  {
   "cell_type": "markdown",
   "metadata": {
    "colab_type": "text",
    "id": "aPWTERz2uBqs"
   },
   "source": [
    "#### c. R-Squared Error"
   ]
  },
  {
   "cell_type": "code",
   "execution_count": 0,
   "metadata": {
    "colab": {
     "base_uri": "https://localhost:8080/"
    },
    "colab_type": "code",
    "id": "YL16o6mLuBqs",
    "outputId": "efa1d3f0-cd39-4692-f6c8-aa28957fc633"
   },
   "outputs": [
    {
     "name": "stdout",
     "output_type": "stream",
     "text": [
      "R-Squared for training set is 0.5933754021223858\n"
     ]
    }
   ],
   "source": [
    "from sklearn.metrics import r2_score\n",
    "\n",
    "r_squared_train_lr = r2_score(y_train_lr,y_pred_train_lr )\n",
    "print('R-Squared for training set is {}'.format(r_squared_train_lr))"
   ]
  },
  {
   "cell_type": "code",
   "execution_count": 0,
   "metadata": {
    "colab": {
     "base_uri": "https://localhost:8080/"
    },
    "colab_type": "code",
    "id": "kdoKS9BRuBqu",
    "outputId": "fff6f0c7-b197-4bbe-a896-9aceeece7ff9"
   },
   "outputs": [
    {
     "name": "stdout",
     "output_type": "stream",
     "text": [
      "R-Squared for testing set is 0.013545836301295688\n"
     ]
    }
   ],
   "source": [
    "r_squared_test_lr = r2_score(y_test_lr,y_pred_test_lr )\n",
    "print('R-Squared for testing set is {}'.format(r_squared_test_lr))"
   ]
  },
  {
   "cell_type": "markdown",
   "metadata": {
    "colab_type": "text",
    "id": "q1vbwN7ruBqx"
   },
   "source": [
    "#### d. Adjusted R-Squared Error"
   ]
  },
  {
   "cell_type": "code",
   "execution_count": 0,
   "metadata": {
    "colab": {
     "base_uri": "https://localhost:8080/"
    },
    "colab_type": "code",
    "id": "7GWw-DXIuBqx",
    "outputId": "203b8206-0407-40ca-cfe0-25cc542b4f80",
    "scrolled": true
   },
   "outputs": [
    {
     "name": "stdout",
     "output_type": "stream",
     "text": [
      "Adjusted R-Squared for training set is 0.5931383334698437\n"
     ]
    }
   ],
   "source": [
    "adjusted_r_squared_train_lr = 1 - (1-r_squared_train_lr)*(len(y_train_lr)-1)/(len(y_train_lr)-X_train_lr.shape[1]-1)\n",
    "print('Adjusted R-Squared for training set is {}'.format(adjusted_r_squared_train_lr))"
   ]
  },
  {
   "cell_type": "code",
   "execution_count": 0,
   "metadata": {
    "colab": {
     "base_uri": "https://localhost:8080/"
    },
    "colab_type": "code",
    "id": "U868BZlvuBq3",
    "outputId": "c1d742d8-9b04-4e49-9053-d22c9d269011"
   },
   "outputs": [
    {
     "name": "stdout",
     "output_type": "stream",
     "text": [
      "Adjusted R-Squared for testing set is 0.012202865306258026\n"
     ]
    }
   ],
   "source": [
    "adjusted_r_squared_test_lr = 1 - (1-r_squared_test_lr)*(len(y_test_lr)-1)/(len(y_test_lr)-X_test_lr.shape[1]-1)\n",
    "print('Adjusted R-Squared for testing set is {}'.format(adjusted_r_squared_test_lr))"
   ]
  },
  {
   "cell_type": "markdown",
   "metadata": {
    "colab_type": "text",
    "id": "hRjBYMRcuBq5"
   },
   "source": [
    " <a id=section60103></a>\n",
    "### 6.1.3 Using GridSearchCV"
   ]
  },
  {
   "cell_type": "markdown",
   "metadata": {
    "colab_type": "text",
    "id": "3sZbZRs-uBq5"
   },
   "source": [
    " <a id=section6010301></a>\n",
    "#### 6.1.3.1 Building Model and Prediction"
   ]
  },
  {
   "cell_type": "code",
   "execution_count": 0,
   "metadata": {
    "colab": {
     "base_uri": "https://localhost:8080/"
    },
    "colab_type": "code",
    "id": "KmcHP_MnuBq6",
    "outputId": "df9e5744-2c4e-4c5e-944f-6020b62c13c2"
   },
   "outputs": [
    {
     "data": {
      "text/plain": [
       "GridSearchCV(cv=10, error_score=nan,\n",
       "             estimator=LinearRegression(copy_X=True, fit_intercept=True,\n",
       "                                        n_jobs=None, normalize=False),\n",
       "             iid='deprecated', n_jobs=None,\n",
       "             param_grid={'copy_X': [True, False], 'normalize': [True, False]},\n",
       "             pre_dispatch='2*n_jobs', refit=True, return_train_score=False,\n",
       "             scoring=make_scorer(rmse_scorer, greater_is_better=False),\n",
       "             verbose=0)"
      ]
     },
     "execution_count": 357,
     "metadata": {
      "tags": []
     },
     "output_type": "execute_result"
    }
   ],
   "source": [
    "linreg_gs = linear_reg(True)\n",
    "linreg_gs.fit(X_train_lr,y_train_lr)"
   ]
  },
  {
   "cell_type": "code",
   "execution_count": 0,
   "metadata": {
    "colab": {
     "base_uri": "https://localhost:8080/"
    },
    "colab_type": "code",
    "id": "qUfOL9LfuBq9",
    "outputId": "f854f38c-3c3e-4b67-d2da-64b6c4348da5"
   },
   "outputs": [
    {
     "name": "stdout",
     "output_type": "stream",
     "text": [
      "best_params after cross-validation :  {'copy_X': True, 'normalize': True}\n"
     ]
    }
   ],
   "source": [
    "print(\"best_params after cross-validation : \", linreg_gs.best_params_)   "
   ]
  },
  {
   "cell_type": "code",
   "execution_count": 0,
   "metadata": {
    "colab": {},
    "colab_type": "code",
    "id": "k802esjNuBq_"
   },
   "outputs": [],
   "source": [
    " # make predictions on the training set\n",
    "y_pred_train_lr_gs = linreg_gs.predict(X_train_lr) "
   ]
  },
  {
   "cell_type": "code",
   "execution_count": 0,
   "metadata": {
    "colab": {},
    "colab_type": "code",
    "id": "b29Eu33yuBrB"
   },
   "outputs": [],
   "source": [
    " # make predictions on the testing set\n",
    "y_pred_test_lr_gs = linreg_gs.predict(X_test_lr)  "
   ]
  },
  {
   "cell_type": "markdown",
   "metadata": {
    "colab_type": "text",
    "id": "yO_jkHgbuBrD"
   },
   "source": [
    " <a id=section6010302></a>\n",
    "#### 6.1.3.2 Model Evaluation"
   ]
  },
  {
   "cell_type": "markdown",
   "metadata": {
    "colab_type": "text",
    "id": "bIZg4h35uBrD"
   },
   "source": [
    "#### a. RMSE\n"
   ]
  },
  {
   "cell_type": "code",
   "execution_count": 0,
   "metadata": {
    "colab": {
     "base_uri": "https://localhost:8080/"
    },
    "colab_type": "code",
    "id": "XCeohDueuBrE",
    "outputId": "a1663d4a-22b9-4147-e172-a4092e10d82b"
   },
   "outputs": [
    {
     "name": "stdout",
     "output_type": "stream",
     "text": [
      "RMSE for training set is 2501622.7567933267\n",
      "RMSE for testing set is 3762343.023659724\n"
     ]
    }
   ],
   "source": [
    "from sklearn import metrics\n",
    "RMSE_train = np.sqrt( metrics.mean_squared_error(y_train_lr, y_pred_train_lr_gs))\n",
    "print('RMSE for training set is {}'.format(RMSE_train))\n",
    "RMSE_MAP['lr_train_gs'] = RMSE_train\n",
    "\n",
    "RMSE_test = np.sqrt( metrics.mean_squared_error(y_test_lr, y_pred_test_lr_gs))\n",
    "print('RMSE for testing set is {}'.format(RMSE_test))\n",
    "RMSE_MAP['lr_test_gs'] = RMSE_test"
   ]
  },
  {
   "cell_type": "markdown",
   "metadata": {
    "colab_type": "text",
    "id": "rXSjndu7uBrG"
   },
   "source": [
    "#### b. MAPE\n"
   ]
  },
  {
   "cell_type": "code",
   "execution_count": 0,
   "metadata": {
    "colab": {
     "base_uri": "https://localhost:8080/"
    },
    "colab_type": "code",
    "id": "ThPzEHuWuBrJ",
    "outputId": "e3b81094-41aa-4f6d-a256-059c8d964659"
   },
   "outputs": [
    {
     "name": "stdout",
     "output_type": "stream",
     "text": [
      "MAPE for training set is inf\n",
      "MAPE for testing set is inf\n"
     ]
    }
   ],
   "source": [
    "mape_train_error = mean_absolute_percentage_error(y_train_lr, y_pred_train_lr_gs)\n",
    "mape_test_error = mean_absolute_percentage_error(y_test_lr, y_pred_test_lr_gs)\n",
    "print('MAPE for training set is {}'.format(mape_train_error))\n",
    "print('MAPE for testing set is {}'.format(mape_test_error))"
   ]
  },
  {
   "cell_type": "markdown",
   "metadata": {
    "colab_type": "text",
    "id": "XDKXxYr3uBrO"
   },
   "source": [
    "#### c. R-Squared Error"
   ]
  },
  {
   "cell_type": "code",
   "execution_count": 0,
   "metadata": {
    "colab": {
     "base_uri": "https://localhost:8080/"
    },
    "colab_type": "code",
    "id": "ZKlq2y6LuBrO",
    "outputId": "2374ef17-5e99-4758-bfcd-73db234c673b"
   },
   "outputs": [
    {
     "name": "stdout",
     "output_type": "stream",
     "text": [
      "R-Squared for training set is 0.5933754021223856\n"
     ]
    }
   ],
   "source": [
    "from sklearn.metrics import r2_score\n",
    "\n",
    "r_squared_train_lr_gs = r2_score(y_train_lr,y_pred_train_lr_gs )\n",
    "print('R-Squared for training set is {}'.format(r_squared_train_lr_gs))"
   ]
  },
  {
   "cell_type": "code",
   "execution_count": 0,
   "metadata": {
    "colab": {
     "base_uri": "https://localhost:8080/"
    },
    "colab_type": "code",
    "id": "qZtOM0O6uBrR",
    "outputId": "58b2d8dd-faef-4383-c8e2-bbf50e046d33"
   },
   "outputs": [
    {
     "name": "stdout",
     "output_type": "stream",
     "text": [
      "R-Squared for testing set is 0.013545836301297909\n"
     ]
    }
   ],
   "source": [
    "r_squared_test_lr_gs = r2_score(y_test_lr,y_pred_test_lr_gs )\n",
    "print('R-Squared for testing set is {}'.format(r_squared_test_lr_gs))"
   ]
  },
  {
   "cell_type": "markdown",
   "metadata": {
    "colab_type": "text",
    "id": "HleW9XkQuBrV"
   },
   "source": [
    "#### d. Adjusted R-Squared Error"
   ]
  },
  {
   "cell_type": "code",
   "execution_count": 0,
   "metadata": {
    "colab": {
     "base_uri": "https://localhost:8080/"
    },
    "colab_type": "code",
    "id": "OxbwTL-xuBrV",
    "outputId": "8fe6e76c-33b8-48ca-8139-8eb489e9b1ff",
    "scrolled": true
   },
   "outputs": [
    {
     "name": "stdout",
     "output_type": "stream",
     "text": [
      "Adjusted R-Squared for training set is 0.5931383334698435\n"
     ]
    }
   ],
   "source": [
    "adjusted_r_squared_train_lr_gs = 1 - (1-r_squared_train_lr_gs)*(len(y_train_lr)-1)/(len(y_train_lr)-X_train_lr.shape[1]-1)\n",
    "print('Adjusted R-Squared for training set is {}'.format(adjusted_r_squared_train_lr_gs))"
   ]
  },
  {
   "cell_type": "code",
   "execution_count": 0,
   "metadata": {
    "colab": {
     "base_uri": "https://localhost:8080/"
    },
    "colab_type": "code",
    "id": "R2MVzrtSuBrX",
    "outputId": "ff0dcf18-2510-406c-b941-807c2aa4017b"
   },
   "outputs": [
    {
     "name": "stdout",
     "output_type": "stream",
     "text": [
      "Adjusted R-Squared for testing set is 0.012202865306260358\n"
     ]
    }
   ],
   "source": [
    "adjusted_r_squared_test_lr_gs = 1 - (1-r_squared_test_lr_gs)*(len(y_test_lr)-1)/(len(y_test_lr)-X_test_lr.shape[1]-1)\n",
    "print('Adjusted R-Squared for testing set is {}'.format(adjusted_r_squared_test_lr_gs))"
   ]
  },
  {
   "cell_type": "markdown",
   "metadata": {
    "colab_type": "text",
    "id": "bVSfvFgxuBra"
   },
   "source": [
    " <a id=section60104></a>\n",
    "### 6.1.4 Using RandomSearchCV"
   ]
  },
  {
   "cell_type": "markdown",
   "metadata": {
    "colab_type": "text",
    "id": "CQGe49m6uBrb"
   },
   "source": [
    " <a id=section6010401></a>\n",
    "#### 6.1.4.1 Building Model and Prediction"
   ]
  },
  {
   "cell_type": "code",
   "execution_count": 0,
   "metadata": {
    "colab": {
     "base_uri": "https://localhost:8080/"
    },
    "colab_type": "code",
    "id": "tocdyXKcuBrc",
    "outputId": "0921032f-40fb-496e-e444-1d955dc93783"
   },
   "outputs": [
    {
     "data": {
      "text/plain": [
       "RandomizedSearchCV(cv=10, error_score=nan,\n",
       "                   estimator=LinearRegression(copy_X=True, fit_intercept=True,\n",
       "                                              n_jobs=None, normalize=False),\n",
       "                   iid='deprecated', n_iter=10, n_jobs=None,\n",
       "                   param_distributions={'copy_X': [True, False],\n",
       "                                        'normalize': [True, False]},\n",
       "                   pre_dispatch='2*n_jobs', random_state=None, refit=True,\n",
       "                   return_train_score=False,\n",
       "                   scoring=make_scorer(rmse_scorer, greater_is_better=False),\n",
       "                   verbose=0)"
      ]
     },
     "execution_count": 367,
     "metadata": {
      "tags": []
     },
     "output_type": "execute_result"
    }
   ],
   "source": [
    "linreg_rs = linear_reg(False)\n",
    "linreg_rs.fit(X_train_lr,y_train_lr)"
   ]
  },
  {
   "cell_type": "code",
   "execution_count": 0,
   "metadata": {
    "colab": {
     "base_uri": "https://localhost:8080/"
    },
    "colab_type": "code",
    "id": "o7eCDNnCuBrg",
    "outputId": "9c1c06a2-84db-48f9-8e98-9358cb394221"
   },
   "outputs": [
    {
     "name": "stdout",
     "output_type": "stream",
     "text": [
      "best_params after cross-validation :  {'normalize': True, 'copy_X': True}\n"
     ]
    }
   ],
   "source": [
    "print(\"best_params after cross-validation : \", linreg_rs.best_params_)   "
   ]
  },
  {
   "cell_type": "code",
   "execution_count": 0,
   "metadata": {
    "colab": {},
    "colab_type": "code",
    "id": "1uPpT2pmuBri"
   },
   "outputs": [],
   "source": [
    " # make predictions on the training set\n",
    "y_pred_train_lr_rs = linreg_rs.predict(X_train_lr) "
   ]
  },
  {
   "cell_type": "code",
   "execution_count": 0,
   "metadata": {
    "colab": {},
    "colab_type": "code",
    "id": "QRloa3ieuBrj"
   },
   "outputs": [],
   "source": [
    " # make predictions on the testing set\n",
    "y_pred_test_lr_rs = linreg_rs.predict(X_test_lr)  "
   ]
  },
  {
   "cell_type": "markdown",
   "metadata": {
    "colab_type": "text",
    "id": "aokgIekOuBrl"
   },
   "source": [
    " <a id=section6010402></a>\n",
    "#### 6.1.4.2 Model Evaluation"
   ]
  },
  {
   "cell_type": "markdown",
   "metadata": {
    "colab_type": "text",
    "id": "SOSYQ0ejuBrm"
   },
   "source": [
    "#### a. RMSE\n"
   ]
  },
  {
   "cell_type": "code",
   "execution_count": 0,
   "metadata": {
    "colab": {
     "base_uri": "https://localhost:8080/"
    },
    "colab_type": "code",
    "id": "ruYJMd45uBrm",
    "outputId": "ec1c65fc-bbc3-4176-e65f-257921d7bb78"
   },
   "outputs": [
    {
     "name": "stdout",
     "output_type": "stream",
     "text": [
      "RMSE for training set is 2501622.7567933267\n",
      "RMSE for testing set is 3762343.023659724\n"
     ]
    }
   ],
   "source": [
    "from sklearn import metrics\n",
    "RMSE_train = np.sqrt( metrics.mean_squared_error(y_train_lr, y_pred_train_lr_rs))\n",
    "print('RMSE for training set is {}'.format(RMSE_train))\n",
    "RMSE_MAP['lr_train_rs'] = RMSE_train\n",
    "\n",
    "RMSE_test = np.sqrt( metrics.mean_squared_error(y_test_lr, y_pred_test_lr_rs))\n",
    "print('RMSE for testing set is {}'.format(RMSE_test))\n",
    "RMSE_MAP['lr_test_rs'] = RMSE_test"
   ]
  },
  {
   "cell_type": "markdown",
   "metadata": {
    "colab_type": "text",
    "id": "h497xmeZuBrn"
   },
   "source": [
    "#### b. MAPE\n"
   ]
  },
  {
   "cell_type": "code",
   "execution_count": 0,
   "metadata": {
    "colab": {
     "base_uri": "https://localhost:8080/"
    },
    "colab_type": "code",
    "id": "aSiiyiYwuBrn",
    "outputId": "5bce4111-be74-40c4-e13f-4f8010adce14"
   },
   "outputs": [
    {
     "name": "stdout",
     "output_type": "stream",
     "text": [
      "MAPE for training set is inf\n",
      "MAPE for testing set is inf\n"
     ]
    }
   ],
   "source": [
    "mape_train_error = mean_absolute_percentage_error(y_train_lr, y_pred_train_lr_rs)\n",
    "mape_test_error = mean_absolute_percentage_error(y_test_lr, y_pred_test_lr_rs)\n",
    "print('MAPE for training set is {}'.format(mape_train_error))\n",
    "print('MAPE for testing set is {}'.format(mape_test_error))"
   ]
  },
  {
   "cell_type": "markdown",
   "metadata": {
    "colab_type": "text",
    "id": "ZamyNRnFuBrp"
   },
   "source": [
    "#### c. R-Squared Error"
   ]
  },
  {
   "cell_type": "code",
   "execution_count": 0,
   "metadata": {
    "colab": {
     "base_uri": "https://localhost:8080/"
    },
    "colab_type": "code",
    "id": "nPifuD7ruBrp",
    "outputId": "8374c564-f75c-43a5-f40a-9e4504740c0f"
   },
   "outputs": [
    {
     "name": "stdout",
     "output_type": "stream",
     "text": [
      "R-Squared for training set is 0.5933754021223856\n"
     ]
    }
   ],
   "source": [
    "from sklearn.metrics import r2_score\n",
    "\n",
    "r_squared_train_lr_rs = r2_score(y_train_lr,y_pred_train_lr_rs )\n",
    "print('R-Squared for training set is {}'.format(r_squared_train_lr_rs))"
   ]
  },
  {
   "cell_type": "code",
   "execution_count": 0,
   "metadata": {
    "colab": {
     "base_uri": "https://localhost:8080/"
    },
    "colab_type": "code",
    "id": "89cXNEFkuBrq",
    "outputId": "318b2bad-6923-4f3c-edcd-d3556f0e81e7"
   },
   "outputs": [
    {
     "name": "stdout",
     "output_type": "stream",
     "text": [
      "R-Squared for testing set is 0.013545836301297909\n"
     ]
    }
   ],
   "source": [
    "r_squared_test_lr_rs = r2_score(y_test_lr,y_pred_test_lr_rs )\n",
    "print('R-Squared for testing set is {}'.format(r_squared_test_lr_rs))"
   ]
  },
  {
   "cell_type": "markdown",
   "metadata": {
    "colab_type": "text",
    "id": "_6UCLovcuBrs"
   },
   "source": [
    "#### d. Adjusted R-Squared Error"
   ]
  },
  {
   "cell_type": "code",
   "execution_count": 0,
   "metadata": {
    "colab": {
     "base_uri": "https://localhost:8080/"
    },
    "colab_type": "code",
    "id": "4Y_Nk8n0uBrs",
    "outputId": "dc87117f-1a5d-49d0-e022-67a558876447",
    "scrolled": true
   },
   "outputs": [
    {
     "name": "stdout",
     "output_type": "stream",
     "text": [
      "Adjusted R-Squared for training set is 0.5931383334698435\n"
     ]
    }
   ],
   "source": [
    "adjusted_r_squared_train_lr_rs = 1 - (1-r_squared_train_lr_rs)*(len(y_train_lr)-1)/(len(y_train_lr)-X_train_lr.shape[1]-1)\n",
    "print('Adjusted R-Squared for training set is {}'.format(adjusted_r_squared_train_lr_rs))"
   ]
  },
  {
   "cell_type": "code",
   "execution_count": 0,
   "metadata": {
    "colab": {
     "base_uri": "https://localhost:8080/"
    },
    "colab_type": "code",
    "id": "UpaHyR-euBru",
    "outputId": "e5d1d015-44fa-488f-822d-5f435a6d7c5a"
   },
   "outputs": [
    {
     "name": "stdout",
     "output_type": "stream",
     "text": [
      "Adjusted R-Squared for testing set is 0.012202865306260358\n"
     ]
    }
   ],
   "source": [
    "adjusted_r_squared_test_lr_rs = 1 - (1-r_squared_test_lr_rs)*(len(y_test_lr)-1)/(len(y_test_lr)-X_test_lr.shape[1]-1)\n",
    "print('Adjusted R-Squared for testing set is {}'.format(adjusted_r_squared_test_lr_rs))"
   ]
  },
  {
   "cell_type": "markdown",
   "metadata": {
    "colab_type": "text",
    "id": "mSHd4kupwCjF"
   },
   "source": [
    " <a id=section602></a>\n",
    "## 6.2 Decision Tree"
   ]
  },
  {
   "cell_type": "markdown",
   "metadata": {
    "colab_type": "text",
    "id": "dLYBaWxqwCjG"
   },
   "source": [
    " <a id=section60201></a>\n",
    "### 6.2.1 Using Default Model"
   ]
  },
  {
   "cell_type": "markdown",
   "metadata": {
    "colab_type": "text",
    "id": "1IuVQOV0wCjK"
   },
   "source": [
    "##### Splitting train and test data\n"
   ]
  },
  {
   "cell_type": "code",
   "execution_count": 0,
   "metadata": {
    "colab": {
     "base_uri": "https://localhost:8080/",
     "height": 134
    },
    "colab_type": "code",
    "id": "nw8iX_EFwCjV",
    "outputId": "640c3217-beb5-4516-8d00-8763d86f527f"
   },
   "outputs": [
    {
     "name": "stdout",
     "output_type": "stream",
     "text": [
      "Train cases as below\n",
      "X_train shape:  (54920, 32)\n",
      "y_train shape:  (54920,)\n",
      "\n",
      "Test cases as below\n",
      "X_test shape:  (23538, 32)\n",
      "y_test shape:  (23538,)\n"
     ]
    }
   ],
   "source": [
    "X_train_dt, X_test_dt, y_train_dt, y_test_dt=split(X,y)\n",
    "print('Train cases as below')\n",
    "print('X_train shape: ',X_train_dt.shape)\n",
    "print('y_train shape: ',y_train_dt.shape)\n",
    "print('\\nTest cases as below')\n",
    "print('X_test shape: ',X_test_dt.shape)\n",
    "print('y_test shape: ',y_test_dt.shape)"
   ]
  },
  {
   "cell_type": "markdown",
   "metadata": {
    "colab_type": "text",
    "id": "6q19VBbpwCji"
   },
   "source": [
    " <a id=section6020101></a>\n",
    "#### 6.2.1.1 Building Model and Prediction"
   ]
  },
  {
   "cell_type": "code",
   "execution_count": 0,
   "metadata": {
    "colab": {
     "base_uri": "https://localhost:8080/",
     "height": 118
    },
    "colab_type": "code",
    "id": "3bn-s9sKwCjk",
    "outputId": "6020d7c2-b877-4ce6-b268-95a0d24f371d"
   },
   "outputs": [
    {
     "data": {
      "text/plain": [
       "DecisionTreeRegressor(ccp_alpha=0.0, criterion='mse', max_depth=None,\n",
       "                      max_features=None, max_leaf_nodes=None,\n",
       "                      min_impurity_decrease=0.0, min_impurity_split=None,\n",
       "                      min_samples_leaf=1, min_samples_split=2,\n",
       "                      min_weight_fraction_leaf=0.0, presort='deprecated',\n",
       "                      random_state=None, splitter='best')"
      ]
     },
     "execution_count": 378,
     "metadata": {
      "tags": []
     },
     "output_type": "execute_result"
    }
   ],
   "source": [
    "from sklearn.tree import DecisionTreeRegressor\n",
    "\n",
    "# using default model for building \n",
    "dt_reg = DecisionTreeRegressor()\n",
    "dt_reg.fit(X_train_dt, y_train_dt)"
   ]
  },
  {
   "cell_type": "code",
   "execution_count": 0,
   "metadata": {
    "colab": {},
    "colab_type": "code",
    "id": "yTIZ8rlMwCjx"
   },
   "outputs": [],
   "source": [
    "#prediction on training data\n",
    "y_pred_train_dt = dt_reg.predict(X_train_dt)\n",
    "\n",
    "#prediction on testing data\n",
    "y_pred_test_dt = dt_reg.predict(X_test_dt)"
   ]
  },
  {
   "cell_type": "markdown",
   "metadata": {
    "colab_type": "text",
    "id": "pf3Ya-dpwCj0"
   },
   "source": [
    "<a id=section6020102></a>\n",
    "#### 6.2.1.2 Model Evaluation"
   ]
  },
  {
   "cell_type": "markdown",
   "metadata": {
    "colab_type": "text",
    "id": "ExwnSXLWwCj0"
   },
   "source": [
    "#### a. RMSE\n"
   ]
  },
  {
   "cell_type": "code",
   "execution_count": 0,
   "metadata": {
    "colab": {
     "base_uri": "https://localhost:8080/",
     "height": 50
    },
    "colab_type": "code",
    "id": "wKoSYSNdwCj9",
    "outputId": "d796a695-96e9-454b-df7d-84f8c626b137"
   },
   "outputs": [
    {
     "name": "stdout",
     "output_type": "stream",
     "text": [
      "RMSE for training set is 129676.21851832513\n",
      "RMSE for testing set is 2894203.44790235\n"
     ]
    }
   ],
   "source": [
    "RMSE_train_dt = np.sqrt( metrics.mean_squared_error(y_train_dt, y_pred_train_dt))\n",
    "print('RMSE for training set is {}'.format(RMSE_train_dt))\n",
    "RMSE_MAP['dt_train_d'] = RMSE_train_dt\n",
    "\n",
    "RMSE_test_dt = np.sqrt( metrics.mean_squared_error(y_test_dt, y_pred_test_dt))\n",
    "print('RMSE for testing set is {}'.format(RMSE_test_dt))\n",
    "RMSE_MAP['dt_test_d'] = RMSE_test_dt"
   ]
  },
  {
   "cell_type": "markdown",
   "metadata": {
    "colab_type": "text",
    "id": "7K7zGP55wCkM"
   },
   "source": [
    "#### b. MAPE\n"
   ]
  },
  {
   "cell_type": "code",
   "execution_count": 0,
   "metadata": {
    "colab": {
     "base_uri": "https://localhost:8080/",
     "height": 50
    },
    "colab_type": "code",
    "id": "RlYh5OYpwCkO",
    "outputId": "3c672ff0-aff8-4bbc-d25b-e108d5cbcb01"
   },
   "outputs": [
    {
     "name": "stdout",
     "output_type": "stream",
     "text": [
      "MAPE for training set is nan\n",
      "MAPE for testing set is nan\n"
     ]
    }
   ],
   "source": [
    "mape_train_error = mean_absolute_percentage_error(y_train_dt, y_pred_train_dt)\n",
    "mape_test_error = mean_absolute_percentage_error(y_test_dt, y_pred_test_dt)\n",
    "print('MAPE for training set is {}'.format(mape_train_error))\n",
    "print('MAPE for testing set is {}'.format(mape_test_error))"
   ]
  },
  {
   "cell_type": "markdown",
   "metadata": {
    "colab_type": "text",
    "id": "JN5aY5WYwCkT"
   },
   "source": [
    "#### c. R-Squared Error"
   ]
  },
  {
   "cell_type": "code",
   "execution_count": 0,
   "metadata": {
    "colab": {
     "base_uri": "https://localhost:8080/",
     "height": 34
    },
    "colab_type": "code",
    "id": "n5mfOc70wCkU",
    "outputId": "406fe49a-7685-4ac0-cf64-e39439f45aef"
   },
   "outputs": [
    {
     "name": "stdout",
     "output_type": "stream",
     "text": [
      "R-Squared for training set is 0.9989073761300375\n"
     ]
    }
   ],
   "source": [
    "r_squared_train_dt = r2_score(y_train_dt,y_pred_train_dt )\n",
    "print('R-Squared for training set is {}'.format(r_squared_train_dt))"
   ]
  },
  {
   "cell_type": "code",
   "execution_count": 0,
   "metadata": {
    "colab": {
     "base_uri": "https://localhost:8080/",
     "height": 34
    },
    "colab_type": "code",
    "id": "n4PY6JCuwCkZ",
    "outputId": "999eb4a2-f062-4cd9-c545-58aa87ba2f9f"
   },
   "outputs": [
    {
     "name": "stdout",
     "output_type": "stream",
     "text": [
      "R-Squared for testing set is 0.416261623937242\n"
     ]
    }
   ],
   "source": [
    "r_squared_test_dt = r2_score(y_test_dt,y_pred_test_dt )\n",
    "print('R-Squared for testing set is {}'.format(r_squared_test_dt))"
   ]
  },
  {
   "cell_type": "markdown",
   "metadata": {
    "colab_type": "text",
    "id": "Mcsj_99dwCkd"
   },
   "source": [
    "#### d. Adjusted R-Squared Error"
   ]
  },
  {
   "cell_type": "code",
   "execution_count": 0,
   "metadata": {
    "colab": {
     "base_uri": "https://localhost:8080/",
     "height": 34
    },
    "colab_type": "code",
    "id": "Xo-OLL6FwCkd",
    "outputId": "d501d644-65da-4698-ed71-2de44913c7bf",
    "scrolled": true
   },
   "outputs": [
    {
     "name": "stdout",
     "output_type": "stream",
     "text": [
      "Adjusted R-Squared for training set is 0.9989067391128233\n"
     ]
    }
   ],
   "source": [
    "adjusted_r_squared_train_dt = 1 - (1-r_squared_train_dt)*(len(y_train_dt)-1)/(len(y_train_dt)-X_train_dt.shape[1]-1)\n",
    "print('Adjusted R-Squared for training set is {}'.format(adjusted_r_squared_train_dt))"
   ]
  },
  {
   "cell_type": "code",
   "execution_count": 0,
   "metadata": {
    "colab": {
     "base_uri": "https://localhost:8080/",
     "height": 34
    },
    "colab_type": "code",
    "id": "Rsz95ztUwCkf",
    "outputId": "5b54534a-6d7d-4ca9-d441-7f7c424fa00c"
   },
   "outputs": [
    {
     "name": "stdout",
     "output_type": "stream",
     "text": [
      "Adjusted R-Squared for testing set is 0.4154669152355186\n"
     ]
    }
   ],
   "source": [
    "adjusted_r_squared_test_dt = 1 - (1-r_squared_test_dt)*(len(y_test_dt)-1)/(len(y_test_dt)-X_train_dt.shape[1]-1)\n",
    "print('Adjusted R-Squared for testing set is {}'.format(adjusted_r_squared_test_dt))"
   ]
  },
  {
   "cell_type": "markdown",
   "metadata": {
    "colab_type": "text",
    "id": "GeQe_MQdwCkh"
   },
   "source": [
    " <a id=section60202></a>\n",
    "### 6.2.2 Using GridSearchCV"
   ]
  },
  {
   "cell_type": "markdown",
   "metadata": {
    "colab_type": "text",
    "id": "MaAF2bN2wCkk"
   },
   "source": [
    " <a id=section6020201></a>\n",
    "#### 6.2.2.1 Building Model and Prediction"
   ]
  },
  {
   "cell_type": "code",
   "execution_count": 0,
   "metadata": {
    "colab": {},
    "colab_type": "code",
    "id": "KCraGlBrwCkl"
   },
   "outputs": [],
   "source": [
    "from sklearn.model_selection import GridSearchCV"
   ]
  },
  {
   "cell_type": "code",
   "execution_count": 0,
   "metadata": {
    "colab": {},
    "colab_type": "code",
    "id": "OPn-BRYjwCkt"
   },
   "outputs": [],
   "source": [
    "# Number of features to consider at every split\n",
    "max_features = ['auto', 'sqrt']\n",
    "# Maximum number of levels in tree\n",
    "max_depth = [int(x) for x in np.linspace(10, 110, num = 11)]\n",
    "max_depth.append(None)\n",
    "# Minimum number of samples required to split a node\n",
    "min_samples_split = [2, 5, 10]\n",
    "# Minimum number of samples required at each leaf node\n",
    "min_samples_leaf = [1, 2, 4]\n",
    "# Method of selecting samples for training each tree\n",
    "bootstrap = [True, False]\n",
    "\n",
    "# Create the random grid\n",
    "param_grid = {\n",
    "               'max_features': max_features,\n",
    "               'max_depth': max_depth,\n",
    "               'min_samples_split': min_samples_split,\n",
    "               'min_samples_leaf': min_samples_leaf\n",
    "               \n",
    "}"
   ]
  },
  {
   "cell_type": "code",
   "execution_count": 0,
   "metadata": {
    "colab": {},
    "colab_type": "code",
    "id": "cC-BaBqOwCk0"
   },
   "outputs": [],
   "source": [
    "# Instantiate the grid search model\n",
    "dt_reg_gs = GridSearchCV(estimator = dt_reg, param_grid = param_grid, \n",
    "                          cv = 3, n_jobs = -1, scoring = my_scorer, verbose = 2)"
   ]
  },
  {
   "cell_type": "code",
   "execution_count": 0,
   "metadata": {
    "colab": {
     "base_uri": "https://localhost:8080/",
     "height": 454
    },
    "colab_type": "code",
    "id": "EVfA_dnXwCk8",
    "outputId": "7341ba63-4eb4-428e-c5c7-5c5fa9b51b51",
    "scrolled": true
   },
   "outputs": [
    {
     "name": "stdout",
     "output_type": "stream",
     "text": [
      "Fitting 3 folds for each of 216 candidates, totalling 648 fits\n"
     ]
    },
    {
     "name": "stderr",
     "output_type": "stream",
     "text": [
      "[Parallel(n_jobs=-1)]: Using backend LokyBackend with 2 concurrent workers.\n",
      "[Parallel(n_jobs=-1)]: Done  37 tasks      | elapsed:    4.2s\n",
      "[Parallel(n_jobs=-1)]: Done 276 tasks      | elapsed:   25.7s\n",
      "[Parallel(n_jobs=-1)]: Done 648 out of 648 | elapsed:  1.0min finished\n"
     ]
    },
    {
     "data": {
      "text/plain": [
       "GridSearchCV(cv=3, error_score=nan,\n",
       "             estimator=DecisionTreeRegressor(ccp_alpha=0.0, criterion='mse',\n",
       "                                             max_depth=None, max_features=None,\n",
       "                                             max_leaf_nodes=None,\n",
       "                                             min_impurity_decrease=0.0,\n",
       "                                             min_impurity_split=None,\n",
       "                                             min_samples_leaf=1,\n",
       "                                             min_samples_split=2,\n",
       "                                             min_weight_fraction_leaf=0.0,\n",
       "                                             presort='deprecated',\n",
       "                                             random_state=None,\n",
       "                                             splitter='best'),\n",
       "             iid='deprecated', n_jobs=-1,\n",
       "             param_grid={'max_depth': [10, 20, 30, 40, 50, 60, 70, 80, 90, 100,\n",
       "                                       110, None],\n",
       "                         'max_features': ['auto', 'sqrt'],\n",
       "                         'min_samples_leaf': [1, 2, 4],\n",
       "                         'min_samples_split': [2, 5, 10]},\n",
       "             pre_dispatch='2*n_jobs', refit=True, return_train_score=False,\n",
       "             scoring=make_scorer(rmse_scorer, greater_is_better=False),\n",
       "             verbose=2)"
      ]
     },
     "execution_count": 389,
     "metadata": {
      "tags": []
     },
     "output_type": "execute_result"
    }
   ],
   "source": [
    "dt_reg_gs.fit(X_train_dt, y_train_dt)"
   ]
  },
  {
   "cell_type": "code",
   "execution_count": 0,
   "metadata": {
    "colab": {},
    "colab_type": "code",
    "id": "2miZetsUwClI"
   },
   "outputs": [],
   "source": [
    "#prediction on training data\n",
    "y_pred_train_dt_gs = dt_reg_gs.predict(X_train_dt)\n",
    "\n",
    "#prediction on testing data\n",
    "y_pred_test_dt_gs = dt_reg_gs.predict(X_test_dt)"
   ]
  },
  {
   "cell_type": "markdown",
   "metadata": {
    "colab_type": "text",
    "id": "P6qSX9bxwClV"
   },
   "source": [
    "<a id=section6020202></a>\n",
    "#### 6.2.2.2 Model Evaluation"
   ]
  },
  {
   "cell_type": "markdown",
   "metadata": {
    "colab_type": "text",
    "id": "l4-mjUWnwClW"
   },
   "source": [
    "#### a. RMSE\n"
   ]
  },
  {
   "cell_type": "code",
   "execution_count": 0,
   "metadata": {
    "colab": {
     "base_uri": "https://localhost:8080/",
     "height": 50
    },
    "colab_type": "code",
    "id": "Jrs0eficwClX",
    "outputId": "b54d4ef5-4bfa-4d41-bd42-fe9455effca1"
   },
   "outputs": [
    {
     "name": "stdout",
     "output_type": "stream",
     "text": [
      "RMSE for training set is 1810722.3350111088\n",
      "RMSE for testing set is 2860718.3055057875\n"
     ]
    }
   ],
   "source": [
    "RMSE_train_dt_gs = np.sqrt( metrics.mean_squared_error(y_train_dt, y_pred_train_dt_gs))\n",
    "print('RMSE for training set is {}'.format(RMSE_train_dt_gs))\n",
    "RMSE_MAP['dt_train_gs'] = RMSE_train_dt_gs\n",
    "\n",
    "RMSE_test_dt_gs = np.sqrt( metrics.mean_squared_error(y_test_dt, y_pred_test_dt_gs))\n",
    "print('RMSE for testing set is {}'.format(RMSE_test_dt_gs))\n",
    "RMSE_MAP['dt_test_gs'] = RMSE_test_dt_gs"
   ]
  },
  {
   "cell_type": "markdown",
   "metadata": {
    "colab_type": "text",
    "id": "KBG4WQV5wClk"
   },
   "source": [
    "#### b. MAPE\n"
   ]
  },
  {
   "cell_type": "code",
   "execution_count": 0,
   "metadata": {
    "colab": {
     "base_uri": "https://localhost:8080/",
     "height": 50
    },
    "colab_type": "code",
    "id": "W0CV11PAwCln",
    "outputId": "da0e05af-0d17-43be-e485-0b73d3869b43"
   },
   "outputs": [
    {
     "name": "stdout",
     "output_type": "stream",
     "text": [
      "MAPE for training set is inf\n",
      "MAPE for testing set is inf\n"
     ]
    }
   ],
   "source": [
    "mape_train_error = mean_absolute_percentage_error(y_train_dt, y_pred_train_dt_gs)\n",
    "mape_test_error = mean_absolute_percentage_error(y_test_dt, y_pred_test_dt_gs)\n",
    "print('MAPE for training set is {}'.format(mape_train_error))\n",
    "print('MAPE for testing set is {}'.format(mape_test_error))"
   ]
  },
  {
   "cell_type": "markdown",
   "metadata": {
    "colab_type": "text",
    "id": "ptQVn3uhwCmk"
   },
   "source": [
    "#### c. R-Squared Error"
   ]
  },
  {
   "cell_type": "code",
   "execution_count": 0,
   "metadata": {
    "colab": {
     "base_uri": "https://localhost:8080/",
     "height": 34
    },
    "colab_type": "code",
    "id": "8EpWCu7GwCmp",
    "outputId": "2d7ee90d-efdf-4e0a-ec7d-f17aa0f5364d"
   },
   "outputs": [
    {
     "name": "stdout",
     "output_type": "stream",
     "text": [
      "R-Squared for training set is 0.7869636434011292\n"
     ]
    }
   ],
   "source": [
    "r_squared_train_dt_gs = r2_score(y_train_dt,y_pred_train_dt_gs )\n",
    "print('R-Squared for training set is {}'.format(r_squared_train_dt_gs))"
   ]
  },
  {
   "cell_type": "code",
   "execution_count": 0,
   "metadata": {
    "colab": {
     "base_uri": "https://localhost:8080/",
     "height": 34
    },
    "colab_type": "code",
    "id": "JTIuCC2owCmr",
    "outputId": "96958d23-c8e8-4ad6-cb35-4becc7a40bc8"
   },
   "outputs": [
    {
     "name": "stdout",
     "output_type": "stream",
     "text": [
      "R-Squared for testing set is 0.42969087229692027\n"
     ]
    }
   ],
   "source": [
    "r_squared_test_dt_gs = r2_score(y_test_dt,y_pred_test_dt_gs )\n",
    "print('R-Squared for testing set is {}'.format(r_squared_test_dt_gs))"
   ]
  },
  {
   "cell_type": "markdown",
   "metadata": {
    "colab_type": "text",
    "id": "GljurFQZwCm5"
   },
   "source": [
    "#### d. Adjusted R-Squared Error"
   ]
  },
  {
   "cell_type": "code",
   "execution_count": 0,
   "metadata": {
    "colab": {
     "base_uri": "https://localhost:8080/",
     "height": 34
    },
    "colab_type": "code",
    "id": "EH0XVHmcwCm6",
    "outputId": "10d7edd9-aa54-4f3d-eeef-632d417a658e",
    "scrolled": true
   },
   "outputs": [
    {
     "name": "stdout",
     "output_type": "stream",
     "text": [
      "Adjusted R-Squared for training set is 0.7868394397935142\n"
     ]
    }
   ],
   "source": [
    "adjusted_r_squared_train_dt_gs = 1 - (1-r_squared_train_dt_gs)*(len(y_train_dt)-1)/(len(y_train_dt)-X_train_dt.shape[1]-1)\n",
    "print('Adjusted R-Squared for training set is {}'.format(adjusted_r_squared_train_dt_gs))"
   ]
  },
  {
   "cell_type": "code",
   "execution_count": 0,
   "metadata": {
    "colab": {
     "base_uri": "https://localhost:8080/",
     "height": 34
    },
    "colab_type": "code",
    "id": "4pVUi0m-wCnJ",
    "outputId": "fc9b7e56-8452-4cd2-d6c8-e63bbfd058ed"
   },
   "outputs": [
    {
     "name": "stdout",
     "output_type": "stream",
     "text": [
      "Adjusted R-Squared for testing set is 0.42891444634131515\n"
     ]
    }
   ],
   "source": [
    "adjusted_r_squared_test_dt_gs = 1 - (1-r_squared_test_dt_gs)*(len(y_test_dt)-1)/(len(y_test_dt)-X_train_dt.shape[1]-1)\n",
    "print('Adjusted R-Squared for testing set is {}'.format(adjusted_r_squared_test_dt_gs))"
   ]
  },
  {
   "cell_type": "markdown",
   "metadata": {
    "colab_type": "text",
    "id": "wurrff8bwCnW"
   },
   "source": [
    " <a id=section60203></a>\n",
    "### 6.2.3 Using RandomizedSearchCV"
   ]
  },
  {
   "cell_type": "markdown",
   "metadata": {
    "colab_type": "text",
    "id": "aL-SRwCAwCnX"
   },
   "source": [
    " <a id=section6020301></a>\n",
    "#### 6.2.3.1 Building Model and Prediction"
   ]
  },
  {
   "cell_type": "code",
   "execution_count": 0,
   "metadata": {
    "colab": {},
    "colab_type": "code",
    "id": "UyjFY25iwCnZ"
   },
   "outputs": [],
   "source": [
    "# Number of features to consider at every split\n",
    "max_features = ['auto', 'sqrt']\n",
    "# Maximum number of levels in tree\n",
    "max_depth = [int(x) for x in np.linspace(10, 110, num = 11)]\n",
    "max_depth.append(None)\n",
    "# Minimum number of samples required to split a node\n",
    "min_samples_split = [2, 5, 10]\n",
    "# Minimum number of samples required at each leaf node\n",
    "min_samples_leaf = [1, 2, 4]\n",
    "\n",
    "\n",
    "# Create the random grid\n",
    "random_grid = {\n",
    "               'max_features': max_features,\n",
    "               'max_depth': max_depth,\n",
    "               'min_samples_split': min_samples_split,\n",
    "               'min_samples_leaf': min_samples_leaf\n",
    "               \n",
    "}\n"
   ]
  },
  {
   "cell_type": "code",
   "execution_count": 0,
   "metadata": {
    "colab": {},
    "colab_type": "code",
    "id": "aqFaKL59wCnf"
   },
   "outputs": [],
   "source": [
    "# Instantiate the random search model\n",
    "dt_reg_rs = RandomizedSearchCV(estimator = dt_reg, param_distributions = random_grid, n_iter = 100, cv = 3, \n",
    "                               verbose=2, random_state=42, scoring = my_scorer, n_jobs = -1)"
   ]
  },
  {
   "cell_type": "code",
   "execution_count": 0,
   "metadata": {
    "colab": {
     "base_uri": "https://localhost:8080/",
     "height": 521
    },
    "colab_type": "code",
    "id": "M1ibzOb6wCn5",
    "outputId": "83500422-8bef-42fc-ce56-5354913ee9a3",
    "scrolled": true
   },
   "outputs": [
    {
     "name": "stderr",
     "output_type": "stream",
     "text": [
      "[Parallel(n_jobs=-1)]: Using backend LokyBackend with 2 concurrent workers.\n"
     ]
    },
    {
     "name": "stdout",
     "output_type": "stream",
     "text": [
      "Fitting 3 folds for each of 100 candidates, totalling 300 fits\n"
     ]
    },
    {
     "name": "stderr",
     "output_type": "stream",
     "text": [
      "[Parallel(n_jobs=-1)]: Done  37 tasks      | elapsed:    3.4s\n",
      "[Parallel(n_jobs=-1)]: Done 158 tasks      | elapsed:   15.1s\n",
      "[Parallel(n_jobs=-1)]: Done 300 out of 300 | elapsed:   29.3s finished\n"
     ]
    },
    {
     "data": {
      "text/plain": [
       "RandomizedSearchCV(cv=3, error_score=nan,\n",
       "                   estimator=DecisionTreeRegressor(ccp_alpha=0.0,\n",
       "                                                   criterion='mse',\n",
       "                                                   max_depth=None,\n",
       "                                                   max_features=None,\n",
       "                                                   max_leaf_nodes=None,\n",
       "                                                   min_impurity_decrease=0.0,\n",
       "                                                   min_impurity_split=None,\n",
       "                                                   min_samples_leaf=1,\n",
       "                                                   min_samples_split=2,\n",
       "                                                   min_weight_fraction_leaf=0.0,\n",
       "                                                   presort='deprecated',\n",
       "                                                   random_state=None,\n",
       "                                                   splitter='best'),\n",
       "                   iid='deprecated', n_iter=100, n_jobs=-1,\n",
       "                   param_distributions={'max_depth': [10, 20, 30, 40, 50, 60,\n",
       "                                                      70, 80, 90, 100, 110,\n",
       "                                                      None],\n",
       "                                        'max_features': ['auto', 'sqrt'],\n",
       "                                        'min_samples_leaf': [1, 2, 4],\n",
       "                                        'min_samples_split': [2, 5, 10]},\n",
       "                   pre_dispatch='2*n_jobs', random_state=42, refit=True,\n",
       "                   return_train_score=False,\n",
       "                   scoring=make_scorer(rmse_scorer, greater_is_better=False),\n",
       "                   verbose=2)"
      ]
     },
     "execution_count": 399,
     "metadata": {
      "tags": []
     },
     "output_type": "execute_result"
    }
   ],
   "source": [
    "dt_reg_rs.fit(X_train_dt, y_train_dt)"
   ]
  },
  {
   "cell_type": "code",
   "execution_count": 0,
   "metadata": {
    "colab": {},
    "colab_type": "code",
    "id": "6gwqupCJwCoO"
   },
   "outputs": [],
   "source": [
    "#prediction on training data\n",
    "y_pred_train_dt_rs = dt_reg_rs.predict(X_train_dt)\n",
    "\n",
    "#prediction on testing data\n",
    "y_pred_test_dt_rs = dt_reg_rs.predict(X_test_dt)"
   ]
  },
  {
   "cell_type": "markdown",
   "metadata": {
    "colab_type": "text",
    "id": "hR3t6OiGwCoY"
   },
   "source": [
    "<a id=section6020302></a>\n",
    "#### 6.2.3.2 Model Evaluation"
   ]
  },
  {
   "cell_type": "markdown",
   "metadata": {
    "colab_type": "text",
    "id": "79CVgoeywCoa"
   },
   "source": [
    "#### a. RMSE\n"
   ]
  },
  {
   "cell_type": "code",
   "execution_count": 0,
   "metadata": {
    "colab": {
     "base_uri": "https://localhost:8080/",
     "height": 50
    },
    "colab_type": "code",
    "id": "CwDUjyHHwCob",
    "outputId": "e02fd655-9464-40fc-8cc6-b5e5f45123f4"
   },
   "outputs": [
    {
     "name": "stdout",
     "output_type": "stream",
     "text": [
      "RMSE for training set is 1273302.704932997\n",
      "RMSE for testing set is 2688170.9943080093\n"
     ]
    }
   ],
   "source": [
    "RMSE_train_dt_rs = np.sqrt( metrics.mean_squared_error(y_train_dt, y_pred_train_dt_rs))\n",
    "print('RMSE for training set is {}'.format(RMSE_train_dt_rs))\n",
    "RMSE_MAP['dt_train_rs'] = RMSE_train_dt_rs\n",
    "\n",
    "RMSE_test_dt_gs = np.sqrt( metrics.mean_squared_error(y_test_dt, y_pred_test_dt_rs))\n",
    "print('RMSE for testing set is {}'.format(RMSE_test_dt_gs))\n",
    "RMSE_MAP['dt_test_rs'] = RMSE_test_dt_gs\n"
   ]
  },
  {
   "cell_type": "markdown",
   "metadata": {
    "colab_type": "text",
    "id": "t0ij45eRwCoe"
   },
   "source": [
    "#### b. MAPE\n"
   ]
  },
  {
   "cell_type": "code",
   "execution_count": 0,
   "metadata": {
    "colab": {
     "base_uri": "https://localhost:8080/",
     "height": 50
    },
    "colab_type": "code",
    "id": "1bEeukPjwCog",
    "outputId": "329d236a-cc50-42ae-8834-958773993c19"
   },
   "outputs": [
    {
     "name": "stdout",
     "output_type": "stream",
     "text": [
      "MAPE for training set is nan\n",
      "MAPE for testing set is nan\n"
     ]
    }
   ],
   "source": [
    "mape_train_error = mean_absolute_percentage_error(y_train_dt, y_pred_train_dt_rs)\n",
    "mape_test_error = mean_absolute_percentage_error(y_test_dt, y_pred_test_dt_rs)\n",
    "print('MAPE for training set is {}'.format(mape_train_error))\n",
    "print('MAPE for testing set is {}'.format(mape_test_error))"
   ]
  },
  {
   "cell_type": "markdown",
   "metadata": {
    "colab_type": "text",
    "id": "keFal7EZwCos"
   },
   "source": [
    "#### c. R-Squared Error"
   ]
  },
  {
   "cell_type": "code",
   "execution_count": 0,
   "metadata": {
    "colab": {
     "base_uri": "https://localhost:8080/",
     "height": 34
    },
    "colab_type": "code",
    "id": "8zFYKG8mwCou",
    "outputId": "17776106-a7df-4e6a-a590-395964bbeb00"
   },
   "outputs": [
    {
     "name": "stdout",
     "output_type": "stream",
     "text": [
      "R-Squared for training set is 0.8946551443811994\n"
     ]
    }
   ],
   "source": [
    "r_squared_train_dt_rs = r2_score(y_train_dt,y_pred_train_dt_rs )\n",
    "print('R-Squared for training set is {}'.format(r_squared_train_dt_rs))"
   ]
  },
  {
   "cell_type": "code",
   "execution_count": 0,
   "metadata": {
    "colab": {
     "base_uri": "https://localhost:8080/",
     "height": 34
    },
    "colab_type": "code",
    "id": "_SZaJ0x2wCow",
    "outputId": "245259c4-8e3e-477f-ca10-e09a929be916"
   },
   "outputs": [
    {
     "name": "stdout",
     "output_type": "stream",
     "text": [
      "R-Squared for testing set is 0.4964136916905322\n"
     ]
    }
   ],
   "source": [
    "r_squared_test_dt_rs = r2_score(y_test_dt,y_pred_test_dt_rs )\n",
    "print('R-Squared for testing set is {}'.format(r_squared_test_dt_rs))"
   ]
  },
  {
   "cell_type": "markdown",
   "metadata": {
    "colab_type": "text",
    "id": "Ks_DjSb3wCo5"
   },
   "source": [
    "#### d. Adjusted R-Squared Error"
   ]
  },
  {
   "cell_type": "code",
   "execution_count": 0,
   "metadata": {
    "colab": {
     "base_uri": "https://localhost:8080/",
     "height": 34
    },
    "colab_type": "code",
    "id": "6aHgLrxGwCo7",
    "outputId": "4edb615e-cee8-4601-93d0-c74921ba8931",
    "scrolled": true
   },
   "outputs": [
    {
     "name": "stdout",
     "output_type": "stream",
     "text": [
      "Adjusted R-Squared for training set is 0.7868394397935142\n"
     ]
    }
   ],
   "source": [
    "adjusted_r_squared_train_dt_gs = 1 - (1-r_squared_train_dt_gs)*(len(y_train_dt)-1)/(len(y_train_dt)-X_train_dt.shape[1]-1)\n",
    "print('Adjusted R-Squared for training set is {}'.format(adjusted_r_squared_train_dt_gs))"
   ]
  },
  {
   "cell_type": "code",
   "execution_count": 0,
   "metadata": {
    "colab": {
     "base_uri": "https://localhost:8080/",
     "height": 34
    },
    "colab_type": "code",
    "id": "EXyiFLGFwCo-",
    "outputId": "c81dfb4a-cff2-4600-e67b-6484dfd9e499"
   },
   "outputs": [
    {
     "name": "stdout",
     "output_type": "stream",
     "text": [
      "Adjusted R-Squared for testing set is 0.42891444634131515\n"
     ]
    }
   ],
   "source": [
    "adjusted_r_squared_test_dt_gs = 1 - (1-r_squared_test_dt_gs)*(len(y_test_dt)-1)/(len(y_test_dt)-X_train_dt.shape[1]-1)\n",
    "print('Adjusted R-Squared for testing set is {}'.format(adjusted_r_squared_test_dt_gs))"
   ]
  },
  {
   "cell_type": "code",
   "execution_count": 0,
   "metadata": {
    "colab": {
     "base_uri": "https://localhost:8080/",
     "height": 218
    },
    "colab_type": "code",
    "id": "hy-RsDN7czBI",
    "outputId": "2fe144f6-f3f5-4010-eab8-50b6639317a6"
   },
   "outputs": [
    {
     "data": {
      "text/plain": [
       "{'dt_test_d': 2894203.44790235,\n",
       " 'dt_test_gs': 2860718.3055057875,\n",
       " 'dt_test_rs': 2688170.9943080093,\n",
       " 'dt_train_d': 129676.21851832513,\n",
       " 'dt_train_gs': 1810722.3350111088,\n",
       " 'dt_train_rs': 1273302.704932997,\n",
       " 'lr_test_d': 3762343.023659728,\n",
       " 'lr_test_gs': 3762343.023659724,\n",
       " 'lr_test_rs': 3762343.023659724,\n",
       " 'lr_train_d': 2501622.756793326,\n",
       " 'lr_train_gs': 2501622.7567933267,\n",
       " 'lr_train_rs': 2501622.7567933267}"
      ]
     },
     "execution_count": 407,
     "metadata": {
      "tags": []
     },
     "output_type": "execute_result"
    }
   ],
   "source": [
    "RMSE_MAP"
   ]
  },
  {
   "cell_type": "markdown",
   "metadata": {
    "colab_type": "text",
    "id": "LK3Ba0y5wCpI"
   },
   "source": [
    " <a id=section603></a>\n",
    "## 6.3 Random Forest"
   ]
  },
  {
   "cell_type": "markdown",
   "metadata": {
    "colab_type": "text",
    "id": "EcGzIhfIwCpJ"
   },
   "source": [
    "##### Splitting train and test data\n"
   ]
  },
  {
   "cell_type": "code",
   "execution_count": 0,
   "metadata": {
    "colab": {
     "base_uri": "https://localhost:8080/",
     "height": 134
    },
    "colab_type": "code",
    "id": "YN72YgxWwCpN",
    "outputId": "388cc47d-ae44-4dba-a7c9-e318f3dd5eb5"
   },
   "outputs": [
    {
     "name": "stdout",
     "output_type": "stream",
     "text": [
      "Train cases as below\n",
      "X_train shape:  (54920, 32)\n",
      "y_train shape:  (54920,)\n",
      "\n",
      "Test cases as below\n",
      "X_test shape:  (23538, 32)\n",
      "y_test shape:  (23538,)\n"
     ]
    }
   ],
   "source": [
    "X_train_rf, X_test_rf, y_train_rf, y_test_rf=split(X,y)\n",
    "print('Train cases as below')\n",
    "print('X_train shape: ',X_train_rf.shape)\n",
    "print('y_train shape: ',y_train_rf.shape)\n",
    "print('\\nTest cases as below')\n",
    "print('X_test shape: ',X_test_rf.shape)\n",
    "print('y_test shape: ',y_test_rf.shape)"
   ]
  },
  {
   "cell_type": "markdown",
   "metadata": {
    "colab_type": "text",
    "id": "QeLu0ZjVQuJY"
   },
   "source": [
    " <a id=section60301></a>\n",
    "\n",
    "#### 6.3.1 Using Default Model\n"
   ]
  },
  {
   "cell_type": "markdown",
   "metadata": {
    "colab_type": "text",
    "id": "kDQbLyWFPknL"
   },
   "source": [
    " <a id=section6030101></a>\n",
    "\n",
    "#### 6.3.1.1 Building Model and Prediction"
   ]
  },
  {
   "cell_type": "code",
   "execution_count": 0,
   "metadata": {
    "colab": {
     "base_uri": "https://localhost:8080/",
     "height": 134
    },
    "colab_type": "code",
    "id": "jmbJ1h1TwCpS",
    "outputId": "3bf054f5-6953-435e-a083-88117429a500"
   },
   "outputs": [
    {
     "data": {
      "text/plain": [
       "RandomForestRegressor(bootstrap=True, ccp_alpha=0.0, criterion='mse',\n",
       "                      max_depth=None, max_features='auto', max_leaf_nodes=None,\n",
       "                      max_samples=None, min_impurity_decrease=0.0,\n",
       "                      min_impurity_split=None, min_samples_leaf=1,\n",
       "                      min_samples_split=2, min_weight_fraction_leaf=0.0,\n",
       "                      n_estimators=100, n_jobs=None, oob_score=False,\n",
       "                      random_state=None, verbose=0, warm_start=False)"
      ]
     },
     "execution_count": 409,
     "metadata": {
      "tags": []
     },
     "output_type": "execute_result"
    }
   ],
   "source": [
    "from sklearn.ensemble import RandomForestRegressor\n",
    "\n",
    "# using default model for building\n",
    "rf_reg = RandomForestRegressor()\n",
    "rf_reg.fit(X_train_rf, y_train_rf)"
   ]
  },
  {
   "cell_type": "code",
   "execution_count": 0,
   "metadata": {
    "colab": {},
    "colab_type": "code",
    "id": "lvj751SvwCpY"
   },
   "outputs": [],
   "source": [
    "y_pred_train_rf = rf_reg.predict(X_train_rf)\n",
    "y_pred_test_rf = rf_reg.predict(X_test_rf)"
   ]
  },
  {
   "cell_type": "markdown",
   "metadata": {
    "colab_type": "text",
    "id": "vX3PgmE9wCpe"
   },
   "source": [
    " <a id=section6030102></a>\n",
    "\n",
    "### 6.3.1.2 Model Evaluation"
   ]
  },
  {
   "cell_type": "markdown",
   "metadata": {
    "colab_type": "text",
    "id": "o9WxF2odwCpf"
   },
   "source": [
    "##### a. RMSE\n"
   ]
  },
  {
   "cell_type": "code",
   "execution_count": 0,
   "metadata": {
    "colab": {
     "base_uri": "https://localhost:8080/",
     "height": 50
    },
    "colab_type": "code",
    "id": "UDww75H8wCpf",
    "outputId": "ac339200-868a-444f-d09e-2917b0bacbbe"
   },
   "outputs": [
    {
     "name": "stdout",
     "output_type": "stream",
     "text": [
      "RMSE for training set is 827232.4367303494\n",
      "RMSE for testing set is 2087675.4319342622\n"
     ]
    }
   ],
   "source": [
    "from sklearn import metrics\n",
    "RMSE_train = np.sqrt( metrics.mean_squared_error(y_train_rf, y_pred_train_rf))\n",
    "print('RMSE for training set is {}'.format(RMSE_train))\n",
    "RMSE_MAP['rf_train_d'] = RMSE_train\n",
    "\n",
    "RMSE_test = np.sqrt( metrics.mean_squared_error(y_test_rf, y_pred_test_rf))\n",
    "print('RMSE for testing set is {}'.format(RMSE_test))\n",
    "RMSE_MAP['rf_test_d'] = RMSE_test\n"
   ]
  },
  {
   "cell_type": "markdown",
   "metadata": {
    "colab_type": "text",
    "id": "nb4rkNzSwCph"
   },
   "source": [
    "##### b. MAPE\n"
   ]
  },
  {
   "cell_type": "code",
   "execution_count": 0,
   "metadata": {
    "colab": {
     "base_uri": "https://localhost:8080/",
     "height": 50
    },
    "colab_type": "code",
    "id": "sUQrBslTwCph",
    "outputId": "47069866-1131-45d7-d719-a25e10c06ff8"
   },
   "outputs": [
    {
     "name": "stdout",
     "output_type": "stream",
     "text": [
      "MAPE for training set is nan\n",
      "MAPE for testing set is nan\n"
     ]
    }
   ],
   "source": [
    "mape_train_error = mean_absolute_percentage_error(y_train_rf, y_pred_train_rf)\n",
    "mape_test_error = mean_absolute_percentage_error(y_test_rf, y_pred_test_rf)\n",
    "print('MAPE for training set is {}'.format(mape_train_error))\n",
    "print('MAPE for testing set is {}'.format(mape_test_error))"
   ]
  },
  {
   "cell_type": "markdown",
   "metadata": {
    "colab_type": "text",
    "id": "9ISTbW1zwCpj"
   },
   "source": [
    "##### c. R-Squared Error"
   ]
  },
  {
   "cell_type": "code",
   "execution_count": 0,
   "metadata": {
    "colab": {
     "base_uri": "https://localhost:8080/",
     "height": 34
    },
    "colab_type": "code",
    "id": "QNS2wwyOwCpj",
    "outputId": "f2ab820a-9c5f-44fc-c7c8-5480f3467500"
   },
   "outputs": [
    {
     "name": "stdout",
     "output_type": "stream",
     "text": [
      "R-Squared for training set is 0.955536349120837\n"
     ]
    }
   ],
   "source": [
    "r_squared_train_rf = r2_score(y_train_rf,y_pred_train_rf )\n",
    "print('R-Squared for training set is {}'.format(r_squared_train_rf))"
   ]
  },
  {
   "cell_type": "code",
   "execution_count": 0,
   "metadata": {
    "colab": {
     "base_uri": "https://localhost:8080/",
     "height": 34
    },
    "colab_type": "code",
    "id": "gpt0493qwCpr",
    "outputId": "ed893999-1fc7-429a-aa48-177a0a82bc03"
   },
   "outputs": [
    {
     "name": "stdout",
     "output_type": "stream",
     "text": [
      "R-Squared for testing set is 0.6962711167993818\n"
     ]
    }
   ],
   "source": [
    "r_squared_test_rf = r2_score(y_test_rf,y_pred_test_rf )\n",
    "print('R-Squared for testing set is {}'.format(r_squared_test_rf))"
   ]
  },
  {
   "cell_type": "markdown",
   "metadata": {
    "colab_type": "text",
    "id": "pod1n6h8wCpt"
   },
   "source": [
    "##### d. Adjusted R-Squared Error"
   ]
  },
  {
   "cell_type": "code",
   "execution_count": 0,
   "metadata": {
    "colab": {
     "base_uri": "https://localhost:8080/",
     "height": 34
    },
    "colab_type": "code",
    "id": "VniKk-krwCpt",
    "outputId": "64688560-2559-4578-8777-2a83fe3dc431",
    "scrolled": true
   },
   "outputs": [
    {
     "name": "stdout",
     "output_type": "stream",
     "text": [
      "Adjusted R-Squared for training set is 0.9555104261003015\n"
     ]
    }
   ],
   "source": [
    "adjusted_r_squared_train_rf = 1 - (1-r_squared_train_rf)*(len(y_train_rf)-1)/(len(y_train_rf)-X_train_rf.shape[1]-1)\n",
    "print('Adjusted R-Squared for training set is {}'.format(adjusted_r_squared_train_rf))"
   ]
  },
  {
   "cell_type": "code",
   "execution_count": 0,
   "metadata": {
    "colab": {
     "base_uri": "https://localhost:8080/",
     "height": 34
    },
    "colab_type": "code",
    "id": "Zmyu-DbCwCpu",
    "outputId": "68531885-e30d-495b-f547-d0bd7f285b54"
   },
   "outputs": [
    {
     "name": "stdout",
     "output_type": "stream",
     "text": [
      "Adjusted R-Squared for testing set is 0.6958576165116805\n"
     ]
    }
   ],
   "source": [
    "adjusted_r_squared_test_rf = 1 - (1-r_squared_test_rf)*(len(y_test_rf)-1)/(len(y_test_rf)-X_train_rf.shape[1]-1)\n",
    "print('Adjusted R-Squared for testing set is {}'.format(adjusted_r_squared_test_rf))"
   ]
  },
  {
   "cell_type": "markdown",
   "metadata": {
    "colab_type": "text",
    "id": "D0UiBytFTw_h"
   },
   "source": [
    " <a id=section60302></a>\n",
    "### 6.3.2 Using GridSearchCV"
   ]
  },
  {
   "cell_type": "markdown",
   "metadata": {
    "colab_type": "text",
    "id": "BOq2seHBSh-q"
   },
   "source": [
    " <a id=section6030201></a>\n",
    "#### 6.3.2.1 Building Model and Prediction"
   ]
  },
  {
   "cell_type": "code",
   "execution_count": 0,
   "metadata": {
    "colab": {},
    "colab_type": "code",
    "id": "wccClyQ4R7AI"
   },
   "outputs": [],
   "source": [
    "# Number of trees in random forest\n",
    "n_estimators = [int(x) for x in np.linspace(start = 200, stop = 2000, num = 5)]\n",
    "# Number of features to consider at every split\n",
    "max_features = ['auto', 'sqrt']\n",
    "# Maximum number of levels in tree\n",
    "max_depth = [int(x) for x in np.linspace(10, 110, num = 11)]\n",
    "max_depth.append(None)\n",
    "# Minimum number of samples required to split a node\n",
    "min_samples_split = [2, 5, 10]\n",
    "# Minimum number of samples required at each leaf node\n",
    "min_samples_leaf = [1, 2, 4]\n",
    "# Method of selecting samples for training each tree\n",
    "bootstrap = [True, False]\n",
    "# Create the random grid\n",
    "param_grid = {\n",
    "               'max_features': max_features,\n",
    "               'max_depth': max_depth,\n",
    "               'min_samples_split': min_samples_split,\n",
    "               'min_samples_leaf': min_samples_leaf,\n",
    "               'n_estimators' : [1, 5, 10, 15, 20, 25, 30],\n",
    "               'bootstrap': bootstrap\n",
    "              }"
   ]
  },
  {
   "cell_type": "code",
   "execution_count": 0,
   "metadata": {
    "colab": {},
    "colab_type": "code",
    "id": "-KnJtvMySdWA"
   },
   "outputs": [],
   "source": [
    "# Instantiate the grid search model\n",
    "rf_reg_gs = GridSearchCV(estimator = rf_reg, param_grid = param_grid, \n",
    "                          cv = 3, n_jobs = -1, verbose = 2, scoring = my_scorer)"
   ]
  },
  {
   "cell_type": "code",
   "execution_count": 0,
   "metadata": {
    "colab": {
     "base_uri": "https://localhost:8080/",
     "height": 706
    },
    "colab_type": "code",
    "id": "WLX4P2TeTAqn",
    "outputId": "467cd102-05e6-4352-caeb-115a10b5ed31"
   },
   "outputs": [
    {
     "name": "stdout",
     "output_type": "stream",
     "text": [
      "Fitting 3 folds for each of 3024 candidates, totalling 9072 fits\n"
     ]
    },
    {
     "name": "stderr",
     "output_type": "stream",
     "text": [
      "[Parallel(n_jobs=-1)]: Using backend LokyBackend with 2 concurrent workers.\n",
      "[Parallel(n_jobs=-1)]: Done  37 tasks      | elapsed:   24.9s\n",
      "[Parallel(n_jobs=-1)]: Done 158 tasks      | elapsed:  1.8min\n",
      "[Parallel(n_jobs=-1)]: Done 361 tasks      | elapsed:  2.9min\n",
      "[Parallel(n_jobs=-1)]: Done 644 tasks      | elapsed:  6.8min\n",
      "[Parallel(n_jobs=-1)]: Done 1009 tasks      | elapsed: 11.7min\n",
      "[Parallel(n_jobs=-1)]: Done 1454 tasks      | elapsed: 17.2min\n",
      "[Parallel(n_jobs=-1)]: Done 1981 tasks      | elapsed: 24.2min\n",
      "[Parallel(n_jobs=-1)]: Done 2588 tasks      | elapsed: 32.1min\n",
      "[Parallel(n_jobs=-1)]: Done 3277 tasks      | elapsed: 41.6min\n",
      "[Parallel(n_jobs=-1)]: Done 4046 tasks      | elapsed: 51.6min\n",
      "[Parallel(n_jobs=-1)]: Done 4897 tasks      | elapsed: 61.3min\n",
      "[Parallel(n_jobs=-1)]: Done 5828 tasks      | elapsed: 79.5min\n",
      "[Parallel(n_jobs=-1)]: Done 6841 tasks      | elapsed: 98.1min\n",
      "[Parallel(n_jobs=-1)]: Done 7934 tasks      | elapsed: 119.0min\n",
      "[Parallel(n_jobs=-1)]: Done 9072 out of 9072 | elapsed: 140.9min finished\n"
     ]
    },
    {
     "data": {
      "text/plain": [
       "GridSearchCV(cv=3, error_score=nan,\n",
       "             estimator=RandomForestRegressor(bootstrap=True, ccp_alpha=0.0,\n",
       "                                             criterion='mse', max_depth=None,\n",
       "                                             max_features='auto',\n",
       "                                             max_leaf_nodes=None,\n",
       "                                             max_samples=None,\n",
       "                                             min_impurity_decrease=0.0,\n",
       "                                             min_impurity_split=None,\n",
       "                                             min_samples_leaf=1,\n",
       "                                             min_samples_split=2,\n",
       "                                             min_weight_fraction_leaf=0.0,\n",
       "                                             n_estimators=100, n_jobs=None,\n",
       "                                             oob_score=False, rand...\n",
       "             iid='deprecated', n_jobs=-1,\n",
       "             param_grid={'bootstrap': [True, False],\n",
       "                         'max_depth': [10, 20, 30, 40, 50, 60, 70, 80, 90, 100,\n",
       "                                       110, None],\n",
       "                         'max_features': ['auto', 'sqrt'],\n",
       "                         'min_samples_leaf': [1, 2, 4],\n",
       "                         'min_samples_split': [2, 5, 10],\n",
       "                         'n_estimators': [1, 5, 10, 15, 20, 25, 30]},\n",
       "             pre_dispatch='2*n_jobs', refit=True, return_train_score=False,\n",
       "             scoring=make_scorer(rmse_scorer, greater_is_better=False),\n",
       "             verbose=2)"
      ]
     },
     "execution_count": 140,
     "metadata": {
      "tags": []
     },
     "output_type": "execute_result"
    }
   ],
   "source": [
    "rf_reg_gs.fit(X_train_dt, y_train_dt)"
   ]
  },
  {
   "cell_type": "code",
   "execution_count": 0,
   "metadata": {
    "colab": {},
    "colab_type": "code",
    "id": "1kC9y2LfWBHo"
   },
   "outputs": [],
   "source": [
    "#prediction on training data\n",
    "y_pred_train_rf_gs = rf_reg_gs.predict(X_train_rf)\n",
    "\n",
    "#prediction on testing data\n",
    "y_pred_test_rf_gs = rf_reg_gs.predict(X_test_rf)"
   ]
  },
  {
   "cell_type": "markdown",
   "metadata": {
    "colab_type": "text",
    "id": "AqQXOlMBV3xQ"
   },
   "source": [
    " <a id=section6030202></a>\n",
    "\n",
    "#### 6.3.2.2 Model Evaluation"
   ]
  },
  {
   "cell_type": "markdown",
   "metadata": {
    "colab_type": "text",
    "id": "XGYyfFOwV3xS"
   },
   "source": [
    "##### a. RMSE\n"
   ]
  },
  {
   "cell_type": "code",
   "execution_count": 0,
   "metadata": {
    "colab": {
     "base_uri": "https://localhost:8080/",
     "height": 50
    },
    "colab_type": "code",
    "id": "adur5aQEV3xU",
    "outputId": "135d1f69-84b4-4ed3-d9eb-5a22c476f17f"
   },
   "outputs": [
    {
     "name": "stdout",
     "output_type": "stream",
     "text": [
      "RMSE for training set is 1190225.1558994672\n",
      "RMSE for testing set is 2178931.353352303\n"
     ]
    }
   ],
   "source": [
    "from sklearn import metrics\n",
    "RMSE_train = np.sqrt( metrics.mean_squared_error(y_train_rf, y_pred_train_rf_gs))\n",
    "print('RMSE for training set is {}'.format(RMSE_train))\n",
    "RMSE_MAP['rf_train_gs'] = RMSE_train\n",
    "\n",
    "RMSE_test = np.sqrt( metrics.mean_squared_error(y_test_rf, y_pred_test_rf_gs))\n",
    "print('RMSE for testing set is {}'.format(RMSE_test))\n",
    "RMSE_MAP['rf_test_gs'] = RMSE_test\n"
   ]
  },
  {
   "cell_type": "markdown",
   "metadata": {
    "colab_type": "text",
    "id": "GKUttjZvV3xe"
   },
   "source": [
    "##### b. R-Squared Error"
   ]
  },
  {
   "cell_type": "code",
   "execution_count": 0,
   "metadata": {
    "colab": {
     "base_uri": "https://localhost:8080/",
     "height": 34
    },
    "colab_type": "code",
    "id": "NOdLMgMxV3xf",
    "outputId": "5acc88d4-6dda-4ed1-d6ce-ee9e627f33c7"
   },
   "outputs": [
    {
     "name": "stdout",
     "output_type": "stream",
     "text": [
      "R-Squared for training set is 0.9079532923961169\n"
     ]
    }
   ],
   "source": [
    "r_squared_train_rf_gs = r2_score(y_train_rf,y_pred_train_rf_gs )\n",
    "print('R-Squared for training set is {}'.format(r_squared_train_rf_gs))"
   ]
  },
  {
   "cell_type": "code",
   "execution_count": 0,
   "metadata": {
    "colab": {
     "base_uri": "https://localhost:8080/",
     "height": 34
    },
    "colab_type": "code",
    "id": "G-QOUFG4V3xk",
    "outputId": "c5e2d172-5991-40a3-9a7d-bc5e377d0ba2"
   },
   "outputs": [
    {
     "name": "stdout",
     "output_type": "stream",
     "text": [
      "R-Squared for testing set is 0.669137742447603\n"
     ]
    }
   ],
   "source": [
    "r_squared_test_rf_gs = r2_score(y_test_rf,y_pred_test_rf_gs )\n",
    "print('R-Squared for testing set is {}'.format(r_squared_test_rf_gs))"
   ]
  },
  {
   "cell_type": "markdown",
   "metadata": {
    "colab_type": "text",
    "id": "Y92WQIYmV3xm"
   },
   "source": [
    "##### c. Adjusted R-Squared Error"
   ]
  },
  {
   "cell_type": "code",
   "execution_count": 0,
   "metadata": {
    "colab": {
     "base_uri": "https://localhost:8080/",
     "height": 34
    },
    "colab_type": "code",
    "id": "SZP7kYNvV3xn",
    "outputId": "3b17ac8e-fb25-4ff1-d997-49b4354c4bc1",
    "scrolled": true
   },
   "outputs": [
    {
     "name": "stdout",
     "output_type": "stream",
     "text": [
      "Adjusted R-Squared for training set is 0.9078996276914815\n"
     ]
    }
   ],
   "source": [
    "adjusted_r_squared_train_rf_gs = 1 - (1-r_squared_train_rf_gs)*(len(y_train_rf)-1)/(len(y_train_rf)-X_train_rf.shape[1]-1)\n",
    "print('Adjusted R-Squared for training set is {}'.format(adjusted_r_squared_train_rf_gs))"
   ]
  },
  {
   "cell_type": "code",
   "execution_count": 0,
   "metadata": {
    "colab": {
     "base_uri": "https://localhost:8080/",
     "height": 34
    },
    "colab_type": "code",
    "id": "cS6FmicGV3xq",
    "outputId": "3f4ad945-28aa-4041-d153-079558c3b818"
   },
   "outputs": [
    {
     "name": "stdout",
     "output_type": "stream",
     "text": [
      "Adjusted R-Squared for testing set is 0.66868730244583\n"
     ]
    }
   ],
   "source": [
    "adjusted_r_squared_test_rf_gs = 1 - (1-r_squared_test_rf_gs)*(len(y_test_rf)-1)/(len(y_test_rf)-X_train_rf.shape[1]-1)\n",
    "print('Adjusted R-Squared for testing set is {}'.format(adjusted_r_squared_test_rf_gs))"
   ]
  },
  {
   "cell_type": "markdown",
   "metadata": {
    "colab_type": "text",
    "id": "jknUCm5BpiFo"
   },
   "source": [
    " <a id=section60303></a>\n",
    "### 6.3.3 Using RandomizedSearchCV"
   ]
  },
  {
   "cell_type": "markdown",
   "metadata": {
    "colab_type": "text",
    "id": "cK74AG6hpiFy"
   },
   "source": [
    " <a id=section6030301></a>\n",
    "#### 6.3.3.1 Building Model and Prediction"
   ]
  },
  {
   "cell_type": "code",
   "execution_count": 0,
   "metadata": {
    "colab": {},
    "colab_type": "code",
    "id": "fXIKU9v9piF2"
   },
   "outputs": [],
   "source": [
    "# Number of trees in random forest\n",
    "n_estimators = [int(x) for x in np.linspace(start = 200, stop = 2000, num = 5)]\n",
    "# Number of features to consider at every split\n",
    "max_features = ['auto', 'sqrt']\n",
    "# Maximum number of levels in tree\n",
    "max_depth = [int(x) for x in np.linspace(10, 110, num = 11)]\n",
    "max_depth.append(None)\n",
    "# Minimum number of samples required to split a node\n",
    "min_samples_split = [2, 5, 10]\n",
    "# Minimum number of samples required at each leaf node\n",
    "min_samples_leaf = [1, 2, 4]\n",
    "# Method of selecting samples for training each tree\n",
    "bootstrap = [True, False]\n",
    "# Create the random grid\n",
    "random_grid = {\n",
    "               'max_features': max_features,\n",
    "               'max_depth': max_depth,\n",
    "               'min_samples_split': min_samples_split,\n",
    "               'min_samples_leaf': min_samples_leaf,\n",
    "               'n_estimators' : n_estimators,\n",
    "               'bootstrap': bootstrap\n",
    "              }"
   ]
  },
  {
   "cell_type": "code",
   "execution_count": 0,
   "metadata": {
    "colab": {},
    "colab_type": "code",
    "id": "lP-PXV-0piF_"
   },
   "outputs": [],
   "source": [
    "# Instantiate the grid search model\n",
    "rf_reg_rs = RandomizedSearchCV(estimator = rf_reg, param_distributions = random_grid, n_iter = 100, cv = 3, \n",
    "                               verbose=2, random_state=42, n_jobs = -1, scoring = my_scorer)"
   ]
  },
  {
   "cell_type": "code",
   "execution_count": 0,
   "metadata": {
    "colab": {},
    "colab_type": "code",
    "id": "b-tWnKfTpiGE"
   },
   "outputs": [],
   "source": [
    "rf_reg_rs.fit(X_train_dt, y_train_dt)"
   ]
  },
  {
   "cell_type": "code",
   "execution_count": 0,
   "metadata": {
    "colab": {},
    "colab_type": "code",
    "id": "a___jPLzpiGI"
   },
   "outputs": [],
   "source": [
    "#prediction on training data\n",
    "y_pred_train_rf_rs = rf_reg_rs.predict(X_train_rf)\n",
    "\n",
    "#prediction on testing data\n",
    "y_pred_test_rf_rs = rf_reg_rs.predict(X_test_rf)"
   ]
  },
  {
   "cell_type": "markdown",
   "metadata": {
    "colab_type": "text",
    "id": "W-LVe_KPpiGP"
   },
   "source": [
    " <a id=section6030202></a>\n",
    "\n",
    "#### 6.3.2.2 Model Evaluation"
   ]
  },
  {
   "cell_type": "markdown",
   "metadata": {
    "colab_type": "text",
    "id": "DWpM1FIIpiGQ"
   },
   "source": [
    "##### a. RMSE\n"
   ]
  },
  {
   "cell_type": "code",
   "execution_count": 0,
   "metadata": {
    "colab": {},
    "colab_type": "code",
    "id": "aDwrzxh-piGR"
   },
   "outputs": [],
   "source": [
    "from sklearn import metrics\n",
    "RMSE_train = np.sqrt( metrics.mean_squared_error(y_train_rf, y_pred_train_rf_rs))\n",
    "print('RMSE for training set is {}'.format(RMSE_train))\n",
    "RMSE_MAP['rf_train_rs'] = RMSE_train\n",
    "\n",
    "RMSE_test = np.sqrt( metrics.mean_squared_error(y_test_rf, y_pred_test_rf_rs))\n",
    "print('RMSE for testing set is {}'.format(RMSE_test))\n",
    "RMSE_MAP['rf_test_rs'] = RMSE_test\n"
   ]
  },
  {
   "cell_type": "markdown",
   "metadata": {
    "colab_type": "text",
    "id": "T3ERgAkfpiGX"
   },
   "source": [
    "##### b. R-Squared Error"
   ]
  },
  {
   "cell_type": "code",
   "execution_count": 0,
   "metadata": {
    "colab": {},
    "colab_type": "code",
    "id": "YN3Tb_PrpiGX"
   },
   "outputs": [],
   "source": [
    "r_squared_train_rf_rs = r2_score(y_train_rf,y_pred_train_rf_rs )\n",
    "print('R-Squared for training set is {}'.format(r_squared_train_rf_rs))"
   ]
  },
  {
   "cell_type": "code",
   "execution_count": 0,
   "metadata": {
    "colab": {},
    "colab_type": "code",
    "id": "0ef-635fpiGc"
   },
   "outputs": [],
   "source": [
    "r_squared_test_rf_rs = r2_score(y_test_rf,y_pred_test_rf_rs )\n",
    "print('R-Squared for testing set is {}'.format(r_squared_test_rf_rs))"
   ]
  },
  {
   "cell_type": "markdown",
   "metadata": {
    "colab_type": "text",
    "id": "yg9xGuMKpiGe"
   },
   "source": [
    "##### c. Adjusted R-Squared Error"
   ]
  },
  {
   "cell_type": "code",
   "execution_count": 0,
   "metadata": {
    "colab": {},
    "colab_type": "code",
    "id": "XQlJN4L3piGf",
    "scrolled": true
   },
   "outputs": [],
   "source": [
    "adjusted_r_squared_train_rf_rs = 1 - (1-r_squared_train_rf_rs)*(len(y_train_rf)-1)/(len(y_train_rf)-X_train_rf.shape[1]-1)\n",
    "print('Adjusted R-Squared for training set is {}'.format(adjusted_r_squared_train_rf_rs))"
   ]
  },
  {
   "cell_type": "code",
   "execution_count": 0,
   "metadata": {
    "colab": {},
    "colab_type": "code",
    "id": "6kZyccfopiGh"
   },
   "outputs": [],
   "source": [
    "adjusted_r_squared_test_rf_rs = 1 - (1-r_squared_test_rf_rs)*(len(y_test_rf)-1)/(len(y_test_rf)-X_train_rf.shape[1]-1)\n",
    "print('Adjusted R-Squared for testing set is {}'.format(adjusted_r_squared_test_rf_rs))"
   ]
  },
  {
   "cell_type": "markdown",
   "metadata": {
    "colab_type": "text",
    "id": "hLS6JsiOrwc5"
   },
   "source": [
    " <a id=section7></a>\n",
    "\n",
    "# 7. Conclusion"
   ]
  },
  {
   "cell_type": "markdown",
   "metadata": {
    "colab_type": "text",
    "id": "Dcfk5pvXqoUQ"
   },
   "source": [
    "## 7.1 Choosing Best Model for prediction"
   ]
  },
  {
   "cell_type": "markdown",
   "metadata": {
    "colab_type": "text",
    "id": "nTYv-U6vr8Oj"
   },
   "source": [
    " <a id=section701></a>\n",
    "<img src=\"./images/ChartBustersResults.png\" height='400px' width='100%'><br/>"
   ]
  },
  {
   "cell_type": "markdown",
   "metadata": {
    "colab_type": "text",
    "id": "urEmQaXCtIrf"
   },
   "source": [
    "NOTE:\n",
    "\n",
    "As we can observe Random Forest algorithm has **best scores in terms of RMSE**. Let's use Tandom Forest GridSearchCV to predict our output.\n"
   ]
  },
  {
   "cell_type": "markdown",
   "metadata": {
    "colab_type": "text",
    "id": "YBzUnbMUqdYk"
   },
   "source": [
    " <a id=section702></a>\n",
    "# 7.2 Final Prediction"
   ]
  },
  {
   "cell_type": "code",
   "execution_count": 0,
   "metadata": {
    "colab": {},
    "colab_type": "code",
    "id": "7b3PfxbTtiSV"
   },
   "outputs": [],
   "source": [
    " # dropping existing Views column\n",
    " df_views_songs_test.drop('Views', axis=1, inplace=True)"
   ]
  },
  {
   "cell_type": "code",
   "execution_count": 0,
   "metadata": {
    "colab": {},
    "colab_type": "code",
    "id": "ZXbWZ0uSumVP"
   },
   "outputs": [],
   "source": [
    "# predicting test data\n",
    "y_pred = rf_reg_gs.predict(df_views_songs_test)"
   ]
  },
  {
   "cell_type": "code",
   "execution_count": 0,
   "metadata": {
    "colab": {},
    "colab_type": "code",
    "id": "VBNmR3U9SFfk"
   },
   "outputs": [],
   "source": [
    "# storing predicted output in a dataframe\n",
    "views_predicted = pd.DataFrame({'Views' : np.array(y_pred)})\n",
    "views_predicted.index = df_views_songs_test.index"
   ]
  },
  {
   "cell_type": "code",
   "execution_count": 0,
   "metadata": {
    "colab": {},
    "colab_type": "code",
    "id": "xRI_6Vo2uKsv"
   },
   "outputs": [],
   "source": [
    "# scaling back to original value\n",
    "views_predicted.apply(lambda x : x**10)"
   ]
  },
  {
   "cell_type": "code",
   "execution_count": 0,
   "metadata": {
    "colab": {},
    "colab_type": "code",
    "id": "fJQckt5xqyXa"
   },
   "outputs": [],
   "source": [
    "# storing output in xlsx format\n",
    "views_predicted.to_excel('Views_Prediction.xlsx')"
   ]
  }
 ],
 "metadata": {
  "colab": {
   "collapsed_sections": [
    "H_CCA-lquBnW",
    "05W5gAznuBnb",
    "QY7Lvy7ruBnw",
    "6zJMWRpKuBn0",
    "2xCbxMWDuBn8",
    "olh_1znauBoL",
    "8-7mV5quuBoT",
    "XAYqiZJXuBoa",
    "1uRVtps7uBof",
    "N1z29TdVuBog",
    "y7oyrCBcuBol",
    "9Sbaj1YGuBos",
    "ahoydxpEuBqg",
    "aPWTERz2uBqs",
    "q1vbwN7ruBqx",
    "hRjBYMRcuBq5",
    "3sZbZRs-uBq5",
    "yO_jkHgbuBrD",
    "bIZg4h35uBrD",
    "rXSjndu7uBrG",
    "XDKXxYr3uBrO",
    "HleW9XkQuBrV",
    "bVSfvFgxuBra",
    "CQGe49m6uBrb",
    "aokgIekOuBrl",
    "SOSYQ0ejuBrm",
    "h497xmeZuBrn",
    "ZamyNRnFuBrp",
    "_6UCLovcuBrs"
   ],
   "name": "ChartBustersParticipants.ipynb",
   "provenance": [],
   "toc_visible": true
  },
  "kernelspec": {
   "display_name": "Python 3",
   "language": "python",
   "name": "python3"
  },
  "language_info": {
   "codemirror_mode": {
    "name": "ipython",
    "version": 3
   },
   "file_extension": ".py",
   "mimetype": "text/x-python",
   "name": "python",
   "nbconvert_exporter": "python",
   "pygments_lexer": "ipython3",
   "version": "3.7.3"
  }
 },
 "nbformat": 4,
 "nbformat_minor": 1
}
