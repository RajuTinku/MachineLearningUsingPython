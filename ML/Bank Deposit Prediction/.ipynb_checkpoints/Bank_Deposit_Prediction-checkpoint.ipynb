{
 "cells": [
  {
   "cell_type": "markdown",
   "metadata": {
    "colab_type": "text",
    "id": "MgiSe-Fca2VU"
   },
   "source": [
    "# Bank Deposit Prediction\n",
    "\n",
    "\n",
    "Hackathon link: https://skillenza.com/challenge/imarticus-datascience-hackathon-july2020\n",
    "\n"
   ]
  },
  {
   "cell_type": "markdown",
   "metadata": {
    "colab_type": "text",
    "id": "OihwClnHa2Vf"
   },
   "source": [
    "## Table of Contents\n",
    "\n",
    "1. [Problem Statement](#section1)<br>\n",
    "2. [Importing Packages](#section2)<br>\n",
    "3. [Loading Data](#section3)<br>\n",
    "  - 3.1 [Description of the Datasets](#section301)<br>\n",
    "  - 3.2 [Pandas Profiling before Data Preprocessing](#section302)<br>\n",
    "4. [Data Preprocessing](#section4)<br>\n",
    "  - 4.1 [Filling missing values](#section401)<br>\n",
    "  - 4.2 [Remove highly correlated columns](#section402)<br>\n",
    "  - 4.x [Pandas Profiling after Data Preprocessing](#section40x)<br>\n",
    "5. [Exploratory Data Analysis](#section5)<br>\n",
    "  - 5.1 [Univariate Analysis](#section501)<br>\n",
    "  - 5.2 [Multivariate Analysis](#section502)<br>\n",
    "6. [Creating Model and Prediction](#section6)<br>  \n",
    "  - 6.1 [](#section601)"
   ]
  },
  {
   "cell_type": "markdown",
   "metadata": {
    "colab_type": "text",
    "id": "4OtQbjmHa2Vo"
   },
   "source": [
    "<a id=section1></a>\n",
    "# 1. Problem Statement"
   ]
  },
  {
   "cell_type": "markdown",
   "metadata": {
    "colab_type": "text",
    "id": "wEXIvSxia2Vt"
   },
   "source": [
    "The objective of the problem is to predict the amount that would be deposited in each branch in the year 2017. \n"
   ]
  },
  {
   "cell_type": "markdown",
   "metadata": {
    "colab_type": "text",
    "id": "F988tUR0a2Vy"
   },
   "source": [
    "<a id=section2></a>\n",
    "# 2. Importing Packages"
   ]
  },
  {
   "cell_type": "code",
   "execution_count": 1,
   "metadata": {
    "colab": {},
    "colab_type": "code",
    "id": "GLHl_0o9a2V5"
   },
   "outputs": [],
   "source": [
    "import numpy as np                     \n",
    "\n",
    "import pandas as pd\n",
    "\n",
    "# To suppress pandas warnings.\n",
    "pd.set_option('mode.chained_assignment', None) \n",
    "\n",
    "# To display all the data in each column\n",
    "pd.set_option('display.max_colwidth', -1)         \n",
    "\n",
    "pd.get_option(\"display.max_rows\",10000)\n",
    "\n",
    "# To display every column of the dataset in head()\n",
    "pd.options.display.max_columns = 100               \n",
    "\n",
    "import warnings\n",
    "warnings.filterwarnings('ignore')     "
   ]
  },
  {
   "cell_type": "code",
   "execution_count": 2,
   "metadata": {
    "colab": {},
    "colab_type": "code",
    "id": "lWuM--2IcyhY"
   },
   "outputs": [],
   "source": [
    "import matplotlib.pyplot as plt\n",
    "%matplotlib inline\n",
    "\n",
    "# To apply seaborn styles to the plots.\n",
    "import seaborn as sns\n",
    "sns.set(style='whitegrid', font_scale=1.3, color_codes=True)      "
   ]
  },
  {
   "cell_type": "markdown",
   "metadata": {
    "colab_type": "text",
    "id": "gW0WUwI0a2WJ"
   },
   "source": [
    "<a id=section3></a>\n",
    "\n",
    "# 3. Loading Data"
   ]
  },
  {
   "cell_type": "code",
   "execution_count": 3,
   "metadata": {
    "colab": {},
    "colab_type": "code",
    "id": "1eWpnal7a2WN"
   },
   "outputs": [],
   "source": [
    "df_test = pd.read_csv('test.csv', index_col = \"id\")\n",
    "df_train = pd.read_csv('train.csv', index_col = \"id\")"
   ]
  },
  {
   "cell_type": "markdown",
   "metadata": {
    "colab_type": "text",
    "id": "GwJAXzM7a2WY"
   },
   "source": [
    "<a id=section301></a>\n",
    "## 3.1 Description of the Datasets"
   ]
  },
  {
   "cell_type": "markdown",
   "metadata": {
    "colab_type": "text",
    "id": "YZ2IBl6D41Gv"
   },
   "source": [
    "### a. shape"
   ]
  },
  {
   "cell_type": "code",
   "execution_count": 4,
   "metadata": {
    "colab": {
     "base_uri": "https://localhost:8080/",
     "height": 34
    },
    "colab_type": "code",
    "id": "_miXJUQWekMg",
    "outputId": "0ced3d16-769e-42bf-d76a-8b7ac3a728a3"
   },
   "outputs": [
    {
     "data": {
      "text/plain": [
       "((3790, 13), (1623, 12))"
      ]
     },
     "execution_count": 4,
     "metadata": {},
     "output_type": "execute_result"
    }
   ],
   "source": [
    "# checking shape of data\n",
    "df_train.shape, df_test.shape"
   ]
  },
  {
   "cell_type": "markdown",
   "metadata": {
    "colab_type": "text",
    "id": "r2sZMYh2o82E"
   },
   "source": [
    "### b. info"
   ]
  },
  {
   "cell_type": "markdown",
   "metadata": {
    "colab_type": "text",
    "id": "yhPSCPfcrDor"
   },
   "source": [
    "#### Train"
   ]
  },
  {
   "cell_type": "code",
   "execution_count": 5,
   "metadata": {
    "colab": {
     "base_uri": "https://localhost:8080/",
     "height": 357
    },
    "colab_type": "code",
    "id": "YaQRWAAAa2Wa",
    "outputId": "42f4837f-79b0-4990-e8f4-c4048f7458e3"
   },
   "outputs": [
    {
     "name": "stdout",
     "output_type": "stream",
     "text": [
      "<class 'pandas.core.frame.DataFrame'>\n",
      "Int64Index: 3790 entries, 1 to 3790\n",
      "Data columns (total 13 columns):\n",
      "headquarter              3790 non-null int64\n",
      "location.Code            3790 non-null int64\n",
      "date_of_establishment    1750 non-null object\n",
      "location                 3790 non-null object\n",
      "loc.details              3790 non-null object\n",
      "state                    3790 non-null object\n",
      "deposit_amount_2011      3050 non-null float64\n",
      "deposit_amount_2012      3212 non-null float64\n",
      "deposit_amount_2013      3461 non-null float64\n",
      "deposit_amount_2014      3615 non-null float64\n",
      "deposit_amount_2015      3734 non-null float64\n",
      "deposit_amount_2016      3771 non-null float64\n",
      "deposit_amount_2017      3771 non-null float64\n",
      "dtypes: float64(7), int64(2), object(4)\n",
      "memory usage: 414.5+ KB\n"
     ]
    }
   ],
   "source": [
    "df_train.info()"
   ]
  },
  {
   "cell_type": "markdown",
   "metadata": {
    "colab_type": "text",
    "id": "UaPfzfFZrIB3"
   },
   "source": [
    "#### Test"
   ]
  },
  {
   "cell_type": "code",
   "execution_count": 6,
   "metadata": {
    "colab": {
     "base_uri": "https://localhost:8080/",
     "height": 340
    },
    "colab_type": "code",
    "id": "lZvxUh2upD24",
    "outputId": "36a3ff27-4d08-4abf-b37f-4515434bfe78"
   },
   "outputs": [
    {
     "name": "stdout",
     "output_type": "stream",
     "text": [
      "<class 'pandas.core.frame.DataFrame'>\n",
      "Int64Index: 1623 entries, 1 to 1623\n",
      "Data columns (total 12 columns):\n",
      "headquarter              1623 non-null int64\n",
      "location.Code            1623 non-null int64\n",
      "date_of_establishment    809 non-null object\n",
      "location                 1623 non-null object\n",
      "loc.details              1623 non-null object\n",
      "state                    1623 non-null object\n",
      "deposit_amount_2011      1623 non-null float64\n",
      "deposit_amount_2012      1623 non-null float64\n",
      "deposit_amount_2013      1623 non-null float64\n",
      "deposit_amount_2014      1623 non-null float64\n",
      "deposit_amount_2015      1623 non-null float64\n",
      "deposit_amount_2016      1623 non-null float64\n",
      "dtypes: float64(6), int64(2), object(4)\n",
      "memory usage: 164.8+ KB\n"
     ]
    }
   ],
   "source": [
    "df_test.info()"
   ]
  },
  {
   "cell_type": "markdown",
   "metadata": {
    "colab_type": "text",
    "id": "t7t27K_8qVOw"
   },
   "source": [
    "**Observations:**\n",
    "\n",
    "1. We can see missing values in few columns. We will take care of it pre processing step.\n",
    "2. **date_of_establishment** is interpreted as object, we need to convert into pandas datetime.\n",
    "3. **location.Code** is categorical column but interpreted as numerical. We will take care of it pre processing step."
   ]
  },
  {
   "cell_type": "markdown",
   "metadata": {
    "colab_type": "text",
    "id": "FvsEVeo8q9LY"
   },
   "source": [
    "### c. describe"
   ]
  },
  {
   "cell_type": "markdown",
   "metadata": {
    "colab_type": "text",
    "id": "3AeTe-_BrOnK"
   },
   "source": [
    "#### Train"
   ]
  },
  {
   "cell_type": "code",
   "execution_count": 7,
   "metadata": {
    "colab": {
     "base_uri": "https://localhost:8080/",
     "height": 317
    },
    "colab_type": "code",
    "id": "1StJj48-eYvY",
    "outputId": "193577ed-d3b4-48d9-a485-3f5e4144b346"
   },
   "outputs": [
    {
     "data": {
      "text/html": [
       "<div>\n",
       "<style scoped>\n",
       "    .dataframe tbody tr th:only-of-type {\n",
       "        vertical-align: middle;\n",
       "    }\n",
       "\n",
       "    .dataframe tbody tr th {\n",
       "        vertical-align: top;\n",
       "    }\n",
       "\n",
       "    .dataframe thead th {\n",
       "        text-align: right;\n",
       "    }\n",
       "</style>\n",
       "<table border=\"1\" class=\"dataframe\">\n",
       "  <thead>\n",
       "    <tr style=\"text-align: right;\">\n",
       "      <th></th>\n",
       "      <th>headquarter</th>\n",
       "      <th>location.Code</th>\n",
       "      <th>deposit_amount_2011</th>\n",
       "      <th>deposit_amount_2012</th>\n",
       "      <th>deposit_amount_2013</th>\n",
       "      <th>deposit_amount_2014</th>\n",
       "      <th>deposit_amount_2015</th>\n",
       "      <th>deposit_amount_2016</th>\n",
       "      <th>deposit_amount_2017</th>\n",
       "    </tr>\n",
       "  </thead>\n",
       "  <tbody>\n",
       "    <tr>\n",
       "      <th>count</th>\n",
       "      <td>3790.0</td>\n",
       "      <td>3790.000000</td>\n",
       "      <td>3.050000e+03</td>\n",
       "      <td>3.212000e+03</td>\n",
       "      <td>3.461000e+03</td>\n",
       "      <td>3.615000e+03</td>\n",
       "      <td>3.734000e+03</td>\n",
       "      <td>3.771000e+03</td>\n",
       "      <td>3.771000e+03</td>\n",
       "    </tr>\n",
       "    <tr>\n",
       "      <th>mean</th>\n",
       "      <td>0.0</td>\n",
       "      <td>5395.806332</td>\n",
       "      <td>1.683201e+05</td>\n",
       "      <td>1.882705e+05</td>\n",
       "      <td>1.933803e+05</td>\n",
       "      <td>2.045743e+05</td>\n",
       "      <td>2.183874e+05</td>\n",
       "      <td>2.364422e+05</td>\n",
       "      <td>3.546633e+05</td>\n",
       "    </tr>\n",
       "    <tr>\n",
       "      <th>std</th>\n",
       "      <td>0.0</td>\n",
       "      <td>1549.105135</td>\n",
       "      <td>4.196386e+06</td>\n",
       "      <td>5.171073e+06</td>\n",
       "      <td>5.320718e+06</td>\n",
       "      <td>5.610536e+06</td>\n",
       "      <td>5.970416e+06</td>\n",
       "      <td>6.422120e+06</td>\n",
       "      <td>9.633180e+06</td>\n",
       "    </tr>\n",
       "    <tr>\n",
       "      <th>min</th>\n",
       "      <td>0.0</td>\n",
       "      <td>2871.000000</td>\n",
       "      <td>0.000000e+00</td>\n",
       "      <td>0.000000e+00</td>\n",
       "      <td>0.000000e+00</td>\n",
       "      <td>0.000000e+00</td>\n",
       "      <td>0.000000e+00</td>\n",
       "      <td>0.000000e+00</td>\n",
       "      <td>0.000000e+00</td>\n",
       "    </tr>\n",
       "    <tr>\n",
       "      <th>25%</th>\n",
       "      <td>0.0</td>\n",
       "      <td>4067.250000</td>\n",
       "      <td>2.839800e+04</td>\n",
       "      <td>3.019912e+04</td>\n",
       "      <td>3.159750e+04</td>\n",
       "      <td>3.497175e+04</td>\n",
       "      <td>3.935850e+04</td>\n",
       "      <td>4.632150e+04</td>\n",
       "      <td>6.948225e+04</td>\n",
       "    </tr>\n",
       "    <tr>\n",
       "      <th>50%</th>\n",
       "      <td>0.0</td>\n",
       "      <td>5261.500000</td>\n",
       "      <td>5.344200e+04</td>\n",
       "      <td>5.577450e+04</td>\n",
       "      <td>5.961600e+04</td>\n",
       "      <td>6.353700e+04</td>\n",
       "      <td>7.015800e+04</td>\n",
       "      <td>7.877400e+04</td>\n",
       "      <td>1.181610e+05</td>\n",
       "    </tr>\n",
       "    <tr>\n",
       "      <th>75%</th>\n",
       "      <td>0.0</td>\n",
       "      <td>6863.250000</td>\n",
       "      <td>9.910912e+04</td>\n",
       "      <td>1.004205e+05</td>\n",
       "      <td>1.072440e+05</td>\n",
       "      <td>1.145288e+05</td>\n",
       "      <td>1.249448e+05</td>\n",
       "      <td>1.373490e+05</td>\n",
       "      <td>2.060235e+05</td>\n",
       "    </tr>\n",
       "    <tr>\n",
       "      <th>max</th>\n",
       "      <td>0.0</td>\n",
       "      <td>7994.000000</td>\n",
       "      <td>2.303660e+08</td>\n",
       "      <td>2.915820e+08</td>\n",
       "      <td>3.110520e+08</td>\n",
       "      <td>3.350930e+08</td>\n",
       "      <td>3.623109e+08</td>\n",
       "      <td>3.919391e+08</td>\n",
       "      <td>5.879087e+08</td>\n",
       "    </tr>\n",
       "  </tbody>\n",
       "</table>\n",
       "</div>"
      ],
      "text/plain": [
       "       headquarter  location.Code  deposit_amount_2011  deposit_amount_2012  \\\n",
       "count  3790.0       3790.000000    3.050000e+03         3.212000e+03          \n",
       "mean   0.0          5395.806332    1.683201e+05         1.882705e+05          \n",
       "std    0.0          1549.105135    4.196386e+06         5.171073e+06          \n",
       "min    0.0          2871.000000    0.000000e+00         0.000000e+00          \n",
       "25%    0.0          4067.250000    2.839800e+04         3.019912e+04          \n",
       "50%    0.0          5261.500000    5.344200e+04         5.577450e+04          \n",
       "75%    0.0          6863.250000    9.910912e+04         1.004205e+05          \n",
       "max    0.0          7994.000000    2.303660e+08         2.915820e+08          \n",
       "\n",
       "       deposit_amount_2013  deposit_amount_2014  deposit_amount_2015  \\\n",
       "count  3.461000e+03         3.615000e+03         3.734000e+03          \n",
       "mean   1.933803e+05         2.045743e+05         2.183874e+05          \n",
       "std    5.320718e+06         5.610536e+06         5.970416e+06          \n",
       "min    0.000000e+00         0.000000e+00         0.000000e+00          \n",
       "25%    3.159750e+04         3.497175e+04         3.935850e+04          \n",
       "50%    5.961600e+04         6.353700e+04         7.015800e+04          \n",
       "75%    1.072440e+05         1.145288e+05         1.249448e+05          \n",
       "max    3.110520e+08         3.350930e+08         3.623109e+08          \n",
       "\n",
       "       deposit_amount_2016  deposit_amount_2017  \n",
       "count  3.771000e+03         3.771000e+03         \n",
       "mean   2.364422e+05         3.546633e+05         \n",
       "std    6.422120e+06         9.633180e+06         \n",
       "min    0.000000e+00         0.000000e+00         \n",
       "25%    4.632150e+04         6.948225e+04         \n",
       "50%    7.877400e+04         1.181610e+05         \n",
       "75%    1.373490e+05         2.060235e+05         \n",
       "max    3.919391e+08         5.879087e+08         "
      ]
     },
     "execution_count": 7,
     "metadata": {},
     "output_type": "execute_result"
    }
   ],
   "source": [
    "df_train.describe()"
   ]
  },
  {
   "cell_type": "markdown",
   "metadata": {
    "colab_type": "text",
    "id": "p_MDhK2FrbZv"
   },
   "source": [
    "#### Test"
   ]
  },
  {
   "cell_type": "code",
   "execution_count": 8,
   "metadata": {
    "colab": {
     "base_uri": "https://localhost:8080/",
     "height": 297
    },
    "colab_type": "code",
    "id": "-3ohy2aIrgGq",
    "outputId": "c2235d61-9c16-4613-edab-c1a81be80086"
   },
   "outputs": [
    {
     "data": {
      "text/html": [
       "<div>\n",
       "<style scoped>\n",
       "    .dataframe tbody tr th:only-of-type {\n",
       "        vertical-align: middle;\n",
       "    }\n",
       "\n",
       "    .dataframe tbody tr th {\n",
       "        vertical-align: top;\n",
       "    }\n",
       "\n",
       "    .dataframe thead th {\n",
       "        text-align: right;\n",
       "    }\n",
       "</style>\n",
       "<table border=\"1\" class=\"dataframe\">\n",
       "  <thead>\n",
       "    <tr style=\"text-align: right;\">\n",
       "      <th></th>\n",
       "      <th>headquarter</th>\n",
       "      <th>location.Code</th>\n",
       "      <th>deposit_amount_2011</th>\n",
       "      <th>deposit_amount_2012</th>\n",
       "      <th>deposit_amount_2013</th>\n",
       "      <th>deposit_amount_2014</th>\n",
       "      <th>deposit_amount_2015</th>\n",
       "      <th>deposit_amount_2016</th>\n",
       "    </tr>\n",
       "  </thead>\n",
       "  <tbody>\n",
       "    <tr>\n",
       "      <th>count</th>\n",
       "      <td>1623.000000</td>\n",
       "      <td>1623.000000</td>\n",
       "      <td>1.623000e+03</td>\n",
       "      <td>1.623000e+03</td>\n",
       "      <td>1.623000e+03</td>\n",
       "      <td>1.623000e+03</td>\n",
       "      <td>1.623000e+03</td>\n",
       "      <td>1.623000e+03</td>\n",
       "    </tr>\n",
       "    <tr>\n",
       "      <th>mean</th>\n",
       "      <td>0.000616</td>\n",
       "      <td>1770.314849</td>\n",
       "      <td>8.362408e+05</td>\n",
       "      <td>9.847530e+05</td>\n",
       "      <td>1.107470e+06</td>\n",
       "      <td>1.220473e+06</td>\n",
       "      <td>1.388776e+06</td>\n",
       "      <td>1.412398e+06</td>\n",
       "    </tr>\n",
       "    <tr>\n",
       "      <th>std</th>\n",
       "      <td>0.024822</td>\n",
       "      <td>751.636198</td>\n",
       "      <td>2.366439e+07</td>\n",
       "      <td>2.782220e+07</td>\n",
       "      <td>3.120362e+07</td>\n",
       "      <td>3.435485e+07</td>\n",
       "      <td>3.877610e+07</td>\n",
       "      <td>4.003773e+07</td>\n",
       "    </tr>\n",
       "    <tr>\n",
       "      <th>min</th>\n",
       "      <td>0.000000</td>\n",
       "      <td>5.000000</td>\n",
       "      <td>0.000000e+00</td>\n",
       "      <td>0.000000e+00</td>\n",
       "      <td>0.000000e+00</td>\n",
       "      <td>0.000000e+00</td>\n",
       "      <td>0.000000e+00</td>\n",
       "      <td>0.000000e+00</td>\n",
       "    </tr>\n",
       "    <tr>\n",
       "      <th>25%</th>\n",
       "      <td>0.000000</td>\n",
       "      <td>1333.000000</td>\n",
       "      <td>5.078475e+04</td>\n",
       "      <td>5.330325e+04</td>\n",
       "      <td>5.722350e+04</td>\n",
       "      <td>6.181875e+04</td>\n",
       "      <td>6.461850e+04</td>\n",
       "      <td>6.957150e+04</td>\n",
       "    </tr>\n",
       "    <tr>\n",
       "      <th>50%</th>\n",
       "      <td>0.000000</td>\n",
       "      <td>1834.000000</td>\n",
       "      <td>9.857850e+04</td>\n",
       "      <td>1.034700e+05</td>\n",
       "      <td>1.123020e+05</td>\n",
       "      <td>1.204455e+05</td>\n",
       "      <td>1.271415e+05</td>\n",
       "      <td>1.343310e+05</td>\n",
       "    </tr>\n",
       "    <tr>\n",
       "      <th>75%</th>\n",
       "      <td>0.000000</td>\n",
       "      <td>2391.500000</td>\n",
       "      <td>1.813568e+05</td>\n",
       "      <td>1.938952e+05</td>\n",
       "      <td>2.072040e+05</td>\n",
       "      <td>2.263215e+05</td>\n",
       "      <td>2.387212e+05</td>\n",
       "      <td>2.584852e+05</td>\n",
       "    </tr>\n",
       "    <tr>\n",
       "      <th>max</th>\n",
       "      <td>1.000000</td>\n",
       "      <td>2870.000000</td>\n",
       "      <td>9.496965e+08</td>\n",
       "      <td>1.114902e+09</td>\n",
       "      <td>1.248682e+09</td>\n",
       "      <td>1.374814e+09</td>\n",
       "      <td>1.548824e+09</td>\n",
       "      <td>1.604138e+09</td>\n",
       "    </tr>\n",
       "  </tbody>\n",
       "</table>\n",
       "</div>"
      ],
      "text/plain": [
       "       headquarter  location.Code  deposit_amount_2011  deposit_amount_2012  \\\n",
       "count  1623.000000  1623.000000    1.623000e+03         1.623000e+03          \n",
       "mean   0.000616     1770.314849    8.362408e+05         9.847530e+05          \n",
       "std    0.024822     751.636198     2.366439e+07         2.782220e+07          \n",
       "min    0.000000     5.000000       0.000000e+00         0.000000e+00          \n",
       "25%    0.000000     1333.000000    5.078475e+04         5.330325e+04          \n",
       "50%    0.000000     1834.000000    9.857850e+04         1.034700e+05          \n",
       "75%    0.000000     2391.500000    1.813568e+05         1.938952e+05          \n",
       "max    1.000000     2870.000000    9.496965e+08         1.114902e+09          \n",
       "\n",
       "       deposit_amount_2013  deposit_amount_2014  deposit_amount_2015  \\\n",
       "count  1.623000e+03         1.623000e+03         1.623000e+03          \n",
       "mean   1.107470e+06         1.220473e+06         1.388776e+06          \n",
       "std    3.120362e+07         3.435485e+07         3.877610e+07          \n",
       "min    0.000000e+00         0.000000e+00         0.000000e+00          \n",
       "25%    5.722350e+04         6.181875e+04         6.461850e+04          \n",
       "50%    1.123020e+05         1.204455e+05         1.271415e+05          \n",
       "75%    2.072040e+05         2.263215e+05         2.387212e+05          \n",
       "max    1.248682e+09         1.374814e+09         1.548824e+09          \n",
       "\n",
       "       deposit_amount_2016  \n",
       "count  1.623000e+03         \n",
       "mean   1.412398e+06         \n",
       "std    4.003773e+07         \n",
       "min    0.000000e+00         \n",
       "25%    6.957150e+04         \n",
       "50%    1.343310e+05         \n",
       "75%    2.584852e+05         \n",
       "max    1.604138e+09         "
      ]
     },
     "execution_count": 8,
     "metadata": {},
     "output_type": "execute_result"
    }
   ],
   "source": [
    "df_test.describe()"
   ]
  },
  {
   "cell_type": "markdown",
   "metadata": {
    "colab_type": "text",
    "id": "2SXchJfIsmEJ"
   },
   "source": [
    "**Observations:**\n",
    "\n",
    "**headquarter** has mostly 0's and single 1. We will drop this column in pre processing step."
   ]
  },
  {
   "cell_type": "markdown",
   "metadata": {
    "colab_type": "text",
    "id": "npi95kuoa2Wi"
   },
   "source": [
    " <a id=section302></a>\n",
    "## 3.2 Pandas Profiling before Data Preprocessing"
   ]
  },
  {
   "cell_type": "code",
   "execution_count": 9,
   "metadata": {
    "colab": {},
    "colab_type": "code",
    "id": "X5LDGhsWa2Wj"
   },
   "outputs": [],
   "source": [
    "# To install pandas profiling please run this command.\n",
    "\n",
    "#!pip install pandas-profiling --upgrade"
   ]
  },
  {
   "cell_type": "code",
   "execution_count": 10,
   "metadata": {
    "colab": {},
    "colab_type": "code",
    "id": "Cc-p8JKWe6-5"
   },
   "outputs": [],
   "source": [
    "from pandas_profiling import ProfileReport\n",
    "\n",
    "# Running pandas profiling to get better understanding of data\n",
    "# profile =  ProfileReport(df_train, title='Pandas Profiling Report before data preprocessing', html={'style':{'full_width':True}})\n",
    "# profile.to_file(output_file=\"train_report_before_processing.html\")"
   ]
  },
  {
   "cell_type": "code",
   "execution_count": 11,
   "metadata": {
    "colab": {},
    "colab_type": "code",
    "id": "Gzwk8X-Yt_ru"
   },
   "outputs": [],
   "source": [
    "# Running pandas profiling to get better understanding of data\n",
    "# profile =  ProfileReport(df_test, title='Pandas Profiling Report before data preprocessing', html={'style':{'full_width':True}})\n",
    "# profile.to_file(output_file=\"test_report_before_processing.html\")"
   ]
  },
  {
   "cell_type": "markdown",
   "metadata": {
    "colab_type": "text",
    "id": "fuFS6Pcva2Wo"
   },
   "source": [
    " <a id=section4></a>\n",
    "# 4. Data Preprocessing"
   ]
  },
  {
   "cell_type": "markdown",
   "metadata": {
    "colab_type": "text",
    "id": "PHVDuFVxQOhv"
   },
   "source": [
    " <a id=section401></a>\n",
    "## 4.1 Dropping columns which may not help in model prediction"
   ]
  },
  {
   "cell_type": "code",
   "execution_count": 12,
   "metadata": {
    "colab": {
     "base_uri": "https://localhost:8080/",
     "height": 102
    },
    "colab_type": "code",
    "id": "Pqfv1ufF7bwl",
    "outputId": "b99782e8-d98f-4415-ded3-f44b5d0fa5a9"
   },
   "outputs": [
    {
     "data": {
      "text/plain": [
       "Index(['headquarter', 'location.Code', 'date_of_establishment', 'location',\n",
       "       'loc.details', 'state', 'deposit_amount_2011', 'deposit_amount_2012',\n",
       "       'deposit_amount_2013', 'deposit_amount_2014', 'deposit_amount_2015',\n",
       "       'deposit_amount_2016', 'deposit_amount_2017'],\n",
       "      dtype='object')"
      ]
     },
     "execution_count": 12,
     "metadata": {},
     "output_type": "execute_result"
    }
   ],
   "source": [
    "df_train.columns"
   ]
  },
  {
   "cell_type": "markdown",
   "metadata": {
    "colab_type": "text",
    "id": "YMUFEDC6ZhYo"
   },
   "source": [
    "### a. Drop columns with constant value"
   ]
  },
  {
   "cell_type": "markdown",
   "metadata": {
    "colab_type": "text",
    "id": "ODoKshhiQqnA"
   },
   "source": [
    "**NOTE:**\n",
    "\n",
    "**headquarter** has mostly 0's and single 1. Let's delete it."
   ]
  },
  {
   "cell_type": "markdown",
   "metadata": {
    "colab_type": "text",
    "id": "YwfEMkWlRCZO"
   },
   "source": [
    "#### Train\n"
   ]
  },
  {
   "cell_type": "code",
   "execution_count": 13,
   "metadata": {
    "colab": {},
    "colab_type": "code",
    "id": "UrdhlczpRHxX"
   },
   "outputs": [],
   "source": [
    "df_train.drop('headquarter', axis = 1, inplace=True)"
   ]
  },
  {
   "cell_type": "markdown",
   "metadata": {
    "colab_type": "text",
    "id": "sW_Gs0nARFOp"
   },
   "source": [
    "#### Test"
   ]
  },
  {
   "cell_type": "code",
   "execution_count": 14,
   "metadata": {
    "colab": {},
    "colab_type": "code",
    "id": "kKPLaocuRIx5"
   },
   "outputs": [],
   "source": [
    "df_test.drop('headquarter', axis = 1, inplace=True)"
   ]
  },
  {
   "cell_type": "markdown",
   "metadata": {
    "colab_type": "text",
    "id": "GelVPGNzZzAR"
   },
   "source": [
    "### b. Drop columns which has unique values "
   ]
  },
  {
   "cell_type": "markdown",
   "metadata": {
    "colab_type": "text",
    "id": "yrOx4Ps6ahU8"
   },
   "source": [
    "NOTE:\n",
    "\n",
    "**location.Code** has high carginality i.e no of uniquevalues = no of rows. Let's drop t."
   ]
  },
  {
   "cell_type": "markdown",
   "metadata": {
    "colab_type": "text",
    "id": "9EtXDvvgbi99"
   },
   "source": [
    "#### Train\n"
   ]
  },
  {
   "cell_type": "code",
   "execution_count": 15,
   "metadata": {
    "colab": {},
    "colab_type": "code",
    "id": "AcB6AiEJbi-C"
   },
   "outputs": [],
   "source": [
    "df_train.drop('location.Code', axis = 1, inplace=True)"
   ]
  },
  {
   "cell_type": "markdown",
   "metadata": {
    "colab_type": "text",
    "id": "p6_AOh4pbi-Q"
   },
   "source": [
    "#### Test"
   ]
  },
  {
   "cell_type": "code",
   "execution_count": 16,
   "metadata": {
    "colab": {},
    "colab_type": "code",
    "id": "ZrvmALOqbi-S"
   },
   "outputs": [],
   "source": [
    "df_test.drop('location.Code', axis = 1, inplace=True)"
   ]
  },
  {
   "cell_type": "markdown",
   "metadata": {
    "colab_type": "text",
    "id": "4lDKKbq6c0RV"
   },
   "source": [
    "\n",
    "### c. Drop rows in train data with missing values in target variable\n",
    "\n",
    "\n",
    "\n"
   ]
  },
  {
   "cell_type": "code",
   "execution_count": 17,
   "metadata": {
    "colab": {},
    "colab_type": "code",
    "id": "bffFULGncz0P"
   },
   "outputs": [],
   "source": [
    "df_train = df_train[~df_train['deposit_amount_2017'].isna()]"
   ]
  },
  {
   "cell_type": "code",
   "execution_count": 18,
   "metadata": {
    "colab": {
     "base_uri": "https://localhost:8080/",
     "height": 34
    },
    "colab_type": "code",
    "id": "5KkcFLildtEJ",
    "outputId": "a89393e5-76bb-4cd5-a094-13ddd7b2788f"
   },
   "outputs": [
    {
     "data": {
      "text/plain": [
       "0"
      ]
     },
     "execution_count": 18,
     "metadata": {},
     "output_type": "execute_result"
    }
   ],
   "source": [
    "df_train['deposit_amount_2017'].isna().sum()"
   ]
  },
  {
   "cell_type": "markdown",
   "metadata": {
    "colab_type": "text",
    "id": "PNPH36LP8IGH"
   },
   "source": [
    " <a id=section403></a>\n",
    "## 4.3 Handling mismatched datatypes"
   ]
  },
  {
   "cell_type": "markdown",
   "metadata": {
    "colab_type": "text",
    "id": "vaK3s6Ad8iOv"
   },
   "source": [
    "### a.  **date_of_establishment**"
   ]
  },
  {
   "cell_type": "markdown",
   "metadata": {
    "colab_type": "text",
    "id": "pmhLqgG09hCI"
   },
   "source": [
    "#### Train"
   ]
  },
  {
   "cell_type": "code",
   "execution_count": 19,
   "metadata": {
    "colab": {},
    "colab_type": "code",
    "id": "2mrvVX2N8unt"
   },
   "outputs": [],
   "source": [
    "df_train['date_of_establishment'] = pd.to_datetime(df_train['date_of_establishment'] , errors = 'coerce', utc = True)"
   ]
  },
  {
   "cell_type": "markdown",
   "metadata": {
    "colab_type": "text",
    "id": "IeNWrNOf93G_"
   },
   "source": [
    "#### Test"
   ]
  },
  {
   "cell_type": "code",
   "execution_count": 20,
   "metadata": {
    "colab": {},
    "colab_type": "code",
    "id": "Vm3896eY96h8"
   },
   "outputs": [],
   "source": [
    "df_test['date_of_establishment'] = pd.to_datetime(df_test['date_of_establishment'] , errors = 'coerce', utc = True)"
   ]
  },
  {
   "cell_type": "markdown",
   "metadata": {
    "colab_type": "text",
    "id": "YxKtxlo4a2Wp"
   },
   "source": [
    " <a id=section404></a>\n",
    "## 4.4 Filling missing values"
   ]
  },
  {
   "cell_type": "code",
   "execution_count": 21,
   "metadata": {
    "colab": {},
    "colab_type": "code",
    "id": "CsEaoDLDRoCv"
   },
   "outputs": [],
   "source": [
    "feature_cols = list(df_test.columns)\n",
    "continuous_columns = list(df_test.select_dtypes(include='number').columns)\n",
    "categorical_columns = list(df_test.columns.difference(continuous_columns))"
   ]
  },
  {
   "cell_type": "markdown",
   "metadata": {
    "colab_type": "text",
    "id": "tI-NZkn9svXB"
   },
   "source": [
    "#### Train"
   ]
  },
  {
   "cell_type": "code",
   "execution_count": 22,
   "metadata": {
    "colab": {
     "base_uri": "https://localhost:8080/",
     "height": 0
    },
    "colab_type": "code",
    "id": "_nPtico5a2Wq",
    "outputId": "384beb9b-7071-4ca7-875f-d30cf16bc11e",
    "scrolled": true
   },
   "outputs": [
    {
     "data": {
      "text/plain": [
       "date_of_establishment    2030\n",
       "location                 0   \n",
       "loc.details              0   \n",
       "state                    0   \n",
       "deposit_amount_2011      721 \n",
       "deposit_amount_2012      559 \n",
       "deposit_amount_2013      310 \n",
       "deposit_amount_2014      156 \n",
       "deposit_amount_2015      37  \n",
       "deposit_amount_2016      0   \n",
       "deposit_amount_2017      0   \n",
       "dtype: int64"
      ]
     },
     "execution_count": 22,
     "metadata": {},
     "output_type": "execute_result"
    }
   ],
   "source": [
    "df_train.isna().sum()"
   ]
  },
  {
   "cell_type": "code",
   "execution_count": null,
   "metadata": {},
   "outputs": [],
   "source": [
    "! pip "
   ]
  },
  {
   "cell_type": "code",
   "execution_count": 23,
   "metadata": {
    "colab": {},
    "colab_type": "code",
    "id": "wOao7DljwAhF"
   },
   "outputs": [
    {
     "ename": "ImportError",
     "evalue": "cannot import name 'KNNImputer' from 'sklearn.impute' (/home/raju4789/anaconda3/lib/python3.7/site-packages/sklearn/impute/__init__.py)",
     "output_type": "error",
     "traceback": [
      "\u001b[0;31m---------------------------------------------------------------------------\u001b[0m",
      "\u001b[0;31mImportError\u001b[0m                               Traceback (most recent call last)",
      "\u001b[0;32m<ipython-input-23-093aedf17b4b>\u001b[0m in \u001b[0;36m<module>\u001b[0;34m\u001b[0m\n\u001b[0;32m----> 1\u001b[0;31m \u001b[0;32mfrom\u001b[0m \u001b[0msklearn\u001b[0m\u001b[0;34m.\u001b[0m\u001b[0mimpute\u001b[0m \u001b[0;32mimport\u001b[0m \u001b[0mKNNImputer\u001b[0m\u001b[0;34m\u001b[0m\u001b[0;34m\u001b[0m\u001b[0m\n\u001b[0m\u001b[1;32m      2\u001b[0m \u001b[0;34m\u001b[0m\u001b[0m\n\u001b[1;32m      3\u001b[0m \u001b[0;31m# Define the imputer\u001b[0m\u001b[0;34m\u001b[0m\u001b[0;34m\u001b[0m\u001b[0;34m\u001b[0m\u001b[0m\n\u001b[1;32m      4\u001b[0m \u001b[0mknn_imputer\u001b[0m \u001b[0;34m=\u001b[0m \u001b[0mKNNImputer\u001b[0m\u001b[0;34m(\u001b[0m\u001b[0mn_neighbors\u001b[0m\u001b[0;34m=\u001b[0m\u001b[0;36m5\u001b[0m\u001b[0;34m,\u001b[0m \u001b[0mweights\u001b[0m\u001b[0;34m=\u001b[0m\u001b[0;34m\"uniform\"\u001b[0m\u001b[0;34m)\u001b[0m\u001b[0;34m\u001b[0m\u001b[0;34m\u001b[0m\u001b[0m\n\u001b[1;32m      5\u001b[0m \u001b[0;34m\u001b[0m\u001b[0m\n",
      "\u001b[0;31mImportError\u001b[0m: cannot import name 'KNNImputer' from 'sklearn.impute' (/home/raju4789/anaconda3/lib/python3.7/site-packages/sklearn/impute/__init__.py)"
     ]
    }
   ],
   "source": [
    "from sklearn.impute import KNNImputer\n",
    "\n",
    "# Define the imputer\n",
    "knn_imputer = KNNImputer(n_neighbors=5, weights=\"uniform\")\n",
    "\n",
    "# Transform the dataset\n",
    "transformed_values = knn_imputer.fit_transform(df_train[continuous_columns])"
   ]
  },
  {
   "cell_type": "code",
   "execution_count": null,
   "metadata": {
    "colab": {},
    "colab_type": "code",
    "id": "I9PB5Ag6XZgR"
   },
   "outputs": [],
   "source": [
    "df_train_continuous = pd.DataFrame(transformed_values)\n",
    "df_train_continuous.columns = continuous_columns\n",
    "df_train_continuous.index = df_train.index"
   ]
  },
  {
   "cell_type": "code",
   "execution_count": null,
   "metadata": {
    "colab": {
     "base_uri": "https://localhost:8080/",
     "height": 0
    },
    "colab_type": "code",
    "id": "pWuF49qGYYTE",
    "outputId": "fd240684-5583-4748-ee11-bedbb97a42f1"
   },
   "outputs": [],
   "source": [
    "df_train_continuous.isna().sum()"
   ]
  },
  {
   "cell_type": "code",
   "execution_count": null,
   "metadata": {
    "colab": {},
    "colab_type": "code",
    "id": "6OflYzS2Xkx7"
   },
   "outputs": [],
   "source": [
    "from sklearn.impute import SimpleImputer\n",
    "\n",
    "# Define the imputer\n",
    "simple_imputer = SimpleImputer(missing_values=np.nan, strategy='most_frequent')\n",
    "\n",
    "# Transform the dataset\n",
    "transformed_values = simple_imputer.fit_transform(df_train[categorical_columns])"
   ]
  },
  {
   "cell_type": "code",
   "execution_count": null,
   "metadata": {
    "colab": {},
    "colab_type": "code",
    "id": "GA_cKatd3oVU"
   },
   "outputs": [],
   "source": [
    "df_train_categorical = pd.DataFrame(transformed_values)\n",
    "df_train_categorical.columns = categorical_columns\n",
    "df_train_categorical.index = df_train.index"
   ]
  },
  {
   "cell_type": "code",
   "execution_count": null,
   "metadata": {
    "colab": {
     "base_uri": "https://localhost:8080/",
     "height": 0
    },
    "colab_type": "code",
    "id": "GeKEOZ3MZwgY",
    "outputId": "dbd44ea6-8547-47ad-bcc0-7d207b12a8f9"
   },
   "outputs": [],
   "source": [
    "df_train_categorical.isna().sum()"
   ]
  },
  {
   "cell_type": "code",
   "execution_count": null,
   "metadata": {
    "colab": {
     "base_uri": "https://localhost:8080/",
     "height": 0
    },
    "colab_type": "code",
    "id": "JKKuWm7rba3w",
    "outputId": "ce13f5df-6712-449e-c220-acb53236aa9d"
   },
   "outputs": [],
   "source": [
    "# merge categorical and continuos columns\n",
    "df_train = pd.concat([df_train_continuous,df_train_categorical, df_train['deposit_amount_2017']], axis = 1).reindex(df_train.index)\n",
    "df_train.head()"
   ]
  },
  {
   "cell_type": "code",
   "execution_count": null,
   "metadata": {
    "colab": {
     "base_uri": "https://localhost:8080/",
     "height": 0
    },
    "colab_type": "code",
    "id": "xhiAimnnb73Z",
    "outputId": "fed5b0d0-5d2f-414f-bc0b-09c114463d96"
   },
   "outputs": [],
   "source": [
    "df_train.isna().sum()"
   ]
  },
  {
   "cell_type": "markdown",
   "metadata": {
    "colab_type": "text",
    "id": "2RqSQd2Xhx5o"
   },
   "source": [
    "#### Test"
   ]
  },
  {
   "cell_type": "code",
   "execution_count": null,
   "metadata": {
    "colab": {
     "base_uri": "https://localhost:8080/",
     "height": 0
    },
    "colab_type": "code",
    "id": "Y_eqobUThx5r",
    "outputId": "652c31ba-cdf7-486b-f617-0346f26e7ab7"
   },
   "outputs": [],
   "source": [
    "df_test.isna().sum()"
   ]
  },
  {
   "cell_type": "code",
   "execution_count": null,
   "metadata": {
    "colab": {},
    "colab_type": "code",
    "id": "fI-R870dhx6K"
   },
   "outputs": [],
   "source": [
    "from sklearn.impute import SimpleImputer\n",
    "\n",
    "# Define the imputer\n",
    "simple_imputer = SimpleImputer(missing_values=np.nan, strategy='most_frequent')\n",
    "\n",
    "# Transform the dataset\n",
    "transformed_values = simple_imputer.fit_transform(df_test[categorical_columns])"
   ]
  },
  {
   "cell_type": "code",
   "execution_count": null,
   "metadata": {
    "colab": {},
    "colab_type": "code",
    "id": "LEpFv_VYhx6O"
   },
   "outputs": [],
   "source": [
    "df_test_categorical = pd.DataFrame(transformed_values)\n",
    "df_test_categorical.columns = categorical_columns\n",
    "df_test_categorical.index = df_test.index"
   ]
  },
  {
   "cell_type": "code",
   "execution_count": null,
   "metadata": {
    "colab": {
     "base_uri": "https://localhost:8080/",
     "height": 0
    },
    "colab_type": "code",
    "id": "8Z1cfCdUhx6Q",
    "outputId": "9ec4168d-2588-4e7b-a52c-9373a9e03d9e"
   },
   "outputs": [],
   "source": [
    "df_test_categorical.isna().sum()"
   ]
  },
  {
   "cell_type": "code",
   "execution_count": null,
   "metadata": {
    "colab": {
     "base_uri": "https://localhost:8080/",
     "height": 0
    },
    "colab_type": "code",
    "id": "D8nDcZ8Phx6T",
    "outputId": "24e41d96-5604-46b6-d81a-11dba50e218a"
   },
   "outputs": [],
   "source": [
    "# merge categorical and continuos columns\n",
    "df_test = pd.concat([df_test[continuous_columns],df_test_categorical], axis = 1).reindex(df_test.index)\n",
    "df_test.head()"
   ]
  },
  {
   "cell_type": "code",
   "execution_count": null,
   "metadata": {
    "colab": {
     "base_uri": "https://localhost:8080/",
     "height": 0
    },
    "colab_type": "code",
    "id": "NFIEQnI5hx6W",
    "outputId": "e8882364-d589-44c1-d833-9340bc3aeb8d"
   },
   "outputs": [],
   "source": [
    "df_test.isna().sum()"
   ]
  },
  {
   "cell_type": "markdown",
   "metadata": {
    "colab_type": "text",
    "id": "u9cwxOwlL8Pp"
   },
   "source": [
    " <a id=section405></a>\n",
    "## 4.5 Remove outliers\n"
   ]
  },
  {
   "cell_type": "code",
   "execution_count": null,
   "metadata": {
    "colab": {},
    "colab_type": "code",
    "id": "RNg4c4hYMEhj"
   },
   "outputs": [],
   "source": [
    "feature_cols = list(df_test.columns)\n",
    "continuous_columns = list(df_test.select_dtypes(include='number').columns)\n",
    "categorical_columns = list(df_test.columns.difference(continuous_columns))"
   ]
  },
  {
   "cell_type": "code",
   "execution_count": null,
   "metadata": {
    "colab": {
     "base_uri": "https://localhost:8080/",
     "height": 0
    },
    "colab_type": "code",
    "id": "R5autdwwDQfA",
    "outputId": "3ef566d9-dfce-4136-e7bb-437601125d31"
   },
   "outputs": [],
   "source": [
    "df_train.shape"
   ]
  },
  {
   "cell_type": "markdown",
   "metadata": {
    "colab_type": "text",
    "id": "Of-tj348_Zsn"
   },
   "source": [
    "#### Train\n"
   ]
  },
  {
   "cell_type": "code",
   "execution_count": null,
   "metadata": {
    "colab": {
     "base_uri": "https://localhost:8080/",
     "height": 0
    },
    "colab_type": "code",
    "id": "QcvNUFT9_ceT",
    "outputId": "43df8d86-d737-4afb-e5a3-78c120f2383b"
   },
   "outputs": [],
   "source": [
    "from sklearn.ensemble import IsolationForest\n",
    "\n",
    "clf = IsolationForest(max_samples=100, random_state=1, contamination='auto')\n",
    "preds = clf.fit_predict(df_train[continuous_columns])\n",
    "\n",
    "# Select all rows that are not outliers\n",
    "mask = preds != -1\n",
    "df_train = df_train[mask]\n",
    "df_train"
   ]
  },
  {
   "cell_type": "markdown",
   "metadata": {
    "colab_type": "text",
    "id": "4-sOSjHvILy0"
   },
   "source": [
    " <a id=section406></a>\n",
    "## 4.6 Extracting features from date_of_establishment"
   ]
  },
  {
   "cell_type": "markdown",
   "metadata": {
    "colab_type": "text",
    "id": "ixKtMX5DO1d8"
   },
   "source": [
    "#### Train"
   ]
  },
  {
   "cell_type": "code",
   "execution_count": null,
   "metadata": {
    "colab": {},
    "colab_type": "code",
    "id": "aHci2S_9MT3y"
   },
   "outputs": [],
   "source": [
    "df_train['cur_year'] = df_train['date_of_establishment'].dt.year\n",
    "df_train['cur_year'] = df_train['cur_year'].astype(str)"
   ]
  },
  {
   "cell_type": "code",
   "execution_count": null,
   "metadata": {
    "colab": {},
    "colab_type": "code",
    "id": "WLitVRSqNwDd"
   },
   "outputs": [],
   "source": [
    "df_train.drop('date_of_establishment', axis = 1, inplace=True)"
   ]
  },
  {
   "cell_type": "markdown",
   "metadata": {
    "colab_type": "text",
    "id": "37ZZIh7bPj86"
   },
   "source": [
    "#### Test"
   ]
  },
  {
   "cell_type": "code",
   "execution_count": null,
   "metadata": {
    "colab": {},
    "colab_type": "code",
    "id": "htoDIRTePj89"
   },
   "outputs": [],
   "source": [
    "df_test['cur_year'] = df_test['date_of_establishment'].dt.year\n",
    "df_test['cur_year'] = df_test['cur_year'].astype(str)"
   ]
  },
  {
   "cell_type": "code",
   "execution_count": null,
   "metadata": {
    "colab": {},
    "colab_type": "code",
    "id": "HMYinVi8Pj9N"
   },
   "outputs": [],
   "source": [
    "df_test.drop('date_of_establishment', axis = 1, inplace=True)"
   ]
  },
  {
   "cell_type": "markdown",
   "metadata": {
    "colab_type": "text",
    "id": "oWTIpd_pa2W4"
   },
   "source": [
    " <a id=section407></a>\n",
    "## 4.7 Pandas Profiling after Data Preprocessing"
   ]
  },
  {
   "cell_type": "code",
   "execution_count": null,
   "metadata": {
    "colab": {},
    "colab_type": "code",
    "id": "8OmS3-MWHfbt"
   },
   "outputs": [],
   "source": [
    "from pandas_profiling import ProfileReport\n",
    "\n",
    "# Running pandas profiling to get better understanding of data\n",
    "#profile =  ProfileReport(df_train, title='Pandas Profiling Report after data preprocessing', html={'style':{'full_width':True}})\n",
    "#profile.to_file(output_file=\"train_report_after_processing.html\")"
   ]
  },
  {
   "cell_type": "code",
   "execution_count": null,
   "metadata": {
    "colab": {},
    "colab_type": "code",
    "id": "DtOzQD7BHfcT"
   },
   "outputs": [],
   "source": [
    "# Running pandas profiling to get better understanding of data\n",
    "#profile =  ProfileReport(df_test, title='Pandas Profiling Report after data preprocessing', html={'style':{'full_width':True}})\n",
    "#profile.to_file(output_file=\"test_report_after_processing.html\")"
   ]
  },
  {
   "cell_type": "markdown",
   "metadata": {
    "colab_type": "text",
    "id": "AK66Ggama2W-"
   },
   "source": [
    " <a id=section5></a>\n",
    "# 5. Exploratory Data Analysis"
   ]
  },
  {
   "cell_type": "markdown",
   "metadata": {
    "colab_type": "text",
    "id": "cf3wx6xMa2XA"
   },
   "source": [
    " <a id=section501></a>\n",
    "## 5.1 Univariate Analysis"
   ]
  },
  {
   "cell_type": "code",
   "execution_count": null,
   "metadata": {
    "colab": {},
    "colab_type": "code",
    "id": "B8iaB38ha2XB"
   },
   "outputs": [],
   "source": []
  },
  {
   "cell_type": "markdown",
   "metadata": {
    "colab_type": "text",
    "id": "CG-N0SUra2XJ"
   },
   "source": [
    " <a id=section502></a>\n",
    " ## 5.2 Multivariate Analysis"
   ]
  },
  {
   "cell_type": "code",
   "execution_count": null,
   "metadata": {
    "colab": {},
    "colab_type": "code",
    "id": "F-Uy6PIia2XK"
   },
   "outputs": [],
   "source": []
  },
  {
   "cell_type": "markdown",
   "metadata": {
    "colab_type": "text",
    "id": "rHtg7_BTa2XO"
   },
   "source": [
    " <a id=section6></a>\n",
    " # 6. Creating Model and Prediction"
   ]
  },
  {
   "cell_type": "markdown",
   "metadata": {
    "colab_type": "text",
    "id": "S7q1aeqeRQEg"
   },
   "source": [
    " <a id=section601></a>\n",
    "## 6.1 Converting categorical variables to numerical\n",
    "\n"
   ]
  },
  {
   "cell_type": "code",
   "execution_count": null,
   "metadata": {
    "colab": {},
    "colab_type": "code",
    "id": "D7N2jITTS2aY"
   },
   "outputs": [],
   "source": [
    "feature_cols = list(df_test.columns)\n",
    "continuous_columns = list(df_test.select_dtypes(include='number').columns)\n",
    "categorical_columns = list(df_test.columns.difference(continuous_columns))"
   ]
  },
  {
   "cell_type": "markdown",
   "metadata": {
    "colab_type": "text",
    "id": "Er--Y8EMcffv"
   },
   "source": [
    "### a. One Hot Encoding"
   ]
  },
  {
   "cell_type": "markdown",
   "metadata": {
    "colab_type": "text",
    "id": "WYkLTi7DeX_X"
   },
   "source": [
    "#### Train\n"
   ]
  },
  {
   "cell_type": "code",
   "execution_count": null,
   "metadata": {
    "colab": {
     "base_uri": "https://localhost:8080/",
     "height": 85
    },
    "colab_type": "code",
    "id": "DEsKmvPZ7Pwc",
    "outputId": "06f7ced2-41de-4a1e-b1ac-abe91b81d614"
   },
   "outputs": [],
   "source": [
    "# lets look at how many unique labels each category has\n",
    "for i in range(0, len(categorical_columns)):\n",
    "  print(categorical_columns[i], \" - \", df_train[categorical_columns[i]].nunique())"
   ]
  },
  {
   "cell_type": "markdown",
   "metadata": {
    "colab_type": "text",
    "id": "9bmIH4Cael0j"
   },
   "source": [
    "NOTE:\n",
    "\n",
    "**cur_year** has 111 unique values. let's see its distribution"
   ]
  },
  {
   "cell_type": "code",
   "execution_count": null,
   "metadata": {
    "colab": {
     "base_uri": "https://localhost:8080/",
     "height": 221
    },
    "colab_type": "code",
    "id": "q7EW8vbge3zi",
    "outputId": "1eb73494-47fa-4055-be7a-cb3e5c26269e"
   },
   "outputs": [],
   "source": [
    "df_train['cur_year'].value_counts()"
   ]
  },
  {
   "cell_type": "markdown",
   "metadata": {
    "colab_type": "text",
    "id": "8wxLELYcfPGZ"
   },
   "source": [
    "As distribution is mostly concentrated in top 10 categories.\n",
    "Can we apply below thesis results?\n",
    "\n",
    "http://proceedings.mlr.press/v7/niculescu09/niculescu09.pdf\n",
    "\n",
    "In the winning solution Of the KDD 2009 cup: \"Winning the KDD Cup Orange Challenge with Ensemble Selection the authors limit one hot encoding to the 10 most frequent labels of the variable. This means that they would make one binary variable for each of the 10 most frequent labels only. This iS equivalent to grouping all the other labels under a new category, that in this case will be dropped. Thus, the 10 new dummy variables indicate if one of the 10 most frequent labels is present (1) or not (O) for a particular observation."
   ]
  },
  {
   "cell_type": "markdown",
   "metadata": {
    "colab_type": "text",
    "id": "TY_CbDZT7TYw"
   },
   "source": [
    "#### Train"
   ]
  },
  {
   "cell_type": "code",
   "execution_count": null,
   "metadata": {
    "colab": {},
    "colab_type": "code",
    "id": "phr6Cslda2XP"
   },
   "outputs": [],
   "source": [
    "imp_labels = list(df_train['cur_year'].value_counts().head(10).index)\n",
    "\n",
    "for label in imp_labels:\n",
    "    df_train['cur_year_'+label] = np.where(df_train['cur_year'] == label, 1, 0)\n",
    "\n",
    "df_train.drop('cur_year', axis = 1, inplace=True)"
   ]
  },
  {
   "cell_type": "code",
   "execution_count": null,
   "metadata": {
    "colab": {
     "base_uri": "https://localhost:8080/",
     "height": 255
    },
    "colab_type": "code",
    "id": "vFJWp2HEiI9D",
    "outputId": "76ffc0c0-010a-42f5-cf6f-422fc502cb4b"
   },
   "outputs": [],
   "source": [
    "df_train.head()"
   ]
  },
  {
   "cell_type": "markdown",
   "metadata": {
    "colab_type": "text",
    "id": "AShEulVBi8zp"
   },
   "source": [
    "#### Test"
   ]
  },
  {
   "cell_type": "code",
   "execution_count": null,
   "metadata": {
    "colab": {},
    "colab_type": "code",
    "id": "daBoXCb8i8zt"
   },
   "outputs": [],
   "source": [
    "for label in imp_labels:\n",
    "    df_test['cur_year_'+label] = np.where(df_test['cur_year'] == label, 1, 0)\n",
    "\n",
    "df_test.drop('cur_year', axis = 1, inplace=True)"
   ]
  },
  {
   "cell_type": "code",
   "execution_count": null,
   "metadata": {
    "colab": {
     "base_uri": "https://localhost:8080/",
     "height": 272
    },
    "colab_type": "code",
    "id": "H-7j2B-ki8z4",
    "outputId": "bea6e939-793c-4fcc-e5b7-82ca6126283e"
   },
   "outputs": [],
   "source": [
    "df_test.head()"
   ]
  },
  {
   "cell_type": "markdown",
   "metadata": {
    "colab_type": "text",
    "id": "uaDNRiubjkht"
   },
   "source": [
    "### b. Clustering location details "
   ]
  },
  {
   "cell_type": "code",
   "execution_count": null,
   "metadata": {
    "colab": {},
    "colab_type": "code",
    "id": "piNjOtK_nk3Q"
   },
   "outputs": [],
   "source": [
    "!pip install geopandas\n",
    "!pip install geopy"
   ]
  },
  {
   "cell_type": "code",
   "execution_count": null,
   "metadata": {
    "colab": {
     "base_uri": "https://localhost:8080/",
     "height": 34
    },
    "colab_type": "code",
    "id": "LbjRBSR5n2zC",
    "outputId": "4c2dd4b7-494f-45ad-c27e-41a7327fc4d5"
   },
   "outputs": [],
   "source": [
    "from geopy.geocoders import Nominatim\n",
    "locator = Nominatim(user_agent='myGeocoder')\n",
    "location = locator.geocode('Scarsdale,NY')\n",
    "print('Latitude = {}, Longitude = {}'.format(location.latitude, location.longitude))"
   ]
  },
  {
   "cell_type": "code",
   "execution_count": null,
   "metadata": {
    "colab": {},
    "colab_type": "code",
    "id": "gMuWAawtzLaT"
   },
   "outputs": [],
   "source": [
    "def calculate_lat_long(df, type):\n",
    "  location = locator.geocode(df['location']+','+df['state'])\n",
    "  if location is not None:\n",
    "    if type == 'lat':\n",
    "      return location.latitude\n",
    "    else:\n",
    "      return location.longitude\n",
    "  else:\n",
    "    return np.nan"
   ]
  },
  {
   "cell_type": "code",
   "execution_count": null,
   "metadata": {
    "colab": {},
    "colab_type": "code",
    "id": "fxh_lN4Py04l"
   },
   "outputs": [],
   "source": [
    "df_train['loc_lat'] = df_train.apply(lambda row: calculate_lat_long(row, 'lat'), axis=1)\n",
    "df_train['loc_long'] = df_train.apply(lambda row: calculate_lat_long(row, 'long'), axis=1)"
   ]
  },
  {
   "cell_type": "markdown",
   "metadata": {
    "colab_type": "text",
    "id": "NgH7WSYmwpCR"
   },
   "source": [
    " <a id=section602></a>\n",
    "## 6.2 Check for assumptions of linear regression"
   ]
  },
  {
   "cell_type": "markdown",
   "metadata": {
    "colab_type": "text",
    "id": "T-Ry-JqGxLkH"
   },
   "source": [
    "### 6.2.1 Target variable should be normally distributed\n"
   ]
  },
  {
   "cell_type": "code",
   "execution_count": null,
   "metadata": {
    "colab": {},
    "colab_type": "code",
    "id": "y7BQ2SyKxR7X"
   },
   "outputs": [],
   "source": [
    "house_price = df_property_price[~df_property_price['Sale_Price'].isna()]['Sale_Price']\n",
    "sns.distplot(house_price, color=\"b\")"
   ]
  },
  {
   "cell_type": "code",
   "execution_count": null,
   "metadata": {
    "colab": {},
    "colab_type": "code",
    "id": "aes3NCgP0rJa"
   },
   "outputs": [],
   "source": [
    "house_price_log=  np.log(df_property_price[~df_property_price['Sale_Price'].isna()]['Sale_Price'])\n",
    "sns.distplot(house_price_log, color=\"b\")"
   ]
  },
  {
   "cell_type": "code",
   "execution_count": null,
   "metadata": {
    "colab": {},
    "colab_type": "code",
    "id": "JV-8yPAR4Bwn"
   },
   "outputs": [],
   "source": [
    "df_property_price['Sale_Price'] = house_price_log\n",
    "sns.distplot(df_property_price[~df_property_price['Sale_Price'].isna()]['Sale_Price'], color=\"b\")"
   ]
  },
  {
   "cell_type": "markdown",
   "metadata": {
    "colab_type": "text",
    "id": "ZXI2i13b5NmP"
   },
   "source": [
    "### 6.2.2 Independant variables shouldn't be correlated"
   ]
  },
  {
   "cell_type": "code",
   "execution_count": null,
   "metadata": {
    "colab": {},
    "colab_type": "code",
    "id": "arpSz04-5NLd"
   },
   "outputs": [],
   "source": [
    "# extracting feature columns\n",
    "feature_cols = list(df_property_price.columns)\n",
    "feature_cols.remove('Sale_Price')\n",
    "feature_cols"
   ]
  },
  {
   "cell_type": "code",
   "execution_count": null,
   "metadata": {
    "colab": {},
    "colab_type": "code",
    "id": "ktfD4PUA6prA"
   },
   "outputs": [],
   "source": [
    "# extracting highly correlated columns to drop\n",
    "\n",
    "# Create correlation matrix\n",
    "corr_matrix = df_property_price[feature_cols].corr().abs()\n",
    "\n",
    "# Select upper triangle of correlation matrix\n",
    "upper = corr_matrix.where(np.triu(np.ones(corr_matrix.shape), k=1).astype(np.bool))\n",
    "\n",
    "# Find index of feature columns with correlation greater than 0.95\n",
    "to_drop = [column for column in upper.columns if any(upper[column] > 0.80)]\n",
    "to_drop"
   ]
  },
  {
   "cell_type": "code",
   "execution_count": null,
   "metadata": {
    "colab": {},
    "colab_type": "code",
    "id": "JAywvqIsw5go"
   },
   "outputs": [],
   "source": [
    "# Drop features \n",
    "df_property_price.drop(to_drop, axis=1, inplace=True)\n",
    "df_property_price.shape"
   ]
  },
  {
   "cell_type": "markdown",
   "metadata": {
    "colab_type": "text",
    "id": "lSmrkLSJ5XyV"
   },
   "source": [
    "### 6.2.3 Independant variables and target variable should have linear relation"
   ]
  },
  {
   "cell_type": "code",
   "execution_count": null,
   "metadata": {
    "colab": {},
    "colab_type": "code",
    "id": "r_7RUtsw5sdM"
   },
   "outputs": [],
   "source": []
  },
  {
   "cell_type": "markdown",
   "metadata": {
    "colab_type": "text",
    "id": "1Mi9b20mlyDC"
   },
   "source": [
    " <a id=section603></a>\n",
    "## 6.3 Segregating test data and string to a dataframe\n",
    "\n"
   ]
  },
  {
   "cell_type": "code",
   "execution_count": null,
   "metadata": {
    "colab": {},
    "colab_type": "code",
    "id": "FVxdKX_5lvtm"
   },
   "outputs": [],
   "source": [
    "df_property_price_train = df_property_price[~df_property_price['Sale_Price'].isna()]\n",
    "df_property_price_train['Sale_Price'].head()"
   ]
  },
  {
   "cell_type": "code",
   "execution_count": null,
   "metadata": {
    "colab": {},
    "colab_type": "code",
    "id": "Y45OiiGBnu41"
   },
   "outputs": [],
   "source": [
    "df_property_price_test = df_property_price[df_property_price['Sale_Price'].isna()]\n",
    "df_property_price_test['Sale_Price'].head()"
   ]
  },
  {
   "cell_type": "markdown",
   "metadata": {
    "colab_type": "text",
    "id": "e7_oMkvaVO-1"
   },
   "source": [
    " <a id=section604></a>\n",
    "## 6.4 Standardization of independent variables\n"
   ]
  },
  {
   "cell_type": "code",
   "execution_count": null,
   "metadata": {
    "colab": {},
    "colab_type": "code",
    "id": "YaNJX_qDVbbC"
   },
   "outputs": [],
   "source": [
    "# extracting feature columns again\n",
    "feature_cols = list(df_property_price.columns)\n",
    "feature_cols.remove('Sale_Price')\n",
    "len(feature_cols)"
   ]
  },
  {
   "cell_type": "code",
   "execution_count": null,
   "metadata": {
    "colab": {},
    "colab_type": "code",
    "id": "r03zFQB-9h9O"
   },
   "outputs": [],
   "source": [
    "from sklearn.preprocessing import StandardScaler\n",
    "\n",
    "# standardizing train data\n",
    "scaler = StandardScaler().fit(df_property_price_train[feature_cols])\n",
    "data_train = scaler.transform(df_property_price_train[feature_cols])\n",
    "\n",
    "# standardizing test data\n",
    "scaler = StandardScaler().fit(df_property_price_test[feature_cols])\n",
    "data_test = scaler.transform(df_property_price_test[feature_cols])"
   ]
  },
  {
   "cell_type": "code",
   "execution_count": null,
   "metadata": {
    "colab": {},
    "colab_type": "code",
    "id": "q3jJB5ubnX2k"
   },
   "outputs": [],
   "source": [
    "# forming dataframe after standardization\n",
    "df_property_price_train_sd= pd.DataFrame(data_train)\n",
    "df_property_price_train_sd.columns = feature_cols\n",
    "df_property_price_train_sd.head()"
   ]
  },
  {
   "cell_type": "code",
   "execution_count": null,
   "metadata": {
    "colab": {},
    "colab_type": "code",
    "id": "G-HDRWDMk0LR"
   },
   "outputs": [],
   "source": [
    "# forming dataframe after standardization\n",
    "df_property_price_test_sd= pd.DataFrame(data_train)\n",
    "df_property_price_test_sd.columns = feature_cols\n",
    "df_property_price_test_sd.head()"
   ]
  },
  {
   "cell_type": "markdown",
   "metadata": {
    "colab_type": "text",
    "id": "19qiPg1Wo-dL"
   },
   "source": [
    " <a id=section605></a>\n",
    "\n",
    "### 6.5 Model prediction"
   ]
  },
  {
   "cell_type": "code",
   "execution_count": null,
   "metadata": {
    "colab": {},
    "colab_type": "code",
    "id": "7kfQ9EgWqnwq"
   },
   "outputs": [],
   "source": [
    "from sklearn.linear_model import LinearRegression\n",
    "linreg = LinearRegression()"
   ]
  },
  {
   "cell_type": "code",
   "execution_count": null,
   "metadata": {
    "colab": {},
    "colab_type": "code",
    "id": "H_pvCttuqIOn"
   },
   "outputs": [],
   "source": [
    "X_train = df_property_price_train_sd[feature_cols]\n",
    "y_train = df_property_price_train['Sale_Price']\n",
    "\n",
    "X_test = df_property_price_test_sd[feature_cols]\n",
    "X_test.shape"
   ]
  },
  {
   "cell_type": "code",
   "execution_count": null,
   "metadata": {
    "colab": {},
    "colab_type": "code",
    "id": "m4YNqH6ky8nt"
   },
   "outputs": [],
   "source": [
    "linreg.fit(X_train,y_train)"
   ]
  },
  {
   "cell_type": "markdown",
   "metadata": {
    "colab_type": "text",
    "id": "Sq3fYNwMy8QP"
   },
   "source": []
  },
  {
   "cell_type": "code",
   "execution_count": null,
   "metadata": {
    "colab": {},
    "colab_type": "code",
    "id": "kF_P_Wp5ridb"
   },
   "outputs": [],
   "source": [
    "print('Intercept:',linreg.intercept_)# print the intercept \n",
    "print('Coefficients:',linreg.coef_)  "
   ]
  },
  {
   "cell_type": "code",
   "execution_count": null,
   "metadata": {
    "colab": {},
    "colab_type": "code",
    "id": "ffF_uavKrtVr"
   },
   "outputs": [],
   "source": [
    "y_pred_train = linreg.predict(X_train) \n",
    "y_pred_train"
   ]
  },
  {
   "cell_type": "code",
   "execution_count": null,
   "metadata": {
    "colab": {},
    "colab_type": "code",
    "id": "cOIYHiuJr2zf"
   },
   "outputs": [],
   "source": [
    "y_pred_test = linreg.predict(X_test)   # make predictions on the testing set"
   ]
  },
  {
   "cell_type": "code",
   "execution_count": null,
   "metadata": {
    "colab": {},
    "colab_type": "code",
    "id": "0jQZwx2FsCJE"
   },
   "outputs": [],
   "source": [
    "from sklearn import metrics\n",
    "RMSE_train = np.sqrt( metrics.mean_squared_error(y_train, y_pred_train))\n",
    "print('RMSE for training set is {}'.format(RMSE_train))"
   ]
  },
  {
   "cell_type": "code",
   "execution_count": null,
   "metadata": {
    "colab": {},
    "colab_type": "code",
    "id": "vf-HiAfWz6UU"
   },
   "outputs": [],
   "source": [
    "yhat = linreg.predict(X_train)\n",
    "SS_Residual = sum((y_train-yhat)**2)\n",
    "SS_Total = sum((y_train-np.mean(y_train))**2)\n",
    "r_squared = 1 - (float(SS_Residual))/SS_Total\n",
    "adjusted_r_squared = 1 - (1-r_squared)*(len(y_train)-1)/(len(y_train)-X_train.shape[1]-1)\n",
    "print(r_squared, adjusted_r_squared)"
   ]
  },
  {
   "cell_type": "code",
   "execution_count": null,
   "metadata": {
    "colab": {},
    "colab_type": "code",
    "id": "VsT-eKNc2LeF"
   },
   "outputs": [],
   "source": [
    "y_pred_test = linreg.predict(X_test) \n",
    "y_pred_test.shape"
   ]
  },
  {
   "cell_type": "code",
   "execution_count": null,
   "metadata": {
    "colab": {},
    "colab_type": "code",
    "id": "EJCjnSZO2tjs"
   },
   "outputs": [],
   "source": [
    "x = np.exp(y_pred_test)\n",
    "x.shape"
   ]
  },
  {
   "cell_type": "code",
   "execution_count": null,
   "metadata": {
    "colab": {},
    "colab_type": "code",
    "id": "OP3GiJrGUhIb"
   },
   "outputs": [],
   "source": [
    "# Null deviance\n",
    "# Residual deviance\n",
    "#RMSE  Actual +- RMSE"
   ]
  }
 ],
 "metadata": {
  "colab": {
   "collapsed_sections": [
    "4lDKKbq6c0RV",
    "PNPH36LP8IGH",
    "vaK3s6Ad8iOv",
    "u7-n7R0r-VPl",
    "YxKtxlo4a2Wp",
    "u9cwxOwlL8Pp",
    "AK66Ggama2W-"
   ],
   "name": "Bank_Deposit_Prediction.ipynb",
   "provenance": [],
   "toc_visible": true
  },
  "kernelspec": {
   "display_name": "Python 3",
   "language": "python",
   "name": "python3"
  },
  "language_info": {
   "codemirror_mode": {
    "name": "ipython",
    "version": 3
   },
   "file_extension": ".py",
   "mimetype": "text/x-python",
   "name": "python",
   "nbconvert_exporter": "python",
   "pygments_lexer": "ipython3",
   "version": "3.7.3"
  }
 },
 "nbformat": 4,
 "nbformat_minor": 1
}
