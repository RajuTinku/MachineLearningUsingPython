{
  "nbformat": 4,
  "nbformat_minor": 0,
  "metadata": {
    "kernelspec": {
      "display_name": "Python 3",
      "language": "python",
      "name": "python3"
    },
    "language_info": {
      "codemirror_mode": {
        "name": "ipython",
        "version": 3
      },
      "file_extension": ".py",
      "mimetype": "text/x-python",
      "name": "python",
      "nbconvert_exporter": "python",
      "pygments_lexer": "ipython3",
      "version": "3.7.3"
    },
    "colab": {
      "name": "Bank_Deposit_Prediction.ipynb",
      "provenance": [],
      "collapsed_sections": [
        "npi95kuoa2Wi",
        "PHVDuFVxQOhv",
        "PNPH36LP8IGH",
        "YxKtxlo4a2Wp",
        "4-sOSjHvILy0",
        "OcqQ5ZMRphAG",
        "FMKYQxWjpy5K",
        "KB2mNBTUv19P",
        "JlSFsZ8nwCcP",
        "cGVU3hPUmDI7",
        "wBG14zz1mkQz",
        "1TZXiNkswCdk"
      ],
      "toc_visible": true
    }
  },
  "cells": [
    {
      "cell_type": "markdown",
      "metadata": {
        "id": "MgiSe-Fca2VU",
        "colab_type": "text"
      },
      "source": [
        "# Bank Deposit Prediction\n",
        "\n",
        "\n",
        "Hackathon link: https://skillenza.com/challenge/imarticus-datascience-hackathon-july2020\n",
        "\n"
      ]
    },
    {
      "cell_type": "markdown",
      "metadata": {
        "id": "OihwClnHa2Vf",
        "colab_type": "text"
      },
      "source": [
        "## Table of Contents\n",
        "\n",
        "1. [Problem Statement](#section1)<br>\n",
        "2. [Importing Packages](#section2)<br>\n",
        "3. [Loading Data](#section3)<br>\n",
        "  - 3.1 [Description of the Datasets](#section301)<br>\n",
        "  - 3.2 [Pandas Profiling before Data Preprocessing](#section302)<br>\n",
        "4. [Data Preprocessing](#section4)<br>\n",
        "  - 4.1 [Dropping columns which may not help in model prediction](#section401)<br>\n",
        "  - 4.2 [Handling mismatched datatypes](#section402)<br>\n",
        "  - 4.3 [Filling missing values](#section403)<br>\n",
        "  - 4.4 [Removing outliers](#section404)<br>\n",
        "  - 4.5 [Extracting features from date_of_establishment](#section405)<br>\n",
        "  - 4.6 [Pandas Profiling after Data Preprocessing](#section406)<br>\n",
        "5. [Exploratory Data Analysis](#section5)<br>\n",
        "  - 5.1 [Multivariate Analysis](#section501)<br>\n",
        "6. [Data preparation for model building](#section6)<br>  \n",
        "  - 6.1 [Converting categorical variables to numerical](#section601)<br>\n",
        "  - 6.2 [Standardization of continuous independant variables](#section602)\n",
        "7. [Ensemble Modelling and Prediction](#section7)<br>  \n",
        "  - 7.1 [Linear Regression](#section701)\n",
        "  - 7.2 [Random Forest](#section702)\n",
        "  - 7.3 [GradientBoostingRegressor](#section703)\n",
        "8. [Conclusion](#section8)<br>  "
      ]
    },
    {
      "cell_type": "markdown",
      "metadata": {
        "id": "4OtQbjmHa2Vo",
        "colab_type": "text"
      },
      "source": [
        "<a id=section1></a>\n",
        "# 1. Problem Statement"
      ]
    },
    {
      "cell_type": "markdown",
      "metadata": {
        "id": "wEXIvSxia2Vt",
        "colab_type": "text"
      },
      "source": [
        "The objective of the problem is to predict the amount that would be deposited in each branch in the year 2017. \n"
      ]
    },
    {
      "cell_type": "markdown",
      "metadata": {
        "id": "F988tUR0a2Vy",
        "colab_type": "text"
      },
      "source": [
        "<a id=section2></a>\n",
        "# 2. Importing Packages"
      ]
    },
    {
      "cell_type": "code",
      "metadata": {
        "id": "GLHl_0o9a2V5",
        "colab_type": "code",
        "colab": {}
      },
      "source": [
        "import numpy as np                     \n",
        "\n",
        "import pandas as pd\n",
        "\n",
        "# To suppress pandas warnings.\n",
        "pd.set_option('mode.chained_assignment', None) \n",
        "\n",
        "# To display all the data in each column\n",
        "pd.set_option('display.max_colwidth', -1)         \n",
        "\n",
        "pd.get_option(\"display.max_rows\",10000)\n",
        "\n",
        "# To display every column of the dataset in head()\n",
        "pd.options.display.max_columns = 100               \n",
        "\n",
        "import warnings\n",
        "warnings.filterwarnings('ignore')     "
      ],
      "execution_count": 46,
      "outputs": []
    },
    {
      "cell_type": "code",
      "metadata": {
        "id": "lWuM--2IcyhY",
        "colab_type": "code",
        "colab": {}
      },
      "source": [
        "import matplotlib.pyplot as plt\n",
        "%matplotlib inline\n",
        "\n",
        "# To apply seaborn styles to the plots.\n",
        "import seaborn as sns\n",
        "sns.set(style='whitegrid', font_scale=1.3, color_codes=True)      "
      ],
      "execution_count": 47,
      "outputs": []
    },
    {
      "cell_type": "markdown",
      "metadata": {
        "id": "gW0WUwI0a2WJ",
        "colab_type": "text"
      },
      "source": [
        "<a id=section3></a>\n",
        "\n",
        "# 3. Loading Data"
      ]
    },
    {
      "cell_type": "code",
      "metadata": {
        "id": "1eWpnal7a2WN",
        "colab_type": "code",
        "colab": {}
      },
      "source": [
        "df_test = pd.read_csv('test.csv', index_col = \"id\")\n",
        "df_train = pd.read_csv('train.csv', index_col = \"id\")"
      ],
      "execution_count": 48,
      "outputs": []
    },
    {
      "cell_type": "markdown",
      "metadata": {
        "id": "GwJAXzM7a2WY",
        "colab_type": "text"
      },
      "source": [
        "<a id=section301></a>\n",
        "## 3.1 Description of the Datasets"
      ]
    },
    {
      "cell_type": "markdown",
      "metadata": {
        "id": "YZ2IBl6D41Gv",
        "colab_type": "text"
      },
      "source": [
        "### a. shape"
      ]
    },
    {
      "cell_type": "code",
      "metadata": {
        "id": "_miXJUQWekMg",
        "colab_type": "code",
        "colab": {
          "base_uri": "https://localhost:8080/",
          "height": 34
        },
        "outputId": "3f955908-b992-4b0a-9a13-14e9073fc822"
      },
      "source": [
        "# checking shape of data\n",
        "df_train.shape, df_test.shape"
      ],
      "execution_count": 49,
      "outputs": [
        {
          "output_type": "execute_result",
          "data": {
            "text/plain": [
              "((3790, 13), (1623, 12))"
            ]
          },
          "metadata": {
            "tags": []
          },
          "execution_count": 49
        }
      ]
    },
    {
      "cell_type": "markdown",
      "metadata": {
        "id": "r2sZMYh2o82E",
        "colab_type": "text"
      },
      "source": [
        "### b. info"
      ]
    },
    {
      "cell_type": "markdown",
      "metadata": {
        "id": "OU0eHkILOcfr",
        "colab_type": "text"
      },
      "source": [
        "- **id:** Unique identifier for each data point relationship.\n",
        "- **headquarter:** Is the branch where the deposit was made the main office of the bank. 0 signifies no and 1 signifies yes.\n",
        "- **location.Code:** Internally used identification number of the branch or certain branches.\n",
        "- **date_of_establishment:** The date at which the bank branch was established\n",
        "- **location,state,loc.details:** Geographical Details of the bank branch.\n",
        "- **deposit_amount_year( 2011 Deposits, 2012 Deposits…)**: Deposit amount in U.S. dollars for specific branch for a specific year."
      ]
    },
    {
      "cell_type": "markdown",
      "metadata": {
        "id": "yhPSCPfcrDor",
        "colab_type": "text"
      },
      "source": [
        "#### Train"
      ]
    },
    {
      "cell_type": "code",
      "metadata": {
        "id": "YaQRWAAAa2Wa",
        "colab_type": "code",
        "colab": {
          "base_uri": "https://localhost:8080/",
          "height": 357
        },
        "outputId": "884573ea-b507-4a25-be40-241aed878270"
      },
      "source": [
        "df_train.info()"
      ],
      "execution_count": 50,
      "outputs": [
        {
          "output_type": "stream",
          "text": [
            "<class 'pandas.core.frame.DataFrame'>\n",
            "Int64Index: 3790 entries, 1 to 3790\n",
            "Data columns (total 13 columns):\n",
            " #   Column                 Non-Null Count  Dtype  \n",
            "---  ------                 --------------  -----  \n",
            " 0   headquarter            3790 non-null   int64  \n",
            " 1   location.Code          3790 non-null   int64  \n",
            " 2   date_of_establishment  1750 non-null   object \n",
            " 3   location               3790 non-null   object \n",
            " 4   loc.details            3790 non-null   object \n",
            " 5   state                  3790 non-null   object \n",
            " 6   deposit_amount_2011    3050 non-null   float64\n",
            " 7   deposit_amount_2012    3212 non-null   float64\n",
            " 8   deposit_amount_2013    3461 non-null   float64\n",
            " 9   deposit_amount_2014    3615 non-null   float64\n",
            " 10  deposit_amount_2015    3734 non-null   float64\n",
            " 11  deposit_amount_2016    3771 non-null   float64\n",
            " 12  deposit_amount_2017    3771 non-null   float64\n",
            "dtypes: float64(7), int64(2), object(4)\n",
            "memory usage: 414.5+ KB\n"
          ],
          "name": "stdout"
        }
      ]
    },
    {
      "cell_type": "markdown",
      "metadata": {
        "id": "UaPfzfFZrIB3",
        "colab_type": "text"
      },
      "source": [
        "#### Test"
      ]
    },
    {
      "cell_type": "code",
      "metadata": {
        "id": "lZvxUh2upD24",
        "colab_type": "code",
        "colab": {
          "base_uri": "https://localhost:8080/",
          "height": 340
        },
        "outputId": "f936bf91-b824-4f17-f996-d50b638b009e"
      },
      "source": [
        "df_test.info()"
      ],
      "execution_count": 51,
      "outputs": [
        {
          "output_type": "stream",
          "text": [
            "<class 'pandas.core.frame.DataFrame'>\n",
            "Int64Index: 1623 entries, 1 to 1623\n",
            "Data columns (total 12 columns):\n",
            " #   Column                 Non-Null Count  Dtype  \n",
            "---  ------                 --------------  -----  \n",
            " 0   headquarter            1623 non-null   int64  \n",
            " 1   location.Code          1623 non-null   int64  \n",
            " 2   date_of_establishment  809 non-null    object \n",
            " 3   location               1623 non-null   object \n",
            " 4   loc.details            1623 non-null   object \n",
            " 5   state                  1623 non-null   object \n",
            " 6   deposit_amount_2011    1623 non-null   float64\n",
            " 7   deposit_amount_2012    1623 non-null   float64\n",
            " 8   deposit_amount_2013    1623 non-null   float64\n",
            " 9   deposit_amount_2014    1623 non-null   float64\n",
            " 10  deposit_amount_2015    1623 non-null   float64\n",
            " 11  deposit_amount_2016    1623 non-null   float64\n",
            "dtypes: float64(6), int64(2), object(4)\n",
            "memory usage: 164.8+ KB\n"
          ],
          "name": "stdout"
        }
      ]
    },
    {
      "cell_type": "markdown",
      "metadata": {
        "id": "t7t27K_8qVOw",
        "colab_type": "text"
      },
      "source": [
        "**Observations:**\n",
        "\n",
        "1. We can see missing values in few columns. We will take care of it pre processing step.\n",
        "2. **date_of_establishment** is interpreted as object, we need to convert into pandas datetime.\n",
        "3. **location.Code** is categorical column but interpreted as numerical. We will take care of it pre processing step."
      ]
    },
    {
      "cell_type": "markdown",
      "metadata": {
        "id": "FvsEVeo8q9LY",
        "colab_type": "text"
      },
      "source": [
        "### c. describe"
      ]
    },
    {
      "cell_type": "markdown",
      "metadata": {
        "id": "3AeTe-_BrOnK",
        "colab_type": "text"
      },
      "source": [
        "#### Train"
      ]
    },
    {
      "cell_type": "code",
      "metadata": {
        "id": "1StJj48-eYvY",
        "colab_type": "code",
        "colab": {
          "base_uri": "https://localhost:8080/",
          "height": 317
        },
        "outputId": "ec70884d-5e6a-4c70-be72-7757cf949a0d"
      },
      "source": [
        "df_train.describe()"
      ],
      "execution_count": 52,
      "outputs": [
        {
          "output_type": "execute_result",
          "data": {
            "text/html": [
              "<div>\n",
              "<style scoped>\n",
              "    .dataframe tbody tr th:only-of-type {\n",
              "        vertical-align: middle;\n",
              "    }\n",
              "\n",
              "    .dataframe tbody tr th {\n",
              "        vertical-align: top;\n",
              "    }\n",
              "\n",
              "    .dataframe thead th {\n",
              "        text-align: right;\n",
              "    }\n",
              "</style>\n",
              "<table border=\"1\" class=\"dataframe\">\n",
              "  <thead>\n",
              "    <tr style=\"text-align: right;\">\n",
              "      <th></th>\n",
              "      <th>headquarter</th>\n",
              "      <th>location.Code</th>\n",
              "      <th>deposit_amount_2011</th>\n",
              "      <th>deposit_amount_2012</th>\n",
              "      <th>deposit_amount_2013</th>\n",
              "      <th>deposit_amount_2014</th>\n",
              "      <th>deposit_amount_2015</th>\n",
              "      <th>deposit_amount_2016</th>\n",
              "      <th>deposit_amount_2017</th>\n",
              "    </tr>\n",
              "  </thead>\n",
              "  <tbody>\n",
              "    <tr>\n",
              "      <th>count</th>\n",
              "      <td>3790.0</td>\n",
              "      <td>3790.000000</td>\n",
              "      <td>3.050000e+03</td>\n",
              "      <td>3.212000e+03</td>\n",
              "      <td>3.461000e+03</td>\n",
              "      <td>3.615000e+03</td>\n",
              "      <td>3.734000e+03</td>\n",
              "      <td>3.771000e+03</td>\n",
              "      <td>3.771000e+03</td>\n",
              "    </tr>\n",
              "    <tr>\n",
              "      <th>mean</th>\n",
              "      <td>0.0</td>\n",
              "      <td>5395.806332</td>\n",
              "      <td>1.683201e+05</td>\n",
              "      <td>1.882705e+05</td>\n",
              "      <td>1.933803e+05</td>\n",
              "      <td>2.045743e+05</td>\n",
              "      <td>2.183874e+05</td>\n",
              "      <td>2.364422e+05</td>\n",
              "      <td>3.546633e+05</td>\n",
              "    </tr>\n",
              "    <tr>\n",
              "      <th>std</th>\n",
              "      <td>0.0</td>\n",
              "      <td>1549.105135</td>\n",
              "      <td>4.196386e+06</td>\n",
              "      <td>5.171073e+06</td>\n",
              "      <td>5.320718e+06</td>\n",
              "      <td>5.610536e+06</td>\n",
              "      <td>5.970416e+06</td>\n",
              "      <td>6.422120e+06</td>\n",
              "      <td>9.633180e+06</td>\n",
              "    </tr>\n",
              "    <tr>\n",
              "      <th>min</th>\n",
              "      <td>0.0</td>\n",
              "      <td>2871.000000</td>\n",
              "      <td>0.000000e+00</td>\n",
              "      <td>0.000000e+00</td>\n",
              "      <td>0.000000e+00</td>\n",
              "      <td>0.000000e+00</td>\n",
              "      <td>0.000000e+00</td>\n",
              "      <td>0.000000e+00</td>\n",
              "      <td>0.000000e+00</td>\n",
              "    </tr>\n",
              "    <tr>\n",
              "      <th>25%</th>\n",
              "      <td>0.0</td>\n",
              "      <td>4067.250000</td>\n",
              "      <td>2.839800e+04</td>\n",
              "      <td>3.019912e+04</td>\n",
              "      <td>3.159750e+04</td>\n",
              "      <td>3.497175e+04</td>\n",
              "      <td>3.935850e+04</td>\n",
              "      <td>4.632150e+04</td>\n",
              "      <td>6.948225e+04</td>\n",
              "    </tr>\n",
              "    <tr>\n",
              "      <th>50%</th>\n",
              "      <td>0.0</td>\n",
              "      <td>5261.500000</td>\n",
              "      <td>5.344200e+04</td>\n",
              "      <td>5.577450e+04</td>\n",
              "      <td>5.961600e+04</td>\n",
              "      <td>6.353700e+04</td>\n",
              "      <td>7.015800e+04</td>\n",
              "      <td>7.877400e+04</td>\n",
              "      <td>1.181610e+05</td>\n",
              "    </tr>\n",
              "    <tr>\n",
              "      <th>75%</th>\n",
              "      <td>0.0</td>\n",
              "      <td>6863.250000</td>\n",
              "      <td>9.910912e+04</td>\n",
              "      <td>1.004205e+05</td>\n",
              "      <td>1.072440e+05</td>\n",
              "      <td>1.145288e+05</td>\n",
              "      <td>1.249448e+05</td>\n",
              "      <td>1.373490e+05</td>\n",
              "      <td>2.060235e+05</td>\n",
              "    </tr>\n",
              "    <tr>\n",
              "      <th>max</th>\n",
              "      <td>0.0</td>\n",
              "      <td>7994.000000</td>\n",
              "      <td>2.303660e+08</td>\n",
              "      <td>2.915820e+08</td>\n",
              "      <td>3.110520e+08</td>\n",
              "      <td>3.350930e+08</td>\n",
              "      <td>3.623109e+08</td>\n",
              "      <td>3.919391e+08</td>\n",
              "      <td>5.879087e+08</td>\n",
              "    </tr>\n",
              "  </tbody>\n",
              "</table>\n",
              "</div>"
            ],
            "text/plain": [
              "       headquarter  location.Code  deposit_amount_2011  deposit_amount_2012  \\\n",
              "count  3790.0       3790.000000    3.050000e+03         3.212000e+03          \n",
              "mean   0.0          5395.806332    1.683201e+05         1.882705e+05          \n",
              "std    0.0          1549.105135    4.196386e+06         5.171073e+06          \n",
              "min    0.0          2871.000000    0.000000e+00         0.000000e+00          \n",
              "25%    0.0          4067.250000    2.839800e+04         3.019912e+04          \n",
              "50%    0.0          5261.500000    5.344200e+04         5.577450e+04          \n",
              "75%    0.0          6863.250000    9.910912e+04         1.004205e+05          \n",
              "max    0.0          7994.000000    2.303660e+08         2.915820e+08          \n",
              "\n",
              "       deposit_amount_2013  deposit_amount_2014  deposit_amount_2015  \\\n",
              "count  3.461000e+03         3.615000e+03         3.734000e+03          \n",
              "mean   1.933803e+05         2.045743e+05         2.183874e+05          \n",
              "std    5.320718e+06         5.610536e+06         5.970416e+06          \n",
              "min    0.000000e+00         0.000000e+00         0.000000e+00          \n",
              "25%    3.159750e+04         3.497175e+04         3.935850e+04          \n",
              "50%    5.961600e+04         6.353700e+04         7.015800e+04          \n",
              "75%    1.072440e+05         1.145288e+05         1.249448e+05          \n",
              "max    3.110520e+08         3.350930e+08         3.623109e+08          \n",
              "\n",
              "       deposit_amount_2016  deposit_amount_2017  \n",
              "count  3.771000e+03         3.771000e+03         \n",
              "mean   2.364422e+05         3.546633e+05         \n",
              "std    6.422120e+06         9.633180e+06         \n",
              "min    0.000000e+00         0.000000e+00         \n",
              "25%    4.632150e+04         6.948225e+04         \n",
              "50%    7.877400e+04         1.181610e+05         \n",
              "75%    1.373490e+05         2.060235e+05         \n",
              "max    3.919391e+08         5.879087e+08         "
            ]
          },
          "metadata": {
            "tags": []
          },
          "execution_count": 52
        }
      ]
    },
    {
      "cell_type": "markdown",
      "metadata": {
        "id": "p_MDhK2FrbZv",
        "colab_type": "text"
      },
      "source": [
        "#### Test"
      ]
    },
    {
      "cell_type": "code",
      "metadata": {
        "id": "-3ohy2aIrgGq",
        "colab_type": "code",
        "colab": {
          "base_uri": "https://localhost:8080/",
          "height": 297
        },
        "outputId": "99b165e9-6eec-473c-c1a4-eb13586e134c"
      },
      "source": [
        "df_test.describe()"
      ],
      "execution_count": 53,
      "outputs": [
        {
          "output_type": "execute_result",
          "data": {
            "text/html": [
              "<div>\n",
              "<style scoped>\n",
              "    .dataframe tbody tr th:only-of-type {\n",
              "        vertical-align: middle;\n",
              "    }\n",
              "\n",
              "    .dataframe tbody tr th {\n",
              "        vertical-align: top;\n",
              "    }\n",
              "\n",
              "    .dataframe thead th {\n",
              "        text-align: right;\n",
              "    }\n",
              "</style>\n",
              "<table border=\"1\" class=\"dataframe\">\n",
              "  <thead>\n",
              "    <tr style=\"text-align: right;\">\n",
              "      <th></th>\n",
              "      <th>headquarter</th>\n",
              "      <th>location.Code</th>\n",
              "      <th>deposit_amount_2011</th>\n",
              "      <th>deposit_amount_2012</th>\n",
              "      <th>deposit_amount_2013</th>\n",
              "      <th>deposit_amount_2014</th>\n",
              "      <th>deposit_amount_2015</th>\n",
              "      <th>deposit_amount_2016</th>\n",
              "    </tr>\n",
              "  </thead>\n",
              "  <tbody>\n",
              "    <tr>\n",
              "      <th>count</th>\n",
              "      <td>1623.000000</td>\n",
              "      <td>1623.000000</td>\n",
              "      <td>1.623000e+03</td>\n",
              "      <td>1.623000e+03</td>\n",
              "      <td>1.623000e+03</td>\n",
              "      <td>1.623000e+03</td>\n",
              "      <td>1.623000e+03</td>\n",
              "      <td>1.623000e+03</td>\n",
              "    </tr>\n",
              "    <tr>\n",
              "      <th>mean</th>\n",
              "      <td>0.000616</td>\n",
              "      <td>1770.314849</td>\n",
              "      <td>8.362408e+05</td>\n",
              "      <td>9.847530e+05</td>\n",
              "      <td>1.107470e+06</td>\n",
              "      <td>1.220473e+06</td>\n",
              "      <td>1.388776e+06</td>\n",
              "      <td>1.412398e+06</td>\n",
              "    </tr>\n",
              "    <tr>\n",
              "      <th>std</th>\n",
              "      <td>0.024822</td>\n",
              "      <td>751.636198</td>\n",
              "      <td>2.366439e+07</td>\n",
              "      <td>2.782220e+07</td>\n",
              "      <td>3.120362e+07</td>\n",
              "      <td>3.435485e+07</td>\n",
              "      <td>3.877610e+07</td>\n",
              "      <td>4.003773e+07</td>\n",
              "    </tr>\n",
              "    <tr>\n",
              "      <th>min</th>\n",
              "      <td>0.000000</td>\n",
              "      <td>5.000000</td>\n",
              "      <td>0.000000e+00</td>\n",
              "      <td>0.000000e+00</td>\n",
              "      <td>0.000000e+00</td>\n",
              "      <td>0.000000e+00</td>\n",
              "      <td>0.000000e+00</td>\n",
              "      <td>0.000000e+00</td>\n",
              "    </tr>\n",
              "    <tr>\n",
              "      <th>25%</th>\n",
              "      <td>0.000000</td>\n",
              "      <td>1333.000000</td>\n",
              "      <td>5.078475e+04</td>\n",
              "      <td>5.330325e+04</td>\n",
              "      <td>5.722350e+04</td>\n",
              "      <td>6.181875e+04</td>\n",
              "      <td>6.461850e+04</td>\n",
              "      <td>6.957150e+04</td>\n",
              "    </tr>\n",
              "    <tr>\n",
              "      <th>50%</th>\n",
              "      <td>0.000000</td>\n",
              "      <td>1834.000000</td>\n",
              "      <td>9.857850e+04</td>\n",
              "      <td>1.034700e+05</td>\n",
              "      <td>1.123020e+05</td>\n",
              "      <td>1.204455e+05</td>\n",
              "      <td>1.271415e+05</td>\n",
              "      <td>1.343310e+05</td>\n",
              "    </tr>\n",
              "    <tr>\n",
              "      <th>75%</th>\n",
              "      <td>0.000000</td>\n",
              "      <td>2391.500000</td>\n",
              "      <td>1.813568e+05</td>\n",
              "      <td>1.938952e+05</td>\n",
              "      <td>2.072040e+05</td>\n",
              "      <td>2.263215e+05</td>\n",
              "      <td>2.387212e+05</td>\n",
              "      <td>2.584852e+05</td>\n",
              "    </tr>\n",
              "    <tr>\n",
              "      <th>max</th>\n",
              "      <td>1.000000</td>\n",
              "      <td>2870.000000</td>\n",
              "      <td>9.496965e+08</td>\n",
              "      <td>1.114902e+09</td>\n",
              "      <td>1.248682e+09</td>\n",
              "      <td>1.374814e+09</td>\n",
              "      <td>1.548824e+09</td>\n",
              "      <td>1.604138e+09</td>\n",
              "    </tr>\n",
              "  </tbody>\n",
              "</table>\n",
              "</div>"
            ],
            "text/plain": [
              "       headquarter  location.Code  deposit_amount_2011  deposit_amount_2012  \\\n",
              "count  1623.000000  1623.000000    1.623000e+03         1.623000e+03          \n",
              "mean   0.000616     1770.314849    8.362408e+05         9.847530e+05          \n",
              "std    0.024822     751.636198     2.366439e+07         2.782220e+07          \n",
              "min    0.000000     5.000000       0.000000e+00         0.000000e+00          \n",
              "25%    0.000000     1333.000000    5.078475e+04         5.330325e+04          \n",
              "50%    0.000000     1834.000000    9.857850e+04         1.034700e+05          \n",
              "75%    0.000000     2391.500000    1.813568e+05         1.938952e+05          \n",
              "max    1.000000     2870.000000    9.496965e+08         1.114902e+09          \n",
              "\n",
              "       deposit_amount_2013  deposit_amount_2014  deposit_amount_2015  \\\n",
              "count  1.623000e+03         1.623000e+03         1.623000e+03          \n",
              "mean   1.107470e+06         1.220473e+06         1.388776e+06          \n",
              "std    3.120362e+07         3.435485e+07         3.877610e+07          \n",
              "min    0.000000e+00         0.000000e+00         0.000000e+00          \n",
              "25%    5.722350e+04         6.181875e+04         6.461850e+04          \n",
              "50%    1.123020e+05         1.204455e+05         1.271415e+05          \n",
              "75%    2.072040e+05         2.263215e+05         2.387212e+05          \n",
              "max    1.248682e+09         1.374814e+09         1.548824e+09          \n",
              "\n",
              "       deposit_amount_2016  \n",
              "count  1.623000e+03         \n",
              "mean   1.412398e+06         \n",
              "std    4.003773e+07         \n",
              "min    0.000000e+00         \n",
              "25%    6.957150e+04         \n",
              "50%    1.343310e+05         \n",
              "75%    2.584852e+05         \n",
              "max    1.604138e+09         "
            ]
          },
          "metadata": {
            "tags": []
          },
          "execution_count": 53
        }
      ]
    },
    {
      "cell_type": "markdown",
      "metadata": {
        "id": "2SXchJfIsmEJ",
        "colab_type": "text"
      },
      "source": [
        "**Observations:**\n",
        "\n",
        "**headquarter** has mostly 0's and single 1. We will drop this column in pre processing step."
      ]
    },
    {
      "cell_type": "markdown",
      "metadata": {
        "id": "npi95kuoa2Wi",
        "colab_type": "text"
      },
      "source": [
        " <a id=section302></a>\n",
        "## 3.2 Pandas Profiling before Data Preprocessing"
      ]
    },
    {
      "cell_type": "code",
      "metadata": {
        "id": "X5LDGhsWa2Wj",
        "colab_type": "code",
        "colab": {}
      },
      "source": [
        "# To install pandas profiling please run this command.\n",
        "\n",
        "#!pip install pandas-profiling --upgrade"
      ],
      "execution_count": 54,
      "outputs": []
    },
    {
      "cell_type": "code",
      "metadata": {
        "id": "Cc-p8JKWe6-5",
        "colab_type": "code",
        "colab": {}
      },
      "source": [
        "from pandas_profiling import ProfileReport\n",
        "\n",
        "# Running pandas profiling to get better understanding of data\n",
        "# profile =  ProfileReport(df_train, title='Pandas Profiling Report before data preprocessing', html={'style':{'full_width':True}})\n",
        "# profile.to_file(output_file=\"train_report_before_processing.html\")"
      ],
      "execution_count": 55,
      "outputs": []
    },
    {
      "cell_type": "code",
      "metadata": {
        "id": "Gzwk8X-Yt_ru",
        "colab_type": "code",
        "colab": {}
      },
      "source": [
        "# Running pandas profiling to get better understanding of data\n",
        "# profile =  ProfileReport(df_test, title='Pandas Profiling Report before data preprocessing', html={'style':{'full_width':True}})\n",
        "# profile.to_file(output_file=\"test_report_before_processing.html\")"
      ],
      "execution_count": 56,
      "outputs": []
    },
    {
      "cell_type": "markdown",
      "metadata": {
        "id": "fuFS6Pcva2Wo",
        "colab_type": "text"
      },
      "source": [
        " <a id=section4></a>\n",
        "# 4. Data Preprocessing"
      ]
    },
    {
      "cell_type": "markdown",
      "metadata": {
        "id": "PHVDuFVxQOhv",
        "colab_type": "text"
      },
      "source": [
        " <a id=section401></a>\n",
        "## 4.1 Dropping columns which may not help in model prediction"
      ]
    },
    {
      "cell_type": "code",
      "metadata": {
        "id": "Pqfv1ufF7bwl",
        "colab_type": "code",
        "colab": {
          "base_uri": "https://localhost:8080/",
          "height": 0
        },
        "outputId": "fb2551ff-3a5f-44b2-890a-d2239771389f"
      },
      "source": [
        "df_train.columns"
      ],
      "execution_count": 57,
      "outputs": [
        {
          "output_type": "execute_result",
          "data": {
            "text/plain": [
              "Index(['headquarter', 'location.Code', 'date_of_establishment', 'location',\n",
              "       'loc.details', 'state', 'deposit_amount_2011', 'deposit_amount_2012',\n",
              "       'deposit_amount_2013', 'deposit_amount_2014', 'deposit_amount_2015',\n",
              "       'deposit_amount_2016', 'deposit_amount_2017'],\n",
              "      dtype='object')"
            ]
          },
          "metadata": {
            "tags": []
          },
          "execution_count": 57
        }
      ]
    },
    {
      "cell_type": "markdown",
      "metadata": {
        "id": "YMUFEDC6ZhYo",
        "colab_type": "text"
      },
      "source": [
        "### a. Drop columns with constant value"
      ]
    },
    {
      "cell_type": "markdown",
      "metadata": {
        "id": "ODoKshhiQqnA",
        "colab_type": "text"
      },
      "source": [
        "**NOTE:**\n",
        "\n",
        "**headquarter** has mostly 0's and single 1. Let's delete it."
      ]
    },
    {
      "cell_type": "markdown",
      "metadata": {
        "id": "YwfEMkWlRCZO",
        "colab_type": "text"
      },
      "source": [
        "#### Train\n"
      ]
    },
    {
      "cell_type": "code",
      "metadata": {
        "id": "UrdhlczpRHxX",
        "colab_type": "code",
        "colab": {}
      },
      "source": [
        "df_train.drop('headquarter', axis = 1, inplace=True)"
      ],
      "execution_count": 58,
      "outputs": []
    },
    {
      "cell_type": "markdown",
      "metadata": {
        "id": "sW_Gs0nARFOp",
        "colab_type": "text"
      },
      "source": [
        "#### Test"
      ]
    },
    {
      "cell_type": "code",
      "metadata": {
        "id": "kKPLaocuRIx5",
        "colab_type": "code",
        "colab": {}
      },
      "source": [
        "df_test.drop('headquarter', axis = 1, inplace=True)"
      ],
      "execution_count": 59,
      "outputs": []
    },
    {
      "cell_type": "markdown",
      "metadata": {
        "id": "GelVPGNzZzAR",
        "colab_type": "text"
      },
      "source": [
        "### b. Drop columns which has unique values "
      ]
    },
    {
      "cell_type": "markdown",
      "metadata": {
        "id": "yrOx4Ps6ahU8",
        "colab_type": "text"
      },
      "source": [
        "NOTE:\n",
        "\n",
        "**location.Code** has high carginality i.e no of uniquevalues = no of rows. Let's drop t."
      ]
    },
    {
      "cell_type": "markdown",
      "metadata": {
        "colab_type": "text",
        "id": "9EtXDvvgbi99"
      },
      "source": [
        "#### Train\n"
      ]
    },
    {
      "cell_type": "code",
      "metadata": {
        "colab_type": "code",
        "id": "AcB6AiEJbi-C",
        "colab": {}
      },
      "source": [
        "df_train.drop('location.Code', axis = 1, inplace=True)"
      ],
      "execution_count": 60,
      "outputs": []
    },
    {
      "cell_type": "markdown",
      "metadata": {
        "colab_type": "text",
        "id": "p6_AOh4pbi-Q"
      },
      "source": [
        "#### Test"
      ]
    },
    {
      "cell_type": "code",
      "metadata": {
        "colab_type": "code",
        "id": "ZrvmALOqbi-S",
        "colab": {}
      },
      "source": [
        "df_test.drop('location.Code', axis = 1, inplace=True)"
      ],
      "execution_count": 61,
      "outputs": []
    },
    {
      "cell_type": "markdown",
      "metadata": {
        "id": "4lDKKbq6c0RV",
        "colab_type": "text"
      },
      "source": [
        "\n",
        "### c. Drop rows in train data with missing values in target variable\n",
        "\n",
        "\n",
        "\n"
      ]
    },
    {
      "cell_type": "code",
      "metadata": {
        "id": "bffFULGncz0P",
        "colab_type": "code",
        "colab": {}
      },
      "source": [
        "df_train = df_train[~df_train['deposit_amount_2017'].isna()]"
      ],
      "execution_count": 62,
      "outputs": []
    },
    {
      "cell_type": "code",
      "metadata": {
        "id": "5KkcFLildtEJ",
        "colab_type": "code",
        "colab": {
          "base_uri": "https://localhost:8080/",
          "height": 0
        },
        "outputId": "857d7d0c-8662-4aa5-d5cf-67aac44d22b8"
      },
      "source": [
        "df_train['deposit_amount_2017'].isna().sum()"
      ],
      "execution_count": 63,
      "outputs": [
        {
          "output_type": "execute_result",
          "data": {
            "text/plain": [
              "0"
            ]
          },
          "metadata": {
            "tags": []
          },
          "execution_count": 63
        }
      ]
    },
    {
      "cell_type": "markdown",
      "metadata": {
        "id": "PNPH36LP8IGH",
        "colab_type": "text"
      },
      "source": [
        " <a id=section402></a>\n",
        "## 4.2 Handling mismatched datatypes"
      ]
    },
    {
      "cell_type": "markdown",
      "metadata": {
        "id": "vaK3s6Ad8iOv",
        "colab_type": "text"
      },
      "source": [
        "### a.  **date_of_establishment**"
      ]
    },
    {
      "cell_type": "markdown",
      "metadata": {
        "id": "pmhLqgG09hCI",
        "colab_type": "text"
      },
      "source": [
        "#### Train"
      ]
    },
    {
      "cell_type": "code",
      "metadata": {
        "id": "2mrvVX2N8unt",
        "colab_type": "code",
        "colab": {}
      },
      "source": [
        "df_train['date_of_establishment'] = pd.to_datetime(df_train['date_of_establishment'] , errors = 'coerce', utc = True)"
      ],
      "execution_count": 64,
      "outputs": []
    },
    {
      "cell_type": "markdown",
      "metadata": {
        "id": "IeNWrNOf93G_",
        "colab_type": "text"
      },
      "source": [
        "#### Test"
      ]
    },
    {
      "cell_type": "code",
      "metadata": {
        "id": "Vm3896eY96h8",
        "colab_type": "code",
        "colab": {}
      },
      "source": [
        "df_test['date_of_establishment'] = pd.to_datetime(df_test['date_of_establishment'] , errors = 'coerce', utc = True)"
      ],
      "execution_count": 65,
      "outputs": []
    },
    {
      "cell_type": "markdown",
      "metadata": {
        "id": "YxKtxlo4a2Wp",
        "colab_type": "text"
      },
      "source": [
        " <a id=section403></a>\n",
        "## 4.3 Filling missing values"
      ]
    },
    {
      "cell_type": "code",
      "metadata": {
        "id": "CsEaoDLDRoCv",
        "colab_type": "code",
        "colab": {}
      },
      "source": [
        "feature_cols = list(df_test.columns)\n",
        "continuous_columns = list(df_test.select_dtypes(include='number').columns)\n",
        "categorical_columns = list(df_test.columns.difference(continuous_columns))"
      ],
      "execution_count": 66,
      "outputs": []
    },
    {
      "cell_type": "markdown",
      "metadata": {
        "id": "tI-NZkn9svXB",
        "colab_type": "text"
      },
      "source": [
        "#### Train"
      ]
    },
    {
      "cell_type": "code",
      "metadata": {
        "id": "_nPtico5a2Wq",
        "colab_type": "code",
        "colab": {
          "base_uri": "https://localhost:8080/",
          "height": 221
        },
        "outputId": "37addd7e-5592-4fea-c82a-d01fdeb2cc99"
      },
      "source": [
        "df_train.isna().sum()"
      ],
      "execution_count": 67,
      "outputs": [
        {
          "output_type": "execute_result",
          "data": {
            "text/plain": [
              "date_of_establishment    2030\n",
              "location                 0   \n",
              "loc.details              0   \n",
              "state                    0   \n",
              "deposit_amount_2011      721 \n",
              "deposit_amount_2012      559 \n",
              "deposit_amount_2013      310 \n",
              "deposit_amount_2014      156 \n",
              "deposit_amount_2015      37  \n",
              "deposit_amount_2016      0   \n",
              "deposit_amount_2017      0   \n",
              "dtype: int64"
            ]
          },
          "metadata": {
            "tags": []
          },
          "execution_count": 67
        }
      ]
    },
    {
      "cell_type": "code",
      "metadata": {
        "id": "wOao7DljwAhF",
        "colab_type": "code",
        "colab": {}
      },
      "source": [
        "from sklearn.impute import KNNImputer\n",
        "\n",
        "# Define the imputer\n",
        "knn_imputer = KNNImputer(n_neighbors=5, weights=\"uniform\")\n",
        "\n",
        "# Transform the dataset\n",
        "transformed_values = knn_imputer.fit_transform(df_train[continuous_columns])"
      ],
      "execution_count": 68,
      "outputs": []
    },
    {
      "cell_type": "code",
      "metadata": {
        "id": "I9PB5Ag6XZgR",
        "colab_type": "code",
        "colab": {}
      },
      "source": [
        "df_train_continuous = pd.DataFrame(transformed_values)\n",
        "df_train_continuous.columns = continuous_columns\n",
        "df_train_continuous.index = df_train.index"
      ],
      "execution_count": 69,
      "outputs": []
    },
    {
      "cell_type": "code",
      "metadata": {
        "id": "pWuF49qGYYTE",
        "colab_type": "code",
        "colab": {
          "base_uri": "https://localhost:8080/",
          "height": 136
        },
        "outputId": "f3587765-7815-4a2c-836d-9556b93e3c02"
      },
      "source": [
        "df_train_continuous.isna().sum()"
      ],
      "execution_count": 70,
      "outputs": [
        {
          "output_type": "execute_result",
          "data": {
            "text/plain": [
              "deposit_amount_2011    0\n",
              "deposit_amount_2012    0\n",
              "deposit_amount_2013    0\n",
              "deposit_amount_2014    0\n",
              "deposit_amount_2015    0\n",
              "deposit_amount_2016    0\n",
              "dtype: int64"
            ]
          },
          "metadata": {
            "tags": []
          },
          "execution_count": 70
        }
      ]
    },
    {
      "cell_type": "code",
      "metadata": {
        "id": "6OflYzS2Xkx7",
        "colab_type": "code",
        "colab": {}
      },
      "source": [
        "from sklearn.impute import SimpleImputer\n",
        "\n",
        "# Define the imputer\n",
        "simple_imputer = SimpleImputer(missing_values=np.nan, strategy='most_frequent')\n",
        "\n",
        "# Transform the dataset\n",
        "transformed_values = simple_imputer.fit_transform(df_train[categorical_columns])"
      ],
      "execution_count": 71,
      "outputs": []
    },
    {
      "cell_type": "code",
      "metadata": {
        "id": "GA_cKatd3oVU",
        "colab_type": "code",
        "colab": {}
      },
      "source": [
        "df_train_categorical = pd.DataFrame(transformed_values)\n",
        "df_train_categorical.columns = categorical_columns\n",
        "df_train_categorical.index = df_train.index"
      ],
      "execution_count": 72,
      "outputs": []
    },
    {
      "cell_type": "code",
      "metadata": {
        "id": "GeKEOZ3MZwgY",
        "colab_type": "code",
        "colab": {
          "base_uri": "https://localhost:8080/",
          "height": 102
        },
        "outputId": "39fda967-5e2b-45d1-e5b0-7b7e88a55d4b"
      },
      "source": [
        "df_train_categorical.isna().sum()"
      ],
      "execution_count": 73,
      "outputs": [
        {
          "output_type": "execute_result",
          "data": {
            "text/plain": [
              "date_of_establishment    0\n",
              "loc.details              0\n",
              "location                 0\n",
              "state                    0\n",
              "dtype: int64"
            ]
          },
          "metadata": {
            "tags": []
          },
          "execution_count": 73
        }
      ]
    },
    {
      "cell_type": "code",
      "metadata": {
        "id": "JKKuWm7rba3w",
        "colab_type": "code",
        "colab": {
          "base_uri": "https://localhost:8080/",
          "height": 255
        },
        "outputId": "0f639ec4-9d73-4104-85eb-211db93c481b"
      },
      "source": [
        "# merge categorical and continuos columns\n",
        "df_train = pd.concat([df_train_continuous,df_train_categorical, df_train['deposit_amount_2017']], axis = 1).reindex(df_train.index)\n",
        "df_train.head()"
      ],
      "execution_count": 74,
      "outputs": [
        {
          "output_type": "execute_result",
          "data": {
            "text/html": [
              "<div>\n",
              "<style scoped>\n",
              "    .dataframe tbody tr th:only-of-type {\n",
              "        vertical-align: middle;\n",
              "    }\n",
              "\n",
              "    .dataframe tbody tr th {\n",
              "        vertical-align: top;\n",
              "    }\n",
              "\n",
              "    .dataframe thead th {\n",
              "        text-align: right;\n",
              "    }\n",
              "</style>\n",
              "<table border=\"1\" class=\"dataframe\">\n",
              "  <thead>\n",
              "    <tr style=\"text-align: right;\">\n",
              "      <th></th>\n",
              "      <th>deposit_amount_2011</th>\n",
              "      <th>deposit_amount_2012</th>\n",
              "      <th>deposit_amount_2013</th>\n",
              "      <th>deposit_amount_2014</th>\n",
              "      <th>deposit_amount_2015</th>\n",
              "      <th>deposit_amount_2016</th>\n",
              "      <th>date_of_establishment</th>\n",
              "      <th>loc.details</th>\n",
              "      <th>location</th>\n",
              "      <th>state</th>\n",
              "      <th>deposit_amount_2017</th>\n",
              "    </tr>\n",
              "    <tr>\n",
              "      <th>id</th>\n",
              "      <th></th>\n",
              "      <th></th>\n",
              "      <th></th>\n",
              "      <th></th>\n",
              "      <th></th>\n",
              "      <th></th>\n",
              "      <th></th>\n",
              "      <th></th>\n",
              "      <th></th>\n",
              "      <th></th>\n",
              "      <th></th>\n",
              "    </tr>\n",
              "  </thead>\n",
              "  <tbody>\n",
              "    <tr>\n",
              "      <th>1</th>\n",
              "      <td>32079.0</td>\n",
              "      <td>35971.5</td>\n",
              "      <td>37237.5</td>\n",
              "      <td>40362.0</td>\n",
              "      <td>46021.5</td>\n",
              "      <td>46020.0</td>\n",
              "      <td>1911-06-02 00:00:00+00:00</td>\n",
              "      <td>Waukesha</td>\n",
              "      <td>Wales</td>\n",
              "      <td>WI</td>\n",
              "      <td>69030.00</td>\n",
              "    </tr>\n",
              "    <tr>\n",
              "      <th>2</th>\n",
              "      <td>83181.0</td>\n",
              "      <td>84846.0</td>\n",
              "      <td>97098.0</td>\n",
              "      <td>110284.5</td>\n",
              "      <td>122035.5</td>\n",
              "      <td>133905.0</td>\n",
              "      <td>1920-01-01 00:00:00+00:00</td>\n",
              "      <td>Washington</td>\n",
              "      <td>Germantown</td>\n",
              "      <td>WI</td>\n",
              "      <td>200857.50</td>\n",
              "    </tr>\n",
              "    <tr>\n",
              "      <th>3</th>\n",
              "      <td>136323.0</td>\n",
              "      <td>156450.0</td>\n",
              "      <td>187557.0</td>\n",
              "      <td>188859.0</td>\n",
              "      <td>198751.5</td>\n",
              "      <td>206044.5</td>\n",
              "      <td>1908-06-04 00:00:00+00:00</td>\n",
              "      <td>Waukesha</td>\n",
              "      <td>Brookfield</td>\n",
              "      <td>WI</td>\n",
              "      <td>309066.75</td>\n",
              "    </tr>\n",
              "    <tr>\n",
              "      <th>4</th>\n",
              "      <td>68511.0</td>\n",
              "      <td>73932.0</td>\n",
              "      <td>79876.5</td>\n",
              "      <td>105603.0</td>\n",
              "      <td>112113.0</td>\n",
              "      <td>110755.5</td>\n",
              "      <td>1920-01-01 00:00:00+00:00</td>\n",
              "      <td>Waukesha</td>\n",
              "      <td>Pewaukee</td>\n",
              "      <td>WI</td>\n",
              "      <td>166133.25</td>\n",
              "    </tr>\n",
              "    <tr>\n",
              "      <th>5</th>\n",
              "      <td>96271.5</td>\n",
              "      <td>108325.5</td>\n",
              "      <td>104880.0</td>\n",
              "      <td>121054.5</td>\n",
              "      <td>113956.5</td>\n",
              "      <td>109837.5</td>\n",
              "      <td>1920-01-01 00:00:00+00:00</td>\n",
              "      <td>Waukesha</td>\n",
              "      <td>Waukesha</td>\n",
              "      <td>WI</td>\n",
              "      <td>164756.25</td>\n",
              "    </tr>\n",
              "  </tbody>\n",
              "</table>\n",
              "</div>"
            ],
            "text/plain": [
              "    deposit_amount_2011  deposit_amount_2012  deposit_amount_2013  \\\n",
              "id                                                                  \n",
              "1   32079.0              35971.5              37237.5               \n",
              "2   83181.0              84846.0              97098.0               \n",
              "3   136323.0             156450.0             187557.0              \n",
              "4   68511.0              73932.0              79876.5               \n",
              "5   96271.5              108325.5             104880.0              \n",
              "\n",
              "    deposit_amount_2014  deposit_amount_2015  deposit_amount_2016  \\\n",
              "id                                                                  \n",
              "1   40362.0              46021.5              46020.0               \n",
              "2   110284.5             122035.5             133905.0              \n",
              "3   188859.0             198751.5             206044.5              \n",
              "4   105603.0             112113.0             110755.5              \n",
              "5   121054.5             113956.5             109837.5              \n",
              "\n",
              "       date_of_establishment loc.details    location state  \\\n",
              "id                                                           \n",
              "1  1911-06-02 00:00:00+00:00  Waukesha    Wales       WI     \n",
              "2  1920-01-01 00:00:00+00:00  Washington  Germantown  WI     \n",
              "3  1908-06-04 00:00:00+00:00  Waukesha    Brookfield  WI     \n",
              "4  1920-01-01 00:00:00+00:00  Waukesha    Pewaukee    WI     \n",
              "5  1920-01-01 00:00:00+00:00  Waukesha    Waukesha    WI     \n",
              "\n",
              "    deposit_amount_2017  \n",
              "id                       \n",
              "1   69030.00             \n",
              "2   200857.50            \n",
              "3   309066.75            \n",
              "4   166133.25            \n",
              "5   164756.25            "
            ]
          },
          "metadata": {
            "tags": []
          },
          "execution_count": 74
        }
      ]
    },
    {
      "cell_type": "code",
      "metadata": {
        "id": "xhiAimnnb73Z",
        "colab_type": "code",
        "colab": {
          "base_uri": "https://localhost:8080/",
          "height": 221
        },
        "outputId": "4e9764c6-fc51-42d1-99e3-15518bbc2eeb"
      },
      "source": [
        "df_train.isna().sum()"
      ],
      "execution_count": 75,
      "outputs": [
        {
          "output_type": "execute_result",
          "data": {
            "text/plain": [
              "deposit_amount_2011      0\n",
              "deposit_amount_2012      0\n",
              "deposit_amount_2013      0\n",
              "deposit_amount_2014      0\n",
              "deposit_amount_2015      0\n",
              "deposit_amount_2016      0\n",
              "date_of_establishment    0\n",
              "loc.details              0\n",
              "location                 0\n",
              "state                    0\n",
              "deposit_amount_2017      0\n",
              "dtype: int64"
            ]
          },
          "metadata": {
            "tags": []
          },
          "execution_count": 75
        }
      ]
    },
    {
      "cell_type": "markdown",
      "metadata": {
        "colab_type": "text",
        "id": "2RqSQd2Xhx5o"
      },
      "source": [
        "#### Test"
      ]
    },
    {
      "cell_type": "code",
      "metadata": {
        "colab_type": "code",
        "id": "Y_eqobUThx5r",
        "colab": {
          "base_uri": "https://localhost:8080/",
          "height": 204
        },
        "outputId": "4746da2e-ed1a-4761-c39c-1713a3ad4f04"
      },
      "source": [
        "df_test.isna().sum()"
      ],
      "execution_count": 76,
      "outputs": [
        {
          "output_type": "execute_result",
          "data": {
            "text/plain": [
              "date_of_establishment    814\n",
              "location                 0  \n",
              "loc.details              0  \n",
              "state                    0  \n",
              "deposit_amount_2011      0  \n",
              "deposit_amount_2012      0  \n",
              "deposit_amount_2013      0  \n",
              "deposit_amount_2014      0  \n",
              "deposit_amount_2015      0  \n",
              "deposit_amount_2016      0  \n",
              "dtype: int64"
            ]
          },
          "metadata": {
            "tags": []
          },
          "execution_count": 76
        }
      ]
    },
    {
      "cell_type": "code",
      "metadata": {
        "colab_type": "code",
        "id": "fI-R870dhx6K",
        "colab": {}
      },
      "source": [
        "from sklearn.impute import SimpleImputer\n",
        "\n",
        "# Define the imputer\n",
        "simple_imputer = SimpleImputer(missing_values=np.nan, strategy='most_frequent')\n",
        "\n",
        "# Transform the dataset\n",
        "transformed_values = simple_imputer.fit_transform(df_test[categorical_columns])"
      ],
      "execution_count": 77,
      "outputs": []
    },
    {
      "cell_type": "code",
      "metadata": {
        "colab_type": "code",
        "id": "LEpFv_VYhx6O",
        "colab": {}
      },
      "source": [
        "df_test_categorical = pd.DataFrame(transformed_values)\n",
        "df_test_categorical.columns = categorical_columns\n",
        "df_test_categorical.index = df_test.index"
      ],
      "execution_count": 78,
      "outputs": []
    },
    {
      "cell_type": "code",
      "metadata": {
        "colab_type": "code",
        "id": "8Z1cfCdUhx6Q",
        "colab": {
          "base_uri": "https://localhost:8080/",
          "height": 102
        },
        "outputId": "396aa982-7689-4ccb-c97f-de30e1cc37a0"
      },
      "source": [
        "df_test_categorical.isna().sum()"
      ],
      "execution_count": 79,
      "outputs": [
        {
          "output_type": "execute_result",
          "data": {
            "text/plain": [
              "date_of_establishment    0\n",
              "loc.details              0\n",
              "location                 0\n",
              "state                    0\n",
              "dtype: int64"
            ]
          },
          "metadata": {
            "tags": []
          },
          "execution_count": 79
        }
      ]
    },
    {
      "cell_type": "code",
      "metadata": {
        "colab_type": "code",
        "id": "D8nDcZ8Phx6T",
        "colab": {
          "base_uri": "https://localhost:8080/",
          "height": 272
        },
        "outputId": "de62a410-baf8-4319-9b3c-729ac10d6c6f"
      },
      "source": [
        "# merge categorical and continuos columns\n",
        "df_test = pd.concat([df_test[continuous_columns],df_test_categorical], axis = 1).reindex(df_test.index)\n",
        "df_test.head()"
      ],
      "execution_count": 80,
      "outputs": [
        {
          "output_type": "execute_result",
          "data": {
            "text/html": [
              "<div>\n",
              "<style scoped>\n",
              "    .dataframe tbody tr th:only-of-type {\n",
              "        vertical-align: middle;\n",
              "    }\n",
              "\n",
              "    .dataframe tbody tr th {\n",
              "        vertical-align: top;\n",
              "    }\n",
              "\n",
              "    .dataframe thead th {\n",
              "        text-align: right;\n",
              "    }\n",
              "</style>\n",
              "<table border=\"1\" class=\"dataframe\">\n",
              "  <thead>\n",
              "    <tr style=\"text-align: right;\">\n",
              "      <th></th>\n",
              "      <th>deposit_amount_2011</th>\n",
              "      <th>deposit_amount_2012</th>\n",
              "      <th>deposit_amount_2013</th>\n",
              "      <th>deposit_amount_2014</th>\n",
              "      <th>deposit_amount_2015</th>\n",
              "      <th>deposit_amount_2016</th>\n",
              "      <th>date_of_establishment</th>\n",
              "      <th>loc.details</th>\n",
              "      <th>location</th>\n",
              "      <th>state</th>\n",
              "    </tr>\n",
              "    <tr>\n",
              "      <th>id</th>\n",
              "      <th></th>\n",
              "      <th></th>\n",
              "      <th></th>\n",
              "      <th></th>\n",
              "      <th></th>\n",
              "      <th></th>\n",
              "      <th></th>\n",
              "      <th></th>\n",
              "      <th></th>\n",
              "      <th></th>\n",
              "    </tr>\n",
              "  </thead>\n",
              "  <tbody>\n",
              "    <tr>\n",
              "      <th>1</th>\n",
              "      <td>949696500.0</td>\n",
              "      <td>1.114902e+09</td>\n",
              "      <td>1.248682e+09</td>\n",
              "      <td>1.374814e+09</td>\n",
              "      <td>1.548824e+09</td>\n",
              "      <td>1.604138e+09</td>\n",
              "      <td>1824-12-31 00:00:00+00:00</td>\n",
              "      <td>Delaware</td>\n",
              "      <td>Columbus</td>\n",
              "      <td>OH</td>\n",
              "    </tr>\n",
              "    <tr>\n",
              "      <th>2</th>\n",
              "      <td>439843.5</td>\n",
              "      <td>4.661865e+05</td>\n",
              "      <td>4.886130e+05</td>\n",
              "      <td>4.918950e+05</td>\n",
              "      <td>4.916880e+05</td>\n",
              "      <td>5.122125e+05</td>\n",
              "      <td>1801-01-01 00:00:00+00:00</td>\n",
              "      <td>Westchester</td>\n",
              "      <td>Scarsdale</td>\n",
              "      <td>NY</td>\n",
              "    </tr>\n",
              "    <tr>\n",
              "      <th>3</th>\n",
              "      <td>286516.5</td>\n",
              "      <td>3.103995e+05</td>\n",
              "      <td>3.246585e+05</td>\n",
              "      <td>3.569745e+05</td>\n",
              "      <td>3.512745e+05</td>\n",
              "      <td>3.936825e+05</td>\n",
              "      <td>1964-09-08 00:00:00+00:00</td>\n",
              "      <td>Nassau</td>\n",
              "      <td>Great Neck</td>\n",
              "      <td>NY</td>\n",
              "    </tr>\n",
              "    <tr>\n",
              "      <th>4</th>\n",
              "      <td>130665.0</td>\n",
              "      <td>1.325505e+05</td>\n",
              "      <td>1.397445e+05</td>\n",
              "      <td>1.644885e+05</td>\n",
              "      <td>1.679775e+05</td>\n",
              "      <td>1.751580e+05</td>\n",
              "      <td>1801-01-01 00:00:00+00:00</td>\n",
              "      <td>Westchester</td>\n",
              "      <td>Hartsdale</td>\n",
              "      <td>NY</td>\n",
              "    </tr>\n",
              "    <tr>\n",
              "      <th>5</th>\n",
              "      <td>258912.0</td>\n",
              "      <td>2.591235e+05</td>\n",
              "      <td>2.841195e+05</td>\n",
              "      <td>2.976675e+05</td>\n",
              "      <td>3.077970e+05</td>\n",
              "      <td>3.348000e+05</td>\n",
              "      <td>1801-01-01 00:00:00+00:00</td>\n",
              "      <td>Nassau</td>\n",
              "      <td>Lawrence</td>\n",
              "      <td>NY</td>\n",
              "    </tr>\n",
              "  </tbody>\n",
              "</table>\n",
              "</div>"
            ],
            "text/plain": [
              "    deposit_amount_2011  deposit_amount_2012  deposit_amount_2013  \\\n",
              "id                                                                  \n",
              "1   949696500.0          1.114902e+09         1.248682e+09          \n",
              "2   439843.5             4.661865e+05         4.886130e+05          \n",
              "3   286516.5             3.103995e+05         3.246585e+05          \n",
              "4   130665.0             1.325505e+05         1.397445e+05          \n",
              "5   258912.0             2.591235e+05         2.841195e+05          \n",
              "\n",
              "    deposit_amount_2014  deposit_amount_2015  deposit_amount_2016  \\\n",
              "id                                                                  \n",
              "1   1.374814e+09         1.548824e+09         1.604138e+09          \n",
              "2   4.918950e+05         4.916880e+05         5.122125e+05          \n",
              "3   3.569745e+05         3.512745e+05         3.936825e+05          \n",
              "4   1.644885e+05         1.679775e+05         1.751580e+05          \n",
              "5   2.976675e+05         3.077970e+05         3.348000e+05          \n",
              "\n",
              "       date_of_establishment  loc.details    location state  \n",
              "id                                                           \n",
              "1  1824-12-31 00:00:00+00:00  Delaware     Columbus    OH    \n",
              "2  1801-01-01 00:00:00+00:00  Westchester  Scarsdale   NY    \n",
              "3  1964-09-08 00:00:00+00:00  Nassau       Great Neck  NY    \n",
              "4  1801-01-01 00:00:00+00:00  Westchester  Hartsdale   NY    \n",
              "5  1801-01-01 00:00:00+00:00  Nassau       Lawrence    NY    "
            ]
          },
          "metadata": {
            "tags": []
          },
          "execution_count": 80
        }
      ]
    },
    {
      "cell_type": "code",
      "metadata": {
        "colab_type": "code",
        "id": "NFIEQnI5hx6W",
        "colab": {
          "base_uri": "https://localhost:8080/",
          "height": 204
        },
        "outputId": "d0ea8f57-6c7b-4152-88da-eec7c6c4784b"
      },
      "source": [
        "df_test.isna().sum()"
      ],
      "execution_count": 81,
      "outputs": [
        {
          "output_type": "execute_result",
          "data": {
            "text/plain": [
              "deposit_amount_2011      0\n",
              "deposit_amount_2012      0\n",
              "deposit_amount_2013      0\n",
              "deposit_amount_2014      0\n",
              "deposit_amount_2015      0\n",
              "deposit_amount_2016      0\n",
              "date_of_establishment    0\n",
              "loc.details              0\n",
              "location                 0\n",
              "state                    0\n",
              "dtype: int64"
            ]
          },
          "metadata": {
            "tags": []
          },
          "execution_count": 81
        }
      ]
    },
    {
      "cell_type": "markdown",
      "metadata": {
        "id": "u9cwxOwlL8Pp",
        "colab_type": "text"
      },
      "source": [
        " <a id=section405></a>\n",
        "## 4.4 Remove outliers\n"
      ]
    },
    {
      "cell_type": "code",
      "metadata": {
        "id": "RNg4c4hYMEhj",
        "colab_type": "code",
        "colab": {}
      },
      "source": [
        "feature_cols = list(df_test.columns)\n",
        "continuous_columns = list(df_test.select_dtypes(include='number').columns)\n",
        "categorical_columns = list(df_test.columns.difference(continuous_columns))"
      ],
      "execution_count": 82,
      "outputs": []
    },
    {
      "cell_type": "code",
      "metadata": {
        "id": "R5autdwwDQfA",
        "colab_type": "code",
        "colab": {
          "base_uri": "https://localhost:8080/",
          "height": 34
        },
        "outputId": "375961fc-2a28-4548-f303-a1db8f3388c3"
      },
      "source": [
        "df_train.shape"
      ],
      "execution_count": 83,
      "outputs": [
        {
          "output_type": "execute_result",
          "data": {
            "text/plain": [
              "(3771, 11)"
            ]
          },
          "metadata": {
            "tags": []
          },
          "execution_count": 83
        }
      ]
    },
    {
      "cell_type": "markdown",
      "metadata": {
        "id": "Of-tj348_Zsn",
        "colab_type": "text"
      },
      "source": [
        "#### Train\n"
      ]
    },
    {
      "cell_type": "code",
      "metadata": {
        "id": "QcvNUFT9_ceT",
        "colab_type": "code",
        "colab": {
          "base_uri": "https://localhost:8080/",
          "height": 34
        },
        "outputId": "d9aa9729-6a1b-44ed-91e4-d698646ec02b"
      },
      "source": [
        "from sklearn.ensemble import IsolationForest\n",
        "\n",
        "clf = IsolationForest(max_samples=100, random_state=1, contamination='auto')\n",
        "preds = clf.fit_predict(df_train[continuous_columns])\n",
        "\n",
        "# Select all rows that are not outliers\n",
        "mask = preds != -1\n",
        "df_train = df_train[mask]\n",
        "df_train.shape"
      ],
      "execution_count": 84,
      "outputs": [
        {
          "output_type": "execute_result",
          "data": {
            "text/plain": [
              "(3187, 11)"
            ]
          },
          "metadata": {
            "tags": []
          },
          "execution_count": 84
        }
      ]
    },
    {
      "cell_type": "markdown",
      "metadata": {
        "id": "4-sOSjHvILy0",
        "colab_type": "text"
      },
      "source": [
        " <a id=section405></a>\n",
        "## 4.5 Extracting features from date_of_establishment"
      ]
    },
    {
      "cell_type": "markdown",
      "metadata": {
        "id": "EhOh-_EbNPlK",
        "colab_type": "text"
      },
      "source": [
        "NOTE:\n",
        "\n",
        "Age of bank is the best feature, as age of bank signifies its trustworthiness and may grab more deposits."
      ]
    },
    {
      "cell_type": "markdown",
      "metadata": {
        "id": "ixKtMX5DO1d8",
        "colab_type": "text"
      },
      "source": [
        "#### Train"
      ]
    },
    {
      "cell_type": "code",
      "metadata": {
        "id": "aHci2S_9MT3y",
        "colab_type": "code",
        "colab": {}
      },
      "source": [
        "df_train['age_of_bank'] =  pd.to_datetime('today', utc = True).year - df_train['date_of_establishment'].dt.year - 3"
      ],
      "execution_count": 85,
      "outputs": []
    },
    {
      "cell_type": "code",
      "metadata": {
        "id": "WLitVRSqNwDd",
        "colab_type": "code",
        "colab": {}
      },
      "source": [
        "df_train.drop('date_of_establishment', axis = 1, inplace=True)"
      ],
      "execution_count": 86,
      "outputs": []
    },
    {
      "cell_type": "markdown",
      "metadata": {
        "colab_type": "text",
        "id": "37ZZIh7bPj86"
      },
      "source": [
        "#### Test"
      ]
    },
    {
      "cell_type": "code",
      "metadata": {
        "colab_type": "code",
        "id": "htoDIRTePj89",
        "colab": {}
      },
      "source": [
        "df_test['age_of_bank'] =  pd.to_datetime('today', utc = True).year - df_test['date_of_establishment'].dt.year - 3"
      ],
      "execution_count": 87,
      "outputs": []
    },
    {
      "cell_type": "code",
      "metadata": {
        "colab_type": "code",
        "id": "HMYinVi8Pj9N",
        "colab": {}
      },
      "source": [
        "df_test.drop('date_of_establishment', axis = 1, inplace=True)"
      ],
      "execution_count": 88,
      "outputs": []
    },
    {
      "cell_type": "markdown",
      "metadata": {
        "id": "oWTIpd_pa2W4",
        "colab_type": "text"
      },
      "source": [
        " <a id=section406></a>\n",
        "## 4.6 Pandas Profiling after Data Preprocessing"
      ]
    },
    {
      "cell_type": "code",
      "metadata": {
        "colab_type": "code",
        "id": "8OmS3-MWHfbt",
        "colab": {}
      },
      "source": [
        "from pandas_profiling import ProfileReport\n",
        "\n",
        "# Running pandas profiling to get better understanding of data\n",
        "profile =  ProfileReport(df_train, title='Pandas Profiling Report after data preprocessing', html={'style':{'full_width':True}})\n",
        "profile.to_file(output_file=\"train_report_after_processing.html\")"
      ],
      "execution_count": null,
      "outputs": []
    },
    {
      "cell_type": "code",
      "metadata": {
        "colab_type": "code",
        "id": "DtOzQD7BHfcT",
        "colab": {}
      },
      "source": [
        "# Running pandas profiling to get better understanding of data\n",
        "profile =  ProfileReport(df_test, title='Pandas Profiling Report after data preprocessing', html={'style':{'full_width':True}})\n",
        "profile.to_file(output_file=\"test_report_after_processing.html\")"
      ],
      "execution_count": null,
      "outputs": []
    },
    {
      "cell_type": "markdown",
      "metadata": {
        "id": "AK66Ggama2W-",
        "colab_type": "text"
      },
      "source": [
        " <a id=section5></a>\n",
        "# 5. Exploratory Data Analysis"
      ]
    },
    {
      "cell_type": "markdown",
      "metadata": {
        "id": "cf3wx6xMa2XA",
        "colab_type": "text"
      },
      "source": [
        "NOTE:\n",
        "\n",
        "As univariate analysis is done  using pandas-profile. Let's do multivariate analysis now."
      ]
    },
    {
      "cell_type": "code",
      "metadata": {
        "id": "B8iaB38ha2XB",
        "colab_type": "code",
        "colab": {
          "base_uri": "https://localhost:8080/",
          "height": 102
        },
        "outputId": "57e822e9-1e69-42a8-e7fa-7240f69e6f76"
      },
      "source": [
        "df_train.columns"
      ],
      "execution_count": null,
      "outputs": [
        {
          "output_type": "execute_result",
          "data": {
            "text/plain": [
              "Index(['deposit_amount_2011', 'deposit_amount_2012', 'deposit_amount_2013',\n",
              "       'deposit_amount_2014', 'deposit_amount_2015', 'deposit_amount_2016',\n",
              "       'loc.details', 'location', 'state', 'deposit_amount_2017',\n",
              "       'age_of_bank'],\n",
              "      dtype='object')"
            ]
          },
          "metadata": {
            "tags": []
          },
          "execution_count": 1413
        }
      ]
    },
    {
      "cell_type": "markdown",
      "metadata": {
        "id": "CG-N0SUra2XJ",
        "colab_type": "text"
      },
      "source": [
        " <a id=section501></a>\n",
        " ## 5.1 Multivariate Analysis"
      ]
    },
    {
      "cell_type": "markdown",
      "metadata": {
        "id": "CAf7tPiEDud2",
        "colab_type": "text"
      },
      "source": [
        "### 5.1.1 Deposit trend over years"
      ]
    },
    {
      "cell_type": "code",
      "metadata": {
        "id": "cnkwoJV2Dt8x",
        "colab_type": "code",
        "colab": {
          "base_uri": "https://localhost:8080/",
          "height": 375
        },
        "outputId": "f0107f50-3e52-4a98-a38a-075d21bfc377"
      },
      "source": [
        "fig = plt.figure()\n",
        "ax = fig.add_axes([0,0,1,1])\n",
        "year = ['2011', '2012', '2013', '2014', '2015', '2016', '2017']\n",
        "deposits = [df_train['deposit_amount_2011'].sum(), df_train['deposit_amount_2012'].sum(), df_train['deposit_amount_2013'].sum(), df_train['deposit_amount_2014'].sum(), df_train['deposit_amount_2015'].sum(),df_train['deposit_amount_2016'].sum(), df_train['deposit_amount_2017'].sum()]\n",
        "ax.bar(year,deposits)\n",
        "ax.set_xlabel('Year')\n",
        "ax.set_ylabel('Deposit')\n",
        "plt.show()"
      ],
      "execution_count": null,
      "outputs": [
        {
          "output_type": "display_data",
          "data": {
            "image/png": "[encoded data removed]",
            "text/plain": [
              "<Figure size 432x288 with 1 Axes>"
            ]
          },
          "metadata": {
            "tags": []
          }
        }
      ]
    },
    {
      "cell_type": "markdown",
      "metadata": {
        "id": "pTmLmTdBN72l",
        "colab_type": "text"
      },
      "source": [
        "**Observations:**\n",
        "\n",
        "Deposit amount increased over years."
      ]
    },
    {
      "cell_type": "markdown",
      "metadata": {
        "id": "ARnQ1WzfJ8Dw",
        "colab_type": "text"
      },
      "source": [
        "### 5.1.2 Deposit trend over years based on age of bank"
      ]
    },
    {
      "cell_type": "code",
      "metadata": {
        "id": "M-Pl4mXdIihG",
        "colab_type": "code",
        "colab": {
          "base_uri": "https://localhost:8080/",
          "height": 255
        },
        "outputId": "ff8d07a4-52fc-4a54-e8d9-4779fbdb7af2"
      },
      "source": [
        "df_train[\"age_bin\"] = pd.cut(df_train['age_of_bank'], [0, 50, 100,150,200], labels=['<50','50-99','100-149','150-200'], include_lowest=True)\n",
        "df_train[\"age_bin\"]"
      ],
      "execution_count": null,
      "outputs": [
        {
          "output_type": "execute_result",
          "data": {
            "text/plain": [
              "id\n",
              "1       100-149\n",
              "2       50-99  \n",
              "4       50-99  \n",
              "5       50-99  \n",
              "6       50-99  \n",
              "        ...    \n",
              "3765    <50    \n",
              "3766    <50    \n",
              "3767    50-99  \n",
              "3768    50-99  \n",
              "3772    50-99  \n",
              "Name: age_bin, Length: 3187, dtype: category\n",
              "Categories (4, object): [<50 < 50-99 < 100-149 < 150-200]"
            ]
          },
          "metadata": {
            "tags": []
          },
          "execution_count": 1438
        }
      ]
    },
    {
      "cell_type": "code",
      "metadata": {
        "id": "KGPhraX9IB6R",
        "colab_type": "code",
        "colab": {
          "base_uri": "https://localhost:8080/",
          "height": 487
        },
        "outputId": "c583c4e7-9651-481e-81c5-3c75a1f43543"
      },
      "source": [
        "df = pd.DataFrame(\n",
        "\t{\n",
        "\t'2011': df_train.groupby('age_bin')['deposit_amount_2011'].sum(),\n",
        "  '2012': df_train.groupby('age_bin')['deposit_amount_2012'].sum(),\n",
        "  '2013': df_train.groupby('age_bin')['deposit_amount_2013'].sum(),\n",
        "  '2014': df_train.groupby('age_bin')['deposit_amount_2014'].sum(),\n",
        "  '2015': df_train.groupby('age_bin')['deposit_amount_2015'].sum(),\n",
        "  '2016': df_train.groupby('age_bin')['deposit_amount_2016'].sum(),\n",
        "  '2017': df_train.groupby('age_bin')['deposit_amount_2017'].sum()\n",
        "\t}\n",
        "\t) \n",
        "df.plot.bar(rot=0,figsize=(25, 7), title='Deposit behaviour over years')"
      ],
      "execution_count": null,
      "outputs": [
        {
          "output_type": "execute_result",
          "data": {
            "text/plain": [
              "<matplotlib.axes._subplots.AxesSubplot at 0x7f3bfd15c908>"
            ]
          },
          "metadata": {
            "tags": []
          },
          "execution_count": 1443
        },
        {
          "output_type": "display_data",
          "data": {
            "image/png": "[encoded data removed]",
            "text/plain": [
              "<Figure size 1800x504 with 1 Axes>"
            ]
          },
          "metadata": {
            "tags": []
          }
        }
      ]
    },
    {
      "cell_type": "markdown",
      "metadata": {
        "id": "ZMA_rx7oNmEx",
        "colab_type": "text"
      },
      "source": [
        "**Observations:**\n",
        "\n",
        "1. Deposit amount increased over years across age of bank.\n",
        "\n",
        "2. Banks within range of 50 to 99 has most amount of deposits."
      ]
    },
    {
      "cell_type": "code",
      "metadata": {
        "id": "fgBIc1e4Mbfw",
        "colab_type": "code",
        "colab": {}
      },
      "source": [
        "df_train.drop('age_bin', axis=1, inplace = True)"
      ],
      "execution_count": null,
      "outputs": []
    },
    {
      "cell_type": "markdown",
      "metadata": {
        "id": "7qL3mTAvK-xb",
        "colab_type": "text"
      },
      "source": [
        "### 5.1.3  Deposit trend over years based on state\n"
      ]
    },
    {
      "cell_type": "code",
      "metadata": {
        "id": "OQuSJh3OLg4I",
        "colab_type": "code",
        "colab": {
          "base_uri": "https://localhost:8080/",
          "height": 486
        },
        "outputId": "0f37e7f1-b0e4-4db7-cb59-f98dfb4bbee3"
      },
      "source": [
        "df = pd.DataFrame(\n",
        "\t{\n",
        "\t'2011': df_train.groupby('state')['deposit_amount_2011'].sum(),\n",
        "  '2012': df_train.groupby('state')['deposit_amount_2012'].sum(),\n",
        "  '2013': df_train.groupby('state')['deposit_amount_2013'].sum(),\n",
        "  '2014': df_train.groupby('state')['deposit_amount_2014'].sum(),\n",
        "  '2015': df_train.groupby('state')['deposit_amount_2015'].sum(),\n",
        "  '2016': df_train.groupby('state')['deposit_amount_2016'].sum(),\n",
        "  '2017': df_train.groupby('state')['deposit_amount_2017'].sum()\n",
        "\t}\n",
        "\t) \n",
        "df.plot.bar(rot=0,figsize=(25, 7), title='Deposit behaviour over years')"
      ],
      "execution_count": null,
      "outputs": [
        {
          "output_type": "execute_result",
          "data": {
            "text/plain": [
              "<matplotlib.axes._subplots.AxesSubplot at 0x7f3bfd0ae9e8>"
            ]
          },
          "metadata": {
            "tags": []
          },
          "execution_count": 1444
        },
        {
          "output_type": "display_data",
          "data": {
            "image/png": "[encoded data removed]",
            "text/plain": [
              "<Figure size 1800x504 with 1 Axes>"
            ]
          },
          "metadata": {
            "tags": []
          }
        }
      ]
    },
    {
      "cell_type": "markdown",
      "metadata": {
        "id": "hrqLWBdNNEFK",
        "colab_type": "text"
      },
      "source": [
        "**Observations:**\n",
        "\n",
        "1. Deposit amount increased over years across states.\n",
        "\n",
        "2. To name a few, CA, NY, FL and TX and most amount of deposits."
      ]
    },
    {
      "cell_type": "markdown",
      "metadata": {
        "id": "rHtg7_BTa2XO",
        "colab_type": "text"
      },
      "source": [
        " <a id=section6></a>\n",
        " # 6. Data preparation for model building"
      ]
    },
    {
      "cell_type": "markdown",
      "metadata": {
        "id": "S7q1aeqeRQEg",
        "colab_type": "text"
      },
      "source": [
        " <a id=section601></a>\n",
        "## 6.1 Converting categorical variables to numerical\n",
        "\n"
      ]
    },
    {
      "cell_type": "code",
      "metadata": {
        "id": "D7N2jITTS2aY",
        "colab_type": "code",
        "colab": {}
      },
      "source": [
        "feature_cols = list(df_test.columns)\n",
        "continuous_columns = list(df_test.select_dtypes(include='number').columns)\n",
        "categorical_columns = list(df_test.columns.difference(continuous_columns))"
      ],
      "execution_count": null,
      "outputs": []
    },
    {
      "cell_type": "markdown",
      "metadata": {
        "id": "uaDNRiubjkht",
        "colab_type": "text"
      },
      "source": [
        "###  Clustering location details "
      ]
    },
    {
      "cell_type": "markdown",
      "metadata": {
        "id": "rqswUU8wO4VV",
        "colab_type": "text"
      },
      "source": [
        "Steps followed to convert location categorical information to location numerical info: \n",
        "\n",
        "1. Label encoding of **location , state, loc.details**\n",
        "2. Apply K-Means Clustering technique to find K clusters which best represent data.\n",
        "3. One-Hot Encoding of clusters to make them numerical."
      ]
    },
    {
      "cell_type": "markdown",
      "metadata": {
        "id": "OcqQ5ZMRphAG",
        "colab_type": "text"
      },
      "source": [
        "### 6.1.1 Label Encoding"
      ]
    },
    {
      "cell_type": "markdown",
      "metadata": {
        "id": "3whnUI0upqTz",
        "colab_type": "text"
      },
      "source": [
        "#### Train"
      ]
    },
    {
      "cell_type": "code",
      "metadata": {
        "id": "9paE8ywqjn6s",
        "colab_type": "code",
        "colab": {
          "base_uri": "https://localhost:8080/"
        },
        "outputId": "223074fd-2d11-4704-87f4-97a64d1ea9d6"
      },
      "source": [
        "from sklearn.preprocessing import LabelEncoder\n",
        "lb_maker = LabelEncoder()\n",
        "\n",
        "encoded_state = lb_maker.fit_transform(df_train['state'])\n",
        "encoded_location = lb_maker.fit_transform(df_train['location'])\n",
        "encoded_loc_details = lb_maker.fit_transform(df_train['loc.details'])\n",
        "\n",
        "encoded_state = pd.DataFrame({'state': encoded_state})\n",
        "encoded_location = pd.DataFrame({'location' :encoded_location})\n",
        "encoded_loc_details = pd.DataFrame({'loc.details':encoded_loc_details})\n",
        "\n",
        "df_train_encoded = pd.concat([encoded_state, encoded_location, encoded_loc_details], axis = 1)\n",
        "df_train_encoded.head()"
      ],
      "execution_count": null,
      "outputs": [
        {
          "output_type": "execute_result",
          "data": {
            "text/html": [
              "<div>\n",
              "<style scoped>\n",
              "    .dataframe tbody tr th:only-of-type {\n",
              "        vertical-align: middle;\n",
              "    }\n",
              "\n",
              "    .dataframe tbody tr th {\n",
              "        vertical-align: top;\n",
              "    }\n",
              "\n",
              "    .dataframe thead th {\n",
              "        text-align: right;\n",
              "    }\n",
              "</style>\n",
              "<table border=\"1\" class=\"dataframe\">\n",
              "  <thead>\n",
              "    <tr style=\"text-align: right;\">\n",
              "      <th></th>\n",
              "      <th>state</th>\n",
              "      <th>location</th>\n",
              "      <th>loc.details</th>\n",
              "    </tr>\n",
              "  </thead>\n",
              "  <tbody>\n",
              "    <tr>\n",
              "      <th>0</th>\n",
              "      <td>21</td>\n",
              "      <td>1279</td>\n",
              "      <td>271</td>\n",
              "    </tr>\n",
              "    <tr>\n",
              "      <th>1</th>\n",
              "      <td>21</td>\n",
              "      <td>422</td>\n",
              "      <td>269</td>\n",
              "    </tr>\n",
              "    <tr>\n",
              "      <th>2</th>\n",
              "      <td>21</td>\n",
              "      <td>932</td>\n",
              "      <td>271</td>\n",
              "    </tr>\n",
              "    <tr>\n",
              "      <th>3</th>\n",
              "      <td>21</td>\n",
              "      <td>1297</td>\n",
              "      <td>271</td>\n",
              "    </tr>\n",
              "    <tr>\n",
              "      <th>4</th>\n",
              "      <td>21</td>\n",
              "      <td>1297</td>\n",
              "      <td>271</td>\n",
              "    </tr>\n",
              "  </tbody>\n",
              "</table>\n",
              "</div>"
            ],
            "text/plain": [
              "   state  location  loc.details\n",
              "0  21     1279      271        \n",
              "1  21     422       269        \n",
              "2  21     932       271        \n",
              "3  21     1297      271        \n",
              "4  21     1297      271        "
            ]
          },
          "metadata": {
            "tags": []
          },
          "execution_count": 1259
        }
      ]
    },
    {
      "cell_type": "markdown",
      "metadata": {
        "id": "0nuFcVWPqN4H",
        "colab_type": "text"
      },
      "source": [
        "#### Test\n"
      ]
    },
    {
      "cell_type": "code",
      "metadata": {
        "id": "27QPCdenqRD7",
        "colab_type": "code",
        "colab": {
          "base_uri": "https://localhost:8080/"
        },
        "outputId": "e58b26f0-5331-44de-c1c9-64e9e517fe10"
      },
      "source": [
        "encoded_state = lb_maker.fit_transform(df_test['state'])\n",
        "encoded_location = lb_maker.fit_transform(df_test['location'])\n",
        "encoded_loc_details = lb_maker.fit_transform(df_test['loc.details'])\n",
        "\n",
        "encoded_state = pd.DataFrame({'state': encoded_state})\n",
        "encoded_location = pd.DataFrame({'location' :encoded_location})\n",
        "encoded_loc_details = pd.DataFrame({'loc.details':encoded_loc_details})\n",
        "\n",
        "df_test_encoded = pd.concat([encoded_state, encoded_location, encoded_loc_details], axis = 1)\n",
        "df_test_encoded.head()"
      ],
      "execution_count": null,
      "outputs": [
        {
          "output_type": "execute_result",
          "data": {
            "text/html": [
              "<div>\n",
              "<style scoped>\n",
              "    .dataframe tbody tr th:only-of-type {\n",
              "        vertical-align: middle;\n",
              "    }\n",
              "\n",
              "    .dataframe tbody tr th {\n",
              "        vertical-align: top;\n",
              "    }\n",
              "\n",
              "    .dataframe thead th {\n",
              "        text-align: right;\n",
              "    }\n",
              "</style>\n",
              "<table border=\"1\" class=\"dataframe\">\n",
              "  <thead>\n",
              "    <tr style=\"text-align: right;\">\n",
              "      <th></th>\n",
              "      <th>state</th>\n",
              "      <th>location</th>\n",
              "      <th>loc.details</th>\n",
              "    </tr>\n",
              "  </thead>\n",
              "  <tbody>\n",
              "    <tr>\n",
              "      <th>0</th>\n",
              "      <td>9</td>\n",
              "      <td>125</td>\n",
              "      <td>34</td>\n",
              "    </tr>\n",
              "    <tr>\n",
              "      <th>1</th>\n",
              "      <td>8</td>\n",
              "      <td>542</td>\n",
              "      <td>173</td>\n",
              "    </tr>\n",
              "    <tr>\n",
              "      <th>2</th>\n",
              "      <td>8</td>\n",
              "      <td>238</td>\n",
              "      <td>106</td>\n",
              "    </tr>\n",
              "    <tr>\n",
              "      <th>3</th>\n",
              "      <td>8</td>\n",
              "      <td>254</td>\n",
              "      <td>173</td>\n",
              "    </tr>\n",
              "    <tr>\n",
              "      <th>4</th>\n",
              "      <td>8</td>\n",
              "      <td>321</td>\n",
              "      <td>106</td>\n",
              "    </tr>\n",
              "  </tbody>\n",
              "</table>\n",
              "</div>"
            ],
            "text/plain": [
              "   state  location  loc.details\n",
              "0  9      125       34         \n",
              "1  8      542       173        \n",
              "2  8      238       106        \n",
              "3  8      254       173        \n",
              "4  8      321       106        "
            ]
          },
          "metadata": {
            "tags": []
          },
          "execution_count": 1260
        }
      ]
    },
    {
      "cell_type": "markdown",
      "metadata": {
        "id": "FMKYQxWjpy5K",
        "colab_type": "text"
      },
      "source": [
        "### 6.1.2  K Means Clustering"
      ]
    },
    {
      "cell_type": "markdown",
      "metadata": {
        "id": "FYkfwoC9q2MV",
        "colab_type": "text"
      },
      "source": [
        "#### Train"
      ]
    },
    {
      "cell_type": "code",
      "metadata": {
        "id": "avVHpKu5FqwU",
        "colab_type": "code",
        "colab": {}
      },
      "source": [
        "from sklearn.preprocessing import MinMaxScaler\n",
        "scaler = MinMaxScaler()\n",
        "df_train_scaled = pd.DataFrame(scaler.fit_transform(df_train_encoded), columns=df_train_encoded.columns)"
      ],
      "execution_count": null,
      "outputs": []
    },
    {
      "cell_type": "code",
      "metadata": {
        "id": "FE7rdYo9ovW6",
        "colab_type": "code",
        "colab": {
          "base_uri": "https://localhost:8080/"
        },
        "outputId": "ec7d427c-5cc0-4410-cdc8-fe57bc9389a7"
      },
      "source": [
        "import matplotlib.pyplot as plt\n",
        "from sklearn.cluster import KMeans\n",
        "wss = {}\n",
        "for k in range(2, 15):\n",
        "    kmeans = KMeans(n_clusters=k)\n",
        "    kmeans.fit(df_train_scaled)\n",
        "    wss[k] = kmeans.inertia_ # Inertia: Sum of distances of samples to their closest cluster center\n",
        "plt.figure()\n",
        "plt.plot(list(wss.keys()), list(wss.values()))\n",
        "plt.xlabel(\"Number of cluster\")\n",
        "plt.ylabel(\"wss\")\n",
        "plt.show()"
      ],
      "execution_count": null,
      "outputs": [
        {
          "output_type": "display_data",
          "data": {
            "image/png": "[encoded data removed]",
            "text/plain": [
              "<Figure size 432x288 with 1 Axes>"
            ]
          },
          "metadata": {
            "tags": []
          }
        }
      ]
    },
    {
      "cell_type": "code",
      "metadata": {
        "id": "8kpmsbK0pBam",
        "colab_type": "code",
        "colab": {}
      },
      "source": [
        "from sklearn.cluster import KMeans\n",
        "kmeans_object = KMeans(n_clusters=8, random_state=1240)\n",
        "kmeans_object.fit(df_train_scaled)\n",
        "df_train['zone'] = kmeans_object.predict(df_train_scaled)"
      ],
      "execution_count": null,
      "outputs": []
    },
    {
      "cell_type": "code",
      "metadata": {
        "id": "SEXOAQPwtUaC",
        "colab_type": "code",
        "colab": {}
      },
      "source": [
        "df_train.drop(['state', 'location', 'loc.details'], axis=1, inplace=True)"
      ],
      "execution_count": null,
      "outputs": []
    },
    {
      "cell_type": "code",
      "metadata": {
        "id": "cq_kDqUNuayr",
        "colab_type": "code",
        "colab": {
          "base_uri": "https://localhost:8080/"
        },
        "outputId": "db34f16f-ee73-4449-95e5-d7efcd780fb5"
      },
      "source": [
        "df_train.head()"
      ],
      "execution_count": null,
      "outputs": [
        {
          "output_type": "execute_result",
          "data": {
            "text/html": [
              "<div>\n",
              "<style scoped>\n",
              "    .dataframe tbody tr th:only-of-type {\n",
              "        vertical-align: middle;\n",
              "    }\n",
              "\n",
              "    .dataframe tbody tr th {\n",
              "        vertical-align: top;\n",
              "    }\n",
              "\n",
              "    .dataframe thead th {\n",
              "        text-align: right;\n",
              "    }\n",
              "</style>\n",
              "<table border=\"1\" class=\"dataframe\">\n",
              "  <thead>\n",
              "    <tr style=\"text-align: right;\">\n",
              "      <th></th>\n",
              "      <th>deposit_amount_2011</th>\n",
              "      <th>deposit_amount_2012</th>\n",
              "      <th>deposit_amount_2013</th>\n",
              "      <th>deposit_amount_2014</th>\n",
              "      <th>deposit_amount_2015</th>\n",
              "      <th>deposit_amount_2016</th>\n",
              "      <th>deposit_amount_2017</th>\n",
              "      <th>age_of_bank</th>\n",
              "      <th>zone</th>\n",
              "    </tr>\n",
              "    <tr>\n",
              "      <th>id</th>\n",
              "      <th></th>\n",
              "      <th></th>\n",
              "      <th></th>\n",
              "      <th></th>\n",
              "      <th></th>\n",
              "      <th></th>\n",
              "      <th></th>\n",
              "      <th></th>\n",
              "      <th></th>\n",
              "    </tr>\n",
              "  </thead>\n",
              "  <tbody>\n",
              "    <tr>\n",
              "      <th>1</th>\n",
              "      <td>32079.0</td>\n",
              "      <td>35971.5</td>\n",
              "      <td>37237.5</td>\n",
              "      <td>40362.0</td>\n",
              "      <td>46021.5</td>\n",
              "      <td>46020.0</td>\n",
              "      <td>69030.00</td>\n",
              "      <td>106</td>\n",
              "      <td>0</td>\n",
              "    </tr>\n",
              "    <tr>\n",
              "      <th>2</th>\n",
              "      <td>83181.0</td>\n",
              "      <td>84846.0</td>\n",
              "      <td>97098.0</td>\n",
              "      <td>110284.5</td>\n",
              "      <td>122035.5</td>\n",
              "      <td>133905.0</td>\n",
              "      <td>200857.50</td>\n",
              "      <td>97</td>\n",
              "      <td>6</td>\n",
              "    </tr>\n",
              "    <tr>\n",
              "      <th>4</th>\n",
              "      <td>68511.0</td>\n",
              "      <td>73932.0</td>\n",
              "      <td>79876.5</td>\n",
              "      <td>105603.0</td>\n",
              "      <td>112113.0</td>\n",
              "      <td>110755.5</td>\n",
              "      <td>166133.25</td>\n",
              "      <td>97</td>\n",
              "      <td>0</td>\n",
              "    </tr>\n",
              "    <tr>\n",
              "      <th>5</th>\n",
              "      <td>96271.5</td>\n",
              "      <td>108325.5</td>\n",
              "      <td>104880.0</td>\n",
              "      <td>121054.5</td>\n",
              "      <td>113956.5</td>\n",
              "      <td>109837.5</td>\n",
              "      <td>164756.25</td>\n",
              "      <td>97</td>\n",
              "      <td>0</td>\n",
              "    </tr>\n",
              "    <tr>\n",
              "      <th>6</th>\n",
              "      <td>93837.0</td>\n",
              "      <td>101592.0</td>\n",
              "      <td>118270.5</td>\n",
              "      <td>140280.0</td>\n",
              "      <td>150987.0</td>\n",
              "      <td>168742.5</td>\n",
              "      <td>253113.75</td>\n",
              "      <td>97</td>\n",
              "      <td>0</td>\n",
              "    </tr>\n",
              "  </tbody>\n",
              "</table>\n",
              "</div>"
            ],
            "text/plain": [
              "    deposit_amount_2011  deposit_amount_2012  deposit_amount_2013  \\\n",
              "id                                                                  \n",
              "1   32079.0              35971.5              37237.5               \n",
              "2   83181.0              84846.0              97098.0               \n",
              "4   68511.0              73932.0              79876.5               \n",
              "5   96271.5              108325.5             104880.0              \n",
              "6   93837.0              101592.0             118270.5              \n",
              "\n",
              "    deposit_amount_2014  deposit_amount_2015  deposit_amount_2016  \\\n",
              "id                                                                  \n",
              "1   40362.0              46021.5              46020.0               \n",
              "2   110284.5             122035.5             133905.0              \n",
              "4   105603.0             112113.0             110755.5              \n",
              "5   121054.5             113956.5             109837.5              \n",
              "6   140280.0             150987.0             168742.5              \n",
              "\n",
              "    deposit_amount_2017  age_of_bank  zone  \n",
              "id                                          \n",
              "1   69030.00             106          0     \n",
              "2   200857.50            97           6     \n",
              "4   166133.25            97           0     \n",
              "5   164756.25            97           0     \n",
              "6   253113.75            97           0     "
            ]
          },
          "metadata": {
            "tags": []
          },
          "execution_count": 1265
        }
      ]
    },
    {
      "cell_type": "markdown",
      "metadata": {
        "id": "o7J3tZ9rrASC",
        "colab_type": "text"
      },
      "source": [
        "#### Test"
      ]
    },
    {
      "cell_type": "code",
      "metadata": {
        "id": "7W-p1ORurCfV",
        "colab_type": "code",
        "colab": {}
      },
      "source": [
        "from sklearn.preprocessing import MinMaxScaler\n",
        "scaler = MinMaxScaler()\n",
        "df_test_scaled = pd.DataFrame(scaler.fit_transform(df_test_encoded), columns=df_test_encoded.columns)"
      ],
      "execution_count": null,
      "outputs": []
    },
    {
      "cell_type": "code",
      "metadata": {
        "id": "0WThLxS6sRq6",
        "colab_type": "code",
        "colab": {}
      },
      "source": [
        "df_test['zone'] = kmeans_object.predict(df_test_scaled)"
      ],
      "execution_count": null,
      "outputs": []
    },
    {
      "cell_type": "code",
      "metadata": {
        "id": "eIBXLXrnuI9b",
        "colab_type": "code",
        "colab": {}
      },
      "source": [
        "df_test.drop(['state', 'location', 'loc.details'], axis=1, inplace=True)"
      ],
      "execution_count": null,
      "outputs": []
    },
    {
      "cell_type": "code",
      "metadata": {
        "id": "yB4Hs1TZuzTB",
        "colab_type": "code",
        "colab": {
          "base_uri": "https://localhost:8080/"
        },
        "outputId": "520f100f-d4f1-41f1-aa61-f95fba9700e9"
      },
      "source": [
        "df_test.head()"
      ],
      "execution_count": null,
      "outputs": [
        {
          "output_type": "execute_result",
          "data": {
            "text/html": [
              "<div>\n",
              "<style scoped>\n",
              "    .dataframe tbody tr th:only-of-type {\n",
              "        vertical-align: middle;\n",
              "    }\n",
              "\n",
              "    .dataframe tbody tr th {\n",
              "        vertical-align: top;\n",
              "    }\n",
              "\n",
              "    .dataframe thead th {\n",
              "        text-align: right;\n",
              "    }\n",
              "</style>\n",
              "<table border=\"1\" class=\"dataframe\">\n",
              "  <thead>\n",
              "    <tr style=\"text-align: right;\">\n",
              "      <th></th>\n",
              "      <th>deposit_amount_2011</th>\n",
              "      <th>deposit_amount_2012</th>\n",
              "      <th>deposit_amount_2013</th>\n",
              "      <th>deposit_amount_2014</th>\n",
              "      <th>deposit_amount_2015</th>\n",
              "      <th>deposit_amount_2016</th>\n",
              "      <th>age_of_bank</th>\n",
              "      <th>zone</th>\n",
              "    </tr>\n",
              "    <tr>\n",
              "      <th>id</th>\n",
              "      <th></th>\n",
              "      <th></th>\n",
              "      <th></th>\n",
              "      <th></th>\n",
              "      <th></th>\n",
              "      <th></th>\n",
              "      <th></th>\n",
              "      <th></th>\n",
              "    </tr>\n",
              "  </thead>\n",
              "  <tbody>\n",
              "    <tr>\n",
              "      <th>1</th>\n",
              "      <td>949696500.0</td>\n",
              "      <td>1.114902e+09</td>\n",
              "      <td>1.248682e+09</td>\n",
              "      <td>1.374814e+09</td>\n",
              "      <td>1.548824e+09</td>\n",
              "      <td>1.604138e+09</td>\n",
              "      <td>193</td>\n",
              "      <td>4</td>\n",
              "    </tr>\n",
              "    <tr>\n",
              "      <th>2</th>\n",
              "      <td>439843.5</td>\n",
              "      <td>4.661865e+05</td>\n",
              "      <td>4.886130e+05</td>\n",
              "      <td>4.918950e+05</td>\n",
              "      <td>4.916880e+05</td>\n",
              "      <td>5.122125e+05</td>\n",
              "      <td>216</td>\n",
              "      <td>0</td>\n",
              "    </tr>\n",
              "    <tr>\n",
              "      <th>3</th>\n",
              "      <td>286516.5</td>\n",
              "      <td>3.103995e+05</td>\n",
              "      <td>3.246585e+05</td>\n",
              "      <td>3.569745e+05</td>\n",
              "      <td>3.512745e+05</td>\n",
              "      <td>3.936825e+05</td>\n",
              "      <td>53</td>\n",
              "      <td>6</td>\n",
              "    </tr>\n",
              "    <tr>\n",
              "      <th>4</th>\n",
              "      <td>130665.0</td>\n",
              "      <td>1.325505e+05</td>\n",
              "      <td>1.397445e+05</td>\n",
              "      <td>1.644885e+05</td>\n",
              "      <td>1.679775e+05</td>\n",
              "      <td>1.751580e+05</td>\n",
              "      <td>216</td>\n",
              "      <td>6</td>\n",
              "    </tr>\n",
              "    <tr>\n",
              "      <th>5</th>\n",
              "      <td>258912.0</td>\n",
              "      <td>2.591235e+05</td>\n",
              "      <td>2.841195e+05</td>\n",
              "      <td>2.976675e+05</td>\n",
              "      <td>3.077970e+05</td>\n",
              "      <td>3.348000e+05</td>\n",
              "      <td>216</td>\n",
              "      <td>6</td>\n",
              "    </tr>\n",
              "  </tbody>\n",
              "</table>\n",
              "</div>"
            ],
            "text/plain": [
              "    deposit_amount_2011  deposit_amount_2012  deposit_amount_2013  \\\n",
              "id                                                                  \n",
              "1   949696500.0          1.114902e+09         1.248682e+09          \n",
              "2   439843.5             4.661865e+05         4.886130e+05          \n",
              "3   286516.5             3.103995e+05         3.246585e+05          \n",
              "4   130665.0             1.325505e+05         1.397445e+05          \n",
              "5   258912.0             2.591235e+05         2.841195e+05          \n",
              "\n",
              "    deposit_amount_2014  deposit_amount_2015  deposit_amount_2016  \\\n",
              "id                                                                  \n",
              "1   1.374814e+09         1.548824e+09         1.604138e+09          \n",
              "2   4.918950e+05         4.916880e+05         5.122125e+05          \n",
              "3   3.569745e+05         3.512745e+05         3.936825e+05          \n",
              "4   1.644885e+05         1.679775e+05         1.751580e+05          \n",
              "5   2.976675e+05         3.077970e+05         3.348000e+05          \n",
              "\n",
              "    age_of_bank  zone  \n",
              "id                     \n",
              "1   193          4     \n",
              "2   216          0     \n",
              "3   53           6     \n",
              "4   216          6     \n",
              "5   216          6     "
            ]
          },
          "metadata": {
            "tags": []
          },
          "execution_count": 1269
        }
      ]
    },
    {
      "cell_type": "markdown",
      "metadata": {
        "id": "KB2mNBTUv19P",
        "colab_type": "text"
      },
      "source": [
        "### 6.1.3 One-Hot Encoding"
      ]
    },
    {
      "cell_type": "markdown",
      "metadata": {
        "id": "F1bULGaCw9H-",
        "colab_type": "text"
      },
      "source": [
        "#### Train"
      ]
    },
    {
      "cell_type": "code",
      "metadata": {
        "id": "sIntaGa4weec",
        "colab_type": "code",
        "colab": {
          "base_uri": "https://localhost:8080/"
        },
        "outputId": "a4cf4fd5-2b25-4505-c125-a97b9c85ef50"
      },
      "source": [
        "df_train = pd.get_dummies(df_train, columns=['zone'], prefix=['zone'], drop_first=True)\n",
        "df_train.head()"
      ],
      "execution_count": null,
      "outputs": [
        {
          "output_type": "execute_result",
          "data": {
            "text/html": [
              "<div>\n",
              "<style scoped>\n",
              "    .dataframe tbody tr th:only-of-type {\n",
              "        vertical-align: middle;\n",
              "    }\n",
              "\n",
              "    .dataframe tbody tr th {\n",
              "        vertical-align: top;\n",
              "    }\n",
              "\n",
              "    .dataframe thead th {\n",
              "        text-align: right;\n",
              "    }\n",
              "</style>\n",
              "<table border=\"1\" class=\"dataframe\">\n",
              "  <thead>\n",
              "    <tr style=\"text-align: right;\">\n",
              "      <th></th>\n",
              "      <th>deposit_amount_2011</th>\n",
              "      <th>deposit_amount_2012</th>\n",
              "      <th>deposit_amount_2013</th>\n",
              "      <th>deposit_amount_2014</th>\n",
              "      <th>deposit_amount_2015</th>\n",
              "      <th>deposit_amount_2016</th>\n",
              "      <th>deposit_amount_2017</th>\n",
              "      <th>age_of_bank</th>\n",
              "      <th>zone_1</th>\n",
              "      <th>zone_2</th>\n",
              "      <th>zone_3</th>\n",
              "      <th>zone_4</th>\n",
              "      <th>zone_5</th>\n",
              "      <th>zone_6</th>\n",
              "      <th>zone_7</th>\n",
              "    </tr>\n",
              "    <tr>\n",
              "      <th>id</th>\n",
              "      <th></th>\n",
              "      <th></th>\n",
              "      <th></th>\n",
              "      <th></th>\n",
              "      <th></th>\n",
              "      <th></th>\n",
              "      <th></th>\n",
              "      <th></th>\n",
              "      <th></th>\n",
              "      <th></th>\n",
              "      <th></th>\n",
              "      <th></th>\n",
              "      <th></th>\n",
              "      <th></th>\n",
              "      <th></th>\n",
              "    </tr>\n",
              "  </thead>\n",
              "  <tbody>\n",
              "    <tr>\n",
              "      <th>1</th>\n",
              "      <td>32079.0</td>\n",
              "      <td>35971.5</td>\n",
              "      <td>37237.5</td>\n",
              "      <td>40362.0</td>\n",
              "      <td>46021.5</td>\n",
              "      <td>46020.0</td>\n",
              "      <td>69030.00</td>\n",
              "      <td>106</td>\n",
              "      <td>0</td>\n",
              "      <td>0</td>\n",
              "      <td>0</td>\n",
              "      <td>0</td>\n",
              "      <td>0</td>\n",
              "      <td>0</td>\n",
              "      <td>0</td>\n",
              "    </tr>\n",
              "    <tr>\n",
              "      <th>2</th>\n",
              "      <td>83181.0</td>\n",
              "      <td>84846.0</td>\n",
              "      <td>97098.0</td>\n",
              "      <td>110284.5</td>\n",
              "      <td>122035.5</td>\n",
              "      <td>133905.0</td>\n",
              "      <td>200857.50</td>\n",
              "      <td>97</td>\n",
              "      <td>0</td>\n",
              "      <td>0</td>\n",
              "      <td>0</td>\n",
              "      <td>0</td>\n",
              "      <td>0</td>\n",
              "      <td>1</td>\n",
              "      <td>0</td>\n",
              "    </tr>\n",
              "    <tr>\n",
              "      <th>4</th>\n",
              "      <td>68511.0</td>\n",
              "      <td>73932.0</td>\n",
              "      <td>79876.5</td>\n",
              "      <td>105603.0</td>\n",
              "      <td>112113.0</td>\n",
              "      <td>110755.5</td>\n",
              "      <td>166133.25</td>\n",
              "      <td>97</td>\n",
              "      <td>0</td>\n",
              "      <td>0</td>\n",
              "      <td>0</td>\n",
              "      <td>0</td>\n",
              "      <td>0</td>\n",
              "      <td>0</td>\n",
              "      <td>0</td>\n",
              "    </tr>\n",
              "    <tr>\n",
              "      <th>5</th>\n",
              "      <td>96271.5</td>\n",
              "      <td>108325.5</td>\n",
              "      <td>104880.0</td>\n",
              "      <td>121054.5</td>\n",
              "      <td>113956.5</td>\n",
              "      <td>109837.5</td>\n",
              "      <td>164756.25</td>\n",
              "      <td>97</td>\n",
              "      <td>0</td>\n",
              "      <td>0</td>\n",
              "      <td>0</td>\n",
              "      <td>0</td>\n",
              "      <td>0</td>\n",
              "      <td>0</td>\n",
              "      <td>0</td>\n",
              "    </tr>\n",
              "    <tr>\n",
              "      <th>6</th>\n",
              "      <td>93837.0</td>\n",
              "      <td>101592.0</td>\n",
              "      <td>118270.5</td>\n",
              "      <td>140280.0</td>\n",
              "      <td>150987.0</td>\n",
              "      <td>168742.5</td>\n",
              "      <td>253113.75</td>\n",
              "      <td>97</td>\n",
              "      <td>0</td>\n",
              "      <td>0</td>\n",
              "      <td>0</td>\n",
              "      <td>0</td>\n",
              "      <td>0</td>\n",
              "      <td>0</td>\n",
              "      <td>0</td>\n",
              "    </tr>\n",
              "  </tbody>\n",
              "</table>\n",
              "</div>"
            ],
            "text/plain": [
              "    deposit_amount_2011  deposit_amount_2012  deposit_amount_2013  \\\n",
              "id                                                                  \n",
              "1   32079.0              35971.5              37237.5               \n",
              "2   83181.0              84846.0              97098.0               \n",
              "4   68511.0              73932.0              79876.5               \n",
              "5   96271.5              108325.5             104880.0              \n",
              "6   93837.0              101592.0             118270.5              \n",
              "\n",
              "    deposit_amount_2014  deposit_amount_2015  deposit_amount_2016  \\\n",
              "id                                                                  \n",
              "1   40362.0              46021.5              46020.0               \n",
              "2   110284.5             122035.5             133905.0              \n",
              "4   105603.0             112113.0             110755.5              \n",
              "5   121054.5             113956.5             109837.5              \n",
              "6   140280.0             150987.0             168742.5              \n",
              "\n",
              "    deposit_amount_2017  age_of_bank  zone_1  zone_2  zone_3  zone_4  zone_5  \\\n",
              "id                                                                             \n",
              "1   69030.00             106          0       0       0       0       0        \n",
              "2   200857.50            97           0       0       0       0       0        \n",
              "4   166133.25            97           0       0       0       0       0        \n",
              "5   164756.25            97           0       0       0       0       0        \n",
              "6   253113.75            97           0       0       0       0       0        \n",
              "\n",
              "    zone_6  zone_7  \n",
              "id                  \n",
              "1   0       0       \n",
              "2   1       0       \n",
              "4   0       0       \n",
              "5   0       0       \n",
              "6   0       0       "
            ]
          },
          "metadata": {
            "tags": []
          },
          "execution_count": 1270
        }
      ]
    },
    {
      "cell_type": "markdown",
      "metadata": {
        "id": "3dPWGqPXxCWj",
        "colab_type": "text"
      },
      "source": [
        "#### Test"
      ]
    },
    {
      "cell_type": "code",
      "metadata": {
        "id": "68TECHSjxFU9",
        "colab_type": "code",
        "colab": {
          "base_uri": "https://localhost:8080/"
        },
        "outputId": "f78ddfcd-68eb-46cb-cf8d-ab01b3419d5e"
      },
      "source": [
        "df_test = pd.get_dummies(df_test, columns=['zone'], prefix=['zone'], drop_first=True)\n",
        "df_test.head()"
      ],
      "execution_count": null,
      "outputs": [
        {
          "output_type": "execute_result",
          "data": {
            "text/html": [
              "<div>\n",
              "<style scoped>\n",
              "    .dataframe tbody tr th:only-of-type {\n",
              "        vertical-align: middle;\n",
              "    }\n",
              "\n",
              "    .dataframe tbody tr th {\n",
              "        vertical-align: top;\n",
              "    }\n",
              "\n",
              "    .dataframe thead th {\n",
              "        text-align: right;\n",
              "    }\n",
              "</style>\n",
              "<table border=\"1\" class=\"dataframe\">\n",
              "  <thead>\n",
              "    <tr style=\"text-align: right;\">\n",
              "      <th></th>\n",
              "      <th>deposit_amount_2011</th>\n",
              "      <th>deposit_amount_2012</th>\n",
              "      <th>deposit_amount_2013</th>\n",
              "      <th>deposit_amount_2014</th>\n",
              "      <th>deposit_amount_2015</th>\n",
              "      <th>deposit_amount_2016</th>\n",
              "      <th>age_of_bank</th>\n",
              "      <th>zone_1</th>\n",
              "      <th>zone_2</th>\n",
              "      <th>zone_3</th>\n",
              "      <th>zone_4</th>\n",
              "      <th>zone_5</th>\n",
              "      <th>zone_6</th>\n",
              "      <th>zone_7</th>\n",
              "    </tr>\n",
              "    <tr>\n",
              "      <th>id</th>\n",
              "      <th></th>\n",
              "      <th></th>\n",
              "      <th></th>\n",
              "      <th></th>\n",
              "      <th></th>\n",
              "      <th></th>\n",
              "      <th></th>\n",
              "      <th></th>\n",
              "      <th></th>\n",
              "      <th></th>\n",
              "      <th></th>\n",
              "      <th></th>\n",
              "      <th></th>\n",
              "      <th></th>\n",
              "    </tr>\n",
              "  </thead>\n",
              "  <tbody>\n",
              "    <tr>\n",
              "      <th>1</th>\n",
              "      <td>949696500.0</td>\n",
              "      <td>1.114902e+09</td>\n",
              "      <td>1.248682e+09</td>\n",
              "      <td>1.374814e+09</td>\n",
              "      <td>1.548824e+09</td>\n",
              "      <td>1.604138e+09</td>\n",
              "      <td>193</td>\n",
              "      <td>0</td>\n",
              "      <td>0</td>\n",
              "      <td>0</td>\n",
              "      <td>1</td>\n",
              "      <td>0</td>\n",
              "      <td>0</td>\n",
              "      <td>0</td>\n",
              "    </tr>\n",
              "    <tr>\n",
              "      <th>2</th>\n",
              "      <td>439843.5</td>\n",
              "      <td>4.661865e+05</td>\n",
              "      <td>4.886130e+05</td>\n",
              "      <td>4.918950e+05</td>\n",
              "      <td>4.916880e+05</td>\n",
              "      <td>5.122125e+05</td>\n",
              "      <td>216</td>\n",
              "      <td>0</td>\n",
              "      <td>0</td>\n",
              "      <td>0</td>\n",
              "      <td>0</td>\n",
              "      <td>0</td>\n",
              "      <td>0</td>\n",
              "      <td>0</td>\n",
              "    </tr>\n",
              "    <tr>\n",
              "      <th>3</th>\n",
              "      <td>286516.5</td>\n",
              "      <td>3.103995e+05</td>\n",
              "      <td>3.246585e+05</td>\n",
              "      <td>3.569745e+05</td>\n",
              "      <td>3.512745e+05</td>\n",
              "      <td>3.936825e+05</td>\n",
              "      <td>53</td>\n",
              "      <td>0</td>\n",
              "      <td>0</td>\n",
              "      <td>0</td>\n",
              "      <td>0</td>\n",
              "      <td>0</td>\n",
              "      <td>1</td>\n",
              "      <td>0</td>\n",
              "    </tr>\n",
              "    <tr>\n",
              "      <th>4</th>\n",
              "      <td>130665.0</td>\n",
              "      <td>1.325505e+05</td>\n",
              "      <td>1.397445e+05</td>\n",
              "      <td>1.644885e+05</td>\n",
              "      <td>1.679775e+05</td>\n",
              "      <td>1.751580e+05</td>\n",
              "      <td>216</td>\n",
              "      <td>0</td>\n",
              "      <td>0</td>\n",
              "      <td>0</td>\n",
              "      <td>0</td>\n",
              "      <td>0</td>\n",
              "      <td>1</td>\n",
              "      <td>0</td>\n",
              "    </tr>\n",
              "    <tr>\n",
              "      <th>5</th>\n",
              "      <td>258912.0</td>\n",
              "      <td>2.591235e+05</td>\n",
              "      <td>2.841195e+05</td>\n",
              "      <td>2.976675e+05</td>\n",
              "      <td>3.077970e+05</td>\n",
              "      <td>3.348000e+05</td>\n",
              "      <td>216</td>\n",
              "      <td>0</td>\n",
              "      <td>0</td>\n",
              "      <td>0</td>\n",
              "      <td>0</td>\n",
              "      <td>0</td>\n",
              "      <td>1</td>\n",
              "      <td>0</td>\n",
              "    </tr>\n",
              "  </tbody>\n",
              "</table>\n",
              "</div>"
            ],
            "text/plain": [
              "    deposit_amount_2011  deposit_amount_2012  deposit_amount_2013  \\\n",
              "id                                                                  \n",
              "1   949696500.0          1.114902e+09         1.248682e+09          \n",
              "2   439843.5             4.661865e+05         4.886130e+05          \n",
              "3   286516.5             3.103995e+05         3.246585e+05          \n",
              "4   130665.0             1.325505e+05         1.397445e+05          \n",
              "5   258912.0             2.591235e+05         2.841195e+05          \n",
              "\n",
              "    deposit_amount_2014  deposit_amount_2015  deposit_amount_2016  \\\n",
              "id                                                                  \n",
              "1   1.374814e+09         1.548824e+09         1.604138e+09          \n",
              "2   4.918950e+05         4.916880e+05         5.122125e+05          \n",
              "3   3.569745e+05         3.512745e+05         3.936825e+05          \n",
              "4   1.644885e+05         1.679775e+05         1.751580e+05          \n",
              "5   2.976675e+05         3.077970e+05         3.348000e+05          \n",
              "\n",
              "    age_of_bank  zone_1  zone_2  zone_3  zone_4  zone_5  zone_6  zone_7  \n",
              "id                                                                       \n",
              "1   193          0       0       0       1       0       0       0       \n",
              "2   216          0       0       0       0       0       0       0       \n",
              "3   53           0       0       0       0       0       1       0       \n",
              "4   216          0       0       0       0       0       1       0       \n",
              "5   216          0       0       0       0       0       1       0       "
            ]
          },
          "metadata": {
            "tags": []
          },
          "execution_count": 1271
        }
      ]
    },
    {
      "cell_type": "markdown",
      "metadata": {
        "colab_type": "text",
        "id": "ud2SImerDu2Q"
      },
      "source": [
        " <a id=section602></a>\n",
        "## 6.2 Standardization of continuous independant variables\n"
      ]
    },
    {
      "cell_type": "code",
      "metadata": {
        "id": "auvA7az2GPY2",
        "colab_type": "code",
        "colab": {
          "base_uri": "https://localhost:8080/",
          "height": 136
        },
        "outputId": "c0e7320e-a047-44b3-c74d-cad194ab14fd"
      },
      "source": [
        "continuous_columns"
      ],
      "execution_count": null,
      "outputs": [
        {
          "output_type": "execute_result",
          "data": {
            "text/plain": [
              "['deposit_amount_2011',\n",
              " 'deposit_amount_2012',\n",
              " 'deposit_amount_2013',\n",
              " 'deposit_amount_2014',\n",
              " 'deposit_amount_2015',\n",
              " 'deposit_amount_2016',\n",
              " 'age_of_bank']"
            ]
          },
          "metadata": {
            "tags": []
          },
          "execution_count": 1272
        }
      ]
    },
    {
      "cell_type": "markdown",
      "metadata": {
        "id": "uNm5VOG2Egp9",
        "colab_type": "text"
      },
      "source": [
        "#### Train"
      ]
    },
    {
      "cell_type": "code",
      "metadata": {
        "colab_type": "code",
        "id": "f95kAIfoDu2g",
        "colab": {}
      },
      "source": [
        "from sklearn.preprocessing import StandardScaler\n",
        "\n",
        "# standardizing train data\n",
        "scaler = StandardScaler().fit(df_train[continuous_columns])\n",
        "data_train = scaler.transform(df_train[continuous_columns])"
      ],
      "execution_count": null,
      "outputs": []
    },
    {
      "cell_type": "code",
      "metadata": {
        "colab_type": "code",
        "id": "kXPMhujjDu2q",
        "colab": {
          "base_uri": "https://localhost:8080/",
          "height": 34
        },
        "outputId": "abd43a80-2fa1-4be2-901b-a02948d6a52c"
      },
      "source": [
        "# forming dataframe after standardization\n",
        "df_train_sd= pd.DataFrame(data_train)\n",
        "df_train_sd.index = df_train.index\n",
        "df_train_sd.columns = continuous_columns\n",
        "df_train_sd.shape, df_train.shape"
      ],
      "execution_count": null,
      "outputs": [
        {
          "output_type": "execute_result",
          "data": {
            "text/plain": [
              "((3187, 7), (3187, 15))"
            ]
          },
          "metadata": {
            "tags": []
          },
          "execution_count": 1274
        }
      ]
    },
    {
      "cell_type": "code",
      "metadata": {
        "id": "vUChxqjrJyMY",
        "colab_type": "code",
        "colab": {
          "base_uri": "https://localhost:8080/",
          "height": 34
        },
        "outputId": "537c9e30-7360-43bc-e417-7932d1fc7cea"
      },
      "source": [
        "cols = ['zone_1', 'zone_2', 'zone_3','zone_4', 'zone_5', 'zone_6', 'zone_7', 'deposit_amount_2017']\n",
        "df_train_processed = pd.concat([df_train_sd, df_train[cols]], axis = 1).reindex(df_train.index)\n",
        "df_train_processed.shape"
      ],
      "execution_count": null,
      "outputs": [
        {
          "output_type": "execute_result",
          "data": {
            "text/plain": [
              "(3187, 15)"
            ]
          },
          "metadata": {
            "tags": []
          },
          "execution_count": 1275
        }
      ]
    },
    {
      "cell_type": "markdown",
      "metadata": {
        "id": "5QUPhNBOFBE7",
        "colab_type": "text"
      },
      "source": [
        "#### Test\n"
      ]
    },
    {
      "cell_type": "code",
      "metadata": {
        "id": "RzTlZmI5FJEk",
        "colab_type": "code",
        "colab": {}
      },
      "source": [
        "# standardizing test data\n",
        "data_test = scaler.transform(df_test[continuous_columns])"
      ],
      "execution_count": null,
      "outputs": []
    },
    {
      "cell_type": "code",
      "metadata": {
        "colab_type": "code",
        "id": "gRQcllMlDu20",
        "colab": {
          "base_uri": "https://localhost:8080/",
          "height": 235
        },
        "outputId": "36b5e81b-5468-48b0-a7a1-b8f129304e35"
      },
      "source": [
        "# forming dataframe after standardization\n",
        "df_test_sd= pd.DataFrame(data_test)\n",
        "df_test_sd.index = df_test.index\n",
        "df_test_sd.columns = continuous_columns\n",
        "df_test_sd.head()"
      ],
      "execution_count": null,
      "outputs": [
        {
          "output_type": "execute_result",
          "data": {
            "text/html": [
              "<div>\n",
              "<style scoped>\n",
              "    .dataframe tbody tr th:only-of-type {\n",
              "        vertical-align: middle;\n",
              "    }\n",
              "\n",
              "    .dataframe tbody tr th {\n",
              "        vertical-align: top;\n",
              "    }\n",
              "\n",
              "    .dataframe thead th {\n",
              "        text-align: right;\n",
              "    }\n",
              "</style>\n",
              "<table border=\"1\" class=\"dataframe\">\n",
              "  <thead>\n",
              "    <tr style=\"text-align: right;\">\n",
              "      <th></th>\n",
              "      <th>deposit_amount_2011</th>\n",
              "      <th>deposit_amount_2012</th>\n",
              "      <th>deposit_amount_2013</th>\n",
              "      <th>deposit_amount_2014</th>\n",
              "      <th>deposit_amount_2015</th>\n",
              "      <th>deposit_amount_2016</th>\n",
              "      <th>age_of_bank</th>\n",
              "    </tr>\n",
              "    <tr>\n",
              "      <th>id</th>\n",
              "      <th></th>\n",
              "      <th></th>\n",
              "      <th></th>\n",
              "      <th></th>\n",
              "      <th></th>\n",
              "      <th></th>\n",
              "      <th></th>\n",
              "    </tr>\n",
              "  </thead>\n",
              "  <tbody>\n",
              "    <tr>\n",
              "      <th>1</th>\n",
              "      <td>26018.408992</td>\n",
              "      <td>29878.849863</td>\n",
              "      <td>31542.109251</td>\n",
              "      <td>33124.129428</td>\n",
              "      <td>35208.143676</td>\n",
              "      <td>33689.551757</td>\n",
              "      <td>3.120300</td>\n",
              "    </tr>\n",
              "    <tr>\n",
              "      <th>2</th>\n",
              "      <td>10.809486</td>\n",
              "      <td>11.184534</td>\n",
              "      <td>10.920695</td>\n",
              "      <td>10.315759</td>\n",
              "      <td>9.526859</td>\n",
              "      <td>9.021280</td>\n",
              "      <td>3.710347</td>\n",
              "    </tr>\n",
              "    <tr>\n",
              "      <th>3</th>\n",
              "      <td>6.608655</td>\n",
              "      <td>7.009333</td>\n",
              "      <td>6.778967</td>\n",
              "      <td>7.064898</td>\n",
              "      <td>6.334804</td>\n",
              "      <td>6.531825</td>\n",
              "      <td>-0.471291</td>\n",
              "    </tr>\n",
              "    <tr>\n",
              "      <th>4</th>\n",
              "      <td>2.338658</td>\n",
              "      <td>2.242854</td>\n",
              "      <td>2.107771</td>\n",
              "      <td>2.427016</td>\n",
              "      <td>2.167867</td>\n",
              "      <td>1.942211</td>\n",
              "      <td>3.710347</td>\n",
              "    </tr>\n",
              "    <tr>\n",
              "      <th>5</th>\n",
              "      <td>5.852351</td>\n",
              "      <td>5.635100</td>\n",
              "      <td>5.754893</td>\n",
              "      <td>5.635917</td>\n",
              "      <td>5.346419</td>\n",
              "      <td>5.295131</td>\n",
              "      <td>3.710347</td>\n",
              "    </tr>\n",
              "  </tbody>\n",
              "</table>\n",
              "</div>"
            ],
            "text/plain": [
              "    deposit_amount_2011  deposit_amount_2012  deposit_amount_2013  \\\n",
              "id                                                                  \n",
              "1   26018.408992         29878.849863         31542.109251          \n",
              "2   10.809486            11.184534            10.920695             \n",
              "3   6.608655             7.009333             6.778967              \n",
              "4   2.338658             2.242854             2.107771              \n",
              "5   5.852351             5.635100             5.754893              \n",
              "\n",
              "    deposit_amount_2014  deposit_amount_2015  deposit_amount_2016  age_of_bank  \n",
              "id                                                                              \n",
              "1   33124.129428         35208.143676         33689.551757         3.120300     \n",
              "2   10.315759            9.526859             9.021280             3.710347     \n",
              "3   7.064898             6.334804             6.531825            -0.471291     \n",
              "4   2.427016             2.167867             1.942211             3.710347     \n",
              "5   5.635917             5.346419             5.295131             3.710347     "
            ]
          },
          "metadata": {
            "tags": []
          },
          "execution_count": 1277
        }
      ]
    },
    {
      "cell_type": "code",
      "metadata": {
        "id": "gcev7BpeO1-o",
        "colab_type": "code",
        "colab": {
          "base_uri": "https://localhost:8080/",
          "height": 34
        },
        "outputId": "b1019040-f382-4c95-fa0b-ab06b0dc2608"
      },
      "source": [
        "cols = ['zone_1', 'zone_2', 'zone_3','zone_4', 'zone_5', 'zone_6', 'zone_7']\n",
        "df_test_processed = pd.concat([df_test_sd, df_test[cols]], axis = 1).reindex(df_test.index)\n",
        "df_test_processed.shape"
      ],
      "execution_count": null,
      "outputs": [
        {
          "output_type": "execute_result",
          "data": {
            "text/plain": [
              "(1623, 14)"
            ]
          },
          "metadata": {
            "tags": []
          },
          "execution_count": 1278
        }
      ]
    },
    {
      "cell_type": "markdown",
      "metadata": {
        "colab_type": "text",
        "id": "Srrf0qAHRVl2"
      },
      "source": [
        " <a id=section7></a>\n",
        " # 7. Ensemble Modelling and Prediction\n",
        " \n",
        " Ensemble modeling is a process where multiple diverse models are created to predict an outcome, either by using many different modeling algorithms or using different training data sets. The ensemble model then aggregates the prediction of each base model and results in once final prediction for the unseen data."
      ]
    },
    {
      "cell_type": "markdown",
      "metadata": {
        "id": "z2gWm3-owCcO",
        "colab_type": "text"
      },
      "source": [
        " <a id=section701></a>\n",
        " ## 7.1 Linear Regression\n",
        " \n",
        " \n",
        "Linear regression is a basic and commonly used type of predictive analysis.  The overall idea of regression is to examine two things: \n",
        "\n",
        "1. Does a set of predictor variables do a good job in predicting an outcome (dependent) variable?  \n",
        "2. Which variables in particular are significant predictors of the outcome variable, and in what way do they–indicated by the magnitude and sign of the beta estimates–impact the outcome variable?  \n",
        "\n",
        "These regression estimates are used to explain the relationship between one dependent variable and one or more independent variables.  The simplest form of the regression equation with one dependent and one independent variable is defined by the formula y = c + b*x, where y = estimated dependent variable score, c = constant, b = regression coefficient, and x = score on the independent variable.\n"
      ]
    },
    {
      "cell_type": "markdown",
      "metadata": {
        "id": "JlSFsZ8nwCcP",
        "colab_type": "text"
      },
      "source": [
        " <a id=section70101></a>\n",
        "### 7.1.1  Checking assumptions of Linear Regression"
      ]
    },
    {
      "cell_type": "code",
      "metadata": {
        "id": "yRZ3ZavYjJyp",
        "colab_type": "code",
        "colab": {}
      },
      "source": [
        "df_train_lr = df_train_processed.copy()\n",
        "df_test_lr = df_test_processed.copy()"
      ],
      "execution_count": null,
      "outputs": []
    },
    {
      "cell_type": "markdown",
      "metadata": {
        "colab_type": "text",
        "id": "z6SD4MJIRVmA"
      },
      "source": [
        "#### a. Target variable should be normally distributed\n"
      ]
    },
    {
      "cell_type": "code",
      "metadata": {
        "colab_type": "code",
        "id": "Jb35mvKHRVmC",
        "colab": {
          "base_uri": "https://localhost:8080/",
          "height": 323
        },
        "outputId": "6b8c53e1-d18a-481e-db36-703e679a4fe5"
      },
      "source": [
        "target = df_train_lr['deposit_amount_2017']\n",
        "sns.distplot(target, color=\"b\")"
      ],
      "execution_count": null,
      "outputs": [
        {
          "output_type": "execute_result",
          "data": {
            "text/plain": [
              "<matplotlib.axes._subplots.AxesSubplot at 0x7f3bfde49860>"
            ]
          },
          "metadata": {
            "tags": []
          },
          "execution_count": 1280
        },
        {
          "output_type": "display_data",
          "data": {
            "image/png": "[encoded data removed]",
            "text/plain": [
              "<Figure size 432x288 with 1 Axes>"
            ]
          },
          "metadata": {
            "tags": []
          }
        }
      ]
    },
    {
      "cell_type": "markdown",
      "metadata": {
        "id": "paIoAIScwCcT",
        "colab_type": "text"
      },
      "source": [
        "**Observations**\n",
        "\n",
        "1. We observe target variable i.e; Target Variable is not normally distributed\n",
        "2. Lets apply log transformation and check."
      ]
    },
    {
      "cell_type": "code",
      "metadata": {
        "colab_type": "code",
        "id": "sLfQN0cvRVmY",
        "colab": {
          "base_uri": "https://localhost:8080/",
          "height": 309
        },
        "outputId": "e3dc6059-0c43-4a3e-8311-43ee5a0b2411"
      },
      "source": [
        "target= np.sqrt(target)\n",
        "sns.distplot(target, color=\"b\")"
      ],
      "execution_count": null,
      "outputs": [
        {
          "output_type": "execute_result",
          "data": {
            "text/plain": [
              "<matplotlib.axes._subplots.AxesSubplot at 0x7f3bfdb86128>"
            ]
          },
          "metadata": {
            "tags": []
          },
          "execution_count": 1281
        },
        {
          "output_type": "display_data",
          "data": {
            "image/png": "[encoded data removed]",
            "text/plain": [
              "<Figure size 432x288 with 1 Axes>"
            ]
          },
          "metadata": {
            "tags": []
          }
        }
      ]
    },
    {
      "cell_type": "markdown",
      "metadata": {
        "id": "qbyzgl_FwCcX",
        "colab_type": "text"
      },
      "source": [
        "**Observations:** Log transformation worked. Lets check another assumption."
      ]
    },
    {
      "cell_type": "code",
      "metadata": {
        "id": "JV-8yPAR4Bwn",
        "colab_type": "code",
        "colab": {}
      },
      "source": [
        "df_train_lr['deposit_amount_2017'] = target"
      ],
      "execution_count": null,
      "outputs": []
    },
    {
      "cell_type": "code",
      "metadata": {
        "id": "x9gXiawYji5k",
        "colab_type": "code",
        "colab": {
          "base_uri": "https://localhost:8080/",
          "height": 238
        },
        "outputId": "1cf5c927-c103-4186-f4d6-b7d4eee0efaf"
      },
      "source": [
        "df_train_lr['deposit_amount_2017']"
      ],
      "execution_count": null,
      "outputs": [
        {
          "output_type": "execute_result",
          "data": {
            "text/plain": [
              "id\n",
              "1       262.735609\n",
              "2       448.171284\n",
              "4       407.594468\n",
              "5       405.901774\n",
              "6       503.104114\n",
              "           ...    \n",
              "3765    134.540886\n",
              "3766    136.672967\n",
              "3767    120.691756\n",
              "3768    110.288259\n",
              "3772    153.455205\n",
              "Name: deposit_amount_2017, Length: 3187, dtype: float64"
            ]
          },
          "metadata": {
            "tags": []
          },
          "execution_count": 1283
        }
      ]
    },
    {
      "cell_type": "markdown",
      "metadata": {
        "id": "ZXI2i13b5NmP",
        "colab_type": "text"
      },
      "source": [
        "#### b. Independant variables shouldn't be correlated"
      ]
    },
    {
      "cell_type": "code",
      "metadata": {
        "id": "arpSz04-5NLd",
        "colab_type": "code",
        "colab": {}
      },
      "source": [
        "# extracting feature columns\n",
        "feature_cols = list(df_test_lr.columns)"
      ],
      "execution_count": null,
      "outputs": []
    },
    {
      "cell_type": "code",
      "metadata": {
        "id": "ktfD4PUA6prA",
        "colab_type": "code",
        "colab": {
          "base_uri": "https://localhost:8080/",
          "height": 102
        },
        "outputId": "e5fb4ce7-032a-46d8-beca-42282f9c0d91"
      },
      "source": [
        "# extracting highly correlated columns to drop\n",
        "\n",
        "# Create correlation matrix\n",
        "corr_matrix = df_train_lr[feature_cols].corr().abs()\n",
        "\n",
        "# Select upper triangle of correlation matrix\n",
        "upper = corr_matrix.where(np.triu(np.ones(corr_matrix.shape), k=1).astype(np.bool))\n",
        "\n",
        "# Find index of feature columns with correlation greater than 0.95\n",
        "to_drop = [column for column in upper.columns if any(upper[column] > 0.80)]\n",
        "to_drop"
      ],
      "execution_count": null,
      "outputs": [
        {
          "output_type": "execute_result",
          "data": {
            "text/plain": [
              "['deposit_amount_2012',\n",
              " 'deposit_amount_2013',\n",
              " 'deposit_amount_2014',\n",
              " 'deposit_amount_2015',\n",
              " 'deposit_amount_2016']"
            ]
          },
          "metadata": {
            "tags": []
          },
          "execution_count": 1285
        }
      ]
    },
    {
      "cell_type": "code",
      "metadata": {
        "id": "JAywvqIsw5go",
        "colab_type": "code",
        "colab": {
          "base_uri": "https://localhost:8080/",
          "height": 34
        },
        "outputId": "789634f8-07af-4bab-8c0c-01fdfe114511"
      },
      "source": [
        "# Drop features \n",
        "df_train_lr.drop(to_drop, axis=1, inplace=True)\n",
        "df_test_lr.drop(to_drop, axis=1, inplace=True)\n",
        "df_train_lr.shape,  df_test_lr.shape"
      ],
      "execution_count": null,
      "outputs": [
        {
          "output_type": "execute_result",
          "data": {
            "text/plain": [
              "((3187, 10), (1623, 9))"
            ]
          },
          "metadata": {
            "tags": []
          },
          "execution_count": 1286
        }
      ]
    },
    {
      "cell_type": "markdown",
      "metadata": {
        "id": "cGVU3hPUmDI7",
        "colab_type": "text"
      },
      "source": [
        " <a id=section70102></a>\n",
        "### 7.1.2  Split data in to train and test"
      ]
    },
    {
      "cell_type": "code",
      "metadata": {
        "id": "ZSJM--82mKtz",
        "colab_type": "code",
        "colab": {}
      },
      "source": [
        "from sklearn.model_selection import train_test_split\n",
        "\n",
        "def split(X,y):\n",
        "    return train_test_split(X, y, test_size=0.30, random_state=1)"
      ],
      "execution_count": null,
      "outputs": []
    },
    {
      "cell_type": "code",
      "metadata": {
        "id": "r-tPaVW2mNGF",
        "colab_type": "code",
        "colab": {}
      },
      "source": [
        "feature_cols = df_test_lr.columns\n",
        "\n",
        "X_lr = df_train_lr[feature_cols]\n",
        "y_lr = df_train_lr['deposit_amount_2017']"
      ],
      "execution_count": null,
      "outputs": []
    },
    {
      "cell_type": "code",
      "metadata": {
        "id": "4cND84P0m0-S",
        "colab_type": "code",
        "colab": {
          "base_uri": "https://localhost:8080/"
        },
        "outputId": "8960e9a2-9909-491a-ef67-afd70fc3dd97"
      },
      "source": [
        "X_train_lr, X_test_lr, y_train_lr, y_test_lr=split(X_lr,y_lr)\n",
        "print('Train cases as below')\n",
        "print('X_train shape: ',X_train_lr.shape)\n",
        "print('y_train shape: ',y_train_lr.shape)\n",
        "print('\\nTest cases as below')\n",
        "print('X_test shape: ',X_test_lr.shape)\n",
        "print('y_test shape: ',y_test_lr.shape)"
      ],
      "execution_count": null,
      "outputs": [
        {
          "output_type": "stream",
          "text": [
            "Train cases as below\n",
            "X_train shape:  (2230, 9)\n",
            "y_train shape:  (2230,)\n",
            "\n",
            "Test cases as below\n",
            "X_test shape:  (957, 9)\n",
            "y_test shape:  (957,)\n"
          ],
          "name": "stdout"
        }
      ]
    },
    {
      "cell_type": "markdown",
      "metadata": {
        "id": "wBG14zz1mkQz",
        "colab_type": "text"
      },
      "source": [
        " <a id=section70103></a>\n",
        "### 7.1.3  Applying model and prediction"
      ]
    },
    {
      "cell_type": "code",
      "metadata": {
        "id": "899LNaLmoKbk",
        "colab_type": "code",
        "colab": {
          "base_uri": "https://localhost:8080/",
          "height": 235
        },
        "outputId": "946b8916-7ec5-4e37-bd75-d4e36536f07b"
      },
      "source": [
        "X_train_lr.head()"
      ],
      "execution_count": null,
      "outputs": [
        {
          "output_type": "execute_result",
          "data": {
            "text/html": [
              "<div>\n",
              "<style scoped>\n",
              "    .dataframe tbody tr th:only-of-type {\n",
              "        vertical-align: middle;\n",
              "    }\n",
              "\n",
              "    .dataframe tbody tr th {\n",
              "        vertical-align: top;\n",
              "    }\n",
              "\n",
              "    .dataframe thead th {\n",
              "        text-align: right;\n",
              "    }\n",
              "</style>\n",
              "<table border=\"1\" class=\"dataframe\">\n",
              "  <thead>\n",
              "    <tr style=\"text-align: right;\">\n",
              "      <th></th>\n",
              "      <th>deposit_amount_2011</th>\n",
              "      <th>age_of_bank</th>\n",
              "      <th>zone_1</th>\n",
              "      <th>zone_2</th>\n",
              "      <th>zone_3</th>\n",
              "      <th>zone_4</th>\n",
              "      <th>zone_5</th>\n",
              "      <th>zone_6</th>\n",
              "      <th>zone_7</th>\n",
              "    </tr>\n",
              "    <tr>\n",
              "      <th>id</th>\n",
              "      <th></th>\n",
              "      <th></th>\n",
              "      <th></th>\n",
              "      <th></th>\n",
              "      <th></th>\n",
              "      <th></th>\n",
              "      <th></th>\n",
              "      <th></th>\n",
              "      <th></th>\n",
              "    </tr>\n",
              "  </thead>\n",
              "  <tbody>\n",
              "    <tr>\n",
              "      <th>1567</th>\n",
              "      <td>-0.254550</td>\n",
              "      <td>0.657495</td>\n",
              "      <td>0</td>\n",
              "      <td>0</td>\n",
              "      <td>0</td>\n",
              "      <td>0</td>\n",
              "      <td>1</td>\n",
              "      <td>0</td>\n",
              "      <td>0</td>\n",
              "    </tr>\n",
              "    <tr>\n",
              "      <th>1449</th>\n",
              "      <td>0.266763</td>\n",
              "      <td>0.272682</td>\n",
              "      <td>0</td>\n",
              "      <td>0</td>\n",
              "      <td>0</td>\n",
              "      <td>0</td>\n",
              "      <td>0</td>\n",
              "      <td>0</td>\n",
              "      <td>1</td>\n",
              "    </tr>\n",
              "    <tr>\n",
              "      <th>2600</th>\n",
              "      <td>-0.767273</td>\n",
              "      <td>0.657495</td>\n",
              "      <td>0</td>\n",
              "      <td>0</td>\n",
              "      <td>0</td>\n",
              "      <td>0</td>\n",
              "      <td>0</td>\n",
              "      <td>1</td>\n",
              "      <td>0</td>\n",
              "    </tr>\n",
              "    <tr>\n",
              "      <th>3338</th>\n",
              "      <td>-1.182482</td>\n",
              "      <td>-1.728347</td>\n",
              "      <td>0</td>\n",
              "      <td>0</td>\n",
              "      <td>0</td>\n",
              "      <td>1</td>\n",
              "      <td>0</td>\n",
              "      <td>0</td>\n",
              "      <td>0</td>\n",
              "    </tr>\n",
              "    <tr>\n",
              "      <th>754</th>\n",
              "      <td>1.457049</td>\n",
              "      <td>-0.266057</td>\n",
              "      <td>0</td>\n",
              "      <td>0</td>\n",
              "      <td>0</td>\n",
              "      <td>0</td>\n",
              "      <td>0</td>\n",
              "      <td>0</td>\n",
              "      <td>0</td>\n",
              "    </tr>\n",
              "  </tbody>\n",
              "</table>\n",
              "</div>"
            ],
            "text/plain": [
              "      deposit_amount_2011  age_of_bank  zone_1  zone_2  zone_3  zone_4  \\\n",
              "id                                                                       \n",
              "1567 -0.254550             0.657495     0       0       0       0        \n",
              "1449  0.266763             0.272682     0       0       0       0        \n",
              "2600 -0.767273             0.657495     0       0       0       0        \n",
              "3338 -1.182482            -1.728347     0       0       0       1        \n",
              "754   1.457049            -0.266057     0       0       0       0        \n",
              "\n",
              "      zone_5  zone_6  zone_7  \n",
              "id                            \n",
              "1567  1       0       0       \n",
              "1449  0       0       1       \n",
              "2600  0       1       0       \n",
              "3338  0       0       0       \n",
              "754   0       0       0       "
            ]
          },
          "metadata": {
            "tags": []
          },
          "execution_count": 1290
        }
      ]
    },
    {
      "cell_type": "code",
      "metadata": {
        "colab_type": "code",
        "id": "m4YNqH6ky8nt",
        "colab": {
          "base_uri": "https://localhost:8080/",
          "height": 34
        },
        "outputId": "19c164d3-d339-4a1c-bbb7-7e210bedb247"
      },
      "source": [
        "from sklearn.linear_model import LinearRegression\n",
        "linreg = LinearRegression()\n",
        "linreg.fit(X_train_lr,y_train_lr)"
      ],
      "execution_count": null,
      "outputs": [
        {
          "output_type": "execute_result",
          "data": {
            "text/plain": [
              "LinearRegression(copy_X=True, fit_intercept=True, n_jobs=None, normalize=False)"
            ]
          },
          "metadata": {
            "tags": []
          },
          "execution_count": 1291
        }
      ]
    },
    {
      "cell_type": "code",
      "metadata": {
        "colab_type": "code",
        "id": "ffF_uavKrtVr",
        "colab": {}
      },
      "source": [
        " # make predictions on the training set\n",
        "y_pred_train_lr = linreg.predict(X_train_lr) "
      ],
      "execution_count": null,
      "outputs": []
    },
    {
      "cell_type": "code",
      "metadata": {
        "colab_type": "code",
        "id": "cOIYHiuJr2zf",
        "colab": {}
      },
      "source": [
        " # make predictions on the testing set\n",
        "y_pred_test_lr = linreg.predict(X_test_lr)  "
      ],
      "execution_count": null,
      "outputs": []
    },
    {
      "cell_type": "markdown",
      "metadata": {
        "id": "1TZXiNkswCdk",
        "colab_type": "text"
      },
      "source": [
        " <a id=section70104></a>\n",
        "### 7.1.4 Model Evaluation"
      ]
    },
    {
      "cell_type": "markdown",
      "metadata": {
        "id": "mZMorep7wCdl",
        "colab_type": "text"
      },
      "source": [
        "####  RMSE\n"
      ]
    },
    {
      "cell_type": "code",
      "metadata": {
        "id": "YQdQsI4xwCdq",
        "colab_type": "code",
        "colab": {
          "base_uri": "https://localhost:8080/",
          "height": 51
        },
        "outputId": "661a1d7d-f57f-4cab-ef73-8bf48c6bb8b2"
      },
      "source": [
        "from sklearn import metrics\n",
        "RMSE_train = np.sqrt( metrics.mean_squared_error(y_train_lr, y_pred_train_lr))\n",
        "print('RMSE for training set is {}'.format(RMSE_train))\n",
        "\n",
        "RMSE_test = np.sqrt( metrics.mean_squared_error(y_test_lr, y_pred_test_lr))\n",
        "print('RMSE for testing set is {}'.format(RMSE_test))"
      ],
      "execution_count": null,
      "outputs": [
        {
          "output_type": "stream",
          "text": [
            "RMSE for training set is 60.669974336553715\n",
            "RMSE for testing set is 57.38786807298387\n"
          ],
          "name": "stdout"
        }
      ]
    },
    {
      "cell_type": "markdown",
      "metadata": {
        "id": "LK3Ba0y5wCpI",
        "colab_type": "text"
      },
      "source": [
        " <a id=section702></a>\n",
        "## 7.2 Random Forest"
      ]
    },
    {
      "cell_type": "markdown",
      "metadata": {
        "id": "EcGzIhfIwCpJ",
        "colab_type": "text"
      },
      "source": [
        "##### Splitting train and test data\n"
      ]
    },
    {
      "cell_type": "code",
      "metadata": {
        "id": "ua8yikvzw4bm",
        "colab_type": "code",
        "colab": {
          "base_uri": "https://localhost:8080/",
          "height": 102
        },
        "outputId": "7d4ba8a2-13d2-40bf-acc5-efd7faaed9fe"
      },
      "source": [
        "feature_cols = df_test_processed.columns\n",
        "feature_cols"
      ],
      "execution_count": null,
      "outputs": [
        {
          "output_type": "execute_result",
          "data": {
            "text/plain": [
              "Index(['deposit_amount_2011', 'deposit_amount_2012', 'deposit_amount_2013',\n",
              "       'deposit_amount_2014', 'deposit_amount_2015', 'deposit_amount_2016',\n",
              "       'age_of_bank', 'zone_1', 'zone_2', 'zone_3', 'zone_4', 'zone_5',\n",
              "       'zone_6', 'zone_7'],\n",
              "      dtype='object')"
            ]
          },
          "metadata": {
            "tags": []
          },
          "execution_count": 1053
        }
      ]
    },
    {
      "cell_type": "code",
      "metadata": {
        "id": "xl5kma9svXX_",
        "colab_type": "code",
        "colab": {}
      },
      "source": [
        "X = df_train_processed[feature_cols]\n",
        "y = df_train_processed['deposit_amount_2017']"
      ],
      "execution_count": null,
      "outputs": []
    },
    {
      "cell_type": "code",
      "metadata": {
        "id": "YN72YgxWwCpN",
        "colab_type": "code",
        "colab": {
          "base_uri": "https://localhost:8080/",
          "height": 136
        },
        "outputId": "28a6b672-0215-46f3-ecd2-e32a32581ac5"
      },
      "source": [
        "X_train_rf, X_test_rf, y_train_rf, y_test_rf=split(X,y)\n",
        "print('Train cases as below')\n",
        "print('X_train shape: ',X_train_rf.shape)\n",
        "print('y_train shape: ',y_train_rf.shape)\n",
        "print('\\nTest cases as below')\n",
        "print('X_test shape: ',X_test_rf.shape)\n",
        "print('y_test shape: ',y_test_rf.shape)"
      ],
      "execution_count": null,
      "outputs": [
        {
          "output_type": "stream",
          "text": [
            "Train cases as below\n",
            "X_train shape:  (2230, 14)\n",
            "y_train shape:  (2230,)\n",
            "\n",
            "Test cases as below\n",
            "X_test shape:  (957, 14)\n",
            "y_test shape:  (957,)\n"
          ],
          "name": "stdout"
        }
      ]
    },
    {
      "cell_type": "markdown",
      "metadata": {
        "id": "QeLu0ZjVQuJY",
        "colab_type": "text"
      },
      "source": [
        " <a id=section70201></a>\n",
        "\n",
        "### 7.2.1 Using Default Model\n"
      ]
    },
    {
      "cell_type": "markdown",
      "metadata": {
        "colab_type": "text",
        "id": "kDQbLyWFPknL"
      },
      "source": [
        "\n",
        "\n",
        "#### a. Building Model and Prediction"
      ]
    },
    {
      "cell_type": "code",
      "metadata": {
        "id": "jmbJ1h1TwCpS",
        "colab_type": "code",
        "colab": {
          "base_uri": "https://localhost:8080/",
          "height": 136
        },
        "outputId": "dd669540-e30a-4466-9821-2deddb5f57ea"
      },
      "source": [
        "from sklearn.ensemble import RandomForestRegressor\n",
        "\n",
        "# using default model for building\n",
        "rf_reg = RandomForestRegressor()\n",
        "rf_reg.fit(X_train_rf, y_train_rf)"
      ],
      "execution_count": null,
      "outputs": [
        {
          "output_type": "execute_result",
          "data": {
            "text/plain": [
              "RandomForestRegressor(bootstrap=True, ccp_alpha=0.0, criterion='mse',\n",
              "                      max_depth=None, max_features='auto', max_leaf_nodes=None,\n",
              "                      max_samples=None, min_impurity_decrease=0.0,\n",
              "                      min_impurity_split=None, min_samples_leaf=1,\n",
              "                      min_samples_split=2, min_weight_fraction_leaf=0.0,\n",
              "                      n_estimators=100, n_jobs=None, oob_score=False,\n",
              "                      random_state=None, verbose=0, warm_start=False)"
            ]
          },
          "metadata": {
            "tags": []
          },
          "execution_count": 1056
        }
      ]
    },
    {
      "cell_type": "code",
      "metadata": {
        "id": "lvj751SvwCpY",
        "colab_type": "code",
        "colab": {}
      },
      "source": [
        "y_pred_train_rf = rf_reg.predict(X_train_rf)\n",
        "y_pred_test_rf = rf_reg.predict(X_test_rf)"
      ],
      "execution_count": null,
      "outputs": []
    },
    {
      "cell_type": "markdown",
      "metadata": {
        "id": "vX3PgmE9wCpe",
        "colab_type": "text"
      },
      "source": [
        "### b. Model Evaluation"
      ]
    },
    {
      "cell_type": "markdown",
      "metadata": {
        "id": "o9WxF2odwCpf",
        "colab_type": "text"
      },
      "source": [
        "##### RMSE\n"
      ]
    },
    {
      "cell_type": "code",
      "metadata": {
        "id": "UDww75H8wCpf",
        "colab_type": "code",
        "colab": {
          "base_uri": "https://localhost:8080/",
          "height": 51
        },
        "outputId": "69ae43b5-9054-4e1a-af07-989a728ff603"
      },
      "source": [
        "from sklearn import metrics\n",
        "RMSE_train = np.sqrt( metrics.mean_squared_error(y_train_rf, y_pred_train_rf))\n",
        "print('RMSE for training set is {}'.format(RMSE_train))\n",
        "\n",
        "RMSE_test = np.sqrt( metrics.mean_squared_error(y_test_rf, y_pred_test_rf))\n",
        "print('RMSE for testing set is {}'.format(RMSE_test))"
      ],
      "execution_count": null,
      "outputs": [
        {
          "output_type": "stream",
          "text": [
            "RMSE for training set is 438.1960261952773\n",
            "RMSE for testing set is 429.1403255568778\n"
          ],
          "name": "stdout"
        }
      ]
    },
    {
      "cell_type": "markdown",
      "metadata": {
        "colab_type": "text",
        "id": "jknUCm5BpiFo"
      },
      "source": [
        "\n",
        "### 7.2.2 Using RandomizedSearchCV"
      ]
    },
    {
      "cell_type": "markdown",
      "metadata": {
        "colab_type": "text",
        "id": "cK74AG6hpiFy"
      },
      "source": [
        "#### a. Building Model and Prediction"
      ]
    },
    {
      "cell_type": "code",
      "metadata": {
        "colab_type": "code",
        "id": "fXIKU9v9piF2",
        "colab": {}
      },
      "source": [
        "# Number of trees in random forest\n",
        "n_estimators = [int(x) for x in np.linspace(start = 200, stop = 2000, num = 5)]\n",
        "# Number of features to consider at every split\n",
        "max_features = ['auto', 'sqrt']\n",
        "# Maximum number of levels in tree\n",
        "max_depth = [int(x) for x in np.linspace(10, 110, num = 11)]\n",
        "max_depth.append(None)\n",
        "# Minimum number of samples required to split a node\n",
        "min_samples_split = [2, 5, 10]\n",
        "# Minimum number of samples required at each leaf node\n",
        "min_samples_leaf = [1, 2, 4]\n",
        "# Method of selecting samples for training each tree\n",
        "bootstrap = [True, False]\n",
        "# Create the random grid\n",
        "random_grid = {\n",
        "               'max_features': max_features,\n",
        "               'max_depth': max_depth,\n",
        "               'min_samples_split': min_samples_split,\n",
        "               'min_samples_leaf': min_samples_leaf,\n",
        "               'n_estimators' : n_estimators,\n",
        "               'bootstrap': bootstrap\n",
        "               \n",
        "              }"
      ],
      "execution_count": null,
      "outputs": []
    },
    {
      "cell_type": "code",
      "metadata": {
        "colab_type": "code",
        "id": "lP-PXV-0piF_",
        "colab": {}
      },
      "source": [
        "from sklearn.model_selection import RandomizedSearchCV\n",
        "\n",
        "# Instantiate the grid search model\n",
        "rf_reg_rs = RandomizedSearchCV(estimator = rf_reg, param_distributions = random_grid, n_iter = 100, cv = 3, \n",
        "                               verbose=2, random_state=42, n_jobs = -1)"
      ],
      "execution_count": null,
      "outputs": []
    },
    {
      "cell_type": "code",
      "metadata": {
        "colab_type": "code",
        "id": "b-tWnKfTpiGE",
        "colab": {}
      },
      "source": [
        "rf_reg_rs.fit(X_train_rf, y_train_rf)"
      ],
      "execution_count": null,
      "outputs": []
    },
    {
      "cell_type": "code",
      "metadata": {
        "colab_type": "code",
        "id": "a___jPLzpiGI",
        "colab": {}
      },
      "source": [
        "#prediction on training data\n",
        "y_pred_train_rf_rs = rf_reg_rs.predict(X_train_rf)\n",
        "\n",
        "#prediction on testing data\n",
        "y_pred_test_rf_rs = rf_reg_rs.predict(X_test_rf)"
      ],
      "execution_count": null,
      "outputs": []
    },
    {
      "cell_type": "markdown",
      "metadata": {
        "colab_type": "text",
        "id": "W-LVe_KPpiGP"
      },
      "source": [
        "\n",
        "\n",
        "### b. Model Evaluation"
      ]
    },
    {
      "cell_type": "markdown",
      "metadata": {
        "colab_type": "text",
        "id": "DWpM1FIIpiGQ"
      },
      "source": [
        "#####  RMSE\n"
      ]
    },
    {
      "cell_type": "code",
      "metadata": {
        "colab_type": "code",
        "id": "aDwrzxh-piGR",
        "colab": {
          "base_uri": "https://localhost:8080/",
          "height": 51
        },
        "outputId": "fd7b089a-b2e2-4221-81f1-04815a3fcf0c"
      },
      "source": [
        "from sklearn import metrics\n",
        "RMSE_train = np.sqrt( metrics.mean_squared_error(y_train_rf, y_pred_train_rf_rs))\n",
        "print('RMSE for training set is {}'.format(RMSE_train))\n",
        "\n",
        "RMSE_test = np.sqrt( metrics.mean_squared_error(y_test_rf, y_pred_test_rf_rs))\n",
        "print('RMSE for testing set is {}'.format(RMSE_test))"
      ],
      "execution_count": null,
      "outputs": [
        {
          "output_type": "stream",
          "text": [
            "RMSE for training set is 0.0\n",
            "RMSE for testing set is 469.81777247101667\n"
          ],
          "name": "stdout"
        }
      ]
    },
    {
      "cell_type": "markdown",
      "metadata": {
        "id": "hyDm_e9xFBuJ",
        "colab_type": "text"
      },
      "source": [
        " <a id=section703></a>\n",
        "## 7.3 GradientBoostingRegressor"
      ]
    },
    {
      "cell_type": "code",
      "metadata": {
        "id": "xTKuNLd0FCWI",
        "colab_type": "code",
        "colab": {
          "base_uri": "https://localhost:8080/",
          "height": 170
        },
        "outputId": "10d3f385-2ec7-4ec2-a031-2d5ca5e3909f"
      },
      "source": [
        "from sklearn.ensemble import GradientBoostingRegressor\n",
        "\n",
        "regressorGB = GradientBoostingRegressor(\n",
        "    n_estimators = 50,\n",
        "    max_depth = 6,\n",
        "    min_samples_split = 2,\n",
        "    learning_rate = 0.1,\n",
        "    loss = 'ls'\n",
        ")\n",
        "regressorGB.fit(X_train_rf, y_train_rf)"
      ],
      "execution_count": null,
      "outputs": [
        {
          "output_type": "execute_result",
          "data": {
            "text/plain": [
              "GradientBoostingRegressor(alpha=0.9, ccp_alpha=0.0, criterion='friedman_mse',\n",
              "                          init=None, learning_rate=0.1, loss='ls', max_depth=6,\n",
              "                          max_features=None, max_leaf_nodes=None,\n",
              "                          min_impurity_decrease=0.0, min_impurity_split=None,\n",
              "                          min_samples_leaf=1, min_samples_split=2,\n",
              "                          min_weight_fraction_leaf=0.0, n_estimators=50,\n",
              "                          n_iter_no_change=None, presort='deprecated',\n",
              "                          random_state=None, subsample=1.0, tol=0.0001,\n",
              "                          validation_fraction=0.1, verbose=0, warm_start=False)"
            ]
          },
          "metadata": {
            "tags": []
          },
          "execution_count": 1312
        }
      ]
    },
    {
      "cell_type": "code",
      "metadata": {
        "colab_type": "code",
        "id": "uhHsFNL1FK00",
        "colab": {}
      },
      "source": [
        "#prediction on training data\n",
        "y_pred_train_rf_rs = regressorGB.predict(X_train_rf)\n",
        "\n",
        "#prediction on testing data\n",
        "y_pred_test_rf_rs = regressorGB.predict(X_test_rf)"
      ],
      "execution_count": null,
      "outputs": []
    },
    {
      "cell_type": "markdown",
      "metadata": {
        "colab_type": "text",
        "id": "C5VMJnexFK1D"
      },
      "source": [
        "\n",
        "\n",
        "### b. Model Evaluation"
      ]
    },
    {
      "cell_type": "markdown",
      "metadata": {
        "colab_type": "text",
        "id": "xUWUuGLxFK1F"
      },
      "source": [
        "#####  RMSE\n"
      ]
    },
    {
      "cell_type": "code",
      "metadata": {
        "colab_type": "code",
        "id": "BVPUMQ_PFK1H",
        "colab": {
          "base_uri": "https://localhost:8080/",
          "height": 51
        },
        "outputId": "7628c156-76cd-4546-f5d2-e8d69756fa6f"
      },
      "source": [
        "from sklearn import metrics\n",
        "RMSE_train = np.sqrt( metrics.mean_squared_error(y_train_rf, y_pred_train_rf_rs))\n",
        "print('RMSE for training set is {}'.format(RMSE_train))\n",
        "\n",
        "RMSE_test = np.sqrt( metrics.mean_squared_error(y_test_rf, y_pred_test_rf_rs))\n",
        "print('RMSE for testing set is {}'.format(RMSE_test))"
      ],
      "execution_count": null,
      "outputs": [
        {
          "output_type": "stream",
          "text": [
            "RMSE for training set is 370.74758027201017\n",
            "RMSE for testing set is 440.3063719431171\n"
          ],
          "name": "stdout"
        }
      ]
    },
    {
      "cell_type": "markdown",
      "metadata": {
        "id": "wCOfia4yPAjm",
        "colab_type": "text"
      },
      "source": [
        "# 8. Conclusion"
      ]
    },
    {
      "cell_type": "markdown",
      "metadata": {
        "id": "XPWfgTSMqx9i",
        "colab_type": "text"
      },
      "source": [
        "NOTE:\n",
        "\n",
        "Linear Regression and Random Forest after hyper parameter tuning gave goog RMSE score. Lets use Linear Regerssion for final prediction."
      ]
    },
    {
      "cell_type": "code",
      "metadata": {
        "id": "Fe9RD7RjPaUw",
        "colab_type": "code",
        "colab": {}
      },
      "source": [
        "final_preds_rf = linreg.predict(df_test_lr)"
      ],
      "execution_count": null,
      "outputs": []
    },
    {
      "cell_type": "code",
      "metadata": {
        "id": "hg1ee7p1QBk3",
        "colab_type": "code",
        "colab": {}
      },
      "source": [
        "final_preds_df = pd.DataFrame(data = list(final_preds_rf), columns = ['deposit_amount_2017'])\n",
        "final_preds_df.index = df_test_processed.index\n",
        "final_preds_df['deposit_amount_2017'] = final_preds_df['deposit_amount_2017'].apply(lambda x: round(x*x))\n",
        "final_preds_df.to_csv('final_preds_lr.csv')"
      ],
      "execution_count": null,
      "outputs": []
    }
  ]
}