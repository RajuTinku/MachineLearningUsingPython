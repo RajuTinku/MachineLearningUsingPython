{
 "cells": [
  {
   "cell_type": "markdown",
   "metadata": {
    "colab_type": "text",
    "id": "MgiSe-Fca2VU"
   },
   "source": [
    "# Property Price Prediction\n",
    "\n",
    "<img src=\"https://encrypted-tbn0.gstatic.com/images?q=tbn:ANd9GcQk9FRRgfStH9UxW7O7evOF7vein57Jl6xAn0uGhQ8BRizV-JfX&s\" height='400px' width='100%'><br/>\n",
    "\n",
    "\n",
    "\n",
    "\n"
   ]
  },
  {
   "cell_type": "markdown",
   "metadata": {
    "colab_type": "text",
    "id": "OihwClnHa2Vf"
   },
   "source": [
    "## Table of Contents\n",
    "\n",
    "1. [Problem Statement](#section1)<br>\n",
    "2. [Importing Packages](#section2)<br>\n",
    "3. [Loading Data](#section3)\n",
    "  - 3.1 [Description of the Datasets](#section301)\n",
    "  - 3.2 [Pandas Profiling before Data Preprocessing](#section302)\n",
    "4. [Data Preprocessing](#section4)<br>\n",
    "  - 4.1 [Filling missing values](#section401)<br>\n",
    "  - 4.2 [Remove highly correlated columns](#section402)<br>\n",
    "  - 4.3 [Handling Outliers](#section403)<br>\n",
    "  - 4.4 [Pandas Profiling after Data Preprocessing](#section404)<br>\n",
    "5. [Data preparation for model building](#section5)<br>\n",
    "  - 5.1 [Dummification / One-Hot Encoding](#section501)<br>\n",
    "  - 5.2 [Standardizing independent variables](#section502)<br>\n",
    "  - 5.3 [Seperating independant and target variables](#section503)<br>\n",
    "6. [Ensemble Modelling and Prediction](#section6)<br>  \n",
    "  - 6.1 [Linear Regression](#section601)\n",
    "      - 6.1.1 [Checking assumptions of Linear Regression](#section60101)\n",
    "      - 6.1.2 [Using Default Model](#section60102)\n",
    "          - 6.1.2.1 [Building Model and Predictionl](#section6010201)\n",
    "          - 6.1.2.2 [Model Evaluation](#section6010202)\n",
    "      - 6.1.3 [Using GridSearchCV](#section60103)\n",
    "          - 6.1.2.1 [Building Model and Predictionl](#section6010301)\n",
    "          - 6.1.2.2 [Model Evaluation](#section6010301)\n",
    "       - 6.1.4 [Using RandomSearchCV](#section60104)\n",
    "          - 6.1.2.1 [Building Model and Predictionl](#section6010401)\n",
    "          - 6.1.2.2 [Model Evaluation](#section6010401)\n",
    "  - 6.2 [Decision Tree](#section602)\n",
    "      - 6.2.1 [Using Default Model](#section60201)\n",
    "          - 6.2.1.1 [Building Model and Predictionl](#section6020101)\n",
    "          - 6.2.1.2 [Model Evaluation](#section6020102)\n",
    "      - 6.2.2 [Using GridSearchCV](#section60202)\n",
    "          - 6.2.2.1 [Building Model and Predictionl](#section6020201)\n",
    "          - 6.2.2.2 [Model Evaluation](#section6020202)\n",
    "      - 6.2.3 [Using RandomSearchCV](#section60203)\n",
    "          - 6.2.3.1 [Building Model and Predictionl](#section6020301)\n",
    "          - 6.2.3.2 [Model Evaluation](#section6020302)\n",
    "  - 6.3 [Random Forest](#section603)\n",
    "      - 6.3.1 [Using Default Model](#section60301)\n",
    "          - 6.3.1.1 [Building Model and Predictionl](#section6030101)\n",
    "          - 6.1.2.2 [Model Evaluation](#section6030102)\n",
    "      - 6.3.2 [Using GridSearchCV](#section60302)\n",
    "          - 6.3.2.1 [Building Model and Predictionl](#section6030201)\n",
    "          - 6.3.2.2 [Model Evaluation](#section6030202)\n",
    "      - 6.3.3 [Using RandomSearchCV](#section60303)\n",
    "          - 6.3.3.1 [Building Model and Predictionl](#section6030301)\n",
    "          - 6.3.3.2 [Model Evaluation](#section6030302)\n",
    "7.  [Conclusion](#section7)<br>"
   ]
  },
  {
   "cell_type": "markdown",
   "metadata": {
    "colab_type": "text",
    "id": "4OtQbjmHa2Vo"
   },
   "source": [
    "<a id=section1></a>\n",
    "# 1. Problem Statement"
   ]
  },
  {
   "cell_type": "markdown",
   "metadata": {
    "colab_type": "text",
    "id": "wEXIvSxia2Vt"
   },
   "source": [
    "There are a number of factors which determine property prices, some are logical,\n",
    "based on economic theories and population density and some are based on more\n",
    "intangible factors, like availability of amenities & necessities, neighborhood, etc.\n",
    "\n",
    "\n",
    "Build a multiple regression models(Linear Regression, Decision Trees, Random Forest ) to predict the price of the property from the dataset\n",
    "having attributes such as sale type, sale condition etc.\n"
   ]
  },
  {
   "cell_type": "markdown",
   "metadata": {
    "colab_type": "text",
    "id": "F988tUR0a2Vy"
   },
   "source": [
    "<a id=section2></a>\n",
    "# 2. Importing Packages"
   ]
  },
  {
   "cell_type": "code",
   "execution_count": 361,
   "metadata": {
    "colab": {},
    "colab_type": "code",
    "id": "GLHl_0o9a2V5"
   },
   "outputs": [],
   "source": [
    "import numpy as np                     \n",
    "\n",
    "import pandas as pd\n",
    "\n",
    "# To suppress pandas warnings.\n",
    "pd.set_option('mode.chained_assignment', None) \n",
    "\n",
    "# To display all the data in each column\n",
    "pd.set_option('display.max_colwidth', -1)         \n",
    "\n",
    "pd.get_option(\"display.max_rows\",10000)\n",
    "\n",
    "# To display every column of the dataset in head()\n",
    "pd.options.display.max_columns = 100               \n",
    "\n",
    "import warnings\n",
    "warnings.filterwarnings('ignore')     "
   ]
  },
  {
   "cell_type": "code",
   "execution_count": 362,
   "metadata": {
    "colab": {},
    "colab_type": "code",
    "id": "lWuM--2IcyhY"
   },
   "outputs": [],
   "source": [
    "import matplotlib.pyplot as plt\n",
    "%matplotlib inline\n",
    "\n",
    "# To apply seaborn styles to the plots.\n",
    "import seaborn as sns\n",
    "sns.set(style='whitegrid', font_scale=1.3, color_codes=True)      "
   ]
  },
  {
   "cell_type": "markdown",
   "metadata": {
    "colab_type": "text",
    "id": "gW0WUwI0a2WJ"
   },
   "source": [
    "<a id=section3></a>\n",
    "\n",
    "# 3. Loading Data"
   ]
  },
  {
   "cell_type": "code",
   "execution_count": 363,
   "metadata": {
    "colab": {},
    "colab_type": "code",
    "id": "1eWpnal7a2WN"
   },
   "outputs": [],
   "source": [
    "# loading data from csv file to a data frame\n",
    "df_property_price = pd.read_csv('Property_Price_Train.csv', index_col = \"Id\")"
   ]
  },
  {
   "cell_type": "code",
   "execution_count": 364,
   "metadata": {
    "colab": {
     "base_uri": "https://localhost:8080/",
     "height": 254
    },
    "colab_type": "code",
    "executionInfo": {
     "elapsed": 1945,
     "status": "ok",
     "timestamp": 1575200720437,
     "user": {
      "displayName": "Raju MLN",
      "photoUrl": "https://lh3.googleusercontent.com/a-/AAuE7mDdD2F6AP4ITC-wA3nNzvUXQvvOKRA6SGtqecOz2w=s64",
      "userId": "08235794127640337009"
     },
     "user_tz": -330
    },
    "id": "Yz9HLvjPd-E-",
    "outputId": "c1575d48-2e52-4618-82ef-9b8cf5463c74"
   },
   "outputs": [
    {
     "data": {
      "text/html": [
       "<div>\n",
       "<style scoped>\n",
       "    .dataframe tbody tr th:only-of-type {\n",
       "        vertical-align: middle;\n",
       "    }\n",
       "\n",
       "    .dataframe tbody tr th {\n",
       "        vertical-align: top;\n",
       "    }\n",
       "\n",
       "    .dataframe thead th {\n",
       "        text-align: right;\n",
       "    }\n",
       "</style>\n",
       "<table border=\"1\" class=\"dataframe\">\n",
       "  <thead>\n",
       "    <tr style=\"text-align: right;\">\n",
       "      <th></th>\n",
       "      <th>Building_Class</th>\n",
       "      <th>Zoning_Class</th>\n",
       "      <th>Lot_Extent</th>\n",
       "      <th>Lot_Size</th>\n",
       "      <th>Road_Type</th>\n",
       "      <th>Lane_Type</th>\n",
       "      <th>Property_Shape</th>\n",
       "      <th>Land_Outline</th>\n",
       "      <th>Utility_Type</th>\n",
       "      <th>Lot_Configuration</th>\n",
       "      <th>Property_Slope</th>\n",
       "      <th>Neighborhood</th>\n",
       "      <th>Condition1</th>\n",
       "      <th>Condition2</th>\n",
       "      <th>House_Type</th>\n",
       "      <th>House_Design</th>\n",
       "      <th>Overall_Material</th>\n",
       "      <th>House_Condition</th>\n",
       "      <th>Construction_Year</th>\n",
       "      <th>Remodel_Year</th>\n",
       "      <th>Roof_Design</th>\n",
       "      <th>Roof_Quality</th>\n",
       "      <th>Exterior1st</th>\n",
       "      <th>Exterior2nd</th>\n",
       "      <th>Brick_Veneer_Type</th>\n",
       "      <th>Brick_Veneer_Area</th>\n",
       "      <th>Exterior_Material</th>\n",
       "      <th>Exterior_Condition</th>\n",
       "      <th>Foundation_Type</th>\n",
       "      <th>Basement_Height</th>\n",
       "      <th>Basement_Condition</th>\n",
       "      <th>Exposure_Level</th>\n",
       "      <th>BsmtFinType1</th>\n",
       "      <th>BsmtFinSF1</th>\n",
       "      <th>BsmtFinType2</th>\n",
       "      <th>BsmtFinSF2</th>\n",
       "      <th>BsmtUnfSF</th>\n",
       "      <th>Total_Basement_Area</th>\n",
       "      <th>Heating_Type</th>\n",
       "      <th>Heating_Quality</th>\n",
       "      <th>Air_Conditioning</th>\n",
       "      <th>Electrical_System</th>\n",
       "      <th>First_Floor_Area</th>\n",
       "      <th>Second_Floor_Area</th>\n",
       "      <th>LowQualFinSF</th>\n",
       "      <th>Grade_Living_Area</th>\n",
       "      <th>Underground_Full_Bathroom</th>\n",
       "      <th>Underground_Half_Bathroom</th>\n",
       "      <th>Full_Bathroom_Above_Grade</th>\n",
       "      <th>Half_Bathroom_Above_Grade</th>\n",
       "      <th>Bedroom_Above_Grade</th>\n",
       "      <th>Kitchen_Above_Grade</th>\n",
       "      <th>Kitchen_Quality</th>\n",
       "      <th>Rooms_Above_Grade</th>\n",
       "      <th>Functional_Rate</th>\n",
       "      <th>Fireplaces</th>\n",
       "      <th>Fireplace_Quality</th>\n",
       "      <th>Garage</th>\n",
       "      <th>Garage_Built_Year</th>\n",
       "      <th>Garage_Finish_Year</th>\n",
       "      <th>Garage_Size</th>\n",
       "      <th>Garage_Area</th>\n",
       "      <th>Garage_Quality</th>\n",
       "      <th>Garage_Condition</th>\n",
       "      <th>Pavedd_Drive</th>\n",
       "      <th>W_Deck_Area</th>\n",
       "      <th>Open_Lobby_Area</th>\n",
       "      <th>Enclosed_Lobby_Area</th>\n",
       "      <th>Three_Season_Lobby_Area</th>\n",
       "      <th>Screen_Lobby_Area</th>\n",
       "      <th>Pool_Area</th>\n",
       "      <th>Pool_Quality</th>\n",
       "      <th>Fence_Quality</th>\n",
       "      <th>Miscellaneous_Feature</th>\n",
       "      <th>Miscellaneous_Value</th>\n",
       "      <th>Month_Sold</th>\n",
       "      <th>Year_Sold</th>\n",
       "      <th>Sale_Type</th>\n",
       "      <th>Sale_Condition</th>\n",
       "      <th>Sale_Price</th>\n",
       "    </tr>\n",
       "    <tr>\n",
       "      <th>Id</th>\n",
       "      <th></th>\n",
       "      <th></th>\n",
       "      <th></th>\n",
       "      <th></th>\n",
       "      <th></th>\n",
       "      <th></th>\n",
       "      <th></th>\n",
       "      <th></th>\n",
       "      <th></th>\n",
       "      <th></th>\n",
       "      <th></th>\n",
       "      <th></th>\n",
       "      <th></th>\n",
       "      <th></th>\n",
       "      <th></th>\n",
       "      <th></th>\n",
       "      <th></th>\n",
       "      <th></th>\n",
       "      <th></th>\n",
       "      <th></th>\n",
       "      <th></th>\n",
       "      <th></th>\n",
       "      <th></th>\n",
       "      <th></th>\n",
       "      <th></th>\n",
       "      <th></th>\n",
       "      <th></th>\n",
       "      <th></th>\n",
       "      <th></th>\n",
       "      <th></th>\n",
       "      <th></th>\n",
       "      <th></th>\n",
       "      <th></th>\n",
       "      <th></th>\n",
       "      <th></th>\n",
       "      <th></th>\n",
       "      <th></th>\n",
       "      <th></th>\n",
       "      <th></th>\n",
       "      <th></th>\n",
       "      <th></th>\n",
       "      <th></th>\n",
       "      <th></th>\n",
       "      <th></th>\n",
       "      <th></th>\n",
       "      <th></th>\n",
       "      <th></th>\n",
       "      <th></th>\n",
       "      <th></th>\n",
       "      <th></th>\n",
       "      <th></th>\n",
       "      <th></th>\n",
       "      <th></th>\n",
       "      <th></th>\n",
       "      <th></th>\n",
       "      <th></th>\n",
       "      <th></th>\n",
       "      <th></th>\n",
       "      <th></th>\n",
       "      <th></th>\n",
       "      <th></th>\n",
       "      <th></th>\n",
       "      <th></th>\n",
       "      <th></th>\n",
       "      <th></th>\n",
       "      <th></th>\n",
       "      <th></th>\n",
       "      <th></th>\n",
       "      <th></th>\n",
       "      <th></th>\n",
       "      <th></th>\n",
       "      <th></th>\n",
       "      <th></th>\n",
       "      <th></th>\n",
       "      <th></th>\n",
       "      <th></th>\n",
       "      <th></th>\n",
       "      <th></th>\n",
       "      <th></th>\n",
       "      <th></th>\n",
       "    </tr>\n",
       "  </thead>\n",
       "  <tbody>\n",
       "    <tr>\n",
       "      <th>1</th>\n",
       "      <td>60</td>\n",
       "      <td>RLD</td>\n",
       "      <td>65.0</td>\n",
       "      <td>8450</td>\n",
       "      <td>Paved</td>\n",
       "      <td>NaN</td>\n",
       "      <td>Reg</td>\n",
       "      <td>Lvl</td>\n",
       "      <td>AllPub</td>\n",
       "      <td>I</td>\n",
       "      <td>GS</td>\n",
       "      <td>CollgCr</td>\n",
       "      <td>Norm</td>\n",
       "      <td>Norm</td>\n",
       "      <td>1Fam</td>\n",
       "      <td>2Story</td>\n",
       "      <td>7</td>\n",
       "      <td>5</td>\n",
       "      <td>2003</td>\n",
       "      <td>2003</td>\n",
       "      <td>Gable</td>\n",
       "      <td>SS</td>\n",
       "      <td>VinylSd</td>\n",
       "      <td>VinylSd</td>\n",
       "      <td>BrkFace</td>\n",
       "      <td>196.0</td>\n",
       "      <td>Gd</td>\n",
       "      <td>TA</td>\n",
       "      <td>PC</td>\n",
       "      <td>Gd</td>\n",
       "      <td>TA</td>\n",
       "      <td>No</td>\n",
       "      <td>GLQ</td>\n",
       "      <td>706</td>\n",
       "      <td>Unf</td>\n",
       "      <td>0</td>\n",
       "      <td>150</td>\n",
       "      <td>856</td>\n",
       "      <td>GasA</td>\n",
       "      <td>Ex</td>\n",
       "      <td>Y</td>\n",
       "      <td>SBrkr</td>\n",
       "      <td>856</td>\n",
       "      <td>854</td>\n",
       "      <td>0</td>\n",
       "      <td>1710</td>\n",
       "      <td>1</td>\n",
       "      <td>0</td>\n",
       "      <td>2</td>\n",
       "      <td>1</td>\n",
       "      <td>3</td>\n",
       "      <td>1</td>\n",
       "      <td>Gd</td>\n",
       "      <td>8</td>\n",
       "      <td>TF</td>\n",
       "      <td>0</td>\n",
       "      <td>NaN</td>\n",
       "      <td>Attchd</td>\n",
       "      <td>2003.0</td>\n",
       "      <td>RFn</td>\n",
       "      <td>2</td>\n",
       "      <td>1085.793744</td>\n",
       "      <td>TA</td>\n",
       "      <td>TA</td>\n",
       "      <td>Y</td>\n",
       "      <td>163.788080</td>\n",
       "      <td>69.596115</td>\n",
       "      <td>20.337934</td>\n",
       "      <td>0</td>\n",
       "      <td>0</td>\n",
       "      <td>0</td>\n",
       "      <td>NaN</td>\n",
       "      <td>NaN</td>\n",
       "      <td>NaN</td>\n",
       "      <td>0</td>\n",
       "      <td>2</td>\n",
       "      <td>2008</td>\n",
       "      <td>WD</td>\n",
       "      <td>Normal</td>\n",
       "      <td>208500</td>\n",
       "    </tr>\n",
       "    <tr>\n",
       "      <th>2</th>\n",
       "      <td>20</td>\n",
       "      <td>RLD</td>\n",
       "      <td>80.0</td>\n",
       "      <td>9600</td>\n",
       "      <td>Paved</td>\n",
       "      <td>NaN</td>\n",
       "      <td>Reg</td>\n",
       "      <td>Lvl</td>\n",
       "      <td>AllPub</td>\n",
       "      <td>FR2P</td>\n",
       "      <td>GS</td>\n",
       "      <td>Veenker</td>\n",
       "      <td>Feedr</td>\n",
       "      <td>Norm</td>\n",
       "      <td>1Fam</td>\n",
       "      <td>1Story</td>\n",
       "      <td>6</td>\n",
       "      <td>8</td>\n",
       "      <td>1976</td>\n",
       "      <td>1976</td>\n",
       "      <td>Gable</td>\n",
       "      <td>SS</td>\n",
       "      <td>MetalSd</td>\n",
       "      <td>MetalSd</td>\n",
       "      <td>None</td>\n",
       "      <td>0.0</td>\n",
       "      <td>TA</td>\n",
       "      <td>TA</td>\n",
       "      <td>CB</td>\n",
       "      <td>Gd</td>\n",
       "      <td>TA</td>\n",
       "      <td>Gd</td>\n",
       "      <td>ALQ</td>\n",
       "      <td>978</td>\n",
       "      <td>Unf</td>\n",
       "      <td>0</td>\n",
       "      <td>284</td>\n",
       "      <td>1262</td>\n",
       "      <td>GasA</td>\n",
       "      <td>Ex</td>\n",
       "      <td>Y</td>\n",
       "      <td>SBrkr</td>\n",
       "      <td>1262</td>\n",
       "      <td>0</td>\n",
       "      <td>0</td>\n",
       "      <td>1262</td>\n",
       "      <td>0</td>\n",
       "      <td>1</td>\n",
       "      <td>2</td>\n",
       "      <td>0</td>\n",
       "      <td>3</td>\n",
       "      <td>1</td>\n",
       "      <td>TA</td>\n",
       "      <td>6</td>\n",
       "      <td>TF</td>\n",
       "      <td>1</td>\n",
       "      <td>TA</td>\n",
       "      <td>Attchd</td>\n",
       "      <td>1976.0</td>\n",
       "      <td>RFn</td>\n",
       "      <td>2</td>\n",
       "      <td>196.316304</td>\n",
       "      <td>TA</td>\n",
       "      <td>TA</td>\n",
       "      <td>Y</td>\n",
       "      <td>198.900074</td>\n",
       "      <td>74.716033</td>\n",
       "      <td>15.039392</td>\n",
       "      <td>0</td>\n",
       "      <td>0</td>\n",
       "      <td>0</td>\n",
       "      <td>NaN</td>\n",
       "      <td>NaN</td>\n",
       "      <td>NaN</td>\n",
       "      <td>0</td>\n",
       "      <td>5</td>\n",
       "      <td>2007</td>\n",
       "      <td>WD</td>\n",
       "      <td>Normal</td>\n",
       "      <td>181500</td>\n",
       "    </tr>\n",
       "    <tr>\n",
       "      <th>3</th>\n",
       "      <td>60</td>\n",
       "      <td>RLD</td>\n",
       "      <td>68.0</td>\n",
       "      <td>11250</td>\n",
       "      <td>Paved</td>\n",
       "      <td>NaN</td>\n",
       "      <td>IR1</td>\n",
       "      <td>Lvl</td>\n",
       "      <td>AllPub</td>\n",
       "      <td>I</td>\n",
       "      <td>GS</td>\n",
       "      <td>CollgCr</td>\n",
       "      <td>Norm</td>\n",
       "      <td>Norm</td>\n",
       "      <td>1Fam</td>\n",
       "      <td>2Story</td>\n",
       "      <td>7</td>\n",
       "      <td>5</td>\n",
       "      <td>2001</td>\n",
       "      <td>2002</td>\n",
       "      <td>Gable</td>\n",
       "      <td>SS</td>\n",
       "      <td>VinylSd</td>\n",
       "      <td>VinylSd</td>\n",
       "      <td>BrkFace</td>\n",
       "      <td>162.0</td>\n",
       "      <td>Gd</td>\n",
       "      <td>TA</td>\n",
       "      <td>PC</td>\n",
       "      <td>Gd</td>\n",
       "      <td>TA</td>\n",
       "      <td>Mn</td>\n",
       "      <td>GLQ</td>\n",
       "      <td>486</td>\n",
       "      <td>Unf</td>\n",
       "      <td>0</td>\n",
       "      <td>434</td>\n",
       "      <td>920</td>\n",
       "      <td>GasA</td>\n",
       "      <td>Ex</td>\n",
       "      <td>Y</td>\n",
       "      <td>SBrkr</td>\n",
       "      <td>920</td>\n",
       "      <td>866</td>\n",
       "      <td>0</td>\n",
       "      <td>1786</td>\n",
       "      <td>1</td>\n",
       "      <td>0</td>\n",
       "      <td>2</td>\n",
       "      <td>1</td>\n",
       "      <td>3</td>\n",
       "      <td>1</td>\n",
       "      <td>Gd</td>\n",
       "      <td>6</td>\n",
       "      <td>TF</td>\n",
       "      <td>1</td>\n",
       "      <td>TA</td>\n",
       "      <td>Attchd</td>\n",
       "      <td>2001.0</td>\n",
       "      <td>RFn</td>\n",
       "      <td>2</td>\n",
       "      <td>218.068403</td>\n",
       "      <td>TA</td>\n",
       "      <td>TA</td>\n",
       "      <td>Y</td>\n",
       "      <td>26.127533</td>\n",
       "      <td>32.085268</td>\n",
       "      <td>-46.232198</td>\n",
       "      <td>0</td>\n",
       "      <td>0</td>\n",
       "      <td>0</td>\n",
       "      <td>NaN</td>\n",
       "      <td>NaN</td>\n",
       "      <td>NaN</td>\n",
       "      <td>0</td>\n",
       "      <td>9</td>\n",
       "      <td>2008</td>\n",
       "      <td>WD</td>\n",
       "      <td>Normal</td>\n",
       "      <td>223500</td>\n",
       "    </tr>\n",
       "    <tr>\n",
       "      <th>4</th>\n",
       "      <td>70</td>\n",
       "      <td>RLD</td>\n",
       "      <td>60.0</td>\n",
       "      <td>9550</td>\n",
       "      <td>Paved</td>\n",
       "      <td>NaN</td>\n",
       "      <td>IR1</td>\n",
       "      <td>Lvl</td>\n",
       "      <td>AllPub</td>\n",
       "      <td>C</td>\n",
       "      <td>GS</td>\n",
       "      <td>Crawfor</td>\n",
       "      <td>Norm</td>\n",
       "      <td>Norm</td>\n",
       "      <td>1Fam</td>\n",
       "      <td>2Story</td>\n",
       "      <td>7</td>\n",
       "      <td>5</td>\n",
       "      <td>1915</td>\n",
       "      <td>1970</td>\n",
       "      <td>Gable</td>\n",
       "      <td>SS</td>\n",
       "      <td>Wd Sdng</td>\n",
       "      <td>Wd Shng</td>\n",
       "      <td>None</td>\n",
       "      <td>0.0</td>\n",
       "      <td>TA</td>\n",
       "      <td>TA</td>\n",
       "      <td>BT</td>\n",
       "      <td>TA</td>\n",
       "      <td>Gd</td>\n",
       "      <td>No</td>\n",
       "      <td>ALQ</td>\n",
       "      <td>216</td>\n",
       "      <td>Unf</td>\n",
       "      <td>0</td>\n",
       "      <td>540</td>\n",
       "      <td>756</td>\n",
       "      <td>GasA</td>\n",
       "      <td>Gd</td>\n",
       "      <td>Y</td>\n",
       "      <td>SBrkr</td>\n",
       "      <td>961</td>\n",
       "      <td>756</td>\n",
       "      <td>0</td>\n",
       "      <td>1717</td>\n",
       "      <td>1</td>\n",
       "      <td>0</td>\n",
       "      <td>1</td>\n",
       "      <td>0</td>\n",
       "      <td>3</td>\n",
       "      <td>1</td>\n",
       "      <td>Gd</td>\n",
       "      <td>7</td>\n",
       "      <td>TF</td>\n",
       "      <td>1</td>\n",
       "      <td>Gd</td>\n",
       "      <td>Detchd</td>\n",
       "      <td>1998.0</td>\n",
       "      <td>Unf</td>\n",
       "      <td>3</td>\n",
       "      <td>696.996439</td>\n",
       "      <td>TA</td>\n",
       "      <td>TA</td>\n",
       "      <td>Y</td>\n",
       "      <td>46.948018</td>\n",
       "      <td>40.181415</td>\n",
       "      <td>60.921821</td>\n",
       "      <td>0</td>\n",
       "      <td>0</td>\n",
       "      <td>0</td>\n",
       "      <td>NaN</td>\n",
       "      <td>NaN</td>\n",
       "      <td>NaN</td>\n",
       "      <td>0</td>\n",
       "      <td>2</td>\n",
       "      <td>2006</td>\n",
       "      <td>WD</td>\n",
       "      <td>Abnorml</td>\n",
       "      <td>140000</td>\n",
       "    </tr>\n",
       "    <tr>\n",
       "      <th>5</th>\n",
       "      <td>60</td>\n",
       "      <td>RLD</td>\n",
       "      <td>84.0</td>\n",
       "      <td>14260</td>\n",
       "      <td>Paved</td>\n",
       "      <td>NaN</td>\n",
       "      <td>IR1</td>\n",
       "      <td>Lvl</td>\n",
       "      <td>AllPub</td>\n",
       "      <td>FR2P</td>\n",
       "      <td>GS</td>\n",
       "      <td>NoRidge</td>\n",
       "      <td>Norm</td>\n",
       "      <td>Norm</td>\n",
       "      <td>1Fam</td>\n",
       "      <td>2Story</td>\n",
       "      <td>8</td>\n",
       "      <td>5</td>\n",
       "      <td>2000</td>\n",
       "      <td>2000</td>\n",
       "      <td>Gable</td>\n",
       "      <td>SS</td>\n",
       "      <td>VinylSd</td>\n",
       "      <td>VinylSd</td>\n",
       "      <td>BrkFace</td>\n",
       "      <td>350.0</td>\n",
       "      <td>Gd</td>\n",
       "      <td>TA</td>\n",
       "      <td>PC</td>\n",
       "      <td>Gd</td>\n",
       "      <td>TA</td>\n",
       "      <td>Av</td>\n",
       "      <td>GLQ</td>\n",
       "      <td>655</td>\n",
       "      <td>Unf</td>\n",
       "      <td>0</td>\n",
       "      <td>490</td>\n",
       "      <td>1145</td>\n",
       "      <td>GasA</td>\n",
       "      <td>Ex</td>\n",
       "      <td>Y</td>\n",
       "      <td>SBrkr</td>\n",
       "      <td>1145</td>\n",
       "      <td>1053</td>\n",
       "      <td>0</td>\n",
       "      <td>2198</td>\n",
       "      <td>1</td>\n",
       "      <td>0</td>\n",
       "      <td>2</td>\n",
       "      <td>1</td>\n",
       "      <td>4</td>\n",
       "      <td>1</td>\n",
       "      <td>Gd</td>\n",
       "      <td>9</td>\n",
       "      <td>TF</td>\n",
       "      <td>1</td>\n",
       "      <td>TA</td>\n",
       "      <td>Attchd</td>\n",
       "      <td>2000.0</td>\n",
       "      <td>RFn</td>\n",
       "      <td>3</td>\n",
       "      <td>568.859882</td>\n",
       "      <td>TA</td>\n",
       "      <td>TA</td>\n",
       "      <td>Y</td>\n",
       "      <td>-10.626105</td>\n",
       "      <td>20.755323</td>\n",
       "      <td>21.788818</td>\n",
       "      <td>0</td>\n",
       "      <td>0</td>\n",
       "      <td>0</td>\n",
       "      <td>NaN</td>\n",
       "      <td>NaN</td>\n",
       "      <td>NaN</td>\n",
       "      <td>0</td>\n",
       "      <td>12</td>\n",
       "      <td>2008</td>\n",
       "      <td>WD</td>\n",
       "      <td>Normal</td>\n",
       "      <td>250000</td>\n",
       "    </tr>\n",
       "  </tbody>\n",
       "</table>\n",
       "</div>"
      ],
      "text/plain": [
       "    Building_Class Zoning_Class  Lot_Extent  Lot_Size Road_Type Lane_Type  \\\n",
       "Id                                                                          \n",
       "1   60              RLD          65.0        8450      Paved     NaN        \n",
       "2   20              RLD          80.0        9600      Paved     NaN        \n",
       "3   60              RLD          68.0        11250     Paved     NaN        \n",
       "4   70              RLD          60.0        9550      Paved     NaN        \n",
       "5   60              RLD          84.0        14260     Paved     NaN        \n",
       "\n",
       "   Property_Shape Land_Outline Utility_Type Lot_Configuration Property_Slope  \\\n",
       "Id                                                                             \n",
       "1   Reg            Lvl          AllPub       I                 GS              \n",
       "2   Reg            Lvl          AllPub       FR2P              GS              \n",
       "3   IR1            Lvl          AllPub       I                 GS              \n",
       "4   IR1            Lvl          AllPub       C                 GS              \n",
       "5   IR1            Lvl          AllPub       FR2P              GS              \n",
       "\n",
       "   Neighborhood Condition1 Condition2 House_Type House_Design  \\\n",
       "Id                                                              \n",
       "1   CollgCr      Norm       Norm       1Fam       2Story        \n",
       "2   Veenker      Feedr      Norm       1Fam       1Story        \n",
       "3   CollgCr      Norm       Norm       1Fam       2Story        \n",
       "4   Crawfor      Norm       Norm       1Fam       2Story        \n",
       "5   NoRidge      Norm       Norm       1Fam       2Story        \n",
       "\n",
       "    Overall_Material  House_Condition  Construction_Year  Remodel_Year  \\\n",
       "Id                                                                       \n",
       "1   7                 5                2003               2003           \n",
       "2   6                 8                1976               1976           \n",
       "3   7                 5                2001               2002           \n",
       "4   7                 5                1915               1970           \n",
       "5   8                 5                2000               2000           \n",
       "\n",
       "   Roof_Design Roof_Quality Exterior1st Exterior2nd Brick_Veneer_Type  \\\n",
       "Id                                                                      \n",
       "1   Gable       SS           VinylSd     VinylSd     BrkFace            \n",
       "2   Gable       SS           MetalSd     MetalSd     None               \n",
       "3   Gable       SS           VinylSd     VinylSd     BrkFace            \n",
       "4   Gable       SS           Wd Sdng     Wd Shng     None               \n",
       "5   Gable       SS           VinylSd     VinylSd     BrkFace            \n",
       "\n",
       "    Brick_Veneer_Area Exterior_Material Exterior_Condition Foundation_Type  \\\n",
       "Id                                                                           \n",
       "1   196.0              Gd                TA                 PC               \n",
       "2   0.0                TA                TA                 CB               \n",
       "3   162.0              Gd                TA                 PC               \n",
       "4   0.0                TA                TA                 BT               \n",
       "5   350.0              Gd                TA                 PC               \n",
       "\n",
       "   Basement_Height Basement_Condition Exposure_Level BsmtFinType1  BsmtFinSF1  \\\n",
       "Id                                                                              \n",
       "1   Gd              TA                 No             GLQ          706          \n",
       "2   Gd              TA                 Gd             ALQ          978          \n",
       "3   Gd              TA                 Mn             GLQ          486          \n",
       "4   TA              Gd                 No             ALQ          216          \n",
       "5   Gd              TA                 Av             GLQ          655          \n",
       "\n",
       "   BsmtFinType2  BsmtFinSF2  BsmtUnfSF  Total_Basement_Area Heating_Type  \\\n",
       "Id                                                                         \n",
       "1   Unf          0           150        856                  GasA          \n",
       "2   Unf          0           284        1262                 GasA          \n",
       "3   Unf          0           434        920                  GasA          \n",
       "4   Unf          0           540        756                  GasA          \n",
       "5   Unf          0           490        1145                 GasA          \n",
       "\n",
       "   Heating_Quality Air_Conditioning Electrical_System  First_Floor_Area  \\\n",
       "Id                                                                        \n",
       "1   Ex              Y                SBrkr             856                \n",
       "2   Ex              Y                SBrkr             1262               \n",
       "3   Ex              Y                SBrkr             920                \n",
       "4   Gd              Y                SBrkr             961                \n",
       "5   Ex              Y                SBrkr             1145               \n",
       "\n",
       "    Second_Floor_Area  LowQualFinSF  Grade_Living_Area  \\\n",
       "Id                                                       \n",
       "1   854                0             1710                \n",
       "2   0                  0             1262                \n",
       "3   866                0             1786                \n",
       "4   756                0             1717                \n",
       "5   1053               0             2198                \n",
       "\n",
       "    Underground_Full_Bathroom  Underground_Half_Bathroom  \\\n",
       "Id                                                         \n",
       "1   1                          0                           \n",
       "2   0                          1                           \n",
       "3   1                          0                           \n",
       "4   1                          0                           \n",
       "5   1                          0                           \n",
       "\n",
       "    Full_Bathroom_Above_Grade  Half_Bathroom_Above_Grade  Bedroom_Above_Grade  \\\n",
       "Id                                                                              \n",
       "1   2                          1                          3                     \n",
       "2   2                          0                          3                     \n",
       "3   2                          1                          3                     \n",
       "4   1                          0                          3                     \n",
       "5   2                          1                          4                     \n",
       "\n",
       "    Kitchen_Above_Grade Kitchen_Quality  Rooms_Above_Grade Functional_Rate  \\\n",
       "Id                                                                           \n",
       "1   1                    Gd              8                  TF               \n",
       "2   1                    TA              6                  TF               \n",
       "3   1                    Gd              6                  TF               \n",
       "4   1                    Gd              7                  TF               \n",
       "5   1                    Gd              9                  TF               \n",
       "\n",
       "    Fireplaces Fireplace_Quality  Garage  Garage_Built_Year  \\\n",
       "Id                                                            \n",
       "1   0           NaN               Attchd  2003.0              \n",
       "2   1           TA                Attchd  1976.0              \n",
       "3   1           TA                Attchd  2001.0              \n",
       "4   1           Gd                Detchd  1998.0              \n",
       "5   1           TA                Attchd  2000.0              \n",
       "\n",
       "   Garage_Finish_Year  Garage_Size  Garage_Area Garage_Quality  \\\n",
       "Id                                                               \n",
       "1   RFn                2            1085.793744  TA              \n",
       "2   RFn                2            196.316304   TA              \n",
       "3   RFn                2            218.068403   TA              \n",
       "4   Unf                3            696.996439   TA              \n",
       "5   RFn                3            568.859882   TA              \n",
       "\n",
       "   Garage_Condition Pavedd_Drive  W_Deck_Area  Open_Lobby_Area  \\\n",
       "Id                                                               \n",
       "1   TA               Y            163.788080   69.596115         \n",
       "2   TA               Y            198.900074   74.716033         \n",
       "3   TA               Y            26.127533    32.085268         \n",
       "4   TA               Y            46.948018    40.181415         \n",
       "5   TA               Y           -10.626105    20.755323         \n",
       "\n",
       "    Enclosed_Lobby_Area  Three_Season_Lobby_Area  Screen_Lobby_Area  \\\n",
       "Id                                                                    \n",
       "1   20.337934            0                        0                   \n",
       "2   15.039392            0                        0                   \n",
       "3  -46.232198            0                        0                   \n",
       "4   60.921821            0                        0                   \n",
       "5   21.788818            0                        0                   \n",
       "\n",
       "    Pool_Area Pool_Quality Fence_Quality Miscellaneous_Feature  \\\n",
       "Id                                                               \n",
       "1   0          NaN          NaN           NaN                    \n",
       "2   0          NaN          NaN           NaN                    \n",
       "3   0          NaN          NaN           NaN                    \n",
       "4   0          NaN          NaN           NaN                    \n",
       "5   0          NaN          NaN           NaN                    \n",
       "\n",
       "    Miscellaneous_Value  Month_Sold  Year_Sold Sale_Type Sale_Condition  \\\n",
       "Id                                                                        \n",
       "1   0                    2           2008       WD        Normal          \n",
       "2   0                    5           2007       WD        Normal          \n",
       "3   0                    9           2008       WD        Normal          \n",
       "4   0                    2           2006       WD        Abnorml         \n",
       "5   0                    12          2008       WD        Normal          \n",
       "\n",
       "    Sale_Price  \n",
       "Id              \n",
       "1   208500      \n",
       "2   181500      \n",
       "3   223500      \n",
       "4   140000      \n",
       "5   250000      "
      ]
     },
     "execution_count": 364,
     "metadata": {},
     "output_type": "execute_result"
    }
   ],
   "source": [
    "#check whether data loaded properly or not\n",
    "df_property_price.head()"
   ]
  },
  {
   "cell_type": "markdown",
   "metadata": {
    "colab_type": "text",
    "id": "GwJAXzM7a2WY"
   },
   "source": [
    "<a id=section301></a>\n",
    "## 3.1 Description of the Datasets"
   ]
  },
  {
   "cell_type": "code",
   "execution_count": 365,
   "metadata": {
    "colab": {
     "base_uri": "https://localhost:8080/",
     "height": 34
    },
    "colab_type": "code",
    "executionInfo": {
     "elapsed": 1921,
     "status": "ok",
     "timestamp": 1575200720440,
     "user": {
      "displayName": "Raju MLN",
      "photoUrl": "https://lh3.googleusercontent.com/a-/AAuE7mDdD2F6AP4ITC-wA3nNzvUXQvvOKRA6SGtqecOz2w=s64",
      "userId": "08235794127640337009"
     },
     "user_tz": -330
    },
    "id": "_miXJUQWekMg",
    "outputId": "a716ccf1-5619-4893-f170-8496954c3e88"
   },
   "outputs": [
    {
     "data": {
      "text/plain": [
       "(1459, 80)"
      ]
     },
     "execution_count": 365,
     "metadata": {},
     "output_type": "execute_result"
    }
   ],
   "source": [
    "# checking shape of data\n",
    "df_property_price.shape"
   ]
  },
  {
   "cell_type": "code",
   "execution_count": 366,
   "metadata": {
    "colab": {
     "base_uri": "https://localhost:8080/",
     "height": 1000
    },
    "colab_type": "code",
    "executionInfo": {
     "elapsed": 1899,
     "status": "ok",
     "timestamp": 1575200720443,
     "user": {
      "displayName": "Raju MLN",
      "photoUrl": "https://lh3.googleusercontent.com/a-/AAuE7mDdD2F6AP4ITC-wA3nNzvUXQvvOKRA6SGtqecOz2w=s64",
      "userId": "08235794127640337009"
     },
     "user_tz": -330
    },
    "id": "YaQRWAAAa2Wa",
    "outputId": "1f480e86-5121-4bc0-e694-c9b6e99d072e"
   },
   "outputs": [
    {
     "name": "stdout",
     "output_type": "stream",
     "text": [
      "<class 'pandas.core.frame.DataFrame'>\n",
      "Int64Index: 1459 entries, 1 to 1459\n",
      "Data columns (total 80 columns):\n",
      "Building_Class               1459 non-null int64\n",
      "Zoning_Class                 1459 non-null object\n",
      "Lot_Extent                   1200 non-null float64\n",
      "Lot_Size                     1459 non-null int64\n",
      "Road_Type                    1459 non-null object\n",
      "Lane_Type                    91 non-null object\n",
      "Property_Shape               1459 non-null object\n",
      "Land_Outline                 1459 non-null object\n",
      "Utility_Type                 1459 non-null object\n",
      "Lot_Configuration            1459 non-null object\n",
      "Property_Slope               1459 non-null object\n",
      "Neighborhood                 1459 non-null object\n",
      "Condition1                   1459 non-null object\n",
      "Condition2                   1459 non-null object\n",
      "House_Type                   1459 non-null object\n",
      "House_Design                 1459 non-null object\n",
      "Overall_Material             1459 non-null int64\n",
      "House_Condition              1459 non-null int64\n",
      "Construction_Year            1459 non-null int64\n",
      "Remodel_Year                 1459 non-null int64\n",
      "Roof_Design                  1459 non-null object\n",
      "Roof_Quality                 1459 non-null object\n",
      "Exterior1st                  1459 non-null object\n",
      "Exterior2nd                  1459 non-null object\n",
      "Brick_Veneer_Type            1451 non-null object\n",
      "Brick_Veneer_Area            1451 non-null float64\n",
      "Exterior_Material            1459 non-null object\n",
      "Exterior_Condition           1459 non-null object\n",
      "Foundation_Type              1459 non-null object\n",
      "Basement_Height              1422 non-null object\n",
      "Basement_Condition           1422 non-null object\n",
      "Exposure_Level               1421 non-null object\n",
      "BsmtFinType1                 1422 non-null object\n",
      "BsmtFinSF1                   1459 non-null int64\n",
      "BsmtFinType2                 1421 non-null object\n",
      "BsmtFinSF2                   1459 non-null int64\n",
      "BsmtUnfSF                    1459 non-null int64\n",
      "Total_Basement_Area          1459 non-null int64\n",
      "Heating_Type                 1459 non-null object\n",
      "Heating_Quality              1459 non-null object\n",
      "Air_Conditioning             1459 non-null object\n",
      "Electrical_System            1458 non-null object\n",
      "First_Floor_Area             1459 non-null int64\n",
      "Second_Floor_Area            1459 non-null int64\n",
      "LowQualFinSF                 1459 non-null int64\n",
      "Grade_Living_Area            1459 non-null int64\n",
      "Underground_Full_Bathroom    1459 non-null int64\n",
      "Underground_Half_Bathroom    1459 non-null int64\n",
      "Full_Bathroom_Above_Grade    1459 non-null int64\n",
      "Half_Bathroom_Above_Grade    1459 non-null int64\n",
      "Bedroom_Above_Grade          1459 non-null int64\n",
      "Kitchen_Above_Grade          1459 non-null int64\n",
      "Kitchen_Quality              1459 non-null object\n",
      "Rooms_Above_Grade            1459 non-null int64\n",
      "Functional_Rate              1459 non-null object\n",
      "Fireplaces                   1459 non-null int64\n",
      "Fireplace_Quality            770 non-null object\n",
      "Garage                       1378 non-null object\n",
      "Garage_Built_Year            1378 non-null float64\n",
      "Garage_Finish_Year           1378 non-null object\n",
      "Garage_Size                  1459 non-null int64\n",
      "Garage_Area                  1459 non-null float64\n",
      "Garage_Quality               1378 non-null object\n",
      "Garage_Condition             1378 non-null object\n",
      "Pavedd_Drive                 1459 non-null object\n",
      "W_Deck_Area                  1459 non-null float64\n",
      "Open_Lobby_Area              1459 non-null float64\n",
      "Enclosed_Lobby_Area          1459 non-null float64\n",
      "Three_Season_Lobby_Area      1459 non-null int64\n",
      "Screen_Lobby_Area            1459 non-null int64\n",
      "Pool_Area                    1459 non-null int64\n",
      "Pool_Quality                 7 non-null object\n",
      "Fence_Quality                281 non-null object\n",
      "Miscellaneous_Feature        54 non-null object\n",
      "Miscellaneous_Value          1459 non-null int64\n",
      "Month_Sold                   1459 non-null int64\n",
      "Year_Sold                    1459 non-null int64\n",
      "Sale_Type                    1459 non-null object\n",
      "Sale_Condition               1459 non-null object\n",
      "Sale_Price                   1459 non-null int64\n",
      "dtypes: float64(7), int64(30), object(43)\n",
      "memory usage: 923.3+ KB\n"
     ]
    }
   ],
   "source": [
    "df_property_price.info()"
   ]
  },
  {
   "cell_type": "code",
   "execution_count": 367,
   "metadata": {
    "colab": {
     "base_uri": "https://localhost:8080/",
     "height": 315
    },
    "colab_type": "code",
    "executionInfo": {
     "elapsed": 1880,
     "status": "ok",
     "timestamp": 1575200720445,
     "user": {
      "displayName": "Raju MLN",
      "photoUrl": "https://lh3.googleusercontent.com/a-/AAuE7mDdD2F6AP4ITC-wA3nNzvUXQvvOKRA6SGtqecOz2w=s64",
      "userId": "08235794127640337009"
     },
     "user_tz": -330
    },
    "id": "1StJj48-eYvY",
    "outputId": "4dbe4b9d-1986-447e-a234-5a2aa2aedd0b"
   },
   "outputs": [
    {
     "data": {
      "text/html": [
       "<div>\n",
       "<style scoped>\n",
       "    .dataframe tbody tr th:only-of-type {\n",
       "        vertical-align: middle;\n",
       "    }\n",
       "\n",
       "    .dataframe tbody tr th {\n",
       "        vertical-align: top;\n",
       "    }\n",
       "\n",
       "    .dataframe thead th {\n",
       "        text-align: right;\n",
       "    }\n",
       "</style>\n",
       "<table border=\"1\" class=\"dataframe\">\n",
       "  <thead>\n",
       "    <tr style=\"text-align: right;\">\n",
       "      <th></th>\n",
       "      <th>Building_Class</th>\n",
       "      <th>Lot_Extent</th>\n",
       "      <th>Lot_Size</th>\n",
       "      <th>Overall_Material</th>\n",
       "      <th>House_Condition</th>\n",
       "      <th>Construction_Year</th>\n",
       "      <th>Remodel_Year</th>\n",
       "      <th>Brick_Veneer_Area</th>\n",
       "      <th>BsmtFinSF1</th>\n",
       "      <th>BsmtFinSF2</th>\n",
       "      <th>BsmtUnfSF</th>\n",
       "      <th>Total_Basement_Area</th>\n",
       "      <th>First_Floor_Area</th>\n",
       "      <th>Second_Floor_Area</th>\n",
       "      <th>LowQualFinSF</th>\n",
       "      <th>Grade_Living_Area</th>\n",
       "      <th>Underground_Full_Bathroom</th>\n",
       "      <th>Underground_Half_Bathroom</th>\n",
       "      <th>Full_Bathroom_Above_Grade</th>\n",
       "      <th>Half_Bathroom_Above_Grade</th>\n",
       "      <th>Bedroom_Above_Grade</th>\n",
       "      <th>Kitchen_Above_Grade</th>\n",
       "      <th>Rooms_Above_Grade</th>\n",
       "      <th>Fireplaces</th>\n",
       "      <th>Garage_Built_Year</th>\n",
       "      <th>Garage_Size</th>\n",
       "      <th>Garage_Area</th>\n",
       "      <th>W_Deck_Area</th>\n",
       "      <th>Open_Lobby_Area</th>\n",
       "      <th>Enclosed_Lobby_Area</th>\n",
       "      <th>Three_Season_Lobby_Area</th>\n",
       "      <th>Screen_Lobby_Area</th>\n",
       "      <th>Pool_Area</th>\n",
       "      <th>Miscellaneous_Value</th>\n",
       "      <th>Month_Sold</th>\n",
       "      <th>Year_Sold</th>\n",
       "      <th>Sale_Price</th>\n",
       "    </tr>\n",
       "  </thead>\n",
       "  <tbody>\n",
       "    <tr>\n",
       "      <th>count</th>\n",
       "      <td>1459.000000</td>\n",
       "      <td>1200.000000</td>\n",
       "      <td>1459.000000</td>\n",
       "      <td>1459.000000</td>\n",
       "      <td>1459.000000</td>\n",
       "      <td>1459.000000</td>\n",
       "      <td>1459.000000</td>\n",
       "      <td>1451.00000</td>\n",
       "      <td>1459.000000</td>\n",
       "      <td>1459.000000</td>\n",
       "      <td>1459.000000</td>\n",
       "      <td>1459.000000</td>\n",
       "      <td>1459.000000</td>\n",
       "      <td>1459.000000</td>\n",
       "      <td>1459.000000</td>\n",
       "      <td>1459.000000</td>\n",
       "      <td>1459.000000</td>\n",
       "      <td>1459.000000</td>\n",
       "      <td>1459.000000</td>\n",
       "      <td>1459.000000</td>\n",
       "      <td>1459.000000</td>\n",
       "      <td>1459.000000</td>\n",
       "      <td>1459.000000</td>\n",
       "      <td>1459.000000</td>\n",
       "      <td>1378.000000</td>\n",
       "      <td>1459.000000</td>\n",
       "      <td>1459.000000</td>\n",
       "      <td>1459.000000</td>\n",
       "      <td>1459.000000</td>\n",
       "      <td>1459.000000</td>\n",
       "      <td>1459.000000</td>\n",
       "      <td>1459.000000</td>\n",
       "      <td>1459.000000</td>\n",
       "      <td>1459.000000</td>\n",
       "      <td>1459.000000</td>\n",
       "      <td>1459.000000</td>\n",
       "      <td>1459.000000</td>\n",
       "    </tr>\n",
       "    <tr>\n",
       "      <th>mean</th>\n",
       "      <td>56.922550</td>\n",
       "      <td>70.045833</td>\n",
       "      <td>10517.225497</td>\n",
       "      <td>6.100069</td>\n",
       "      <td>5.575051</td>\n",
       "      <td>1971.272104</td>\n",
       "      <td>1984.879369</td>\n",
       "      <td>103.75672</td>\n",
       "      <td>443.374914</td>\n",
       "      <td>46.382454</td>\n",
       "      <td>567.535984</td>\n",
       "      <td>1057.293352</td>\n",
       "      <td>1162.562714</td>\n",
       "      <td>347.230295</td>\n",
       "      <td>5.848526</td>\n",
       "      <td>1515.641535</td>\n",
       "      <td>0.424949</td>\n",
       "      <td>0.057574</td>\n",
       "      <td>1.565456</td>\n",
       "      <td>0.382454</td>\n",
       "      <td>2.866347</td>\n",
       "      <td>1.046607</td>\n",
       "      <td>6.518163</td>\n",
       "      <td>0.613434</td>\n",
       "      <td>1978.515965</td>\n",
       "      <td>1.767649</td>\n",
       "      <td>470.934787</td>\n",
       "      <td>93.015667</td>\n",
       "      <td>47.811902</td>\n",
       "      <td>24.580227</td>\n",
       "      <td>3.411926</td>\n",
       "      <td>15.071282</td>\n",
       "      <td>2.760795</td>\n",
       "      <td>43.518849</td>\n",
       "      <td>6.322138</td>\n",
       "      <td>2007.815627</td>\n",
       "      <td>180944.102810</td>\n",
       "    </tr>\n",
       "    <tr>\n",
       "      <th>std</th>\n",
       "      <td>42.304033</td>\n",
       "      <td>24.294456</td>\n",
       "      <td>9984.675721</td>\n",
       "      <td>1.383171</td>\n",
       "      <td>1.113125</td>\n",
       "      <td>30.212814</td>\n",
       "      <td>20.645927</td>\n",
       "      <td>181.10815</td>\n",
       "      <td>456.142186</td>\n",
       "      <td>161.248500</td>\n",
       "      <td>441.874057</td>\n",
       "      <td>438.824912</td>\n",
       "      <td>386.712553</td>\n",
       "      <td>436.583480</td>\n",
       "      <td>48.639512</td>\n",
       "      <td>525.616607</td>\n",
       "      <td>0.518870</td>\n",
       "      <td>0.238830</td>\n",
       "      <td>0.550906</td>\n",
       "      <td>0.502798</td>\n",
       "      <td>0.816050</td>\n",
       "      <td>0.220410</td>\n",
       "      <td>1.625894</td>\n",
       "      <td>0.644687</td>\n",
       "      <td>24.696004</td>\n",
       "      <td>0.747301</td>\n",
       "      <td>210.668787</td>\n",
       "      <td>124.796682</td>\n",
       "      <td>67.467586</td>\n",
       "      <td>61.353507</td>\n",
       "      <td>29.327247</td>\n",
       "      <td>55.775138</td>\n",
       "      <td>40.191018</td>\n",
       "      <td>496.291826</td>\n",
       "      <td>2.704540</td>\n",
       "      <td>1.328542</td>\n",
       "      <td>79464.918335</td>\n",
       "    </tr>\n",
       "    <tr>\n",
       "      <th>min</th>\n",
       "      <td>20.000000</td>\n",
       "      <td>21.000000</td>\n",
       "      <td>1300.000000</td>\n",
       "      <td>1.000000</td>\n",
       "      <td>1.000000</td>\n",
       "      <td>1872.000000</td>\n",
       "      <td>1950.000000</td>\n",
       "      <td>0.00000</td>\n",
       "      <td>0.000000</td>\n",
       "      <td>0.000000</td>\n",
       "      <td>0.000000</td>\n",
       "      <td>0.000000</td>\n",
       "      <td>334.000000</td>\n",
       "      <td>0.000000</td>\n",
       "      <td>0.000000</td>\n",
       "      <td>334.000000</td>\n",
       "      <td>0.000000</td>\n",
       "      <td>0.000000</td>\n",
       "      <td>0.000000</td>\n",
       "      <td>0.000000</td>\n",
       "      <td>0.000000</td>\n",
       "      <td>0.000000</td>\n",
       "      <td>2.000000</td>\n",
       "      <td>0.000000</td>\n",
       "      <td>1900.000000</td>\n",
       "      <td>0.000000</td>\n",
       "      <td>-129.369350</td>\n",
       "      <td>-338.112031</td>\n",
       "      <td>-187.149958</td>\n",
       "      <td>-164.807386</td>\n",
       "      <td>0.000000</td>\n",
       "      <td>0.000000</td>\n",
       "      <td>0.000000</td>\n",
       "      <td>0.000000</td>\n",
       "      <td>1.000000</td>\n",
       "      <td>2006.000000</td>\n",
       "      <td>34900.000000</td>\n",
       "    </tr>\n",
       "    <tr>\n",
       "      <th>25%</th>\n",
       "      <td>20.000000</td>\n",
       "      <td>59.000000</td>\n",
       "      <td>7549.000000</td>\n",
       "      <td>5.000000</td>\n",
       "      <td>5.000000</td>\n",
       "      <td>1954.000000</td>\n",
       "      <td>1967.000000</td>\n",
       "      <td>0.00000</td>\n",
       "      <td>0.000000</td>\n",
       "      <td>0.000000</td>\n",
       "      <td>223.500000</td>\n",
       "      <td>795.500000</td>\n",
       "      <td>882.000000</td>\n",
       "      <td>0.000000</td>\n",
       "      <td>0.000000</td>\n",
       "      <td>1129.000000</td>\n",
       "      <td>0.000000</td>\n",
       "      <td>0.000000</td>\n",
       "      <td>1.000000</td>\n",
       "      <td>0.000000</td>\n",
       "      <td>2.000000</td>\n",
       "      <td>1.000000</td>\n",
       "      <td>5.000000</td>\n",
       "      <td>0.000000</td>\n",
       "      <td>1961.000000</td>\n",
       "      <td>1.000000</td>\n",
       "      <td>329.290489</td>\n",
       "      <td>9.656026</td>\n",
       "      <td>1.843186</td>\n",
       "      <td>-16.807302</td>\n",
       "      <td>0.000000</td>\n",
       "      <td>0.000000</td>\n",
       "      <td>0.000000</td>\n",
       "      <td>0.000000</td>\n",
       "      <td>5.000000</td>\n",
       "      <td>2007.000000</td>\n",
       "      <td>129950.000000</td>\n",
       "    </tr>\n",
       "    <tr>\n",
       "      <th>50%</th>\n",
       "      <td>50.000000</td>\n",
       "      <td>69.000000</td>\n",
       "      <td>9477.000000</td>\n",
       "      <td>6.000000</td>\n",
       "      <td>5.000000</td>\n",
       "      <td>1973.000000</td>\n",
       "      <td>1994.000000</td>\n",
       "      <td>0.00000</td>\n",
       "      <td>383.000000</td>\n",
       "      <td>0.000000</td>\n",
       "      <td>479.000000</td>\n",
       "      <td>991.000000</td>\n",
       "      <td>1086.000000</td>\n",
       "      <td>0.000000</td>\n",
       "      <td>0.000000</td>\n",
       "      <td>1464.000000</td>\n",
       "      <td>0.000000</td>\n",
       "      <td>0.000000</td>\n",
       "      <td>2.000000</td>\n",
       "      <td>0.000000</td>\n",
       "      <td>3.000000</td>\n",
       "      <td>1.000000</td>\n",
       "      <td>6.000000</td>\n",
       "      <td>1.000000</td>\n",
       "      <td>1980.000000</td>\n",
       "      <td>2.000000</td>\n",
       "      <td>471.028116</td>\n",
       "      <td>92.803628</td>\n",
       "      <td>46.837919</td>\n",
       "      <td>25.026953</td>\n",
       "      <td>0.000000</td>\n",
       "      <td>0.000000</td>\n",
       "      <td>0.000000</td>\n",
       "      <td>0.000000</td>\n",
       "      <td>6.000000</td>\n",
       "      <td>2008.000000</td>\n",
       "      <td>163000.000000</td>\n",
       "    </tr>\n",
       "    <tr>\n",
       "      <th>75%</th>\n",
       "      <td>70.000000</td>\n",
       "      <td>80.000000</td>\n",
       "      <td>11603.000000</td>\n",
       "      <td>7.000000</td>\n",
       "      <td>6.000000</td>\n",
       "      <td>2000.000000</td>\n",
       "      <td>2004.000000</td>\n",
       "      <td>166.00000</td>\n",
       "      <td>712.000000</td>\n",
       "      <td>0.000000</td>\n",
       "      <td>808.000000</td>\n",
       "      <td>1298.500000</td>\n",
       "      <td>1391.500000</td>\n",
       "      <td>728.000000</td>\n",
       "      <td>0.000000</td>\n",
       "      <td>1777.500000</td>\n",
       "      <td>1.000000</td>\n",
       "      <td>0.000000</td>\n",
       "      <td>2.000000</td>\n",
       "      <td>1.000000</td>\n",
       "      <td>3.000000</td>\n",
       "      <td>1.000000</td>\n",
       "      <td>7.000000</td>\n",
       "      <td>1.000000</td>\n",
       "      <td>2002.000000</td>\n",
       "      <td>2.000000</td>\n",
       "      <td>607.184977</td>\n",
       "      <td>180.335986</td>\n",
       "      <td>96.523486</td>\n",
       "      <td>66.237591</td>\n",
       "      <td>0.000000</td>\n",
       "      <td>0.000000</td>\n",
       "      <td>0.000000</td>\n",
       "      <td>0.000000</td>\n",
       "      <td>8.000000</td>\n",
       "      <td>2009.000000</td>\n",
       "      <td>214000.000000</td>\n",
       "    </tr>\n",
       "    <tr>\n",
       "      <th>max</th>\n",
       "      <td>190.000000</td>\n",
       "      <td>313.000000</td>\n",
       "      <td>215245.000000</td>\n",
       "      <td>10.000000</td>\n",
       "      <td>9.000000</td>\n",
       "      <td>2010.000000</td>\n",
       "      <td>2010.000000</td>\n",
       "      <td>1600.00000</td>\n",
       "      <td>5644.000000</td>\n",
       "      <td>1474.000000</td>\n",
       "      <td>2336.000000</td>\n",
       "      <td>6110.000000</td>\n",
       "      <td>4692.000000</td>\n",
       "      <td>2065.000000</td>\n",
       "      <td>572.000000</td>\n",
       "      <td>5642.000000</td>\n",
       "      <td>3.000000</td>\n",
       "      <td>2.000000</td>\n",
       "      <td>3.000000</td>\n",
       "      <td>2.000000</td>\n",
       "      <td>8.000000</td>\n",
       "      <td>3.000000</td>\n",
       "      <td>14.000000</td>\n",
       "      <td>3.000000</td>\n",
       "      <td>2010.000000</td>\n",
       "      <td>4.000000</td>\n",
       "      <td>1147.488093</td>\n",
       "      <td>572.298709</td>\n",
       "      <td>255.362547</td>\n",
       "      <td>225.762714</td>\n",
       "      <td>508.000000</td>\n",
       "      <td>480.000000</td>\n",
       "      <td>738.000000</td>\n",
       "      <td>15500.000000</td>\n",
       "      <td>12.000000</td>\n",
       "      <td>2010.000000</td>\n",
       "      <td>755000.000000</td>\n",
       "    </tr>\n",
       "  </tbody>\n",
       "</table>\n",
       "</div>"
      ],
      "text/plain": [
       "       Building_Class   Lot_Extent       Lot_Size  Overall_Material  \\\n",
       "count  1459.000000     1200.000000  1459.000000    1459.000000        \n",
       "mean   56.922550       70.045833    10517.225497   6.100069           \n",
       "std    42.304033       24.294456    9984.675721    1.383171           \n",
       "min    20.000000       21.000000    1300.000000    1.000000           \n",
       "25%    20.000000       59.000000    7549.000000    5.000000           \n",
       "50%    50.000000       69.000000    9477.000000    6.000000           \n",
       "75%    70.000000       80.000000    11603.000000   7.000000           \n",
       "max    190.000000      313.000000   215245.000000  10.000000          \n",
       "\n",
       "       House_Condition  Construction_Year  Remodel_Year  Brick_Veneer_Area  \\\n",
       "count  1459.000000      1459.000000        1459.000000   1451.00000          \n",
       "mean   5.575051         1971.272104        1984.879369   103.75672           \n",
       "std    1.113125         30.212814          20.645927     181.10815           \n",
       "min    1.000000         1872.000000        1950.000000   0.00000             \n",
       "25%    5.000000         1954.000000        1967.000000   0.00000             \n",
       "50%    5.000000         1973.000000        1994.000000   0.00000             \n",
       "75%    6.000000         2000.000000        2004.000000   166.00000           \n",
       "max    9.000000         2010.000000        2010.000000   1600.00000          \n",
       "\n",
       "        BsmtFinSF1   BsmtFinSF2    BsmtUnfSF  Total_Basement_Area  \\\n",
       "count  1459.000000  1459.000000  1459.000000  1459.000000           \n",
       "mean   443.374914   46.382454    567.535984   1057.293352           \n",
       "std    456.142186   161.248500   441.874057   438.824912            \n",
       "min    0.000000     0.000000     0.000000     0.000000              \n",
       "25%    0.000000     0.000000     223.500000   795.500000            \n",
       "50%    383.000000   0.000000     479.000000   991.000000            \n",
       "75%    712.000000   0.000000     808.000000   1298.500000           \n",
       "max    5644.000000  1474.000000  2336.000000  6110.000000           \n",
       "\n",
       "       First_Floor_Area  Second_Floor_Area  LowQualFinSF  Grade_Living_Area  \\\n",
       "count  1459.000000       1459.000000        1459.000000   1459.000000         \n",
       "mean   1162.562714       347.230295         5.848526      1515.641535         \n",
       "std    386.712553        436.583480         48.639512     525.616607          \n",
       "min    334.000000        0.000000           0.000000      334.000000          \n",
       "25%    882.000000        0.000000           0.000000      1129.000000         \n",
       "50%    1086.000000       0.000000           0.000000      1464.000000         \n",
       "75%    1391.500000       728.000000         0.000000      1777.500000         \n",
       "max    4692.000000       2065.000000        572.000000    5642.000000         \n",
       "\n",
       "       Underground_Full_Bathroom  Underground_Half_Bathroom  \\\n",
       "count  1459.000000                1459.000000                 \n",
       "mean   0.424949                   0.057574                    \n",
       "std    0.518870                   0.238830                    \n",
       "min    0.000000                   0.000000                    \n",
       "25%    0.000000                   0.000000                    \n",
       "50%    0.000000                   0.000000                    \n",
       "75%    1.000000                   0.000000                    \n",
       "max    3.000000                   2.000000                    \n",
       "\n",
       "       Full_Bathroom_Above_Grade  Half_Bathroom_Above_Grade  \\\n",
       "count  1459.000000                1459.000000                 \n",
       "mean   1.565456                   0.382454                    \n",
       "std    0.550906                   0.502798                    \n",
       "min    0.000000                   0.000000                    \n",
       "25%    1.000000                   0.000000                    \n",
       "50%    2.000000                   0.000000                    \n",
       "75%    2.000000                   1.000000                    \n",
       "max    3.000000                   2.000000                    \n",
       "\n",
       "       Bedroom_Above_Grade  Kitchen_Above_Grade  Rooms_Above_Grade  \\\n",
       "count  1459.000000          1459.000000          1459.000000         \n",
       "mean   2.866347             1.046607             6.518163            \n",
       "std    0.816050             0.220410             1.625894            \n",
       "min    0.000000             0.000000             2.000000            \n",
       "25%    2.000000             1.000000             5.000000            \n",
       "50%    3.000000             1.000000             6.000000            \n",
       "75%    3.000000             1.000000             7.000000            \n",
       "max    8.000000             3.000000             14.000000           \n",
       "\n",
       "        Fireplaces  Garage_Built_Year  Garage_Size  Garage_Area  W_Deck_Area  \\\n",
       "count  1459.000000  1378.000000        1459.000000  1459.000000  1459.000000   \n",
       "mean   0.613434     1978.515965        1.767649     470.934787   93.015667     \n",
       "std    0.644687     24.696004          0.747301     210.668787   124.796682    \n",
       "min    0.000000     1900.000000        0.000000    -129.369350  -338.112031    \n",
       "25%    0.000000     1961.000000        1.000000     329.290489   9.656026      \n",
       "50%    1.000000     1980.000000        2.000000     471.028116   92.803628     \n",
       "75%    1.000000     2002.000000        2.000000     607.184977   180.335986    \n",
       "max    3.000000     2010.000000        4.000000     1147.488093  572.298709    \n",
       "\n",
       "       Open_Lobby_Area  Enclosed_Lobby_Area  Three_Season_Lobby_Area  \\\n",
       "count  1459.000000      1459.000000          1459.000000               \n",
       "mean   47.811902        24.580227            3.411926                  \n",
       "std    67.467586        61.353507            29.327247                 \n",
       "min   -187.149958      -164.807386           0.000000                  \n",
       "25%    1.843186        -16.807302            0.000000                  \n",
       "50%    46.837919        25.026953            0.000000                  \n",
       "75%    96.523486        66.237591            0.000000                  \n",
       "max    255.362547       225.762714           508.000000                \n",
       "\n",
       "       Screen_Lobby_Area    Pool_Area  Miscellaneous_Value   Month_Sold  \\\n",
       "count  1459.000000        1459.000000  1459.000000          1459.000000   \n",
       "mean   15.071282          2.760795     43.518849            6.322138      \n",
       "std    55.775138          40.191018    496.291826           2.704540      \n",
       "min    0.000000           0.000000     0.000000             1.000000      \n",
       "25%    0.000000           0.000000     0.000000             5.000000      \n",
       "50%    0.000000           0.000000     0.000000             6.000000      \n",
       "75%    0.000000           0.000000     0.000000             8.000000      \n",
       "max    480.000000         738.000000   15500.000000         12.000000     \n",
       "\n",
       "         Year_Sold     Sale_Price  \n",
       "count  1459.000000  1459.000000    \n",
       "mean   2007.815627  180944.102810  \n",
       "std    1.328542     79464.918335   \n",
       "min    2006.000000  34900.000000   \n",
       "25%    2007.000000  129950.000000  \n",
       "50%    2008.000000  163000.000000  \n",
       "75%    2009.000000  214000.000000  \n",
       "max    2010.000000  755000.000000  "
      ]
     },
     "execution_count": 367,
     "metadata": {},
     "output_type": "execute_result"
    }
   ],
   "source": [
    "df_property_price.describe()"
   ]
  },
  {
   "cell_type": "markdown",
   "metadata": {
    "colab_type": "text",
    "id": "npi95kuoa2Wi"
   },
   "source": [
    " <a id=section302></a>\n",
    "## 3.2 Pandas Profiling before Data Preprocessing"
   ]
  },
  {
   "cell_type": "code",
   "execution_count": 368,
   "metadata": {
    "colab": {},
    "colab_type": "code",
    "id": "X5LDGhsWa2Wj"
   },
   "outputs": [],
   "source": [
    "# To install pandas profiling please run this command.\n",
    "\n",
    "#!pip install pandas-profiling --upgrade"
   ]
  },
  {
   "cell_type": "code",
   "execution_count": 369,
   "metadata": {
    "colab": {},
    "colab_type": "code",
    "id": "Cc-p8JKWe6-5"
   },
   "outputs": [],
   "source": [
    "#import pandas_profiling\n",
    "\n",
    "# Running pandas profiling to get better understanding of data\n",
    "#df_property_price.profile_report(title='Pandas Profiling before Data Preprocessing', style={'full_width':True})"
   ]
  },
  {
   "cell_type": "markdown",
   "metadata": {
    "colab_type": "text",
    "id": "fuFS6Pcva2Wo"
   },
   "source": [
    " <a id=section4></a>\n",
    "# 4. Data Preprocessing"
   ]
  },
  {
   "cell_type": "markdown",
   "metadata": {
    "colab_type": "text",
    "id": "YxKtxlo4a2Wp"
   },
   "source": [
    " <a id=section401></a>\n",
    "## 4.1 Filling missing values"
   ]
  },
  {
   "cell_type": "markdown",
   "metadata": {
    "colab_type": "text",
    "id": "tI-NZkn9svXB"
   },
   "source": [
    "**NOTE:**\n",
    "1. Drop all columns with 70% or more missing values.\n",
    "2. Fill remaining missing column values with median(continuous) or mode(categorical) depending on data.\n"
   ]
  },
  {
   "cell_type": "code",
   "execution_count": 370,
   "metadata": {
    "colab": {},
    "colab_type": "code",
    "id": "_nPtico5a2Wq"
   },
   "outputs": [],
   "source": [
    "column_names = list(df_property_price.columns)\n",
    "column_names.remove('Sale_Price')"
   ]
  },
  {
   "cell_type": "code",
   "execution_count": 371,
   "metadata": {
    "colab": {},
    "colab_type": "code",
    "id": "wOao7DljwAhF"
   },
   "outputs": [],
   "source": [
    "columns_to_be_dropped = list()\n",
    "for i in range(0,len(column_names)):\n",
    "  if(df_property_price[column_names[i]].isna().any()):\n",
    "    \n",
    "    # calculating missing percentage for each column\n",
    "    missing_count = sum(df_property_price[column_names[i]].isna())\n",
    "    total_count = len(df_property_price[column_names[i]])\n",
    "    missing_percent = (missing_count/total_count)*100\n",
    "  \n",
    "\n",
    "    # add column name to `columns_to_be_dropped` \n",
    "    # if missing percentage is greater than 70\n",
    "    if(missing_percent >= 70):\n",
    "      columns_to_be_dropped.append(column_names[i])\n",
    "    else:\n",
    "\n",
    "      # checking datatype of each column so that we know \n",
    "      # which value to be replaced in missing value(median/mode)\n",
    "      if(df_property_price[column_names[i]].dtype == 'object'):\n",
    "        value_to_be_filled = df_property_price[column_names[i]].mode()[0]\n",
    "        df_property_price[column_names[i]].fillna(value_to_be_filled, inplace=True)\n",
    "      elif(df_property_price[column_names[i]].dtype == 'float64' or df_property_price[column_names[i]].dtype == 'int64'):\n",
    "         value_to_be_filled = df_property_price[column_names[i]].median()\n",
    "         df_property_price[column_names[i]].fillna(value_to_be_filled, inplace=True)\n",
    "\n",
    "# droping all columns who have more than 70% missing values\n",
    "df_property_price.drop(columns_to_be_dropped, axis=1, inplace=True)"
   ]
  },
  {
   "cell_type": "code",
   "execution_count": 372,
   "metadata": {
    "colab": {
     "base_uri": "https://localhost:8080/",
     "height": 34
    },
    "colab_type": "code",
    "executionInfo": {
     "elapsed": 1816,
     "status": "ok",
     "timestamp": 1575200720459,
     "user": {
      "displayName": "Raju MLN",
      "photoUrl": "https://lh3.googleusercontent.com/a-/AAuE7mDdD2F6AP4ITC-wA3nNzvUXQvvOKRA6SGtqecOz2w=s64",
      "userId": "08235794127640337009"
     },
     "user_tz": -330
    },
    "id": "GA_cKatd3oVU",
    "outputId": "daa16170-c80f-490b-e25b-5ea0d81d4fca"
   },
   "outputs": [
    {
     "data": {
      "text/plain": [
       "(1459, 76)"
      ]
     },
     "execution_count": 372,
     "metadata": {},
     "output_type": "execute_result"
    }
   ],
   "source": [
    "df_property_price.shape"
   ]
  },
  {
   "cell_type": "markdown",
   "metadata": {
    "colab_type": "text",
    "id": "gh0vP8cNdBTF"
   },
   "source": [
    "**Observations:** We have dropped four columns"
   ]
  },
  {
   "cell_type": "code",
   "execution_count": 373,
   "metadata": {
    "colab": {},
    "colab_type": "code",
    "id": "MeLkwhGF23s2"
   },
   "outputs": [
    {
     "name": "stdout",
     "output_type": "stream",
     "text": [
      "<class 'pandas.core.frame.DataFrame'>\n",
      "Int64Index: 1459 entries, 1 to 1459\n",
      "Data columns (total 76 columns):\n",
      "Building_Class               1459 non-null int64\n",
      "Zoning_Class                 1459 non-null object\n",
      "Lot_Extent                   1459 non-null float64\n",
      "Lot_Size                     1459 non-null int64\n",
      "Road_Type                    1459 non-null object\n",
      "Property_Shape               1459 non-null object\n",
      "Land_Outline                 1459 non-null object\n",
      "Utility_Type                 1459 non-null object\n",
      "Lot_Configuration            1459 non-null object\n",
      "Property_Slope               1459 non-null object\n",
      "Neighborhood                 1459 non-null object\n",
      "Condition1                   1459 non-null object\n",
      "Condition2                   1459 non-null object\n",
      "House_Type                   1459 non-null object\n",
      "House_Design                 1459 non-null object\n",
      "Overall_Material             1459 non-null int64\n",
      "House_Condition              1459 non-null int64\n",
      "Construction_Year            1459 non-null int64\n",
      "Remodel_Year                 1459 non-null int64\n",
      "Roof_Design                  1459 non-null object\n",
      "Roof_Quality                 1459 non-null object\n",
      "Exterior1st                  1459 non-null object\n",
      "Exterior2nd                  1459 non-null object\n",
      "Brick_Veneer_Type            1459 non-null object\n",
      "Brick_Veneer_Area            1459 non-null float64\n",
      "Exterior_Material            1459 non-null object\n",
      "Exterior_Condition           1459 non-null object\n",
      "Foundation_Type              1459 non-null object\n",
      "Basement_Height              1459 non-null object\n",
      "Basement_Condition           1459 non-null object\n",
      "Exposure_Level               1459 non-null object\n",
      "BsmtFinType1                 1459 non-null object\n",
      "BsmtFinSF1                   1459 non-null int64\n",
      "BsmtFinType2                 1459 non-null object\n",
      "BsmtFinSF2                   1459 non-null int64\n",
      "BsmtUnfSF                    1459 non-null int64\n",
      "Total_Basement_Area          1459 non-null int64\n",
      "Heating_Type                 1459 non-null object\n",
      "Heating_Quality              1459 non-null object\n",
      "Air_Conditioning             1459 non-null object\n",
      "Electrical_System            1459 non-null object\n",
      "First_Floor_Area             1459 non-null int64\n",
      "Second_Floor_Area            1459 non-null int64\n",
      "LowQualFinSF                 1459 non-null int64\n",
      "Grade_Living_Area            1459 non-null int64\n",
      "Underground_Full_Bathroom    1459 non-null int64\n",
      "Underground_Half_Bathroom    1459 non-null int64\n",
      "Full_Bathroom_Above_Grade    1459 non-null int64\n",
      "Half_Bathroom_Above_Grade    1459 non-null int64\n",
      "Bedroom_Above_Grade          1459 non-null int64\n",
      "Kitchen_Above_Grade          1459 non-null int64\n",
      "Kitchen_Quality              1459 non-null object\n",
      "Rooms_Above_Grade            1459 non-null int64\n",
      "Functional_Rate              1459 non-null object\n",
      "Fireplaces                   1459 non-null int64\n",
      "Fireplace_Quality            1459 non-null object\n",
      "Garage                       1459 non-null object\n",
      "Garage_Built_Year            1459 non-null float64\n",
      "Garage_Finish_Year           1459 non-null object\n",
      "Garage_Size                  1459 non-null int64\n",
      "Garage_Area                  1459 non-null float64\n",
      "Garage_Quality               1459 non-null object\n",
      "Garage_Condition             1459 non-null object\n",
      "Pavedd_Drive                 1459 non-null object\n",
      "W_Deck_Area                  1459 non-null float64\n",
      "Open_Lobby_Area              1459 non-null float64\n",
      "Enclosed_Lobby_Area          1459 non-null float64\n",
      "Three_Season_Lobby_Area      1459 non-null int64\n",
      "Screen_Lobby_Area            1459 non-null int64\n",
      "Pool_Area                    1459 non-null int64\n",
      "Miscellaneous_Value          1459 non-null int64\n",
      "Month_Sold                   1459 non-null int64\n",
      "Year_Sold                    1459 non-null int64\n",
      "Sale_Type                    1459 non-null object\n",
      "Sale_Condition               1459 non-null object\n",
      "Sale_Price                   1459 non-null int64\n",
      "dtypes: float64(7), int64(30), object(39)\n",
      "memory usage: 877.7+ KB\n"
     ]
    }
   ],
   "source": [
    "df_property_price.info()"
   ]
  },
  {
   "cell_type": "markdown",
   "metadata": {
    "colab_type": "text",
    "id": "KxJCxQWcStpT"
   },
   "source": [
    "**Observations:**\n",
    "\n",
    "We don't have any missing values now. Good to go."
   ]
  },
  {
   "cell_type": "markdown",
   "metadata": {
    "colab_type": "text",
    "id": "QfTnCfkHa2Wu"
   },
   "source": [
    " <a id=section402></a>\n",
    "## 4.2 Remove highly correlated independant columns"
   ]
  },
  {
   "cell_type": "code",
   "execution_count": 374,
   "metadata": {},
   "outputs": [
    {
     "data": {
      "text/plain": [
       "['Building_Class',\n",
       " 'Zoning_Class',\n",
       " 'Lot_Extent',\n",
       " 'Lot_Size',\n",
       " 'Road_Type',\n",
       " 'Property_Shape',\n",
       " 'Land_Outline',\n",
       " 'Utility_Type',\n",
       " 'Lot_Configuration',\n",
       " 'Property_Slope',\n",
       " 'Neighborhood',\n",
       " 'Condition1',\n",
       " 'Condition2',\n",
       " 'House_Type',\n",
       " 'House_Design',\n",
       " 'Overall_Material',\n",
       " 'House_Condition',\n",
       " 'Construction_Year',\n",
       " 'Remodel_Year',\n",
       " 'Roof_Design',\n",
       " 'Roof_Quality',\n",
       " 'Exterior1st',\n",
       " 'Exterior2nd',\n",
       " 'Brick_Veneer_Type',\n",
       " 'Brick_Veneer_Area',\n",
       " 'Exterior_Material',\n",
       " 'Exterior_Condition',\n",
       " 'Foundation_Type',\n",
       " 'Basement_Height',\n",
       " 'Basement_Condition',\n",
       " 'Exposure_Level',\n",
       " 'BsmtFinType1',\n",
       " 'BsmtFinSF1',\n",
       " 'BsmtFinType2',\n",
       " 'BsmtFinSF2',\n",
       " 'BsmtUnfSF',\n",
       " 'Total_Basement_Area',\n",
       " 'Heating_Type',\n",
       " 'Heating_Quality',\n",
       " 'Air_Conditioning',\n",
       " 'Electrical_System',\n",
       " 'First_Floor_Area',\n",
       " 'Second_Floor_Area',\n",
       " 'LowQualFinSF',\n",
       " 'Grade_Living_Area',\n",
       " 'Underground_Full_Bathroom',\n",
       " 'Underground_Half_Bathroom',\n",
       " 'Full_Bathroom_Above_Grade',\n",
       " 'Half_Bathroom_Above_Grade',\n",
       " 'Bedroom_Above_Grade',\n",
       " 'Kitchen_Above_Grade',\n",
       " 'Kitchen_Quality',\n",
       " 'Rooms_Above_Grade',\n",
       " 'Functional_Rate',\n",
       " 'Fireplaces',\n",
       " 'Fireplace_Quality',\n",
       " 'Garage',\n",
       " 'Garage_Built_Year',\n",
       " 'Garage_Finish_Year',\n",
       " 'Garage_Size',\n",
       " 'Garage_Area',\n",
       " 'Garage_Quality',\n",
       " 'Garage_Condition',\n",
       " 'Pavedd_Drive',\n",
       " 'W_Deck_Area',\n",
       " 'Open_Lobby_Area',\n",
       " 'Enclosed_Lobby_Area',\n",
       " 'Three_Season_Lobby_Area',\n",
       " 'Screen_Lobby_Area',\n",
       " 'Pool_Area',\n",
       " 'Miscellaneous_Value',\n",
       " 'Month_Sold',\n",
       " 'Year_Sold',\n",
       " 'Sale_Type',\n",
       " 'Sale_Condition']"
      ]
     },
     "execution_count": 374,
     "metadata": {},
     "output_type": "execute_result"
    }
   ],
   "source": [
    "# extracting feature columns\n",
    "feature_cols = list(df_property_price.columns)\n",
    "feature_cols.remove('Sale_Price')\n",
    "feature_cols"
   ]
  },
  {
   "cell_type": "code",
   "execution_count": 375,
   "metadata": {},
   "outputs": [
    {
     "data": {
      "text/plain": [
       "['First_Floor_Area', 'Rooms_Above_Grade', 'Garage_Built_Year']"
      ]
     },
     "execution_count": 375,
     "metadata": {},
     "output_type": "execute_result"
    }
   ],
   "source": [
    "# extracting highly correlated columns(except target variable) to drop\n",
    "\n",
    "# Create correlation matrix\n",
    "corr_matrix = df_property_price[feature_cols].corr().abs()\n",
    "\n",
    "# Select upper triangle of correlation matrix\n",
    "upper = corr_matrix.where(np.triu(np.ones(corr_matrix.shape), k=1).astype(np.bool))\n",
    "\n",
    "# Find index of feature columns with correlation greater than 0.80\n",
    "cols_to_drop = [column for column in upper.columns if any(upper[column] > 0.70)]\n",
    "cols_to_drop"
   ]
  },
  {
   "cell_type": "code",
   "execution_count": 376,
   "metadata": {},
   "outputs": [
    {
     "data": {
      "text/plain": [
       "(1459, 73)"
      ]
     },
     "execution_count": 376,
     "metadata": {},
     "output_type": "execute_result"
    }
   ],
   "source": [
    "# Drop features \n",
    "df_property_price.drop(cols_to_drop, axis=1, inplace=True)\n",
    "df_property_price.shape"
   ]
  },
  {
   "cell_type": "markdown",
   "metadata": {
    "colab_type": "text",
    "id": "KsHwW4V0UJI_"
   },
   "source": [
    "**Observations:** \n",
    "\n",
    "We dropped 'First_Floor_Area', 'Rooms_Above_Grade'. So, we are left with 74 columns."
   ]
  },
  {
   "cell_type": "markdown",
   "metadata": {
    "colab_type": "text",
    "id": "u9cwxOwlL8Pp"
   },
   "source": [
    " <a id=section403></a>\n",
    "## 4.3 Handling Outliers\n",
    "\n",
    "Concept of outliers is only applicable to continuous variables.\n",
    "\n",
    "NOTE:\n",
    "\n",
    "1. Remove ouliers if percentage is less than 2%\n",
    "\n",
    "2. Fill remaining outliers values with median(continuous) or mode(categorical) depending on data.\n",
    "\n"
   ]
  },
  {
   "cell_type": "code",
   "execution_count": 377,
   "metadata": {
    "colab": {
     "base_uri": "https://localhost:8080/",
     "height": 34
    },
    "colab_type": "code",
    "executionInfo": {
     "elapsed": 1780,
     "status": "ok",
     "timestamp": 1575200720463,
     "user": {
      "displayName": "Raju MLN",
      "photoUrl": "https://lh3.googleusercontent.com/a-/AAuE7mDdD2F6AP4ITC-wA3nNzvUXQvvOKRA6SGtqecOz2w=s64",
      "userId": "08235794127640337009"
     },
     "user_tz": -330
    },
    "id": "RNg4c4hYMEhj",
    "outputId": "626f77d6-c36a-403d-9843-c1bd6c14b25b"
   },
   "outputs": [
    {
     "data": {
      "text/plain": [
       "34"
      ]
     },
     "execution_count": 377,
     "metadata": {},
     "output_type": "execute_result"
    }
   ],
   "source": [
    "# storing columns with continuos datatype in 'continuos_cols' \n",
    "continuos_cols = list()\n",
    "cols = df_property_price.columns\n",
    "\n",
    "for i in range(0,len(cols)):\n",
    "  if(df_property_price[cols[i]].dtype != 'object'):\n",
    "    continuos_cols.append(cols[i])\n",
    "\n",
    "len(continuos_cols)"
   ]
  },
  {
   "cell_type": "code",
   "execution_count": 378,
   "metadata": {
    "colab": {},
    "colab_type": "code",
    "id": "cM5QYQyeeAGH"
   },
   "outputs": [
    {
     "name": "stdout",
     "output_type": "stream",
     "text": [
      "False\n",
      "False\n",
      "False\n",
      "False\n",
      "False\n",
      "False\n",
      "False\n",
      "False\n",
      "False\n",
      "False\n",
      "False\n",
      "False\n",
      "False\n",
      "False\n",
      "False\n",
      "False\n",
      "False\n",
      "False\n",
      "False\n",
      "False\n",
      "False\n",
      "False\n",
      "False\n",
      "False\n",
      "False\n",
      "False\n",
      "False\n",
      "False\n",
      "False\n",
      "False\n",
      "False\n",
      "False\n",
      "False\n",
      "False\n"
     ]
    }
   ],
   "source": [
    "for i in range(0, len(continuos_cols)):\n",
    "  df_temp = df_property_price[continuos_cols[i]]\n",
    "  sorted(df_temp)\n",
    "  q1, q3= np.percentile(df_temp,[10,95])\n",
    "  iqr = q3 - q1\n",
    "  lower_bound = q1 -(1.5 * iqr) \n",
    "  upper_bound = q3 +(1.5 * iqr) \n",
    "  true_index = df_temp.loc[(df_temp < lower_bound) & \\\n",
    "            (df_temp > upper_bound)].any()\n",
    "\n",
    "  print(true_index)"
   ]
  },
  {
   "cell_type": "markdown",
   "metadata": {
    "colab_type": "text",
    "id": "zLp8XTkq4Vky"
   },
   "source": [
    "**Observations:** We don't have any outliers in the data."
   ]
  },
  {
   "cell_type": "markdown",
   "metadata": {
    "colab_type": "text",
    "id": "oWTIpd_pa2W4"
   },
   "source": [
    " <a id=section404></a>\n",
    "## 4.4 Pandas Profiling after Data Preprocessing"
   ]
  },
  {
   "cell_type": "code",
   "execution_count": 379,
   "metadata": {
    "colab": {},
    "colab_type": "code",
    "id": "-acPRqpxa2W7"
   },
   "outputs": [],
   "source": [
    "\n",
    "# Running pandas profiling to get better understanding of data\n",
    "#df_property_price.profile_report(title='Pandas Profiling after Data Preprocessing', style={'full_width':True})"
   ]
  },
  {
   "cell_type": "code",
   "execution_count": 380,
   "metadata": {},
   "outputs": [
    {
     "data": {
      "text/plain": [
       "(1459, 73)"
      ]
     },
     "execution_count": 380,
     "metadata": {},
     "output_type": "execute_result"
    }
   ],
   "source": [
    "df_property_price.shape"
   ]
  },
  {
   "cell_type": "markdown",
   "metadata": {
    "colab_type": "text",
    "id": "AK66Ggama2W-"
   },
   "source": [
    " <a id=section5></a>\n",
    "# 5. Data preparation for model building"
   ]
  },
  {
   "cell_type": "markdown",
   "metadata": {
    "colab_type": "text",
    "id": "cf3wx6xMa2XA"
   },
   "source": [
    " <a id=section501></a>\n",
    "## 5.1 Dummification / One-Hot Encoding"
   ]
  },
  {
   "cell_type": "code",
   "execution_count": 381,
   "metadata": {
    "colab": {},
    "colab_type": "code",
    "id": "B8iaB38ha2XB"
   },
   "outputs": [
    {
     "data": {
      "text/plain": [
       "39"
      ]
     },
     "execution_count": 381,
     "metadata": {},
     "output_type": "execute_result"
    }
   ],
   "source": [
    "# save categorical columns to a variable\n",
    "\n",
    "categorical_price_columns = list()\n",
    "columns_in_df = df_property_price.columns\n",
    "\n",
    "for i in range(0, len(columns_in_df)):\n",
    "  if(df_property_price[columns_in_df[i]].dtype == 'object'):\n",
    "    categorical_price_columns.append(columns_in_df[i])\n",
    "\n",
    "len(categorical_price_columns)"
   ]
  },
  {
   "cell_type": "code",
   "execution_count": 382,
   "metadata": {},
   "outputs": [
    {
     "data": {
      "text/plain": [
       "(1459, 236)"
      ]
     },
     "execution_count": 382,
     "metadata": {},
     "output_type": "execute_result"
    }
   ],
   "source": [
    "df_property_price_dummies = pd.get_dummies(df_property_price, drop_first=True, columns = categorical_price_columns)\n",
    "df_property_price_dummies.shape"
   ]
  },
  {
   "cell_type": "markdown",
   "metadata": {},
   "source": [
    "**Observations:**\n",
    " \n",
    "Columns count increase from 73 to 237.\n",
    "\n",
    "Can we apply below thesis results?\n",
    "\n",
    "http://proceedings.mlr.press/v7/niculescu09/niculescu09.pdf\n",
    "\n",
    "\n",
    "**Summary:**\n",
    "\n",
    "<img src=\"/one-hot-encoding.png\" height='200px' width='100%'><br/>"
   ]
  },
  {
   "cell_type": "code",
   "execution_count": 383,
   "metadata": {},
   "outputs": [
    {
     "name": "stdout",
     "output_type": "stream",
     "text": [
      "Zoning_Class  -  5\n",
      "Road_Type  -  2\n",
      "Property_Shape  -  4\n",
      "Land_Outline  -  4\n",
      "Utility_Type  -  2\n",
      "Lot_Configuration  -  5\n",
      "Property_Slope  -  3\n",
      "Neighborhood  -  25\n",
      "Condition1  -  9\n",
      "Condition2  -  8\n",
      "House_Type  -  5\n",
      "House_Design  -  8\n",
      "Roof_Design  -  6\n",
      "Roof_Quality  -  8\n",
      "Exterior1st  -  15\n",
      "Exterior2nd  -  16\n",
      "Brick_Veneer_Type  -  4\n",
      "Exterior_Material  -  4\n",
      "Exterior_Condition  -  5\n",
      "Foundation_Type  -  6\n",
      "Basement_Height  -  4\n",
      "Basement_Condition  -  4\n",
      "Exposure_Level  -  4\n",
      "BsmtFinType1  -  6\n",
      "BsmtFinType2  -  6\n",
      "Heating_Type  -  6\n",
      "Heating_Quality  -  5\n",
      "Air_Conditioning  -  2\n",
      "Electrical_System  -  5\n",
      "Kitchen_Quality  -  4\n",
      "Functional_Rate  -  8\n",
      "Fireplace_Quality  -  5\n",
      "Garage  -  7\n",
      "Garage_Finish_Year  -  3\n",
      "Garage_Quality  -  5\n",
      "Garage_Condition  -  5\n",
      "Pavedd_Drive  -  3\n",
      "Sale_Type  -  9\n",
      "Sale_Condition  -  6\n"
     ]
    }
   ],
   "source": [
    "# lets look at how many unique labels each category has\n",
    "for i in range(0, len(categorical_price_columns)):\n",
    "  print(categorical_price_columns[i], \" - \", df_property_price[categorical_price_columns[i]].nunique())"
   ]
  },
  {
   "cell_type": "markdown",
   "metadata": {},
   "source": [
    "**Observations:**\n",
    "\n",
    "As there are very few columns which has more than 10 categories, we can skip this step."
   ]
  },
  {
   "cell_type": "code",
   "execution_count": 384,
   "metadata": {},
   "outputs": [
    {
     "data": {
      "text/plain": [
       "(1459, 236)"
      ]
     },
     "execution_count": 384,
     "metadata": {},
     "output_type": "execute_result"
    }
   ],
   "source": [
    "#delete original columns as dummificaton of them is done\n",
    "#df_property_price_dummies.drop(categorical_price_columns, axis = 1, inplace=True)\n",
    "#assign data frame after dummification to original data frame\n",
    "df_property_price = df_property_price_dummies\n",
    "df_property_price.shape"
   ]
  },
  {
   "cell_type": "markdown",
   "metadata": {
    "colab_type": "text",
    "id": "CG-N0SUra2XJ"
   },
   "source": [
    " <a id=section502></a>\n",
    " ## 5.2 Standardizing"
   ]
  },
  {
   "cell_type": "code",
   "execution_count": 385,
   "metadata": {
    "colab": {},
    "colab_type": "code",
    "id": "F-Uy6PIia2XK"
   },
   "outputs": [
    {
     "data": {
      "text/plain": [
       "235"
      ]
     },
     "execution_count": 385,
     "metadata": {},
     "output_type": "execute_result"
    }
   ],
   "source": [
    "# extracting feature columns again\n",
    "feature_cols = list(df_property_price.columns)\n",
    "feature_cols.remove('Sale_Price')\n",
    "len(feature_cols)"
   ]
  },
  {
   "cell_type": "code",
   "execution_count": 386,
   "metadata": {},
   "outputs": [],
   "source": [
    "from sklearn.preprocessing import StandardScaler\n",
    "\n",
    "# standardizing of  data\n",
    "scaler = StandardScaler().fit(df_property_price[feature_cols])\n",
    "data_train = scaler.transform(df_property_price[feature_cols])"
   ]
  },
  {
   "cell_type": "code",
   "execution_count": 387,
   "metadata": {
    "colab": {
     "base_uri": "https://localhost:8080/",
     "height": 252
    },
    "colab_type": "code",
    "executionInfo": {
     "elapsed": 951,
     "status": "ok",
     "timestamp": 1575201111965,
     "user": {
      "displayName": "Raju MLN",
      "photoUrl": "https://lh3.googleusercontent.com/a-/AAuE7mDdD2F6AP4ITC-wA3nNzvUXQvvOKRA6SGtqecOz2w=s64",
      "userId": "08235794127640337009"
     },
     "user_tz": -330
    },
    "id": "ID0NAymwRM7R",
    "outputId": "e1c0bf63-7994-426f-f0b8-d0ecf4f5b98a"
   },
   "outputs": [
    {
     "data": {
      "text/html": [
       "<div>\n",
       "<style scoped>\n",
       "    .dataframe tbody tr th:only-of-type {\n",
       "        vertical-align: middle;\n",
       "    }\n",
       "\n",
       "    .dataframe tbody tr th {\n",
       "        vertical-align: top;\n",
       "    }\n",
       "\n",
       "    .dataframe thead th {\n",
       "        text-align: right;\n",
       "    }\n",
       "</style>\n",
       "<table border=\"1\" class=\"dataframe\">\n",
       "  <thead>\n",
       "    <tr style=\"text-align: right;\">\n",
       "      <th></th>\n",
       "      <th>Building_Class</th>\n",
       "      <th>Lot_Extent</th>\n",
       "      <th>Lot_Size</th>\n",
       "      <th>Overall_Material</th>\n",
       "      <th>House_Condition</th>\n",
       "      <th>Construction_Year</th>\n",
       "      <th>Remodel_Year</th>\n",
       "      <th>Brick_Veneer_Area</th>\n",
       "      <th>BsmtFinSF1</th>\n",
       "      <th>BsmtFinSF2</th>\n",
       "      <th>BsmtUnfSF</th>\n",
       "      <th>Total_Basement_Area</th>\n",
       "      <th>Second_Floor_Area</th>\n",
       "      <th>LowQualFinSF</th>\n",
       "      <th>Grade_Living_Area</th>\n",
       "      <th>Underground_Full_Bathroom</th>\n",
       "      <th>Underground_Half_Bathroom</th>\n",
       "      <th>Full_Bathroom_Above_Grade</th>\n",
       "      <th>Half_Bathroom_Above_Grade</th>\n",
       "      <th>Bedroom_Above_Grade</th>\n",
       "      <th>Kitchen_Above_Grade</th>\n",
       "      <th>Fireplaces</th>\n",
       "      <th>Garage_Size</th>\n",
       "      <th>Garage_Area</th>\n",
       "      <th>W_Deck_Area</th>\n",
       "      <th>Open_Lobby_Area</th>\n",
       "      <th>Enclosed_Lobby_Area</th>\n",
       "      <th>Three_Season_Lobby_Area</th>\n",
       "      <th>Screen_Lobby_Area</th>\n",
       "      <th>Pool_Area</th>\n",
       "      <th>Miscellaneous_Value</th>\n",
       "      <th>Month_Sold</th>\n",
       "      <th>Year_Sold</th>\n",
       "      <th>Zoning_Class_FVR</th>\n",
       "      <th>Zoning_Class_RHD</th>\n",
       "      <th>Zoning_Class_RLD</th>\n",
       "      <th>Zoning_Class_RMD</th>\n",
       "      <th>Road_Type_Paved</th>\n",
       "      <th>Property_Shape_IR2</th>\n",
       "      <th>Property_Shape_IR3</th>\n",
       "      <th>Property_Shape_Reg</th>\n",
       "      <th>Land_Outline_HLS</th>\n",
       "      <th>Land_Outline_Low</th>\n",
       "      <th>Land_Outline_Lvl</th>\n",
       "      <th>Utility_Type_NoSeWa</th>\n",
       "      <th>Lot_Configuration_CulDSac</th>\n",
       "      <th>Lot_Configuration_FR2P</th>\n",
       "      <th>Lot_Configuration_FR3P</th>\n",
       "      <th>Lot_Configuration_I</th>\n",
       "      <th>Property_Slope_MS</th>\n",
       "      <th>...</th>\n",
       "      <th>Air_Conditioning_Y</th>\n",
       "      <th>Electrical_System_FuseF</th>\n",
       "      <th>Electrical_System_FuseP</th>\n",
       "      <th>Electrical_System_Mix</th>\n",
       "      <th>Electrical_System_SBrkr</th>\n",
       "      <th>Kitchen_Quality_Fa</th>\n",
       "      <th>Kitchen_Quality_Gd</th>\n",
       "      <th>Kitchen_Quality_TA</th>\n",
       "      <th>Functional_Rate_MD1</th>\n",
       "      <th>Functional_Rate_MD2</th>\n",
       "      <th>Functional_Rate_MS</th>\n",
       "      <th>Functional_Rate_MajD1</th>\n",
       "      <th>Functional_Rate_MajD2</th>\n",
       "      <th>Functional_Rate_SD</th>\n",
       "      <th>Functional_Rate_TF</th>\n",
       "      <th>Fireplace_Quality_Fa</th>\n",
       "      <th>Fireplace_Quality_Gd</th>\n",
       "      <th>Fireplace_Quality_Po</th>\n",
       "      <th>Fireplace_Quality_TA</th>\n",
       "      <th>Garage_2Types</th>\n",
       "      <th>Garage_Attchd</th>\n",
       "      <th>Garage_Basment</th>\n",
       "      <th>Garage_BuiltIn</th>\n",
       "      <th>Garage_CarPort</th>\n",
       "      <th>Garage_Detchd</th>\n",
       "      <th>Garage_Finish_Year_RFn</th>\n",
       "      <th>Garage_Finish_Year_Unf</th>\n",
       "      <th>Garage_Quality_Fa</th>\n",
       "      <th>Garage_Quality_Gd</th>\n",
       "      <th>Garage_Quality_Po</th>\n",
       "      <th>Garage_Quality_TA</th>\n",
       "      <th>Garage_Condition_Fa</th>\n",
       "      <th>Garage_Condition_Gd</th>\n",
       "      <th>Garage_Condition_Po</th>\n",
       "      <th>Garage_Condition_TA</th>\n",
       "      <th>Pavedd_Drive_P</th>\n",
       "      <th>Pavedd_Drive_Y</th>\n",
       "      <th>Sale_Type_CWD</th>\n",
       "      <th>Sale_Type_Con</th>\n",
       "      <th>Sale_Type_ConLD</th>\n",
       "      <th>Sale_Type_ConLI</th>\n",
       "      <th>Sale_Type_ConLw</th>\n",
       "      <th>Sale_Type_New</th>\n",
       "      <th>Sale_Type_Oth</th>\n",
       "      <th>Sale_Type_WD</th>\n",
       "      <th>Sale_Condition_AdjLand</th>\n",
       "      <th>Sale_Condition_Alloca</th>\n",
       "      <th>Sale_Condition_Family</th>\n",
       "      <th>Sale_Condition_Normal</th>\n",
       "      <th>Sale_Condition_Partial</th>\n",
       "    </tr>\n",
       "  </thead>\n",
       "  <tbody>\n",
       "    <tr>\n",
       "      <th>0</th>\n",
       "      <td>0.072771</td>\n",
       "      <td>-0.220644</td>\n",
       "      <td>-0.207111</td>\n",
       "      <td>0.650852</td>\n",
       "      <td>-0.516787</td>\n",
       "      <td>1.050507</td>\n",
       "      <td>0.877986</td>\n",
       "      <td>0.513594</td>\n",
       "      <td>0.575950</td>\n",
       "      <td>-0.287744</td>\n",
       "      <td>-0.945245</td>\n",
       "      <td>-0.458867</td>\n",
       "      <td>1.161160</td>\n",
       "      <td>-0.120284</td>\n",
       "      <td>0.369899</td>\n",
       "      <td>1.108656</td>\n",
       "      <td>-0.241148</td>\n",
       "      <td>0.789052</td>\n",
       "      <td>1.228641</td>\n",
       "      <td>0.163837</td>\n",
       "      <td>-0.211529</td>\n",
       "      <td>-0.951848</td>\n",
       "      <td>0.311027</td>\n",
       "      <td>2.919606</td>\n",
       "      <td>0.567296</td>\n",
       "      <td>0.322995</td>\n",
       "      <td>-0.069169</td>\n",
       "      <td>-0.11638</td>\n",
       "      <td>-0.270308</td>\n",
       "      <td>-0.068715</td>\n",
       "      <td>-0.087718</td>\n",
       "      <td>-1.598653</td>\n",
       "      <td>0.138826</td>\n",
       "      <td>-0.215936</td>\n",
       "      <td>-0.1053</td>\n",
       "      <td>0.518359</td>\n",
       "      <td>-0.419124</td>\n",
       "      <td>0.06426</td>\n",
       "      <td>-0.170041</td>\n",
       "      <td>-0.083074</td>\n",
       "      <td>0.760923</td>\n",
       "      <td>-0.188378</td>\n",
       "      <td>-0.159056</td>\n",
       "      <td>0.337254</td>\n",
       "      <td>-0.026189</td>\n",
       "      <td>-0.26242</td>\n",
       "      <td>-0.182445</td>\n",
       "      <td>-0.052432</td>\n",
       "      <td>0.623058</td>\n",
       "      <td>-0.215936</td>\n",
       "      <td>...</td>\n",
       "      <td>0.263909</td>\n",
       "      <td>-0.137313</td>\n",
       "      <td>-0.045392</td>\n",
       "      <td>-0.026189</td>\n",
       "      <td>0.30611</td>\n",
       "      <td>-0.165725</td>\n",
       "      <td>1.220558</td>\n",
       "      <td>-1.006188</td>\n",
       "      <td>-0.147339</td>\n",
       "      <td>-0.154466</td>\n",
       "      <td>-0.026189</td>\n",
       "      <td>-0.098431</td>\n",
       "      <td>-0.058641</td>\n",
       "      <td>-0.026189</td>\n",
       "      <td>0.271263</td>\n",
       "      <td>-0.152124</td>\n",
       "      <td>0.604009</td>\n",
       "      <td>-0.117892</td>\n",
       "      <td>-0.522613</td>\n",
       "      <td>-0.026189</td>\n",
       "      <td>0.731976</td>\n",
       "      <td>-0.114867</td>\n",
       "      <td>-0.253351</td>\n",
       "      <td>-0.078784</td>\n",
       "      <td>-0.600839</td>\n",
       "      <td>1.567592</td>\n",
       "      <td>-0.942046</td>\n",
       "      <td>-0.184441</td>\n",
       "      <td>-0.098431</td>\n",
       "      <td>-0.045392</td>\n",
       "      <td>0.221101</td>\n",
       "      <td>-0.156776</td>\n",
       "      <td>-0.078784</td>\n",
       "      <td>-0.069433</td>\n",
       "      <td>0.194154</td>\n",
       "      <td>-0.144892</td>\n",
       "      <td>0.299365</td>\n",
       "      <td>-0.052432</td>\n",
       "      <td>-0.03705</td>\n",
       "      <td>-0.078784</td>\n",
       "      <td>-0.058641</td>\n",
       "      <td>-0.058641</td>\n",
       "      <td>-0.302075</td>\n",
       "      <td>-0.045392</td>\n",
       "      <td>0.390447</td>\n",
       "      <td>-0.052432</td>\n",
       "      <td>-0.091066</td>\n",
       "      <td>-0.117892</td>\n",
       "      <td>0.467847</td>\n",
       "      <td>-0.30611</td>\n",
       "    </tr>\n",
       "    <tr>\n",
       "      <th>1</th>\n",
       "      <td>-0.873090</td>\n",
       "      <td>0.460330</td>\n",
       "      <td>-0.091895</td>\n",
       "      <td>-0.072372</td>\n",
       "      <td>2.179252</td>\n",
       "      <td>0.156540</td>\n",
       "      <td>-0.430226</td>\n",
       "      <td>-0.571009</td>\n",
       "      <td>1.172460</td>\n",
       "      <td>-0.287744</td>\n",
       "      <td>-0.641887</td>\n",
       "      <td>0.466648</td>\n",
       "      <td>-0.795608</td>\n",
       "      <td>-0.120284</td>\n",
       "      <td>-0.482725</td>\n",
       "      <td>-0.819269</td>\n",
       "      <td>3.947370</td>\n",
       "      <td>0.789052</td>\n",
       "      <td>-0.760912</td>\n",
       "      <td>0.163837</td>\n",
       "      <td>-0.211529</td>\n",
       "      <td>0.599824</td>\n",
       "      <td>0.311027</td>\n",
       "      <td>-1.304003</td>\n",
       "      <td>0.848746</td>\n",
       "      <td>0.398908</td>\n",
       "      <td>-0.155559</td>\n",
       "      <td>-0.11638</td>\n",
       "      <td>-0.270308</td>\n",
       "      <td>-0.068715</td>\n",
       "      <td>-0.087718</td>\n",
       "      <td>-0.489027</td>\n",
       "      <td>-0.614137</td>\n",
       "      <td>-0.215936</td>\n",
       "      <td>-0.1053</td>\n",
       "      <td>0.518359</td>\n",
       "      <td>-0.419124</td>\n",
       "      <td>0.06426</td>\n",
       "      <td>-0.170041</td>\n",
       "      <td>-0.083074</td>\n",
       "      <td>0.760923</td>\n",
       "      <td>-0.188378</td>\n",
       "      <td>-0.159056</td>\n",
       "      <td>0.337254</td>\n",
       "      <td>-0.026189</td>\n",
       "      <td>-0.26242</td>\n",
       "      <td>5.481109</td>\n",
       "      <td>-0.052432</td>\n",
       "      <td>-1.604986</td>\n",
       "      <td>-0.215936</td>\n",
       "      <td>...</td>\n",
       "      <td>0.263909</td>\n",
       "      <td>-0.137313</td>\n",
       "      <td>-0.045392</td>\n",
       "      <td>-0.026189</td>\n",
       "      <td>0.30611</td>\n",
       "      <td>-0.165725</td>\n",
       "      <td>-0.819298</td>\n",
       "      <td>0.993850</td>\n",
       "      <td>-0.147339</td>\n",
       "      <td>-0.154466</td>\n",
       "      <td>-0.026189</td>\n",
       "      <td>-0.098431</td>\n",
       "      <td>-0.058641</td>\n",
       "      <td>-0.026189</td>\n",
       "      <td>0.271263</td>\n",
       "      <td>-0.152124</td>\n",
       "      <td>-1.655604</td>\n",
       "      <td>-0.117892</td>\n",
       "      <td>1.913463</td>\n",
       "      <td>-0.026189</td>\n",
       "      <td>0.731976</td>\n",
       "      <td>-0.114867</td>\n",
       "      <td>-0.253351</td>\n",
       "      <td>-0.078784</td>\n",
       "      <td>-0.600839</td>\n",
       "      <td>1.567592</td>\n",
       "      <td>-0.942046</td>\n",
       "      <td>-0.184441</td>\n",
       "      <td>-0.098431</td>\n",
       "      <td>-0.045392</td>\n",
       "      <td>0.221101</td>\n",
       "      <td>-0.156776</td>\n",
       "      <td>-0.078784</td>\n",
       "      <td>-0.069433</td>\n",
       "      <td>0.194154</td>\n",
       "      <td>-0.144892</td>\n",
       "      <td>0.299365</td>\n",
       "      <td>-0.052432</td>\n",
       "      <td>-0.03705</td>\n",
       "      <td>-0.078784</td>\n",
       "      <td>-0.058641</td>\n",
       "      <td>-0.058641</td>\n",
       "      <td>-0.302075</td>\n",
       "      <td>-0.045392</td>\n",
       "      <td>0.390447</td>\n",
       "      <td>-0.052432</td>\n",
       "      <td>-0.091066</td>\n",
       "      <td>-0.117892</td>\n",
       "      <td>0.467847</td>\n",
       "      <td>-0.30611</td>\n",
       "    </tr>\n",
       "    <tr>\n",
       "      <th>2</th>\n",
       "      <td>0.072771</td>\n",
       "      <td>-0.084449</td>\n",
       "      <td>0.073415</td>\n",
       "      <td>0.650852</td>\n",
       "      <td>-0.516787</td>\n",
       "      <td>0.984287</td>\n",
       "      <td>0.829534</td>\n",
       "      <td>0.325449</td>\n",
       "      <td>0.093479</td>\n",
       "      <td>-0.287744</td>\n",
       "      <td>-0.302307</td>\n",
       "      <td>-0.312973</td>\n",
       "      <td>1.188656</td>\n",
       "      <td>-0.120284</td>\n",
       "      <td>0.514541</td>\n",
       "      <td>1.108656</td>\n",
       "      <td>-0.241148</td>\n",
       "      <td>0.789052</td>\n",
       "      <td>1.228641</td>\n",
       "      <td>0.163837</td>\n",
       "      <td>-0.211529</td>\n",
       "      <td>0.599824</td>\n",
       "      <td>0.311027</td>\n",
       "      <td>-1.200715</td>\n",
       "      <td>-0.536161</td>\n",
       "      <td>-0.233179</td>\n",
       "      <td>-1.154567</td>\n",
       "      <td>-0.11638</td>\n",
       "      <td>-0.270308</td>\n",
       "      <td>-0.068715</td>\n",
       "      <td>-0.087718</td>\n",
       "      <td>0.990475</td>\n",
       "      <td>0.138826</td>\n",
       "      <td>-0.215936</td>\n",
       "      <td>-0.1053</td>\n",
       "      <td>0.518359</td>\n",
       "      <td>-0.419124</td>\n",
       "      <td>0.06426</td>\n",
       "      <td>-0.170041</td>\n",
       "      <td>-0.083074</td>\n",
       "      <td>-1.314193</td>\n",
       "      <td>-0.188378</td>\n",
       "      <td>-0.159056</td>\n",
       "      <td>0.337254</td>\n",
       "      <td>-0.026189</td>\n",
       "      <td>-0.26242</td>\n",
       "      <td>-0.182445</td>\n",
       "      <td>-0.052432</td>\n",
       "      <td>0.623058</td>\n",
       "      <td>-0.215936</td>\n",
       "      <td>...</td>\n",
       "      <td>0.263909</td>\n",
       "      <td>-0.137313</td>\n",
       "      <td>-0.045392</td>\n",
       "      <td>-0.026189</td>\n",
       "      <td>0.30611</td>\n",
       "      <td>-0.165725</td>\n",
       "      <td>1.220558</td>\n",
       "      <td>-1.006188</td>\n",
       "      <td>-0.147339</td>\n",
       "      <td>-0.154466</td>\n",
       "      <td>-0.026189</td>\n",
       "      <td>-0.098431</td>\n",
       "      <td>-0.058641</td>\n",
       "      <td>-0.026189</td>\n",
       "      <td>0.271263</td>\n",
       "      <td>-0.152124</td>\n",
       "      <td>-1.655604</td>\n",
       "      <td>-0.117892</td>\n",
       "      <td>1.913463</td>\n",
       "      <td>-0.026189</td>\n",
       "      <td>0.731976</td>\n",
       "      <td>-0.114867</td>\n",
       "      <td>-0.253351</td>\n",
       "      <td>-0.078784</td>\n",
       "      <td>-0.600839</td>\n",
       "      <td>1.567592</td>\n",
       "      <td>-0.942046</td>\n",
       "      <td>-0.184441</td>\n",
       "      <td>-0.098431</td>\n",
       "      <td>-0.045392</td>\n",
       "      <td>0.221101</td>\n",
       "      <td>-0.156776</td>\n",
       "      <td>-0.078784</td>\n",
       "      <td>-0.069433</td>\n",
       "      <td>0.194154</td>\n",
       "      <td>-0.144892</td>\n",
       "      <td>0.299365</td>\n",
       "      <td>-0.052432</td>\n",
       "      <td>-0.03705</td>\n",
       "      <td>-0.078784</td>\n",
       "      <td>-0.058641</td>\n",
       "      <td>-0.058641</td>\n",
       "      <td>-0.302075</td>\n",
       "      <td>-0.045392</td>\n",
       "      <td>0.390447</td>\n",
       "      <td>-0.052432</td>\n",
       "      <td>-0.091066</td>\n",
       "      <td>-0.117892</td>\n",
       "      <td>0.467847</td>\n",
       "      <td>-0.30611</td>\n",
       "    </tr>\n",
       "    <tr>\n",
       "      <th>3</th>\n",
       "      <td>0.309236</td>\n",
       "      <td>-0.447635</td>\n",
       "      <td>-0.096904</td>\n",
       "      <td>0.650852</td>\n",
       "      <td>-0.516787</td>\n",
       "      <td>-1.863163</td>\n",
       "      <td>-0.720940</td>\n",
       "      <td>-0.571009</td>\n",
       "      <td>-0.498645</td>\n",
       "      <td>-0.287744</td>\n",
       "      <td>-0.062338</td>\n",
       "      <td>-0.686827</td>\n",
       "      <td>0.936613</td>\n",
       "      <td>-0.120284</td>\n",
       "      <td>0.383221</td>\n",
       "      <td>1.108656</td>\n",
       "      <td>-0.241148</td>\n",
       "      <td>-1.026763</td>\n",
       "      <td>-0.760912</td>\n",
       "      <td>0.163837</td>\n",
       "      <td>-0.211529</td>\n",
       "      <td>0.599824</td>\n",
       "      <td>1.649634</td>\n",
       "      <td>1.073435</td>\n",
       "      <td>-0.369268</td>\n",
       "      <td>-0.113137</td>\n",
       "      <td>0.592534</td>\n",
       "      <td>-0.11638</td>\n",
       "      <td>-0.270308</td>\n",
       "      <td>-0.068715</td>\n",
       "      <td>-0.087718</td>\n",
       "      <td>-1.598653</td>\n",
       "      <td>-1.367100</td>\n",
       "      <td>-0.215936</td>\n",
       "      <td>-0.1053</td>\n",
       "      <td>0.518359</td>\n",
       "      <td>-0.419124</td>\n",
       "      <td>0.06426</td>\n",
       "      <td>-0.170041</td>\n",
       "      <td>-0.083074</td>\n",
       "      <td>-1.314193</td>\n",
       "      <td>-0.188378</td>\n",
       "      <td>-0.159056</td>\n",
       "      <td>0.337254</td>\n",
       "      <td>-0.026189</td>\n",
       "      <td>-0.26242</td>\n",
       "      <td>-0.182445</td>\n",
       "      <td>-0.052432</td>\n",
       "      <td>-1.604986</td>\n",
       "      <td>-0.215936</td>\n",
       "      <td>...</td>\n",
       "      <td>0.263909</td>\n",
       "      <td>-0.137313</td>\n",
       "      <td>-0.045392</td>\n",
       "      <td>-0.026189</td>\n",
       "      <td>0.30611</td>\n",
       "      <td>-0.165725</td>\n",
       "      <td>1.220558</td>\n",
       "      <td>-1.006188</td>\n",
       "      <td>-0.147339</td>\n",
       "      <td>-0.154466</td>\n",
       "      <td>-0.026189</td>\n",
       "      <td>-0.098431</td>\n",
       "      <td>-0.058641</td>\n",
       "      <td>-0.026189</td>\n",
       "      <td>0.271263</td>\n",
       "      <td>-0.152124</td>\n",
       "      <td>0.604009</td>\n",
       "      <td>-0.117892</td>\n",
       "      <td>-0.522613</td>\n",
       "      <td>-0.026189</td>\n",
       "      <td>-1.366164</td>\n",
       "      <td>-0.114867</td>\n",
       "      <td>-0.253351</td>\n",
       "      <td>-0.078784</td>\n",
       "      <td>1.664339</td>\n",
       "      <td>-0.637921</td>\n",
       "      <td>1.061519</td>\n",
       "      <td>-0.184441</td>\n",
       "      <td>-0.098431</td>\n",
       "      <td>-0.045392</td>\n",
       "      <td>0.221101</td>\n",
       "      <td>-0.156776</td>\n",
       "      <td>-0.078784</td>\n",
       "      <td>-0.069433</td>\n",
       "      <td>0.194154</td>\n",
       "      <td>-0.144892</td>\n",
       "      <td>0.299365</td>\n",
       "      <td>-0.052432</td>\n",
       "      <td>-0.03705</td>\n",
       "      <td>-0.078784</td>\n",
       "      <td>-0.058641</td>\n",
       "      <td>-0.058641</td>\n",
       "      <td>-0.302075</td>\n",
       "      <td>-0.045392</td>\n",
       "      <td>0.390447</td>\n",
       "      <td>-0.052432</td>\n",
       "      <td>-0.091066</td>\n",
       "      <td>-0.117892</td>\n",
       "      <td>-2.137452</td>\n",
       "      <td>-0.30611</td>\n",
       "    </tr>\n",
       "    <tr>\n",
       "      <th>4</th>\n",
       "      <td>0.072771</td>\n",
       "      <td>0.641924</td>\n",
       "      <td>0.374980</td>\n",
       "      <td>1.374077</td>\n",
       "      <td>-0.516787</td>\n",
       "      <td>0.951177</td>\n",
       "      <td>0.732629</td>\n",
       "      <td>1.365783</td>\n",
       "      <td>0.464105</td>\n",
       "      <td>-0.287744</td>\n",
       "      <td>-0.175531</td>\n",
       "      <td>0.199936</td>\n",
       "      <td>1.617129</td>\n",
       "      <td>-0.120284</td>\n",
       "      <td>1.298651</td>\n",
       "      <td>1.108656</td>\n",
       "      <td>-0.241148</td>\n",
       "      <td>0.789052</td>\n",
       "      <td>1.228641</td>\n",
       "      <td>1.389672</td>\n",
       "      <td>-0.211529</td>\n",
       "      <td>0.599824</td>\n",
       "      <td>1.649634</td>\n",
       "      <td>0.464989</td>\n",
       "      <td>-0.830770</td>\n",
       "      <td>-0.401168</td>\n",
       "      <td>-0.045513</td>\n",
       "      <td>-0.11638</td>\n",
       "      <td>-0.270308</td>\n",
       "      <td>-0.068715</td>\n",
       "      <td>-0.087718</td>\n",
       "      <td>2.100101</td>\n",
       "      <td>0.138826</td>\n",
       "      <td>-0.215936</td>\n",
       "      <td>-0.1053</td>\n",
       "      <td>0.518359</td>\n",
       "      <td>-0.419124</td>\n",
       "      <td>0.06426</td>\n",
       "      <td>-0.170041</td>\n",
       "      <td>-0.083074</td>\n",
       "      <td>-1.314193</td>\n",
       "      <td>-0.188378</td>\n",
       "      <td>-0.159056</td>\n",
       "      <td>0.337254</td>\n",
       "      <td>-0.026189</td>\n",
       "      <td>-0.26242</td>\n",
       "      <td>5.481109</td>\n",
       "      <td>-0.052432</td>\n",
       "      <td>-1.604986</td>\n",
       "      <td>-0.215936</td>\n",
       "      <td>...</td>\n",
       "      <td>0.263909</td>\n",
       "      <td>-0.137313</td>\n",
       "      <td>-0.045392</td>\n",
       "      <td>-0.026189</td>\n",
       "      <td>0.30611</td>\n",
       "      <td>-0.165725</td>\n",
       "      <td>1.220558</td>\n",
       "      <td>-1.006188</td>\n",
       "      <td>-0.147339</td>\n",
       "      <td>-0.154466</td>\n",
       "      <td>-0.026189</td>\n",
       "      <td>-0.098431</td>\n",
       "      <td>-0.058641</td>\n",
       "      <td>-0.026189</td>\n",
       "      <td>0.271263</td>\n",
       "      <td>-0.152124</td>\n",
       "      <td>-1.655604</td>\n",
       "      <td>-0.117892</td>\n",
       "      <td>1.913463</td>\n",
       "      <td>-0.026189</td>\n",
       "      <td>0.731976</td>\n",
       "      <td>-0.114867</td>\n",
       "      <td>-0.253351</td>\n",
       "      <td>-0.078784</td>\n",
       "      <td>-0.600839</td>\n",
       "      <td>1.567592</td>\n",
       "      <td>-0.942046</td>\n",
       "      <td>-0.184441</td>\n",
       "      <td>-0.098431</td>\n",
       "      <td>-0.045392</td>\n",
       "      <td>0.221101</td>\n",
       "      <td>-0.156776</td>\n",
       "      <td>-0.078784</td>\n",
       "      <td>-0.069433</td>\n",
       "      <td>0.194154</td>\n",
       "      <td>-0.144892</td>\n",
       "      <td>0.299365</td>\n",
       "      <td>-0.052432</td>\n",
       "      <td>-0.03705</td>\n",
       "      <td>-0.078784</td>\n",
       "      <td>-0.058641</td>\n",
       "      <td>-0.058641</td>\n",
       "      <td>-0.302075</td>\n",
       "      <td>-0.045392</td>\n",
       "      <td>0.390447</td>\n",
       "      <td>-0.052432</td>\n",
       "      <td>-0.091066</td>\n",
       "      <td>-0.117892</td>\n",
       "      <td>0.467847</td>\n",
       "      <td>-0.30611</td>\n",
       "    </tr>\n",
       "  </tbody>\n",
       "</table>\n",
       "<p>5 rows × 235 columns</p>\n",
       "</div>"
      ],
      "text/plain": [
       "   Building_Class  Lot_Extent  Lot_Size  Overall_Material  House_Condition  \\\n",
       "0  0.072771       -0.220644   -0.207111  0.650852         -0.516787          \n",
       "1 -0.873090        0.460330   -0.091895 -0.072372          2.179252          \n",
       "2  0.072771       -0.084449    0.073415  0.650852         -0.516787          \n",
       "3  0.309236       -0.447635   -0.096904  0.650852         -0.516787          \n",
       "4  0.072771        0.641924    0.374980  1.374077         -0.516787          \n",
       "\n",
       "   Construction_Year  Remodel_Year  Brick_Veneer_Area  BsmtFinSF1  BsmtFinSF2  \\\n",
       "0  1.050507           0.877986      0.513594           0.575950   -0.287744     \n",
       "1  0.156540          -0.430226     -0.571009           1.172460   -0.287744     \n",
       "2  0.984287           0.829534      0.325449           0.093479   -0.287744     \n",
       "3 -1.863163          -0.720940     -0.571009          -0.498645   -0.287744     \n",
       "4  0.951177           0.732629      1.365783           0.464105   -0.287744     \n",
       "\n",
       "   BsmtUnfSF  Total_Basement_Area  Second_Floor_Area  LowQualFinSF  \\\n",
       "0 -0.945245  -0.458867             1.161160          -0.120284       \n",
       "1 -0.641887   0.466648            -0.795608          -0.120284       \n",
       "2 -0.302307  -0.312973             1.188656          -0.120284       \n",
       "3 -0.062338  -0.686827             0.936613          -0.120284       \n",
       "4 -0.175531   0.199936             1.617129          -0.120284       \n",
       "\n",
       "   Grade_Living_Area  Underground_Full_Bathroom  Underground_Half_Bathroom  \\\n",
       "0  0.369899           1.108656                  -0.241148                    \n",
       "1 -0.482725          -0.819269                   3.947370                    \n",
       "2  0.514541           1.108656                  -0.241148                    \n",
       "3  0.383221           1.108656                  -0.241148                    \n",
       "4  1.298651           1.108656                  -0.241148                    \n",
       "\n",
       "   Full_Bathroom_Above_Grade  Half_Bathroom_Above_Grade  Bedroom_Above_Grade  \\\n",
       "0  0.789052                   1.228641                   0.163837              \n",
       "1  0.789052                  -0.760912                   0.163837              \n",
       "2  0.789052                   1.228641                   0.163837              \n",
       "3 -1.026763                  -0.760912                   0.163837              \n",
       "4  0.789052                   1.228641                   1.389672              \n",
       "\n",
       "   Kitchen_Above_Grade  Fireplaces  Garage_Size  Garage_Area  W_Deck_Area  \\\n",
       "0 -0.211529            -0.951848    0.311027     2.919606     0.567296      \n",
       "1 -0.211529             0.599824    0.311027    -1.304003     0.848746      \n",
       "2 -0.211529             0.599824    0.311027    -1.200715    -0.536161      \n",
       "3 -0.211529             0.599824    1.649634     1.073435    -0.369268      \n",
       "4 -0.211529             0.599824    1.649634     0.464989    -0.830770      \n",
       "\n",
       "   Open_Lobby_Area  Enclosed_Lobby_Area  Three_Season_Lobby_Area  \\\n",
       "0  0.322995        -0.069169            -0.11638                   \n",
       "1  0.398908        -0.155559            -0.11638                   \n",
       "2 -0.233179        -1.154567            -0.11638                   \n",
       "3 -0.113137         0.592534            -0.11638                   \n",
       "4 -0.401168        -0.045513            -0.11638                   \n",
       "\n",
       "   Screen_Lobby_Area  Pool_Area  Miscellaneous_Value  Month_Sold  Year_Sold  \\\n",
       "0 -0.270308          -0.068715  -0.087718            -1.598653    0.138826    \n",
       "1 -0.270308          -0.068715  -0.087718            -0.489027   -0.614137    \n",
       "2 -0.270308          -0.068715  -0.087718             0.990475    0.138826    \n",
       "3 -0.270308          -0.068715  -0.087718            -1.598653   -1.367100    \n",
       "4 -0.270308          -0.068715  -0.087718             2.100101    0.138826    \n",
       "\n",
       "   Zoning_Class_FVR  Zoning_Class_RHD  Zoning_Class_RLD  Zoning_Class_RMD  \\\n",
       "0 -0.215936         -0.1053            0.518359         -0.419124           \n",
       "1 -0.215936         -0.1053            0.518359         -0.419124           \n",
       "2 -0.215936         -0.1053            0.518359         -0.419124           \n",
       "3 -0.215936         -0.1053            0.518359         -0.419124           \n",
       "4 -0.215936         -0.1053            0.518359         -0.419124           \n",
       "\n",
       "   Road_Type_Paved  Property_Shape_IR2  Property_Shape_IR3  \\\n",
       "0  0.06426         -0.170041           -0.083074             \n",
       "1  0.06426         -0.170041           -0.083074             \n",
       "2  0.06426         -0.170041           -0.083074             \n",
       "3  0.06426         -0.170041           -0.083074             \n",
       "4  0.06426         -0.170041           -0.083074             \n",
       "\n",
       "   Property_Shape_Reg  Land_Outline_HLS  Land_Outline_Low  Land_Outline_Lvl  \\\n",
       "0  0.760923           -0.188378         -0.159056          0.337254           \n",
       "1  0.760923           -0.188378         -0.159056          0.337254           \n",
       "2 -1.314193           -0.188378         -0.159056          0.337254           \n",
       "3 -1.314193           -0.188378         -0.159056          0.337254           \n",
       "4 -1.314193           -0.188378         -0.159056          0.337254           \n",
       "\n",
       "   Utility_Type_NoSeWa  Lot_Configuration_CulDSac  Lot_Configuration_FR2P  \\\n",
       "0 -0.026189            -0.26242                   -0.182445                 \n",
       "1 -0.026189            -0.26242                    5.481109                 \n",
       "2 -0.026189            -0.26242                   -0.182445                 \n",
       "3 -0.026189            -0.26242                   -0.182445                 \n",
       "4 -0.026189            -0.26242                    5.481109                 \n",
       "\n",
       "   Lot_Configuration_FR3P  Lot_Configuration_I  Property_Slope_MS  ...  \\\n",
       "0 -0.052432                0.623058            -0.215936           ...   \n",
       "1 -0.052432               -1.604986            -0.215936           ...   \n",
       "2 -0.052432                0.623058            -0.215936           ...   \n",
       "3 -0.052432               -1.604986            -0.215936           ...   \n",
       "4 -0.052432               -1.604986            -0.215936           ...   \n",
       "\n",
       "   Air_Conditioning_Y  Electrical_System_FuseF  Electrical_System_FuseP  \\\n",
       "0  0.263909           -0.137313                -0.045392                  \n",
       "1  0.263909           -0.137313                -0.045392                  \n",
       "2  0.263909           -0.137313                -0.045392                  \n",
       "3  0.263909           -0.137313                -0.045392                  \n",
       "4  0.263909           -0.137313                -0.045392                  \n",
       "\n",
       "   Electrical_System_Mix  Electrical_System_SBrkr  Kitchen_Quality_Fa  \\\n",
       "0 -0.026189               0.30611                 -0.165725             \n",
       "1 -0.026189               0.30611                 -0.165725             \n",
       "2 -0.026189               0.30611                 -0.165725             \n",
       "3 -0.026189               0.30611                 -0.165725             \n",
       "4 -0.026189               0.30611                 -0.165725             \n",
       "\n",
       "   Kitchen_Quality_Gd  Kitchen_Quality_TA  Functional_Rate_MD1  \\\n",
       "0  1.220558           -1.006188           -0.147339              \n",
       "1 -0.819298            0.993850           -0.147339              \n",
       "2  1.220558           -1.006188           -0.147339              \n",
       "3  1.220558           -1.006188           -0.147339              \n",
       "4  1.220558           -1.006188           -0.147339              \n",
       "\n",
       "   Functional_Rate_MD2  Functional_Rate_MS  Functional_Rate_MajD1  \\\n",
       "0 -0.154466            -0.026189           -0.098431                \n",
       "1 -0.154466            -0.026189           -0.098431                \n",
       "2 -0.154466            -0.026189           -0.098431                \n",
       "3 -0.154466            -0.026189           -0.098431                \n",
       "4 -0.154466            -0.026189           -0.098431                \n",
       "\n",
       "   Functional_Rate_MajD2  Functional_Rate_SD  Functional_Rate_TF  \\\n",
       "0 -0.058641              -0.026189            0.271263             \n",
       "1 -0.058641              -0.026189            0.271263             \n",
       "2 -0.058641              -0.026189            0.271263             \n",
       "3 -0.058641              -0.026189            0.271263             \n",
       "4 -0.058641              -0.026189            0.271263             \n",
       "\n",
       "   Fireplace_Quality_Fa  Fireplace_Quality_Gd  Fireplace_Quality_Po  \\\n",
       "0 -0.152124              0.604009             -0.117892               \n",
       "1 -0.152124             -1.655604             -0.117892               \n",
       "2 -0.152124             -1.655604             -0.117892               \n",
       "3 -0.152124              0.604009             -0.117892               \n",
       "4 -0.152124             -1.655604             -0.117892               \n",
       "\n",
       "   Fireplace_Quality_TA  Garage_2Types  Garage_Attchd  Garage_Basment  \\\n",
       "0 -0.522613             -0.026189       0.731976      -0.114867         \n",
       "1  1.913463             -0.026189       0.731976      -0.114867         \n",
       "2  1.913463             -0.026189       0.731976      -0.114867         \n",
       "3 -0.522613             -0.026189      -1.366164      -0.114867         \n",
       "4  1.913463             -0.026189       0.731976      -0.114867         \n",
       "\n",
       "   Garage_BuiltIn  Garage_CarPort  Garage_Detchd  Garage_Finish_Year_RFn  \\\n",
       "0 -0.253351       -0.078784       -0.600839       1.567592                 \n",
       "1 -0.253351       -0.078784       -0.600839       1.567592                 \n",
       "2 -0.253351       -0.078784       -0.600839       1.567592                 \n",
       "3 -0.253351       -0.078784        1.664339      -0.637921                 \n",
       "4 -0.253351       -0.078784       -0.600839       1.567592                 \n",
       "\n",
       "   Garage_Finish_Year_Unf  Garage_Quality_Fa  Garage_Quality_Gd  \\\n",
       "0 -0.942046               -0.184441          -0.098431            \n",
       "1 -0.942046               -0.184441          -0.098431            \n",
       "2 -0.942046               -0.184441          -0.098431            \n",
       "3  1.061519               -0.184441          -0.098431            \n",
       "4 -0.942046               -0.184441          -0.098431            \n",
       "\n",
       "   Garage_Quality_Po  Garage_Quality_TA  Garage_Condition_Fa  \\\n",
       "0 -0.045392           0.221101          -0.156776              \n",
       "1 -0.045392           0.221101          -0.156776              \n",
       "2 -0.045392           0.221101          -0.156776              \n",
       "3 -0.045392           0.221101          -0.156776              \n",
       "4 -0.045392           0.221101          -0.156776              \n",
       "\n",
       "   Garage_Condition_Gd  Garage_Condition_Po  Garage_Condition_TA  \\\n",
       "0 -0.078784            -0.069433             0.194154              \n",
       "1 -0.078784            -0.069433             0.194154              \n",
       "2 -0.078784            -0.069433             0.194154              \n",
       "3 -0.078784            -0.069433             0.194154              \n",
       "4 -0.078784            -0.069433             0.194154              \n",
       "\n",
       "   Pavedd_Drive_P  Pavedd_Drive_Y  Sale_Type_CWD  Sale_Type_Con  \\\n",
       "0 -0.144892        0.299365       -0.052432      -0.03705         \n",
       "1 -0.144892        0.299365       -0.052432      -0.03705         \n",
       "2 -0.144892        0.299365       -0.052432      -0.03705         \n",
       "3 -0.144892        0.299365       -0.052432      -0.03705         \n",
       "4 -0.144892        0.299365       -0.052432      -0.03705         \n",
       "\n",
       "   Sale_Type_ConLD  Sale_Type_ConLI  Sale_Type_ConLw  Sale_Type_New  \\\n",
       "0 -0.078784        -0.058641        -0.058641        -0.302075        \n",
       "1 -0.078784        -0.058641        -0.058641        -0.302075        \n",
       "2 -0.078784        -0.058641        -0.058641        -0.302075        \n",
       "3 -0.078784        -0.058641        -0.058641        -0.302075        \n",
       "4 -0.078784        -0.058641        -0.058641        -0.302075        \n",
       "\n",
       "   Sale_Type_Oth  Sale_Type_WD  Sale_Condition_AdjLand  Sale_Condition_Alloca  \\\n",
       "0 -0.045392       0.390447     -0.052432               -0.091066                \n",
       "1 -0.045392       0.390447     -0.052432               -0.091066                \n",
       "2 -0.045392       0.390447     -0.052432               -0.091066                \n",
       "3 -0.045392       0.390447     -0.052432               -0.091066                \n",
       "4 -0.045392       0.390447     -0.052432               -0.091066                \n",
       "\n",
       "   Sale_Condition_Family  Sale_Condition_Normal  Sale_Condition_Partial  \n",
       "0 -0.117892               0.467847              -0.30611                 \n",
       "1 -0.117892               0.467847              -0.30611                 \n",
       "2 -0.117892               0.467847              -0.30611                 \n",
       "3 -0.117892              -2.137452              -0.30611                 \n",
       "4 -0.117892               0.467847              -0.30611                 \n",
       "\n",
       "[5 rows x 235 columns]"
      ]
     },
     "execution_count": 387,
     "metadata": {},
     "output_type": "execute_result"
    }
   ],
   "source": [
    "# forming dataframe after standardization\n",
    "df_property_price_sd= pd.DataFrame(data_train)\n",
    "df_property_price_sd.columns = feature_cols\n",
    "df_property_price_sd.head()"
   ]
  },
  {
   "cell_type": "markdown",
   "metadata": {},
   "source": [
    " <a id=section503></a>\n",
    " ## 5.3 Seperating independant and target variables."
   ]
  },
  {
   "cell_type": "code",
   "execution_count": 388,
   "metadata": {},
   "outputs": [],
   "source": [
    "X = df_property_price_sd[feature_cols]\n",
    "y = df_property_price['Sale_Price']"
   ]
  },
  {
   "cell_type": "markdown",
   "metadata": {
    "colab_type": "text",
    "id": "rHtg7_BTa2XO"
   },
   "source": [
    " <a id=section6></a>\n",
    " # 6. Ensemble Modelling and Prediction\n",
    " \n",
    " Ensemble modeling is a process where multiple diverse models are created to predict an outcome, either by using many different modeling algorithms or using different training data sets. The ensemble model then aggregates the prediction of each base model and results in once final prediction for the unseen data."
   ]
  },
  {
   "cell_type": "markdown",
   "metadata": {},
   "source": [
    " <a id=section601></a>\n",
    " ## 6.1 Linear Regression\n",
    " \n",
    " \n",
    "Linear regression is a basic and commonly used type of predictive analysis.  The overall idea of regression is to examine two things: \n",
    "\n",
    "1. Does a set of predictor variables do a good job in predicting an outcome (dependent) variable?  \n",
    "2. Which variables in particular are significant predictors of the outcome variable, and in what way do they–indicated by the magnitude and sign of the beta estimates–impact the outcome variable?  \n",
    "\n",
    "These regression estimates are used to explain the relationship between one dependent variable and one or more independent variables.  The simplest form of the regression equation with one dependent and one independent variable is defined by the formula y = c + b*x, where y = estimated dependent variable score, c = constant, b = regression coefficient, and x = score on the independent variable.\n"
   ]
  },
  {
   "cell_type": "markdown",
   "metadata": {},
   "source": [
    " <a id=section60101></a>\n",
    "### 6.1.1  Checking assumptions of Linear Regression"
   ]
  },
  {
   "cell_type": "markdown",
   "metadata": {
    "colab_type": "text",
    "id": "T-Ry-JqGxLkH"
   },
   "source": [
    "#### a. Target variable should be normally distributed\n"
   ]
  },
  {
   "cell_type": "code",
   "execution_count": 389,
   "metadata": {
    "colab": {
     "base_uri": "https://localhost:8080/",
     "height": 309
    },
    "colab_type": "code",
    "id": "y7BQ2SyKxR7X",
    "outputId": "66e2d772-fbc5-4da6-f8fc-300071299101"
   },
   "outputs": [
    {
     "data": {
      "text/plain": [
       "<matplotlib.axes._subplots.AxesSubplot at 0x1faadf4f978>"
      ]
     },
     "execution_count": 389,
     "metadata": {},
     "output_type": "execute_result"
    },
    {
     "data": {
      "image/png": "[encoded data removed]",
      "text/plain": [
       "<Figure size 432x288 with 1 Axes>"
      ]
     },
     "metadata": {},
     "output_type": "display_data"
    }
   ],
   "source": [
    "house_price = y\n",
    "sns.distplot(house_price, color=\"b\")"
   ]
  },
  {
   "cell_type": "markdown",
   "metadata": {},
   "source": [
    "**Observations**\n",
    "\n",
    "1. We observe target variable i.e; Sale_Price is not normally distributed\n",
    "2. Lets apply log transformation and check."
   ]
  },
  {
   "cell_type": "code",
   "execution_count": 390,
   "metadata": {
    "colab": {
     "base_uri": "https://localhost:8080/",
     "height": 309
    },
    "colab_type": "code",
    "id": "aes3NCgP0rJa",
    "outputId": "421c35ee-6196-4c6f-f35b-f5f05099bc00"
   },
   "outputs": [
    {
     "data": {
      "text/plain": [
       "<matplotlib.axes._subplots.AxesSubplot at 0x1faad88bdd8>"
      ]
     },
     "execution_count": 390,
     "metadata": {},
     "output_type": "execute_result"
    },
    {
     "data": {
      "image/png": "[encoded data removed]",
      "text/plain": [
       "<Figure size 432x288 with 1 Axes>"
      ]
     },
     "metadata": {},
     "output_type": "display_data"
    }
   ],
   "source": [
    "house_price_log= np.log(df_property_price['Sale_Price'])\n",
    "sns.distplot(house_price_log, color=\"b\")"
   ]
  },
  {
   "cell_type": "markdown",
   "metadata": {},
   "source": [
    "**Observations:** Log transformation worked. Lets check another assumption."
   ]
  },
  {
   "cell_type": "code",
   "execution_count": 391,
   "metadata": {
    "colab": {
     "base_uri": "https://localhost:8080/",
     "height": 309
    },
    "colab_type": "code",
    "id": "JV-8yPAR4Bwn",
    "outputId": "afc6beb4-a460-4e93-940b-6afa5a6b6259"
   },
   "outputs": [],
   "source": [
    "y_lr = pd.DataFrame({'Sale_Price':house_price_log})"
   ]
  },
  {
   "cell_type": "markdown",
   "metadata": {
    "colab_type": "text",
    "id": "ZXI2i13b5NmP"
   },
   "source": [
    "#### b. Independant variables shouldn't be correlated"
   ]
  },
  {
   "cell_type": "markdown",
   "metadata": {
    "colab": {
     "base_uri": "https://localhost:8080/",
     "height": 34
    },
    "colab_type": "code",
    "id": "JAywvqIsw5go",
    "outputId": "9ed409e8-9118-4920-943c-1e7954d86d20"
   },
   "source": [
    "**NOTE:**\n",
    "\n",
    "Above assumption is taken care in [Remove highly correlated columns](#section402). Moving forward."
   ]
  },
  {
   "cell_type": "markdown",
   "metadata": {
    "colab_type": "text",
    "id": "lSmrkLSJ5XyV"
   },
   "source": [
    "#### c.  Independant variables and target variable should have linear relation"
   ]
  },
  {
   "cell_type": "code",
   "execution_count": 392,
   "metadata": {
    "colab": {},
    "colab_type": "code",
    "id": "r_7RUtsw5sdM"
   },
   "outputs": [
    {
     "data": {
      "text/plain": [
       "(1459, 100)"
      ]
     },
     "execution_count": 392,
     "metadata": {},
     "output_type": "execute_result"
    }
   ],
   "source": [
    "#Selecting feature columns\n",
    "feature_cols = list(df_property_price.columns)\n",
    "feature_cols.remove('Sale_Price')\n",
    "cols_to_drop = list()\n",
    "\n",
    "# iterating through feature columns and collecting all columns \n",
    "# who have less than 0.1 correlation with target variable\n",
    "for i in range(0, len(feature_cols)):\n",
    "    corr_matrix = df_property_price[['Sale_Price', feature_cols[i]]].corr().abs()\n",
    "    if(corr_matrix.iloc[0][1] < 0.1):\n",
    "        cols_to_drop.append(feature_cols[i])\n",
    "\n",
    "#dropping all uncorrelated columns\n",
    "X.drop(cols_to_drop, axis = 1, inplace=True)\n",
    "X.shape"
   ]
  },
  {
   "cell_type": "markdown",
   "metadata": {},
   "source": [
    "**NOTE:**\n",
    "\n",
    "Dropped all columns who have less than **0.1 correlation** with target variable."
   ]
  },
  {
   "cell_type": "markdown",
   "metadata": {},
   "source": [
    "#### Standardizing target variable "
   ]
  },
  {
   "cell_type": "code",
   "execution_count": 393,
   "metadata": {},
   "outputs": [
    {
     "data": {
      "text/html": [
       "<div>\n",
       "<style scoped>\n",
       "    .dataframe tbody tr th:only-of-type {\n",
       "        vertical-align: middle;\n",
       "    }\n",
       "\n",
       "    .dataframe tbody tr th {\n",
       "        vertical-align: top;\n",
       "    }\n",
       "\n",
       "    .dataframe thead th {\n",
       "        text-align: right;\n",
       "    }\n",
       "</style>\n",
       "<table border=\"1\" class=\"dataframe\">\n",
       "  <thead>\n",
       "    <tr style=\"text-align: right;\">\n",
       "      <th></th>\n",
       "      <th>Sale_Price</th>\n",
       "    </tr>\n",
       "  </thead>\n",
       "  <tbody>\n",
       "    <tr>\n",
       "      <th>0</th>\n",
       "      <td>0.559684</td>\n",
       "    </tr>\n",
       "    <tr>\n",
       "      <th>1</th>\n",
       "      <td>0.212488</td>\n",
       "    </tr>\n",
       "    <tr>\n",
       "      <th>2</th>\n",
       "      <td>0.733609</td>\n",
       "    </tr>\n",
       "    <tr>\n",
       "      <th>3</th>\n",
       "      <td>-0.437456</td>\n",
       "    </tr>\n",
       "    <tr>\n",
       "      <th>4</th>\n",
       "      <td>1.014126</td>\n",
       "    </tr>\n",
       "  </tbody>\n",
       "</table>\n",
       "</div>"
      ],
      "text/plain": [
       "   Sale_Price\n",
       "0  0.559684  \n",
       "1  0.212488  \n",
       "2  0.733609  \n",
       "3 -0.437456  \n",
       "4  1.014126  "
      ]
     },
     "execution_count": 393,
     "metadata": {},
     "output_type": "execute_result"
    }
   ],
   "source": [
    "# standardizing of  data\n",
    "scaler = StandardScaler().fit(y_lr)\n",
    "data_train = scaler.transform(y_lr)\n",
    "y_lr = pd.DataFrame(data_train)\n",
    "y_lr.columns = ['Sale_Price']\n",
    "y_lr.head()"
   ]
  },
  {
   "cell_type": "markdown",
   "metadata": {},
   "source": [
    "##### Splitting data again as target variable is transformed\n"
   ]
  },
  {
   "cell_type": "code",
   "execution_count": 394,
   "metadata": {},
   "outputs": [],
   "source": [
    "from sklearn.model_selection import train_test_split\n",
    "\n",
    "def split(X,y):\n",
    "    return train_test_split(X, y, test_size=0.30, random_state=1)"
   ]
  },
  {
   "cell_type": "code",
   "execution_count": 395,
   "metadata": {},
   "outputs": [
    {
     "name": "stdout",
     "output_type": "stream",
     "text": [
      "Train cases as below\n",
      "X_train shape:  (1021, 100)\n",
      "y_train shape:  (1021, 1)\n",
      "\n",
      "Test cases as below\n",
      "X_test shape:  (438, 100)\n",
      "y_test shape:  (438, 1)\n"
     ]
    }
   ],
   "source": [
    "X_train_lr, X_test_lr, y_train_lr, y_test_lr=split(X,y_lr)\n",
    "print('Train cases as below')\n",
    "print('X_train shape: ',X_train_lr.shape)\n",
    "print('y_train shape: ',y_train_lr.shape)\n",
    "print('\\nTest cases as below')\n",
    "print('X_test shape: ',X_test_lr.shape)\n",
    "print('y_test shape: ',y_test_lr.shape)"
   ]
  },
  {
   "cell_type": "markdown",
   "metadata": {},
   "source": [
    "##### Defining Linear Regression function for modelling"
   ]
  },
  {
   "cell_type": "code",
   "execution_count": 396,
   "metadata": {
    "colab": {},
    "colab_type": "code",
    "id": "7kfQ9EgWqnwq"
   },
   "outputs": [],
   "source": [
    "from sklearn.linear_model import LinearRegression\n",
    "from sklearn.model_selection import GridSearchCV\n",
    "from sklearn.model_selection import RandomizedSearchCV\n",
    "\n",
    "def linear_reg(gridsearch = False):\n",
    "    linreg = LinearRegression() \n",
    "    if not(gridsearch):\n",
    "        parameters = {'normalize':[True,False], 'copy_X':[True, False]}\n",
    "        linreg = RandomizedSearchCV(linreg,parameters, cv = 10,refit = True)                                                    \n",
    "        return linreg\n",
    "    else:\n",
    "        parameters = {'normalize':[True,False], 'copy_X':[True, False]}\n",
    "        linreg = GridSearchCV(linreg,parameters, cv = 10,refit = True)                                                    \n",
    "        return linreg"
   ]
  },
  {
   "cell_type": "markdown",
   "metadata": {
    "colab_type": "text",
    "id": "19qiPg1Wo-dL"
   },
   "source": [
    " <a id=section60102></a>\n",
    "### 6.1.2 Using Default Model"
   ]
  },
  {
   "cell_type": "markdown",
   "metadata": {},
   "source": [
    " <a id=section6010201></a>\n",
    "#### 6.1.2.1 Building Model and Prediction"
   ]
  },
  {
   "cell_type": "code",
   "execution_count": 397,
   "metadata": {
    "colab": {
     "base_uri": "https://localhost:8080/",
     "height": 34
    },
    "colab_type": "code",
    "id": "m4YNqH6ky8nt",
    "outputId": "c062cb49-cebb-4055-8558-c64abdc0741a"
   },
   "outputs": [
    {
     "data": {
      "text/plain": [
       "LinearRegression(copy_X=True, fit_intercept=True, n_jobs=None,\n",
       "         normalize=False)"
      ]
     },
     "execution_count": 397,
     "metadata": {},
     "output_type": "execute_result"
    }
   ],
   "source": [
    "linreg = LinearRegression()\n",
    "linreg.fit(X_train_lr,y_train_lr)"
   ]
  },
  {
   "cell_type": "markdown",
   "metadata": {
    "colab_type": "text",
    "id": "Sq3fYNwMy8QP"
   },
   "source": []
  },
  {
   "cell_type": "code",
   "execution_count": 398,
   "metadata": {
    "colab": {
     "base_uri": "https://localhost:8080/",
     "height": 994
    },
    "colab_type": "code",
    "id": "kF_P_Wp5ridb",
    "outputId": "0e50ffe0-695e-41b5-8d25-ec09db2401ff"
   },
   "outputs": [
    {
     "name": "stdout",
     "output_type": "stream",
     "text": [
      "Intercept: [0.00137119]\n",
      "Coefficients: [[ 0.02196932  0.04042537  0.19563137 -0.03536634  0.07284802 -0.01745066\n",
      "   0.02260645 -0.04738338  0.11394268 -0.01054544  0.31503422  0.02875322\n",
      "   0.02671552  0.02518128  0.04564736 -0.04601009  0.05738952  0.09354338\n",
      "   0.03568217  0.11610412  0.09613647  0.01017427 -0.00593289  0.01264868\n",
      "   0.02770824 -0.03495325 -0.02461054 -0.07359167 -0.06499851 -0.05669677\n",
      "  -0.0514914   0.02295093  0.05593392 -0.07465846 -0.02676027  0.08281016\n",
      "   0.04292426  0.00048895  0.01018389  0.05813916  0.01050609 -0.01708496\n",
      "  -0.08852616 -0.07603942  0.02016449  0.02224993 -0.01906286  0.03682458\n",
      "   0.03523171 -0.02258544  0.00930454 -0.01903895 -0.01483756  0.02357508\n",
      "   0.05553557  0.06538428  0.03310436 -0.01538276 -0.00787146  0.00849178\n",
      "  -0.03590183 -0.01293148  0.03208748  0.04641802  0.01141923 -0.00248356\n",
      "  -0.02931981 -0.03117475  0.04222383 -0.01383245  0.01135638 -0.00237159\n",
      "   0.00755671 -0.02374915 -0.02389762 -0.02395517 -0.04156932  0.04533936\n",
      "  -0.0016949   0.00638758 -0.03237756 -0.07763674 -0.1126696   0.00066947\n",
      "   0.05460108  0.01860179  0.00877606  0.04779507  0.0060768   0.04120571\n",
      "   0.00528464 -0.02018867 -0.01844825 -0.00723607 -0.00361364  0.02295491\n",
      "   0.17905242 -0.00917715  0.08463931 -0.09946034]]\n"
     ]
    }
   ],
   "source": [
    "# print the intercept and coefficients\n",
    "print('Intercept:',linreg.intercept_)\n",
    "print('Coefficients:',linreg.coef_)  "
   ]
  },
  {
   "cell_type": "code",
   "execution_count": 399,
   "metadata": {
    "colab": {
     "base_uri": "https://localhost:8080/",
     "height": 51
    },
    "colab_type": "code",
    "id": "ffF_uavKrtVr",
    "outputId": "9871b1bf-573c-44f6-9c39-18a1473223f9"
   },
   "outputs": [],
   "source": [
    " # make predictions on the training set\n",
    "y_pred_train_lr = linreg.predict(X_train_lr) "
   ]
  },
  {
   "cell_type": "code",
   "execution_count": 400,
   "metadata": {
    "colab": {},
    "colab_type": "code",
    "id": "cOIYHiuJr2zf"
   },
   "outputs": [],
   "source": [
    " # make predictions on the testing set\n",
    "y_pred_test_lr = linreg.predict(X_test_lr)  "
   ]
  },
  {
   "cell_type": "markdown",
   "metadata": {},
   "source": [
    " <a id=section6010202></a>\n",
    "#### 6.1.2.2 Model Evaluation"
   ]
  },
  {
   "cell_type": "markdown",
   "metadata": {},
   "source": [
    "#### a. RMSE\n"
   ]
  },
  {
   "cell_type": "code",
   "execution_count": 401,
   "metadata": {},
   "outputs": [
    {
     "name": "stdout",
     "output_type": "stream",
     "text": [
      "RMSE for training set is 0.28684154883787094\n",
      "RMSE for testing set is 0.43461700018562915\n"
     ]
    }
   ],
   "source": [
    "from sklearn import metrics\n",
    "RMSE_train = np.sqrt( metrics.mean_squared_error(y_train_lr, y_pred_train_lr))\n",
    "print('RMSE for training set is {}'.format(RMSE_train))\n",
    "\n",
    "RMSE_test = np.sqrt( metrics.mean_squared_error(y_test_lr, y_pred_test_lr))\n",
    "print('RMSE for testing set is {}'.format(RMSE_test))"
   ]
  },
  {
   "cell_type": "markdown",
   "metadata": {},
   "source": [
    "#### b. MAPE\n"
   ]
  },
  {
   "cell_type": "code",
   "execution_count": 402,
   "metadata": {},
   "outputs": [],
   "source": [
    "def mean_absolute_percentage_error(y_true, y_pred): \n",
    "    y_true, y_pred = np.array(y_true), np.array(y_pred)\n",
    "    return np.mean(np.abs((y_true - y_pred) / y_true)) * 100"
   ]
  },
  {
   "cell_type": "code",
   "execution_count": 403,
   "metadata": {},
   "outputs": [
    {
     "name": "stdout",
     "output_type": "stream",
     "text": [
      "MAPE for training set is 87.61960261973294\n",
      "MAPE for testing set is 115.40138914017707\n"
     ]
    }
   ],
   "source": [
    "mape_train_error = mean_absolute_percentage_error(y_train_lr, y_pred_train_lr)\n",
    "mape_test_error = mean_absolute_percentage_error(y_test_lr, y_pred_test_lr)\n",
    "print('MAPE for training set is {}'.format(mape_train_error))\n",
    "print('MAPE for testing set is {}'.format(mape_test_error))"
   ]
  },
  {
   "cell_type": "markdown",
   "metadata": {},
   "source": [
    "#### c. R-Squared Error"
   ]
  },
  {
   "cell_type": "code",
   "execution_count": 404,
   "metadata": {},
   "outputs": [
    {
     "name": "stdout",
     "output_type": "stream",
     "text": [
      "R-Squared for training set is 0.9175731671839207\n"
     ]
    }
   ],
   "source": [
    "from sklearn.metrics import r2_score\n",
    "\n",
    "r_squared_train_lr = r2_score(y_train_lr,y_pred_train_lr )\n",
    "print('R-Squared for training set is {}'.format(r_squared_train_lr))"
   ]
  },
  {
   "cell_type": "code",
   "execution_count": 405,
   "metadata": {},
   "outputs": [
    {
     "name": "stdout",
     "output_type": "stream",
     "text": [
      "R-Squared for testing set is 0.8113768233535005\n"
     ]
    }
   ],
   "source": [
    "r_squared_test_lr = r2_score(y_test_lr,y_pred_test_lr )\n",
    "print('R-Squared for testing set is {}'.format(r_squared_test_lr))"
   ]
  },
  {
   "cell_type": "markdown",
   "metadata": {},
   "source": [
    "#### d. Adjusted R-Squared Error"
   ]
  },
  {
   "cell_type": "code",
   "execution_count": 406,
   "metadata": {
    "scrolled": true
   },
   "outputs": [
    {
     "name": "stdout",
     "output_type": "stream",
     "text": [
      "Adjusted R-Squared for training set is 0.9086137288343469\n"
     ]
    }
   ],
   "source": [
    "adjusted_r_squared_train_lr = 1 - (1-r_squared_train_lr)*(len(y_train_lr)-1)/(len(y_train_lr)-X_train_lr.shape[1]-1)\n",
    "print('Adjusted R-Squared for training set is {}'.format(adjusted_r_squared_train_lr))"
   ]
  },
  {
   "cell_type": "code",
   "execution_count": 407,
   "metadata": {},
   "outputs": [
    {
     "name": "stdout",
     "output_type": "stream",
     "text": [
      "Adjusted R-Squared for testing set is 0.7554055543189309\n"
     ]
    }
   ],
   "source": [
    "adjusted_r_squared_test_lr = 1 - (1-r_squared_test_lr)*(len(y_test_lr)-1)/(len(y_test_lr)-X_train_lr.shape[1]-1)\n",
    "print('Adjusted R-Squared for testing set is {}'.format(adjusted_r_squared_test_lr))"
   ]
  },
  {
   "cell_type": "markdown",
   "metadata": {},
   "source": [
    " <a id=section60103></a>\n",
    "### 6.1.3 Using GridSearchCV"
   ]
  },
  {
   "cell_type": "markdown",
   "metadata": {},
   "source": [
    " <a id=section6010301></a>\n",
    "#### 6.1.3.1 Building Model and Prediction"
   ]
  },
  {
   "cell_type": "code",
   "execution_count": 408,
   "metadata": {
    "colab": {
     "base_uri": "https://localhost:8080/",
     "height": 34
    },
    "colab_type": "code",
    "id": "m4YNqH6ky8nt",
    "outputId": "c062cb49-cebb-4055-8558-c64abdc0741a"
   },
   "outputs": [
    {
     "data": {
      "text/plain": [
       "GridSearchCV(cv=10, error_score='raise-deprecating',\n",
       "       estimator=LinearRegression(copy_X=True, fit_intercept=True, n_jobs=None,\n",
       "         normalize=False),\n",
       "       fit_params=None, iid='warn', n_jobs=None,\n",
       "       param_grid={'normalize': [True, False], 'copy_X': [True, False]},\n",
       "       pre_dispatch='2*n_jobs', refit=True, return_train_score='warn',\n",
       "       scoring=None, verbose=0)"
      ]
     },
     "execution_count": 408,
     "metadata": {},
     "output_type": "execute_result"
    }
   ],
   "source": [
    "linreg_gs = linear_reg(True)\n",
    "linreg_gs.fit(X_train_lr,y_train_lr)"
   ]
  },
  {
   "cell_type": "markdown",
   "metadata": {
    "colab_type": "text",
    "id": "Sq3fYNwMy8QP"
   },
   "source": []
  },
  {
   "cell_type": "code",
   "execution_count": 409,
   "metadata": {
    "colab": {
     "base_uri": "https://localhost:8080/",
     "height": 994
    },
    "colab_type": "code",
    "id": "kF_P_Wp5ridb",
    "outputId": "0e50ffe0-695e-41b5-8d25-ec09db2401ff"
   },
   "outputs": [
    {
     "data": {
      "text/plain": [
       "GridSearchCV(cv=10, error_score='raise-deprecating',\n",
       "       estimator=LinearRegression(copy_X=True, fit_intercept=True, n_jobs=None,\n",
       "         normalize=False),\n",
       "       fit_params=None, iid='warn', n_jobs=None,\n",
       "       param_grid={'normalize': [True, False], 'copy_X': [True, False]},\n",
       "       pre_dispatch='2*n_jobs', refit=True, return_train_score='warn',\n",
       "       scoring=None, verbose=0)"
      ]
     },
     "execution_count": 409,
     "metadata": {},
     "output_type": "execute_result"
    }
   ],
   "source": [
    "linreg_gs"
   ]
  },
  {
   "cell_type": "code",
   "execution_count": 410,
   "metadata": {},
   "outputs": [
    {
     "name": "stdout",
     "output_type": "stream",
     "text": [
      "best_params after cross-validation :  {'copy_X': True, 'normalize': False}\n"
     ]
    }
   ],
   "source": [
    "print(\"best_params after cross-validation : \", linreg_gs.best_params_)   "
   ]
  },
  {
   "cell_type": "code",
   "execution_count": 411,
   "metadata": {
    "colab": {
     "base_uri": "https://localhost:8080/",
     "height": 51
    },
    "colab_type": "code",
    "id": "ffF_uavKrtVr",
    "outputId": "9871b1bf-573c-44f6-9c39-18a1473223f9"
   },
   "outputs": [],
   "source": [
    " # make predictions on the training set\n",
    "y_pred_train_lr_gs = linreg_gs.predict(X_train_lr) "
   ]
  },
  {
   "cell_type": "code",
   "execution_count": 412,
   "metadata": {
    "colab": {},
    "colab_type": "code",
    "id": "cOIYHiuJr2zf"
   },
   "outputs": [],
   "source": [
    " # make predictions on the testing set\n",
    "y_pred_test_lr_gs = linreg_gs.predict(X_test_lr)  "
   ]
  },
  {
   "cell_type": "markdown",
   "metadata": {},
   "source": [
    " <a id=section6010302></a>\n",
    "#### 6.1.3.2 Model Evaluation"
   ]
  },
  {
   "cell_type": "markdown",
   "metadata": {},
   "source": [
    "#### a. RMSE\n"
   ]
  },
  {
   "cell_type": "code",
   "execution_count": 413,
   "metadata": {},
   "outputs": [
    {
     "name": "stdout",
     "output_type": "stream",
     "text": [
      "RMSE for training set is 0.28684154883787094\n",
      "RMSE for testing set is 0.43461700018562915\n"
     ]
    }
   ],
   "source": [
    "from sklearn import metrics\n",
    "RMSE_train = np.sqrt( metrics.mean_squared_error(y_train_lr, y_pred_train_lr_gs))\n",
    "print('RMSE for training set is {}'.format(RMSE_train))\n",
    "\n",
    "RMSE_test = np.sqrt( metrics.mean_squared_error(y_test_lr, y_pred_test_lr_gs))\n",
    "print('RMSE for testing set is {}'.format(RMSE_test))"
   ]
  },
  {
   "cell_type": "markdown",
   "metadata": {},
   "source": [
    "#### b. MAPE\n"
   ]
  },
  {
   "cell_type": "code",
   "execution_count": 414,
   "metadata": {},
   "outputs": [],
   "source": [
    "def mean_absolute_percentage_error(y_true, y_pred): \n",
    "    y_true, y_pred = np.array(y_true), np.array(y_pred)\n",
    "    return np.mean(np.abs((y_true - y_pred) / y_true)) * 100"
   ]
  },
  {
   "cell_type": "code",
   "execution_count": 415,
   "metadata": {},
   "outputs": [
    {
     "name": "stdout",
     "output_type": "stream",
     "text": [
      "MAPE for training set is 87.61960261973294\n",
      "MAPE for testing set is 115.40138914017707\n"
     ]
    }
   ],
   "source": [
    "mape_train_error = mean_absolute_percentage_error(y_train_lr, y_pred_train_lr_gs)\n",
    "mape_test_error = mean_absolute_percentage_error(y_test_lr, y_pred_test_lr_gs)\n",
    "print('MAPE for training set is {}'.format(mape_train_error))\n",
    "print('MAPE for testing set is {}'.format(mape_test_error))"
   ]
  },
  {
   "cell_type": "markdown",
   "metadata": {},
   "source": [
    "#### c. R-Squared Error"
   ]
  },
  {
   "cell_type": "code",
   "execution_count": 416,
   "metadata": {},
   "outputs": [
    {
     "name": "stdout",
     "output_type": "stream",
     "text": [
      "R-Squared for training set is 0.9175731671839207\n"
     ]
    }
   ],
   "source": [
    "from sklearn.metrics import r2_score\n",
    "\n",
    "r_squared_train_lr_gs = r2_score(y_train_lr,y_pred_train_lr_gs )\n",
    "print('R-Squared for training set is {}'.format(r_squared_train_lr_gs))"
   ]
  },
  {
   "cell_type": "code",
   "execution_count": 417,
   "metadata": {},
   "outputs": [
    {
     "name": "stdout",
     "output_type": "stream",
     "text": [
      "R-Squared for testing set is 0.8113768233535005\n"
     ]
    }
   ],
   "source": [
    "r_squared_test_lr_gs = r2_score(y_test_lr,y_pred_test_lr_gs )\n",
    "print('R-Squared for testing set is {}'.format(r_squared_test_lr_gs))"
   ]
  },
  {
   "cell_type": "markdown",
   "metadata": {},
   "source": [
    "#### d. Adjusted R-Squared Error"
   ]
  },
  {
   "cell_type": "code",
   "execution_count": 418,
   "metadata": {
    "scrolled": true
   },
   "outputs": [
    {
     "name": "stdout",
     "output_type": "stream",
     "text": [
      "Adjusted R-Squared for training set is 0.9086137288343469\n"
     ]
    }
   ],
   "source": [
    "adjusted_r_squared_train_lr_gs = 1 - (1-r_squared_train_lr_gs)*(len(y_train_lr)-1)/(len(y_train_lr)-X_train_lr.shape[1]-1)\n",
    "print('Adjusted R-Squared for training set is {}'.format(adjusted_r_squared_train_lr_gs))"
   ]
  },
  {
   "cell_type": "code",
   "execution_count": 419,
   "metadata": {},
   "outputs": [
    {
     "name": "stdout",
     "output_type": "stream",
     "text": [
      "Adjusted R-Squared for testing set is 0.7554055543189309\n"
     ]
    }
   ],
   "source": [
    "adjusted_r_squared_test_lr_gs = 1 - (1-r_squared_test_lr_gs)*(len(y_test_lr)-1)/(len(y_test_lr)-X_train_lr.shape[1]-1)\n",
    "print('Adjusted R-Squared for testing set is {}'.format(adjusted_r_squared_test_lr_gs))"
   ]
  },
  {
   "cell_type": "markdown",
   "metadata": {},
   "source": [
    " <a id=section60104></a>\n",
    "### 6.1.4 Using RandomSearchCV"
   ]
  },
  {
   "cell_type": "markdown",
   "metadata": {},
   "source": [
    " <a id=section6010401></a>\n",
    "#### 6.1.4.1 Building Model and Prediction"
   ]
  },
  {
   "cell_type": "code",
   "execution_count": 420,
   "metadata": {
    "colab": {
     "base_uri": "https://localhost:8080/",
     "height": 34
    },
    "colab_type": "code",
    "id": "m4YNqH6ky8nt",
    "outputId": "c062cb49-cebb-4055-8558-c64abdc0741a"
   },
   "outputs": [
    {
     "data": {
      "text/plain": [
       "RandomizedSearchCV(cv=10, error_score='raise-deprecating',\n",
       "          estimator=LinearRegression(copy_X=True, fit_intercept=True, n_jobs=None,\n",
       "         normalize=False),\n",
       "          fit_params=None, iid='warn', n_iter=10, n_jobs=None,\n",
       "          param_distributions={'normalize': [True, False], 'copy_X': [True, False]},\n",
       "          pre_dispatch='2*n_jobs', random_state=None, refit=True,\n",
       "          return_train_score='warn', scoring=None, verbose=0)"
      ]
     },
     "execution_count": 420,
     "metadata": {},
     "output_type": "execute_result"
    }
   ],
   "source": [
    "linreg_rs = linear_reg(False)\n",
    "linreg_rs.fit(X_train_lr,y_train_lr)"
   ]
  },
  {
   "cell_type": "markdown",
   "metadata": {
    "colab_type": "text",
    "id": "Sq3fYNwMy8QP"
   },
   "source": []
  },
  {
   "cell_type": "code",
   "execution_count": 421,
   "metadata": {
    "colab": {
     "base_uri": "https://localhost:8080/",
     "height": 994
    },
    "colab_type": "code",
    "id": "kF_P_Wp5ridb",
    "outputId": "0e50ffe0-695e-41b5-8d25-ec09db2401ff"
   },
   "outputs": [
    {
     "data": {
      "text/plain": [
       "RandomizedSearchCV(cv=10, error_score='raise-deprecating',\n",
       "          estimator=LinearRegression(copy_X=True, fit_intercept=True, n_jobs=None,\n",
       "         normalize=False),\n",
       "          fit_params=None, iid='warn', n_iter=10, n_jobs=None,\n",
       "          param_distributions={'normalize': [True, False], 'copy_X': [True, False]},\n",
       "          pre_dispatch='2*n_jobs', random_state=None, refit=True,\n",
       "          return_train_score='warn', scoring=None, verbose=0)"
      ]
     },
     "execution_count": 421,
     "metadata": {},
     "output_type": "execute_result"
    }
   ],
   "source": [
    "linreg_rs"
   ]
  },
  {
   "cell_type": "code",
   "execution_count": 422,
   "metadata": {},
   "outputs": [
    {
     "name": "stdout",
     "output_type": "stream",
     "text": [
      "best_params after cross-validation :  {'normalize': False, 'copy_X': True}\n"
     ]
    }
   ],
   "source": [
    "print(\"best_params after cross-validation : \", linreg_rs.best_params_)   "
   ]
  },
  {
   "cell_type": "code",
   "execution_count": 423,
   "metadata": {
    "colab": {
     "base_uri": "https://localhost:8080/",
     "height": 51
    },
    "colab_type": "code",
    "id": "ffF_uavKrtVr",
    "outputId": "9871b1bf-573c-44f6-9c39-18a1473223f9"
   },
   "outputs": [],
   "source": [
    " # make predictions on the training set\n",
    "y_pred_train_lr_rs = linreg_rs.predict(X_train_lr) "
   ]
  },
  {
   "cell_type": "code",
   "execution_count": 424,
   "metadata": {
    "colab": {},
    "colab_type": "code",
    "id": "cOIYHiuJr2zf"
   },
   "outputs": [],
   "source": [
    " # make predictions on the testing set\n",
    "y_pred_test_lr_rs = linreg_rs.predict(X_test_lr)  "
   ]
  },
  {
   "cell_type": "markdown",
   "metadata": {},
   "source": [
    " <a id=section6010402></a>\n",
    "#### 6.1.4.2 Model Evaluation"
   ]
  },
  {
   "cell_type": "markdown",
   "metadata": {},
   "source": [
    "#### a. RMSE\n"
   ]
  },
  {
   "cell_type": "code",
   "execution_count": 425,
   "metadata": {},
   "outputs": [
    {
     "name": "stdout",
     "output_type": "stream",
     "text": [
      "RMSE for training set is 0.28684154883787094\n",
      "RMSE for testing set is 0.43461700018562915\n"
     ]
    }
   ],
   "source": [
    "from sklearn import metrics\n",
    "RMSE_train = np.sqrt( metrics.mean_squared_error(y_train_lr, y_pred_train_lr_rs))\n",
    "print('RMSE for training set is {}'.format(RMSE_train))\n",
    "\n",
    "RMSE_test = np.sqrt( metrics.mean_squared_error(y_test_lr, y_pred_test_lr_rs))\n",
    "print('RMSE for testing set is {}'.format(RMSE_test))"
   ]
  },
  {
   "cell_type": "markdown",
   "metadata": {},
   "source": [
    "#### b. MAPE\n"
   ]
  },
  {
   "cell_type": "code",
   "execution_count": 426,
   "metadata": {},
   "outputs": [],
   "source": [
    "def mean_absolute_percentage_error(y_true, y_pred): \n",
    "    y_true, y_pred = np.array(y_true), np.array(y_pred)\n",
    "    return np.mean(np.abs((y_true - y_pred) / y_true)) * 100"
   ]
  },
  {
   "cell_type": "code",
   "execution_count": 427,
   "metadata": {},
   "outputs": [
    {
     "name": "stdout",
     "output_type": "stream",
     "text": [
      "MAPE for training set is 87.61960261973294\n",
      "MAPE for testing set is 115.40138914017707\n"
     ]
    }
   ],
   "source": [
    "mape_train_error = mean_absolute_percentage_error(y_train_lr, y_pred_train_lr_rs)\n",
    "mape_test_error = mean_absolute_percentage_error(y_test_lr, y_pred_test_lr_rs)\n",
    "print('MAPE for training set is {}'.format(mape_train_error))\n",
    "print('MAPE for testing set is {}'.format(mape_test_error))"
   ]
  },
  {
   "cell_type": "markdown",
   "metadata": {},
   "source": [
    "#### c. R-Squared Error"
   ]
  },
  {
   "cell_type": "code",
   "execution_count": 428,
   "metadata": {},
   "outputs": [
    {
     "name": "stdout",
     "output_type": "stream",
     "text": [
      "R-Squared for training set is 0.9175731671839207\n"
     ]
    }
   ],
   "source": [
    "from sklearn.metrics import r2_score\n",
    "\n",
    "r_squared_train_lr_rs = r2_score(y_train_lr,y_pred_train_lr_rs )\n",
    "print('R-Squared for training set is {}'.format(r_squared_train_lr_rs))"
   ]
  },
  {
   "cell_type": "code",
   "execution_count": 429,
   "metadata": {},
   "outputs": [
    {
     "name": "stdout",
     "output_type": "stream",
     "text": [
      "R-Squared for testing set is 0.8113768233535005\n"
     ]
    }
   ],
   "source": [
    "r_squared_test_lr_rs = r2_score(y_test_lr,y_pred_test_lr_rs )\n",
    "print('R-Squared for testing set is {}'.format(r_squared_test_lr_rs))"
   ]
  },
  {
   "cell_type": "markdown",
   "metadata": {},
   "source": [
    "#### d. Adjusted R-Squared Error"
   ]
  },
  {
   "cell_type": "code",
   "execution_count": 430,
   "metadata": {
    "scrolled": true
   },
   "outputs": [
    {
     "name": "stdout",
     "output_type": "stream",
     "text": [
      "Adjusted R-Squared for training set is 0.9086137288343469\n"
     ]
    }
   ],
   "source": [
    "adjusted_r_squared_train_lr_rs = 1 - (1-r_squared_train_lr_rs)*(len(y_train_lr)-1)/(len(y_train_lr)-X_train_lr.shape[1]-1)\n",
    "print('Adjusted R-Squared for training set is {}'.format(adjusted_r_squared_train_lr_rs))"
   ]
  },
  {
   "cell_type": "code",
   "execution_count": 431,
   "metadata": {},
   "outputs": [
    {
     "name": "stdout",
     "output_type": "stream",
     "text": [
      "Adjusted R-Squared for testing set is 0.7554055543189309\n"
     ]
    }
   ],
   "source": [
    "adjusted_r_squared_test_lr_rs = 1 - (1-r_squared_test_lr_rs)*(len(y_test_lr)-1)/(len(y_test_lr)-X_train_lr.shape[1]-1)\n",
    "print('Adjusted R-Squared for testing set is {}'.format(adjusted_r_squared_test_lr_rs))"
   ]
  },
  {
   "cell_type": "markdown",
   "metadata": {},
   "source": [
    " <a id=section602></a>\n",
    "## 6.2 Decision Tree"
   ]
  },
  {
   "cell_type": "markdown",
   "metadata": {},
   "source": [
    " <a id=section60201></a>\n",
    "### 6.2.1 Using Default Model"
   ]
  },
  {
   "cell_type": "markdown",
   "metadata": {},
   "source": [
    "##### Splitting train and test data\n"
   ]
  },
  {
   "cell_type": "code",
   "execution_count": 432,
   "metadata": {},
   "outputs": [
    {
     "name": "stdout",
     "output_type": "stream",
     "text": [
      "Train cases as below\n",
      "X_train shape:  (1021, 100)\n",
      "y_train shape:  (1021,)\n",
      "\n",
      "Test cases as below\n",
      "X_test shape:  (438, 100)\n",
      "y_test shape:  (438,)\n"
     ]
    }
   ],
   "source": [
    "X_train_dt, X_test_dt, y_train_dt, y_test_dt=split(X,y)\n",
    "print('Train cases as below')\n",
    "print('X_train shape: ',X_train_dt.shape)\n",
    "print('y_train shape: ',y_train_dt.shape)\n",
    "print('\\nTest cases as below')\n",
    "print('X_test shape: ',X_test_dt.shape)\n",
    "print('y_test shape: ',y_test_dt.shape)"
   ]
  },
  {
   "cell_type": "markdown",
   "metadata": {},
   "source": [
    " <a id=section6020101></a>\n",
    "#### 6.2.1.1 Building Model and Prediction"
   ]
  },
  {
   "cell_type": "code",
   "execution_count": 433,
   "metadata": {},
   "outputs": [
    {
     "data": {
      "text/plain": [
       "DecisionTreeRegressor(criterion='mse', max_depth=None, max_features=None,\n",
       "           max_leaf_nodes=None, min_impurity_decrease=0.0,\n",
       "           min_impurity_split=None, min_samples_leaf=1,\n",
       "           min_samples_split=2, min_weight_fraction_leaf=0.0,\n",
       "           presort=False, random_state=None, splitter='best')"
      ]
     },
     "execution_count": 433,
     "metadata": {},
     "output_type": "execute_result"
    }
   ],
   "source": [
    "from sklearn.tree import DecisionTreeRegressor\n",
    "\n",
    "# using default model for building \n",
    "dt_reg = DecisionTreeRegressor()\n",
    "dt_reg.fit(X_train_dt, y_train_dt)"
   ]
  },
  {
   "cell_type": "code",
   "execution_count": 434,
   "metadata": {},
   "outputs": [],
   "source": [
    "#prediction on training data\n",
    "y_pred_train_dt = dt_reg.predict(X_train_dt)\n",
    "\n",
    "#prediction on testing data\n",
    "y_pred_test_dt = dt_reg.predict(X_test_dt)"
   ]
  },
  {
   "cell_type": "markdown",
   "metadata": {},
   "source": [
    "<a id=section6020102></a>\n",
    "#### 6.2.1.2 Model Evaluation"
   ]
  },
  {
   "cell_type": "markdown",
   "metadata": {},
   "source": [
    "#### a. RMSE\n"
   ]
  },
  {
   "cell_type": "code",
   "execution_count": 435,
   "metadata": {},
   "outputs": [
    {
     "name": "stdout",
     "output_type": "stream",
     "text": [
      "RMSE for training set is 165.97145241471603\n",
      "RMSE for testing set is 35486.57317755329\n"
     ]
    }
   ],
   "source": [
    "RMSE_train_dt = np.sqrt( metrics.mean_squared_error(y_train_dt, y_pred_train_dt))\n",
    "print('RMSE for training set is {}'.format(RMSE_train_dt))\n",
    "\n",
    "RMSE_test_dt = np.sqrt( metrics.mean_squared_error(y_test_dt, y_pred_test_dt))\n",
    "print('RMSE for testing set is {}'.format(RMSE_test_dt))"
   ]
  },
  {
   "cell_type": "markdown",
   "metadata": {},
   "source": [
    "#### b. MAPE\n"
   ]
  },
  {
   "cell_type": "code",
   "execution_count": 436,
   "metadata": {},
   "outputs": [
    {
     "name": "stdout",
     "output_type": "stream",
     "text": [
      "MAPE for training set is 0.005496462401457505\n",
      "MAPE for testing set is 15.202026562831033\n"
     ]
    }
   ],
   "source": [
    "mape_train_error = mean_absolute_percentage_error(y_train_dt, y_pred_train_dt)\n",
    "mape_test_error = mean_absolute_percentage_error(y_test_dt, y_pred_test_dt)\n",
    "print('MAPE for training set is {}'.format(mape_train_error))\n",
    "print('MAPE for testing set is {}'.format(mape_test_error))"
   ]
  },
  {
   "cell_type": "markdown",
   "metadata": {},
   "source": [
    "#### c. R-Squared Error"
   ]
  },
  {
   "cell_type": "code",
   "execution_count": 437,
   "metadata": {},
   "outputs": [
    {
     "name": "stdout",
     "output_type": "stream",
     "text": [
      "R-Squared for training set is 0.9999958352065705\n"
     ]
    }
   ],
   "source": [
    "r_squared_train_dt = r2_score(y_train_dt,y_pred_train_dt )\n",
    "print('R-Squared for training set is {}'.format(r_squared_train_dt))"
   ]
  },
  {
   "cell_type": "code",
   "execution_count": 438,
   "metadata": {},
   "outputs": [
    {
     "name": "stdout",
     "output_type": "stream",
     "text": [
      "R-Squared for testing set is 0.7745612733432071\n"
     ]
    }
   ],
   "source": [
    "r_squared_test_dt = r2_score(y_test_dt,y_pred_test_dt )\n",
    "print('R-Squared for testing set is {}'.format(r_squared_test_dt))"
   ]
  },
  {
   "cell_type": "markdown",
   "metadata": {},
   "source": [
    "#### d. Adjusted R-Squared Error"
   ]
  },
  {
   "cell_type": "code",
   "execution_count": 439,
   "metadata": {
    "scrolled": true
   },
   "outputs": [
    {
     "name": "stdout",
     "output_type": "stream",
     "text": [
      "Adjusted R-Squared for training set is 0.9999953825116326\n"
     ]
    }
   ],
   "source": [
    "adjusted_r_squared_train_dt = 1 - (1-r_squared_train_dt)*(len(y_train_dt)-1)/(len(y_train_dt)-X_train_dt.shape[1]-1)\n",
    "print('Adjusted R-Squared for training set is {}'.format(adjusted_r_squared_train_dt))"
   ]
  },
  {
   "cell_type": "code",
   "execution_count": 440,
   "metadata": {},
   "outputs": [
    {
     "name": "stdout",
     "output_type": "stream",
     "text": [
      "Adjusted R-Squared for testing set is 0.7076655087566217\n"
     ]
    }
   ],
   "source": [
    "adjusted_r_squared_test_dt = 1 - (1-r_squared_test_dt)*(len(y_test_dt)-1)/(len(y_test_dt)-X_train_dt.shape[1]-1)\n",
    "print('Adjusted R-Squared for testing set is {}'.format(adjusted_r_squared_test_dt))"
   ]
  },
  {
   "cell_type": "markdown",
   "metadata": {},
   "source": [
    " <a id=section60202></a>\n",
    "### 6.2.2 Using GridSearchCV"
   ]
  },
  {
   "cell_type": "markdown",
   "metadata": {},
   "source": [
    " <a id=section6020201></a>\n",
    "#### 6.2.2.1 Building Model and Prediction"
   ]
  },
  {
   "cell_type": "code",
   "execution_count": 441,
   "metadata": {},
   "outputs": [],
   "source": [
    "from sklearn.model_selection import GridSearchCV"
   ]
  },
  {
   "cell_type": "code",
   "execution_count": 453,
   "metadata": {},
   "outputs": [],
   "source": [
    "# Number of features to consider at every split\n",
    "max_features = ['auto', 'sqrt']\n",
    "# Maximum number of levels in tree\n",
    "max_depth = [int(x) for x in np.linspace(10, 110, num = 11)]\n",
    "max_depth.append(None)\n",
    "# Minimum number of samples required to split a node\n",
    "min_samples_split = [2, 5, 10]\n",
    "# Minimum number of samples required at each leaf node\n",
    "min_samples_leaf = [1, 2, 4]\n",
    "# Method of selecting samples for training each tree\n",
    "bootstrap = [True, False]\n",
    "\n",
    "# Create the random grid\n",
    "param_grid = {\n",
    "               'max_features': max_features,\n",
    "               'max_depth': max_depth,\n",
    "               'min_samples_split': min_samples_split,\n",
    "               'min_samples_leaf': min_samples_leaf\n",
    "}"
   ]
  },
  {
   "cell_type": "code",
   "execution_count": 454,
   "metadata": {},
   "outputs": [],
   "source": [
    "# Instantiate the grid search model\n",
    "dt_reg_gs = GridSearchCV(estimator = dt_reg, param_grid = param_grid, \n",
    "                          cv = 3, n_jobs = -1, verbose = 2)"
   ]
  },
  {
   "cell_type": "code",
   "execution_count": 455,
   "metadata": {
    "scrolled": true
   },
   "outputs": [
    {
     "name": "stdout",
     "output_type": "stream",
     "text": [
      "Fitting 3 folds for each of 216 candidates, totalling 648 fits\n"
     ]
    },
    {
     "name": "stderr",
     "output_type": "stream",
     "text": [
      "[Parallel(n_jobs=-1)]: Using backend LokyBackend with 8 concurrent workers.\n",
      "[Parallel(n_jobs=-1)]: Done  25 tasks      | elapsed:   13.9s\n",
      "[Parallel(n_jobs=-1)]: Done 231 tasks      | elapsed:   16.6s\n",
      "[Parallel(n_jobs=-1)]: Done 633 out of 648 | elapsed:   19.6s remaining:    0.4s\n",
      "[Parallel(n_jobs=-1)]: Done 648 out of 648 | elapsed:   19.6s finished\n"
     ]
    },
    {
     "data": {
      "text/plain": [
       "GridSearchCV(cv=3, error_score='raise-deprecating',\n",
       "       estimator=DecisionTreeRegressor(criterion='mse', max_depth=None, max_features=None,\n",
       "           max_leaf_nodes=None, min_impurity_decrease=0.0,\n",
       "           min_impurity_split=None, min_samples_leaf=1,\n",
       "           min_samples_split=2, min_weight_fraction_leaf=0.0,\n",
       "           presort=False, random_state=None, splitter='best'),\n",
       "       fit_params=None, iid='warn', n_jobs=-1,\n",
       "       param_grid={'max_features': ['auto', 'sqrt'], 'max_depth': [10, 20, 30, 40, 50, 60, 70, 80, 90, 100, 110, None], 'min_samples_split': [2, 5, 10], 'min_samples_leaf': [1, 2, 4]},\n",
       "       pre_dispatch='2*n_jobs', refit=True, return_train_score='warn',\n",
       "       scoring=None, verbose=2)"
      ]
     },
     "execution_count": 455,
     "metadata": {},
     "output_type": "execute_result"
    }
   ],
   "source": [
    "dt_reg_gs.fit(X_train_dt, y_train_dt)"
   ]
  },
  {
   "cell_type": "code",
   "execution_count": 456,
   "metadata": {},
   "outputs": [],
   "source": [
    "#prediction on training data\n",
    "y_pred_train_dt_gs = dt_reg_gs.predict(X_train_dt)\n",
    "\n",
    "#prediction on testing data\n",
    "y_pred_test_dt_gs = dt_reg_gs.predict(X_test_dt)"
   ]
  },
  {
   "cell_type": "markdown",
   "metadata": {},
   "source": [
    "<a id=section6020202></a>\n",
    "#### 6.2.2.2 Model Evaluation"
   ]
  },
  {
   "cell_type": "markdown",
   "metadata": {},
   "source": [
    "#### a. RMSE\n"
   ]
  },
  {
   "cell_type": "code",
   "execution_count": 457,
   "metadata": {},
   "outputs": [
    {
     "name": "stdout",
     "output_type": "stream",
     "text": [
      "RMSE for training set is 20889.06040560536\n",
      "RMSE for testing set is 40713.55292946244\n"
     ]
    }
   ],
   "source": [
    "RMSE_train_dt_gs = np.sqrt( metrics.mean_squared_error(y_train_dt, y_pred_train_dt_gs))\n",
    "print('RMSE for training set is {}'.format(RMSE_train_dt_gs))\n",
    "\n",
    "RMSE_test_dt_gs = np.sqrt( metrics.mean_squared_error(y_test_dt, y_pred_test_dt_gs))\n",
    "print('RMSE for testing set is {}'.format(RMSE_test_dt_gs))"
   ]
  },
  {
   "cell_type": "markdown",
   "metadata": {},
   "source": [
    "#### b. MAPE\n"
   ]
  },
  {
   "cell_type": "code",
   "execution_count": 458,
   "metadata": {},
   "outputs": [
    {
     "name": "stdout",
     "output_type": "stream",
     "text": [
      "MAPE for training set is 6.566364335617564\n",
      "MAPE for testing set is 15.729330202792882\n"
     ]
    }
   ],
   "source": [
    "mape_train_error = mean_absolute_percentage_error(y_train_dt, y_pred_train_dt_gs)\n",
    "mape_test_error = mean_absolute_percentage_error(y_test_dt, y_pred_test_dt_gs)\n",
    "print('MAPE for training set is {}'.format(mape_train_error))\n",
    "print('MAPE for testing set is {}'.format(mape_test_error))"
   ]
  },
  {
   "cell_type": "markdown",
   "metadata": {},
   "source": [
    "#### c. R-Squared Error"
   ]
  },
  {
   "cell_type": "code",
   "execution_count": 459,
   "metadata": {},
   "outputs": [
    {
     "name": "stdout",
     "output_type": "stream",
     "text": [
      "R-Squared for training set is 0.9340272651055773\n"
     ]
    }
   ],
   "source": [
    "r_squared_train_dt_gs = r2_score(y_train_dt,y_pred_train_dt_gs )\n",
    "print('R-Squared for training set is {}'.format(r_squared_train_dt_gs))"
   ]
  },
  {
   "cell_type": "code",
   "execution_count": 460,
   "metadata": {},
   "outputs": [
    {
     "name": "stdout",
     "output_type": "stream",
     "text": [
      "R-Squared for testing set is 0.7032584207946041\n"
     ]
    }
   ],
   "source": [
    "r_squared_test_dt_gs = r2_score(y_test_dt,y_pred_test_dt_gs )\n",
    "print('R-Squared for testing set is {}'.format(r_squared_test_dt_gs))"
   ]
  },
  {
   "cell_type": "markdown",
   "metadata": {},
   "source": [
    "#### d. Adjusted R-Squared Error"
   ]
  },
  {
   "cell_type": "code",
   "execution_count": 461,
   "metadata": {
    "scrolled": true
   },
   "outputs": [
    {
     "name": "stdout",
     "output_type": "stream",
     "text": [
      "Adjusted R-Squared for training set is 0.9268563156605314\n"
     ]
    }
   ],
   "source": [
    "adjusted_r_squared_train_dt_gs = 1 - (1-r_squared_train_dt_gs)*(len(y_train_dt)-1)/(len(y_train_dt)-X_train_dt.shape[1]-1)\n",
    "print('Adjusted R-Squared for training set is {}'.format(adjusted_r_squared_train_dt_gs))"
   ]
  },
  {
   "cell_type": "code",
   "execution_count": 462,
   "metadata": {},
   "outputs": [
    {
     "name": "stdout",
     "output_type": "stream",
     "text": [
      "Adjusted R-Squared for testing set is 0.6152045397247536\n"
     ]
    }
   ],
   "source": [
    "adjusted_r_squared_test_dt_gs = 1 - (1-r_squared_test_dt_gs)*(len(y_test_dt)-1)/(len(y_test_dt)-X_train_dt.shape[1]-1)\n",
    "print('Adjusted R-Squared for testing set is {}'.format(adjusted_r_squared_test_dt_gs))"
   ]
  },
  {
   "cell_type": "markdown",
   "metadata": {},
   "source": [
    " <a id=section60203></a>\n",
    "### 6.2.3 Using RandomizedSearchCV"
   ]
  },
  {
   "cell_type": "markdown",
   "metadata": {},
   "source": [
    " <a id=section6020201></a>\n",
    "#### 6.2.2.1 Building Model and Prediction"
   ]
  },
  {
   "cell_type": "code",
   "execution_count": 468,
   "metadata": {},
   "outputs": [],
   "source": [
    "# Number of features to consider at every split\n",
    "max_features = ['auto', 'sqrt']\n",
    "# Maximum number of levels in tree\n",
    "max_depth = [int(x) for x in np.linspace(10, 110, num = 11)]\n",
    "max_depth.append(None)\n",
    "# Minimum number of samples required to split a node\n",
    "min_samples_split = [2, 5, 10]\n",
    "# Minimum number of samples required at each leaf node\n",
    "min_samples_leaf = [1, 2, 4]\n",
    "\n",
    "\n",
    "# Create the random grid\n",
    "random_grid = {\n",
    "               'max_features': max_features,\n",
    "               'max_depth': max_depth,\n",
    "               'min_samples_split': min_samples_split,\n",
    "               'min_samples_leaf': min_samples_leaf\n",
    "}\n"
   ]
  },
  {
   "cell_type": "code",
   "execution_count": 469,
   "metadata": {},
   "outputs": [],
   "source": [
    "# Instantiate the random search model\n",
    "dt_reg_rs = RandomizedSearchCV(estimator = dt_reg, param_distributions = random_grid, n_iter = 100, cv = 3, \n",
    "                               verbose=2, random_state=42, n_jobs = -1)"
   ]
  },
  {
   "cell_type": "code",
   "execution_count": 470,
   "metadata": {
    "scrolled": true
   },
   "outputs": [
    {
     "name": "stdout",
     "output_type": "stream",
     "text": [
      "Fitting 3 folds for each of 100 candidates, totalling 300 fits\n"
     ]
    },
    {
     "name": "stderr",
     "output_type": "stream",
     "text": [
      "[Parallel(n_jobs=-1)]: Using backend LokyBackend with 8 concurrent workers.\n",
      "[Parallel(n_jobs=-1)]: Done  25 tasks      | elapsed:   12.2s\n",
      "[Parallel(n_jobs=-1)]: Done 146 tasks      | elapsed:   14.5s\n",
      "[Parallel(n_jobs=-1)]: Done 300 out of 300 | elapsed:   15.7s finished\n"
     ]
    },
    {
     "data": {
      "text/plain": [
       "RandomizedSearchCV(cv=3, error_score='raise-deprecating',\n",
       "          estimator=DecisionTreeRegressor(criterion='mse', max_depth=None, max_features=None,\n",
       "           max_leaf_nodes=None, min_impurity_decrease=0.0,\n",
       "           min_impurity_split=None, min_samples_leaf=1,\n",
       "           min_samples_split=2, min_weight_fraction_leaf=0.0,\n",
       "           presort=False, random_state=None, splitter='best'),\n",
       "          fit_params=None, iid='warn', n_iter=100, n_jobs=-1,\n",
       "          param_distributions={'max_features': ['auto', 'sqrt'], 'max_depth': [10, 20, 30, 40, 50, 60, 70, 80, 90, 100, 110, None], 'min_samples_split': [2, 5, 10], 'min_samples_leaf': [1, 2, 4]},\n",
       "          pre_dispatch='2*n_jobs', random_state=42, refit=True,\n",
       "          return_train_score='warn', scoring=None, verbose=2)"
      ]
     },
     "execution_count": 470,
     "metadata": {},
     "output_type": "execute_result"
    }
   ],
   "source": [
    "dt_reg_rs.fit(X_train_dt, y_train_dt)"
   ]
  },
  {
   "cell_type": "code",
   "execution_count": 471,
   "metadata": {},
   "outputs": [],
   "source": [
    "#prediction on training data\n",
    "y_pred_train_dt_rs = dt_reg_rs.predict(X_train_dt)\n",
    "\n",
    "#prediction on testing data\n",
    "y_pred_test_dt_rs = dt_reg_rs.predict(X_test_dt)"
   ]
  },
  {
   "cell_type": "markdown",
   "metadata": {},
   "source": [
    "<a id=section6020202></a>\n",
    "#### 6.2.2.2 Model Evaluation"
   ]
  },
  {
   "cell_type": "markdown",
   "metadata": {},
   "source": [
    "#### a. RMSE\n"
   ]
  },
  {
   "cell_type": "code",
   "execution_count": 472,
   "metadata": {},
   "outputs": [
    {
     "name": "stdout",
     "output_type": "stream",
     "text": [
      "RMSE for training set is 20889.06040560536\n",
      "RMSE for testing set is 40736.777687162474\n"
     ]
    }
   ],
   "source": [
    "RMSE_train_dt_rs = np.sqrt( metrics.mean_squared_error(y_train_dt, y_pred_train_dt_rs))\n",
    "print('RMSE for training set is {}'.format(RMSE_train_dt_rs))\n",
    "\n",
    "RMSE_test_dt_gs = np.sqrt( metrics.mean_squared_error(y_test_dt, y_pred_test_dt_rs))\n",
    "print('RMSE for testing set is {}'.format(RMSE_test_dt_gs))"
   ]
  },
  {
   "cell_type": "markdown",
   "metadata": {},
   "source": [
    "#### b. MAPE\n"
   ]
  },
  {
   "cell_type": "code",
   "execution_count": 473,
   "metadata": {},
   "outputs": [
    {
     "name": "stdout",
     "output_type": "stream",
     "text": [
      "MAPE for training set is 6.566364335617564\n",
      "MAPE for testing set is 15.747760589379817\n"
     ]
    }
   ],
   "source": [
    "mape_train_error = mean_absolute_percentage_error(y_train_dt, y_pred_train_dt_rs)\n",
    "mape_test_error = mean_absolute_percentage_error(y_test_dt, y_pred_test_dt_rs)\n",
    "print('MAPE for training set is {}'.format(mape_train_error))\n",
    "print('MAPE for testing set is {}'.format(mape_test_error))"
   ]
  },
  {
   "cell_type": "markdown",
   "metadata": {},
   "source": [
    "#### c. R-Squared Error"
   ]
  },
  {
   "cell_type": "code",
   "execution_count": 459,
   "metadata": {},
   "outputs": [
    {
     "name": "stdout",
     "output_type": "stream",
     "text": [
      "R-Squared for training set is 0.9340272651055773\n"
     ]
    }
   ],
   "source": [
    "r_squared_train_dt_gs = r2_score(y_train_dt,y_pred_train_dt_gs )\n",
    "print('R-Squared for training set is {}'.format(r_squared_train_dt_gs))"
   ]
  },
  {
   "cell_type": "code",
   "execution_count": 460,
   "metadata": {},
   "outputs": [
    {
     "name": "stdout",
     "output_type": "stream",
     "text": [
      "R-Squared for testing set is 0.7032584207946041\n"
     ]
    }
   ],
   "source": [
    "r_squared_test_dt_gs = r2_score(y_test_dt,y_pred_test_dt_gs )\n",
    "print('R-Squared for testing set is {}'.format(r_squared_test_dt_gs))"
   ]
  },
  {
   "cell_type": "markdown",
   "metadata": {},
   "source": [
    "#### d. Adjusted R-Squared Error"
   ]
  },
  {
   "cell_type": "code",
   "execution_count": 461,
   "metadata": {
    "scrolled": true
   },
   "outputs": [
    {
     "name": "stdout",
     "output_type": "stream",
     "text": [
      "Adjusted R-Squared for training set is 0.9268563156605314\n"
     ]
    }
   ],
   "source": [
    "adjusted_r_squared_train_dt_gs = 1 - (1-r_squared_train_dt_gs)*(len(y_train_dt)-1)/(len(y_train_dt)-X_train_dt.shape[1]-1)\n",
    "print('Adjusted R-Squared for training set is {}'.format(adjusted_r_squared_train_dt_gs))"
   ]
  },
  {
   "cell_type": "code",
   "execution_count": 462,
   "metadata": {},
   "outputs": [
    {
     "name": "stdout",
     "output_type": "stream",
     "text": [
      "Adjusted R-Squared for testing set is 0.6152045397247536\n"
     ]
    }
   ],
   "source": [
    "adjusted_r_squared_test_dt_gs = 1 - (1-r_squared_test_dt_gs)*(len(y_test_dt)-1)/(len(y_test_dt)-X_train_dt.shape[1]-1)\n",
    "print('Adjusted R-Squared for testing set is {}'.format(adjusted_r_squared_test_dt_gs))"
   ]
  },
  {
   "cell_type": "markdown",
   "metadata": {},
   "source": [
    " <a id=section603></a>\n",
    "## 6.3 Random Forest"
   ]
  },
  {
   "cell_type": "markdown",
   "metadata": {},
   "source": [
    "##### Splitting train and test data\n"
   ]
  },
  {
   "cell_type": "code",
   "execution_count": 452,
   "metadata": {},
   "outputs": [
    {
     "name": "stdout",
     "output_type": "stream",
     "text": [
      "Train cases as below\n",
      "X_train shape:  (1021, 100)\n",
      "y_train shape:  (1021,)\n",
      "\n",
      "Test cases as below\n",
      "X_test shape:  (438, 100)\n",
      "y_test shape:  (438,)\n"
     ]
    }
   ],
   "source": [
    "X_train_rf, X_test_rf, y_train_rf, y_test_rf=split(X,y)\n",
    "print('Train cases as below')\n",
    "print('X_train shape: ',X_train_rf.shape)\n",
    "print('y_train shape: ',y_train_rf.shape)\n",
    "print('\\nTest cases as below')\n",
    "print('X_test shape: ',X_test_rf.shape)\n",
    "print('y_test shape: ',y_test_rf.shape)"
   ]
  },
  {
   "cell_type": "markdown",
   "metadata": {},
   "source": [
    "### 6.3.1 Building Model and Prediction"
   ]
  },
  {
   "cell_type": "code",
   "execution_count": 311,
   "metadata": {},
   "outputs": [
    {
     "data": {
      "text/plain": [
       "RandomForestRegressor(bootstrap=True, criterion='mse', max_depth=None,\n",
       "           max_features='auto', max_leaf_nodes=None,\n",
       "           min_impurity_decrease=0.0, min_impurity_split=None,\n",
       "           min_samples_leaf=1, min_samples_split=2,\n",
       "           min_weight_fraction_leaf=0.0, n_estimators=10, n_jobs=None,\n",
       "           oob_score=False, random_state=None, verbose=0, warm_start=False)"
      ]
     },
     "execution_count": 311,
     "metadata": {},
     "output_type": "execute_result"
    }
   ],
   "source": [
    "from sklearn.ensemble import RandomForestRegressor\n",
    "\n",
    "# using default model for building\n",
    "rf_reg = RandomForestRegressor()\n",
    "rf_reg.fit(X_train_rf, y_train_rf)"
   ]
  },
  {
   "cell_type": "code",
   "execution_count": 315,
   "metadata": {},
   "outputs": [],
   "source": [
    "y_pred_train_rf = rf_reg.predict(X_train_rf)\n",
    "y_pred_test_rf = rf_reg.predict(X_test_rf)"
   ]
  },
  {
   "cell_type": "markdown",
   "metadata": {},
   "source": [
    "### 6.3.2 Model Evaluation"
   ]
  },
  {
   "cell_type": "markdown",
   "metadata": {},
   "source": [
    "#### a. RMSE\n"
   ]
  },
  {
   "cell_type": "code",
   "execution_count": 316,
   "metadata": {},
   "outputs": [
    {
     "name": "stdout",
     "output_type": "stream",
     "text": [
      "RMSE for training set is 13290.913166188602\n",
      "RMSE for testing set is 27419.66278110427\n"
     ]
    }
   ],
   "source": [
    "from sklearn import metrics\n",
    "RMSE_train = np.sqrt( metrics.mean_squared_error(y_train_rf, y_pred_train_rf))\n",
    "print('RMSE for training set is {}'.format(RMSE_train))\n",
    "\n",
    "RMSE_test = np.sqrt( metrics.mean_squared_error(y_test_rf, y_pred_test_rf))\n",
    "print('RMSE for testing set is {}'.format(RMSE_test))"
   ]
  },
  {
   "cell_type": "markdown",
   "metadata": {},
   "source": [
    "#### b. MAPE\n"
   ]
  },
  {
   "cell_type": "code",
   "execution_count": 317,
   "metadata": {},
   "outputs": [
    {
     "name": "stdout",
     "output_type": "stream",
     "text": [
      "MAPE for training set is 4.624750612553229\n",
      "MAPE for testing set is 11.147195558450736\n"
     ]
    }
   ],
   "source": [
    "mape_train_error = mean_absolute_percentage_error(y_train_rf, y_pred_train_rf)\n",
    "mape_test_error = mean_absolute_percentage_error(y_test_rf, y_pred_test_rf)\n",
    "print('MAPE for training set is {}'.format(mape_train_error))\n",
    "print('MAPE for testing set is {}'.format(mape_test_error))"
   ]
  },
  {
   "cell_type": "markdown",
   "metadata": {},
   "source": [
    "#### c. R-Squared Error"
   ]
  },
  {
   "cell_type": "code",
   "execution_count": 318,
   "metadata": {},
   "outputs": [
    {
     "name": "stdout",
     "output_type": "stream",
     "text": [
      "R-Squared for training set is 0.9732923105437975\n"
     ]
    }
   ],
   "source": [
    "r_squared_train_rf = r2_score(y_train_rf,y_pred_train_rf )\n",
    "print('R-Squared for training set is {}'.format(r_squared_train_rf))"
   ]
  },
  {
   "cell_type": "code",
   "execution_count": 319,
   "metadata": {},
   "outputs": [
    {
     "name": "stdout",
     "output_type": "stream",
     "text": [
      "R-Squared for testing set is 0.8654063361399162\n"
     ]
    }
   ],
   "source": [
    "r_squared_test_rf = r2_score(y_test_rf,y_pred_test_rf )\n",
    "print('R-Squared for testing set is {}'.format(r_squared_test_rf))"
   ]
  },
  {
   "cell_type": "markdown",
   "metadata": {},
   "source": [
    "#### d. Adjusted R-Squared Error"
   ]
  },
  {
   "cell_type": "code",
   "execution_count": 320,
   "metadata": {
    "scrolled": true
   },
   "outputs": [
    {
     "name": "stdout",
     "output_type": "stream",
     "text": [
      "Adjusted R-Squared for training set is 0.9703893008202973\n"
     ]
    }
   ],
   "source": [
    "adjusted_r_squared_train_rf = 1 - (1-r_squared_train_rf)*(len(y_train_rf)-1)/(len(y_train_rf)-X_train_rf.shape[1]-1)\n",
    "print('Adjusted R-Squared for training set is {}'.format(adjusted_r_squared_train_rf))"
   ]
  },
  {
   "cell_type": "code",
   "execution_count": 321,
   "metadata": {},
   "outputs": [
    {
     "name": "stdout",
     "output_type": "stream",
     "text": [
      "Adjusted R-Squared for testing set is 0.8254675634811377\n"
     ]
    }
   ],
   "source": [
    "adjusted_r_squared_test_rf = 1 - (1-r_squared_test_rf)*(len(y_test_rf)-1)/(len(y_test_rf)-X_train_rf.shape[1]-1)\n",
    "print('Adjusted R-Squared for testing set is {}'.format(adjusted_r_squared_test_rf))"
   ]
  },
  {
   "cell_type": "code",
   "execution_count": 107,
   "metadata": {
    "colab": {},
    "colab_type": "code",
    "id": "OP3GiJrGUhIb"
   },
   "outputs": [],
   "source": [
    "# Null deviance\n",
    "# Residual deviance\n",
    "#RMSE  Actual +- RMSE"
   ]
  },
  {
   "cell_type": "markdown",
   "metadata": {
    "colab_type": "text",
    "id": "D0UiBytFTw_h"
   },
   "source": []
  }
 ],
 "metadata": {
  "colab": {
   "collapsed_sections": [
    "AK66Ggama2W-",
    "S7q1aeqeRQEg",
    "T-Ry-JqGxLkH",
    "ZXI2i13b5NmP",
    "lSmrkLSJ5XyV"
   ],
   "name": "House_Price_Prediction.ipynb",
   "provenance": [],
   "toc_visible": true
  },
  "kernelspec": {
   "display_name": "Python 3",
   "language": "python",
   "name": "python3"
  },
  "language_info": {
   "codemirror_mode": {
    "name": "ipython",
    "version": 3
   },
   "file_extension": ".py",
   "mimetype": "text/x-python",
   "name": "python",
   "nbconvert_exporter": "python",
   "pygments_lexer": "ipython3",
   "version": "3.7.3"
  }
 },
 "nbformat": 4,
 "nbformat_minor": 1
}
