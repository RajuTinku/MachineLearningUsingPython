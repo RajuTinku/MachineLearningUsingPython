{
  "nbformat": 4,
  "nbformat_minor": 0,
  "metadata": {
    "colab": {
      "name": "ServerHackPrediction_v1.ipynb",
      "provenance": [],
      "collapsed_sections": [
        "3t3HFjVqNwbn",
        "uSNOiIKWuBm_",
        "hlZMR7F_uBnH",
        "olh_1znauBoL",
        "HJxug6SF65-2",
        "IOC_CwtYwGW3",
        "cf3wx6xMa2XA",
        "S4cLX3TIuBpU",
        "987QpKctrQ_K",
        "krZ-NyBgkTkM"
      ],
      "toc_visible": true
    },
    "kernelspec": {
      "name": "python3",
      "display_name": "Python 3"
    }
  },
  "cells": [
    {
      "cell_type": "markdown",
      "metadata": {
        "id": "v-2Ol_XdM1uJ",
        "colab_type": "text"
      },
      "source": [
        "# Server Hack Prediction"
      ]
    },
    {
      "cell_type": "markdown",
      "metadata": {
        "id": "SC1efe9bI-Js",
        "colab_type": "text"
      },
      "source": [
        "## Table of Contents\n",
        "\n",
        "1. [Problem Statement](#section1)<br>\n",
        "2. [Importing Packages](#section2)<br>\n",
        "3. [Loading Data](#section3)<br>\n",
        "  - 3.1 [Description of the Datasets](#section301)<br>\n",
        "  - 3.2 [Pandas Profiling before Data Preprocessing](#section302)<br>\n",
        "4. [Data Preprocessing](#section4)<br>\n",
        "  - 4.1 [Removing highly correlated columns](#section401)<br>\n",
        "  - 4.2 [Removing columns with more than 50% zeroes](#section402)<br>\n",
        "  - 4.3 [Filling missing values](#section403)<br>\n",
        "  - 4.4 [Transforming date columns](#section404)<br>\n",
        "  - 4.4 [Pandas Profiling after Data Preprocessing](#section404)<br>\n",
        "  - 4.5 [Exploratory Data Analysis](#section405)<br>\n",
        "5. [Data preparation for model building](#section5)<br>\n",
        "  - 5.1 [Dummification / One-Hot Encoding](#section501)<br>\n",
        "  - 5.2 [Merging all columns togethers](#section502)<br>\n",
        "  - 5.3 [Segregating Train and Test data](#section503)<br>\n",
        "  - 5.4 [Applying PCA for dimentionality reduction](#section504)<br>\n",
        "  - 5.5 [Splitting Train data further in to train and validation data for model building](#section505)<br>\n",
        "  - 5.6 [Applying SMOTING for imbalanced data](#section503)<br>\n",
        "6. [Ensemble Modelling and Prediction](#section6)<br>\n",
        "   - 6.1 [Linear Regression](#section601)\n",
        "   - 6.2 [Random Forest](#section602) \n",
        "   - 6.3 [KNN](#section603)\n",
        "   - 6.4 [Naive Bayes](#section604)\n",
        "   - 6.5 [SVM](#section605) \n",
        "7.  [Conclusion](#section7)<br>\n",
        "    "
      ]
    },
    {
      "cell_type": "markdown",
      "metadata": {
        "id": "3t3HFjVqNwbn",
        "colab_type": "text"
      },
      "source": [
        "<a id=section1></a>\n",
        "# 1. Problem Statement"
      ]
    },
    {
      "cell_type": "markdown",
      "metadata": {
        "id": "xvIutT-sIAIM",
        "colab_type": "text"
      },
      "source": [
        "**Predict if the server will be hacked.**\n",
        "\n",
        "All the countries across the globe have adapted to means of digital payments. And with the increased volume of digital payments, hacking has become a pretty common event wherein the hacker can try to hack your details just with your phone number linked to your bank account. However, there is data with some anonymized variables based on which one can predict that the hack is going to happen. \n",
        "\n",
        "Your work is to build a predictive model which can identify a pattern in these variables and suggest that a hack is going to happen so that the cyber security can somehow stop it before it actually happens. You have to predict the column : \"MALICIOUS_OFFENSE\".\n",
        "\n",
        "Hackathon link: https://www.hackerearth.com/challenges/hiring/novartis-data-science-hiring-challenge/"
      ]
    },
    {
      "cell_type": "markdown",
      "metadata": {
        "colab_type": "text",
        "id": "uSNOiIKWuBm_"
      },
      "source": [
        "<a id=section2></a>\n",
        "# 2. Importing Packages"
      ]
    },
    {
      "cell_type": "code",
      "metadata": {
        "colab_type": "code",
        "id": "D260ESLXuBnA",
        "colab": {}
      },
      "source": [
        "import numpy as np                     \n",
        "\n",
        "import pandas as pd\n",
        "\n",
        "# To suppress pandas warnings.\n",
        "pd.set_option('mode.chained_assignment', None) \n",
        "\n",
        "# To display all the data in each column\n",
        "pd.set_option('display.max_colwidth', -1)         \n",
        "\n",
        "pd.get_option(\"display.max_rows\",10000)\n",
        "\n",
        "# To display every column of the dataset in head()\n",
        "pd.options.display.max_columns = 100               \n",
        "\n",
        "import warnings\n",
        "warnings.filterwarnings('ignore')     "
      ],
      "execution_count": 28,
      "outputs": []
    },
    {
      "cell_type": "code",
      "metadata": {
        "colab_type": "code",
        "id": "UGuvARRluBnE",
        "colab": {}
      },
      "source": [
        "import matplotlib.pyplot as plt\n",
        "%matplotlib inline\n",
        "\n",
        "# To apply seaborn styles to the plots.\n",
        "import seaborn as sns\n",
        "sns.set(style='whitegrid', font_scale=1.3, color_codes=True)      "
      ],
      "execution_count": 29,
      "outputs": []
    },
    {
      "cell_type": "markdown",
      "metadata": {
        "colab_type": "text",
        "id": "hlZMR7F_uBnH"
      },
      "source": [
        "<a id=section3></a>\n",
        "\n",
        "# 3. Loading Data"
      ]
    },
    {
      "cell_type": "code",
      "metadata": {
        "colab_type": "code",
        "id": "JRDgBaAMuBnI",
        "scrolled": true,
        "colab": {
          "base_uri": "https://localhost:8080/",
          "height": 0
        },
        "outputId": "6c37977c-c1fd-464a-a7d1-69a4128bec11"
      },
      "source": [
        "# loading data from csv file to a data frame\n",
        "df_train = pd.read_csv(\"Train.csv\", index_col='INCIDENT_ID')\n",
        "df_test = pd.read_csv(\"Test.csv\", index_col='INCIDENT_ID')\n",
        "\n",
        "# Adding new column 'isTestData' so that we can easily separate train and test \n",
        "# data during prediction process\n",
        "df_train['IS_TEST_DATA'] = 0\n",
        "\n",
        "df_test['IS_TEST_DATA'] = 1\n",
        "\n",
        "# concat train and test data for data pre processing\n",
        "df_hack = pd.concat([df_train,df_test])\n",
        "\n",
        "# print train and test shape\n",
        "df_train.shape, df_test.shape"
      ],
      "execution_count": 30,
      "outputs": [
        {
          "output_type": "execute_result",
          "data": {
            "text/plain": [
              "((23856, 18), (15903, 17))"
            ]
          },
          "metadata": {
            "tags": []
          },
          "execution_count": 30
        }
      ]
    },
    {
      "cell_type": "code",
      "metadata": {
        "id": "RlTwlbceE4Ie",
        "colab_type": "code",
        "colab": {}
      },
      "source": [
        "# delete train and test variables\n",
        "del df_train\n",
        "del df_test"
      ],
      "execution_count": 31,
      "outputs": []
    },
    {
      "cell_type": "markdown",
      "metadata": {
        "colab_type": "text",
        "id": "B-MIdzP3uBnM"
      },
      "source": [
        "<a id=section301></a>\n",
        "## 3.1 Description of the Datasets"
      ]
    },
    {
      "cell_type": "markdown",
      "metadata": {
        "colab_type": "text",
        "id": "_m6FGfKbuBnN"
      },
      "source": [
        "#### a. Check shape"
      ]
    },
    {
      "cell_type": "code",
      "metadata": {
        "colab_type": "code",
        "id": "hHFSe47vuBnO",
        "colab": {
          "base_uri": "https://localhost:8080/",
          "height": 0
        },
        "outputId": "89f42031-1b9d-4e5d-a788-ccf2f0a9d30f"
      },
      "source": [
        "df_hack.shape"
      ],
      "execution_count": 32,
      "outputs": [
        {
          "output_type": "execute_result",
          "data": {
            "text/plain": [
              "(39759, 18)"
            ]
          },
          "metadata": {
            "tags": []
          },
          "execution_count": 32
        }
      ]
    },
    {
      "cell_type": "markdown",
      "metadata": {
        "colab_type": "text",
        "id": "wf_UUQ2vuBnR"
      },
      "source": [
        "#### b. info\n",
        "\n",
        "**Input Variables:**\n",
        "\n",
        "\n",
        "1.  INCIDENT_ID: Unique Identifier for an incident log.\n",
        "2.  DATE: Date wof incident occurence.\n",
        "3.  X_1-X_15: Anonymized logging parameters.\n",
        "\n",
        "**Output Variables:**\n",
        "\n",
        "1.  MULTIPLE_OFFENSE: Indicates if the incident was a hack."
      ]
    },
    {
      "cell_type": "code",
      "metadata": {
        "colab_type": "code",
        "id": "Pix87vQWuBnS",
        "scrolled": true,
        "colab": {
          "base_uri": "https://localhost:8080/",
          "height": 0
        },
        "outputId": "503d8933-7ece-464c-9c40-8781fbd4592b"
      },
      "source": [
        "df_hack.info()"
      ],
      "execution_count": 33,
      "outputs": [
        {
          "output_type": "stream",
          "text": [
            "<class 'pandas.core.frame.DataFrame'>\n",
            "Index: 39759 entries, CR_102659 to CR_33545\n",
            "Data columns (total 18 columns):\n",
            " #   Column            Non-Null Count  Dtype  \n",
            "---  ------            --------------  -----  \n",
            " 0   DATE              39759 non-null  object \n",
            " 1   X_1               39759 non-null  int64  \n",
            " 2   X_2               39759 non-null  int64  \n",
            " 3   X_3               39759 non-null  int64  \n",
            " 4   X_4               39759 non-null  int64  \n",
            " 5   X_5               39759 non-null  int64  \n",
            " 6   X_6               39759 non-null  int64  \n",
            " 7   X_7               39759 non-null  int64  \n",
            " 8   X_8               39759 non-null  int64  \n",
            " 9   X_9               39759 non-null  int64  \n",
            " 10  X_10              39759 non-null  int64  \n",
            " 11  X_11              39759 non-null  int64  \n",
            " 12  X_12              39450 non-null  float64\n",
            " 13  X_13              39759 non-null  int64  \n",
            " 14  X_14              39759 non-null  int64  \n",
            " 15  X_15              39759 non-null  int64  \n",
            " 16  MULTIPLE_OFFENSE  23856 non-null  float64\n",
            " 17  IS_TEST_DATA      39759 non-null  int64  \n",
            "dtypes: float64(2), int64(15), object(1)\n",
            "memory usage: 5.8+ MB\n"
          ],
          "name": "stdout"
        }
      ]
    },
    {
      "cell_type": "markdown",
      "metadata": {
        "colab_type": "text",
        "id": "SB6EdN8tuBnV"
      },
      "source": [
        "**Observations :**  \n",
        "\n",
        "We have missing values for **X_12**."
      ]
    },
    {
      "cell_type": "markdown",
      "metadata": {
        "colab_type": "text",
        "id": "H_CCA-lquBnW"
      },
      "source": [
        "#### c. describe"
      ]
    },
    {
      "cell_type": "code",
      "metadata": {
        "colab_type": "code",
        "id": "VJt2QWtauBnX",
        "scrolled": true,
        "colab": {
          "base_uri": "https://localhost:8080/",
          "height": 0
        },
        "outputId": "da2df191-59c8-4050-cded-48bff3fbaa99"
      },
      "source": [
        "df_hack.describe()"
      ],
      "execution_count": 34,
      "outputs": [
        {
          "output_type": "execute_result",
          "data": {
            "text/html": [
              "<div>\n",
              "<style scoped>\n",
              "    .dataframe tbody tr th:only-of-type {\n",
              "        vertical-align: middle;\n",
              "    }\n",
              "\n",
              "    .dataframe tbody tr th {\n",
              "        vertical-align: top;\n",
              "    }\n",
              "\n",
              "    .dataframe thead th {\n",
              "        text-align: right;\n",
              "    }\n",
              "</style>\n",
              "<table border=\"1\" class=\"dataframe\">\n",
              "  <thead>\n",
              "    <tr style=\"text-align: right;\">\n",
              "      <th></th>\n",
              "      <th>X_1</th>\n",
              "      <th>X_2</th>\n",
              "      <th>X_3</th>\n",
              "      <th>X_4</th>\n",
              "      <th>X_5</th>\n",
              "      <th>X_6</th>\n",
              "      <th>X_7</th>\n",
              "      <th>X_8</th>\n",
              "      <th>X_9</th>\n",
              "      <th>X_10</th>\n",
              "      <th>X_11</th>\n",
              "      <th>X_12</th>\n",
              "      <th>X_13</th>\n",
              "      <th>X_14</th>\n",
              "      <th>X_15</th>\n",
              "      <th>MULTIPLE_OFFENSE</th>\n",
              "      <th>IS_TEST_DATA</th>\n",
              "    </tr>\n",
              "  </thead>\n",
              "  <tbody>\n",
              "    <tr>\n",
              "      <th>count</th>\n",
              "      <td>39759.000000</td>\n",
              "      <td>39759.000000</td>\n",
              "      <td>39759.000000</td>\n",
              "      <td>39759.000000</td>\n",
              "      <td>39759.000000</td>\n",
              "      <td>39759.000000</td>\n",
              "      <td>39759.000000</td>\n",
              "      <td>39759.000000</td>\n",
              "      <td>39759.000000</td>\n",
              "      <td>39759.000000</td>\n",
              "      <td>39759.000000</td>\n",
              "      <td>39450.000000</td>\n",
              "      <td>39759.000000</td>\n",
              "      <td>39759.000000</td>\n",
              "      <td>39759.000000</td>\n",
              "      <td>23856.000000</td>\n",
              "      <td>39759.000000</td>\n",
              "    </tr>\n",
              "    <tr>\n",
              "      <th>mean</th>\n",
              "      <td>0.477502</td>\n",
              "      <td>24.763777</td>\n",
              "      <td>24.612490</td>\n",
              "      <td>4.279735</td>\n",
              "      <td>2.452753</td>\n",
              "      <td>6.126462</td>\n",
              "      <td>4.870947</td>\n",
              "      <td>0.978168</td>\n",
              "      <td>4.917981</td>\n",
              "      <td>1.243366</td>\n",
              "      <td>206.954350</td>\n",
              "      <td>0.973333</td>\n",
              "      <td>85.218869</td>\n",
              "      <td>72.492014</td>\n",
              "      <td>33.447899</td>\n",
              "      <td>0.955231</td>\n",
              "      <td>0.399985</td>\n",
              "    </tr>\n",
              "    <tr>\n",
              "      <th>std</th>\n",
              "      <td>1.428755</td>\n",
              "      <td>15.235522</td>\n",
              "      <td>15.131877</td>\n",
              "      <td>2.956638</td>\n",
              "      <td>1.963184</td>\n",
              "      <td>4.463585</td>\n",
              "      <td>3.870959</td>\n",
              "      <td>1.460421</td>\n",
              "      <td>1.367462</td>\n",
              "      <td>1.017419</td>\n",
              "      <td>93.061957</td>\n",
              "      <td>1.060945</td>\n",
              "      <td>27.555325</td>\n",
              "      <td>43.353765</td>\n",
              "      <td>8.357811</td>\n",
              "      <td>0.206800</td>\n",
              "      <td>0.489901</td>\n",
              "    </tr>\n",
              "    <tr>\n",
              "      <th>min</th>\n",
              "      <td>0.000000</td>\n",
              "      <td>0.000000</td>\n",
              "      <td>0.000000</td>\n",
              "      <td>0.000000</td>\n",
              "      <td>0.000000</td>\n",
              "      <td>1.000000</td>\n",
              "      <td>0.000000</td>\n",
              "      <td>0.000000</td>\n",
              "      <td>0.000000</td>\n",
              "      <td>1.000000</td>\n",
              "      <td>0.000000</td>\n",
              "      <td>0.000000</td>\n",
              "      <td>0.000000</td>\n",
              "      <td>0.000000</td>\n",
              "      <td>0.000000</td>\n",
              "      <td>0.000000</td>\n",
              "      <td>0.000000</td>\n",
              "    </tr>\n",
              "    <tr>\n",
              "      <th>25%</th>\n",
              "      <td>0.000000</td>\n",
              "      <td>7.000000</td>\n",
              "      <td>8.000000</td>\n",
              "      <td>2.000000</td>\n",
              "      <td>1.000000</td>\n",
              "      <td>3.000000</td>\n",
              "      <td>2.000000</td>\n",
              "      <td>0.000000</td>\n",
              "      <td>5.000000</td>\n",
              "      <td>1.000000</td>\n",
              "      <td>174.000000</td>\n",
              "      <td>1.000000</td>\n",
              "      <td>72.000000</td>\n",
              "      <td>29.000000</td>\n",
              "      <td>34.000000</td>\n",
              "      <td>1.000000</td>\n",
              "      <td>0.000000</td>\n",
              "    </tr>\n",
              "    <tr>\n",
              "      <th>50%</th>\n",
              "      <td>0.000000</td>\n",
              "      <td>24.000000</td>\n",
              "      <td>24.000000</td>\n",
              "      <td>4.000000</td>\n",
              "      <td>3.000000</td>\n",
              "      <td>5.000000</td>\n",
              "      <td>4.000000</td>\n",
              "      <td>1.000000</td>\n",
              "      <td>5.000000</td>\n",
              "      <td>1.000000</td>\n",
              "      <td>249.000000</td>\n",
              "      <td>1.000000</td>\n",
              "      <td>98.000000</td>\n",
              "      <td>62.000000</td>\n",
              "      <td>34.000000</td>\n",
              "      <td>1.000000</td>\n",
              "      <td>0.000000</td>\n",
              "    </tr>\n",
              "    <tr>\n",
              "      <th>75%</th>\n",
              "      <td>0.000000</td>\n",
              "      <td>36.000000</td>\n",
              "      <td>35.000000</td>\n",
              "      <td>6.000000</td>\n",
              "      <td>5.000000</td>\n",
              "      <td>8.000000</td>\n",
              "      <td>7.000000</td>\n",
              "      <td>1.000000</td>\n",
              "      <td>6.000000</td>\n",
              "      <td>1.000000</td>\n",
              "      <td>249.000000</td>\n",
              "      <td>1.000000</td>\n",
              "      <td>103.000000</td>\n",
              "      <td>107.000000</td>\n",
              "      <td>34.000000</td>\n",
              "      <td>1.000000</td>\n",
              "      <td>1.000000</td>\n",
              "    </tr>\n",
              "    <tr>\n",
              "      <th>max</th>\n",
              "      <td>7.000000</td>\n",
              "      <td>52.000000</td>\n",
              "      <td>52.000000</td>\n",
              "      <td>10.000000</td>\n",
              "      <td>5.000000</td>\n",
              "      <td>19.000000</td>\n",
              "      <td>18.000000</td>\n",
              "      <td>99.000000</td>\n",
              "      <td>6.000000</td>\n",
              "      <td>90.000000</td>\n",
              "      <td>332.000000</td>\n",
              "      <td>90.000000</td>\n",
              "      <td>117.000000</td>\n",
              "      <td>142.000000</td>\n",
              "      <td>50.000000</td>\n",
              "      <td>1.000000</td>\n",
              "      <td>1.000000</td>\n",
              "    </tr>\n",
              "  </tbody>\n",
              "</table>\n",
              "</div>"
            ],
            "text/plain": [
              "                X_1           X_2           X_3           X_4           X_5  \\\n",
              "count  39759.000000  39759.000000  39759.000000  39759.000000  39759.000000   \n",
              "mean   0.477502      24.763777     24.612490     4.279735      2.452753       \n",
              "std    1.428755      15.235522     15.131877     2.956638      1.963184       \n",
              "min    0.000000      0.000000      0.000000      0.000000      0.000000       \n",
              "25%    0.000000      7.000000      8.000000      2.000000      1.000000       \n",
              "50%    0.000000      24.000000     24.000000     4.000000      3.000000       \n",
              "75%    0.000000      36.000000     35.000000     6.000000      5.000000       \n",
              "max    7.000000      52.000000     52.000000     10.000000     5.000000       \n",
              "\n",
              "                X_6           X_7           X_8           X_9          X_10  \\\n",
              "count  39759.000000  39759.000000  39759.000000  39759.000000  39759.000000   \n",
              "mean   6.126462      4.870947      0.978168      4.917981      1.243366       \n",
              "std    4.463585      3.870959      1.460421      1.367462      1.017419       \n",
              "min    1.000000      0.000000      0.000000      0.000000      1.000000       \n",
              "25%    3.000000      2.000000      0.000000      5.000000      1.000000       \n",
              "50%    5.000000      4.000000      1.000000      5.000000      1.000000       \n",
              "75%    8.000000      7.000000      1.000000      6.000000      1.000000       \n",
              "max    19.000000     18.000000     99.000000     6.000000      90.000000      \n",
              "\n",
              "               X_11          X_12          X_13          X_14          X_15  \\\n",
              "count  39759.000000  39450.000000  39759.000000  39759.000000  39759.000000   \n",
              "mean   206.954350    0.973333      85.218869     72.492014     33.447899      \n",
              "std    93.061957     1.060945      27.555325     43.353765     8.357811       \n",
              "min    0.000000      0.000000      0.000000      0.000000      0.000000       \n",
              "25%    174.000000    1.000000      72.000000     29.000000     34.000000      \n",
              "50%    249.000000    1.000000      98.000000     62.000000     34.000000      \n",
              "75%    249.000000    1.000000      103.000000    107.000000    34.000000      \n",
              "max    332.000000    90.000000     117.000000    142.000000    50.000000      \n",
              "\n",
              "       MULTIPLE_OFFENSE  IS_TEST_DATA  \n",
              "count  23856.000000      39759.000000  \n",
              "mean   0.955231          0.399985      \n",
              "std    0.206800          0.489901      \n",
              "min    0.000000          0.000000      \n",
              "25%    1.000000          0.000000      \n",
              "50%    1.000000          0.000000      \n",
              "75%    1.000000          1.000000      \n",
              "max    1.000000          1.000000      "
            ]
          },
          "metadata": {
            "tags": []
          },
          "execution_count": 34
        }
      ]
    },
    {
      "cell_type": "markdown",
      "metadata": {
        "colab_type": "text",
        "id": "_KYpQsBDuBna"
      },
      "source": [
        "**Observations :** Looks like there are some outliers. Let's confirm same from pandas profiling in next step.\n"
      ]
    },
    {
      "cell_type": "markdown",
      "metadata": {
        "colab_type": "text",
        "id": "05W5gAznuBnb"
      },
      "source": [
        " <a id=section302></a>\n",
        "## 3.2 Pandas Profiling before Data Preprocessing"
      ]
    },
    {
      "cell_type": "code",
      "metadata": {
        "id": "01oGAuXklzKA",
        "colab_type": "code",
        "colab": {}
      },
      "source": [
        "# To install pandas profiling please run this command.\n",
        "\n",
        "#!pip install folium==0.2.1\n",
        "#!pip install pandas-profiling --upgrade"
      ],
      "execution_count": 35,
      "outputs": []
    },
    {
      "cell_type": "code",
      "metadata": {
        "id": "C0A-QgBVkdGh",
        "colab_type": "code",
        "colab": {}
      },
      "source": [
        "from pandas_profiling import ProfileReport\n",
        "\n",
        "# Running pandas profiling to get better understanding of data\n",
        "# profile =  ProfileReport(df_hack, title='Pandas Profiling Report before data preprocessing', html={'style':{'full_width':True}})\n",
        "# profile.to_file(output_file=\"report_before_processing.html\")"
      ],
      "execution_count": 36,
      "outputs": []
    },
    {
      "cell_type": "markdown",
      "metadata": {
        "colab_type": "text",
        "id": "jjyJwVL_uBni"
      },
      "source": [
        " <a id=section4></a>\n",
        "# 4. Data Preprocessing"
      ]
    },
    {
      "cell_type": "markdown",
      "metadata": {
        "colab_type": "text",
        "id": "olh_1znauBoL"
      },
      "source": [
        " <a id=section401></a>\n",
        " \n",
        "## 4.1 Removing highly correlated columns"
      ]
    },
    {
      "cell_type": "markdown",
      "metadata": {
        "id": "e-oaGOsGse_K",
        "colab_type": "text"
      },
      "source": [
        "**NOTE:**\n",
        "\n",
        "From pandas profiling we can observe **X_2 and X_3**  has high correlation. Let's delete **X_3**"
      ]
    },
    {
      "cell_type": "code",
      "metadata": {
        "id": "dagahbDVrzk8",
        "colab_type": "code",
        "colab": {}
      },
      "source": [
        "df_hack.drop('X_3', axis = 1, inplace=True)"
      ],
      "execution_count": 37,
      "outputs": []
    },
    {
      "cell_type": "markdown",
      "metadata": {
        "id": "vR6LN-J3t3ss",
        "colab_type": "text"
      },
      "source": [
        " <a id=section402></a>\n",
        " \n",
        "## 4.2 Removing columns with more than 50% zeroes"
      ]
    },
    {
      "cell_type": "markdown",
      "metadata": {
        "id": "kAKD3CROvOya",
        "colab_type": "text"
      },
      "source": [
        "**NOTE:**\n",
        "\n",
        "From pandas profiling we can observe **X_1** has 80% of zeroes. Let's delete **X_1**"
      ]
    },
    {
      "cell_type": "code",
      "metadata": {
        "id": "LAOg8ylluLnB",
        "colab_type": "code",
        "colab": {}
      },
      "source": [
        "df_hack.drop('X_1', axis=1,inplace=True)"
      ],
      "execution_count": 38,
      "outputs": []
    },
    {
      "cell_type": "markdown",
      "metadata": {
        "id": "HJxug6SF65-2",
        "colab_type": "text"
      },
      "source": [
        " <a id=section403></a>\n",
        " \n",
        "## 4.3 Transforming date columns"
      ]
    },
    {
      "cell_type": "markdown",
      "metadata": {
        "id": "z4Kpmbz2Asjx",
        "colab_type": "text"
      },
      "source": [
        "### a. Converting DATE to pandas datetime."
      ]
    },
    {
      "cell_type": "code",
      "metadata": {
        "id": "wBMFjMOD-zLq",
        "colab_type": "code",
        "colab": {
          "base_uri": "https://localhost:8080/",
          "height": 0
        },
        "outputId": "475611b4-313b-40ba-c0eb-6f2cbdee3b60"
      },
      "source": [
        "df_hack['DATE'] = pd.to_datetime(df_hack['DATE'] , errors = 'coerce', utc = True)\n",
        "df_hack.dtypes"
      ],
      "execution_count": 39,
      "outputs": [
        {
          "output_type": "execute_result",
          "data": {
            "text/plain": [
              "DATE                datetime64[ns, UTC]\n",
              "X_2                 int64              \n",
              "X_4                 int64              \n",
              "X_5                 int64              \n",
              "X_6                 int64              \n",
              "X_7                 int64              \n",
              "X_8                 int64              \n",
              "X_9                 int64              \n",
              "X_10                int64              \n",
              "X_11                int64              \n",
              "X_12                float64            \n",
              "X_13                int64              \n",
              "X_14                int64              \n",
              "X_15                int64              \n",
              "MULTIPLE_OFFENSE    float64            \n",
              "IS_TEST_DATA        int64              \n",
              "dtype: object"
            ]
          },
          "metadata": {
            "tags": []
          },
          "execution_count": 39
        }
      ]
    },
    {
      "cell_type": "code",
      "metadata": {
        "id": "liAGIVKRAF7p",
        "colab_type": "code",
        "colab": {
          "base_uri": "https://localhost:8080/",
          "height": 0
        },
        "outputId": "99cbaa98-3b7e-41c2-fcf6-f17ab7368357"
      },
      "source": [
        "df_hack.dtypes"
      ],
      "execution_count": 40,
      "outputs": [
        {
          "output_type": "execute_result",
          "data": {
            "text/plain": [
              "DATE                datetime64[ns, UTC]\n",
              "X_2                 int64              \n",
              "X_4                 int64              \n",
              "X_5                 int64              \n",
              "X_6                 int64              \n",
              "X_7                 int64              \n",
              "X_8                 int64              \n",
              "X_9                 int64              \n",
              "X_10                int64              \n",
              "X_11                int64              \n",
              "X_12                float64            \n",
              "X_13                int64              \n",
              "X_14                int64              \n",
              "X_15                int64              \n",
              "MULTIPLE_OFFENSE    float64            \n",
              "IS_TEST_DATA        int64              \n",
              "dtype: object"
            ]
          },
          "metadata": {
            "tags": []
          },
          "execution_count": 40
        }
      ]
    },
    {
      "cell_type": "markdown",
      "metadata": {
        "id": "KJTahtUnA_sp",
        "colab_type": "text"
      },
      "source": [
        "### b. Feature extraction from DATE column"
      ]
    },
    {
      "cell_type": "code",
      "metadata": {
        "id": "5Tuq8cBo_w34",
        "colab_type": "code",
        "colab": {}
      },
      "source": [
        "df_hack['YEAR'] = df_hack['DATE'].dt.year\n",
        "\n",
        "df_hack['MONTH'] = df_hack['DATE'].dt.month\n",
        "\n",
        "df_hack['DAY'] = df_hack['DATE'].dt.day"
      ],
      "execution_count": 41,
      "outputs": []
    },
    {
      "cell_type": "code",
      "metadata": {
        "id": "z2jB0nnqBjMu",
        "colab_type": "code",
        "colab": {}
      },
      "source": [
        "# Weekend or Weekday\n",
        "df_hack['dayofweek_name'] = df_hack['DATE'].dt.dayofweek\n",
        "df_hack['IS_WEEKEND'] = np.where(df_hack['dayofweek_name'].isin([5,6]),1,0)"
      ],
      "execution_count": 42,
      "outputs": []
    },
    {
      "cell_type": "code",
      "metadata": {
        "id": "kHL_r7Jv-NBP",
        "colab_type": "code",
        "colab": {}
      },
      "source": [
        "# quarter of an year\n",
        "df_hack['QUARTER_OF_YEAR'] = df_hack['DATE'].dt.quarter"
      ],
      "execution_count": 43,
      "outputs": []
    },
    {
      "cell_type": "code",
      "metadata": {
        "id": "enzYJbqBKFRh",
        "colab_type": "code",
        "colab": {}
      },
      "source": [
        "# drop DATE, dayofweek_name columns\n",
        "df_hack.drop(['DATE', 'dayofweek_name'], axis=1, inplace=True)"
      ],
      "execution_count": 44,
      "outputs": []
    },
    {
      "cell_type": "markdown",
      "metadata": {
        "id": "IOC_CwtYwGW3",
        "colab_type": "text"
      },
      "source": [
        " <a id=section404></a>\n",
        " \n",
        "## 4.4 Filling missing values"
      ]
    },
    {
      "cell_type": "code",
      "metadata": {
        "id": "DVGbZlI_5wTP",
        "colab_type": "code",
        "colab": {
          "base_uri": "https://localhost:8080/",
          "height": 0
        },
        "outputId": "d3fd4df8-2a71-4ba9-bef5-94dcd4fce594"
      },
      "source": [
        "df_hack.isnull().sum()"
      ],
      "execution_count": 45,
      "outputs": [
        {
          "output_type": "execute_result",
          "data": {
            "text/plain": [
              "X_2                 0    \n",
              "X_4                 0    \n",
              "X_5                 0    \n",
              "X_6                 0    \n",
              "X_7                 0    \n",
              "X_8                 0    \n",
              "X_9                 0    \n",
              "X_10                0    \n",
              "X_11                0    \n",
              "X_12                309  \n",
              "X_13                0    \n",
              "X_14                0    \n",
              "X_15                0    \n",
              "MULTIPLE_OFFENSE    15903\n",
              "IS_TEST_DATA        0    \n",
              "YEAR                0    \n",
              "MONTH               0    \n",
              "DAY                 0    \n",
              "IS_WEEKEND          0    \n",
              "QUARTER_OF_YEAR     0    \n",
              "dtype: int64"
            ]
          },
          "metadata": {
            "tags": []
          },
          "execution_count": 45
        }
      ]
    },
    {
      "cell_type": "markdown",
      "metadata": {
        "id": "tfZF4up8wQyr",
        "colab_type": "text"
      },
      "source": [
        "**NOTE:**\n",
        "\n",
        "From above we can observe **X_12** has missing values. As column name is not given and it looks like numerical , first we have to figureout whether **X_12** is numerical or categorical column. Let's check how many unique values column has."
      ]
    },
    {
      "cell_type": "code",
      "metadata": {
        "id": "K2u_20kTvJ-S",
        "colab_type": "code",
        "colab": {
          "base_uri": "https://localhost:8080/",
          "height": 0
        },
        "outputId": "0e9f9ab8-b86c-4250-f0ce-cf6ae5e7157c"
      },
      "source": [
        "df_hack.nunique()"
      ],
      "execution_count": 46,
      "outputs": [
        {
          "output_type": "execute_result",
          "data": {
            "text/plain": [
              "X_2                 52 \n",
              "X_4                 10 \n",
              "X_5                 5  \n",
              "X_6                 19 \n",
              "X_7                 19 \n",
              "X_8                 27 \n",
              "X_9                 7  \n",
              "X_10                26 \n",
              "X_11                150\n",
              "X_12                24 \n",
              "X_13                68 \n",
              "X_14                69 \n",
              "X_15                36 \n",
              "MULTIPLE_OFFENSE    2  \n",
              "IS_TEST_DATA        2  \n",
              "YEAR                28 \n",
              "MONTH               12 \n",
              "DAY                 31 \n",
              "IS_WEEKEND          2  \n",
              "QUARTER_OF_YEAR     4  \n",
              "dtype: int64"
            ]
          },
          "metadata": {
            "tags": []
          },
          "execution_count": 46
        }
      ]
    },
    {
      "cell_type": "markdown",
      "metadata": {
        "id": "HgP347xA4j6l",
        "colab_type": "text"
      },
      "source": [
        "**NOTE :**\n",
        "\n",
        "1. As there are only 24 unique values, we can safely assume X_12 as categorical column. Let's fill it with mode.\n",
        "\n",
        "2. Columns X_1 to X_12 looks like numerical but after printing unique values in each of them they look more like categorical."
      ]
    },
    {
      "cell_type": "code",
      "metadata": {
        "id": "AO3aJhq95mZ7",
        "colab_type": "code",
        "colab": {}
      },
      "source": [
        " # Replacing the missing values with mode.\n",
        "df_hack['X_12'].fillna(df_hack['X_12'].mode()[0], inplace=True)"
      ],
      "execution_count": 47,
      "outputs": []
    },
    {
      "cell_type": "code",
      "metadata": {
        "id": "Nk6kKWFP-2u5",
        "colab_type": "code",
        "colab": {
          "base_uri": "https://localhost:8080/",
          "height": 0
        },
        "outputId": "6985c4e0-8c59-4f94-cda3-af60a42eb4dc"
      },
      "source": [
        "df_hack.isnull().sum()"
      ],
      "execution_count": 48,
      "outputs": [
        {
          "output_type": "execute_result",
          "data": {
            "text/plain": [
              "X_2                 0    \n",
              "X_4                 0    \n",
              "X_5                 0    \n",
              "X_6                 0    \n",
              "X_7                 0    \n",
              "X_8                 0    \n",
              "X_9                 0    \n",
              "X_10                0    \n",
              "X_11                0    \n",
              "X_12                0    \n",
              "X_13                0    \n",
              "X_14                0    \n",
              "X_15                0    \n",
              "MULTIPLE_OFFENSE    15903\n",
              "IS_TEST_DATA        0    \n",
              "YEAR                0    \n",
              "MONTH               0    \n",
              "DAY                 0    \n",
              "IS_WEEKEND          0    \n",
              "QUARTER_OF_YEAR     0    \n",
              "dtype: int64"
            ]
          },
          "metadata": {
            "tags": []
          },
          "execution_count": 48
        }
      ]
    },
    {
      "cell_type": "markdown",
      "metadata": {
        "id": "sNgGbFZcj7fB",
        "colab_type": "text"
      },
      "source": [
        " <a id=section405></a>\n",
        "## 4.5 Pandas Profiling after Data Preprocessing"
      ]
    },
    {
      "cell_type": "code",
      "metadata": {
        "id": "cO1Dez6zkAQj",
        "colab_type": "code",
        "colab": {}
      },
      "source": [
        "# Running pandas profiling to get better understanding of data\n",
        "# profile =  ProfileReport(df_hack, title='Pandas Profiling Report after data preprocessing', html={'style':{'full_width':True}})\n",
        "# profile.to_file(output_file=\"report_after_processing.html\")"
      ],
      "execution_count": 49,
      "outputs": []
    },
    {
      "cell_type": "markdown",
      "metadata": {
        "id": "-XicFpUznQvm",
        "colab_type": "text"
      },
      "source": [
        " <a id=section406></a>\n",
        "## 4.6 Exploratory Data Analysis"
      ]
    },
    {
      "cell_type": "markdown",
      "metadata": {
        "id": "0jwn2ixMnu7o",
        "colab_type": "text"
      },
      "source": [
        "**NOTE:**\n",
        "\n",
        "As Univeriate analysis is already done using pandas-profiling, let's do multivariate analysis here."
      ]
    },
    {
      "cell_type": "markdown",
      "metadata": {
        "id": "sn0NugzOuvV7",
        "colab_type": "text"
      },
      "source": [
        ""
      ]
    },
    {
      "cell_type": "code",
      "metadata": {
        "id": "Mj6L80pqRyEa",
        "colab_type": "code",
        "colab": {
          "base_uri": "https://localhost:8080/",
          "height": 85
        },
        "outputId": "1728df7f-8dbe-47ec-cbf3-88a094745a6e"
      },
      "source": [
        "df_hack.columns"
      ],
      "execution_count": 50,
      "outputs": [
        {
          "output_type": "execute_result",
          "data": {
            "text/plain": [
              "Index(['X_2', 'X_4', 'X_5', 'X_6', 'X_7', 'X_8', 'X_9', 'X_10', 'X_11', 'X_12',\n",
              "       'X_13', 'X_14', 'X_15', 'MULTIPLE_OFFENSE', 'IS_TEST_DATA', 'YEAR',\n",
              "       'MONTH', 'DAY', 'IS_WEEKEND', 'QUARTER_OF_YEAR'],\n",
              "      dtype='object')"
            ]
          },
          "metadata": {
            "tags": []
          },
          "execution_count": 50
        }
      ]
    },
    {
      "cell_type": "markdown",
      "metadata": {
        "id": "VGpdHAUkTfsD",
        "colab_type": "text"
      },
      "source": [
        "### How is hacking behaviour over years?"
      ]
    },
    {
      "cell_type": "code",
      "metadata": {
        "id": "1HS7fz83QwPm",
        "colab_type": "code",
        "colab": {
          "base_uri": "https://localhost:8080/",
          "height": 465
        },
        "outputId": "11a073e0-1a34-4f1c-adbe-1cdc1df49920"
      },
      "source": [
        "df = pd.DataFrame(\n",
        "\t{\n",
        "\t'Not Hacked': df_hack[df_hack['MULTIPLE_OFFENSE'] == 0.0]['YEAR'].value_counts(sort=False),\n",
        "  'Hacked': df_hack[df_hack['MULTIPLE_OFFENSE'] != 1.0]['YEAR'].value_counts(sort=False)\n",
        "\t}\n",
        "\t) \n",
        "df.plot.bar(rot=0,figsize=(25, 7), title='Hacking Behavior over years')"
      ],
      "execution_count": 51,
      "outputs": [
        {
          "output_type": "execute_result",
          "data": {
            "text/plain": [
              "<matplotlib.axes._subplots.AxesSubplot at 0x7f6701bd6b38>"
            ]
          },
          "metadata": {
            "tags": []
          },
          "execution_count": 51
        },
        {
          "output_type": "display_data",
          "data": {
            "image/png": "[encoded data removed]",
            "text/plain": [
              "<Figure size 1800x504 with 1 Axes>"
            ]
          },
          "metadata": {
            "tags": []
          }
        }
      ]
    },
    {
      "cell_type": "markdown",
      "metadata": {
        "id": "fnb0-fTPTg7N",
        "colab_type": "text"
      },
      "source": [
        "### How is hacking behaviour spread across months of an year?\n",
        "\n"
      ]
    },
    {
      "cell_type": "code",
      "metadata": {
        "id": "Z2POOTkMSfzG",
        "colab_type": "code",
        "colab": {
          "base_uri": "https://localhost:8080/",
          "height": 463
        },
        "outputId": "58d383c9-c129-4135-cae3-cdd53037f32a"
      },
      "source": [
        "df = pd.DataFrame(\n",
        "\t{\n",
        "\t'Not Hacked': df_hack[df_hack['MULTIPLE_OFFENSE'] == 0.0]['MONTH'].value_counts(sort=False),\n",
        "  'Hacked': df_hack[df_hack['MULTIPLE_OFFENSE'] != 1.0]['MONTH'].value_counts(sort=False)\n",
        "\t}\n",
        "\t) \n",
        "df.plot.bar(rot=0,figsize=(25, 7), title = 'Hacking behaviour spread across months of an year')"
      ],
      "execution_count": 52,
      "outputs": [
        {
          "output_type": "execute_result",
          "data": {
            "text/plain": [
              "<matplotlib.axes._subplots.AxesSubplot at 0x7f6701a4f400>"
            ]
          },
          "metadata": {
            "tags": []
          },
          "execution_count": 52
        },
        {
          "output_type": "display_data",
          "data": {
            "image/png": "[encoded data removed]",
            "text/plain": [
              "<Figure size 1800x504 with 1 Axes>"
            ]
          },
          "metadata": {
            "tags": []
          }
        }
      ]
    },
    {
      "cell_type": "markdown",
      "metadata": {
        "id": "X9ImuXcwTiNF",
        "colab_type": "text"
      },
      "source": [
        "### How is hacking behaviour spread across days of month?"
      ]
    },
    {
      "cell_type": "code",
      "metadata": {
        "id": "xaTjwJ6TSqB3",
        "colab_type": "code",
        "colab": {
          "base_uri": "https://localhost:8080/",
          "height": 465
        },
        "outputId": "a3b58931-3d13-4300-c2bc-005f2944cf59"
      },
      "source": [
        "df = pd.DataFrame(\n",
        "\t{\n",
        "\t'Not Hacked': df_hack[df_hack['MULTIPLE_OFFENSE'] == 0.0]['DAY'].value_counts(sort=False),\n",
        "  'Hacked': df_hack[df_hack['MULTIPLE_OFFENSE'] != 1.0]['DAY'].value_counts(sort=False)\n",
        "\t}\n",
        "\t)\n",
        "df.plot.bar(rot=0,figsize=(25, 7), title='Hacking behaviour spread across days of month')"
      ],
      "execution_count": 53,
      "outputs": [
        {
          "output_type": "execute_result",
          "data": {
            "text/plain": [
              "<matplotlib.axes._subplots.AxesSubplot at 0x7f6701b2a198>"
            ]
          },
          "metadata": {
            "tags": []
          },
          "execution_count": 53
        },
        {
          "output_type": "display_data",
          "data": {
            "image/png": "[encoded data removed]",
            "text/plain": [
              "<Figure size 1800x504 with 1 Axes>"
            ]
          },
          "metadata": {
            "tags": []
          }
        }
      ]
    },
    {
      "cell_type": "markdown",
      "metadata": {
        "id": "rgeLNybcYoVP",
        "colab_type": "text"
      },
      "source": [
        "### Weekday vs Weekend"
      ]
    },
    {
      "cell_type": "code",
      "metadata": {
        "id": "3BRQqp7kYl5a",
        "colab_type": "code",
        "colab": {
          "base_uri": "https://localhost:8080/",
          "height": 460
        },
        "outputId": "67057624-d729-4899-cf57-3ae5bed2cb6b"
      },
      "source": [
        "df = pd.DataFrame(\n",
        "\t{\n",
        "\t'Not Hacked': df_hack[df_hack['MULTIPLE_OFFENSE'] == 0.0]['IS_WEEKEND'].value_counts(sort=False),\n",
        "  'Hacked': df_hack[df_hack['MULTIPLE_OFFENSE'] != 1.0]['IS_WEEKEND'].value_counts(sort=False)\n",
        "\t}\n",
        "\t) \n",
        "df.plot.bar(rot=0,figsize=(25, 7), title = 'Weekday vs Weekend')"
      ],
      "execution_count": 54,
      "outputs": [
        {
          "output_type": "execute_result",
          "data": {
            "text/plain": [
              "<matplotlib.axes._subplots.AxesSubplot at 0x7f6701b8e5f8>"
            ]
          },
          "metadata": {
            "tags": []
          },
          "execution_count": 54
        },
        {
          "output_type": "display_data",
          "data": {
            "image/png": "[encoded data removed]",
            "text/plain": [
              "<Figure size 1800x504 with 1 Axes>"
            ]
          },
          "metadata": {
            "tags": []
          }
        }
      ]
    },
    {
      "cell_type": "markdown",
      "metadata": {
        "id": "EU3yqvdeZ7bG",
        "colab_type": "text"
      },
      "source": [
        "\n",
        "\n",
        "```\n",
        "`# This is formatted as code`\n",
        "```\n",
        "\n",
        "### Hack VS Quarter of an year"
      ]
    },
    {
      "cell_type": "code",
      "metadata": {
        "id": "1z3tw05HZ8M4",
        "colab_type": "code",
        "colab": {
          "base_uri": "https://localhost:8080/",
          "height": 463
        },
        "outputId": "ae8159f2-acb2-4369-d47b-fd752e8af5d9"
      },
      "source": [
        "df = pd.DataFrame(\n",
        "\t{\n",
        "\t'Not Hacked': df_hack[df_hack['MULTIPLE_OFFENSE'] == 0.0]['QUARTER_OF_YEAR'].value_counts(sort=False),\n",
        "  'Hacked': df_hack[df_hack['MULTIPLE_OFFENSE'] != 1.0]['QUARTER_OF_YEAR'].value_counts(sort=False)\n",
        "\t}\n",
        "\t) \n",
        "df.plot.bar(rot=0,figsize=(25, 7), title = 'Hack VS Quarter of an year')"
      ],
      "execution_count": 55,
      "outputs": [
        {
          "output_type": "execute_result",
          "data": {
            "text/plain": [
              "<matplotlib.axes._subplots.AxesSubplot at 0x7f6701bbd630>"
            ]
          },
          "metadata": {
            "tags": []
          },
          "execution_count": 55
        },
        {
          "output_type": "display_data",
          "data": {
            "image/png": "[encoded data removed]",
            "text/plain": [
              "<Figure size 1800x504 with 1 Axes>"
            ]
          },
          "metadata": {
            "tags": []
          }
        }
      ]
    },
    {
      "cell_type": "markdown",
      "metadata": {
        "colab_type": "text",
        "id": "AK66Ggama2W-"
      },
      "source": [
        " <a id=section5></a>\n",
        "# 5. Data preparation for model building"
      ]
    },
    {
      "cell_type": "code",
      "metadata": {
        "id": "1rSjCNpEoKWx",
        "colab_type": "code",
        "colab": {
          "base_uri": "https://localhost:8080/",
          "height": 85
        },
        "outputId": "a7dd56f5-1c57-4908-b13c-74ff4104879a"
      },
      "source": [
        "df_hack.columns"
      ],
      "execution_count": null,
      "outputs": [
        {
          "output_type": "execute_result",
          "data": {
            "text/plain": [
              "Index(['X_2', 'X_4', 'X_5', 'X_6', 'X_7', 'X_8', 'X_9', 'X_10', 'X_11', 'X_12',\n",
              "       'X_13', 'X_14', 'X_15', 'MULTIPLE_OFFENSE', 'IS_TEST_DATA', 'YEAR',\n",
              "       'MONTH', 'DAY', 'IS_WEEKEND', 'QUARTER_OF_YEAR'],\n",
              "      dtype='object')"
            ]
          },
          "metadata": {
            "tags": []
          },
          "execution_count": 23
        }
      ]
    },
    {
      "cell_type": "code",
      "metadata": {
        "id": "8jCJ086mn45d",
        "colab_type": "code",
        "colab": {
          "base_uri": "https://localhost:8080/",
          "height": 323
        },
        "outputId": "853a7953-cfbc-4015-b2d6-600bdb845c76"
      },
      "source": [
        "feature_cols = list(df_hack.columns)\n",
        "feature_cols.remove('IS_TEST_DATA')\n",
        "feature_cols.remove('MULTIPLE_OFFENSE')\n",
        "feature_cols"
      ],
      "execution_count": null,
      "outputs": [
        {
          "output_type": "execute_result",
          "data": {
            "text/plain": [
              "['X_2',\n",
              " 'X_4',\n",
              " 'X_5',\n",
              " 'X_6',\n",
              " 'X_7',\n",
              " 'X_8',\n",
              " 'X_9',\n",
              " 'X_10',\n",
              " 'X_11',\n",
              " 'X_12',\n",
              " 'X_13',\n",
              " 'X_14',\n",
              " 'X_15',\n",
              " 'YEAR',\n",
              " 'MONTH',\n",
              " 'DAY',\n",
              " 'IS_WEEKEND',\n",
              " 'QUARTER_OF_YEAR']"
            ]
          },
          "metadata": {
            "tags": []
          },
          "execution_count": 24
        }
      ]
    },
    {
      "cell_type": "markdown",
      "metadata": {
        "id": "O748tboq3_qz",
        "colab_type": "text"
      },
      "source": [
        "**NOTE:**\n",
        "\n",
        "Columns X_1 to X_12 looks like numerical but after printing unique values in each of them they look more like categorical. Let's change their datatype to string to make them completely categorical."
      ]
    },
    {
      "cell_type": "code",
      "metadata": {
        "id": "ZKFG_633pHDP",
        "colab_type": "code",
        "colab": {
          "base_uri": "https://localhost:8080/",
          "height": 374
        },
        "outputId": "7a18796b-4f31-4896-efa9-2a0eedb28e66"
      },
      "source": [
        "for col in feature_cols:\n",
        "  df_hack[col] = df_hack[col].astype(str)\n",
        "\n",
        "df_hack.dtypes"
      ],
      "execution_count": null,
      "outputs": [
        {
          "output_type": "execute_result",
          "data": {
            "text/plain": [
              "X_2                 object \n",
              "X_4                 object \n",
              "X_5                 object \n",
              "X_6                 object \n",
              "X_7                 object \n",
              "X_8                 object \n",
              "X_9                 object \n",
              "X_10                object \n",
              "X_11                object \n",
              "X_12                object \n",
              "X_13                object \n",
              "X_14                object \n",
              "X_15                object \n",
              "MULTIPLE_OFFENSE    float64\n",
              "IS_TEST_DATA        int64  \n",
              "YEAR                object \n",
              "MONTH               object \n",
              "DAY                 object \n",
              "IS_WEEKEND          object \n",
              "QUARTER_OF_YEAR     object \n",
              "dtype: object"
            ]
          },
          "metadata": {
            "tags": []
          },
          "execution_count": 26
        }
      ]
    },
    {
      "cell_type": "markdown",
      "metadata": {
        "colab_type": "text",
        "id": "cf3wx6xMa2XA"
      },
      "source": [
        " <a id=section501></a>\n",
        "## 5.1 Dummification / One-Hot Encoding of categorical variables"
      ]
    },
    {
      "cell_type": "code",
      "metadata": {
        "id": "ipnJWcuSBmMU",
        "colab_type": "code",
        "colab": {
          "base_uri": "https://localhost:8080/",
          "height": 34
        },
        "outputId": "db58cbb8-de8f-476b-9681-122b920770ef"
      },
      "source": [
        "df_hack_cat = pd.get_dummies(data=df_hack[feature_cols],drop_first=True)\n",
        "len(df_hack_cat.columns)"
      ],
      "execution_count": null,
      "outputs": [
        {
          "output_type": "execute_result",
          "data": {
            "text/plain": [
              "571"
            ]
          },
          "metadata": {
            "tags": []
          },
          "execution_count": 27
        }
      ]
    },
    {
      "cell_type": "markdown",
      "metadata": {
        "colab_type": "text",
        "id": "g7YfO8iSuBpH"
      },
      "source": [
        "**Observations:**\n",
        "\n",
        "We have 571 categorical columns after one-hot encoding. As all columns are one-hot encoded, we need not do standardisation."
      ]
    },
    {
      "cell_type": "markdown",
      "metadata": {
        "id": "S4cLX3TIuBpU",
        "colab_type": "text"
      },
      "source": [
        "<a id=section502></a>\n",
        "## 5.2 Merging all columns together"
      ]
    },
    {
      "cell_type": "code",
      "metadata": {
        "id": "rM1_aE7MW0lN",
        "colab_type": "code",
        "colab": {
          "base_uri": "https://localhost:8080/",
          "height": 34
        },
        "outputId": "c7131451-3036-4be9-c28b-63c380443764"
      },
      "source": [
        "df_hack_sd = pd.concat([df_hack_cat, df_hack['IS_TEST_DATA'],df_hack[ 'MULTIPLE_OFFENSE']],axis=1).reindex(df_hack.index)\n",
        "df_hack_sd.shape"
      ],
      "execution_count": null,
      "outputs": [
        {
          "output_type": "execute_result",
          "data": {
            "text/plain": [
              "(39759, 573)"
            ]
          },
          "metadata": {
            "tags": []
          },
          "execution_count": 28
        }
      ]
    },
    {
      "cell_type": "markdown",
      "metadata": {
        "id": "987QpKctrQ_K",
        "colab_type": "text"
      },
      "source": [
        " <a id=section503></a>\n",
        " ## 5.3 Segregating Train and Test data"
      ]
    },
    {
      "cell_type": "code",
      "metadata": {
        "id": "2oVN_DFerQpc",
        "colab_type": "code",
        "colab": {}
      },
      "source": [
        "df_hack_train = df_hack_sd[df_hack_sd['IS_TEST_DATA'] == 0]\n",
        "df_hack_test = df_hack_sd[df_hack_sd['IS_TEST_DATA'] == 1]"
      ],
      "execution_count": null,
      "outputs": []
    },
    {
      "cell_type": "code",
      "metadata": {
        "id": "vUl4Q0Vsr0bd",
        "colab_type": "code",
        "colab": {}
      },
      "source": [
        "# dropping Is_Test_Data column\n",
        "df_hack_train.drop('IS_TEST_DATA', axis=1, inplace=True)\n",
        "df_hack_test.drop('IS_TEST_DATA', axis=1, inplace=True)"
      ],
      "execution_count": null,
      "outputs": []
    },
    {
      "cell_type": "code",
      "metadata": {
        "id": "Hu_RXFl3r8bN",
        "colab_type": "code",
        "colab": {
          "base_uri": "https://localhost:8080/",
          "height": 34
        },
        "outputId": "8bad2048-d78d-407f-f968-c57a9b677a00"
      },
      "source": [
        "# drop MULTIPLE_OFFENSE column in test data\n",
        "df_hack_test.drop(['MULTIPLE_OFFENSE'], axis=1, inplace=True)\n",
        "\n",
        "df_hack_train.shape,df_hack_test.shape"
      ],
      "execution_count": null,
      "outputs": [
        {
          "output_type": "execute_result",
          "data": {
            "text/plain": [
              "((23856, 572), (15903, 571))"
            ]
          },
          "metadata": {
            "tags": []
          },
          "execution_count": 31
        }
      ]
    },
    {
      "cell_type": "markdown",
      "metadata": {
        "id": "krZ-NyBgkTkM",
        "colab_type": "text"
      },
      "source": [
        " <a id=section504></a>\n",
        "## 5.4 Applying PCA for dimentionality reduction"
      ]
    },
    {
      "cell_type": "code",
      "metadata": {
        "id": "6Tb1a8v_unNx",
        "colab_type": "code",
        "colab": {
          "base_uri": "https://localhost:8080/",
          "height": 34
        },
        "outputId": "31ccb7d3-31bb-45bb-e244-76b7affcea06"
      },
      "source": [
        "feature_cols = list(df_hack_train.columns)\n",
        "feature_cols.remove('MULTIPLE_OFFENSE')\n",
        "len(feature_cols)"
      ],
      "execution_count": null,
      "outputs": [
        {
          "output_type": "execute_result",
          "data": {
            "text/plain": [
              "571"
            ]
          },
          "metadata": {
            "tags": []
          },
          "execution_count": 32
        }
      ]
    },
    {
      "cell_type": "code",
      "metadata": {
        "id": "XgsPFYmImZ1k",
        "colab_type": "code",
        "colab": {}
      },
      "source": [
        "from sklearn.decomposition import PCA\n",
        "pca = PCA(0.95).fit(df_hack_train[feature_cols])"
      ],
      "execution_count": null,
      "outputs": []
    },
    {
      "cell_type": "code",
      "metadata": {
        "id": "5fBrIPVRmheA",
        "colab_type": "code",
        "colab": {
          "base_uri": "https://localhost:8080/",
          "height": 34
        },
        "outputId": "d6d01dd1-b36b-46d0-b02d-c68a7b134bd1"
      },
      "source": [
        "var=np.cumsum(np.round(pca.explained_variance_ratio_, decimals=4)*100)\n",
        "plt.ylabel('% Variance Explained')\n",
        "plt.xlabel('Number of Features')\n",
        "plt.title('PCA Analysis')\n",
        "plt.ylim(30,100.5)\n",
        "plt.style.context('seaborn-whitegrid')\n",
        "plt.plot(var)"
      ],
      "execution_count": null,
      "outputs": [
        {
          "output_type": "execute_result",
          "data": {
            "text/plain": [
              "[<matplotlib.lines.Line2D at 0x7f980009cc18>]"
            ]
          },
          "metadata": {
            "tags": []
          },
          "execution_count": 34
        }
      ]
    },
    {
      "cell_type": "code",
      "metadata": {
        "id": "4tJNQzY6m06t",
        "colab_type": "code",
        "colab": {
          "base_uri": "https://localhost:8080/",
          "height": 34
        },
        "outputId": "bafbd13d-dcf6-4a01-aca4-4aa3e6122832"
      },
      "source": [
        "print('%d components explain 95%% of the variation in data' % pca.n_components_)"
      ],
      "execution_count": null,
      "outputs": [
        {
          "output_type": "stream",
          "text": [
            "135 components explain 95% of the variation in data\n"
          ],
          "name": "stdout"
        }
      ]
    },
    {
      "cell_type": "markdown",
      "metadata": {
        "id": "_2g1BGmAj9Gl",
        "colab_type": "text"
      },
      "source": [
        "**NOTE:**\n",
        "\n",
        "I think we are good with 95% variance explianed. Let's apply PCA on train and test data"
      ]
    },
    {
      "cell_type": "code",
      "metadata": {
        "id": "e7lrip5AvKYT",
        "colab_type": "code",
        "colab": {}
      },
      "source": [
        "pca_hack = PCA(n_components=135)\n",
        "principal_components_hack_train = pca_hack.fit_transform(df_hack_train[feature_cols])\n",
        "principal_components_hack_test = pca_hack.fit_transform(df_hack_test[feature_cols])"
      ],
      "execution_count": null,
      "outputs": []
    },
    {
      "cell_type": "code",
      "metadata": {
        "id": "EqbSLs03w6FU",
        "colab_type": "code",
        "colab": {
          "base_uri": "https://localhost:8080/",
          "height": 34
        },
        "outputId": "420dea3b-efe0-43ab-97b5-c30e6069d4f1"
      },
      "source": [
        "principal_components_hack_train = pd.DataFrame(data = principal_components_hack_train)\n",
        "principal_components_hack_test = pd.DataFrame(data = principal_components_hack_test)\n",
        "principal_components_hack_test.index = df_hack_test.index\n",
        "principal_components_hack_train.shape, principal_components_hack_test.shape"
      ],
      "execution_count": null,
      "outputs": [
        {
          "output_type": "execute_result",
          "data": {
            "text/plain": [
              "((23856, 135), (15903, 135))"
            ]
          },
          "metadata": {
            "tags": []
          },
          "execution_count": 37
        }
      ]
    },
    {
      "cell_type": "markdown",
      "metadata": {
        "id": "V6CjQpaVsz5n",
        "colab_type": "text"
      },
      "source": [
        " <a id=section505></a>\n",
        " ## 5.5 Splitting Train data further in to train and validation data for model building"
      ]
    },
    {
      "cell_type": "code",
      "metadata": {
        "id": "v8ySuXK_saYn",
        "colab_type": "code",
        "colab": {
          "base_uri": "https://localhost:8080/",
          "height": 34
        },
        "outputId": "371bb039-9d81-4477-958c-3d76b11ad5c8"
      },
      "source": [
        " X = principal_components_hack_train\n",
        " y = df_hack_train['MULTIPLE_OFFENSE']\n",
        "\n",
        " X.shape, y.shape"
      ],
      "execution_count": null,
      "outputs": [
        {
          "output_type": "execute_result",
          "data": {
            "text/plain": [
              "((23856, 135), (23856,))"
            ]
          },
          "metadata": {
            "tags": []
          },
          "execution_count": 38
        }
      ]
    },
    {
      "cell_type": "markdown",
      "metadata": {
        "id": "kh4Up36T8eUb",
        "colab_type": "text"
      },
      "source": [
        " <a id=section506></a>\n",
        "## 5.6 Applying SMOTING for imbalanced data"
      ]
    },
    {
      "cell_type": "code",
      "metadata": {
        "id": "SMY2SKyf-Fnf",
        "colab_type": "code",
        "colab": {
          "base_uri": "https://localhost:8080/",
          "height": 68
        },
        "outputId": "6335b960-f281-4533-a875-4c6d2f8a6d12"
      },
      "source": [
        "# Check distribution of target variable\n",
        "y.value_counts() "
      ],
      "execution_count": null,
      "outputs": [
        {
          "output_type": "execute_result",
          "data": {
            "text/plain": [
              "1.0    22788\n",
              "0.0    1068 \n",
              "Name: MULTIPLE_OFFENSE, dtype: int64"
            ]
          },
          "metadata": {
            "tags": []
          },
          "execution_count": 39
        }
      ]
    },
    {
      "cell_type": "markdown",
      "metadata": {
        "id": "t2HO3I8l-RYp",
        "colab_type": "text"
      },
      "source": [
        "**NOTE:**\n",
        "\n",
        "We can clearly observe there is class imbalance in target variable. Let's apply **SMOTING**"
      ]
    },
    {
      "cell_type": "code",
      "metadata": {
        "id": "1FZWul63-fet",
        "colab_type": "code",
        "colab": {}
      },
      "source": [
        "from imblearn.over_sampling import SMOTE \n",
        "sm = SMOTE(random_state = 2) \n",
        "X_sm, y_sm = sm.fit_sample(X, y.ravel())\n",
        "\n",
        "X = pd.DataFrame(X_sm,columns = X.columns)\n",
        "y = pd.Series(y_sm)"
      ],
      "execution_count": null,
      "outputs": []
    },
    {
      "cell_type": "code",
      "metadata": {
        "id": "AD-f7XWkA-KI",
        "colab_type": "code",
        "colab": {
          "base_uri": "https://localhost:8080/",
          "height": 68
        },
        "outputId": "9d04b3da-095b-46b3-d1c0-511ad7b9517d"
      },
      "source": [
        "# Check distribution of target variable\n",
        "y.value_counts()"
      ],
      "execution_count": null,
      "outputs": [
        {
          "output_type": "execute_result",
          "data": {
            "text/plain": [
              "1.0    22788\n",
              "0.0    22788\n",
              "dtype: int64"
            ]
          },
          "metadata": {
            "tags": []
          },
          "execution_count": 41
        }
      ]
    },
    {
      "cell_type": "markdown",
      "metadata": {
        "id": "YBZwW_YwDPq0",
        "colab_type": "text"
      },
      "source": [
        "**NOTE:** Now target variable is balanced"
      ]
    },
    {
      "cell_type": "code",
      "metadata": {
        "id": "dlQxCBAFt473",
        "colab_type": "code",
        "colab": {}
      },
      "source": [
        "from sklearn.model_selection import train_test_split\n",
        "X_train, X_test, y_train, y_test = train_test_split(X, y,\n",
        "                                                    stratify=y, \n",
        "                                                    test_size=0.3)"
      ],
      "execution_count": null,
      "outputs": []
    },
    {
      "cell_type": "code",
      "metadata": {
        "id": "C9_5nWK-4T_a",
        "colab_type": "code",
        "colab": {
          "base_uri": "https://localhost:8080/",
          "height": 136
        },
        "outputId": "6e2a0694-7ac0-4ccb-a4c6-975436234309"
      },
      "source": [
        "print('Train cases as below')\n",
        "print('X_train shape: ',X_train.shape)\n",
        "print('y_train shape: ',y_train.shape)\n",
        "print('\\nTest cases as below')\n",
        "print('X_test shape: ',X_test.shape)\n",
        "print('y_test shape: ',y_test.shape)"
      ],
      "execution_count": null,
      "outputs": [
        {
          "output_type": "stream",
          "text": [
            "Train cases as below\n",
            "X_train shape:  (31903, 135)\n",
            "y_train shape:  (31903,)\n",
            "\n",
            "Test cases as below\n",
            "X_test shape:  (13673, 135)\n",
            "y_test shape:  (13673,)\n"
          ],
          "name": "stdout"
        }
      ]
    },
    {
      "cell_type": "markdown",
      "metadata": {
        "id": "WXf9HrBBWb0_",
        "colab_type": "text"
      },
      "source": [
        " <a id=section6></a>\n",
        " # 6. Ensemble Modelling and Prediction\n",
        " \n",
        " Ensemble modeling is a process where multiple diverse models are created to predict an outcome, either by using many different modeling algorithms or using different training data sets. The ensemble model then aggregates the prediction of each base model and results in once final prediction for the unseen data.\n"
      ]
    },
    {
      "cell_type": "markdown",
      "metadata": {
        "id": "TCAv2-X0E592",
        "colab_type": "text"
      },
      "source": [
        " <a id=section601></a>\n",
        " ## 6.1 Logistic Regression\n",
        " \n",
        " \n",
        "Logistic regression is the appropriate regression analysis to conduct when the dependent variable is dichotomous (binary).  Like all regression analyses, the logistic regression is a predictive analysis.  Logistic regression is used to describe data and to explain the relationship between one dependent binary variable and one or more nominal, ordinal, interval or ratio-level independent variables.\n",
        "\n",
        "Sometimes logistic regressions are difficult to interpret; the Intellectus Statistics tool easily allows you to conduct the analysis, then in plain English interprets the output.\n",
        "\n",
        "Logistic Regression was used in the biological sciences in early twentieth century. It was then used in many social science applications. Logistic Regression is used when the dependent variable(target) is categorical.\n",
        "\n",
        "For example,\n",
        "1. To predict whether an email is spam (1) or (0)\n",
        "1. Whether the tumor is malignant (1) or not (0)\n"
      ]
    },
    {
      "cell_type": "code",
      "metadata": {
        "id": "V7Ho8rzZE5BB",
        "colab_type": "code",
        "colab": {
          "base_uri": "https://localhost:8080/",
          "height": 391
        },
        "outputId": "ac772f64-6d02-4d4b-9933-10617c8d223d"
      },
      "source": [
        "from sklearn.linear_model import LogisticRegression\n",
        "from sklearn.metrics import confusion_matrix, classification_report\n",
        "\n",
        "logistic = LogisticRegression(class_weight='balanced')\n",
        "logistic.fit(X_train, y_train)\n",
        "\n",
        "logistic_train_preds = logistic.predict(X_train)\n",
        "logistic_test_preds = logistic.predict(X_test)\n",
        "\n",
        "print(confusion_matrix(y_train, logistic_train_preds))\n",
        "print(confusion_matrix(y_test, logistic_test_preds))\n",
        "\n",
        "print(classification_report(y_train, logistic_train_preds))\n",
        "print(classification_report(y_test, logistic_test_preds))"
      ],
      "execution_count": null,
      "outputs": [
        {
          "output_type": "stream",
          "text": [
            "[[15537   415]\n",
            " [  704 15247]]\n",
            "[[6681  155]\n",
            " [ 303 6534]]\n",
            "              precision    recall  f1-score   support\n",
            "\n",
            "         0.0       0.96      0.97      0.97     15952\n",
            "         1.0       0.97      0.96      0.96     15951\n",
            "\n",
            "    accuracy                           0.96     31903\n",
            "   macro avg       0.97      0.96      0.96     31903\n",
            "weighted avg       0.97      0.96      0.96     31903\n",
            "\n",
            "              precision    recall  f1-score   support\n",
            "\n",
            "         0.0       0.96      0.98      0.97      6836\n",
            "         1.0       0.98      0.96      0.97      6837\n",
            "\n",
            "    accuracy                           0.97     13673\n",
            "   macro avg       0.97      0.97      0.97     13673\n",
            "weighted avg       0.97      0.97      0.97     13673\n",
            "\n"
          ],
          "name": "stdout"
        }
      ]
    },
    {
      "cell_type": "markdown",
      "metadata": {
        "id": "PrE3pTZAlMQ_",
        "colab_type": "text"
      },
      "source": [
        " <a id=section602></a>\n",
        " ## 6.2 Random Forest"
      ]
    },
    {
      "cell_type": "code",
      "metadata": {
        "id": "e_9JgqscrBz5",
        "colab_type": "code",
        "colab": {}
      },
      "source": [
        "from sklearn import tree\n",
        "from sklearn.model_selection import RandomizedSearchCV\n",
        "from sklearn.ensemble import RandomForestClassifier\n",
        "\n",
        "rf_rs = RandomForestClassifier(max_samples=0.5) \n",
        "param_grid = {'n_estimators' : [25,50,75,100],\n",
        "              'max_features' : [5,7,9,11,13],\n",
        "             'min_samples_split': np.arange(0.001,0.1,0.001),\n",
        "             'max_depth':np.arange(5,15,1)}\n",
        "\n",
        "rf_rs = RandomizedSearchCV(estimator=rf_rs, param_distributions=param_grid,n_iter=100, n_jobs=-1)\n",
        "rf_rs.fit(X_train, y_train)\n",
        "  \n",
        "print(rf_rs.best_estimator_)\n",
        "print('Train Accuracy =',rf_rs.best_score_)"
      ],
      "execution_count": null,
      "outputs": []
    },
    {
      "cell_type": "code",
      "metadata": {
        "id": "GWpcq9X7152J",
        "colab_type": "code",
        "colab": {
          "base_uri": "https://localhost:8080/",
          "height": 391
        },
        "outputId": "c18b1cc8-e38c-4d27-e198-c42138454299"
      },
      "source": [
        "rf_rs_train_preds = rf_rs.predict(X_train)\n",
        "rf_rs_test_preds = rf_rs.predict(X_test)\n",
        "\n",
        "print(confusion_matrix(y_train, rf_rs_train_preds))\n",
        "print(confusion_matrix(y_test, rf_rs_test_preds))\n",
        "\n",
        "print(classification_report(y_train, rf_rs_train_preds))\n",
        "print(classification_report(y_test, rf_rs_test_preds))"
      ],
      "execution_count": null,
      "outputs": [
        {
          "output_type": "stream",
          "text": [
            "[[15889    62]\n",
            " [  176 15776]]\n",
            "[[6787   50]\n",
            " [ 153 6683]]\n",
            "              precision    recall  f1-score   support\n",
            "\n",
            "         0.0       0.99      1.00      0.99     15951\n",
            "         1.0       1.00      0.99      0.99     15952\n",
            "\n",
            "    accuracy                           0.99     31903\n",
            "   macro avg       0.99      0.99      0.99     31903\n",
            "weighted avg       0.99      0.99      0.99     31903\n",
            "\n",
            "              precision    recall  f1-score   support\n",
            "\n",
            "         0.0       0.98      0.99      0.99      6837\n",
            "         1.0       0.99      0.98      0.99      6836\n",
            "\n",
            "    accuracy                           0.99     13673\n",
            "   macro avg       0.99      0.99      0.99     13673\n",
            "weighted avg       0.99      0.99      0.99     13673\n",
            "\n"
          ],
          "name": "stdout"
        }
      ]
    },
    {
      "cell_type": "markdown",
      "metadata": {
        "id": "HT1RnC6oSQPF",
        "colab_type": "text"
      },
      "source": [
        " <a id=section603></a>\n",
        "## 6.3 KNN"
      ]
    },
    {
      "cell_type": "code",
      "metadata": {
        "id": "y7UzvvQDWNiL",
        "colab_type": "code",
        "colab": {}
      },
      "source": [
        "from sklearn.neighbors import KNeighborsClassifier\n",
        "from sklearn.metrics import recall_score,accuracy_score,f1_score\n",
        "\n",
        "train_performance={}\n",
        "test_performance={}\n",
        " \n",
        "for k in range(1,25,2):\n",
        "    knn_temp=KNeighborsClassifier(n_neighbors=k,weights='distance')\n",
        "    knn_temp.fit(X_train,y_train)\n",
        "    k_train_preds=knn_temp.predict(X_train)\n",
        "    k_test_preds=knn_temp.predict(X_test)\n",
        "    train_performance[k]=recall_score(y_train,k_train_preds, average='weighted')\n",
        "    test_performance[k]=recall_score(y_test,k_test_preds, average='weighted')"
      ],
      "execution_count": null,
      "outputs": []
    },
    {
      "cell_type": "code",
      "metadata": {
        "id": "DC3zxJqOWNiQ",
        "colab_type": "code",
        "colab": {}
      },
      "source": [
        "keys = test_performance.keys()\n",
        "train_values = train_performance.values()\n",
        "test_values = test_performance.values()"
      ],
      "execution_count": null,
      "outputs": []
    },
    {
      "cell_type": "code",
      "metadata": {
        "id": "-ouutcqJWNiT",
        "colab_type": "code",
        "colab": {}
      },
      "source": [
        "perf=pd.DataFrame()\n",
        "perf['k']= keys\n",
        "perf['train_performance']= train_values\n",
        "perf['test_performance']= test_values"
      ],
      "execution_count": null,
      "outputs": []
    },
    {
      "cell_type": "code",
      "metadata": {
        "id": "_c_RCGC3WNiV",
        "colab_type": "code",
        "colab": {
          "base_uri": "https://localhost:8080/",
          "height": 824
        },
        "outputId": "e07bdec4-95bc-4393-ad17-ea02bd363391"
      },
      "source": [
        "perf.sort_values(by='test_performance', ascending=False, axis=0)"
      ],
      "execution_count": null,
      "outputs": [
        {
          "output_type": "execute_result",
          "data": {
            "text/html": [
              "<div>\n",
              "<style scoped>\n",
              "    .dataframe tbody tr th:only-of-type {\n",
              "        vertical-align: middle;\n",
              "    }\n",
              "\n",
              "    .dataframe tbody tr th {\n",
              "        vertical-align: top;\n",
              "    }\n",
              "\n",
              "    .dataframe thead th {\n",
              "        text-align: right;\n",
              "    }\n",
              "</style>\n",
              "<table border=\"1\" class=\"dataframe\">\n",
              "  <thead>\n",
              "    <tr style=\"text-align: right;\">\n",
              "      <th></th>\n",
              "      <th>k</th>\n",
              "      <th>train_performance</th>\n",
              "      <th>test_performance</th>\n",
              "    </tr>\n",
              "  </thead>\n",
              "  <tbody>\n",
              "    <tr>\n",
              "      <th>3</th>\n",
              "      <td>7</td>\n",
              "      <td>1.0</td>\n",
              "      <td>0.957804</td>\n",
              "    </tr>\n",
              "    <tr>\n",
              "      <th>4</th>\n",
              "      <td>9</td>\n",
              "      <td>1.0</td>\n",
              "      <td>0.957524</td>\n",
              "    </tr>\n",
              "    <tr>\n",
              "      <th>2</th>\n",
              "      <td>5</td>\n",
              "      <td>1.0</td>\n",
              "      <td>0.957384</td>\n",
              "    </tr>\n",
              "    <tr>\n",
              "      <th>5</th>\n",
              "      <td>11</td>\n",
              "      <td>1.0</td>\n",
              "      <td>0.956965</td>\n",
              "    </tr>\n",
              "    <tr>\n",
              "      <th>6</th>\n",
              "      <td>13</td>\n",
              "      <td>1.0</td>\n",
              "      <td>0.956825</td>\n",
              "    </tr>\n",
              "    <tr>\n",
              "      <th>12</th>\n",
              "      <td>25</td>\n",
              "      <td>1.0</td>\n",
              "      <td>0.956686</td>\n",
              "    </tr>\n",
              "    <tr>\n",
              "      <th>7</th>\n",
              "      <td>15</td>\n",
              "      <td>1.0</td>\n",
              "      <td>0.956546</td>\n",
              "    </tr>\n",
              "    <tr>\n",
              "      <th>16</th>\n",
              "      <td>33</td>\n",
              "      <td>1.0</td>\n",
              "      <td>0.956546</td>\n",
              "    </tr>\n",
              "    <tr>\n",
              "      <th>14</th>\n",
              "      <td>29</td>\n",
              "      <td>1.0</td>\n",
              "      <td>0.956546</td>\n",
              "    </tr>\n",
              "    <tr>\n",
              "      <th>13</th>\n",
              "      <td>27</td>\n",
              "      <td>1.0</td>\n",
              "      <td>0.956406</td>\n",
              "    </tr>\n",
              "    <tr>\n",
              "      <th>15</th>\n",
              "      <td>31</td>\n",
              "      <td>1.0</td>\n",
              "      <td>0.956406</td>\n",
              "    </tr>\n",
              "    <tr>\n",
              "      <th>11</th>\n",
              "      <td>23</td>\n",
              "      <td>1.0</td>\n",
              "      <td>0.956406</td>\n",
              "    </tr>\n",
              "    <tr>\n",
              "      <th>10</th>\n",
              "      <td>21</td>\n",
              "      <td>1.0</td>\n",
              "      <td>0.956406</td>\n",
              "    </tr>\n",
              "    <tr>\n",
              "      <th>9</th>\n",
              "      <td>19</td>\n",
              "      <td>1.0</td>\n",
              "      <td>0.956127</td>\n",
              "    </tr>\n",
              "    <tr>\n",
              "      <th>8</th>\n",
              "      <td>17</td>\n",
              "      <td>1.0</td>\n",
              "      <td>0.955987</td>\n",
              "    </tr>\n",
              "    <tr>\n",
              "      <th>17</th>\n",
              "      <td>35</td>\n",
              "      <td>1.0</td>\n",
              "      <td>0.955987</td>\n",
              "    </tr>\n",
              "    <tr>\n",
              "      <th>18</th>\n",
              "      <td>37</td>\n",
              "      <td>1.0</td>\n",
              "      <td>0.955987</td>\n",
              "    </tr>\n",
              "    <tr>\n",
              "      <th>19</th>\n",
              "      <td>39</td>\n",
              "      <td>1.0</td>\n",
              "      <td>0.955987</td>\n",
              "    </tr>\n",
              "    <tr>\n",
              "      <th>21</th>\n",
              "      <td>43</td>\n",
              "      <td>1.0</td>\n",
              "      <td>0.955987</td>\n",
              "    </tr>\n",
              "    <tr>\n",
              "      <th>20</th>\n",
              "      <td>41</td>\n",
              "      <td>1.0</td>\n",
              "      <td>0.955847</td>\n",
              "    </tr>\n",
              "    <tr>\n",
              "      <th>22</th>\n",
              "      <td>45</td>\n",
              "      <td>1.0</td>\n",
              "      <td>0.955428</td>\n",
              "    </tr>\n",
              "    <tr>\n",
              "      <th>1</th>\n",
              "      <td>3</td>\n",
              "      <td>1.0</td>\n",
              "      <td>0.955289</td>\n",
              "    </tr>\n",
              "    <tr>\n",
              "      <th>23</th>\n",
              "      <td>47</td>\n",
              "      <td>1.0</td>\n",
              "      <td>0.955289</td>\n",
              "    </tr>\n",
              "    <tr>\n",
              "      <th>24</th>\n",
              "      <td>49</td>\n",
              "      <td>1.0</td>\n",
              "      <td>0.955149</td>\n",
              "    </tr>\n",
              "    <tr>\n",
              "      <th>0</th>\n",
              "      <td>1</td>\n",
              "      <td>1.0</td>\n",
              "      <td>0.952075</td>\n",
              "    </tr>\n",
              "  </tbody>\n",
              "</table>\n",
              "</div>"
            ],
            "text/plain": [
              "     k  train_performance  test_performance\n",
              "3   7   1.0                0.957804        \n",
              "4   9   1.0                0.957524        \n",
              "2   5   1.0                0.957384        \n",
              "5   11  1.0                0.956965        \n",
              "6   13  1.0                0.956825        \n",
              "12  25  1.0                0.956686        \n",
              "7   15  1.0                0.956546        \n",
              "16  33  1.0                0.956546        \n",
              "14  29  1.0                0.956546        \n",
              "13  27  1.0                0.956406        \n",
              "15  31  1.0                0.956406        \n",
              "11  23  1.0                0.956406        \n",
              "10  21  1.0                0.956406        \n",
              "9   19  1.0                0.956127        \n",
              "8   17  1.0                0.955987        \n",
              "17  35  1.0                0.955987        \n",
              "18  37  1.0                0.955987        \n",
              "19  39  1.0                0.955987        \n",
              "21  43  1.0                0.955987        \n",
              "20  41  1.0                0.955847        \n",
              "22  45  1.0                0.955428        \n",
              "1   3   1.0                0.955289        \n",
              "23  47  1.0                0.955289        \n",
              "24  49  1.0                0.955149        \n",
              "0   1   1.0                0.952075        "
            ]
          },
          "metadata": {
            "tags": []
          },
          "execution_count": 134
        }
      ]
    },
    {
      "cell_type": "code",
      "metadata": {
        "id": "NtT1Z2dymgUD",
        "colab_type": "code",
        "colab": {
          "base_uri": "https://localhost:8080/",
          "height": 391
        },
        "outputId": "5fa97f97-1b6d-404f-e730-70d21b266cdc"
      },
      "source": [
        "knn=KNeighborsClassifier(n_neighbors=7,weights='distance')\n",
        "knn.fit(X_train,y_train)\n",
        "\n",
        "knn_train_preds = knn.predict(X_train)\n",
        "knn_test_preds = knn.predict(X_test)\n",
        "\n",
        "print(confusion_matrix(y_train, knn_train_preds))\n",
        "print(confusion_matrix(y_test, knn_test_preds))\n",
        "\n",
        "print(classification_report(y_train, knn_train_preds))\n",
        "print(classification_report(y_test, knn_test_preds))"
      ],
      "execution_count": null,
      "outputs": [
        {
          "output_type": "stream",
          "text": [
            "[[15952     0]\n",
            " [    0 15951]]\n",
            "[[6836    0]\n",
            " [1456 5381]]\n",
            "              precision    recall  f1-score   support\n",
            "\n",
            "         0.0       1.00      1.00      1.00     15952\n",
            "         1.0       1.00      1.00      1.00     15951\n",
            "\n",
            "    accuracy                           1.00     31903\n",
            "   macro avg       1.00      1.00      1.00     31903\n",
            "weighted avg       1.00      1.00      1.00     31903\n",
            "\n",
            "              precision    recall  f1-score   support\n",
            "\n",
            "         0.0       0.82      1.00      0.90      6836\n",
            "         1.0       1.00      0.79      0.88      6837\n",
            "\n",
            "    accuracy                           0.89     13673\n",
            "   macro avg       0.91      0.89      0.89     13673\n",
            "weighted avg       0.91      0.89      0.89     13673\n",
            "\n"
          ],
          "name": "stdout"
        }
      ]
    },
    {
      "cell_type": "markdown",
      "metadata": {
        "id": "trJwfHvUWNib",
        "colab_type": "text"
      },
      "source": [
        " <a id=section604></a>\n",
        "## 6.4 Naive Bayes "
      ]
    },
    {
      "cell_type": "code",
      "metadata": {
        "id": "7TWlLkcjWNic",
        "colab_type": "code",
        "colab": {
          "base_uri": "https://localhost:8080/",
          "height": 391
        },
        "outputId": "3df16fa8-4512-4e65-859a-a30b2c9984dd"
      },
      "source": [
        "from sklearn.naive_bayes import GaussianNB\n",
        "# Naive Bayes classification\n",
        "gnb = GaussianNB(priors=None)\n",
        "\n",
        "# Train classifier\n",
        "gnb.fit(X_train,y_train)\n",
        "\n",
        "gnb_train_preds = gnb.predict(X_train)\n",
        "gnb_test_preds = gnb.predict(X_test)\n",
        "\n",
        "print(confusion_matrix(y_train, gnb_train_preds))\n",
        "print(confusion_matrix(y_test, gnb_test_preds))\n",
        "\n",
        "print(classification_report(y_train, gnb_train_preds))\n",
        "print(classification_report(y_test, gnb_test_preds))"
      ],
      "execution_count": null,
      "outputs": [
        {
          "output_type": "stream",
          "text": [
            "[[13737  2215]\n",
            " [  657 15294]]\n",
            "[[5919  917]\n",
            " [ 272 6565]]\n",
            "              precision    recall  f1-score   support\n",
            "\n",
            "         0.0       0.95      0.86      0.91     15952\n",
            "         1.0       0.87      0.96      0.91     15951\n",
            "\n",
            "    accuracy                           0.91     31903\n",
            "   macro avg       0.91      0.91      0.91     31903\n",
            "weighted avg       0.91      0.91      0.91     31903\n",
            "\n",
            "              precision    recall  f1-score   support\n",
            "\n",
            "         0.0       0.96      0.87      0.91      6836\n",
            "         1.0       0.88      0.96      0.92      6837\n",
            "\n",
            "    accuracy                           0.91     13673\n",
            "   macro avg       0.92      0.91      0.91     13673\n",
            "weighted avg       0.92      0.91      0.91     13673\n",
            "\n"
          ],
          "name": "stdout"
        }
      ]
    },
    {
      "cell_type": "markdown",
      "metadata": {
        "id": "e77LdKW1WNik",
        "colab_type": "text"
      },
      "source": [
        "bold text <a id=section605></a>\n",
        "## 6.5 SVM"
      ]
    },
    {
      "cell_type": "code",
      "metadata": {
        "id": "hcgnMq39WNik",
        "colab_type": "code",
        "colab": {
          "base_uri": "https://localhost:8080/",
          "height": 391
        },
        "outputId": "789f4868-99b6-4cb4-929c-29736c87bcb2"
      },
      "source": [
        "# SVM\n",
        "from sklearn import svm\n",
        "model_svm = svm.SVC(probability=True, kernel='rbf', degree = 3)\n",
        "model_svm.fit(X_train, y_train)\n",
        "\n",
        "model_svm_train_preds = model_svm.predict(X_train)\n",
        "model_svm_test_preds = model_svm.predict(X_test)\n",
        "\n",
        "print(confusion_matrix(y_train, model_svm_train_preds))\n",
        "print(confusion_matrix(y_test, model_svm_test_preds))\n",
        "\n",
        "print(classification_report(y_train, model_svm_train_preds))\n",
        "print(classification_report(y_test, model_svm_test_preds))"
      ],
      "execution_count": null,
      "outputs": [
        {
          "output_type": "stream",
          "text": [
            "[[15952     0]\n",
            " [   41 15910]]\n",
            "[[6835    1]\n",
            " [  82 6755]]\n",
            "              precision    recall  f1-score   support\n",
            "\n",
            "         0.0       1.00      1.00      1.00     15952\n",
            "         1.0       1.00      1.00      1.00     15951\n",
            "\n",
            "    accuracy                           1.00     31903\n",
            "   macro avg       1.00      1.00      1.00     31903\n",
            "weighted avg       1.00      1.00      1.00     31903\n",
            "\n",
            "              precision    recall  f1-score   support\n",
            "\n",
            "         0.0       0.99      1.00      0.99      6836\n",
            "         1.0       1.00      0.99      0.99      6837\n",
            "\n",
            "    accuracy                           0.99     13673\n",
            "   macro avg       0.99      0.99      0.99     13673\n",
            "weighted avg       0.99      0.99      0.99     13673\n",
            "\n"
          ],
          "name": "stdout"
        }
      ]
    },
    {
      "cell_type": "markdown",
      "metadata": {
        "id": "RgaSt3BrcE5p",
        "colab_type": "text"
      },
      "source": [
        " <a id=section7></a>\n",
        " ## 7. Conclusion"
      ]
    },
    {
      "cell_type": "markdown",
      "metadata": {
        "id": "0ktG-sx9oyhJ",
        "colab_type": "text"
      },
      "source": [
        "**NOTE: **\n",
        "\n",
        "From above models, it is clearly evident that **Random Forest has best Recall score** for both train and validation data. Let's use it for final model prediction."
      ]
    },
    {
      "cell_type": "code",
      "metadata": {
        "id": "Ap3DrQtPcEUf",
        "colab_type": "code",
        "colab": {}
      },
      "source": [
        "final_predictions = rf.predict(principal_components_hack_test)\n",
        "\n",
        "\n",
        "df_hack_test = df_hack_test.reset_index();\n",
        "final_preds = pd.DataFrame({});\n",
        "final_preds['INCIDENT_ID'] = df_hack_test['INCIDENT_ID']\n",
        "final_preds['MULTIPLE_OFFENSE'] =  final_predictions;\n",
        "final_preds['MULTIPLE_OFFENSE'] = final_preds['MULTIPLE_OFFENSE'].astype(int);\n",
        "final_preds = final_preds.set_index('INCIDENT_ID')\n",
        "final_preds.to_csv(\"final_preds_rf.csv\")"
      ],
      "execution_count": null,
      "outputs": []
    }
  ]
}