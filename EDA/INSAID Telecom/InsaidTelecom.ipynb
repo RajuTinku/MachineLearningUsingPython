{
 "cells": [
  {
   "cell_type": "markdown",
   "metadata": {
    "colab_type": "text",
    "id": "M1nmt8KkK8xL"
   },
   "source": [
    "## Table of Contents\n",
    "\n",
    "1. [Problem Statement](#section1)<br>\n",
    "2. [Importing Packages](#section2)<br>\n",
    "3. [Loading Data](#section3)\n",
    "4. [Data Preprocessing](#section4)<br>\n",
    "  - 4.1 [Fixing datatypes of columns](#section401)<br>\n",
    "  - 4.2 [Filtering common device id across data](#section402)<br>\n",
    "  - 4.3 [Categorising 'age' column](#section403)<br>\n",
    "  - 4.4 [Translate phone_brand](#section404)<br>\n",
    "  - 4.5 [Extract day, hour, month](#section405)<br>\n",
    "  - 4.6 [Merge all dataframes together](#section406)<br>\n",
    "  - 4.7 [Impute missing values](#section407)<br>\n",
    "5. [Exploratory Data Analysis](#section5)<br>\n",
    "  - 5.1 [Phone usage across device model](#section501)<br>\n",
    "  - 5.2 [Phone usage across geography](#section502)<br>\n",
    "  - 5.3 [Phone usage across gender](#section503)<br>\n",
    "  - 5.4 [Phone usage v/s time](#section504)<br>\n",
    "  - 5.5 [Phone usage over age range](#section505)<br>\n",
    "  - 5.6 [Phone usage over phone brand](#section506)<br>\n",
    "6. [Actionable Insights](#section6)<br>\n",
    "  \n"
   ]
  },
  {
   "cell_type": "markdown",
   "metadata": {
    "colab_type": "text",
    "id": "4OtQbjmHa2Vo"
   },
   "source": [
    "<a id=section1></a>\n",
    "# 1. Problem Statement"
   ]
  },
  {
   "cell_type": "markdown",
   "metadata": {
    "colab_type": "text",
    "id": "wEXIvSxia2Vt"
   },
   "source": [
    "**InsaidTelecom**, one of the leading telecom players, understands that customizing offering\n",
    "is very important for its business to stay competitive.\n",
    "Currently, InsaidTelecom is seeking to leverage behavioral data from more than 60% of the 50 million mobile devices active daily in India\n",
    "to help its clients better understand and interact with their audiences.\n",
    "\n",
    "**Business Goal :**\n",
    "\n",
    "To help the customer the consultants are expected to have depth of clarity in the underlying data.\n",
    "How much effort has been put into cleansing and purifying the data will decide how closely have you looked at the data.\n",
    "How detailed is the observation stated in the submission report and finally how well a group presents their consulting journey.\n",
    "\n",
    "Please remember this is an analytics consulting hence, your efforts in terms of\n",
    "finding user behavior is going to directly impact the company's offerings.\n",
    "Do help the company understand what is the\n",
    "right way forward and suggest actionable insights from marketing and product terms."
   ]
  },
  {
   "cell_type": "markdown",
   "metadata": {
    "colab_type": "text",
    "id": "F988tUR0a2Vy"
   },
   "source": [
    "<a id=section2></a>\n",
    "# 2. Importing Packages"
   ]
  },
  {
   "cell_type": "code",
   "execution_count": 1,
   "metadata": {
    "colab": {},
    "colab_type": "code",
    "id": "GLHl_0o9a2V5"
   },
   "outputs": [],
   "source": [
    "import numpy as np                     \n",
    "\n",
    "import pandas as pd\n",
    "\n",
    "# To suppress pandas warnings.\n",
    "pd.set_option('mode.chained_assignment', None) \n",
    "\n",
    "# To display all the data in each column\n",
    "pd.set_option('display.max_colwidth', -1)         \n",
    "\n",
    "pd.get_option(\"display.max_rows\",10000)\n",
    "\n",
    "# To display every column of the dataset in head()\n",
    "pd.options.display.max_columns = 100               \n",
    "\n",
    "import warnings\n",
    "warnings.filterwarnings('ignore')     "
   ]
  },
  {
   "cell_type": "code",
   "execution_count": 2,
   "metadata": {
    "colab": {},
    "colab_type": "code",
    "id": "lWuM--2IcyhY"
   },
   "outputs": [],
   "source": [
    "import matplotlib.pyplot as plt\n",
    "%matplotlib inline\n",
    "\n",
    "# To apply seaborn styles to the plots.\n",
    "import seaborn as sns\n",
    "sns.set(style='whitegrid', font_scale=1.3, color_codes=True)      "
   ]
  },
  {
   "cell_type": "markdown",
   "metadata": {
    "colab_type": "text",
    "id": "gW0WUwI0a2WJ"
   },
   "source": [
    "<a id=section3></a>\n",
    "\n",
    "# 3. Loading Data"
   ]
  },
  {
   "cell_type": "code",
   "execution_count": null,
   "metadata": {
    "colab": {
     "base_uri": "https://localhost:8080/",
     "height": 68
    },
    "colab_type": "code",
    "id": "1z2v0_MUMVqC",
    "outputId": "b9ba8e8e-028f-468c-d92e-6c0540449e3e"
   },
   "outputs": [],
   "source": [
    "#!pip install mysql.connector"
   ]
  },
  {
   "cell_type": "code",
   "execution_count": null,
   "metadata": {
    "colab": {},
    "colab_type": "code",
    "id": "1eWpnal7a2WN"
   },
   "outputs": [],
   "source": [
    "import mysql.connector as sql\n",
    "\n",
    "db_connection = sql.connect(host='cpanel.insaid.co', database='Capstone1', user='student', password='student', connect_timeout=10000 )"
   ]
  },
  {
   "cell_type": "code",
   "execution_count": null,
   "metadata": {
    "colab": {
     "base_uri": "https://localhost:8080/",
     "height": 170
    },
    "colab_type": "code",
    "id": "ZIQ83yej-s9y",
    "outputId": "96d0bf08-6929-41ef-e5ed-c5c08f066dac"
   },
   "outputs": [],
   "source": [
    "# load gender_age_train\n",
    "gender_age_train = pd.read_sql('SELECT * FROM gender_age_train', con=db_connection)\n",
    "gender_age_train.to_csv('gender_age_train.csv')\n",
    "gender_age_train.info()"
   ]
  },
  {
   "cell_type": "code",
   "execution_count": null,
   "metadata": {
    "colab": {
     "base_uri": "https://localhost:8080/",
     "height": 153
    },
    "colab_type": "code",
    "id": "1K2TLVLNV6b9",
    "outputId": "bcf7bd10-9aae-4292-df9a-cf1e1e4422cd"
   },
   "outputs": [],
   "source": [
    "# load phone_brand_device_model\n",
    "phone_brand_device_model = pd.read_sql('SELECT * FROM phone_brand_device_model', con=db_connection)\n",
    "phone_brand_device_model.to_csv('phone_brand_device_model.csv')\n",
    "phone_brand_device_model.info()"
   ]
  },
  {
   "cell_type": "code",
   "execution_count": null,
   "metadata": {
    "colab": {
     "base_uri": "https://localhost:8080/",
     "height": 221
    },
    "colab_type": "code",
    "id": "XeLCDCCmV6Jv",
    "outputId": "135f07da-9816-461f-8fbf-da2f9d696ade"
   },
   "outputs": [],
   "source": [
    "# load events_data\n",
    "events_data = pd.read_csv('event_data.csv')\n",
    "\n",
    "events_data.info()"
   ]
  },
  {
   "cell_type": "markdown",
   "metadata": {
    "colab_type": "text",
    "id": "OfzYsdMID8_E"
   },
   "source": [
    "<a id=section4></a>\n",
    "# 4. Data Preprocessing"
   ]
  },
  {
   "cell_type": "code",
   "execution_count": null,
   "metadata": {
    "colab": {
     "base_uri": "https://localhost:8080/",
     "height": 34
    },
    "colab_type": "code",
    "id": "2S0vUCnh77Pc",
    "outputId": "98f182de-c033-47b4-9449-436dfa1e414e"
   },
   "outputs": [],
   "source": [
    "gender_age_train = pd.read_csv('gender_age_train.csv')\n",
    "phone_brand_device_model = pd.read_csv('phone_brand_device_model.csv')"
   ]
  },
  {
   "cell_type": "markdown",
   "metadata": {
    "colab_type": "text",
    "id": "g3fXLs-yE6Yf"
   },
   "source": [
    "<a id=section401></a>\n",
    "## 4.1 Fixing datatypes of columns"
   ]
  },
  {
   "cell_type": "code",
   "execution_count": null,
   "metadata": {
    "colab": {
     "base_uri": "https://localhost:8080/",
     "height": 170
    },
    "colab_type": "code",
    "id": "xDTk9QXVENq1",
    "outputId": "68775bc8-a034-45da-94e5-5dee163b1782",
    "scrolled": true
   },
   "outputs": [],
   "source": [
    "# converting device_id and event_id to string\n",
    "gender_age_train['device_id'] = gender_age_train['device_id'].apply(lambda id : f'{id:.0f}')\n",
    "phone_brand_device_model['device_id'] = phone_brand_device_model['device_id'].apply(lambda id : f'{id:.0f}')\n",
    "events_data['event_id'] = events_data['event_id'].astype(int).astype(str)\n",
    "events_data['device_id'] = events_data['device_id'].apply(lambda id : f'{id:.0f}')"
   ]
  },
  {
   "cell_type": "code",
   "execution_count": null,
   "metadata": {},
   "outputs": [],
   "source": [
    "# converting timestamp to pandas datetime\n",
    "try:\n",
    "  events_data['timestamp'] = pd.to_datetime(events_data['timestamp'])\n",
    "except ValueError as e:\n",
    "  pass\n",
    "events_data.info()"
   ]
  },
  {
   "cell_type": "markdown",
   "metadata": {},
   "source": [
    "<a id=section402></a>\n",
    "## 4.2 Filtering common device id across data"
   ]
  },
  {
   "cell_type": "code",
   "execution_count": null,
   "metadata": {},
   "outputs": [],
   "source": [
    "unique_device_ids_events = set(events_data['device_id'])"
   ]
  },
  {
   "cell_type": "code",
   "execution_count": null,
   "metadata": {},
   "outputs": [],
   "source": [
    "unique_device_ids_phone_brands = set(phone_brand_device_model['device_id'])"
   ]
  },
  {
   "cell_type": "code",
   "execution_count": null,
   "metadata": {},
   "outputs": [],
   "source": [
    "unique_device_ids_gender_age = set(gender_age_train['device_id'])"
   ]
  },
  {
   "cell_type": "code",
   "execution_count": null,
   "metadata": {
    "scrolled": true
   },
   "outputs": [],
   "source": [
    "common_device_ids = unique_device_ids_events.intersection(unique_device_ids_phone_brands)\n",
    "common_device_ids = common_device_ids.intersection(unique_device_ids_gender_age)\n",
    "len(common_device_ids)"
   ]
  },
  {
   "cell_type": "markdown",
   "metadata": {},
   "source": [
    "**NOTE :**\n",
    "\n",
    "We have **44716** unique device_ids. let's take only data of these device_ids into consideration."
   ]
  },
  {
   "cell_type": "code",
   "execution_count": null,
   "metadata": {},
   "outputs": [],
   "source": [
    "gender_age_train = gender_age_train[gender_age_train['device_id'].isin(common_device_ids)]\n",
    "gender_age_train.shape"
   ]
  },
  {
   "cell_type": "code",
   "execution_count": null,
   "metadata": {},
   "outputs": [],
   "source": [
    "phone_brand_device_model = phone_brand_device_model[phone_brand_device_model['device_id'].isin(common_device_ids)]\n",
    "phone_brand_device_model.shape"
   ]
  },
  {
   "cell_type": "code",
   "execution_count": null,
   "metadata": {},
   "outputs": [],
   "source": [
    "events_data = events_data[events_data['device_id'].isin(common_device_ids)]\n",
    "events_data.shape"
   ]
  },
  {
   "cell_type": "markdown",
   "metadata": {},
   "source": [
    "<a id=section403></a>\n",
    "## 4.3 Categorising 'age' column"
   ]
  },
  {
   "cell_type": "code",
   "execution_count": null,
   "metadata": {
    "colab": {
     "base_uri": "https://localhost:8080/",
     "height": 238
    },
    "colab_type": "code",
    "id": "9OutECq1JXZm",
    "outputId": "0104cf5a-15f1-4010-f36f-9783dfaf37c3"
   },
   "outputs": [],
   "source": [
    "# categorising age to bins of age range and dropping group and age columns\n",
    "gender_age_train[\"age_bin\"] = pd.cut(gender_age_train['age'], [0, 17, 29,49,64,500], labels=['<18','18-29','30-49','50-64','65+'], include_lowest=True)\n",
    "gender_age_train[\"age_bin\"]"
   ]
  },
  {
   "cell_type": "code",
   "execution_count": null,
   "metadata": {
    "colab": {},
    "colab_type": "code",
    "id": "XU5sa0tMWX6X"
   },
   "outputs": [],
   "source": [
    "gender_age_train.drop(['group', 'age' ], axis=1, inplace=True)"
   ]
  },
  {
   "cell_type": "code",
   "execution_count": null,
   "metadata": {},
   "outputs": [],
   "source": [
    "gender_age_train.to_csv(\"gender_age_train_cleaned.csv\")"
   ]
  },
  {
   "cell_type": "markdown",
   "metadata": {},
   "source": [
    "<a id=section404></a>\n",
    "## 4.4 Translate phone_brand\n"
   ]
  },
  {
   "cell_type": "code",
   "execution_count": null,
   "metadata": {
    "colab": {},
    "colab_type": "code",
    "id": "hPAKara45R5Y"
   },
   "outputs": [],
   "source": [
    "phone_brand_map = {\n",
    "    '华为':\t'Huawei',\n",
    "    '小米':\t'Xiaomi',\n",
    "    '三星':\t'Samsung',\n",
    "    'vivo':\t'vivo',\n",
    "    'OPPO':\t'OPPO',\n",
    "    '魅族':\t'Meizu',\n",
    "    '酷派':\t'Coolpad',\n",
    "    '乐视':\t'LeEco',\n",
    "    '联想 ': 'Lenovo',\n",
    "    'HTC':\t'HTC'\n",
    "}"
   ]
  },
  {
   "cell_type": "code",
   "execution_count": null,
   "metadata": {
    "colab": {},
    "colab_type": "code",
    "id": "EJXg6TvB420b"
   },
   "outputs": [],
   "source": [
    "def map_phone_brands(brand):\n",
    "  if phone_brand_map.get(brand) is None:\n",
    "    return 'others'\n",
    "  else:\n",
    "    return phone_brand_map.get(brand)"
   ]
  },
  {
   "cell_type": "code",
   "execution_count": null,
   "metadata": {
    "colab": {
     "base_uri": "https://localhost:8080/",
     "height": 153
    },
    "colab_type": "code",
    "id": "8Ua6YXv3EZCz",
    "outputId": "2c3c3b2e-afe7-4195-af0a-031fd23d4c3c",
    "scrolled": false
   },
   "outputs": [],
   "source": [
    "phone_brand_device_model['phone_brand'] = phone_brand_device_model['phone_brand'].apply(map_phone_brands)\n",
    "phone_brand_device_model.info()"
   ]
  },
  {
   "cell_type": "code",
   "execution_count": null,
   "metadata": {},
   "outputs": [],
   "source": [
    "phone_brand_device_model.to_csv(\"phone_brand_device_model_cleaned.csv\")"
   ]
  },
  {
   "cell_type": "markdown",
   "metadata": {},
   "source": [
    "<a id=section405></a>\n",
    "## 4.5 Extract day, hour, month"
   ]
  },
  {
   "cell_type": "code",
   "execution_count": null,
   "metadata": {},
   "outputs": [],
   "source": [
    "events_data['hour_of_day'] = events_data['timestamp'].dt.hour\n",
    "events_data['day_of_month'] = events_data['timestamp'].dt.day\n",
    "events_data['month'] = events_data['timestamp'].apply(lambda time: time.strftime(\"%B\"))\n",
    "events_data['day_of_week'] = events_data['timestamp'].dt.weekday\n",
    "events_data['year'] = events_data['timestamp'].dt.year\n",
    "\n",
    "day_of_week_map = {0: 'Monday', 1: 'Tuesday', 2: 'Wednesday', 3: 'Thursday', 4: 'Friday', 5: 'Saturday', 6: 'Sunday'}\n",
    "events_data['day_of_week'] = events_data['day_of_week'].map(day_of_week_map)"
   ]
  },
  {
   "cell_type": "code",
   "execution_count": null,
   "metadata": {
    "scrolled": true
   },
   "outputs": [],
   "source": [
    "events_data.sample(10)"
   ]
  },
  {
   "cell_type": "markdown",
   "metadata": {},
   "source": [
    "<a id=section406></a>\n",
    "## 4.6 Merge all dataframes together"
   ]
  },
  {
   "cell_type": "code",
   "execution_count": null,
   "metadata": {},
   "outputs": [],
   "source": [
    "phone_data = pd.merge(events_data, phone_brand_device_model, on='device_id', how='left')\n",
    "print(phone_data.shape)\n",
    "phone_data = pd.merge(phone_data, gender_age_train, on='device_id', how='left')\n",
    "print(phone_data.shape)"
   ]
  },
  {
   "cell_type": "markdown",
   "metadata": {
    "colab_type": "text",
    "id": "85gouKEqE8Bz"
   },
   "source": [
    "<a id=section407></a>\n",
    "## 4.7 Impute missing values"
   ]
  },
  {
   "cell_type": "code",
   "execution_count": null,
   "metadata": {},
   "outputs": [],
   "source": [
    "phone_data.isna().sum()"
   ]
  },
  {
   "cell_type": "code",
   "execution_count": null,
   "metadata": {
    "colab": {
     "base_uri": "https://localhost:8080/",
     "height": 34
    },
    "colab_type": "code",
    "id": "iTV_nuiO7yNt",
    "outputId": "a61a4032-36e6-49e8-a312-26eff089cb73"
   },
   "outputs": [],
   "source": [
    "cities = list(phone_data['city'].unique())"
   ]
  },
  {
   "cell_type": "code",
   "execution_count": null,
   "metadata": {
    "colab": {},
    "colab_type": "code",
    "id": "zuGr4x508Ra7"
   },
   "outputs": [],
   "source": [
    "city_state_map = {}\n",
    "for city in cities:\n",
    "  try:\n",
    "    city_state_map[city] = phone_data[phone_data['city'] == city]['state'].mode()[0]\n",
    "  except (KeyError, IndexError) :\n",
    "    pass"
   ]
  },
  {
   "cell_type": "code",
   "execution_count": null,
   "metadata": {
    "colab": {},
    "colab_type": "code",
    "id": "vYwAo-NeK5ky"
   },
   "outputs": [],
   "source": [
    "nan_rows = phone_data[phone_data['state'].isna()]\n",
    "nan_indexes = list(nan_rows.index)\n",
    "\n",
    "for i in nan_indexes:\n",
    "  try:\n",
    "    phone_data['state'][i] = city_state_map[phone_data['city'][i]]\n",
    "  except KeyError:\n",
    "    pass"
   ]
  },
  {
   "cell_type": "code",
   "execution_count": null,
   "metadata": {
    "colab": {
     "base_uri": "https://localhost:8080/",
     "height": 51
    },
    "colab_type": "code",
    "id": "z5Wqd0Y3Ivq3",
    "outputId": "5b225e5f-694a-4cb7-d1ad-552f9d7bcf0a"
   },
   "outputs": [],
   "source": [
    "phone_data.isna().sum()"
   ]
  },
  {
   "cell_type": "code",
   "execution_count": null,
   "metadata": {},
   "outputs": [],
   "source": [
    "def getLong(row):\n",
    "    long = row['longitude']\n",
    "    city = row['city']\n",
    "   \n",
    "    if (pd.notnull(city) and ((long =='') or (pd.isnull(long)))):\n",
    "        print(row['device_id'])\n",
    "        longM = phone_data['longitude'][(phone_data['city'] == city) & (pd.notnull(phone_data['longitude']))].mode()[0]\n",
    "        return longM\n",
    "    else:\n",
    "        return long"
   ]
  },
  {
   "cell_type": "code",
   "execution_count": null,
   "metadata": {},
   "outputs": [],
   "source": [
    "def getLat(row):\n",
    "    lat = row['latitude']\n",
    "    city = row['city']\n",
    "   \n",
    "    if (pd.notnull(city) and ((lat =='') or (pd.isnull(lat)))):\n",
    "        print(row['device_id'])\n",
    "        LatM = phone_data['latitude'][(phone_data['city'] == city) & (pd.notnull(phone_data['latitude']))].mode()[0]\n",
    "        return LatM\n",
    "    else:\n",
    "        return lat"
   ]
  },
  {
   "cell_type": "code",
   "execution_count": null,
   "metadata": {},
   "outputs": [],
   "source": [
    "phone_data['latitude'] = phone_data.apply(getLat, axis=1)\n",
    "phone_data['longitude'] = phone_data.apply(getLong, axis=1)"
   ]
  },
  {
   "cell_type": "code",
   "execution_count": null,
   "metadata": {
    "colab": {
     "base_uri": "https://localhost:8080/",
     "height": 238
    },
    "colab_type": "code",
    "id": "b-jN6-23FNWy",
    "outputId": "f9ce02b0-4211-4af1-9709-95994bae41b4",
    "scrolled": false
   },
   "outputs": [],
   "source": [
    "phone_data.isna().sum()"
   ]
  },
  {
   "cell_type": "code",
   "execution_count": null,
   "metadata": {},
   "outputs": [],
   "source": [
    "phone_data.columns"
   ]
  },
  {
   "cell_type": "code",
   "execution_count": null,
   "metadata": {},
   "outputs": [],
   "source": [
    "phone_data.drop(['Unnamed: 0_x', 'Unnamed: 0_y', ''], axis=1, inplace=True)"
   ]
  },
  {
   "cell_type": "code",
   "execution_count": null,
   "metadata": {},
   "outputs": [],
   "source": [
    "events_data_sanitized = phone_data[['event_id','device_id','timestamp','longitude','latitude','state']].sample(200000)\n",
    "events_data_sanitized.set_index('event_id', inplace=True)\n",
    "events_data_sanitized.to_csv('events_data_sanitized.csv')"
   ]
  },
  {
   "cell_type": "code",
   "execution_count": null,
   "metadata": {},
   "outputs": [],
   "source": [
    "phone_data.drop(['timestamp'], axis=1, inplace=True)\n",
    "phone_data.to_csv('phone_data.csv')"
   ]
  },
  {
   "cell_type": "code",
   "execution_count": 3,
   "metadata": {
    "scrolled": true
   },
   "outputs": [
    {
     "name": "stdout",
     "output_type": "stream",
     "text": [
      "<class 'pandas.core.frame.DataFrame'>\n",
      "Int64Index: 2413281 entries, 1 to 3251669\n",
      "Data columns (total 14 columns):\n",
      "device_id       int64\n",
      "longitude       float64\n",
      "latitude        float64\n",
      "city            object\n",
      "state           object\n",
      "hour_of_day     int64\n",
      "day_of_month    int64\n",
      "month           object\n",
      "day_of_week     object\n",
      "year            int64\n",
      "phone_brand     object\n",
      "device_model    object\n",
      "gender          object\n",
      "age_bin         object\n",
      "dtypes: float64(2), int64(4), object(8)\n",
      "memory usage: 276.2+ MB\n"
     ]
    }
   ],
   "source": [
    "phone_data = pd.read_csv('phone_data.csv', index_col = 'event_id')\n",
    "phone_data.info()"
   ]
  },
  {
   "cell_type": "code",
   "execution_count": 4,
   "metadata": {},
   "outputs": [
    {
     "data": {
      "text/html": [
       "<div>\n",
       "<style scoped>\n",
       "    .dataframe tbody tr th:only-of-type {\n",
       "        vertical-align: middle;\n",
       "    }\n",
       "\n",
       "    .dataframe tbody tr th {\n",
       "        vertical-align: top;\n",
       "    }\n",
       "\n",
       "    .dataframe thead th {\n",
       "        text-align: right;\n",
       "    }\n",
       "</style>\n",
       "<table border=\"1\" class=\"dataframe\">\n",
       "  <thead>\n",
       "    <tr style=\"text-align: right;\">\n",
       "      <th></th>\n",
       "      <th>device_id</th>\n",
       "      <th>longitude</th>\n",
       "      <th>latitude</th>\n",
       "      <th>city</th>\n",
       "      <th>state</th>\n",
       "      <th>hour_of_day</th>\n",
       "      <th>day_of_month</th>\n",
       "      <th>month</th>\n",
       "      <th>day_of_week</th>\n",
       "      <th>year</th>\n",
       "      <th>phone_brand</th>\n",
       "      <th>device_model</th>\n",
       "      <th>gender</th>\n",
       "      <th>age_bin</th>\n",
       "    </tr>\n",
       "    <tr>\n",
       "      <th>event_id</th>\n",
       "      <th></th>\n",
       "      <th></th>\n",
       "      <th></th>\n",
       "      <th></th>\n",
       "      <th></th>\n",
       "      <th></th>\n",
       "      <th></th>\n",
       "      <th></th>\n",
       "      <th></th>\n",
       "      <th></th>\n",
       "      <th></th>\n",
       "      <th></th>\n",
       "      <th></th>\n",
       "      <th></th>\n",
       "    </tr>\n",
       "  </thead>\n",
       "  <tbody>\n",
       "    <tr>\n",
       "      <th>647343</th>\n",
       "      <td>4697355355223944192</td>\n",
       "      <td>83.371534</td>\n",
       "      <td>17.803535</td>\n",
       "      <td>Visakhapatnam</td>\n",
       "      <td>AndhraPradesh</td>\n",
       "      <td>22</td>\n",
       "      <td>1</td>\n",
       "      <td>May</td>\n",
       "      <td>Sunday</td>\n",
       "      <td>2016</td>\n",
       "      <td>Xiaomi</td>\n",
       "      <td>红米1S</td>\n",
       "      <td>M</td>\n",
       "      <td>30-49</td>\n",
       "    </tr>\n",
       "    <tr>\n",
       "      <th>1279996</th>\n",
       "      <td>-2611733232907371520</td>\n",
       "      <td>77.239226</td>\n",
       "      <td>28.740743</td>\n",
       "      <td>Delhi</td>\n",
       "      <td>Delhi</td>\n",
       "      <td>11</td>\n",
       "      <td>2</td>\n",
       "      <td>May</td>\n",
       "      <td>Monday</td>\n",
       "      <td>2016</td>\n",
       "      <td>Samsung</td>\n",
       "      <td>Galaxy S6</td>\n",
       "      <td>F</td>\n",
       "      <td>30-49</td>\n",
       "    </tr>\n",
       "    <tr>\n",
       "      <th>1303362</th>\n",
       "      <td>-5915714223069442048</td>\n",
       "      <td>80.361626</td>\n",
       "      <td>13.131306</td>\n",
       "      <td>Chennai</td>\n",
       "      <td>TamilNadu</td>\n",
       "      <td>3</td>\n",
       "      <td>7</td>\n",
       "      <td>May</td>\n",
       "      <td>Saturday</td>\n",
       "      <td>2016</td>\n",
       "      <td>Lenovo</td>\n",
       "      <td>V5 Max</td>\n",
       "      <td>M</td>\n",
       "      <td>18-29</td>\n",
       "    </tr>\n",
       "    <tr>\n",
       "      <th>593920</th>\n",
       "      <td>40228966137823312</td>\n",
       "      <td>73.877475</td>\n",
       "      <td>18.627749</td>\n",
       "      <td>Pune</td>\n",
       "      <td>Maharashtra</td>\n",
       "      <td>3</td>\n",
       "      <td>1</td>\n",
       "      <td>May</td>\n",
       "      <td>Sunday</td>\n",
       "      <td>2016</td>\n",
       "      <td>Samsung</td>\n",
       "      <td>G3588V</td>\n",
       "      <td>M</td>\n",
       "      <td>18-29</td>\n",
       "    </tr>\n",
       "    <tr>\n",
       "      <th>2097685</th>\n",
       "      <td>4100499219285606400</td>\n",
       "      <td>77.300610</td>\n",
       "      <td>28.724472</td>\n",
       "      <td>Delhi</td>\n",
       "      <td>Delhi</td>\n",
       "      <td>15</td>\n",
       "      <td>3</td>\n",
       "      <td>May</td>\n",
       "      <td>Tuesday</td>\n",
       "      <td>2016</td>\n",
       "      <td>Samsung</td>\n",
       "      <td>Galaxy Note 4</td>\n",
       "      <td>M</td>\n",
       "      <td>18-29</td>\n",
       "    </tr>\n",
       "    <tr>\n",
       "      <th>899551</th>\n",
       "      <td>-1686831655040141568</td>\n",
       "      <td>78.063194</td>\n",
       "      <td>10.453748</td>\n",
       "      <td>Dindigul</td>\n",
       "      <td>TamilNadu</td>\n",
       "      <td>11</td>\n",
       "      <td>1</td>\n",
       "      <td>May</td>\n",
       "      <td>Sunday</td>\n",
       "      <td>2016</td>\n",
       "      <td>Xiaomi</td>\n",
       "      <td>MI 4</td>\n",
       "      <td>M</td>\n",
       "      <td>30-49</td>\n",
       "    </tr>\n",
       "    <tr>\n",
       "      <th>1714499</th>\n",
       "      <td>-8667343479348166656</td>\n",
       "      <td>74.316101</td>\n",
       "      <td>29.668652</td>\n",
       "      <td>Hanumangarh</td>\n",
       "      <td>Rajasthan</td>\n",
       "      <td>11</td>\n",
       "      <td>6</td>\n",
       "      <td>May</td>\n",
       "      <td>Friday</td>\n",
       "      <td>2016</td>\n",
       "      <td>Xiaomi</td>\n",
       "      <td>红米1S</td>\n",
       "      <td>M</td>\n",
       "      <td>18-29</td>\n",
       "    </tr>\n",
       "    <tr>\n",
       "      <th>406787</th>\n",
       "      <td>-677983530989321728</td>\n",
       "      <td>77.222759</td>\n",
       "      <td>28.766862</td>\n",
       "      <td>Delhi</td>\n",
       "      <td>Delhi</td>\n",
       "      <td>8</td>\n",
       "      <td>2</td>\n",
       "      <td>May</td>\n",
       "      <td>Monday</td>\n",
       "      <td>2016</td>\n",
       "      <td>Huawei</td>\n",
       "      <td>Ascend P8</td>\n",
       "      <td>F</td>\n",
       "      <td>30-49</td>\n",
       "    </tr>\n",
       "    <tr>\n",
       "      <th>1977154</th>\n",
       "      <td>-7752590298681593856</td>\n",
       "      <td>83.310518</td>\n",
       "      <td>17.784964</td>\n",
       "      <td>Visakhapatnam</td>\n",
       "      <td>AndhraPradesh</td>\n",
       "      <td>20</td>\n",
       "      <td>2</td>\n",
       "      <td>May</td>\n",
       "      <td>Monday</td>\n",
       "      <td>2016</td>\n",
       "      <td>HTC</td>\n",
       "      <td>Desire 820</td>\n",
       "      <td>M</td>\n",
       "      <td>18-29</td>\n",
       "    </tr>\n",
       "    <tr>\n",
       "      <th>2745869</th>\n",
       "      <td>6577462434719166464</td>\n",
       "      <td>80.312386</td>\n",
       "      <td>13.127070</td>\n",
       "      <td>Chennai</td>\n",
       "      <td>TamilNadu</td>\n",
       "      <td>21</td>\n",
       "      <td>2</td>\n",
       "      <td>May</td>\n",
       "      <td>Monday</td>\n",
       "      <td>2016</td>\n",
       "      <td>HTC</td>\n",
       "      <td>G11</td>\n",
       "      <td>M</td>\n",
       "      <td>30-49</td>\n",
       "    </tr>\n",
       "    <tr>\n",
       "      <th>1115833</th>\n",
       "      <td>-5407134794077175808</td>\n",
       "      <td>72.870154</td>\n",
       "      <td>19.057050</td>\n",
       "      <td>Mumbai</td>\n",
       "      <td>Maharashtra</td>\n",
       "      <td>11</td>\n",
       "      <td>3</td>\n",
       "      <td>May</td>\n",
       "      <td>Tuesday</td>\n",
       "      <td>2016</td>\n",
       "      <td>Xiaomi</td>\n",
       "      <td>红米Note2</td>\n",
       "      <td>M</td>\n",
       "      <td>18-29</td>\n",
       "    </tr>\n",
       "    <tr>\n",
       "      <th>3126515</th>\n",
       "      <td>3738280493453803008</td>\n",
       "      <td>75.937988</td>\n",
       "      <td>22.762010</td>\n",
       "      <td>Indore</td>\n",
       "      <td>MadhyaPradesh</td>\n",
       "      <td>13</td>\n",
       "      <td>6</td>\n",
       "      <td>May</td>\n",
       "      <td>Friday</td>\n",
       "      <td>2016</td>\n",
       "      <td>Xiaomi</td>\n",
       "      <td>MI 2S</td>\n",
       "      <td>F</td>\n",
       "      <td>18-29</td>\n",
       "    </tr>\n",
       "    <tr>\n",
       "      <th>3109288</th>\n",
       "      <td>-1665914234949671936</td>\n",
       "      <td>80.290001</td>\n",
       "      <td>13.184937</td>\n",
       "      <td>Chennai</td>\n",
       "      <td>TamilNadu</td>\n",
       "      <td>8</td>\n",
       "      <td>3</td>\n",
       "      <td>May</td>\n",
       "      <td>Tuesday</td>\n",
       "      <td>2016</td>\n",
       "      <td>Xiaomi</td>\n",
       "      <td>MI 3</td>\n",
       "      <td>M</td>\n",
       "      <td>18-29</td>\n",
       "    </tr>\n",
       "    <tr>\n",
       "      <th>838922</th>\n",
       "      <td>3138041738281555968</td>\n",
       "      <td>88.442402</td>\n",
       "      <td>22.610065</td>\n",
       "      <td>Calcutta</td>\n",
       "      <td>WestBengal</td>\n",
       "      <td>8</td>\n",
       "      <td>6</td>\n",
       "      <td>May</td>\n",
       "      <td>Friday</td>\n",
       "      <td>2016</td>\n",
       "      <td>Samsung</td>\n",
       "      <td>Galaxy On7</td>\n",
       "      <td>M</td>\n",
       "      <td>18-29</td>\n",
       "    </tr>\n",
       "    <tr>\n",
       "      <th>999091</th>\n",
       "      <td>524532987039413312</td>\n",
       "      <td>75.342771</td>\n",
       "      <td>22.653253</td>\n",
       "      <td>Dhar</td>\n",
       "      <td>MadhyaPradesh</td>\n",
       "      <td>21</td>\n",
       "      <td>1</td>\n",
       "      <td>May</td>\n",
       "      <td>Sunday</td>\n",
       "      <td>2016</td>\n",
       "      <td>Xiaomi</td>\n",
       "      <td>红米2A</td>\n",
       "      <td>M</td>\n",
       "      <td>18-29</td>\n",
       "    </tr>\n",
       "    <tr>\n",
       "      <th>382614</th>\n",
       "      <td>-5825546292084395008</td>\n",
       "      <td>83.320417</td>\n",
       "      <td>17.782805</td>\n",
       "      <td>Visakhapatnam</td>\n",
       "      <td>AndhraPradesh</td>\n",
       "      <td>18</td>\n",
       "      <td>5</td>\n",
       "      <td>May</td>\n",
       "      <td>Thursday</td>\n",
       "      <td>2016</td>\n",
       "      <td>OPPO</td>\n",
       "      <td>R2017</td>\n",
       "      <td>M</td>\n",
       "      <td>30-49</td>\n",
       "    </tr>\n",
       "    <tr>\n",
       "      <th>809529</th>\n",
       "      <td>-5927772934818363392</td>\n",
       "      <td>78.505687</td>\n",
       "      <td>28.976681</td>\n",
       "      <td>Amroha</td>\n",
       "      <td>UttarPradesh</td>\n",
       "      <td>7</td>\n",
       "      <td>2</td>\n",
       "      <td>May</td>\n",
       "      <td>Monday</td>\n",
       "      <td>2016</td>\n",
       "      <td>Samsung</td>\n",
       "      <td>Galaxy Trend DUOS</td>\n",
       "      <td>M</td>\n",
       "      <td>30-49</td>\n",
       "    </tr>\n",
       "    <tr>\n",
       "      <th>381045</th>\n",
       "      <td>-2818127251459108352</td>\n",
       "      <td>77.245927</td>\n",
       "      <td>28.716650</td>\n",
       "      <td>Delhi</td>\n",
       "      <td>Delhi</td>\n",
       "      <td>17</td>\n",
       "      <td>3</td>\n",
       "      <td>May</td>\n",
       "      <td>Tuesday</td>\n",
       "      <td>2016</td>\n",
       "      <td>Samsung</td>\n",
       "      <td>Galaxy Note 3</td>\n",
       "      <td>F</td>\n",
       "      <td>50-64</td>\n",
       "    </tr>\n",
       "    <tr>\n",
       "      <th>2560394</th>\n",
       "      <td>7547838557362426880</td>\n",
       "      <td>72.844558</td>\n",
       "      <td>19.003914</td>\n",
       "      <td>Mumbai</td>\n",
       "      <td>Maharashtra</td>\n",
       "      <td>17</td>\n",
       "      <td>5</td>\n",
       "      <td>May</td>\n",
       "      <td>Thursday</td>\n",
       "      <td>2016</td>\n",
       "      <td>Huawei</td>\n",
       "      <td>G606</td>\n",
       "      <td>M</td>\n",
       "      <td>18-29</td>\n",
       "    </tr>\n",
       "    <tr>\n",
       "      <th>1147327</th>\n",
       "      <td>9088492067531817984</td>\n",
       "      <td>88.378179</td>\n",
       "      <td>22.610035</td>\n",
       "      <td>Calcutta</td>\n",
       "      <td>WestBengal</td>\n",
       "      <td>13</td>\n",
       "      <td>1</td>\n",
       "      <td>May</td>\n",
       "      <td>Sunday</td>\n",
       "      <td>2016</td>\n",
       "      <td>Samsung</td>\n",
       "      <td>G3818</td>\n",
       "      <td>M</td>\n",
       "      <td>18-29</td>\n",
       "    </tr>\n",
       "  </tbody>\n",
       "</table>\n",
       "</div>"
      ],
      "text/plain": [
       "                    device_id  longitude   latitude           city  \\\n",
       "event_id                                                             \n",
       "647343    4697355355223944192  83.371534  17.803535  Visakhapatnam   \n",
       "1279996  -2611733232907371520  77.239226  28.740743  Delhi           \n",
       "1303362  -5915714223069442048  80.361626  13.131306  Chennai         \n",
       "593920    40228966137823312    73.877475  18.627749  Pune            \n",
       "2097685   4100499219285606400  77.300610  28.724472  Delhi           \n",
       "899551   -1686831655040141568  78.063194  10.453748  Dindigul        \n",
       "1714499  -8667343479348166656  74.316101  29.668652  Hanumangarh     \n",
       "406787   -677983530989321728   77.222759  28.766862  Delhi           \n",
       "1977154  -7752590298681593856  83.310518  17.784964  Visakhapatnam   \n",
       "2745869   6577462434719166464  80.312386  13.127070  Chennai         \n",
       "1115833  -5407134794077175808  72.870154  19.057050  Mumbai          \n",
       "3126515   3738280493453803008  75.937988  22.762010  Indore          \n",
       "3109288  -1665914234949671936  80.290001  13.184937  Chennai         \n",
       "838922    3138041738281555968  88.442402  22.610065  Calcutta        \n",
       "999091    524532987039413312   75.342771  22.653253  Dhar            \n",
       "382614   -5825546292084395008  83.320417  17.782805  Visakhapatnam   \n",
       "809529   -5927772934818363392  78.505687  28.976681  Amroha          \n",
       "381045   -2818127251459108352  77.245927  28.716650  Delhi           \n",
       "2560394   7547838557362426880  72.844558  19.003914  Mumbai          \n",
       "1147327   9088492067531817984  88.378179  22.610035  Calcutta        \n",
       "\n",
       "                  state  hour_of_day  day_of_month month day_of_week  year  \\\n",
       "event_id                                                                     \n",
       "647343    AndhraPradesh  22           1             May   Sunday      2016   \n",
       "1279996   Delhi          11           2             May   Monday      2016   \n",
       "1303362   TamilNadu      3            7             May   Saturday    2016   \n",
       "593920    Maharashtra    3            1             May   Sunday      2016   \n",
       "2097685   Delhi          15           3             May   Tuesday     2016   \n",
       "899551    TamilNadu      11           1             May   Sunday      2016   \n",
       "1714499   Rajasthan      11           6             May   Friday      2016   \n",
       "406787    Delhi          8            2             May   Monday      2016   \n",
       "1977154   AndhraPradesh  20           2             May   Monday      2016   \n",
       "2745869   TamilNadu      21           2             May   Monday      2016   \n",
       "1115833   Maharashtra    11           3             May   Tuesday     2016   \n",
       "3126515   MadhyaPradesh  13           6             May   Friday      2016   \n",
       "3109288   TamilNadu      8            3             May   Tuesday     2016   \n",
       "838922    WestBengal     8            6             May   Friday      2016   \n",
       "999091    MadhyaPradesh  21           1             May   Sunday      2016   \n",
       "382614    AndhraPradesh  18           5             May   Thursday    2016   \n",
       "809529    UttarPradesh   7            2             May   Monday      2016   \n",
       "381045    Delhi          17           3             May   Tuesday     2016   \n",
       "2560394   Maharashtra    17           5             May   Thursday    2016   \n",
       "1147327   WestBengal     13           1             May   Sunday      2016   \n",
       "\n",
       "         phone_brand       device_model gender age_bin  \n",
       "event_id                                                \n",
       "647343    Xiaomi      红米1S               M      30-49   \n",
       "1279996   Samsung     Galaxy S6          F      30-49   \n",
       "1303362   Lenovo      V5 Max             M      18-29   \n",
       "593920    Samsung     G3588V             M      18-29   \n",
       "2097685   Samsung     Galaxy Note 4      M      18-29   \n",
       "899551    Xiaomi      MI 4               M      30-49   \n",
       "1714499   Xiaomi      红米1S               M      18-29   \n",
       "406787    Huawei      Ascend P8          F      30-49   \n",
       "1977154   HTC         Desire 820         M      18-29   \n",
       "2745869   HTC         G11                M      30-49   \n",
       "1115833   Xiaomi      红米Note2            M      18-29   \n",
       "3126515   Xiaomi      MI 2S              F      18-29   \n",
       "3109288   Xiaomi      MI 3               M      18-29   \n",
       "838922    Samsung     Galaxy On7         M      18-29   \n",
       "999091    Xiaomi      红米2A               M      18-29   \n",
       "382614    OPPO        R2017              M      30-49   \n",
       "809529    Samsung     Galaxy Trend DUOS  M      30-49   \n",
       "381045    Samsung     Galaxy Note 3      F      50-64   \n",
       "2560394   Huawei      G606               M      18-29   \n",
       "1147327   Samsung     G3818              M      18-29   "
      ]
     },
     "execution_count": 4,
     "metadata": {},
     "output_type": "execute_result"
    }
   ],
   "source": [
    "phone_data.sample(20)"
   ]
  },
  {
   "cell_type": "markdown",
   "metadata": {
    "colab": {},
    "colab_type": "code",
    "id": "Z4p02tgBo3CO"
   },
   "source": [
    "<a id=section5></a>\n",
    "# 5. Exploratory Data Analysis"
   ]
  },
  {
   "cell_type": "markdown",
   "metadata": {},
   "source": [
    "<a id=section501></a>\n",
    "## 5.1 Phone usage across device model"
   ]
  },
  {
   "cell_type": "code",
   "execution_count": 5,
   "metadata": {
    "scrolled": true
   },
   "outputs": [
    {
     "data": {
      "text/plain": [
       "<matplotlib.axes._subplots.AxesSubplot at 0x7fc59a19dba8>"
      ]
     },
     "execution_count": 5,
     "metadata": {},
     "output_type": "execute_result"
    },
    {
     "data": {
      "image/png": "[encoded data removed]",
      "text/plain": [
       "<Figure size 1440x432 with 1 Axes>"
      ]
     },
     "metadata": {
      "needs_background": "light"
     },
     "output_type": "display_data"
    }
   ],
   "source": [
    "phone_data_across_device_model= phone_data['device_model'].value_counts().head(10)\n",
    "phone_data_across_device_model.plot.bar(rot=0,figsize=(20, 6))"
   ]
  },
  {
   "cell_type": "markdown",
   "metadata": {},
   "source": [
    "**NOTE :**\n",
    "\n",
    "We can observe **note series** ad **MI series** are most used device models."
   ]
  },
  {
   "cell_type": "markdown",
   "metadata": {},
   "source": [
    "<a id=section502></a>\n",
    "## 5.2 Phone usage across geography"
   ]
  },
  {
   "cell_type": "markdown",
   "metadata": {},
   "source": [
    "<a id=section50201></a>\n",
    "### 5.2.1 Phone usage across cities"
   ]
  },
  {
   "cell_type": "code",
   "execution_count": 7,
   "metadata": {
    "scrolled": true
   },
   "outputs": [
    {
     "data": {
      "text/plain": [
       "<matplotlib.axes._subplots.AxesSubplot at 0x7fc599ff8d30>"
      ]
     },
     "execution_count": 7,
     "metadata": {},
     "output_type": "execute_result"
    },
    {
     "data": {
      "image/png": "[encoded data removed]",
      "text/plain": [
       "<Figure size 1440x432 with 1 Axes>"
      ]
     },
     "metadata": {
      "needs_background": "light"
     },
     "output_type": "display_data"
    }
   ],
   "source": [
    "phone_data_across_cities = phone_data['city'].value_counts().head(10)\n",
    "phone_data_across_cities.plot.bar(rot=0,figsize=(20, 6))"
   ]
  },
  {
   "cell_type": "markdown",
   "metadata": {},
   "source": [
    "<a id=section50202></a>\n",
    "### 5.2.2 Phone usage across states"
   ]
  },
  {
   "cell_type": "code",
   "execution_count": 8,
   "metadata": {
    "scrolled": false
   },
   "outputs": [
    {
     "data": {
      "text/plain": [
       "<matplotlib.axes._subplots.AxesSubplot at 0x7fc599fe96a0>"
      ]
     },
     "execution_count": 8,
     "metadata": {},
     "output_type": "execute_result"
    },
    {
     "data": {
      "image/png": "[encoded data removed]",
      "text/plain": [
       "<Figure size 1584x504 with 1 Axes>"
      ]
     },
     "metadata": {
      "needs_background": "light"
     },
     "output_type": "display_data"
    }
   ],
   "source": [
    "phone_data_across_states = phone_data['state'].value_counts().head(10)\n",
    "phone_data_across_states.plot.bar(rot=0,figsize=(22, 7))"
   ]
  },
  {
   "cell_type": "markdown",
   "metadata": {},
   "source": [
    "<a id=section50203></a>\n",
    "### 5.2.3 Phone usage across latitude and longitude"
   ]
  },
  {
   "cell_type": "code",
   "execution_count": null,
   "metadata": {},
   "outputs": [],
   "source": [
    "lat_long = phone_data[['latitude', 'longitude']]\n",
    "lat_long.drop_duplicates(inplace=True)"
   ]
  },
  {
   "cell_type": "code",
   "execution_count": null,
   "metadata": {
    "scrolled": true
   },
   "outputs": [],
   "source": [
    "locations = lat_long\n",
    "locationlist = locations.values.tolist()"
   ]
  },
  {
   "cell_type": "code",
   "execution_count": null,
   "metadata": {
    "scrolled": true
   },
   "outputs": [],
   "source": [
    "import folium\n",
    "map = folium.Map(location=[20.5937, 78.9629], zoom_start=10)\n",
    "marker_cluster = folium.MarkerCluster().add_to(map)\n",
    "for point in range(0, len(locationlist)):\n",
    "    try:\n",
    "        folium.Marker(locationlist[point], popup=phone_data['city'][point], \n",
    "                  icon=folium.Icon(color='darkblue', icon_color='white', icon='male', angle=0, prefix='fa')).add_to(marker_cluster)\n",
    "    except:\n",
    "        pass\n",
    "\n",
    "map.save('phone_usage.html')"
   ]
  },
  {
   "cell_type": "markdown",
   "metadata": {},
   "source": [
    "<img src=\"phone_data_distribution.png\" height='400px' width='100%'><br/>"
   ]
  },
  {
   "cell_type": "markdown",
   "metadata": {},
   "source": [
    "**NOTE :**\n",
    "\n",
    "As expected, most of the phone usage is in metropolitan cities and capital cities."
   ]
  },
  {
   "cell_type": "markdown",
   "metadata": {},
   "source": [
    "<a id=section503></a>\n",
    "## 5.3 Phone usage across gender"
   ]
  },
  {
   "cell_type": "markdown",
   "metadata": {},
   "source": [
    "<a id=section50301></a>\n",
    "### 5.3.1  Overall"
   ]
  },
  {
   "cell_type": "code",
   "execution_count": 9,
   "metadata": {
    "scrolled": false
   },
   "outputs": [
    {
     "data": {
      "text/plain": [
       "<matplotlib.axes._subplots.AxesSubplot at 0x7fc599ef17b8>"
      ]
     },
     "execution_count": 9,
     "metadata": {},
     "output_type": "execute_result"
    },
    {
     "data": {
      "image/png": "[encoded data removed]",
      "text/plain": [
       "<Figure size 1440x504 with 1 Axes>"
      ]
     },
     "metadata": {
      "needs_background": "light"
     },
     "output_type": "display_data"
    }
   ],
   "source": [
    "phone_data_across_gender = phone_data['gender'].value_counts(sort=False)\n",
    "phone_data_across_gender.plot.bar(rot=0,figsize=(20, 7))"
   ]
  },
  {
   "cell_type": "markdown",
   "metadata": {},
   "source": [
    "**NOTE :**\n",
    "\n",
    "We can see there is definitely data imbalance in gender. Any analysis based on gender will be biased towards one gender. Let's run few queries and confirm my hypothesis."
   ]
  },
  {
   "cell_type": "markdown",
   "metadata": {},
   "source": [
    "<a id=section50302></a>\n",
    "### 5.3.2  Phone brand usage over gender"
   ]
  },
  {
   "cell_type": "code",
   "execution_count": 10,
   "metadata": {
    "scrolled": false
   },
   "outputs": [
    {
     "data": {
      "text/plain": [
       "<matplotlib.axes._subplots.AxesSubplot at 0x7fc599ec6550>"
      ]
     },
     "execution_count": 10,
     "metadata": {},
     "output_type": "execute_result"
    },
    {
     "data": {
      "image/png": "[encoded data removed]",
      "text/plain": [
       "<Figure size 1080x504 with 1 Axes>"
      ]
     },
     "metadata": {
      "needs_background": "light"
     },
     "output_type": "display_data"
    }
   ],
   "source": [
    "df = pd.DataFrame(\n",
    "\t{\n",
    "\t'Male': phone_data[phone_data['gender'] == 'M']['phone_brand'].value_counts(sort=False),\n",
    "    'Female': phone_data[phone_data['gender'] == 'F']['phone_brand'].value_counts(sort=False)\n",
    "\t})\n",
    "df.plot.bar(rot=0,figsize=(15, 7))"
   ]
  },
  {
   "cell_type": "markdown",
   "metadata": {},
   "source": [
    "<a id=section50303></a>\n",
    "### 5.3.3  Daily usage gender wise"
   ]
  },
  {
   "cell_type": "code",
   "execution_count": 11,
   "metadata": {},
   "outputs": [
    {
     "data": {
      "text/plain": [
       "<matplotlib.axes._subplots.AxesSubplot at 0x7fc599ed6eb8>"
      ]
     },
     "execution_count": 11,
     "metadata": {},
     "output_type": "execute_result"
    },
    {
     "data": {
      "image/png": "[encoded data removed]",
      "text/plain": [
       "<Figure size 1080x504 with 1 Axes>"
      ]
     },
     "metadata": {
      "needs_background": "light"
     },
     "output_type": "display_data"
    }
   ],
   "source": [
    "df = pd.DataFrame(\n",
    "\t{\n",
    "\t'Male': phone_data[phone_data['gender'] == 'M']['day_of_month'].value_counts(sort=False),\n",
    "    'Female': phone_data[phone_data['gender'] == 'F']['day_of_month'].value_counts(sort=False)\n",
    "\t})\n",
    "df.plot.bar(rot=0,figsize=(15, 7))"
   ]
  },
  {
   "cell_type": "markdown",
   "metadata": {},
   "source": [
    "<a id=section50304></a>\n",
    "### 5.3.4  Phone usage over day of week gender wise\n"
   ]
  },
  {
   "cell_type": "code",
   "execution_count": 12,
   "metadata": {},
   "outputs": [
    {
     "data": {
      "text/plain": [
       "<matplotlib.axes._subplots.AxesSubplot at 0x7fc599d984a8>"
      ]
     },
     "execution_count": 12,
     "metadata": {},
     "output_type": "execute_result"
    },
    {
     "data": {
      "image/png": "[encoded data removed]",
      "text/plain": [
       "<Figure size 1080x504 with 1 Axes>"
      ]
     },
     "metadata": {
      "needs_background": "light"
     },
     "output_type": "display_data"
    }
   ],
   "source": [
    "df = pd.DataFrame(\n",
    "\t{\n",
    "\t'Male': phone_data[phone_data['gender'] == 'M']['day_of_week'].value_counts(sort=False),\n",
    "    'Female': phone_data[phone_data['gender'] == 'F']['day_of_week'].value_counts(sort=False)\n",
    "\t})\n",
    "df.plot.bar(rot=0,figsize=(15, 7))"
   ]
  },
  {
   "cell_type": "markdown",
   "metadata": {},
   "source": [
    "<a id=section50305></a>\n",
    "### 5.3.5 Hourly usage gender wise"
   ]
  },
  {
   "cell_type": "code",
   "execution_count": 13,
   "metadata": {
    "scrolled": false
   },
   "outputs": [
    {
     "data": {
      "text/plain": [
       "<matplotlib.axes._subplots.AxesSubplot at 0x7fc599d1fba8>"
      ]
     },
     "execution_count": 13,
     "metadata": {},
     "output_type": "execute_result"
    },
    {
     "data": {
      "image/png": "[encoded data removed]",
      "text/plain": [
       "<Figure size 1080x360 with 1 Axes>"
      ]
     },
     "metadata": {
      "needs_background": "light"
     },
     "output_type": "display_data"
    }
   ],
   "source": [
    "df = pd.DataFrame(\n",
    "\t{\n",
    "\t'Male': phone_data[phone_data['gender'] == 'M']['hour_of_day'].value_counts(sort=False),\n",
    "    'Female': phone_data[phone_data['gender'] == 'F']['hour_of_day'].value_counts(sort=False)\n",
    "\t})\n",
    "df.plot.bar(rot=0,figsize=(15, 5))"
   ]
  },
  {
   "cell_type": "markdown",
   "metadata": {},
   "source": [
    "**NOTE :**\n",
    "\n",
    "We can observe disregarding criteria,analysis is biased towards one gender. We can't get any actionable insights here."
   ]
  },
  {
   "cell_type": "markdown",
   "metadata": {},
   "source": [
    "<a id=section504></a>\n",
    "## 5.4 Phone usage v/s time\n"
   ]
  },
  {
   "cell_type": "markdown",
   "metadata": {},
   "source": [
    "<a id=section50401></a>\n",
    "### 5.4.1 Phone usage over hour of day"
   ]
  },
  {
   "cell_type": "code",
   "execution_count": 14,
   "metadata": {
    "scrolled": true
   },
   "outputs": [
    {
     "data": {
      "text/plain": [
       "<matplotlib.axes._subplots.AxesSubplot at 0x7fc599c29fd0>"
      ]
     },
     "execution_count": 14,
     "metadata": {},
     "output_type": "execute_result"
    },
    {
     "data": {
      "image/png": "[encoded data removed]",
      "text/plain": [
       "<Figure size 1440x432 with 1 Axes>"
      ]
     },
     "metadata": {
      "needs_background": "light"
     },
     "output_type": "display_data"
    }
   ],
   "source": [
    "phone_data_across_hour_of_day = phone_data['hour_of_day'].value_counts(sort=False)\n",
    "\n",
    "phone_data_across_hour_of_day.plot.bar(rot=0,figsize=(20, 6))"
   ]
  },
  {
   "cell_type": "markdown",
   "metadata": {},
   "source": [
    "**NOTE :**\n",
    "\n",
    "We observe phone usage is low between **1:00 am to 5:00 am**."
   ]
  },
  {
   "cell_type": "markdown",
   "metadata": {},
   "source": [
    "<a id=section50402></a>\n",
    "### 5.4.2 Phone usage over day of month"
   ]
  },
  {
   "cell_type": "code",
   "execution_count": 15,
   "metadata": {
    "scrolled": true
   },
   "outputs": [
    {
     "data": {
      "text/plain": [
       "<matplotlib.axes._subplots.AxesSubplot at 0x7fc599b63518>"
      ]
     },
     "execution_count": 15,
     "metadata": {},
     "output_type": "execute_result"
    },
    {
     "data": {
      "image/png": "[encoded data removed]",
      "text/plain": [
       "<Figure size 1440x432 with 1 Axes>"
      ]
     },
     "metadata": {
      "needs_background": "light"
     },
     "output_type": "display_data"
    }
   ],
   "source": [
    "phone_data_across_day_of_month = phone_data['day_of_month'].value_counts(sort=False)\n",
    "phone_data_across_day_of_month.plot.bar(rot=0,figsize=(20, 6))"
   ]
  },
  {
   "cell_type": "markdown",
   "metadata": {},
   "source": [
    "<a id=section50403></a>\n",
    "### 5.4.3 Phone usage over day of week"
   ]
  },
  {
   "cell_type": "code",
   "execution_count": 16,
   "metadata": {
    "scrolled": true
   },
   "outputs": [
    {
     "data": {
      "text/plain": [
       "<matplotlib.axes._subplots.AxesSubplot at 0x7fc599ae0ef0>"
      ]
     },
     "execution_count": 16,
     "metadata": {},
     "output_type": "execute_result"
    },
    {
     "data": {
      "image/png": "[encoded data removed]",
      "text/plain": [
       "<Figure size 1440x432 with 1 Axes>"
      ]
     },
     "metadata": {
      "needs_background": "light"
     },
     "output_type": "display_data"
    }
   ],
   "source": [
    "phone_data_across_day_of_week = phone_data['day_of_week'].value_counts(sort=True)\n",
    "\n",
    "phone_data_across_day_of_week.plot.bar(rot=0,figsize=(20, 6))"
   ]
  },
  {
   "cell_type": "markdown",
   "metadata": {},
   "source": [
    "**NOTE :**\n"
   ]
  },
  {
   "cell_type": "markdown",
   "metadata": {},
   "source": [
    "<a id=section50404></a>\n",
    "### 5.4.4 Phone usage over month"
   ]
  },
  {
   "cell_type": "code",
   "execution_count": 18,
   "metadata": {
    "scrolled": false
   },
   "outputs": [
    {
     "data": {
      "text/plain": [
       "<matplotlib.axes._subplots.AxesSubplot at 0x7fc599a57cc0>"
      ]
     },
     "execution_count": 18,
     "metadata": {},
     "output_type": "execute_result"
    },
    {
     "data": {
      "image/png": "[encoded data removed]",
      "text/plain": [
       "<Figure size 1440x432 with 1 Axes>"
      ]
     },
     "metadata": {
      "needs_background": "light"
     },
     "output_type": "display_data"
    }
   ],
   "source": [
    "phone_data_across_month = phone_data['month'].value_counts(sort=False)\n",
    "\n",
    "phone_data_across_month.plot.bar(rot=0,figsize=(20, 6))"
   ]
  },
  {
   "cell_type": "markdown",
   "metadata": {},
   "source": [
    "**NOTE :**\n",
    "\n",
    "**month** has only only two unique values . So, lets drop it. "
   ]
  },
  {
   "cell_type": "markdown",
   "metadata": {},
   "source": [
    "<a id=section50405></a>\n",
    "### 5.4.5 Phone usage over year"
   ]
  },
  {
   "cell_type": "code",
   "execution_count": 19,
   "metadata": {
    "scrolled": false
   },
   "outputs": [
    {
     "data": {
      "text/plain": [
       "<matplotlib.axes._subplots.AxesSubplot at 0x7fc5998ee9e8>"
      ]
     },
     "execution_count": 19,
     "metadata": {},
     "output_type": "execute_result"
    },
    {
     "data": {
      "image/png": "[encoded data removed]",
      "text/plain": [
       "<Figure size 1440x432 with 1 Axes>"
      ]
     },
     "metadata": {
      "needs_background": "light"
     },
     "output_type": "display_data"
    }
   ],
   "source": [
    "phone_data_across_year = phone_data['year'].value_counts(sort=False)\n",
    "\n",
    "phone_data_across_year.plot.bar(rot=0,figsize=(20, 6))"
   ]
  },
  {
   "cell_type": "markdown",
   "metadata": {},
   "source": [
    "**NOTE :**\n",
    "\n",
    "**year** has only only one unique value . So, lets drop it. "
   ]
  },
  {
   "cell_type": "code",
   "execution_count": 20,
   "metadata": {},
   "outputs": [],
   "source": [
    "# dropping year and month column\n",
    "phone_data.drop(['year','month'],axis=1, inplace=True)"
   ]
  },
  {
   "cell_type": "markdown",
   "metadata": {},
   "source": [
    "<a id=section505></a>\n",
    "## 5.5 Phone usage over age range"
   ]
  },
  {
   "cell_type": "markdown",
   "metadata": {},
   "source": [
    "<a id=section50501></a>\n",
    "\n",
    "### 5.5.1 Phone usage overall"
   ]
  },
  {
   "cell_type": "code",
   "execution_count": 28,
   "metadata": {
    "scrolled": true
   },
   "outputs": [
    {
     "data": {
      "text/plain": [
       "<matplotlib.axes._subplots.AxesSubplot at 0x7fc598aa9438>"
      ]
     },
     "execution_count": 28,
     "metadata": {},
     "output_type": "execute_result"
    },
    {
     "data": {
      "image/png": "[encoded data removed]",
      "text/plain": [
       "<Figure size 1440x432 with 1 Axes>"
      ]
     },
     "metadata": {
      "needs_background": "light"
     },
     "output_type": "display_data"
    }
   ],
   "source": [
    "phone_data_across_age_range = phone_data['age_bin'].value_counts()\n",
    "phone_data_across_age_range.plot.bar(rot=0,figsize=(20, 6))"
   ]
  },
  {
   "cell_type": "markdown",
   "metadata": {},
   "source": [
    "**NOTE :**\n",
    "\n",
    "No surprises!! 18-49 is age group who use mobile a lot."
   ]
  },
  {
   "cell_type": "markdown",
   "metadata": {},
   "source": [
    "<a id=section50502></a>\n",
    "\n",
    "### 5.5.2 Which age group prefer which brand?\n"
   ]
  },
  {
   "cell_type": "code",
   "execution_count": 22,
   "metadata": {
    "scrolled": true
   },
   "outputs": [
    {
     "data": {
      "text/plain": [
       "<matplotlib.legend.Legend at 0x7fc59982d080>"
      ]
     },
     "execution_count": 22,
     "metadata": {},
     "output_type": "execute_result"
    },
    {
     "data": {
      "image/png": "[encoded data removed]",
      "text/plain": [
       "<Figure size 1800x523.44 with 1 Axes>"
      ]
     },
     "metadata": {
      "needs_background": "light"
     },
     "output_type": "display_data"
    }
   ],
   "source": [
    "fig, ax = plt.subplots()\n",
    "fig.set_size_inches(25, 7.27)\n",
    "sns.countplot(x='age_bin',data=phone_data,hue='phone_brand',palette='YlOrRd_r', \n",
    "              order=phone_data['age_bin'].value_counts().iloc[0:10].index, \n",
    "              hue_order=phone_data['phone_brand'].value_counts().iloc[:10].index)\n",
    "\n",
    "# To relocate the legend\n",
    "plt.legend(bbox_to_anchor=(1.05, 1), loc=2, borderaxespad=0.)"
   ]
  },
  {
   "cell_type": "markdown",
   "metadata": {},
   "source": [
    "**NOTE :**\n",
    "\n",
    "Almost all age groups prefer **XIOMI**"
   ]
  },
  {
   "cell_type": "markdown",
   "metadata": {},
   "source": [
    "<a id=section50503></a>\n",
    "\n",
    "### 5.5.3 Phone usage across age group(state-wise)\n"
   ]
  },
  {
   "cell_type": "code",
   "execution_count": 23,
   "metadata": {
    "scrolled": false
   },
   "outputs": [
    {
     "data": {
      "text/plain": [
       "<matplotlib.legend.Legend at 0x7fc5997fdb00>"
      ]
     },
     "execution_count": 23,
     "metadata": {},
     "output_type": "execute_result"
    },
    {
     "data": {
      "image/png": "[encoded data removed]",
      "text/plain": [
       "<Figure size 1800x523.44 with 1 Axes>"
      ]
     },
     "metadata": {
      "needs_background": "light"
     },
     "output_type": "display_data"
    }
   ],
   "source": [
    "fig, ax = plt.subplots()\n",
    "fig.set_size_inches(25, 7.27)\n",
    "sns.countplot(x='age_bin',data=phone_data,hue='state',palette='YlOrRd_r', \n",
    "              order=phone_data['age_bin'].value_counts().iloc[0:10].index, \n",
    "              hue_order=phone_data['state'].value_counts().iloc[:10].index)\n",
    "\n",
    "# To relocate the legend\n",
    "plt.legend(bbox_to_anchor=(1.05, 1), loc=2, borderaxespad=0.)"
   ]
  },
  {
   "cell_type": "markdown",
   "metadata": {},
   "source": [
    "**NOTE :**\n",
    "\n",
    "Apart from age-group 18-29, Delhi has most number of mobile users."
   ]
  },
  {
   "cell_type": "markdown",
   "metadata": {},
   "source": [
    "<a id=section50505></a>\n",
    "\n",
    "### 5.5.5 Phone usage across age group(day of week-wise)\n"
   ]
  },
  {
   "cell_type": "code",
   "execution_count": 24,
   "metadata": {
    "scrolled": true
   },
   "outputs": [
    {
     "data": {
      "text/plain": [
       "<matplotlib.legend.Legend at 0x7fc598e964a8>"
      ]
     },
     "execution_count": 24,
     "metadata": {},
     "output_type": "execute_result"
    },
    {
     "data": {
      "image/png": "[encoded data removed]",
      "text/plain": [
       "<Figure size 1800x523.44 with 1 Axes>"
      ]
     },
     "metadata": {
      "needs_background": "light"
     },
     "output_type": "display_data"
    }
   ],
   "source": [
    "fig, ax = plt.subplots()\n",
    "fig.set_size_inches(25, 7.27)\n",
    "sns.countplot(x='age_bin',data=phone_data,hue='day_of_week',palette='YlOrRd_r', \n",
    "              order=phone_data['age_bin'].value_counts().iloc[0:10].index, \n",
    "              hue_order=phone_data['day_of_week'].value_counts().iloc[:10].index)\n",
    "\n",
    "# To relocate the legend\n",
    "plt.legend(bbox_to_anchor=(1.05, 1), loc=2, borderaxespad=0.)"
   ]
  },
  {
   "cell_type": "markdown",
   "metadata": {},
   "source": [
    "<a id=section50506></a>\n",
    "\n",
    "### 5.5.6 Phone usage across age group(hour of day-wise)\n"
   ]
  },
  {
   "cell_type": "code",
   "execution_count": 25,
   "metadata": {
    "scrolled": false
   },
   "outputs": [
    {
     "data": {
      "text/plain": [
       "<matplotlib.legend.Legend at 0x7fc598dac080>"
      ]
     },
     "execution_count": 25,
     "metadata": {},
     "output_type": "execute_result"
    },
    {
     "data": {
      "image/png": "[encoded data removed]",
      "text/plain": [
       "<Figure size 1800x523.44 with 1 Axes>"
      ]
     },
     "metadata": {
      "needs_background": "light"
     },
     "output_type": "display_data"
    }
   ],
   "source": [
    "fig, ax = plt.subplots()\n",
    "fig.set_size_inches(25, 7.27)\n",
    "sns.countplot(x='age_bin',data=phone_data,hue='hour_of_day',palette='YlOrRd_r', \n",
    "              order=phone_data['age_bin'].value_counts().iloc[0:10].index, \n",
    "              hue_order=phone_data['hour_of_day'].value_counts().iloc[:10].index)\n",
    "\n",
    "# To relocate the legend\n",
    "plt.legend(bbox_to_anchor=(1.05, 1), loc=2, borderaxespad=0.1)"
   ]
  },
  {
   "cell_type": "markdown",
   "metadata": {},
   "source": [
    "<a id=section506></a>\n",
    "\n",
    "## 5.6 Phone usage over phone brand"
   ]
  },
  {
   "cell_type": "markdown",
   "metadata": {},
   "source": [
    "<a id=section50601></a>\n",
    "\n",
    "### 5.6.1 Overall"
   ]
  },
  {
   "cell_type": "code",
   "execution_count": 26,
   "metadata": {},
   "outputs": [
    {
     "data": {
      "text/plain": [
       "<matplotlib.axes._subplots.AxesSubplot at 0x7fc598c99c50>"
      ]
     },
     "execution_count": 26,
     "metadata": {},
     "output_type": "execute_result"
    },
    {
     "data": {
      "image/png": "[encoded data removed]",
      "text/plain": [
       "<Figure size 1440x504 with 1 Axes>"
      ]
     },
     "metadata": {
      "needs_background": "light"
     },
     "output_type": "display_data"
    }
   ],
   "source": [
    "phone_data_across_phone_brand = phone_data['phone_brand'].value_counts()\n",
    "phone_data_across_phone_brand.plot.bar(rot=0,figsize=(20, 7))"
   ]
  },
  {
   "cell_type": "markdown",
   "metadata": {},
   "source": [
    "<a id=section50602></a>\n",
    "\n",
    "### 5.6.2 Phone brand usage over city"
   ]
  },
  {
   "cell_type": "code",
   "execution_count": 29,
   "metadata": {
    "scrolled": false
   },
   "outputs": [
    {
     "data": {
      "text/plain": [
       "<matplotlib.legend.Legend at 0x7fc5989c8f98>"
      ]
     },
     "execution_count": 29,
     "metadata": {},
     "output_type": "execute_result"
    },
    {
     "data": {
      "image/png": "[encoded data removed]",
      "text/plain": [
       "<Figure size 1800x523.44 with 1 Axes>"
      ]
     },
     "metadata": {
      "needs_background": "light"
     },
     "output_type": "display_data"
    }
   ],
   "source": [
    "fig, ax = plt.subplots()\n",
    "fig.set_size_inches(25, 7.27)\n",
    "sns.countplot(x='city',data=phone_data,hue='phone_brand',palette='YlOrRd_r', \n",
    "              order=phone_data['city'].value_counts().iloc[0:10].index, \n",
    "              hue_order=phone_data['phone_brand'].value_counts().iloc[:10].index)\n",
    "\n",
    "# To relocate the legend\n",
    "plt.legend(bbox_to_anchor=(1.05, 1), loc=2, borderaxespad=0.1)"
   ]
  },
  {
   "cell_type": "markdown",
   "metadata": {},
   "source": [
    "**NOTE :**\n",
    "\n",
    "Except Delhi, **XIOMI** is most used phone brand in all cities."
   ]
  },
  {
   "cell_type": "markdown",
   "metadata": {},
   "source": [
    "<a id=section6></a>\n",
    "# 6. Actionable Insights"
   ]
  },
  {
   "cell_type": "markdown",
   "metadata": {},
   "source": [
    "1. As there is very low phone usage during 1:00 am to 5:00 am, companies can come up with new plans to engage people during that period.\n",
    "\n",
    "2. Phone usage in age group >50 years, is low. Companies can work on phone design which is easy to use for any age-group.\n",
    "\n",
    "3. Companies should work on its brand in small cities.\n",
    "\n",
    "4. Phone usage on week ends, is low when compared to week days. May be most people use phone for official use. Companies can come up with plans to use this observation to grab more profits. "
   ]
  }
 ],
 "metadata": {
  "colab": {
   "collapsed_sections": [],
   "name": "InsaidTelecom.ipynb",
   "provenance": [],
   "toc_visible": true
  },
  "kernelspec": {
   "display_name": "Python 3",
   "language": "python",
   "name": "python3"
  },
  "language_info": {
   "codemirror_mode": {
    "name": "ipython",
    "version": 3
   },
   "file_extension": ".py",
   "mimetype": "text/x-python",
   "name": "python",
   "nbconvert_exporter": "python",
   "pygments_lexer": "ipython3",
   "version": "3.7.3"
  },
  "widgets": {
   "application/vnd.jupyter.widget-state+json": {
    "356ce88bb0b1493ba7311b0e1147a6b4": {
     "model_module": "@jupyter-widgets/controls",
     "model_name": "ProgressStyleModel",
     "state": {
      "_model_module": "@jupyter-widgets/controls",
      "_model_module_version": "1.5.0",
      "_model_name": "ProgressStyleModel",
      "_view_count": null,
      "_view_module": "@jupyter-widgets/base",
      "_view_module_version": "1.2.0",
      "_view_name": "StyleView",
      "bar_color": null,
      "description_width": "initial"
     }
    },
    "47a48775ac13410a89ebda331014e0d2": {
     "model_module": "@jupyter-widgets/controls",
     "model_name": "HBoxModel",
     "state": {
      "_dom_classes": [],
      "_model_module": "@jupyter-widgets/controls",
      "_model_module_version": "1.5.0",
      "_model_name": "HBoxModel",
      "_view_count": null,
      "_view_module": "@jupyter-widgets/controls",
      "_view_module_version": "1.5.0",
      "_view_name": "HBoxView",
      "box_style": "",
      "children": [
       "IPY_MODEL_4ef4d39b5bad452aa07cec18b1a996c7",
       "IPY_MODEL_55f888b8458f47fba81410c2df758f53"
      ],
      "layout": "IPY_MODEL_c843f5107166499ba58bc0d36c1aa542"
     }
    },
    "4ef4d39b5bad452aa07cec18b1a996c7": {
     "model_module": "@jupyter-widgets/controls",
     "model_name": "FloatProgressModel",
     "state": {
      "_dom_classes": [],
      "_model_module": "@jupyter-widgets/controls",
      "_model_module_version": "1.5.0",
      "_model_name": "FloatProgressModel",
      "_view_count": null,
      "_view_module": "@jupyter-widgets/controls",
      "_view_module_version": "1.5.0",
      "_view_name": "ProgressView",
      "bar_style": "",
      "description": "variables:  83%",
      "description_tooltip": null,
      "layout": "IPY_MODEL_8d6346c313a0458ea793fcdb389a2146",
      "max": 12,
      "min": 0,
      "orientation": "horizontal",
      "style": "IPY_MODEL_356ce88bb0b1493ba7311b0e1147a6b4",
      "value": 10
     }
    },
    "55f888b8458f47fba81410c2df758f53": {
     "model_module": "@jupyter-widgets/controls",
     "model_name": "HTMLModel",
     "state": {
      "_dom_classes": [],
      "_model_module": "@jupyter-widgets/controls",
      "_model_module_version": "1.5.0",
      "_model_name": "HTMLModel",
      "_view_count": null,
      "_view_module": "@jupyter-widgets/controls",
      "_view_module_version": "1.5.0",
      "_view_name": "HTMLView",
      "description": "",
      "description_tooltip": null,
      "layout": "IPY_MODEL_b914b67e5bad4a439fb6c98d0003f3eb",
      "placeholder": "​",
      "style": "IPY_MODEL_e19ef81c839f4ba1ad8cd6da1468af84",
      "value": " 10/12 [02:15&lt;00:22, 11.06s/it]"
     }
    },
    "8d6346c313a0458ea793fcdb389a2146": {
     "model_module": "@jupyter-widgets/base",
     "model_name": "LayoutModel",
     "state": {
      "_model_module": "@jupyter-widgets/base",
      "_model_module_version": "1.2.0",
      "_model_name": "LayoutModel",
      "_view_count": null,
      "_view_module": "@jupyter-widgets/base",
      "_view_module_version": "1.2.0",
      "_view_name": "LayoutView",
      "align_content": null,
      "align_items": null,
      "align_self": null,
      "border": null,
      "bottom": null,
      "display": null,
      "flex": null,
      "flex_flow": null,
      "grid_area": null,
      "grid_auto_columns": null,
      "grid_auto_flow": null,
      "grid_auto_rows": null,
      "grid_column": null,
      "grid_gap": null,
      "grid_row": null,
      "grid_template_areas": null,
      "grid_template_columns": null,
      "grid_template_rows": null,
      "height": null,
      "justify_content": null,
      "justify_items": null,
      "left": null,
      "margin": null,
      "max_height": null,
      "max_width": null,
      "min_height": null,
      "min_width": null,
      "object_fit": null,
      "object_position": null,
      "order": null,
      "overflow": null,
      "overflow_x": null,
      "overflow_y": null,
      "padding": null,
      "right": null,
      "top": null,
      "visibility": null,
      "width": null
     }
    },
    "b914b67e5bad4a439fb6c98d0003f3eb": {
     "model_module": "@jupyter-widgets/base",
     "model_name": "LayoutModel",
     "state": {
      "_model_module": "@jupyter-widgets/base",
      "_model_module_version": "1.2.0",
      "_model_name": "LayoutModel",
      "_view_count": null,
      "_view_module": "@jupyter-widgets/base",
      "_view_module_version": "1.2.0",
      "_view_name": "LayoutView",
      "align_content": null,
      "align_items": null,
      "align_self": null,
      "border": null,
      "bottom": null,
      "display": null,
      "flex": null,
      "flex_flow": null,
      "grid_area": null,
      "grid_auto_columns": null,
      "grid_auto_flow": null,
      "grid_auto_rows": null,
      "grid_column": null,
      "grid_gap": null,
      "grid_row": null,
      "grid_template_areas": null,
      "grid_template_columns": null,
      "grid_template_rows": null,
      "height": null,
      "justify_content": null,
      "justify_items": null,
      "left": null,
      "margin": null,
      "max_height": null,
      "max_width": null,
      "min_height": null,
      "min_width": null,
      "object_fit": null,
      "object_position": null,
      "order": null,
      "overflow": null,
      "overflow_x": null,
      "overflow_y": null,
      "padding": null,
      "right": null,
      "top": null,
      "visibility": null,
      "width": null
     }
    },
    "c843f5107166499ba58bc0d36c1aa542": {
     "model_module": "@jupyter-widgets/base",
     "model_name": "LayoutModel",
     "state": {
      "_model_module": "@jupyter-widgets/base",
      "_model_module_version": "1.2.0",
      "_model_name": "LayoutModel",
      "_view_count": null,
      "_view_module": "@jupyter-widgets/base",
      "_view_module_version": "1.2.0",
      "_view_name": "LayoutView",
      "align_content": null,
      "align_items": null,
      "align_self": null,
      "border": null,
      "bottom": null,
      "display": null,
      "flex": null,
      "flex_flow": null,
      "grid_area": null,
      "grid_auto_columns": null,
      "grid_auto_flow": null,
      "grid_auto_rows": null,
      "grid_column": null,
      "grid_gap": null,
      "grid_row": null,
      "grid_template_areas": null,
      "grid_template_columns": null,
      "grid_template_rows": null,
      "height": null,
      "justify_content": null,
      "justify_items": null,
      "left": null,
      "margin": null,
      "max_height": null,
      "max_width": null,
      "min_height": null,
      "min_width": null,
      "object_fit": null,
      "object_position": null,
      "order": null,
      "overflow": null,
      "overflow_x": null,
      "overflow_y": null,
      "padding": null,
      "right": null,
      "top": null,
      "visibility": null,
      "width": null
     }
    },
    "e19ef81c839f4ba1ad8cd6da1468af84": {
     "model_module": "@jupyter-widgets/controls",
     "model_name": "DescriptionStyleModel",
     "state": {
      "_model_module": "@jupyter-widgets/controls",
      "_model_module_version": "1.5.0",
      "_model_name": "DescriptionStyleModel",
      "_view_count": null,
      "_view_module": "@jupyter-widgets/base",
      "_view_module_version": "1.2.0",
      "_view_name": "StyleView",
      "description_width": ""
     }
    }
   }
  }
 },
 "nbformat": 4,
 "nbformat_minor": 1
}
