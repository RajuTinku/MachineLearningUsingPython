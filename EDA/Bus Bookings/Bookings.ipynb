{
 "cells": [
  {
   "cell_type": "markdown",
   "metadata": {},
   "source": [
    "# Exploratory Data Analysis on Bus Booking Data\n",
    "\n",
    "<img src=\"data:image/jpeg;base64,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\" height='400px' width='100%'><br/>"
   ]
  },
  {
   "cell_type": "markdown",
   "metadata": {},
   "source": [
    "## 1. Problem Statement\n",
    "  ### - 1.1 Introduction\n",
    "  ### - 1.2 Bussiness Goal\n",
    "  \n",
    "## 2. Importing Packages\n",
    "\n",
    "## 3. Loading Data\n",
    "  ### - 3.1 Importing Data\n",
    "  ### - 3.2 Description of the Datasets\n",
    "  \n",
    "## 4. Data Processing\n",
    "  ### - 4.1 Data Preparation For EDA\n",
    "  \n",
    "## 5. Exploratory Data Analysis\n",
    "  \n",
    "## 6. Actionable Insights\n"
   ]
  },
  {
   "cell_type": "markdown",
   "metadata": {},
   "source": [
    "## 1. Problem Statement\n",
    "\n",
    "<img src=\"Problem_Statement.jpg\" height='400px' width='100%'><br/>"
   ]
  },
  {
   "cell_type": "markdown",
   "metadata": {},
   "source": [
    "## 2. Importing Packages"
   ]
  },
  {
   "cell_type": "code",
   "execution_count": 1,
   "metadata": {},
   "outputs": [],
   "source": [
    "import numpy as np                     \n",
    "\n",
    "import pandas as pd\n",
    "pd.set_option('mode.chained_assignment', None)      # To suppress pandas warnings.\n",
    "pd.set_option('display.max_colwidth', -1)           # To display all the data in each column\n",
    "pd.get_option(\"display.max_rows\",10000)\n",
    "pd.options.display.max_columns = 50                 # To display every column of the dataset in head()\n",
    "\n",
    "import warnings\n",
    "warnings.filterwarnings('ignore')     "
   ]
  },
  {
   "cell_type": "code",
   "execution_count": 2,
   "metadata": {},
   "outputs": [],
   "source": [
    "import matplotlib.pyplot as plt\n",
    "%matplotlib inline\n",
    "\n",
    "import seaborn as sns\n",
    "sns.set(style='whitegrid', font_scale=1.3, color_codes=True)      # To apply seaborn styles to the plots."
   ]
  },
  {
   "cell_type": "markdown",
   "metadata": {},
   "source": [
    "## 3. Loading Data"
   ]
  },
  {
   "cell_type": "markdown",
   "metadata": {},
   "source": [
    "### 3.1 Loading Data"
   ]
  },
  {
   "cell_type": "code",
   "execution_count": 195,
   "metadata": {},
   "outputs": [],
   "source": [
    "df_bookings = pd.read_csv('Bookings.csv')"
   ]
  },
  {
   "cell_type": "code",
   "execution_count": 196,
   "metadata": {
    "scrolled": true
   },
   "outputs": [
    {
     "data": {
      "text/html": [
       "<div>\n",
       "<style scoped>\n",
       "    .dataframe tbody tr th:only-of-type {\n",
       "        vertical-align: middle;\n",
       "    }\n",
       "\n",
       "    .dataframe tbody tr th {\n",
       "        vertical-align: top;\n",
       "    }\n",
       "\n",
       "    .dataframe thead th {\n",
       "        text-align: right;\n",
       "    }\n",
       "</style>\n",
       "<table border=\"1\" class=\"dataframe\">\n",
       "  <thead>\n",
       "    <tr style=\"text-align: right;\">\n",
       "      <th></th>\n",
       "      <th>order_date</th>\n",
       "      <th>route_no</th>\n",
       "      <th>from_stop</th>\n",
       "      <th>to_stop</th>\n",
       "      <th>departure_time</th>\n",
       "      <th>travel_date</th>\n",
       "      <th>passengers_booked_index</th>\n",
       "    </tr>\n",
       "  </thead>\n",
       "  <tbody>\n",
       "    <tr>\n",
       "      <th>0</th>\n",
       "      <td>24-12-2015 00:00</td>\n",
       "      <td>8192</td>\n",
       "      <td>2655</td>\n",
       "      <td>2790</td>\n",
       "      <td>19:00:00</td>\n",
       "      <td>20-02-2016 00:00</td>\n",
       "      <td>1.28547</td>\n",
       "    </tr>\n",
       "    <tr>\n",
       "      <th>1</th>\n",
       "      <td>2/1/2016 0:00</td>\n",
       "      <td>8192</td>\n",
       "      <td>2655</td>\n",
       "      <td>2790</td>\n",
       "      <td>19:00:00</td>\n",
       "      <td>6/2/2016 0:00</td>\n",
       "      <td>0.64260</td>\n",
       "    </tr>\n",
       "    <tr>\n",
       "      <th>2</th>\n",
       "      <td>26-12-2015 00:00</td>\n",
       "      <td>8192</td>\n",
       "      <td>2655</td>\n",
       "      <td>2790</td>\n",
       "      <td>19:00:00</td>\n",
       "      <td>6/2/2016 0:00</td>\n",
       "      <td>0.64260</td>\n",
       "    </tr>\n",
       "    <tr>\n",
       "      <th>3</th>\n",
       "      <td>13-03-2016 00:00</td>\n",
       "      <td>8192</td>\n",
       "      <td>2655</td>\n",
       "      <td>2790</td>\n",
       "      <td>19:00:00</td>\n",
       "      <td>12/5/2016 0:00</td>\n",
       "      <td>1.92834</td>\n",
       "    </tr>\n",
       "    <tr>\n",
       "      <th>4</th>\n",
       "      <td>25-03-2016 00:00</td>\n",
       "      <td>8192</td>\n",
       "      <td>2655</td>\n",
       "      <td>2790</td>\n",
       "      <td>19:00:00</td>\n",
       "      <td>12/5/2016 0:00</td>\n",
       "      <td>0.64260</td>\n",
       "    </tr>\n",
       "  </tbody>\n",
       "</table>\n",
       "</div>"
      ],
      "text/plain": [
       "         order_date  route_no  from_stop  to_stop departure_time  \\\n",
       "0  24-12-2015 00:00  8192      2655       2790     19:00:00        \n",
       "1  2/1/2016 0:00     8192      2655       2790     19:00:00        \n",
       "2  26-12-2015 00:00  8192      2655       2790     19:00:00        \n",
       "3  13-03-2016 00:00  8192      2655       2790     19:00:00        \n",
       "4  25-03-2016 00:00  8192      2655       2790     19:00:00        \n",
       "\n",
       "        travel_date  passengers_booked_index  \n",
       "0  20-02-2016 00:00  1.28547                  \n",
       "1  6/2/2016 0:00     0.64260                  \n",
       "2  6/2/2016 0:00     0.64260                  \n",
       "3  12/5/2016 0:00    1.92834                  \n",
       "4  12/5/2016 0:00    0.64260                  "
      ]
     },
     "execution_count": 196,
     "metadata": {},
     "output_type": "execute_result"
    }
   ],
   "source": [
    "df_bookings.head()"
   ]
  },
  {
   "cell_type": "markdown",
   "metadata": {},
   "source": [
    "###  3.2 Description of the Datasets"
   ]
  },
  {
   "cell_type": "code",
   "execution_count": 197,
   "metadata": {},
   "outputs": [
    {
     "name": "stdout",
     "output_type": "stream",
     "text": [
      "<class 'pandas.core.frame.DataFrame'>\n",
      "RangeIndex: 4012 entries, 0 to 4011\n",
      "Data columns (total 7 columns):\n",
      "order_date                 4012 non-null object\n",
      "route_no                   4012 non-null int64\n",
      "from_stop                  4012 non-null int64\n",
      "to_stop                    4012 non-null int64\n",
      "departure_time             4012 non-null object\n",
      "travel_date                4012 non-null object\n",
      "passengers_booked_index    4012 non-null float64\n",
      "dtypes: float64(1), int64(3), object(3)\n",
      "memory usage: 219.5+ KB\n"
     ]
    }
   ],
   "source": [
    "df_bookings.info()"
   ]
  },
  {
   "cell_type": "markdown",
   "metadata": {},
   "source": [
    "**NOTE:**\n",
    "\n",
    "We have no missing values."
   ]
  },
  {
   "cell_type": "code",
   "execution_count": 198,
   "metadata": {},
   "outputs": [
    {
     "data": {
      "text/html": [
       "<div>\n",
       "<style scoped>\n",
       "    .dataframe tbody tr th:only-of-type {\n",
       "        vertical-align: middle;\n",
       "    }\n",
       "\n",
       "    .dataframe tbody tr th {\n",
       "        vertical-align: top;\n",
       "    }\n",
       "\n",
       "    .dataframe thead th {\n",
       "        text-align: right;\n",
       "    }\n",
       "</style>\n",
       "<table border=\"1\" class=\"dataframe\">\n",
       "  <thead>\n",
       "    <tr style=\"text-align: right;\">\n",
       "      <th></th>\n",
       "      <th>route_no</th>\n",
       "      <th>from_stop</th>\n",
       "      <th>to_stop</th>\n",
       "      <th>passengers_booked_index</th>\n",
       "    </tr>\n",
       "  </thead>\n",
       "  <tbody>\n",
       "    <tr>\n",
       "      <th>count</th>\n",
       "      <td>4012.000000</td>\n",
       "      <td>4012.000000</td>\n",
       "      <td>4012.000000</td>\n",
       "      <td>4012.000000</td>\n",
       "    </tr>\n",
       "    <tr>\n",
       "      <th>mean</th>\n",
       "      <td>75094.020937</td>\n",
       "      <td>3409.501496</td>\n",
       "      <td>3266.111665</td>\n",
       "      <td>2.094505</td>\n",
       "    </tr>\n",
       "    <tr>\n",
       "      <th>std</th>\n",
       "      <td>67164.734847</td>\n",
       "      <td>1939.082936</td>\n",
       "      <td>1635.676635</td>\n",
       "      <td>2.186126</td>\n",
       "    </tr>\n",
       "    <tr>\n",
       "      <th>min</th>\n",
       "      <td>8192.000000</td>\n",
       "      <td>2655.000000</td>\n",
       "      <td>2655.000000</td>\n",
       "      <td>0.642600</td>\n",
       "    </tr>\n",
       "    <tr>\n",
       "      <th>25%</th>\n",
       "      <td>9288.000000</td>\n",
       "      <td>2655.000000</td>\n",
       "      <td>2655.000000</td>\n",
       "      <td>0.642600</td>\n",
       "    </tr>\n",
       "    <tr>\n",
       "      <th>50%</th>\n",
       "      <td>63912.000000</td>\n",
       "      <td>2655.000000</td>\n",
       "      <td>2790.000000</td>\n",
       "      <td>1.285470</td>\n",
       "    </tr>\n",
       "    <tr>\n",
       "      <th>75%</th>\n",
       "      <td>63916.000000</td>\n",
       "      <td>2790.000000</td>\n",
       "      <td>2790.000000</td>\n",
       "      <td>2.571210</td>\n",
       "    </tr>\n",
       "    <tr>\n",
       "      <th>max</th>\n",
       "      <td>226556.000000</td>\n",
       "      <td>9540.000000</td>\n",
       "      <td>8370.000000</td>\n",
       "      <td>17.356950</td>\n",
       "    </tr>\n",
       "  </tbody>\n",
       "</table>\n",
       "</div>"
      ],
      "text/plain": [
       "            route_no    from_stop      to_stop  passengers_booked_index\n",
       "count  4012.000000    4012.000000  4012.000000  4012.000000            \n",
       "mean   75094.020937   3409.501496  3266.111665  2.094505               \n",
       "std    67164.734847   1939.082936  1635.676635  2.186126               \n",
       "min    8192.000000    2655.000000  2655.000000  0.642600               \n",
       "25%    9288.000000    2655.000000  2655.000000  0.642600               \n",
       "50%    63912.000000   2655.000000  2790.000000  1.285470               \n",
       "75%    63916.000000   2790.000000  2790.000000  2.571210               \n",
       "max    226556.000000  9540.000000  8370.000000  17.356950              "
      ]
     },
     "execution_count": 198,
     "metadata": {},
     "output_type": "execute_result"
    }
   ],
   "source": [
    "df_bookings.describe()"
   ]
  },
  {
   "cell_type": "markdown",
   "metadata": {},
   "source": [
    "**NOTE:**\n",
    "\n",
    "No outliers as of now."
   ]
  },
  {
   "cell_type": "markdown",
   "metadata": {},
   "source": [
    "###  4.1 Data Preparation For EDA"
   ]
  },
  {
   "cell_type": "markdown",
   "metadata": {},
   "source": [
    "#### Converting input date to pandas datetime"
   ]
  },
  {
   "cell_type": "code",
   "execution_count": 201,
   "metadata": {},
   "outputs": [],
   "source": [
    "df_bookings['order_date'] = pd.to_datetime(df_bookings['order_date'])\n",
    "df_bookings['travel_date'] = pd.to_datetime(df_bookings['travel_date'])"
   ]
  },
  {
   "cell_type": "code",
   "execution_count": 202,
   "metadata": {},
   "outputs": [
    {
     "data": {
      "text/html": [
       "<div>\n",
       "<style scoped>\n",
       "    .dataframe tbody tr th:only-of-type {\n",
       "        vertical-align: middle;\n",
       "    }\n",
       "\n",
       "    .dataframe tbody tr th {\n",
       "        vertical-align: top;\n",
       "    }\n",
       "\n",
       "    .dataframe thead th {\n",
       "        text-align: right;\n",
       "    }\n",
       "</style>\n",
       "<table border=\"1\" class=\"dataframe\">\n",
       "  <thead>\n",
       "    <tr style=\"text-align: right;\">\n",
       "      <th></th>\n",
       "      <th>order_date</th>\n",
       "      <th>route_no</th>\n",
       "      <th>from_stop</th>\n",
       "      <th>to_stop</th>\n",
       "      <th>departure_time</th>\n",
       "      <th>travel_date</th>\n",
       "      <th>passengers_booked_index</th>\n",
       "    </tr>\n",
       "  </thead>\n",
       "  <tbody>\n",
       "    <tr>\n",
       "      <th>0</th>\n",
       "      <td>2015-12-24</td>\n",
       "      <td>8192</td>\n",
       "      <td>2655</td>\n",
       "      <td>2790</td>\n",
       "      <td>19:00:00</td>\n",
       "      <td>2016-02-20</td>\n",
       "      <td>1.28547</td>\n",
       "    </tr>\n",
       "    <tr>\n",
       "      <th>1</th>\n",
       "      <td>2016-02-01</td>\n",
       "      <td>8192</td>\n",
       "      <td>2655</td>\n",
       "      <td>2790</td>\n",
       "      <td>19:00:00</td>\n",
       "      <td>2016-06-02</td>\n",
       "      <td>0.64260</td>\n",
       "    </tr>\n",
       "    <tr>\n",
       "      <th>2</th>\n",
       "      <td>2015-12-26</td>\n",
       "      <td>8192</td>\n",
       "      <td>2655</td>\n",
       "      <td>2790</td>\n",
       "      <td>19:00:00</td>\n",
       "      <td>2016-06-02</td>\n",
       "      <td>0.64260</td>\n",
       "    </tr>\n",
       "    <tr>\n",
       "      <th>3</th>\n",
       "      <td>2016-03-13</td>\n",
       "      <td>8192</td>\n",
       "      <td>2655</td>\n",
       "      <td>2790</td>\n",
       "      <td>19:00:00</td>\n",
       "      <td>2016-12-05</td>\n",
       "      <td>1.92834</td>\n",
       "    </tr>\n",
       "    <tr>\n",
       "      <th>4</th>\n",
       "      <td>2016-03-25</td>\n",
       "      <td>8192</td>\n",
       "      <td>2655</td>\n",
       "      <td>2790</td>\n",
       "      <td>19:00:00</td>\n",
       "      <td>2016-12-05</td>\n",
       "      <td>0.64260</td>\n",
       "    </tr>\n",
       "  </tbody>\n",
       "</table>\n",
       "</div>"
      ],
      "text/plain": [
       "  order_date  route_no  from_stop  to_stop departure_time travel_date  \\\n",
       "0 2015-12-24  8192      2655       2790     19:00:00      2016-02-20    \n",
       "1 2016-02-01  8192      2655       2790     19:00:00      2016-06-02    \n",
       "2 2015-12-26  8192      2655       2790     19:00:00      2016-06-02    \n",
       "3 2016-03-13  8192      2655       2790     19:00:00      2016-12-05    \n",
       "4 2016-03-25  8192      2655       2790     19:00:00      2016-12-05    \n",
       "\n",
       "   passengers_booked_index  \n",
       "0  1.28547                  \n",
       "1  0.64260                  \n",
       "2  0.64260                  \n",
       "3  1.92834                  \n",
       "4  0.64260                  "
      ]
     },
     "execution_count": 202,
     "metadata": {},
     "output_type": "execute_result"
    }
   ],
   "source": [
    "df_bookings.head()"
   ]
  },
  {
   "cell_type": "markdown",
   "metadata": {},
   "source": [
    "#### Removing Invalid entries"
   ]
  },
  {
   "cell_type": "code",
   "execution_count": 203,
   "metadata": {},
   "outputs": [],
   "source": [
    "# calculating days between travel date and booking date and string in booking_to_travel_date_diff\n",
    "df_bookings['booking_to_travel_date_diff'] = df_bookings['travel_date'] - df_bookings['order_date']"
   ]
  },
  {
   "cell_type": "code",
   "execution_count": 207,
   "metadata": {},
   "outputs": [
    {
     "data": {
      "text/plain": [
       "0 days      392\n",
       "1 days      223\n",
       "2 days      192\n",
       "3 days      162\n",
       "4 days      140\n",
       "31 days     100\n",
       "5 days      97 \n",
       "6 days      95 \n",
       "61 days     80 \n",
       "7 days      70 \n",
       "30 days     65 \n",
       "92 days     53 \n",
       "8 days      50 \n",
       "9 days      46 \n",
       "10 days     43 \n",
       "153 days    39 \n",
       "122 days    34 \n",
       "60 days     32 \n",
       "91 days     31 \n",
       "11 days     31 \n",
       "29 days     26 \n",
       "123 days    24 \n",
       "12 days     23 \n",
       "214 days    22 \n",
       "39 days     22 \n",
       "34 days     21 \n",
       "184 days    21 \n",
       "19 days     20 \n",
       "121 days    20 \n",
       "13 days     20 \n",
       "            .. \n",
       "195 days    1  \n",
       "267 days    1  \n",
       "386 days    1  \n",
       "228 days    1  \n",
       "114 days    1  \n",
       "215 days    1  \n",
       "57 days     1  \n",
       "147 days    1  \n",
       "316 days    1  \n",
       "199 days    1  \n",
       "155 days    1  \n",
       "255 days    1  \n",
       "172 days    1  \n",
       "97 days     1  \n",
       "277 days    1  \n",
       "367 days    1  \n",
       "220 days    1  \n",
       "84 days     1  \n",
       "117 days    1  \n",
       "150 days    1  \n",
       "93 days     1  \n",
       "234 days    1  \n",
       "352 days    1  \n",
       "273 days    1  \n",
       "216 days    1  \n",
       "247 days    1  \n",
       "89 days     1  \n",
       "280 days    1  \n",
       "223 days    1  \n",
       "124 days    1  \n",
       "Name: booking_to_travel_date_diff, Length: 222, dtype: int64"
      ]
     },
     "execution_count": 207,
     "metadata": {},
     "output_type": "execute_result"
    }
   ],
   "source": [
    "# Printing diff between travel date and booking date\n",
    "df_bookings['booking_to_travel_date_diff'].value_counts(sort=True)"
   ]
  },
  {
   "cell_type": "markdown",
   "metadata": {},
   "source": [
    "**NOTE**: \n",
    "\n",
    "We can observe some negative value after taking difference i.e, travel date is less than booking date. This scenario is practically not possible. We have remove entries of such kind."
   ]
  },
  {
   "cell_type": "code",
   "execution_count": 205,
   "metadata": {},
   "outputs": [],
   "source": [
    "# Dropping invalid rows\n",
    "df_bookings.drop(df_bookings[df_bookings['order_date'] > df_bookings['travel_date']].index,axis=0, inplace=True)"
   ]
  },
  {
   "cell_type": "code",
   "execution_count": 209,
   "metadata": {},
   "outputs": [
    {
     "data": {
      "text/plain": [
       "0 days      392\n",
       "1 days      223\n",
       "2 days      192\n",
       "3 days      162\n",
       "4 days      140\n",
       "31 days     100\n",
       "5 days      97 \n",
       "6 days      95 \n",
       "61 days     80 \n",
       "7 days      70 \n",
       "30 days     65 \n",
       "92 days     53 \n",
       "8 days      50 \n",
       "9 days      46 \n",
       "10 days     43 \n",
       "153 days    39 \n",
       "122 days    34 \n",
       "60 days     32 \n",
       "91 days     31 \n",
       "11 days     31 \n",
       "29 days     26 \n",
       "123 days    24 \n",
       "12 days     23 \n",
       "214 days    22 \n",
       "39 days     22 \n",
       "34 days     21 \n",
       "184 days    21 \n",
       "19 days     20 \n",
       "121 days    20 \n",
       "13 days     20 \n",
       "            .. \n",
       "195 days    1  \n",
       "267 days    1  \n",
       "386 days    1  \n",
       "228 days    1  \n",
       "114 days    1  \n",
       "215 days    1  \n",
       "57 days     1  \n",
       "147 days    1  \n",
       "316 days    1  \n",
       "199 days    1  \n",
       "155 days    1  \n",
       "255 days    1  \n",
       "172 days    1  \n",
       "97 days     1  \n",
       "277 days    1  \n",
       "367 days    1  \n",
       "220 days    1  \n",
       "84 days     1  \n",
       "117 days    1  \n",
       "150 days    1  \n",
       "93 days     1  \n",
       "234 days    1  \n",
       "352 days    1  \n",
       "273 days    1  \n",
       "216 days    1  \n",
       "247 days    1  \n",
       "89 days     1  \n",
       "280 days    1  \n",
       "223 days    1  \n",
       "124 days    1  \n",
       "Name: booking_to_travel_date_diff, Length: 222, dtype: int64"
      ]
     },
     "execution_count": 209,
     "metadata": {},
     "output_type": "execute_result"
    }
   ],
   "source": [
    "# Printing diff between travel date and booking date\n",
    "df_bookings['booking_to_travel_date_diff'].value_counts(sort=True)"
   ]
  },
  {
   "cell_type": "markdown",
   "metadata": {},
   "source": [
    "**NOTE**:\n",
    "\n",
    "We can observe that there are no negative entries."
   ]
  },
  {
   "cell_type": "markdown",
   "metadata": {},
   "source": [
    "#### Extracting month, date, day, day of week using pandas DatetimeIndex"
   ]
  },
  {
   "cell_type": "code",
   "execution_count": 208,
   "metadata": {},
   "outputs": [],
   "source": [
    "# Extracting month\n",
    "df_bookings['travel_month'] = pd.DatetimeIndex(df_bookings['order_date']).month\n",
    "\n",
    "# Extracting year\n",
    "df_bookings['travel_year'] = pd.DatetimeIndex(df_bookings['order_date']).year\n",
    "\n",
    "# Extracting day\n",
    "df_bookings['travel_day'] = pd.DatetimeIndex(df_bookings['order_date']).day\n",
    "\n",
    "# Extracting day of week\n",
    "df_bookings['travel_day_of_week'] = pd.DatetimeIndex(df_bookings['order_date']).dayofweek\n",
    "\n",
    "DAY_OF_WEEK_MAP = {\n",
    "                      0: 'Sunday', \n",
    "                      1: 'Monday', \n",
    "                      2: 'Tuesday', \n",
    "                      3: 'Wednesday', \n",
    "                      4: 'Thursday',  \n",
    "                      5: 'Friday', \n",
    "                      6: 'Saturday'\n",
    "                  }\n",
    "# Converting day of week in int format to string format \n",
    "df_bookings['travel_day_of_week'] = df_bookings['travel_day_of_week'].map(DAY_OF_WEEK_MAP)"
   ]
  },
  {
   "cell_type": "code",
   "execution_count": 22,
   "metadata": {},
   "outputs": [
    {
     "data": {
      "text/html": [
       "<div>\n",
       "<style scoped>\n",
       "    .dataframe tbody tr th:only-of-type {\n",
       "        vertical-align: middle;\n",
       "    }\n",
       "\n",
       "    .dataframe tbody tr th {\n",
       "        vertical-align: top;\n",
       "    }\n",
       "\n",
       "    .dataframe thead th {\n",
       "        text-align: right;\n",
       "    }\n",
       "</style>\n",
       "<table border=\"1\" class=\"dataframe\">\n",
       "  <thead>\n",
       "    <tr style=\"text-align: right;\">\n",
       "      <th></th>\n",
       "      <th>order_date</th>\n",
       "      <th>route_no</th>\n",
       "      <th>from_stop</th>\n",
       "      <th>to_stop</th>\n",
       "      <th>departure_time</th>\n",
       "      <th>travel_date</th>\n",
       "      <th>passengers_booked_index</th>\n",
       "      <th>book_to_travel_date</th>\n",
       "      <th>booking_to_travel_date_diff</th>\n",
       "    </tr>\n",
       "  </thead>\n",
       "  <tbody>\n",
       "    <tr>\n",
       "      <th>0</th>\n",
       "      <td>2015-12-24</td>\n",
       "      <td>8192</td>\n",
       "      <td>2655</td>\n",
       "      <td>2790</td>\n",
       "      <td>19:00:00</td>\n",
       "      <td>2016-02-20</td>\n",
       "      <td>1.28547</td>\n",
       "      <td>58 days</td>\n",
       "      <td>58 days</td>\n",
       "    </tr>\n",
       "    <tr>\n",
       "      <th>1</th>\n",
       "      <td>2016-02-01</td>\n",
       "      <td>8192</td>\n",
       "      <td>2655</td>\n",
       "      <td>2790</td>\n",
       "      <td>19:00:00</td>\n",
       "      <td>2016-06-02</td>\n",
       "      <td>0.64260</td>\n",
       "      <td>122 days</td>\n",
       "      <td>122 days</td>\n",
       "    </tr>\n",
       "    <tr>\n",
       "      <th>2</th>\n",
       "      <td>2015-12-26</td>\n",
       "      <td>8192</td>\n",
       "      <td>2655</td>\n",
       "      <td>2790</td>\n",
       "      <td>19:00:00</td>\n",
       "      <td>2016-06-02</td>\n",
       "      <td>0.64260</td>\n",
       "      <td>159 days</td>\n",
       "      <td>159 days</td>\n",
       "    </tr>\n",
       "    <tr>\n",
       "      <th>3</th>\n",
       "      <td>2016-03-13</td>\n",
       "      <td>8192</td>\n",
       "      <td>2655</td>\n",
       "      <td>2790</td>\n",
       "      <td>19:00:00</td>\n",
       "      <td>2016-12-05</td>\n",
       "      <td>1.92834</td>\n",
       "      <td>267 days</td>\n",
       "      <td>267 days</td>\n",
       "    </tr>\n",
       "    <tr>\n",
       "      <th>4</th>\n",
       "      <td>2016-03-25</td>\n",
       "      <td>8192</td>\n",
       "      <td>2655</td>\n",
       "      <td>2790</td>\n",
       "      <td>19:00:00</td>\n",
       "      <td>2016-12-05</td>\n",
       "      <td>0.64260</td>\n",
       "      <td>255 days</td>\n",
       "      <td>255 days</td>\n",
       "    </tr>\n",
       "  </tbody>\n",
       "</table>\n",
       "</div>"
      ],
      "text/plain": [
       "  order_date  route_no  from_stop  to_stop departure_time travel_date  \\\n",
       "0 2015-12-24  8192      2655       2790     19:00:00      2016-02-20    \n",
       "1 2016-02-01  8192      2655       2790     19:00:00      2016-06-02    \n",
       "2 2015-12-26  8192      2655       2790     19:00:00      2016-06-02    \n",
       "3 2016-03-13  8192      2655       2790     19:00:00      2016-12-05    \n",
       "4 2016-03-25  8192      2655       2790     19:00:00      2016-12-05    \n",
       "\n",
       "   passengers_booked_index book_to_travel_date booking_to_travel_date_diff  \n",
       "0  1.28547                 58 days             58 days                      \n",
       "1  0.64260                 122 days            122 days                     \n",
       "2  0.64260                 159 days            159 days                     \n",
       "3  1.92834                 267 days            267 days                     \n",
       "4  0.64260                 255 days            255 days                     "
      ]
     },
     "execution_count": 22,
     "metadata": {},
     "output_type": "execute_result"
    }
   ],
   "source": [
    "df_bookings.head()"
   ]
  },
  {
   "cell_type": "markdown",
   "metadata": {},
   "source": [
    "  \n",
    "## 5. Exploratory Data Analysis"
   ]
  },
  {
   "cell_type": "markdown",
   "metadata": {},
   "source": [
    "### 5.1 Are there any bus cancellations?"
   ]
  },
  {
   "cell_type": "code",
   "execution_count": 147,
   "metadata": {},
   "outputs": [
    {
     "data": {
      "text/plain": [
       "0"
      ]
     },
     "execution_count": 147,
     "metadata": {},
     "output_type": "execute_result"
    }
   ],
   "source": [
    "df_bookings[df_bookings['travel_date'].isnull()]['travel_date'].count()"
   ]
  },
  {
   "cell_type": "markdown",
   "metadata": {},
   "source": [
    "**Observations**:\n",
    "\n",
    "We observe there are no cancellations of bus"
   ]
  },
  {
   "cell_type": "markdown",
   "metadata": {},
   "source": [
    "### 5.2  How many days before bookings are done?"
   ]
  },
  {
   "cell_type": "code",
   "execution_count": 210,
   "metadata": {},
   "outputs": [
    {
     "data": {
      "text/plain": [
       "0 days      392\n",
       "1 days      223\n",
       "2 days      192\n",
       "3 days      162\n",
       "4 days      140\n",
       "31 days     100\n",
       "5 days      97 \n",
       "6 days      95 \n",
       "61 days     80 \n",
       "7 days      70 \n",
       "30 days     65 \n",
       "92 days     53 \n",
       "8 days      50 \n",
       "9 days      46 \n",
       "10 days     43 \n",
       "153 days    39 \n",
       "122 days    34 \n",
       "60 days     32 \n",
       "91 days     31 \n",
       "11 days     31 \n",
       "Name: booking_to_travel_date_diff, dtype: int64"
      ]
     },
     "execution_count": 210,
     "metadata": {},
     "output_type": "execute_result"
    }
   ],
   "source": [
    "df_bookings['booking_to_travel_date_diff'].value_counts(sort=True).head(20)"
   ]
  },
  {
   "cell_type": "code",
   "execution_count": 212,
   "metadata": {},
   "outputs": [
    {
     "data": {
      "text/plain": [
       "Text(0, 0.5, 'Count')"
      ]
     },
     "execution_count": 212,
     "metadata": {},
     "output_type": "execute_result"
    },
    {
     "data": {
      "image/png": "[encoded data removed]",
      "text/plain": [
       "<Figure size 1080x504 with 1 Axes>"
      ]
     },
     "metadata": {
      "needs_background": "light"
     },
     "output_type": "display_data"
    }
   ],
   "source": [
    "df = pd.DataFrame(\n",
    "\t{\n",
    "\t'No. of days': df_bookings['booking_to_travel_date_diff'].value_counts(sort=True).head(10)\n",
    "\t}\n",
    "\t) \n",
    "ax = df.plot.bar(rot=0,figsize=(15, 7))\n",
    "ax.set_xlabel(\"No. of days between Booking date and Travel date\")\n",
    "ax.set_ylabel(\"Count\")"
   ]
  },
  {
   "cell_type": "markdown",
   "metadata": {},
   "source": [
    "**Observations:**\n",
    "\n",
    "We see most of the bookings are done on same day of travel date."
   ]
  },
  {
   "cell_type": "markdown",
   "metadata": {},
   "source": [
    "### 5.3  In how many routes does the bus travel?"
   ]
  },
  {
   "cell_type": "code",
   "execution_count": 214,
   "metadata": {},
   "outputs": [
    {
     "data": {
      "text/plain": [
       "63916     781\n",
       "63912     768\n",
       "8192      507\n",
       "9288      449\n",
       "190808    300\n",
       "190716    271\n",
       "226556    85 \n",
       "Name: route_no, dtype: int64"
      ]
     },
     "execution_count": 214,
     "metadata": {},
     "output_type": "execute_result"
    }
   ],
   "source": [
    "df_bookings['route_no'].value_counts()"
   ]
  },
  {
   "cell_type": "code",
   "execution_count": 215,
   "metadata": {},
   "outputs": [
    {
     "data": {
      "text/plain": [
       "Text(0, 0.5, 'Count')"
      ]
     },
     "execution_count": 215,
     "metadata": {},
     "output_type": "execute_result"
    },
    {
     "data": {
      "image/png": "[encoded data removed]",
      "text/plain": [
       "<Figure size 1080x504 with 1 Axes>"
      ]
     },
     "metadata": {
      "needs_background": "light"
     },
     "output_type": "display_data"
    }
   ],
   "source": [
    "df = pd.DataFrame(\n",
    "\t{\n",
    "\t'Route number wise count':df_bookings['route_no'].value_counts()\n",
    "\t}\n",
    "\t) \n",
    "ax = df.plot.bar(rot=0,figsize=(15, 7))\n",
    "ax.set_xlabel(\"Route Number\")\n",
    "ax.set_ylabel(\"Count\")"
   ]
  },
  {
   "cell_type": "markdown",
   "metadata": {},
   "source": [
    "**Observations:**\n",
    "\n",
    "Route numbers **63916** and **63912** has maximum bookings."
   ]
  },
  {
   "cell_type": "markdown",
   "metadata": {},
   "source": [
    "#### Route Details by from_stop and to_stop and departure_time"
   ]
  },
  {
   "cell_type": "code",
   "execution_count": 62,
   "metadata": {},
   "outputs": [
    {
     "data": {
      "text/plain": [
       "from_stop  to_stop  departure_time\n",
       "2655       2790     11:00:00          768\n",
       "                    19:00:00          507\n",
       "                    18:30:00          449\n",
       "           8370     10:15:00          271\n",
       "2790       2655     11:00:00          781\n",
       "8370       2655     12:00:00          300\n",
       "9540       2925     7:00:00           85 \n",
       "Name: departure_time, dtype: int64"
      ]
     },
     "execution_count": 62,
     "metadata": {},
     "output_type": "execute_result"
    }
   ],
   "source": [
    "df_bookings.groupby(['from_stop','to_stop'])['departure_time'].value_counts()"
   ]
  },
  {
   "cell_type": "markdown",
   "metadata": {},
   "source": [
    "### 5.4 How are bus bookings?"
   ]
  },
  {
   "cell_type": "markdown",
   "metadata": {},
   "source": [
    "#### 5.4.1 Month-Wise"
   ]
  },
  {
   "cell_type": "code",
   "execution_count": 80,
   "metadata": {
    "scrolled": true
   },
   "outputs": [
    {
     "data": {
      "text/plain": [
       "6     538\n",
       "5     447\n",
       "4     393\n",
       "2     361\n",
       "3     337\n",
       "7     322\n",
       "1     305\n",
       "8     137\n",
       "10    104\n",
       "11    84 \n",
       "12    78 \n",
       "9     55 \n",
       "Name: travel_month, dtype: int64"
      ]
     },
     "execution_count": 80,
     "metadata": {},
     "output_type": "execute_result"
    }
   ],
   "source": [
    "df_bookings['travel_month'].value_counts(sort=True)"
   ]
  },
  {
   "cell_type": "code",
   "execution_count": 216,
   "metadata": {},
   "outputs": [
    {
     "data": {
      "text/plain": [
       "Text(0, 0.5, 'Count')"
      ]
     },
     "execution_count": 216,
     "metadata": {},
     "output_type": "execute_result"
    },
    {
     "data": {
      "image/png": "[encoded data removed]",
      "text/plain": [
       "<Figure size 1080x504 with 1 Axes>"
      ]
     },
     "metadata": {
      "needs_background": "light"
     },
     "output_type": "display_data"
    }
   ],
   "source": [
    "df = pd.DataFrame(\n",
    "\t{\n",
    "\t'No. of bookings(month-wise)': df_bookings['travel_month'].value_counts(sort=True)\n",
    "\t}\n",
    "\t) \n",
    "ax = df.plot.bar(rot=0,figsize=(15, 7))\n",
    "ax.set_xlabel(\"Month\")\n",
    "ax.set_ylabel(\"Count\")"
   ]
  },
  {
   "cell_type": "markdown",
   "metadata": {},
   "source": [
    "**Observations**:\n",
    "\n",
    "Most of the bookings happen in month of **April, May, June**."
   ]
  },
  {
   "cell_type": "markdown",
   "metadata": {},
   "source": [
    "#### 5.4.2  Year-Wise"
   ]
  },
  {
   "cell_type": "code",
   "execution_count": 91,
   "metadata": {},
   "outputs": [
    {
     "data": {
      "text/plain": [
       "2016    2895\n",
       "2015    266 \n",
       "Name: travel_year, dtype: int64"
      ]
     },
     "execution_count": 91,
     "metadata": {},
     "output_type": "execute_result"
    }
   ],
   "source": [
    "df_bookings['travel_year'].value_counts(sort=True)"
   ]
  },
  {
   "cell_type": "code",
   "execution_count": 217,
   "metadata": {},
   "outputs": [
    {
     "data": {
      "text/plain": [
       "Text(0, 0.5, 'Count')"
      ]
     },
     "execution_count": 217,
     "metadata": {},
     "output_type": "execute_result"
    },
    {
     "data": {
      "image/png": "[encoded data removed]",
      "text/plain": [
       "<Figure size 1080x504 with 1 Axes>"
      ]
     },
     "metadata": {
      "needs_background": "light"
     },
     "output_type": "display_data"
    }
   ],
   "source": [
    "df = pd.DataFrame(\n",
    "\t{\n",
    "\t'No. of bookings(year-wise)': df_bookings['travel_year'].value_counts(sort=True)\n",
    "\t}\n",
    "\t) \n",
    "ax = df.plot.bar(rot=0,figsize=(15, 7))\n",
    "ax.set_xlabel(\"Year\")\n",
    "ax.set_ylabel(\"Count\")"
   ]
  },
  {
   "cell_type": "markdown",
   "metadata": {},
   "source": [
    "**Observations:**\n",
    "\n",
    "We observe minimal bookings in 2015. May be because it is first year for the company in market.\n",
    "Company improved a lot in 2016. **91%** of total bookings came in 2016."
   ]
  },
  {
   "cell_type": "markdown",
   "metadata": {},
   "source": [
    "#### 5.4.3  Day-Wise"
   ]
  },
  {
   "cell_type": "code",
   "execution_count": 108,
   "metadata": {},
   "outputs": [
    {
     "data": {
      "text/plain": [
       "2     93 \n",
       "4     123\n",
       "6     255\n",
       "8     64 \n",
       "10    13 \n",
       "12    50 \n",
       "14    112\n",
       "16    116\n",
       "18    125\n",
       "20    108\n",
       "22    119\n",
       "24    113\n",
       "26    114\n",
       "28    104\n",
       "30    92 \n",
       "1     18 \n",
       "3     96 \n",
       "5     134\n",
       "7     265\n",
       "11    34 \n",
       "13    123\n",
       "15    130\n",
       "17    124\n",
       "19    114\n",
       "21    116\n",
       "23    101\n",
       "25    106\n",
       "27    94 \n",
       "29    89 \n",
       "31    16 \n",
       "Name: travel_day, dtype: int64"
      ]
     },
     "execution_count": 108,
     "metadata": {},
     "output_type": "execute_result"
    }
   ],
   "source": [
    "df_bookings['travel_day'].sort_values(ascending=False).value_counts(sort=False)"
   ]
  },
  {
   "cell_type": "code",
   "execution_count": 218,
   "metadata": {},
   "outputs": [
    {
     "data": {
      "text/plain": [
       "Text(0, 0.5, 'Count')"
      ]
     },
     "execution_count": 218,
     "metadata": {},
     "output_type": "execute_result"
    },
    {
     "data": {
      "image/png": "[encoded data removed]",
      "text/plain": [
       "<Figure size 1080x504 with 1 Axes>"
      ]
     },
     "metadata": {
      "needs_background": "light"
     },
     "output_type": "display_data"
    }
   ],
   "source": [
    "df = pd.DataFrame(\n",
    "\t{\n",
    "\t'No. of bookings(day-wise)': df_bookings['travel_day'].value_counts(sort=True)\n",
    "\t}\n",
    "\t) \n",
    "ax = df.plot.bar(rot=0,figsize=(15, 7))\n",
    "ax.set_xlabel(\"Day of month\")\n",
    "ax.set_ylabel(\"Count\")"
   ]
  },
  {
   "cell_type": "markdown",
   "metadata": {},
   "source": [
    "**Observations:**\n",
    "\n",
    "Most of the booking happenned on **6th and 7th** of every month."
   ]
  },
  {
   "cell_type": "markdown",
   "metadata": {},
   "source": [
    "#### 5.4.4  Day of week -Wise"
   ]
  },
  {
   "cell_type": "code",
   "execution_count": 116,
   "metadata": {},
   "outputs": [
    {
     "data": {
      "text/plain": [
       "Saturday     494\n",
       "Friday       467\n",
       "Tuesday      460\n",
       "Wednesday    455\n",
       "Sunday       447\n",
       "Thursday     428\n",
       "Monday       410\n",
       "Name: travel_day_of_week, dtype: int64"
      ]
     },
     "execution_count": 116,
     "metadata": {},
     "output_type": "execute_result"
    }
   ],
   "source": [
    "df_bookings['travel_day_of_week'].value_counts()"
   ]
  },
  {
   "cell_type": "code",
   "execution_count": 221,
   "metadata": {},
   "outputs": [
    {
     "data": {
      "text/plain": [
       "Text(0, 0.5, 'Count')"
      ]
     },
     "execution_count": 221,
     "metadata": {},
     "output_type": "execute_result"
    },
    {
     "data": {
      "image/png": "[encoded data removed]",
      "text/plain": [
       "<Figure size 1080x504 with 1 Axes>"
      ]
     },
     "metadata": {
      "needs_background": "light"
     },
     "output_type": "display_data"
    }
   ],
   "source": [
    "df = pd.DataFrame(\n",
    "\t{\n",
    "\t'No. of bookings(day of week - wise)': df_bookings['travel_day_of_week'].value_counts(sort=True)\n",
    "\t}\n",
    "\t) \n",
    "ax = df.plot.bar(rot=0,figsize=(15, 7))\n",
    "ax.set_xlabel(\"Day of week\")\n",
    "ax.set_ylabel(\"Count\")"
   ]
  },
  {
   "cell_type": "markdown",
   "metadata": {},
   "source": [
    "**Observations:**\n",
    "\n",
    "We have almost equal bookings on each day of week."
   ]
  },
  {
   "cell_type": "markdown",
   "metadata": {},
   "source": [
    "#### 5.4.5  Departure time - Wise"
   ]
  },
  {
   "cell_type": "code",
   "execution_count": 134,
   "metadata": {},
   "outputs": [
    {
     "data": {
      "text/plain": [
       "11:00:00    1927\n",
       "19:00:00    654 \n",
       "18:30:00    572 \n",
       "12:00:00    386 \n",
       "10:15:00    373 \n",
       "7:00:00     100 \n",
       "Name: departure_time, dtype: int64"
      ]
     },
     "execution_count": 134,
     "metadata": {},
     "output_type": "execute_result"
    }
   ],
   "source": [
    "df_bookings['departure_time'].value_counts()"
   ]
  },
  {
   "cell_type": "code",
   "execution_count": 223,
   "metadata": {},
   "outputs": [
    {
     "data": {
      "text/plain": [
       "Text(0, 0.5, 'Count')"
      ]
     },
     "execution_count": 223,
     "metadata": {},
     "output_type": "execute_result"
    },
    {
     "data": {
      "image/png": "[encoded data removed]",
      "text/plain": [
       "<Figure size 1080x504 with 1 Axes>"
      ]
     },
     "metadata": {
      "needs_background": "light"
     },
     "output_type": "display_data"
    }
   ],
   "source": [
    "df = pd.DataFrame(\n",
    "\t{\n",
    "\t'Departure time wise':df_bookings['departure_time'].value_counts()\n",
    "\t}\n",
    "\t) \n",
    "ax = df.plot.bar(rot=0,figsize=(15, 7))\n",
    "ax.set_xlabel(\"Departure time\")\n",
    "ax.set_ylabel(\"Count\")"
   ]
  },
  {
   "cell_type": "markdown",
   "metadata": {},
   "source": [
    "**Observations:**\n",
    "\n",
    "We observe most of the bookings in morning 11:00 am."
   ]
  },
  {
   "cell_type": "markdown",
   "metadata": {},
   "source": [
    "### 5.5 How many tickets are booked in one transaction?"
   ]
  },
  {
   "cell_type": "code",
   "execution_count": 225,
   "metadata": {},
   "outputs": [],
   "source": [
    "# Changing datatype from float to int because bookings will always be an integer value\n",
    "df_bookings = df_bookings.round().astype({\"passengers_booked_index\": int})"
   ]
  },
  {
   "cell_type": "code",
   "execution_count": 226,
   "metadata": {},
   "outputs": [
    {
     "data": {
      "text/html": [
       "<div>\n",
       "<style scoped>\n",
       "    .dataframe tbody tr th:only-of-type {\n",
       "        vertical-align: middle;\n",
       "    }\n",
       "\n",
       "    .dataframe tbody tr th {\n",
       "        vertical-align: top;\n",
       "    }\n",
       "\n",
       "    .dataframe thead th {\n",
       "        text-align: right;\n",
       "    }\n",
       "</style>\n",
       "<table border=\"1\" class=\"dataframe\">\n",
       "  <thead>\n",
       "    <tr style=\"text-align: right;\">\n",
       "      <th></th>\n",
       "      <th>order_date</th>\n",
       "      <th>route_no</th>\n",
       "      <th>from_stop</th>\n",
       "      <th>to_stop</th>\n",
       "      <th>departure_time</th>\n",
       "      <th>travel_date</th>\n",
       "      <th>passengers_booked_index</th>\n",
       "      <th>booking_to_travel_date_diff</th>\n",
       "      <th>travel_month</th>\n",
       "      <th>travel_year</th>\n",
       "      <th>travel_day</th>\n",
       "      <th>travel_day_of_week</th>\n",
       "    </tr>\n",
       "  </thead>\n",
       "  <tbody>\n",
       "    <tr>\n",
       "      <th>0</th>\n",
       "      <td>2015-12-24</td>\n",
       "      <td>8192</td>\n",
       "      <td>2655</td>\n",
       "      <td>2790</td>\n",
       "      <td>19:00:00</td>\n",
       "      <td>2016-02-20</td>\n",
       "      <td>1</td>\n",
       "      <td>58 days</td>\n",
       "      <td>12</td>\n",
       "      <td>2015</td>\n",
       "      <td>24</td>\n",
       "      <td>Wednesday</td>\n",
       "    </tr>\n",
       "    <tr>\n",
       "      <th>1</th>\n",
       "      <td>2016-02-01</td>\n",
       "      <td>8192</td>\n",
       "      <td>2655</td>\n",
       "      <td>2790</td>\n",
       "      <td>19:00:00</td>\n",
       "      <td>2016-06-02</td>\n",
       "      <td>1</td>\n",
       "      <td>122 days</td>\n",
       "      <td>2</td>\n",
       "      <td>2016</td>\n",
       "      <td>1</td>\n",
       "      <td>Sunday</td>\n",
       "    </tr>\n",
       "    <tr>\n",
       "      <th>2</th>\n",
       "      <td>2015-12-26</td>\n",
       "      <td>8192</td>\n",
       "      <td>2655</td>\n",
       "      <td>2790</td>\n",
       "      <td>19:00:00</td>\n",
       "      <td>2016-06-02</td>\n",
       "      <td>1</td>\n",
       "      <td>159 days</td>\n",
       "      <td>12</td>\n",
       "      <td>2015</td>\n",
       "      <td>26</td>\n",
       "      <td>Friday</td>\n",
       "    </tr>\n",
       "    <tr>\n",
       "      <th>3</th>\n",
       "      <td>2016-03-13</td>\n",
       "      <td>8192</td>\n",
       "      <td>2655</td>\n",
       "      <td>2790</td>\n",
       "      <td>19:00:00</td>\n",
       "      <td>2016-12-05</td>\n",
       "      <td>2</td>\n",
       "      <td>267 days</td>\n",
       "      <td>3</td>\n",
       "      <td>2016</td>\n",
       "      <td>13</td>\n",
       "      <td>Saturday</td>\n",
       "    </tr>\n",
       "    <tr>\n",
       "      <th>4</th>\n",
       "      <td>2016-03-25</td>\n",
       "      <td>8192</td>\n",
       "      <td>2655</td>\n",
       "      <td>2790</td>\n",
       "      <td>19:00:00</td>\n",
       "      <td>2016-12-05</td>\n",
       "      <td>1</td>\n",
       "      <td>255 days</td>\n",
       "      <td>3</td>\n",
       "      <td>2016</td>\n",
       "      <td>25</td>\n",
       "      <td>Thursday</td>\n",
       "    </tr>\n",
       "  </tbody>\n",
       "</table>\n",
       "</div>"
      ],
      "text/plain": [
       "  order_date  route_no  from_stop  to_stop departure_time travel_date  \\\n",
       "0 2015-12-24  8192      2655       2790     19:00:00      2016-02-20    \n",
       "1 2016-02-01  8192      2655       2790     19:00:00      2016-06-02    \n",
       "2 2015-12-26  8192      2655       2790     19:00:00      2016-06-02    \n",
       "3 2016-03-13  8192      2655       2790     19:00:00      2016-12-05    \n",
       "4 2016-03-25  8192      2655       2790     19:00:00      2016-12-05    \n",
       "\n",
       "   passengers_booked_index booking_to_travel_date_diff  travel_month  \\\n",
       "0  1                       58 days                      12             \n",
       "1  1                       122 days                     2              \n",
       "2  1                       159 days                     12             \n",
       "3  2                       267 days                     3              \n",
       "4  1                       255 days                     3              \n",
       "\n",
       "   travel_year  travel_day travel_day_of_week  \n",
       "0  2015         24          Wednesday          \n",
       "1  2016         1           Sunday             \n",
       "2  2015         26          Friday             \n",
       "3  2016         13          Saturday           \n",
       "4  2016         25          Thursday           "
      ]
     },
     "execution_count": 226,
     "metadata": {},
     "output_type": "execute_result"
    }
   ],
   "source": [
    "df_bookings.head()"
   ]
  },
  {
   "cell_type": "code",
   "execution_count": 230,
   "metadata": {},
   "outputs": [
    {
     "data": {
      "text/plain": [
       "1     1773\n",
       "3     428 \n",
       "2     355 \n",
       "4     231 \n",
       "6     117 \n",
       "5     77  \n",
       "8     47  \n",
       "7     41  \n",
       "10    23  \n",
       "9     22  \n",
       "12    14  \n",
       "11    13  \n",
       "14    7   \n",
       "13    5   \n",
       "15    4   \n",
       "17    3   \n",
       "16    1   \n",
       "Name: passengers_booked_index, dtype: int64"
      ]
     },
     "execution_count": 230,
     "metadata": {},
     "output_type": "execute_result"
    }
   ],
   "source": [
    "# we are taking output from first index to remove number of bookings of size 0.\n",
    "df_bookings['passengers_booked_index'].value_counts()"
   ]
  },
  {
   "cell_type": "code",
   "execution_count": 229,
   "metadata": {},
   "outputs": [
    {
     "data": {
      "text/plain": [
       "Text(0, 0.5, 'Count')"
      ]
     },
     "execution_count": 229,
     "metadata": {},
     "output_type": "execute_result"
    },
    {
     "data": {
      "image/png": "[encoded data removed]",
      "text/plain": [
       "<Figure size 1080x504 with 1 Axes>"
      ]
     },
     "metadata": {
      "needs_background": "light"
     },
     "output_type": "display_data"
    }
   ],
   "source": [
    "df = pd.DataFrame(\n",
    "\t{\n",
    "\t'No. of bookings per transaction':df_bookings['passengers_booked_index'].value_counts()\n",
    "\t}\n",
    "\t) \n",
    "ax = df.plot.bar(rot=0,figsize=(15, 7))\n",
    "ax.set_xlabel(\"No. of bookings per transaction\")\n",
    "ax.set_ylabel(\"Count\")"
   ]
  },
  {
   "cell_type": "markdown",
   "metadata": {},
   "source": [
    "**Observations:**\n",
    "\n",
    "Most people prefer to travel alone."
   ]
  },
  {
   "cell_type": "markdown",
   "metadata": {},
   "source": [
    "### 5.6  Do they have any bookings more than bus capacity?"
   ]
  },
  {
   "cell_type": "markdown",
   "metadata": {},
   "source": [
    "**NOTE:**\n",
    "\n",
    "Bus has capacity of 36 passengers."
   ]
  },
  {
   "cell_type": "code",
   "execution_count": 178,
   "metadata": {},
   "outputs": [
    {
     "data": {
      "text/plain": [
       "6     21\n",
       "10    21\n",
       "12    19\n",
       "4     19\n",
       "3     18\n",
       "7     17\n",
       "24    17\n",
       "13    17\n",
       "5     17\n",
       "1     15\n",
       "14    15\n",
       "27    14\n",
       "22    14\n",
       "8     14\n",
       "9     14\n",
       "19    14\n",
       "16    14\n",
       "26    13\n",
       "18    13\n",
       "11    13\n",
       "2     12\n",
       "17    12\n",
       "0     11\n",
       "15    11\n",
       "20    11\n",
       "21    11\n",
       "29    11\n",
       "25    10\n",
       "23    7 \n",
       "28    7 \n",
       "30    6 \n",
       "31    5 \n",
       "32    3 \n",
       "36    1 \n",
       "41    1 \n",
       "Name: passengers_booked_index, dtype: int64"
      ]
     },
     "execution_count": 178,
     "metadata": {},
     "output_type": "execute_result"
    }
   ],
   "source": [
    "df_bookings.groupby(['route_no','travel_date'])['passengers_booked_index'].sum().value_counts(sort=True)"
   ]
  },
  {
   "cell_type": "markdown",
   "metadata": {},
   "source": [
    "**Observations:**\n",
    "\n",
    "we could see there is one booking(41) which crosses bus capacity"
   ]
  },
  {
   "cell_type": "markdown",
   "metadata": {},
   "source": [
    "  \n",
    "## 6. Actionable Insights"
   ]
  },
  {
   "cell_type": "markdown",
   "metadata": {},
   "source": [
    "1. Bus owners should work number of tickets sold per bus.\n",
    "2. As most people prefer to travel alone, company should work giving discounts on buying multiple tickets to increase its revenue.\n",
    "3. As count of people travelling at month end and start is very less, they should work attracting more passengers during this period.\n",
    "4. People dont travel much from August to December in routes where buses are running. May be they should try to run buses in some other areas as well.\n",
    "5. As tickets are sold before the travel date, company should work on predicting NO SHOWS count and try to over sell tickets according to it to increase its revenue."
   ]
  },
  {
   "cell_type": "code",
   "execution_count": null,
   "metadata": {},
   "outputs": [],
   "source": []
  }
 ],
 "metadata": {
  "kernelspec": {
   "display_name": "Python 3",
   "language": "python",
   "name": "python3"
  },
  "language_info": {
   "codemirror_mode": {
    "name": "ipython",
    "version": 3
   },
   "file_extension": ".py",
   "mimetype": "text/x-python",
   "name": "python",
   "nbconvert_exporter": "python",
   "pygments_lexer": "ipython3",
   "version": "3.7.3"
  }
 },
 "nbformat": 4,
 "nbformat_minor": 2
}
