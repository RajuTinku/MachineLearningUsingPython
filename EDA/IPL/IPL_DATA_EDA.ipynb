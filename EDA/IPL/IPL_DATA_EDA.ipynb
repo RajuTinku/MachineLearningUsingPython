{
 "cells": [
  {
   "cell_type": "markdown",
   "metadata": {
    "colab_type": "text",
    "id": "mfIsRP6ho3mM"
   },
   "source": [
    "# Exploratory Data Analysis on IPL Data\n",
    "<img src=\"https://www.larutadelsorigens.cat/filelook/full/119/1191765/rcb-hd-wallpapers-free-download.jpg\" height='400px' width='100%'><br/>"
   ]
  },
  {
   "cell_type": "markdown",
   "metadata": {
    "colab_type": "text",
    "id": "mpDan1F5srLq"
   },
   "source": [
    "## 1. Problem Statement\n",
    "  ### - 1.1 Introduction\n",
    "  ### - 1.2 Bussiness Goal\n",
    "## 2. Importing Packages\n",
    "## 3. Loading Data\n",
    "  ### - 3.1 Importing Data\n",
    "  ### - 3.2 Description of the Datasets\n",
    "  \n",
    "## 4. Data Processing\n",
    "  ### - 4.1 Pandas Profiling before Data Preprocessing\n",
    "  ### - 4.2 Filling missing values or outliers in each column\n",
    "  ### - 4.3 Pandas Profiling after Data Preprocessing\n",
    "## 5. Exploratory Data Analysis\n",
    "  \n",
    "## 6. Conclusion\n",
    " ### - 6.1 Actionable Insights"
   ]
  },
  {
   "cell_type": "markdown",
   "metadata": {
    "colab_type": "text",
    "id": "RTo_S8JixBmZ"
   },
   "source": [
    "## 1.Problem Statement\n",
    "    \n",
    "    All Indian Premier League Cricket matches data between 2008 and 2018. Data contains details related to the match such as location, contesting teams, umpires, results, etc."
   ]
  },
  {
   "cell_type": "markdown",
   "metadata": {
    "colab_type": "text",
    "id": "vDfHt1y7LJRL"
   },
   "source": [
    "### 1.1 Introduction\n",
    "This Exploratory Data Analysis on IPL data to analyze how each team is performing over the years. Here we will try to answer,\n",
    "\n",
    "1. What are their positives and negatives so far ?\n",
    "2. What should they focus on more ?\n",
    "3. what should they be proud of ?"
   ]
  },
  {
   "cell_type": "markdown",
   "metadata": {
    "colab_type": "text",
    "id": "8CU5t85zLRhL"
   },
   "source": [
    "### 1.2  Bussiness Goal\n",
    "  \n",
    "    To win next IPL title."
   ]
  },
  {
   "cell_type": "markdown",
   "metadata": {
    "colab_type": "text",
    "id": "tOv2BiNIxMoo"
   },
   "source": [
    "# 2. Importing Packages"
   ]
  },
  {
   "cell_type": "code",
   "execution_count": 1,
   "metadata": {
    "colab": {},
    "colab_type": "code",
    "id": "UykIGOE8xUqs"
   },
   "outputs": [],
   "source": [
    "import numpy as np                     \n",
    "\n",
    "import pandas as pd\n",
    "pd.set_option('mode.chained_assignment', None)      # To suppress pandas warnings.\n",
    "pd.set_option('display.max_colwidth', -1)           # To display all the data in each column\n",
    "pd.get_option(\"display.max_rows\",10000)\n",
    "pd.options.display.max_columns = 50                 # To display every column of the dataset in head()\n",
    "\n",
    "import warnings\n",
    "warnings.filterwarnings('ignore')                   # To suppress all the warnings in the notebook."
   ]
  },
  {
   "cell_type": "code",
   "execution_count": 2,
   "metadata": {
    "colab": {},
    "colab_type": "code",
    "id": "atkDrHIYxZLi"
   },
   "outputs": [],
   "source": [
    "import matplotlib.pyplot as plt\n",
    "%matplotlib inline\n",
    "\n",
    "import seaborn as sns\n",
    "sns.set(style='whitegrid', font_scale=1.3, color_codes=True)      # To apply seaborn styles to the plots."
   ]
  },
  {
   "cell_type": "code",
   "execution_count": 3,
   "metadata": {
    "colab": {
     "base_uri": "https://localhost:8080/",
     "height": 68
    },
    "colab_type": "code",
    "id": "fwhEVIijxeEF",
    "outputId": "c71ae7aa-ed00-4c48-b905-52ce1cb31576"
   },
   "outputs": [
    {
     "name": "stdout",
     "output_type": "stream",
     "text": [
      "Collecting plotly\n",
      "\u001b[33m  WARNING: Retrying (Retry(total=4, connect=None, read=None, redirect=None, status=None)) after connection broken by 'NewConnectionError('<pip._vendor.urllib3.connection.VerifiedHTTPSConnection object at 0x7ffab44f75c0>: Failed to establish a new connection: [Errno -2] Name or service not known')': /simple/plotly/\u001b[0m\n",
      "\u001b[33m  WARNING: Retrying (Retry(total=3, connect=None, read=None, redirect=None, status=None)) after connection broken by 'NewConnectionError('<pip._vendor.urllib3.connection.VerifiedHTTPSConnection object at 0x7ffab44f75f8>: Failed to establish a new connection: [Errno -2] Name or service not known')': /simple/plotly/\u001b[0m\n",
      "\u001b[33m  WARNING: Retrying (Retry(total=2, connect=None, read=None, redirect=None, status=None)) after connection broken by 'NewConnectionError('<pip._vendor.urllib3.connection.VerifiedHTTPSConnection object at 0x7ffab44f7518>: Failed to establish a new connection: [Errno -2] Name or service not known')': /simple/plotly/\u001b[0m\n",
      "\u001b[33m  WARNING: Retrying (Retry(total=1, connect=None, read=None, redirect=None, status=None)) after connection broken by 'NewConnectionError('<pip._vendor.urllib3.connection.VerifiedHTTPSConnection object at 0x7ffab44f7470>: Failed to establish a new connection: [Errno -2] Name or service not known')': /simple/plotly/\u001b[0m\n",
      "\u001b[33m  WARNING: Retrying (Retry(total=0, connect=None, read=None, redirect=None, status=None)) after connection broken by 'NewConnectionError('<pip._vendor.urllib3.connection.VerifiedHTTPSConnection object at 0x7ffab44f7668>: Failed to establish a new connection: [Errno -2] Name or service not known')': /simple/plotly/\u001b[0m\n",
      "\u001b[31m  ERROR: Could not find a version that satisfies the requirement plotly (from versions: none)\u001b[0m\n",
      "\u001b[31mERROR: No matching distribution found for plotly\u001b[0m\n"
     ]
    }
   ],
   "source": [
    "# Install and update plotly using this command to the latest version (higher than version 4.0.0)\n",
    "\n",
    "!pip install plotly --upgrade"
   ]
  },
  {
   "cell_type": "markdown",
   "metadata": {
    "colab_type": "text",
    "id": "3LXow8v3yn1D"
   },
   "source": [
    "# 3. Loading Data"
   ]
  },
  {
   "cell_type": "markdown",
   "metadata": {
    "colab_type": "text",
    "id": "w8PHdAsTg48C"
   },
   "source": [
    "## 3.1 Importing Data"
   ]
  },
  {
   "cell_type": "code",
   "execution_count": 3,
   "metadata": {
    "colab": {},
    "colab_type": "code",
    "id": "rziQV_iQyxNH"
   },
   "outputs": [],
   "source": [
    "#We are using IPL data\n",
    "\n",
    "#importing CSV file from github repository\n",
    "df_ipl_data = pd.read_csv('matches.csv')"
   ]
  },
  {
   "cell_type": "code",
   "execution_count": 4,
   "metadata": {
    "colab": {
     "base_uri": "https://localhost:8080/",
     "height": 445
    },
    "colab_type": "code",
    "id": "sSyn24_fzX60",
    "outputId": "b6e4cac7-b311-40b0-d7cf-ce22c7e0e362"
   },
   "outputs": [
    {
     "data": {
      "text/html": [
       "<div>\n",
       "<style scoped>\n",
       "    .dataframe tbody tr th:only-of-type {\n",
       "        vertical-align: middle;\n",
       "    }\n",
       "\n",
       "    .dataframe tbody tr th {\n",
       "        vertical-align: top;\n",
       "    }\n",
       "\n",
       "    .dataframe thead th {\n",
       "        text-align: right;\n",
       "    }\n",
       "</style>\n",
       "<table border=\"1\" class=\"dataframe\">\n",
       "  <thead>\n",
       "    <tr style=\"text-align: right;\">\n",
       "      <th></th>\n",
       "      <th>id</th>\n",
       "      <th>season</th>\n",
       "      <th>city</th>\n",
       "      <th>date</th>\n",
       "      <th>team1</th>\n",
       "      <th>team2</th>\n",
       "      <th>toss_winner</th>\n",
       "      <th>toss_decision</th>\n",
       "      <th>result</th>\n",
       "      <th>dl_applied</th>\n",
       "      <th>winner</th>\n",
       "      <th>win_by_runs</th>\n",
       "      <th>win_by_wickets</th>\n",
       "      <th>player_of_match</th>\n",
       "      <th>venue</th>\n",
       "      <th>umpire1</th>\n",
       "      <th>umpire2</th>\n",
       "      <th>umpire3</th>\n",
       "    </tr>\n",
       "  </thead>\n",
       "  <tbody>\n",
       "    <tr>\n",
       "      <th>0</th>\n",
       "      <td>1</td>\n",
       "      <td>2017</td>\n",
       "      <td>Hyderabad</td>\n",
       "      <td>2017-04-05</td>\n",
       "      <td>Sunrisers Hyderabad</td>\n",
       "      <td>Royal Challengers Bangalore</td>\n",
       "      <td>Royal Challengers Bangalore</td>\n",
       "      <td>field</td>\n",
       "      <td>normal</td>\n",
       "      <td>0</td>\n",
       "      <td>Sunrisers Hyderabad</td>\n",
       "      <td>35</td>\n",
       "      <td>0</td>\n",
       "      <td>Yuvraj Singh</td>\n",
       "      <td>Rajiv Gandhi International Stadium, Uppal</td>\n",
       "      <td>AY Dandekar</td>\n",
       "      <td>NJ Llong</td>\n",
       "      <td>NaN</td>\n",
       "    </tr>\n",
       "    <tr>\n",
       "      <th>1</th>\n",
       "      <td>2</td>\n",
       "      <td>2017</td>\n",
       "      <td>Pune</td>\n",
       "      <td>2017-04-06</td>\n",
       "      <td>Mumbai Indians</td>\n",
       "      <td>Rising Pune Supergiant</td>\n",
       "      <td>Rising Pune Supergiant</td>\n",
       "      <td>field</td>\n",
       "      <td>normal</td>\n",
       "      <td>0</td>\n",
       "      <td>Rising Pune Supergiant</td>\n",
       "      <td>0</td>\n",
       "      <td>7</td>\n",
       "      <td>SPD Smith</td>\n",
       "      <td>Maharashtra Cricket Association Stadium</td>\n",
       "      <td>A Nand Kishore</td>\n",
       "      <td>S Ravi</td>\n",
       "      <td>NaN</td>\n",
       "    </tr>\n",
       "    <tr>\n",
       "      <th>2</th>\n",
       "      <td>3</td>\n",
       "      <td>2017</td>\n",
       "      <td>Rajkot</td>\n",
       "      <td>2017-04-07</td>\n",
       "      <td>Gujarat Lions</td>\n",
       "      <td>Kolkata Knight Riders</td>\n",
       "      <td>Kolkata Knight Riders</td>\n",
       "      <td>field</td>\n",
       "      <td>normal</td>\n",
       "      <td>0</td>\n",
       "      <td>Kolkata Knight Riders</td>\n",
       "      <td>0</td>\n",
       "      <td>10</td>\n",
       "      <td>CA Lynn</td>\n",
       "      <td>Saurashtra Cricket Association Stadium</td>\n",
       "      <td>Nitin Menon</td>\n",
       "      <td>CK Nandan</td>\n",
       "      <td>NaN</td>\n",
       "    </tr>\n",
       "    <tr>\n",
       "      <th>3</th>\n",
       "      <td>4</td>\n",
       "      <td>2017</td>\n",
       "      <td>Indore</td>\n",
       "      <td>2017-04-08</td>\n",
       "      <td>Rising Pune Supergiant</td>\n",
       "      <td>Kings XI Punjab</td>\n",
       "      <td>Kings XI Punjab</td>\n",
       "      <td>field</td>\n",
       "      <td>normal</td>\n",
       "      <td>0</td>\n",
       "      <td>Kings XI Punjab</td>\n",
       "      <td>0</td>\n",
       "      <td>6</td>\n",
       "      <td>GJ Maxwell</td>\n",
       "      <td>Holkar Cricket Stadium</td>\n",
       "      <td>AK Chaudhary</td>\n",
       "      <td>C Shamshuddin</td>\n",
       "      <td>NaN</td>\n",
       "    </tr>\n",
       "    <tr>\n",
       "      <th>4</th>\n",
       "      <td>5</td>\n",
       "      <td>2017</td>\n",
       "      <td>Bangalore</td>\n",
       "      <td>2017-04-08</td>\n",
       "      <td>Royal Challengers Bangalore</td>\n",
       "      <td>Delhi Daredevils</td>\n",
       "      <td>Royal Challengers Bangalore</td>\n",
       "      <td>bat</td>\n",
       "      <td>normal</td>\n",
       "      <td>0</td>\n",
       "      <td>Royal Challengers Bangalore</td>\n",
       "      <td>15</td>\n",
       "      <td>0</td>\n",
       "      <td>KM Jadhav</td>\n",
       "      <td>M Chinnaswamy Stadium</td>\n",
       "      <td>NaN</td>\n",
       "      <td>NaN</td>\n",
       "      <td>NaN</td>\n",
       "    </tr>\n",
       "  </tbody>\n",
       "</table>\n",
       "</div>"
      ],
      "text/plain": [
       "   id  season       city        date                        team1  \\\n",
       "0  1   2017    Hyderabad  2017-04-05  Sunrisers Hyderabad           \n",
       "1  2   2017    Pune       2017-04-06  Mumbai Indians                \n",
       "2  3   2017    Rajkot     2017-04-07  Gujarat Lions                 \n",
       "3  4   2017    Indore     2017-04-08  Rising Pune Supergiant        \n",
       "4  5   2017    Bangalore  2017-04-08  Royal Challengers Bangalore   \n",
       "\n",
       "                         team2                  toss_winner toss_decision  \\\n",
       "0  Royal Challengers Bangalore  Royal Challengers Bangalore  field          \n",
       "1  Rising Pune Supergiant       Rising Pune Supergiant       field          \n",
       "2  Kolkata Knight Riders        Kolkata Knight Riders        field          \n",
       "3  Kings XI Punjab              Kings XI Punjab              field          \n",
       "4  Delhi Daredevils             Royal Challengers Bangalore  bat            \n",
       "\n",
       "   result  dl_applied                       winner  win_by_runs  \\\n",
       "0  normal  0           Sunrisers Hyderabad          35            \n",
       "1  normal  0           Rising Pune Supergiant       0             \n",
       "2  normal  0           Kolkata Knight Riders        0             \n",
       "3  normal  0           Kings XI Punjab              0             \n",
       "4  normal  0           Royal Challengers Bangalore  15            \n",
       "\n",
       "   win_by_wickets player_of_match                                      venue  \\\n",
       "0  0               Yuvraj Singh    Rajiv Gandhi International Stadium, Uppal   \n",
       "1  7               SPD Smith       Maharashtra Cricket Association Stadium     \n",
       "2  10              CA Lynn         Saurashtra Cricket Association Stadium      \n",
       "3  6               GJ Maxwell      Holkar Cricket Stadium                      \n",
       "4  0               KM Jadhav       M Chinnaswamy Stadium                       \n",
       "\n",
       "          umpire1        umpire2 umpire3  \n",
       "0  AY Dandekar     NJ Llong       NaN     \n",
       "1  A Nand Kishore  S Ravi         NaN     \n",
       "2  Nitin Menon     CK Nandan      NaN     \n",
       "3  AK Chaudhary    C Shamshuddin  NaN     \n",
       "4  NaN             NaN            NaN     "
      ]
     },
     "execution_count": 4,
     "metadata": {},
     "output_type": "execute_result"
    }
   ],
   "source": [
    "# getting top 5 values of dataset\n",
    "df_ipl_data.head()"
   ]
  },
  {
   "cell_type": "markdown",
   "metadata": {
    "colab_type": "text",
    "id": "NrerE-A4grQI"
   },
   "source": [
    "## 3.2 Description of data sets"
   ]
  },
  {
   "cell_type": "code",
   "execution_count": 6,
   "metadata": {
    "colab": {
     "base_uri": "https://localhost:8080/",
     "height": 408
    },
    "colab_type": "code",
    "id": "4sfaSlKy0Ah0",
    "outputId": "717cb07b-8609-4ce2-abf2-965cd05bda4d"
   },
   "outputs": [
    {
     "name": "stdout",
     "output_type": "stream",
     "text": [
      "<class 'pandas.core.frame.DataFrame'>\n",
      "RangeIndex: 696 entries, 0 to 695\n",
      "Data columns (total 18 columns):\n",
      "id                 696 non-null int64\n",
      "season             696 non-null int64\n",
      "city               689 non-null object\n",
      "date               696 non-null object\n",
      "team1              696 non-null object\n",
      "team2              696 non-null object\n",
      "toss_winner        696 non-null object\n",
      "toss_decision      696 non-null object\n",
      "result             696 non-null object\n",
      "dl_applied         696 non-null int64\n",
      "winner             693 non-null object\n",
      "win_by_runs        696 non-null int64\n",
      "win_by_wickets     696 non-null int64\n",
      "player_of_match    693 non-null object\n",
      "venue              696 non-null object\n",
      "umpire1            695 non-null object\n",
      "umpire2            695 non-null object\n",
      "umpire3            60 non-null object\n",
      "dtypes: int64(5), object(13)\n",
      "memory usage: 98.0+ KB\n"
     ]
    }
   ],
   "source": [
    "df_ipl_data.info()"
   ]
  },
  {
   "cell_type": "code",
   "execution_count": 7,
   "metadata": {
    "colab": {
     "base_uri": "https://localhost:8080/",
     "height": 297
    },
    "colab_type": "code",
    "id": "memDeMXVCHYd",
    "outputId": "2526a227-45bd-41f4-d255-5a5c6a88873a"
   },
   "outputs": [
    {
     "data": {
      "text/html": [
       "<div>\n",
       "<style scoped>\n",
       "    .dataframe tbody tr th:only-of-type {\n",
       "        vertical-align: middle;\n",
       "    }\n",
       "\n",
       "    .dataframe tbody tr th {\n",
       "        vertical-align: top;\n",
       "    }\n",
       "\n",
       "    .dataframe thead th {\n",
       "        text-align: right;\n",
       "    }\n",
       "</style>\n",
       "<table border=\"1\" class=\"dataframe\">\n",
       "  <thead>\n",
       "    <tr style=\"text-align: right;\">\n",
       "      <th></th>\n",
       "      <th>id</th>\n",
       "      <th>season</th>\n",
       "      <th>dl_applied</th>\n",
       "      <th>win_by_runs</th>\n",
       "      <th>win_by_wickets</th>\n",
       "    </tr>\n",
       "  </thead>\n",
       "  <tbody>\n",
       "    <tr>\n",
       "      <th>count</th>\n",
       "      <td>696.000000</td>\n",
       "      <td>696.000000</td>\n",
       "      <td>696.000000</td>\n",
       "      <td>696.000000</td>\n",
       "      <td>696.000000</td>\n",
       "    </tr>\n",
       "    <tr>\n",
       "      <th>mean</th>\n",
       "      <td>974.103448</td>\n",
       "      <td>2012.965517</td>\n",
       "      <td>0.027299</td>\n",
       "      <td>13.472701</td>\n",
       "      <td>3.349138</td>\n",
       "    </tr>\n",
       "    <tr>\n",
       "      <th>std</th>\n",
       "      <td>2143.239623</td>\n",
       "      <td>3.069266</td>\n",
       "      <td>0.163070</td>\n",
       "      <td>23.607994</td>\n",
       "      <td>3.411398</td>\n",
       "    </tr>\n",
       "    <tr>\n",
       "      <th>min</th>\n",
       "      <td>1.000000</td>\n",
       "      <td>2008.000000</td>\n",
       "      <td>0.000000</td>\n",
       "      <td>0.000000</td>\n",
       "      <td>0.000000</td>\n",
       "    </tr>\n",
       "    <tr>\n",
       "      <th>25%</th>\n",
       "      <td>174.750000</td>\n",
       "      <td>2010.000000</td>\n",
       "      <td>0.000000</td>\n",
       "      <td>0.000000</td>\n",
       "      <td>0.000000</td>\n",
       "    </tr>\n",
       "    <tr>\n",
       "      <th>50%</th>\n",
       "      <td>348.500000</td>\n",
       "      <td>2013.000000</td>\n",
       "      <td>0.000000</td>\n",
       "      <td>0.000000</td>\n",
       "      <td>3.000000</td>\n",
       "    </tr>\n",
       "    <tr>\n",
       "      <th>75%</th>\n",
       "      <td>522.250000</td>\n",
       "      <td>2016.000000</td>\n",
       "      <td>0.000000</td>\n",
       "      <td>19.000000</td>\n",
       "      <td>6.000000</td>\n",
       "    </tr>\n",
       "    <tr>\n",
       "      <th>max</th>\n",
       "      <td>7953.000000</td>\n",
       "      <td>2018.000000</td>\n",
       "      <td>1.000000</td>\n",
       "      <td>146.000000</td>\n",
       "      <td>10.000000</td>\n",
       "    </tr>\n",
       "  </tbody>\n",
       "</table>\n",
       "</div>"
      ],
      "text/plain": [
       "                id       season  dl_applied  win_by_runs  win_by_wickets\n",
       "count  696.000000   696.000000   696.000000  696.000000   696.000000    \n",
       "mean   974.103448   2012.965517  0.027299    13.472701    3.349138      \n",
       "std    2143.239623  3.069266     0.163070    23.607994    3.411398      \n",
       "min    1.000000     2008.000000  0.000000    0.000000     0.000000      \n",
       "25%    174.750000   2010.000000  0.000000    0.000000     0.000000      \n",
       "50%    348.500000   2013.000000  0.000000    0.000000     3.000000      \n",
       "75%    522.250000   2016.000000  0.000000    19.000000    6.000000      \n",
       "max    7953.000000  2018.000000  1.000000    146.000000   10.000000     "
      ]
     },
     "execution_count": 7,
     "metadata": {},
     "output_type": "execute_result"
    }
   ],
   "source": [
    "df_ipl_data.describe()"
   ]
  },
  {
   "cell_type": "markdown",
   "metadata": {
    "colab_type": "text",
    "id": "t6ayg_UenkiW"
   },
   "source": [
    "# 4. Data Processing"
   ]
  },
  {
   "cell_type": "markdown",
   "metadata": {
    "colab_type": "text",
    "id": "gisTb2xXExIf"
   },
   "source": [
    "## 4.1 Pandas Profiling before Data Preprocessing"
   ]
  },
  {
   "cell_type": "code",
   "execution_count": null,
   "metadata": {
    "colab": {
     "base_uri": "https://localhost:8080/",
     "height": 1000
    },
    "colab_type": "code",
    "id": "qNpEzFOLEy1b",
    "outputId": "4e538e62-1760-48c6-864c-ce39fe80dcd0"
   },
   "outputs": [],
   "source": [
    "# To install pandas profiling please run this command.\n",
    "\n",
    "!pip install pandas-profiling --upgrade"
   ]
  },
  {
   "cell_type": "code",
   "execution_count": null,
   "metadata": {
    "colab": {},
    "colab_type": "code",
    "id": "RXgltqVCE2Od"
   },
   "outputs": [],
   "source": [
    "import pandas_profiling "
   ]
  },
  {
   "cell_type": "code",
   "execution_count": null,
   "metadata": {
    "colab": {
     "base_uri": "https://localhost:8080/",
     "height": 821
    },
    "colab_type": "code",
    "id": "uZvNmHDNHU1z",
    "outputId": "f70b11d1-eac1-4855-82ed-ec103122fc47"
   },
   "outputs": [],
   "source": [
    "# Running pandas profiling to get better understanding of data\n",
    "df_ipl_data.profile_report(title='Pandas Profiling before Data Preprocessing', style={'full_width':True})"
   ]
  },
  {
   "cell_type": "markdown",
   "metadata": {
    "colab_type": "text",
    "id": "3U_0Y3_th09J"
   },
   "source": [
    "**Observations:**\n",
    "\n",
    "**1.** From above we can that we have missing values in **city, umpire1, umpire2, umpire3** colums."
   ]
  },
  {
   "cell_type": "markdown",
   "metadata": {
    "colab_type": "text",
    "id": "4LzenkFy3mZB"
   },
   "source": [
    "## 4.2 Filling missing values in each column"
   ]
  },
  {
   "cell_type": "markdown",
   "metadata": {
    "colab_type": "text",
    "id": "UqrhIpPz3tYB"
   },
   "source": [
    "### 4.2.1 City \n",
    "\n",
    "We can calculate missing **city** values from **venue** value."
   ]
  },
  {
   "cell_type": "code",
   "execution_count": 8,
   "metadata": {
    "colab": {},
    "colab_type": "code",
    "id": "QLJU9lU_vZe6"
   },
   "outputs": [],
   "source": [
    "# Map to link venue to city\n",
    "\n",
    "CITY_VENUE_MAP = {  \n",
    "   'Dubai International Cricket Stadium':'Dubai',\n",
    "   'Rajiv Gandhi International Stadium, Uppal':'Hyderabad',\n",
    "   'Maharashtra Cricket Association Stadium':'Pune',\n",
    "   'Saurashtra Cricket Association Stadium':'Rajkot',\n",
    "   'Holkar Cricket Stadium':'Indore',\n",
    "   'M Chinnaswamy Stadium':'Bengaluru',\n",
    "   'Wankhede Stadium':'Mumbai',\n",
    "   'Eden Gardens':'Kolkata',\n",
    "   'Feroz Shah Kotla':'Delhi',\n",
    "   'Punjab Cricket Association IS Bindra Stadium, Mohali':'Chandigarh',\n",
    "   'Green Park':'Kanpur',\n",
    "   'Punjab Cricket Association Stadium, Mohali':'Chandigarh ',\n",
    "   'Sawai Mansingh Stadium':'Jaipur',\n",
    "   'MA Chidambaram Stadium, Chepauk':'Chennai',\n",
    "   'Dr DY Patil Sports Academy':'Mumbai',\n",
    "   'Newlands':'Cape Town',\n",
    "   \"St George's Park\":'Port Elizabeth',\n",
    "   'Kingsmead':'Durban',\n",
    "   'SuperSport Park':'Centurion',\n",
    "   'Buffalo Park':'East London',\n",
    "   'New Wanderers Stadium':'Johannesburg',\n",
    "   'De Beers Diamond Oval':'Kimberley',\n",
    "   'OUTsurance Oval':'Bloemfontein',\n",
    "   'Brabourne Stadium':'Mumbai',\n",
    "   'Sardar Patel Stadium, Motera':'Ahmedabad',\n",
    "   'Barabati Stadium':'Cuttack',\n",
    "   'Vidarbha Cricket Association Stadium, Jamtha':'Nagpur',\n",
    "   'Himachal Pradesh Cricket Association Stadium':'Dharamsala',\n",
    "   'Nehru Stadium':'Kochi',\n",
    "   'Dr. Y.S. Rajasekhara Reddy ACA-VDCA Cricket Stadium':'Visakhapatnam',\n",
    "   'Subrata Roy Sahara Stadium':'Pune',\n",
    "   'Shaheed Veer Narayan Singh International Stadium':'Raipur',\n",
    "   'JSCA International Stadium Complex':'Ranchi',\n",
    "   'Sheikh Zayed Stadium':'Abu Dhabi',\n",
    "   'Sharjah Cricket Stadium':'Sharjah'\n",
    "}\n"
   ]
  },
  {
   "cell_type": "code",
   "execution_count": 9,
   "metadata": {
    "colab": {},
    "colab_type": "code",
    "id": "cz-U_6JgyF43"
   },
   "outputs": [],
   "source": [
    "# We are calculating all city values from venue. \n",
    "# There may be better way. Instead of replacing every city value, we can replace fill missing values. \n",
    "# If anyone knows the answer please help. \n",
    "\n",
    "df_ipl_data['city'] = df_ipl_data['venue'].map(CITY_VENUE_MAP)"
   ]
  },
  {
   "cell_type": "code",
   "execution_count": null,
   "metadata": {},
   "outputs": [],
   "source": [
    "df_ipl_data[df_ipl_data['city'].isnull()]"
   ]
  },
  {
   "cell_type": "markdown",
   "metadata": {
    "colab_type": "text",
    "id": "XqJ5Aspq34b1"
   },
   "source": [
    "### 4.2.2 Umpire \n",
    "\n",
    "Fill missing **umpire3** value with mode"
   ]
  },
  {
   "cell_type": "code",
   "execution_count": null,
   "metadata": {
    "colab": {},
    "colab_type": "code",
    "id": "QXgzEOzJ38T5"
   },
   "outputs": [],
   "source": [
    "mode_umpire3 = df_ipl_data['umpire3'].mode()[0]"
   ]
  },
  {
   "cell_type": "code",
   "execution_count": null,
   "metadata": {
    "colab": {},
    "colab_type": "code",
    "id": "VpV40MaK641j"
   },
   "outputs": [],
   "source": [
    "df_ipl_data['umpire3'].fillna(mode_umpire3, inplace=True)\n"
   ]
  },
  {
   "cell_type": "markdown",
   "metadata": {
    "colab_type": "text",
    "id": "-yy5k4D1GnqH"
   },
   "source": [
    "Fill missing **umpire2** value with mode"
   ]
  },
  {
   "cell_type": "code",
   "execution_count": null,
   "metadata": {
    "colab": {},
    "colab_type": "code",
    "id": "Uz9_mUy5GoGH"
   },
   "outputs": [],
   "source": [
    "mode_umpire2 = df_ipl_data['umpire2'].mode()[0]\n",
    "df_ipl_data['umpire2'].fillna(mode_umpire2, inplace=True)"
   ]
  },
  {
   "cell_type": "markdown",
   "metadata": {
    "colab_type": "text",
    "id": "cC1JBsWtHQ_B"
   },
   "source": [
    "Fill missing **umpire1** value with mode"
   ]
  },
  {
   "cell_type": "code",
   "execution_count": null,
   "metadata": {
    "colab": {},
    "colab_type": "code",
    "id": "bH-7jAnqHUbu"
   },
   "outputs": [],
   "source": [
    "mode_umpire1 = df_ipl_data['umpire1'].mode()[0]\n",
    "df_ipl_data['umpire1'].fillna(mode_umpire1, inplace=True)"
   ]
  },
  {
   "cell_type": "markdown",
   "metadata": {
    "colab_type": "text",
    "id": "Ov7LFB5nmNE5"
   },
   "source": [
    "## 4.3 Pandas Profiling after Data Preprocessing"
   ]
  },
  {
   "cell_type": "code",
   "execution_count": null,
   "metadata": {
    "colab": {
     "base_uri": "https://localhost:8080/",
     "height": 821
    },
    "colab_type": "code",
    "id": "7wrXteyZJBFC",
    "outputId": "a0833768-9555-4aa5-c6ab-2fd87408607a"
   },
   "outputs": [],
   "source": [
    "# Running pandas profiling again to check all missing values are filled properly\n",
    "df_ipl_data.profile_report(title='Pandas Profiling after Data Preprocessing', style={'full_width':True})"
   ]
  },
  {
   "cell_type": "markdown",
   "metadata": {
    "colab_type": "text",
    "id": "TOpvSb8Ulopr"
   },
   "source": [
    "**Observations**:\n",
    "\n",
    "We can observe all missing values are filled properly"
   ]
  },
  {
   "cell_type": "markdown",
   "metadata": {
    "colab_type": "text",
    "id": "0oPZOxFcl5sN"
   },
   "source": [
    "# 5. Exploratory Data Analysis"
   ]
  },
  {
   "cell_type": "markdown",
   "metadata": {
    "colab_type": "text",
    "id": "Bbx0PXufQivc"
   },
   "source": [
    "## 5.1 Importance of Toss"
   ]
  },
  {
   "cell_type": "markdown",
   "metadata": {
    "colab_type": "text",
    "id": "PhLi7m_9Q7hb"
   },
   "source": [
    "### 5.1.1 How teams winning the toss performing overall ?"
   ]
  },
  {
   "cell_type": "code",
   "execution_count": null,
   "metadata": {
    "colab": {
     "base_uri": "https://localhost:8080/",
     "height": 34
    },
    "colab_type": "code",
    "id": "esyaM_618dVf",
    "outputId": "9e6a0922-6c2c-4b70-896e-0af946115539"
   },
   "outputs": [],
   "source": [
    "win_count = df_ipl_data[df_ipl_data['winner'] == df_ipl_data['toss_winner']]['winner'].count()\n",
    "\n",
    "print('Numbers of matches won by toss winning team : {}'.format(win_count))"
   ]
  },
  {
   "cell_type": "code",
   "execution_count": null,
   "metadata": {
    "colab": {
     "base_uri": "https://localhost:8080/",
     "height": 34
    },
    "colab_type": "code",
    "id": "8tra4soQH-OU",
    "outputId": "bf30db7d-9ea0-47fd-9509-5808b4019c92"
   },
   "outputs": [],
   "source": [
    "toss_loss_count = df_ipl_data[df_ipl_data['winner'] != df_ipl_data['toss_winner']]['winner'].count()\n",
    "print('Numbers of matches won by toss losing team : {}'.format(toss_loss_count))"
   ]
  },
  {
   "cell_type": "markdown",
   "metadata": {
    "colab_type": "text",
    "id": "GBI0OhhqQuhr"
   },
   "source": [
    "**Observation** : We can observe that team winning toss has **51.51%** chances of winning."
   ]
  },
  {
   "cell_type": "markdown",
   "metadata": {
    "colab_type": "text",
    "id": "mJ5Triz7ZhEy"
   },
   "source": [
    "### 5.1.2 How teams winning the toss performing(season-wise) ?"
   ]
  },
  {
   "cell_type": "code",
   "execution_count": null,
   "metadata": {
    "colab": {
     "base_uri": "https://localhost:8080/",
     "height": 238
    },
    "colab_type": "code",
    "id": "mQBHLDYcXkks",
    "outputId": "0f624d67-037f-4dd7-b55e-1e1f89b05afc"
   },
   "outputs": [],
   "source": [
    "season_win_count = df_ipl_data[df_ipl_data['winner'] == df_ipl_data['toss_winner']]['season'].value_counts(sort=False)\n",
    "print('Numbers of matches won by toss winning team(season-wise):')\n",
    "print(season_win_count)"
   ]
  },
  {
   "cell_type": "code",
   "execution_count": null,
   "metadata": {
    "colab": {
     "base_uri": "https://localhost:8080/",
     "height": 238
    },
    "colab_type": "code",
    "id": "n0Xz8ynWXso9",
    "outputId": "db8c1c8e-f6a6-47a1-e44b-9d830f48d8cf"
   },
   "outputs": [],
   "source": [
    "season_lose_count = df_ipl_data[df_ipl_data['winner'] != df_ipl_data['toss_winner']]['season'].value_counts(sort=False)\n",
    "print('Numbers of matches won by toss losing team(season-wise):')\n",
    "print(season_lose_count)"
   ]
  },
  {
   "cell_type": "code",
   "execution_count": 10,
   "metadata": {
    "colab": {
     "base_uri": "https://localhost:8080/",
     "height": 461
    },
    "colab_type": "code",
    "id": "9-PorqOHX0g-",
    "outputId": "1054fe10-c5eb-4457-afa8-80a18027c734"
   },
   "outputs": [
    {
     "data": {
      "text/plain": [
       "<matplotlib.axes._subplots.AxesSubplot at 0x7f9ca8082ac8>"
      ]
     },
     "execution_count": 10,
     "metadata": {},
     "output_type": "execute_result"
    },
    {
     "data": {
      "image/png": "[encoded data removed]",
      "text/plain": [
       "<Figure size 1080x504 with 1 Axes>"
      ]
     },
     "metadata": {
      "needs_background": "light"
     },
     "output_type": "display_data"
    }
   ],
   "source": [
    "df = pd.DataFrame(\n",
    "\t{\n",
    "\t'Toss Winner': df_ipl_data[df_ipl_data['winner'] == df_ipl_data['toss_winner']]['season'].value_counts(sort=False),\n",
    "  'Toss Loser': df_ipl_data[df_ipl_data['winner'] != df_ipl_data['toss_winner']]['season'].value_counts(sort=False)\n",
    "\t}\n",
    "\t) \n",
    "df.plot.bar(rot=0,figsize=(15, 7))"
   ]
  },
  {
   "cell_type": "markdown",
   "metadata": {
    "colab_type": "text",
    "id": "OhkDlIiN49ex"
   },
   "source": [
    "**Obsevations:**\n",
    "\n",
    "**1.**Teams winning toss won more matches in **6 out of 10 seasons**(in 2014 the count is same) i.e probability of team winning after toss winning is **60%(season-wise).**\n"
   ]
  },
  {
   "cell_type": "markdown",
   "metadata": {
    "colab_type": "text",
    "id": "gtuU3AgcZ1Pd"
   },
   "source": [
    "### 5.1.3 How teams winning the toss performing(team-wise) ?"
   ]
  },
  {
   "cell_type": "code",
   "execution_count": null,
   "metadata": {
    "colab": {
     "base_uri": "https://localhost:8080/",
     "height": 289
    },
    "colab_type": "code",
    "id": "UxGMkFuNZ9ZL",
    "outputId": "d4746626-f777-42af-eb02-bb680a49279c"
   },
   "outputs": [],
   "source": [
    "team_win_count = df_ipl_data[df_ipl_data['winner'] == df_ipl_data['toss_winner']]['team1'].value_counts()\n",
    "print('Numbers of matches won by toss winning team(team-wise):')\n",
    "print(team_win_count)\n"
   ]
  },
  {
   "cell_type": "code",
   "execution_count": null,
   "metadata": {
    "colab": {
     "base_uri": "https://localhost:8080/",
     "height": 289
    },
    "colab_type": "code",
    "id": "qFS5l3q3Z9LN",
    "outputId": "eeb8f16d-ee1e-46fd-ded0-a61765a53a3c"
   },
   "outputs": [],
   "source": [
    "team_lose_count = df_ipl_data[df_ipl_data['winner'] != df_ipl_data['toss_winner']]['team1'].value_counts()\n",
    "print('Numbers of matches won by toss losing team(team-wise):')\n",
    "print(team_lose_count)"
   ]
  },
  {
   "cell_type": "code",
   "execution_count": null,
   "metadata": {
    "colab": {},
    "colab_type": "code",
    "id": "bb0zUhHtijQ4"
   },
   "outputs": [],
   "source": [
    "#df_ipl_data.groupby('team2')[df_ipl_data['winner'] == df_ipl_data['team1']].count()"
   ]
  },
  {
   "cell_type": "code",
   "execution_count": null,
   "metadata": {
    "colab": {
     "base_uri": "https://localhost:8080/",
     "height": 481
    },
    "colab_type": "code",
    "id": "Jtqv3WEYZ8sf",
    "outputId": "2642107d-c028-42ae-c682-4f64bed03513"
   },
   "outputs": [],
   "source": [
    "df = pd.DataFrame(\n",
    "\t{\n",
    "\t'Toss Winner': df_ipl_data[df_ipl_data['winner'] == df_ipl_data['toss_winner']]['team1'].value_counts(sort=False),\n",
    "  'Toss Loser': df_ipl_data[df_ipl_data['winner'] != df_ipl_data['toss_winner']]['team1'].value_counts(sort=False)\n",
    "\t}\n",
    "\t) \n",
    "df.plot.bar(rot=0,figsize=(32, 7))"
   ]
  },
  {
   "cell_type": "markdown",
   "metadata": {
    "colab_type": "text",
    "id": "UP5LfBQp7CxF"
   },
   "source": [
    "Observations:\n",
    "\n",
    "1. 14 teams have played IPL so far.\n",
    "2. **8 out of 14 teams** won more matches if they win toss i.e, **57%** more chance."
   ]
  },
  {
   "cell_type": "markdown",
   "metadata": {
    "colab_type": "text",
    "id": "LG41Jc1ItQxk"
   },
   "source": [
    "### 5.1.4 How teams are performing at toss(team-wise) ?"
   ]
  },
  {
   "cell_type": "code",
   "execution_count": null,
   "metadata": {
    "colab": {
     "base_uri": "https://localhost:8080/",
     "height": 272
    },
    "colab_type": "code",
    "id": "FWNlmRvvr4DH",
    "outputId": "91ecf2d3-698e-4932-9105-1475af270cbb"
   },
   "outputs": [],
   "source": [
    "team_win_count = df_ipl_data[df_ipl_data['team1'] == df_ipl_data['toss_winner']]['team1'].value_counts().iloc[:]\n",
    "print('Numbers of tosses won by each team:')\n",
    "print(team_win_count)"
   ]
  },
  {
   "cell_type": "code",
   "execution_count": null,
   "metadata": {
    "colab": {
     "base_uri": "https://localhost:8080/",
     "height": 289
    },
    "colab_type": "code",
    "id": "XTj5u6mCsU6l",
    "outputId": "2aabdcfa-960c-4068-ceac-426952b30b29"
   },
   "outputs": [],
   "source": [
    "team_win_count = df_ipl_data[df_ipl_data['team1'] != df_ipl_data['toss_winner']]['team1'].value_counts().iloc[:]\n",
    "print('Numbers of tosses lost by each team:')\n",
    "print(team_win_count)"
   ]
  },
  {
   "cell_type": "code",
   "execution_count": null,
   "metadata": {
    "colab": {
     "base_uri": "https://localhost:8080/",
     "height": 481
    },
    "colab_type": "code",
    "id": "OCqpUg8pugWq",
    "outputId": "366b2a2c-97a7-4cf7-e807-8ee2abe8a7cd"
   },
   "outputs": [],
   "source": [
    "df = pd.DataFrame(\n",
    "\t{\n",
    "\t'Toss Winner': df_ipl_data[df_ipl_data['team1'] == df_ipl_data['toss_winner']]['team1'].value_counts().iloc[:],\n",
    "  'Toss Loser': df_ipl_data[df_ipl_data['team1'] != df_ipl_data['toss_winner']]['team1'].value_counts().iloc[:]\n",
    "\t}\n",
    "\t) \n",
    "df.plot.bar(rot=0,figsize=(32, 7))"
   ]
  },
  {
   "cell_type": "markdown",
   "metadata": {
    "colab_type": "text",
    "id": "r97-f_63sUZt"
   },
   "source": [
    "**Observations:**\n",
    "\n",
    "We can observe **Chennai Super Kings** it the only team which has uper hand at toss."
   ]
  },
  {
   "cell_type": "markdown",
   "metadata": {
    "colab_type": "text",
    "id": "1ppVXGe5AJ8C"
   },
   "source": [
    "## 5.2 Importance of toss decision"
   ]
  },
  {
   "cell_type": "markdown",
   "metadata": {
    "colab_type": "text",
    "id": "_YETPvMZRN_B"
   },
   "source": [
    "### 5.2.1 Should we bat or field after winning toss(Over all) ?"
   ]
  },
  {
   "cell_type": "code",
   "execution_count": 31,
   "metadata": {
    "colab": {
     "base_uri": "https://localhost:8080/",
     "height": 51
    },
    "colab_type": "code",
    "id": "8tiAJyD8SIFq",
    "outputId": "763d4b7e-2dfb-4594-c6d4-5663402ba55f"
   },
   "outputs": [
    {
     "name": "stdout",
     "output_type": "stream",
     "text": [
      "Numbers of matches won by fielding team after winning toss(Over all):\n",
      "228\n"
     ]
    }
   ],
   "source": [
    "toss_win_field_count = df_ipl_data[\n",
    "\n",
    "(df_ipl_data['winner'] == df_ipl_data['toss_winner']) & (df_ipl_data['toss_decision'] == 'field') \n",
    "\n",
    "]['winner'].count()\n",
    "\n",
    "print('Numbers of matches won by fielding team after winning toss(Over all):')\n",
    "print(toss_win_field_count)"
   ]
  },
  {
   "cell_type": "code",
   "execution_count": 32,
   "metadata": {
    "colab": {
     "base_uri": "https://localhost:8080/",
     "height": 51
    },
    "colab_type": "code",
    "id": "rhPmO0y3TeE_",
    "outputId": "9caa3770-39b9-44cf-a9d3-f451760d34e6"
   },
   "outputs": [
    {
     "name": "stdout",
     "output_type": "stream",
     "text": [
      "Numbers of matches won by batting team after winning toss(Over all):\n",
      "129\n"
     ]
    }
   ],
   "source": [
    "toss_win_bat_count = df_ipl_data[\n",
    "\n",
    "(df_ipl_data['winner'] == df_ipl_data['toss_winner']) & (df_ipl_data['toss_decision'] == 'bat') \n",
    "\n",
    "]['winner'].count()\n",
    "\n",
    "print('Numbers of matches won by batting team after winning toss(Over all):')\n",
    "print(toss_win_bat_count)"
   ]
  },
  {
   "cell_type": "markdown",
   "metadata": {
    "colab_type": "text",
    "id": "ZwWb-Hu8bBQF"
   },
   "source": [
    "**Observation:**\n",
    "\n",
    "We can observe that team choosing **fielding** after **winning toss** has winning percentage of **32.9%** where as team choosing **batting** after **winning toss** has winning percentage of **18.6%**"
   ]
  },
  {
   "cell_type": "markdown",
   "metadata": {
    "colab_type": "text",
    "id": "eVEYbsxt5XYW"
   },
   "source": [
    "### 5.2.2 Should we bat or field after winning toss(season-wise) ?"
   ]
  },
  {
   "cell_type": "code",
   "execution_count": null,
   "metadata": {
    "colab": {
     "base_uri": "https://localhost:8080/",
     "height": 238
    },
    "colab_type": "code",
    "id": "8xtbu1eoVeKT",
    "outputId": "9eb6e2f9-6e84-4b3a-ad6f-4236ac0852c3"
   },
   "outputs": [],
   "source": [
    "toss_win_field_count = df_ipl_data[\n",
    "\n",
    "(df_ipl_data['winner'] == df_ipl_data['toss_winner']) & (df_ipl_data['toss_decision'] == 'field') \n",
    "\n",
    "]['season'].value_counts(sort=False)\n",
    "\n",
    "print('Numbers of matches won by fielding team after winning toss(season-wise):')\n",
    "print(toss_win_field_count)"
   ]
  },
  {
   "cell_type": "code",
   "execution_count": null,
   "metadata": {
    "colab": {
     "base_uri": "https://localhost:8080/",
     "height": 238
    },
    "colab_type": "code",
    "id": "OMySoMLGVdxk",
    "outputId": "3fcd93ad-af87-4cd0-ebca-8a053cef273f"
   },
   "outputs": [],
   "source": [
    "toss_win_bat_count = df_ipl_data[\n",
    "\n",
    "            (df_ipl_data['winner'] == df_ipl_data['toss_winner']) & (df_ipl_data['toss_decision'] == 'bat') \n",
    "    \n",
    "]['season'].value_counts(sort=False)\n",
    "\n",
    "print('Numbers of matches won by batting team after winning toss(season-wise):')\n",
    "print(toss_win_bat_count)"
   ]
  },
  {
   "cell_type": "code",
   "execution_count": 33,
   "metadata": {
    "colab": {
     "base_uri": "https://localhost:8080/",
     "height": 461
    },
    "colab_type": "code",
    "id": "glyuJEJ0Ksjg",
    "outputId": "c5635572-6fa4-4c17-ab0b-a2492bbc1e5f"
   },
   "outputs": [
    {
     "data": {
      "text/plain": [
       "<matplotlib.axes._subplots.AxesSubplot at 0x7f9c78f6e470>"
      ]
     },
     "execution_count": 33,
     "metadata": {},
     "output_type": "execute_result"
    },
    {
     "data": {
      "image/png": "[encoded data removed]",
      "text/plain": [
       "<Figure size 1080x504 with 1 Axes>"
      ]
     },
     "metadata": {
      "needs_background": "light"
     },
     "output_type": "display_data"
    }
   ],
   "source": [
    "df = pd.DataFrame(\n",
    "\t{\n",
    "\t'Choose  fielding': df_ipl_data[\n",
    "\n",
    "                                (df_ipl_data['winner'] == df_ipl_data['toss_winner']) & (df_ipl_data['toss_decision'] == 'field') \n",
    "\n",
    "                                ]['season'].value_counts(),\n",
    "  'Choose  batting': df_ipl_data[\n",
    "                                (df_ipl_data['winner'] == df_ipl_data['toss_winner']) & (df_ipl_data['toss_decision'] == 'bat') \n",
    "                                ]['season'].value_counts()\n",
    "\t}\n",
    "\t) \n",
    "df.plot.bar(rot=0,figsize=(15, 7))"
   ]
  },
  {
   "cell_type": "markdown",
   "metadata": {
    "colab_type": "text",
    "id": "cQFUM4CvEED0"
   },
   "source": [
    "**Observations:**\n",
    "\n",
    "**1.** We can clearly observe that **7 out 10 seasons** matches are won by team that choose fielding after winning toss i.e, **70%** probability\n",
    "\n",
    "**2.** In **last 3 seasons**, we can see more than **82% matches** are won by fielding team after winning toss."
   ]
  },
  {
   "cell_type": "markdown",
   "metadata": {
    "colab_type": "text",
    "id": "UEaB0qLF5ncW"
   },
   "source": [
    "### 5.2.3 Should we bat or field after winning toss(team-wise) ?"
   ]
  },
  {
   "cell_type": "code",
   "execution_count": null,
   "metadata": {
    "colab": {
     "base_uri": "https://localhost:8080/",
     "height": 289
    },
    "colab_type": "code",
    "id": "jJ2wKOeH5sNb",
    "outputId": "8caef8a8-25d6-4ed0-c9c9-fcae24e25d87"
   },
   "outputs": [],
   "source": [
    " toss_win_field_count = df_ipl_data[\n",
    "\n",
    "            (df_ipl_data['winner'] == df_ipl_data['toss_winner']) & (df_ipl_data['toss_decision'] == 'field') \n",
    "\n",
    "            ]['team1'].value_counts()\n",
    "print('Numbers of matches won by fielding team after winning toss(team-wise):')\n",
    "print(toss_win_field_count)"
   ]
  },
  {
   "cell_type": "code",
   "execution_count": null,
   "metadata": {
    "colab": {
     "base_uri": "https://localhost:8080/",
     "height": 221
    },
    "colab_type": "code",
    "id": "24C41XPUGegs",
    "outputId": "71b4edce-9697-480b-ef8a-e3507a4ace78"
   },
   "outputs": [],
   "source": [
    "toss_win_bat_count = df_ipl_data[\n",
    "\n",
    "            (df_ipl_data['winner'] == df_ipl_data['toss_winner']) & (df_ipl_data['toss_decision'] == 'bat') \n",
    "\n",
    "            ]['team1'].value_counts()\n",
    "print('Numbers of matches won by batting team after winning toss(team-wise):')\n",
    "print(toss_win_bat_count)"
   ]
  },
  {
   "cell_type": "code",
   "execution_count": null,
   "metadata": {
    "colab": {
     "base_uri": "https://localhost:8080/",
     "height": 481
    },
    "colab_type": "code",
    "id": "-f3RUGiZLYf3",
    "outputId": "0b066891-130e-4fd3-b5b3-b25745252532"
   },
   "outputs": [],
   "source": [
    "df = pd.DataFrame(\n",
    "\t{\n",
    "\t'Choose  fielding': df_ipl_data[\n",
    "\n",
    "                                (df_ipl_data['winner'] == df_ipl_data['toss_winner']) & (df_ipl_data['toss_decision'] == 'field') \n",
    "\n",
    "                                ]['team1'].value_counts(),\n",
    "  'Choose  batting': df_ipl_data[\n",
    "                                (df_ipl_data['winner'] == df_ipl_data['toss_winner']) & (df_ipl_data['toss_decision'] == 'bat') \n",
    "                                ]['team1'].value_counts()\n",
    "\t}\n",
    "\t) \n",
    "df.plot.bar(rot=0,figsize=(32, 7))"
   ]
  },
  {
   "cell_type": "markdown",
   "metadata": {
    "colab_type": "text",
    "id": "yYD7MLj2H8-l"
   },
   "source": [
    "**Observations:**\n",
    "\n",
    "**1.** **10 out of 14 teams** won by choosing fielding after winning toss i.e, **71.4%.**\n",
    "\n",
    "**2.** Interestingly, Gujarat Lions, Kochi Tuskers Kerela, Rising Pune Supergiant, Rising Pune Supergiants never won by choosing batting after winning toss."
   ]
  },
  {
   "cell_type": "markdown",
   "metadata": {
    "colab_type": "text",
    "id": "3oyv-qIJJQDs"
   },
   "source": [
    "## 5.3 Home advantage\n",
    "\n",
    "**NOTE:** \n",
    "\n",
    "**1.** We are excluding results of 2009 season as 2009 IPL is not conducted in india(so, no concept of home advantage)\n",
    "\n",
    "**2.** We can observe that **team1 home ground is always venue of the match**."
   ]
  },
  {
   "cell_type": "markdown",
   "metadata": {
    "colab_type": "text",
    "id": "vQzRvNeFNlkW"
   },
   "source": [
    "### 5.3.1 Do teams take home advantage(over-all)?"
   ]
  },
  {
   "cell_type": "code",
   "execution_count": null,
   "metadata": {
    "colab": {
     "base_uri": "https://localhost:8080/",
     "height": 51
    },
    "colab_type": "code",
    "id": "8VcwThf4PN1t",
    "outputId": "05d0d03f-b665-4b1b-d82c-d9ae25eb3ece"
   },
   "outputs": [],
   "source": [
    "total_no_of_matches = df_ipl_data[(df_ipl_data['season'] != 2009)]['id'].count()\n",
    "\n",
    "print('Numbers of matches played in india(over-all):')\n",
    "print(total_no_of_matches)"
   ]
  },
  {
   "cell_type": "code",
   "execution_count": null,
   "metadata": {
    "colab": {
     "base_uri": "https://localhost:8080/",
     "height": 51
    },
    "colab_type": "code",
    "id": "f_6B6cbXNrmB",
    "outputId": "0b64e8d2-ab25-4c8a-da55-1f853998a9c2"
   },
   "outputs": [],
   "source": [
    "win_home_team = df_ipl_data[((df_ipl_data['winner']== df_ipl_data['team1']) & (df_ipl_data['season'] != 2009))]['winner'].count()\n",
    "\n",
    "print('Numbers of matches won by home team(over-all):')\n",
    "print(win_home_team)"
   ]
  },
  {
   "cell_type": "code",
   "execution_count": null,
   "metadata": {
    "colab": {
     "base_uri": "https://localhost:8080/",
     "height": 51
    },
    "colab_type": "code",
    "id": "GdkZvLAONrO0",
    "outputId": "01f6dfcd-9422-4233-f7d1-c70c680b5b33"
   },
   "outputs": [],
   "source": [
    "win_visiting_team= df_ipl_data[((df_ipl_data['winner']!= df_ipl_data['team1']) & (df_ipl_data['season'] != 2009))]['winner'].count()\n",
    "\n",
    "print('Numbers of matches won by visiting team(over-all):')\n",
    "print(win_visiting_team)"
   ]
  },
  {
   "cell_type": "markdown",
   "metadata": {
    "colab_type": "text",
    "id": "FGS3Q802O525"
   },
   "source": [
    "**Observations:**\n",
    "\n",
    "**1.** We can clearly observe that teams are failing to take home advantage.\n",
    "\n",
    "**2.** Only **44.6%** matches are won by home team."
   ]
  },
  {
   "cell_type": "markdown",
   "metadata": {
    "colab_type": "text",
    "id": "ZDVuj9Mgf8aH"
   },
   "source": [
    "### 5.3.2 Do teams take home advantage(season-wise)?"
   ]
  },
  {
   "cell_type": "code",
   "execution_count": null,
   "metadata": {
    "colab": {
     "base_uri": "https://localhost:8080/",
     "height": 221
    },
    "colab_type": "code",
    "id": "Xk3Ri4sJg9Ed",
    "outputId": "a6396505-41b3-4ec6-a811-a0613f58da3b"
   },
   "outputs": [],
   "source": [
    "win_home_team = df_ipl_data[((df_ipl_data['winner']== df_ipl_data['team1']) & (df_ipl_data['season'] != 2009))]['season'].value_counts(sort=False)\n",
    "\n",
    "print('Numbers of matches won by home team(season-wise):')\n",
    "print(win_home_team)"
   ]
  },
  {
   "cell_type": "code",
   "execution_count": null,
   "metadata": {
    "colab": {
     "base_uri": "https://localhost:8080/",
     "height": 221
    },
    "colab_type": "code",
    "id": "xgKCrIfuhBfw",
    "outputId": "fbad235c-35a9-4945-a849-ebde1afbe1a1"
   },
   "outputs": [],
   "source": [
    "win_visiting_team = df_ipl_data[(df_ipl_data['winner'] != df_ipl_data['team1']) & (df_ipl_data['season'] != 2009)]['season'].value_counts(sort=False)\n",
    "print('Numbers of matches won by visiting team(over-all):')\n",
    "print(win_visiting_team)"
   ]
  },
  {
   "cell_type": "code",
   "execution_count": null,
   "metadata": {
    "colab": {
     "base_uri": "https://localhost:8080/",
     "height": 461
    },
    "colab_type": "code",
    "id": "KjpTdctMaVM8",
    "outputId": "f52c36ef-ead9-4ece-a37f-838658d36990"
   },
   "outputs": [],
   "source": [
    "df = pd.DataFrame({'win': df_ipl_data[((df_ipl_data['winner']== df_ipl_data['team1']) & (df_ipl_data['season'] != 2009))]['season'].value_counts(sort=False),\n",
    "                   'loss': df_ipl_data[(df_ipl_data['winner'] != df_ipl_data['team1']) & (df_ipl_data['season'] != 2009)]['season'].value_counts(sort=False)}) \n",
    "df.plot.bar(rot=0,figsize=(15, 7))"
   ]
  },
  {
   "cell_type": "markdown",
   "metadata": {
    "colab_type": "text",
    "id": "J6xsOyC1RM9h"
   },
   "source": [
    "**Observations:**\n",
    "\n",
    "Only in **2 out of 11 seasons**, home team could exploit its home conditions"
   ]
  },
  {
   "cell_type": "markdown",
   "metadata": {
    "colab_type": "text",
    "id": "qmIpu011hoPG"
   },
   "source": [
    "### 5.3.3 Do teams take home advantage(team-wise)?"
   ]
  },
  {
   "cell_type": "code",
   "execution_count": null,
   "metadata": {
    "colab": {
     "base_uri": "https://localhost:8080/",
     "height": 272
    },
    "colab_type": "code",
    "id": "xgFcxnikhwDr",
    "outputId": "9e02d607-fb46-486f-e6e6-dc2d51ef1d42"
   },
   "outputs": [],
   "source": [
    "win_home_team = df_ipl_data[((df_ipl_data['winner']== df_ipl_data['team1']) & (df_ipl_data['season'] != 2009))]['team1'].value_counts(sort=False)\n",
    "print('Numbers of matches won by home team(team-wise):')\n",
    "print(win_home_team)"
   ]
  },
  {
   "cell_type": "code",
   "execution_count": null,
   "metadata": {
    "colab": {
     "base_uri": "https://localhost:8080/",
     "height": 289
    },
    "colab_type": "code",
    "id": "ocYT_itDhvxo",
    "outputId": "fc1da144-5575-40e2-9f3f-91e83305350c"
   },
   "outputs": [],
   "source": [
    "win_visiting_team = df_ipl_data[(df_ipl_data['winner'] != df_ipl_data['team1']) & (df_ipl_data['season'] != 2009)]['team1'].value_counts(sort=False)\n",
    "print('Numbers of matches won by visiting team(over-all):')\n",
    "print(win_visiting_team)\n"
   ]
  },
  {
   "cell_type": "code",
   "execution_count": null,
   "metadata": {
    "colab": {
     "base_uri": "https://localhost:8080/",
     "height": 481
    },
    "colab_type": "code",
    "id": "hLEbjOSugKBJ",
    "outputId": "eb25d9af-408c-493d-be81-ac25b91594a3"
   },
   "outputs": [],
   "source": [
    "df = pd.DataFrame({'Home Wins': df_ipl_data[((df_ipl_data['winner']== df_ipl_data['team1']) & (df_ipl_data['season'] != 2009))]['team1'].value_counts(sort=False),\n",
    "                   'Away Wins': df_ipl_data[(df_ipl_data['winner'] != df_ipl_data['team1']) & (df_ipl_data['season'] != 2009)]['team1'].value_counts(sort=False)}) \n",
    "df.plot.bar(rot=0,figsize=(32, 7))"
   ]
  },
  {
   "cell_type": "markdown",
   "metadata": {
    "colab_type": "text",
    "id": "SFNrHFzeWoDd"
   },
   "source": [
    "**Observations:**\n",
    "\n",
    "**1.** Only **Chennai Super Kings, Mumbai Indians and Sunrisers Hyderabad** are using home conditions to their advantage."
   ]
  },
  {
   "cell_type": "markdown",
   "metadata": {
    "colab_type": "text",
    "id": "V7G4QdNaXbcx"
   },
   "source": [
    "## 5.4 Duckworth-lewis impact"
   ]
  },
  {
   "cell_type": "markdown",
   "metadata": {
    "colab_type": "text",
    "id": "K1yIs--Q7y34"
   },
   "source": [
    "### 5.4.1 How Duckworth-lewis affected teams(over-all)?"
   ]
  },
  {
   "cell_type": "markdown",
   "metadata": {
    "colab_type": "text",
    "id": "ouOjYohy8E3V"
   },
   "source": [
    "**In how many matches DLS is applied?**"
   ]
  },
  {
   "cell_type": "code",
   "execution_count": null,
   "metadata": {
    "colab": {
     "base_uri": "https://localhost:8080/",
     "height": 34
    },
    "colab_type": "code",
    "id": "pkawFl6zjX_8",
    "outputId": "4deffb61-d222-4265-f4dd-3a240757f3a1"
   },
   "outputs": [],
   "source": [
    "df_ipl_data[df_ipl_data['dl_applied'] == 1]['id'].count()"
   ]
  },
  {
   "cell_type": "markdown",
   "metadata": {
    "colab_type": "text",
    "id": "zSnX4tOlYxpQ"
   },
   "source": [
    "**In how many many matches team batting first won?**"
   ]
  },
  {
   "cell_type": "code",
   "execution_count": null,
   "metadata": {
    "colab": {
     "base_uri": "https://localhost:8080/",
     "height": 34
    },
    "colab_type": "code",
    "id": "9sJMdnWE8Vp6",
    "outputId": "944fd6db-61a5-4faa-df83-e200c92b4254"
   },
   "outputs": [],
   "source": [
    "df_ipl_data[\n",
    "(\n",
    "  (df_ipl_data['team1'] != df_ipl_data['toss_winner']) & (df_ipl_data['toss_decision'] == 'field') | \n",
    "  (df_ipl_data['team1'] == df_ipl_data['toss_winner']) & (df_ipl_data['toss_decision'] == 'bat')\n",
    ") & \n",
    "(df_ipl_data['dl_applied'] == 1)\n",
    "]['winner'].count()"
   ]
  },
  {
   "cell_type": "markdown",
   "metadata": {
    "colab_type": "text",
    "id": "89H6VbglZDHN"
   },
   "source": [
    "**In how many many matches team batting second won?**"
   ]
  },
  {
   "cell_type": "code",
   "execution_count": null,
   "metadata": {
    "colab": {
     "base_uri": "https://localhost:8080/",
     "height": 34
    },
    "colab_type": "code",
    "id": "vYWPw2H68VaS",
    "outputId": "08f3abb3-a9ab-4837-8d2e-169451baeb0f"
   },
   "outputs": [],
   "source": [
    "df_ipl_data[\n",
    "(\n",
    "\t(df_ipl_data['team1'] == df_ipl_data['toss_winner']) & (df_ipl_data['toss_decision'] == 'field') | \n",
    "\t(df_ipl_data['team1'] != df_ipl_data['toss_winner']) & (df_ipl_data['toss_decision'] == 'bat')\n",
    ") & \n",
    "\t( df_ipl_data['dl_applied'] == 1)\n",
    "]['winner'].count()"
   ]
  },
  {
   "cell_type": "code",
   "execution_count": 11,
   "metadata": {
    "colab": {
     "base_uri": "https://localhost:8080/",
     "height": 481
    },
    "colab_type": "code",
    "id": "AmBiHW1oODL6",
    "outputId": "de4ed37a-a4d5-456f-ab3a-a85603de3c89"
   },
   "outputs": [
    {
     "data": {
      "text/plain": [
       "<matplotlib.axes._subplots.AxesSubplot at 0x7f9c7b2167f0>"
      ]
     },
     "execution_count": 11,
     "metadata": {},
     "output_type": "execute_result"
    },
    {
     "data": {
      "image/png": "[encoded data removed]",
      "text/plain": [
       "<Figure size 1800x504 with 1 Axes>"
      ]
     },
     "metadata": {
      "needs_background": "light"
     },
     "output_type": "display_data"
    }
   ],
   "source": [
    "df = pd.DataFrame({\n",
    "    'Batting First': df_ipl_data[\n",
    "(\n",
    "  (df_ipl_data['team1'] != df_ipl_data['toss_winner']) & (df_ipl_data['toss_decision'] == 'field') | \n",
    "  (df_ipl_data['team1'] == df_ipl_data['toss_winner']) & (df_ipl_data['toss_decision'] == 'bat')\n",
    ") & \n",
    "(df_ipl_data['dl_applied'] == 1)\n",
    "]['winner'].value_counts(sort=False),\n",
    "    \n",
    "    'Fielding First': df_ipl_data[\n",
    "(\n",
    "\t(df_ipl_data['team1'] == df_ipl_data['toss_winner']) & (df_ipl_data['toss_decision'] == 'field') | \n",
    "\t(df_ipl_data['team1'] != df_ipl_data['toss_winner']) & (df_ipl_data['toss_decision'] == 'bat')\n",
    ") & \n",
    "\t( df_ipl_data['dl_applied'] == 1)\n",
    "]['winner'].value_counts(sort=False)\n",
    "\n",
    "                 }) \n",
    "df.plot.bar(rot=0,figsize=(25,7))"
   ]
  },
  {
   "cell_type": "markdown",
   "metadata": {
    "colab_type": "text",
    "id": "O2xZajuH9Dlt"
   },
   "source": [
    "**Observation:**\n",
    "\n",
    "We can observed **team batting first always won** when DLS is applied."
   ]
  },
  {
   "cell_type": "markdown",
   "metadata": {
    "colab_type": "text",
    "id": "XxsLlM7naS3f"
   },
   "source": [
    "## 5.5 Man Of Match Awards"
   ]
  },
  {
   "cell_type": "markdown",
   "metadata": {
    "colab_type": "text",
    "id": "untFRQ-TMIOx"
   },
   "source": [
    "### 5.5.1 Top 10 players with most Man Of The Match Awards(over-all)."
   ]
  },
  {
   "cell_type": "code",
   "execution_count": null,
   "metadata": {
    "colab": {
     "base_uri": "https://localhost:8080/",
     "height": 204
    },
    "colab_type": "code",
    "id": "J58n9zqP9vAe",
    "outputId": "2b5aa16b-0113-4592-9049-d7e6d0e9625e"
   },
   "outputs": [],
   "source": [
    "df_ipl_data['player_of_match'].value_counts().head(10)"
   ]
  },
  {
   "cell_type": "code",
   "execution_count": null,
   "metadata": {
    "colab": {
     "base_uri": "https://localhost:8080/",
     "height": 481
    },
    "colab_type": "code",
    "id": "9qmiGHzcOUjg",
    "outputId": "a8192304-45ff-45ae-9279-843cc0889048"
   },
   "outputs": [],
   "source": [
    "df = pd.DataFrame({'MOM Awards': df_ipl_data['player_of_match'].value_counts().head(20)}) \n",
    "df.plot.bar(rot=0,figsize=(25,7))"
   ]
  },
  {
   "cell_type": "markdown",
   "metadata": {
    "colab_type": "text",
    "id": "myQtMRihxfGX"
   },
   "source": [
    "### 5.5.2 Player with most Man Of Match Awards in one season"
   ]
  },
  {
   "cell_type": "markdown",
   "metadata": {
    "colab_type": "text",
    "id": "ysDuO_b8bpzW"
   },
   "source": [
    "#### 2008 - 2013"
   ]
  },
  {
   "cell_type": "code",
   "execution_count": 12,
   "metadata": {
    "colab": {
     "base_uri": "https://localhost:8080/",
     "height": 515
    },
    "colab_type": "code",
    "id": "wAY7IQZfbC1x",
    "outputId": "3331ca2e-63d6-4b01-fafb-1438b9432715"
   },
   "outputs": [
    {
     "data": {
      "text/plain": [
       "<matplotlib.legend.Legend at 0x7f9c7b3f6898>"
      ]
     },
     "execution_count": 12,
     "metadata": {},
     "output_type": "execute_result"
    },
    {
     "data": {
      "image/png": "[encoded data removed]",
      "text/plain": [
       "<Figure size 1800x523.44 with 1 Axes>"
      ]
     },
     "metadata": {
      "needs_background": "light"
     },
     "output_type": "display_data"
    }
   ],
   "source": [
    "fig, ax = plt.subplots()\n",
    "fig.set_size_inches(25, 7.27)\n",
    "sns.countplot(x='season',data=df_ipl_data,hue='player_of_match',palette='CMRmap', \n",
    "              order=df_ipl_data.season.value_counts(sort=False).iloc[0:6].index, \n",
    "              hue_order=df_ipl_data.player_of_match.value_counts(sort=True, ascending=False).iloc[:10].index)\n",
    "\n",
    "# To relocate the legend\n",
    "plt.legend(bbox_to_anchor=(1.05, 1), loc=2, borderaxespad=0.)"
   ]
  },
  {
   "cell_type": "markdown",
   "metadata": {
    "colab_type": "text",
    "id": "GyFkPQNCb9pU"
   },
   "source": [
    "#### 2014 - 2018"
   ]
  },
  {
   "cell_type": "code",
   "execution_count": 13,
   "metadata": {
    "colab": {
     "base_uri": "https://localhost:8080/",
     "height": 515
    },
    "colab_type": "code",
    "id": "XY6ARQKO5EfU",
    "outputId": "378b18e8-700e-4980-9e11-35edd0eb63c0"
   },
   "outputs": [
    {
     "data": {
      "text/plain": [
       "<matplotlib.legend.Legend at 0x7f9c7b375160>"
      ]
     },
     "execution_count": 13,
     "metadata": {},
     "output_type": "execute_result"
    },
    {
     "data": {
      "image/png": "[encoded data removed]",
      "text/plain": [
       "<Figure size 1800x523.44 with 1 Axes>"
      ]
     },
     "metadata": {
      "needs_background": "light"
     },
     "output_type": "display_data"
    }
   ],
   "source": [
    "fig, ax = plt.subplots()\n",
    "fig.set_size_inches(25, 7.27)\n",
    "sns.countplot(x='season',data=df_ipl_data,hue='player_of_match',palette='CMRmap', \n",
    "              order=df_ipl_data.season.value_counts(sort=False).iloc[6:11].index, \n",
    "              hue_order=df_ipl_data.player_of_match.value_counts(sort=True, ascending=False).iloc[:10].index)\n",
    "\n",
    "# To relocate the legend\n",
    "plt.legend(bbox_to_anchor=(1.05, 1), loc=2, borderaxespad=0.)"
   ]
  },
  {
   "cell_type": "code",
   "execution_count": null,
   "metadata": {
    "colab": {
     "base_uri": "https://localhost:8080/",
     "height": 1000
    },
    "colab_type": "code",
    "id": "Q_l_YVyJ7FPB",
    "outputId": "3fae26ea-f94b-4095-dc9d-6e1b5588a3aa"
   },
   "outputs": [],
   "source": [
    "df_ipl_data.groupby('season')['player_of_match'].value_counts()"
   ]
  },
  {
   "cell_type": "markdown",
   "metadata": {
    "colab_type": "text",
    "id": "HqT57DL6PNux"
   },
   "source": [
    "## 5.6  At particular venue should we bat or bowl after winning toss?"
   ]
  },
  {
   "cell_type": "code",
   "execution_count": 14,
   "metadata": {
    "colab": {
     "base_uri": "https://localhost:8080/",
     "height": 425
    },
    "colab_type": "code",
    "id": "ghHfUR6sL7hQ",
    "outputId": "f0b812fa-7bb0-4ff5-bbbe-135119c15712"
   },
   "outputs": [
    {
     "data": {
      "text/plain": [
       "Mumbai           46\n",
       "Delhi            33\n",
       "Chennai          30\n",
       "Bengaluru        30\n",
       "Kolkata          29\n",
       "Hyderabad        23\n",
       "Pune             18\n",
       "Chandigarh       15\n",
       "Jaipur           14\n",
       "Visakhapatnam    7 \n",
       "Chandigarh       7 \n",
       "Ahmedabad        6 \n",
       "Dharamsala       5 \n",
       "Cuttack          4 \n",
       "Dubai            3 \n",
       "Kochi            3 \n",
       "Abu Dhabi        3 \n",
       "Rajkot           3 \n",
       "Sharjah          2 \n",
       "Ranchi           2 \n",
       "Nagpur           2 \n",
       "Raipur           2 \n",
       "Indore           1 \n",
       "Name: city, dtype: int64"
      ]
     },
     "execution_count": 14,
     "metadata": {},
     "output_type": "execute_result"
    }
   ],
   "source": [
    "df_ipl_data[(df_ipl_data['win_by_runs'] > 0) & (df_ipl_data['season'] != 2009)]['city'].value_counts()"
   ]
  },
  {
   "cell_type": "code",
   "execution_count": 15,
   "metadata": {
    "colab": {
     "base_uri": "https://localhost:8080/",
     "height": 442
    },
    "colab_type": "code",
    "id": "v2dSkIbKNLVp",
    "outputId": "8b1db19f-632d-4403-c725-c83c42488430"
   },
   "outputs": [
    {
     "data": {
      "text/plain": [
       "Mumbai           48\n",
       "Kolkata          41\n",
       "Bengaluru        40\n",
       "Delhi            33\n",
       "Hyderabad        32\n",
       "Jaipur           26\n",
       "Chandigarh       20\n",
       "Pune             20\n",
       "Chennai          18\n",
       "Indore           8 \n",
       "Chandigarh       7 \n",
       "Rajkot           6 \n",
       "Ranchi           5 \n",
       "Ahmedabad        5 \n",
       "Kanpur           4 \n",
       "Raipur           4 \n",
       "Dharamsala       4 \n",
       "Sharjah          4 \n",
       "Visakhapatnam    4 \n",
       "Dubai            4 \n",
       "Cuttack          3 \n",
       "Abu Dhabi        3 \n",
       "Kochi            2 \n",
       "Nagpur           1 \n",
       "Name: city, dtype: int64"
      ]
     },
     "execution_count": 15,
     "metadata": {},
     "output_type": "execute_result"
    }
   ],
   "source": [
    "df_ipl_data[(df_ipl_data['win_by_wickets'] > 0) & (df_ipl_data['season'] != 2009)]['city'].value_counts()"
   ]
  },
  {
   "cell_type": "code",
   "execution_count": 16,
   "metadata": {
    "colab": {
     "base_uri": "https://localhost:8080/",
     "height": 481
    },
    "colab_type": "code",
    "id": "Pcr7i79jOrv8",
    "outputId": "c5d4624f-4f67-4697-f382-09bfc989c3d9"
   },
   "outputs": [
    {
     "data": {
      "text/plain": [
       "<matplotlib.axes._subplots.AxesSubplot at 0x7f9c7b020ac8>"
      ]
     },
     "execution_count": 16,
     "metadata": {},
     "output_type": "execute_result"
    },
    {
     "data": {
      "image/png": "[encoded data removed]",
      "text/plain": [
       "<Figure size 2520x504 with 1 Axes>"
      ]
     },
     "metadata": {
      "needs_background": "light"
     },
     "output_type": "display_data"
    }
   ],
   "source": [
    "df = pd.DataFrame({'Batting First': df_ipl_data[(df_ipl_data['win_by_runs'] > 0) & (df_ipl_data['season'] != 2009)]['city'].value_counts(sort=False),\n",
    "                   'Fielding First': df_ipl_data[(df_ipl_data['win_by_wickets'] > 0) & (df_ipl_data['season'] != 2009)]['city'].value_counts(sort=False)}) \n",
    "df.plot.bar(rot=0,figsize=(35, 7))"
   ]
  },
  {
   "cell_type": "markdown",
   "metadata": {
    "colab_type": "text",
    "id": "4FsRxedAfgNz"
   },
   "source": [
    "**Observations:**\n",
    "\n",
    "Only 7 out of 19 cities favour batting first."
   ]
  },
  {
   "cell_type": "markdown",
   "metadata": {
    "colab_type": "text",
    "id": "GSVxRDRVqUFq"
   },
   "source": [
    "## 5.7 Which city is favouring which team?"
   ]
  },
  {
   "cell_type": "code",
   "execution_count": 17,
   "metadata": {
    "colab": {
     "base_uri": "https://localhost:8080/",
     "height": 629
    },
    "colab_type": "code",
    "id": "OEnuoqUae5ON",
    "outputId": "37016f1b-0b58-4ad1-e605-e11c725bf03b"
   },
   "outputs": [
    {
     "data": {
      "text/plain": [
       "{'Hyderabad': ['Sunrisers Hyderabad'],\n",
       " 'Pune': ['Chennai Super Kings', 'Kolkata Knight Riders'],\n",
       " 'Rajkot': ['Gujarat Lions'],\n",
       " 'Indore': ['Kings XI Punjab'],\n",
       " 'Bengaluru': ['Royal Challengers Bangalore'],\n",
       " 'Mumbai': ['Mumbai Indians'],\n",
       " 'Kolkata': ['Kolkata Knight Riders'],\n",
       " 'Delhi': ['Delhi Daredevils'],\n",
       " 'Chandigarh': ['Kings XI Punjab'],\n",
       " 'Kanpur': ['Gujarat Lions'],\n",
       " 'Chandigarh ': ['Kings XI Punjab'],\n",
       " 'Jaipur': ['Rajasthan Royals'],\n",
       " 'Chennai': ['Chennai Super Kings'],\n",
       " 'Cape Town': ['Deccan Chargers'],\n",
       " 'Port Elizabeth': ['Chennai Super Kings', 'Mumbai Indians'],\n",
       " 'Durban': ['Delhi Daredevils', 'Royal Challengers Bangalore'],\n",
       " 'Centurion': ['Chennai Super Kings',\n",
       "  'Deccan Chargers',\n",
       "  'Delhi Daredevils',\n",
       "  'Rajasthan Royals',\n",
       "  'Royal Challengers Bangalore'],\n",
       " 'East London': ['Chennai Super Kings', 'Delhi Daredevils', 'Mumbai Indians'],\n",
       " 'Johannesburg': ['Royal Challengers Bangalore'],\n",
       " 'Kimberley': ['Chennai Super Kings', 'Deccan Chargers', 'Kings XI Punjab'],\n",
       " 'Bloemfontein': ['Delhi Daredevils', 'Kings XI Punjab'],\n",
       " 'Ahmedabad': ['Rajasthan Royals'],\n",
       " 'Cuttack': ['Deccan Chargers', 'Kolkata Knight Riders'],\n",
       " 'Nagpur': ['Deccan Chargers'],\n",
       " 'Dharamsala': ['Kings XI Punjab'],\n",
       " 'Kochi': ['Kochi Tuskers Kerala'],\n",
       " 'Visakhapatnam': ['Sunrisers Hyderabad'],\n",
       " 'Raipur': ['Delhi Daredevils'],\n",
       " 'Ranchi': ['Chennai Super Kings'],\n",
       " 'Abu Dhabi': ['Rajasthan Royals'],\n",
       " 'Sharjah': ['Kings XI Punjab'],\n",
       " 'Dubai': ['Chennai Super Kings', 'Sunrisers Hyderabad']}"
      ]
     },
     "execution_count": 17,
     "metadata": {},
     "output_type": "execute_result"
    }
   ],
   "source": [
    "cities = df_ipl_data['city'].unique()\n",
    "city_team_map = {}\n",
    "for c in cities:\n",
    "  team_modes = df_ipl_data[df_ipl_data['city'] == c]['winner'].mode()\n",
    "  teams = list()\n",
    "  for i in range(0,len(team_modes)):\n",
    "    teams.append(team_modes[i])\n",
    "  \n",
    "  city_team_map[c] = teams\n",
    "  \n",
    "city_team_map"
   ]
  },
  {
   "cell_type": "code",
   "execution_count": 18,
   "metadata": {
    "colab": {
     "base_uri": "https://localhost:8080/",
     "height": 1000
    },
    "colab_type": "code",
    "id": "MpfJiJ1_SuqT",
    "outputId": "25339cb5-54ad-447a-c076-d08f57f5df30"
   },
   "outputs": [
    {
     "data": {
      "text/plain": [
       "city           winner                 \n",
       "Abu Dhabi      Rajasthan Royals           3\n",
       "               Kings XI Punjab            2\n",
       "               Chennai Super Kings        1\n",
       "               Kolkata Knight Riders      1\n",
       "Ahmedabad      Rajasthan Royals           7\n",
       "                                         ..\n",
       "Visakhapatnam  Rising Pune Supergiants    2\n",
       "               Chennai Super Kings        1\n",
       "               Delhi Daredevils           1\n",
       "               Kings XI Punjab            1\n",
       "               Rajasthan Royals           1\n",
       "Name: winner, Length: 205, dtype: int64"
      ]
     },
     "execution_count": 18,
     "metadata": {},
     "output_type": "execute_result"
    }
   ],
   "source": [
    "df_ipl_data.groupby('city')['winner'].value_counts()"
   ]
  },
  {
   "cell_type": "code",
   "execution_count": 19,
   "metadata": {
    "colab": {
     "base_uri": "https://localhost:8080/",
     "height": 515
    },
    "colab_type": "code",
    "id": "LOGNNp76Jt9n",
    "outputId": "3a989a67-61d7-4b92-c5cc-8af2ed9dbe3a"
   },
   "outputs": [
    {
     "data": {
      "text/plain": [
       "<matplotlib.legend.Legend at 0x7f9c7ae8d0f0>"
      ]
     },
     "execution_count": 19,
     "metadata": {},
     "output_type": "execute_result"
    },
    {
     "data": {
      "image/png": "[encoded data removed]",
      "text/plain": [
       "<Figure size 1800x523.44 with 1 Axes>"
      ]
     },
     "metadata": {
      "needs_background": "light"
     },
     "output_type": "display_data"
    }
   ],
   "source": [
    "fig, ax = plt.subplots()\n",
    "fig.set_size_inches(25, 7.27)\n",
    "sns.countplot(x='city',data=df_ipl_data[df_ipl_data['season'] != 2009],hue='winner',palette='CMRmap', \n",
    "              order=df_ipl_data.city.value_counts(sort=True).iloc[:6].index, \n",
    "              hue_order=df_ipl_data.team1.value_counts(sort=False, ascending=False).iloc[:14].index)\n",
    "\n",
    "# To relocate the legend\n",
    "plt.legend(bbox_to_anchor=(1.05, 1), loc=2, borderaxespad=0.)\n"
   ]
  },
  {
   "cell_type": "code",
   "execution_count": 20,
   "metadata": {
    "colab": {
     "base_uri": "https://localhost:8080/",
     "height": 515
    },
    "colab_type": "code",
    "id": "7eMTwVC1LtB_",
    "outputId": "725ed343-42e2-4391-8d89-da187cf77e55"
   },
   "outputs": [
    {
     "data": {
      "text/plain": [
       "<matplotlib.legend.Legend at 0x7f9c7ad51860>"
      ]
     },
     "execution_count": 20,
     "metadata": {},
     "output_type": "execute_result"
    },
    {
     "data": {
      "image/png": "[encoded data removed]",
      "text/plain": [
       "<Figure size 1800x523.44 with 1 Axes>"
      ]
     },
     "metadata": {
      "needs_background": "light"
     },
     "output_type": "display_data"
    }
   ],
   "source": [
    "fig, ax = plt.subplots()\n",
    "fig.set_size_inches(25, 7.27)\n",
    "sns.countplot(x='city',data=df_ipl_data[df_ipl_data['season'] != 2009],hue='winner',palette='CMRmap', \n",
    "              order=df_ipl_data.city.value_counts(sort=True).iloc[7:12].index, \n",
    "              hue_order=df_ipl_data.team1.value_counts(sort=False, ascending=False).iloc[:14].index)\n",
    "\n",
    "# To relocate the legend\n",
    "plt.legend(bbox_to_anchor=(1.05, 1), loc=2, borderaxespad=0.)"
   ]
  },
  {
   "cell_type": "code",
   "execution_count": 21,
   "metadata": {
    "colab": {
     "base_uri": "https://localhost:8080/",
     "height": 515
    },
    "colab_type": "code",
    "id": "VIOn0Fmxk3kf",
    "outputId": "19f5f846-5135-4404-a021-54d140030e98"
   },
   "outputs": [
    {
     "data": {
      "text/plain": [
       "<matplotlib.legend.Legend at 0x7f9c791baef0>"
      ]
     },
     "execution_count": 21,
     "metadata": {},
     "output_type": "execute_result"
    },
    {
     "data": {
      "image/png": "[encoded data removed]",
      "text/plain": [
       "<Figure size 1800x523.44 with 1 Axes>"
      ]
     },
     "metadata": {
      "needs_background": "light"
     },
     "output_type": "display_data"
    }
   ],
   "source": [
    "fig, ax = plt.subplots()\n",
    "fig.set_size_inches(25, 7.27)\n",
    "sns.countplot(x='city',data=df_ipl_data[df_ipl_data['season'] != 2009],hue='winner',palette='CMRmap', \n",
    "              order=df_ipl_data.city.value_counts(sort=True).iloc[13:18].index, \n",
    "              hue_order=df_ipl_data.team1.value_counts(sort=False, ascending=False).iloc[:].index)\n",
    "\n",
    "# To relocate the legend\n",
    "plt.legend(bbox_to_anchor=(1.05, 1), loc=2, borderaxespad=0.)"
   ]
  },
  {
   "cell_type": "markdown",
   "metadata": {
    "colab_type": "text",
    "id": "FYiewWby6j3O"
   },
   "source": [
    "## 5.8 How each team is performing against its opponents?"
   ]
  },
  {
   "cell_type": "code",
   "execution_count": 22,
   "metadata": {
    "colab": {
     "base_uri": "https://localhost:8080/",
     "height": 1000
    },
    "colab_type": "code",
    "id": "AXuIBhe7lB3R",
    "outputId": "aed37256-330b-4cbe-c228-645724b763a3"
   },
   "outputs": [
    {
     "data": {
      "text/plain": [
       "team1                team2                        winner                     \n",
       "Chennai Super Kings  Deccan Chargers              Chennai Super Kings            5\n",
       "                                                  Deccan Chargers                3\n",
       "                     Delhi Daredevils             Chennai Super Kings            8\n",
       "                                                  Delhi Daredevils               4\n",
       "                     Kings XI Punjab              Chennai Super Kings            6\n",
       "                                                                                ..\n",
       "Sunrisers Hyderabad  Rising Pune Supergiant       Rising Pune Supergiant         1\n",
       "                     Rising Pune Supergiants      Rising Pune Supergiants        1\n",
       "                                                  Sunrisers Hyderabad            1\n",
       "                     Royal Challengers Bangalore  Sunrisers Hyderabad            4\n",
       "                                                  Royal Challengers Bangalore    3\n",
       "Name: winner, Length: 209, dtype: int64"
      ]
     },
     "execution_count": 22,
     "metadata": {},
     "output_type": "execute_result"
    }
   ],
   "source": [
    "df_ipl_data.groupby(['team1','team2'])['winner'].value_counts()"
   ]
  },
  {
   "cell_type": "markdown",
   "metadata": {
    "colab_type": "text",
    "id": "0BNsdlRU65r-"
   },
   "source": [
    "## 5.9 WIN VS LOSS ?"
   ]
  },
  {
   "cell_type": "code",
   "execution_count": 23,
   "metadata": {
    "colab": {
     "base_uri": "https://localhost:8080/",
     "height": 34
    },
    "colab_type": "code",
    "id": "YxiFbAsi7Dn8",
    "outputId": "f86a6213-0749-4b84-dba9-a9908898e16f"
   },
   "outputs": [
    {
     "data": {
      "text/plain": [
       "693"
      ]
     },
     "execution_count": 23,
     "metadata": {},
     "output_type": "execute_result"
    }
   ],
   "source": [
    "df_ipl_data['winner'].count()"
   ]
  },
  {
   "cell_type": "code",
   "execution_count": 24,
   "metadata": {
    "colab": {},
    "colab_type": "code",
    "id": "8_YNMif5gTFJ"
   },
   "outputs": [],
   "source": [
    "#forming new column 'loser' from team1,team2,loser\n",
    "\n",
    "def extractLoser(a):\n",
    "  if a['winner'] == a['team1']:\n",
    "    return a['team2']\n",
    "  elif a['winner'] == a['team2']:\n",
    "    return a['team1']\n",
    "\n",
    "df_ipl_data['loser'] = df_ipl_data.apply(extractLoser,axis=1)"
   ]
  },
  {
   "cell_type": "code",
   "execution_count": 25,
   "metadata": {
    "colab": {
     "base_uri": "https://localhost:8080/",
     "height": 34
    },
    "colab_type": "code",
    "id": "sBdQPoynmJMp",
    "outputId": "2be7e313-c97f-4004-f0a7-601210fdca7a"
   },
   "outputs": [
    {
     "data": {
      "text/plain": [
       "693"
      ]
     },
     "execution_count": 25,
     "metadata": {},
     "output_type": "execute_result"
    }
   ],
   "source": [
    "df_ipl_data['loser'].count()"
   ]
  },
  {
   "cell_type": "markdown",
   "metadata": {
    "colab_type": "text",
    "id": "wXPdx4bCwnRH"
   },
   "source": [
    "### 5.9.1 Team - Wise"
   ]
  },
  {
   "cell_type": "code",
   "execution_count": 26,
   "metadata": {
    "colab": {
     "base_uri": "https://localhost:8080/",
     "height": 272
    },
    "colab_type": "code",
    "id": "OVd9l8HAnTQa",
    "outputId": "b04fe364-57f0-45c8-d25a-48f3ea7054c5"
   },
   "outputs": [
    {
     "data": {
      "text/plain": [
       "Mumbai Indians                 98\n",
       "Chennai Super Kings            90\n",
       "Kolkata Knight Riders          86\n",
       "Royal Challengers Bangalore    79\n",
       "Kings XI Punjab                76\n",
       "Rajasthan Royals               70\n",
       "Delhi Daredevils               67\n",
       "Sunrisers Hyderabad            52\n",
       "Deccan Chargers                29\n",
       "Gujarat Lions                  13\n",
       "Pune Warriors                  12\n",
       "Rising Pune Supergiant         10\n",
       "Kochi Tuskers Kerala           6 \n",
       "Rising Pune Supergiants        5 \n",
       "Name: winner, dtype: int64"
      ]
     },
     "execution_count": 26,
     "metadata": {},
     "output_type": "execute_result"
    }
   ],
   "source": [
    "df_ipl_data['winner'].value_counts()"
   ]
  },
  {
   "cell_type": "markdown",
   "metadata": {},
   "source": [
    "**Observation:**\n",
    " \n",
    " We have 3 matches that has no result"
   ]
  },
  {
   "cell_type": "code",
   "execution_count": 27,
   "metadata": {
    "colab": {
     "base_uri": "https://localhost:8080/",
     "height": 272
    },
    "colab_type": "code",
    "id": "Dho6LAAtnfis",
    "outputId": "fee878d2-53e9-4183-f188-e33b10f87a90"
   },
   "outputs": [
    {
     "data": {
      "text/plain": [
       "Delhi Daredevils               92\n",
       "Kings XI Punjab                86\n",
       "Royal Challengers Bangalore    85\n",
       "Kolkata Knight Riders          78\n",
       "Mumbai Indians                 73\n",
       "Rajasthan Royals               62\n",
       "Chennai Super Kings            57\n",
       "Deccan Chargers                46\n",
       "Sunrisers Hyderabad            41\n",
       "Pune Warriors                  33\n",
       "Gujarat Lions                  17\n",
       "Rising Pune Supergiants        9 \n",
       "Kochi Tuskers Kerala           8 \n",
       "Rising Pune Supergiant         6 \n",
       "Name: loser, dtype: int64"
      ]
     },
     "execution_count": 27,
     "metadata": {},
     "output_type": "execute_result"
    }
   ],
   "source": [
    "df_ipl_data['loser'].value_counts()"
   ]
  },
  {
   "cell_type": "code",
   "execution_count": 28,
   "metadata": {
    "colab": {
     "base_uri": "https://localhost:8080/",
     "height": 481
    },
    "colab_type": "code",
    "id": "vYAgOIRCn6Xq",
    "outputId": "9b83bcb3-efa9-4323-e32f-24a77faafbf1"
   },
   "outputs": [
    {
     "data": {
      "text/plain": [
       "<matplotlib.axes._subplots.AxesSubplot at 0x7f9c78fdf908>"
      ]
     },
     "execution_count": 28,
     "metadata": {},
     "output_type": "execute_result"
    },
    {
     "data": {
      "image/png": "[encoded data removed]",
      "text/plain": [
       "<Figure size 2520x504 with 1 Axes>"
      ]
     },
     "metadata": {
      "needs_background": "light"
     },
     "output_type": "display_data"
    }
   ],
   "source": [
    "df = pd.DataFrame({'Win': df_ipl_data['winner'].value_counts(sort=False) ,\n",
    "                   'Loss': df_ipl_data['loser'].value_counts(sort=False)}) \n",
    "df.plot.bar(rot=0,figsize=(35, 7))"
   ]
  },
  {
   "cell_type": "markdown",
   "metadata": {},
   "source": [
    "**Observations:**\n",
    "\n",
    "Only 5 out of 14 teams has more wins than losses. As expected, these also the teams which won IPL titles."
   ]
  },
  {
   "cell_type": "markdown",
   "metadata": {
    "colab_type": "text",
    "id": "uQ66wft4wtkq"
   },
   "source": [
    "#### 5.9.2 Season-Wise"
   ]
  },
  {
   "cell_type": "code",
   "execution_count": 30,
   "metadata": {
    "colab": {
     "base_uri": "https://localhost:8080/",
     "height": 1000
    },
    "colab_type": "code",
    "id": "IBCo7N8Nw7td",
    "outputId": "375547a4-f1ac-4c7a-c12b-4cbecba6d957"
   },
   "outputs": [
    {
     "data": {
      "text/plain": [
       "season  season  winner               \n",
       "2008    2008    Rajasthan Royals         13\n",
       "2009    2009    Delhi Daredevils         10\n",
       "2010    2010    Mumbai Indians           11\n",
       "2011    2011    Chennai Super Kings      11\n",
       "2012    2012    Kolkata Knight Riders    12\n",
       "2013    2013    Mumbai Indians           13\n",
       "2014    2014    Kings XI Punjab          12\n",
       "2015    2015    Chennai Super Kings      10\n",
       "2016    2016    Sunrisers Hyderabad      11\n",
       "2017    2017    Mumbai Indians           12\n",
       "2018    2018    Chennai Super Kings      11\n",
       "Name: winner, dtype: int64"
      ]
     },
     "execution_count": 30,
     "metadata": {},
     "output_type": "execute_result"
    }
   ],
   "source": [
    "s = df_ipl_data.groupby('season')['winner'].value_counts(sort=True)\n",
    "s.groupby(level=[0]).nlargest(1)"
   ]
  },
  {
   "cell_type": "markdown",
   "metadata": {
    "colab_type": "text",
    "id": "2DMAW0d5xbiP"
   },
   "source": [
    "**Season-2008**"
   ]
  },
  {
   "cell_type": "code",
   "execution_count": null,
   "metadata": {
    "colab": {
     "base_uri": "https://localhost:8080/",
     "height": 170
    },
    "colab_type": "code",
    "id": "MW5BEeCWrtA8",
    "outputId": "bb7e324b-a16d-4994-ef01-98dbe09777cc"
   },
   "outputs": [],
   "source": [
    "df_ipl_data[(df_ipl_data['season'] == 2008)]['winner'].value_counts(sort=False)"
   ]
  },
  {
   "cell_type": "code",
   "execution_count": null,
   "metadata": {
    "colab": {
     "base_uri": "https://localhost:8080/",
     "height": 170
    },
    "colab_type": "code",
    "id": "0JkVvJelsXBa",
    "outputId": "de8c0d44-0e28-489a-9892-8712a9ba36e6"
   },
   "outputs": [],
   "source": [
    "df_ipl_data[(df_ipl_data['season'] == 2008)]['loser'].value_counts(sort=False)"
   ]
  },
  {
   "cell_type": "code",
   "execution_count": null,
   "metadata": {
    "colab": {
     "base_uri": "https://localhost:8080/",
     "height": 481
    },
    "colab_type": "code",
    "id": "y87LfWdloMrr",
    "outputId": "df781ff5-e128-4a63-a3c3-d45501ddf827"
   },
   "outputs": [],
   "source": [
    "df = pd.DataFrame({'Win': df_ipl_data[(df_ipl_data['season'] == 2008)]['winner'].value_counts(sort=False) ,\n",
    "                   'Loss':df_ipl_data[(df_ipl_data['season'] == 2008)]['loser'].value_counts(sort=False) }) \n",
    "df.plot.bar(rot=0,figsize=(27, 7))"
   ]
  },
  {
   "cell_type": "markdown",
   "metadata": {
    "colab_type": "text",
    "id": "HFrzb7UqxsmI"
   },
   "source": [
    "**Season-2012**"
   ]
  },
  {
   "cell_type": "code",
   "execution_count": null,
   "metadata": {
    "colab": {
     "base_uri": "https://localhost:8080/",
     "height": 481
    },
    "colab_type": "code",
    "id": "FrT4p_yKxxEH",
    "outputId": "e463d11f-faf8-4718-d8c4-ae6716dd482c"
   },
   "outputs": [],
   "source": [
    "df = pd.DataFrame({'Win': df_ipl_data[(df_ipl_data['season'] == 2012)]['winner'].value_counts(sort=True, ascending=False) ,\n",
    "                   'Loss':df_ipl_data[(df_ipl_data['season'] == 2012)]['loser'].value_counts(sort=True, ascending=False) }) \n",
    "df.plot.bar(rot=0,figsize=(27, 7))"
   ]
  },
  {
   "cell_type": "markdown",
   "metadata": {
    "colab_type": "text",
    "id": "uxYMVFcZxg4W"
   },
   "source": [
    "**Season-2014**"
   ]
  },
  {
   "cell_type": "code",
   "execution_count": null,
   "metadata": {
    "colab": {
     "base_uri": "https://localhost:8080/",
     "height": 481
    },
    "colab_type": "code",
    "id": "9PQFb1YdtQ5T",
    "outputId": "86f9222c-1a42-45f5-b4ae-61f49248ea2b"
   },
   "outputs": [],
   "source": [
    "df = pd.DataFrame({'Win': df_ipl_data[(df_ipl_data['season'] == 2014)]['winner'].value_counts(sort=True, ascending=False) ,\n",
    "                   'Loss':df_ipl_data[(df_ipl_data['season'] == 2014)]['loser'].value_counts(sort=True, ascending=False) }) \n",
    "df.plot.bar(rot=0,figsize=(27, 7))"
   ]
  },
  {
   "cell_type": "markdown",
   "metadata": {
    "colab_type": "text",
    "id": "x2O_-hnVxm91"
   },
   "source": [
    "**Season-2018**"
   ]
  },
  {
   "cell_type": "code",
   "execution_count": null,
   "metadata": {
    "colab": {
     "base_uri": "https://localhost:8080/",
     "height": 481
    },
    "colab_type": "code",
    "id": "Wz71Q6vkt3bd",
    "outputId": "af38f213-e1eb-47a6-a649-301e0038b8d7",
    "scrolled": true
   },
   "outputs": [],
   "source": [
    "df = pd.DataFrame({'Win': df_ipl_data[(df_ipl_data['season'] == 2018)]['winner'].value_counts(sort=True, ascending=False) ,\n",
    "                   'Loss':df_ipl_data[(df_ipl_data['season'] == 2018)]['loser'].value_counts(sort=True, ascending=False) }) \n",
    "df.plot.bar(rot=0,figsize=(27, 7))"
   ]
  },
  {
   "cell_type": "markdown",
   "metadata": {},
   "source": [
    "**Observations:**\n",
    "\n",
    "In **7 out of 11 seasons**, team that topped points table won \n",
    "IPL Title i.e **63.6%**."
   ]
  },
  {
   "cell_type": "markdown",
   "metadata": {
    "colab_type": "text",
    "id": "MGkG-k1ZnfqE"
   },
   "source": [
    "# 6. Conclusion"
   ]
  },
  {
   "cell_type": "markdown",
   "metadata": {
    "colab_type": "text",
    "id": "f9jSL2f6nmZE"
   },
   "source": [
    "## 6.1 Actionable Insights"
   ]
  },
  {
   "cell_type": "markdown",
   "metadata": {
    "colab_type": "text",
    "id": "kfAF8AHdnwes"
   },
   "source": [
    "1. It is  always recommended to choose fielding after winning toss.\n",
    "\n",
    "2. Teams should work on using home conditions to their advantage.\n",
    "\n",
    "3. If a team thinks DLS will come in to place during course of match, they should choose batting.\n",
    "\n",
    "4. Teams should work on winning toss as there is 51 % of winning match after winning toss.\n",
    "\n",
    "5. Try to be in top of points table."
   ]
  },
  {
   "cell_type": "code",
   "execution_count": null,
   "metadata": {
    "colab": {},
    "colab_type": "code",
    "id": "ma4r899rqUbV",
    "scrolled": false
   },
   "outputs": [],
   "source": []
  },
  {
   "cell_type": "code",
   "execution_count": null,
   "metadata": {},
   "outputs": [],
   "source": []
  }
 ],
 "metadata": {
  "colab": {
   "collapsed_sections": [],
   "name": "IPL_DATA_EDA.ipynb",
   "provenance": [],
   "toc_visible": true
  },
  "kernelspec": {
   "display_name": "Python 3",
   "language": "python",
   "name": "python3"
  },
  "language_info": {
   "codemirror_mode": {
    "name": "ipython",
    "version": 3
   },
   "file_extension": ".py",
   "mimetype": "text/x-python",
   "name": "python",
   "nbconvert_exporter": "python",
   "pygments_lexer": "ipython3",
   "version": "3.7.3"
  }
 },
 "nbformat": 4,
 "nbformat_minor": 1
}
